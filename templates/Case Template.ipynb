{
 "cells": [
  {
   "cell_type": "markdown",
   "metadata": {},
   "source": [
    "# Introduction"
   ]
  },
  {
   "cell_type": "markdown",
   "metadata": {},
   "source": [
    "- Case Scenario\n",
    "    - Clinical background\n",
    "    \n",
    "- Using Jupyter Notebook\n",
    "\n",
    "- Meeting our data\n",
    "    - Data Files\n",
    "    - Consulting the Data Dictionary"
   ]
  },
  {
   "cell_type": "markdown",
   "metadata": {},
   "source": [
    "# Setup"
   ]
  },
  {
   "cell_type": "markdown",
   "metadata": {},
   "source": [
    "- Load packages\n",
    "- Set Seed"
   ]
  },
  {
   "cell_type": "markdown",
   "metadata": {},
   "source": [
    "# Data Cleaning"
   ]
  },
  {
   "cell_type": "markdown",
   "metadata": {},
   "source": [
    "- Inspect Data\n",
    "    - Head()\n",
    "    - Structure\n",
    "    - Summary Stats\n",
    "        - Find implausible values\n",
    "        \n",
    "- Recoding Variables\n",
    "    - Reclassify type of variables (numeric, logical, categorical)\n",
    "    - Deal with missing \n",
    "        - Determine number of missing\n",
    "        - Use levels to determine what missing there may be\n",
    "            - This is for data that R or Python can’t recognize as missing\n",
    "    - Recode values into something meaningful\n",
    "    - Remove implausible values\n",
    "    \n",
    "- Recategorize numeric as categorical if **possible** \n",
    "    - Commonly lead to creating clinically relevant variables\n",
    "    - Check to see if categories need to be ordered (probably will be)\n"
   ]
  },
  {
   "cell_type": "markdown",
   "metadata": {},
   "source": [
    "# Exploratory Data Analysis/ Feature Selection"
   ]
  },
  {
   "cell_type": "markdown",
   "metadata": {},
   "source": [
    "- Test if variables with significant amount of missing are good candidates\n",
    "- See how numeric variables affect outcomes\n",
    "- See how categorical variables affect outcomes\n",
    "- See if any interaction exists between variables\n",
    "- Traditional Statistical Analysis\n",
    "- Finalize prediction model candidates"
   ]
  },
  {
   "cell_type": "markdown",
   "metadata": {},
   "source": [
    "# Prediction Model"
   ]
  },
  {
   "cell_type": "markdown",
   "metadata": {},
   "source": [
    "- Build ML Model\n",
    "    - Confusion Matrix\n",
    "    - Readjust models if necessary (ie. deal with imbalanced data)\n",
    "    - ROC\n",
    "    - AUC\n",
    "    - Data visualization for ranking variables\n",
    "    "
   ]
  }
 ],
 "metadata": {
  "kernelspec": {
   "display_name": "Python 3",
   "language": "python",
   "name": "python3"
  },
  "language_info": {
   "codemirror_mode": {
    "name": "ipython",
    "version": 3
   },
   "file_extension": ".py",
   "mimetype": "text/x-python",
   "name": "python",
   "nbconvert_exporter": "python",
   "pygments_lexer": "ipython3",
   "version": "3.7.4"
  },
  "latex_envs": {
   "LaTeX_envs_menu_present": true,
   "autoclose": false,
   "autocomplete": true,
   "bibliofile": "biblio.bib",
   "cite_by": "apalike",
   "current_citInitial": 1,
   "eqLabelWithNumbers": false,
   "eqNumInitial": 1,
   "hotkeys": {
    "equation": "Ctrl-E",
    "itemize": "Ctrl-I"
   },
   "labels_anchors": false,
   "latex_user_defs": false,
   "report_style_numbering": false,
   "user_envs_cfg": false
  },
  "toc": {
   "base_numbering": 1,
   "nav_menu": {},
   "number_sections": true,
   "sideBar": true,
   "skip_h1_title": false,
   "title_cell": "Table of Contents",
   "title_sidebar": "Contents",
   "toc_cell": false,
   "toc_position": {},
   "toc_section_display": true,
   "toc_window_display": false
  },
  "varInspector": {
   "cols": {
    "lenName": 16,
    "lenType": 16,
    "lenVar": 40
   },
   "kernels_config": {
    "python": {
     "delete_cmd_postfix": "",
     "delete_cmd_prefix": "del ",
     "library": "var_list.py",
     "varRefreshCmd": "print(var_dic_list())"
    },
    "r": {
     "delete_cmd_postfix": ") ",
     "delete_cmd_prefix": "rm(",
     "library": "var_list.r",
     "varRefreshCmd": "cat(var_dic_list()) "
    }
   },
   "types_to_exclude": [
    "module",
    "function",
    "builtin_function_or_method",
    "instance",
    "_Feature"
   ],
   "window_display": true
  }
 },
 "nbformat": 4,
 "nbformat_minor": 2
}
