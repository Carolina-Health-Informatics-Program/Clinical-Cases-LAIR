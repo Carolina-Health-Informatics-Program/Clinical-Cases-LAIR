{
 "cells": [
  {
   "cell_type": "markdown",
   "metadata": {},
   "source": [
    "# Introduction"
   ]
  },
  {
   "cell_type": "markdown",
   "metadata": {
    "cell_style": "center"
   },
   "source": [
    "<p align=\"justify\">Welcome! In this case we'll be exploring how to use advanced analytic and machine learning techniques to predict high risk asthmatic patients. \n",
    "\n",
    "<br>\n",
    "<br>\n",
    "<details>\n",
    "<summary>Some of the skills you'll explore are (Click to Expand):</summary>\n",
    "<ul>\n",
    "    <li>R Programming</li>\n",
    "    <li>Data Cleaning</li>\n",
    "    <li>Descriptive Analysis</li>\n",
    "    <li>Data Visualization</li>\n",
    "    <li>Leveraging Domain Knowledge</li>\n",
    "    <li>Logistic Regression</li>\n",
    "    <li>Machine Learning</li>\n",
    "</details><br>\n",
    "\n",
    "Don't worry if you're unsure what some of these terms are. They'll be explained throughout the case. Let's begin! \n",
    "\n",
    "<img src=\"https://i.stack.imgur.com/zlAi2.png\" style=\"float: left; width: 35%; margin-right: 1%; margin-bottom: 0.5em;\">\n",
    "<img src=\"http://cran.uvigo.es/Rlogo.svg\" style=\"float: left; width: 25%; margin-left: 2%; margin-bottom: 0.5em;\">\n",
    "<img src=\"https://www.edvancer.in/wp-content/uploads/2015/10/f5bd5f87059fce20564f6e5eb562022e.png\" style=\"float: left; width: 27%; margin-left: 5%; margin-bottom: 0.5em;\">"
   ]
  },
  {
   "cell_type": "markdown",
   "metadata": {},
   "source": [
    "## Case Scenario"
   ]
  },
  {
   "cell_type": "markdown",
   "metadata": {},
   "source": [
    "Imagine you're a risk manager at the Blue Cross Blue Shield (a large health insurance organization). Over the last winter, reports show that the number of asthma cases increased. You're dismayed to discover that this has lead to an increase in deaths and costs among these patients as well. It's critical that a targeted intervention is developed to lower mortality and cost among these patients but first you must identify high-risk patients. How can you do this?\n",
    "\n",
    "Continue through the case to find out. "
   ]
  },
  {
   "cell_type": "markdown",
   "metadata": {
    "heading_collapsed": true
   },
   "source": [
    "### Extra: What is Asthma?"
   ]
  },
  {
   "cell_type": "markdown",
   "metadata": {
    "hidden": true
   },
   "source": [
    "Asthma is a respiratory disease which causes constriction and inflammation of the airways in the lungs. The disease can often cause acute airway constrictions sometimes known as “asthma attacks.” Clinicians refer to this airway restriction as “bronchospasm” and it results in cough, wheezing, shortness of breath, and extreme situations such as death from respiratory arrest. Currently, approximately 10 people die from asthma attacks per day in the US.\n",
    "\n",
    "<p align=\"center\">\n",
    "  <img width=\"400\" height=\"200\" src=\"https://asthma.net/wp-content/uploads/2015/04/ASTHMATIC-AIRWAYS.jpg\">\n",
    "</p>\n",
    "\n",
    "\n",
    "Asthma requires a test of lung function known as spirometry to make a definitive diagnosis. Treatment often consists of inhaled medications that helps combat airway constriction and inflammation. Patients that do not get timely and appropriate treatment can need avoidable emergency care and hospitalizations. These visits can add thousands of dollars per year in avoidable medical expenses to the US healthcare system. The medical costs among patients with uncontrolled asthma are 3-times higher than controlled patients."
   ]
  },
  {
   "cell_type": "markdown",
   "metadata": {},
   "source": [
    "## How To Navigate The Case"
   ]
  },
  {
   "cell_type": "markdown",
   "metadata": {},
   "source": [
    "You'll navigate the case through by activating specific codes cells (AKA running code cells). \n",
    "\n",
    "To run any of the code, select the code cell on the **bottom right (1.2)**, and click the `Run` button on the toolbar above. Try it out on the example code cell below on the **bottom right (1.2)**."
   ]
  },
  {
   "cell_type": "markdown",
   "metadata": {
    "cell_style": "center"
   },
   "source": [
    "**The** `Run` **Button**\n",
    "![title](images/jupyter_toolbar.png)"
   ]
  },
  {
   "cell_type": "code",
   "execution_count": 2,
   "metadata": {
    "ExecuteTime": {
     "end_time": "2019-12-08T07:25:39.729263Z",
     "start_time": "2019-12-08T07:25:39.528Z"
    },
    "cell_style": "center",
    "scrolled": false
   },
   "outputs": [
    {
     "name": "stdout",
     "output_type": "stream",
     "text": [
      "Congratulations! \n",
      "You've run your first code cell.\n"
     ]
    }
   ],
   "source": [
    "# This is an example of a code cell\n",
    "cat('Congratulations! \\n')\n",
    "cat('You\\'ve run your first code cell.\\n')"
   ]
  },
  {
   "cell_type": "markdown",
   "metadata": {},
   "source": [
    "### Case Code Tips"
   ]
  },
  {
   "cell_type": "markdown",
   "metadata": {},
   "source": [
    "Within code cells you will see green text preceded by a `#` symbol. These are comments and will help explain what portions of the code are doing. All code should be ready to run as shown. \n",
    "\n",
    "Some code may require more time to run. On the left hand side you will notice the label: `In [ ]:`. If there is an `*` in between the `[]`'s after you select `Run`, that indicates that your code is in the process of running. Like so: `In [*]:`"
   ]
  },
  {
   "cell_type": "markdown",
   "metadata": {},
   "source": [
    "## Meeting Our Data"
   ]
  },
  {
   "attachments": {
    "image.png": {
     "image/png": "[encoded data removed]"
    }
   },
   "cell_type": "markdown",
   "metadata": {},
   "source": [
    "We'll be using the Medical Expenditure Panel Survey (MEPS) to predict Asthma Expenditure. Identifying an appropriate data source is critical in Analytics. Without the right dataset, your analysis is doomed from the start. \n",
    "\n",
    "![image.png](attachment:image.png)"
   ]
  },
  {
   "cell_type": "markdown",
   "metadata": {},
   "source": [
    "### What is MEPS?"
   ]
  },
  {
   "cell_type": "markdown",
   "metadata": {},
   "source": [
    "MEPS is a national survey that seeks to capture as much data as possible about healthcare costs and use within the United States. Below is a detailed definition. \n",
    "\n",
    "> The Medical Expenditure Panel Survey (MEPS) is a set of large-scale surveys of families and individuals, their medical providers, and employers across the United States. MEPS is the most complete source of data on the cost and use of health care and health insurance coverage. - [meps.ahrq.gov](https://meps.ahrq.gov/mepsweb/)\n",
    "\n",
    "MEPS contains over 2000 variables, detailed expenditure data, and comprehensive  medical information. In other words, it has all the ingredient to build our prediction model!\n"
   ]
  },
  {
   "cell_type": "markdown",
   "metadata": {},
   "source": [
    "### Necessary Data Files"
   ]
  },
  {
   "cell_type": "markdown",
   "metadata": {
    "cell_style": "split"
   },
   "source": [
    "<p style=\"text-align: center;\">h128.csv</p>\n",
    "\n",
    "***\n",
    "Contains data on medical conditions for 2009 MEPS sample"
   ]
  },
  {
   "cell_type": "markdown",
   "metadata": {
    "cell_style": "split"
   },
   "source": [
    "<p style=\"text-align: center;\">h129.csv</p>\n",
    "\n",
    "***\n",
    "Contains main information for 2009 MEPS sample, information includes survey data, demographics, and expenditure data"
   ]
  },
  {
   "cell_type": "markdown",
   "metadata": {},
   "source": [
    "Both data files will already be downloaded as part of our case. They can also be accessed directly from the MEPS website. 'h128' can be accessed [here](https://meps.ahrq.gov/mepsweb/data_stats/download_data_files_detail.jsp?cboPufNumber=HC-128). 'h129' can be accessed [here](https://meps.ahrq.gov/mepsweb/data_stats/download_data_files_detail.jsp?cboPufNumber=HC-129)"
   ]
  },
  {
   "cell_type": "markdown",
   "metadata": {},
   "source": [
    "# Setup (Do Not Skip)"
   ]
  },
  {
   "cell_type": "markdown",
   "metadata": {},
   "source": [
    "Run the code below to set up specific settings for our case. This will allow us to utilize outside resources called libraries to expand R's capabilities allowing us to manipulate data in new ways and implement machine learning. \n",
    "\n",
    "Do not skip this step!"
   ]
  },
  {
   "cell_type": "code",
   "execution_count": 3,
   "metadata": {
    "ExecuteTime": {
     "end_time": "2019-12-08T07:25:40.403097Z",
     "start_time": "2019-12-08T07:25:40.359Z"
    },
    "scrolled": false
   },
   "outputs": [
    {
     "name": "stdout",
     "output_type": "stream",
     "text": [
      "Setup complete!"
     ]
    }
   ],
   "source": [
    "# Increase max number of columns displayed in output tables\n",
    "options(repr.matrix.max.cols = 2000)\n",
    "# Calling external libraries for additional functionality\n",
    "suppressMessages(library(tidyverse))\n",
    "suppressMessages(library(plyr))\n",
    "suppressMessages(library(caret))\n",
    "suppressMessages(library(e1071))\n",
    "suppressMessages(library(pROC))\n",
    "cat('Setup complete!')"
   ]
  },
  {
   "cell_type": "markdown",
   "metadata": {},
   "source": [
    "# Cleaning Our Data"
   ]
  },
  {
   "cell_type": "markdown",
   "metadata": {},
   "source": [
    "The first step in any analytic project is to clean our data. This is a critical step that commonly overlooked within data science projects. However, without properly processed data, it won't matter how sophisticated our analysis is. A common saying in data science is \"Junk in, Junk out\". "
   ]
  },
  {
   "cell_type": "markdown",
   "metadata": {},
   "source": [
    "## Loading Our data"
   ]
  },
  {
   "cell_type": "markdown",
   "metadata": {},
   "source": [
    "We'll begin by loading in our data into R. This will allow us to use our data and manipulate it. "
   ]
  },
  {
   "cell_type": "code",
   "execution_count": 4,
   "metadata": {
    "ExecuteTime": {
     "end_time": "2019-12-08T07:25:42.814125Z",
     "start_time": "2019-12-08T07:25:40.614Z"
    },
    "cell_style": "center",
    "scrolled": false
   },
   "outputs": [
    {
     "name": "stdout",
     "output_type": "stream",
     "text": [
      "Data loading, please wait\n"
     ]
    },
    {
     "name": "stderr",
     "output_type": "stream",
     "text": [
      "Warning message in file(file, \"rt\"):\n",
      "\"cannot open file 'data/h129.csv': No such file or directory\""
     ]
    },
    {
     "ename": "ERROR",
     "evalue": "Error in file(file, \"rt\"): cannot open the connection\n",
     "output_type": "error",
     "traceback": [
      "Error in file(file, \"rt\"): cannot open the connection\nTraceback:\n",
      "1. read.csv(file = \"data/h129.csv\", encoding = \"UTF-8\", header = TRUE, \n .     sep = \",\")",
      "2. read.table(file = file, header = header, sep = sep, quote = quote, \n .     dec = dec, fill = fill, comment.char = comment.char, ...)",
      "3. file(file, \"rt\")"
     ]
    }
   ],
   "source": [
    "# Note: Unicode Transformation Format – 8 (UTF-8) is a standard to encode characters in different languages\n",
    "cat('Data loading, please wait\\n')\n",
    "condition <- read.csv(file=\"data/h128.csv\",  encoding=\"UTF-8\", header=TRUE, sep=\",\")\n",
    "consolidation <- read.csv(file=\"data/h129.csv\",  encoding=\"UTF-8\", header=TRUE, sep=\",\")\n",
    "cat('Data loaded!')"
   ]
  },
  {
   "cell_type": "markdown",
   "metadata": {},
   "source": [
    "## Selecting Asthmatic Patients"
   ]
  },
  {
   "cell_type": "markdown",
   "metadata": {},
   "source": [
    "The MEPS data contains individuals with numerous conditions. We need to select only those individuals with asthma. We will identify these patents based on their International Classification of Disease, Ninth Revision (ICD-9) code. A ICD-9 code is simply a code that represents a diagnoses."
   ]
  },
  {
   "cell_type": "markdown",
   "metadata": {},
   "source": [
    "First, lets see how many total observations there are to establish a baseline. Each observation represent a single data point. Each data point corresponds to a single individual/aptients. "
   ]
  },
  {
   "cell_type": "code",
   "execution_count": 31,
   "metadata": {
    "ExecuteTime": {
     "end_time": "2019-12-08T07:26:14.236802Z",
     "start_time": "2019-12-08T07:26:09.670Z"
    },
    "code_folding": [],
    "scrolled": false
   },
   "outputs": [
    {
     "name": "stdout",
     "output_type": "stream",
     "text": [
      "The are 117342 observations. \n"
     ]
    }
   ],
   "source": [
    "# Display the total number of data instances\n",
    "cat(\"The are\", length(condition$DUID), \"observations.\", \"\\n\")"
   ]
  },
  {
   "cell_type": "markdown",
   "metadata": {},
   "source": [
    "It looks like there are 117342 total observations. Now lets select only asthmatic patients from those observations. We will identify these patients based on their international Classification of Disease, Ninth Revision (ICD-9) code. A ICD-9 code is simply a code that represents a diagnoses."
   ]
  },
  {
   "cell_type": "code",
   "execution_count": 32,
   "metadata": {
    "ExecuteTime": {
     "end_time": "2019-12-08T07:27:32.830086Z",
     "start_time": "2019-12-08T07:27:32.794Z"
    },
    "scrolled": false
   },
   "outputs": [
    {
     "name": "stdout",
     "output_type": "stream",
     "text": [
      "Data selected"
     ]
    }
   ],
   "source": [
    "# Astham ICD code is 493\n",
    "# Select only observations with an ICD code = 493\n",
    "condition <- subset(condition, ICD9CODX == 493)\n",
    "cat('Data selected')"
   ]
  },
  {
   "cell_type": "markdown",
   "metadata": {},
   "source": [
    "Now let's remove duplicate observations and check how many observations are now in the dataset"
   ]
  },
  {
   "cell_type": "code",
   "execution_count": 34,
   "metadata": {
    "ExecuteTime": {
     "end_time": "2019-12-08T07:28:07.038508Z",
     "start_time": "2019-12-08T07:28:07.009Z"
    },
    "scrolled": false
   },
   "outputs": [
    {
     "name": "stdout",
     "output_type": "stream",
     "text": [
      "There are 2375 observations \n"
     ]
    }
   ],
   "source": [
    "# Removing duplicates\n",
    "condition = condition[order(condition[,'DUPERSID'],-condition[,'CONDIDX']),]\n",
    "condition = condition[!duplicated(condition$DUPERSID),]\n",
    "\n",
    "# Show the number of selected data instances\n",
    "cat(\"There are\", length(condition$DUID),\"observations.\", \"\\n\")"
   ]
  },
  {
   "cell_type": "markdown",
   "metadata": {},
   "source": [
    "We've gone from 117342 to 2375 observations! This is a more manageable number of observation. By selecting for only asthmatic patients, we will be able to manipulate our data and analyze how certain variable specifically impact asthmatic individuals. "
   ]
  },
  {
   "cell_type": "markdown",
   "metadata": {
    "heading_collapsed": true
   },
   "source": [
    "### Extra: More About ICD Codes"
   ]
  },
  {
   "cell_type": "markdown",
   "metadata": {
    "hidden": true
   },
   "source": [
    "ICD was created promote international comparability in the collection, processing, classification, and presentation of mortality statistics. Each code is suppose to uniquely describe a particular diagnosis in detail. For instance, asthma has an ICD-9 code of 493.The latest iteration of ICD is actually ICD-11. ICD codes are used for a wide variety of task including processing health insurance claims, tracking disease epidemics, and compiling worldwide mortality statistics. ICD codes are used everywhere within the United States ranging from the smallest clinics to large government health agencies. They are essential to healthcare in the United States and many places worldwide. Below are some example ICD codes. \n",
    "\n",
    "<img src=\"https://www.miramedgs.com/images/TheCodeMay2015Chart3.2.png\">"
   ]
  },
  {
   "cell_type": "markdown",
   "metadata": {},
   "source": [
    "## Merging the Data"
   ]
  },
  {
   "cell_type": "markdown",
   "metadata": {},
   "source": [
    "Next, we need to combine our data. Remember, our data was originally two files (`h128.csv` and `h129.csv`). `h128.csv` contains medical information about each patient. It's the data we used to select for asthmatic patients. `h129.csv` contains the main information we are interested in including survey data, demographics, and expenditure. We will combine both our data tables into one single table. This will make is much simpler to analyze the data.  "
   ]
  },
  {
   "cell_type": "code",
   "execution_count": null,
   "metadata": {
    "ExecuteTime": {
     "end_time": "2019-12-08T07:25:42.828422Z",
     "start_time": "2019-12-08T07:25:41.797Z"
    },
    "scrolled": false
   },
   "outputs": [],
   "source": [
    "# Merging the data\n",
    "aggregation <- merge(x = consolidation, y = condition[, c(\"DUPERSID\", setdiff(colnames(condition),colnames(consolidation)))], \n",
    "                     by.x = \"DUPERSID\", by.y = \"DUPERSID\" )\n",
    "cat('Data merged!')"
   ]
  },
  {
   "cell_type": "markdown",
   "metadata": {},
   "source": [
    "Lets confirm our data was successfully merged"
   ]
  },
  {
   "cell_type": "code",
   "execution_count": null,
   "metadata": {
    "ExecuteTime": {
     "end_time": "2019-12-08T07:25:42.832414Z",
     "start_time": "2019-12-08T07:25:41.893Z"
    },
    "scrolled": false
   },
   "outputs": [],
   "source": [
    "# Display the first few rows of the data\n",
    "cat('Displaying first few rows of merged data:\\n')\n",
    "head(aggregation)"
   ]
  },
  {
   "cell_type": "markdown",
   "metadata": {},
   "source": [
    "### What Just Happened?"
   ]
  },
  {
   "cell_type": "markdown",
   "metadata": {},
   "source": [
    "We just combined our two data tables in a process known as a merge. In a merge, the datasets you seek to merge should have one or more common variables between them. The data is then joined by this variable. \n",
    "\n",
    "with accompanying values for variables specified with information specified by all datasets in one table. \n",
    "<img src=\"http://www.datasciencemadesimple.com/wp-content/uploads/2017/04/column-binding.png\" align=\"center\" style=\"width: 50%; margin-bottom: 0.5em; margin-top: 0.5em;\">\n",
    "The data was joined based on a field named `DUPERSID`. This variable is simply an ID for each of the observations."
   ]
  },
  {
   "cell_type": "markdown",
   "metadata": {},
   "source": [
    "## Removing Extraneous Variables"
   ]
  },
  {
   "cell_type": "markdown",
   "metadata": {},
   "source": [
    "Now we will drop the variables that are not relevant to our analysis. Normally, variable selection is a careful process informed by clinical/domain knowledge and exploratory data analysis. For the purpose of this case, variable selection has been done for you. We will explore variable selection in more detail in Section 4: Identifying Relevant Variables. "
   ]
  },
  {
   "cell_type": "markdown",
   "metadata": {},
   "source": [
    "Lets examine the number of variables before variable selection. "
   ]
  },
  {
   "cell_type": "code",
   "execution_count": null,
   "metadata": {
    "ExecuteTime": {
     "end_time": "2019-12-08T07:25:42.837397Z",
     "start_time": "2019-12-08T07:25:42.498Z"
    },
    "scrolled": false
   },
   "outputs": [],
   "source": [
    "# Drop variables that are not important for our analysis.\n",
    "cat(\"The number of variables before selecting are:\", length(aggregation),\"\\n\")\n",
    "cat(\"Displaying the the first few rows of the data:\\n\")\n",
    "head(aggregation)"
   ]
  },
  {
   "cell_type": "markdown",
   "metadata": {},
   "source": [
    "Our data contains 1937 variables! Lets see how many remain after variable selection. "
   ]
  },
  {
   "cell_type": "code",
   "execution_count": null,
   "metadata": {
    "ExecuteTime": {
     "end_time": "2019-12-08T07:25:42.841386Z",
     "start_time": "2019-12-08T07:25:42.587Z"
    },
    "scrolled": false
   },
   "outputs": [],
   "source": [
    "# The following variables are the names of variables that are relevant.\n",
    "asthma_variables <- c(\"ASACUT53\", \"ASMRCN53\", \"ASPKFL53\", \"ASPREV53\", \"ASTHAGED\", \"ASTHDX\", \"ASTHEP53\",\n",
    "                      \"ASWNFL53\", \"ADSMOK42\", \"ASPRIN53\", \"CHBRON53\", \"EMPHAGED\", \"EMPHDX\" )\n",
    "\n",
    "general_variables <- c(\"ADAPPT42\", \"ADEGMC42\", \"ADEXPL42\", \"ADHECR42\", \"ADNSMK42\", \"ADPRTM42\", \"AGE09X\", \"BLIND42\",\n",
    "                       \"BMINDX53\", \"CHAPPT42\", \"CHBMIX42\",  \"CHECK53\", \"DSFL0853\", \"DSFL0953\", \"DSFLNV53\", \"EXRCIS53\", \n",
    "                       \"PHYSCL42\", \"FAMINC09\", \"INS09X\", \"INSCOV09\", \"UNINS09\", \"OCCCAT53\", \"PERWT09F\", \"PMDLAY42\", \n",
    "                       \"PMUNAB42\", \"PMUNPR42\",\"PMUNRS42\", \"POVLEV09\", \"RACETHNX\", \"REGION09\", \"RTHLTH53\", \"SEX\", \n",
    "                       \"SPOUIN09\", \"TOTEXP09\", \"TTLP09X\", \"UNABLE53\", \"WKINBD53\", \"WLKDIF53\", \"WLKLIM53\" )\n",
    "\n",
    "essential_variables <- c(\"DUPERSID\",\"CONDIDX\")\n",
    "\n",
    "all_variables <-c(asthma_variables, general_variables, essential_variables)\n",
    "\n",
    "## Select variables\n",
    "aggregation <- aggregation[, c(which(names(aggregation) %in% all_variables))]\n",
    "\n",
    "cat(\"The number of selected variables are:\", length(aggregation))\n",
    "\n",
    "# Display first few rows\n",
    "cat(\"\\nDisplaying the the first few rows of the data:\\n\")\n",
    "head(aggregation)\n"
   ]
  },
  {
   "cell_type": "markdown",
   "metadata": {},
   "source": [
    "We now have only 54 variables! This is a much more manageable amount. "
   ]
  },
  {
   "cell_type": "markdown",
   "metadata": {},
   "source": [
    "## Creating Our New Dataset"
   ]
  },
  {
   "cell_type": "markdown",
   "metadata": {},
   "source": [
    "Finally, we need to create a file of newly cleaned data"
   ]
  },
  {
   "cell_type": "code",
   "execution_count": null,
   "metadata": {
    "ExecuteTime": {
     "end_time": "2019-12-08T07:25:42.844379Z",
     "start_time": "2019-12-08T07:25:42.805Z"
    },
    "scrolled": false
   },
   "outputs": [],
   "source": [
    "# Create a new file with the cleaned data\n",
    "write.csv(aggregation, file = \"data/aggregation.csv\",row.names=FALSE)\n",
    "cat('File Created!')"
   ]
  },
  {
   "cell_type": "markdown",
   "metadata": {},
   "source": [
    "With our cleaned dataset, we can now explore our data more deeply. In the next section, we will be investigating how we can identify clinically relevant variables for building our prediction model using descriptive analysis and data visualization. "
   ]
  },
  {
   "cell_type": "markdown",
   "metadata": {},
   "source": [
    "# Exploratory Data Analysis"
   ]
  },
  {
   "cell_type": "markdown",
   "metadata": {},
   "source": [
    "To build a robust prediction model, we need to identify clinically relevant variables (also known as 'features'). In this section, we'll be identifying important features through a combination of clinical knowledge, descriptive analysis, and data visualization. We'll be demonstrating these concepts through exploring how aspirin usage impacts health expenditure among asthma patients. "
   ]
  },
  {
   "cell_type": "markdown",
   "metadata": {},
   "source": [
    "### Why Can't We Just Use More Variables?"
   ]
  },
  {
   "cell_type": "markdown",
   "metadata": {},
   "source": [
    "One issue you might be wondering about is why do we even need to select variables. Why not just use all of the variables? After all, more data lead to better models right? This is a common misconception that even experience analysts need to watch out for. Including too many features in your prediction model can lead to what is known as 'overfitting'. Overfitting is essentially where you build a model that adheres too closely to your current data set and is unable to predict observations that are not from your current data set. In other words, its where you develop a model that tuned too closely to your current data, and is not generalizable to outside data sources. \n",
    "\n",
    "<img src=\"https://3gp10c1vpy442j63me73gy3s-wpengine.netdna-ssl.com/wp-content/uploads/2018/03/Screen-Shot-2018-03-22-at-11.22.15-AM-e1527613915658.png\" align=\"center\" style=\"width: 50%; margin-bottom: 0.5em; margin-top: 0.5em;\">"
   ]
  },
  {
   "cell_type": "markdown",
   "metadata": {
    "heading_collapsed": true
   },
   "source": [
    "## Loading Our New Data"
   ]
  },
  {
   "cell_type": "markdown",
   "metadata": {
    "hidden": true
   },
   "source": [
    "To begin, we'll need to load our new data file created during the data cleaning process titled 'aggregation.csv' into R. This is so we can use our new data. "
   ]
  },
  {
   "cell_type": "code",
   "execution_count": 5,
   "metadata": {
    "ExecuteTime": {
     "end_time": "2019-12-08T07:25:43.508369Z",
     "start_time": "2019-12-08T07:25:43.315Z"
    },
    "hidden": true,
    "scrolled": false
   },
   "outputs": [
    {
     "name": "stdout",
     "output_type": "stream",
     "text": [
      "Data loading, please wait\n",
      "Data loaded!"
     ]
    }
   ],
   "source": [
    "# Reading our data file\n",
    "cat('Data loading, please wait\\n')\n",
    "aggregation <- read.csv(file=\"data/aggregation.csv\",  encoding=\"UTF-8\", header=TRUE, sep=\",\")\n",
    "cat('Data loaded!')"
   ]
  },
  {
   "cell_type": "markdown",
   "metadata": {
    "hidden": true
   },
   "source": [
    "Lets confirm our loaded data is correct. It's good practice to check your data throughout an analysis. "
   ]
  },
  {
   "cell_type": "code",
   "execution_count": 6,
   "metadata": {
    "ExecuteTime": {
     "end_time": "2019-12-08T07:25:43.601569Z",
     "start_time": "2019-12-08T07:25:43.377Z"
    },
    "hidden": true,
    "scrolled": false
   },
   "outputs": [
    {
     "name": "stdout",
     "output_type": "stream",
     "text": [
      "Displaying the the first few rows of the data:\n"
     ]
    },
    {
     "data": {
      "text/html": [
       "<table>\n",
       "<thead><tr><th scope=col>DUPERSID</th><th scope=col>REGION09</th><th scope=col>AGE09X</th><th scope=col>SEX</th><th scope=col>RACETHNX</th><th scope=col>SPOUIN09</th><th scope=col>RTHLTH53</th><th scope=col>EMPHDX</th><th scope=col>EMPHAGED</th><th scope=col>CHBRON53</th><th scope=col>ASTHDX</th><th scope=col>ASTHAGED</th><th scope=col>ASTHEP53</th><th scope=col>ASACUT53</th><th scope=col>ASMRCN53</th><th scope=col>ASPREV53</th><th scope=col>ASPKFL53</th><th scope=col>ASWNFL53</th><th scope=col>WLKLIM53</th><th scope=col>WLKDIF53</th><th scope=col>UNABLE53</th><th scope=col>BLIND42</th><th scope=col>CHAPPT42</th><th scope=col>CHBMIX42</th><th scope=col>PHYSCL42</th><th scope=col>CHECK53</th><th scope=col>EXRCIS53</th><th scope=col>ASPRIN53</th><th scope=col>BMINDX53</th><th scope=col>ADAPPT42</th><th scope=col>ADEGMC42</th><th scope=col>ADEXPL42</th><th scope=col>ADPRTM42</th><th scope=col>ADHECR42</th><th scope=col>ADSMOK42</th><th scope=col>ADNSMK42</th><th scope=col>DSFL0953</th><th scope=col>DSFL0853</th><th scope=col>DSFLNV53</th><th scope=col>WKINBD53</th><th scope=col>PMUNAB42</th><th scope=col>PMUNRS42</th><th scope=col>PMUNPR42</th><th scope=col>PMDLAY42</th><th scope=col>OCCCAT53</th><th scope=col>TTLP09X</th><th scope=col>FAMINC09</th><th scope=col>POVLEV09</th><th scope=col>UNINS09</th><th scope=col>INSCOV09</th><th scope=col>INS09X</th><th scope=col>TOTEXP09</th><th scope=col>PERWT09F</th><th scope=col>CONDIDX</th></tr></thead>\n",
       "<tbody>\n",
       "\t<tr><td>40001101   </td><td>2          </td><td>28         </td><td>1          </td><td>4          </td><td>1          </td><td>2          </td><td> 2         </td><td>-1         </td><td> 2         </td><td>1          </td><td>15         </td><td> 1         </td><td> 1         </td><td> 2         </td><td> 1         </td><td> 2         </td><td>-1         </td><td>2          </td><td>-1         </td><td>-1         </td><td>-1         </td><td>-1         </td><td>-1         </td><td>-1         </td><td> 6         </td><td> 2         </td><td> 2         </td><td>26.6       </td><td> 3         </td><td> 4         </td><td> 4         </td><td> 4         </td><td>10         </td><td> 2         </td><td>-1         </td><td>-1         </td><td>-1         </td><td>-1         </td><td>-1         </td><td>2          </td><td>-1         </td><td>-1         </td><td>2          </td><td>-2         </td><td> 48500     </td><td>121000     </td><td> 700.72    </td><td>2          </td><td>1          </td><td>1          </td><td> 1173      </td><td>14251.11   </td><td>4.00011e+11</td></tr>\n",
       "\t<tr><td>40001103   </td><td>2          </td><td> 2         </td><td>1          </td><td>4          </td><td>3          </td><td>2          </td><td>-1         </td><td>-1         </td><td>-1         </td><td>1          </td><td> 0         </td><td> 1         </td><td> 1         </td><td> 2         </td><td> 2         </td><td> 2         </td><td>-1         </td><td>2          </td><td>-1         </td><td>-1         </td><td>-1         </td><td> 5         </td><td>-1         </td><td>-1         </td><td>-1         </td><td>-1         </td><td>-1         </td><td>-1.0       </td><td>-1         </td><td>-1         </td><td>-1         </td><td>-1         </td><td>-1         </td><td>-1         </td><td>-1         </td><td>-1         </td><td>-1         </td><td>-1         </td><td>-1         </td><td>2          </td><td>-1         </td><td>-1         </td><td>2          </td><td>-1         </td><td>     0     </td><td>121000     </td><td> 700.72    </td><td>2          </td><td>1          </td><td>1          </td><td> 3215      </td><td>14803.09   </td><td>4.00011e+11</td></tr>\n",
       "\t<tr><td>40044101   </td><td>2          </td><td>79         </td><td>1          </td><td>4          </td><td>2          </td><td>4          </td><td> 1         </td><td>76         </td><td> 1         </td><td>1          </td><td>65         </td><td>-1         </td><td> 2         </td><td>-1         </td><td> 2         </td><td> 2         </td><td>-1         </td><td>1          </td><td> 3         </td><td> 1         </td><td>-1         </td><td>-1         </td><td>-1         </td><td>-1         </td><td> 1         </td><td> 2         </td><td> 1         </td><td>34.3       </td><td> 6         </td><td> 4         </td><td> 4         </td><td> 4         </td><td>10         </td><td> 2         </td><td>-1         </td><td> 1         </td><td> 1         </td><td> 2         </td><td>-1         </td><td>2          </td><td>-1         </td><td>-1         </td><td>2          </td><td>-1         </td><td> 49570     </td><td> 49570     </td><td> 481.77    </td><td>2          </td><td>1          </td><td>1          </td><td>14951      </td><td>17739.80   </td><td>4.00441e+11</td></tr>\n",
       "\t<tr><td>40050101   </td><td>2          </td><td>41         </td><td>1          </td><td>4          </td><td>1          </td><td>2          </td><td> 2         </td><td>-1         </td><td> 2         </td><td>1          </td><td> 8         </td><td>-1         </td><td> 1         </td><td> 2         </td><td> 1         </td><td> 1         </td><td> 3         </td><td>2          </td><td>-1         </td><td>-1         </td><td>-1         </td><td>-1         </td><td>-1         </td><td>-1         </td><td> 1         </td><td> 1         </td><td> 2         </td><td>31.7       </td><td> 1         </td><td> 4         </td><td> 4         </td><td> 4         </td><td> 8         </td><td> 2         </td><td>-1         </td><td>-1         </td><td>-1         </td><td>-1         </td><td>-1         </td><td>2          </td><td>-1         </td><td>-1         </td><td>2          </td><td>-2         </td><td>199424     </td><td>248131     </td><td>1140.52    </td><td>2          </td><td>1          </td><td>1          </td><td> 3791      </td><td>10588.75   </td><td>4.00501e+11</td></tr>\n",
       "\t<tr><td>40052101   </td><td>3          </td><td>69         </td><td>2          </td><td>4          </td><td>2          </td><td>5          </td><td> 1         </td><td>68         </td><td> 2         </td><td>2          </td><td>-1         </td><td>-1         </td><td>-1         </td><td>-1         </td><td>-1         </td><td>-1         </td><td>-1         </td><td>1          </td><td> 4         </td><td> 1         </td><td> 2         </td><td>-1         </td><td>-1         </td><td>-1         </td><td> 1         </td><td> 2         </td><td> 2         </td><td>25.3       </td><td> 5         </td><td> 4         </td><td> 4         </td><td> 4         </td><td>10         </td><td> 2         </td><td>-1         </td><td> 2         </td><td> 2         </td><td> 2         </td><td>-1         </td><td>2          </td><td>-1         </td><td>-1         </td><td>2          </td><td>-1         </td><td>     0     </td><td> 11000     </td><td>  65.55    </td><td>2          </td><td>2          </td><td>1          </td><td>58604      </td><td> 4936.99   </td><td>4.00521e+11</td></tr>\n",
       "\t<tr><td>40084101   </td><td>2          </td><td>62         </td><td>2          </td><td>4          </td><td>2          </td><td>5          </td><td> 2         </td><td>-1         </td><td> 2         </td><td>1          </td><td>-9         </td><td>-1         </td><td>-9         </td><td>-1         </td><td>-9         </td><td>-9         </td><td>-1         </td><td>1          </td><td> 4         </td><td> 2         </td><td>-1         </td><td>-1         </td><td>-1         </td><td>-1         </td><td> 1         </td><td> 1         </td><td> 2         </td><td>45.9       </td><td> 0         </td><td>-1         </td><td>-1         </td><td>-1         </td><td>-1         </td><td> 2         </td><td>-1         </td><td>-9         </td><td>-9         </td><td>-9         </td><td>-1         </td><td>2          </td><td>-1         </td><td>-1         </td><td>2          </td><td>-1         </td><td>  7200     </td><td>  7200     </td><td>  48.69    </td><td>2          </td><td>2          </td><td>1          </td><td> 3626      </td><td>10424.43   </td><td>4.00841e+11</td></tr>\n",
       "</tbody>\n",
       "</table>\n"
      ],
      "text/latex": [
       "\\begin{tabular}{r|llllllllllllllllllllllllllllllllllllllllllllllllllllll}\n",
       " DUPERSID & REGION09 & AGE09X & SEX & RACETHNX & SPOUIN09 & RTHLTH53 & EMPHDX & EMPHAGED & CHBRON53 & ASTHDX & ASTHAGED & ASTHEP53 & ASACUT53 & ASMRCN53 & ASPREV53 & ASPKFL53 & ASWNFL53 & WLKLIM53 & WLKDIF53 & UNABLE53 & BLIND42 & CHAPPT42 & CHBMIX42 & PHYSCL42 & CHECK53 & EXRCIS53 & ASPRIN53 & BMINDX53 & ADAPPT42 & ADEGMC42 & ADEXPL42 & ADPRTM42 & ADHECR42 & ADSMOK42 & ADNSMK42 & DSFL0953 & DSFL0853 & DSFLNV53 & WKINBD53 & PMUNAB42 & PMUNRS42 & PMUNPR42 & PMDLAY42 & OCCCAT53 & TTLP09X & FAMINC09 & POVLEV09 & UNINS09 & INSCOV09 & INS09X & TOTEXP09 & PERWT09F & CONDIDX\\\\\n",
       "\\hline\n",
       "\t 40001101    & 2           & 28          & 1           & 4           & 1           & 2           &  2          & -1          &  2          & 1           & 15          &  1          &  1          &  2          &  1          &  2          & -1          & 2           & -1          & -1          & -1          & -1          & -1          & -1          &  6          &  2          &  2          & 26.6        &  3          &  4          &  4          &  4          & 10          &  2          & -1          & -1          & -1          & -1          & -1          & 2           & -1          & -1          & 2           & -2          &  48500      & 121000      &  700.72     & 2           & 1           & 1           &  1173       & 14251.11    & 4.00011e+11\\\\\n",
       "\t 40001103    & 2           &  2          & 1           & 4           & 3           & 2           & -1          & -1          & -1          & 1           &  0          &  1          &  1          &  2          &  2          &  2          & -1          & 2           & -1          & -1          & -1          &  5          & -1          & -1          & -1          & -1          & -1          & -1.0        & -1          & -1          & -1          & -1          & -1          & -1          & -1          & -1          & -1          & -1          & -1          & 2           & -1          & -1          & 2           & -1          &      0      & 121000      &  700.72     & 2           & 1           & 1           &  3215       & 14803.09    & 4.00011e+11\\\\\n",
       "\t 40044101    & 2           & 79          & 1           & 4           & 2           & 4           &  1          & 76          &  1          & 1           & 65          & -1          &  2          & -1          &  2          &  2          & -1          & 1           &  3          &  1          & -1          & -1          & -1          & -1          &  1          &  2          &  1          & 34.3        &  6          &  4          &  4          &  4          & 10          &  2          & -1          &  1          &  1          &  2          & -1          & 2           & -1          & -1          & 2           & -1          &  49570      &  49570      &  481.77     & 2           & 1           & 1           & 14951       & 17739.80    & 4.00441e+11\\\\\n",
       "\t 40050101    & 2           & 41          & 1           & 4           & 1           & 2           &  2          & -1          &  2          & 1           &  8          & -1          &  1          &  2          &  1          &  1          &  3          & 2           & -1          & -1          & -1          & -1          & -1          & -1          &  1          &  1          &  2          & 31.7        &  1          &  4          &  4          &  4          &  8          &  2          & -1          & -1          & -1          & -1          & -1          & 2           & -1          & -1          & 2           & -2          & 199424      & 248131      & 1140.52     & 2           & 1           & 1           &  3791       & 10588.75    & 4.00501e+11\\\\\n",
       "\t 40052101    & 3           & 69          & 2           & 4           & 2           & 5           &  1          & 68          &  2          & 2           & -1          & -1          & -1          & -1          & -1          & -1          & -1          & 1           &  4          &  1          &  2          & -1          & -1          & -1          &  1          &  2          &  2          & 25.3        &  5          &  4          &  4          &  4          & 10          &  2          & -1          &  2          &  2          &  2          & -1          & 2           & -1          & -1          & 2           & -1          &      0      &  11000      &   65.55     & 2           & 2           & 1           & 58604       &  4936.99    & 4.00521e+11\\\\\n",
       "\t 40084101    & 2           & 62          & 2           & 4           & 2           & 5           &  2          & -1          &  2          & 1           & -9          & -1          & -9          & -1          & -9          & -9          & -1          & 1           &  4          &  2          & -1          & -1          & -1          & -1          &  1          &  1          &  2          & 45.9        &  0          & -1          & -1          & -1          & -1          &  2          & -1          & -9          & -9          & -9          & -1          & 2           & -1          & -1          & 2           & -1          &   7200      &   7200      &   48.69     & 2           & 2           & 1           &  3626       & 10424.43    & 4.00841e+11\\\\\n",
       "\\end{tabular}\n"
      ],
      "text/markdown": [
       "\n",
       "| DUPERSID | REGION09 | AGE09X | SEX | RACETHNX | SPOUIN09 | RTHLTH53 | EMPHDX | EMPHAGED | CHBRON53 | ASTHDX | ASTHAGED | ASTHEP53 | ASACUT53 | ASMRCN53 | ASPREV53 | ASPKFL53 | ASWNFL53 | WLKLIM53 | WLKDIF53 | UNABLE53 | BLIND42 | CHAPPT42 | CHBMIX42 | PHYSCL42 | CHECK53 | EXRCIS53 | ASPRIN53 | BMINDX53 | ADAPPT42 | ADEGMC42 | ADEXPL42 | ADPRTM42 | ADHECR42 | ADSMOK42 | ADNSMK42 | DSFL0953 | DSFL0853 | DSFLNV53 | WKINBD53 | PMUNAB42 | PMUNRS42 | PMUNPR42 | PMDLAY42 | OCCCAT53 | TTLP09X | FAMINC09 | POVLEV09 | UNINS09 | INSCOV09 | INS09X | TOTEXP09 | PERWT09F | CONDIDX |\n",
       "|---|---|---|---|---|---|---|---|---|---|---|---|---|---|---|---|---|---|---|---|---|---|---|---|---|---|---|---|---|---|---|---|---|---|---|---|---|---|---|---|---|---|---|---|---|---|---|---|---|---|---|---|---|---|\n",
       "| 40001101    | 2           | 28          | 1           | 4           | 1           | 2           |  2          | -1          |  2          | 1           | 15          |  1          |  1          |  2          |  1          |  2          | -1          | 2           | -1          | -1          | -1          | -1          | -1          | -1          |  6          |  2          |  2          | 26.6        |  3          |  4          |  4          |  4          | 10          |  2          | -1          | -1          | -1          | -1          | -1          | 2           | -1          | -1          | 2           | -2          |  48500      | 121000      |  700.72     | 2           | 1           | 1           |  1173       | 14251.11    | 4.00011e+11 |\n",
       "| 40001103    | 2           |  2          | 1           | 4           | 3           | 2           | -1          | -1          | -1          | 1           |  0          |  1          |  1          |  2          |  2          |  2          | -1          | 2           | -1          | -1          | -1          |  5          | -1          | -1          | -1          | -1          | -1          | -1.0        | -1          | -1          | -1          | -1          | -1          | -1          | -1          | -1          | -1          | -1          | -1          | 2           | -1          | -1          | 2           | -1          |      0      | 121000      |  700.72     | 2           | 1           | 1           |  3215       | 14803.09    | 4.00011e+11 |\n",
       "| 40044101    | 2           | 79          | 1           | 4           | 2           | 4           |  1          | 76          |  1          | 1           | 65          | -1          |  2          | -1          |  2          |  2          | -1          | 1           |  3          |  1          | -1          | -1          | -1          | -1          |  1          |  2          |  1          | 34.3        |  6          |  4          |  4          |  4          | 10          |  2          | -1          |  1          |  1          |  2          | -1          | 2           | -1          | -1          | 2           | -1          |  49570      |  49570      |  481.77     | 2           | 1           | 1           | 14951       | 17739.80    | 4.00441e+11 |\n",
       "| 40050101    | 2           | 41          | 1           | 4           | 1           | 2           |  2          | -1          |  2          | 1           |  8          | -1          |  1          |  2          |  1          |  1          |  3          | 2           | -1          | -1          | -1          | -1          | -1          | -1          |  1          |  1          |  2          | 31.7        |  1          |  4          |  4          |  4          |  8          |  2          | -1          | -1          | -1          | -1          | -1          | 2           | -1          | -1          | 2           | -2          | 199424      | 248131      | 1140.52     | 2           | 1           | 1           |  3791       | 10588.75    | 4.00501e+11 |\n",
       "| 40052101    | 3           | 69          | 2           | 4           | 2           | 5           |  1          | 68          |  2          | 2           | -1          | -1          | -1          | -1          | -1          | -1          | -1          | 1           |  4          |  1          |  2          | -1          | -1          | -1          |  1          |  2          |  2          | 25.3        |  5          |  4          |  4          |  4          | 10          |  2          | -1          |  2          |  2          |  2          | -1          | 2           | -1          | -1          | 2           | -1          |      0      |  11000      |   65.55     | 2           | 2           | 1           | 58604       |  4936.99    | 4.00521e+11 |\n",
       "| 40084101    | 2           | 62          | 2           | 4           | 2           | 5           |  2          | -1          |  2          | 1           | -9          | -1          | -9          | -1          | -9          | -9          | -1          | 1           |  4          |  2          | -1          | -1          | -1          | -1          |  1          |  1          |  2          | 45.9        |  0          | -1          | -1          | -1          | -1          |  2          | -1          | -9          | -9          | -9          | -1          | 2           | -1          | -1          | 2           | -1          |   7200      |   7200      |   48.69     | 2           | 2           | 1           |  3626       | 10424.43    | 4.00841e+11 |\n",
       "\n"
      ],
      "text/plain": [
       "  DUPERSID REGION09 AGE09X SEX RACETHNX SPOUIN09 RTHLTH53 EMPHDX EMPHAGED\n",
       "1 40001101 2        28     1   4        1        2         2     -1      \n",
       "2 40001103 2         2     1   4        3        2        -1     -1      \n",
       "3 40044101 2        79     1   4        2        4         1     76      \n",
       "4 40050101 2        41     1   4        1        2         2     -1      \n",
       "5 40052101 3        69     2   4        2        5         1     68      \n",
       "6 40084101 2        62     2   4        2        5         2     -1      \n",
       "  CHBRON53 ASTHDX ASTHAGED ASTHEP53 ASACUT53 ASMRCN53 ASPREV53 ASPKFL53\n",
       "1  2       1      15        1        1        2        1        2      \n",
       "2 -1       1       0        1        1        2        2        2      \n",
       "3  1       1      65       -1        2       -1        2        2      \n",
       "4  2       1       8       -1        1        2        1        1      \n",
       "5  2       2      -1       -1       -1       -1       -1       -1      \n",
       "6  2       1      -9       -1       -9       -1       -9       -9      \n",
       "  ASWNFL53 WLKLIM53 WLKDIF53 UNABLE53 BLIND42 CHAPPT42 CHBMIX42 PHYSCL42\n",
       "1 -1       2        -1       -1       -1      -1       -1       -1      \n",
       "2 -1       2        -1       -1       -1       5       -1       -1      \n",
       "3 -1       1         3        1       -1      -1       -1       -1      \n",
       "4  3       2        -1       -1       -1      -1       -1       -1      \n",
       "5 -1       1         4        1        2      -1       -1       -1      \n",
       "6 -1       1         4        2       -1      -1       -1       -1      \n",
       "  CHECK53 EXRCIS53 ASPRIN53 BMINDX53 ADAPPT42 ADEGMC42 ADEXPL42 ADPRTM42\n",
       "1  6       2        2       26.6      3        4        4        4      \n",
       "2 -1      -1       -1       -1.0     -1       -1       -1       -1      \n",
       "3  1       2        1       34.3      6        4        4        4      \n",
       "4  1       1        2       31.7      1        4        4        4      \n",
       "5  1       2        2       25.3      5        4        4        4      \n",
       "6  1       1        2       45.9      0       -1       -1       -1      \n",
       "  ADHECR42 ADSMOK42 ADNSMK42 DSFL0953 DSFL0853 DSFLNV53 WKINBD53 PMUNAB42\n",
       "1 10        2       -1       -1       -1       -1       -1       2       \n",
       "2 -1       -1       -1       -1       -1       -1       -1       2       \n",
       "3 10        2       -1        1        1        2       -1       2       \n",
       "4  8        2       -1       -1       -1       -1       -1       2       \n",
       "5 10        2       -1        2        2        2       -1       2       \n",
       "6 -1        2       -1       -9       -9       -9       -1       2       \n",
       "  PMUNRS42 PMUNPR42 PMDLAY42 OCCCAT53 TTLP09X FAMINC09 POVLEV09 UNINS09\n",
       "1 -1       -1       2        -2        48500  121000    700.72  2      \n",
       "2 -1       -1       2        -1            0  121000    700.72  2      \n",
       "3 -1       -1       2        -1        49570   49570    481.77  2      \n",
       "4 -1       -1       2        -2       199424  248131   1140.52  2      \n",
       "5 -1       -1       2        -1            0   11000     65.55  2      \n",
       "6 -1       -1       2        -1         7200    7200     48.69  2      \n",
       "  INSCOV09 INS09X TOTEXP09 PERWT09F CONDIDX    \n",
       "1 1        1       1173    14251.11 4.00011e+11\n",
       "2 1        1       3215    14803.09 4.00011e+11\n",
       "3 1        1      14951    17739.80 4.00441e+11\n",
       "4 1        1       3791    10588.75 4.00501e+11\n",
       "5 2        1      58604     4936.99 4.00521e+11\n",
       "6 2        1       3626    10424.43 4.00841e+11"
      ]
     },
     "metadata": {},
     "output_type": "display_data"
    }
   ],
   "source": [
    "# Display the first few rows of the data\n",
    "cat(\"Displaying the the first few rows of the data:\\n\")\n",
    "head(aggregation)"
   ]
  },
  {
   "cell_type": "markdown",
   "metadata": {
    "heading_collapsed": true
   },
   "source": [
    "## Why Aspirin?"
   ]
  },
  {
   "cell_type": "markdown",
   "metadata": {
    "hidden": true
   },
   "source": [
    "Why are we even looking at aspirin in the first place? This is because of Aspirin Exacerbated Respiratory Disease (AERD), which is a disease associated with asthma patients who take aspirin. Since this condition is more common among aspirin-taking asthma patients compared to non-aspirin-taking asthma patients, we expect costs to be higher among patients who take aspirin. The variable which details aspirin usage is `ASPRIN53`.\n",
    "\n",
    "> Note: This is an example of why clinical or domain knowledge is so important. Having this information about aspirin allowed us to hone in on this variable from nearly 2000 total. Can you imagine how inefficient it would be if you had to search through every variable individually?"
   ]
  },
  {
   "cell_type": "markdown",
   "metadata": {
    "hidden": true
   },
   "source": [
    "Lets begin by examining the distribution for the aspirin variable. "
   ]
  },
  {
   "cell_type": "code",
   "execution_count": 7,
   "metadata": {
    "ExecuteTime": {
     "end_time": "2019-12-08T07:25:43.678361Z",
     "start_time": "2019-12-08T07:25:43.653Z"
    },
    "hidden": true,
    "scrolled": false
   },
   "outputs": [
    {
     "data": {
      "text/plain": [
       "\n",
       "  -8   -7   -1    1    2 \n",
       "   8    3  903  331 1130 "
      ]
     },
     "metadata": {},
     "output_type": "display_data"
    }
   ],
   "source": [
    "# See the distribution of aspirin usage\n",
    "table(aggregation$ASPRIN53)"
   ]
  },
  {
   "cell_type": "markdown",
   "metadata": {
    "hidden": true
   },
   "source": [
    "We can see the current data labels are not very informative. Figuring out how variables are specified or 'coded' is commonly solved through consulting documentation and accompanies datasets. "
   ]
  },
  {
   "cell_type": "markdown",
   "metadata": {
    "hidden": true
   },
   "source": [
    " From the [MEPS website](https://meps.ahrq.gov/mepsweb/data_stats/download_data_files_codebook.jsp?PUFId=H129&varName=ASPRIN53) we can see what each of the labels represent. Most useful for our purpose are the labels listed below:\n",
    "- 1 = Yes (to taking aspirin every other day)\n",
    "- 2 = No (to taking aspirin every other day)"
   ]
  },
  {
   "cell_type": "markdown",
   "metadata": {
    "hidden": true
   },
   "source": [
    "Lets take this information and code the data in a more meaningful way. "
   ]
  },
  {
   "cell_type": "code",
   "execution_count": 8,
   "metadata": {
    "ExecuteTime": {
     "end_time": "2019-12-08T07:25:43.859267Z",
     "start_time": "2019-12-08T07:25:43.821Z"
    },
    "hidden": true,
    "scrolled": false
   },
   "outputs": [
    {
     "name": "stdout",
     "output_type": "stream",
     "text": [
      "Data recoded successfully"
     ]
    }
   ],
   "source": [
    "# Recode Data\n",
    "aggregation$aspirin_use[aggregation$ASPRIN53 == 1] <- 'Use Aspirin'\n",
    "aggregation$aspirin_use[aggregation$ASPRIN53 == 2] <- 'No Aspirin'\n",
    "cat('Data recoded successfully')"
   ]
  },
  {
   "cell_type": "markdown",
   "metadata": {
    "hidden": true
   },
   "source": [
    "We will now randomly sample 200 individuals from each of our subsetted data. This will allow us to make an equitable comparison between the two groups when we compare their distributions. "
   ]
  },
  {
   "cell_type": "code",
   "execution_count": 9,
   "metadata": {
    "ExecuteTime": {
     "end_time": "2019-12-08T07:25:44.043271Z",
     "start_time": "2019-12-08T07:25:43.977Z"
    },
    "hidden": true,
    "scrolled": false
   },
   "outputs": [
    {
     "data": {
      "text/plain": [
       "\n",
       " No Aspirin Use Aspirin \n",
       "        250         250 "
      ]
     },
     "metadata": {},
     "output_type": "display_data"
    },
    {
     "name": "stdout",
     "output_type": "stream",
     "text": [
      "\n",
      "Data Sampled Succesfully"
     ]
    }
   ],
   "source": [
    "# Subset Aspirin Usage\n",
    "aspirin_sample <- subset(aggregation, ASPRIN53 == 1 | ASPRIN53 == 2)\n",
    "\n",
    "# Sample 100 for each group\n",
    "set.seed(10) # Seeding so we obtain the same outcome when we randomly sample\n",
    "aspirin_sample <- aspirin_sample %>% group_by(aspirin_use) %>% sample_n(250)\n",
    "table(aspirin_sample$aspirin_use)\n",
    "cat('\\nData Sampled Succesfully')\n"
   ]
  },
  {
   "cell_type": "markdown",
   "metadata": {
    "hidden": true
   },
   "source": [
    "The two cells below will return the annual healthcare expenditure for each randomly sampled individual for both of our subsets. "
   ]
  },
  {
   "cell_type": "code",
   "execution_count": 10,
   "metadata": {
    "ExecuteTime": {
     "end_time": "2019-12-08T07:25:44.284478Z",
     "start_time": "2019-12-08T07:25:44.226Z"
    },
    "hidden": true,
    "scrolled": false
   },
   "outputs": [
    {
     "data": {
      "text/html": [
       "<ol class=list-inline>\n",
       "\t<li>9930</li>\n",
       "\t<li>1327</li>\n",
       "\t<li>21103</li>\n",
       "\t<li>111544</li>\n",
       "\t<li>17643</li>\n",
       "\t<li>10475</li>\n",
       "\t<li>3834</li>\n",
       "\t<li>7997</li>\n",
       "\t<li>5836</li>\n",
       "\t<li>3370</li>\n",
       "\t<li>17673</li>\n",
       "\t<li>1739</li>\n",
       "\t<li>36489</li>\n",
       "\t<li>4944</li>\n",
       "\t<li>1073</li>\n",
       "\t<li>7862</li>\n",
       "\t<li>13561</li>\n",
       "\t<li>18031</li>\n",
       "\t<li>30042</li>\n",
       "\t<li>103067</li>\n",
       "\t<li>17753</li>\n",
       "\t<li>800</li>\n",
       "\t<li>7862</li>\n",
       "\t<li>11058</li>\n",
       "\t<li>7062</li>\n",
       "\t<li>17129</li>\n",
       "\t<li>42537</li>\n",
       "\t<li>1962</li>\n",
       "\t<li>13936</li>\n",
       "\t<li>25517</li>\n",
       "\t<li>5489</li>\n",
       "\t<li>14242</li>\n",
       "\t<li>12784</li>\n",
       "\t<li>6837</li>\n",
       "\t<li>71096</li>\n",
       "\t<li>6206</li>\n",
       "\t<li>70037</li>\n",
       "\t<li>27396</li>\n",
       "\t<li>22423</li>\n",
       "\t<li>7265</li>\n",
       "\t<li>1062</li>\n",
       "\t<li>4603</li>\n",
       "\t<li>200</li>\n",
       "\t<li>5554</li>\n",
       "\t<li>2823</li>\n",
       "\t<li>4459</li>\n",
       "\t<li>9053</li>\n",
       "\t<li>38408</li>\n",
       "\t<li>58649</li>\n",
       "\t<li>796</li>\n",
       "\t<li>8504</li>\n",
       "\t<li>8095</li>\n",
       "\t<li>177</li>\n",
       "\t<li>9832</li>\n",
       "\t<li>3281</li>\n",
       "\t<li>22825</li>\n",
       "\t<li>9565</li>\n",
       "\t<li>448</li>\n",
       "\t<li>3737</li>\n",
       "\t<li>11962</li>\n",
       "\t<li>7801</li>\n",
       "\t<li>14706</li>\n",
       "\t<li>1454</li>\n",
       "\t<li>2800</li>\n",
       "\t<li>5426</li>\n",
       "\t<li>4505</li>\n",
       "\t<li>62700</li>\n",
       "\t<li>16195</li>\n",
       "\t<li>17757</li>\n",
       "\t<li>6859</li>\n",
       "\t<li>3492</li>\n",
       "\t<li>2294</li>\n",
       "\t<li>3293</li>\n",
       "\t<li>9166</li>\n",
       "\t<li>1369</li>\n",
       "\t<li>1785</li>\n",
       "\t<li>18695</li>\n",
       "\t<li>15349</li>\n",
       "\t<li>2016</li>\n",
       "\t<li>4933</li>\n",
       "\t<li>2480</li>\n",
       "\t<li>520</li>\n",
       "\t<li>5329</li>\n",
       "\t<li>2498</li>\n",
       "\t<li>6269</li>\n",
       "\t<li>27423</li>\n",
       "\t<li>9423</li>\n",
       "\t<li>4857</li>\n",
       "\t<li>8234</li>\n",
       "\t<li>8048</li>\n",
       "\t<li>2092</li>\n",
       "\t<li>2006</li>\n",
       "\t<li>7867</li>\n",
       "\t<li>23260</li>\n",
       "\t<li>8843</li>\n",
       "\t<li>52735</li>\n",
       "\t<li>2246</li>\n",
       "\t<li>1303</li>\n",
       "\t<li>9949</li>\n",
       "\t<li>2208</li>\n",
       "\t<li>2263</li>\n",
       "\t<li>24190</li>\n",
       "\t<li>11510</li>\n",
       "\t<li>30237</li>\n",
       "\t<li>1865</li>\n",
       "\t<li>16672</li>\n",
       "\t<li>11563</li>\n",
       "\t<li>6700</li>\n",
       "\t<li>1022</li>\n",
       "\t<li>4975</li>\n",
       "\t<li>13204</li>\n",
       "\t<li>6021</li>\n",
       "\t<li>15253</li>\n",
       "\t<li>7782</li>\n",
       "\t<li>31724</li>\n",
       "\t<li>756</li>\n",
       "\t<li>10974</li>\n",
       "\t<li>4773</li>\n",
       "\t<li>3968</li>\n",
       "\t<li>8551</li>\n",
       "\t<li>1125</li>\n",
       "\t<li>4209</li>\n",
       "\t<li>386</li>\n",
       "\t<li>697</li>\n",
       "\t<li>8583</li>\n",
       "\t<li>4763</li>\n",
       "\t<li>742</li>\n",
       "\t<li>8470</li>\n",
       "\t<li>5331</li>\n",
       "\t<li>95898</li>\n",
       "\t<li>22883</li>\n",
       "\t<li>4850</li>\n",
       "\t<li>12369</li>\n",
       "\t<li>4737</li>\n",
       "\t<li>2861</li>\n",
       "\t<li>1818</li>\n",
       "\t<li>1144</li>\n",
       "\t<li>6810</li>\n",
       "\t<li>57805</li>\n",
       "\t<li>22502</li>\n",
       "\t<li>960</li>\n",
       "\t<li>3863</li>\n",
       "\t<li>3437</li>\n",
       "\t<li>5429</li>\n",
       "\t<li>25315</li>\n",
       "\t<li>3913</li>\n",
       "\t<li>3271</li>\n",
       "\t<li>33747</li>\n",
       "\t<li>12017</li>\n",
       "\t<li>14003</li>\n",
       "\t<li>1845</li>\n",
       "\t<li>38701</li>\n",
       "\t<li>33401</li>\n",
       "\t<li>5118</li>\n",
       "\t<li>13408</li>\n",
       "\t<li>9342</li>\n",
       "\t<li>9328</li>\n",
       "\t<li>38</li>\n",
       "\t<li>5373</li>\n",
       "\t<li>15848</li>\n",
       "\t<li>60058</li>\n",
       "\t<li>4118</li>\n",
       "\t<li>9612</li>\n",
       "\t<li>14535</li>\n",
       "\t<li>5359</li>\n",
       "\t<li>9793</li>\n",
       "\t<li>22132</li>\n",
       "\t<li>30838</li>\n",
       "\t<li>3958</li>\n",
       "\t<li>3723</li>\n",
       "\t<li>13937</li>\n",
       "\t<li>5986</li>\n",
       "\t<li>2493</li>\n",
       "\t<li>3140</li>\n",
       "\t<li>2272</li>\n",
       "\t<li>16089</li>\n",
       "\t<li>4805</li>\n",
       "\t<li>0</li>\n",
       "\t<li>68733</li>\n",
       "\t<li>538</li>\n",
       "\t<li>1497</li>\n",
       "\t<li>11646</li>\n",
       "\t<li>15962</li>\n",
       "\t<li>39103</li>\n",
       "\t<li>14131</li>\n",
       "\t<li>14545</li>\n",
       "\t<li>37859</li>\n",
       "\t<li>35933</li>\n",
       "\t<li>35221</li>\n",
       "\t<li>29079</li>\n",
       "\t<li>5106</li>\n",
       "\t<li>4431</li>\n",
       "\t<li>53406</li>\n",
       "\t<li>12196</li>\n",
       "\t<li>1017</li>\n",
       "\t<li>23988</li>\n",
       "\t<li>28402</li>\n",
       "\t<li>10120</li>\n",
       "\t<li>18564</li>\n",
       "\t<li>17157</li>\n",
       "\t<li>7161</li>\n",
       "\t<li>23382</li>\n",
       "\t<li>10677</li>\n",
       "\t<li>9595</li>\n",
       "\t<li>2031</li>\n",
       "\t<li>3807</li>\n",
       "\t<li>17820</li>\n",
       "\t<li>437</li>\n",
       "\t<li>16757</li>\n",
       "\t<li>45031</li>\n",
       "\t<li>1360</li>\n",
       "\t<li>24967</li>\n",
       "\t<li>4796</li>\n",
       "\t<li>1419</li>\n",
       "\t<li>6119</li>\n",
       "\t<li>169</li>\n",
       "\t<li>16352</li>\n",
       "\t<li>50080</li>\n",
       "\t<li>2421</li>\n",
       "\t<li>12215</li>\n",
       "\t<li>2092</li>\n",
       "\t<li>16318</li>\n",
       "\t<li>1178</li>\n",
       "\t<li>713</li>\n",
       "\t<li>22642</li>\n",
       "\t<li>4077</li>\n",
       "\t<li>6821</li>\n",
       "\t<li>2451</li>\n",
       "\t<li>23447</li>\n",
       "\t<li>5370</li>\n",
       "\t<li>5237</li>\n",
       "\t<li>7371</li>\n",
       "\t<li>14373</li>\n",
       "\t<li>1972</li>\n",
       "\t<li>3385</li>\n",
       "\t<li>3588</li>\n",
       "\t<li>2012</li>\n",
       "\t<li>7077</li>\n",
       "\t<li>48843</li>\n",
       "\t<li>6108</li>\n",
       "\t<li>60600</li>\n",
       "\t<li>978</li>\n",
       "\t<li>1252</li>\n",
       "\t<li>28602</li>\n",
       "\t<li>25443</li>\n",
       "\t<li>28201</li>\n",
       "\t<li>11906</li>\n",
       "\t<li>2951</li>\n",
       "\t<li>5751</li>\n",
       "\t<li>8216</li>\n",
       "</ol>\n"
      ],
      "text/latex": [
       "\\begin{enumerate*}\n",
       "\\item 9930\n",
       "\\item 1327\n",
       "\\item 21103\n",
       "\\item 111544\n",
       "\\item 17643\n",
       "\\item 10475\n",
       "\\item 3834\n",
       "\\item 7997\n",
       "\\item 5836\n",
       "\\item 3370\n",
       "\\item 17673\n",
       "\\item 1739\n",
       "\\item 36489\n",
       "\\item 4944\n",
       "\\item 1073\n",
       "\\item 7862\n",
       "\\item 13561\n",
       "\\item 18031\n",
       "\\item 30042\n",
       "\\item 103067\n",
       "\\item 17753\n",
       "\\item 800\n",
       "\\item 7862\n",
       "\\item 11058\n",
       "\\item 7062\n",
       "\\item 17129\n",
       "\\item 42537\n",
       "\\item 1962\n",
       "\\item 13936\n",
       "\\item 25517\n",
       "\\item 5489\n",
       "\\item 14242\n",
       "\\item 12784\n",
       "\\item 6837\n",
       "\\item 71096\n",
       "\\item 6206\n",
       "\\item 70037\n",
       "\\item 27396\n",
       "\\item 22423\n",
       "\\item 7265\n",
       "\\item 1062\n",
       "\\item 4603\n",
       "\\item 200\n",
       "\\item 5554\n",
       "\\item 2823\n",
       "\\item 4459\n",
       "\\item 9053\n",
       "\\item 38408\n",
       "\\item 58649\n",
       "\\item 796\n",
       "\\item 8504\n",
       "\\item 8095\n",
       "\\item 177\n",
       "\\item 9832\n",
       "\\item 3281\n",
       "\\item 22825\n",
       "\\item 9565\n",
       "\\item 448\n",
       "\\item 3737\n",
       "\\item 11962\n",
       "\\item 7801\n",
       "\\item 14706\n",
       "\\item 1454\n",
       "\\item 2800\n",
       "\\item 5426\n",
       "\\item 4505\n",
       "\\item 62700\n",
       "\\item 16195\n",
       "\\item 17757\n",
       "\\item 6859\n",
       "\\item 3492\n",
       "\\item 2294\n",
       "\\item 3293\n",
       "\\item 9166\n",
       "\\item 1369\n",
       "\\item 1785\n",
       "\\item 18695\n",
       "\\item 15349\n",
       "\\item 2016\n",
       "\\item 4933\n",
       "\\item 2480\n",
       "\\item 520\n",
       "\\item 5329\n",
       "\\item 2498\n",
       "\\item 6269\n",
       "\\item 27423\n",
       "\\item 9423\n",
       "\\item 4857\n",
       "\\item 8234\n",
       "\\item 8048\n",
       "\\item 2092\n",
       "\\item 2006\n",
       "\\item 7867\n",
       "\\item 23260\n",
       "\\item 8843\n",
       "\\item 52735\n",
       "\\item 2246\n",
       "\\item 1303\n",
       "\\item 9949\n",
       "\\item 2208\n",
       "\\item 2263\n",
       "\\item 24190\n",
       "\\item 11510\n",
       "\\item 30237\n",
       "\\item 1865\n",
       "\\item 16672\n",
       "\\item 11563\n",
       "\\item 6700\n",
       "\\item 1022\n",
       "\\item 4975\n",
       "\\item 13204\n",
       "\\item 6021\n",
       "\\item 15253\n",
       "\\item 7782\n",
       "\\item 31724\n",
       "\\item 756\n",
       "\\item 10974\n",
       "\\item 4773\n",
       "\\item 3968\n",
       "\\item 8551\n",
       "\\item 1125\n",
       "\\item 4209\n",
       "\\item 386\n",
       "\\item 697\n",
       "\\item 8583\n",
       "\\item 4763\n",
       "\\item 742\n",
       "\\item 8470\n",
       "\\item 5331\n",
       "\\item 95898\n",
       "\\item 22883\n",
       "\\item 4850\n",
       "\\item 12369\n",
       "\\item 4737\n",
       "\\item 2861\n",
       "\\item 1818\n",
       "\\item 1144\n",
       "\\item 6810\n",
       "\\item 57805\n",
       "\\item 22502\n",
       "\\item 960\n",
       "\\item 3863\n",
       "\\item 3437\n",
       "\\item 5429\n",
       "\\item 25315\n",
       "\\item 3913\n",
       "\\item 3271\n",
       "\\item 33747\n",
       "\\item 12017\n",
       "\\item 14003\n",
       "\\item 1845\n",
       "\\item 38701\n",
       "\\item 33401\n",
       "\\item 5118\n",
       "\\item 13408\n",
       "\\item 9342\n",
       "\\item 9328\n",
       "\\item 38\n",
       "\\item 5373\n",
       "\\item 15848\n",
       "\\item 60058\n",
       "\\item 4118\n",
       "\\item 9612\n",
       "\\item 14535\n",
       "\\item 5359\n",
       "\\item 9793\n",
       "\\item 22132\n",
       "\\item 30838\n",
       "\\item 3958\n",
       "\\item 3723\n",
       "\\item 13937\n",
       "\\item 5986\n",
       "\\item 2493\n",
       "\\item 3140\n",
       "\\item 2272\n",
       "\\item 16089\n",
       "\\item 4805\n",
       "\\item 0\n",
       "\\item 68733\n",
       "\\item 538\n",
       "\\item 1497\n",
       "\\item 11646\n",
       "\\item 15962\n",
       "\\item 39103\n",
       "\\item 14131\n",
       "\\item 14545\n",
       "\\item 37859\n",
       "\\item 35933\n",
       "\\item 35221\n",
       "\\item 29079\n",
       "\\item 5106\n",
       "\\item 4431\n",
       "\\item 53406\n",
       "\\item 12196\n",
       "\\item 1017\n",
       "\\item 23988\n",
       "\\item 28402\n",
       "\\item 10120\n",
       "\\item 18564\n",
       "\\item 17157\n",
       "\\item 7161\n",
       "\\item 23382\n",
       "\\item 10677\n",
       "\\item 9595\n",
       "\\item 2031\n",
       "\\item 3807\n",
       "\\item 17820\n",
       "\\item 437\n",
       "\\item 16757\n",
       "\\item 45031\n",
       "\\item 1360\n",
       "\\item 24967\n",
       "\\item 4796\n",
       "\\item 1419\n",
       "\\item 6119\n",
       "\\item 169\n",
       "\\item 16352\n",
       "\\item 50080\n",
       "\\item 2421\n",
       "\\item 12215\n",
       "\\item 2092\n",
       "\\item 16318\n",
       "\\item 1178\n",
       "\\item 713\n",
       "\\item 22642\n",
       "\\item 4077\n",
       "\\item 6821\n",
       "\\item 2451\n",
       "\\item 23447\n",
       "\\item 5370\n",
       "\\item 5237\n",
       "\\item 7371\n",
       "\\item 14373\n",
       "\\item 1972\n",
       "\\item 3385\n",
       "\\item 3588\n",
       "\\item 2012\n",
       "\\item 7077\n",
       "\\item 48843\n",
       "\\item 6108\n",
       "\\item 60600\n",
       "\\item 978\n",
       "\\item 1252\n",
       "\\item 28602\n",
       "\\item 25443\n",
       "\\item 28201\n",
       "\\item 11906\n",
       "\\item 2951\n",
       "\\item 5751\n",
       "\\item 8216\n",
       "\\end{enumerate*}\n"
      ],
      "text/markdown": [
       "1. 9930\n",
       "2. 1327\n",
       "3. 21103\n",
       "4. 111544\n",
       "5. 17643\n",
       "6. 10475\n",
       "7. 3834\n",
       "8. 7997\n",
       "9. 5836\n",
       "10. 3370\n",
       "11. 17673\n",
       "12. 1739\n",
       "13. 36489\n",
       "14. 4944\n",
       "15. 1073\n",
       "16. 7862\n",
       "17. 13561\n",
       "18. 18031\n",
       "19. 30042\n",
       "20. 103067\n",
       "21. 17753\n",
       "22. 800\n",
       "23. 7862\n",
       "24. 11058\n",
       "25. 7062\n",
       "26. 17129\n",
       "27. 42537\n",
       "28. 1962\n",
       "29. 13936\n",
       "30. 25517\n",
       "31. 5489\n",
       "32. 14242\n",
       "33. 12784\n",
       "34. 6837\n",
       "35. 71096\n",
       "36. 6206\n",
       "37. 70037\n",
       "38. 27396\n",
       "39. 22423\n",
       "40. 7265\n",
       "41. 1062\n",
       "42. 4603\n",
       "43. 200\n",
       "44. 5554\n",
       "45. 2823\n",
       "46. 4459\n",
       "47. 9053\n",
       "48. 38408\n",
       "49. 58649\n",
       "50. 796\n",
       "51. 8504\n",
       "52. 8095\n",
       "53. 177\n",
       "54. 9832\n",
       "55. 3281\n",
       "56. 22825\n",
       "57. 9565\n",
       "58. 448\n",
       "59. 3737\n",
       "60. 11962\n",
       "61. 7801\n",
       "62. 14706\n",
       "63. 1454\n",
       "64. 2800\n",
       "65. 5426\n",
       "66. 4505\n",
       "67. 62700\n",
       "68. 16195\n",
       "69. 17757\n",
       "70. 6859\n",
       "71. 3492\n",
       "72. 2294\n",
       "73. 3293\n",
       "74. 9166\n",
       "75. 1369\n",
       "76. 1785\n",
       "77. 18695\n",
       "78. 15349\n",
       "79. 2016\n",
       "80. 4933\n",
       "81. 2480\n",
       "82. 520\n",
       "83. 5329\n",
       "84. 2498\n",
       "85. 6269\n",
       "86. 27423\n",
       "87. 9423\n",
       "88. 4857\n",
       "89. 8234\n",
       "90. 8048\n",
       "91. 2092\n",
       "92. 2006\n",
       "93. 7867\n",
       "94. 23260\n",
       "95. 8843\n",
       "96. 52735\n",
       "97. 2246\n",
       "98. 1303\n",
       "99. 9949\n",
       "100. 2208\n",
       "101. 2263\n",
       "102. 24190\n",
       "103. 11510\n",
       "104. 30237\n",
       "105. 1865\n",
       "106. 16672\n",
       "107. 11563\n",
       "108. 6700\n",
       "109. 1022\n",
       "110. 4975\n",
       "111. 13204\n",
       "112. 6021\n",
       "113. 15253\n",
       "114. 7782\n",
       "115. 31724\n",
       "116. 756\n",
       "117. 10974\n",
       "118. 4773\n",
       "119. 3968\n",
       "120. 8551\n",
       "121. 1125\n",
       "122. 4209\n",
       "123. 386\n",
       "124. 697\n",
       "125. 8583\n",
       "126. 4763\n",
       "127. 742\n",
       "128. 8470\n",
       "129. 5331\n",
       "130. 95898\n",
       "131. 22883\n",
       "132. 4850\n",
       "133. 12369\n",
       "134. 4737\n",
       "135. 2861\n",
       "136. 1818\n",
       "137. 1144\n",
       "138. 6810\n",
       "139. 57805\n",
       "140. 22502\n",
       "141. 960\n",
       "142. 3863\n",
       "143. 3437\n",
       "144. 5429\n",
       "145. 25315\n",
       "146. 3913\n",
       "147. 3271\n",
       "148. 33747\n",
       "149. 12017\n",
       "150. 14003\n",
       "151. 1845\n",
       "152. 38701\n",
       "153. 33401\n",
       "154. 5118\n",
       "155. 13408\n",
       "156. 9342\n",
       "157. 9328\n",
       "158. 38\n",
       "159. 5373\n",
       "160. 15848\n",
       "161. 60058\n",
       "162. 4118\n",
       "163. 9612\n",
       "164. 14535\n",
       "165. 5359\n",
       "166. 9793\n",
       "167. 22132\n",
       "168. 30838\n",
       "169. 3958\n",
       "170. 3723\n",
       "171. 13937\n",
       "172. 5986\n",
       "173. 2493\n",
       "174. 3140\n",
       "175. 2272\n",
       "176. 16089\n",
       "177. 4805\n",
       "178. 0\n",
       "179. 68733\n",
       "180. 538\n",
       "181. 1497\n",
       "182. 11646\n",
       "183. 15962\n",
       "184. 39103\n",
       "185. 14131\n",
       "186. 14545\n",
       "187. 37859\n",
       "188. 35933\n",
       "189. 35221\n",
       "190. 29079\n",
       "191. 5106\n",
       "192. 4431\n",
       "193. 53406\n",
       "194. 12196\n",
       "195. 1017\n",
       "196. 23988\n",
       "197. 28402\n",
       "198. 10120\n",
       "199. 18564\n",
       "200. 17157\n",
       "201. 7161\n",
       "202. 23382\n",
       "203. 10677\n",
       "204. 9595\n",
       "205. 2031\n",
       "206. 3807\n",
       "207. 17820\n",
       "208. 437\n",
       "209. 16757\n",
       "210. 45031\n",
       "211. 1360\n",
       "212. 24967\n",
       "213. 4796\n",
       "214. 1419\n",
       "215. 6119\n",
       "216. 169\n",
       "217. 16352\n",
       "218. 50080\n",
       "219. 2421\n",
       "220. 12215\n",
       "221. 2092\n",
       "222. 16318\n",
       "223. 1178\n",
       "224. 713\n",
       "225. 22642\n",
       "226. 4077\n",
       "227. 6821\n",
       "228. 2451\n",
       "229. 23447\n",
       "230. 5370\n",
       "231. 5237\n",
       "232. 7371\n",
       "233. 14373\n",
       "234. 1972\n",
       "235. 3385\n",
       "236. 3588\n",
       "237. 2012\n",
       "238. 7077\n",
       "239. 48843\n",
       "240. 6108\n",
       "241. 60600\n",
       "242. 978\n",
       "243. 1252\n",
       "244. 28602\n",
       "245. 25443\n",
       "246. 28201\n",
       "247. 11906\n",
       "248. 2951\n",
       "249. 5751\n",
       "250. 8216\n",
       "\n",
       "\n"
      ],
      "text/plain": [
       "  [1]   9930   1327  21103 111544  17643  10475   3834   7997   5836   3370\n",
       " [11]  17673   1739  36489   4944   1073   7862  13561  18031  30042 103067\n",
       " [21]  17753    800   7862  11058   7062  17129  42537   1962  13936  25517\n",
       " [31]   5489  14242  12784   6837  71096   6206  70037  27396  22423   7265\n",
       " [41]   1062   4603    200   5554   2823   4459   9053  38408  58649    796\n",
       " [51]   8504   8095    177   9832   3281  22825   9565    448   3737  11962\n",
       " [61]   7801  14706   1454   2800   5426   4505  62700  16195  17757   6859\n",
       " [71]   3492   2294   3293   9166   1369   1785  18695  15349   2016   4933\n",
       " [81]   2480    520   5329   2498   6269  27423   9423   4857   8234   8048\n",
       " [91]   2092   2006   7867  23260   8843  52735   2246   1303   9949   2208\n",
       "[101]   2263  24190  11510  30237   1865  16672  11563   6700   1022   4975\n",
       "[111]  13204   6021  15253   7782  31724    756  10974   4773   3968   8551\n",
       "[121]   1125   4209    386    697   8583   4763    742   8470   5331  95898\n",
       "[131]  22883   4850  12369   4737   2861   1818   1144   6810  57805  22502\n",
       "[141]    960   3863   3437   5429  25315   3913   3271  33747  12017  14003\n",
       "[151]   1845  38701  33401   5118  13408   9342   9328     38   5373  15848\n",
       "[161]  60058   4118   9612  14535   5359   9793  22132  30838   3958   3723\n",
       "[171]  13937   5986   2493   3140   2272  16089   4805      0  68733    538\n",
       "[181]   1497  11646  15962  39103  14131  14545  37859  35933  35221  29079\n",
       "[191]   5106   4431  53406  12196   1017  23988  28402  10120  18564  17157\n",
       "[201]   7161  23382  10677   9595   2031   3807  17820    437  16757  45031\n",
       "[211]   1360  24967   4796   1419   6119    169  16352  50080   2421  12215\n",
       "[221]   2092  16318   1178    713  22642   4077   6821   2451  23447   5370\n",
       "[231]   5237   7371  14373   1972   3385   3588   2012   7077  48843   6108\n",
       "[241]  60600    978   1252  28602  25443  28201  11906   2951   5751   8216"
      ]
     },
     "metadata": {},
     "output_type": "display_data"
    },
    {
     "data": {
      "text/html": [
       "<ol class=list-inline>\n",
       "\t<li>1986</li>\n",
       "\t<li>38423</li>\n",
       "\t<li>202</li>\n",
       "\t<li>2557</li>\n",
       "\t<li>2747</li>\n",
       "\t<li>10436</li>\n",
       "\t<li>2965</li>\n",
       "\t<li>98065</li>\n",
       "\t<li>11144</li>\n",
       "\t<li>769</li>\n",
       "\t<li>823</li>\n",
       "\t<li>3033</li>\n",
       "\t<li>27829</li>\n",
       "\t<li>876</li>\n",
       "\t<li>0</li>\n",
       "\t<li>18241</li>\n",
       "\t<li>33778</li>\n",
       "\t<li>3514</li>\n",
       "\t<li>1935</li>\n",
       "\t<li>0</li>\n",
       "\t<li>2618</li>\n",
       "\t<li>5695</li>\n",
       "\t<li>9006</li>\n",
       "\t<li>1714</li>\n",
       "\t<li>7126</li>\n",
       "\t<li>29904</li>\n",
       "\t<li>3295</li>\n",
       "\t<li>7158</li>\n",
       "\t<li>1125</li>\n",
       "\t<li>1000</li>\n",
       "\t<li>0</li>\n",
       "\t<li>2183</li>\n",
       "\t<li>6873</li>\n",
       "\t<li>10461</li>\n",
       "\t<li>9440</li>\n",
       "\t<li>15126</li>\n",
       "\t<li>203</li>\n",
       "\t<li>86092</li>\n",
       "\t<li>8552</li>\n",
       "\t<li>591</li>\n",
       "\t<li>2090</li>\n",
       "\t<li>10214</li>\n",
       "\t<li>5014</li>\n",
       "\t<li>3120</li>\n",
       "\t<li>138</li>\n",
       "\t<li>8499</li>\n",
       "\t<li>234</li>\n",
       "\t<li>24039</li>\n",
       "\t<li>5220</li>\n",
       "\t<li>4828</li>\n",
       "\t<li>11078</li>\n",
       "\t<li>783</li>\n",
       "\t<li>964</li>\n",
       "\t<li>780</li>\n",
       "\t<li>3454</li>\n",
       "\t<li>10338</li>\n",
       "\t<li>1807</li>\n",
       "\t<li>24988</li>\n",
       "\t<li>0</li>\n",
       "\t<li>537</li>\n",
       "\t<li>1258</li>\n",
       "\t<li>3970</li>\n",
       "\t<li>827</li>\n",
       "\t<li>768</li>\n",
       "\t<li>2358</li>\n",
       "\t<li>313</li>\n",
       "\t<li>80</li>\n",
       "\t<li>10506</li>\n",
       "\t<li>3270</li>\n",
       "\t<li>10562</li>\n",
       "\t<li>5386</li>\n",
       "\t<li>13708</li>\n",
       "\t<li>2567</li>\n",
       "\t<li>68383</li>\n",
       "\t<li>4918</li>\n",
       "\t<li>13409</li>\n",
       "\t<li>84616</li>\n",
       "\t<li>25937</li>\n",
       "\t<li>309</li>\n",
       "\t<li>461</li>\n",
       "\t<li>661</li>\n",
       "\t<li>26186</li>\n",
       "\t<li>547</li>\n",
       "\t<li>8171</li>\n",
       "\t<li>18856</li>\n",
       "\t<li>93</li>\n",
       "\t<li>4477</li>\n",
       "\t<li>2872</li>\n",
       "\t<li>891</li>\n",
       "\t<li>0</li>\n",
       "\t<li>716</li>\n",
       "\t<li>239</li>\n",
       "\t<li>826</li>\n",
       "\t<li>2031</li>\n",
       "\t<li>815</li>\n",
       "\t<li>453</li>\n",
       "\t<li>191</li>\n",
       "\t<li>3313</li>\n",
       "\t<li>11939</li>\n",
       "\t<li>6851</li>\n",
       "\t<li>1191</li>\n",
       "\t<li>1751</li>\n",
       "\t<li>9609</li>\n",
       "\t<li>10101</li>\n",
       "\t<li>981</li>\n",
       "\t<li>806</li>\n",
       "\t<li>35336</li>\n",
       "\t<li>7608</li>\n",
       "\t<li>18701</li>\n",
       "\t<li>1179</li>\n",
       "\t<li>17</li>\n",
       "\t<li>2691</li>\n",
       "\t<li>249</li>\n",
       "\t<li>4762</li>\n",
       "\t<li>8198</li>\n",
       "\t<li>1703</li>\n",
       "\t<li>1088</li>\n",
       "\t<li>11035</li>\n",
       "\t<li>6054</li>\n",
       "\t<li>0</li>\n",
       "\t<li>18839</li>\n",
       "\t<li>1189</li>\n",
       "\t<li>9679</li>\n",
       "\t<li>51</li>\n",
       "\t<li>3048</li>\n",
       "\t<li>3005</li>\n",
       "\t<li>1642</li>\n",
       "\t<li>36886</li>\n",
       "\t<li>2356</li>\n",
       "\t<li>20343</li>\n",
       "\t<li>3930</li>\n",
       "\t<li>2040</li>\n",
       "\t<li>1152</li>\n",
       "\t<li>8721</li>\n",
       "\t<li>11385</li>\n",
       "\t<li>7763</li>\n",
       "\t<li>11077</li>\n",
       "\t<li>1318</li>\n",
       "\t<li>13215</li>\n",
       "\t<li>11521</li>\n",
       "\t<li>3333</li>\n",
       "\t<li>5423</li>\n",
       "\t<li>14510</li>\n",
       "\t<li>305</li>\n",
       "\t<li>5404</li>\n",
       "\t<li>1364</li>\n",
       "\t<li>733</li>\n",
       "\t<li>2857</li>\n",
       "\t<li>42943</li>\n",
       "\t<li>32696</li>\n",
       "\t<li>3589</li>\n",
       "\t<li>0</li>\n",
       "\t<li>24031</li>\n",
       "\t<li>15279</li>\n",
       "\t<li>3974</li>\n",
       "\t<li>68935</li>\n",
       "\t<li>1369</li>\n",
       "\t<li>152</li>\n",
       "\t<li>63961</li>\n",
       "\t<li>69067</li>\n",
       "\t<li>355</li>\n",
       "\t<li>963</li>\n",
       "\t<li>3264</li>\n",
       "\t<li>7611</li>\n",
       "\t<li>27058</li>\n",
       "\t<li>11206</li>\n",
       "\t<li>3796</li>\n",
       "\t<li>25705</li>\n",
       "\t<li>964</li>\n",
       "\t<li>130</li>\n",
       "\t<li>1156</li>\n",
       "\t<li>13116</li>\n",
       "\t<li>4856</li>\n",
       "\t<li>1151</li>\n",
       "\t<li>3231</li>\n",
       "\t<li>0</li>\n",
       "\t<li>143</li>\n",
       "\t<li>2520</li>\n",
       "\t<li>18681</li>\n",
       "\t<li>16381</li>\n",
       "\t<li>21210</li>\n",
       "\t<li>3626</li>\n",
       "\t<li>3757</li>\n",
       "\t<li>3234</li>\n",
       "\t<li>200</li>\n",
       "\t<li>1597</li>\n",
       "\t<li>1045</li>\n",
       "\t<li>3410</li>\n",
       "\t<li>5810</li>\n",
       "\t<li>189</li>\n",
       "\t<li>7143</li>\n",
       "\t<li>19013</li>\n",
       "\t<li>10408</li>\n",
       "\t<li>5545</li>\n",
       "\t<li>6234</li>\n",
       "\t<li>10136</li>\n",
       "\t<li>200</li>\n",
       "\t<li>2191</li>\n",
       "\t<li>5074</li>\n",
       "\t<li>25291</li>\n",
       "\t<li>1477</li>\n",
       "\t<li>3209</li>\n",
       "\t<li>0</li>\n",
       "\t<li>85</li>\n",
       "\t<li>7247</li>\n",
       "\t<li>1251</li>\n",
       "\t<li>2232</li>\n",
       "\t<li>5491</li>\n",
       "\t<li>43957</li>\n",
       "\t<li>4092</li>\n",
       "\t<li>1210</li>\n",
       "\t<li>0</li>\n",
       "\t<li>16361</li>\n",
       "\t<li>3739</li>\n",
       "\t<li>715</li>\n",
       "\t<li>2403</li>\n",
       "\t<li>8374</li>\n",
       "\t<li>6271</li>\n",
       "\t<li>156</li>\n",
       "\t<li>6083</li>\n",
       "\t<li>593</li>\n",
       "\t<li>2533</li>\n",
       "\t<li>3229</li>\n",
       "\t<li>61785</li>\n",
       "\t<li>4580</li>\n",
       "\t<li>18599</li>\n",
       "\t<li>4336</li>\n",
       "\t<li>821</li>\n",
       "\t<li>2880</li>\n",
       "\t<li>34698</li>\n",
       "\t<li>2108</li>\n",
       "\t<li>33185</li>\n",
       "\t<li>10710</li>\n",
       "\t<li>7025</li>\n",
       "\t<li>4641</li>\n",
       "\t<li>203</li>\n",
       "\t<li>7791</li>\n",
       "\t<li>490</li>\n",
       "\t<li>2884</li>\n",
       "\t<li>13763</li>\n",
       "\t<li>9517</li>\n",
       "\t<li>6016</li>\n",
       "\t<li>95019</li>\n",
       "\t<li>269</li>\n",
       "\t<li>599</li>\n",
       "\t<li>729</li>\n",
       "\t<li>5647</li>\n",
       "\t<li>179</li>\n",
       "\t<li>670</li>\n",
       "\t<li>35268</li>\n",
       "</ol>\n"
      ],
      "text/latex": [
       "\\begin{enumerate*}\n",
       "\\item 1986\n",
       "\\item 38423\n",
       "\\item 202\n",
       "\\item 2557\n",
       "\\item 2747\n",
       "\\item 10436\n",
       "\\item 2965\n",
       "\\item 98065\n",
       "\\item 11144\n",
       "\\item 769\n",
       "\\item 823\n",
       "\\item 3033\n",
       "\\item 27829\n",
       "\\item 876\n",
       "\\item 0\n",
       "\\item 18241\n",
       "\\item 33778\n",
       "\\item 3514\n",
       "\\item 1935\n",
       "\\item 0\n",
       "\\item 2618\n",
       "\\item 5695\n",
       "\\item 9006\n",
       "\\item 1714\n",
       "\\item 7126\n",
       "\\item 29904\n",
       "\\item 3295\n",
       "\\item 7158\n",
       "\\item 1125\n",
       "\\item 1000\n",
       "\\item 0\n",
       "\\item 2183\n",
       "\\item 6873\n",
       "\\item 10461\n",
       "\\item 9440\n",
       "\\item 15126\n",
       "\\item 203\n",
       "\\item 86092\n",
       "\\item 8552\n",
       "\\item 591\n",
       "\\item 2090\n",
       "\\item 10214\n",
       "\\item 5014\n",
       "\\item 3120\n",
       "\\item 138\n",
       "\\item 8499\n",
       "\\item 234\n",
       "\\item 24039\n",
       "\\item 5220\n",
       "\\item 4828\n",
       "\\item 11078\n",
       "\\item 783\n",
       "\\item 964\n",
       "\\item 780\n",
       "\\item 3454\n",
       "\\item 10338\n",
       "\\item 1807\n",
       "\\item 24988\n",
       "\\item 0\n",
       "\\item 537\n",
       "\\item 1258\n",
       "\\item 3970\n",
       "\\item 827\n",
       "\\item 768\n",
       "\\item 2358\n",
       "\\item 313\n",
       "\\item 80\n",
       "\\item 10506\n",
       "\\item 3270\n",
       "\\item 10562\n",
       "\\item 5386\n",
       "\\item 13708\n",
       "\\item 2567\n",
       "\\item 68383\n",
       "\\item 4918\n",
       "\\item 13409\n",
       "\\item 84616\n",
       "\\item 25937\n",
       "\\item 309\n",
       "\\item 461\n",
       "\\item 661\n",
       "\\item 26186\n",
       "\\item 547\n",
       "\\item 8171\n",
       "\\item 18856\n",
       "\\item 93\n",
       "\\item 4477\n",
       "\\item 2872\n",
       "\\item 891\n",
       "\\item 0\n",
       "\\item 716\n",
       "\\item 239\n",
       "\\item 826\n",
       "\\item 2031\n",
       "\\item 815\n",
       "\\item 453\n",
       "\\item 191\n",
       "\\item 3313\n",
       "\\item 11939\n",
       "\\item 6851\n",
       "\\item 1191\n",
       "\\item 1751\n",
       "\\item 9609\n",
       "\\item 10101\n",
       "\\item 981\n",
       "\\item 806\n",
       "\\item 35336\n",
       "\\item 7608\n",
       "\\item 18701\n",
       "\\item 1179\n",
       "\\item 17\n",
       "\\item 2691\n",
       "\\item 249\n",
       "\\item 4762\n",
       "\\item 8198\n",
       "\\item 1703\n",
       "\\item 1088\n",
       "\\item 11035\n",
       "\\item 6054\n",
       "\\item 0\n",
       "\\item 18839\n",
       "\\item 1189\n",
       "\\item 9679\n",
       "\\item 51\n",
       "\\item 3048\n",
       "\\item 3005\n",
       "\\item 1642\n",
       "\\item 36886\n",
       "\\item 2356\n",
       "\\item 20343\n",
       "\\item 3930\n",
       "\\item 2040\n",
       "\\item 1152\n",
       "\\item 8721\n",
       "\\item 11385\n",
       "\\item 7763\n",
       "\\item 11077\n",
       "\\item 1318\n",
       "\\item 13215\n",
       "\\item 11521\n",
       "\\item 3333\n",
       "\\item 5423\n",
       "\\item 14510\n",
       "\\item 305\n",
       "\\item 5404\n",
       "\\item 1364\n",
       "\\item 733\n",
       "\\item 2857\n",
       "\\item 42943\n",
       "\\item 32696\n",
       "\\item 3589\n",
       "\\item 0\n",
       "\\item 24031\n",
       "\\item 15279\n",
       "\\item 3974\n",
       "\\item 68935\n",
       "\\item 1369\n",
       "\\item 152\n",
       "\\item 63961\n",
       "\\item 69067\n",
       "\\item 355\n",
       "\\item 963\n",
       "\\item 3264\n",
       "\\item 7611\n",
       "\\item 27058\n",
       "\\item 11206\n",
       "\\item 3796\n",
       "\\item 25705\n",
       "\\item 964\n",
       "\\item 130\n",
       "\\item 1156\n",
       "\\item 13116\n",
       "\\item 4856\n",
       "\\item 1151\n",
       "\\item 3231\n",
       "\\item 0\n",
       "\\item 143\n",
       "\\item 2520\n",
       "\\item 18681\n",
       "\\item 16381\n",
       "\\item 21210\n",
       "\\item 3626\n",
       "\\item 3757\n",
       "\\item 3234\n",
       "\\item 200\n",
       "\\item 1597\n",
       "\\item 1045\n",
       "\\item 3410\n",
       "\\item 5810\n",
       "\\item 189\n",
       "\\item 7143\n",
       "\\item 19013\n",
       "\\item 10408\n",
       "\\item 5545\n",
       "\\item 6234\n",
       "\\item 10136\n",
       "\\item 200\n",
       "\\item 2191\n",
       "\\item 5074\n",
       "\\item 25291\n",
       "\\item 1477\n",
       "\\item 3209\n",
       "\\item 0\n",
       "\\item 85\n",
       "\\item 7247\n",
       "\\item 1251\n",
       "\\item 2232\n",
       "\\item 5491\n",
       "\\item 43957\n",
       "\\item 4092\n",
       "\\item 1210\n",
       "\\item 0\n",
       "\\item 16361\n",
       "\\item 3739\n",
       "\\item 715\n",
       "\\item 2403\n",
       "\\item 8374\n",
       "\\item 6271\n",
       "\\item 156\n",
       "\\item 6083\n",
       "\\item 593\n",
       "\\item 2533\n",
       "\\item 3229\n",
       "\\item 61785\n",
       "\\item 4580\n",
       "\\item 18599\n",
       "\\item 4336\n",
       "\\item 821\n",
       "\\item 2880\n",
       "\\item 34698\n",
       "\\item 2108\n",
       "\\item 33185\n",
       "\\item 10710\n",
       "\\item 7025\n",
       "\\item 4641\n",
       "\\item 203\n",
       "\\item 7791\n",
       "\\item 490\n",
       "\\item 2884\n",
       "\\item 13763\n",
       "\\item 9517\n",
       "\\item 6016\n",
       "\\item 95019\n",
       "\\item 269\n",
       "\\item 599\n",
       "\\item 729\n",
       "\\item 5647\n",
       "\\item 179\n",
       "\\item 670\n",
       "\\item 35268\n",
       "\\end{enumerate*}\n"
      ],
      "text/markdown": [
       "1. 1986\n",
       "2. 38423\n",
       "3. 202\n",
       "4. 2557\n",
       "5. 2747\n",
       "6. 10436\n",
       "7. 2965\n",
       "8. 98065\n",
       "9. 11144\n",
       "10. 769\n",
       "11. 823\n",
       "12. 3033\n",
       "13. 27829\n",
       "14. 876\n",
       "15. 0\n",
       "16. 18241\n",
       "17. 33778\n",
       "18. 3514\n",
       "19. 1935\n",
       "20. 0\n",
       "21. 2618\n",
       "22. 5695\n",
       "23. 9006\n",
       "24. 1714\n",
       "25. 7126\n",
       "26. 29904\n",
       "27. 3295\n",
       "28. 7158\n",
       "29. 1125\n",
       "30. 1000\n",
       "31. 0\n",
       "32. 2183\n",
       "33. 6873\n",
       "34. 10461\n",
       "35. 9440\n",
       "36. 15126\n",
       "37. 203\n",
       "38. 86092\n",
       "39. 8552\n",
       "40. 591\n",
       "41. 2090\n",
       "42. 10214\n",
       "43. 5014\n",
       "44. 3120\n",
       "45. 138\n",
       "46. 8499\n",
       "47. 234\n",
       "48. 24039\n",
       "49. 5220\n",
       "50. 4828\n",
       "51. 11078\n",
       "52. 783\n",
       "53. 964\n",
       "54. 780\n",
       "55. 3454\n",
       "56. 10338\n",
       "57. 1807\n",
       "58. 24988\n",
       "59. 0\n",
       "60. 537\n",
       "61. 1258\n",
       "62. 3970\n",
       "63. 827\n",
       "64. 768\n",
       "65. 2358\n",
       "66. 313\n",
       "67. 80\n",
       "68. 10506\n",
       "69. 3270\n",
       "70. 10562\n",
       "71. 5386\n",
       "72. 13708\n",
       "73. 2567\n",
       "74. 68383\n",
       "75. 4918\n",
       "76. 13409\n",
       "77. 84616\n",
       "78. 25937\n",
       "79. 309\n",
       "80. 461\n",
       "81. 661\n",
       "82. 26186\n",
       "83. 547\n",
       "84. 8171\n",
       "85. 18856\n",
       "86. 93\n",
       "87. 4477\n",
       "88. 2872\n",
       "89. 891\n",
       "90. 0\n",
       "91. 716\n",
       "92. 239\n",
       "93. 826\n",
       "94. 2031\n",
       "95. 815\n",
       "96. 453\n",
       "97. 191\n",
       "98. 3313\n",
       "99. 11939\n",
       "100. 6851\n",
       "101. 1191\n",
       "102. 1751\n",
       "103. 9609\n",
       "104. 10101\n",
       "105. 981\n",
       "106. 806\n",
       "107. 35336\n",
       "108. 7608\n",
       "109. 18701\n",
       "110. 1179\n",
       "111. 17\n",
       "112. 2691\n",
       "113. 249\n",
       "114. 4762\n",
       "115. 8198\n",
       "116. 1703\n",
       "117. 1088\n",
       "118. 11035\n",
       "119. 6054\n",
       "120. 0\n",
       "121. 18839\n",
       "122. 1189\n",
       "123. 9679\n",
       "124. 51\n",
       "125. 3048\n",
       "126. 3005\n",
       "127. 1642\n",
       "128. 36886\n",
       "129. 2356\n",
       "130. 20343\n",
       "131. 3930\n",
       "132. 2040\n",
       "133. 1152\n",
       "134. 8721\n",
       "135. 11385\n",
       "136. 7763\n",
       "137. 11077\n",
       "138. 1318\n",
       "139. 13215\n",
       "140. 11521\n",
       "141. 3333\n",
       "142. 5423\n",
       "143. 14510\n",
       "144. 305\n",
       "145. 5404\n",
       "146. 1364\n",
       "147. 733\n",
       "148. 2857\n",
       "149. 42943\n",
       "150. 32696\n",
       "151. 3589\n",
       "152. 0\n",
       "153. 24031\n",
       "154. 15279\n",
       "155. 3974\n",
       "156. 68935\n",
       "157. 1369\n",
       "158. 152\n",
       "159. 63961\n",
       "160. 69067\n",
       "161. 355\n",
       "162. 963\n",
       "163. 3264\n",
       "164. 7611\n",
       "165. 27058\n",
       "166. 11206\n",
       "167. 3796\n",
       "168. 25705\n",
       "169. 964\n",
       "170. 130\n",
       "171. 1156\n",
       "172. 13116\n",
       "173. 4856\n",
       "174. 1151\n",
       "175. 3231\n",
       "176. 0\n",
       "177. 143\n",
       "178. 2520\n",
       "179. 18681\n",
       "180. 16381\n",
       "181. 21210\n",
       "182. 3626\n",
       "183. 3757\n",
       "184. 3234\n",
       "185. 200\n",
       "186. 1597\n",
       "187. 1045\n",
       "188. 3410\n",
       "189. 5810\n",
       "190. 189\n",
       "191. 7143\n",
       "192. 19013\n",
       "193. 10408\n",
       "194. 5545\n",
       "195. 6234\n",
       "196. 10136\n",
       "197. 200\n",
       "198. 2191\n",
       "199. 5074\n",
       "200. 25291\n",
       "201. 1477\n",
       "202. 3209\n",
       "203. 0\n",
       "204. 85\n",
       "205. 7247\n",
       "206. 1251\n",
       "207. 2232\n",
       "208. 5491\n",
       "209. 43957\n",
       "210. 4092\n",
       "211. 1210\n",
       "212. 0\n",
       "213. 16361\n",
       "214. 3739\n",
       "215. 715\n",
       "216. 2403\n",
       "217. 8374\n",
       "218. 6271\n",
       "219. 156\n",
       "220. 6083\n",
       "221. 593\n",
       "222. 2533\n",
       "223. 3229\n",
       "224. 61785\n",
       "225. 4580\n",
       "226. 18599\n",
       "227. 4336\n",
       "228. 821\n",
       "229. 2880\n",
       "230. 34698\n",
       "231. 2108\n",
       "232. 33185\n",
       "233. 10710\n",
       "234. 7025\n",
       "235. 4641\n",
       "236. 203\n",
       "237. 7791\n",
       "238. 490\n",
       "239. 2884\n",
       "240. 13763\n",
       "241. 9517\n",
       "242. 6016\n",
       "243. 95019\n",
       "244. 269\n",
       "245. 599\n",
       "246. 729\n",
       "247. 5647\n",
       "248. 179\n",
       "249. 670\n",
       "250. 35268\n",
       "\n",
       "\n"
      ],
      "text/plain": [
       "  [1]  1986 38423   202  2557  2747 10436  2965 98065 11144   769   823  3033\n",
       " [13] 27829   876     0 18241 33778  3514  1935     0  2618  5695  9006  1714\n",
       " [25]  7126 29904  3295  7158  1125  1000     0  2183  6873 10461  9440 15126\n",
       " [37]   203 86092  8552   591  2090 10214  5014  3120   138  8499   234 24039\n",
       " [49]  5220  4828 11078   783   964   780  3454 10338  1807 24988     0   537\n",
       " [61]  1258  3970   827   768  2358   313    80 10506  3270 10562  5386 13708\n",
       " [73]  2567 68383  4918 13409 84616 25937   309   461   661 26186   547  8171\n",
       " [85] 18856    93  4477  2872   891     0   716   239   826  2031   815   453\n",
       " [97]   191  3313 11939  6851  1191  1751  9609 10101   981   806 35336  7608\n",
       "[109] 18701  1179    17  2691   249  4762  8198  1703  1088 11035  6054     0\n",
       "[121] 18839  1189  9679    51  3048  3005  1642 36886  2356 20343  3930  2040\n",
       "[133]  1152  8721 11385  7763 11077  1318 13215 11521  3333  5423 14510   305\n",
       "[145]  5404  1364   733  2857 42943 32696  3589     0 24031 15279  3974 68935\n",
       "[157]  1369   152 63961 69067   355   963  3264  7611 27058 11206  3796 25705\n",
       "[169]   964   130  1156 13116  4856  1151  3231     0   143  2520 18681 16381\n",
       "[181] 21210  3626  3757  3234   200  1597  1045  3410  5810   189  7143 19013\n",
       "[193] 10408  5545  6234 10136   200  2191  5074 25291  1477  3209     0    85\n",
       "[205]  7247  1251  2232  5491 43957  4092  1210     0 16361  3739   715  2403\n",
       "[217]  8374  6271   156  6083   593  2533  3229 61785  4580 18599  4336   821\n",
       "[229]  2880 34698  2108 33185 10710  7025  4641   203  7791   490  2884 13763\n",
       "[241]  9517  6016 95019   269   599   729  5647   179   670 35268"
      ]
     },
     "metadata": {},
     "output_type": "display_data"
    }
   ],
   "source": [
    "aspirin_sample$TOTEXP09[aspirin_sample$aspirin_use == 'Use Aspirin']\n",
    "\n",
    "aspirin_sample$TOTEXP09[aspirin_sample$aspirin_use == 'No Aspirin']\n"
   ]
  },
  {
   "cell_type": "markdown",
   "metadata": {
    "hidden": true
   },
   "source": [
    "Not very easy to compare or see patterns is it? This is where we will employ descriptive analysis and data visualization to make make sense of this information. "
   ]
  },
  {
   "cell_type": "markdown",
   "metadata": {
    "heading_collapsed": true,
    "hidden": true
   },
   "source": [
    "### Additional Information About AERD"
   ]
  },
  {
   "cell_type": "markdown",
   "metadata": {
    "hidden": true
   },
   "source": [
    "Aspirin Exacerbated Respiratory Disease (AERD) is a medical condition consisting of three\n",
    "key features: asthma, chronic/recurrent rhinosinusitis (inflammations of sinuses and nasal cavity), and\n",
    "nasal polyps. The symptoms are a result of an abnormal reaction from the bodies immune system,\n",
    "known as a hypersensitivity reaction, to aspirin. The disorder is thought to be caused by an anomaly in the metabolism of a substance known as arachidonic acid. Medications, such as aspirin, block the COX-1 enzyme, a critical enzyme involved in arachidonic acid metabolism. This leads to increased production of proinflammatory cysteinyl leukotrienes, a series\n",
    "of chemicals involved in the body's inflammatory response. This resulting overproduction cause severe\n",
    "exacerbations of asthma and allergy-like symptoms.\n",
    "\n",
    "<img src=\"https://naveenbhandarkarmd.com/wp-content/uploads/2018/08/Aspirin-Exacerbated-Respiratory-Disease-Dr.-Naveen-Bhandarkar-1.jpg\" align=\"center\" style=\"width: 30%; margin-bottom: 0.5em; margin-top: 0.5em;\">"
   ]
  },
  {
   "cell_type": "markdown",
   "metadata": {
    "heading_collapsed": true
   },
   "source": [
    "## Aspirin Expenditure Summary Statistics"
   ]
  },
  {
   "cell_type": "markdown",
   "metadata": {
    "hidden": true
   },
   "source": [
    "Lets take a look at some summary statistics of the aspirin-taking group. \n",
    "\n",
    "> Note: the below figures express annual expenditure in dollars per person"
   ]
  },
  {
   "cell_type": "code",
   "execution_count": 11,
   "metadata": {
    "ExecuteTime": {
     "end_time": "2019-12-08T07:25:44.739206Z",
     "start_time": "2019-12-08T07:25:44.695Z"
    },
    "hidden": true,
    "scrolled": true
   },
   "outputs": [
    {
     "name": "stdout",
     "output_type": "stream",
     "text": [
      "Mean: 13754.18 SD 17424.09 \n",
      "Median 7791.5 IQR: 13451.75 \n"
     ]
    }
   ],
   "source": [
    "cat(\"Mean:\", mean(aspirin_sample$TOTEXP09[aspirin_sample$aspirin_use == 'Use Aspirin']))\n",
    "cat(\" SD\", sd(aspirin_sample$TOTEXP09[aspirin_sample$aspirin_use == 'Use Aspirin']), \"\\n\") \n",
    "cat(\"Median\", median(aspirin_sample$TOTEXP09[aspirin_sample$aspirin_use == 'Use Aspirin']))\n",
    "cat(\" IQR:\", IQR(aspirin_sample$TOTEXP09[aspirin_sample$aspirin_use == 'Use Aspirin']), \"\\n\")"
   ]
  },
  {
   "cell_type": "markdown",
   "metadata": {
    "hidden": true
   },
   "source": [
    "Lets take a look at some summary statistics of the non-aspirin-taking group. "
   ]
  },
  {
   "cell_type": "code",
   "execution_count": 12,
   "metadata": {
    "ExecuteTime": {
     "end_time": "2019-12-08T07:25:44.816962Z",
     "start_time": "2019-12-08T07:25:44.777Z"
    },
    "hidden": true,
    "scrolled": false
   },
   "outputs": [
    {
     "name": "stdout",
     "output_type": "stream",
     "text": [
      "Mean: 9376.836 SD 16030 \n",
      "Median 3323 IQR: 9343.75 \n"
     ]
    }
   ],
   "source": [
    "cat(\"Mean:\", mean(aspirin_sample$TOTEXP09[aspirin_sample$aspirin_use == 'No Aspirin']))\n",
    "cat(\" SD\", sd(aspirin_sample$TOTEXP09[aspirin_sample$aspirin_use == 'No Aspirin']), \"\\n\") \n",
    "cat(\"Median\", median(aspirin_sample$TOTEXP09[aspirin_sample$aspirin_use == 'No Aspirin']))\n",
    "cat(\" IQR:\", IQR(aspirin_sample$TOTEXP09[aspirin_sample$aspirin_use == 'No Aspirin']), \"\\n\")"
   ]
  },
  {
   "cell_type": "markdown",
   "metadata": {
    "hidden": true
   },
   "source": [
    "Already, we can see that the mean and median annual expenditure is higher in the aspirin-taking group. We can also visually capture the difference using data visualization. "
   ]
  },
  {
   "cell_type": "markdown",
   "metadata": {
    "hidden": true,
    "solution2": "hidden",
    "solution2_first": true
   },
   "source": [
    "**Food For Thought:** When should you use median compared to mean?"
   ]
  },
  {
   "cell_type": "markdown",
   "metadata": {
    "hidden": true,
    "solution2": "hidden"
   },
   "source": [
    "When your data falls in a normal distribution, it is better to use the mean. However, if your data includes extreme values or is skewed, it is better to use the median. \n",
    "\n",
    "<img src=\"https://keydifferences.com/wp-content/uploads/2016/04/mean-vs-median.jpg\" align=\"center\" style=\"margin-bottom: 0.5em; margin-top: 0.5em;\">"
   ]
  },
  {
   "cell_type": "markdown",
   "metadata": {
    "heading_collapsed": true
   },
   "source": [
    "## Visualizing Aspirin Costs With A Histogram"
   ]
  },
  {
   "cell_type": "markdown",
   "metadata": {
    "hidden": true
   },
   "source": [
    "We can compare the shapes of the distributions for each group using a histogram. Below is the histogram for the aspirin-taking sample. "
   ]
  },
  {
   "cell_type": "code",
   "execution_count": 13,
   "metadata": {
    "ExecuteTime": {
     "end_time": "2019-12-08T07:25:45.927197Z",
     "start_time": "2019-12-08T07:25:45.401Z"
    },
    "hidden": true,
    "scrolled": false
   },
   "outputs": [
    {
     "data": {
      "image/png": "[encoded data removed]",
      "text/plain": [
       "plot without title"
      ]
     },
     "metadata": {},
     "output_type": "display_data"
    }
   ],
   "source": [
    "# Create Histogram of Annual Expenditure Among Aspirin Group\n",
    "aspirin_plot <- ggplot(aspirin_sample, aes(x=TOTEXP09, fill=factor(aspirin_use))) + \n",
    "geom_histogram(alpha = 0.4, position='identity', bins = 30) +\n",
    "theme(legend.background = element_rect(fill='gray90'),legend.position='bottom') +\n",
    "labs(fill='Aspirin Usage', x='Annual Healthcare Expenditure', y='Frequency Count') +\n",
    "scale_x_continuous(labels = scales::comma)\n",
    "\n",
    "# Display Histogram\n",
    "aspirin_plot"
   ]
  },
  {
   "cell_type": "markdown",
   "metadata": {
    "hidden": true
   },
   "source": [
    "We can see a difference between the groups. However, it's hard to tell the differences between the two groups due to the x-axis scale. Lets zoom into the first portion of the chart (0 - 50,000) and add references line (representing mean or median). "
   ]
  },
  {
   "cell_type": "markdown",
   "metadata": {
    "hidden": true,
    "solution2": "hidden",
    "solution2_first": true
   },
   "source": [
    "Is the plot for the two histograms normal or skewed? Should we use median or mean then?"
   ]
  },
  {
   "cell_type": "markdown",
   "metadata": {
    "hidden": true,
    "solution2": "hidden"
   },
   "source": [
    "The two plots are positively skewed. This indicates that using median would be better compared to mean. If you're unsure why, please review section 4.3"
   ]
  },
  {
   "cell_type": "code",
   "execution_count": 14,
   "metadata": {
    "ExecuteTime": {
     "end_time": "2019-12-08T07:25:46.948104Z",
     "start_time": "2019-12-08T07:25:45.668Z"
    },
    "hidden": true,
    "scrolled": false
   },
   "outputs": [
    {
     "data": {
      "image/png": "[encoded data removed]",
      "text/plain": [
       "plot without title"
      ]
     },
     "metadata": {},
     "output_type": "display_data"
    }
   ],
   "source": [
    "# Create Median Line\n",
    "median_aspirin <- ddply(aspirin_sample, 'aspirin_use', summarize, grp.median=median(TOTEXP09))\n",
    "median_use <- median(aspirin_sample$TOTEXP09[aspirin_sample$aspirin_use == 'Use Aspirin'])\n",
    "median_no_use <- median(aspirin_sample$TOTEXP09[aspirin_sample$aspirin_use == 'No Aspirin'])\n",
    "\n",
    "# Add Median Line to Histogram\n",
    "suppressMessages(suppressWarnings(print(aspirin_plot + geom_vline(data=median_aspirin, aes(xintercept=grp.median, color=aspirin_use),\n",
    "                          linetype='dashed', show.legend = FALSE) + xlim(0, 40000) + \n",
    "geom_text(aes(x=median_use, label=\"Median: Use Aspirin\", y=40), \n",
    "          colour=\"#00BFC4\", angle=90, vjust = -0.5, check_overlap = TRUE) +\n",
    "geom_text(aes(x=median_no_use, label=\"Median: No Aspirin\", y=40), \n",
    "          colour=\"#F8766D\", angle=90, vjust = -0.5, check_overlap = TRUE))))\n"
   ]
  },
  {
   "cell_type": "markdown",
   "metadata": {
    "hidden": true
   },
   "source": [
    "Much better! Our histogram now shows a clear difference in distribution between the two samples. We can see that the distribution of the group that takes aspirin skews right towards higher annual expenditures."
   ]
  },
  {
   "cell_type": "markdown",
   "metadata": {
    "heading_collapsed": true,
    "hidden": true
   },
   "source": [
    "### Why are the frequency counts lower in the second histogram?"
   ]
  },
  {
   "cell_type": "markdown",
   "metadata": {
    "hidden": true
   },
   "source": [
    "You may have noticed the frequency counts are lower in the 2nd histogram compared to the first. This is due to the fact that histogram are heavily influenced by the number of bins (bars) displayed. Did our data change? It actually did not. This surprisingly large effect was only from focusing on a smaller range of health care expenditures. Keep this in mind when interpreting and using histograms!\n",
    "\n",
    "<img src=\"https://statistics.laerd.com/statistical-guides/img/histogram-4.png\" style=\"width: 80%; margin-bottom: 0.5em;\">\n"
   ]
  },
  {
   "cell_type": "markdown",
   "metadata": {},
   "source": [
    "## Visualizing Aspirin Costs With A Boxplot"
   ]
  },
  {
   "cell_type": "markdown",
   "metadata": {},
   "source": [
    "We can also visually compare the difference in the shapes of the distribution using a box plot. Additional information about interpreting a boxplot can be found in section 4.5.1."
   ]
  },
  {
   "cell_type": "code",
   "execution_count": 15,
   "metadata": {
    "ExecuteTime": {
     "end_time": "2019-12-08T07:25:48.036385Z",
     "start_time": "2019-12-08T07:25:46.406Z"
    },
    "scrolled": false
   },
   "outputs": [
    {
     "data": {
      "image/png": "[encoded data removed]",
      "text/plain": [
       "plot without title"
      ]
     },
     "metadata": {},
     "output_type": "display_data"
    }
   ],
   "source": [
    "# Setting up the plot\n",
    "aspirin_boxplot <- ggplot(aspirin_sample, aes(x=aspirin_use, y=TOTEXP09, fill=factor(aspirin_use))) + \n",
    "stat_boxplot(geom = \"errorbar\", width = 0.4) + geom_boxplot() +\n",
    "theme(legend.background = element_rect(fill='gray90'),legend.position='bottom') +\n",
    "labs(fill='Aspirin Usage', x='Aspirin Usage', y='Annual Healthcare Expenditure') \n",
    "\n",
    "# Display boxplot \n",
    "aspirin_boxplot"
   ]
  },
  {
   "cell_type": "markdown",
   "metadata": {},
   "source": [
    "The main box is very difficult to see due to the large number of points along the tail of each plot. Lets visualize the graph without some of these tail points to better compare the two boxes. "
   ]
  },
  {
   "cell_type": "code",
   "execution_count": 16,
   "metadata": {
    "ExecuteTime": {
     "end_time": "2019-12-08T07:25:49.231991Z",
     "start_time": "2019-12-08T07:25:46.602Z"
    },
    "scrolled": false
   },
   "outputs": [
    {
     "data": {
      "image/png": "[encoded data removed]",
      "text/plain": [
       "plot without title"
      ]
     },
     "metadata": {},
     "output_type": "display_data"
    }
   ],
   "source": [
    "# New boxplot variable\n",
    "aspirin_boxplot2 <- aspirin_boxplot + geom_boxplot(outlier.color = 'transparent') +\n",
    "coord_cartesian(ylim = c(0, 40000))\n",
    "\n",
    "# Display plot outliers\n",
    "aspirin_boxplot2"
   ]
  },
  {
   "cell_type": "markdown",
   "metadata": {},
   "source": [
    "There seems to be a clear difference in cost between the two group. This confirms our clinical suspicion that AERD would increased costs. This observed difference also makes this a good candidate feature (variable) for our prediction model. This is simply one demonstration of how to identify clinically relevant variables for a prediction model!"
   ]
  },
  {
   "cell_type": "markdown",
   "metadata": {},
   "source": [
    "### How To Interpret A Boxplot"
   ]
  },
  {
   "cell_type": "markdown",
   "metadata": {},
   "source": [
    "The boxplot divides data into division known as quartiles. The first quartile (Q1) corresponds to the 25th percentile of the data. The second quartile (Q2) corresponds to the 50th percentile of the data. This is also the median. The third quartile (Q3) corresponds to the 75 percentile of the data. The lines on the box represent Q1, the median, and Q3. The tails or 'whiskers' of the plots represent 1.5 * IQR above and below the Q1 and Q3. \n",
    "\n",
    "<img src=\"https://miro.medium.com/max/1200/1*2c21SkzJMf3frPXPAR_gZA.png\" align=\"center\" style=\"width: 70%; margin-bottom: 0.5em; margin-top: 0.5em;\">"
   ]
  },
  {
   "cell_type": "markdown",
   "metadata": {},
   "source": [
    "In this exercise, we've seen how descriptive analysis can aid us in identifying useful variables for building a prediction model. An important takeaway from this exercise is seeing how clinical knowledge can inform our data analysis. In our case, having an understanding of the pathophysiology of aspirin and asthma allowed us to identify a variable that can lead to higher expenditure from among more than 2000 variables. "
   ]
  },
  {
   "cell_type": "markdown",
   "metadata": {},
   "source": [
    "# Exploratory Analysis and Feature Selection"
   ]
  },
  {
   "cell_type": "markdown",
   "metadata": {},
   "source": [
    "Begin with intuition, confirmed with domain knowledge and data analysis, feature selection\n",
    "\n",
    "AS you can see our original data was over 100 variables. Feature selection is a complicated.\n",
    "\n",
    "This dataset was pre vetted into 54 deemed relevatn variables. LEts make them more understandable now (Give them english names)"
   ]
  },
  {
   "cell_type": "markdown",
   "metadata": {},
   "source": [
    "# Building A Predictive Model"
   ]
  },
  {
   "cell_type": "markdown",
   "metadata": {},
   "source": [
    "We now arrive at building our prediction model. We will be employing logistic regression to conduct a statistical analysis followed by employing machine learning to construct a prediction model. At the end, our goal is to have a product that can identify high-risk/high-cost asthma patients!"
   ]
  },
  {
   "cell_type": "markdown",
   "metadata": {
    "heading_collapsed": true
   },
   "source": [
    "## Loading In Our Data"
   ]
  },
  {
   "cell_type": "markdown",
   "metadata": {
    "hidden": true
   },
   "source": [
    "Once again, we'll load our data into R to begin our analysis. This will allow us to perform analysis on the data. We will be using our created file from Section 3: 'Cleaning our Data'"
   ]
  },
  {
   "cell_type": "code",
   "execution_count": 17,
   "metadata": {
    "ExecuteTime": {
     "end_time": "2019-12-08T07:25:49.359371Z",
     "start_time": "2019-12-08T07:25:49.029Z"
    },
    "hidden": true,
    "scrolled": false
   },
   "outputs": [
    {
     "name": "stdout",
     "output_type": "stream",
     "text": [
      "Data loading, please wait\n",
      "Data loaded!"
     ]
    }
   ],
   "source": [
    "# Reading our data\n",
    "cat('Data loading, please wait\\n')\n",
    "aggregation <- read.csv(file=\"data/aggregation.csv\",  encoding=\"UTF-8\", header=TRUE, sep=\",\")\n",
    "cat('Data loaded!')"
   ]
  },
  {
   "cell_type": "markdown",
   "metadata": {
    "hidden": true
   },
   "source": [
    "Now lets confirm our data has been loaded correctly"
   ]
  },
  {
   "cell_type": "code",
   "execution_count": 18,
   "metadata": {
    "ExecuteTime": {
     "end_time": "2019-12-08T07:25:49.464077Z",
     "start_time": "2019-12-08T07:25:49.201Z"
    },
    "hidden": true,
    "scrolled": false
   },
   "outputs": [
    {
     "name": "stdout",
     "output_type": "stream",
     "text": [
      "Displaying the the first few rows of the data:\n"
     ]
    },
    {
     "data": {
      "text/html": [
       "<table>\n",
       "<thead><tr><th scope=col>DUPERSID</th><th scope=col>REGION09</th><th scope=col>AGE09X</th><th scope=col>SEX</th><th scope=col>RACETHNX</th><th scope=col>SPOUIN09</th><th scope=col>RTHLTH53</th><th scope=col>EMPHDX</th><th scope=col>EMPHAGED</th><th scope=col>CHBRON53</th><th scope=col>ASTHDX</th><th scope=col>ASTHAGED</th><th scope=col>ASTHEP53</th><th scope=col>ASACUT53</th><th scope=col>ASMRCN53</th><th scope=col>ASPREV53</th><th scope=col>ASPKFL53</th><th scope=col>ASWNFL53</th><th scope=col>WLKLIM53</th><th scope=col>WLKDIF53</th><th scope=col>UNABLE53</th><th scope=col>BLIND42</th><th scope=col>CHAPPT42</th><th scope=col>CHBMIX42</th><th scope=col>PHYSCL42</th><th scope=col>CHECK53</th><th scope=col>EXRCIS53</th><th scope=col>ASPRIN53</th><th scope=col>BMINDX53</th><th scope=col>ADAPPT42</th><th scope=col>ADEGMC42</th><th scope=col>ADEXPL42</th><th scope=col>ADPRTM42</th><th scope=col>ADHECR42</th><th scope=col>ADSMOK42</th><th scope=col>ADNSMK42</th><th scope=col>DSFL0953</th><th scope=col>DSFL0853</th><th scope=col>DSFLNV53</th><th scope=col>WKINBD53</th><th scope=col>PMUNAB42</th><th scope=col>PMUNRS42</th><th scope=col>PMUNPR42</th><th scope=col>PMDLAY42</th><th scope=col>OCCCAT53</th><th scope=col>TTLP09X</th><th scope=col>FAMINC09</th><th scope=col>POVLEV09</th><th scope=col>UNINS09</th><th scope=col>INSCOV09</th><th scope=col>INS09X</th><th scope=col>TOTEXP09</th><th scope=col>PERWT09F</th><th scope=col>CONDIDX</th></tr></thead>\n",
       "<tbody>\n",
       "\t<tr><td>40001101   </td><td>2          </td><td>28         </td><td>1          </td><td>4          </td><td>1          </td><td>2          </td><td> 2         </td><td>-1         </td><td> 2         </td><td>1          </td><td>15         </td><td> 1         </td><td> 1         </td><td> 2         </td><td> 1         </td><td> 2         </td><td>-1         </td><td>2          </td><td>-1         </td><td>-1         </td><td>-1         </td><td>-1         </td><td>-1         </td><td>-1         </td><td> 6         </td><td> 2         </td><td> 2         </td><td>26.6       </td><td> 3         </td><td> 4         </td><td> 4         </td><td> 4         </td><td>10         </td><td> 2         </td><td>-1         </td><td>-1         </td><td>-1         </td><td>-1         </td><td>-1         </td><td>2          </td><td>-1         </td><td>-1         </td><td>2          </td><td>-2         </td><td> 48500     </td><td>121000     </td><td> 700.72    </td><td>2          </td><td>1          </td><td>1          </td><td> 1173      </td><td>14251.11   </td><td>4.00011e+11</td></tr>\n",
       "\t<tr><td>40001103   </td><td>2          </td><td> 2         </td><td>1          </td><td>4          </td><td>3          </td><td>2          </td><td>-1         </td><td>-1         </td><td>-1         </td><td>1          </td><td> 0         </td><td> 1         </td><td> 1         </td><td> 2         </td><td> 2         </td><td> 2         </td><td>-1         </td><td>2          </td><td>-1         </td><td>-1         </td><td>-1         </td><td> 5         </td><td>-1         </td><td>-1         </td><td>-1         </td><td>-1         </td><td>-1         </td><td>-1.0       </td><td>-1         </td><td>-1         </td><td>-1         </td><td>-1         </td><td>-1         </td><td>-1         </td><td>-1         </td><td>-1         </td><td>-1         </td><td>-1         </td><td>-1         </td><td>2          </td><td>-1         </td><td>-1         </td><td>2          </td><td>-1         </td><td>     0     </td><td>121000     </td><td> 700.72    </td><td>2          </td><td>1          </td><td>1          </td><td> 3215      </td><td>14803.09   </td><td>4.00011e+11</td></tr>\n",
       "\t<tr><td>40044101   </td><td>2          </td><td>79         </td><td>1          </td><td>4          </td><td>2          </td><td>4          </td><td> 1         </td><td>76         </td><td> 1         </td><td>1          </td><td>65         </td><td>-1         </td><td> 2         </td><td>-1         </td><td> 2         </td><td> 2         </td><td>-1         </td><td>1          </td><td> 3         </td><td> 1         </td><td>-1         </td><td>-1         </td><td>-1         </td><td>-1         </td><td> 1         </td><td> 2         </td><td> 1         </td><td>34.3       </td><td> 6         </td><td> 4         </td><td> 4         </td><td> 4         </td><td>10         </td><td> 2         </td><td>-1         </td><td> 1         </td><td> 1         </td><td> 2         </td><td>-1         </td><td>2          </td><td>-1         </td><td>-1         </td><td>2          </td><td>-1         </td><td> 49570     </td><td> 49570     </td><td> 481.77    </td><td>2          </td><td>1          </td><td>1          </td><td>14951      </td><td>17739.80   </td><td>4.00441e+11</td></tr>\n",
       "\t<tr><td>40050101   </td><td>2          </td><td>41         </td><td>1          </td><td>4          </td><td>1          </td><td>2          </td><td> 2         </td><td>-1         </td><td> 2         </td><td>1          </td><td> 8         </td><td>-1         </td><td> 1         </td><td> 2         </td><td> 1         </td><td> 1         </td><td> 3         </td><td>2          </td><td>-1         </td><td>-1         </td><td>-1         </td><td>-1         </td><td>-1         </td><td>-1         </td><td> 1         </td><td> 1         </td><td> 2         </td><td>31.7       </td><td> 1         </td><td> 4         </td><td> 4         </td><td> 4         </td><td> 8         </td><td> 2         </td><td>-1         </td><td>-1         </td><td>-1         </td><td>-1         </td><td>-1         </td><td>2          </td><td>-1         </td><td>-1         </td><td>2          </td><td>-2         </td><td>199424     </td><td>248131     </td><td>1140.52    </td><td>2          </td><td>1          </td><td>1          </td><td> 3791      </td><td>10588.75   </td><td>4.00501e+11</td></tr>\n",
       "\t<tr><td>40052101   </td><td>3          </td><td>69         </td><td>2          </td><td>4          </td><td>2          </td><td>5          </td><td> 1         </td><td>68         </td><td> 2         </td><td>2          </td><td>-1         </td><td>-1         </td><td>-1         </td><td>-1         </td><td>-1         </td><td>-1         </td><td>-1         </td><td>1          </td><td> 4         </td><td> 1         </td><td> 2         </td><td>-1         </td><td>-1         </td><td>-1         </td><td> 1         </td><td> 2         </td><td> 2         </td><td>25.3       </td><td> 5         </td><td> 4         </td><td> 4         </td><td> 4         </td><td>10         </td><td> 2         </td><td>-1         </td><td> 2         </td><td> 2         </td><td> 2         </td><td>-1         </td><td>2          </td><td>-1         </td><td>-1         </td><td>2          </td><td>-1         </td><td>     0     </td><td> 11000     </td><td>  65.55    </td><td>2          </td><td>2          </td><td>1          </td><td>58604      </td><td> 4936.99   </td><td>4.00521e+11</td></tr>\n",
       "\t<tr><td>40084101   </td><td>2          </td><td>62         </td><td>2          </td><td>4          </td><td>2          </td><td>5          </td><td> 2         </td><td>-1         </td><td> 2         </td><td>1          </td><td>-9         </td><td>-1         </td><td>-9         </td><td>-1         </td><td>-9         </td><td>-9         </td><td>-1         </td><td>1          </td><td> 4         </td><td> 2         </td><td>-1         </td><td>-1         </td><td>-1         </td><td>-1         </td><td> 1         </td><td> 1         </td><td> 2         </td><td>45.9       </td><td> 0         </td><td>-1         </td><td>-1         </td><td>-1         </td><td>-1         </td><td> 2         </td><td>-1         </td><td>-9         </td><td>-9         </td><td>-9         </td><td>-1         </td><td>2          </td><td>-1         </td><td>-1         </td><td>2          </td><td>-1         </td><td>  7200     </td><td>  7200     </td><td>  48.69    </td><td>2          </td><td>2          </td><td>1          </td><td> 3626      </td><td>10424.43   </td><td>4.00841e+11</td></tr>\n",
       "</tbody>\n",
       "</table>\n"
      ],
      "text/latex": [
       "\\begin{tabular}{r|llllllllllllllllllllllllllllllllllllllllllllllllllllll}\n",
       " DUPERSID & REGION09 & AGE09X & SEX & RACETHNX & SPOUIN09 & RTHLTH53 & EMPHDX & EMPHAGED & CHBRON53 & ASTHDX & ASTHAGED & ASTHEP53 & ASACUT53 & ASMRCN53 & ASPREV53 & ASPKFL53 & ASWNFL53 & WLKLIM53 & WLKDIF53 & UNABLE53 & BLIND42 & CHAPPT42 & CHBMIX42 & PHYSCL42 & CHECK53 & EXRCIS53 & ASPRIN53 & BMINDX53 & ADAPPT42 & ADEGMC42 & ADEXPL42 & ADPRTM42 & ADHECR42 & ADSMOK42 & ADNSMK42 & DSFL0953 & DSFL0853 & DSFLNV53 & WKINBD53 & PMUNAB42 & PMUNRS42 & PMUNPR42 & PMDLAY42 & OCCCAT53 & TTLP09X & FAMINC09 & POVLEV09 & UNINS09 & INSCOV09 & INS09X & TOTEXP09 & PERWT09F & CONDIDX\\\\\n",
       "\\hline\n",
       "\t 40001101    & 2           & 28          & 1           & 4           & 1           & 2           &  2          & -1          &  2          & 1           & 15          &  1          &  1          &  2          &  1          &  2          & -1          & 2           & -1          & -1          & -1          & -1          & -1          & -1          &  6          &  2          &  2          & 26.6        &  3          &  4          &  4          &  4          & 10          &  2          & -1          & -1          & -1          & -1          & -1          & 2           & -1          & -1          & 2           & -2          &  48500      & 121000      &  700.72     & 2           & 1           & 1           &  1173       & 14251.11    & 4.00011e+11\\\\\n",
       "\t 40001103    & 2           &  2          & 1           & 4           & 3           & 2           & -1          & -1          & -1          & 1           &  0          &  1          &  1          &  2          &  2          &  2          & -1          & 2           & -1          & -1          & -1          &  5          & -1          & -1          & -1          & -1          & -1          & -1.0        & -1          & -1          & -1          & -1          & -1          & -1          & -1          & -1          & -1          & -1          & -1          & 2           & -1          & -1          & 2           & -1          &      0      & 121000      &  700.72     & 2           & 1           & 1           &  3215       & 14803.09    & 4.00011e+11\\\\\n",
       "\t 40044101    & 2           & 79          & 1           & 4           & 2           & 4           &  1          & 76          &  1          & 1           & 65          & -1          &  2          & -1          &  2          &  2          & -1          & 1           &  3          &  1          & -1          & -1          & -1          & -1          &  1          &  2          &  1          & 34.3        &  6          &  4          &  4          &  4          & 10          &  2          & -1          &  1          &  1          &  2          & -1          & 2           & -1          & -1          & 2           & -1          &  49570      &  49570      &  481.77     & 2           & 1           & 1           & 14951       & 17739.80    & 4.00441e+11\\\\\n",
       "\t 40050101    & 2           & 41          & 1           & 4           & 1           & 2           &  2          & -1          &  2          & 1           &  8          & -1          &  1          &  2          &  1          &  1          &  3          & 2           & -1          & -1          & -1          & -1          & -1          & -1          &  1          &  1          &  2          & 31.7        &  1          &  4          &  4          &  4          &  8          &  2          & -1          & -1          & -1          & -1          & -1          & 2           & -1          & -1          & 2           & -2          & 199424      & 248131      & 1140.52     & 2           & 1           & 1           &  3791       & 10588.75    & 4.00501e+11\\\\\n",
       "\t 40052101    & 3           & 69          & 2           & 4           & 2           & 5           &  1          & 68          &  2          & 2           & -1          & -1          & -1          & -1          & -1          & -1          & -1          & 1           &  4          &  1          &  2          & -1          & -1          & -1          &  1          &  2          &  2          & 25.3        &  5          &  4          &  4          &  4          & 10          &  2          & -1          &  2          &  2          &  2          & -1          & 2           & -1          & -1          & 2           & -1          &      0      &  11000      &   65.55     & 2           & 2           & 1           & 58604       &  4936.99    & 4.00521e+11\\\\\n",
       "\t 40084101    & 2           & 62          & 2           & 4           & 2           & 5           &  2          & -1          &  2          & 1           & -9          & -1          & -9          & -1          & -9          & -9          & -1          & 1           &  4          &  2          & -1          & -1          & -1          & -1          &  1          &  1          &  2          & 45.9        &  0          & -1          & -1          & -1          & -1          &  2          & -1          & -9          & -9          & -9          & -1          & 2           & -1          & -1          & 2           & -1          &   7200      &   7200      &   48.69     & 2           & 2           & 1           &  3626       & 10424.43    & 4.00841e+11\\\\\n",
       "\\end{tabular}\n"
      ],
      "text/markdown": [
       "\n",
       "| DUPERSID | REGION09 | AGE09X | SEX | RACETHNX | SPOUIN09 | RTHLTH53 | EMPHDX | EMPHAGED | CHBRON53 | ASTHDX | ASTHAGED | ASTHEP53 | ASACUT53 | ASMRCN53 | ASPREV53 | ASPKFL53 | ASWNFL53 | WLKLIM53 | WLKDIF53 | UNABLE53 | BLIND42 | CHAPPT42 | CHBMIX42 | PHYSCL42 | CHECK53 | EXRCIS53 | ASPRIN53 | BMINDX53 | ADAPPT42 | ADEGMC42 | ADEXPL42 | ADPRTM42 | ADHECR42 | ADSMOK42 | ADNSMK42 | DSFL0953 | DSFL0853 | DSFLNV53 | WKINBD53 | PMUNAB42 | PMUNRS42 | PMUNPR42 | PMDLAY42 | OCCCAT53 | TTLP09X | FAMINC09 | POVLEV09 | UNINS09 | INSCOV09 | INS09X | TOTEXP09 | PERWT09F | CONDIDX |\n",
       "|---|---|---|---|---|---|---|---|---|---|---|---|---|---|---|---|---|---|---|---|---|---|---|---|---|---|---|---|---|---|---|---|---|---|---|---|---|---|---|---|---|---|---|---|---|---|---|---|---|---|---|---|---|---|\n",
       "| 40001101    | 2           | 28          | 1           | 4           | 1           | 2           |  2          | -1          |  2          | 1           | 15          |  1          |  1          |  2          |  1          |  2          | -1          | 2           | -1          | -1          | -1          | -1          | -1          | -1          |  6          |  2          |  2          | 26.6        |  3          |  4          |  4          |  4          | 10          |  2          | -1          | -1          | -1          | -1          | -1          | 2           | -1          | -1          | 2           | -2          |  48500      | 121000      |  700.72     | 2           | 1           | 1           |  1173       | 14251.11    | 4.00011e+11 |\n",
       "| 40001103    | 2           |  2          | 1           | 4           | 3           | 2           | -1          | -1          | -1          | 1           |  0          |  1          |  1          |  2          |  2          |  2          | -1          | 2           | -1          | -1          | -1          |  5          | -1          | -1          | -1          | -1          | -1          | -1.0        | -1          | -1          | -1          | -1          | -1          | -1          | -1          | -1          | -1          | -1          | -1          | 2           | -1          | -1          | 2           | -1          |      0      | 121000      |  700.72     | 2           | 1           | 1           |  3215       | 14803.09    | 4.00011e+11 |\n",
       "| 40044101    | 2           | 79          | 1           | 4           | 2           | 4           |  1          | 76          |  1          | 1           | 65          | -1          |  2          | -1          |  2          |  2          | -1          | 1           |  3          |  1          | -1          | -1          | -1          | -1          |  1          |  2          |  1          | 34.3        |  6          |  4          |  4          |  4          | 10          |  2          | -1          |  1          |  1          |  2          | -1          | 2           | -1          | -1          | 2           | -1          |  49570      |  49570      |  481.77     | 2           | 1           | 1           | 14951       | 17739.80    | 4.00441e+11 |\n",
       "| 40050101    | 2           | 41          | 1           | 4           | 1           | 2           |  2          | -1          |  2          | 1           |  8          | -1          |  1          |  2          |  1          |  1          |  3          | 2           | -1          | -1          | -1          | -1          | -1          | -1          |  1          |  1          |  2          | 31.7        |  1          |  4          |  4          |  4          |  8          |  2          | -1          | -1          | -1          | -1          | -1          | 2           | -1          | -1          | 2           | -2          | 199424      | 248131      | 1140.52     | 2           | 1           | 1           |  3791       | 10588.75    | 4.00501e+11 |\n",
       "| 40052101    | 3           | 69          | 2           | 4           | 2           | 5           |  1          | 68          |  2          | 2           | -1          | -1          | -1          | -1          | -1          | -1          | -1          | 1           |  4          |  1          |  2          | -1          | -1          | -1          |  1          |  2          |  2          | 25.3        |  5          |  4          |  4          |  4          | 10          |  2          | -1          |  2          |  2          |  2          | -1          | 2           | -1          | -1          | 2           | -1          |      0      |  11000      |   65.55     | 2           | 2           | 1           | 58604       |  4936.99    | 4.00521e+11 |\n",
       "| 40084101    | 2           | 62          | 2           | 4           | 2           | 5           |  2          | -1          |  2          | 1           | -9          | -1          | -9          | -1          | -9          | -9          | -1          | 1           |  4          |  2          | -1          | -1          | -1          | -1          |  1          |  1          |  2          | 45.9        |  0          | -1          | -1          | -1          | -1          |  2          | -1          | -9          | -9          | -9          | -1          | 2           | -1          | -1          | 2           | -1          |   7200      |   7200      |   48.69     | 2           | 2           | 1           |  3626       | 10424.43    | 4.00841e+11 |\n",
       "\n"
      ],
      "text/plain": [
       "  DUPERSID REGION09 AGE09X SEX RACETHNX SPOUIN09 RTHLTH53 EMPHDX EMPHAGED\n",
       "1 40001101 2        28     1   4        1        2         2     -1      \n",
       "2 40001103 2         2     1   4        3        2        -1     -1      \n",
       "3 40044101 2        79     1   4        2        4         1     76      \n",
       "4 40050101 2        41     1   4        1        2         2     -1      \n",
       "5 40052101 3        69     2   4        2        5         1     68      \n",
       "6 40084101 2        62     2   4        2        5         2     -1      \n",
       "  CHBRON53 ASTHDX ASTHAGED ASTHEP53 ASACUT53 ASMRCN53 ASPREV53 ASPKFL53\n",
       "1  2       1      15        1        1        2        1        2      \n",
       "2 -1       1       0        1        1        2        2        2      \n",
       "3  1       1      65       -1        2       -1        2        2      \n",
       "4  2       1       8       -1        1        2        1        1      \n",
       "5  2       2      -1       -1       -1       -1       -1       -1      \n",
       "6  2       1      -9       -1       -9       -1       -9       -9      \n",
       "  ASWNFL53 WLKLIM53 WLKDIF53 UNABLE53 BLIND42 CHAPPT42 CHBMIX42 PHYSCL42\n",
       "1 -1       2        -1       -1       -1      -1       -1       -1      \n",
       "2 -1       2        -1       -1       -1       5       -1       -1      \n",
       "3 -1       1         3        1       -1      -1       -1       -1      \n",
       "4  3       2        -1       -1       -1      -1       -1       -1      \n",
       "5 -1       1         4        1        2      -1       -1       -1      \n",
       "6 -1       1         4        2       -1      -1       -1       -1      \n",
       "  CHECK53 EXRCIS53 ASPRIN53 BMINDX53 ADAPPT42 ADEGMC42 ADEXPL42 ADPRTM42\n",
       "1  6       2        2       26.6      3        4        4        4      \n",
       "2 -1      -1       -1       -1.0     -1       -1       -1       -1      \n",
       "3  1       2        1       34.3      6        4        4        4      \n",
       "4  1       1        2       31.7      1        4        4        4      \n",
       "5  1       2        2       25.3      5        4        4        4      \n",
       "6  1       1        2       45.9      0       -1       -1       -1      \n",
       "  ADHECR42 ADSMOK42 ADNSMK42 DSFL0953 DSFL0853 DSFLNV53 WKINBD53 PMUNAB42\n",
       "1 10        2       -1       -1       -1       -1       -1       2       \n",
       "2 -1       -1       -1       -1       -1       -1       -1       2       \n",
       "3 10        2       -1        1        1        2       -1       2       \n",
       "4  8        2       -1       -1       -1       -1       -1       2       \n",
       "5 10        2       -1        2        2        2       -1       2       \n",
       "6 -1        2       -1       -9       -9       -9       -1       2       \n",
       "  PMUNRS42 PMUNPR42 PMDLAY42 OCCCAT53 TTLP09X FAMINC09 POVLEV09 UNINS09\n",
       "1 -1       -1       2        -2        48500  121000    700.72  2      \n",
       "2 -1       -1       2        -1            0  121000    700.72  2      \n",
       "3 -1       -1       2        -1        49570   49570    481.77  2      \n",
       "4 -1       -1       2        -2       199424  248131   1140.52  2      \n",
       "5 -1       -1       2        -1            0   11000     65.55  2      \n",
       "6 -1       -1       2        -1         7200    7200     48.69  2      \n",
       "  INSCOV09 INS09X TOTEXP09 PERWT09F CONDIDX    \n",
       "1 1        1       1173    14251.11 4.00011e+11\n",
       "2 1        1       3215    14803.09 4.00011e+11\n",
       "3 1        1      14951    17739.80 4.00441e+11\n",
       "4 1        1       3791    10588.75 4.00501e+11\n",
       "5 2        1      58604     4936.99 4.00521e+11\n",
       "6 2        1       3626    10424.43 4.00841e+11"
      ]
     },
     "metadata": {},
     "output_type": "display_data"
    }
   ],
   "source": [
    "# Display the first few rows of the data\n",
    "cat(\"Displaying the the first few rows of the data:\\n\")\n",
    "head(aggregation)"
   ]
  },
  {
   "cell_type": "markdown",
   "metadata": {
    "heading_collapsed": true
   },
   "source": [
    "## Converting Variables Into Categorical Variables"
   ]
  },
  {
   "cell_type": "markdown",
   "metadata": {
    "hidden": true,
    "solution2": "shown",
    "solution2_first": true
   },
   "source": [
    "**Pre-Check:** What is the difference between a quantitative and categorical variable?"
   ]
  },
  {
   "cell_type": "markdown",
   "metadata": {
    "hidden": true,
    "solution2": "shown"
   },
   "source": [
    ">- **Quantitative:** variables whose values are whole numbers (ie. numbers, percents)\n",
    ">- **Categorical:** variables whose values are selected from a group (ie. dog breeds, male/female) "
   ]
  },
  {
   "cell_type": "markdown",
   "metadata": {
    "hidden": true,
    "solution2": "shown"
   },
   "source": [
    "Several of our variables are categorical variables but are mistakenly classified in R as quantitative. This is due their data label being numbers (ie. for `ASPRIN53` 1 = taking aspirin & 2 = not taking aspirin). The code below will convert these variable to categorical. "
   ]
  },
  {
   "cell_type": "code",
   "execution_count": 19,
   "metadata": {
    "ExecuteTime": {
     "end_time": "2019-12-08T07:25:50.045976Z",
     "start_time": "2019-12-08T07:25:49.825Z"
    },
    "hidden": true,
    "scrolled": false,
    "solution2": "shown"
   },
   "outputs": [
    {
     "name": "stdout",
     "output_type": "stream",
     "text": [
      "Data converted successfully"
     ]
    }
   ],
   "source": [
    "# Converting variables to categorical variable type\n",
    "aggregation$REGION09 <- as.factor(aggregation$REGION09)\n",
    "aggregation$SEX <- as.factor(aggregation$SEX)\n",
    "aggregation$RACETHNX <- as.factor(aggregation$RACETHNX)\n",
    "aggregation$SPOUIN09 <- as.factor(aggregation$SPOUIN09)\n",
    "aggregation$RTHLTH53 <- as.factor(aggregation$RTHLTH53)\n",
    "aggregation$EMPHDX <- as.factor(aggregation$EMPHDX)\n",
    "aggregation$CHBRON53 <- as.factor(aggregation$CHBRON53)\n",
    "aggregation$ASTHDX <- as.factor(aggregation$ASTHDX)\n",
    "aggregation$ASACUT53 <- as.factor(aggregation$ASACUT53)\n",
    "aggregation$ASMRCN53 <- as.factor(aggregation$ASMRCN53)\n",
    "aggregation$ASPREV53 <- as.factor(aggregation$ASPREV53)\n",
    "aggregation$ASPKFL53 <- as.factor(aggregation$ASPKFL53)\n",
    "aggregation$ASWNFL53 <- as.factor(aggregation$ASWNFL53)\n",
    "aggregation$WLKLIM53 <- as.factor(aggregation$WLKLIM53)\n",
    "aggregation$WLKDIF53 <- as.factor(aggregation$WLKDIF53)\n",
    "aggregation$UNABLE53 <- as.factor(aggregation$UNABLE53)\n",
    "aggregation$BLIND42 <- as.factor(aggregation$BLIND42)\n",
    "aggregation$PHYSCL42 <- as.factor(aggregation$PHYSCL42)\n",
    "aggregation$EXRCIS53 <- as.factor(aggregation$EXRCIS53)\n",
    "aggregation$ASPRIN53 <- as.factor(aggregation$ASPRIN53)\n",
    "aggregation$ADEGMC42 <- as.factor(aggregation$ADEGMC42)\n",
    "aggregation$ADEXPL42 <- as.factor(aggregation$ADEXPL42)\n",
    "aggregation$ADPRTM42 <- as.factor(aggregation$ADPRTM42)\n",
    "aggregation$ADSMOK42 <- as.factor(aggregation$ADSMOK42)\n",
    "aggregation$ADNSMK42 <- as.factor(aggregation$ADNSMK42)\n",
    "aggregation$DSFL0953 <- as.factor(aggregation$DSFL0953)\n",
    "aggregation$DSFL0853 <- as.factor(aggregation$DSFL0853)\n",
    "aggregation$DSFLNV53 <- as.factor(aggregation$DSFLNV53)\n",
    "aggregation$PMUNAB42 <- as.factor(aggregation$PMUNAB42)\n",
    "aggregation$PMUNRS42 <- as.factor(aggregation$PMUNRS42)\n",
    "aggregation$PMUNPR42 <- as.factor(aggregation$PMUNPR42)\n",
    "aggregation$PMDLAY42 <- as.factor(aggregation$PMDLAY42)\n",
    "aggregation$OCCCAT53 <- as.factor(aggregation$OCCCAT53)\n",
    "aggregation$UNINS09 <- as.factor(aggregation$UNINS09)\n",
    "aggregation$INSCOV09 <- as.factor(aggregation$INSCOV09)\n",
    "aggregation$INS09X <- as.factor(aggregation$INS09X)\n",
    "\n",
    "cat('Data converted successfully')"
   ]
  },
  {
   "cell_type": "markdown",
   "metadata": {
    "heading_collapsed": true,
    "hidden": true
   },
   "source": [
    "### Why Is Classifying Variables Correctly Important?"
   ]
  },
  {
   "cell_type": "markdown",
   "metadata": {
    "hidden": true
   },
   "source": [
    "Having a classifying variables as the correct data type is critical because certain statistical and analytical measurements can only be used for specific data types. For instance, we can graph quantitative data using a histogram but not categorical data. On the other hand, logistic regression can measure the outcome of a type of categorical variable known as a binary variable (ie. yes/no, high-risk/low-risk) but is unable to measure the outcome of quantitative variables. "
   ]
  },
  {
   "cell_type": "markdown",
   "metadata": {},
   "source": [
    "## Defining High- and Low- Risk Patients"
   ]
  },
  {
   "cell_type": "markdown",
   "metadata": {},
   "source": [
    "Next, we need to define what a low-risk or high-risk patient is so we can evaluate train and evaluate the performance of our prediction model. "
   ]
  },
  {
   "cell_type": "markdown",
   "metadata": {},
   "source": [
    "We will begin descriptively examining our data"
   ]
  },
  {
   "cell_type": "code",
   "execution_count": 20,
   "metadata": {
    "ExecuteTime": {
     "end_time": "2019-12-08T07:25:50.802762Z",
     "start_time": "2019-12-08T07:25:50.659Z"
    },
    "scrolled": false
   },
   "outputs": [
    {
     "data": {
      "text/plain": [
       "   Min. 1st Qu.  Median    Mean 3rd Qu.    Max. \n",
       "      0     601    2122    7318    6825  290987 "
      ]
     },
     "metadata": {},
     "output_type": "display_data"
    },
    {
     "data": {
      "image/png": "[encoded data removed]",
      "text/plain": [
       "Plot with title \"Histogram of Annual Medical Expenditure\""
      ]
     },
     "metadata": {},
     "output_type": "display_data"
    }
   ],
   "source": [
    "# Summary statistics for annual healthcare expenditure\n",
    "summary (aggregation$TOTEXP09)\n",
    "\n",
    "# Histogram of annual healthcare expenditure\n",
    "hist(aggregation$TOTEXP09, col = 'lightblue', xlab = \"Annual Medical Expenditure\", \n",
    "     main = \"Histogram of Annual Medical Expenditure\", breaks = 20)"
   ]
  },
  {
   "cell_type": "markdown",
   "metadata": {
    "solution2": "hidden",
    "solution2_first": true
   },
   "source": [
    "From our analysis, we can see the that the distribution for annual medical expenditure is not a normal distribution. \n",
    "\n",
    "**Knowledge Check:** Based our distribution, should we use mean or median?"
   ]
  },
  {
   "cell_type": "markdown",
   "metadata": {
    "solution2": "hidden"
   },
   "source": [
    "A non-normal distribution indicates that median would be a better measure of central tendency. \n",
    "\n",
    "The median provides us a useful measure for defining high- and low- risk. Since individuals above the median annual expenditure represent the largest 1/2 of expenditure values, we can classify these individuals as high-risk. Since individuals below the median annual expenditure represent the smalled 1/2 of expenditure values, we can classify these individuals as low-risk. In summary\n",
    "\n",
    "> **High-risk** patients are defined as those with annual medical expenditures **>= 2122**\n",
    "> **Low-risk** patients are defined as those with annual medical expenditures **<= 2122**"
   ]
  },
  {
   "cell_type": "markdown",
   "metadata": {},
   "source": [
    "The below code will convert our expenditure into binary risk categories"
   ]
  },
  {
   "cell_type": "markdown",
   "metadata": {},
   "source": [
    "<img align=\"left\" width=\"100\" height=\"100\" src=\"https://cdn-01.media-brady.com/store/stus/media/catalog/product/cache/4/image/85e4522595efc69f496374d01ef2bf13/1544627174/r/e/reflective-warning-signs-caution-ac0563-lg.jpg\" style=\"padding-right: 10px\">If you run the below code more than once, please restart the exercise. Running it more than once will cause errors in our later prediction model. Do not run the code cell again after you see the 'Labeling complete' text!\n"
   ]
  },
  {
   "cell_type": "code",
   "execution_count": 21,
   "metadata": {
    "ExecuteTime": {
     "end_time": "2019-12-08T07:25:51.132470Z",
     "start_time": "2019-12-08T07:25:51.074Z"
    },
    "scrolled": false
   },
   "outputs": [
    {
     "name": "stdout",
     "output_type": "stream",
     "text": [
      "Labeling complete!"
     ]
    }
   ],
   "source": [
    "# Labeling indviduals as high or low risk\n",
    "aggregation$TOTEXP09 <- ifelse(aggregation$TOTEXP09 >= 2122, \"high_risk\", \"low_risk\")\n",
    "cat('Labeling complete!')"
   ]
  },
  {
   "cell_type": "markdown",
   "metadata": {},
   "source": [
    "## Analyzing Our Data: Logistic Regression "
   ]
  },
  {
   "cell_type": "markdown",
   "metadata": {},
   "source": [
    "Now that our variables have been successfully converted and our outcome has been defined, we can analyze our data. Logistic regression is a mathematical model that estimates the probability of a binary outcomes (such as our risk label). It is named after the logistic curve which takes the S-shape depicted below.\n",
    "<img src=\"https://upload.wikimedia.org/wikipedia/commons/thumb/8/88/Logistic-curve.svg/640px-Logistic-curve.svg.png?1566122052688\" alt=\"Logistic Curve\" title=\"Logistic Curve\" />"
   ]
  },
  {
   "cell_type": "markdown",
   "metadata": {
    "solution2": "hidden",
    "solution2_first": true
   },
   "source": [
    "**Pre-Check:** What is our primary outcome? What information will a logistic regression model tell use about our outcome?"
   ]
  },
  {
   "cell_type": "markdown",
   "metadata": {
    "solution2": "hidden"
   },
   "source": [
    "Our primary outcome is whether an individual is a high or low risk asthmatic individual. It will allow us to analyze which variables have a statistically significant effect on whether an asthmatic individual is high- or low-risk while controlling for other variables. Logistic regression is a commonly used technique in health analytics because it is easy to interpret and is thought to model the multi-factorial causes of disease well. "
   ]
  },
  {
   "cell_type": "markdown",
   "metadata": {
    "solution2": "shown",
    "solution2_first": true
   },
   "source": [
    "**Follow-Up:** What is statistical significance? What is a generally accepted level of statistical significance in healthcare research?"
   ]
  },
  {
   "cell_type": "markdown",
   "metadata": {
    "solution2": "shown"
   },
   "source": [
    "Statistical Significance can be defined as the chance that the relationship you observed in your data occurred by chance. What does this mean? Lets say our logistic regression model finds that weight has a statistically significant effect on being high risk or low risk asthmatic patient. This means that it more likely that there is indeed a relationship between weight and risk than chance would suggest. \n",
    "\n",
    "The conventional level of significance that is accepted is < 0.05 (this number is referred to as a p-value). This means that there is less than 5% chance that the observed relationship in the data was due to chance alone. The image below display a sample R output.\n",
    "\n",
    "<img src=\"https://drchrispook.files.wordpress.com/2017/02/anova-output-from-r1.jpg\" align=\"center\" style=\"margin-bottom: 0.5em; margin-top: 0.5em;\">"
   ]
  },
  {
   "cell_type": "markdown",
   "metadata": {
    "solution2": "shown"
   },
   "source": [
    "By converting expenditure into 'high-risk' or 'low-risk', we've converted expenditure from a quantitative variable into a categorical variable. We now need to change the data type in R to reflect this. "
   ]
  },
  {
   "cell_type": "code",
   "execution_count": 22,
   "metadata": {
    "ExecuteTime": {
     "end_time": "2019-12-08T07:25:51.824837Z",
     "start_time": "2019-12-08T07:25:51.781Z"
    },
    "scrolled": false,
    "solution2": "shown"
   },
   "outputs": [],
   "source": [
    "# Expenditure is now a categorical variable. Below code is converting it to a categorical variable. \n",
    "aggregation$TOTEXP09 <- as.factor(aggregation$TOTEXP09)"
   ]
  },
  {
   "cell_type": "markdown",
   "metadata": {
    "solution2": "shown"
   },
   "source": [
    "We can now create our logistic model. The output below may be overwhelming. Simply look for the lines with `*`'s. These indicate variable that have a statistically significant effect on asthma expenditure. "
   ]
  },
  {
   "cell_type": "code",
   "execution_count": 23,
   "metadata": {
    "ExecuteTime": {
     "end_time": "2019-12-08T07:25:52.744407Z",
     "start_time": "2019-12-08T07:25:51.944Z"
    },
    "scrolled": false,
    "solution2": "shown"
   },
   "outputs": [
    {
     "name": "stderr",
     "output_type": "stream",
     "text": [
      "Warning message:\n",
      "\"glm.fit: fitted probabilities numerically 0 or 1 occurred\""
     ]
    },
    {
     "data": {
      "text/plain": [
       "\n",
       "Call:\n",
       "glm(formula = TOTEXP09 ~ ., family = \"binomial\", data = aggregation[, \n",
       "    c(2:39, 41:53)])\n",
       "\n",
       "Deviance Residuals: \n",
       "     Min        1Q    Median        3Q       Max  \n",
       "-2.93384  -0.68866  -0.00012   0.72097   2.70690  \n",
       "\n",
       "Coefficients: (23 not defined because of singularities)\n",
       "              Estimate Std. Error z value Pr(>|z|)    \n",
       "(Intercept) -5.749e+01  6.156e+03  -0.009 0.992549    \n",
       "REGION091   -1.391e+01  8.135e+02  -0.017 0.986359    \n",
       "REGION092   -1.394e+01  8.135e+02  -0.017 0.986328    \n",
       "REGION093   -1.361e+01  8.135e+02  -0.017 0.986656    \n",
       "REGION094   -1.346e+01  8.135e+02  -0.017 0.986795    \n",
       "AGE09X      -2.475e-02  5.962e-03  -4.150 3.32e-05 ***\n",
       "SEX2        -1.837e-01  1.187e-01  -1.547 0.121781    \n",
       "RACETHNX2   -9.531e-02  1.675e-01  -0.569 0.569423    \n",
       "RACETHNX3   -1.318e-01  2.958e-01  -0.446 0.655776    \n",
       "RACETHNX4   -3.781e-01  1.670e-01  -2.264 0.023550 *  \n",
       "SPOUIN092    3.678e-01  1.612e-01   2.282 0.022509 *  \n",
       "SPOUIN093   -9.766e-03  3.622e-01  -0.027 0.978491    \n",
       "RTHLTH53-1   1.253e+01  3.754e+03   0.003 0.997337    \n",
       "RTHLTH531    1.226e+01  2.400e+03   0.005 0.995922    \n",
       "RTHLTH532    1.189e+01  2.400e+03   0.005 0.996048    \n",
       "RTHLTH533    1.185e+01  2.400e+03   0.005 0.996060    \n",
       "RTHLTH534    1.145e+01  2.400e+03   0.005 0.996193    \n",
       "RTHLTH535    1.142e+01  2.400e+03   0.005 0.996204    \n",
       "EMPHDX-7     1.488e+00  3.886e+03   0.000 0.999694    \n",
       "EMPHDX-1     3.254e+01  3.393e+03   0.010 0.992350    \n",
       "EMPHDX1      1.491e+01  2.400e+03   0.006 0.995041    \n",
       "EMPHDX2      1.604e+01  2.400e+03   0.007 0.994668    \n",
       "EMPHAGED     1.686e-02  1.617e-02   1.043 0.297017    \n",
       "CHBRON53-8   1.924e+00  1.451e+00   1.326 0.184859    \n",
       "CHBRON53-7          NA         NA      NA       NA    \n",
       "CHBRON53-1  -1.458e+01  2.400e+03  -0.006 0.995152    \n",
       "CHBRON531   -9.785e-02  2.542e-01  -0.385 0.700335    \n",
       "CHBRON532           NA         NA      NA       NA    \n",
       "ASTHDX1      3.243e+01  3.393e+03   0.010 0.992375    \n",
       "ASTHDX2      3.402e+01  3.842e+03   0.009 0.992935    \n",
       "ASTHAGED    -4.738e-03  4.352e-03  -1.089 0.276296    \n",
       "ASTHEP53     4.331e-02  4.319e-02   1.003 0.316026    \n",
       "ASACUT53-8  -2.010e-01  1.372e+00  -0.146 0.883534    \n",
       "ASACUT53-7   3.424e+01  2.748e+03   0.012 0.990060    \n",
       "ASACUT53-1  -1.843e+00  1.800e+03  -0.001 0.999183    \n",
       "ASACUT531   -5.944e-01  1.118e+00  -0.531 0.595112    \n",
       "ASACUT532   -1.267e-01  7.723e-01  -0.164 0.869647    \n",
       "ASMRCN53-1          NA         NA      NA       NA    \n",
       "ASMRCN531   -4.194e-02  8.364e-01  -0.050 0.960008    \n",
       "ASMRCN532    2.435e-01  8.233e-01   0.296 0.767380    \n",
       "ASPREV53-8  -2.532e-01  6.669e-01  -0.380 0.704206    \n",
       "ASPREV53-7  -3.203e+00  2.748e+03  -0.001 0.999070    \n",
       "ASPREV53-1          NA         NA      NA       NA    \n",
       "ASPREV531   -5.305e-01  1.256e-01  -4.223 2.41e-05 ***\n",
       "ASPREV532           NA         NA      NA       NA    \n",
       "ASPKFL53-8   9.003e-01  9.070e-01   0.993 0.320900    \n",
       "ASPKFL53-7          NA         NA      NA       NA    \n",
       "ASPKFL53-1          NA         NA      NA       NA    \n",
       "ASPKFL531   -2.855e-03  2.451e-01  -0.012 0.990706    \n",
       "ASPKFL532           NA         NA      NA       NA    \n",
       "ASWNFL53-1  -1.642e+00  2.065e+00  -0.795 0.426700    \n",
       "ASWNFL531   -1.055e+00  2.079e+00  -0.507 0.611879    \n",
       "ASWNFL532   -1.745e+00  2.081e+00  -0.838 0.401925    \n",
       "ASWNFL533   -1.753e+00  2.062e+00  -0.851 0.395030    \n",
       "WLKLIM53-7   1.720e+01  2.400e+03   0.007 0.994279    \n",
       "WLKLIM53-1          NA         NA      NA       NA    \n",
       "WLKLIM531   -1.435e+01  2.400e+03  -0.006 0.995230    \n",
       "WLKLIM532    1.251e-01  9.585e-01   0.131 0.896161    \n",
       "WLKDIF53-1          NA         NA      NA       NA    \n",
       "WLKDIF531    1.365e+01  2.400e+03   0.006 0.995460    \n",
       "WLKDIF532    1.420e+01  2.400e+03   0.006 0.995277    \n",
       "WLKDIF533    1.423e+01  2.400e+03   0.006 0.995269    \n",
       "WLKDIF534    1.430e+01  2.400e+03   0.006 0.995246    \n",
       "UNABLE53-1   1.514e+01  1.639e+03   0.009 0.992631    \n",
       "UNABLE531    1.375e+01  1.639e+03   0.008 0.993308    \n",
       "UNABLE532    1.420e+01  1.639e+03   0.009 0.993089    \n",
       "BLIND421    -1.029e+00  1.251e+00  -0.823 0.410475    \n",
       "BLIND422    -5.493e-01  2.488e-01  -2.207 0.027285 *  \n",
       "CHAPPT42    -3.112e-01  4.438e-02  -7.012 2.34e-12 ***\n",
       "CHBMIX42    -6.517e-03  6.816e-03  -0.956 0.338993    \n",
       "PHYSCL42-1  -1.123e+00  8.446e-01  -1.330 0.183604    \n",
       "PHYSCL421   -1.320e+00  8.117e-01  -1.626 0.103889    \n",
       "PHYSCL422   -7.728e-01  8.108e-01  -0.953 0.340561    \n",
       "CHECK53      9.103e-02  4.265e-02   2.134 0.032816 *  \n",
       "EXRCIS53-1          NA         NA      NA       NA    \n",
       "EXRCIS531   -1.768e+00  6.179e-01  -2.862 0.004211 ** \n",
       "EXRCIS532   -1.547e+00  6.180e-01  -2.504 0.012274 *  \n",
       "ASPRIN53-7  -1.079e+01  1.339e+03  -0.008 0.993572    \n",
       "ASPRIN53-1          NA         NA      NA       NA    \n",
       "ASPRIN531    2.398e+00  1.394e+00   1.720 0.085468 .  \n",
       "ASPRIN532    2.464e+00  1.387e+00   1.777 0.075537 .  \n",
       "BMINDX53    -1.084e-03  8.369e-03  -0.130 0.896920    \n",
       "ADAPPT42    -1.944e-01  3.473e-02  -5.598 2.17e-08 ***\n",
       "ADEGMC42-1   1.790e-01  7.324e-01   0.244 0.806872    \n",
       "ADEGMC421   -8.312e-01  9.134e-01  -0.910 0.362860    \n",
       "ADEGMC422   -4.010e-01  7.696e-01  -0.521 0.602336    \n",
       "ADEGMC423   -3.624e-01  7.347e-01  -0.493 0.621794    \n",
       "ADEGMC424   -4.308e-01  7.222e-01  -0.596 0.550842    \n",
       "ADEXPL42-1  -5.870e-01  1.009e+00  -0.582 0.560844    \n",
       "ADEXPL421    3.356e+00  1.335e+00   2.513 0.011970 *  \n",
       "ADEXPL422    3.297e+00  1.200e+00   2.748 0.006001 ** \n",
       "ADEXPL423    2.542e+00  1.167e+00   2.179 0.029361 *  \n",
       "ADEXPL424    2.627e+00  1.149e+00   2.287 0.022205 *  \n",
       "ADPRTM42-1          NA         NA      NA       NA    \n",
       "ADPRTM421   -3.350e+00  1.269e+00  -2.640 0.008299 ** \n",
       "ADPRTM422   -3.206e+00  1.234e+00  -2.598 0.009384 ** \n",
       "ADPRTM423   -3.628e+00  1.247e+00  -2.909 0.003623 ** \n",
       "ADPRTM424   -3.615e+00  1.262e+00  -2.865 0.004169 ** \n",
       "ADHECR42     5.402e-02  4.533e-02   1.192 0.233307    \n",
       "ADSMOK42-1  -1.936e-01  7.214e-01  -0.268 0.788371    \n",
       "ADSMOK421    7.808e-01  8.644e-01   0.903 0.366371    \n",
       "ADSMOK422    3.015e-01  6.578e-01   0.458 0.646752    \n",
       "ADNSMK42-1          NA         NA      NA       NA    \n",
       "ADNSMK421   -8.308e-01  8.621e-01  -0.964 0.335180    \n",
       "ADNSMK422   -2.654e-01  9.099e-01  -0.292 0.770510    \n",
       "ADNSMK423    3.017e-01  1.106e+00   0.273 0.785044    \n",
       "DSFL0953-1   6.452e-01  1.443e+00   0.447 0.654787    \n",
       "DSFL09531    8.851e-01  1.502e+00   0.589 0.555542    \n",
       "DSFL09532   -1.322e+00  1.609e+00  -0.822 0.411044    \n",
       "DSFL0853-1          NA         NA      NA       NA    \n",
       "DSFL08531   -1.687e+00  6.496e-01  -2.598 0.009384 ** \n",
       "DSFL08532           NA         NA      NA       NA    \n",
       "DSFLNV53-1          NA         NA      NA       NA    \n",
       "DSFLNV531    1.102e+00  9.182e-01   1.200 0.230125    \n",
       "DSFLNV532           NA         NA      NA       NA    \n",
       "PMUNAB42-1  -1.355e+01  2.400e+03  -0.006 0.995495    \n",
       "PMUNAB421   -4.387e+01  4.156e+03  -0.011 0.991578    \n",
       "PMUNAB422   -2.948e+01  3.393e+03  -0.009 0.993070    \n",
       "PMUNRS42-1          NA         NA      NA       NA    \n",
       "PMUNRS421   -1.438e+00  3.393e+03   0.000 0.999662    \n",
       "PMUNRS422   -2.985e+00  3.393e+03  -0.001 0.999298    \n",
       "PMUNRS424   -1.629e+01  4.156e+03  -0.004 0.996872    \n",
       "PMUNRS428   -1.712e+01  4.156e+03  -0.004 0.996713    \n",
       "PMUNRS4291  -2.614e+00  3.393e+03  -0.001 0.999385    \n",
       "PMUNPR42-8   6.596e+00  3.393e+03   0.002 0.998449    \n",
       "PMUNPR42-1          NA         NA      NA       NA    \n",
       "PMUNPR421    1.659e+01  2.400e+03   0.007 0.994484    \n",
       "PMUNPR422    1.694e+01  2.400e+03   0.007 0.994368    \n",
       "PMUNPR423    1.728e+01  2.400e+03   0.007 0.994254    \n",
       "PMDLAY42-1          NA         NA      NA       NA    \n",
       "PMDLAY421    1.568e+01  2.400e+03   0.007 0.994787    \n",
       "PMDLAY422    1.602e+01  2.400e+03   0.007 0.994674    \n",
       "OCCCAT53-2   1.457e+01  2.400e+03   0.006 0.995155    \n",
       "OCCCAT53-1   1.424e+01  2.400e+03   0.006 0.995263    \n",
       "OCCCAT531    1.432e+01  2.400e+03   0.006 0.995239    \n",
       "OCCCAT532    1.473e+01  2.400e+03   0.006 0.995102    \n",
       "OCCCAT533    1.348e+01  2.400e+03   0.006 0.995517    \n",
       "OCCCAT534    1.403e+01  2.400e+03   0.006 0.995335    \n",
       "OCCCAT535    1.487e+01  2.400e+03   0.006 0.995055    \n",
       "OCCCAT536    2.923e+01  3.393e+03   0.009 0.993126    \n",
       "OCCCAT537    2.899e+01  3.393e+03   0.009 0.993184    \n",
       "OCCCAT538    1.454e+01  2.400e+03   0.006 0.995165    \n",
       "OCCCAT5311   2.821e+01  3.393e+03   0.008 0.993367    \n",
       "TTLP09X      1.774e-06  3.823e-06   0.464 0.642706    \n",
       "FAMINC09     4.504e-06  3.357e-06   1.342 0.179662    \n",
       "POVLEV09    -1.590e-03  7.097e-04  -2.241 0.025034 *  \n",
       "UNINS092    -1.159e+00  3.475e-01  -3.335 0.000854 ***\n",
       "INSCOV092    1.050e-01  1.511e-01   0.695 0.487185    \n",
       "INSCOV093           NA         NA      NA       NA    \n",
       "INS09X1     -3.956e-01  2.716e-01  -1.456 0.145314    \n",
       "INS09X2             NA         NA      NA       NA    \n",
       "PERWT09F    -8.737e-06  1.039e-05  -0.841 0.400616    \n",
       "---\n",
       "Signif. codes:  0 '***' 0.001 '**' 0.01 '*' 0.05 '.' 0.1 ' ' 1\n",
       "\n",
       "(Dispersion parameter for binomial family taken to be 1)\n",
       "\n",
       "    Null deviance: 3292.4  on 2374  degrees of freedom\n",
       "Residual deviance: 2121.1  on 2246  degrees of freedom\n",
       "AIC: 2379.1\n",
       "\n",
       "Number of Fisher Scoring iterations: 15\n"
      ]
     },
     "metadata": {},
     "output_type": "display_data"
    }
   ],
   "source": [
    "# Creating a logistic regression model\n",
    "# Note: DUPERSID is a personal ID and CONDIDX is an independent variable. For these reasons, these variables were not\n",
    "# included in the model\n",
    "mylogit <- glm(TOTEXP09 ~ ., data = aggregation[,c(2:39,41:53)], family = \"binomial\")\n",
    "mylogit.sum <- summary(mylogit)\n",
    "mylogit.sum"
   ]
  },
  {
   "cell_type": "markdown",
   "metadata": {
    "solution2": "shown"
   },
   "source": [
    "The above model allows us to see what variables are considred to have a statically significant effect on risk for high healthcare expenditure. For instance, `AGE09X`(age) has a statistically significant effect with a p-value of 0.0000332. Interestingly, `ASPRIN53`(aspirin) was not considered a statistically significant variable (although the p-value is close to 0.05). This could be for a variety of factor such as a confounding variable present in our model. "
   ]
  },
  {
   "cell_type": "markdown",
   "metadata": {
    "heading_collapsed": true
   },
   "source": [
    "## Building a Prediction Model"
   ]
  },
  {
   "cell_type": "markdown",
   "metadata": {
    "hidden": true,
    "solution2": "hidden",
    "solution2_first": true
   },
   "source": [
    "**Pre-Check:** So far we haven't done any machine learning yet. What we've done can be considered traditional statistical analyses. What is Machine Learning?"
   ]
  },
  {
   "cell_type": "markdown",
   "metadata": {
    "hidden": true,
    "solution2": "hidden"
   },
   "source": [
    "In machine learning, data is split into a training and test set. A machine learning model is then trainined on the training set to predict whatever outcome of interest it was designed to predict (in our case we're predicting whether the asthmatic patient is high- or low- risk). The models predictive performance is then evaluated using the test set. \n",
    "\n",
    "<img src=\"https://www.sqlservercentral.com/wp-content/uploads/2019/05/Image-2.jpg\" align=\"center\" style=\"margin-bottom: 0.5em; margin-top: 0.5em;\">"
   ]
  },
  {
   "cell_type": "markdown",
   "metadata": {
    "hidden": true
   },
   "source": [
    "We now need to split our data into training and test data. We will be splitting our data into 80% training data and 20% test data. "
   ]
  },
  {
   "cell_type": "code",
   "execution_count": 24,
   "metadata": {
    "ExecuteTime": {
     "end_time": "2019-12-08T07:25:52.820279Z",
     "start_time": "2019-12-08T07:25:52.614Z"
    },
    "hidden": true,
    "scrolled": false
   },
   "outputs": [
    {
     "name": "stdout",
     "output_type": "stream",
     "text": [
      "The number of traning data observations: 1895 \n",
      "The number of test data observations: 474"
     ]
    }
   ],
   "source": [
    "## In the test set, there were attribute values that were not seen in the training set.\n",
    "## So, we have to remove those instances.\n",
    "adjusted <- subset(aggregation, PMUNAB42 != -8 )\n",
    "adjusted <- subset(adjusted, WLKLIM53 != -7 )\n",
    "adjusted <- subset(adjusted, PMUNPR42 != -8 & PMUNRS42 != 4 & PMUNRS42 != 8  )\n",
    "adjusted <- subset(adjusted, OCCCAT53 != 6  )\n",
    "\n",
    "# Setting seed value to reproduce results of random sampling\n",
    "set.seed(129)\n",
    "\n",
    "# row positions for training data\n",
    "trainingRowIndex <- sample(1:nrow(adjusted), 0.8*nrow(adjusted))  \n",
    "\n",
    "# Creating training data\n",
    "trainingData <- adjusted[trainingRowIndex, ]  \n",
    "cat('The number of traning data observations:', length(trainingData$TOTEXP09), '\\n') # Checking the amount of training data\n",
    "\n",
    "# Creating test data\n",
    "testData  <- adjusted[-trainingRowIndex, ]  \n",
    "cat('The number of test data observations:', length(testData$TOTEXP09)) # Checking the amount of test data"
   ]
  },
  {
   "cell_type": "markdown",
   "metadata": {
    "hidden": true
   },
   "source": [
    "Now that we've created our training and test data, we need to build our machine learning model. "
   ]
  },
  {
   "cell_type": "code",
   "execution_count": 25,
   "metadata": {
    "ExecuteTime": {
     "end_time": "2019-12-08T07:26:13.708616Z",
     "start_time": "2019-12-08T07:25:52.728Z"
    },
    "hidden": true,
    "scrolled": false
   },
   "outputs": [
    {
     "name": "stdout",
     "output_type": "stream",
     "text": [
      "Training model, please be patient...Model trained!"
     ]
    }
   ],
   "source": [
    "# Build the model on training data -\n",
    "cat('Training model, please be patient...')\n",
    "suppressMessages(attach(trainingData))\n",
    "mylogit <- suppressWarnings(train(TOTEXP09 ~ ., data = trainingData[,c(2:39,41:53)], method = 'glm', family = 'binomial'))\n",
    "detach(trainingData)\n",
    "\n",
    "cat('Model trained!')"
   ]
  },
  {
   "cell_type": "markdown",
   "metadata": {
    "hidden": true
   },
   "source": [
    "Now that our model is trained we need to apply it to the test data"
   ]
  },
  {
   "cell_type": "code",
   "execution_count": 26,
   "metadata": {
    "ExecuteTime": {
     "end_time": "2019-12-08T07:26:13.825883Z",
     "start_time": "2019-12-08T07:25:52.853Z"
    },
    "hidden": true,
    "scrolled": false
   },
   "outputs": [
    {
     "name": "stderr",
     "output_type": "stream",
     "text": [
      "Warning message in predict.lm(object, newdata, se.fit, scale = 1, type = if (type == :\n",
      "\"prediction from a rank-deficient fit may be misleading\""
     ]
    },
    {
     "name": "stdout",
     "output_type": "stream",
     "text": [
      "Model successfully applied to test data!"
     ]
    }
   ],
   "source": [
    "# Apply the model to test data\n",
    "modelPred.na <- predict(mylogit, newdata = testData[,c(2:39,41:53)], method = \"glm\", na.action = na.pass)\n",
    "\n",
    "cat('Model successfully applied to test data!')"
   ]
  },
  {
   "cell_type": "markdown",
   "metadata": {
    "hidden": true
   },
   "source": [
    "Finally we will generate what's called a confusion matrix. "
   ]
  },
  {
   "cell_type": "code",
   "execution_count": 27,
   "metadata": {
    "ExecuteTime": {
     "end_time": "2019-12-08T07:26:13.862037Z",
     "start_time": "2019-12-08T07:25:52.947Z"
    },
    "hidden": true,
    "scrolled": false
   },
   "outputs": [
    {
     "data": {
      "text/plain": [
       "Confusion Matrix and Statistics\n",
       "\n",
       "           Reference\n",
       "Prediction  high_risk low_risk\n",
       "  high_risk       160       58\n",
       "  low_risk         70      186\n",
       "                                          \n",
       "               Accuracy : 0.73            \n",
       "                 95% CI : (0.6876, 0.7694)\n",
       "    No Information Rate : 0.5148          \n",
       "    P-Value [Acc > NIR] : <2e-16          \n",
       "                                          \n",
       "                  Kappa : 0.4586          \n",
       "                                          \n",
       " Mcnemar's Test P-Value : 0.3309          \n",
       "                                          \n",
       "            Sensitivity : 0.6957          \n",
       "            Specificity : 0.7623          \n",
       "         Pos Pred Value : 0.7339          \n",
       "         Neg Pred Value : 0.7266          \n",
       "             Prevalence : 0.4852          \n",
       "         Detection Rate : 0.3376          \n",
       "   Detection Prevalence : 0.4599          \n",
       "      Balanced Accuracy : 0.7290          \n",
       "                                          \n",
       "       'Positive' Class : high_risk       \n",
       "                                          "
      ]
     },
     "metadata": {},
     "output_type": "display_data"
    }
   ],
   "source": [
    "# Create Confusion matrix\n",
    "cm <- confusionMatrix(modelPred.na, testData$TOTEXP09)\n",
    "## Show confusion matrix\n",
    "cm"
   ]
  },
  {
   "cell_type": "markdown",
   "metadata": {
    "hidden": true
   },
   "source": [
    "Our model was able to correctly predict 73% of the time with a sensitivity of 76% and a specificity of 78%. The similar sensitivity and specificity indicate this model approximately equal in ruling out and ruling in whether a patient is high risk. \n",
    "\n",
    "One question you may be wondering is does our model perform well enough? That depends. That depends on the type of condition or prediction we're making. That depends on whether alternative predictive models or tools exist and how our new model compares. Additional research or consideration should always be done consider whether a model's result is not only statistically significant, but **clinically significant**. "
   ]
  },
  {
   "cell_type": "markdown",
   "metadata": {
    "heading_collapsed": true,
    "hidden": true
   },
   "source": [
    "### What Is A Confusion Matrix"
   ]
  },
  {
   "cell_type": "markdown",
   "metadata": {
    "hidden": true
   },
   "source": [
    "A confusion matrix is a 2x2 table which computes 4 different combinations of predicted vs. actual values. The combinations are True Positive (TP), True Negative (TN), False Positive (FP), and False Negative (FN)\n",
    "\n",
    "<img src=\"https://miro.medium.com/max/320/1*Z54JgbS4DUwWSknhDCvNTQ.png\" align=\"center\" style=\"margin-bottom: 0.5em; margin-top: 0.5em;\">\n",
    "\n",
    "These 4 interpretations can be combined to generate many useful metrics. For our purpose there are three we will focus on. The first is accuracy:\n",
    "\n",
    "\\[\\large (TP + TN)/Total\\]\n",
    "\n",
    "Accuracy allows us to measure how often our model predicted correctly. The second metric is sensitivity:\n",
    "\n",
    "\\[\\large TP / (TP + FN)\\]\n",
    "\n",
    "Sensitivity asks the question, that when our outcome is actually positive (ie. in our case when our patient is actually high-risk) how often will the model predict positively (ie. how often will the model then predict the patient to be high-risk). The final metric is specificity:\n",
    "\n",
    "\\[\\large FP / (FP + TN)\\]\n",
    "\n",
    "Specificity asks the question, that when the outcome is actually negative (ie. in our case when our patient is actually low-risk) how often will the model predict negatively (ie. how often will the model then predict the patient to be low-risk). "
   ]
  },
  {
   "cell_type": "markdown",
   "metadata": {
    "heading_collapsed": true
   },
   "source": [
    "## Evaluating our Model"
   ]
  },
  {
   "cell_type": "markdown",
   "metadata": {
    "hidden": true
   },
   "source": [
    "We will be evaluating our model using a receiver operating curve (ROC) and the area under the curve (AUC) value. \n",
    "\n",
    "> If you're unsure what a ROC or AUC value is, please consult section 5.1.1 ('Understanding ROC Curves and AUC Values')"
   ]
  },
  {
   "cell_type": "code",
   "execution_count": 28,
   "metadata": {
    "ExecuteTime": {
     "end_time": "2019-12-08T07:26:14.116747Z",
     "start_time": "2019-12-08T07:25:53.515Z"
    },
    "hidden": true
   },
   "outputs": [
    {
     "name": "stderr",
     "output_type": "stream",
     "text": [
      "Setting levels: control = high_risk, case = low_risk\n",
      "Setting direction: controls > cases\n"
     ]
    },
    {
     "data": {
      "image/png": "[encoded data removed]",
      "text/plain": [
       "plot without title"
      ]
     },
     "metadata": {},
     "output_type": "display_data"
    }
   ],
   "source": [
    "# Create a ROC curve\n",
    "ROC <- roc(response = testData$TOTEXP09, predictor = factor(modelPred.na, \n",
    "                                                           ordered = TRUE, \n",
    "                                                           levels = c('low_risk', 'high_risk')))\n",
    "\n",
    "# Plot ROC with ggplot2\n",
    "plot_ROC <- ggroc(ROC)\n",
    "plot_ROC"
   ]
  },
  {
   "cell_type": "code",
   "execution_count": 29,
   "metadata": {
    "ExecuteTime": {
     "end_time": "2019-12-08T07:26:14.161271Z",
     "start_time": "2019-12-08T07:25:53.520Z"
    },
    "hidden": true
   },
   "outputs": [
    {
     "name": "stdout",
     "output_type": "stream",
     "text": [
      "AUC: 0.73"
     ]
    }
   ],
   "source": [
    "# Calculate the area under the curve (AUC)\n",
    "cat('AUC:', round(auc(ROC), 2))"
   ]
  },
  {
   "cell_type": "markdown",
   "metadata": {
    "hidden": true
   },
   "source": [
    "The closer to the top left corner our ROC curve is the better. The higher our AUC value is the better. These metrics provide useful measures when tuning our model. They are also better overall measures than accuracy alone. We can compare different models using these two metrics. "
   ]
  },
  {
   "cell_type": "markdown",
   "metadata": {
    "heading_collapsed": true,
    "hidden": true
   },
   "source": [
    "### Understanding ROC Curves and AUC Values"
   ]
  },
  {
   "cell_type": "markdown",
   "metadata": {
    "hidden": true
   },
   "source": [
    "An ROC plots sensitivity (probability of predicting a real psoitive will be positive) against 1-specificity (the probability of predicting a real negative will be a positive). A model with a 50-50 change of making a correct decision will have a ROC curve which is just a diagonal line. A model with a curve that hugs the top left corner is a perfect model. The area under a curve is a measure of magnitude of the ROC curve. The closer the ROC curve is to the top left corner, the higher the AUC value is. The higher the AUC value is, the better. \n",
    "\n",
    "<img src=\"https://miro.medium.com/max/406/1*pk05QGzoWhCgRiiFbz-oKQ.png\" style=\"float: center; width: 34%; margin-bottom: 0.5em;\">"
   ]
  },
  {
   "cell_type": "markdown",
   "metadata": {},
   "source": [
    "## Explaining the Model"
   ]
  },
  {
   "cell_type": "markdown",
   "metadata": {},
   "source": [
    "An important part of any model is being able to explain it. We will be measuring the variable importance for our model. The higher the variable importance, the more important that variable is for our model for predicting no shows."
   ]
  },
  {
   "cell_type": "code",
   "execution_count": 30,
   "metadata": {
    "ExecuteTime": {
     "end_time": "2019-12-08T07:26:14.207889Z",
     "start_time": "2019-12-08T07:25:54.097Z"
    }
   },
   "outputs": [
    {
     "data": {
      "text/plain": [
       "glm variable importance\n",
       "\n",
       "  only 20 most important variables shown (out of 121)\n",
       "\n",
       "             Overall\n",
       "CHAPPT42      100.00\n",
       "ADAPPT42       79.50\n",
       "ASPREV531      67.68\n",
       "AGE09X         51.69\n",
       "UNINS092       49.65\n",
       "ADPRTM423      45.85\n",
       "ADPRTM424      45.60\n",
       "CHECK53        43.83\n",
       "ADPRTM421      42.35\n",
       "ADPRTM422      42.02\n",
       "DSFL08531      34.83\n",
       "DSFLNV531      32.67\n",
       "SPOUIN092      32.43\n",
       "EXRCIS531      30.56\n",
       "BLIND422       29.47\n",
       "`ADEXPL42-1`   28.40\n",
       "POVLEV09       27.42\n",
       "RACETHNX4      25.20\n",
       "ADHECR42       24.66\n",
       "PHYSCL421      23.84"
      ]
     },
     "metadata": {},
     "output_type": "display_data"
    }
   ],
   "source": [
    "test <- varImp(mylogit)\n",
    "test"
   ]
  },
  {
   "cell_type": "markdown",
   "metadata": {},
   "source": [
    "Congratulations! You've reached the end of the case! This case provided just one example of how analytics and healthcare can be combined to solve clinical problems. I hope your curiosity has been piqued. There much more to learn and much more you can explore in this field!"
   ]
  },
  {
   "cell_type": "code",
   "execution_count": null,
   "metadata": {
    "scrolled": false
   },
   "outputs": [],
   "source": []
  }
 ],
 "metadata": {
  "kernelspec": {
   "display_name": "R",
   "language": "R",
   "name": "ir"
  },
  "language_info": {
   "codemirror_mode": "r",
   "file_extension": ".r",
   "mimetype": "text/x-r-source",
   "name": "R",
   "pygments_lexer": "r",
   "version": "3.6.1"
  },
  "latex_envs": {
   "LaTeX_envs_menu_present": true,
   "autoclose": false,
   "autocomplete": true,
   "bibliofile": "biblio.bib",
   "cite_by": "apalike",
   "current_citInitial": 1,
   "eqLabelWithNumbers": true,
   "eqNumInitial": 1,
   "hotkeys": {
    "equation": "Ctrl-E",
    "itemize": "Ctrl-I"
   },
   "labels_anchors": false,
   "latex_user_defs": false,
   "report_style_numbering": false,
   "user_envs_cfg": false
  },
  "toc": {
   "base_numbering": 1,
   "nav_menu": {},
   "number_sections": true,
   "sideBar": true,
   "skip_h1_title": false,
   "title_cell": "Table of Contents",
   "title_sidebar": "Contents",
   "toc_cell": false,
   "toc_position": {
    "height": "414px",
    "left": "54px",
    "top": "110.8px",
    "width": "276px"
   },
   "toc_section_display": true,
   "toc_window_display": false
  },
  "varInspector": {
   "cols": {
    "lenName": 16,
    "lenType": 16,
    "lenVar": 40
   },
   "kernels_config": {
    "python": {
     "delete_cmd_postfix": "",
     "delete_cmd_prefix": "del ",
     "library": "var_list.py",
     "varRefreshCmd": "print(var_dic_list())"
    },
    "r": {
     "delete_cmd_postfix": ") ",
     "delete_cmd_prefix": "rm(",
     "library": "var_list.r",
     "varRefreshCmd": "cat(var_dic_list()) "
    }
   },
   "position": {
    "height": "190.391px",
    "left": "482px",
    "right": "20px",
    "top": "153px",
    "width": "446.391px"
   },
   "types_to_exclude": [
    "module",
    "function",
    "builtin_function_or_method",
    "instance",
    "_Feature"
   ],
   "window_display": true
  }
 },
 "nbformat": 4,
 "nbformat_minor": 2
}
