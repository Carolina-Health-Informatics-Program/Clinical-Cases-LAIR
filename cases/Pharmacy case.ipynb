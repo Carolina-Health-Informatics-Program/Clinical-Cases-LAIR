{
 "cells": [
  {
   "cell_type": "code",
   "execution_count": 321,
   "metadata": {
    "ExecuteTime": {
     "end_time": "2019-12-03T17:58:40.179013Z",
     "start_time": "2019-12-03T17:58:40.069Z"
    }
   },
   "outputs": [
    {
     "name": "stdout",
     "output_type": "stream",
     "text": [
      "Setup complete!"
     ]
    }
   ],
   "source": [
    "# Increase max number of columns displayed in output tables\n",
    "options(repr.matrix.max.cols = 2000)\n",
    "set.seed(10) # Make sure your ML results are the same\n",
    "# Calling external libraries for additional functionality\n",
    "suppressMessages(library(tidyverse))\n",
    "suppressMessages(library(randomForest))\n",
    "suppressMessages(library(forcats))\n",
    "suppressMessages(library(cowplot))\n",
    "suppressMessages(library(caret))\n",
    "suppressMessages(library(e1071))\n",
    "suppressMessages(library(pROC))\n",
    "suppressMessages(library(rpart.plot))\n",
    "suppressMessages(library(neuralnet))\n",
    "suppressMessages(library(fastDummies))\n",
    "cat('Setup complete!')"
   ]
  },
  {
   "cell_type": "code",
   "execution_count": 322,
   "metadata": {
    "ExecuteTime": {
     "end_time": "2019-12-03T17:58:42.680210Z",
     "start_time": "2019-12-03T17:58:40.074Z"
    }
   },
   "outputs": [
    {
     "name": "stdout",
     "output_type": "stream",
     "text": [
      "Data loading, please wait\n",
      "Data loaded!"
     ]
    }
   ],
   "source": [
    "# Note: Unicode Transformation Format – 8 (UTF-8) is a standard to encode characters in different languages\n",
    "cat('Data loading, please wait\\n')\n",
    "diabete_data <- read.csv(file=\"data/dataset_diabetes/diabetic_data.csv\",  encoding=\"UTF-8\", header=TRUE, sep=\",\")\n",
    "cat('Data loaded!')"
   ]
  },
  {
   "cell_type": "code",
   "execution_count": 323,
   "metadata": {
    "ExecuteTime": {
     "end_time": "2019-12-03T17:58:42.927290Z",
     "start_time": "2019-12-03T17:58:40.089Z"
    }
   },
   "outputs": [
    {
     "data": {
      "text/html": [
       "<table>\n",
       "<thead><tr><th scope=col>encounter_id</th><th scope=col>patient_nbr</th><th scope=col>race</th><th scope=col>gender</th><th scope=col>age</th><th scope=col>weight</th><th scope=col>admission_type_id</th><th scope=col>discharge_disposition_id</th><th scope=col>admission_source_id</th><th scope=col>time_in_hospital</th><th scope=col>payer_code</th><th scope=col>medical_specialty</th><th scope=col>num_lab_procedures</th><th scope=col>num_procedures</th><th scope=col>num_medications</th><th scope=col>number_outpatient</th><th scope=col>number_emergency</th><th scope=col>number_inpatient</th><th scope=col>diag_1</th><th scope=col>diag_2</th><th scope=col>diag_3</th><th scope=col>number_diagnoses</th><th scope=col>max_glu_serum</th><th scope=col>A1Cresult</th><th scope=col>metformin</th><th scope=col>repaglinide</th><th scope=col>nateglinide</th><th scope=col>chlorpropamide</th><th scope=col>glimepiride</th><th scope=col>acetohexamide</th><th scope=col>glipizide</th><th scope=col>glyburide</th><th scope=col>tolbutamide</th><th scope=col>pioglitazone</th><th scope=col>rosiglitazone</th><th scope=col>acarbose</th><th scope=col>miglitol</th><th scope=col>troglitazone</th><th scope=col>tolazamide</th><th scope=col>examide</th><th scope=col>citoglipton</th><th scope=col>insulin</th><th scope=col>glyburide.metformin</th><th scope=col>glipizide.metformin</th><th scope=col>glimepiride.pioglitazone</th><th scope=col>metformin.rosiglitazone</th><th scope=col>metformin.pioglitazone</th><th scope=col>change</th><th scope=col>diabetesMed</th><th scope=col>readmitted</th></tr></thead>\n",
       "<tbody>\n",
       "\t<tr><td>2278392                 </td><td> 8222157                </td><td>Caucasian               </td><td>Female                  </td><td>[0-10)                  </td><td>?                       </td><td>6                       </td><td>25                      </td><td>1                       </td><td>1                       </td><td>?                       </td><td>Pediatrics-Endocrinology</td><td>41                      </td><td>0                       </td><td> 1                      </td><td>0                       </td><td>0                       </td><td>0                       </td><td>250.83                  </td><td>?                       </td><td>?                       </td><td>1                       </td><td>None                    </td><td>None                    </td><td>No                      </td><td>No                      </td><td>No                      </td><td>No                      </td><td>No                      </td><td>No                      </td><td>No                      </td><td>No                      </td><td>No                      </td><td>No                      </td><td>No                      </td><td>No                      </td><td>No                      </td><td>No                      </td><td>No                      </td><td>No                      </td><td>No                      </td><td>No                      </td><td>No                      </td><td>No                      </td><td>No                      </td><td>No                      </td><td>No                      </td><td>No                      </td><td>No                      </td><td>NO                      </td></tr>\n",
       "\t<tr><td> 149190                                                         </td><td>55629189                                                        </td><td><span style=white-space:pre-wrap>Caucasian      </span>         </td><td>Female                                                          </td><td>[10-20)                                                         </td><td>?                                                               </td><td>1                                                               </td><td> 1                                                              </td><td>7                                                               </td><td>3                                                               </td><td>?                                                               </td><td><span style=white-space:pre-wrap>?                       </span></td><td>59                                                              </td><td>0                                                               </td><td>18                                                              </td><td>0                                                               </td><td>0                                                               </td><td>0                                                               </td><td><span style=white-space:pre-wrap>276   </span>                  </td><td>250.01                                                          </td><td>255                                                             </td><td>9                                                               </td><td>None                                                            </td><td>None                                                            </td><td>No                                                              </td><td>No                                                              </td><td>No                                                              </td><td>No                                                              </td><td>No                                                              </td><td>No                                                              </td><td><span style=white-space:pre-wrap>No    </span>                  </td><td>No                                                              </td><td>No                                                              </td><td>No                                                              </td><td>No                                                              </td><td>No                                                              </td><td>No                                                              </td><td>No                                                              </td><td>No                                                              </td><td>No                                                              </td><td>No                                                              </td><td><span style=white-space:pre-wrap>Up    </span>                  </td><td>No                                                              </td><td>No                                                              </td><td>No                                                              </td><td>No                                                              </td><td>No                                                              </td><td>Ch                                                              </td><td>Yes                                                             </td><td>&gt;30                                                          </td></tr>\n",
       "\t<tr><td>  64410                 </td><td>86047875                </td><td>AfricanAmerican         </td><td>Female                  </td><td>[20-30)                 </td><td>?                       </td><td>1                       </td><td> 1                      </td><td>7                       </td><td>2                       </td><td>?                       </td><td>?                       </td><td>11                      </td><td>5                       </td><td>13                      </td><td>2                       </td><td>0                       </td><td>1                       </td><td>648                     </td><td>250                     </td><td>V27                     </td><td>6                       </td><td>None                    </td><td>None                    </td><td>No                      </td><td>No                      </td><td>No                      </td><td>No                      </td><td>No                      </td><td>No                      </td><td>Steady                  </td><td>No                      </td><td>No                      </td><td>No                      </td><td>No                      </td><td>No                      </td><td>No                      </td><td>No                      </td><td>No                      </td><td>No                      </td><td>No                      </td><td>No                      </td><td>No                      </td><td>No                      </td><td>No                      </td><td>No                      </td><td>No                      </td><td>No                      </td><td>Yes                     </td><td>NO                      </td></tr>\n",
       "\t<tr><td> 500364                 </td><td>82442376                </td><td>Caucasian               </td><td>Male                    </td><td>[30-40)                 </td><td>?                       </td><td>1                       </td><td> 1                      </td><td>7                       </td><td>2                       </td><td>?                       </td><td>?                       </td><td>44                      </td><td>1                       </td><td>16                      </td><td>0                       </td><td>0                       </td><td>0                       </td><td>8                       </td><td>250.43                  </td><td>403                     </td><td>7                       </td><td>None                    </td><td>None                    </td><td>No                      </td><td>No                      </td><td>No                      </td><td>No                      </td><td>No                      </td><td>No                      </td><td>No                      </td><td>No                      </td><td>No                      </td><td>No                      </td><td>No                      </td><td>No                      </td><td>No                      </td><td>No                      </td><td>No                      </td><td>No                      </td><td>No                      </td><td>Up                      </td><td>No                      </td><td>No                      </td><td>No                      </td><td>No                      </td><td>No                      </td><td>Ch                      </td><td>Yes                     </td><td>NO                      </td></tr>\n",
       "\t<tr><td>  16680                 </td><td>42519267                </td><td>Caucasian               </td><td>Male                    </td><td>[40-50)                 </td><td>?                       </td><td>1                       </td><td> 1                      </td><td>7                       </td><td>1                       </td><td>?                       </td><td>?                       </td><td>51                      </td><td>0                       </td><td> 8                      </td><td>0                       </td><td>0                       </td><td>0                       </td><td>197                     </td><td>157                     </td><td>250                     </td><td>5                       </td><td>None                    </td><td>None                    </td><td>No                      </td><td>No                      </td><td>No                      </td><td>No                      </td><td>No                      </td><td>No                      </td><td>Steady                  </td><td>No                      </td><td>No                      </td><td>No                      </td><td>No                      </td><td>No                      </td><td>No                      </td><td>No                      </td><td>No                      </td><td>No                      </td><td>No                      </td><td>Steady                  </td><td>No                      </td><td>No                      </td><td>No                      </td><td>No                      </td><td>No                      </td><td>Ch                      </td><td>Yes                     </td><td>NO                      </td></tr>\n",
       "\t<tr><td><span style=white-space:pre-wrap>  35754</span>                 </td><td>82637451                                                        </td><td><span style=white-space:pre-wrap>Caucasian      </span>         </td><td><span style=white-space:pre-wrap>Male  </span>                  </td><td>[50-60)                                                         </td><td>?                                                               </td><td>2                                                               </td><td> 1                                                              </td><td>2                                                               </td><td>3                                                               </td><td>?                                                               </td><td><span style=white-space:pre-wrap>?                       </span></td><td>31                                                              </td><td>6                                                               </td><td>16                                                              </td><td>0                                                               </td><td>0                                                               </td><td>0                                                               </td><td><span style=white-space:pre-wrap>414   </span>                  </td><td><span style=white-space:pre-wrap>411   </span>                  </td><td>250                                                             </td><td>9                                                               </td><td>None                                                            </td><td>None                                                            </td><td>No                                                              </td><td>No                                                              </td><td>No                                                              </td><td>No                                                              </td><td>No                                                              </td><td>No                                                              </td><td><span style=white-space:pre-wrap>No    </span>                  </td><td>No                                                              </td><td>No                                                              </td><td>No                                                              </td><td>No                                                              </td><td>No                                                              </td><td>No                                                              </td><td>No                                                              </td><td>No                                                              </td><td>No                                                              </td><td>No                                                              </td><td>Steady                                                          </td><td>No                                                              </td><td>No                                                              </td><td>No                                                              </td><td>No                                                              </td><td>No                                                              </td><td>No                                                              </td><td>Yes                                                             </td><td>&gt;30                                                          </td></tr>\n",
       "</tbody>\n",
       "</table>\n"
      ],
      "text/latex": [
       "\\begin{tabular}{r|llllllllllllllllllllllllllllllllllllllllllllllllll}\n",
       " encounter\\_id & patient\\_nbr & race & gender & age & weight & admission\\_type\\_id & discharge\\_disposition\\_id & admission\\_source\\_id & time\\_in\\_hospital & payer\\_code & medical\\_specialty & num\\_lab\\_procedures & num\\_procedures & num\\_medications & number\\_outpatient & number\\_emergency & number\\_inpatient & diag\\_1 & diag\\_2 & diag\\_3 & number\\_diagnoses & max\\_glu\\_serum & A1Cresult & metformin & repaglinide & nateglinide & chlorpropamide & glimepiride & acetohexamide & glipizide & glyburide & tolbutamide & pioglitazone & rosiglitazone & acarbose & miglitol & troglitazone & tolazamide & examide & citoglipton & insulin & glyburide.metformin & glipizide.metformin & glimepiride.pioglitazone & metformin.rosiglitazone & metformin.pioglitazone & change & diabetesMed & readmitted\\\\\n",
       "\\hline\n",
       "\t 2278392                  &  8222157                 & Caucasian                & Female                   & {[}0-10)                 & ?                        & 6                        & 25                       & 1                        & 1                        & ?                        & Pediatrics-Endocrinology & 41                       & 0                        &  1                       & 0                        & 0                        & 0                        & 250.83                   & ?                        & ?                        & 1                        & None                     & None                     & No                       & No                       & No                       & No                       & No                       & No                       & No                       & No                       & No                       & No                       & No                       & No                       & No                       & No                       & No                       & No                       & No                       & No                       & No                       & No                       & No                       & No                       & No                       & No                       & No                       & NO                      \\\\\n",
       "\t  149190                  & 55629189                 & Caucasian                & Female                   & {[}10-20)                & ?                        & 1                        &  1                       & 7                        & 3                        & ?                        & ?                        & 59                       & 0                        & 18                       & 0                        & 0                        & 0                        & 276                      & 250.01                   & 255                      & 9                        & None                     & None                     & No                       & No                       & No                       & No                       & No                       & No                       & No                       & No                       & No                       & No                       & No                       & No                       & No                       & No                       & No                       & No                       & No                       & Up                       & No                       & No                       & No                       & No                       & No                       & Ch                       & Yes                      & >30                     \\\\\n",
       "\t   64410                  & 86047875                 & AfricanAmerican          & Female                   & {[}20-30)                & ?                        & 1                        &  1                       & 7                        & 2                        & ?                        & ?                        & 11                       & 5                        & 13                       & 2                        & 0                        & 1                        & 648                      & 250                      & V27                      & 6                        & None                     & None                     & No                       & No                       & No                       & No                       & No                       & No                       & Steady                   & No                       & No                       & No                       & No                       & No                       & No                       & No                       & No                       & No                       & No                       & No                       & No                       & No                       & No                       & No                       & No                       & No                       & Yes                      & NO                      \\\\\n",
       "\t  500364                  & 82442376                 & Caucasian                & Male                     & {[}30-40)                & ?                        & 1                        &  1                       & 7                        & 2                        & ?                        & ?                        & 44                       & 1                        & 16                       & 0                        & 0                        & 0                        & 8                        & 250.43                   & 403                      & 7                        & None                     & None                     & No                       & No                       & No                       & No                       & No                       & No                       & No                       & No                       & No                       & No                       & No                       & No                       & No                       & No                       & No                       & No                       & No                       & Up                       & No                       & No                       & No                       & No                       & No                       & Ch                       & Yes                      & NO                      \\\\\n",
       "\t   16680                  & 42519267                 & Caucasian                & Male                     & {[}40-50)                & ?                        & 1                        &  1                       & 7                        & 1                        & ?                        & ?                        & 51                       & 0                        &  8                       & 0                        & 0                        & 0                        & 197                      & 157                      & 250                      & 5                        & None                     & None                     & No                       & No                       & No                       & No                       & No                       & No                       & Steady                   & No                       & No                       & No                       & No                       & No                       & No                       & No                       & No                       & No                       & No                       & Steady                   & No                       & No                       & No                       & No                       & No                       & Ch                       & Yes                      & NO                      \\\\\n",
       "\t   35754                  & 82637451                 & Caucasian                & Male                     & {[}50-60)                & ?                        & 2                        &  1                       & 2                        & 3                        & ?                        & ?                        & 31                       & 6                        & 16                       & 0                        & 0                        & 0                        & 414                      & 411                      & 250                      & 9                        & None                     & None                     & No                       & No                       & No                       & No                       & No                       & No                       & No                       & No                       & No                       & No                       & No                       & No                       & No                       & No                       & No                       & No                       & No                       & Steady                   & No                       & No                       & No                       & No                       & No                       & No                       & Yes                      & >30                     \\\\\n",
       "\\end{tabular}\n"
      ],
      "text/markdown": [
       "\n",
       "| encounter_id | patient_nbr | race | gender | age | weight | admission_type_id | discharge_disposition_id | admission_source_id | time_in_hospital | payer_code | medical_specialty | num_lab_procedures | num_procedures | num_medications | number_outpatient | number_emergency | number_inpatient | diag_1 | diag_2 | diag_3 | number_diagnoses | max_glu_serum | A1Cresult | metformin | repaglinide | nateglinide | chlorpropamide | glimepiride | acetohexamide | glipizide | glyburide | tolbutamide | pioglitazone | rosiglitazone | acarbose | miglitol | troglitazone | tolazamide | examide | citoglipton | insulin | glyburide.metformin | glipizide.metformin | glimepiride.pioglitazone | metformin.rosiglitazone | metformin.pioglitazone | change | diabetesMed | readmitted |\n",
       "|---|---|---|---|---|---|---|---|---|---|---|---|---|---|---|---|---|---|---|---|---|---|---|---|---|---|---|---|---|---|---|---|---|---|---|---|---|---|---|---|---|---|---|---|---|---|---|---|---|---|\n",
       "| 2278392                  |  8222157                 | Caucasian                | Female                   | [0-10)                   | ?                        | 6                        | 25                       | 1                        | 1                        | ?                        | Pediatrics-Endocrinology | 41                       | 0                        |  1                       | 0                        | 0                        | 0                        | 250.83                   | ?                        | ?                        | 1                        | None                     | None                     | No                       | No                       | No                       | No                       | No                       | No                       | No                       | No                       | No                       | No                       | No                       | No                       | No                       | No                       | No                       | No                       | No                       | No                       | No                       | No                       | No                       | No                       | No                       | No                       | No                       | NO                       |\n",
       "|  149190                  | 55629189                 | Caucasian                | Female                   | [10-20)                  | ?                        | 1                        |  1                       | 7                        | 3                        | ?                        | ?                        | 59                       | 0                        | 18                       | 0                        | 0                        | 0                        | 276                      | 250.01                   | 255                      | 9                        | None                     | None                     | No                       | No                       | No                       | No                       | No                       | No                       | No                       | No                       | No                       | No                       | No                       | No                       | No                       | No                       | No                       | No                       | No                       | Up                       | No                       | No                       | No                       | No                       | No                       | Ch                       | Yes                      | >30                      |\n",
       "|   64410                  | 86047875                 | AfricanAmerican          | Female                   | [20-30)                  | ?                        | 1                        |  1                       | 7                        | 2                        | ?                        | ?                        | 11                       | 5                        | 13                       | 2                        | 0                        | 1                        | 648                      | 250                      | V27                      | 6                        | None                     | None                     | No                       | No                       | No                       | No                       | No                       | No                       | Steady                   | No                       | No                       | No                       | No                       | No                       | No                       | No                       | No                       | No                       | No                       | No                       | No                       | No                       | No                       | No                       | No                       | No                       | Yes                      | NO                       |\n",
       "|  500364                  | 82442376                 | Caucasian                | Male                     | [30-40)                  | ?                        | 1                        |  1                       | 7                        | 2                        | ?                        | ?                        | 44                       | 1                        | 16                       | 0                        | 0                        | 0                        | 8                        | 250.43                   | 403                      | 7                        | None                     | None                     | No                       | No                       | No                       | No                       | No                       | No                       | No                       | No                       | No                       | No                       | No                       | No                       | No                       | No                       | No                       | No                       | No                       | Up                       | No                       | No                       | No                       | No                       | No                       | Ch                       | Yes                      | NO                       |\n",
       "|   16680                  | 42519267                 | Caucasian                | Male                     | [40-50)                  | ?                        | 1                        |  1                       | 7                        | 1                        | ?                        | ?                        | 51                       | 0                        |  8                       | 0                        | 0                        | 0                        | 197                      | 157                      | 250                      | 5                        | None                     | None                     | No                       | No                       | No                       | No                       | No                       | No                       | Steady                   | No                       | No                       | No                       | No                       | No                       | No                       | No                       | No                       | No                       | No                       | Steady                   | No                       | No                       | No                       | No                       | No                       | Ch                       | Yes                      | NO                       |\n",
       "|   35754                  | 82637451                 | Caucasian                | Male                     | [50-60)                  | ?                        | 2                        |  1                       | 2                        | 3                        | ?                        | ?                        | 31                       | 6                        | 16                       | 0                        | 0                        | 0                        | 414                      | 411                      | 250                      | 9                        | None                     | None                     | No                       | No                       | No                       | No                       | No                       | No                       | No                       | No                       | No                       | No                       | No                       | No                       | No                       | No                       | No                       | No                       | No                       | Steady                   | No                       | No                       | No                       | No                       | No                       | No                       | Yes                      | >30                      |\n",
       "\n"
      ],
      "text/plain": [
       "  encounter_id patient_nbr race            gender age     weight\n",
       "1 2278392       8222157    Caucasian       Female [0-10)  ?     \n",
       "2  149190      55629189    Caucasian       Female [10-20) ?     \n",
       "3   64410      86047875    AfricanAmerican Female [20-30) ?     \n",
       "4  500364      82442376    Caucasian       Male   [30-40) ?     \n",
       "5   16680      42519267    Caucasian       Male   [40-50) ?     \n",
       "6   35754      82637451    Caucasian       Male   [50-60) ?     \n",
       "  admission_type_id discharge_disposition_id admission_source_id\n",
       "1 6                 25                       1                  \n",
       "2 1                  1                       7                  \n",
       "3 1                  1                       7                  \n",
       "4 1                  1                       7                  \n",
       "5 1                  1                       7                  \n",
       "6 2                  1                       2                  \n",
       "  time_in_hospital payer_code medical_specialty        num_lab_procedures\n",
       "1 1                ?          Pediatrics-Endocrinology 41                \n",
       "2 3                ?          ?                        59                \n",
       "3 2                ?          ?                        11                \n",
       "4 2                ?          ?                        44                \n",
       "5 1                ?          ?                        51                \n",
       "6 3                ?          ?                        31                \n",
       "  num_procedures num_medications number_outpatient number_emergency\n",
       "1 0               1              0                 0               \n",
       "2 0              18              0                 0               \n",
       "3 5              13              2                 0               \n",
       "4 1              16              0                 0               \n",
       "5 0               8              0                 0               \n",
       "6 6              16              0                 0               \n",
       "  number_inpatient diag_1 diag_2 diag_3 number_diagnoses max_glu_serum\n",
       "1 0                250.83 ?      ?      1                None         \n",
       "2 0                276    250.01 255    9                None         \n",
       "3 1                648    250    V27    6                None         \n",
       "4 0                8      250.43 403    7                None         \n",
       "5 0                197    157    250    5                None         \n",
       "6 0                414    411    250    9                None         \n",
       "  A1Cresult metformin repaglinide nateglinide chlorpropamide glimepiride\n",
       "1 None      No        No          No          No             No         \n",
       "2 None      No        No          No          No             No         \n",
       "3 None      No        No          No          No             No         \n",
       "4 None      No        No          No          No             No         \n",
       "5 None      No        No          No          No             No         \n",
       "6 None      No        No          No          No             No         \n",
       "  acetohexamide glipizide glyburide tolbutamide pioglitazone rosiglitazone\n",
       "1 No            No        No        No          No           No           \n",
       "2 No            No        No        No          No           No           \n",
       "3 No            Steady    No        No          No           No           \n",
       "4 No            No        No        No          No           No           \n",
       "5 No            Steady    No        No          No           No           \n",
       "6 No            No        No        No          No           No           \n",
       "  acarbose miglitol troglitazone tolazamide examide citoglipton insulin\n",
       "1 No       No       No           No         No      No          No     \n",
       "2 No       No       No           No         No      No          Up     \n",
       "3 No       No       No           No         No      No          No     \n",
       "4 No       No       No           No         No      No          Up     \n",
       "5 No       No       No           No         No      No          Steady \n",
       "6 No       No       No           No         No      No          Steady \n",
       "  glyburide.metformin glipizide.metformin glimepiride.pioglitazone\n",
       "1 No                  No                  No                      \n",
       "2 No                  No                  No                      \n",
       "3 No                  No                  No                      \n",
       "4 No                  No                  No                      \n",
       "5 No                  No                  No                      \n",
       "6 No                  No                  No                      \n",
       "  metformin.rosiglitazone metformin.pioglitazone change diabetesMed readmitted\n",
       "1 No                      No                     No     No          NO        \n",
       "2 No                      No                     Ch     Yes         >30       \n",
       "3 No                      No                     No     Yes         NO        \n",
       "4 No                      No                     Ch     Yes         NO        \n",
       "5 No                      No                     Ch     Yes         NO        \n",
       "6 No                      No                     No     Yes         >30       "
      ]
     },
     "metadata": {},
     "output_type": "display_data"
    },
    {
     "name": "stdout",
     "output_type": "stream",
     "text": [
      "'data.frame':\t101766 obs. of  50 variables:\n",
      " $ encounter_id            : int  2278392 149190 64410 500364 16680 35754 55842 63768 12522 15738 ...\n",
      " $ patient_nbr             : int  8222157 55629189 86047875 82442376 42519267 82637451 84259809 114882984 48330783 63555939 ...\n",
      " $ race                    : Factor w/ 6 levels \"?\",\"AfricanAmerican\",..: 4 4 2 4 4 4 4 4 4 4 ...\n",
      " $ gender                  : Factor w/ 3 levels \"Female\",\"Male\",..: 1 1 1 2 2 2 2 2 1 1 ...\n",
      " $ age                     : Factor w/ 10 levels \"[0-10)\",\"[10-20)\",..: 1 2 3 4 5 6 7 8 9 10 ...\n",
      " $ weight                  : Factor w/ 10 levels \"?\",\"[0-25)\",\"[100-125)\",..: 1 1 1 1 1 1 1 1 1 1 ...\n",
      " $ admission_type_id       : int  6 1 1 1 1 2 3 1 2 3 ...\n",
      " $ discharge_disposition_id: int  25 1 1 1 1 1 1 1 1 3 ...\n",
      " $ admission_source_id     : int  1 7 7 7 7 2 2 7 4 4 ...\n",
      " $ time_in_hospital        : int  1 3 2 2 1 3 4 5 13 12 ...\n",
      " $ payer_code              : Factor w/ 18 levels \"?\",\"BC\",\"CH\",..: 1 1 1 1 1 1 1 1 1 1 ...\n",
      " $ medical_specialty       : Factor w/ 73 levels \"?\",\"AllergyandImmunology\",..: 39 1 1 1 1 1 1 1 1 20 ...\n",
      " $ num_lab_procedures      : int  41 59 11 44 51 31 70 73 68 33 ...\n",
      " $ num_procedures          : int  0 0 5 1 0 6 1 0 2 3 ...\n",
      " $ num_medications         : int  1 18 13 16 8 16 21 12 28 18 ...\n",
      " $ number_outpatient       : int  0 0 2 0 0 0 0 0 0 0 ...\n",
      " $ number_emergency        : int  0 0 0 0 0 0 0 0 0 0 ...\n",
      " $ number_inpatient        : int  0 0 1 0 0 0 0 0 0 0 ...\n",
      " $ diag_1                  : Factor w/ 717 levels \"?\",\"10\",\"11\",..: 126 145 456 556 56 265 265 278 254 284 ...\n",
      " $ diag_2                  : Factor w/ 749 levels \"?\",\"11\",\"110\",..: 1 81 80 99 26 248 248 316 262 48 ...\n",
      " $ diag_3                  : Factor w/ 790 levels \"?\",\"11\",\"110\",..: 1 123 768 250 88 88 772 88 231 319 ...\n",
      " $ number_diagnoses        : int  1 9 6 7 5 9 7 8 8 8 ...\n",
      " $ max_glu_serum           : Factor w/ 4 levels \">200\",\">300\",..: 3 3 3 3 3 3 3 3 3 3 ...\n",
      " $ A1Cresult               : Factor w/ 4 levels \">7\",\">8\",\"None\",..: 3 3 3 3 3 3 3 3 3 3 ...\n",
      " $ metformin               : Factor w/ 4 levels \"Down\",\"No\",\"Steady\",..: 2 2 2 2 2 2 3 2 2 2 ...\n",
      " $ repaglinide             : Factor w/ 4 levels \"Down\",\"No\",\"Steady\",..: 2 2 2 2 2 2 2 2 2 2 ...\n",
      " $ nateglinide             : Factor w/ 4 levels \"Down\",\"No\",\"Steady\",..: 2 2 2 2 2 2 2 2 2 2 ...\n",
      " $ chlorpropamide          : Factor w/ 4 levels \"Down\",\"No\",\"Steady\",..: 2 2 2 2 2 2 2 2 2 2 ...\n",
      " $ glimepiride             : Factor w/ 4 levels \"Down\",\"No\",\"Steady\",..: 2 2 2 2 2 2 3 2 2 2 ...\n",
      " $ acetohexamide           : Factor w/ 2 levels \"No\",\"Steady\": 1 1 1 1 1 1 1 1 1 1 ...\n",
      " $ glipizide               : Factor w/ 4 levels \"Down\",\"No\",\"Steady\",..: 2 2 3 2 3 2 2 2 3 2 ...\n",
      " $ glyburide               : Factor w/ 4 levels \"Down\",\"No\",\"Steady\",..: 2 2 2 2 2 2 2 3 2 2 ...\n",
      " $ tolbutamide             : Factor w/ 2 levels \"No\",\"Steady\": 1 1 1 1 1 1 1 1 1 1 ...\n",
      " $ pioglitazone            : Factor w/ 4 levels \"Down\",\"No\",\"Steady\",..: 2 2 2 2 2 2 2 2 2 2 ...\n",
      " $ rosiglitazone           : Factor w/ 4 levels \"Down\",\"No\",\"Steady\",..: 2 2 2 2 2 2 2 2 2 3 ...\n",
      " $ acarbose                : Factor w/ 4 levels \"Down\",\"No\",\"Steady\",..: 2 2 2 2 2 2 2 2 2 2 ...\n",
      " $ miglitol                : Factor w/ 4 levels \"Down\",\"No\",\"Steady\",..: 2 2 2 2 2 2 2 2 2 2 ...\n",
      " $ troglitazone            : Factor w/ 2 levels \"No\",\"Steady\": 1 1 1 1 1 1 1 1 1 1 ...\n",
      " $ tolazamide              : Factor w/ 3 levels \"No\",\"Steady\",..: 1 1 1 1 1 1 1 1 1 1 ...\n",
      " $ examide                 : Factor w/ 1 level \"No\": 1 1 1 1 1 1 1 1 1 1 ...\n",
      " $ citoglipton             : Factor w/ 1 level \"No\": 1 1 1 1 1 1 1 1 1 1 ...\n",
      " $ insulin                 : Factor w/ 4 levels \"Down\",\"No\",\"Steady\",..: 2 4 2 4 3 3 3 2 3 3 ...\n",
      " $ glyburide.metformin     : Factor w/ 4 levels \"Down\",\"No\",\"Steady\",..: 2 2 2 2 2 2 2 2 2 2 ...\n",
      " $ glipizide.metformin     : Factor w/ 2 levels \"No\",\"Steady\": 1 1 1 1 1 1 1 1 1 1 ...\n",
      " $ glimepiride.pioglitazone: Factor w/ 2 levels \"No\",\"Steady\": 1 1 1 1 1 1 1 1 1 1 ...\n",
      " $ metformin.rosiglitazone : Factor w/ 2 levels \"No\",\"Steady\": 1 1 1 1 1 1 1 1 1 1 ...\n",
      " $ metformin.pioglitazone  : Factor w/ 2 levels \"No\",\"Steady\": 1 1 1 1 1 1 1 1 1 1 ...\n",
      " $ change                  : Factor w/ 2 levels \"Ch\",\"No\": 2 1 2 1 1 2 1 2 1 1 ...\n",
      " $ diabetesMed             : Factor w/ 2 levels \"No\",\"Yes\": 1 2 2 2 2 2 2 2 2 2 ...\n",
      " $ readmitted              : Factor w/ 3 levels \"<30\",\">30\",\"NO\": 3 2 3 3 3 2 3 2 3 3 ...\n"
     ]
    }
   ],
   "source": [
    "head(diabete_data)\n",
    "str(diabete_data)"
   ]
  },
  {
   "cell_type": "code",
   "execution_count": 324,
   "metadata": {
    "ExecuteTime": {
     "end_time": "2019-12-03T17:58:43.582106Z",
     "start_time": "2019-12-03T17:58:40.094Z"
    }
   },
   "outputs": [],
   "source": [
    "diabete_data[diabete_data == '?'] <- NA"
   ]
  },
  {
   "cell_type": "code",
   "execution_count": 325,
   "metadata": {
    "ExecuteTime": {
     "end_time": "2019-12-03T17:58:43.725106Z",
     "start_time": "2019-12-03T17:58:40.107Z"
    }
   },
   "outputs": [
    {
     "name": "stdout",
     "output_type": "stream",
     "text": [
      "Number of Missing Data for Each Variable:"
     ]
    },
    {
     "data": {
      "text/html": [
       "<dl class=dl-horizontal>\n",
       "\t<dt>encounter_id</dt>\n",
       "\t\t<dd>0</dd>\n",
       "\t<dt>patient_nbr</dt>\n",
       "\t\t<dd>0</dd>\n",
       "\t<dt>race</dt>\n",
       "\t\t<dd>2273</dd>\n",
       "\t<dt>gender</dt>\n",
       "\t\t<dd>0</dd>\n",
       "\t<dt>age</dt>\n",
       "\t\t<dd>0</dd>\n",
       "\t<dt>weight</dt>\n",
       "\t\t<dd>98569</dd>\n",
       "\t<dt>admission_type_id</dt>\n",
       "\t\t<dd>0</dd>\n",
       "\t<dt>discharge_disposition_id</dt>\n",
       "\t\t<dd>0</dd>\n",
       "\t<dt>admission_source_id</dt>\n",
       "\t\t<dd>0</dd>\n",
       "\t<dt>time_in_hospital</dt>\n",
       "\t\t<dd>0</dd>\n",
       "\t<dt>payer_code</dt>\n",
       "\t\t<dd>40256</dd>\n",
       "\t<dt>medical_specialty</dt>\n",
       "\t\t<dd>49949</dd>\n",
       "\t<dt>num_lab_procedures</dt>\n",
       "\t\t<dd>0</dd>\n",
       "\t<dt>num_procedures</dt>\n",
       "\t\t<dd>0</dd>\n",
       "\t<dt>num_medications</dt>\n",
       "\t\t<dd>0</dd>\n",
       "\t<dt>number_outpatient</dt>\n",
       "\t\t<dd>0</dd>\n",
       "\t<dt>number_emergency</dt>\n",
       "\t\t<dd>0</dd>\n",
       "\t<dt>number_inpatient</dt>\n",
       "\t\t<dd>0</dd>\n",
       "\t<dt>diag_1</dt>\n",
       "\t\t<dd>21</dd>\n",
       "\t<dt>diag_2</dt>\n",
       "\t\t<dd>358</dd>\n",
       "\t<dt>diag_3</dt>\n",
       "\t\t<dd>1423</dd>\n",
       "\t<dt>number_diagnoses</dt>\n",
       "\t\t<dd>0</dd>\n",
       "\t<dt>max_glu_serum</dt>\n",
       "\t\t<dd>0</dd>\n",
       "\t<dt>A1Cresult</dt>\n",
       "\t\t<dd>0</dd>\n",
       "\t<dt>metformin</dt>\n",
       "\t\t<dd>0</dd>\n",
       "\t<dt>repaglinide</dt>\n",
       "\t\t<dd>0</dd>\n",
       "\t<dt>nateglinide</dt>\n",
       "\t\t<dd>0</dd>\n",
       "\t<dt>chlorpropamide</dt>\n",
       "\t\t<dd>0</dd>\n",
       "\t<dt>glimepiride</dt>\n",
       "\t\t<dd>0</dd>\n",
       "\t<dt>acetohexamide</dt>\n",
       "\t\t<dd>0</dd>\n",
       "\t<dt>glipizide</dt>\n",
       "\t\t<dd>0</dd>\n",
       "\t<dt>glyburide</dt>\n",
       "\t\t<dd>0</dd>\n",
       "\t<dt>tolbutamide</dt>\n",
       "\t\t<dd>0</dd>\n",
       "\t<dt>pioglitazone</dt>\n",
       "\t\t<dd>0</dd>\n",
       "\t<dt>rosiglitazone</dt>\n",
       "\t\t<dd>0</dd>\n",
       "\t<dt>acarbose</dt>\n",
       "\t\t<dd>0</dd>\n",
       "\t<dt>miglitol</dt>\n",
       "\t\t<dd>0</dd>\n",
       "\t<dt>troglitazone</dt>\n",
       "\t\t<dd>0</dd>\n",
       "\t<dt>tolazamide</dt>\n",
       "\t\t<dd>0</dd>\n",
       "\t<dt>examide</dt>\n",
       "\t\t<dd>0</dd>\n",
       "\t<dt>citoglipton</dt>\n",
       "\t\t<dd>0</dd>\n",
       "\t<dt>insulin</dt>\n",
       "\t\t<dd>0</dd>\n",
       "\t<dt>glyburide.metformin</dt>\n",
       "\t\t<dd>0</dd>\n",
       "\t<dt>glipizide.metformin</dt>\n",
       "\t\t<dd>0</dd>\n",
       "\t<dt>glimepiride.pioglitazone</dt>\n",
       "\t\t<dd>0</dd>\n",
       "\t<dt>metformin.rosiglitazone</dt>\n",
       "\t\t<dd>0</dd>\n",
       "\t<dt>metformin.pioglitazone</dt>\n",
       "\t\t<dd>0</dd>\n",
       "\t<dt>change</dt>\n",
       "\t\t<dd>0</dd>\n",
       "\t<dt>diabetesMed</dt>\n",
       "\t\t<dd>0</dd>\n",
       "\t<dt>readmitted</dt>\n",
       "\t\t<dd>0</dd>\n",
       "</dl>\n"
      ],
      "text/latex": [
       "\\begin{description*}\n",
       "\\item[encounter\\textbackslash{}\\_id] 0\n",
       "\\item[patient\\textbackslash{}\\_nbr] 0\n",
       "\\item[race] 2273\n",
       "\\item[gender] 0\n",
       "\\item[age] 0\n",
       "\\item[weight] 98569\n",
       "\\item[admission\\textbackslash{}\\_type\\textbackslash{}\\_id] 0\n",
       "\\item[discharge\\textbackslash{}\\_disposition\\textbackslash{}\\_id] 0\n",
       "\\item[admission\\textbackslash{}\\_source\\textbackslash{}\\_id] 0\n",
       "\\item[time\\textbackslash{}\\_in\\textbackslash{}\\_hospital] 0\n",
       "\\item[payer\\textbackslash{}\\_code] 40256\n",
       "\\item[medical\\textbackslash{}\\_specialty] 49949\n",
       "\\item[num\\textbackslash{}\\_lab\\textbackslash{}\\_procedures] 0\n",
       "\\item[num\\textbackslash{}\\_procedures] 0\n",
       "\\item[num\\textbackslash{}\\_medications] 0\n",
       "\\item[number\\textbackslash{}\\_outpatient] 0\n",
       "\\item[number\\textbackslash{}\\_emergency] 0\n",
       "\\item[number\\textbackslash{}\\_inpatient] 0\n",
       "\\item[diag\\textbackslash{}\\_1] 21\n",
       "\\item[diag\\textbackslash{}\\_2] 358\n",
       "\\item[diag\\textbackslash{}\\_3] 1423\n",
       "\\item[number\\textbackslash{}\\_diagnoses] 0\n",
       "\\item[max\\textbackslash{}\\_glu\\textbackslash{}\\_serum] 0\n",
       "\\item[A1Cresult] 0\n",
       "\\item[metformin] 0\n",
       "\\item[repaglinide] 0\n",
       "\\item[nateglinide] 0\n",
       "\\item[chlorpropamide] 0\n",
       "\\item[glimepiride] 0\n",
       "\\item[acetohexamide] 0\n",
       "\\item[glipizide] 0\n",
       "\\item[glyburide] 0\n",
       "\\item[tolbutamide] 0\n",
       "\\item[pioglitazone] 0\n",
       "\\item[rosiglitazone] 0\n",
       "\\item[acarbose] 0\n",
       "\\item[miglitol] 0\n",
       "\\item[troglitazone] 0\n",
       "\\item[tolazamide] 0\n",
       "\\item[examide] 0\n",
       "\\item[citoglipton] 0\n",
       "\\item[insulin] 0\n",
       "\\item[glyburide.metformin] 0\n",
       "\\item[glipizide.metformin] 0\n",
       "\\item[glimepiride.pioglitazone] 0\n",
       "\\item[metformin.rosiglitazone] 0\n",
       "\\item[metformin.pioglitazone] 0\n",
       "\\item[change] 0\n",
       "\\item[diabetesMed] 0\n",
       "\\item[readmitted] 0\n",
       "\\end{description*}\n"
      ],
      "text/markdown": [
       "encounter_id\n",
       ":   0patient_nbr\n",
       ":   0race\n",
       ":   2273gender\n",
       ":   0age\n",
       ":   0weight\n",
       ":   98569admission_type_id\n",
       ":   0discharge_disposition_id\n",
       ":   0admission_source_id\n",
       ":   0time_in_hospital\n",
       ":   0payer_code\n",
       ":   40256medical_specialty\n",
       ":   49949num_lab_procedures\n",
       ":   0num_procedures\n",
       ":   0num_medications\n",
       ":   0number_outpatient\n",
       ":   0number_emergency\n",
       ":   0number_inpatient\n",
       ":   0diag_1\n",
       ":   21diag_2\n",
       ":   358diag_3\n",
       ":   1423number_diagnoses\n",
       ":   0max_glu_serum\n",
       ":   0A1Cresult\n",
       ":   0metformin\n",
       ":   0repaglinide\n",
       ":   0nateglinide\n",
       ":   0chlorpropamide\n",
       ":   0glimepiride\n",
       ":   0acetohexamide\n",
       ":   0glipizide\n",
       ":   0glyburide\n",
       ":   0tolbutamide\n",
       ":   0pioglitazone\n",
       ":   0rosiglitazone\n",
       ":   0acarbose\n",
       ":   0miglitol\n",
       ":   0troglitazone\n",
       ":   0tolazamide\n",
       ":   0examide\n",
       ":   0citoglipton\n",
       ":   0insulin\n",
       ":   0glyburide.metformin\n",
       ":   0glipizide.metformin\n",
       ":   0glimepiride.pioglitazone\n",
       ":   0metformin.rosiglitazone\n",
       ":   0metformin.pioglitazone\n",
       ":   0change\n",
       ":   0diabetesMed\n",
       ":   0readmitted\n",
       ":   0\n",
       "\n"
      ],
      "text/plain": [
       "            encounter_id              patient_nbr                     race \n",
       "                       0                        0                     2273 \n",
       "                  gender                      age                   weight \n",
       "                       0                        0                    98569 \n",
       "       admission_type_id discharge_disposition_id      admission_source_id \n",
       "                       0                        0                        0 \n",
       "        time_in_hospital               payer_code        medical_specialty \n",
       "                       0                    40256                    49949 \n",
       "      num_lab_procedures           num_procedures          num_medications \n",
       "                       0                        0                        0 \n",
       "       number_outpatient         number_emergency         number_inpatient \n",
       "                       0                        0                        0 \n",
       "                  diag_1                   diag_2                   diag_3 \n",
       "                      21                      358                     1423 \n",
       "        number_diagnoses            max_glu_serum                A1Cresult \n",
       "                       0                        0                        0 \n",
       "               metformin              repaglinide              nateglinide \n",
       "                       0                        0                        0 \n",
       "          chlorpropamide              glimepiride            acetohexamide \n",
       "                       0                        0                        0 \n",
       "               glipizide                glyburide              tolbutamide \n",
       "                       0                        0                        0 \n",
       "            pioglitazone            rosiglitazone                 acarbose \n",
       "                       0                        0                        0 \n",
       "                miglitol             troglitazone               tolazamide \n",
       "                       0                        0                        0 \n",
       "                 examide              citoglipton                  insulin \n",
       "                       0                        0                        0 \n",
       "     glyburide.metformin      glipizide.metformin glimepiride.pioglitazone \n",
       "                       0                        0                        0 \n",
       " metformin.rosiglitazone   metformin.pioglitazone                   change \n",
       "                       0                        0                        0 \n",
       "             diabetesMed               readmitted \n",
       "                       0                        0 "
      ]
     },
     "metadata": {},
     "output_type": "display_data"
    }
   ],
   "source": [
    "cat('Number of Missing Data for Each Variable:')\n",
    "sapply(diabete_data, function(x) sum(is.na(x)))"
   ]
  },
  {
   "cell_type": "code",
   "execution_count": 326,
   "metadata": {
    "ExecuteTime": {
     "end_time": "2019-12-03T17:58:43.794080Z",
     "start_time": "2019-12-03T17:58:40.111Z"
    }
   },
   "outputs": [
    {
     "data": {
      "text/plain": [
       "\n",
       "    1     2     3     4     5     6     7     8     9    10    11    13    14 \n",
       "29565  1104   187  3187   855  2264 57494    16   125     8     2     1     2 \n",
       "   17    20    22    25 \n",
       " 6781   161    12     2 "
      ]
     },
     "metadata": {},
     "output_type": "display_data"
    }
   ],
   "source": [
    "table(diabete_data$admission_source_id, exclude = NULL)"
   ]
  },
  {
   "cell_type": "code",
   "execution_count": 327,
   "metadata": {
    "ExecuteTime": {
     "end_time": "2019-12-03T17:58:43.870047Z",
     "start_time": "2019-12-03T17:58:40.117Z"
    }
   },
   "outputs": [],
   "source": [
    "# Missing values\n",
    "diabete_data$admission_source_id[diabete_data$admission_source_id == 9] <- NA\n",
    "diabete_data$admission_source_id[diabete_data$admission_source_id == 15] <- NA\n",
    "diabete_data$admission_source_id[diabete_data$admission_source_id == 17] <- NA\n",
    "diabete_data$admission_source_id[diabete_data$admission_source_id == 20] <- NA\n",
    "diabete_data$admission_source_id[diabete_data$admission_source_id == 21] <- NA"
   ]
  },
  {
   "cell_type": "code",
   "execution_count": 328,
   "metadata": {
    "ExecuteTime": {
     "end_time": "2019-12-03T17:58:43.930062Z",
     "start_time": "2019-12-03T17:58:40.123Z"
    }
   },
   "outputs": [],
   "source": [
    "# convert less common values to 'Other'\n",
    "diabete_data$admission_source_id[diabete_data$admission_source_id==8 \n",
    "                                | diabete_data$admission_source_id==10\n",
    "                                | diabete_data$admission_source_id==11\n",
    "                                | diabete_data$admission_source_id==13\n",
    "                                | diabete_data$admission_source_id==14\n",
    "                                | diabete_data$admission_source_id==22\n",
    "                                | diabete_data$admission_source_id==25] <- 0"
   ]
  },
  {
   "cell_type": "code",
   "execution_count": 329,
   "metadata": {
    "ExecuteTime": {
     "end_time": "2019-12-03T17:58:44.152121Z",
     "start_time": "2019-12-03T17:58:40.128Z"
    }
   },
   "outputs": [
    {
     "data": {
      "text/plain": [
       "\n",
       "    0     1     2     3     4     5     6     7  <NA> \n",
       "   43 29565  1104   187  3187   855  2264 57494  7067 "
      ]
     },
     "metadata": {},
     "output_type": "display_data"
    }
   ],
   "source": [
    "table(diabete_data$admission_source_id, exclude = NULL)"
   ]
  },
  {
   "cell_type": "code",
   "execution_count": 330,
   "metadata": {
    "ExecuteTime": {
     "end_time": "2019-12-03T17:58:44.691721Z",
     "start_time": "2019-12-03T17:58:40.136Z"
    }
   },
   "outputs": [],
   "source": [
    "# Create 'admission_source'\n",
    "diabete_data <- mutate(diabete_data, admission_source = ifelse(admission_source_id == 0, 'Other', \n",
    "                                            ifelse(admission_source_id == 1, 'Physician_Referral',\n",
    "                                            ifelse(admission_source_id == 2, 'Clinic_Referral',\n",
    "                                            ifelse(admission_source_id == 3, 'HMO_Referral',\n",
    "                                            ifelse(admission_source_id == 4, 'Transfer_from_Hospital',\n",
    "                                            ifelse(admission_source_id == 5, 'Transfer_from_SNF',\n",
    "                                            ifelse(admission_source_id == 6, 'Transfer_from_Healthcare_Facility',\n",
    "                                            ifelse(admission_source_id == 7, 'Emergency_Room', NA)))))))))"
   ]
  },
  {
   "cell_type": "code",
   "execution_count": 331,
   "metadata": {
    "ExecuteTime": {
     "end_time": "2019-12-03T17:58:44.762390Z",
     "start_time": "2019-12-03T17:58:40.143Z"
    }
   },
   "outputs": [
    {
     "data": {
      "text/html": [
       "<table>\n",
       "<thead><tr><th scope=col>admission_source_id</th><th scope=col>admission_source</th></tr></thead>\n",
       "<tbody>\n",
       "\t<tr><td>1                 </td><td>Physician_Referral</td></tr>\n",
       "\t<tr><td>7                 </td><td>Emergency_Room    </td></tr>\n",
       "\t<tr><td>7                 </td><td>Emergency_Room    </td></tr>\n",
       "\t<tr><td>7                 </td><td>Emergency_Room    </td></tr>\n",
       "\t<tr><td>7                 </td><td>Emergency_Room    </td></tr>\n",
       "\t<tr><td>2                 </td><td>Clinic_Referral   </td></tr>\n",
       "</tbody>\n",
       "</table>\n"
      ],
      "text/latex": [
       "\\begin{tabular}{r|ll}\n",
       " admission\\_source\\_id & admission\\_source\\\\\n",
       "\\hline\n",
       "\t 1                    & Physician\\_Referral\\\\\n",
       "\t 7                    & Emergency\\_Room    \\\\\n",
       "\t 7                    & Emergency\\_Room    \\\\\n",
       "\t 7                    & Emergency\\_Room    \\\\\n",
       "\t 7                    & Emergency\\_Room    \\\\\n",
       "\t 2                    & Clinic\\_Referral   \\\\\n",
       "\\end{tabular}\n"
      ],
      "text/markdown": [
       "\n",
       "| admission_source_id | admission_source |\n",
       "|---|---|\n",
       "| 1                  | Physician_Referral |\n",
       "| 7                  | Emergency_Room     |\n",
       "| 7                  | Emergency_Room     |\n",
       "| 7                  | Emergency_Room     |\n",
       "| 7                  | Emergency_Room     |\n",
       "| 2                  | Clinic_Referral    |\n",
       "\n"
      ],
      "text/plain": [
       "  admission_source_id admission_source  \n",
       "1 1                   Physician_Referral\n",
       "2 7                   Emergency_Room    \n",
       "3 7                   Emergency_Room    \n",
       "4 7                   Emergency_Room    \n",
       "5 7                   Emergency_Room    \n",
       "6 2                   Clinic_Referral   "
      ]
     },
     "metadata": {},
     "output_type": "display_data"
    }
   ],
   "source": [
    "head(diabete_data[c('admission_source_id', 'admission_source')])"
   ]
  },
  {
   "cell_type": "code",
   "execution_count": 332,
   "metadata": {
    "ExecuteTime": {
     "end_time": "2019-12-03T17:58:44.871155Z",
     "start_time": "2019-12-03T17:58:40.150Z"
    }
   },
   "outputs": [
    {
     "data": {
      "text/plain": [
       "\n",
       "    1     2     3     4     5     6     7     8 \n",
       "53990 18480 18869    10  4785  5291    21   320 "
      ]
     },
     "metadata": {},
     "output_type": "display_data"
    }
   ],
   "source": [
    "table(diabete_data$admission_type_id, exclude = NULL)"
   ]
  },
  {
   "cell_type": "code",
   "execution_count": 333,
   "metadata": {
    "ExecuteTime": {
     "end_time": "2019-12-03T17:58:44.946475Z",
     "start_time": "2019-12-03T17:58:40.154Z"
    }
   },
   "outputs": [],
   "source": [
    "# Missing values\n",
    "diabete_data$admission_type_id[diabete_data$admission_type_id == 5] <- NA # Not Available\n",
    "diabete_data$admission_type_id[diabete_data$admission_type_id == 6] <- NA # NULL\n",
    "diabete_data$admission_type_id[diabete_data$admission_type_id == 8] <- NA # Not Mapped"
   ]
  },
  {
   "cell_type": "code",
   "execution_count": 334,
   "metadata": {
    "ExecuteTime": {
     "end_time": "2019-12-03T17:58:45.017286Z",
     "start_time": "2019-12-03T17:58:40.161Z"
    }
   },
   "outputs": [],
   "source": [
    "# convert less common values to 'Other'\n",
    "diabete_data$admission_type_id[diabete_data$admission_type_id==4 \n",
    "                                | diabete_data$admission_type_id==7] <- 0"
   ]
  },
  {
   "cell_type": "code",
   "execution_count": 335,
   "metadata": {
    "ExecuteTime": {
     "end_time": "2019-12-03T17:58:45.341199Z",
     "start_time": "2019-12-03T17:58:40.167Z"
    }
   },
   "outputs": [
    {
     "data": {
      "text/plain": [
       "\n",
       "    0     1     2     3  <NA> \n",
       "   31 53990 18480 18869 10396 "
      ]
     },
     "metadata": {},
     "output_type": "display_data"
    }
   ],
   "source": [
    "table(diabete_data$admission_type_id, exclude = NULL)"
   ]
  },
  {
   "cell_type": "code",
   "execution_count": 336,
   "metadata": {
    "ExecuteTime": {
     "end_time": "2019-12-03T17:58:45.628132Z",
     "start_time": "2019-12-03T17:58:40.171Z"
    }
   },
   "outputs": [],
   "source": [
    "# Create 'admission_type'\n",
    "diabete_data <- mutate(diabete_data, admission_type = ifelse(admission_type_id == 0, 'Other', \n",
    "                                            ifelse(admission_type_id == 1, 'Emergency',\n",
    "                                            ifelse(admission_type_id == 2, 'Urgent',\n",
    "                                            ifelse(admission_type_id == 3, 'Elective', NA)))))"
   ]
  },
  {
   "cell_type": "code",
   "execution_count": 337,
   "metadata": {
    "ExecuteTime": {
     "end_time": "2019-12-03T17:58:45.725482Z",
     "start_time": "2019-12-03T17:58:40.176Z"
    }
   },
   "outputs": [
    {
     "data": {
      "text/html": [
       "<table>\n",
       "<thead><tr><th scope=col>admission_type_id</th><th scope=col>admission_type</th></tr></thead>\n",
       "<tbody>\n",
       "\t<tr><td>NA       </td><td>NA       </td></tr>\n",
       "\t<tr><td> 1       </td><td>Emergency</td></tr>\n",
       "\t<tr><td> 1       </td><td>Emergency</td></tr>\n",
       "\t<tr><td> 1       </td><td>Emergency</td></tr>\n",
       "\t<tr><td> 1       </td><td>Emergency</td></tr>\n",
       "\t<tr><td> 2       </td><td>Urgent   </td></tr>\n",
       "</tbody>\n",
       "</table>\n"
      ],
      "text/latex": [
       "\\begin{tabular}{r|ll}\n",
       " admission\\_type\\_id & admission\\_type\\\\\n",
       "\\hline\n",
       "\t NA        & NA       \\\\\n",
       "\t  1        & Emergency\\\\\n",
       "\t  1        & Emergency\\\\\n",
       "\t  1        & Emergency\\\\\n",
       "\t  1        & Emergency\\\\\n",
       "\t  2        & Urgent   \\\\\n",
       "\\end{tabular}\n"
      ],
      "text/markdown": [
       "\n",
       "| admission_type_id | admission_type |\n",
       "|---|---|\n",
       "| NA        | NA        |\n",
       "|  1        | Emergency |\n",
       "|  1        | Emergency |\n",
       "|  1        | Emergency |\n",
       "|  1        | Emergency |\n",
       "|  2        | Urgent    |\n",
       "\n"
      ],
      "text/plain": [
       "  admission_type_id admission_type\n",
       "1 NA                NA            \n",
       "2  1                Emergency     \n",
       "3  1                Emergency     \n",
       "4  1                Emergency     \n",
       "5  1                Emergency     \n",
       "6  2                Urgent        "
      ]
     },
     "metadata": {},
     "output_type": "display_data"
    }
   ],
   "source": [
    "head(diabete_data[c('admission_type_id', 'admission_type')])"
   ]
  },
  {
   "cell_type": "code",
   "execution_count": 338,
   "metadata": {
    "ExecuteTime": {
     "end_time": "2019-12-03T17:58:45.849203Z",
     "start_time": "2019-12-03T17:58:40.181Z"
    }
   },
   "outputs": [
    {
     "data": {
      "text/plain": [
       "\n",
       "    1     2     3     4     5     6     7     8     9    10    11    12    13 \n",
       "60234  2128 13954   815  1184 12902   623   108    21     6  1642     3   399 \n",
       "   14    15    16    17    18    19    20    22    23    24    25    27    28 \n",
       "  372    63    11    14  3691     8     2  1993   412    48   989     5   139 "
      ]
     },
     "metadata": {},
     "output_type": "display_data"
    }
   ],
   "source": [
    "table(diabete_data$discharge_disposition_id, exclude = NULL)"
   ]
  },
  {
   "cell_type": "code",
   "execution_count": 339,
   "metadata": {
    "ExecuteTime": {
     "end_time": "2019-12-03T17:58:45.915024Z",
     "start_time": "2019-12-03T17:58:40.186Z"
    }
   },
   "outputs": [],
   "source": [
    "# Missing values\n",
    "diabete_data$discharge_disposition_id[diabete_data$discharge_disposition_id == 18] <- NA # NULL\n",
    "diabete_data$discharge_disposition_id[diabete_data$discharge_disposition_id == 25] <- NA # Not Mapped\n",
    "diabete_data$discharge_disposition_id[diabete_data$discharge_disposition_id == 26] <- NA # Unknown/Invalid\n"
   ]
  },
  {
   "cell_type": "code",
   "execution_count": 340,
   "metadata": {
    "ExecuteTime": {
     "end_time": "2019-12-03T17:58:45.983840Z",
     "start_time": "2019-12-03T17:58:40.193Z"
    }
   },
   "outputs": [],
   "source": [
    "# convert less common values to 'Other'\n",
    "diabete_data$discharge_disposition_id[diabete_data$discharge_disposition_id==9 \n",
    "                                     | diabete_data$discharge_disposition_id==10\n",
    "                                     | diabete_data$discharge_disposition_id==12\n",
    "                                     | diabete_data$discharge_disposition_id==15\n",
    "                                     | diabete_data$discharge_disposition_id==16\n",
    "                                     | diabete_data$discharge_disposition_id==17\n",
    "                                     | diabete_data$discharge_disposition_id==19\n",
    "                                     | diabete_data$discharge_disposition_id==20\n",
    "                                     | diabete_data$discharge_disposition_id==24\n",
    "                                     | diabete_data$discharge_disposition_id==27] <- 0"
   ]
  },
  {
   "cell_type": "code",
   "execution_count": 341,
   "metadata": {
    "ExecuteTime": {
     "end_time": "2019-12-03T17:58:46.281294Z",
     "start_time": "2019-12-03T17:58:40.199Z"
    }
   },
   "outputs": [
    {
     "data": {
      "text/plain": [
       "\n",
       "    0     1     2     3     4     5     6     7     8    11    13    14    22 \n",
       "  181 60234  2128 13954   815  1184 12902   623   108  1642   399   372  1993 \n",
       "   23    28  <NA> \n",
       "  412   139  4680 "
      ]
     },
     "metadata": {},
     "output_type": "display_data"
    }
   ],
   "source": [
    "table(diabete_data$discharge_disposition_id, exclude = NULL)"
   ]
  },
  {
   "cell_type": "code",
   "execution_count": 342,
   "metadata": {
    "ExecuteTime": {
     "end_time": "2019-12-03T17:58:47.303125Z",
     "start_time": "2019-12-03T17:58:40.204Z"
    }
   },
   "outputs": [],
   "source": [
    "# Create 'discharge_disposition'\n",
    "diabete_data <- mutate(diabete_data, discharge_disposition = ifelse(discharge_disposition_id == 0, 'Other', \n",
    "                                            ifelse(discharge_disposition_id == 1, 'Home',\n",
    "                                            ifelse(discharge_disposition_id == 2, 'Short_term_hospital',\n",
    "                                            ifelse(discharge_disposition_id == 3, 'SNF',\n",
    "                                            ifelse(discharge_disposition_id == 4, 'ICF',\n",
    "                                            ifelse(discharge_disposition_id == 5, 'another_type_of_inpatient_care_institution',\n",
    "                                            ifelse(discharge_disposition_id == 6, 'Home_with_home_health_service',\n",
    "                                            ifelse(discharge_disposition_id == 7, 'Left_AMA',\n",
    "                                            ifelse(discharge_disposition_id == 8, 'home_under_care_of_home_IV_provider',\n",
    "                                            ifelse(discharge_disposition_id == 11, 'Expired',\n",
    "                                            ifelse(discharge_disposition_id == 13, 'Hospice/Home',\n",
    "                                            ifelse(discharge_disposition_id == 14, 'Hospice/Medical_facility',\n",
    "                                            ifelse(discharge_disposition_id == 22, 'Another_rehab_fac_including_rehab_units_of_a_hospital',\n",
    "                                            ifelse(discharge_disposition_id == 23, 'Long_term_care_hospital',\n",
    "                                            ifelse(discharge_disposition_id == 28, 'Psychiatric_hospital_of_psychiatric_distinct_part_unit_of_a_hospital',\n",
    "                                                   NA))))))))))))))))"
   ]
  },
  {
   "cell_type": "code",
   "execution_count": 343,
   "metadata": {
    "ExecuteTime": {
     "end_time": "2019-12-03T17:58:47.402121Z",
     "start_time": "2019-12-03T17:58:40.210Z"
    }
   },
   "outputs": [
    {
     "data": {
      "text/html": [
       "<table>\n",
       "<thead><tr><th scope=col>discharge_disposition_id</th><th scope=col>discharge_disposition</th></tr></thead>\n",
       "<tbody>\n",
       "\t<tr><td>NA  </td><td>NA  </td></tr>\n",
       "\t<tr><td> 1  </td><td>Home</td></tr>\n",
       "\t<tr><td> 1  </td><td>Home</td></tr>\n",
       "\t<tr><td> 1  </td><td>Home</td></tr>\n",
       "\t<tr><td> 1  </td><td>Home</td></tr>\n",
       "\t<tr><td> 1  </td><td>Home</td></tr>\n",
       "</tbody>\n",
       "</table>\n"
      ],
      "text/latex": [
       "\\begin{tabular}{r|ll}\n",
       " discharge\\_disposition\\_id & discharge\\_disposition\\\\\n",
       "\\hline\n",
       "\t NA   & NA  \\\\\n",
       "\t  1   & Home\\\\\n",
       "\t  1   & Home\\\\\n",
       "\t  1   & Home\\\\\n",
       "\t  1   & Home\\\\\n",
       "\t  1   & Home\\\\\n",
       "\\end{tabular}\n"
      ],
      "text/markdown": [
       "\n",
       "| discharge_disposition_id | discharge_disposition |\n",
       "|---|---|\n",
       "| NA   | NA   |\n",
       "|  1   | Home |\n",
       "|  1   | Home |\n",
       "|  1   | Home |\n",
       "|  1   | Home |\n",
       "|  1   | Home |\n",
       "\n"
      ],
      "text/plain": [
       "  discharge_disposition_id discharge_disposition\n",
       "1 NA                       NA                   \n",
       "2  1                       Home                 \n",
       "3  1                       Home                 \n",
       "4  1                       Home                 \n",
       "5  1                       Home                 \n",
       "6  1                       Home                 "
      ]
     },
     "metadata": {},
     "output_type": "display_data"
    }
   ],
   "source": [
    "head(diabete_data[c('discharge_disposition_id', 'discharge_disposition')])"
   ]
  },
  {
   "cell_type": "code",
   "execution_count": 344,
   "metadata": {
    "ExecuteTime": {
     "end_time": "2019-12-03T17:58:47.505651Z",
     "start_time": "2019-12-03T17:58:40.217Z"
    }
   },
   "outputs": [
    {
     "name": "stdout",
     "output_type": "stream",
     "text": [
      "Conversion complete!"
     ]
    }
   ],
   "source": [
    "diabete_data$admission_source <- as.factor(diabete_data$admission_source)\n",
    "diabete_data$admission_type <- as.factor(diabete_data$admission_type)\n",
    "diabete_data$discharge_disposition <- as.factor(diabete_data$discharge_disposition)\n",
    "\n",
    "cat('Conversion complete!')"
   ]
  },
  {
   "cell_type": "code",
   "execution_count": 345,
   "metadata": {
    "ExecuteTime": {
     "end_time": "2019-12-03T17:58:48.137065Z",
     "start_time": "2019-12-03T17:58:40.223Z"
    }
   },
   "outputs": [
    {
     "data": {
      "text/plain": [
       "  patient_nbr                     race                   gender     \n",
       " Min.   :      135   ?              :    0   Female         :54708  \n",
       " 1st Qu.: 23413221   AfricanAmerican:19210   Male           :47055  \n",
       " Median : 45505143   Asian          :  641   Unknown/Invalid:    3  \n",
       " Mean   : 54330401   Caucasian      :76099                          \n",
       " 3rd Qu.: 87545950   Hispanic       : 2037                          \n",
       " Max.   :189502619   Other          : 1506                          \n",
       "                     NA's           : 2273                          \n",
       "      age              weight      admission_type_id discharge_disposition_id\n",
       " [70-80):26068   [75-100) : 1336   Min.   :0.000     Min.   : 0.000          \n",
       " [60-70):22483   [50-75)  :  897   1st Qu.:1.000     1st Qu.: 1.000          \n",
       " [50-60):17256   [100-125):  625   Median :1.000     Median : 1.000          \n",
       " [80-90):17197   [125-150):  145   Mean   :1.615     Mean   : 2.924          \n",
       " [40-50): 9685   [25-50)  :   97   3rd Qu.:2.000     3rd Qu.: 3.000          \n",
       " [30-40): 3775   (Other)  :   97   Max.   :3.000     Max.   :28.000          \n",
       " (Other): 5302   NA's     :98569   NA's   :10396     NA's   :4680            \n",
       " admission_source_id time_in_hospital   payer_code   \n",
       " Min.   :0.000       Min.   : 1.000   MC     :32439  \n",
       " 1st Qu.:1.000       1st Qu.: 2.000   HM     : 6274  \n",
       " Median :7.000       Median : 4.000   SP     : 5007  \n",
       " Mean   :4.915       Mean   : 4.396   BC     : 4655  \n",
       " 3rd Qu.:7.000       3rd Qu.: 6.000   MD     : 3532  \n",
       " Max.   :7.000       Max.   :14.000   (Other): 9603  \n",
       " NA's   :7067                         NA's   :40256  \n",
       "              medical_specialty num_lab_procedures num_procedures\n",
       " InternalMedicine      :14635   Min.   :  1.0      Min.   :0.00  \n",
       " Emergency/Trauma      : 7565   1st Qu.: 31.0      1st Qu.:0.00  \n",
       " Family/GeneralPractice: 7440   Median : 44.0      Median :1.00  \n",
       " Cardiology            : 5352   Mean   : 43.1      Mean   :1.34  \n",
       " Surgery-General       : 3099   3rd Qu.: 57.0      3rd Qu.:2.00  \n",
       " (Other)               :13726   Max.   :132.0      Max.   :6.00  \n",
       " NA's                  :49949                                    \n",
       " num_medications number_outpatient number_emergency  number_inpatient \n",
       " Min.   : 1.00   Min.   : 0.0000   Min.   : 0.0000   Min.   : 0.0000  \n",
       " 1st Qu.:10.00   1st Qu.: 0.0000   1st Qu.: 0.0000   1st Qu.: 0.0000  \n",
       " Median :15.00   Median : 0.0000   Median : 0.0000   Median : 0.0000  \n",
       " Mean   :16.02   Mean   : 0.3694   Mean   : 0.1978   Mean   : 0.6356  \n",
       " 3rd Qu.:20.00   3rd Qu.: 0.0000   3rd Qu.: 0.0000   3rd Qu.: 1.0000  \n",
       " Max.   :81.00   Max.   :42.0000   Max.   :76.0000   Max.   :21.0000  \n",
       "                                                                      \n",
       "     diag_1          diag_2          diag_3      number_diagnoses max_glu_serum\n",
       " 428    : 6862   276    : 6752   250    :11555   Min.   : 1.000   >200: 1485   \n",
       " 414    : 6581   428    : 6662   401    : 8289   1st Qu.: 6.000   >300: 1264   \n",
       " 786    : 4016   250    : 6071   276    : 5175   Median : 8.000   None:96420   \n",
       " 410    : 3614   427    : 5036   428    : 4577   Mean   : 7.423   Norm: 2597   \n",
       " 486    : 3508   401    : 3736   427    : 3955   3rd Qu.: 9.000                \n",
       " (Other):77164   (Other):73151   (Other):66792   Max.   :16.000                \n",
       " NA's   :   21   NA's   :  358   NA's   : 1423                                 \n",
       " A1Cresult     metformin     repaglinide     nateglinide     chlorpropamide \n",
       " >7  : 3812   Down  :  575   Down  :    45   Down  :    11   Down  :     1  \n",
       " >8  : 8216   No    :81778   No    :100227   No    :101063   No    :101680  \n",
       " None:84748   Steady:18346   Steady:  1384   Steady:   668   Steady:    79  \n",
       " Norm: 4990   Up    : 1067   Up    :   110   Up    :    24   Up    :     6  \n",
       "                                                                            \n",
       "                                                                            \n",
       "                                                                            \n",
       " glimepiride    acetohexamide    glipizide      glyburide     tolbutamide    \n",
       " Down  :  194   No    :101765   Down  :  560   Down  :  564   No    :101743  \n",
       " No    :96575   Steady:     1   No    :89080   No    :91116   Steady:    23  \n",
       " Steady: 4670                   Steady:11356   Steady: 9274                  \n",
       " Up    :  327                   Up    :  770   Up    :  812                  \n",
       "                                                                             \n",
       "                                                                             \n",
       "                                                                             \n",
       " pioglitazone   rosiglitazone    acarbose        miglitol      troglitazone   \n",
       " Down  :  118   Down  :   87   Down  :     3   Down  :     5   No    :101763  \n",
       " No    :94438   No    :95401   No    :101458   No    :101728   Steady:     3  \n",
       " Steady: 6976   Steady: 6100   Steady:   295   Steady:    31                  \n",
       " Up    :  234   Up    :  178   Up    :    10   Up    :     2                  \n",
       "                                                                              \n",
       "                                                                              \n",
       "                                                                              \n",
       "  tolazamide     examide     citoglipton   insulin      glyburide.metformin\n",
       " No    :101727   No:101766   No:101766   Down  :12218   Down  :     6      \n",
       " Steady:    38                           No    :47383   No    :101060      \n",
       " Up    :     1                           Steady:30849   Steady:   692      \n",
       "                                         Up    :11316   Up    :     8      \n",
       "                                                                           \n",
       "                                                                           \n",
       "                                                                           \n",
       " glipizide.metformin glimepiride.pioglitazone metformin.rosiglitazone\n",
       " No    :101753       No    :101765            No    :101764          \n",
       " Steady:    13       Steady:     1            Steady:     2          \n",
       "                                                                     \n",
       "                                                                     \n",
       "                                                                     \n",
       "                                                                     \n",
       "                                                                     \n",
       " metformin.pioglitazone change     diabetesMed readmitted \n",
       " No    :101765          Ch:47011   No :23403   <30:11357  \n",
       " Steady:     1          No:54755   Yes:78363   >30:35545  \n",
       "                                               NO :54864  \n",
       "                                                          \n",
       "                                                          \n",
       "                                                          \n",
       "                                                          \n",
       "                          admission_source   admission_type \n",
       " Emergency_Room                   :57494   Elective :18869  \n",
       " Physician_Referral               :29565   Emergency:53990  \n",
       " Transfer_from_Hospital           : 3187   Other    :   31  \n",
       " Transfer_from_Healthcare_Facility: 2264   Urgent   :18480  \n",
       " Clinic_Referral                  : 1104   NA's     :10396  \n",
       " (Other)                          : 1085                    \n",
       " NA's                             : 7067                    \n",
       "                                           discharge_disposition\n",
       " Home                                                 :60234    \n",
       " SNF                                                  :13954    \n",
       " Home_with_home_health_service                        :12902    \n",
       " Short_term_hospital                                  : 2128    \n",
       " Another_rehab_fac_including_rehab_units_of_a_hospital: 1993    \n",
       " (Other)                                              : 5875    \n",
       " NA's                                                 : 4680    "
      ]
     },
     "metadata": {},
     "output_type": "display_data"
    }
   ],
   "source": [
    "summary(diabete_data[,-1])"
   ]
  },
  {
   "cell_type": "code",
   "execution_count": 346,
   "metadata": {
    "ExecuteTime": {
     "end_time": "2019-12-03T17:58:48.263058Z",
     "start_time": "2019-12-03T17:58:40.234Z"
    }
   },
   "outputs": [
    {
     "data": {
      "text/html": [
       "<dl class=dl-horizontal>\n",
       "\t<dt>encounter_id</dt>\n",
       "\t\t<dd>0</dd>\n",
       "\t<dt>patient_nbr</dt>\n",
       "\t\t<dd>0</dd>\n",
       "\t<dt>race</dt>\n",
       "\t\t<dd>2273</dd>\n",
       "\t<dt>gender</dt>\n",
       "\t\t<dd>0</dd>\n",
       "\t<dt>age</dt>\n",
       "\t\t<dd>0</dd>\n",
       "\t<dt>weight</dt>\n",
       "\t\t<dd>98569</dd>\n",
       "\t<dt>admission_type_id</dt>\n",
       "\t\t<dd>10396</dd>\n",
       "\t<dt>discharge_disposition_id</dt>\n",
       "\t\t<dd>4680</dd>\n",
       "\t<dt>admission_source_id</dt>\n",
       "\t\t<dd>7067</dd>\n",
       "\t<dt>time_in_hospital</dt>\n",
       "\t\t<dd>0</dd>\n",
       "\t<dt>payer_code</dt>\n",
       "\t\t<dd>40256</dd>\n",
       "\t<dt>medical_specialty</dt>\n",
       "\t\t<dd>49949</dd>\n",
       "\t<dt>num_lab_procedures</dt>\n",
       "\t\t<dd>0</dd>\n",
       "\t<dt>num_procedures</dt>\n",
       "\t\t<dd>0</dd>\n",
       "\t<dt>num_medications</dt>\n",
       "\t\t<dd>0</dd>\n",
       "\t<dt>number_outpatient</dt>\n",
       "\t\t<dd>0</dd>\n",
       "\t<dt>number_emergency</dt>\n",
       "\t\t<dd>0</dd>\n",
       "\t<dt>number_inpatient</dt>\n",
       "\t\t<dd>0</dd>\n",
       "\t<dt>diag_1</dt>\n",
       "\t\t<dd>21</dd>\n",
       "\t<dt>diag_2</dt>\n",
       "\t\t<dd>358</dd>\n",
       "\t<dt>diag_3</dt>\n",
       "\t\t<dd>1423</dd>\n",
       "\t<dt>number_diagnoses</dt>\n",
       "\t\t<dd>0</dd>\n",
       "\t<dt>max_glu_serum</dt>\n",
       "\t\t<dd>0</dd>\n",
       "\t<dt>A1Cresult</dt>\n",
       "\t\t<dd>0</dd>\n",
       "\t<dt>metformin</dt>\n",
       "\t\t<dd>0</dd>\n",
       "\t<dt>repaglinide</dt>\n",
       "\t\t<dd>0</dd>\n",
       "\t<dt>nateglinide</dt>\n",
       "\t\t<dd>0</dd>\n",
       "\t<dt>chlorpropamide</dt>\n",
       "\t\t<dd>0</dd>\n",
       "\t<dt>glimepiride</dt>\n",
       "\t\t<dd>0</dd>\n",
       "\t<dt>acetohexamide</dt>\n",
       "\t\t<dd>0</dd>\n",
       "\t<dt>glipizide</dt>\n",
       "\t\t<dd>0</dd>\n",
       "\t<dt>glyburide</dt>\n",
       "\t\t<dd>0</dd>\n",
       "\t<dt>tolbutamide</dt>\n",
       "\t\t<dd>0</dd>\n",
       "\t<dt>pioglitazone</dt>\n",
       "\t\t<dd>0</dd>\n",
       "\t<dt>rosiglitazone</dt>\n",
       "\t\t<dd>0</dd>\n",
       "\t<dt>acarbose</dt>\n",
       "\t\t<dd>0</dd>\n",
       "\t<dt>miglitol</dt>\n",
       "\t\t<dd>0</dd>\n",
       "\t<dt>troglitazone</dt>\n",
       "\t\t<dd>0</dd>\n",
       "\t<dt>tolazamide</dt>\n",
       "\t\t<dd>0</dd>\n",
       "\t<dt>examide</dt>\n",
       "\t\t<dd>0</dd>\n",
       "\t<dt>citoglipton</dt>\n",
       "\t\t<dd>0</dd>\n",
       "\t<dt>insulin</dt>\n",
       "\t\t<dd>0</dd>\n",
       "\t<dt>glyburide.metformin</dt>\n",
       "\t\t<dd>0</dd>\n",
       "\t<dt>glipizide.metformin</dt>\n",
       "\t\t<dd>0</dd>\n",
       "\t<dt>glimepiride.pioglitazone</dt>\n",
       "\t\t<dd>0</dd>\n",
       "\t<dt>metformin.rosiglitazone</dt>\n",
       "\t\t<dd>0</dd>\n",
       "\t<dt>metformin.pioglitazone</dt>\n",
       "\t\t<dd>0</dd>\n",
       "\t<dt>change</dt>\n",
       "\t\t<dd>0</dd>\n",
       "\t<dt>diabetesMed</dt>\n",
       "\t\t<dd>0</dd>\n",
       "\t<dt>readmitted</dt>\n",
       "\t\t<dd>0</dd>\n",
       "\t<dt>admission_source</dt>\n",
       "\t\t<dd>7067</dd>\n",
       "\t<dt>admission_type</dt>\n",
       "\t\t<dd>10396</dd>\n",
       "\t<dt>discharge_disposition</dt>\n",
       "\t\t<dd>4680</dd>\n",
       "</dl>\n"
      ],
      "text/latex": [
       "\\begin{description*}\n",
       "\\item[encounter\\textbackslash{}\\_id] 0\n",
       "\\item[patient\\textbackslash{}\\_nbr] 0\n",
       "\\item[race] 2273\n",
       "\\item[gender] 0\n",
       "\\item[age] 0\n",
       "\\item[weight] 98569\n",
       "\\item[admission\\textbackslash{}\\_type\\textbackslash{}\\_id] 10396\n",
       "\\item[discharge\\textbackslash{}\\_disposition\\textbackslash{}\\_id] 4680\n",
       "\\item[admission\\textbackslash{}\\_source\\textbackslash{}\\_id] 7067\n",
       "\\item[time\\textbackslash{}\\_in\\textbackslash{}\\_hospital] 0\n",
       "\\item[payer\\textbackslash{}\\_code] 40256\n",
       "\\item[medical\\textbackslash{}\\_specialty] 49949\n",
       "\\item[num\\textbackslash{}\\_lab\\textbackslash{}\\_procedures] 0\n",
       "\\item[num\\textbackslash{}\\_procedures] 0\n",
       "\\item[num\\textbackslash{}\\_medications] 0\n",
       "\\item[number\\textbackslash{}\\_outpatient] 0\n",
       "\\item[number\\textbackslash{}\\_emergency] 0\n",
       "\\item[number\\textbackslash{}\\_inpatient] 0\n",
       "\\item[diag\\textbackslash{}\\_1] 21\n",
       "\\item[diag\\textbackslash{}\\_2] 358\n",
       "\\item[diag\\textbackslash{}\\_3] 1423\n",
       "\\item[number\\textbackslash{}\\_diagnoses] 0\n",
       "\\item[max\\textbackslash{}\\_glu\\textbackslash{}\\_serum] 0\n",
       "\\item[A1Cresult] 0\n",
       "\\item[metformin] 0\n",
       "\\item[repaglinide] 0\n",
       "\\item[nateglinide] 0\n",
       "\\item[chlorpropamide] 0\n",
       "\\item[glimepiride] 0\n",
       "\\item[acetohexamide] 0\n",
       "\\item[glipizide] 0\n",
       "\\item[glyburide] 0\n",
       "\\item[tolbutamide] 0\n",
       "\\item[pioglitazone] 0\n",
       "\\item[rosiglitazone] 0\n",
       "\\item[acarbose] 0\n",
       "\\item[miglitol] 0\n",
       "\\item[troglitazone] 0\n",
       "\\item[tolazamide] 0\n",
       "\\item[examide] 0\n",
       "\\item[citoglipton] 0\n",
       "\\item[insulin] 0\n",
       "\\item[glyburide.metformin] 0\n",
       "\\item[glipizide.metformin] 0\n",
       "\\item[glimepiride.pioglitazone] 0\n",
       "\\item[metformin.rosiglitazone] 0\n",
       "\\item[metformin.pioglitazone] 0\n",
       "\\item[change] 0\n",
       "\\item[diabetesMed] 0\n",
       "\\item[readmitted] 0\n",
       "\\item[admission\\textbackslash{}\\_source] 7067\n",
       "\\item[admission\\textbackslash{}\\_type] 10396\n",
       "\\item[discharge\\textbackslash{}\\_disposition] 4680\n",
       "\\end{description*}\n"
      ],
      "text/markdown": [
       "encounter_id\n",
       ":   0patient_nbr\n",
       ":   0race\n",
       ":   2273gender\n",
       ":   0age\n",
       ":   0weight\n",
       ":   98569admission_type_id\n",
       ":   10396discharge_disposition_id\n",
       ":   4680admission_source_id\n",
       ":   7067time_in_hospital\n",
       ":   0payer_code\n",
       ":   40256medical_specialty\n",
       ":   49949num_lab_procedures\n",
       ":   0num_procedures\n",
       ":   0num_medications\n",
       ":   0number_outpatient\n",
       ":   0number_emergency\n",
       ":   0number_inpatient\n",
       ":   0diag_1\n",
       ":   21diag_2\n",
       ":   358diag_3\n",
       ":   1423number_diagnoses\n",
       ":   0max_glu_serum\n",
       ":   0A1Cresult\n",
       ":   0metformin\n",
       ":   0repaglinide\n",
       ":   0nateglinide\n",
       ":   0chlorpropamide\n",
       ":   0glimepiride\n",
       ":   0acetohexamide\n",
       ":   0glipizide\n",
       ":   0glyburide\n",
       ":   0tolbutamide\n",
       ":   0pioglitazone\n",
       ":   0rosiglitazone\n",
       ":   0acarbose\n",
       ":   0miglitol\n",
       ":   0troglitazone\n",
       ":   0tolazamide\n",
       ":   0examide\n",
       ":   0citoglipton\n",
       ":   0insulin\n",
       ":   0glyburide.metformin\n",
       ":   0glipizide.metformin\n",
       ":   0glimepiride.pioglitazone\n",
       ":   0metformin.rosiglitazone\n",
       ":   0metformin.pioglitazone\n",
       ":   0change\n",
       ":   0diabetesMed\n",
       ":   0readmitted\n",
       ":   0admission_source\n",
       ":   7067admission_type\n",
       ":   10396discharge_disposition\n",
       ":   4680\n",
       "\n"
      ],
      "text/plain": [
       "            encounter_id              patient_nbr                     race \n",
       "                       0                        0                     2273 \n",
       "                  gender                      age                   weight \n",
       "                       0                        0                    98569 \n",
       "       admission_type_id discharge_disposition_id      admission_source_id \n",
       "                   10396                     4680                     7067 \n",
       "        time_in_hospital               payer_code        medical_specialty \n",
       "                       0                    40256                    49949 \n",
       "      num_lab_procedures           num_procedures          num_medications \n",
       "                       0                        0                        0 \n",
       "       number_outpatient         number_emergency         number_inpatient \n",
       "                       0                        0                        0 \n",
       "                  diag_1                   diag_2                   diag_3 \n",
       "                      21                      358                     1423 \n",
       "        number_diagnoses            max_glu_serum                A1Cresult \n",
       "                       0                        0                        0 \n",
       "               metformin              repaglinide              nateglinide \n",
       "                       0                        0                        0 \n",
       "          chlorpropamide              glimepiride            acetohexamide \n",
       "                       0                        0                        0 \n",
       "               glipizide                glyburide              tolbutamide \n",
       "                       0                        0                        0 \n",
       "            pioglitazone            rosiglitazone                 acarbose \n",
       "                       0                        0                        0 \n",
       "                miglitol             troglitazone               tolazamide \n",
       "                       0                        0                        0 \n",
       "                 examide              citoglipton                  insulin \n",
       "                       0                        0                        0 \n",
       "     glyburide.metformin      glipizide.metformin glimepiride.pioglitazone \n",
       "                       0                        0                        0 \n",
       " metformin.rosiglitazone   metformin.pioglitazone                   change \n",
       "                       0                        0                        0 \n",
       "             diabetesMed               readmitted         admission_source \n",
       "                       0                        0                     7067 \n",
       "          admission_type    discharge_disposition \n",
       "                   10396                     4680 "
      ]
     },
     "metadata": {},
     "output_type": "display_data"
    }
   ],
   "source": [
    "sapply(diabete_data, function(x) sum(is.na(x)))"
   ]
  },
  {
   "cell_type": "code",
   "execution_count": 347,
   "metadata": {
    "ExecuteTime": {
     "end_time": "2019-12-03T17:58:48.365574Z",
     "start_time": "2019-12-03T17:58:40.243Z"
    }
   },
   "outputs": [
    {
     "data": {
      "text/plain": [
       "\n",
       "     ?     10     11    110    112    114    115    117    131    133    135 \n",
       "     0      1     10      2     73      1      2      9      2      1     27 \n",
       "   136    141    142    143    145    146    147    148    149    150    151 \n",
       "     5      6      4      1      1      4      2      1      2     27     62 \n",
       "   152    153    154    155    156    157    158    160    161    162    163 \n",
       "    15    311     94     54     18    114     12      1     12    425      9 \n",
       "   164    170    171    172    173    174    175    179    180    182    183 \n",
       "     3      2     12      4      3    147      5      4      6    108     31 \n",
       "   184    185    187    188    189    191    192    193    194    195    196 \n",
       "    10    173      2    112    126     45      4     28      2      9     25 \n",
       "   197    198    199    200    201    202    203    204    205    207    208 \n",
       "   320    242     14     16     10    104     35     23     27      1      5 \n",
       "   210    211    212    214    215    216    217    218    219    220    223 \n",
       "     7    103      8      6      5      1      1    127      1     46      7 \n",
       "   225    226    227    228    229     23    230    233    235    236    237 \n",
       "    46     19     46      5      2      2      9     29     27      3      7 \n",
       "   238    239    240    241    242    244    245    246    250 250.01 250.02 \n",
       "    62     33      3     58     22     11      4      2    235     61    675 \n",
       "250.03  250.1 250.11 250.12 250.13  250.2 250.21 250.22 250.23  250.3 250.31 \n",
       "   201    313    625    417    851    114     12    156     29     20     15 \n",
       "250.32 250.33  250.4 250.41 250.42 250.43  250.5 250.51 250.52 250.53  250.6 \n",
       "    17     19    267     91     90     25      8      1      4      4   1183 \n",
       " 250.7  250.8 250.81 250.82 250.83  250.9 250.91 250.92 250.93    251    252 \n",
       "   871   1680    186    412     95      7      4     52     17     15     23 \n",
       "   253    255    261    262    263    266     27    271    272    273    274 \n",
       "    50     24      4      3     12      3      2      3      6      6     96 \n",
       "   275    276    277    278    279    280    281    282    283    284    285 \n",
       "    53   1889     34    379      2    319     20     68     28     61    365 \n",
       "   286    287    288    289    290    291    292    293    294    295    296 \n",
       "    45     86     92     19     86     91    107     56    116    447    896 \n",
       "   297    298    299      3    300    301    303    304    305    306    307 \n",
       "    14     64      1     13     90      4     69     32     25     10     25 \n",
       "   308    309     31    310    311    312    314    318    320    322    323 \n",
       "     3     37      3     12     57     18      1      1      7      2     10 \n",
       "   324    325    327    331    332    333    334    335    336    337    338 \n",
       "     6      1     24    192     55     35      2      9      3     10     20 \n",
       "    34    340    341    342    344    345    346    347    348    349     35 \n",
       "     7     45      7      8      6    113     82      1    152     35     10 \n",
       "   350    351    352    353    354    355    356    357    358    359     36 \n",
       "    11     30      2      6      9     17      5     20     14      8      2 \n",
       "   360    361    362    363    365    366    368    369    370    372    373 \n",
       "     2      5      8      1      1      1     12      2      3      1      1 \n",
       "   374    375    376    377    378    379     38    380    381    382    383 \n",
       "     3      1     12      3     14      5   1688     20      1      4      9 \n",
       "   384    385    386    388    389     39    391    394    395    396    397 \n",
       "     2      2    145      5      1      2      1     11      5     30      5 \n",
       "   398    401    402    403    404    405     41    410    411    412    413 \n",
       "   128    346    449    513    262      3      8   3614    254      1    117 \n",
       "   414    415    416    417     42    420    421    422    423    424    425 \n",
       "  6581    449     68      2     45     64     41      2     72    183     86 \n",
       "   426    427    428    429    430    431    432    433    434    435    436 \n",
       "   288   2766   6862     37     32    172     92    789   2028   1016    175 \n",
       "   437    438    440    441    442    443    444    445    446    447    448 \n",
       "    90     85    840    129     34    110    156      7     23     63      2 \n",
       "   451    452    453    454    455    456    457    458    459    461    462 \n",
       "    40      5    546      9     94     24     12    426     97     20     11 \n",
       "   463    464    465    466     47    470    471    473    474    475    477 \n",
       "     5     10     48    236     26      4      1     23      4     14      1 \n",
       "   478     48    480    481    482    483    485    486    487     49    490 \n",
       "    32      2     18     70    339      5     42   3508    102      5     90 \n",
       "   491    492    493    494    495    496      5    500    501    506    507 \n",
       "  2275     32   1056     24      5     80      9      2      3      3    610 \n",
       "   508    510    511    512    513    514    515    516    518    519     52 \n",
       "     5     33    270     46     16     43    126     34   1115     46      2 \n",
       "   521    522    523    524    526    527    528    529     53    530    531 \n",
       "    11     26      1      4      7     26     20      4     55    531    276 \n",
       "   532    533    534    535    536    537     54    540    541    542    543 \n",
       "   219     22     24    450    150    111     12    198      9      2      1 \n",
       "   550    551    552    553    555    556    557    558    560    562    564 \n",
       "    53      8    234    141     52     46    196    335    876    989    147 \n",
       "   565    566    567    568    569     57    570    571    572    573    574 \n",
       "    12     85     57     32    286      1      6    277    239     41    965 \n",
       "   575    576    577    578    579     58    580    581    582    583    584 \n",
       "   215     97   1057    663      7      2      2     19      2      5   1520 \n",
       "   585    586    588    590    591    592    593    594    595    596    598 \n",
       "    75     21      9    335     19    350    101     14     95     48      5 \n",
       "   599    600    601    602    603    604    605    607    608     61    610 \n",
       "  1595    207     16      3      3     37      1     21     68      1      2 \n",
       "   611    614    615    616    617    618    619    620    621    622    623 \n",
       "    34     21      2     24     19    161      5     47     22      5      4 \n",
       "   625    626    627    632    633    634    637    640    641    642    643 \n",
       "    64     79     18      3      4      2      1      1      9     64      5 \n",
       "   644    645    646    647    648    649    652    653    654    655    656 \n",
       "    27      2     10      5    285      1     13      2     92      5     21 \n",
       "   657    658    659     66    660    661    663    664    665    669    671 \n",
       "     2     26     32      6     12     25      7     20      3      3      1 \n",
       "   674    680    681    682    683    684    685    686    690    691    692 \n",
       "     4     14    112   2042      2      1      6      8      1      1      5 \n",
       "   693    694    695    696    698      7     70    700    703    704    705 \n",
       "    23      6     12      6      1      2     46      1      2      1     10 \n",
       "   706    707    708    709    710    711    714    715    716    717    718 \n",
       "     3    257      8      8     25     66     40   2151     55      7     17 \n",
       "   719    720    721    722    723    724    725    726    727    728    729 \n",
       "    55      4    178    771     77    440     12     91     48    127    106 \n",
       "   730    731    732    733    734    735    736    737    738    745    746 \n",
       "   230      4      2    367      4      2     14      8     56      7      7 \n",
       "   747     75    751    753    756    759     78    780    781    782    783 \n",
       "     7      2      5      5     15      5      9   2019    109     84     29 \n",
       "   784    785    786    787    788    789     79    790    791    792    793 \n",
       "   151    101   4016    267     39    561     86    144      1      5      4 \n",
       "   794    795    796    797    799      8    800    801    802    803    804 \n",
       "    26      3      6      3     68    515      6     33     30      3      1 \n",
       "   805    806    807    808    810    812    813    814    815    816    817 \n",
       "   188      6     83    136     10    235     83      5      7      9      1 \n",
       "    82    820    821    822    823    824    825    826    827    831    832 \n",
       "     7   1082    145     50    127    316     23      3      1      8      1 \n",
       "   833    834    835    836    837    838    839     84    840    842    843 \n",
       "     1      1      5      6      1      1      1      1     14      1     12 \n",
       "   844    845    846    847    848    850    851    852    853    854    860 \n",
       "    29     10      4     12      2     56     35    110     18      5     37 \n",
       "   861    862    863    864    865    866    867    868    870    871    873 \n",
       "    13      3      4      8      8      7     14      3      1      2     18 \n",
       "   875    878    879     88    880    881    882    883    885    886    890 \n",
       "     2      2      3      9      2      5     10      6      1      4      6 \n",
       "   891    892    893    895    897      9    903    904    906    911    913 \n",
       "    10     11      5      1      2     46      1      2      1      1      2 \n",
       "   914    915    916    917    919    920    921    922    923    924    928 \n",
       "     2      1      4      3      1     22      3     41      4     55      3 \n",
       "   933    934    935    936    939     94    941    942    944    945    952 \n",
       "    14      6     13      3      1      7      2      5      2     12      9 \n",
       "   955    957    958    959    962    963    964    965    966    967    968 \n",
       "     1      1     20     44     57      3      8     54     12     17      8 \n",
       "   969     97    970    971    972    973    974    975    976    977     98 \n",
       "    58      1      8      3     17      2      1      2      1     13      1 \n",
       "   980    982    983    986    987    988    989    990    991    992    994 \n",
       "     2      1      5      3      3      1     11      2      7      9      1 \n",
       "   995    996    997    998    999   E909    V07    V25    V26    V43    V45 \n",
       "    78   1967    424    784     29      1      1      1      2      1      5 \n",
       "   V51    V53    V54    V55    V56    V57    V58    V60    V63    V66    V67 \n",
       "     1     44     45     71     16   1207    228      1      8      2      1 \n",
       "   V70    V71   <NA> \n",
       "     1      9     21 "
      ]
     },
     "metadata": {},
     "output_type": "display_data"
    }
   ],
   "source": [
    "table(diabete_data$diag_1, exclude = NULL)"
   ]
  },
  {
   "cell_type": "code",
   "execution_count": 348,
   "metadata": {
    "ExecuteTime": {
     "end_time": "2019-12-03T17:58:49.808863Z",
     "start_time": "2019-12-03T17:58:40.250Z"
    }
   },
   "outputs": [
    {
     "data": {
      "text/html": [
       "<table>\n",
       "<thead><tr><th scope=col>diag_1</th><th scope=col>diag_2</th><th scope=col>diag_3</th></tr></thead>\n",
       "<tbody>\n",
       "\t<tr><td>250.83</td><td>NA    </td><td>NA    </td></tr>\n",
       "\t<tr><td>276   </td><td>250.01</td><td>255   </td></tr>\n",
       "\t<tr><td>648   </td><td>250   </td><td>V27   </td></tr>\n",
       "\t<tr><td>8     </td><td>250.43</td><td>403   </td></tr>\n",
       "\t<tr><td>197   </td><td>157   </td><td>250   </td></tr>\n",
       "\t<tr><td>414   </td><td>411   </td><td>250   </td></tr>\n",
       "</tbody>\n",
       "</table>\n"
      ],
      "text/latex": [
       "\\begin{tabular}{r|lll}\n",
       " diag\\_1 & diag\\_2 & diag\\_3\\\\\n",
       "\\hline\n",
       "\t 250.83 & NA     & NA    \\\\\n",
       "\t 276    & 250.01 & 255   \\\\\n",
       "\t 648    & 250    & V27   \\\\\n",
       "\t 8      & 250.43 & 403   \\\\\n",
       "\t 197    & 157    & 250   \\\\\n",
       "\t 414    & 411    & 250   \\\\\n",
       "\\end{tabular}\n"
      ],
      "text/markdown": [
       "\n",
       "| diag_1 | diag_2 | diag_3 |\n",
       "|---|---|---|\n",
       "| 250.83 | NA     | NA     |\n",
       "| 276    | 250.01 | 255    |\n",
       "| 648    | 250    | V27    |\n",
       "| 8      | 250.43 | 403    |\n",
       "| 197    | 157    | 250    |\n",
       "| 414    | 411    | 250    |\n",
       "\n"
      ],
      "text/plain": [
       "  diag_1 diag_2 diag_3\n",
       "1 250.83 NA     NA    \n",
       "2 276    250.01 255   \n",
       "3 648    250    V27   \n",
       "4 8      250.43 403   \n",
       "5 197    157    250   \n",
       "6 414    411    250   "
      ]
     },
     "metadata": {},
     "output_type": "display_data"
    },
    {
     "data": {
      "text/html": [
       "'factor'"
      ],
      "text/latex": [
       "'factor'"
      ],
      "text/markdown": [
       "'factor'"
      ],
      "text/plain": [
       "[1] \"factor\""
      ]
     },
     "metadata": {},
     "output_type": "display_data"
    },
    {
     "data": {
      "text/html": [
       "'integer'"
      ],
      "text/latex": [
       "'integer'"
      ],
      "text/markdown": [
       "'integer'"
      ],
      "text/plain": [
       "[1] \"integer\""
      ]
     },
     "metadata": {},
     "output_type": "display_data"
    }
   ],
   "source": [
    "# These 3 variables are integers\n",
    "# Find a way to deal with icd9 = E-V\n",
    "head(diabete_data[c('diag_1', 'diag_2', 'diag_3')])\n",
    "class(diabete_data$diag_1)\n",
    "typeof(diabete_data$diag_1)\n",
    "\n",
    "# Using as.numeric only will not convert the factor into intergers, need as.character\n",
    "diabete_data$diag_1 <- as.character(diabete_data$diag_1)\n",
    "\n",
    "# Getting a lot of missing because all of the diagnosis codes that start with letters are \n",
    "# classified as NAs\n",
    "diabete_data <- mutate(diabete_data, diag_1 = ifelse((diag_1 >= '390' & diag_1 <= '459') | diag_1 == '785', 'Circulatory',\n",
    "                                                    ifelse((diag_1 >= '460' & diag_1 <= '519') | diag_1 == '786', 'Respiratory',\n",
    "                                                    ifelse((diag_1 >= '520' & diag_1 <= '579') | diag_1 == '787', 'Digestive',\n",
    "                                                    ifelse(diag_1 >= '250' & diag_1 < '251', 'Diabetes',\n",
    "                                                    ifelse(diag_1 >= '800' & diag_1 <= '999', 'Injury',\n",
    "                                                    ifelse(diag_1 >= '710' & diag_1 <= '739', 'Musculoskeletal',\n",
    "                                                    ifelse((diag_1 >= '580' & diag_1 <= '629') | diag_1 == '788', 'Genitourinary',\n",
    "                                                    ifelse(diag_1 >= '140' & diag_1 <= '239', 'Neoplasms','Other')))))))))\n"
   ]
  },
  {
   "cell_type": "code",
   "execution_count": 349,
   "metadata": {
    "ExecuteTime": {
     "end_time": "2019-12-03T17:58:49.863719Z",
     "start_time": "2019-12-03T17:58:40.256Z"
    }
   },
   "outputs": [
    {
     "data": {
      "text/plain": [
       "\n",
       "    Circulatory        Diabetes       Digestive   Genitourinary          Injury \n",
       "          30490            8757            9543            5118            7046 \n",
       "Musculoskeletal       Neoplasms           Other     Respiratory            <NA> \n",
       "           4957            3435           17934           14465              21 "
      ]
     },
     "metadata": {},
     "output_type": "display_data"
    }
   ],
   "source": [
    "table(diabete_data$diag_1, exclude = NULL)"
   ]
  },
  {
   "cell_type": "code",
   "execution_count": 350,
   "metadata": {
    "ExecuteTime": {
     "end_time": "2019-12-03T17:58:51.034495Z",
     "start_time": "2019-12-03T17:58:40.261Z"
    }
   },
   "outputs": [],
   "source": [
    "# Using as.numeric only will not convert the factor into intergers, need as.character\n",
    "diabete_data$diag_2 <- as.character(diabete_data$diag_2)\n",
    "\n",
    "# Getting a lot of missing because all of the diagnosis codes that start with letters are \n",
    "# classified as NAs\n",
    "diabete_data <- mutate(diabete_data, diag_2 = ifelse((diag_2 >= '390' & diag_2 <= '459') | diag_2 == '785', 'Circulatory',\n",
    "                                                    ifelse((diag_2 >= '460' & diag_2 <= '519') | diag_2 == '786', 'Respiratory',\n",
    "                                                    ifelse((diag_2 >= '520' & diag_2 <= '579') | diag_2 == '787', 'Digestive',\n",
    "                                                    ifelse(diag_2 >= '250' & diag_2 < '251', 'Diabetes',\n",
    "                                                    ifelse(diag_2 >= '800' & diag_2 <= '999', 'Injury',\n",
    "                                                    ifelse(diag_2 >= '710' & diag_2 <= '739', 'Musculoskeletal',\n",
    "                                                    ifelse((diag_2 >= '580' & diag_2 <= '629') | diag_2 == '788', 'Genitourinary',\n",
    "                                                    ifelse(diag_2 >= '140' & diag_2 <= '239', 'Neoplasms','Other')))))))))\n",
    "\n"
   ]
  },
  {
   "cell_type": "code",
   "execution_count": 351,
   "metadata": {
    "ExecuteTime": {
     "end_time": "2019-12-03T17:58:51.124255Z",
     "start_time": "2019-12-03T17:58:40.265Z"
    }
   },
   "outputs": [
    {
     "data": {
      "text/plain": [
       "\n",
       "    Circulatory        Diabetes       Digestive   Genitourinary          Injury \n",
       "          32357           12794            4212            8376            2464 \n",
       "Musculoskeletal       Neoplasms           Other     Respiratory            <NA> \n",
       "           1764            2547           25998           10896             358 "
      ]
     },
     "metadata": {},
     "output_type": "display_data"
    }
   ],
   "source": [
    "table(diabete_data$diag_2, exclude = NULL)"
   ]
  },
  {
   "cell_type": "code",
   "execution_count": 352,
   "metadata": {
    "ExecuteTime": {
     "end_time": "2019-12-03T17:58:52.278991Z",
     "start_time": "2019-12-03T17:58:40.269Z"
    }
   },
   "outputs": [],
   "source": [
    "# Using as.numeric only will not convert the factor into intergers, need as.character\n",
    "diabete_data$diag_3 <- as.character(diabete_data$diag_3)\n",
    "\n",
    "# Getting a lot of missing because all of the diagnosis codes that start with letters are \n",
    "# classified as NAs\n",
    "diabete_data <- mutate(diabete_data, diag_3 = ifelse((diag_3 >= '390' & diag_3 <= '459') | diag_3 == '785', 'Circulatory',\n",
    "                                                    ifelse((diag_3 >= '460' & diag_3 <= '519') | diag_3 == '786', 'Respiratory',\n",
    "                                                    ifelse((diag_3 >= '520' & diag_3 <= '579') | diag_3 == '787', 'Digestive',\n",
    "                                                    ifelse(diag_3 >= '250' & diag_3 < '251', 'Diabetes',\n",
    "                                                    ifelse(diag_3 >= '800' & diag_3 <= '999', 'Injury',\n",
    "                                                    ifelse(diag_3 >= '710' & diag_3 <= '739', 'Musculoskeletal',\n",
    "                                                    ifelse((diag_3 >= '580' & diag_3 <= '629') | diag_3 == '788', 'Genitourinary',\n",
    "                                                    ifelse(diag_3 >= '140' & diag_3 <= '239', 'Neoplasms','Other')))))))))\n",
    "\n",
    "\n"
   ]
  },
  {
   "cell_type": "code",
   "execution_count": 353,
   "metadata": {
    "ExecuteTime": {
     "end_time": "2019-12-03T17:58:52.330902Z",
     "start_time": "2019-12-03T17:58:40.273Z"
    },
    "scrolled": true
   },
   "outputs": [
    {
     "data": {
      "text/plain": [
       "\n",
       "    Circulatory        Diabetes       Digestive   Genitourinary          Injury \n",
       "          31056           17157            3970            6680            1974 \n",
       "Musculoskeletal       Neoplasms           Other     Respiratory            <NA> \n",
       "           1915            1857           28371            7363            1423 "
      ]
     },
     "metadata": {},
     "output_type": "display_data"
    }
   ],
   "source": [
    "table(diabete_data$diag_3, exclude = NULL)"
   ]
  },
  {
   "cell_type": "code",
   "execution_count": 354,
   "metadata": {
    "ExecuteTime": {
     "end_time": "2019-12-03T17:58:52.421658Z",
     "start_time": "2019-12-03T17:58:40.280Z"
    }
   },
   "outputs": [
    {
     "data": {
      "text/html": [
       "<dl class=dl-horizontal>\n",
       "\t<dt>encounter_id</dt>\n",
       "\t\t<dd>0</dd>\n",
       "\t<dt>patient_nbr</dt>\n",
       "\t\t<dd>0</dd>\n",
       "\t<dt>race</dt>\n",
       "\t\t<dd>2273</dd>\n",
       "\t<dt>gender</dt>\n",
       "\t\t<dd>0</dd>\n",
       "\t<dt>age</dt>\n",
       "\t\t<dd>0</dd>\n",
       "\t<dt>weight</dt>\n",
       "\t\t<dd>98569</dd>\n",
       "\t<dt>admission_type_id</dt>\n",
       "\t\t<dd>10396</dd>\n",
       "\t<dt>discharge_disposition_id</dt>\n",
       "\t\t<dd>4680</dd>\n",
       "\t<dt>admission_source_id</dt>\n",
       "\t\t<dd>7067</dd>\n",
       "\t<dt>time_in_hospital</dt>\n",
       "\t\t<dd>0</dd>\n",
       "\t<dt>payer_code</dt>\n",
       "\t\t<dd>40256</dd>\n",
       "\t<dt>medical_specialty</dt>\n",
       "\t\t<dd>49949</dd>\n",
       "\t<dt>num_lab_procedures</dt>\n",
       "\t\t<dd>0</dd>\n",
       "\t<dt>num_procedures</dt>\n",
       "\t\t<dd>0</dd>\n",
       "\t<dt>num_medications</dt>\n",
       "\t\t<dd>0</dd>\n",
       "\t<dt>number_outpatient</dt>\n",
       "\t\t<dd>0</dd>\n",
       "\t<dt>number_emergency</dt>\n",
       "\t\t<dd>0</dd>\n",
       "\t<dt>number_inpatient</dt>\n",
       "\t\t<dd>0</dd>\n",
       "\t<dt>diag_1</dt>\n",
       "\t\t<dd>21</dd>\n",
       "\t<dt>diag_2</dt>\n",
       "\t\t<dd>358</dd>\n",
       "\t<dt>diag_3</dt>\n",
       "\t\t<dd>1423</dd>\n",
       "\t<dt>number_diagnoses</dt>\n",
       "\t\t<dd>0</dd>\n",
       "\t<dt>max_glu_serum</dt>\n",
       "\t\t<dd>0</dd>\n",
       "\t<dt>A1Cresult</dt>\n",
       "\t\t<dd>0</dd>\n",
       "\t<dt>metformin</dt>\n",
       "\t\t<dd>0</dd>\n",
       "\t<dt>repaglinide</dt>\n",
       "\t\t<dd>0</dd>\n",
       "\t<dt>nateglinide</dt>\n",
       "\t\t<dd>0</dd>\n",
       "\t<dt>chlorpropamide</dt>\n",
       "\t\t<dd>0</dd>\n",
       "\t<dt>glimepiride</dt>\n",
       "\t\t<dd>0</dd>\n",
       "\t<dt>acetohexamide</dt>\n",
       "\t\t<dd>0</dd>\n",
       "\t<dt>glipizide</dt>\n",
       "\t\t<dd>0</dd>\n",
       "\t<dt>glyburide</dt>\n",
       "\t\t<dd>0</dd>\n",
       "\t<dt>tolbutamide</dt>\n",
       "\t\t<dd>0</dd>\n",
       "\t<dt>pioglitazone</dt>\n",
       "\t\t<dd>0</dd>\n",
       "\t<dt>rosiglitazone</dt>\n",
       "\t\t<dd>0</dd>\n",
       "\t<dt>acarbose</dt>\n",
       "\t\t<dd>0</dd>\n",
       "\t<dt>miglitol</dt>\n",
       "\t\t<dd>0</dd>\n",
       "\t<dt>troglitazone</dt>\n",
       "\t\t<dd>0</dd>\n",
       "\t<dt>tolazamide</dt>\n",
       "\t\t<dd>0</dd>\n",
       "\t<dt>examide</dt>\n",
       "\t\t<dd>0</dd>\n",
       "\t<dt>citoglipton</dt>\n",
       "\t\t<dd>0</dd>\n",
       "\t<dt>insulin</dt>\n",
       "\t\t<dd>0</dd>\n",
       "\t<dt>glyburide.metformin</dt>\n",
       "\t\t<dd>0</dd>\n",
       "\t<dt>glipizide.metformin</dt>\n",
       "\t\t<dd>0</dd>\n",
       "\t<dt>glimepiride.pioglitazone</dt>\n",
       "\t\t<dd>0</dd>\n",
       "\t<dt>metformin.rosiglitazone</dt>\n",
       "\t\t<dd>0</dd>\n",
       "\t<dt>metformin.pioglitazone</dt>\n",
       "\t\t<dd>0</dd>\n",
       "\t<dt>change</dt>\n",
       "\t\t<dd>0</dd>\n",
       "\t<dt>diabetesMed</dt>\n",
       "\t\t<dd>0</dd>\n",
       "\t<dt>readmitted</dt>\n",
       "\t\t<dd>0</dd>\n",
       "\t<dt>admission_source</dt>\n",
       "\t\t<dd>7067</dd>\n",
       "\t<dt>admission_type</dt>\n",
       "\t\t<dd>10396</dd>\n",
       "\t<dt>discharge_disposition</dt>\n",
       "\t\t<dd>4680</dd>\n",
       "</dl>\n"
      ],
      "text/latex": [
       "\\begin{description*}\n",
       "\\item[encounter\\textbackslash{}\\_id] 0\n",
       "\\item[patient\\textbackslash{}\\_nbr] 0\n",
       "\\item[race] 2273\n",
       "\\item[gender] 0\n",
       "\\item[age] 0\n",
       "\\item[weight] 98569\n",
       "\\item[admission\\textbackslash{}\\_type\\textbackslash{}\\_id] 10396\n",
       "\\item[discharge\\textbackslash{}\\_disposition\\textbackslash{}\\_id] 4680\n",
       "\\item[admission\\textbackslash{}\\_source\\textbackslash{}\\_id] 7067\n",
       "\\item[time\\textbackslash{}\\_in\\textbackslash{}\\_hospital] 0\n",
       "\\item[payer\\textbackslash{}\\_code] 40256\n",
       "\\item[medical\\textbackslash{}\\_specialty] 49949\n",
       "\\item[num\\textbackslash{}\\_lab\\textbackslash{}\\_procedures] 0\n",
       "\\item[num\\textbackslash{}\\_procedures] 0\n",
       "\\item[num\\textbackslash{}\\_medications] 0\n",
       "\\item[number\\textbackslash{}\\_outpatient] 0\n",
       "\\item[number\\textbackslash{}\\_emergency] 0\n",
       "\\item[number\\textbackslash{}\\_inpatient] 0\n",
       "\\item[diag\\textbackslash{}\\_1] 21\n",
       "\\item[diag\\textbackslash{}\\_2] 358\n",
       "\\item[diag\\textbackslash{}\\_3] 1423\n",
       "\\item[number\\textbackslash{}\\_diagnoses] 0\n",
       "\\item[max\\textbackslash{}\\_glu\\textbackslash{}\\_serum] 0\n",
       "\\item[A1Cresult] 0\n",
       "\\item[metformin] 0\n",
       "\\item[repaglinide] 0\n",
       "\\item[nateglinide] 0\n",
       "\\item[chlorpropamide] 0\n",
       "\\item[glimepiride] 0\n",
       "\\item[acetohexamide] 0\n",
       "\\item[glipizide] 0\n",
       "\\item[glyburide] 0\n",
       "\\item[tolbutamide] 0\n",
       "\\item[pioglitazone] 0\n",
       "\\item[rosiglitazone] 0\n",
       "\\item[acarbose] 0\n",
       "\\item[miglitol] 0\n",
       "\\item[troglitazone] 0\n",
       "\\item[tolazamide] 0\n",
       "\\item[examide] 0\n",
       "\\item[citoglipton] 0\n",
       "\\item[insulin] 0\n",
       "\\item[glyburide.metformin] 0\n",
       "\\item[glipizide.metformin] 0\n",
       "\\item[glimepiride.pioglitazone] 0\n",
       "\\item[metformin.rosiglitazone] 0\n",
       "\\item[metformin.pioglitazone] 0\n",
       "\\item[change] 0\n",
       "\\item[diabetesMed] 0\n",
       "\\item[readmitted] 0\n",
       "\\item[admission\\textbackslash{}\\_source] 7067\n",
       "\\item[admission\\textbackslash{}\\_type] 10396\n",
       "\\item[discharge\\textbackslash{}\\_disposition] 4680\n",
       "\\end{description*}\n"
      ],
      "text/markdown": [
       "encounter_id\n",
       ":   0patient_nbr\n",
       ":   0race\n",
       ":   2273gender\n",
       ":   0age\n",
       ":   0weight\n",
       ":   98569admission_type_id\n",
       ":   10396discharge_disposition_id\n",
       ":   4680admission_source_id\n",
       ":   7067time_in_hospital\n",
       ":   0payer_code\n",
       ":   40256medical_specialty\n",
       ":   49949num_lab_procedures\n",
       ":   0num_procedures\n",
       ":   0num_medications\n",
       ":   0number_outpatient\n",
       ":   0number_emergency\n",
       ":   0number_inpatient\n",
       ":   0diag_1\n",
       ":   21diag_2\n",
       ":   358diag_3\n",
       ":   1423number_diagnoses\n",
       ":   0max_glu_serum\n",
       ":   0A1Cresult\n",
       ":   0metformin\n",
       ":   0repaglinide\n",
       ":   0nateglinide\n",
       ":   0chlorpropamide\n",
       ":   0glimepiride\n",
       ":   0acetohexamide\n",
       ":   0glipizide\n",
       ":   0glyburide\n",
       ":   0tolbutamide\n",
       ":   0pioglitazone\n",
       ":   0rosiglitazone\n",
       ":   0acarbose\n",
       ":   0miglitol\n",
       ":   0troglitazone\n",
       ":   0tolazamide\n",
       ":   0examide\n",
       ":   0citoglipton\n",
       ":   0insulin\n",
       ":   0glyburide.metformin\n",
       ":   0glipizide.metformin\n",
       ":   0glimepiride.pioglitazone\n",
       ":   0metformin.rosiglitazone\n",
       ":   0metformin.pioglitazone\n",
       ":   0change\n",
       ":   0diabetesMed\n",
       ":   0readmitted\n",
       ":   0admission_source\n",
       ":   7067admission_type\n",
       ":   10396discharge_disposition\n",
       ":   4680\n",
       "\n"
      ],
      "text/plain": [
       "            encounter_id              patient_nbr                     race \n",
       "                       0                        0                     2273 \n",
       "                  gender                      age                   weight \n",
       "                       0                        0                    98569 \n",
       "       admission_type_id discharge_disposition_id      admission_source_id \n",
       "                   10396                     4680                     7067 \n",
       "        time_in_hospital               payer_code        medical_specialty \n",
       "                       0                    40256                    49949 \n",
       "      num_lab_procedures           num_procedures          num_medications \n",
       "                       0                        0                        0 \n",
       "       number_outpatient         number_emergency         number_inpatient \n",
       "                       0                        0                        0 \n",
       "                  diag_1                   diag_2                   diag_3 \n",
       "                      21                      358                     1423 \n",
       "        number_diagnoses            max_glu_serum                A1Cresult \n",
       "                       0                        0                        0 \n",
       "               metformin              repaglinide              nateglinide \n",
       "                       0                        0                        0 \n",
       "          chlorpropamide              glimepiride            acetohexamide \n",
       "                       0                        0                        0 \n",
       "               glipizide                glyburide              tolbutamide \n",
       "                       0                        0                        0 \n",
       "            pioglitazone            rosiglitazone                 acarbose \n",
       "                       0                        0                        0 \n",
       "                miglitol             troglitazone               tolazamide \n",
       "                       0                        0                        0 \n",
       "                 examide              citoglipton                  insulin \n",
       "                       0                        0                        0 \n",
       "     glyburide.metformin      glipizide.metformin glimepiride.pioglitazone \n",
       "                       0                        0                        0 \n",
       " metformin.rosiglitazone   metformin.pioglitazone                   change \n",
       "                       0                        0                        0 \n",
       "             diabetesMed               readmitted         admission_source \n",
       "                       0                        0                     7067 \n",
       "          admission_type    discharge_disposition \n",
       "                   10396                     4680 "
      ]
     },
     "metadata": {},
     "output_type": "display_data"
    }
   ],
   "source": [
    "sapply(diabete_data, function(x) sum(is.na(x)))"
   ]
  },
  {
   "cell_type": "code",
   "execution_count": 355,
   "metadata": {
    "ExecuteTime": {
     "end_time": "2019-12-03T17:58:52.583225Z",
     "start_time": "2019-12-03T17:58:40.284Z"
    }
   },
   "outputs": [],
   "source": [
    "diabete_data=subset(diabete_data, select = -c(weight,payer_code) )"
   ]
  },
  {
   "cell_type": "code",
   "execution_count": 356,
   "metadata": {
    "ExecuteTime": {
     "end_time": "2019-12-03T17:58:52.669992Z",
     "start_time": "2019-12-03T17:58:40.292Z"
    }
   },
   "outputs": [
    {
     "data": {
      "text/html": [
       "<table>\n",
       "<thead><tr><th scope=col>encounter_id</th><th scope=col>patient_nbr</th><th scope=col>race</th><th scope=col>gender</th><th scope=col>age</th><th scope=col>admission_type_id</th><th scope=col>discharge_disposition_id</th><th scope=col>admission_source_id</th><th scope=col>time_in_hospital</th><th scope=col>medical_specialty</th><th scope=col>num_lab_procedures</th><th scope=col>num_procedures</th><th scope=col>num_medications</th><th scope=col>number_outpatient</th><th scope=col>number_emergency</th><th scope=col>number_inpatient</th><th scope=col>diag_1</th><th scope=col>diag_2</th><th scope=col>diag_3</th><th scope=col>number_diagnoses</th><th scope=col>max_glu_serum</th><th scope=col>A1Cresult</th><th scope=col>metformin</th><th scope=col>repaglinide</th><th scope=col>nateglinide</th><th scope=col>chlorpropamide</th><th scope=col>glimepiride</th><th scope=col>acetohexamide</th><th scope=col>glipizide</th><th scope=col>glyburide</th><th scope=col>tolbutamide</th><th scope=col>pioglitazone</th><th scope=col>rosiglitazone</th><th scope=col>acarbose</th><th scope=col>miglitol</th><th scope=col>troglitazone</th><th scope=col>tolazamide</th><th scope=col>examide</th><th scope=col>citoglipton</th><th scope=col>insulin</th><th scope=col>glyburide.metformin</th><th scope=col>glipizide.metformin</th><th scope=col>glimepiride.pioglitazone</th><th scope=col>metformin.rosiglitazone</th><th scope=col>metformin.pioglitazone</th><th scope=col>change</th><th scope=col>diabetesMed</th><th scope=col>readmitted</th><th scope=col>admission_source</th><th scope=col>admission_type</th><th scope=col>discharge_disposition</th></tr></thead>\n",
       "<tbody>\n",
       "\t<tr><td>2278392                 </td><td> 8222157                </td><td>Caucasian               </td><td>Female                  </td><td>[0-10)                  </td><td>NA                      </td><td>NA                      </td><td>1                       </td><td>1                       </td><td>Pediatrics-Endocrinology</td><td>41                      </td><td>0                       </td><td> 1                      </td><td>0                       </td><td>0                       </td><td>0                       </td><td>Diabetes                </td><td>NA                      </td><td>NA                      </td><td>1                       </td><td>None                    </td><td>None                    </td><td>No                      </td><td>No                      </td><td>No                      </td><td>No                      </td><td>No                      </td><td>No                      </td><td>No                      </td><td>No                      </td><td>No                      </td><td>No                      </td><td>No                      </td><td>No                      </td><td>No                      </td><td>No                      </td><td>No                      </td><td>No                      </td><td>No                      </td><td>No                      </td><td>No                      </td><td>No                      </td><td>No                      </td><td>No                      </td><td>No                      </td><td>No                      </td><td>No                      </td><td>NO                      </td><td>Physician_Referral      </td><td>NA                      </td><td>NA                      </td></tr>\n",
       "\t<tr><td> 149190                                                         </td><td>55629189                                                        </td><td><span style=white-space:pre-wrap>Caucasian      </span>         </td><td>Female                                                          </td><td>[10-20)                                                         </td><td> 1                                                              </td><td> 1                                                              </td><td>7                                                               </td><td>3                                                               </td><td><span style=white-space:pre-wrap>NA                      </span></td><td>59                                                              </td><td>0                                                               </td><td>18                                                              </td><td>0                                                               </td><td>0                                                               </td><td>0                                                               </td><td><span style=white-space:pre-wrap>Other      </span>             </td><td><span style=white-space:pre-wrap>Diabetes   </span>             </td><td><span style=white-space:pre-wrap>Other      </span>             </td><td>9                                                               </td><td>None                                                            </td><td>None                                                            </td><td>No                                                              </td><td>No                                                              </td><td>No                                                              </td><td>No                                                              </td><td>No                                                              </td><td>No                                                              </td><td><span style=white-space:pre-wrap>No    </span>                  </td><td>No                                                              </td><td>No                                                              </td><td>No                                                              </td><td>No                                                              </td><td>No                                                              </td><td>No                                                              </td><td>No                                                              </td><td>No                                                              </td><td>No                                                              </td><td>No                                                              </td><td><span style=white-space:pre-wrap>Up    </span>                  </td><td>No                                                              </td><td>No                                                              </td><td>No                                                              </td><td>No                                                              </td><td>No                                                              </td><td>Ch                                                              </td><td>Yes                                                             </td><td>&gt;30                                                          </td><td><span style=white-space:pre-wrap>Emergency_Room    </span>      </td><td>Emergency                                                       </td><td>Home                                                            </td></tr>\n",
       "\t<tr><td>  64410                 </td><td>86047875                </td><td>AfricanAmerican         </td><td>Female                  </td><td>[20-30)                 </td><td> 1                      </td><td> 1                      </td><td>7                       </td><td>2                       </td><td>NA                      </td><td>11                      </td><td>5                       </td><td>13                      </td><td>2                       </td><td>0                       </td><td>1                       </td><td>Other                   </td><td>Diabetes                </td><td>Other                   </td><td>6                       </td><td>None                    </td><td>None                    </td><td>No                      </td><td>No                      </td><td>No                      </td><td>No                      </td><td>No                      </td><td>No                      </td><td>Steady                  </td><td>No                      </td><td>No                      </td><td>No                      </td><td>No                      </td><td>No                      </td><td>No                      </td><td>No                      </td><td>No                      </td><td>No                      </td><td>No                      </td><td>No                      </td><td>No                      </td><td>No                      </td><td>No                      </td><td>No                      </td><td>No                      </td><td>No                      </td><td>Yes                     </td><td>NO                      </td><td>Emergency_Room          </td><td>Emergency               </td><td>Home                    </td></tr>\n",
       "\t<tr><td> 500364                 </td><td>82442376                </td><td>Caucasian               </td><td>Male                    </td><td>[30-40)                 </td><td> 1                      </td><td> 1                      </td><td>7                       </td><td>2                       </td><td>NA                      </td><td>44                      </td><td>1                       </td><td>16                      </td><td>0                       </td><td>0                       </td><td>0                       </td><td>Other                   </td><td>Diabetes                </td><td>Circulatory             </td><td>7                       </td><td>None                    </td><td>None                    </td><td>No                      </td><td>No                      </td><td>No                      </td><td>No                      </td><td>No                      </td><td>No                      </td><td>No                      </td><td>No                      </td><td>No                      </td><td>No                      </td><td>No                      </td><td>No                      </td><td>No                      </td><td>No                      </td><td>No                      </td><td>No                      </td><td>No                      </td><td>Up                      </td><td>No                      </td><td>No                      </td><td>No                      </td><td>No                      </td><td>No                      </td><td>Ch                      </td><td>Yes                     </td><td>NO                      </td><td>Emergency_Room          </td><td>Emergency               </td><td>Home                    </td></tr>\n",
       "\t<tr><td>  16680                 </td><td>42519267                </td><td>Caucasian               </td><td>Male                    </td><td>[40-50)                 </td><td> 1                      </td><td> 1                      </td><td>7                       </td><td>1                       </td><td>NA                      </td><td>51                      </td><td>0                       </td><td> 8                      </td><td>0                       </td><td>0                       </td><td>0                       </td><td>Neoplasms               </td><td>Neoplasms               </td><td>Diabetes                </td><td>5                       </td><td>None                    </td><td>None                    </td><td>No                      </td><td>No                      </td><td>No                      </td><td>No                      </td><td>No                      </td><td>No                      </td><td>Steady                  </td><td>No                      </td><td>No                      </td><td>No                      </td><td>No                      </td><td>No                      </td><td>No                      </td><td>No                      </td><td>No                      </td><td>No                      </td><td>No                      </td><td>Steady                  </td><td>No                      </td><td>No                      </td><td>No                      </td><td>No                      </td><td>No                      </td><td>Ch                      </td><td>Yes                     </td><td>NO                      </td><td>Emergency_Room          </td><td>Emergency               </td><td>Home                    </td></tr>\n",
       "\t<tr><td><span style=white-space:pre-wrap>  35754</span>                 </td><td>82637451                                                        </td><td><span style=white-space:pre-wrap>Caucasian      </span>         </td><td><span style=white-space:pre-wrap>Male  </span>                  </td><td>[50-60)                                                         </td><td> 2                                                              </td><td> 1                                                              </td><td>2                                                               </td><td>3                                                               </td><td><span style=white-space:pre-wrap>NA                      </span></td><td>31                                                              </td><td>6                                                               </td><td>16                                                              </td><td>0                                                               </td><td>0                                                               </td><td>0                                                               </td><td>Circulatory                                                     </td><td>Circulatory                                                     </td><td><span style=white-space:pre-wrap>Diabetes   </span>             </td><td>9                                                               </td><td>None                                                            </td><td>None                                                            </td><td>No                                                              </td><td>No                                                              </td><td>No                                                              </td><td>No                                                              </td><td>No                                                              </td><td>No                                                              </td><td><span style=white-space:pre-wrap>No    </span>                  </td><td>No                                                              </td><td>No                                                              </td><td>No                                                              </td><td>No                                                              </td><td>No                                                              </td><td>No                                                              </td><td>No                                                              </td><td>No                                                              </td><td>No                                                              </td><td>No                                                              </td><td>Steady                                                          </td><td>No                                                              </td><td>No                                                              </td><td>No                                                              </td><td>No                                                              </td><td>No                                                              </td><td>No                                                              </td><td>Yes                                                             </td><td>&gt;30                                                          </td><td><span style=white-space:pre-wrap>Clinic_Referral   </span>      </td><td><span style=white-space:pre-wrap>Urgent   </span>               </td><td>Home                                                            </td></tr>\n",
       "</tbody>\n",
       "</table>\n"
      ],
      "text/latex": [
       "\\begin{tabular}{r|lllllllllllllllllllllllllllllllllllllllllllllllllll}\n",
       " encounter\\_id & patient\\_nbr & race & gender & age & admission\\_type\\_id & discharge\\_disposition\\_id & admission\\_source\\_id & time\\_in\\_hospital & medical\\_specialty & num\\_lab\\_procedures & num\\_procedures & num\\_medications & number\\_outpatient & number\\_emergency & number\\_inpatient & diag\\_1 & diag\\_2 & diag\\_3 & number\\_diagnoses & max\\_glu\\_serum & A1Cresult & metformin & repaglinide & nateglinide & chlorpropamide & glimepiride & acetohexamide & glipizide & glyburide & tolbutamide & pioglitazone & rosiglitazone & acarbose & miglitol & troglitazone & tolazamide & examide & citoglipton & insulin & glyburide.metformin & glipizide.metformin & glimepiride.pioglitazone & metformin.rosiglitazone & metformin.pioglitazone & change & diabetesMed & readmitted & admission\\_source & admission\\_type & discharge\\_disposition\\\\\n",
       "\\hline\n",
       "\t 2278392                  &  8222157                 & Caucasian                & Female                   & {[}0-10)                 & NA                       & NA                       & 1                        & 1                        & Pediatrics-Endocrinology & 41                       & 0                        &  1                       & 0                        & 0                        & 0                        & Diabetes                 & NA                       & NA                       & 1                        & None                     & None                     & No                       & No                       & No                       & No                       & No                       & No                       & No                       & No                       & No                       & No                       & No                       & No                       & No                       & No                       & No                       & No                       & No                       & No                       & No                       & No                       & No                       & No                       & No                       & No                       & No                       & NO                       & Physician\\_Referral     & NA                       & NA                      \\\\\n",
       "\t  149190                  & 55629189                 & Caucasian                & Female                   & {[}10-20)                &  1                       &  1                       & 7                        & 3                        & NA                       & 59                       & 0                        & 18                       & 0                        & 0                        & 0                        & Other                    & Diabetes                 & Other                    & 9                        & None                     & None                     & No                       & No                       & No                       & No                       & No                       & No                       & No                       & No                       & No                       & No                       & No                       & No                       & No                       & No                       & No                       & No                       & No                       & Up                       & No                       & No                       & No                       & No                       & No                       & Ch                       & Yes                      & >30                      & Emergency\\_Room         & Emergency                & Home                    \\\\\n",
       "\t   64410                  & 86047875                 & AfricanAmerican          & Female                   & {[}20-30)                &  1                       &  1                       & 7                        & 2                        & NA                       & 11                       & 5                        & 13                       & 2                        & 0                        & 1                        & Other                    & Diabetes                 & Other                    & 6                        & None                     & None                     & No                       & No                       & No                       & No                       & No                       & No                       & Steady                   & No                       & No                       & No                       & No                       & No                       & No                       & No                       & No                       & No                       & No                       & No                       & No                       & No                       & No                       & No                       & No                       & No                       & Yes                      & NO                       & Emergency\\_Room         & Emergency                & Home                    \\\\\n",
       "\t  500364                  & 82442376                 & Caucasian                & Male                     & {[}30-40)                &  1                       &  1                       & 7                        & 2                        & NA                       & 44                       & 1                        & 16                       & 0                        & 0                        & 0                        & Other                    & Diabetes                 & Circulatory              & 7                        & None                     & None                     & No                       & No                       & No                       & No                       & No                       & No                       & No                       & No                       & No                       & No                       & No                       & No                       & No                       & No                       & No                       & No                       & No                       & Up                       & No                       & No                       & No                       & No                       & No                       & Ch                       & Yes                      & NO                       & Emergency\\_Room         & Emergency                & Home                    \\\\\n",
       "\t   16680                  & 42519267                 & Caucasian                & Male                     & {[}40-50)                &  1                       &  1                       & 7                        & 1                        & NA                       & 51                       & 0                        &  8                       & 0                        & 0                        & 0                        & Neoplasms                & Neoplasms                & Diabetes                 & 5                        & None                     & None                     & No                       & No                       & No                       & No                       & No                       & No                       & Steady                   & No                       & No                       & No                       & No                       & No                       & No                       & No                       & No                       & No                       & No                       & Steady                   & No                       & No                       & No                       & No                       & No                       & Ch                       & Yes                      & NO                       & Emergency\\_Room         & Emergency                & Home                    \\\\\n",
       "\t   35754                  & 82637451                 & Caucasian                & Male                     & {[}50-60)                &  2                       &  1                       & 2                        & 3                        & NA                       & 31                       & 6                        & 16                       & 0                        & 0                        & 0                        & Circulatory              & Circulatory              & Diabetes                 & 9                        & None                     & None                     & No                       & No                       & No                       & No                       & No                       & No                       & No                       & No                       & No                       & No                       & No                       & No                       & No                       & No                       & No                       & No                       & No                       & Steady                   & No                       & No                       & No                       & No                       & No                       & No                       & Yes                      & >30                      & Clinic\\_Referral        & Urgent                   & Home                    \\\\\n",
       "\\end{tabular}\n"
      ],
      "text/markdown": [
       "\n",
       "| encounter_id | patient_nbr | race | gender | age | admission_type_id | discharge_disposition_id | admission_source_id | time_in_hospital | medical_specialty | num_lab_procedures | num_procedures | num_medications | number_outpatient | number_emergency | number_inpatient | diag_1 | diag_2 | diag_3 | number_diagnoses | max_glu_serum | A1Cresult | metformin | repaglinide | nateglinide | chlorpropamide | glimepiride | acetohexamide | glipizide | glyburide | tolbutamide | pioglitazone | rosiglitazone | acarbose | miglitol | troglitazone | tolazamide | examide | citoglipton | insulin | glyburide.metformin | glipizide.metformin | glimepiride.pioglitazone | metformin.rosiglitazone | metformin.pioglitazone | change | diabetesMed | readmitted | admission_source | admission_type | discharge_disposition |\n",
       "|---|---|---|---|---|---|---|---|---|---|---|---|---|---|---|---|---|---|---|---|---|---|---|---|---|---|---|---|---|---|---|---|---|---|---|---|---|---|---|---|---|---|---|---|---|---|---|---|---|---|---|\n",
       "| 2278392                  |  8222157                 | Caucasian                | Female                   | [0-10)                   | NA                       | NA                       | 1                        | 1                        | Pediatrics-Endocrinology | 41                       | 0                        |  1                       | 0                        | 0                        | 0                        | Diabetes                 | NA                       | NA                       | 1                        | None                     | None                     | No                       | No                       | No                       | No                       | No                       | No                       | No                       | No                       | No                       | No                       | No                       | No                       | No                       | No                       | No                       | No                       | No                       | No                       | No                       | No                       | No                       | No                       | No                       | No                       | No                       | NO                       | Physician_Referral       | NA                       | NA                       |\n",
       "|  149190                  | 55629189                 | Caucasian                | Female                   | [10-20)                  |  1                       |  1                       | 7                        | 3                        | NA                       | 59                       | 0                        | 18                       | 0                        | 0                        | 0                        | Other                    | Diabetes                 | Other                    | 9                        | None                     | None                     | No                       | No                       | No                       | No                       | No                       | No                       | No                       | No                       | No                       | No                       | No                       | No                       | No                       | No                       | No                       | No                       | No                       | Up                       | No                       | No                       | No                       | No                       | No                       | Ch                       | Yes                      | >30                      | Emergency_Room           | Emergency                | Home                     |\n",
       "|   64410                  | 86047875                 | AfricanAmerican          | Female                   | [20-30)                  |  1                       |  1                       | 7                        | 2                        | NA                       | 11                       | 5                        | 13                       | 2                        | 0                        | 1                        | Other                    | Diabetes                 | Other                    | 6                        | None                     | None                     | No                       | No                       | No                       | No                       | No                       | No                       | Steady                   | No                       | No                       | No                       | No                       | No                       | No                       | No                       | No                       | No                       | No                       | No                       | No                       | No                       | No                       | No                       | No                       | No                       | Yes                      | NO                       | Emergency_Room           | Emergency                | Home                     |\n",
       "|  500364                  | 82442376                 | Caucasian                | Male                     | [30-40)                  |  1                       |  1                       | 7                        | 2                        | NA                       | 44                       | 1                        | 16                       | 0                        | 0                        | 0                        | Other                    | Diabetes                 | Circulatory              | 7                        | None                     | None                     | No                       | No                       | No                       | No                       | No                       | No                       | No                       | No                       | No                       | No                       | No                       | No                       | No                       | No                       | No                       | No                       | No                       | Up                       | No                       | No                       | No                       | No                       | No                       | Ch                       | Yes                      | NO                       | Emergency_Room           | Emergency                | Home                     |\n",
       "|   16680                  | 42519267                 | Caucasian                | Male                     | [40-50)                  |  1                       |  1                       | 7                        | 1                        | NA                       | 51                       | 0                        |  8                       | 0                        | 0                        | 0                        | Neoplasms                | Neoplasms                | Diabetes                 | 5                        | None                     | None                     | No                       | No                       | No                       | No                       | No                       | No                       | Steady                   | No                       | No                       | No                       | No                       | No                       | No                       | No                       | No                       | No                       | No                       | Steady                   | No                       | No                       | No                       | No                       | No                       | Ch                       | Yes                      | NO                       | Emergency_Room           | Emergency                | Home                     |\n",
       "|   35754                  | 82637451                 | Caucasian                | Male                     | [50-60)                  |  2                       |  1                       | 2                        | 3                        | NA                       | 31                       | 6                        | 16                       | 0                        | 0                        | 0                        | Circulatory              | Circulatory              | Diabetes                 | 9                        | None                     | None                     | No                       | No                       | No                       | No                       | No                       | No                       | No                       | No                       | No                       | No                       | No                       | No                       | No                       | No                       | No                       | No                       | No                       | Steady                   | No                       | No                       | No                       | No                       | No                       | No                       | Yes                      | >30                      | Clinic_Referral          | Urgent                   | Home                     |\n",
       "\n"
      ],
      "text/plain": [
       "  encounter_id patient_nbr race            gender age     admission_type_id\n",
       "1 2278392       8222157    Caucasian       Female [0-10)  NA               \n",
       "2  149190      55629189    Caucasian       Female [10-20)  1               \n",
       "3   64410      86047875    AfricanAmerican Female [20-30)  1               \n",
       "4  500364      82442376    Caucasian       Male   [30-40)  1               \n",
       "5   16680      42519267    Caucasian       Male   [40-50)  1               \n",
       "6   35754      82637451    Caucasian       Male   [50-60)  2               \n",
       "  discharge_disposition_id admission_source_id time_in_hospital\n",
       "1 NA                       1                   1               \n",
       "2  1                       7                   3               \n",
       "3  1                       7                   2               \n",
       "4  1                       7                   2               \n",
       "5  1                       7                   1               \n",
       "6  1                       2                   3               \n",
       "  medical_specialty        num_lab_procedures num_procedures num_medications\n",
       "1 Pediatrics-Endocrinology 41                 0               1             \n",
       "2 NA                       59                 0              18             \n",
       "3 NA                       11                 5              13             \n",
       "4 NA                       44                 1              16             \n",
       "5 NA                       51                 0               8             \n",
       "6 NA                       31                 6              16             \n",
       "  number_outpatient number_emergency number_inpatient diag_1      diag_2     \n",
       "1 0                 0                0                Diabetes    NA         \n",
       "2 0                 0                0                Other       Diabetes   \n",
       "3 2                 0                1                Other       Diabetes   \n",
       "4 0                 0                0                Other       Diabetes   \n",
       "5 0                 0                0                Neoplasms   Neoplasms  \n",
       "6 0                 0                0                Circulatory Circulatory\n",
       "  diag_3      number_diagnoses max_glu_serum A1Cresult metformin repaglinide\n",
       "1 NA          1                None          None      No        No         \n",
       "2 Other       9                None          None      No        No         \n",
       "3 Other       6                None          None      No        No         \n",
       "4 Circulatory 7                None          None      No        No         \n",
       "5 Diabetes    5                None          None      No        No         \n",
       "6 Diabetes    9                None          None      No        No         \n",
       "  nateglinide chlorpropamide glimepiride acetohexamide glipizide glyburide\n",
       "1 No          No             No          No            No        No       \n",
       "2 No          No             No          No            No        No       \n",
       "3 No          No             No          No            Steady    No       \n",
       "4 No          No             No          No            No        No       \n",
       "5 No          No             No          No            Steady    No       \n",
       "6 No          No             No          No            No        No       \n",
       "  tolbutamide pioglitazone rosiglitazone acarbose miglitol troglitazone\n",
       "1 No          No           No            No       No       No          \n",
       "2 No          No           No            No       No       No          \n",
       "3 No          No           No            No       No       No          \n",
       "4 No          No           No            No       No       No          \n",
       "5 No          No           No            No       No       No          \n",
       "6 No          No           No            No       No       No          \n",
       "  tolazamide examide citoglipton insulin glyburide.metformin\n",
       "1 No         No      No          No      No                 \n",
       "2 No         No      No          Up      No                 \n",
       "3 No         No      No          No      No                 \n",
       "4 No         No      No          Up      No                 \n",
       "5 No         No      No          Steady  No                 \n",
       "6 No         No      No          Steady  No                 \n",
       "  glipizide.metformin glimepiride.pioglitazone metformin.rosiglitazone\n",
       "1 No                  No                       No                     \n",
       "2 No                  No                       No                     \n",
       "3 No                  No                       No                     \n",
       "4 No                  No                       No                     \n",
       "5 No                  No                       No                     \n",
       "6 No                  No                       No                     \n",
       "  metformin.pioglitazone change diabetesMed readmitted admission_source  \n",
       "1 No                     No     No          NO         Physician_Referral\n",
       "2 No                     Ch     Yes         >30        Emergency_Room    \n",
       "3 No                     No     Yes         NO         Emergency_Room    \n",
       "4 No                     Ch     Yes         NO         Emergency_Room    \n",
       "5 No                     Ch     Yes         NO         Emergency_Room    \n",
       "6 No                     No     Yes         >30        Clinic_Referral   \n",
       "  admission_type discharge_disposition\n",
       "1 NA             NA                   \n",
       "2 Emergency      Home                 \n",
       "3 Emergency      Home                 \n",
       "4 Emergency      Home                 \n",
       "5 Emergency      Home                 \n",
       "6 Urgent         Home                 "
      ]
     },
     "metadata": {},
     "output_type": "display_data"
    },
    {
     "data": {
      "text/plain": [
       "\n",
       "               Another_rehab_fac_including_rehab_units_of_a_hospital \n",
       "                                                                1993 \n",
       "                          another_type_of_inpatient_care_institution \n",
       "                                                                1184 \n",
       "                                                             Expired \n",
       "                                                                1642 \n",
       "                                                                Home \n",
       "                                                               60234 \n",
       "                                 home_under_care_of_home_IV_provider \n",
       "                                                                 108 \n",
       "                                       Home_with_home_health_service \n",
       "                                                               12902 \n",
       "                                                        Hospice/Home \n",
       "                                                                 399 \n",
       "                                            Hospice/Medical_facility \n",
       "                                                                 372 \n",
       "                                                                 ICF \n",
       "                                                                 815 \n",
       "                                                            Left_AMA \n",
       "                                                                 623 \n",
       "                                             Long_term_care_hospital \n",
       "                                                                 412 \n",
       "                                                               Other \n",
       "                                                                 181 \n",
       "Psychiatric_hospital_of_psychiatric_distinct_part_unit_of_a_hospital \n",
       "                                                                 139 \n",
       "                                                 Short_term_hospital \n",
       "                                                                2128 \n",
       "                                                                 SNF \n",
       "                                                               13954 "
      ]
     },
     "metadata": {},
     "output_type": "display_data"
    }
   ],
   "source": [
    "head(diabete_data)\n",
    "table(diabete_data$discharge_disposition)"
   ]
  },
  {
   "cell_type": "code",
   "execution_count": 357,
   "metadata": {
    "ExecuteTime": {
     "end_time": "2019-12-03T17:58:52.864652Z",
     "start_time": "2019-12-03T17:58:40.296Z"
    }
   },
   "outputs": [],
   "source": [
    "diabete_data <- mutate(diabete_data, discharge_disposition=ifelse(discharge_disposition=='Home', 'Home' ,\n",
    "                                                            ifelse(discharge_disposition=='SNF', 'SNF',\n",
    "                                                            ifelse(discharge_disposition=='Home_with_home_health_service', 'Home_with_home_health_service',\n",
    "                                                            'Other' ))))"
   ]
  },
  {
   "cell_type": "code",
   "execution_count": 358,
   "metadata": {
    "ExecuteTime": {
     "end_time": "2019-12-03T17:58:52.927493Z",
     "start_time": "2019-12-03T17:58:40.299Z"
    }
   },
   "outputs": [
    {
     "data": {
      "text/plain": [
       "\n",
       "                         Home Home_with_home_health_service \n",
       "                        60234                         12902 \n",
       "                        Other                           SNF \n",
       "                         9996                         13954 "
      ]
     },
     "metadata": {},
     "output_type": "display_data"
    }
   ],
   "source": [
    "table(diabete_data$discharge_disposition)\n"
   ]
  },
  {
   "cell_type": "code",
   "execution_count": 359,
   "metadata": {
    "ExecuteTime": {
     "end_time": "2019-12-03T17:58:53.021209Z",
     "start_time": "2019-12-03T17:58:40.308Z"
    }
   },
   "outputs": [
    {
     "data": {
      "text/html": [
       "<dl class=dl-horizontal>\n",
       "\t<dt>encounter_id</dt>\n",
       "\t\t<dd>0</dd>\n",
       "\t<dt>patient_nbr</dt>\n",
       "\t\t<dd>0</dd>\n",
       "\t<dt>race</dt>\n",
       "\t\t<dd>2273</dd>\n",
       "\t<dt>gender</dt>\n",
       "\t\t<dd>0</dd>\n",
       "\t<dt>age</dt>\n",
       "\t\t<dd>0</dd>\n",
       "\t<dt>admission_type_id</dt>\n",
       "\t\t<dd>10396</dd>\n",
       "\t<dt>discharge_disposition_id</dt>\n",
       "\t\t<dd>4680</dd>\n",
       "\t<dt>admission_source_id</dt>\n",
       "\t\t<dd>7067</dd>\n",
       "\t<dt>time_in_hospital</dt>\n",
       "\t\t<dd>0</dd>\n",
       "\t<dt>medical_specialty</dt>\n",
       "\t\t<dd>49949</dd>\n",
       "\t<dt>num_lab_procedures</dt>\n",
       "\t\t<dd>0</dd>\n",
       "\t<dt>num_procedures</dt>\n",
       "\t\t<dd>0</dd>\n",
       "\t<dt>num_medications</dt>\n",
       "\t\t<dd>0</dd>\n",
       "\t<dt>number_outpatient</dt>\n",
       "\t\t<dd>0</dd>\n",
       "\t<dt>number_emergency</dt>\n",
       "\t\t<dd>0</dd>\n",
       "\t<dt>number_inpatient</dt>\n",
       "\t\t<dd>0</dd>\n",
       "\t<dt>diag_1</dt>\n",
       "\t\t<dd>21</dd>\n",
       "\t<dt>diag_2</dt>\n",
       "\t\t<dd>358</dd>\n",
       "\t<dt>diag_3</dt>\n",
       "\t\t<dd>1423</dd>\n",
       "\t<dt>number_diagnoses</dt>\n",
       "\t\t<dd>0</dd>\n",
       "\t<dt>max_glu_serum</dt>\n",
       "\t\t<dd>0</dd>\n",
       "\t<dt>A1Cresult</dt>\n",
       "\t\t<dd>0</dd>\n",
       "\t<dt>metformin</dt>\n",
       "\t\t<dd>0</dd>\n",
       "\t<dt>repaglinide</dt>\n",
       "\t\t<dd>0</dd>\n",
       "\t<dt>nateglinide</dt>\n",
       "\t\t<dd>0</dd>\n",
       "\t<dt>chlorpropamide</dt>\n",
       "\t\t<dd>0</dd>\n",
       "\t<dt>glimepiride</dt>\n",
       "\t\t<dd>0</dd>\n",
       "\t<dt>acetohexamide</dt>\n",
       "\t\t<dd>0</dd>\n",
       "\t<dt>glipizide</dt>\n",
       "\t\t<dd>0</dd>\n",
       "\t<dt>glyburide</dt>\n",
       "\t\t<dd>0</dd>\n",
       "\t<dt>tolbutamide</dt>\n",
       "\t\t<dd>0</dd>\n",
       "\t<dt>pioglitazone</dt>\n",
       "\t\t<dd>0</dd>\n",
       "\t<dt>rosiglitazone</dt>\n",
       "\t\t<dd>0</dd>\n",
       "\t<dt>acarbose</dt>\n",
       "\t\t<dd>0</dd>\n",
       "\t<dt>miglitol</dt>\n",
       "\t\t<dd>0</dd>\n",
       "\t<dt>troglitazone</dt>\n",
       "\t\t<dd>0</dd>\n",
       "\t<dt>tolazamide</dt>\n",
       "\t\t<dd>0</dd>\n",
       "\t<dt>examide</dt>\n",
       "\t\t<dd>0</dd>\n",
       "\t<dt>citoglipton</dt>\n",
       "\t\t<dd>0</dd>\n",
       "\t<dt>insulin</dt>\n",
       "\t\t<dd>0</dd>\n",
       "\t<dt>glyburide.metformin</dt>\n",
       "\t\t<dd>0</dd>\n",
       "\t<dt>glipizide.metformin</dt>\n",
       "\t\t<dd>0</dd>\n",
       "\t<dt>glimepiride.pioglitazone</dt>\n",
       "\t\t<dd>0</dd>\n",
       "\t<dt>metformin.rosiglitazone</dt>\n",
       "\t\t<dd>0</dd>\n",
       "\t<dt>metformin.pioglitazone</dt>\n",
       "\t\t<dd>0</dd>\n",
       "\t<dt>change</dt>\n",
       "\t\t<dd>0</dd>\n",
       "\t<dt>diabetesMed</dt>\n",
       "\t\t<dd>0</dd>\n",
       "\t<dt>readmitted</dt>\n",
       "\t\t<dd>0</dd>\n",
       "\t<dt>admission_source</dt>\n",
       "\t\t<dd>7067</dd>\n",
       "\t<dt>admission_type</dt>\n",
       "\t\t<dd>10396</dd>\n",
       "\t<dt>discharge_disposition</dt>\n",
       "\t\t<dd>4680</dd>\n",
       "</dl>\n"
      ],
      "text/latex": [
       "\\begin{description*}\n",
       "\\item[encounter\\textbackslash{}\\_id] 0\n",
       "\\item[patient\\textbackslash{}\\_nbr] 0\n",
       "\\item[race] 2273\n",
       "\\item[gender] 0\n",
       "\\item[age] 0\n",
       "\\item[admission\\textbackslash{}\\_type\\textbackslash{}\\_id] 10396\n",
       "\\item[discharge\\textbackslash{}\\_disposition\\textbackslash{}\\_id] 4680\n",
       "\\item[admission\\textbackslash{}\\_source\\textbackslash{}\\_id] 7067\n",
       "\\item[time\\textbackslash{}\\_in\\textbackslash{}\\_hospital] 0\n",
       "\\item[medical\\textbackslash{}\\_specialty] 49949\n",
       "\\item[num\\textbackslash{}\\_lab\\textbackslash{}\\_procedures] 0\n",
       "\\item[num\\textbackslash{}\\_procedures] 0\n",
       "\\item[num\\textbackslash{}\\_medications] 0\n",
       "\\item[number\\textbackslash{}\\_outpatient] 0\n",
       "\\item[number\\textbackslash{}\\_emergency] 0\n",
       "\\item[number\\textbackslash{}\\_inpatient] 0\n",
       "\\item[diag\\textbackslash{}\\_1] 21\n",
       "\\item[diag\\textbackslash{}\\_2] 358\n",
       "\\item[diag\\textbackslash{}\\_3] 1423\n",
       "\\item[number\\textbackslash{}\\_diagnoses] 0\n",
       "\\item[max\\textbackslash{}\\_glu\\textbackslash{}\\_serum] 0\n",
       "\\item[A1Cresult] 0\n",
       "\\item[metformin] 0\n",
       "\\item[repaglinide] 0\n",
       "\\item[nateglinide] 0\n",
       "\\item[chlorpropamide] 0\n",
       "\\item[glimepiride] 0\n",
       "\\item[acetohexamide] 0\n",
       "\\item[glipizide] 0\n",
       "\\item[glyburide] 0\n",
       "\\item[tolbutamide] 0\n",
       "\\item[pioglitazone] 0\n",
       "\\item[rosiglitazone] 0\n",
       "\\item[acarbose] 0\n",
       "\\item[miglitol] 0\n",
       "\\item[troglitazone] 0\n",
       "\\item[tolazamide] 0\n",
       "\\item[examide] 0\n",
       "\\item[citoglipton] 0\n",
       "\\item[insulin] 0\n",
       "\\item[glyburide.metformin] 0\n",
       "\\item[glipizide.metformin] 0\n",
       "\\item[glimepiride.pioglitazone] 0\n",
       "\\item[metformin.rosiglitazone] 0\n",
       "\\item[metformin.pioglitazone] 0\n",
       "\\item[change] 0\n",
       "\\item[diabetesMed] 0\n",
       "\\item[readmitted] 0\n",
       "\\item[admission\\textbackslash{}\\_source] 7067\n",
       "\\item[admission\\textbackslash{}\\_type] 10396\n",
       "\\item[discharge\\textbackslash{}\\_disposition] 4680\n",
       "\\end{description*}\n"
      ],
      "text/markdown": [
       "encounter_id\n",
       ":   0patient_nbr\n",
       ":   0race\n",
       ":   2273gender\n",
       ":   0age\n",
       ":   0admission_type_id\n",
       ":   10396discharge_disposition_id\n",
       ":   4680admission_source_id\n",
       ":   7067time_in_hospital\n",
       ":   0medical_specialty\n",
       ":   49949num_lab_procedures\n",
       ":   0num_procedures\n",
       ":   0num_medications\n",
       ":   0number_outpatient\n",
       ":   0number_emergency\n",
       ":   0number_inpatient\n",
       ":   0diag_1\n",
       ":   21diag_2\n",
       ":   358diag_3\n",
       ":   1423number_diagnoses\n",
       ":   0max_glu_serum\n",
       ":   0A1Cresult\n",
       ":   0metformin\n",
       ":   0repaglinide\n",
       ":   0nateglinide\n",
       ":   0chlorpropamide\n",
       ":   0glimepiride\n",
       ":   0acetohexamide\n",
       ":   0glipizide\n",
       ":   0glyburide\n",
       ":   0tolbutamide\n",
       ":   0pioglitazone\n",
       ":   0rosiglitazone\n",
       ":   0acarbose\n",
       ":   0miglitol\n",
       ":   0troglitazone\n",
       ":   0tolazamide\n",
       ":   0examide\n",
       ":   0citoglipton\n",
       ":   0insulin\n",
       ":   0glyburide.metformin\n",
       ":   0glipizide.metformin\n",
       ":   0glimepiride.pioglitazone\n",
       ":   0metformin.rosiglitazone\n",
       ":   0metformin.pioglitazone\n",
       ":   0change\n",
       ":   0diabetesMed\n",
       ":   0readmitted\n",
       ":   0admission_source\n",
       ":   7067admission_type\n",
       ":   10396discharge_disposition\n",
       ":   4680\n",
       "\n"
      ],
      "text/plain": [
       "            encounter_id              patient_nbr                     race \n",
       "                       0                        0                     2273 \n",
       "                  gender                      age        admission_type_id \n",
       "                       0                        0                    10396 \n",
       "discharge_disposition_id      admission_source_id         time_in_hospital \n",
       "                    4680                     7067                        0 \n",
       "       medical_specialty       num_lab_procedures           num_procedures \n",
       "                   49949                        0                        0 \n",
       "         num_medications        number_outpatient         number_emergency \n",
       "                       0                        0                        0 \n",
       "        number_inpatient                   diag_1                   diag_2 \n",
       "                       0                       21                      358 \n",
       "                  diag_3         number_diagnoses            max_glu_serum \n",
       "                    1423                        0                        0 \n",
       "               A1Cresult                metformin              repaglinide \n",
       "                       0                        0                        0 \n",
       "             nateglinide           chlorpropamide              glimepiride \n",
       "                       0                        0                        0 \n",
       "           acetohexamide                glipizide                glyburide \n",
       "                       0                        0                        0 \n",
       "             tolbutamide             pioglitazone            rosiglitazone \n",
       "                       0                        0                        0 \n",
       "                acarbose                 miglitol             troglitazone \n",
       "                       0                        0                        0 \n",
       "              tolazamide                  examide              citoglipton \n",
       "                       0                        0                        0 \n",
       "                 insulin      glyburide.metformin      glipizide.metformin \n",
       "                       0                        0                        0 \n",
       "glimepiride.pioglitazone  metformin.rosiglitazone   metformin.pioglitazone \n",
       "                       0                        0                        0 \n",
       "                  change              diabetesMed               readmitted \n",
       "                       0                        0                        0 \n",
       "        admission_source           admission_type    discharge_disposition \n",
       "                    7067                    10396                     4680 "
      ]
     },
     "metadata": {},
     "output_type": "display_data"
    }
   ],
   "source": [
    "sapply(diabete_data, function(x) sum(is.na(x)))"
   ]
  },
  {
   "cell_type": "code",
   "execution_count": 360,
   "metadata": {
    "ExecuteTime": {
     "end_time": "2019-12-03T17:58:53.551094Z",
     "start_time": "2019-12-03T17:58:40.312Z"
    }
   },
   "outputs": [
    {
     "data": {
      "text/plain": [
       "  patient_nbr                     race                   gender     \n",
       " Min.   :      135   ?              :    0   Female         :54708  \n",
       " 1st Qu.: 23413221   AfricanAmerican:19210   Male           :47055  \n",
       " Median : 45505143   Asian          :  641   Unknown/Invalid:    3  \n",
       " Mean   : 54330401   Caucasian      :76099                          \n",
       " 3rd Qu.: 87545950   Hispanic       : 2037                          \n",
       " Max.   :189502619   Other          : 1506                          \n",
       "                     NA's           : 2273                          \n",
       "      age        admission_type_id discharge_disposition_id admission_source_id\n",
       " [70-80):26068   Min.   :0.000     Min.   : 0.000           Min.   :0.000      \n",
       " [60-70):22483   1st Qu.:1.000     1st Qu.: 1.000           1st Qu.:1.000      \n",
       " [50-60):17256   Median :1.000     Median : 1.000           Median :7.000      \n",
       " [80-90):17197   Mean   :1.615     Mean   : 2.924           Mean   :4.915      \n",
       " [40-50): 9685   3rd Qu.:2.000     3rd Qu.: 3.000           3rd Qu.:7.000      \n",
       " [30-40): 3775   Max.   :3.000     Max.   :28.000           Max.   :7.000      \n",
       " (Other): 5302   NA's   :10396     NA's   :4680             NA's   :7067       \n",
       " time_in_hospital              medical_specialty num_lab_procedures\n",
       " Min.   : 1.000   InternalMedicine      :14635   Min.   :  1.0     \n",
       " 1st Qu.: 2.000   Emergency/Trauma      : 7565   1st Qu.: 31.0     \n",
       " Median : 4.000   Family/GeneralPractice: 7440   Median : 44.0     \n",
       " Mean   : 4.396   Cardiology            : 5352   Mean   : 43.1     \n",
       " 3rd Qu.: 6.000   Surgery-General       : 3099   3rd Qu.: 57.0     \n",
       " Max.   :14.000   (Other)               :13726   Max.   :132.0     \n",
       "                  NA's                  :49949                     \n",
       " num_procedures num_medications number_outpatient number_emergency \n",
       " Min.   :0.00   Min.   : 1.00   Min.   : 0.0000   Min.   : 0.0000  \n",
       " 1st Qu.:0.00   1st Qu.:10.00   1st Qu.: 0.0000   1st Qu.: 0.0000  \n",
       " Median :1.00   Median :15.00   Median : 0.0000   Median : 0.0000  \n",
       " Mean   :1.34   Mean   :16.02   Mean   : 0.3694   Mean   : 0.1978  \n",
       " 3rd Qu.:2.00   3rd Qu.:20.00   3rd Qu.: 0.0000   3rd Qu.: 0.0000  \n",
       " Max.   :6.00   Max.   :81.00   Max.   :42.0000   Max.   :76.0000  \n",
       "                                                                   \n",
       " number_inpatient     diag_1             diag_2             diag_3         \n",
       " Min.   : 0.0000   Length:101766      Length:101766      Length:101766     \n",
       " 1st Qu.: 0.0000   Class :character   Class :character   Class :character  \n",
       " Median : 0.0000   Mode  :character   Mode  :character   Mode  :character  \n",
       " Mean   : 0.6356                                                           \n",
       " 3rd Qu.: 1.0000                                                           \n",
       " Max.   :21.0000                                                           \n",
       "                                                                           \n",
       " number_diagnoses max_glu_serum A1Cresult     metformin     repaglinide    \n",
       " Min.   : 1.000   >200: 1485    >7  : 3812   Down  :  575   Down  :    45  \n",
       " 1st Qu.: 6.000   >300: 1264    >8  : 8216   No    :81778   No    :100227  \n",
       " Median : 8.000   None:96420    None:84748   Steady:18346   Steady:  1384  \n",
       " Mean   : 7.423   Norm: 2597    Norm: 4990   Up    : 1067   Up    :   110  \n",
       " 3rd Qu.: 9.000                                                            \n",
       " Max.   :16.000                                                            \n",
       "                                                                           \n",
       " nateglinide     chlorpropamide  glimepiride    acetohexamide    glipizide    \n",
       " Down  :    11   Down  :     1   Down  :  194   No    :101765   Down  :  560  \n",
       " No    :101063   No    :101680   No    :96575   Steady:     1   No    :89080  \n",
       " Steady:   668   Steady:    79   Steady: 4670                   Steady:11356  \n",
       " Up    :    24   Up    :     6   Up    :  327                   Up    :  770  \n",
       "                                                                              \n",
       "                                                                              \n",
       "                                                                              \n",
       "  glyburide     tolbutamide     pioglitazone   rosiglitazone    acarbose     \n",
       " Down  :  564   No    :101743   Down  :  118   Down  :   87   Down  :     3  \n",
       " No    :91116   Steady:    23   No    :94438   No    :95401   No    :101458  \n",
       " Steady: 9274                   Steady: 6976   Steady: 6100   Steady:   295  \n",
       " Up    :  812                   Up    :  234   Up    :  178   Up    :    10  \n",
       "                                                                             \n",
       "                                                                             \n",
       "                                                                             \n",
       "   miglitol      troglitazone     tolazamide     examide     citoglipton\n",
       " Down  :     5   No    :101763   No    :101727   No:101766   No:101766  \n",
       " No    :101728   Steady:     3   Steady:    38                          \n",
       " Steady:    31                   Up    :     1                          \n",
       " Up    :     2                                                          \n",
       "                                                                        \n",
       "                                                                        \n",
       "                                                                        \n",
       "   insulin      glyburide.metformin glipizide.metformin\n",
       " Down  :12218   Down  :     6       No    :101753      \n",
       " No    :47383   No    :101060       Steady:    13      \n",
       " Steady:30849   Steady:   692                          \n",
       " Up    :11316   Up    :     8                          \n",
       "                                                       \n",
       "                                                       \n",
       "                                                       \n",
       " glimepiride.pioglitazone metformin.rosiglitazone metformin.pioglitazone\n",
       " No    :101765            No    :101764           No    :101765         \n",
       " Steady:     1            Steady:     2           Steady:     1         \n",
       "                                                                        \n",
       "                                                                        \n",
       "                                                                        \n",
       "                                                                        \n",
       "                                                                        \n",
       " change     diabetesMed readmitted                           admission_source\n",
       " Ch:47011   No :23403   <30:11357   Emergency_Room                   :57494  \n",
       " No:54755   Yes:78363   >30:35545   Physician_Referral               :29565  \n",
       "                        NO :54864   Transfer_from_Hospital           : 3187  \n",
       "                                    Transfer_from_Healthcare_Facility: 2264  \n",
       "                                    Clinic_Referral                  : 1104  \n",
       "                                    (Other)                          : 1085  \n",
       "                                    NA's                             : 7067  \n",
       "   admission_type  discharge_disposition\n",
       " Elective :18869   Length:101766        \n",
       " Emergency:53990   Class :character     \n",
       " Other    :   31   Mode  :character     \n",
       " Urgent   :18480                        \n",
       " NA's     :10396                        \n",
       "                                        \n",
       "                                        "
      ]
     },
     "metadata": {},
     "output_type": "display_data"
    }
   ],
   "source": [
    "# Original paper only keeps first encounter for each patient ID to keep obs independent; we chose to keep all patient IDs\n",
    "# \n",
    "summary(diabete_data[,-1])"
   ]
  },
  {
   "cell_type": "code",
   "execution_count": 361,
   "metadata": {
    "ExecuteTime": {
     "end_time": "2019-12-03T17:58:53.697110Z",
     "start_time": "2019-12-03T17:58:40.317Z"
    }
   },
   "outputs": [],
   "source": [
    "diabete_data=subset(diabete_data,select=-c(repaglinide,nateglinide,chlorpropamide,acetohexamide,tolbutamide\n",
    "                                  ,acarbose,miglitol,troglitazone,tolazamide,examide,citoglipton\n",
    "                                  ,glyburide.metformin,glipizide.metformin,glimepiride.pioglitazone\n",
    "                                   ,metformin.rosiglitazone,metformin.pioglitazone))"
   ]
  },
  {
   "cell_type": "code",
   "execution_count": 362,
   "metadata": {
    "ExecuteTime": {
     "end_time": "2019-12-03T17:58:54.158102Z",
     "start_time": "2019-12-03T17:58:40.321Z"
    }
   },
   "outputs": [],
   "source": [
    "diabete_data <- mutate(diabete_data, metformin=ifelse(metformin=='No', 'No' ,'Yes'))\n",
    "diabete_data <- mutate(diabete_data, glimepiride=ifelse(glimepiride=='No', 'No' ,'Yes'))\n",
    "diabete_data <- mutate(diabete_data, glipizide=ifelse(glipizide=='No', 'No' ,'Yes'))\n",
    "diabete_data <- mutate(diabete_data, glyburide=ifelse(glyburide=='No', 'No' ,'Yes'))\n",
    "diabete_data <- mutate(diabete_data, pioglitazone=ifelse(pioglitazone=='No', 'No' ,'Yes'))\n",
    "diabete_data <- mutate(diabete_data, rosiglitazone=ifelse(rosiglitazone=='No', 'No' ,'Yes'))\n",
    "diabete_data <- mutate(diabete_data, insulin=ifelse(insulin=='No', 'No' ,'Yes'))"
   ]
  },
  {
   "cell_type": "code",
   "execution_count": 363,
   "metadata": {
    "ExecuteTime": {
     "end_time": "2019-12-03T17:58:54.213119Z",
     "start_time": "2019-12-03T17:58:40.325Z"
    }
   },
   "outputs": [
    {
     "data": {
      "text/plain": [
       "\n",
       "                                   ?                 AllergyandImmunology \n",
       "                                   0                                    7 \n",
       "                      Anesthesiology             Anesthesiology-Pediatric \n",
       "                                  12                                   19 \n",
       "                          Cardiology                 Cardiology-Pediatric \n",
       "                                5352                                    7 \n",
       "                             DCPTEAM                            Dentistry \n",
       "                                   6                                    4 \n",
       "                         Dermatology                     Emergency/Trauma \n",
       "                                   1                                 7565 \n",
       "                       Endocrinology             Endocrinology-Metabolism \n",
       "                                 120                                    8 \n",
       "              Family/GeneralPractice                     Gastroenterology \n",
       "                                7440                                  564 \n",
       "                          Gynecology                           Hematology \n",
       "                                  58                                   82 \n",
       "                 Hematology/Oncology                          Hospitalist \n",
       "                                 207                                   57 \n",
       "                  InfectiousDiseases                     InternalMedicine \n",
       "                                  37                                14635 \n",
       "                          Nephrology                            Neurology \n",
       "                                1613                                  203 \n",
       "                     Neurophysiology Obsterics&Gynecology-GynecologicOnco \n",
       "                                   1                                   25 \n",
       "                          Obstetrics              ObstetricsandGynecology \n",
       "                                  19                                  671 \n",
       "                            Oncology                        Ophthalmology \n",
       "                                 348                                   38 \n",
       "                         Orthopedics           Orthopedics-Reconstructive \n",
       "                                1400                                 1233 \n",
       "                           Osteopath                       Otolaryngology \n",
       "                                  39                                  125 \n",
       "                    OutreachServices                            Pathology \n",
       "                                  12                                   17 \n",
       "                          Pediatrics      Pediatrics-AllergyandImmunology \n",
       "                                 254                                    3 \n",
       "             Pediatrics-CriticalCare         Pediatrics-EmergencyMedicine \n",
       "                                  87                                    3 \n",
       "            Pediatrics-Endocrinology       Pediatrics-Hematology-Oncology \n",
       "                                 159                                    4 \n",
       "       Pediatrics-InfectiousDiseases                 Pediatrics-Neurology \n",
       "                                   1                                   10 \n",
       "              Pediatrics-Pulmonology                         Perinatology \n",
       "                                  25                                    1 \n",
       "   PhysicalMedicineandRehabilitation                    PhysicianNotFound \n",
       "                                 391                                   11 \n",
       "                            Podiatry                           Proctology \n",
       "                                 100                                    1 \n",
       "                          Psychiatry                 Psychiatry-Addictive \n",
       "                                 854                                    1 \n",
       "         Psychiatry-Child/Adolescent                           Psychology \n",
       "                                   7                                  101 \n",
       "                         Pulmonology                          Radiologist \n",
       "                                 871                                 1140 \n",
       "                           Radiology                             Resident \n",
       "                                  53                                    2 \n",
       "                        Rheumatology                               Speech \n",
       "                                  17                                    1 \n",
       "                      SportsMedicine                              Surgeon \n",
       "                                   1                                   45 \n",
       "              Surgery-Cardiovascular      Surgery-Cardiovascular/Thoracic \n",
       "                                  98                                  652 \n",
       "                Surgery-Colon&Rectal                      Surgery-General \n",
       "                                  11                                 3099 \n",
       "               Surgery-Maxillofacial                        Surgery-Neuro \n",
       "                                  11                                  468 \n",
       "                   Surgery-Pediatric                      Surgery-Plastic \n",
       "                                   8                                   41 \n",
       "    Surgery-PlasticwithinHeadandNeck                     Surgery-Thoracic \n",
       "                                   1                                  109 \n",
       "                    Surgery-Vascular                    SurgicalSpecialty \n",
       "                                 533                                   33 \n",
       "                             Urology                                 <NA> \n",
       "                                 685                                49949 "
      ]
     },
     "metadata": {},
     "output_type": "display_data"
    }
   ],
   "source": [
    "table(diabete_data$medical_specialty,exclude=NULL)"
   ]
  },
  {
   "cell_type": "code",
   "execution_count": 364,
   "metadata": {
    "ExecuteTime": {
     "end_time": "2019-12-03T17:58:54.482117Z",
     "start_time": "2019-12-03T17:58:40.328Z"
    }
   },
   "outputs": [],
   "source": [
    "diabete_data <- mutate(diabete_data, medical_specialty=ifelse(medical_specialty=='Cardiology' | medical_specialty=='Cardiology-Pediatric', 'Cardiology',\n",
    "                                                            ifelse(medical_specialty=='InternalMedicine', 'InternalMedicine',\n",
    "                                                            ifelse(medical_specialty=='Family/GeneralPractice', 'Family/GeneralPractice',\n",
    "                                                            ifelse(medical_specialty=='Emergency/Trauma','Emergency/Trauma',\n",
    "                                                            ifelse(medical_specialty=='Surgery-Cardiovascular'| medical_specialty=='Surgery-Cardiovascular/Thoracic'|\n",
    "                                                                  medical_specialty=='Surgery-Colon&Rectal' | medical_specialty=='Surgery-General'|\n",
    "                                                                   medical_specialty=='Surgery-Maxillofacial' | medical_specialty=='Surgery-Neuro' |\n",
    "                                                                   medical_specialty=='Surgery-Pediatric' | medical_specialty=='Surgery-Plastic' |\n",
    "                                                                   medical_specialty=='Surgery-PlasticwithinHeadandNeck' | medical_specialty == 'Surgery-Thoracic' |\n",
    "                                                                   medical_specialty=='Surgery-Vascular' | medical_specialty=='SurgicalSpecialty', 'Surgery',\n",
    "                                                                  \n",
    "                                                            'Others'))))))"
   ]
  },
  {
   "cell_type": "code",
   "execution_count": 365,
   "metadata": {
    "ExecuteTime": {
     "end_time": "2019-12-03T17:58:54.814330Z",
     "start_time": "2019-12-03T17:58:40.333Z"
    }
   },
   "outputs": [
    {
     "data": {
      "text/plain": [
       "  patient_nbr                     race                   gender     \n",
       " Min.   :      135   ?              :    0   Female         :54708  \n",
       " 1st Qu.: 23413221   AfricanAmerican:19210   Male           :47055  \n",
       " Median : 45505143   Asian          :  641   Unknown/Invalid:    3  \n",
       " Mean   : 54330401   Caucasian      :76099                          \n",
       " 3rd Qu.: 87545950   Hispanic       : 2037                          \n",
       " Max.   :189502619   Other          : 1506                          \n",
       "                     NA's           : 2273                          \n",
       "      age        admission_type_id discharge_disposition_id admission_source_id\n",
       " [70-80):26068   Min.   :0.000     Min.   : 0.000           Min.   :0.000      \n",
       " [60-70):22483   1st Qu.:1.000     1st Qu.: 1.000           1st Qu.:1.000      \n",
       " [50-60):17256   Median :1.000     Median : 1.000           Median :7.000      \n",
       " [80-90):17197   Mean   :1.615     Mean   : 2.924           Mean   :4.915      \n",
       " [40-50): 9685   3rd Qu.:2.000     3rd Qu.: 3.000           3rd Qu.:7.000      \n",
       " [30-40): 3775   Max.   :3.000     Max.   :28.000           Max.   :7.000      \n",
       " (Other): 5302   NA's   :10396     NA's   :4680             NA's   :7067       \n",
       " time_in_hospital medical_specialty  num_lab_procedures num_procedures\n",
       " Min.   : 1.000   Length:101766      Min.   :  1.0      Min.   :0.00  \n",
       " 1st Qu.: 2.000   Class :character   1st Qu.: 31.0      1st Qu.:0.00  \n",
       " Median : 4.000   Mode  :character   Median : 44.0      Median :1.00  \n",
       " Mean   : 4.396                      Mean   : 43.1      Mean   :1.34  \n",
       " 3rd Qu.: 6.000                      3rd Qu.: 57.0      3rd Qu.:2.00  \n",
       " Max.   :14.000                      Max.   :132.0      Max.   :6.00  \n",
       "                                                                      \n",
       " num_medications number_outpatient number_emergency  number_inpatient \n",
       " Min.   : 1.00   Min.   : 0.0000   Min.   : 0.0000   Min.   : 0.0000  \n",
       " 1st Qu.:10.00   1st Qu.: 0.0000   1st Qu.: 0.0000   1st Qu.: 0.0000  \n",
       " Median :15.00   Median : 0.0000   Median : 0.0000   Median : 0.0000  \n",
       " Mean   :16.02   Mean   : 0.3694   Mean   : 0.1978   Mean   : 0.6356  \n",
       " 3rd Qu.:20.00   3rd Qu.: 0.0000   3rd Qu.: 0.0000   3rd Qu.: 1.0000  \n",
       " Max.   :81.00   Max.   :42.0000   Max.   :76.0000   Max.   :21.0000  \n",
       "                                                                      \n",
       "    diag_1             diag_2             diag_3          number_diagnoses\n",
       " Length:101766      Length:101766      Length:101766      Min.   : 1.000  \n",
       " Class :character   Class :character   Class :character   1st Qu.: 6.000  \n",
       " Mode  :character   Mode  :character   Mode  :character   Median : 8.000  \n",
       "                                                          Mean   : 7.423  \n",
       "                                                          3rd Qu.: 9.000  \n",
       "                                                          Max.   :16.000  \n",
       "                                                                          \n",
       " max_glu_serum A1Cresult     metformin         glimepiride       \n",
       " >200: 1485    >7  : 3812   Length:101766      Length:101766     \n",
       " >300: 1264    >8  : 8216   Class :character   Class :character  \n",
       " None:96420    None:84748   Mode  :character   Mode  :character  \n",
       " Norm: 2597    Norm: 4990                                        \n",
       "                                                                 \n",
       "                                                                 \n",
       "                                                                 \n",
       "  glipizide          glyburide         pioglitazone       rosiglitazone     \n",
       " Length:101766      Length:101766      Length:101766      Length:101766     \n",
       " Class :character   Class :character   Class :character   Class :character  \n",
       " Mode  :character   Mode  :character   Mode  :character   Mode  :character  \n",
       "                                                                            \n",
       "                                                                            \n",
       "                                                                            \n",
       "                                                                            \n",
       "   insulin          change     diabetesMed readmitted \n",
       " Length:101766      Ch:47011   No :23403   <30:11357  \n",
       " Class :character   No:54755   Yes:78363   >30:35545  \n",
       " Mode  :character                          NO :54864  \n",
       "                                                      \n",
       "                                                      \n",
       "                                                      \n",
       "                                                      \n",
       "                          admission_source   admission_type \n",
       " Emergency_Room                   :57494   Elective :18869  \n",
       " Physician_Referral               :29565   Emergency:53990  \n",
       " Transfer_from_Hospital           : 3187   Other    :   31  \n",
       " Transfer_from_Healthcare_Facility: 2264   Urgent   :18480  \n",
       " Clinic_Referral                  : 1104   NA's     :10396  \n",
       " (Other)                          : 1085                    \n",
       " NA's                             : 7067                    \n",
       " discharge_disposition\n",
       " Length:101766        \n",
       " Class :character     \n",
       " Mode  :character     \n",
       "                      \n",
       "                      \n",
       "                      \n",
       "                      "
      ]
     },
     "metadata": {},
     "output_type": "display_data"
    },
    {
     "name": "stdout",
     "output_type": "stream",
     "text": [
      "'data.frame':\t101766 obs. of  35 variables:\n",
      " $ encounter_id            : int  2278392 149190 64410 500364 16680 35754 55842 63768 12522 15738 ...\n",
      " $ patient_nbr             : int  8222157 55629189 86047875 82442376 42519267 82637451 84259809 114882984 48330783 63555939 ...\n",
      " $ race                    : Factor w/ 6 levels \"?\",\"AfricanAmerican\",..: 4 4 2 4 4 4 4 4 4 4 ...\n",
      " $ gender                  : Factor w/ 3 levels \"Female\",\"Male\",..: 1 1 1 2 2 2 2 2 1 1 ...\n",
      " $ age                     : Factor w/ 10 levels \"[0-10)\",\"[10-20)\",..: 1 2 3 4 5 6 7 8 9 10 ...\n",
      " $ admission_type_id       : num  NA 1 1 1 1 2 3 1 2 3 ...\n",
      " $ discharge_disposition_id: num  NA 1 1 1 1 1 1 1 1 3 ...\n",
      " $ admission_source_id     : num  1 7 7 7 7 2 2 7 4 4 ...\n",
      " $ time_in_hospital        : int  1 3 2 2 1 3 4 5 13 12 ...\n",
      " $ medical_specialty       : chr  \"Others\" NA NA NA ...\n",
      " $ num_lab_procedures      : int  41 59 11 44 51 31 70 73 68 33 ...\n",
      " $ num_procedures          : int  0 0 5 1 0 6 1 0 2 3 ...\n",
      " $ num_medications         : int  1 18 13 16 8 16 21 12 28 18 ...\n",
      " $ number_outpatient       : int  0 0 2 0 0 0 0 0 0 0 ...\n",
      " $ number_emergency        : int  0 0 0 0 0 0 0 0 0 0 ...\n",
      " $ number_inpatient        : int  0 0 1 0 0 0 0 0 0 0 ...\n",
      " $ diag_1                  : chr  \"Diabetes\" \"Other\" \"Other\" \"Other\" ...\n",
      " $ diag_2                  : chr  NA \"Diabetes\" \"Diabetes\" \"Diabetes\" ...\n",
      " $ diag_3                  : chr  NA \"Other\" \"Other\" \"Circulatory\" ...\n",
      " $ number_diagnoses        : int  1 9 6 7 5 9 7 8 8 8 ...\n",
      " $ max_glu_serum           : Factor w/ 4 levels \">200\",\">300\",..: 3 3 3 3 3 3 3 3 3 3 ...\n",
      " $ A1Cresult               : Factor w/ 4 levels \">7\",\">8\",\"None\",..: 3 3 3 3 3 3 3 3 3 3 ...\n",
      " $ metformin               : chr  \"No\" \"No\" \"No\" \"No\" ...\n",
      " $ glimepiride             : chr  \"No\" \"No\" \"No\" \"No\" ...\n",
      " $ glipizide               : chr  \"No\" \"No\" \"Yes\" \"No\" ...\n",
      " $ glyburide               : chr  \"No\" \"No\" \"No\" \"No\" ...\n",
      " $ pioglitazone            : chr  \"No\" \"No\" \"No\" \"No\" ...\n",
      " $ rosiglitazone           : chr  \"No\" \"No\" \"No\" \"No\" ...\n",
      " $ insulin                 : chr  \"No\" \"Yes\" \"No\" \"Yes\" ...\n",
      " $ change                  : Factor w/ 2 levels \"Ch\",\"No\": 2 1 2 1 1 2 1 2 1 1 ...\n",
      " $ diabetesMed             : Factor w/ 2 levels \"No\",\"Yes\": 1 2 2 2 2 2 2 2 2 2 ...\n",
      " $ readmitted              : Factor w/ 3 levels \"<30\",\">30\",\"NO\": 3 2 3 3 3 2 3 2 3 3 ...\n",
      " $ admission_source        : Factor w/ 8 levels \"Clinic_Referral\",..: 5 2 2 2 2 1 1 2 7 7 ...\n",
      " $ admission_type          : Factor w/ 4 levels \"Elective\",\"Emergency\",..: NA 2 2 2 2 4 1 2 4 1 ...\n",
      " $ discharge_disposition   : chr  NA \"Home\" \"Home\" \"Home\" ...\n"
     ]
    }
   ],
   "source": [
    "summary(diabete_data[,-1])\n",
    "str(diabete_data)"
   ]
  },
  {
   "cell_type": "code",
   "execution_count": 366,
   "metadata": {
    "ExecuteTime": {
     "end_time": "2019-12-03T17:58:54.968083Z",
     "start_time": "2019-12-03T17:58:40.338Z"
    }
   },
   "outputs": [
    {
     "name": "stdout",
     "output_type": "stream",
     "text": [
      "'data.frame':\t101766 obs. of  30 variables:\n",
      " $ race                 : Factor w/ 6 levels \"?\",\"AfricanAmerican\",..: 4 4 2 4 4 4 4 4 4 4 ...\n",
      " $ gender               : Factor w/ 3 levels \"Female\",\"Male\",..: 1 1 1 2 2 2 2 2 1 1 ...\n",
      " $ age                  : Factor w/ 10 levels \"[0-10)\",\"[10-20)\",..: 1 2 3 4 5 6 7 8 9 10 ...\n",
      " $ time_in_hospital     : int  1 3 2 2 1 3 4 5 13 12 ...\n",
      " $ medical_specialty    : chr  \"Others\" NA NA NA ...\n",
      " $ num_lab_procedures   : int  41 59 11 44 51 31 70 73 68 33 ...\n",
      " $ num_procedures       : int  0 0 5 1 0 6 1 0 2 3 ...\n",
      " $ num_medications      : int  1 18 13 16 8 16 21 12 28 18 ...\n",
      " $ number_outpatient    : int  0 0 2 0 0 0 0 0 0 0 ...\n",
      " $ number_emergency     : int  0 0 0 0 0 0 0 0 0 0 ...\n",
      " $ number_inpatient     : int  0 0 1 0 0 0 0 0 0 0 ...\n",
      " $ diag_1               : chr  \"Diabetes\" \"Other\" \"Other\" \"Other\" ...\n",
      " $ diag_2               : chr  NA \"Diabetes\" \"Diabetes\" \"Diabetes\" ...\n",
      " $ diag_3               : chr  NA \"Other\" \"Other\" \"Circulatory\" ...\n",
      " $ number_diagnoses     : int  1 9 6 7 5 9 7 8 8 8 ...\n",
      " $ max_glu_serum        : Factor w/ 4 levels \">200\",\">300\",..: 3 3 3 3 3 3 3 3 3 3 ...\n",
      " $ A1Cresult            : Factor w/ 4 levels \">7\",\">8\",\"None\",..: 3 3 3 3 3 3 3 3 3 3 ...\n",
      " $ metformin            : chr  \"No\" \"No\" \"No\" \"No\" ...\n",
      " $ glimepiride          : chr  \"No\" \"No\" \"No\" \"No\" ...\n",
      " $ glipizide            : chr  \"No\" \"No\" \"Yes\" \"No\" ...\n",
      " $ glyburide            : chr  \"No\" \"No\" \"No\" \"No\" ...\n",
      " $ pioglitazone         : chr  \"No\" \"No\" \"No\" \"No\" ...\n",
      " $ rosiglitazone        : chr  \"No\" \"No\" \"No\" \"No\" ...\n",
      " $ insulin              : chr  \"No\" \"Yes\" \"No\" \"Yes\" ...\n",
      " $ change               : Factor w/ 2 levels \"Ch\",\"No\": 2 1 2 1 1 2 1 2 1 1 ...\n",
      " $ diabetesMed          : Factor w/ 2 levels \"No\",\"Yes\": 1 2 2 2 2 2 2 2 2 2 ...\n",
      " $ readmitted           : Factor w/ 3 levels \"<30\",\">30\",\"NO\": 3 2 3 3 3 2 3 2 3 3 ...\n",
      " $ admission_source     : Factor w/ 8 levels \"Clinic_Referral\",..: 5 2 2 2 2 1 1 2 7 7 ...\n",
      " $ admission_type       : Factor w/ 4 levels \"Elective\",\"Emergency\",..: NA 2 2 2 2 4 1 2 4 1 ...\n",
      " $ discharge_disposition: chr  NA \"Home\" \"Home\" \"Home\" ...\n"
     ]
    }
   ],
   "source": [
    "diabete_data=subset(diabete_data,select=-c(encounter_id, patient_nbr, admission_type_id, \n",
    "                                           discharge_disposition_id, admission_source_id))\n",
    "\n",
    "str(diabete_data)"
   ]
  },
  {
   "cell_type": "markdown",
   "metadata": {},
   "source": [
    "# Beginning EDA/Feature Selection"
   ]
  },
  {
   "cell_type": "markdown",
   "metadata": {},
   "source": [
    "# Do missing data imputation; (do we impute before or after feature selection?)"
   ]
  },
  {
   "cell_type": "code",
   "execution_count": 367,
   "metadata": {
    "ExecuteTime": {
     "end_time": "2019-12-03T17:58:55.052088Z",
     "start_time": "2019-12-03T17:58:40.627Z"
    }
   },
   "outputs": [
    {
     "name": "stdout",
     "output_type": "stream",
     "text": [
      "Number of Missing Data for Each Variable:"
     ]
    },
    {
     "data": {
      "text/html": [
       "<dl class=dl-horizontal>\n",
       "\t<dt>race</dt>\n",
       "\t\t<dd>2273</dd>\n",
       "\t<dt>gender</dt>\n",
       "\t\t<dd>0</dd>\n",
       "\t<dt>age</dt>\n",
       "\t\t<dd>0</dd>\n",
       "\t<dt>time_in_hospital</dt>\n",
       "\t\t<dd>0</dd>\n",
       "\t<dt>medical_specialty</dt>\n",
       "\t\t<dd>49949</dd>\n",
       "\t<dt>num_lab_procedures</dt>\n",
       "\t\t<dd>0</dd>\n",
       "\t<dt>num_procedures</dt>\n",
       "\t\t<dd>0</dd>\n",
       "\t<dt>num_medications</dt>\n",
       "\t\t<dd>0</dd>\n",
       "\t<dt>number_outpatient</dt>\n",
       "\t\t<dd>0</dd>\n",
       "\t<dt>number_emergency</dt>\n",
       "\t\t<dd>0</dd>\n",
       "\t<dt>number_inpatient</dt>\n",
       "\t\t<dd>0</dd>\n",
       "\t<dt>diag_1</dt>\n",
       "\t\t<dd>21</dd>\n",
       "\t<dt>diag_2</dt>\n",
       "\t\t<dd>358</dd>\n",
       "\t<dt>diag_3</dt>\n",
       "\t\t<dd>1423</dd>\n",
       "\t<dt>number_diagnoses</dt>\n",
       "\t\t<dd>0</dd>\n",
       "\t<dt>max_glu_serum</dt>\n",
       "\t\t<dd>0</dd>\n",
       "\t<dt>A1Cresult</dt>\n",
       "\t\t<dd>0</dd>\n",
       "\t<dt>metformin</dt>\n",
       "\t\t<dd>0</dd>\n",
       "\t<dt>glimepiride</dt>\n",
       "\t\t<dd>0</dd>\n",
       "\t<dt>glipizide</dt>\n",
       "\t\t<dd>0</dd>\n",
       "\t<dt>glyburide</dt>\n",
       "\t\t<dd>0</dd>\n",
       "\t<dt>pioglitazone</dt>\n",
       "\t\t<dd>0</dd>\n",
       "\t<dt>rosiglitazone</dt>\n",
       "\t\t<dd>0</dd>\n",
       "\t<dt>insulin</dt>\n",
       "\t\t<dd>0</dd>\n",
       "\t<dt>change</dt>\n",
       "\t\t<dd>0</dd>\n",
       "\t<dt>diabetesMed</dt>\n",
       "\t\t<dd>0</dd>\n",
       "\t<dt>readmitted</dt>\n",
       "\t\t<dd>0</dd>\n",
       "\t<dt>admission_source</dt>\n",
       "\t\t<dd>7067</dd>\n",
       "\t<dt>admission_type</dt>\n",
       "\t\t<dd>10396</dd>\n",
       "\t<dt>discharge_disposition</dt>\n",
       "\t\t<dd>4680</dd>\n",
       "</dl>\n"
      ],
      "text/latex": [
       "\\begin{description*}\n",
       "\\item[race] 2273\n",
       "\\item[gender] 0\n",
       "\\item[age] 0\n",
       "\\item[time\\textbackslash{}\\_in\\textbackslash{}\\_hospital] 0\n",
       "\\item[medical\\textbackslash{}\\_specialty] 49949\n",
       "\\item[num\\textbackslash{}\\_lab\\textbackslash{}\\_procedures] 0\n",
       "\\item[num\\textbackslash{}\\_procedures] 0\n",
       "\\item[num\\textbackslash{}\\_medications] 0\n",
       "\\item[number\\textbackslash{}\\_outpatient] 0\n",
       "\\item[number\\textbackslash{}\\_emergency] 0\n",
       "\\item[number\\textbackslash{}\\_inpatient] 0\n",
       "\\item[diag\\textbackslash{}\\_1] 21\n",
       "\\item[diag\\textbackslash{}\\_2] 358\n",
       "\\item[diag\\textbackslash{}\\_3] 1423\n",
       "\\item[number\\textbackslash{}\\_diagnoses] 0\n",
       "\\item[max\\textbackslash{}\\_glu\\textbackslash{}\\_serum] 0\n",
       "\\item[A1Cresult] 0\n",
       "\\item[metformin] 0\n",
       "\\item[glimepiride] 0\n",
       "\\item[glipizide] 0\n",
       "\\item[glyburide] 0\n",
       "\\item[pioglitazone] 0\n",
       "\\item[rosiglitazone] 0\n",
       "\\item[insulin] 0\n",
       "\\item[change] 0\n",
       "\\item[diabetesMed] 0\n",
       "\\item[readmitted] 0\n",
       "\\item[admission\\textbackslash{}\\_source] 7067\n",
       "\\item[admission\\textbackslash{}\\_type] 10396\n",
       "\\item[discharge\\textbackslash{}\\_disposition] 4680\n",
       "\\end{description*}\n"
      ],
      "text/markdown": [
       "race\n",
       ":   2273gender\n",
       ":   0age\n",
       ":   0time_in_hospital\n",
       ":   0medical_specialty\n",
       ":   49949num_lab_procedures\n",
       ":   0num_procedures\n",
       ":   0num_medications\n",
       ":   0number_outpatient\n",
       ":   0number_emergency\n",
       ":   0number_inpatient\n",
       ":   0diag_1\n",
       ":   21diag_2\n",
       ":   358diag_3\n",
       ":   1423number_diagnoses\n",
       ":   0max_glu_serum\n",
       ":   0A1Cresult\n",
       ":   0metformin\n",
       ":   0glimepiride\n",
       ":   0glipizide\n",
       ":   0glyburide\n",
       ":   0pioglitazone\n",
       ":   0rosiglitazone\n",
       ":   0insulin\n",
       ":   0change\n",
       ":   0diabetesMed\n",
       ":   0readmitted\n",
       ":   0admission_source\n",
       ":   7067admission_type\n",
       ":   10396discharge_disposition\n",
       ":   4680\n",
       "\n"
      ],
      "text/plain": [
       "                 race                gender                   age \n",
       "                 2273                     0                     0 \n",
       "     time_in_hospital     medical_specialty    num_lab_procedures \n",
       "                    0                 49949                     0 \n",
       "       num_procedures       num_medications     number_outpatient \n",
       "                    0                     0                     0 \n",
       "     number_emergency      number_inpatient                diag_1 \n",
       "                    0                     0                    21 \n",
       "               diag_2                diag_3      number_diagnoses \n",
       "                  358                  1423                     0 \n",
       "        max_glu_serum             A1Cresult             metformin \n",
       "                    0                     0                     0 \n",
       "          glimepiride             glipizide             glyburide \n",
       "                    0                     0                     0 \n",
       "         pioglitazone         rosiglitazone               insulin \n",
       "                    0                     0                     0 \n",
       "               change           diabetesMed            readmitted \n",
       "                    0                     0                     0 \n",
       "     admission_source        admission_type discharge_disposition \n",
       "                 7067                 10396                  4680 "
      ]
     },
     "metadata": {},
     "output_type": "display_data"
    }
   ],
   "source": [
    "cat('Number of Missing Data for Each Variable:')\n",
    "sapply(diabete_data, function(x) sum(is.na(x)))"
   ]
  },
  {
   "cell_type": "markdown",
   "metadata": {},
   "source": [
    "Keep Medical specialty because it holds significance; recategorize NA's as missing though; don't want to impute because there is so much missing data; would introduce bias"
   ]
  },
  {
   "cell_type": "code",
   "execution_count": 368,
   "metadata": {
    "ExecuteTime": {
     "end_time": "2019-12-03T17:58:55.215070Z",
     "start_time": "2019-12-03T17:58:40.735Z"
    }
   },
   "outputs": [],
   "source": [
    "diabete_data <- diabete_data %>% mutate(medical_specialty = recode(medical_specialty, .missing = 'Missing', .default = medical_specialty))"
   ]
  },
  {
   "cell_type": "markdown",
   "metadata": {},
   "source": [
    "Impute rest of data. Don't want any of our data to go to waste"
   ]
  },
  {
   "cell_type": "code",
   "execution_count": 369,
   "metadata": {
    "ExecuteTime": {
     "end_time": "2019-12-03T17:58:55.267099Z",
     "start_time": "2019-12-03T17:58:40.863Z"
    }
   },
   "outputs": [],
   "source": [
    "library(mice)"
   ]
  },
  {
   "cell_type": "code",
   "execution_count": 370,
   "metadata": {
    "ExecuteTime": {
     "end_time": "2019-12-03T17:58:55.313092Z",
     "start_time": "2019-12-03T17:58:40.870Z"
    }
   },
   "outputs": [],
   "source": [
    "# Data imputation takes an hour, need to think of another approach; impute and then export as csv and then import the data\n",
    "# cat('starting')\n",
    "# mice_imputes = mice(diabete_data, m=1, maxit=5)\n",
    "# diabete_data <- complete(mice_imputes)\n",
    "# cat('done')"
   ]
  },
  {
   "cell_type": "markdown",
   "metadata": {},
   "source": [
    "# EDA"
   ]
  },
  {
   "cell_type": "code",
   "execution_count": 371,
   "metadata": {
    "ExecuteTime": {
     "end_time": "2019-12-03T17:58:55.464114Z",
     "start_time": "2019-12-03T17:58:40.940Z"
    }
   },
   "outputs": [],
   "source": [
    "diabete_data$metformin=factor(diabete_data$metformin)\n",
    "diabete_data$glimepiride=factor(diabete_data$glimepiride)\n",
    "diabete_data$glipizide=factor(diabete_data$glipizide)\n",
    "diabete_data$glyburide=factor(diabete_data$glyburide)\n",
    "diabete_data$pioglitazone=factor(diabete_data$pioglitazone)\n",
    "diabete_data$rosiglitazone=factor(diabete_data$rosiglitazone)\n",
    "diabete_data$insulin=factor(diabete_data$insulin)\n",
    "diabete_data$diag_1=factor(diabete_data$diag_1)\n",
    "diabete_data$diag_2=factor(diabete_data$diag_2)\n",
    "diabete_data$diag_3=factor(diabete_data$diag_3)\n",
    "diabete_data$medical_specialty=factor(diabete_data$medical_specialty)\n",
    "diabete_data$discharge_disposition=factor(diabete_data$discharge_disposition)"
   ]
  },
  {
   "cell_type": "code",
   "execution_count": 372,
   "metadata": {
    "ExecuteTime": {
     "end_time": "2019-12-03T17:58:55.597181Z",
     "start_time": "2019-12-03T17:58:40.944Z"
    }
   },
   "outputs": [
    {
     "name": "stdout",
     "output_type": "stream",
     "text": [
      "'data.frame':\t101766 obs. of  30 variables:\n",
      " $ race                 : Factor w/ 6 levels \"?\",\"AfricanAmerican\",..: 4 4 2 4 4 4 4 4 4 4 ...\n",
      " $ gender               : Factor w/ 3 levels \"Female\",\"Male\",..: 1 1 1 2 2 2 2 2 1 1 ...\n",
      " $ age                  : Factor w/ 10 levels \"[0-10)\",\"[10-20)\",..: 1 2 3 4 5 6 7 8 9 10 ...\n",
      " $ time_in_hospital     : int  1 3 2 2 1 3 4 5 13 12 ...\n",
      " $ medical_specialty    : Factor w/ 7 levels \"Cardiology\",\"Emergency/Trauma\",..: 6 5 5 5 5 5 5 5 5 4 ...\n",
      " $ num_lab_procedures   : int  41 59 11 44 51 31 70 73 68 33 ...\n",
      " $ num_procedures       : int  0 0 5 1 0 6 1 0 2 3 ...\n",
      " $ num_medications      : int  1 18 13 16 8 16 21 12 28 18 ...\n",
      " $ number_outpatient    : int  0 0 2 0 0 0 0 0 0 0 ...\n",
      " $ number_emergency     : int  0 0 0 0 0 0 0 0 0 0 ...\n",
      " $ number_inpatient     : int  0 0 1 0 0 0 0 0 0 0 ...\n",
      " $ diag_1               : Factor w/ 9 levels \"Circulatory\",..: 2 8 8 8 7 1 1 1 1 1 ...\n",
      " $ diag_2               : Factor w/ 9 levels \"Circulatory\",..: NA 2 2 2 7 1 1 9 1 7 ...\n",
      " $ diag_3               : Factor w/ 9 levels \"Circulatory\",..: NA 8 8 1 2 2 8 2 8 9 ...\n",
      " $ number_diagnoses     : int  1 9 6 7 5 9 7 8 8 8 ...\n",
      " $ max_glu_serum        : Factor w/ 4 levels \">200\",\">300\",..: 3 3 3 3 3 3 3 3 3 3 ...\n",
      " $ A1Cresult            : Factor w/ 4 levels \">7\",\">8\",\"None\",..: 3 3 3 3 3 3 3 3 3 3 ...\n",
      " $ metformin            : Factor w/ 2 levels \"No\",\"Yes\": 1 1 1 1 1 1 2 1 1 1 ...\n",
      " $ glimepiride          : Factor w/ 2 levels \"No\",\"Yes\": 1 1 1 1 1 1 2 1 1 1 ...\n",
      " $ glipizide            : Factor w/ 2 levels \"No\",\"Yes\": 1 1 2 1 2 1 1 1 2 1 ...\n",
      " $ glyburide            : Factor w/ 2 levels \"No\",\"Yes\": 1 1 1 1 1 1 1 2 1 1 ...\n",
      " $ pioglitazone         : Factor w/ 2 levels \"No\",\"Yes\": 1 1 1 1 1 1 1 1 1 1 ...\n",
      " $ rosiglitazone        : Factor w/ 2 levels \"No\",\"Yes\": 1 1 1 1 1 1 1 1 1 2 ...\n",
      " $ insulin              : Factor w/ 2 levels \"No\",\"Yes\": 1 2 1 2 2 2 2 1 2 2 ...\n",
      " $ change               : Factor w/ 2 levels \"Ch\",\"No\": 2 1 2 1 1 2 1 2 1 1 ...\n",
      " $ diabetesMed          : Factor w/ 2 levels \"No\",\"Yes\": 1 2 2 2 2 2 2 2 2 2 ...\n",
      " $ readmitted           : Factor w/ 3 levels \"<30\",\">30\",\"NO\": 3 2 3 3 3 2 3 2 3 3 ...\n",
      " $ admission_source     : Factor w/ 8 levels \"Clinic_Referral\",..: 5 2 2 2 2 1 1 2 7 7 ...\n",
      " $ admission_type       : Factor w/ 4 levels \"Elective\",\"Emergency\",..: NA 2 2 2 2 4 1 2 4 1 ...\n",
      " $ discharge_disposition: Factor w/ 4 levels \"Home\",\"Home_with_home_health_service\",..: NA 1 1 1 1 1 1 1 1 4 ...\n"
     ]
    }
   ],
   "source": [
    "str(diabete_data)"
   ]
  },
  {
   "cell_type": "code",
   "execution_count": 373,
   "metadata": {
    "ExecuteTime": {
     "end_time": "2019-12-03T17:58:55.753421Z",
     "start_time": "2019-12-03T17:58:40.950Z"
    }
   },
   "outputs": [
    {
     "data": {
      "text/plain": [
       "\n",
       "   No   Yes \n",
       "90409 11357 "
      ]
     },
     "metadata": {},
     "output_type": "display_data"
    }
   ],
   "source": [
    "diabete_data <- mutate(diabete_data, readmitted=ifelse(readmitted=='<30', 'Yes' ,'No'))\n",
    "diabete_data$readmitted=factor(diabete_data$readmitted)\n",
    "table(diabete_data$readmitted)"
   ]
  },
  {
   "cell_type": "code",
   "execution_count": 374,
   "metadata": {
    "ExecuteTime": {
     "end_time": "2019-12-03T17:59:14.493118Z",
     "start_time": "2019-12-03T17:58:40.956Z"
    }
   },
   "outputs": [
    {
     "data": {
      "image/png": "[encoded data removed]",
      "text/plain": [
       "plot without title"
      ]
     },
     "metadata": {},
     "output_type": "display_data"
    },
    {
     "data": {
      "image/png": "[encoded data removed]",
      "text/plain": [
       "plot without title"
      ]
     },
     "metadata": {},
     "output_type": "display_data"
    },
    {
     "data": {
      "image/png": "[encoded data removed]",
      "text/plain": [
       "plot without title"
      ]
     },
     "metadata": {},
     "output_type": "display_data"
    },
    {
     "data": {
      "image/png": "[encoded data removed]",
      "text/plain": [
       "plot without title"
      ]
     },
     "metadata": {},
     "output_type": "display_data"
    },
    {
     "data": {
      "image/png": "[encoded data removed]",
      "text/plain": [
       "plot without title"
      ]
     },
     "metadata": {},
     "output_type": "display_data"
    },
    {
     "data": {
      "image/png": "[encoded data removed]",
      "text/plain": [
       "plot without title"
      ]
     },
     "metadata": {},
     "output_type": "display_data"
    },
    {
     "data": {
      "image/png": "[encoded data removed]",
      "text/plain": [
       "plot without title"
      ]
     },
     "metadata": {},
     "output_type": "display_data"
    }
   ],
   "source": [
    "# Create Plot\n",
    "violin_plot_time <- ggplot(diabete_data, aes(x=readmitted, y=time_in_hospital, color = readmitted, fill = readmitted)) + \n",
    "geom_violin(alpha = 0.3, trim = FALSE) + # By default tails are trimmed\n",
    "stat_summary(fun.y=median, geom=\"point\", shape = 23, size = 2) +\n",
    "theme(legend.position='none') +\n",
    "labs(y='Time in Hospital (Days)', x='Readmission Status', \n",
    "     caption = 'The dots in the center of each violin plot represent median time of each group') +\n",
    "coord_flip()\n",
    "\n",
    "# Display Plot\n",
    "violin_plot_time\n",
    "\n",
    "# Create Plot\n",
    "violin_plot_lab <- ggplot(diabete_data, aes(x=readmitted, y=num_lab_procedures, color = readmitted, fill = readmitted)) + \n",
    "geom_violin(alpha = 0.3, trim = FALSE) + # By default tails are trimmed\n",
    "stat_summary(fun.y=median, geom=\"point\", shape = 23, size = 2) +\n",
    "theme(legend.position='none') +\n",
    "labs(y='Number of Laboratory Procedures', x='Readmission Status', \n",
    "     caption = 'The dots in the center of each violin plot represent median number of laboratory procedures') +\n",
    "coord_flip()\n",
    "\n",
    "# Display Plot\n",
    "violin_plot_lab\n",
    "\n",
    "# Create Plot\n",
    "violin_plot_procedures <- ggplot(diabete_data, aes(x=readmitted, y=num_procedures, color = readmitted, fill = readmitted)) + \n",
    "geom_violin(alpha = 0.3, trim = FALSE) + # By default tails are trimmed\n",
    "stat_summary(fun.y=median, geom=\"point\", shape = 23, size = 2) +\n",
    "theme(legend.position='none') +\n",
    "labs(y='Number of Procedures', x='Readmission Status', \n",
    "     caption = 'The dots in the center of each violin plot represent median number of procedures of each group') +\n",
    "coord_flip()\n",
    "\n",
    "# Display Plot\n",
    "violin_plot_procedures\n",
    "\n",
    "# Create Plot\n",
    "violin_plot_medications <- ggplot(diabete_data, aes(x=readmitted, y=num_medications, color = readmitted, fill = readmitted)) + \n",
    "geom_violin(alpha = 0.3, trim = FALSE) + # By default tails are trimmed\n",
    "stat_summary(fun.y=median, geom=\"point\", shape = 23, size = 2) +\n",
    "theme(legend.position='none') +\n",
    "labs(y='Number of Medications', x='Readmission Status', \n",
    "     caption = 'The dots in the center of each violin plot represent median number of medications of each group') +\n",
    "coord_flip()\n",
    "\n",
    "# Display Plot\n",
    "violin_plot_medications\n",
    "\n",
    "# Create Plot\n",
    "violin_plot_outpatient <- ggplot(diabete_data, aes(x=readmitted, y=number_outpatient, color = readmitted, fill = readmitted)) + \n",
    "geom_violin(alpha = 0.3, trim = FALSE) + # By default tails are trimmed\n",
    "stat_summary(fun.y=median, geom=\"point\", shape = 23, size = 2) +\n",
    "theme(legend.position='none') +\n",
    "labs(y='Number of Outpatient Visits', x='Readmission Status', \n",
    "     caption = 'The dots in the center of each violin plot represent median number of outpatient visits of each group') +\n",
    "coord_flip()\n",
    "\n",
    "# Display Plot\n",
    "violin_plot_outpatient\n",
    "\n",
    "# Create Plot\n",
    "violin_plot_emergency <- ggplot(diabete_data, aes(x=readmitted, y=number_emergency, color = readmitted, fill = readmitted)) + \n",
    "geom_violin(alpha = 0.3, trim = FALSE) + # By default tails are trimmed\n",
    "stat_summary(fun.y=median, geom=\"point\", shape = 23, size = 2) +\n",
    "theme(legend.position='none') +\n",
    "labs(y='Number of Emergency Room Visits', x='Readmission Status', \n",
    "     caption = 'The dots in the center of each violin plot represent median number of emergency room visits') +\n",
    "coord_flip()\n",
    "\n",
    "# Display Plot\n",
    "violin_plot_emergency\n",
    "\n",
    "# Create Plot\n",
    "violin_plot_inpatient <- ggplot(diabete_data, aes(x=readmitted, y=number_inpatient, color = readmitted, fill = readmitted)) + \n",
    "geom_violin(alpha = 0.3, trim = FALSE) + # By default tails are trimmed\n",
    "stat_summary(fun.y=median, geom=\"point\", shape = 23, size = 2) +\n",
    "theme(legend.position='none') +\n",
    "labs(y='Number of Inpatient Visits', x='Readmission Status', \n",
    "     caption = 'The dots in the center of each violin plot represent median number of inpatient visits of each group') +\n",
    "coord_flip()\n",
    "\n",
    "# Display Plot\n",
    "violin_plot_inpatient"
   ]
  },
  {
   "cell_type": "code",
   "execution_count": 375,
   "metadata": {
    "ExecuteTime": {
     "end_time": "2019-12-03T17:59:14.545976Z",
     "start_time": "2019-12-03T17:58:40.964Z"
    }
   },
   "outputs": [],
   "source": [
    "# Drop number of lab procedures, number of medications"
   ]
  },
  {
   "cell_type": "code",
   "execution_count": 376,
   "metadata": {
    "ExecuteTime": {
     "end_time": "2019-12-03T17:59:14.681614Z",
     "start_time": "2019-12-03T17:58:40.971Z"
    }
   },
   "outputs": [
    {
     "name": "stdout",
     "output_type": "stream",
     "text": [
      "'data.frame':\t101766 obs. of  30 variables:\n",
      " $ race                 : Factor w/ 6 levels \"?\",\"AfricanAmerican\",..: 4 4 2 4 4 4 4 4 4 4 ...\n",
      " $ gender               : Factor w/ 3 levels \"Female\",\"Male\",..: 1 1 1 2 2 2 2 2 1 1 ...\n",
      " $ age                  : Factor w/ 10 levels \"[0-10)\",\"[10-20)\",..: 1 2 3 4 5 6 7 8 9 10 ...\n",
      " $ time_in_hospital     : int  1 3 2 2 1 3 4 5 13 12 ...\n",
      " $ medical_specialty    : Factor w/ 7 levels \"Cardiology\",\"Emergency/Trauma\",..: 6 5 5 5 5 5 5 5 5 4 ...\n",
      " $ num_lab_procedures   : int  41 59 11 44 51 31 70 73 68 33 ...\n",
      " $ num_procedures       : int  0 0 5 1 0 6 1 0 2 3 ...\n",
      " $ num_medications      : int  1 18 13 16 8 16 21 12 28 18 ...\n",
      " $ number_outpatient    : int  0 0 2 0 0 0 0 0 0 0 ...\n",
      " $ number_emergency     : int  0 0 0 0 0 0 0 0 0 0 ...\n",
      " $ number_inpatient     : int  0 0 1 0 0 0 0 0 0 0 ...\n",
      " $ diag_1               : Factor w/ 9 levels \"Circulatory\",..: 2 8 8 8 7 1 1 1 1 1 ...\n",
      " $ diag_2               : Factor w/ 9 levels \"Circulatory\",..: NA 2 2 2 7 1 1 9 1 7 ...\n",
      " $ diag_3               : Factor w/ 9 levels \"Circulatory\",..: NA 8 8 1 2 2 8 2 8 9 ...\n",
      " $ number_diagnoses     : int  1 9 6 7 5 9 7 8 8 8 ...\n",
      " $ max_glu_serum        : Factor w/ 4 levels \">200\",\">300\",..: 3 3 3 3 3 3 3 3 3 3 ...\n",
      " $ A1Cresult            : Factor w/ 4 levels \">7\",\">8\",\"None\",..: 3 3 3 3 3 3 3 3 3 3 ...\n",
      " $ metformin            : Factor w/ 2 levels \"No\",\"Yes\": 1 1 1 1 1 1 2 1 1 1 ...\n",
      " $ glimepiride          : Factor w/ 2 levels \"No\",\"Yes\": 1 1 1 1 1 1 2 1 1 1 ...\n",
      " $ glipizide            : Factor w/ 2 levels \"No\",\"Yes\": 1 1 2 1 2 1 1 1 2 1 ...\n",
      " $ glyburide            : Factor w/ 2 levels \"No\",\"Yes\": 1 1 1 1 1 1 1 2 1 1 ...\n",
      " $ pioglitazone         : Factor w/ 2 levels \"No\",\"Yes\": 1 1 1 1 1 1 1 1 1 1 ...\n",
      " $ rosiglitazone        : Factor w/ 2 levels \"No\",\"Yes\": 1 1 1 1 1 1 1 1 1 2 ...\n",
      " $ insulin              : Factor w/ 2 levels \"No\",\"Yes\": 1 2 1 2 2 2 2 1 2 2 ...\n",
      " $ change               : Factor w/ 2 levels \"Ch\",\"No\": 2 1 2 1 1 2 1 2 1 1 ...\n",
      " $ diabetesMed          : Factor w/ 2 levels \"No\",\"Yes\": 1 2 2 2 2 2 2 2 2 2 ...\n",
      " $ readmitted           : Factor w/ 2 levels \"No\",\"Yes\": 1 1 1 1 1 1 1 1 1 1 ...\n",
      " $ admission_source     : Factor w/ 8 levels \"Clinic_Referral\",..: 5 2 2 2 2 1 1 2 7 7 ...\n",
      " $ admission_type       : Factor w/ 4 levels \"Elective\",\"Emergency\",..: NA 2 2 2 2 4 1 2 4 1 ...\n",
      " $ discharge_disposition: Factor w/ 4 levels \"Home\",\"Home_with_home_health_service\",..: NA 1 1 1 1 1 1 1 1 4 ...\n"
     ]
    }
   ],
   "source": [
    "str(diabete_data)"
   ]
  },
  {
   "cell_type": "code",
   "execution_count": 377,
   "metadata": {
    "ExecuteTime": {
     "end_time": "2019-12-03T17:59:34.918082Z",
     "start_time": "2019-12-03T17:58:40.976Z"
    }
   },
   "outputs": [
    {
     "data": {
      "image/png": "[encoded data removed]",
      "text/plain": [
       "plot without title"
      ]
     },
     "metadata": {},
     "output_type": "display_data"
    },
    {
     "data": {
      "image/png": "[encoded data removed]",
      "text/plain": [
       "plot without title"
      ]
     },
     "metadata": {},
     "output_type": "display_data"
    },
    {
     "data": {
      "image/png": "[encoded data removed]",
      "text/plain": [
       "plot without title"
      ]
     },
     "metadata": {},
     "output_type": "display_data"
    },
    {
     "data": {
      "image/png": "[encoded data removed]",
      "text/plain": [
       "plot without title"
      ]
     },
     "metadata": {},
     "output_type": "display_data"
    },
    {
     "data": {
      "image/png": "[encoded data removed]",
      "text/plain": [
       "plot without title"
      ]
     },
     "metadata": {},
     "output_type": "display_data"
    },
    {
     "data": {
      "image/png": "[encoded data removed]",
      "text/plain": [
       "plot without title"
      ]
     },
     "metadata": {},
     "output_type": "display_data"
    },
    {
     "data": {
      "image/png": "[encoded data removed]",
      "text/plain": [
       "plot without title"
      ]
     },
     "metadata": {},
     "output_type": "display_data"
    },
    {
     "data": {
      "image/png": "[encoded data removed]",
      "text/plain": [
       "plot without title"
      ]
     },
     "metadata": {},
     "output_type": "display_data"
    },
    {
     "data": {
      "image/png": "[encoded data removed]",
      "text/plain": [
       "plot without title"
      ]
     },
     "metadata": {},
     "output_type": "display_data"
    },
    {
     "data": {
      "image/png": "[encoded data removed]",
      "text/plain": [
       "plot without title"
      ]
     },
     "metadata": {},
     "output_type": "display_data"
    },
    {
     "data": {
      "image/png": "[encoded data removed]",
      "text/plain": [
       "plot without title"
      ]
     },
     "metadata": {},
     "output_type": "display_data"
    },
    {
     "data": {
      "image/png": "[encoded data removed]",
      "text/plain": [
       "plot without title"
      ]
     },
     "metadata": {},
     "output_type": "display_data"
    },
    {
     "data": {
      "image/png": "[encoded data removed]",
      "text/plain": [
       "plot without title"
      ]
     },
     "metadata": {},
     "output_type": "display_data"
    },
    {
     "data": {
      "image/png": "[encoded data removed]",
      "text/plain": [
       "plot without title"
      ]
     },
     "metadata": {},
     "output_type": "display_data"
    },
    {
     "data": {
      "image/png": "[encoded data removed]",
      "text/plain": [
       "plot without title"
      ]
     },
     "metadata": {},
     "output_type": "display_data"
    },
    {
     "data": {
      "image/png": "[encoded data removed]",
      "text/plain": [
       "plot without title"
      ]
     },
     "metadata": {},
     "output_type": "display_data"
    },
    {
     "data": {
      "image/png": "[encoded data removed]",
      "text/plain": [
       "plot without title"
      ]
     },
     "metadata": {},
     "output_type": "display_data"
    },
    {
     "data": {
      "image/png": "[encoded data removed]",
      "text/plain": [
       "plot without title"
      ]
     },
     "metadata": {},
     "output_type": "display_data"
    },
    {
     "data": {
      "image/png": "[encoded data removed]",
      "text/plain": [
       "plot without title"
      ]
     },
     "metadata": {},
     "output_type": "display_data"
    },
    {
     "data": {
      "image/png": "[encoded data removed]",
      "text/plain": [
       "plot without title"
      ]
     },
     "metadata": {},
     "output_type": "display_data"
    },
    {
     "data": {
      "image/png": "[encoded data removed]",
      "text/plain": [
       "plot without title"
      ]
     },
     "metadata": {},
     "output_type": "display_data"
    }
   ],
   "source": [
    "# Categorical Data EDA\n",
    "ggplot(diabete_data, aes(x=race, fill = readmitted)) + \n",
    "geom_bar(position='fill') +\n",
    "labs(y='Proportion', x='Race', fill = \"Readmission Status\") +\n",
    "theme(legend.position = 'none') + theme(axis.title.y=element_blank())\n",
    "\n",
    "ggplot(diabete_data, aes(x=gender, fill = readmitted)) + \n",
    "geom_bar(position='fill') +\n",
    "labs(y='Proportion', x='Gender', fill = \"Readmission Status\") +\n",
    "theme(legend.position = 'none') + theme(axis.title.y=element_blank())\n",
    "\n",
    "ggplot(diabete_data, aes(x=age, fill = readmitted)) + \n",
    "geom_bar(position='fill') +\n",
    "labs(y='Proportion', x='Age', fill = \"Readmission Status\") +\n",
    "theme(legend.position = 'none') + theme(axis.title.y=element_blank())\n",
    "\n",
    "ggplot(diabete_data, aes(x=medical_specialty, fill = readmitted)) + \n",
    "geom_bar(position='fill') +\n",
    "labs(y='Proportion', x='Medical Specialty', fill = \"Readmission Status\") +\n",
    "theme(legend.position = 'none') + theme(axis.title.y=element_blank())\n",
    "\n",
    "ggplot(diabete_data, aes(x=diag_1, fill = readmitted)) + \n",
    "geom_bar(position='fill') +\n",
    "labs(y='Proportion', x='Primary Diagnosis', fill = \"Readmission Status\") +\n",
    "theme(legend.position = 'none') + theme(axis.title.y=element_blank())\n",
    "\n",
    "ggplot(diabete_data, aes(x=diag_2, fill = readmitted)) + \n",
    "geom_bar(position='fill') +\n",
    "labs(y='Proportion', x='Secondary Diagnosis', fill = \"Readmission Status\") +\n",
    "theme(legend.position = 'none') + theme(axis.title.y=element_blank())\n",
    "\n",
    "ggplot(diabete_data, aes(x=diag_3, fill = readmitted)) + \n",
    "geom_bar(position='fill') +\n",
    "labs(y='Proportion', x='Tertiary Diagnosis', fill = \"Readmission Status\") +\n",
    "theme(legend.position = 'none') + theme(axis.title.y=element_blank())\n",
    "\n",
    "ggplot(diabete_data, aes(x=max_glu_serum, fill = readmitted)) + \n",
    "geom_bar(position='fill') +\n",
    "labs(y='Proportion', x='Max Glucose', fill = \"Readmission Status\") +\n",
    "theme(legend.position = 'none') + theme(axis.title.y=element_blank())\n",
    "\n",
    "ggplot(diabete_data, aes(x=A1Cresult, fill = readmitted)) + \n",
    "geom_bar(position='fill') +\n",
    "labs(y='Proportion', x='A1C', fill = \"Readmission Status\") +\n",
    "theme(legend.position = 'none') + theme(axis.title.y=element_blank())\n",
    "\n",
    "ggplot(diabete_data, aes(x=metformin, fill = readmitted)) + \n",
    "geom_bar(position='fill') +\n",
    "labs(y='Proportion', x='Metformin', fill = \"Readmission Status\") +\n",
    "theme(legend.position = 'none') + theme(axis.title.y=element_blank())\n",
    "\n",
    "ggplot(diabete_data, aes(x=glimepiride, fill = readmitted)) + \n",
    "geom_bar(position='fill') +\n",
    "labs(y='Proportion', x='Glimepiride', fill = \"Readmission Status\") +\n",
    "theme(legend.position = 'none') + theme(axis.title.y=element_blank())\n",
    "\n",
    "ggplot(diabete_data, aes(x=glipizide, fill = readmitted)) + \n",
    "geom_bar(position='fill') +\n",
    "labs(y='Proportion', x='Glipizide', fill = \"Readmission Status\") +\n",
    "theme(legend.position = 'none') + theme(axis.title.y=element_blank())\n",
    "\n",
    "ggplot(diabete_data, aes(x=glyburide, fill = readmitted)) + \n",
    "geom_bar(position='fill') +\n",
    "labs(y='Proportion', x='Glyburide', fill = \"Readmission Status\") +\n",
    "theme(legend.position = 'none') + theme(axis.title.y=element_blank())\n",
    "\n",
    "ggplot(diabete_data, aes(x=pioglitazone, fill = readmitted)) + \n",
    "geom_bar(position='fill') +\n",
    "labs(y='Proportion', x='Pioglitazone', fill = \"Readmission Status\") +\n",
    "theme(legend.position = 'none') + theme(axis.title.y=element_blank())\n",
    "\n",
    "ggplot(diabete_data, aes(x=rosiglitazone, fill = readmitted)) + \n",
    "geom_bar(position='fill') +\n",
    "labs(y='Proportion', x='Rosiglitazone', fill = \"Readmission Status\") +\n",
    "theme(legend.position = 'none') + theme(axis.title.y=element_blank())\n",
    "\n",
    "ggplot(diabete_data, aes(x=insulin, fill = readmitted)) + \n",
    "geom_bar(position='fill') +\n",
    "labs(y='Proportion', x='Insulin', fill = \"Readmission Status\") +\n",
    "theme(legend.position = 'none') + theme(axis.title.y=element_blank())\n",
    "\n",
    "ggplot(diabete_data, aes(x=change, fill = readmitted)) + \n",
    "geom_bar(position='fill') +\n",
    "labs(y='Proportion', x='Change', fill = \"Readmission Status\") +\n",
    "theme(legend.position = 'none') + theme(axis.title.y=element_blank())\n",
    "\n",
    "ggplot(diabete_data, aes(x=diabetesMed, fill = readmitted)) + \n",
    "geom_bar(position='fill') +\n",
    "labs(y='Proportion', x='Diabete Medication', fill = \"Readmission Status\") +\n",
    "theme(legend.position = 'none') + theme(axis.title.y=element_blank())\n",
    "\n",
    "ggplot(diabete_data, aes(x=admission_source, fill = readmitted)) + \n",
    "geom_bar(position='fill') +\n",
    "labs(y='Proportion', x='Admission Source', fill = \"Readmission Status\") +\n",
    "theme(legend.position = 'none') + theme(axis.title.y=element_blank())\n",
    "\n",
    "ggplot(diabete_data, aes(x=admission_type, fill = readmitted)) + \n",
    "geom_bar(position='fill') +\n",
    "labs(y='Proportion', x='Admission Type', fill = \"Readmission Status\") +\n",
    "theme(legend.position = 'none') + theme(axis.title.y=element_blank())\n",
    "\n",
    "ggplot(diabete_data, aes(x=discharge_disposition, fill = readmitted)) + \n",
    "geom_bar(position='fill') +\n",
    "labs(y='Proportion', x='Discharge Disposition', fill = \"Readmission Status\") +\n",
    "theme(legend.position = 'none') + theme(axis.title.y=element_blank())"
   ]
  },
  {
   "cell_type": "code",
   "execution_count": 378,
   "metadata": {
    "ExecuteTime": {
     "end_time": "2019-12-03T17:59:34.960967Z",
     "start_time": "2019-12-03T17:58:40.980Z"
    }
   },
   "outputs": [],
   "source": [
    "# Drop Change, pioglitazone, rosiglitazone, glyburide, glipizide, glimepiride, gender"
   ]
  },
  {
   "cell_type": "code",
   "execution_count": 379,
   "metadata": {
    "ExecuteTime": {
     "end_time": "2019-12-03T17:59:35.073665Z",
     "start_time": "2019-12-03T17:58:40.985Z"
    }
   },
   "outputs": [
    {
     "name": "stdout",
     "output_type": "stream",
     "text": [
      "'data.frame':\t101766 obs. of  30 variables:\n",
      " $ race                 : Factor w/ 6 levels \"?\",\"AfricanAmerican\",..: 4 4 2 4 4 4 4 4 4 4 ...\n",
      " $ gender               : Factor w/ 3 levels \"Female\",\"Male\",..: 1 1 1 2 2 2 2 2 1 1 ...\n",
      " $ age                  : Factor w/ 10 levels \"[0-10)\",\"[10-20)\",..: 1 2 3 4 5 6 7 8 9 10 ...\n",
      " $ time_in_hospital     : int  1 3 2 2 1 3 4 5 13 12 ...\n",
      " $ medical_specialty    : Factor w/ 7 levels \"Cardiology\",\"Emergency/Trauma\",..: 6 5 5 5 5 5 5 5 5 4 ...\n",
      " $ num_lab_procedures   : int  41 59 11 44 51 31 70 73 68 33 ...\n",
      " $ num_procedures       : int  0 0 5 1 0 6 1 0 2 3 ...\n",
      " $ num_medications      : int  1 18 13 16 8 16 21 12 28 18 ...\n",
      " $ number_outpatient    : int  0 0 2 0 0 0 0 0 0 0 ...\n",
      " $ number_emergency     : int  0 0 0 0 0 0 0 0 0 0 ...\n",
      " $ number_inpatient     : int  0 0 1 0 0 0 0 0 0 0 ...\n",
      " $ diag_1               : Factor w/ 9 levels \"Circulatory\",..: 2 8 8 8 7 1 1 1 1 1 ...\n",
      " $ diag_2               : Factor w/ 9 levels \"Circulatory\",..: NA 2 2 2 7 1 1 9 1 7 ...\n",
      " $ diag_3               : Factor w/ 9 levels \"Circulatory\",..: NA 8 8 1 2 2 8 2 8 9 ...\n",
      " $ number_diagnoses     : int  1 9 6 7 5 9 7 8 8 8 ...\n",
      " $ max_glu_serum        : Factor w/ 4 levels \">200\",\">300\",..: 3 3 3 3 3 3 3 3 3 3 ...\n",
      " $ A1Cresult            : Factor w/ 4 levels \">7\",\">8\",\"None\",..: 3 3 3 3 3 3 3 3 3 3 ...\n",
      " $ metformin            : Factor w/ 2 levels \"No\",\"Yes\": 1 1 1 1 1 1 2 1 1 1 ...\n",
      " $ glimepiride          : Factor w/ 2 levels \"No\",\"Yes\": 1 1 1 1 1 1 2 1 1 1 ...\n",
      " $ glipizide            : Factor w/ 2 levels \"No\",\"Yes\": 1 1 2 1 2 1 1 1 2 1 ...\n",
      " $ glyburide            : Factor w/ 2 levels \"No\",\"Yes\": 1 1 1 1 1 1 1 2 1 1 ...\n",
      " $ pioglitazone         : Factor w/ 2 levels \"No\",\"Yes\": 1 1 1 1 1 1 1 1 1 1 ...\n",
      " $ rosiglitazone        : Factor w/ 2 levels \"No\",\"Yes\": 1 1 1 1 1 1 1 1 1 2 ...\n",
      " $ insulin              : Factor w/ 2 levels \"No\",\"Yes\": 1 2 1 2 2 2 2 1 2 2 ...\n",
      " $ change               : Factor w/ 2 levels \"Ch\",\"No\": 2 1 2 1 1 2 1 2 1 1 ...\n",
      " $ diabetesMed          : Factor w/ 2 levels \"No\",\"Yes\": 1 2 2 2 2 2 2 2 2 2 ...\n",
      " $ readmitted           : Factor w/ 2 levels \"No\",\"Yes\": 1 1 1 1 1 1 1 1 1 1 ...\n",
      " $ admission_source     : Factor w/ 8 levels \"Clinic_Referral\",..: 5 2 2 2 2 1 1 2 7 7 ...\n",
      " $ admission_type       : Factor w/ 4 levels \"Elective\",\"Emergency\",..: NA 2 2 2 2 4 1 2 4 1 ...\n",
      " $ discharge_disposition: Factor w/ 4 levels \"Home\",\"Home_with_home_health_service\",..: NA 1 1 1 1 1 1 1 1 4 ...\n"
     ]
    }
   ],
   "source": [
    "str(diabete_data)"
   ]
  },
  {
   "cell_type": "markdown",
   "metadata": {},
   "source": [
    "# Models, get this part to work"
   ]
  },
  {
   "cell_type": "code",
   "execution_count": 380,
   "metadata": {
    "ExecuteTime": {
     "end_time": "2019-12-03T17:59:35.291602Z",
     "start_time": "2019-12-03T17:58:41.082Z"
    }
   },
   "outputs": [
    {
     "name": "stdout",
     "output_type": "stream",
     "text": [
      "Training and Test Data Created!"
     ]
    }
   ],
   "source": [
    "# Splitting the data into training and test set data\n",
    "# Setting the seed value so we get the same result when we repreat\n",
    "set.seed(100)\n",
    "\n",
    "# Determining which rows willbe in the traiing data\n",
    "training_index <- sample(nrow(diabete_data), 0.8*nrow(diabete_data), replace = FALSE)  \n",
    "\n",
    "# Create Training Set\n",
    "training_data <- diabete_data[training_index,]\n",
    "\n",
    "# Create Test Set\n",
    "# Don't include stroke column in test set. Prediction will create this column. If you\n",
    "# include stroke variable, confusion matrix will throw an unequal lengths error\n",
    "test_data <- diabete_data[-training_index,]\n",
    "\n",
    "cat('Training and Test Data Created!')\n",
    "\n",
    "# Set up the model\n",
    "# Zhengs Model\n",
    "# model <- (readmitted ~ race+gender+age+time_in_hospital+medical_specialty+num_lab_procedures+num_procedures+num_medications+number_outpatient+\n",
    "#          number_emergency+number_inpatient+diag_1+diag_2+diag_3+number_diagnoses+max_glu_serum+A1Cresult+metformin+glimepiride+glipizide+\n",
    "#          glyburide+pioglitazone+rosiglitazone+insulin+change+diabetesMed+admission_source+admission_type+discharge_disposition)\n",
    "# Eric Model 1\n",
    "# model <- (readmitted ~ race + age + time_in_hospital + medical_specialty + num_procedures + number_outpatient + \n",
    "#           number_emergency + number_inpatient + diag_1 + diag_2 + diag_3 + number_diagnoses + max_glu_serum + \n",
    "#           A1Cresult + metformin + insulin + diabetesMed + admission_source + admission_type + discharge_disposition)\n",
    "# Eric Model 2\n",
    "model <- (readmitted ~ age + time_in_hospital + medical_specialty + num_procedures + number_emergency + number_inpatient +\n",
    "         diag_1 + diag_2 + diag_3 + number_diagnoses + metformin + diabetesMed + admission_source + discharge_disposition)\n"
   ]
  },
  {
   "cell_type": "code",
   "execution_count": 381,
   "metadata": {
    "ExecuteTime": {
     "end_time": "2019-12-03T17:59:43.382796Z",
     "start_time": "2019-12-03T17:58:41.087Z"
    }
   },
   "outputs": [
    {
     "data": {
      "text/plain": [
       "\n",
       "Call:\n",
       "glm(formula = readmitted ~ race + age + time_in_hospital + medical_specialty + \n",
       "    num_procedures + number_outpatient + number_emergency + number_inpatient + \n",
       "    diag_1 + diag_2 + diag_3 + number_diagnoses + max_glu_serum + \n",
       "    A1Cresult + metformin + insulin + diabetesMed + admission_source + \n",
       "    admission_type + discharge_disposition, family = \"binomial\", \n",
       "    data = diabete_data)\n",
       "\n",
       "Deviance Residuals: \n",
       "    Min       1Q   Median       3Q      Max  \n",
       "-2.5328  -0.5066  -0.4335  -0.3778   2.8056  \n",
       "\n",
       "Coefficients:\n",
       "                                                    Estimate Std. Error z value\n",
       "(Intercept)                                        -5.018540   1.483914  -3.382\n",
       "raceAsian                                           0.052370   0.144121   0.363\n",
       "raceCaucasian                                       0.020684   0.029397   0.704\n",
       "raceHispanic                                       -0.066927   0.093002  -0.720\n",
       "raceOther                                          -0.099113   0.101245  -0.979\n",
       "age[10-20)                                          1.267634   1.026868   1.234\n",
       "age[20-30)                                          1.699194   1.013021   1.677\n",
       "age[30-40)                                          1.680737   1.011291   1.662\n",
       "age[40-50)                                          1.621480   1.010432   1.605\n",
       "age[50-60)                                          1.538552   1.010270   1.523\n",
       "age[60-70)                                          1.680119   1.010215   1.663\n",
       "age[70-80)                                          1.699135   1.010243   1.682\n",
       "age[80-90)                                          1.654110   1.010435   1.637\n",
       "age[90-100)                                         1.514802   1.012372   1.496\n",
       "time_in_hospital                                    0.017087   0.004018   4.252\n",
       "medical_specialtyEmergency/Trauma                   0.123355   0.075562   1.632\n",
       "medical_specialtyFamily/GeneralPractice             0.280636   0.074332   3.775\n",
       "medical_specialtyInternalMedicine                   0.194050   0.067052   2.894\n",
       "medical_specialtyMissing                            0.245668   0.062237   3.947\n",
       "medical_specialtyOthers                             0.239436   0.069001   3.470\n",
       "medical_specialtySurgery                            0.159503   0.078698   2.027\n",
       "num_procedures                                     -0.022526   0.007603  -2.963\n",
       "number_outpatient                                  -0.006815   0.008478  -0.804\n",
       "number_emergency                                    0.038404   0.008999   4.268\n",
       "number_inpatient                                    0.251751   0.007162  35.152\n",
       "diag_1Diabetes                                      0.048111   0.046860   1.027\n",
       "diag_1Digestive                                    -0.129962   0.045155  -2.878\n",
       "diag_1Genitourinary                                -0.156575   0.054691  -2.863\n",
       "diag_1Injury                                       -0.067301   0.047116  -1.428\n",
       "diag_1Musculoskeletal                              -0.218851   0.062602  -3.496\n",
       "diag_1Neoplasms                                    -0.278046   0.071206  -3.905\n",
       "diag_1Other                                        -0.133996   0.035808  -3.742\n",
       "diag_1Respiratory                                  -0.259518   0.038989  -6.656\n",
       "diag_2Diabetes                                      0.126271   0.041658   3.031\n",
       "diag_2Digestive                                     0.034630   0.061081   0.567\n",
       "diag_2Genitourinary                                -0.028895   0.042987  -0.672\n",
       "diag_2Injury                                        0.042534   0.074600   0.570\n",
       "diag_2Musculoskeletal                              -0.089072   0.093686  -0.951\n",
       "diag_2Neoplasms                                     0.300974   0.071304   4.221\n",
       "diag_2Other                                        -0.035934   0.031505  -1.141\n",
       "diag_2Respiratory                                  -0.110004   0.040908  -2.689\n",
       "diag_3Diabetes                                      0.079535   0.036565   2.175\n",
       "diag_3Digestive                                     0.089494   0.060746   1.473\n",
       "diag_3Genitourinary                                 0.111252   0.045372   2.452\n",
       "diag_3Injury                                        0.039828   0.081925   0.486\n",
       "diag_3Musculoskeletal                              -0.021344   0.087689  -0.243\n",
       "diag_3Neoplasms                                     0.200892   0.079756   2.519\n",
       "diag_3Other                                         0.005925   0.030170   0.196\n",
       "diag_3Respiratory                                   0.070829   0.044927   1.577\n",
       "number_diagnoses                                    0.042586   0.007542   5.647\n",
       "max_glu_serum>300                                   0.181976   1.089270   0.167\n",
       "max_glu_serumNone                                   0.035006   1.076056   0.033\n",
       "max_glu_serumNorm                                   0.188881   1.155661   0.163\n",
       "A1Cresult>8                                        -0.018583   0.073477  -0.253\n",
       "A1CresultNone                                       0.092527   0.060945   1.518\n",
       "A1CresultNorm                                      -0.029541   0.078844  -0.375\n",
       "metforminYes                                       -0.103600   0.031502  -3.289\n",
       "insulinYes                                          0.047848   0.029692   1.611\n",
       "diabetesMedYes                                      0.181748   0.036967   4.917\n",
       "admission_sourceEmergency_Room                      0.064355   0.117070   0.550\n",
       "admission_sourceHMO_Referral                        0.816300   0.283617   2.878\n",
       "admission_sourceOther                              -0.025795   0.543769  -0.047\n",
       "admission_sourcePhysician_Referral                  0.154212   0.115160   1.339\n",
       "admission_sourceTransfer_from_Healthcare_Facility  -0.026313   0.143075  -0.184\n",
       "admission_sourceTransfer_from_Hospital             -0.029215   0.132522  -0.220\n",
       "admission_sourceTransfer_from_SNF                  -0.171764   0.164441  -1.045\n",
       "admission_typeEmergency                             0.068359   0.051266   1.333\n",
       "admission_typeOther                                -1.056149   1.020666  -1.035\n",
       "admission_typeUrgent                                0.058336   0.039162   1.490\n",
       "discharge_dispositionHome_with_home_health_service  0.186443   0.034696   5.374\n",
       "discharge_dispositionOther                          0.511169   0.034979  14.614\n",
       "discharge_dispositionSNF                            0.387807   0.035257  10.999\n",
       "                                                   Pr(>|z|)    \n",
       "(Intercept)                                        0.000720 ***\n",
       "raceAsian                                          0.716324    \n",
       "raceCaucasian                                      0.481673    \n",
       "raceHispanic                                       0.471749    \n",
       "raceOther                                          0.327609    \n",
       "age[10-20)                                         0.217029    \n",
       "age[20-30)                                         0.093473 .  \n",
       "age[30-40)                                         0.096518 .  \n",
       "age[40-50)                                         0.108551    \n",
       "age[50-60)                                         0.127781    \n",
       "age[60-70)                                         0.096286 .  \n",
       "age[70-80)                                         0.092587 .  \n",
       "age[80-90)                                         0.101625    \n",
       "age[90-100)                                        0.134578    \n",
       "time_in_hospital                                   2.11e-05 ***\n",
       "medical_specialtyEmergency/Trauma                  0.102575    \n",
       "medical_specialtyFamily/GeneralPractice            0.000160 ***\n",
       "medical_specialtyInternalMedicine                  0.003803 ** \n",
       "medical_specialtyMissing                           7.90e-05 ***\n",
       "medical_specialtyOthers                            0.000520 ***\n",
       "medical_specialtySurgery                           0.042685 *  \n",
       "num_procedures                                     0.003047 ** \n",
       "number_outpatient                                  0.421472    \n",
       "number_emergency                                   1.98e-05 ***\n",
       "number_inpatient                                    < 2e-16 ***\n",
       "diag_1Diabetes                                     0.304562    \n",
       "diag_1Digestive                                    0.004001 ** \n",
       "diag_1Genitourinary                                0.004198 ** \n",
       "diag_1Injury                                       0.153172    \n",
       "diag_1Musculoskeletal                              0.000472 ***\n",
       "diag_1Neoplasms                                    9.43e-05 ***\n",
       "diag_1Other                                        0.000182 ***\n",
       "diag_1Respiratory                                  2.81e-11 ***\n",
       "diag_2Diabetes                                     0.002436 ** \n",
       "diag_2Digestive                                    0.570742    \n",
       "diag_2Genitourinary                                0.501469    \n",
       "diag_2Injury                                       0.568564    \n",
       "diag_2Musculoskeletal                              0.341730    \n",
       "diag_2Neoplasms                                    2.43e-05 ***\n",
       "diag_2Other                                        0.254039    \n",
       "diag_2Respiratory                                  0.007165 ** \n",
       "diag_3Diabetes                                     0.029616 *  \n",
       "diag_3Digestive                                    0.140682    \n",
       "diag_3Genitourinary                                0.014206 *  \n",
       "diag_3Injury                                       0.626865    \n",
       "diag_3Musculoskeletal                              0.807692    \n",
       "diag_3Neoplasms                                    0.011774 *  \n",
       "diag_3Other                                        0.844320    \n",
       "diag_3Respiratory                                  0.114899    \n",
       "number_diagnoses                                   1.64e-08 ***\n",
       "max_glu_serum>300                                  0.867321    \n",
       "max_glu_serumNone                                  0.974048    \n",
       "max_glu_serumNorm                                  0.870172    \n",
       "A1Cresult>8                                        0.800340    \n",
       "A1CresultNone                                      0.128964    \n",
       "A1CresultNorm                                      0.707903    \n",
       "metforminYes                                       0.001007 ** \n",
       "insulinYes                                         0.107078    \n",
       "diabetesMedYes                                     8.81e-07 ***\n",
       "admission_sourceEmergency_Room                     0.582516    \n",
       "admission_sourceHMO_Referral                       0.004000 ** \n",
       "admission_sourceOther                              0.962164    \n",
       "admission_sourcePhysician_Referral                 0.180534    \n",
       "admission_sourceTransfer_from_Healthcare_Facility  0.854085    \n",
       "admission_sourceTransfer_from_Hospital             0.825517    \n",
       "admission_sourceTransfer_from_SNF                  0.296240    \n",
       "admission_typeEmergency                            0.182395    \n",
       "admission_typeOther                                0.300779    \n",
       "admission_typeUrgent                               0.136329    \n",
       "discharge_dispositionHome_with_home_health_service 7.72e-08 ***\n",
       "discharge_dispositionOther                          < 2e-16 ***\n",
       "discharge_dispositionSNF                            < 2e-16 ***\n",
       "---\n",
       "Signif. codes:  0 '***' 0.001 '**' 0.01 '*' 0.05 '.' 0.1 ' ' 1\n",
       "\n",
       "(Dispersion parameter for binomial family taken to be 1)\n",
       "\n",
       "    Null deviance: 58690  on 83254  degrees of freedom\n",
       "Residual deviance: 56241  on 83183  degrees of freedom\n",
       "  (18511 observations deleted due to missingness)\n",
       "AIC: 56385\n",
       "\n",
       "Number of Fisher Scoring iterations: 6\n"
      ]
     },
     "metadata": {},
     "output_type": "display_data"
    }
   ],
   "source": [
    "# Logisitic Regression\n",
    "mylogit <- glm(readmitted ~ race + age + time_in_hospital + medical_specialty + num_procedures + number_outpatient + \n",
    "          number_emergency + number_inpatient + diag_1 + diag_2 + diag_3 + number_diagnoses + max_glu_serum + \n",
    "          A1Cresult + metformin + insulin + diabetesMed + admission_source + admission_type + discharge_disposition,\n",
    "               data = diabete_data, family = \"binomial\")\n",
    "mylogit.sum <- summary(mylogit)\n",
    "mylogit.sum"
   ]
  },
  {
   "cell_type": "code",
   "execution_count": 382,
   "metadata": {
    "ExecuteTime": {
     "end_time": "2019-12-03T17:59:43.445629Z",
     "start_time": "2019-12-03T17:58:41.092Z"
    }
   },
   "outputs": [
    {
     "name": "stdout",
     "output_type": "stream",
     "text": [
      "'data.frame':\t101766 obs. of  30 variables:\n",
      " $ race                 : Factor w/ 6 levels \"?\",\"AfricanAmerican\",..: 4 4 2 4 4 4 4 4 4 4 ...\n",
      " $ gender               : Factor w/ 3 levels \"Female\",\"Male\",..: 1 1 1 2 2 2 2 2 1 1 ...\n",
      " $ age                  : Factor w/ 10 levels \"[0-10)\",\"[10-20)\",..: 1 2 3 4 5 6 7 8 9 10 ...\n",
      " $ time_in_hospital     : int  1 3 2 2 1 3 4 5 13 12 ...\n",
      " $ medical_specialty    : Factor w/ 7 levels \"Cardiology\",\"Emergency/Trauma\",..: 6 5 5 5 5 5 5 5 5 4 ...\n",
      " $ num_lab_procedures   : int  41 59 11 44 51 31 70 73 68 33 ...\n",
      " $ num_procedures       : int  0 0 5 1 0 6 1 0 2 3 ...\n",
      " $ num_medications      : int  1 18 13 16 8 16 21 12 28 18 ...\n",
      " $ number_outpatient    : int  0 0 2 0 0 0 0 0 0 0 ...\n",
      " $ number_emergency     : int  0 0 0 0 0 0 0 0 0 0 ...\n",
      " $ number_inpatient     : int  0 0 1 0 0 0 0 0 0 0 ...\n",
      " $ diag_1               : Factor w/ 9 levels \"Circulatory\",..: 2 8 8 8 7 1 1 1 1 1 ...\n",
      " $ diag_2               : Factor w/ 9 levels \"Circulatory\",..: NA 2 2 2 7 1 1 9 1 7 ...\n",
      " $ diag_3               : Factor w/ 9 levels \"Circulatory\",..: NA 8 8 1 2 2 8 2 8 9 ...\n",
      " $ number_diagnoses     : int  1 9 6 7 5 9 7 8 8 8 ...\n",
      " $ max_glu_serum        : Factor w/ 4 levels \">200\",\">300\",..: 3 3 3 3 3 3 3 3 3 3 ...\n",
      " $ A1Cresult            : Factor w/ 4 levels \">7\",\">8\",\"None\",..: 3 3 3 3 3 3 3 3 3 3 ...\n",
      " $ metformin            : Factor w/ 2 levels \"No\",\"Yes\": 1 1 1 1 1 1 2 1 1 1 ...\n",
      " $ glimepiride          : Factor w/ 2 levels \"No\",\"Yes\": 1 1 1 1 1 1 2 1 1 1 ...\n",
      " $ glipizide            : Factor w/ 2 levels \"No\",\"Yes\": 1 1 2 1 2 1 1 1 2 1 ...\n",
      " $ glyburide            : Factor w/ 2 levels \"No\",\"Yes\": 1 1 1 1 1 1 1 2 1 1 ...\n",
      " $ pioglitazone         : Factor w/ 2 levels \"No\",\"Yes\": 1 1 1 1 1 1 1 1 1 1 ...\n",
      " $ rosiglitazone        : Factor w/ 2 levels \"No\",\"Yes\": 1 1 1 1 1 1 1 1 1 2 ...\n",
      " $ insulin              : Factor w/ 2 levels \"No\",\"Yes\": 1 2 1 2 2 2 2 1 2 2 ...\n",
      " $ change               : Factor w/ 2 levels \"Ch\",\"No\": 2 1 2 1 1 2 1 2 1 1 ...\n",
      " $ diabetesMed          : Factor w/ 2 levels \"No\",\"Yes\": 1 2 2 2 2 2 2 2 2 2 ...\n",
      " $ readmitted           : Factor w/ 2 levels \"No\",\"Yes\": 1 1 1 1 1 1 1 1 1 1 ...\n",
      " $ admission_source     : Factor w/ 8 levels \"Clinic_Referral\",..: 5 2 2 2 2 1 1 2 7 7 ...\n",
      " $ admission_type       : Factor w/ 4 levels \"Elective\",\"Emergency\",..: NA 2 2 2 2 4 1 2 4 1 ...\n",
      " $ discharge_disposition: Factor w/ 4 levels \"Home\",\"Home_with_home_health_service\",..: NA 1 1 1 1 1 1 1 1 4 ...\n"
     ]
    }
   ],
   "source": [
    "str(diabete_data)"
   ]
  },
  {
   "cell_type": "code",
   "execution_count": 383,
   "metadata": {
    "ExecuteTime": {
     "end_time": "2019-12-03T17:59:43.522420Z",
     "start_time": "2019-12-03T17:58:41.100Z"
    }
   },
   "outputs": [
    {
     "data": {
      "text/html": [
       "<table>\n",
       "<thead><tr><th scope=col>race</th><th scope=col>gender</th><th scope=col>age</th><th scope=col>time_in_hospital</th><th scope=col>medical_specialty</th><th scope=col>num_lab_procedures</th><th scope=col>num_procedures</th><th scope=col>num_medications</th><th scope=col>number_outpatient</th><th scope=col>number_emergency</th><th scope=col>number_inpatient</th><th scope=col>diag_1</th><th scope=col>diag_2</th><th scope=col>diag_3</th><th scope=col>number_diagnoses</th><th scope=col>max_glu_serum</th><th scope=col>A1Cresult</th><th scope=col>metformin</th><th scope=col>glimepiride</th><th scope=col>glipizide</th><th scope=col>glyburide</th><th scope=col>pioglitazone</th><th scope=col>rosiglitazone</th><th scope=col>insulin</th><th scope=col>change</th><th scope=col>diabetesMed</th><th scope=col>readmitted</th><th scope=col>admission_source</th><th scope=col>admission_type</th><th scope=col>discharge_disposition</th></tr></thead>\n",
       "<tbody>\n",
       "\t<tr><td>Caucasian         </td><td>Female            </td><td>[0-10)            </td><td>1                 </td><td>Others            </td><td>41                </td><td>0                 </td><td> 1                </td><td>0                 </td><td>0                 </td><td>0                 </td><td>Diabetes          </td><td>NA                </td><td>NA                </td><td>1                 </td><td>None              </td><td>None              </td><td>No                </td><td>No                </td><td>No                </td><td>No                </td><td>No                </td><td>No                </td><td>No                </td><td>No                </td><td>No                </td><td>No                </td><td>Physician_Referral</td><td>NA                </td><td>NA                </td></tr>\n",
       "\t<tr><td>Caucasian         </td><td>Female            </td><td>[10-20)           </td><td>3                 </td><td>Missing           </td><td>59                </td><td>0                 </td><td>18                </td><td>0                 </td><td>0                 </td><td>0                 </td><td>Other             </td><td>Diabetes          </td><td>Other             </td><td>9                 </td><td>None              </td><td>None              </td><td>No                </td><td>No                </td><td>No                </td><td>No                </td><td>No                </td><td>No                </td><td>Yes               </td><td>Ch                </td><td>Yes               </td><td>No                </td><td>Emergency_Room    </td><td>Emergency         </td><td>Home              </td></tr>\n",
       "\t<tr><td>AfricanAmerican   </td><td>Female            </td><td>[20-30)           </td><td>2                 </td><td>Missing           </td><td>11                </td><td>5                 </td><td>13                </td><td>2                 </td><td>0                 </td><td>1                 </td><td>Other             </td><td>Diabetes          </td><td>Other             </td><td>6                 </td><td>None              </td><td>None              </td><td>No                </td><td>No                </td><td>Yes               </td><td>No                </td><td>No                </td><td>No                </td><td>No                </td><td>No                </td><td>Yes               </td><td>No                </td><td>Emergency_Room    </td><td>Emergency         </td><td>Home              </td></tr>\n",
       "\t<tr><td>Caucasian         </td><td>Male              </td><td>[30-40)           </td><td>2                 </td><td>Missing           </td><td>44                </td><td>1                 </td><td>16                </td><td>0                 </td><td>0                 </td><td>0                 </td><td>Other             </td><td>Diabetes          </td><td>Circulatory       </td><td>7                 </td><td>None              </td><td>None              </td><td>No                </td><td>No                </td><td>No                </td><td>No                </td><td>No                </td><td>No                </td><td>Yes               </td><td>Ch                </td><td>Yes               </td><td>No                </td><td>Emergency_Room    </td><td>Emergency         </td><td>Home              </td></tr>\n",
       "\t<tr><td>Caucasian         </td><td>Male              </td><td>[40-50)           </td><td>1                 </td><td>Missing           </td><td>51                </td><td>0                 </td><td> 8                </td><td>0                 </td><td>0                 </td><td>0                 </td><td>Neoplasms         </td><td>Neoplasms         </td><td>Diabetes          </td><td>5                 </td><td>None              </td><td>None              </td><td>No                </td><td>No                </td><td>Yes               </td><td>No                </td><td>No                </td><td>No                </td><td>Yes               </td><td>Ch                </td><td>Yes               </td><td>No                </td><td>Emergency_Room    </td><td>Emergency         </td><td>Home              </td></tr>\n",
       "\t<tr><td>Caucasian         </td><td>Male              </td><td>[50-60)           </td><td>3                 </td><td>Missing           </td><td>31                </td><td>6                 </td><td>16                </td><td>0                 </td><td>0                 </td><td>0                 </td><td>Circulatory       </td><td>Circulatory       </td><td>Diabetes          </td><td>9                 </td><td>None              </td><td>None              </td><td>No                </td><td>No                </td><td>No                </td><td>No                </td><td>No                </td><td>No                </td><td>Yes               </td><td>No                </td><td>Yes               </td><td>No                </td><td>Clinic_Referral   </td><td>Urgent            </td><td>Home              </td></tr>\n",
       "</tbody>\n",
       "</table>\n"
      ],
      "text/latex": [
       "\\begin{tabular}{r|llllllllllllllllllllllllllllll}\n",
       " race & gender & age & time\\_in\\_hospital & medical\\_specialty & num\\_lab\\_procedures & num\\_procedures & num\\_medications & number\\_outpatient & number\\_emergency & number\\_inpatient & diag\\_1 & diag\\_2 & diag\\_3 & number\\_diagnoses & max\\_glu\\_serum & A1Cresult & metformin & glimepiride & glipizide & glyburide & pioglitazone & rosiglitazone & insulin & change & diabetesMed & readmitted & admission\\_source & admission\\_type & discharge\\_disposition\\\\\n",
       "\\hline\n",
       "\t Caucasian            & Female               & {[}0-10)             & 1                    & Others               & 41                   & 0                    &  1                   & 0                    & 0                    & 0                    & Diabetes             & NA                   & NA                   & 1                    & None                 & None                 & No                   & No                   & No                   & No                   & No                   & No                   & No                   & No                   & No                   & No                   & Physician\\_Referral & NA                   & NA                  \\\\\n",
       "\t Caucasian            & Female               & {[}10-20)            & 3                    & Missing              & 59                   & 0                    & 18                   & 0                    & 0                    & 0                    & Other                & Diabetes             & Other                & 9                    & None                 & None                 & No                   & No                   & No                   & No                   & No                   & No                   & Yes                  & Ch                   & Yes                  & No                   & Emergency\\_Room     & Emergency            & Home                \\\\\n",
       "\t AfricanAmerican      & Female               & {[}20-30)            & 2                    & Missing              & 11                   & 5                    & 13                   & 2                    & 0                    & 1                    & Other                & Diabetes             & Other                & 6                    & None                 & None                 & No                   & No                   & Yes                  & No                   & No                   & No                   & No                   & No                   & Yes                  & No                   & Emergency\\_Room     & Emergency            & Home                \\\\\n",
       "\t Caucasian            & Male                 & {[}30-40)            & 2                    & Missing              & 44                   & 1                    & 16                   & 0                    & 0                    & 0                    & Other                & Diabetes             & Circulatory          & 7                    & None                 & None                 & No                   & No                   & No                   & No                   & No                   & No                   & Yes                  & Ch                   & Yes                  & No                   & Emergency\\_Room     & Emergency            & Home                \\\\\n",
       "\t Caucasian            & Male                 & {[}40-50)            & 1                    & Missing              & 51                   & 0                    &  8                   & 0                    & 0                    & 0                    & Neoplasms            & Neoplasms            & Diabetes             & 5                    & None                 & None                 & No                   & No                   & Yes                  & No                   & No                   & No                   & Yes                  & Ch                   & Yes                  & No                   & Emergency\\_Room     & Emergency            & Home                \\\\\n",
       "\t Caucasian            & Male                 & {[}50-60)            & 3                    & Missing              & 31                   & 6                    & 16                   & 0                    & 0                    & 0                    & Circulatory          & Circulatory          & Diabetes             & 9                    & None                 & None                 & No                   & No                   & No                   & No                   & No                   & No                   & Yes                  & No                   & Yes                  & No                   & Clinic\\_Referral    & Urgent               & Home                \\\\\n",
       "\\end{tabular}\n"
      ],
      "text/markdown": [
       "\n",
       "| race | gender | age | time_in_hospital | medical_specialty | num_lab_procedures | num_procedures | num_medications | number_outpatient | number_emergency | number_inpatient | diag_1 | diag_2 | diag_3 | number_diagnoses | max_glu_serum | A1Cresult | metformin | glimepiride | glipizide | glyburide | pioglitazone | rosiglitazone | insulin | change | diabetesMed | readmitted | admission_source | admission_type | discharge_disposition |\n",
       "|---|---|---|---|---|---|---|---|---|---|---|---|---|---|---|---|---|---|---|---|---|---|---|---|---|---|---|---|---|---|\n",
       "| Caucasian          | Female             | [0-10)             | 1                  | Others             | 41                 | 0                  |  1                 | 0                  | 0                  | 0                  | Diabetes           | NA                 | NA                 | 1                  | None               | None               | No                 | No                 | No                 | No                 | No                 | No                 | No                 | No                 | No                 | No                 | Physician_Referral | NA                 | NA                 |\n",
       "| Caucasian          | Female             | [10-20)            | 3                  | Missing            | 59                 | 0                  | 18                 | 0                  | 0                  | 0                  | Other              | Diabetes           | Other              | 9                  | None               | None               | No                 | No                 | No                 | No                 | No                 | No                 | Yes                | Ch                 | Yes                | No                 | Emergency_Room     | Emergency          | Home               |\n",
       "| AfricanAmerican    | Female             | [20-30)            | 2                  | Missing            | 11                 | 5                  | 13                 | 2                  | 0                  | 1                  | Other              | Diabetes           | Other              | 6                  | None               | None               | No                 | No                 | Yes                | No                 | No                 | No                 | No                 | No                 | Yes                | No                 | Emergency_Room     | Emergency          | Home               |\n",
       "| Caucasian          | Male               | [30-40)            | 2                  | Missing            | 44                 | 1                  | 16                 | 0                  | 0                  | 0                  | Other              | Diabetes           | Circulatory        | 7                  | None               | None               | No                 | No                 | No                 | No                 | No                 | No                 | Yes                | Ch                 | Yes                | No                 | Emergency_Room     | Emergency          | Home               |\n",
       "| Caucasian          | Male               | [40-50)            | 1                  | Missing            | 51                 | 0                  |  8                 | 0                  | 0                  | 0                  | Neoplasms          | Neoplasms          | Diabetes           | 5                  | None               | None               | No                 | No                 | Yes                | No                 | No                 | No                 | Yes                | Ch                 | Yes                | No                 | Emergency_Room     | Emergency          | Home               |\n",
       "| Caucasian          | Male               | [50-60)            | 3                  | Missing            | 31                 | 6                  | 16                 | 0                  | 0                  | 0                  | Circulatory        | Circulatory        | Diabetes           | 9                  | None               | None               | No                 | No                 | No                 | No                 | No                 | No                 | Yes                | No                 | Yes                | No                 | Clinic_Referral    | Urgent             | Home               |\n",
       "\n"
      ],
      "text/plain": [
       "  race            gender age     time_in_hospital medical_specialty\n",
       "1 Caucasian       Female [0-10)  1                Others           \n",
       "2 Caucasian       Female [10-20) 3                Missing          \n",
       "3 AfricanAmerican Female [20-30) 2                Missing          \n",
       "4 Caucasian       Male   [30-40) 2                Missing          \n",
       "5 Caucasian       Male   [40-50) 1                Missing          \n",
       "6 Caucasian       Male   [50-60) 3                Missing          \n",
       "  num_lab_procedures num_procedures num_medications number_outpatient\n",
       "1 41                 0               1              0                \n",
       "2 59                 0              18              0                \n",
       "3 11                 5              13              2                \n",
       "4 44                 1              16              0                \n",
       "5 51                 0               8              0                \n",
       "6 31                 6              16              0                \n",
       "  number_emergency number_inpatient diag_1      diag_2      diag_3     \n",
       "1 0                0                Diabetes    NA          NA         \n",
       "2 0                0                Other       Diabetes    Other      \n",
       "3 0                1                Other       Diabetes    Other      \n",
       "4 0                0                Other       Diabetes    Circulatory\n",
       "5 0                0                Neoplasms   Neoplasms   Diabetes   \n",
       "6 0                0                Circulatory Circulatory Diabetes   \n",
       "  number_diagnoses max_glu_serum A1Cresult metformin glimepiride glipizide\n",
       "1 1                None          None      No        No          No       \n",
       "2 9                None          None      No        No          No       \n",
       "3 6                None          None      No        No          Yes      \n",
       "4 7                None          None      No        No          No       \n",
       "5 5                None          None      No        No          Yes      \n",
       "6 9                None          None      No        No          No       \n",
       "  glyburide pioglitazone rosiglitazone insulin change diabetesMed readmitted\n",
       "1 No        No           No            No      No     No          No        \n",
       "2 No        No           No            Yes     Ch     Yes         No        \n",
       "3 No        No           No            No      No     Yes         No        \n",
       "4 No        No           No            Yes     Ch     Yes         No        \n",
       "5 No        No           No            Yes     Ch     Yes         No        \n",
       "6 No        No           No            Yes     No     Yes         No        \n",
       "  admission_source   admission_type discharge_disposition\n",
       "1 Physician_Referral NA             NA                   \n",
       "2 Emergency_Room     Emergency      Home                 \n",
       "3 Emergency_Room     Emergency      Home                 \n",
       "4 Emergency_Room     Emergency      Home                 \n",
       "5 Emergency_Room     Emergency      Home                 \n",
       "6 Clinic_Referral    Urgent         Home                 "
      ]
     },
     "metadata": {},
     "output_type": "display_data"
    }
   ],
   "source": [
    "head(diabete_data)"
   ]
  },
  {
   "cell_type": "code",
   "execution_count": 423,
   "metadata": {
    "ExecuteTime": {
     "end_time": "2019-12-03T18:59:57.514976Z",
     "start_time": "2019-12-03T18:59:41.057Z"
    }
   },
   "outputs": [
    {
     "data": {
      "image/png": "[encoded data removed]",
      "text/plain": [
       "plot without title"
      ]
     },
     "metadata": {},
     "output_type": "display_data"
    }
   ],
   "source": [
    "# Train Decision Tree\n",
    "caseweights <- ifelse(training_data$readmitted == 'Yes', 8, 1)\n",
    "# weights = caseweights\n",
    "train_decision_tree <- rpart(model, data=training_data, method = 'class',\n",
    "                             control = rpart.control(minsplit=20, minbucket=1, cp = 0.001),\n",
    "                            weights = caseweights)\n",
    "\n",
    "# Plot Decision Tree\n",
    "rpart.plot(train_decision_tree, cex = 0.55)"
   ]
  },
  {
   "cell_type": "code",
   "execution_count": 420,
   "metadata": {
    "ExecuteTime": {
     "end_time": "2019-12-03T18:34:09.049931Z",
     "start_time": "2019-12-03T18:33:54.146Z"
    }
   },
   "outputs": [
    {
     "data": {
      "text/plain": [
       "Confusion Matrix and Statistics\n",
       "\n",
       "          Reference\n",
       "Prediction    No   Yes\n",
       "       No  11026   932\n",
       "       Yes  6997  1399\n",
       "                                          \n",
       "               Accuracy : 0.6104          \n",
       "                 95% CI : (0.6037, 0.6172)\n",
       "    No Information Rate : 0.8855          \n",
       "    P-Value [Acc > NIR] : 1               \n",
       "                                          \n",
       "                  Kappa : 0.0994          \n",
       "                                          \n",
       " Mcnemar's Test P-Value : <2e-16          \n",
       "                                          \n",
       "            Sensitivity : 0.60017         \n",
       "            Specificity : 0.61177         \n",
       "         Pos Pred Value : 0.16663         \n",
       "         Neg Pred Value : 0.92206         \n",
       "             Prevalence : 0.11452         \n",
       "         Detection Rate : 0.06873         \n",
       "   Detection Prevalence : 0.41250         \n",
       "      Balanced Accuracy : 0.60597         \n",
       "                                          \n",
       "       'Positive' Class : Yes             \n",
       "                                          "
      ]
     },
     "metadata": {},
     "output_type": "display_data"
    }
   ],
   "source": [
    "# Make prediction\n",
    "test_decision_tree <- predict(train_decision_tree, test_data, type = 'class')\n",
    "# Display Confusion Matrix\n",
    "confusionMatrix(test_decision_tree, test_data$readmitted, positive = 'Yes')"
   ]
  },
  {
   "cell_type": "code",
   "execution_count": 421,
   "metadata": {
    "ExecuteTime": {
     "end_time": "2019-12-03T18:34:09.842847Z",
     "start_time": "2019-12-03T18:33:54.816Z"
    }
   },
   "outputs": [
    {
     "name": "stderr",
     "output_type": "stream",
     "text": [
      "Setting levels: control = No, case = Yes\n",
      "Setting direction: controls < cases\n"
     ]
    },
    {
     "data": {
      "image/png": "[encoded data removed]",
      "text/plain": [
       "plot without title"
      ]
     },
     "metadata": {},
     "output_type": "display_data"
    }
   ],
   "source": [
    "ROC <- roc(response = test_data$readmitted, predictor = factor(test_decision_tree, \n",
    "                                                           ordered = TRUE, \n",
    "                                                           levels = c('No', 'Yes')))\n",
    "\n",
    "# Plot ROC with ggplot2\n",
    "plot_ROC <- ggroc(ROC)\n",
    "plot_ROC"
   ]
  },
  {
   "cell_type": "code",
   "execution_count": 422,
   "metadata": {
    "ExecuteTime": {
     "end_time": "2019-12-03T18:34:09.940855Z",
     "start_time": "2019-12-03T18:33:55.672Z"
    }
   },
   "outputs": [
    {
     "name": "stdout",
     "output_type": "stream",
     "text": [
      "AUC: 0.61"
     ]
    }
   ],
   "source": [
    "# Calculate the area under the curve (AUC)\n",
    "cat('AUC:', round(auc(ROC), 2))"
   ]
  },
  {
   "cell_type": "markdown",
   "metadata": {
    "heading_collapsed": true
   },
   "source": [
    "# Other Models"
   ]
  },
  {
   "cell_type": "code",
   "execution_count": 121,
   "metadata": {
    "ExecuteTime": {
     "end_time": "2019-12-03T17:39:29.918740Z",
     "start_time": "2019-12-03T17:37:20.511Z"
    },
    "hidden": true
   },
   "outputs": [],
   "source": [
    "Sys.setenv(LANG = \"en\")"
   ]
  },
  {
   "cell_type": "code",
   "execution_count": 131,
   "metadata": {
    "ExecuteTime": {
     "end_time": "2019-12-03T17:47:59.499033Z",
     "start_time": "2019-12-03T17:43:22.502Z"
    },
    "hidden": true
   },
   "outputs": [
    {
     "name": "stdout",
     "output_type": "stream",
     "text": [
      "Training Random Forest, please be patient...\n",
      "Testing Random Forest, please be patient...\n",
      "Outputing results..."
     ]
    },
    {
     "data": {
      "text/plain": [
       "Confusion Matrix and Statistics\n",
       "\n",
       "          Reference\n",
       "Prediction   No  Yes\n",
       "       No  7076 4193\n",
       "       Yes 2451 4101\n",
       "                                        \n",
       "               Accuracy : 0.6272        \n",
       "                 95% CI : (0.62, 0.6343)\n",
       "    No Information Rate : 0.5346        \n",
       "    P-Value [Acc > NIR] : < 2.2e-16     \n",
       "                                        \n",
       "                  Kappa : 0.2405        \n",
       "                                        \n",
       " Mcnemar's Test P-Value : < 2.2e-16     \n",
       "                                        \n",
       "            Sensitivity : 0.7427        \n",
       "            Specificity : 0.4945        \n",
       "         Pos Pred Value : 0.6279        \n",
       "         Neg Pred Value : 0.6259        \n",
       "             Prevalence : 0.5346        \n",
       "         Detection Rate : 0.3971        \n",
       "   Detection Prevalence : 0.6323        \n",
       "      Balanced Accuracy : 0.6186        \n",
       "                                        \n",
       "       'Positive' Class : No            \n",
       "                                        "
      ]
     },
     "metadata": {},
     "output_type": "display_data"
    }
   ],
   "source": [
    "# Add in NA action to exclude missing \n",
    "set.seed(100)\n",
    "# classwt = c(0.1, 1000000)\n",
    "# weights = caseweights\n",
    "\n",
    "cat('Training Random Forest, please be patient...\\n')\n",
    "train_rf4 <- randomForest(formula = model, data = training_data, method = \"rf\", na.action=na.omit, importance = TRUE,\n",
    "                         ntree = 64)\n",
    "\n",
    "# Predict\n",
    "cat('Testing Random Forest, please be patient...\\n')\n",
    "predict_rf4 <- predict(train_rf4, newdata = test_data[,-27], \n",
    "                      type = \"class\")\n",
    "                      \n",
    "# Output results\n",
    "cat('Outputing results...')\n",
    "confusionMatrix(data = predict_rf4, reference = test_data$readmitted)"
   ]
  },
  {
   "cell_type": "code",
   "execution_count": null,
   "metadata": {
    "hidden": true
   },
   "outputs": [],
   "source": []
  },
  {
   "cell_type": "code",
   "execution_count": 123,
   "metadata": {
    "ExecuteTime": {
     "end_time": "2019-12-03T17:40:50.754268Z",
     "start_time": "2019-12-03T17:40:50.005Z"
    },
    "hidden": true
   },
   "outputs": [
    {
     "name": "stderr",
     "output_type": "stream",
     "text": [
      "Setting levels: control = No, case = Yes\n",
      "Setting direction: controls < cases\n"
     ]
    },
    {
     "data": {
      "image/png": "[encoded data removed]",
      "text/plain": [
       "plot without title"
      ]
     },
     "metadata": {},
     "output_type": "display_data"
    }
   ],
   "source": [
    "# Create a ROC curve\n",
    "ROC <- roc(response = test_data$readmitted, predictor = factor(predict_rf4, \n",
    "                                                           ordered = TRUE, \n",
    "                                                           levels = c('No', 'Yes')))\n",
    "\n",
    "# Plot ROC with ggplot2\n",
    "plot_ROC <- ggroc(ROC) + xlab('1 - Specificity') + ylab('Sensitivity')\n",
    "plot_ROC"
   ]
  },
  {
   "cell_type": "code",
   "execution_count": 124,
   "metadata": {
    "ExecuteTime": {
     "end_time": "2019-12-03T17:40:50.991798Z",
     "start_time": "2019-12-03T17:40:50.929Z"
    },
    "hidden": true
   },
   "outputs": [
    {
     "name": "stdout",
     "output_type": "stream",
     "text": [
      "AUC: 0.61"
     ]
    }
   ],
   "source": [
    "# Calculate the area under the curve (AUC)\n",
    "cat('AUC:', round(auc(ROC), 2))"
   ]
  },
  {
   "cell_type": "code",
   "execution_count": 129,
   "metadata": {
    "ExecuteTime": {
     "end_time": "2019-12-03T17:42:09.222695Z",
     "start_time": "2019-12-03T17:41:53.757Z"
    },
    "hidden": true,
    "scrolled": true
   },
   "outputs": [
    {
     "data": {
      "text/plain": [
       "Confusion Matrix and Statistics\n",
       "\n",
       "          Reference\n",
       "Prediction   No  Yes\n",
       "       No  9910 7091\n",
       "       Yes 1058 2295\n",
       "                                          \n",
       "               Accuracy : 0.5996          \n",
       "                 95% CI : (0.5929, 0.6064)\n",
       "    No Information Rate : 0.5389          \n",
       "    P-Value [Acc > NIR] : < 2.2e-16       \n",
       "                                          \n",
       "                  Kappa : 0.1552          \n",
       "                                          \n",
       " Mcnemar's Test P-Value : < 2.2e-16       \n",
       "                                          \n",
       "            Sensitivity : 0.9035          \n",
       "            Specificity : 0.2445          \n",
       "         Pos Pred Value : 0.5829          \n",
       "         Neg Pred Value : 0.6845          \n",
       "             Prevalence : 0.5389          \n",
       "         Detection Rate : 0.4869          \n",
       "   Detection Prevalence : 0.8353          \n",
       "      Balanced Accuracy : 0.5740          \n",
       "                                          \n",
       "       'Positive' Class : No              \n",
       "                                          "
      ]
     },
     "metadata": {},
     "output_type": "display_data"
    }
   ],
   "source": [
    "# Add in NA action to exclude missing \n",
    "train_nb = naiveBayes(model, training_data, na.action=na.omit, importance = TRUE)\n",
    "\n",
    "# Predict\n",
    "prediction_nb <- predict(object = train_nb,\n",
    "                         test_data[,-27],\n",
    "                         type = \"class\")\n",
    "\n",
    "# Output results\n",
    "confusionMatrix(data = prediction_nb, reference = test_data$readmitted)"
   ]
  },
  {
   "cell_type": "code",
   "execution_count": 130,
   "metadata": {
    "ExecuteTime": {
     "end_time": "2019-12-03T17:45:52.086859Z",
     "start_time": "2019-12-03T17:41:55.957Z"
    },
    "hidden": true
   },
   "outputs": [
    {
     "name": "stdout",
     "output_type": "stream",
     "text": [
      "starting trainingmiddle"
     ]
    },
    {
     "data": {
      "text/plain": [
       "Confusion Matrix and Statistics\n",
       "\n",
       "          Reference\n",
       "Prediction   No  Yes\n",
       "       No  7474 4610\n",
       "       Yes 2053 3684\n",
       "                                         \n",
       "               Accuracy : 0.6261         \n",
       "                 95% CI : (0.619, 0.6332)\n",
       "    No Information Rate : 0.5346         \n",
       "    P-Value [Acc > NIR] : < 2.2e-16      \n",
       "                                         \n",
       "                  Kappa : 0.2333         \n",
       "                                         \n",
       " Mcnemar's Test P-Value : < 2.2e-16      \n",
       "                                         \n",
       "            Sensitivity : 0.7845         \n",
       "            Specificity : 0.4442         \n",
       "         Pos Pred Value : 0.6185         \n",
       "         Neg Pred Value : 0.6421         \n",
       "             Prevalence : 0.5346         \n",
       "         Detection Rate : 0.4194         \n",
       "   Detection Prevalence : 0.6781         \n",
       "      Balanced Accuracy : 0.6143         \n",
       "                                         \n",
       "       'Positive' Class : No             \n",
       "                                         "
      ]
     },
     "metadata": {},
     "output_type": "display_data"
    }
   ],
   "source": [
    "cat('starting training')\n",
    "mylogit <- train(model, data = training_data, na.action = na.pass, method = 'glm', family = 'binomial')\n",
    "cat('middle')\n",
    "modelPred.na <- predict(mylogit, newdata = test_data, method = \"glm\", na.action = na.pass)\n",
    "\n",
    "confusionMatrix(modelPred.na, test_data$readmitted)"
   ]
  },
  {
   "cell_type": "markdown",
   "metadata": {
    "heading_collapsed": true
   },
   "source": [
    "# SVM Case"
   ]
  },
  {
   "cell_type": "code",
   "execution_count": null,
   "metadata": {
    "ExecuteTime": {
     "end_time": "2019-12-03T16:40:14.824094Z",
     "start_time": "2019-12-03T16:35:50.112Z"
    },
    "hidden": true
   },
   "outputs": [],
   "source": [
    "# svm_model <- svm(model, data=training_data, na.action = na.omit)\n",
    "# print(svm_model)"
   ]
  },
  {
   "cell_type": "code",
   "execution_count": null,
   "metadata": {
    "ExecuteTime": {
     "end_time": "2019-12-03T16:40:14.847033Z",
     "start_time": "2019-12-03T16:35:50.119Z"
    },
    "hidden": true
   },
   "outputs": [],
   "source": [
    "# # Make prediction\n",
    "# test_svm <- predict(svm_model, test_data[,-18])\n",
    "# # Display Confusion Matrix\n",
    "# test_data= na.omit(test_data)\n",
    "# confusionMatrix(test_svm, test_data$readmitted)"
   ]
  },
  {
   "cell_type": "code",
   "execution_count": null,
   "metadata": {
    "ExecuteTime": {
     "end_time": "2019-12-03T16:40:14.869973Z",
     "start_time": "2019-12-03T16:35:50.124Z"
    },
    "hidden": true
   },
   "outputs": [],
   "source": [
    "# ROC <- roc(response = test_data$readmitted, predictor = factor(test_svm, \n",
    "#                                                            ordered = TRUE, \n",
    "#                                                            levels = c('No', 'Yes')))\n",
    "\n",
    "# # Plot ROC with ggplot2\n",
    "# plot_ROC <- ggroc(ROC)\n",
    "# plot_ROC"
   ]
  },
  {
   "cell_type": "code",
   "execution_count": null,
   "metadata": {
    "ExecuteTime": {
     "end_time": "2019-12-03T16:40:14.894905Z",
     "start_time": "2019-12-03T16:35:50.131Z"
    },
    "hidden": true
   },
   "outputs": [],
   "source": [
    "# # Calculate the area under the curve (AUC)\n",
    "# cat('AUC:', round(auc(ROC), 2))"
   ]
  },
  {
   "cell_type": "code",
   "execution_count": null,
   "metadata": {
    "hidden": true
   },
   "outputs": [],
   "source": []
  },
  {
   "cell_type": "markdown",
   "metadata": {},
   "source": [
    "# New heading"
   ]
  }
 ],
 "metadata": {
  "kernelspec": {
   "display_name": "R",
   "language": "R",
   "name": "ir"
  },
  "language_info": {
   "codemirror_mode": "r",
   "file_extension": ".r",
   "mimetype": "text/x-r-source",
   "name": "R",
   "pygments_lexer": "r",
   "version": "3.6.1"
  },
  "latex_envs": {
   "LaTeX_envs_menu_present": true,
   "autoclose": false,
   "autocomplete": true,
   "bibliofile": "biblio.bib",
   "cite_by": "apalike",
   "current_citInitial": 1,
   "eqLabelWithNumbers": true,
   "eqNumInitial": 1,
   "hotkeys": {
    "equation": "Ctrl-E",
    "itemize": "Ctrl-I"
   },
   "labels_anchors": false,
   "latex_user_defs": false,
   "report_style_numbering": false,
   "user_envs_cfg": false
  },
  "toc": {
   "base_numbering": 1,
   "nav_menu": {},
   "number_sections": true,
   "sideBar": true,
   "skip_h1_title": false,
   "title_cell": "Table of Contents",
   "title_sidebar": "Contents",
   "toc_cell": false,
   "toc_position": {},
   "toc_section_display": true,
   "toc_window_display": false
  }
 },
 "nbformat": 4,
 "nbformat_minor": 2
}
