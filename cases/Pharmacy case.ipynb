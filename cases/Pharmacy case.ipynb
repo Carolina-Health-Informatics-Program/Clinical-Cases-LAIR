{
 "cells": [
  {
   "cell_type": "code",
   "execution_count": 755,
   "metadata": {
    "ExecuteTime": {
     "end_time": "2019-11-25T04:03:07.397595Z",
     "start_time": "2019-11-25T04:03:07.357Z"
    }
   },
   "outputs": [
    {
     "name": "stdout",
     "output_type": "stream",
     "text": [
      "Setup complete!"
     ]
    }
   ],
   "source": [
    "# Increase max number of columns displayed in output tables\n",
    "options(repr.matrix.max.cols = 2000)\n",
    "set.seed(10) # Make sure your ML results are the same\n",
    "# Calling external libraries for additional functionality\n",
    "suppressMessages(library(tidyverse))\n",
    "suppressMessages(library(randomForest))\n",
    "suppressMessages(library(forcats))\n",
    "suppressMessages(library(cowplot))\n",
    "suppressMessages(library(caret))\n",
    "suppressMessages(library(e1071))\n",
    "suppressMessages(library(pROC))\n",
    "\n",
    "cat('Setup complete!')"
   ]
  },
  {
   "cell_type": "code",
   "execution_count": 756,
   "metadata": {
    "ExecuteTime": {
     "end_time": "2019-11-25T04:03:08.755316Z",
     "start_time": "2019-11-25T04:03:07.358Z"
    }
   },
   "outputs": [
    {
     "name": "stdout",
     "output_type": "stream",
     "text": [
      "Data loading, please wait\n",
      "Data loaded!"
     ]
    }
   ],
   "source": [
    "# Note: Unicode Transformation Format – 8 (UTF-8) is a standard to encode characters in different languages\n",
    "cat('Data loading, please wait\\n')\n",
    "diabete_data <- read.csv(file=\"data/dataset_diabetes/diabetic_data.csv\",  encoding=\"UTF-8\", header=TRUE, sep=\",\")\n",
    "cat('Data loaded!')"
   ]
  },
  {
   "cell_type": "code",
   "execution_count": 757,
   "metadata": {
    "ExecuteTime": {
     "end_time": "2019-11-25T04:03:08.860555Z",
     "start_time": "2019-11-25T04:03:07.363Z"
    }
   },
   "outputs": [
    {
     "data": {
      "text/html": [
       "<table>\n",
       "<thead><tr><th scope=col>encounter_id</th><th scope=col>patient_nbr</th><th scope=col>race</th><th scope=col>gender</th><th scope=col>age</th><th scope=col>weight</th><th scope=col>admission_type_id</th><th scope=col>discharge_disposition_id</th><th scope=col>admission_source_id</th><th scope=col>time_in_hospital</th><th scope=col>payer_code</th><th scope=col>medical_specialty</th><th scope=col>num_lab_procedures</th><th scope=col>num_procedures</th><th scope=col>num_medications</th><th scope=col>number_outpatient</th><th scope=col>number_emergency</th><th scope=col>number_inpatient</th><th scope=col>diag_1</th><th scope=col>diag_2</th><th scope=col>diag_3</th><th scope=col>number_diagnoses</th><th scope=col>max_glu_serum</th><th scope=col>A1Cresult</th><th scope=col>metformin</th><th scope=col>repaglinide</th><th scope=col>nateglinide</th><th scope=col>chlorpropamide</th><th scope=col>glimepiride</th><th scope=col>acetohexamide</th><th scope=col>glipizide</th><th scope=col>glyburide</th><th scope=col>tolbutamide</th><th scope=col>pioglitazone</th><th scope=col>rosiglitazone</th><th scope=col>acarbose</th><th scope=col>miglitol</th><th scope=col>troglitazone</th><th scope=col>tolazamide</th><th scope=col>examide</th><th scope=col>citoglipton</th><th scope=col>insulin</th><th scope=col>glyburide.metformin</th><th scope=col>glipizide.metformin</th><th scope=col>glimepiride.pioglitazone</th><th scope=col>metformin.rosiglitazone</th><th scope=col>metformin.pioglitazone</th><th scope=col>change</th><th scope=col>diabetesMed</th><th scope=col>readmitted</th></tr></thead>\n",
       "<tbody>\n",
       "\t<tr><td>2278392                 </td><td> 8222157                </td><td>Caucasian               </td><td>Female                  </td><td>[0-10)                  </td><td>?                       </td><td>6                       </td><td>25                      </td><td>1                       </td><td>1                       </td><td>?                       </td><td>Pediatrics-Endocrinology</td><td>41                      </td><td>0                       </td><td> 1                      </td><td>0                       </td><td>0                       </td><td>0                       </td><td>250.83                  </td><td>?                       </td><td>?                       </td><td>1                       </td><td>None                    </td><td>None                    </td><td>No                      </td><td>No                      </td><td>No                      </td><td>No                      </td><td>No                      </td><td>No                      </td><td>No                      </td><td>No                      </td><td>No                      </td><td>No                      </td><td>No                      </td><td>No                      </td><td>No                      </td><td>No                      </td><td>No                      </td><td>No                      </td><td>No                      </td><td>No                      </td><td>No                      </td><td>No                      </td><td>No                      </td><td>No                      </td><td>No                      </td><td>No                      </td><td>No                      </td><td>NO                      </td></tr>\n",
       "\t<tr><td> 149190                                                         </td><td>55629189                                                        </td><td><span style=white-space:pre-wrap>Caucasian      </span>         </td><td>Female                                                          </td><td>[10-20)                                                         </td><td>?                                                               </td><td>1                                                               </td><td> 1                                                              </td><td>7                                                               </td><td>3                                                               </td><td>?                                                               </td><td><span style=white-space:pre-wrap>?                       </span></td><td>59                                                              </td><td>0                                                               </td><td>18                                                              </td><td>0                                                               </td><td>0                                                               </td><td>0                                                               </td><td><span style=white-space:pre-wrap>276   </span>                  </td><td>250.01                                                          </td><td>255                                                             </td><td>9                                                               </td><td>None                                                            </td><td>None                                                            </td><td>No                                                              </td><td>No                                                              </td><td>No                                                              </td><td>No                                                              </td><td>No                                                              </td><td>No                                                              </td><td><span style=white-space:pre-wrap>No    </span>                  </td><td>No                                                              </td><td>No                                                              </td><td>No                                                              </td><td>No                                                              </td><td>No                                                              </td><td>No                                                              </td><td>No                                                              </td><td>No                                                              </td><td>No                                                              </td><td>No                                                              </td><td><span style=white-space:pre-wrap>Up    </span>                  </td><td>No                                                              </td><td>No                                                              </td><td>No                                                              </td><td>No                                                              </td><td>No                                                              </td><td>Ch                                                              </td><td>Yes                                                             </td><td>&gt;30                                                          </td></tr>\n",
       "\t<tr><td>  64410                 </td><td>86047875                </td><td>AfricanAmerican         </td><td>Female                  </td><td>[20-30)                 </td><td>?                       </td><td>1                       </td><td> 1                      </td><td>7                       </td><td>2                       </td><td>?                       </td><td>?                       </td><td>11                      </td><td>5                       </td><td>13                      </td><td>2                       </td><td>0                       </td><td>1                       </td><td>648                     </td><td>250                     </td><td>V27                     </td><td>6                       </td><td>None                    </td><td>None                    </td><td>No                      </td><td>No                      </td><td>No                      </td><td>No                      </td><td>No                      </td><td>No                      </td><td>Steady                  </td><td>No                      </td><td>No                      </td><td>No                      </td><td>No                      </td><td>No                      </td><td>No                      </td><td>No                      </td><td>No                      </td><td>No                      </td><td>No                      </td><td>No                      </td><td>No                      </td><td>No                      </td><td>No                      </td><td>No                      </td><td>No                      </td><td>No                      </td><td>Yes                     </td><td>NO                      </td></tr>\n",
       "\t<tr><td> 500364                 </td><td>82442376                </td><td>Caucasian               </td><td>Male                    </td><td>[30-40)                 </td><td>?                       </td><td>1                       </td><td> 1                      </td><td>7                       </td><td>2                       </td><td>?                       </td><td>?                       </td><td>44                      </td><td>1                       </td><td>16                      </td><td>0                       </td><td>0                       </td><td>0                       </td><td>8                       </td><td>250.43                  </td><td>403                     </td><td>7                       </td><td>None                    </td><td>None                    </td><td>No                      </td><td>No                      </td><td>No                      </td><td>No                      </td><td>No                      </td><td>No                      </td><td>No                      </td><td>No                      </td><td>No                      </td><td>No                      </td><td>No                      </td><td>No                      </td><td>No                      </td><td>No                      </td><td>No                      </td><td>No                      </td><td>No                      </td><td>Up                      </td><td>No                      </td><td>No                      </td><td>No                      </td><td>No                      </td><td>No                      </td><td>Ch                      </td><td>Yes                     </td><td>NO                      </td></tr>\n",
       "\t<tr><td>  16680                 </td><td>42519267                </td><td>Caucasian               </td><td>Male                    </td><td>[40-50)                 </td><td>?                       </td><td>1                       </td><td> 1                      </td><td>7                       </td><td>1                       </td><td>?                       </td><td>?                       </td><td>51                      </td><td>0                       </td><td> 8                      </td><td>0                       </td><td>0                       </td><td>0                       </td><td>197                     </td><td>157                     </td><td>250                     </td><td>5                       </td><td>None                    </td><td>None                    </td><td>No                      </td><td>No                      </td><td>No                      </td><td>No                      </td><td>No                      </td><td>No                      </td><td>Steady                  </td><td>No                      </td><td>No                      </td><td>No                      </td><td>No                      </td><td>No                      </td><td>No                      </td><td>No                      </td><td>No                      </td><td>No                      </td><td>No                      </td><td>Steady                  </td><td>No                      </td><td>No                      </td><td>No                      </td><td>No                      </td><td>No                      </td><td>Ch                      </td><td>Yes                     </td><td>NO                      </td></tr>\n",
       "\t<tr><td><span style=white-space:pre-wrap>  35754</span>                 </td><td>82637451                                                        </td><td><span style=white-space:pre-wrap>Caucasian      </span>         </td><td><span style=white-space:pre-wrap>Male  </span>                  </td><td>[50-60)                                                         </td><td>?                                                               </td><td>2                                                               </td><td> 1                                                              </td><td>2                                                               </td><td>3                                                               </td><td>?                                                               </td><td><span style=white-space:pre-wrap>?                       </span></td><td>31                                                              </td><td>6                                                               </td><td>16                                                              </td><td>0                                                               </td><td>0                                                               </td><td>0                                                               </td><td><span style=white-space:pre-wrap>414   </span>                  </td><td><span style=white-space:pre-wrap>411   </span>                  </td><td>250                                                             </td><td>9                                                               </td><td>None                                                            </td><td>None                                                            </td><td>No                                                              </td><td>No                                                              </td><td>No                                                              </td><td>No                                                              </td><td>No                                                              </td><td>No                                                              </td><td><span style=white-space:pre-wrap>No    </span>                  </td><td>No                                                              </td><td>No                                                              </td><td>No                                                              </td><td>No                                                              </td><td>No                                                              </td><td>No                                                              </td><td>No                                                              </td><td>No                                                              </td><td>No                                                              </td><td>No                                                              </td><td>Steady                                                          </td><td>No                                                              </td><td>No                                                              </td><td>No                                                              </td><td>No                                                              </td><td>No                                                              </td><td>No                                                              </td><td>Yes                                                             </td><td>&gt;30                                                          </td></tr>\n",
       "</tbody>\n",
       "</table>\n"
      ],
      "text/latex": [
       "\\begin{tabular}{r|llllllllllllllllllllllllllllllllllllllllllllllllll}\n",
       " encounter\\_id & patient\\_nbr & race & gender & age & weight & admission\\_type\\_id & discharge\\_disposition\\_id & admission\\_source\\_id & time\\_in\\_hospital & payer\\_code & medical\\_specialty & num\\_lab\\_procedures & num\\_procedures & num\\_medications & number\\_outpatient & number\\_emergency & number\\_inpatient & diag\\_1 & diag\\_2 & diag\\_3 & number\\_diagnoses & max\\_glu\\_serum & A1Cresult & metformin & repaglinide & nateglinide & chlorpropamide & glimepiride & acetohexamide & glipizide & glyburide & tolbutamide & pioglitazone & rosiglitazone & acarbose & miglitol & troglitazone & tolazamide & examide & citoglipton & insulin & glyburide.metformin & glipizide.metformin & glimepiride.pioglitazone & metformin.rosiglitazone & metformin.pioglitazone & change & diabetesMed & readmitted\\\\\n",
       "\\hline\n",
       "\t 2278392                  &  8222157                 & Caucasian                & Female                   & {[}0-10)                 & ?                        & 6                        & 25                       & 1                        & 1                        & ?                        & Pediatrics-Endocrinology & 41                       & 0                        &  1                       & 0                        & 0                        & 0                        & 250.83                   & ?                        & ?                        & 1                        & None                     & None                     & No                       & No                       & No                       & No                       & No                       & No                       & No                       & No                       & No                       & No                       & No                       & No                       & No                       & No                       & No                       & No                       & No                       & No                       & No                       & No                       & No                       & No                       & No                       & No                       & No                       & NO                      \\\\\n",
       "\t  149190                  & 55629189                 & Caucasian                & Female                   & {[}10-20)                & ?                        & 1                        &  1                       & 7                        & 3                        & ?                        & ?                        & 59                       & 0                        & 18                       & 0                        & 0                        & 0                        & 276                      & 250.01                   & 255                      & 9                        & None                     & None                     & No                       & No                       & No                       & No                       & No                       & No                       & No                       & No                       & No                       & No                       & No                       & No                       & No                       & No                       & No                       & No                       & No                       & Up                       & No                       & No                       & No                       & No                       & No                       & Ch                       & Yes                      & >30                     \\\\\n",
       "\t   64410                  & 86047875                 & AfricanAmerican          & Female                   & {[}20-30)                & ?                        & 1                        &  1                       & 7                        & 2                        & ?                        & ?                        & 11                       & 5                        & 13                       & 2                        & 0                        & 1                        & 648                      & 250                      & V27                      & 6                        & None                     & None                     & No                       & No                       & No                       & No                       & No                       & No                       & Steady                   & No                       & No                       & No                       & No                       & No                       & No                       & No                       & No                       & No                       & No                       & No                       & No                       & No                       & No                       & No                       & No                       & No                       & Yes                      & NO                      \\\\\n",
       "\t  500364                  & 82442376                 & Caucasian                & Male                     & {[}30-40)                & ?                        & 1                        &  1                       & 7                        & 2                        & ?                        & ?                        & 44                       & 1                        & 16                       & 0                        & 0                        & 0                        & 8                        & 250.43                   & 403                      & 7                        & None                     & None                     & No                       & No                       & No                       & No                       & No                       & No                       & No                       & No                       & No                       & No                       & No                       & No                       & No                       & No                       & No                       & No                       & No                       & Up                       & No                       & No                       & No                       & No                       & No                       & Ch                       & Yes                      & NO                      \\\\\n",
       "\t   16680                  & 42519267                 & Caucasian                & Male                     & {[}40-50)                & ?                        & 1                        &  1                       & 7                        & 1                        & ?                        & ?                        & 51                       & 0                        &  8                       & 0                        & 0                        & 0                        & 197                      & 157                      & 250                      & 5                        & None                     & None                     & No                       & No                       & No                       & No                       & No                       & No                       & Steady                   & No                       & No                       & No                       & No                       & No                       & No                       & No                       & No                       & No                       & No                       & Steady                   & No                       & No                       & No                       & No                       & No                       & Ch                       & Yes                      & NO                      \\\\\n",
       "\t   35754                  & 82637451                 & Caucasian                & Male                     & {[}50-60)                & ?                        & 2                        &  1                       & 2                        & 3                        & ?                        & ?                        & 31                       & 6                        & 16                       & 0                        & 0                        & 0                        & 414                      & 411                      & 250                      & 9                        & None                     & None                     & No                       & No                       & No                       & No                       & No                       & No                       & No                       & No                       & No                       & No                       & No                       & No                       & No                       & No                       & No                       & No                       & No                       & Steady                   & No                       & No                       & No                       & No                       & No                       & No                       & Yes                      & >30                     \\\\\n",
       "\\end{tabular}\n"
      ],
      "text/markdown": [
       "\n",
       "| encounter_id | patient_nbr | race | gender | age | weight | admission_type_id | discharge_disposition_id | admission_source_id | time_in_hospital | payer_code | medical_specialty | num_lab_procedures | num_procedures | num_medications | number_outpatient | number_emergency | number_inpatient | diag_1 | diag_2 | diag_3 | number_diagnoses | max_glu_serum | A1Cresult | metformin | repaglinide | nateglinide | chlorpropamide | glimepiride | acetohexamide | glipizide | glyburide | tolbutamide | pioglitazone | rosiglitazone | acarbose | miglitol | troglitazone | tolazamide | examide | citoglipton | insulin | glyburide.metformin | glipizide.metformin | glimepiride.pioglitazone | metformin.rosiglitazone | metformin.pioglitazone | change | diabetesMed | readmitted |\n",
       "|---|---|---|---|---|---|---|---|---|---|---|---|---|---|---|---|---|---|---|---|---|---|---|---|---|---|---|---|---|---|---|---|---|---|---|---|---|---|---|---|---|---|---|---|---|---|---|---|---|---|\n",
       "| 2278392                  |  8222157                 | Caucasian                | Female                   | [0-10)                   | ?                        | 6                        | 25                       | 1                        | 1                        | ?                        | Pediatrics-Endocrinology | 41                       | 0                        |  1                       | 0                        | 0                        | 0                        | 250.83                   | ?                        | ?                        | 1                        | None                     | None                     | No                       | No                       | No                       | No                       | No                       | No                       | No                       | No                       | No                       | No                       | No                       | No                       | No                       | No                       | No                       | No                       | No                       | No                       | No                       | No                       | No                       | No                       | No                       | No                       | No                       | NO                       |\n",
       "|  149190                  | 55629189                 | Caucasian                | Female                   | [10-20)                  | ?                        | 1                        |  1                       | 7                        | 3                        | ?                        | ?                        | 59                       | 0                        | 18                       | 0                        | 0                        | 0                        | 276                      | 250.01                   | 255                      | 9                        | None                     | None                     | No                       | No                       | No                       | No                       | No                       | No                       | No                       | No                       | No                       | No                       | No                       | No                       | No                       | No                       | No                       | No                       | No                       | Up                       | No                       | No                       | No                       | No                       | No                       | Ch                       | Yes                      | >30                      |\n",
       "|   64410                  | 86047875                 | AfricanAmerican          | Female                   | [20-30)                  | ?                        | 1                        |  1                       | 7                        | 2                        | ?                        | ?                        | 11                       | 5                        | 13                       | 2                        | 0                        | 1                        | 648                      | 250                      | V27                      | 6                        | None                     | None                     | No                       | No                       | No                       | No                       | No                       | No                       | Steady                   | No                       | No                       | No                       | No                       | No                       | No                       | No                       | No                       | No                       | No                       | No                       | No                       | No                       | No                       | No                       | No                       | No                       | Yes                      | NO                       |\n",
       "|  500364                  | 82442376                 | Caucasian                | Male                     | [30-40)                  | ?                        | 1                        |  1                       | 7                        | 2                        | ?                        | ?                        | 44                       | 1                        | 16                       | 0                        | 0                        | 0                        | 8                        | 250.43                   | 403                      | 7                        | None                     | None                     | No                       | No                       | No                       | No                       | No                       | No                       | No                       | No                       | No                       | No                       | No                       | No                       | No                       | No                       | No                       | No                       | No                       | Up                       | No                       | No                       | No                       | No                       | No                       | Ch                       | Yes                      | NO                       |\n",
       "|   16680                  | 42519267                 | Caucasian                | Male                     | [40-50)                  | ?                        | 1                        |  1                       | 7                        | 1                        | ?                        | ?                        | 51                       | 0                        |  8                       | 0                        | 0                        | 0                        | 197                      | 157                      | 250                      | 5                        | None                     | None                     | No                       | No                       | No                       | No                       | No                       | No                       | Steady                   | No                       | No                       | No                       | No                       | No                       | No                       | No                       | No                       | No                       | No                       | Steady                   | No                       | No                       | No                       | No                       | No                       | Ch                       | Yes                      | NO                       |\n",
       "|   35754                  | 82637451                 | Caucasian                | Male                     | [50-60)                  | ?                        | 2                        |  1                       | 2                        | 3                        | ?                        | ?                        | 31                       | 6                        | 16                       | 0                        | 0                        | 0                        | 414                      | 411                      | 250                      | 9                        | None                     | None                     | No                       | No                       | No                       | No                       | No                       | No                       | No                       | No                       | No                       | No                       | No                       | No                       | No                       | No                       | No                       | No                       | No                       | Steady                   | No                       | No                       | No                       | No                       | No                       | No                       | Yes                      | >30                      |\n",
       "\n"
      ],
      "text/plain": [
       "  encounter_id patient_nbr race            gender age     weight\n",
       "1 2278392       8222157    Caucasian       Female [0-10)  ?     \n",
       "2  149190      55629189    Caucasian       Female [10-20) ?     \n",
       "3   64410      86047875    AfricanAmerican Female [20-30) ?     \n",
       "4  500364      82442376    Caucasian       Male   [30-40) ?     \n",
       "5   16680      42519267    Caucasian       Male   [40-50) ?     \n",
       "6   35754      82637451    Caucasian       Male   [50-60) ?     \n",
       "  admission_type_id discharge_disposition_id admission_source_id\n",
       "1 6                 25                       1                  \n",
       "2 1                  1                       7                  \n",
       "3 1                  1                       7                  \n",
       "4 1                  1                       7                  \n",
       "5 1                  1                       7                  \n",
       "6 2                  1                       2                  \n",
       "  time_in_hospital payer_code medical_specialty        num_lab_procedures\n",
       "1 1                ?          Pediatrics-Endocrinology 41                \n",
       "2 3                ?          ?                        59                \n",
       "3 2                ?          ?                        11                \n",
       "4 2                ?          ?                        44                \n",
       "5 1                ?          ?                        51                \n",
       "6 3                ?          ?                        31                \n",
       "  num_procedures num_medications number_outpatient number_emergency\n",
       "1 0               1              0                 0               \n",
       "2 0              18              0                 0               \n",
       "3 5              13              2                 0               \n",
       "4 1              16              0                 0               \n",
       "5 0               8              0                 0               \n",
       "6 6              16              0                 0               \n",
       "  number_inpatient diag_1 diag_2 diag_3 number_diagnoses max_glu_serum\n",
       "1 0                250.83 ?      ?      1                None         \n",
       "2 0                276    250.01 255    9                None         \n",
       "3 1                648    250    V27    6                None         \n",
       "4 0                8      250.43 403    7                None         \n",
       "5 0                197    157    250    5                None         \n",
       "6 0                414    411    250    9                None         \n",
       "  A1Cresult metformin repaglinide nateglinide chlorpropamide glimepiride\n",
       "1 None      No        No          No          No             No         \n",
       "2 None      No        No          No          No             No         \n",
       "3 None      No        No          No          No             No         \n",
       "4 None      No        No          No          No             No         \n",
       "5 None      No        No          No          No             No         \n",
       "6 None      No        No          No          No             No         \n",
       "  acetohexamide glipizide glyburide tolbutamide pioglitazone rosiglitazone\n",
       "1 No            No        No        No          No           No           \n",
       "2 No            No        No        No          No           No           \n",
       "3 No            Steady    No        No          No           No           \n",
       "4 No            No        No        No          No           No           \n",
       "5 No            Steady    No        No          No           No           \n",
       "6 No            No        No        No          No           No           \n",
       "  acarbose miglitol troglitazone tolazamide examide citoglipton insulin\n",
       "1 No       No       No           No         No      No          No     \n",
       "2 No       No       No           No         No      No          Up     \n",
       "3 No       No       No           No         No      No          No     \n",
       "4 No       No       No           No         No      No          Up     \n",
       "5 No       No       No           No         No      No          Steady \n",
       "6 No       No       No           No         No      No          Steady \n",
       "  glyburide.metformin glipizide.metformin glimepiride.pioglitazone\n",
       "1 No                  No                  No                      \n",
       "2 No                  No                  No                      \n",
       "3 No                  No                  No                      \n",
       "4 No                  No                  No                      \n",
       "5 No                  No                  No                      \n",
       "6 No                  No                  No                      \n",
       "  metformin.rosiglitazone metformin.pioglitazone change diabetesMed readmitted\n",
       "1 No                      No                     No     No          NO        \n",
       "2 No                      No                     Ch     Yes         >30       \n",
       "3 No                      No                     No     Yes         NO        \n",
       "4 No                      No                     Ch     Yes         NO        \n",
       "5 No                      No                     Ch     Yes         NO        \n",
       "6 No                      No                     No     Yes         >30       "
      ]
     },
     "metadata": {},
     "output_type": "display_data"
    },
    {
     "name": "stdout",
     "output_type": "stream",
     "text": [
      "'data.frame':\t101766 obs. of  50 variables:\n",
      " $ encounter_id            : int  2278392 149190 64410 500364 16680 35754 55842 63768 12522 15738 ...\n",
      " $ patient_nbr             : int  8222157 55629189 86047875 82442376 42519267 82637451 84259809 114882984 48330783 63555939 ...\n",
      " $ race                    : Factor w/ 6 levels \"?\",\"AfricanAmerican\",..: 4 4 2 4 4 4 4 4 4 4 ...\n",
      " $ gender                  : Factor w/ 3 levels \"Female\",\"Male\",..: 1 1 1 2 2 2 2 2 1 1 ...\n",
      " $ age                     : Factor w/ 10 levels \"[0-10)\",\"[10-20)\",..: 1 2 3 4 5 6 7 8 9 10 ...\n",
      " $ weight                  : Factor w/ 10 levels \"?\",\"[0-25)\",\"[100-125)\",..: 1 1 1 1 1 1 1 1 1 1 ...\n",
      " $ admission_type_id       : int  6 1 1 1 1 2 3 1 2 3 ...\n",
      " $ discharge_disposition_id: int  25 1 1 1 1 1 1 1 1 3 ...\n",
      " $ admission_source_id     : int  1 7 7 7 7 2 2 7 4 4 ...\n",
      " $ time_in_hospital        : int  1 3 2 2 1 3 4 5 13 12 ...\n",
      " $ payer_code              : Factor w/ 18 levels \"?\",\"BC\",\"CH\",..: 1 1 1 1 1 1 1 1 1 1 ...\n",
      " $ medical_specialty       : Factor w/ 73 levels \"?\",\"AllergyandImmunology\",..: 39 1 1 1 1 1 1 1 1 20 ...\n",
      " $ num_lab_procedures      : int  41 59 11 44 51 31 70 73 68 33 ...\n",
      " $ num_procedures          : int  0 0 5 1 0 6 1 0 2 3 ...\n",
      " $ num_medications         : int  1 18 13 16 8 16 21 12 28 18 ...\n",
      " $ number_outpatient       : int  0 0 2 0 0 0 0 0 0 0 ...\n",
      " $ number_emergency        : int  0 0 0 0 0 0 0 0 0 0 ...\n",
      " $ number_inpatient        : int  0 0 1 0 0 0 0 0 0 0 ...\n",
      " $ diag_1                  : Factor w/ 717 levels \"?\",\"10\",\"11\",..: 126 145 456 556 56 265 265 278 254 284 ...\n",
      " $ diag_2                  : Factor w/ 749 levels \"?\",\"11\",\"110\",..: 1 81 80 99 26 248 248 316 262 48 ...\n",
      " $ diag_3                  : Factor w/ 790 levels \"?\",\"11\",\"110\",..: 1 123 768 250 88 88 772 88 231 319 ...\n",
      " $ number_diagnoses        : int  1 9 6 7 5 9 7 8 8 8 ...\n",
      " $ max_glu_serum           : Factor w/ 4 levels \">200\",\">300\",..: 3 3 3 3 3 3 3 3 3 3 ...\n",
      " $ A1Cresult               : Factor w/ 4 levels \">7\",\">8\",\"None\",..: 3 3 3 3 3 3 3 3 3 3 ...\n",
      " $ metformin               : Factor w/ 4 levels \"Down\",\"No\",\"Steady\",..: 2 2 2 2 2 2 3 2 2 2 ...\n",
      " $ repaglinide             : Factor w/ 4 levels \"Down\",\"No\",\"Steady\",..: 2 2 2 2 2 2 2 2 2 2 ...\n",
      " $ nateglinide             : Factor w/ 4 levels \"Down\",\"No\",\"Steady\",..: 2 2 2 2 2 2 2 2 2 2 ...\n",
      " $ chlorpropamide          : Factor w/ 4 levels \"Down\",\"No\",\"Steady\",..: 2 2 2 2 2 2 2 2 2 2 ...\n",
      " $ glimepiride             : Factor w/ 4 levels \"Down\",\"No\",\"Steady\",..: 2 2 2 2 2 2 3 2 2 2 ...\n",
      " $ acetohexamide           : Factor w/ 2 levels \"No\",\"Steady\": 1 1 1 1 1 1 1 1 1 1 ...\n",
      " $ glipizide               : Factor w/ 4 levels \"Down\",\"No\",\"Steady\",..: 2 2 3 2 3 2 2 2 3 2 ...\n",
      " $ glyburide               : Factor w/ 4 levels \"Down\",\"No\",\"Steady\",..: 2 2 2 2 2 2 2 3 2 2 ...\n",
      " $ tolbutamide             : Factor w/ 2 levels \"No\",\"Steady\": 1 1 1 1 1 1 1 1 1 1 ...\n",
      " $ pioglitazone            : Factor w/ 4 levels \"Down\",\"No\",\"Steady\",..: 2 2 2 2 2 2 2 2 2 2 ...\n",
      " $ rosiglitazone           : Factor w/ 4 levels \"Down\",\"No\",\"Steady\",..: 2 2 2 2 2 2 2 2 2 3 ...\n",
      " $ acarbose                : Factor w/ 4 levels \"Down\",\"No\",\"Steady\",..: 2 2 2 2 2 2 2 2 2 2 ...\n",
      " $ miglitol                : Factor w/ 4 levels \"Down\",\"No\",\"Steady\",..: 2 2 2 2 2 2 2 2 2 2 ...\n",
      " $ troglitazone            : Factor w/ 2 levels \"No\",\"Steady\": 1 1 1 1 1 1 1 1 1 1 ...\n",
      " $ tolazamide              : Factor w/ 3 levels \"No\",\"Steady\",..: 1 1 1 1 1 1 1 1 1 1 ...\n",
      " $ examide                 : Factor w/ 1 level \"No\": 1 1 1 1 1 1 1 1 1 1 ...\n",
      " $ citoglipton             : Factor w/ 1 level \"No\": 1 1 1 1 1 1 1 1 1 1 ...\n",
      " $ insulin                 : Factor w/ 4 levels \"Down\",\"No\",\"Steady\",..: 2 4 2 4 3 3 3 2 3 3 ...\n",
      " $ glyburide.metformin     : Factor w/ 4 levels \"Down\",\"No\",\"Steady\",..: 2 2 2 2 2 2 2 2 2 2 ...\n",
      " $ glipizide.metformin     : Factor w/ 2 levels \"No\",\"Steady\": 1 1 1 1 1 1 1 1 1 1 ...\n",
      " $ glimepiride.pioglitazone: Factor w/ 2 levels \"No\",\"Steady\": 1 1 1 1 1 1 1 1 1 1 ...\n",
      " $ metformin.rosiglitazone : Factor w/ 2 levels \"No\",\"Steady\": 1 1 1 1 1 1 1 1 1 1 ...\n",
      " $ metformin.pioglitazone  : Factor w/ 2 levels \"No\",\"Steady\": 1 1 1 1 1 1 1 1 1 1 ...\n",
      " $ change                  : Factor w/ 2 levels \"Ch\",\"No\": 2 1 2 1 1 2 1 2 1 1 ...\n",
      " $ diabetesMed             : Factor w/ 2 levels \"No\",\"Yes\": 1 2 2 2 2 2 2 2 2 2 ...\n",
      " $ readmitted              : Factor w/ 3 levels \"<30\",\">30\",\"NO\": 3 2 3 3 3 2 3 2 3 3 ...\n"
     ]
    }
   ],
   "source": [
    "head(diabete_data)\n",
    "str(diabete_data)"
   ]
  },
  {
   "cell_type": "code",
   "execution_count": 758,
   "metadata": {
    "ExecuteTime": {
     "end_time": "2019-11-25T04:03:09.809702Z",
     "start_time": "2019-11-25T04:03:07.366Z"
    }
   },
   "outputs": [],
   "source": [
    "diabete_data[diabete_data == '?'] <- NA\n",
    "diabete_data[diabete_data == 'None'] <- NA"
   ]
  },
  {
   "cell_type": "code",
   "execution_count": 759,
   "metadata": {
    "ExecuteTime": {
     "end_time": "2019-11-25T04:03:09.863501Z",
     "start_time": "2019-11-25T04:03:07.369Z"
    }
   },
   "outputs": [
    {
     "name": "stdout",
     "output_type": "stream",
     "text": [
      "Number of Missing Data for Each Variable:"
     ]
    },
    {
     "data": {
      "text/html": [
       "<dl class=dl-horizontal>\n",
       "\t<dt>encounter_id</dt>\n",
       "\t\t<dd>0</dd>\n",
       "\t<dt>patient_nbr</dt>\n",
       "\t\t<dd>0</dd>\n",
       "\t<dt>race</dt>\n",
       "\t\t<dd>2273</dd>\n",
       "\t<dt>gender</dt>\n",
       "\t\t<dd>0</dd>\n",
       "\t<dt>age</dt>\n",
       "\t\t<dd>0</dd>\n",
       "\t<dt>weight</dt>\n",
       "\t\t<dd>98569</dd>\n",
       "\t<dt>admission_type_id</dt>\n",
       "\t\t<dd>0</dd>\n",
       "\t<dt>discharge_disposition_id</dt>\n",
       "\t\t<dd>0</dd>\n",
       "\t<dt>admission_source_id</dt>\n",
       "\t\t<dd>0</dd>\n",
       "\t<dt>time_in_hospital</dt>\n",
       "\t\t<dd>0</dd>\n",
       "\t<dt>payer_code</dt>\n",
       "\t\t<dd>40256</dd>\n",
       "\t<dt>medical_specialty</dt>\n",
       "\t\t<dd>49949</dd>\n",
       "\t<dt>num_lab_procedures</dt>\n",
       "\t\t<dd>0</dd>\n",
       "\t<dt>num_procedures</dt>\n",
       "\t\t<dd>0</dd>\n",
       "\t<dt>num_medications</dt>\n",
       "\t\t<dd>0</dd>\n",
       "\t<dt>number_outpatient</dt>\n",
       "\t\t<dd>0</dd>\n",
       "\t<dt>number_emergency</dt>\n",
       "\t\t<dd>0</dd>\n",
       "\t<dt>number_inpatient</dt>\n",
       "\t\t<dd>0</dd>\n",
       "\t<dt>diag_1</dt>\n",
       "\t\t<dd>21</dd>\n",
       "\t<dt>diag_2</dt>\n",
       "\t\t<dd>358</dd>\n",
       "\t<dt>diag_3</dt>\n",
       "\t\t<dd>1423</dd>\n",
       "\t<dt>number_diagnoses</dt>\n",
       "\t\t<dd>0</dd>\n",
       "\t<dt>max_glu_serum</dt>\n",
       "\t\t<dd>96420</dd>\n",
       "\t<dt>A1Cresult</dt>\n",
       "\t\t<dd>84748</dd>\n",
       "\t<dt>metformin</dt>\n",
       "\t\t<dd>0</dd>\n",
       "\t<dt>repaglinide</dt>\n",
       "\t\t<dd>0</dd>\n",
       "\t<dt>nateglinide</dt>\n",
       "\t\t<dd>0</dd>\n",
       "\t<dt>chlorpropamide</dt>\n",
       "\t\t<dd>0</dd>\n",
       "\t<dt>glimepiride</dt>\n",
       "\t\t<dd>0</dd>\n",
       "\t<dt>acetohexamide</dt>\n",
       "\t\t<dd>0</dd>\n",
       "\t<dt>glipizide</dt>\n",
       "\t\t<dd>0</dd>\n",
       "\t<dt>glyburide</dt>\n",
       "\t\t<dd>0</dd>\n",
       "\t<dt>tolbutamide</dt>\n",
       "\t\t<dd>0</dd>\n",
       "\t<dt>pioglitazone</dt>\n",
       "\t\t<dd>0</dd>\n",
       "\t<dt>rosiglitazone</dt>\n",
       "\t\t<dd>0</dd>\n",
       "\t<dt>acarbose</dt>\n",
       "\t\t<dd>0</dd>\n",
       "\t<dt>miglitol</dt>\n",
       "\t\t<dd>0</dd>\n",
       "\t<dt>troglitazone</dt>\n",
       "\t\t<dd>0</dd>\n",
       "\t<dt>tolazamide</dt>\n",
       "\t\t<dd>0</dd>\n",
       "\t<dt>examide</dt>\n",
       "\t\t<dd>0</dd>\n",
       "\t<dt>citoglipton</dt>\n",
       "\t\t<dd>0</dd>\n",
       "\t<dt>insulin</dt>\n",
       "\t\t<dd>0</dd>\n",
       "\t<dt>glyburide.metformin</dt>\n",
       "\t\t<dd>0</dd>\n",
       "\t<dt>glipizide.metformin</dt>\n",
       "\t\t<dd>0</dd>\n",
       "\t<dt>glimepiride.pioglitazone</dt>\n",
       "\t\t<dd>0</dd>\n",
       "\t<dt>metformin.rosiglitazone</dt>\n",
       "\t\t<dd>0</dd>\n",
       "\t<dt>metformin.pioglitazone</dt>\n",
       "\t\t<dd>0</dd>\n",
       "\t<dt>change</dt>\n",
       "\t\t<dd>0</dd>\n",
       "\t<dt>diabetesMed</dt>\n",
       "\t\t<dd>0</dd>\n",
       "\t<dt>readmitted</dt>\n",
       "\t\t<dd>0</dd>\n",
       "</dl>\n"
      ],
      "text/latex": [
       "\\begin{description*}\n",
       "\\item[encounter\\textbackslash{}\\_id] 0\n",
       "\\item[patient\\textbackslash{}\\_nbr] 0\n",
       "\\item[race] 2273\n",
       "\\item[gender] 0\n",
       "\\item[age] 0\n",
       "\\item[weight] 98569\n",
       "\\item[admission\\textbackslash{}\\_type\\textbackslash{}\\_id] 0\n",
       "\\item[discharge\\textbackslash{}\\_disposition\\textbackslash{}\\_id] 0\n",
       "\\item[admission\\textbackslash{}\\_source\\textbackslash{}\\_id] 0\n",
       "\\item[time\\textbackslash{}\\_in\\textbackslash{}\\_hospital] 0\n",
       "\\item[payer\\textbackslash{}\\_code] 40256\n",
       "\\item[medical\\textbackslash{}\\_specialty] 49949\n",
       "\\item[num\\textbackslash{}\\_lab\\textbackslash{}\\_procedures] 0\n",
       "\\item[num\\textbackslash{}\\_procedures] 0\n",
       "\\item[num\\textbackslash{}\\_medications] 0\n",
       "\\item[number\\textbackslash{}\\_outpatient] 0\n",
       "\\item[number\\textbackslash{}\\_emergency] 0\n",
       "\\item[number\\textbackslash{}\\_inpatient] 0\n",
       "\\item[diag\\textbackslash{}\\_1] 21\n",
       "\\item[diag\\textbackslash{}\\_2] 358\n",
       "\\item[diag\\textbackslash{}\\_3] 1423\n",
       "\\item[number\\textbackslash{}\\_diagnoses] 0\n",
       "\\item[max\\textbackslash{}\\_glu\\textbackslash{}\\_serum] 96420\n",
       "\\item[A1Cresult] 84748\n",
       "\\item[metformin] 0\n",
       "\\item[repaglinide] 0\n",
       "\\item[nateglinide] 0\n",
       "\\item[chlorpropamide] 0\n",
       "\\item[glimepiride] 0\n",
       "\\item[acetohexamide] 0\n",
       "\\item[glipizide] 0\n",
       "\\item[glyburide] 0\n",
       "\\item[tolbutamide] 0\n",
       "\\item[pioglitazone] 0\n",
       "\\item[rosiglitazone] 0\n",
       "\\item[acarbose] 0\n",
       "\\item[miglitol] 0\n",
       "\\item[troglitazone] 0\n",
       "\\item[tolazamide] 0\n",
       "\\item[examide] 0\n",
       "\\item[citoglipton] 0\n",
       "\\item[insulin] 0\n",
       "\\item[glyburide.metformin] 0\n",
       "\\item[glipizide.metformin] 0\n",
       "\\item[glimepiride.pioglitazone] 0\n",
       "\\item[metformin.rosiglitazone] 0\n",
       "\\item[metformin.pioglitazone] 0\n",
       "\\item[change] 0\n",
       "\\item[diabetesMed] 0\n",
       "\\item[readmitted] 0\n",
       "\\end{description*}\n"
      ],
      "text/markdown": [
       "encounter_id\n",
       ":   0patient_nbr\n",
       ":   0race\n",
       ":   2273gender\n",
       ":   0age\n",
       ":   0weight\n",
       ":   98569admission_type_id\n",
       ":   0discharge_disposition_id\n",
       ":   0admission_source_id\n",
       ":   0time_in_hospital\n",
       ":   0payer_code\n",
       ":   40256medical_specialty\n",
       ":   49949num_lab_procedures\n",
       ":   0num_procedures\n",
       ":   0num_medications\n",
       ":   0number_outpatient\n",
       ":   0number_emergency\n",
       ":   0number_inpatient\n",
       ":   0diag_1\n",
       ":   21diag_2\n",
       ":   358diag_3\n",
       ":   1423number_diagnoses\n",
       ":   0max_glu_serum\n",
       ":   96420A1Cresult\n",
       ":   84748metformin\n",
       ":   0repaglinide\n",
       ":   0nateglinide\n",
       ":   0chlorpropamide\n",
       ":   0glimepiride\n",
       ":   0acetohexamide\n",
       ":   0glipizide\n",
       ":   0glyburide\n",
       ":   0tolbutamide\n",
       ":   0pioglitazone\n",
       ":   0rosiglitazone\n",
       ":   0acarbose\n",
       ":   0miglitol\n",
       ":   0troglitazone\n",
       ":   0tolazamide\n",
       ":   0examide\n",
       ":   0citoglipton\n",
       ":   0insulin\n",
       ":   0glyburide.metformin\n",
       ":   0glipizide.metformin\n",
       ":   0glimepiride.pioglitazone\n",
       ":   0metformin.rosiglitazone\n",
       ":   0metformin.pioglitazone\n",
       ":   0change\n",
       ":   0diabetesMed\n",
       ":   0readmitted\n",
       ":   0\n",
       "\n"
      ],
      "text/plain": [
       "            encounter_id              patient_nbr                     race \n",
       "                       0                        0                     2273 \n",
       "                  gender                      age                   weight \n",
       "                       0                        0                    98569 \n",
       "       admission_type_id discharge_disposition_id      admission_source_id \n",
       "                       0                        0                        0 \n",
       "        time_in_hospital               payer_code        medical_specialty \n",
       "                       0                    40256                    49949 \n",
       "      num_lab_procedures           num_procedures          num_medications \n",
       "                       0                        0                        0 \n",
       "       number_outpatient         number_emergency         number_inpatient \n",
       "                       0                        0                        0 \n",
       "                  diag_1                   diag_2                   diag_3 \n",
       "                      21                      358                     1423 \n",
       "        number_diagnoses            max_glu_serum                A1Cresult \n",
       "                       0                    96420                    84748 \n",
       "               metformin              repaglinide              nateglinide \n",
       "                       0                        0                        0 \n",
       "          chlorpropamide              glimepiride            acetohexamide \n",
       "                       0                        0                        0 \n",
       "               glipizide                glyburide              tolbutamide \n",
       "                       0                        0                        0 \n",
       "            pioglitazone            rosiglitazone                 acarbose \n",
       "                       0                        0                        0 \n",
       "                miglitol             troglitazone               tolazamide \n",
       "                       0                        0                        0 \n",
       "                 examide              citoglipton                  insulin \n",
       "                       0                        0                        0 \n",
       "     glyburide.metformin      glipizide.metformin glimepiride.pioglitazone \n",
       "                       0                        0                        0 \n",
       " metformin.rosiglitazone   metformin.pioglitazone                   change \n",
       "                       0                        0                        0 \n",
       "             diabetesMed               readmitted \n",
       "                       0                        0 "
      ]
     },
     "metadata": {},
     "output_type": "display_data"
    }
   ],
   "source": [
    "cat('Number of Missing Data for Each Variable:')\n",
    "sapply(diabete_data, function(x) sum(is.na(x)))"
   ]
  },
  {
   "cell_type": "code",
   "execution_count": 760,
   "metadata": {
    "ExecuteTime": {
     "end_time": "2019-11-25T04:03:09.907488Z",
     "start_time": "2019-11-25T04:03:07.371Z"
    }
   },
   "outputs": [
    {
     "data": {
      "text/plain": [
       "\n",
       "    1     2     3     4     5     6     7     8     9    10    11    13    14 \n",
       "29565  1104   187  3187   855  2264 57494    16   125     8     2     1     2 \n",
       "   17    20    22    25 \n",
       " 6781   161    12     2 "
      ]
     },
     "metadata": {},
     "output_type": "display_data"
    }
   ],
   "source": [
    "table(diabete_data$admission_source_id, exclude = NULL)"
   ]
  },
  {
   "cell_type": "code",
   "execution_count": 761,
   "metadata": {
    "ExecuteTime": {
     "end_time": "2019-11-25T04:03:09.974408Z",
     "start_time": "2019-11-25T04:03:07.373Z"
    }
   },
   "outputs": [],
   "source": [
    "# Missing values\n",
    "diabete_data$admission_source_id[diabete_data$admission_source_id == 9] <- NA\n",
    "diabete_data$admission_source_id[diabete_data$admission_source_id == 15] <- NA\n",
    "diabete_data$admission_source_id[diabete_data$admission_source_id == 17] <- NA\n",
    "diabete_data$admission_source_id[diabete_data$admission_source_id == 20] <- NA\n",
    "diabete_data$admission_source_id[diabete_data$admission_source_id == 21] <- NA"
   ]
  },
  {
   "cell_type": "code",
   "execution_count": 762,
   "metadata": {
    "ExecuteTime": {
     "end_time": "2019-11-25T04:03:10.020780Z",
     "start_time": "2019-11-25T04:03:07.374Z"
    }
   },
   "outputs": [],
   "source": [
    "# convert less common values to 'Other'\n",
    "diabete_data$admission_source_id[diabete_data$admission_source_id==8 \n",
    "                                | diabete_data$admission_source_id==10\n",
    "                                | diabete_data$admission_source_id==11\n",
    "                                | diabete_data$admission_source_id==13\n",
    "                                | diabete_data$admission_source_id==14\n",
    "                                | diabete_data$admission_source_id==22\n",
    "                                | diabete_data$admission_source_id==25] <- 0"
   ]
  },
  {
   "cell_type": "code",
   "execution_count": 763,
   "metadata": {
    "ExecuteTime": {
     "end_time": "2019-11-25T04:03:10.189524Z",
     "start_time": "2019-11-25T04:03:07.376Z"
    }
   },
   "outputs": [
    {
     "data": {
      "text/plain": [
       "\n",
       "    0     1     2     3     4     5     6     7  <NA> \n",
       "   43 29565  1104   187  3187   855  2264 57494  7067 "
      ]
     },
     "metadata": {},
     "output_type": "display_data"
    }
   ],
   "source": [
    "table(diabete_data$admission_source_id, exclude = NULL)"
   ]
  },
  {
   "cell_type": "code",
   "execution_count": 764,
   "metadata": {
    "ExecuteTime": {
     "end_time": "2019-11-25T04:03:10.466703Z",
     "start_time": "2019-11-25T04:03:07.378Z"
    }
   },
   "outputs": [],
   "source": [
    "# Create 'admission_source'\n",
    "diabete_data <- mutate(diabete_data, admission_source = ifelse(admission_source_id == 0, 'Other', \n",
    "                                            ifelse(admission_source_id == 1, 'Physician_Referral',\n",
    "                                            ifelse(admission_source_id == 2, 'Clinic_Referral',\n",
    "                                            ifelse(admission_source_id == 3, 'HMO_Referral',\n",
    "                                            ifelse(admission_source_id == 4, 'Transfer_from_Hospital',\n",
    "                                            ifelse(admission_source_id == 5, 'Transfer_from_SNF',\n",
    "                                            ifelse(admission_source_id == 6, 'Transfer_from_Healthcare_Facility',\n",
    "                                            ifelse(admission_source_id == 7, 'Emergency_Room', NA)))))))))"
   ]
  },
  {
   "cell_type": "code",
   "execution_count": 765,
   "metadata": {
    "ExecuteTime": {
     "end_time": "2019-11-25T04:03:10.534889Z",
     "start_time": "2019-11-25T04:03:07.380Z"
    }
   },
   "outputs": [
    {
     "data": {
      "text/html": [
       "<table>\n",
       "<thead><tr><th scope=col>admission_source_id</th><th scope=col>admission_source</th></tr></thead>\n",
       "<tbody>\n",
       "\t<tr><td>1                 </td><td>Physician_Referral</td></tr>\n",
       "\t<tr><td>7                 </td><td>Emergency_Room    </td></tr>\n",
       "\t<tr><td>7                 </td><td>Emergency_Room    </td></tr>\n",
       "\t<tr><td>7                 </td><td>Emergency_Room    </td></tr>\n",
       "\t<tr><td>7                 </td><td>Emergency_Room    </td></tr>\n",
       "\t<tr><td>2                 </td><td>Clinic_Referral   </td></tr>\n",
       "</tbody>\n",
       "</table>\n"
      ],
      "text/latex": [
       "\\begin{tabular}{r|ll}\n",
       " admission\\_source\\_id & admission\\_source\\\\\n",
       "\\hline\n",
       "\t 1                    & Physician\\_Referral\\\\\n",
       "\t 7                    & Emergency\\_Room    \\\\\n",
       "\t 7                    & Emergency\\_Room    \\\\\n",
       "\t 7                    & Emergency\\_Room    \\\\\n",
       "\t 7                    & Emergency\\_Room    \\\\\n",
       "\t 2                    & Clinic\\_Referral   \\\\\n",
       "\\end{tabular}\n"
      ],
      "text/markdown": [
       "\n",
       "| admission_source_id | admission_source |\n",
       "|---|---|\n",
       "| 1                  | Physician_Referral |\n",
       "| 7                  | Emergency_Room     |\n",
       "| 7                  | Emergency_Room     |\n",
       "| 7                  | Emergency_Room     |\n",
       "| 7                  | Emergency_Room     |\n",
       "| 2                  | Clinic_Referral    |\n",
       "\n"
      ],
      "text/plain": [
       "  admission_source_id admission_source  \n",
       "1 1                   Physician_Referral\n",
       "2 7                   Emergency_Room    \n",
       "3 7                   Emergency_Room    \n",
       "4 7                   Emergency_Room    \n",
       "5 7                   Emergency_Room    \n",
       "6 2                   Clinic_Referral   "
      ]
     },
     "metadata": {},
     "output_type": "display_data"
    }
   ],
   "source": [
    "head(diabete_data[c('admission_source_id', 'admission_source')])"
   ]
  },
  {
   "cell_type": "code",
   "execution_count": 766,
   "metadata": {
    "ExecuteTime": {
     "end_time": "2019-11-25T04:03:10.578506Z",
     "start_time": "2019-11-25T04:03:07.382Z"
    }
   },
   "outputs": [
    {
     "data": {
      "text/plain": [
       "\n",
       "    1     2     3     4     5     6     7     8 \n",
       "53990 18480 18869    10  4785  5291    21   320 "
      ]
     },
     "metadata": {},
     "output_type": "display_data"
    }
   ],
   "source": [
    "table(diabete_data$admission_type_id, exclude = NULL)"
   ]
  },
  {
   "cell_type": "code",
   "execution_count": 767,
   "metadata": {
    "ExecuteTime": {
     "end_time": "2019-11-25T04:03:10.610421Z",
     "start_time": "2019-11-25T04:03:07.384Z"
    }
   },
   "outputs": [],
   "source": [
    "# Missing values\n",
    "diabete_data$admission_type_id[diabete_data$admission_type_id == 5] <- NA # Not Available\n",
    "diabete_data$admission_type_id[diabete_data$admission_type_id == 6] <- NA # NULL\n",
    "diabete_data$admission_type_id[diabete_data$admission_type_id == 8] <- NA # Not Mapped"
   ]
  },
  {
   "cell_type": "code",
   "execution_count": 768,
   "metadata": {
    "ExecuteTime": {
     "end_time": "2019-11-25T04:03:10.643257Z",
     "start_time": "2019-11-25T04:03:07.387Z"
    }
   },
   "outputs": [],
   "source": [
    "# convert less common values to 'Other'\n",
    "diabete_data$admission_type_id[diabete_data$admission_type_id==4 \n",
    "                                | diabete_data$admission_type_id==7] <- 0"
   ]
  },
  {
   "cell_type": "code",
   "execution_count": 769,
   "metadata": {
    "ExecuteTime": {
     "end_time": "2019-11-25T04:03:10.799048Z",
     "start_time": "2019-11-25T04:03:07.388Z"
    }
   },
   "outputs": [
    {
     "data": {
      "text/plain": [
       "\n",
       "    0     1     2     3  <NA> \n",
       "   31 53990 18480 18869 10396 "
      ]
     },
     "metadata": {},
     "output_type": "display_data"
    }
   ],
   "source": [
    "table(diabete_data$admission_type_id, exclude = NULL)"
   ]
  },
  {
   "cell_type": "code",
   "execution_count": 770,
   "metadata": {
    "ExecuteTime": {
     "end_time": "2019-11-25T04:03:10.939240Z",
     "start_time": "2019-11-25T04:03:07.390Z"
    }
   },
   "outputs": [],
   "source": [
    "# Create 'admission_type'\n",
    "diabete_data <- mutate(diabete_data, admission_type = ifelse(admission_type_id == 0, 'Other', \n",
    "                                            ifelse(admission_type_id == 1, 'Emergency',\n",
    "                                            ifelse(admission_type_id == 2, 'Urgent',\n",
    "                                            ifelse(admission_type_id == 3, 'Elective', NA)))))"
   ]
  },
  {
   "cell_type": "code",
   "execution_count": 771,
   "metadata": {
    "ExecuteTime": {
     "end_time": "2019-11-25T04:03:10.986681Z",
     "start_time": "2019-11-25T04:03:07.392Z"
    }
   },
   "outputs": [
    {
     "data": {
      "text/html": [
       "<table>\n",
       "<thead><tr><th scope=col>admission_type_id</th><th scope=col>admission_type</th></tr></thead>\n",
       "<tbody>\n",
       "\t<tr><td>NA       </td><td>NA       </td></tr>\n",
       "\t<tr><td> 1       </td><td>Emergency</td></tr>\n",
       "\t<tr><td> 1       </td><td>Emergency</td></tr>\n",
       "\t<tr><td> 1       </td><td>Emergency</td></tr>\n",
       "\t<tr><td> 1       </td><td>Emergency</td></tr>\n",
       "\t<tr><td> 2       </td><td>Urgent   </td></tr>\n",
       "</tbody>\n",
       "</table>\n"
      ],
      "text/latex": [
       "\\begin{tabular}{r|ll}\n",
       " admission\\_type\\_id & admission\\_type\\\\\n",
       "\\hline\n",
       "\t NA        & NA       \\\\\n",
       "\t  1        & Emergency\\\\\n",
       "\t  1        & Emergency\\\\\n",
       "\t  1        & Emergency\\\\\n",
       "\t  1        & Emergency\\\\\n",
       "\t  2        & Urgent   \\\\\n",
       "\\end{tabular}\n"
      ],
      "text/markdown": [
       "\n",
       "| admission_type_id | admission_type |\n",
       "|---|---|\n",
       "| NA        | NA        |\n",
       "|  1        | Emergency |\n",
       "|  1        | Emergency |\n",
       "|  1        | Emergency |\n",
       "|  1        | Emergency |\n",
       "|  2        | Urgent    |\n",
       "\n"
      ],
      "text/plain": [
       "  admission_type_id admission_type\n",
       "1 NA                NA            \n",
       "2  1                Emergency     \n",
       "3  1                Emergency     \n",
       "4  1                Emergency     \n",
       "5  1                Emergency     \n",
       "6  2                Urgent        "
      ]
     },
     "metadata": {},
     "output_type": "display_data"
    }
   ],
   "source": [
    "head(diabete_data[c('admission_type_id', 'admission_type')])"
   ]
  },
  {
   "cell_type": "code",
   "execution_count": 772,
   "metadata": {
    "ExecuteTime": {
     "end_time": "2019-11-25T04:03:11.045357Z",
     "start_time": "2019-11-25T04:03:07.394Z"
    }
   },
   "outputs": [
    {
     "data": {
      "text/plain": [
       "\n",
       "    1     2     3     4     5     6     7     8     9    10    11    12    13 \n",
       "60234  2128 13954   815  1184 12902   623   108    21     6  1642     3   399 \n",
       "   14    15    16    17    18    19    20    22    23    24    25    27    28 \n",
       "  372    63    11    14  3691     8     2  1993   412    48   989     5   139 "
      ]
     },
     "metadata": {},
     "output_type": "display_data"
    }
   ],
   "source": [
    "table(diabete_data$discharge_disposition_id, exclude = NULL)"
   ]
  },
  {
   "cell_type": "code",
   "execution_count": 773,
   "metadata": {
    "ExecuteTime": {
     "end_time": "2019-11-25T04:03:11.094817Z",
     "start_time": "2019-11-25T04:03:07.396Z"
    }
   },
   "outputs": [],
   "source": [
    "# Missing values\n",
    "diabete_data$discharge_disposition_id[diabete_data$discharge_disposition_id == 18] <- NA # NULL\n",
    "diabete_data$discharge_disposition_id[diabete_data$discharge_disposition_id == 25] <- NA # Not Mapped\n",
    "diabete_data$discharge_disposition_id[diabete_data$discharge_disposition_id == 26] <- NA # Unknown/Invalid\n"
   ]
  },
  {
   "cell_type": "code",
   "execution_count": 774,
   "metadata": {
    "ExecuteTime": {
     "end_time": "2019-11-25T04:03:11.148821Z",
     "start_time": "2019-11-25T04:03:07.398Z"
    }
   },
   "outputs": [],
   "source": [
    "# convert less common values to 'Other'\n",
    "diabete_data$discharge_disposition_id[diabete_data$discharge_disposition_id==9 \n",
    "                                     | diabete_data$discharge_disposition_id==10\n",
    "                                     | diabete_data$discharge_disposition_id==12\n",
    "                                     | diabete_data$discharge_disposition_id==15\n",
    "                                     | diabete_data$discharge_disposition_id==16\n",
    "                                     | diabete_data$discharge_disposition_id==17\n",
    "                                     | diabete_data$discharge_disposition_id==19\n",
    "                                     | diabete_data$discharge_disposition_id==20\n",
    "                                     | diabete_data$discharge_disposition_id==24\n",
    "                                     | diabete_data$discharge_disposition_id==27] <- 0"
   ]
  },
  {
   "cell_type": "code",
   "execution_count": 775,
   "metadata": {
    "ExecuteTime": {
     "end_time": "2019-11-25T04:03:11.309272Z",
     "start_time": "2019-11-25T04:03:07.400Z"
    }
   },
   "outputs": [
    {
     "data": {
      "text/plain": [
       "\n",
       "    0     1     2     3     4     5     6     7     8    11    13    14    22 \n",
       "  181 60234  2128 13954   815  1184 12902   623   108  1642   399   372  1993 \n",
       "   23    28  <NA> \n",
       "  412   139  4680 "
      ]
     },
     "metadata": {},
     "output_type": "display_data"
    }
   ],
   "source": [
    "table(diabete_data$discharge_disposition_id, exclude = NULL)"
   ]
  },
  {
   "cell_type": "code",
   "execution_count": 776,
   "metadata": {
    "ExecuteTime": {
     "end_time": "2019-11-25T04:03:11.872846Z",
     "start_time": "2019-11-25T04:03:07.401Z"
    }
   },
   "outputs": [],
   "source": [
    "# Create 'discharge_disposition'\n",
    "diabete_data <- mutate(diabete_data, discharge_disposition = ifelse(discharge_disposition_id == 0, 'Other', \n",
    "                                            ifelse(discharge_disposition_id == 1, 'Home',\n",
    "                                            ifelse(discharge_disposition_id == 2, 'Short_term_hospital',\n",
    "                                            ifelse(discharge_disposition_id == 3, 'SNF',\n",
    "                                            ifelse(discharge_disposition_id == 4, 'ICF',\n",
    "                                            ifelse(discharge_disposition_id == 5, 'another_type_of_inpatient_care_institution',\n",
    "                                            ifelse(discharge_disposition_id == 6, 'Home_with_home_health_service',\n",
    "                                            ifelse(discharge_disposition_id == 7, 'Left_AMA',\n",
    "                                            ifelse(discharge_disposition_id == 8, 'home_under_care_of_home_IV_provider',\n",
    "                                            ifelse(discharge_disposition_id == 11, 'Expired',\n",
    "                                            ifelse(discharge_disposition_id == 13, 'Hospice/Home',\n",
    "                                            ifelse(discharge_disposition_id == 14, 'Hospice/Medical_facility',\n",
    "                                            ifelse(discharge_disposition_id == 22, 'Another_rehab_fac_including_rehab_units_of_a_hospital',\n",
    "                                            ifelse(discharge_disposition_id == 23, 'Long_term_care_hospital',\n",
    "                                            ifelse(discharge_disposition_id == 28, 'Psychiatric_hospital_of_psychiatric_distinct_part_unit_of_a_hospital',\n",
    "                                                   NA))))))))))))))))"
   ]
  },
  {
   "cell_type": "code",
   "execution_count": 777,
   "metadata": {
    "ExecuteTime": {
     "end_time": "2019-11-25T04:03:11.903281Z",
     "start_time": "2019-11-25T04:03:07.405Z"
    }
   },
   "outputs": [
    {
     "data": {
      "text/html": [
       "<table>\n",
       "<thead><tr><th scope=col>discharge_disposition_id</th><th scope=col>discharge_disposition</th></tr></thead>\n",
       "<tbody>\n",
       "\t<tr><td>NA  </td><td>NA  </td></tr>\n",
       "\t<tr><td> 1  </td><td>Home</td></tr>\n",
       "\t<tr><td> 1  </td><td>Home</td></tr>\n",
       "\t<tr><td> 1  </td><td>Home</td></tr>\n",
       "\t<tr><td> 1  </td><td>Home</td></tr>\n",
       "\t<tr><td> 1  </td><td>Home</td></tr>\n",
       "</tbody>\n",
       "</table>\n"
      ],
      "text/latex": [
       "\\begin{tabular}{r|ll}\n",
       " discharge\\_disposition\\_id & discharge\\_disposition\\\\\n",
       "\\hline\n",
       "\t NA   & NA  \\\\\n",
       "\t  1   & Home\\\\\n",
       "\t  1   & Home\\\\\n",
       "\t  1   & Home\\\\\n",
       "\t  1   & Home\\\\\n",
       "\t  1   & Home\\\\\n",
       "\\end{tabular}\n"
      ],
      "text/markdown": [
       "\n",
       "| discharge_disposition_id | discharge_disposition |\n",
       "|---|---|\n",
       "| NA   | NA   |\n",
       "|  1   | Home |\n",
       "|  1   | Home |\n",
       "|  1   | Home |\n",
       "|  1   | Home |\n",
       "|  1   | Home |\n",
       "\n"
      ],
      "text/plain": [
       "  discharge_disposition_id discharge_disposition\n",
       "1 NA                       NA                   \n",
       "2  1                       Home                 \n",
       "3  1                       Home                 \n",
       "4  1                       Home                 \n",
       "5  1                       Home                 \n",
       "6  1                       Home                 "
      ]
     },
     "metadata": {},
     "output_type": "display_data"
    }
   ],
   "source": [
    "head(diabete_data[c('discharge_disposition_id', 'discharge_disposition')])"
   ]
  },
  {
   "cell_type": "code",
   "execution_count": 778,
   "metadata": {
    "ExecuteTime": {
     "end_time": "2019-11-25T04:03:11.947616Z",
     "start_time": "2019-11-25T04:03:07.407Z"
    }
   },
   "outputs": [
    {
     "name": "stdout",
     "output_type": "stream",
     "text": [
      "Conversion complete!"
     ]
    }
   ],
   "source": [
    "diabete_data$admission_source <- as.factor(diabete_data$admission_source)\n",
    "diabete_data$admission_type <- as.factor(diabete_data$admission_type)\n",
    "diabete_data$discharge_disposition <- as.factor(diabete_data$discharge_disposition)\n",
    "\n",
    "cat('Conversion complete!')"
   ]
  },
  {
   "cell_type": "code",
   "execution_count": 779,
   "metadata": {
    "ExecuteTime": {
     "end_time": "2019-11-25T04:03:12.182357Z",
     "start_time": "2019-11-25T04:03:07.408Z"
    }
   },
   "outputs": [
    {
     "data": {
      "text/plain": [
       "  patient_nbr                     race                   gender     \n",
       " Min.   :      135   ?              :    0   Female         :54708  \n",
       " 1st Qu.: 23413221   AfricanAmerican:19210   Male           :47055  \n",
       " Median : 45505143   Asian          :  641   Unknown/Invalid:    3  \n",
       " Mean   : 54330401   Caucasian      :76099                          \n",
       " 3rd Qu.: 87545950   Hispanic       : 2037                          \n",
       " Max.   :189502619   Other          : 1506                          \n",
       "                     NA's           : 2273                          \n",
       "      age              weight      admission_type_id discharge_disposition_id\n",
       " [70-80):26068   [75-100) : 1336   Min.   :0.000     Min.   : 0.000          \n",
       " [60-70):22483   [50-75)  :  897   1st Qu.:1.000     1st Qu.: 1.000          \n",
       " [50-60):17256   [100-125):  625   Median :1.000     Median : 1.000          \n",
       " [80-90):17197   [125-150):  145   Mean   :1.615     Mean   : 2.924          \n",
       " [40-50): 9685   [25-50)  :   97   3rd Qu.:2.000     3rd Qu.: 3.000          \n",
       " [30-40): 3775   (Other)  :   97   Max.   :3.000     Max.   :28.000          \n",
       " (Other): 5302   NA's     :98569   NA's   :10396     NA's   :4680            \n",
       " admission_source_id time_in_hospital   payer_code   \n",
       " Min.   :0.000       Min.   : 1.000   MC     :32439  \n",
       " 1st Qu.:1.000       1st Qu.: 2.000   HM     : 6274  \n",
       " Median :7.000       Median : 4.000   SP     : 5007  \n",
       " Mean   :4.915       Mean   : 4.396   BC     : 4655  \n",
       " 3rd Qu.:7.000       3rd Qu.: 6.000   MD     : 3532  \n",
       " Max.   :7.000       Max.   :14.000   (Other): 9603  \n",
       " NA's   :7067                         NA's   :40256  \n",
       "              medical_specialty num_lab_procedures num_procedures\n",
       " InternalMedicine      :14635   Min.   :  1.0      Min.   :0.00  \n",
       " Emergency/Trauma      : 7565   1st Qu.: 31.0      1st Qu.:0.00  \n",
       " Family/GeneralPractice: 7440   Median : 44.0      Median :1.00  \n",
       " Cardiology            : 5352   Mean   : 43.1      Mean   :1.34  \n",
       " Surgery-General       : 3099   3rd Qu.: 57.0      3rd Qu.:2.00  \n",
       " (Other)               :13726   Max.   :132.0      Max.   :6.00  \n",
       " NA's                  :49949                                    \n",
       " num_medications number_outpatient number_emergency  number_inpatient \n",
       " Min.   : 1.00   Min.   : 0.0000   Min.   : 0.0000   Min.   : 0.0000  \n",
       " 1st Qu.:10.00   1st Qu.: 0.0000   1st Qu.: 0.0000   1st Qu.: 0.0000  \n",
       " Median :15.00   Median : 0.0000   Median : 0.0000   Median : 0.0000  \n",
       " Mean   :16.02   Mean   : 0.3694   Mean   : 0.1978   Mean   : 0.6356  \n",
       " 3rd Qu.:20.00   3rd Qu.: 0.0000   3rd Qu.: 0.0000   3rd Qu.: 1.0000  \n",
       " Max.   :81.00   Max.   :42.0000   Max.   :76.0000   Max.   :21.0000  \n",
       "                                                                      \n",
       "     diag_1          diag_2          diag_3      number_diagnoses max_glu_serum\n",
       " 428    : 6862   276    : 6752   250    :11555   Min.   : 1.000   >200: 1485   \n",
       " 414    : 6581   428    : 6662   401    : 8289   1st Qu.: 6.000   >300: 1264   \n",
       " 786    : 4016   250    : 6071   276    : 5175   Median : 8.000   None:    0   \n",
       " 410    : 3614   427    : 5036   428    : 4577   Mean   : 7.423   Norm: 2597   \n",
       " 486    : 3508   401    : 3736   427    : 3955   3rd Qu.: 9.000   NA's:96420   \n",
       " (Other):77164   (Other):73151   (Other):66792   Max.   :16.000                \n",
       " NA's   :   21   NA's   :  358   NA's   : 1423                                 \n",
       " A1Cresult     metformin     repaglinide     nateglinide     chlorpropamide \n",
       " >7  : 3812   Down  :  575   Down  :    45   Down  :    11   Down  :     1  \n",
       " >8  : 8216   No    :81778   No    :100227   No    :101063   No    :101680  \n",
       " None:    0   Steady:18346   Steady:  1384   Steady:   668   Steady:    79  \n",
       " Norm: 4990   Up    : 1067   Up    :   110   Up    :    24   Up    :     6  \n",
       " NA's:84748                                                                 \n",
       "                                                                            \n",
       "                                                                            \n",
       " glimepiride    acetohexamide    glipizide      glyburide     tolbutamide    \n",
       " Down  :  194   No    :101765   Down  :  560   Down  :  564   No    :101743  \n",
       " No    :96575   Steady:     1   No    :89080   No    :91116   Steady:    23  \n",
       " Steady: 4670                   Steady:11356   Steady: 9274                  \n",
       " Up    :  327                   Up    :  770   Up    :  812                  \n",
       "                                                                             \n",
       "                                                                             \n",
       "                                                                             \n",
       " pioglitazone   rosiglitazone    acarbose        miglitol      troglitazone   \n",
       " Down  :  118   Down  :   87   Down  :     3   Down  :     5   No    :101763  \n",
       " No    :94438   No    :95401   No    :101458   No    :101728   Steady:     3  \n",
       " Steady: 6976   Steady: 6100   Steady:   295   Steady:    31                  \n",
       " Up    :  234   Up    :  178   Up    :    10   Up    :     2                  \n",
       "                                                                              \n",
       "                                                                              \n",
       "                                                                              \n",
       "  tolazamide     examide     citoglipton   insulin      glyburide.metformin\n",
       " No    :101727   No:101766   No:101766   Down  :12218   Down  :     6      \n",
       " Steady:    38                           No    :47383   No    :101060      \n",
       " Up    :     1                           Steady:30849   Steady:   692      \n",
       "                                         Up    :11316   Up    :     8      \n",
       "                                                                           \n",
       "                                                                           \n",
       "                                                                           \n",
       " glipizide.metformin glimepiride.pioglitazone metformin.rosiglitazone\n",
       " No    :101753       No    :101765            No    :101764          \n",
       " Steady:    13       Steady:     1            Steady:     2          \n",
       "                                                                     \n",
       "                                                                     \n",
       "                                                                     \n",
       "                                                                     \n",
       "                                                                     \n",
       " metformin.pioglitazone change     diabetesMed readmitted \n",
       " No    :101765          Ch:47011   No :23403   <30:11357  \n",
       " Steady:     1          No:54755   Yes:78363   >30:35545  \n",
       "                                               NO :54864  \n",
       "                                                          \n",
       "                                                          \n",
       "                                                          \n",
       "                                                          \n",
       "                          admission_source   admission_type \n",
       " Emergency_Room                   :57494   Elective :18869  \n",
       " Physician_Referral               :29565   Emergency:53990  \n",
       " Transfer_from_Hospital           : 3187   Other    :   31  \n",
       " Transfer_from_Healthcare_Facility: 2264   Urgent   :18480  \n",
       " Clinic_Referral                  : 1104   NA's     :10396  \n",
       " (Other)                          : 1085                    \n",
       " NA's                             : 7067                    \n",
       "                                           discharge_disposition\n",
       " Home                                                 :60234    \n",
       " SNF                                                  :13954    \n",
       " Home_with_home_health_service                        :12902    \n",
       " Short_term_hospital                                  : 2128    \n",
       " Another_rehab_fac_including_rehab_units_of_a_hospital: 1993    \n",
       " (Other)                                              : 5875    \n",
       " NA's                                                 : 4680    "
      ]
     },
     "metadata": {},
     "output_type": "display_data"
    }
   ],
   "source": [
    "summary(diabete_data[,-1])"
   ]
  },
  {
   "cell_type": "code",
   "execution_count": 780,
   "metadata": {
    "ExecuteTime": {
     "end_time": "2019-11-25T04:03:12.245393Z",
     "start_time": "2019-11-25T04:03:07.412Z"
    }
   },
   "outputs": [
    {
     "data": {
      "text/html": [
       "<dl class=dl-horizontal>\n",
       "\t<dt>encounter_id</dt>\n",
       "\t\t<dd>0</dd>\n",
       "\t<dt>patient_nbr</dt>\n",
       "\t\t<dd>0</dd>\n",
       "\t<dt>race</dt>\n",
       "\t\t<dd>2273</dd>\n",
       "\t<dt>gender</dt>\n",
       "\t\t<dd>0</dd>\n",
       "\t<dt>age</dt>\n",
       "\t\t<dd>0</dd>\n",
       "\t<dt>weight</dt>\n",
       "\t\t<dd>98569</dd>\n",
       "\t<dt>admission_type_id</dt>\n",
       "\t\t<dd>10396</dd>\n",
       "\t<dt>discharge_disposition_id</dt>\n",
       "\t\t<dd>4680</dd>\n",
       "\t<dt>admission_source_id</dt>\n",
       "\t\t<dd>7067</dd>\n",
       "\t<dt>time_in_hospital</dt>\n",
       "\t\t<dd>0</dd>\n",
       "\t<dt>payer_code</dt>\n",
       "\t\t<dd>40256</dd>\n",
       "\t<dt>medical_specialty</dt>\n",
       "\t\t<dd>49949</dd>\n",
       "\t<dt>num_lab_procedures</dt>\n",
       "\t\t<dd>0</dd>\n",
       "\t<dt>num_procedures</dt>\n",
       "\t\t<dd>0</dd>\n",
       "\t<dt>num_medications</dt>\n",
       "\t\t<dd>0</dd>\n",
       "\t<dt>number_outpatient</dt>\n",
       "\t\t<dd>0</dd>\n",
       "\t<dt>number_emergency</dt>\n",
       "\t\t<dd>0</dd>\n",
       "\t<dt>number_inpatient</dt>\n",
       "\t\t<dd>0</dd>\n",
       "\t<dt>diag_1</dt>\n",
       "\t\t<dd>21</dd>\n",
       "\t<dt>diag_2</dt>\n",
       "\t\t<dd>358</dd>\n",
       "\t<dt>diag_3</dt>\n",
       "\t\t<dd>1423</dd>\n",
       "\t<dt>number_diagnoses</dt>\n",
       "\t\t<dd>0</dd>\n",
       "\t<dt>max_glu_serum</dt>\n",
       "\t\t<dd>96420</dd>\n",
       "\t<dt>A1Cresult</dt>\n",
       "\t\t<dd>84748</dd>\n",
       "\t<dt>metformin</dt>\n",
       "\t\t<dd>0</dd>\n",
       "\t<dt>repaglinide</dt>\n",
       "\t\t<dd>0</dd>\n",
       "\t<dt>nateglinide</dt>\n",
       "\t\t<dd>0</dd>\n",
       "\t<dt>chlorpropamide</dt>\n",
       "\t\t<dd>0</dd>\n",
       "\t<dt>glimepiride</dt>\n",
       "\t\t<dd>0</dd>\n",
       "\t<dt>acetohexamide</dt>\n",
       "\t\t<dd>0</dd>\n",
       "\t<dt>glipizide</dt>\n",
       "\t\t<dd>0</dd>\n",
       "\t<dt>glyburide</dt>\n",
       "\t\t<dd>0</dd>\n",
       "\t<dt>tolbutamide</dt>\n",
       "\t\t<dd>0</dd>\n",
       "\t<dt>pioglitazone</dt>\n",
       "\t\t<dd>0</dd>\n",
       "\t<dt>rosiglitazone</dt>\n",
       "\t\t<dd>0</dd>\n",
       "\t<dt>acarbose</dt>\n",
       "\t\t<dd>0</dd>\n",
       "\t<dt>miglitol</dt>\n",
       "\t\t<dd>0</dd>\n",
       "\t<dt>troglitazone</dt>\n",
       "\t\t<dd>0</dd>\n",
       "\t<dt>tolazamide</dt>\n",
       "\t\t<dd>0</dd>\n",
       "\t<dt>examide</dt>\n",
       "\t\t<dd>0</dd>\n",
       "\t<dt>citoglipton</dt>\n",
       "\t\t<dd>0</dd>\n",
       "\t<dt>insulin</dt>\n",
       "\t\t<dd>0</dd>\n",
       "\t<dt>glyburide.metformin</dt>\n",
       "\t\t<dd>0</dd>\n",
       "\t<dt>glipizide.metformin</dt>\n",
       "\t\t<dd>0</dd>\n",
       "\t<dt>glimepiride.pioglitazone</dt>\n",
       "\t\t<dd>0</dd>\n",
       "\t<dt>metformin.rosiglitazone</dt>\n",
       "\t\t<dd>0</dd>\n",
       "\t<dt>metformin.pioglitazone</dt>\n",
       "\t\t<dd>0</dd>\n",
       "\t<dt>change</dt>\n",
       "\t\t<dd>0</dd>\n",
       "\t<dt>diabetesMed</dt>\n",
       "\t\t<dd>0</dd>\n",
       "\t<dt>readmitted</dt>\n",
       "\t\t<dd>0</dd>\n",
       "\t<dt>admission_source</dt>\n",
       "\t\t<dd>7067</dd>\n",
       "\t<dt>admission_type</dt>\n",
       "\t\t<dd>10396</dd>\n",
       "\t<dt>discharge_disposition</dt>\n",
       "\t\t<dd>4680</dd>\n",
       "</dl>\n"
      ],
      "text/latex": [
       "\\begin{description*}\n",
       "\\item[encounter\\textbackslash{}\\_id] 0\n",
       "\\item[patient\\textbackslash{}\\_nbr] 0\n",
       "\\item[race] 2273\n",
       "\\item[gender] 0\n",
       "\\item[age] 0\n",
       "\\item[weight] 98569\n",
       "\\item[admission\\textbackslash{}\\_type\\textbackslash{}\\_id] 10396\n",
       "\\item[discharge\\textbackslash{}\\_disposition\\textbackslash{}\\_id] 4680\n",
       "\\item[admission\\textbackslash{}\\_source\\textbackslash{}\\_id] 7067\n",
       "\\item[time\\textbackslash{}\\_in\\textbackslash{}\\_hospital] 0\n",
       "\\item[payer\\textbackslash{}\\_code] 40256\n",
       "\\item[medical\\textbackslash{}\\_specialty] 49949\n",
       "\\item[num\\textbackslash{}\\_lab\\textbackslash{}\\_procedures] 0\n",
       "\\item[num\\textbackslash{}\\_procedures] 0\n",
       "\\item[num\\textbackslash{}\\_medications] 0\n",
       "\\item[number\\textbackslash{}\\_outpatient] 0\n",
       "\\item[number\\textbackslash{}\\_emergency] 0\n",
       "\\item[number\\textbackslash{}\\_inpatient] 0\n",
       "\\item[diag\\textbackslash{}\\_1] 21\n",
       "\\item[diag\\textbackslash{}\\_2] 358\n",
       "\\item[diag\\textbackslash{}\\_3] 1423\n",
       "\\item[number\\textbackslash{}\\_diagnoses] 0\n",
       "\\item[max\\textbackslash{}\\_glu\\textbackslash{}\\_serum] 96420\n",
       "\\item[A1Cresult] 84748\n",
       "\\item[metformin] 0\n",
       "\\item[repaglinide] 0\n",
       "\\item[nateglinide] 0\n",
       "\\item[chlorpropamide] 0\n",
       "\\item[glimepiride] 0\n",
       "\\item[acetohexamide] 0\n",
       "\\item[glipizide] 0\n",
       "\\item[glyburide] 0\n",
       "\\item[tolbutamide] 0\n",
       "\\item[pioglitazone] 0\n",
       "\\item[rosiglitazone] 0\n",
       "\\item[acarbose] 0\n",
       "\\item[miglitol] 0\n",
       "\\item[troglitazone] 0\n",
       "\\item[tolazamide] 0\n",
       "\\item[examide] 0\n",
       "\\item[citoglipton] 0\n",
       "\\item[insulin] 0\n",
       "\\item[glyburide.metformin] 0\n",
       "\\item[glipizide.metformin] 0\n",
       "\\item[glimepiride.pioglitazone] 0\n",
       "\\item[metformin.rosiglitazone] 0\n",
       "\\item[metformin.pioglitazone] 0\n",
       "\\item[change] 0\n",
       "\\item[diabetesMed] 0\n",
       "\\item[readmitted] 0\n",
       "\\item[admission\\textbackslash{}\\_source] 7067\n",
       "\\item[admission\\textbackslash{}\\_type] 10396\n",
       "\\item[discharge\\textbackslash{}\\_disposition] 4680\n",
       "\\end{description*}\n"
      ],
      "text/markdown": [
       "encounter_id\n",
       ":   0patient_nbr\n",
       ":   0race\n",
       ":   2273gender\n",
       ":   0age\n",
       ":   0weight\n",
       ":   98569admission_type_id\n",
       ":   10396discharge_disposition_id\n",
       ":   4680admission_source_id\n",
       ":   7067time_in_hospital\n",
       ":   0payer_code\n",
       ":   40256medical_specialty\n",
       ":   49949num_lab_procedures\n",
       ":   0num_procedures\n",
       ":   0num_medications\n",
       ":   0number_outpatient\n",
       ":   0number_emergency\n",
       ":   0number_inpatient\n",
       ":   0diag_1\n",
       ":   21diag_2\n",
       ":   358diag_3\n",
       ":   1423number_diagnoses\n",
       ":   0max_glu_serum\n",
       ":   96420A1Cresult\n",
       ":   84748metformin\n",
       ":   0repaglinide\n",
       ":   0nateglinide\n",
       ":   0chlorpropamide\n",
       ":   0glimepiride\n",
       ":   0acetohexamide\n",
       ":   0glipizide\n",
       ":   0glyburide\n",
       ":   0tolbutamide\n",
       ":   0pioglitazone\n",
       ":   0rosiglitazone\n",
       ":   0acarbose\n",
       ":   0miglitol\n",
       ":   0troglitazone\n",
       ":   0tolazamide\n",
       ":   0examide\n",
       ":   0citoglipton\n",
       ":   0insulin\n",
       ":   0glyburide.metformin\n",
       ":   0glipizide.metformin\n",
       ":   0glimepiride.pioglitazone\n",
       ":   0metformin.rosiglitazone\n",
       ":   0metformin.pioglitazone\n",
       ":   0change\n",
       ":   0diabetesMed\n",
       ":   0readmitted\n",
       ":   0admission_source\n",
       ":   7067admission_type\n",
       ":   10396discharge_disposition\n",
       ":   4680\n",
       "\n"
      ],
      "text/plain": [
       "            encounter_id              patient_nbr                     race \n",
       "                       0                        0                     2273 \n",
       "                  gender                      age                   weight \n",
       "                       0                        0                    98569 \n",
       "       admission_type_id discharge_disposition_id      admission_source_id \n",
       "                   10396                     4680                     7067 \n",
       "        time_in_hospital               payer_code        medical_specialty \n",
       "                       0                    40256                    49949 \n",
       "      num_lab_procedures           num_procedures          num_medications \n",
       "                       0                        0                        0 \n",
       "       number_outpatient         number_emergency         number_inpatient \n",
       "                       0                        0                        0 \n",
       "                  diag_1                   diag_2                   diag_3 \n",
       "                      21                      358                     1423 \n",
       "        number_diagnoses            max_glu_serum                A1Cresult \n",
       "                       0                    96420                    84748 \n",
       "               metformin              repaglinide              nateglinide \n",
       "                       0                        0                        0 \n",
       "          chlorpropamide              glimepiride            acetohexamide \n",
       "                       0                        0                        0 \n",
       "               glipizide                glyburide              tolbutamide \n",
       "                       0                        0                        0 \n",
       "            pioglitazone            rosiglitazone                 acarbose \n",
       "                       0                        0                        0 \n",
       "                miglitol             troglitazone               tolazamide \n",
       "                       0                        0                        0 \n",
       "                 examide              citoglipton                  insulin \n",
       "                       0                        0                        0 \n",
       "     glyburide.metformin      glipizide.metformin glimepiride.pioglitazone \n",
       "                       0                        0                        0 \n",
       " metformin.rosiglitazone   metformin.pioglitazone                   change \n",
       "                       0                        0                        0 \n",
       "             diabetesMed               readmitted         admission_source \n",
       "                       0                        0                     7067 \n",
       "          admission_type    discharge_disposition \n",
       "                   10396                     4680 "
      ]
     },
     "metadata": {},
     "output_type": "display_data"
    }
   ],
   "source": [
    "sapply(diabete_data, function(x) sum(is.na(x)))"
   ]
  },
  {
   "cell_type": "code",
   "execution_count": 781,
   "metadata": {
    "ExecuteTime": {
     "end_time": "2019-11-25T04:03:12.298786Z",
     "start_time": "2019-11-25T04:03:07.414Z"
    }
   },
   "outputs": [
    {
     "data": {
      "text/plain": [
       "\n",
       "     ?     10     11    110    112    114    115    117    131    133    135 \n",
       "     0      1     10      2     73      1      2      9      2      1     27 \n",
       "   136    141    142    143    145    146    147    148    149    150    151 \n",
       "     5      6      4      1      1      4      2      1      2     27     62 \n",
       "   152    153    154    155    156    157    158    160    161    162    163 \n",
       "    15    311     94     54     18    114     12      1     12    425      9 \n",
       "   164    170    171    172    173    174    175    179    180    182    183 \n",
       "     3      2     12      4      3    147      5      4      6    108     31 \n",
       "   184    185    187    188    189    191    192    193    194    195    196 \n",
       "    10    173      2    112    126     45      4     28      2      9     25 \n",
       "   197    198    199    200    201    202    203    204    205    207    208 \n",
       "   320    242     14     16     10    104     35     23     27      1      5 \n",
       "   210    211    212    214    215    216    217    218    219    220    223 \n",
       "     7    103      8      6      5      1      1    127      1     46      7 \n",
       "   225    226    227    228    229     23    230    233    235    236    237 \n",
       "    46     19     46      5      2      2      9     29     27      3      7 \n",
       "   238    239    240    241    242    244    245    246    250 250.01 250.02 \n",
       "    62     33      3     58     22     11      4      2    235     61    675 \n",
       "250.03  250.1 250.11 250.12 250.13  250.2 250.21 250.22 250.23  250.3 250.31 \n",
       "   201    313    625    417    851    114     12    156     29     20     15 \n",
       "250.32 250.33  250.4 250.41 250.42 250.43  250.5 250.51 250.52 250.53  250.6 \n",
       "    17     19    267     91     90     25      8      1      4      4   1183 \n",
       " 250.7  250.8 250.81 250.82 250.83  250.9 250.91 250.92 250.93    251    252 \n",
       "   871   1680    186    412     95      7      4     52     17     15     23 \n",
       "   253    255    261    262    263    266     27    271    272    273    274 \n",
       "    50     24      4      3     12      3      2      3      6      6     96 \n",
       "   275    276    277    278    279    280    281    282    283    284    285 \n",
       "    53   1889     34    379      2    319     20     68     28     61    365 \n",
       "   286    287    288    289    290    291    292    293    294    295    296 \n",
       "    45     86     92     19     86     91    107     56    116    447    896 \n",
       "   297    298    299      3    300    301    303    304    305    306    307 \n",
       "    14     64      1     13     90      4     69     32     25     10     25 \n",
       "   308    309     31    310    311    312    314    318    320    322    323 \n",
       "     3     37      3     12     57     18      1      1      7      2     10 \n",
       "   324    325    327    331    332    333    334    335    336    337    338 \n",
       "     6      1     24    192     55     35      2      9      3     10     20 \n",
       "    34    340    341    342    344    345    346    347    348    349     35 \n",
       "     7     45      7      8      6    113     82      1    152     35     10 \n",
       "   350    351    352    353    354    355    356    357    358    359     36 \n",
       "    11     30      2      6      9     17      5     20     14      8      2 \n",
       "   360    361    362    363    365    366    368    369    370    372    373 \n",
       "     2      5      8      1      1      1     12      2      3      1      1 \n",
       "   374    375    376    377    378    379     38    380    381    382    383 \n",
       "     3      1     12      3     14      5   1688     20      1      4      9 \n",
       "   384    385    386    388    389     39    391    394    395    396    397 \n",
       "     2      2    145      5      1      2      1     11      5     30      5 \n",
       "   398    401    402    403    404    405     41    410    411    412    413 \n",
       "   128    346    449    513    262      3      8   3614    254      1    117 \n",
       "   414    415    416    417     42    420    421    422    423    424    425 \n",
       "  6581    449     68      2     45     64     41      2     72    183     86 \n",
       "   426    427    428    429    430    431    432    433    434    435    436 \n",
       "   288   2766   6862     37     32    172     92    789   2028   1016    175 \n",
       "   437    438    440    441    442    443    444    445    446    447    448 \n",
       "    90     85    840    129     34    110    156      7     23     63      2 \n",
       "   451    452    453    454    455    456    457    458    459    461    462 \n",
       "    40      5    546      9     94     24     12    426     97     20     11 \n",
       "   463    464    465    466     47    470    471    473    474    475    477 \n",
       "     5     10     48    236     26      4      1     23      4     14      1 \n",
       "   478     48    480    481    482    483    485    486    487     49    490 \n",
       "    32      2     18     70    339      5     42   3508    102      5     90 \n",
       "   491    492    493    494    495    496      5    500    501    506    507 \n",
       "  2275     32   1056     24      5     80      9      2      3      3    610 \n",
       "   508    510    511    512    513    514    515    516    518    519     52 \n",
       "     5     33    270     46     16     43    126     34   1115     46      2 \n",
       "   521    522    523    524    526    527    528    529     53    530    531 \n",
       "    11     26      1      4      7     26     20      4     55    531    276 \n",
       "   532    533    534    535    536    537     54    540    541    542    543 \n",
       "   219     22     24    450    150    111     12    198      9      2      1 \n",
       "   550    551    552    553    555    556    557    558    560    562    564 \n",
       "    53      8    234    141     52     46    196    335    876    989    147 \n",
       "   565    566    567    568    569     57    570    571    572    573    574 \n",
       "    12     85     57     32    286      1      6    277    239     41    965 \n",
       "   575    576    577    578    579     58    580    581    582    583    584 \n",
       "   215     97   1057    663      7      2      2     19      2      5   1520 \n",
       "   585    586    588    590    591    592    593    594    595    596    598 \n",
       "    75     21      9    335     19    350    101     14     95     48      5 \n",
       "   599    600    601    602    603    604    605    607    608     61    610 \n",
       "  1595    207     16      3      3     37      1     21     68      1      2 \n",
       "   611    614    615    616    617    618    619    620    621    622    623 \n",
       "    34     21      2     24     19    161      5     47     22      5      4 \n",
       "   625    626    627    632    633    634    637    640    641    642    643 \n",
       "    64     79     18      3      4      2      1      1      9     64      5 \n",
       "   644    645    646    647    648    649    652    653    654    655    656 \n",
       "    27      2     10      5    285      1     13      2     92      5     21 \n",
       "   657    658    659     66    660    661    663    664    665    669    671 \n",
       "     2     26     32      6     12     25      7     20      3      3      1 \n",
       "   674    680    681    682    683    684    685    686    690    691    692 \n",
       "     4     14    112   2042      2      1      6      8      1      1      5 \n",
       "   693    694    695    696    698      7     70    700    703    704    705 \n",
       "    23      6     12      6      1      2     46      1      2      1     10 \n",
       "   706    707    708    709    710    711    714    715    716    717    718 \n",
       "     3    257      8      8     25     66     40   2151     55      7     17 \n",
       "   719    720    721    722    723    724    725    726    727    728    729 \n",
       "    55      4    178    771     77    440     12     91     48    127    106 \n",
       "   730    731    732    733    734    735    736    737    738    745    746 \n",
       "   230      4      2    367      4      2     14      8     56      7      7 \n",
       "   747     75    751    753    756    759     78    780    781    782    783 \n",
       "     7      2      5      5     15      5      9   2019    109     84     29 \n",
       "   784    785    786    787    788    789     79    790    791    792    793 \n",
       "   151    101   4016    267     39    561     86    144      1      5      4 \n",
       "   794    795    796    797    799      8    800    801    802    803    804 \n",
       "    26      3      6      3     68    515      6     33     30      3      1 \n",
       "   805    806    807    808    810    812    813    814    815    816    817 \n",
       "   188      6     83    136     10    235     83      5      7      9      1 \n",
       "    82    820    821    822    823    824    825    826    827    831    832 \n",
       "     7   1082    145     50    127    316     23      3      1      8      1 \n",
       "   833    834    835    836    837    838    839     84    840    842    843 \n",
       "     1      1      5      6      1      1      1      1     14      1     12 \n",
       "   844    845    846    847    848    850    851    852    853    854    860 \n",
       "    29     10      4     12      2     56     35    110     18      5     37 \n",
       "   861    862    863    864    865    866    867    868    870    871    873 \n",
       "    13      3      4      8      8      7     14      3      1      2     18 \n",
       "   875    878    879     88    880    881    882    883    885    886    890 \n",
       "     2      2      3      9      2      5     10      6      1      4      6 \n",
       "   891    892    893    895    897      9    903    904    906    911    913 \n",
       "    10     11      5      1      2     46      1      2      1      1      2 \n",
       "   914    915    916    917    919    920    921    922    923    924    928 \n",
       "     2      1      4      3      1     22      3     41      4     55      3 \n",
       "   933    934    935    936    939     94    941    942    944    945    952 \n",
       "    14      6     13      3      1      7      2      5      2     12      9 \n",
       "   955    957    958    959    962    963    964    965    966    967    968 \n",
       "     1      1     20     44     57      3      8     54     12     17      8 \n",
       "   969     97    970    971    972    973    974    975    976    977     98 \n",
       "    58      1      8      3     17      2      1      2      1     13      1 \n",
       "   980    982    983    986    987    988    989    990    991    992    994 \n",
       "     2      1      5      3      3      1     11      2      7      9      1 \n",
       "   995    996    997    998    999   E909    V07    V25    V26    V43    V45 \n",
       "    78   1967    424    784     29      1      1      1      2      1      5 \n",
       "   V51    V53    V54    V55    V56    V57    V58    V60    V63    V66    V67 \n",
       "     1     44     45     71     16   1207    228      1      8      2      1 \n",
       "   V70    V71 \n",
       "     1      9 "
      ]
     },
     "metadata": {},
     "output_type": "display_data"
    }
   ],
   "source": [
    "table(diabete_data$diag_1)"
   ]
  },
  {
   "cell_type": "code",
   "execution_count": 782,
   "metadata": {
    "ExecuteTime": {
     "end_time": "2019-11-25T04:03:12.344687Z",
     "start_time": "2019-11-25T04:03:07.416Z"
    },
    "scrolled": true
   },
   "outputs": [],
   "source": [
    "#diabete_data$diag_1[is.na(diabete_data$diag_1)] <- 0"
   ]
  },
  {
   "cell_type": "code",
   "execution_count": 783,
   "metadata": {
    "ExecuteTime": {
     "end_time": "2019-11-25T04:03:12.443584Z",
     "start_time": "2019-11-25T04:03:07.418Z"
    }
   },
   "outputs": [
    {
     "data": {
      "text/html": [
       "<table>\n",
       "<thead><tr><th scope=col>diag_1</th><th scope=col>diag_2</th><th scope=col>diag_3</th></tr></thead>\n",
       "<tbody>\n",
       "\t<tr><td>250.83</td><td>NA    </td><td>NA    </td></tr>\n",
       "\t<tr><td>276   </td><td>250.01</td><td>255   </td></tr>\n",
       "\t<tr><td>648   </td><td>250   </td><td>V27   </td></tr>\n",
       "\t<tr><td>8     </td><td>250.43</td><td>403   </td></tr>\n",
       "\t<tr><td>197   </td><td>157   </td><td>250   </td></tr>\n",
       "\t<tr><td>414   </td><td>411   </td><td>250   </td></tr>\n",
       "</tbody>\n",
       "</table>\n"
      ],
      "text/latex": [
       "\\begin{tabular}{r|lll}\n",
       " diag\\_1 & diag\\_2 & diag\\_3\\\\\n",
       "\\hline\n",
       "\t 250.83 & NA     & NA    \\\\\n",
       "\t 276    & 250.01 & 255   \\\\\n",
       "\t 648    & 250    & V27   \\\\\n",
       "\t 8      & 250.43 & 403   \\\\\n",
       "\t 197    & 157    & 250   \\\\\n",
       "\t 414    & 411    & 250   \\\\\n",
       "\\end{tabular}\n"
      ],
      "text/markdown": [
       "\n",
       "| diag_1 | diag_2 | diag_3 |\n",
       "|---|---|---|\n",
       "| 250.83 | NA     | NA     |\n",
       "| 276    | 250.01 | 255    |\n",
       "| 648    | 250    | V27    |\n",
       "| 8      | 250.43 | 403    |\n",
       "| 197    | 157    | 250    |\n",
       "| 414    | 411    | 250    |\n",
       "\n"
      ],
      "text/plain": [
       "  diag_1 diag_2 diag_3\n",
       "1 250.83 NA     NA    \n",
       "2 276    250.01 255   \n",
       "3 648    250    V27   \n",
       "4 8      250.43 403   \n",
       "5 197    157    250   \n",
       "6 414    411    250   "
      ]
     },
     "metadata": {},
     "output_type": "display_data"
    },
    {
     "data": {
      "text/html": [
       "'factor'"
      ],
      "text/latex": [
       "'factor'"
      ],
      "text/markdown": [
       "'factor'"
      ],
      "text/plain": [
       "[1] \"factor\""
      ]
     },
     "metadata": {},
     "output_type": "display_data"
    },
    {
     "data": {
      "text/html": [
       "'integer'"
      ],
      "text/latex": [
       "'integer'"
      ],
      "text/markdown": [
       "'integer'"
      ],
      "text/plain": [
       "[1] \"integer\""
      ]
     },
     "metadata": {},
     "output_type": "display_data"
    }
   ],
   "source": [
    "# These 3 variables are integers\n",
    "# Find a way to deal with icd9 = E-V\n",
    "head(diabete_data[c('diag_1', 'diag_2', 'diag_3')])\n",
    "class(diabete_data$diag_1)\n",
    "typeof(diabete_data$diag_1)\n",
    "\n",
    "diabete_data$diag_1 <- as.numeric(diabete_data$diag_1)\n",
    "# Current problem is that the variable is not being recorded as a number (so only when I do '786') is \n",
    "# it being classified correctly\n",
    "\n",
    "diabete_data <- mutate(diabete_data, diag_1 = ifelse(diag_1 == 786, 'Respiratory', 'Other'))\n",
    "\n",
    "# diabete_data <- mutate(diabete_data, diag_1 = ifelse((diag_1 >= 390 & diag_1 <= 459) | diag_1 == 785, 'Circulatory',\n",
    "#                                                       ifelse(diag_1 >= 460 & diag_1 <= 519, 'Respiratory',\n",
    "#                                                             ifelse(diag_1 == 786, 'Respiratory',\n",
    "#                                                                   ifelse(diag_1 >= 520 & diag_1 <= 579, 'Digestive',\n",
    "#                                                                         ifelse(diag_1 == 787, 'Digestive',\n",
    "#                                                                               ifelse(diag_1 >= 250 & diag_1 < 251, 'Diabetes',\n",
    "#                                                                                     ifelse(diag_1 >= 800 & diag_1 <= 999, 'Injury',\n",
    "#                                                                                           ifelse(diag_1 >= 710 & diag_1 <= 739, 'Musculoskeletal',\n",
    "#                                                                                                 ifelse(diag_1 >= 580 & diag_1 <= 629, 'Genitourinary',\n",
    "#                                                                                                       ifelse(diag_1 == 788, 'Genitourinary',\n",
    "#                                                                                                              ifelse(diag_1 >= 140 & diag_1 <= 239, 'Neoplasms',\n",
    "#                                                                                                                    ifelse(diag_1 == -1, NA, 'Other')))))))))))))\n"
   ]
  },
  {
   "cell_type": "code",
   "execution_count": 784,
   "metadata": {
    "ExecuteTime": {
     "end_time": "2019-11-25T04:03:12.498516Z",
     "start_time": "2019-11-25T04:03:07.421Z"
    }
   },
   "outputs": [
    {
     "data": {
      "text/plain": [
       "\n",
       " Other   <NA> \n",
       "101745     21 "
      ]
     },
     "metadata": {},
     "output_type": "display_data"
    }
   ],
   "source": [
    "table(diabete_data$diag_1, exclude = NULL)"
   ]
  },
  {
   "cell_type": "markdown",
   "metadata": {},
   "source": [
    "# Do missing data imputation; (do we impute before or after feature selection?)"
   ]
  },
  {
   "cell_type": "code",
   "execution_count": null,
   "metadata": {},
   "outputs": [],
   "source": []
  }
 ],
 "metadata": {
  "kernelspec": {
   "display_name": "R",
   "language": "R",
   "name": "ir"
  },
  "language_info": {
   "codemirror_mode": "r",
   "file_extension": ".r",
   "mimetype": "text/x-r-source",
   "name": "R",
   "pygments_lexer": "r",
   "version": "3.6.1"
  },
  "latex_envs": {
   "LaTeX_envs_menu_present": true,
   "autoclose": false,
   "autocomplete": true,
   "bibliofile": "biblio.bib",
   "cite_by": "apalike",
   "current_citInitial": 1,
   "eqLabelWithNumbers": true,
   "eqNumInitial": 1,
   "hotkeys": {
    "equation": "Ctrl-E",
    "itemize": "Ctrl-I"
   },
   "labels_anchors": false,
   "latex_user_defs": false,
   "report_style_numbering": false,
   "user_envs_cfg": false
  },
  "toc": {
   "base_numbering": 1,
   "nav_menu": {},
   "number_sections": true,
   "sideBar": true,
   "skip_h1_title": false,
   "title_cell": "Table of Contents",
   "title_sidebar": "Contents",
   "toc_cell": false,
   "toc_position": {},
   "toc_section_display": true,
   "toc_window_display": false
  }
 },
 "nbformat": 4,
 "nbformat_minor": 2
}
