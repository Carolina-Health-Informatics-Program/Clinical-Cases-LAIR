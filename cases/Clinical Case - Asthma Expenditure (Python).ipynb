{
 "cells": [
  {
   "cell_type": "markdown",
   "metadata": {
    "heading_collapsed": true
   },
   "source": [
    "# Introduction"
   ]
  },
  {
   "cell_type": "markdown",
   "metadata": {
    "cell_style": "center",
    "hidden": true
   },
   "source": [
    "<p align=\"justify\">Welcome! In this case we'll be exploring how to use advanced analytic and machine learning techniques to predict high risk asthmatic patients. \n",
    "\n",
    "<br>\n",
    "<br>\n",
    "<details>\n",
    "<summary>Some of the skills you'll explore are (Click to Expand):</summary>\n",
    "<ul>\n",
    "    <li>Python Programming</li>\n",
    "    <li>Data Cleaning</li>\n",
    "    <li>Descriptive Analysis</li>\n",
    "    <li>Data Visualization</li>\n",
    "    <li>Leveraging Domain Knowledge</li>\n",
    "    <li>Logistic Regression</li>\n",
    "    <li>Machine Learning</li>\n",
    "</details><br>\n",
    "\n",
    "Don't worry if you're unsure what some of these terms are. They'll be explained throughout the case. Let's begin! \n",
    "\n",
    "<img src=\"https://i.stack.imgur.com/zlAi2.png\" style=\"float: left; width: 35%; margin-right: 1%; margin-bottom: 0.5em;\">\n",
    "<img src=\"https://upload.wikimedia.org/wikipedia/commons/c/c3/Python-logo-notext.svg\" style=\"float: left; width: 25%; margin-left: 2%; margin-bottom: 0.5em;\">\n",
    "<img src=\"https://www.edvancer.in/wp-content/uploads/2015/10/f5bd5f87059fce20564f6e5eb562022e.png\" style=\"float: left; width: 27%; margin-left: 5%; margin-bottom: 0.5em;\">"
   ]
  },
  {
   "cell_type": "markdown",
   "metadata": {
    "hidden": true
   },
   "source": [
    "## Case Scenario"
   ]
  },
  {
   "cell_type": "markdown",
   "metadata": {
    "hidden": true
   },
   "source": [
    "Imagine you're a risk manager at the Blue Cross Blue Shield (a large health insurance organization). Over the last winter, reports show that the number of asthma cases increased. You're dismayed to discover that this has led to an increase in deaths and costs among these patients as well. It's critical that a targeted intervention is developed to lower mortality and cost among these patients but first you must identify high-risk patients. How can you do this?\n",
    "\n",
    "Continue through the case to find out. "
   ]
  },
  {
   "cell_type": "markdown",
   "metadata": {
    "heading_collapsed": true,
    "hidden": true
   },
   "source": [
    "### Clinical Background: Asthma"
   ]
  },
  {
   "cell_type": "markdown",
   "metadata": {
    "hidden": true
   },
   "source": [
    "Asthma is a respiratory disease which causes constriction and inflammation of the airways in the lungs. The disease can often cause acute airway constrictions sometimes known as “asthma attacks.” Clinicians refer to this airway restriction as “bronchospasm” and it results in cough, wheezing, shortness of breath, and extreme situations such as death from respiratory arrest. Currently, approximately 10 people die from asthma attacks per day in the US.\n",
    "\n",
    "<p align=\"center\">\n",
    "  <img width=\"400\" height=\"200\" src=\"https://asthma.net/wp-content/uploads/2015/04/ASTHMATIC-AIRWAYS.jpg\">\n",
    "</p>\n",
    "\n",
    "\n",
    "Asthma requires a test of lung function known as spirometry to make a definitive diagnosis. Treatment often consists of inhaled medications that help combat airway constriction and inflammation. Patients that do not get timely and appropriate treatment can need avoidable emergency care and hospitalizations. These visits can add thousands of dollars per year in avoidable medical expenses to the US healthcare system. The medical costs among patients with uncontrolled asthma are 3-times higher than controlled patients."
   ]
  },
  {
   "cell_type": "markdown",
   "metadata": {
    "heading_collapsed": true,
    "hidden": true
   },
   "source": [
    "## Using Jupyter Notebook "
   ]
  },
  {
   "cell_type": "markdown",
   "metadata": {
    "hidden": true
   },
   "source": [
    "Before we begin the case, we need to know how to use Jupyter Notebook and run the case. First, look for the the `Run` button. The location of the `Run` button is shown below and can be found in the tool bar above. "
   ]
  },
  {
   "cell_type": "markdown",
   "metadata": {
    "cell_style": "center",
    "hidden": true
   },
   "source": [
    "**The** `Run` **Button**\n",
    "<img src=\"https://i.imgur.com/jr4dpLW.png\">"
   ]
  },
  {
   "cell_type": "markdown",
   "metadata": {
    "hidden": true
   },
   "source": [
    "The cell below is a code cell. You will be running numerous code cells like the one below throughout the case. Select the cell and select the run button above. "
   ]
  },
  {
   "cell_type": "code",
   "execution_count": null,
   "metadata": {
    "ExecuteTime": {
     "end_time": "2020-01-27T21:52:04.890163Z",
     "start_time": "2020-01-27T21:52:04.870815Z"
    },
    "cell_style": "center",
    "hidden": true,
    "scrolled": false
   },
   "outputs": [],
   "source": [
    "# This is an example of a code cell\n",
    "print('Congratulations!')\n",
    "print('You\\'ve run your first code cell.')\n"
   ]
  },
  {
   "cell_type": "markdown",
   "metadata": {
    "hidden": true
   },
   "source": [
    "<img width = 50 height = 50 style=\"float: left; margin-right: 10px;\" src=\"https://upload.wikimedia.org/wikipedia/commons/b/b9/Stop_sign_dark_red.svg\">Stop! If you have not learned to run a code cell, restart this section. You will not be able to go through the case at all if you are unable to run code cells. Otherwise, it's time to meet our data!"
   ]
  },
  {
   "cell_type": "markdown",
   "metadata": {
    "heading_collapsed": true,
    "hidden": true
   },
   "source": [
    "## Meeting Our Data"
   ]
  },
  {
   "attachments": {
    "image.png": {
     "image/png": "[encoded data removed]"
    }
   },
   "cell_type": "markdown",
   "metadata": {
    "hidden": true
   },
   "source": [
    "We'll be using the Medical Expenditure Panel Survey (MEPS) to predict Asthma Expenditure. Identifying an appropriate data source is critical in Analytics. Without the right dataset, your analysis is doomed from the start. \n",
    "\n",
    "![image.png](attachment:image.png)"
   ]
  },
  {
   "cell_type": "markdown",
   "metadata": {
    "heading_collapsed": true,
    "hidden": true
   },
   "source": [
    "### What is MEPS?"
   ]
  },
  {
   "cell_type": "markdown",
   "metadata": {
    "hidden": true
   },
   "source": [
    "MEPS is a national survey that seeks to capture as much data as possible about healthcare costs and use within the United States. Below is a detailed definition. \n",
    "\n",
    "> The Medical Expenditure Panel Survey (MEPS) is a set of large-scale surveys of families and individuals, their medical providers, and employers across the United States. MEPS is the most complete source of data on the cost and use of health care and health insurance coverage. - [meps.ahrq.gov](https://meps.ahrq.gov/mepsweb/)\n",
    "\n",
    "MEPS contains over 2000 variables, detailed expenditure data, and comprehensive medical information. In other words, it has all the ingredients to build our prediction model!\n"
   ]
  },
  {
   "cell_type": "markdown",
   "metadata": {
    "heading_collapsed": true,
    "hidden": true
   },
   "source": [
    "### Necessary Data Files"
   ]
  },
  {
   "cell_type": "markdown",
   "metadata": {
    "cell_style": "split",
    "hidden": true
   },
   "source": [
    "<p style=\"text-align: center;\">h128.csv</p>\n",
    "\n",
    "***\n",
    "Contains data on medical conditions for 2009 MEPS samples"
   ]
  },
  {
   "cell_type": "markdown",
   "metadata": {
    "cell_style": "split",
    "hidden": true
   },
   "source": [
    "<p style=\"text-align: center;\">h129.csv</p>\n",
    "\n",
    "***\n",
    "Contains main information for 2009 MEPS samples, information includes survey data, demographics, and expenditure data"
   ]
  },
  {
   "cell_type": "markdown",
   "metadata": {
    "hidden": true
   },
   "source": [
    "Both data files will already be downloaded as part of our case. They can also be accessed directly from the MEPS website. 'h128' can be accessed [here](https://meps.ahrq.gov/mepsweb/data_stats/download_data_files_detail.jsp?cboPufNumber=HC-128). 'h129' can be accessed [here](https://meps.ahrq.gov/mepsweb/data_stats/download_data_files_detail.jsp?cboPufNumber=HC-129)"
   ]
  },
  {
   "cell_type": "markdown",
   "metadata": {
    "heading_collapsed": true
   },
   "source": [
    "# Setup (Do Not Skip)"
   ]
  },
  {
   "cell_type": "markdown",
   "metadata": {
    "hidden": true
   },
   "source": [
    "Run the code below to set up specific settings for our case. Do not skip this step!"
   ]
  },
  {
   "cell_type": "code",
   "execution_count": 1,
   "metadata": {
    "ExecuteTime": {
     "end_time": "2020-03-04T19:33:16.748442Z",
     "start_time": "2020-03-04T19:33:13.987661Z"
    },
    "hidden": true,
    "scrolled": false
   },
   "outputs": [
    {
     "name": "stdout",
     "output_type": "stream",
     "text": [
      "Setup complete!\n"
     ]
    }
   ],
   "source": [
    "# Calling external libraries for additional functionality\n",
    "import pandas as pd\n",
    "import numpy as np\n",
    "import matplotlib.pyplot as plt\n",
    "import seaborn as sns\n",
    "import random\n",
    "import scipy\n",
    "import statsmodels.api as sm\n",
    "from sklearn.metrics import roc_curve\n",
    "from sklearn.metrics import auc\n",
    "from sklearn.linear_model import LogisticRegression\n",
    "from sklearn.model_selection import train_test_split\n",
    "from sklearn.metrics import confusion_matrix\n",
    "from sklearn.metrics import classification_report\n",
    "from pandas.api.types import CategoricalDtype \n",
    "plt.style.use('fivethirtyeight')\n",
    "# Increase max number of columns displayed in output tables\n",
    "pd.set_option(\"display.max_columns\",2000)\n",
    "# Make sure your ML results are the same\n",
    "random.seed(10)\n",
    "print('Setup complete!')"
   ]
  },
  {
   "cell_type": "markdown",
   "metadata": {
    "heading_collapsed": true
   },
   "source": [
    "# Cleaning Our Data"
   ]
  },
  {
   "cell_type": "markdown",
   "metadata": {
    "hidden": true
   },
   "source": [
    "The first step in any analytic project is to clean our data. This is a critical step that commonly overlooked within data science projects. However, without properly processed data, it won't matter how sophisticated our analysis is. A common saying in data science is \"Junk in, Junk out\". "
   ]
  },
  {
   "cell_type": "markdown",
   "metadata": {
    "heading_collapsed": true,
    "hidden": true
   },
   "source": [
    "## Reading Our data"
   ]
  },
  {
   "cell_type": "markdown",
   "metadata": {
    "hidden": true
   },
   "source": [
    "We'll read in our data so we can clean and use it. "
   ]
  },
  {
   "cell_type": "code",
   "execution_count": null,
   "metadata": {
    "ExecuteTime": {
     "end_time": "2020-01-27T21:52:39.434776Z",
     "start_time": "2020-01-27T21:52:09.750754Z"
    },
    "cell_style": "center",
    "hidden": true,
    "scrolled": false
   },
   "outputs": [],
   "source": [
    "# Note: Unicode Transformation Format – 8 (UTF-8) is a standard to encode characters in different languages\n",
    "print('Data loading, please wait')\n",
    "condition=pd.read_csv(\"data/h128.csv\",  encoding=\"UTF-8\", sep=\",\")\n",
    "consolidation=pd.read_csv(\"data/h129.csv\",  encoding=\"UTF-8\", sep=\",\")\n",
    "print('Data loaded!')"
   ]
  },
  {
   "cell_type": "markdown",
   "metadata": {
    "heading_collapsed": true,
    "hidden": true
   },
   "source": [
    "## Selecting Asthmatic Patients"
   ]
  },
  {
   "cell_type": "markdown",
   "metadata": {
    "hidden": true
   },
   "source": [
    "The MEPS data contains individuals with numerous conditions. We need to select only those individuals with asthma. We will identify these patients based on their International Classification of Disease, Ninth Revision (ICD-9) code. A ICD-9 code is simply a code that represents a diagnoses."
   ]
  },
  {
   "cell_type": "markdown",
   "metadata": {
    "hidden": true
   },
   "source": [
    "First, let's see how many total observations there are to establish a baseline."
   ]
  },
  {
   "cell_type": "code",
   "execution_count": null,
   "metadata": {
    "ExecuteTime": {
     "end_time": "2020-01-27T21:52:39.468421Z",
     "start_time": "2020-01-27T21:52:39.455787Z"
    },
    "code_folding": [],
    "hidden": true,
    "scrolled": false
   },
   "outputs": [],
   "source": [
    "# Display the total number of data instances\n",
    "print(\"The number of entire data instances are:\", condition.shape[0])"
   ]
  },
  {
   "cell_type": "markdown",
   "metadata": {
    "hidden": true
   },
   "source": [
    "It looks like there are 117342 total observations. Now let's select only asthmatic patients from those observations. We will identify these patients based on their international Classification of Disease, Ninth Revision (ICD-9) code. A ICD-9 code is simply a code that represents a diagnoses."
   ]
  },
  {
   "cell_type": "code",
   "execution_count": null,
   "metadata": {
    "ExecuteTime": {
     "end_time": "2020-01-27T21:52:39.585993Z",
     "start_time": "2020-01-27T21:52:39.493036Z"
    },
    "hidden": true,
    "scrolled": false
   },
   "outputs": [],
   "source": [
    "# Select data instances related to asthma (493)\n",
    "condition=condition.loc[condition['ICD9CODX']=='493']\n",
    "print('Data selected')"
   ]
  },
  {
   "cell_type": "markdown",
   "metadata": {
    "hidden": true
   },
   "source": [
    "Now let's remove duplicates and check how many observations are now in the dataset."
   ]
  },
  {
   "cell_type": "code",
   "execution_count": null,
   "metadata": {
    "ExecuteTime": {
     "end_time": "2020-01-27T21:52:39.656945Z",
     "start_time": "2020-01-27T21:52:39.603157Z"
    },
    "hidden": true,
    "scrolled": false
   },
   "outputs": [],
   "source": [
    "# Removing duplicates\n",
    "condition=condition.drop_duplicates(subset='DUPERSID')\n",
    "\n",
    "# Show the number of selected data instances\n",
    "print(\"The number of selected data instances are:\", condition.shape[0],\"\\n\")"
   ]
  },
  {
   "cell_type": "markdown",
   "metadata": {
    "hidden": true
   },
   "source": [
    "We've gone from 117342 to 2375 observations!"
   ]
  },
  {
   "cell_type": "markdown",
   "metadata": {
    "heading_collapsed": true,
    "hidden": true
   },
   "source": [
    "### More About ICD Codes"
   ]
  },
  {
   "cell_type": "markdown",
   "metadata": {
    "hidden": true
   },
   "source": [
    "ICD was created to promote international comparability in the collection, processing, classification, and presentation of mortality statistics. Each code is supposed to uniquely describe a particular diagnosis in detail. For instance, asthma has an ICD-9 code of 493. The latest iteration of ICD is actually ICD-11. ICD codes are used for a wide variety of task including processing health insurance claims, tracking disease epidemics, and compiling worldwide mortality statistics. ICD codes are used everywhere within the United States ranging from the smallest clinics to large government health agencies. They are essential to healthcare in the United States and many places worldwide. Below are some ICD code exsamples. \n",
    "\n",
    "<img src=\"https://www.miramedgs.com/images/TheCodeMay2015Chart3.2.png\">"
   ]
  },
  {
   "cell_type": "markdown",
   "metadata": {
    "heading_collapsed": true,
    "hidden": true
   },
   "source": [
    "## Merging the Data"
   ]
  },
  {
   "cell_type": "markdown",
   "metadata": {
    "hidden": true
   },
   "source": [
    "Next, we need to combine our data. Remember, our data was originally from two files (`h128` and `h129`). `h128` contains medical information about each patient. It's the data we used to select asthmatic patients. `h129` contains the main information we are interested in including survey data, demographics, and expenditure. We will combine both our data tables into one single table. This will make it much simpler to analyze the data.  "
   ]
  },
  {
   "cell_type": "code",
   "execution_count": null,
   "metadata": {
    "ExecuteTime": {
     "end_time": "2020-01-27T21:52:41.005529Z",
     "start_time": "2020-01-27T21:52:39.664428Z"
    },
    "hidden": true,
    "scrolled": false
   },
   "outputs": [],
   "source": [
    "# Merging the data\n",
    "aggregation=consolidation.merge(condition)\n",
    "print('Data merged!')"
   ]
  },
  {
   "cell_type": "markdown",
   "metadata": {
    "hidden": true
   },
   "source": [
    "Let's confirm our data was successfully merged"
   ]
  },
  {
   "cell_type": "code",
   "execution_count": null,
   "metadata": {
    "ExecuteTime": {
     "end_time": "2020-01-27T21:52:44.065004Z",
     "start_time": "2020-01-27T21:52:41.016794Z"
    },
    "hidden": true,
    "scrolled": false
   },
   "outputs": [],
   "source": [
    "# Display the first few rows of the data\n",
    "print('Displaying first few rows of merged data:\\n')\n",
    "aggregation.head()"
   ]
  },
  {
   "cell_type": "markdown",
   "metadata": {
    "heading_collapsed": true,
    "hidden": true
   },
   "source": [
    "### What Just Happened?"
   ]
  },
  {
   "cell_type": "markdown",
   "metadata": {
    "hidden": true
   },
   "source": [
    "We just combined our two data tables in a process known as a merge. In a merge, the datasets you seek to merge should have one or more common variables between them. The data is then joined by this variable with accompanying values for variables specified with information specified by all datasets in one table. \n",
    "<img src=\"http://www.datasciencemadesimple.com/wp-content/uploads/2017/04/column-binding.png\" align=\"center\" style=\"width: 50%; margin-bottom: 0.5em; margin-top: 0.5em;\">\n",
    "The data was joined based on a field named `DUPERSID`. This variable is simply an ID for each of the observations."
   ]
  },
  {
   "cell_type": "markdown",
   "metadata": {
    "heading_collapsed": true,
    "hidden": true
   },
   "source": [
    "## Removing Extraneous Variables"
   ]
  },
  {
   "cell_type": "markdown",
   "metadata": {
    "hidden": true
   },
   "source": [
    "Now we will drop the variables that are not relevant to our analysis. Normally, variable selection is a careful process informed by clinical/domain knowledge. For the purpose of this case, variable selection has been done for you. We will explore variable selection in more detail in Section 4: Identifying Relevant Variables. "
   ]
  },
  {
   "cell_type": "markdown",
   "metadata": {
    "hidden": true
   },
   "source": [
    "Let's examine the number of variables before variable selection. "
   ]
  },
  {
   "cell_type": "code",
   "execution_count": null,
   "metadata": {
    "ExecuteTime": {
     "end_time": "2020-01-27T21:52:46.599284Z",
     "start_time": "2020-01-27T21:52:44.077034Z"
    },
    "hidden": true,
    "scrolled": false
   },
   "outputs": [],
   "source": [
    "# Drop variables that are not important for our analysis.\n",
    "print(\"The number of variables before selecting are:\", aggregation.shape[1])\n",
    "print(\"Displaying the the first few rows of the data:\\n\")\n",
    "aggregation.head()"
   ]
  },
  {
   "cell_type": "markdown",
   "metadata": {
    "hidden": true
   },
   "source": [
    "Our data contains 1937 variables! Lets see how many remain after variable selection. "
   ]
  },
  {
   "cell_type": "code",
   "execution_count": null,
   "metadata": {
    "ExecuteTime": {
     "end_time": "2020-01-27T21:52:46.886308Z",
     "start_time": "2020-01-27T21:52:46.698734Z"
    },
    "hidden": true,
    "scrolled": false
   },
   "outputs": [],
   "source": [
    "# The following variables are the names of variables that are relevant.\n",
    "asthma_variables = [\"ASACUT53\", \"ASMRCN53\", \"ASPKFL53\", \"ASPREV53\", \"ASTHAGED\", \"ASTHDX\", \"ASTHEP53\",\n",
    "                      \"ASWNFL53\", \"ADSMOK42\", \"ASPRIN53\", \"CHBRON53\", \"EMPHAGED\", \"EMPHDX\" ]\n",
    "\n",
    "general_variables = [\"ADAPPT42\", \"ADEGMC42\", \"ADEXPL42\", \"ADHECR42\", \"ADNSMK42\", \"ADPRTM42\", \"AGE09X\", \"BLIND42\",\n",
    "                       \"BMINDX53\", \"CHAPPT42\", \"CHBMIX42\",  \"CHECK53\", \"DSFL0853\", \"DSFL0953\", \"DSFLNV53\", \"EXRCIS53\", \n",
    "                       \"PHYSCL42\", \"FAMINC09\", \"INS09X\", \"INSCOV09\", \"UNINS09\", \"OCCCAT53\", \"PERWT09F\", \"PMDLAY42\", \n",
    "                       \"PMUNAB42\", \"PMUNPR42\",\"PMUNRS42\", \"POVLEV09\", \"RACETHNX\", \"REGION09\", \"RTHLTH53\", \"SEX\", \n",
    "                       \"SPOUIN09\", \"TOTEXP09\", \"TTLP09X\", \"UNABLE53\", \"WKINBD53\", \"WLKDIF53\", \"WLKLIM53\" ]\n",
    "\n",
    "essential_variables = [\"DUPERSID\",\"CONDIDX\"]\n",
    "\n",
    "all_variables =essential_variables+asthma_variables+general_variables\n",
    "\n",
    "## Select variables\n",
    "aggregation = aggregation[all_variables]\n",
    "\n",
    "print(\"The number of variables after selecting are:\", aggregation.shape[1])\n",
    "\n",
    "# Display first few rows\n",
    "print(\"Displaying the the first few rows of the data:\")\n",
    "aggregation.head()"
   ]
  },
  {
   "cell_type": "markdown",
   "metadata": {
    "hidden": true
   },
   "source": [
    "We now have only 54 variables! This is a much more manageable amount. "
   ]
  },
  {
   "cell_type": "markdown",
   "metadata": {
    "heading_collapsed": true,
    "hidden": true
   },
   "source": [
    "## Creating Our New Dataset"
   ]
  },
  {
   "cell_type": "markdown",
   "metadata": {
    "hidden": true
   },
   "source": [
    "Finally, we need to create a file of newly cleaned data"
   ]
  },
  {
   "cell_type": "code",
   "execution_count": null,
   "metadata": {
    "ExecuteTime": {
     "end_time": "2020-01-27T21:52:47.313685Z",
     "start_time": "2020-01-27T21:52:46.934334Z"
    },
    "hidden": true,
    "scrolled": false
   },
   "outputs": [],
   "source": [
    "# Create a new file with the cleaned data\n",
    "aggregation.to_csv('data/aggregation.csv',index=False)\n",
    "print('File Created!')"
   ]
  },
  {
   "cell_type": "markdown",
   "metadata": {
    "hidden": true
   },
   "source": [
    "With our cleaned dataset, we can now explore our data more deeply. In the next section, we will be investigating how we can identify clinically relevant variables for building our prediction model using descriptive analysis and data visualization. "
   ]
  },
  {
   "cell_type": "markdown",
   "metadata": {
    "heading_collapsed": true
   },
   "source": [
    "# Exploratory Data Analysis"
   ]
  },
  {
   "cell_type": "markdown",
   "metadata": {
    "hidden": true
   },
   "source": [
    "To build a robust prediction model, we need to identify clinically relevant variables (also known as 'features'). In this section, we'll be identifying important features through a combination of clinical knowledge, descriptive analysis, and data visualization. We'll be demonstrating these concepts through exploring how aspirin usage impacts health expenditure among asthma patients. "
   ]
  },
  {
   "cell_type": "markdown",
   "metadata": {
    "heading_collapsed": true,
    "hidden": true
   },
   "source": [
    "### Why Can't We Just Use More Variables?"
   ]
  },
  {
   "cell_type": "markdown",
   "metadata": {
    "hidden": true
   },
   "source": [
    "One issue you might be wondering about is why we even need to select variables. Why not just use all of the variables? After all, more data lead to better models, right? This is a common misconception that even experienced analysts need to watch out for. Including too many features in your prediction model can lead to what is known as 'overfitting'. Overfitting is essentially where you build a model that adheres too closely to your current data set and is unable to predict observations that are not from your current data set. In other words, it is where you develop a model that tuned too closely to your current data, and is not generalizable to outside data sources. \n",
    "\n",
    "<img src=\"https://3gp10c1vpy442j63me73gy3s-wpengine.netdna-ssl.com/wp-content/uploads/2018/03/Screen-Shot-2018-03-22-at-11.22.15-AM-e1527613915658.png\" align=\"center\" style=\"width: 50%; margin-bottom: 0.5em; margin-top: 0.5em;\">"
   ]
  },
  {
   "cell_type": "markdown",
   "metadata": {
    "heading_collapsed": true,
    "hidden": true
   },
   "source": [
    "## Reading Our New Data"
   ]
  },
  {
   "cell_type": "markdown",
   "metadata": {
    "hidden": true
   },
   "source": [
    "To begin, we'll need to read our new data file created during the data cleaning process titled 'aggregation.csv'. "
   ]
  },
  {
   "cell_type": "code",
   "execution_count": null,
   "metadata": {
    "ExecuteTime": {
     "end_time": "2020-01-27T21:52:47.385740Z",
     "start_time": "2020-01-27T21:52:47.326440Z"
    },
    "hidden": true,
    "scrolled": false
   },
   "outputs": [],
   "source": [
    "# Reading our data file\n",
    "print('Data loading, please wait')\n",
    "aggregation = pd.read_csv(\"data/aggregation.csv\",  encoding=\"UTF-8\", sep=\",\")\n",
    "print('Data loaded!')"
   ]
  },
  {
   "cell_type": "markdown",
   "metadata": {
    "hidden": true
   },
   "source": [
    "Let's confirm our loaded data is correct. It's good practice to check your data throughout an analysis. "
   ]
  },
  {
   "cell_type": "code",
   "execution_count": null,
   "metadata": {
    "ExecuteTime": {
     "end_time": "2020-01-27T21:52:47.501210Z",
     "start_time": "2020-01-27T21:52:47.397719Z"
    },
    "hidden": true,
    "scrolled": false
   },
   "outputs": [],
   "source": [
    "# Display the first few rows of the data\n",
    "print(\"Displaying the the first few rows of the data:\")\n",
    "aggregation.head()"
   ]
  },
  {
   "cell_type": "markdown",
   "metadata": {
    "heading_collapsed": true,
    "hidden": true
   },
   "source": [
    "## Why Aspirin?"
   ]
  },
  {
   "cell_type": "markdown",
   "metadata": {
    "hidden": true
   },
   "source": [
    "Why are we even looking at aspirin in the first place? This is because of Aspirin Exacerbated Respiratory Disease (AERD), which is a disease associated with asthma patients who take aspirin. Since this condition is more common among aspirin-taking asthma patients compared to non-aspirin-taking asthma patients, we expect costs to be higher among patients who take aspirin. The variable which details aspirin usage is `ASPRIN53`.\n",
    "\n",
    "> Note: This is an example of why clinical or domain knowledge is so important. Having this information about aspirin allowed us to hone in on this variable from nearly 2000 total. Can you imagine how inefficient it would be if you had to search through every variable individually?"
   ]
  },
  {
   "cell_type": "markdown",
   "metadata": {
    "hidden": true
   },
   "source": [
    "Let’s begin by examining the distribution for the aspirin variable. "
   ]
  },
  {
   "cell_type": "code",
   "execution_count": null,
   "metadata": {
    "ExecuteTime": {
     "end_time": "2020-01-27T21:52:47.539777Z",
     "start_time": "2020-01-27T21:52:47.515462Z"
    },
    "hidden": true,
    "scrolled": false
   },
   "outputs": [],
   "source": [
    "# See the distribution of aspirin usage\n",
    "aggregation.ASPRIN53.value_counts()"
   ]
  },
  {
   "cell_type": "markdown",
   "metadata": {
    "hidden": true
   },
   "source": [
    "We can see the current data labels are not very informative. Figuring out how variables are specified or 'coded' is commonly solved through consulting documentation and accompanies datasets. "
   ]
  },
  {
   "cell_type": "markdown",
   "metadata": {
    "hidden": true
   },
   "source": [
    " From the [MEPS website](https://meps.ahrq.gov/mepsweb/data_stats/download_data_files_codebook.jsp?PUFId=H129&varName=ASPRIN53) we can see what each of the labels represent. Most useful for our purpose are the labels listed below:\n",
    "- 1 = Yes (to take aspirin every other day)\n",
    "- 2 = No (to take aspirin every other day)"
   ]
  },
  {
   "cell_type": "markdown",
   "metadata": {
    "hidden": true
   },
   "source": [
    "Lets take this information and code the data in a more meaningful way. "
   ]
  },
  {
   "cell_type": "code",
   "execution_count": null,
   "metadata": {
    "ExecuteTime": {
     "end_time": "2020-01-27T21:52:47.577759Z",
     "start_time": "2020-01-27T21:52:47.554800Z"
    },
    "hidden": true,
    "scrolled": false
   },
   "outputs": [],
   "source": [
    "# Recode Data\n",
    "aggregation.loc[aggregation.ASPRIN53 == 1, 'aspirin_use']='Use Aspirin'\n",
    "aggregation.loc[aggregation.ASPRIN53 == 2, 'aspirin_use']='No Aspirin'"
   ]
  },
  {
   "cell_type": "markdown",
   "metadata": {
    "hidden": true
   },
   "source": [
    "We will now randomly sample 250 individuals from each of our subsetted data. This will allow us to make an equitable comparison between the two groups when we compare their distributions. "
   ]
  },
  {
   "cell_type": "code",
   "execution_count": null,
   "metadata": {
    "ExecuteTime": {
     "end_time": "2020-01-27T21:52:47.659981Z",
     "start_time": "2020-01-27T21:52:47.584733Z"
    },
    "hidden": true,
    "scrolled": false
   },
   "outputs": [],
   "source": [
    "# Subset Aspirin Usage\n",
    "aspirin_sample=aggregation[(aggregation.ASPRIN53==1) | (aggregation.ASPRIN53==2)]\n",
    "aspirin_sample.shape\n",
    "\n",
    "# Sample 250 for each group\n",
    "# Seeding so we obtain the same outcome when we randomly sample\n",
    "first_part=aspirin_sample[aspirin_sample.ASPRIN53==1].sample(n=250,random_state=30)\n",
    "second_part=aspirin_sample[aspirin_sample.ASPRIN53==2].sample(n=250,random_state=20)\n",
    "aspirin_sample=pd.concat([first_part,second_part])\n",
    "print(aspirin_sample.aspirin_use.value_counts())\n",
    "print('Data Sampled Succesfully')\n"
   ]
  },
  {
   "cell_type": "markdown",
   "metadata": {
    "hidden": true
   },
   "source": [
    "The two cells below will return the annual healthcare expenditure for each randomly sampled individual for both of our subsets. "
   ]
  },
  {
   "cell_type": "code",
   "execution_count": null,
   "metadata": {
    "ExecuteTime": {
     "end_time": "2020-01-27T21:52:47.683667Z",
     "start_time": "2020-01-27T21:52:47.667723Z"
    },
    "cell_style": "split",
    "hidden": true,
    "scrolled": true
   },
   "outputs": [],
   "source": [
    "print(aspirin_sample.TOTEXP09[aspirin_sample.aspirin_use=='Use Aspirin'])"
   ]
  },
  {
   "cell_type": "code",
   "execution_count": null,
   "metadata": {
    "ExecuteTime": {
     "end_time": "2020-01-27T21:52:47.702656Z",
     "start_time": "2020-01-27T21:52:47.689508Z"
    },
    "cell_style": "split",
    "hidden": true,
    "scrolled": true
   },
   "outputs": [],
   "source": [
    "print(aspirin_sample.TOTEXP09[aspirin_sample.aspirin_use == 'No Aspirin'])"
   ]
  },
  {
   "cell_type": "markdown",
   "metadata": {
    "hidden": true
   },
   "source": [
    "Not very easy to compare or see patterns, is it? This is where we will employ descriptive analysis and data visualization to make sense of this information. "
   ]
  },
  {
   "cell_type": "markdown",
   "metadata": {
    "heading_collapsed": true,
    "hidden": true
   },
   "source": [
    "### Additional Information About AERD"
   ]
  },
  {
   "cell_type": "markdown",
   "metadata": {
    "hidden": true
   },
   "source": [
    "Aspirin Exacerbated Respiratory Disease (AERD) is a medical condition consisting of three\n",
    "key features: asthma, chronic/recurrent rhinosinusitis (inflammations of sinuses and nasal cavity), and\n",
    "nasal polyps. The symptoms are a result of an abnormal reaction from the body's immune system,\n",
    "known as a hypersensitivity reaction, to aspirin. The disorder is thought to be caused by an anomaly in the metabolism of a substance known as arachidonic acid. Medications, such as aspirin, block the COX-1 enzyme, a critical enzyme involved in arachidonic acid metabolism. This leads to increased production of proinflammatory cysteinyl leukotrienes, a series of chemicals involved in the body's inflammatory response. This resulting overproduction causes severe exacerbations of asthma and allergy-like symptoms.\n",
    "\n",
    "<img src=\"https://naveenbhandarkarmd.com/wp-content/uploads/2018/08/Aspirin-Exacerbated-Respiratory-Disease-Dr.-Naveen-Bhandarkar-1.jpg\" align=\"center\" style=\"width: 30%; margin-bottom: 0.5em; margin-top: 0.5em;\">"
   ]
  },
  {
   "cell_type": "markdown",
   "metadata": {
    "heading_collapsed": true,
    "hidden": true
   },
   "source": [
    "## Aspirin Expenditure Summary Statistics"
   ]
  },
  {
   "cell_type": "markdown",
   "metadata": {
    "hidden": true
   },
   "source": [
    "Let's take a look at some summary statistics of the aspirin-taking group. \n",
    "\n",
    "> Note: the below figures express annual expenditure in dollars per person"
   ]
  },
  {
   "cell_type": "code",
   "execution_count": null,
   "metadata": {
    "ExecuteTime": {
     "end_time": "2020-01-27T21:52:47.765727Z",
     "start_time": "2020-01-27T21:52:47.722385Z"
    },
    "hidden": true,
    "scrolled": true
   },
   "outputs": [],
   "source": [
    "print(\"Mean:\", aspirin_sample.TOTEXP09[aspirin_sample.aspirin_use == 'Use Aspirin'].mean())\n",
    "print(\"SD\", aspirin_sample.TOTEXP09[aspirin_sample.aspirin_use == 'Use Aspirin'].std()) \n",
    "print(\"Median\", aspirin_sample.TOTEXP09[aspirin_sample.aspirin_use == 'Use Aspirin'].median())\n",
    "print(\"IQR:\", scipy.stats.iqr(aspirin_sample.TOTEXP09[aspirin_sample.aspirin_use == 'Use Aspirin']))"
   ]
  },
  {
   "cell_type": "markdown",
   "metadata": {
    "hidden": true
   },
   "source": [
    "Le'ts take a look at some summary statistics of the non-aspirin-taking group. "
   ]
  },
  {
   "cell_type": "code",
   "execution_count": null,
   "metadata": {
    "ExecuteTime": {
     "end_time": "2020-01-27T21:52:47.798946Z",
     "start_time": "2020-01-27T21:52:47.772658Z"
    },
    "hidden": true,
    "scrolled": false
   },
   "outputs": [],
   "source": [
    "print(\"Mean:\", aspirin_sample.TOTEXP09[aspirin_sample.aspirin_use == 'No Aspirin'].mean())\n",
    "print(\"SD\", aspirin_sample.TOTEXP09[aspirin_sample.aspirin_use == 'No Aspirin'].std())\n",
    "print(\"Median\", aspirin_sample.TOTEXP09[aspirin_sample.aspirin_use == 'No Aspirin'].median())\n",
    "print(\"IQR:\", scipy.stats.iqr(aspirin_sample.TOTEXP09[aspirin_sample.aspirin_use == 'No Aspirin']))"
   ]
  },
  {
   "cell_type": "markdown",
   "metadata": {
    "hidden": true
   },
   "source": [
    "Already, we can see that the mean and median annual expenditure is higher in the aspirin-taking group. We can also visually capture the difference using data visualization. "
   ]
  },
  {
   "cell_type": "markdown",
   "metadata": {
    "hidden": true,
    "solution2": "hidden",
    "solution2_first": true
   },
   "source": [
    "**Food For Thought:** When should you use median compared to mean?"
   ]
  },
  {
   "cell_type": "markdown",
   "metadata": {
    "hidden": true,
    "solution2": "hidden"
   },
   "source": [
    "When your data falls in a normal distribution, it is better to use the mean. However, if your data includes extreme values or is skewed, it is better to use the median. \n",
    "\n",
    "<img src=\"https://keydifferences.com/wp-content/uploads/2016/04/mean-vs-median.jpg\" align=\"center\" style=\"margin-bottom: 0.5em; margin-top: 0.5em;\">"
   ]
  },
  {
   "cell_type": "markdown",
   "metadata": {
    "heading_collapsed": true,
    "hidden": true
   },
   "source": [
    "## Visualizing Aspirin Costs With A Histogram"
   ]
  },
  {
   "cell_type": "markdown",
   "metadata": {
    "hidden": true
   },
   "source": [
    "We can compare the shapes of the distributions for each group using a histogram. Below is the histogram for the aspirin-taking sample. "
   ]
  },
  {
   "cell_type": "code",
   "execution_count": null,
   "metadata": {
    "ExecuteTime": {
     "end_time": "2020-01-27T21:52:48.848061Z",
     "start_time": "2020-01-27T21:52:47.817403Z"
    },
    "hidden": true
   },
   "outputs": [],
   "source": [
    "# create the histogram\n",
    "plt.figure(figsize=(10,10))\n",
    "plt.hist(aspirin_sample[aspirin_sample.aspirin_use == 'No Aspirin'].TOTEXP09,bins=20,alpha=0.5, label='No Aspirin')\n",
    "plt.hist(aspirin_sample[aspirin_sample.aspirin_use == 'Use Aspirin'].TOTEXP09, bins=20,alpha=0.5, label='Use Aspirin')\n",
    "plt.legend()\n",
    "plt.xlabel('Annual Healthcare Expenditure')\n",
    "plt.ylabel('Frequency Count')\n",
    "plt.xlim(0,80000)\n",
    "plt.show()"
   ]
  },
  {
   "cell_type": "markdown",
   "metadata": {
    "hidden": true
   },
   "source": [
    "We can see a difference between the groups. However, it's hard to tell the differences between the two groups due to the x-axis scale. Let's zoom into the first portion of the chart (0 - 40,000) and add reference line (representing mean or median). "
   ]
  },
  {
   "cell_type": "markdown",
   "metadata": {
    "hidden": true,
    "solution2": "hidden",
    "solution2_first": true
   },
   "source": [
    "Is the plot for the two histograms normal or skewed? Should we use median or mean then?"
   ]
  },
  {
   "cell_type": "markdown",
   "metadata": {
    "ExecuteTime": {
     "end_time": "2020-01-27T16:09:45.139326Z",
     "start_time": "2020-01-27T16:09:45.126207Z"
    },
    "hidden": true,
    "solution2": "hidden"
   },
   "source": [
    "The two plots are positively skewed. This indicates that using median would be better compared to mean. If you're unsure why, please review section 4.3"
   ]
  },
  {
   "cell_type": "code",
   "execution_count": null,
   "metadata": {
    "ExecuteTime": {
     "end_time": "2020-01-27T21:52:50.305254Z",
     "start_time": "2020-01-27T21:52:48.863381Z"
    },
    "hidden": true
   },
   "outputs": [],
   "source": [
    "# Create Median Line\n",
    "plt.figure(figsize=(10,10))\n",
    "plt.hist(aspirin_sample[aspirin_sample.aspirin_use == 'No Aspirin'].TOTEXP09,bins=40,alpha=0.5, label='No Aspirin')\n",
    "plt.hist(aspirin_sample[aspirin_sample.aspirin_use == 'Use Aspirin'].TOTEXP09, bins=40,alpha=0.5, label='Use Aspirin')\n",
    "plt.axvline(aspirin_sample[aspirin_sample.aspirin_use=='No Aspirin'].TOTEXP09.median(), color='#00BFC4',linestyle='dashed',label='Median:No Aspirin')\n",
    "plt.axvline(aspirin_sample[aspirin_sample.aspirin_use=='Use Aspirin'].TOTEXP09.median(), color='#F8766D',linestyle='dashed',label='Median:Use Aspirin')\n",
    "plt.legend()\n",
    "plt.xlabel('Annual Healthcare Expenditure')\n",
    "plt.ylabel('Frequency Count')\n",
    "plt.xlim(0,40000)\n",
    "plt.show()"
   ]
  },
  {
   "cell_type": "markdown",
   "metadata": {
    "hidden": true
   },
   "source": [
    "Much better! Our histogram now shows a clear difference in distribution between the two samples. We can see that the distribution of the group that takes aspirin skews right towards higher annual expenditures."
   ]
  },
  {
   "cell_type": "markdown",
   "metadata": {
    "heading_collapsed": true,
    "hidden": true
   },
   "source": [
    "### Why are the frequency counts lower in the second histogram?"
   ]
  },
  {
   "cell_type": "markdown",
   "metadata": {
    "hidden": true
   },
   "source": [
    "You may have noticed the frequency counts are lower in the 2nd histogram compared to the first. This is due to the fact that histogram are heavily influenced by the number of bins (bars) displayed. Did our data change? It actually did not. This surprisingly large effect was only from focusing on a smaller range of health care expenditures. Keep this in mind when interpreting and using histograms!\n",
    "\n",
    "<img src=\"https://statistics.laerd.com/statistical-guides/img/histogram-4.png\" style=\"width: 80%; margin-bottom: 0.5em;\">\n"
   ]
  },
  {
   "cell_type": "markdown",
   "metadata": {
    "heading_collapsed": true,
    "hidden": true
   },
   "source": [
    "## Visualizing Aspirin Costs With A Boxplot"
   ]
  },
  {
   "cell_type": "markdown",
   "metadata": {
    "hidden": true
   },
   "source": [
    "We can also visually compare the difference in the shapes of the distribution using a box plot. Additional information about interpreting a boxplot can be found in section 4.5.1."
   ]
  },
  {
   "cell_type": "code",
   "execution_count": null,
   "metadata": {
    "ExecuteTime": {
     "end_time": "2020-01-27T21:52:51.489709Z",
     "start_time": "2020-01-27T21:52:50.318397Z"
    },
    "hidden": true
   },
   "outputs": [],
   "source": [
    "# Setting up the plot\n",
    "plt.figure(figsize=(20,15))\n",
    "ax = sns.boxplot(x=\"aspirin_use\", y=\"TOTEXP09\", data=aspirin_sample)\n",
    "plt.xlabel('Aspirin Usage')\n",
    "plt.ylabel('Annual Healthcare Expenditure')"
   ]
  },
  {
   "cell_type": "markdown",
   "metadata": {
    "hidden": true
   },
   "source": [
    "The main box is very difficult to see due to the large number of points along the tail of each plot. Lets visualize the graph without some of these tail points to better compare the two boxes. "
   ]
  },
  {
   "cell_type": "code",
   "execution_count": null,
   "metadata": {
    "ExecuteTime": {
     "end_time": "2020-01-27T21:52:53.182567Z",
     "start_time": "2020-01-27T21:52:51.492726Z"
    },
    "hidden": true,
    "scrolled": false
   },
   "outputs": [],
   "source": [
    "# Setting up the plot\n",
    "plt.figure(figsize=(20,15))\n",
    "ax = sns.boxplot(x=\"aspirin_use\", y=\"TOTEXP09\", data=aspirin_sample[aspirin_sample.TOTEXP09<40000])\n",
    "plt.xlabel('Aspirin Usage')\n",
    "plt.ylabel('Annual Healthcare Expenditure')"
   ]
  },
  {
   "cell_type": "markdown",
   "metadata": {
    "hidden": true
   },
   "source": [
    "There seems to be a clear difference in cost between the two group. This confirms our clinical suspicion that AERD would increased costs. This observed difference also makes this a good candidate feature (variable) for our prediction model. This is simply one demonstration of how to identify clinically relevant variables for a prediction model!"
   ]
  },
  {
   "cell_type": "markdown",
   "metadata": {
    "heading_collapsed": true,
    "hidden": true
   },
   "source": [
    "### How To Interpret A Boxplot"
   ]
  },
  {
   "cell_type": "markdown",
   "metadata": {
    "hidden": true
   },
   "source": [
    "The boxplot divides data into division known as quartiles. The first quartile (Q1) corresponds to the 25th percentile of the data. The second quartile (Q2) corresponds to the 50th percentile of the data. This is also the median. The third quartile (Q3) corresponds to the 75 percentile of the data. The lines on the box represent Q1, the median, and Q3. The tails or 'whiskers' of the plots represent 1.5 * IQR below the Q1 and above the Q3. \n",
    "\n",
    "<img src=\"https://miro.medium.com/max/1200/1*2c21SkzJMf3frPXPAR_gZA.png\" align=\"center\" style=\"width: 70%; margin-bottom: 0.5em; margin-top: 0.5em;\">"
   ]
  },
  {
   "cell_type": "markdown",
   "metadata": {
    "hidden": true
   },
   "source": [
    "In this exercise, we've seen how descriptive analysis can aid us in identifying useful variables for building a prediction model. An important takeaway from this exercise is seeing how clinical knowledge can inform our data analysis. In our case, having an understanding of the pathophysiology of aspirin and asthma allows us to identify a variable that can lead to higher expenditure from more than 2000 variables. "
   ]
  },
  {
   "cell_type": "markdown",
   "metadata": {
    "heading_collapsed": true
   },
   "source": [
    "# Building A Predictive Model"
   ]
  },
  {
   "cell_type": "markdown",
   "metadata": {
    "hidden": true
   },
   "source": [
    "We now arrive at building our prediction model. We will be employing logistic regression to conduct a statistical analysis followed by employing machine learning to construct a prediction model. At the end, our goal is to have a product that can identify high-risk/high-cost asthma patients!"
   ]
  },
  {
   "cell_type": "markdown",
   "metadata": {
    "heading_collapsed": true,
    "hidden": true
   },
   "source": [
    "## Reading In Our Data"
   ]
  },
  {
   "cell_type": "markdown",
   "metadata": {
    "hidden": true
   },
   "source": [
    "Once again, we read in our data. We will be using our created file from Section 3: 'Cleaning our Data'"
   ]
  },
  {
   "cell_type": "code",
   "execution_count": 2,
   "metadata": {
    "ExecuteTime": {
     "end_time": "2020-03-04T19:33:20.849014Z",
     "start_time": "2020-03-04T19:33:20.803457Z"
    },
    "hidden": true,
    "scrolled": false
   },
   "outputs": [
    {
     "name": "stdout",
     "output_type": "stream",
     "text": [
      "Data loading, please wait\n",
      "Data loaded!\n"
     ]
    }
   ],
   "source": [
    "# Reading our data\n",
    "print('Data loading, please wait')\n",
    "aggregation =pd.read_csv('data/aggregation.csv',  encoding=\"UTF-8\",sep=\",\")\n",
    "print('Data loaded!')"
   ]
  },
  {
   "cell_type": "markdown",
   "metadata": {
    "hidden": true
   },
   "source": [
    "Now let's confirm our data has been loaded correctly"
   ]
  },
  {
   "cell_type": "code",
   "execution_count": 3,
   "metadata": {
    "ExecuteTime": {
     "end_time": "2020-03-04T19:33:20.998851Z",
     "start_time": "2020-03-04T19:33:20.935190Z"
    },
    "hidden": true,
    "scrolled": false
   },
   "outputs": [
    {
     "name": "stdout",
     "output_type": "stream",
     "text": [
      "Displaying the the first few rows of the data:\n",
      "\n"
     ]
    },
    {
     "data": {
      "text/html": [
       "<div>\n",
       "<style scoped>\n",
       "    .dataframe tbody tr th:only-of-type {\n",
       "        vertical-align: middle;\n",
       "    }\n",
       "\n",
       "    .dataframe tbody tr th {\n",
       "        vertical-align: top;\n",
       "    }\n",
       "\n",
       "    .dataframe thead th {\n",
       "        text-align: right;\n",
       "    }\n",
       "</style>\n",
       "<table border=\"1\" class=\"dataframe\">\n",
       "  <thead>\n",
       "    <tr style=\"text-align: right;\">\n",
       "      <th></th>\n",
       "      <th>DUPERSID</th>\n",
       "      <th>REGION09</th>\n",
       "      <th>AGE09X</th>\n",
       "      <th>SEX</th>\n",
       "      <th>RACETHNX</th>\n",
       "      <th>SPOUIN09</th>\n",
       "      <th>RTHLTH53</th>\n",
       "      <th>EMPHDX</th>\n",
       "      <th>EMPHAGED</th>\n",
       "      <th>CHBRON53</th>\n",
       "      <th>ASTHDX</th>\n",
       "      <th>ASTHAGED</th>\n",
       "      <th>ASTHEP53</th>\n",
       "      <th>ASACUT53</th>\n",
       "      <th>ASMRCN53</th>\n",
       "      <th>ASPREV53</th>\n",
       "      <th>ASPKFL53</th>\n",
       "      <th>ASWNFL53</th>\n",
       "      <th>WLKLIM53</th>\n",
       "      <th>WLKDIF53</th>\n",
       "      <th>UNABLE53</th>\n",
       "      <th>BLIND42</th>\n",
       "      <th>CHAPPT42</th>\n",
       "      <th>CHBMIX42</th>\n",
       "      <th>PHYSCL42</th>\n",
       "      <th>CHECK53</th>\n",
       "      <th>EXRCIS53</th>\n",
       "      <th>ASPRIN53</th>\n",
       "      <th>BMINDX53</th>\n",
       "      <th>ADAPPT42</th>\n",
       "      <th>ADEGMC42</th>\n",
       "      <th>ADEXPL42</th>\n",
       "      <th>ADPRTM42</th>\n",
       "      <th>ADHECR42</th>\n",
       "      <th>ADSMOK42</th>\n",
       "      <th>ADNSMK42</th>\n",
       "      <th>DSFL0953</th>\n",
       "      <th>DSFL0853</th>\n",
       "      <th>DSFLNV53</th>\n",
       "      <th>WKINBD53</th>\n",
       "      <th>PMUNAB42</th>\n",
       "      <th>PMUNRS42</th>\n",
       "      <th>PMUNPR42</th>\n",
       "      <th>PMDLAY42</th>\n",
       "      <th>OCCCAT53</th>\n",
       "      <th>TTLP09X</th>\n",
       "      <th>FAMINC09</th>\n",
       "      <th>POVLEV09</th>\n",
       "      <th>UNINS09</th>\n",
       "      <th>INSCOV09</th>\n",
       "      <th>INS09X</th>\n",
       "      <th>TOTEXP09</th>\n",
       "      <th>PERWT09F</th>\n",
       "      <th>CONDIDX</th>\n",
       "    </tr>\n",
       "  </thead>\n",
       "  <tbody>\n",
       "    <tr>\n",
       "      <th>0</th>\n",
       "      <td>40001101</td>\n",
       "      <td>2</td>\n",
       "      <td>28</td>\n",
       "      <td>1</td>\n",
       "      <td>4</td>\n",
       "      <td>1</td>\n",
       "      <td>2</td>\n",
       "      <td>2</td>\n",
       "      <td>-1</td>\n",
       "      <td>2</td>\n",
       "      <td>1</td>\n",
       "      <td>15</td>\n",
       "      <td>1</td>\n",
       "      <td>1</td>\n",
       "      <td>2</td>\n",
       "      <td>1</td>\n",
       "      <td>2</td>\n",
       "      <td>-1</td>\n",
       "      <td>2</td>\n",
       "      <td>-1</td>\n",
       "      <td>-1</td>\n",
       "      <td>-1</td>\n",
       "      <td>-1</td>\n",
       "      <td>-1.0</td>\n",
       "      <td>-1</td>\n",
       "      <td>6</td>\n",
       "      <td>2</td>\n",
       "      <td>2</td>\n",
       "      <td>26.6</td>\n",
       "      <td>3</td>\n",
       "      <td>4</td>\n",
       "      <td>4</td>\n",
       "      <td>4</td>\n",
       "      <td>10</td>\n",
       "      <td>2</td>\n",
       "      <td>-1</td>\n",
       "      <td>-1</td>\n",
       "      <td>-1</td>\n",
       "      <td>-1</td>\n",
       "      <td>-1</td>\n",
       "      <td>2</td>\n",
       "      <td>-1</td>\n",
       "      <td>-1</td>\n",
       "      <td>2</td>\n",
       "      <td>-2</td>\n",
       "      <td>48500</td>\n",
       "      <td>121000</td>\n",
       "      <td>700.72</td>\n",
       "      <td>2</td>\n",
       "      <td>1</td>\n",
       "      <td>1</td>\n",
       "      <td>1173</td>\n",
       "      <td>14251.111105</td>\n",
       "      <td>400011010011</td>\n",
       "    </tr>\n",
       "    <tr>\n",
       "      <th>1</th>\n",
       "      <td>40001103</td>\n",
       "      <td>2</td>\n",
       "      <td>2</td>\n",
       "      <td>1</td>\n",
       "      <td>4</td>\n",
       "      <td>3</td>\n",
       "      <td>2</td>\n",
       "      <td>-1</td>\n",
       "      <td>-1</td>\n",
       "      <td>-1</td>\n",
       "      <td>1</td>\n",
       "      <td>0</td>\n",
       "      <td>1</td>\n",
       "      <td>1</td>\n",
       "      <td>2</td>\n",
       "      <td>2</td>\n",
       "      <td>2</td>\n",
       "      <td>-1</td>\n",
       "      <td>2</td>\n",
       "      <td>-1</td>\n",
       "      <td>-1</td>\n",
       "      <td>-1</td>\n",
       "      <td>5</td>\n",
       "      <td>-1.0</td>\n",
       "      <td>-1</td>\n",
       "      <td>-1</td>\n",
       "      <td>-1</td>\n",
       "      <td>-1</td>\n",
       "      <td>-1.0</td>\n",
       "      <td>-1</td>\n",
       "      <td>-1</td>\n",
       "      <td>-1</td>\n",
       "      <td>-1</td>\n",
       "      <td>-1</td>\n",
       "      <td>-1</td>\n",
       "      <td>-1</td>\n",
       "      <td>-1</td>\n",
       "      <td>-1</td>\n",
       "      <td>-1</td>\n",
       "      <td>-1</td>\n",
       "      <td>2</td>\n",
       "      <td>-1</td>\n",
       "      <td>-1</td>\n",
       "      <td>2</td>\n",
       "      <td>-1</td>\n",
       "      <td>0</td>\n",
       "      <td>121000</td>\n",
       "      <td>700.72</td>\n",
       "      <td>2</td>\n",
       "      <td>1</td>\n",
       "      <td>1</td>\n",
       "      <td>3215</td>\n",
       "      <td>14803.089514</td>\n",
       "      <td>400011030011</td>\n",
       "    </tr>\n",
       "    <tr>\n",
       "      <th>2</th>\n",
       "      <td>40044101</td>\n",
       "      <td>2</td>\n",
       "      <td>79</td>\n",
       "      <td>1</td>\n",
       "      <td>4</td>\n",
       "      <td>2</td>\n",
       "      <td>4</td>\n",
       "      <td>1</td>\n",
       "      <td>76</td>\n",
       "      <td>1</td>\n",
       "      <td>1</td>\n",
       "      <td>65</td>\n",
       "      <td>-1</td>\n",
       "      <td>2</td>\n",
       "      <td>-1</td>\n",
       "      <td>2</td>\n",
       "      <td>2</td>\n",
       "      <td>-1</td>\n",
       "      <td>1</td>\n",
       "      <td>3</td>\n",
       "      <td>1</td>\n",
       "      <td>-1</td>\n",
       "      <td>-1</td>\n",
       "      <td>-1.0</td>\n",
       "      <td>-1</td>\n",
       "      <td>1</td>\n",
       "      <td>2</td>\n",
       "      <td>1</td>\n",
       "      <td>34.3</td>\n",
       "      <td>6</td>\n",
       "      <td>4</td>\n",
       "      <td>4</td>\n",
       "      <td>4</td>\n",
       "      <td>10</td>\n",
       "      <td>2</td>\n",
       "      <td>-1</td>\n",
       "      <td>1</td>\n",
       "      <td>1</td>\n",
       "      <td>2</td>\n",
       "      <td>-1</td>\n",
       "      <td>2</td>\n",
       "      <td>-1</td>\n",
       "      <td>-1</td>\n",
       "      <td>2</td>\n",
       "      <td>-1</td>\n",
       "      <td>49570</td>\n",
       "      <td>49570</td>\n",
       "      <td>481.77</td>\n",
       "      <td>2</td>\n",
       "      <td>1</td>\n",
       "      <td>1</td>\n",
       "      <td>14951</td>\n",
       "      <td>17739.800407</td>\n",
       "      <td>400441010101</td>\n",
       "    </tr>\n",
       "    <tr>\n",
       "      <th>3</th>\n",
       "      <td>40050101</td>\n",
       "      <td>2</td>\n",
       "      <td>41</td>\n",
       "      <td>1</td>\n",
       "      <td>4</td>\n",
       "      <td>1</td>\n",
       "      <td>2</td>\n",
       "      <td>2</td>\n",
       "      <td>-1</td>\n",
       "      <td>2</td>\n",
       "      <td>1</td>\n",
       "      <td>8</td>\n",
       "      <td>-1</td>\n",
       "      <td>1</td>\n",
       "      <td>2</td>\n",
       "      <td>1</td>\n",
       "      <td>1</td>\n",
       "      <td>3</td>\n",
       "      <td>2</td>\n",
       "      <td>-1</td>\n",
       "      <td>-1</td>\n",
       "      <td>-1</td>\n",
       "      <td>-1</td>\n",
       "      <td>-1.0</td>\n",
       "      <td>-1</td>\n",
       "      <td>1</td>\n",
       "      <td>1</td>\n",
       "      <td>2</td>\n",
       "      <td>31.7</td>\n",
       "      <td>1</td>\n",
       "      <td>4</td>\n",
       "      <td>4</td>\n",
       "      <td>4</td>\n",
       "      <td>8</td>\n",
       "      <td>2</td>\n",
       "      <td>-1</td>\n",
       "      <td>-1</td>\n",
       "      <td>-1</td>\n",
       "      <td>-1</td>\n",
       "      <td>-1</td>\n",
       "      <td>2</td>\n",
       "      <td>-1</td>\n",
       "      <td>-1</td>\n",
       "      <td>2</td>\n",
       "      <td>-2</td>\n",
       "      <td>199424</td>\n",
       "      <td>248131</td>\n",
       "      <td>1140.52</td>\n",
       "      <td>2</td>\n",
       "      <td>1</td>\n",
       "      <td>1</td>\n",
       "      <td>3791</td>\n",
       "      <td>10588.753294</td>\n",
       "      <td>400501010021</td>\n",
       "    </tr>\n",
       "    <tr>\n",
       "      <th>4</th>\n",
       "      <td>40052101</td>\n",
       "      <td>3</td>\n",
       "      <td>69</td>\n",
       "      <td>2</td>\n",
       "      <td>4</td>\n",
       "      <td>2</td>\n",
       "      <td>5</td>\n",
       "      <td>1</td>\n",
       "      <td>68</td>\n",
       "      <td>2</td>\n",
       "      <td>2</td>\n",
       "      <td>-1</td>\n",
       "      <td>-1</td>\n",
       "      <td>-1</td>\n",
       "      <td>-1</td>\n",
       "      <td>-1</td>\n",
       "      <td>-1</td>\n",
       "      <td>-1</td>\n",
       "      <td>1</td>\n",
       "      <td>4</td>\n",
       "      <td>1</td>\n",
       "      <td>2</td>\n",
       "      <td>-1</td>\n",
       "      <td>-1.0</td>\n",
       "      <td>-1</td>\n",
       "      <td>1</td>\n",
       "      <td>2</td>\n",
       "      <td>2</td>\n",
       "      <td>25.3</td>\n",
       "      <td>5</td>\n",
       "      <td>4</td>\n",
       "      <td>4</td>\n",
       "      <td>4</td>\n",
       "      <td>10</td>\n",
       "      <td>2</td>\n",
       "      <td>-1</td>\n",
       "      <td>2</td>\n",
       "      <td>2</td>\n",
       "      <td>2</td>\n",
       "      <td>-1</td>\n",
       "      <td>2</td>\n",
       "      <td>-1</td>\n",
       "      <td>-1</td>\n",
       "      <td>2</td>\n",
       "      <td>-1</td>\n",
       "      <td>0</td>\n",
       "      <td>11000</td>\n",
       "      <td>65.55</td>\n",
       "      <td>2</td>\n",
       "      <td>2</td>\n",
       "      <td>1</td>\n",
       "      <td>58604</td>\n",
       "      <td>4936.989686</td>\n",
       "      <td>400521010101</td>\n",
       "    </tr>\n",
       "  </tbody>\n",
       "</table>\n",
       "</div>"
      ],
      "text/plain": [
       "   DUPERSID  REGION09  AGE09X  SEX  RACETHNX  SPOUIN09  RTHLTH53  EMPHDX  \\\n",
       "0  40001101         2      28    1         4         1         2       2   \n",
       "1  40001103         2       2    1         4         3         2      -1   \n",
       "2  40044101         2      79    1         4         2         4       1   \n",
       "3  40050101         2      41    1         4         1         2       2   \n",
       "4  40052101         3      69    2         4         2         5       1   \n",
       "\n",
       "   EMPHAGED  CHBRON53  ASTHDX  ASTHAGED  ASTHEP53  ASACUT53  ASMRCN53  \\\n",
       "0        -1         2       1        15         1         1         2   \n",
       "1        -1        -1       1         0         1         1         2   \n",
       "2        76         1       1        65        -1         2        -1   \n",
       "3        -1         2       1         8        -1         1         2   \n",
       "4        68         2       2        -1        -1        -1        -1   \n",
       "\n",
       "   ASPREV53  ASPKFL53  ASWNFL53  WLKLIM53  WLKDIF53  UNABLE53  BLIND42  \\\n",
       "0         1         2        -1         2        -1        -1       -1   \n",
       "1         2         2        -1         2        -1        -1       -1   \n",
       "2         2         2        -1         1         3         1       -1   \n",
       "3         1         1         3         2        -1        -1       -1   \n",
       "4        -1        -1        -1         1         4         1        2   \n",
       "\n",
       "   CHAPPT42  CHBMIX42  PHYSCL42  CHECK53  EXRCIS53  ASPRIN53  BMINDX53  \\\n",
       "0        -1      -1.0        -1        6         2         2      26.6   \n",
       "1         5      -1.0        -1       -1        -1        -1      -1.0   \n",
       "2        -1      -1.0        -1        1         2         1      34.3   \n",
       "3        -1      -1.0        -1        1         1         2      31.7   \n",
       "4        -1      -1.0        -1        1         2         2      25.3   \n",
       "\n",
       "   ADAPPT42  ADEGMC42  ADEXPL42  ADPRTM42  ADHECR42  ADSMOK42  ADNSMK42  \\\n",
       "0         3         4         4         4        10         2        -1   \n",
       "1        -1        -1        -1        -1        -1        -1        -1   \n",
       "2         6         4         4         4        10         2        -1   \n",
       "3         1         4         4         4         8         2        -1   \n",
       "4         5         4         4         4        10         2        -1   \n",
       "\n",
       "   DSFL0953  DSFL0853  DSFLNV53  WKINBD53  PMUNAB42  PMUNRS42  PMUNPR42  \\\n",
       "0        -1        -1        -1        -1         2        -1        -1   \n",
       "1        -1        -1        -1        -1         2        -1        -1   \n",
       "2         1         1         2        -1         2        -1        -1   \n",
       "3        -1        -1        -1        -1         2        -1        -1   \n",
       "4         2         2         2        -1         2        -1        -1   \n",
       "\n",
       "   PMDLAY42  OCCCAT53  TTLP09X  FAMINC09  POVLEV09  UNINS09  INSCOV09  INS09X  \\\n",
       "0         2        -2    48500    121000    700.72        2         1       1   \n",
       "1         2        -1        0    121000    700.72        2         1       1   \n",
       "2         2        -1    49570     49570    481.77        2         1       1   \n",
       "3         2        -2   199424    248131   1140.52        2         1       1   \n",
       "4         2        -1        0     11000     65.55        2         2       1   \n",
       "\n",
       "   TOTEXP09      PERWT09F       CONDIDX  \n",
       "0      1173  14251.111105  400011010011  \n",
       "1      3215  14803.089514  400011030011  \n",
       "2     14951  17739.800407  400441010101  \n",
       "3      3791  10588.753294  400501010021  \n",
       "4     58604   4936.989686  400521010101  "
      ]
     },
     "execution_count": 3,
     "metadata": {},
     "output_type": "execute_result"
    }
   ],
   "source": [
    "# Display the first few rows of the data\n",
    "print(\"Displaying the the first few rows of the data:\\n\")\n",
    "aggregation.head()"
   ]
  },
  {
   "cell_type": "markdown",
   "metadata": {
    "heading_collapsed": true,
    "hidden": true
   },
   "source": [
    "## Converting Variables Into Categorical Variables"
   ]
  },
  {
   "cell_type": "markdown",
   "metadata": {
    "hidden": true,
    "solution2": "hidden",
    "solution2_first": true
   },
   "source": [
    "**Pre-Check:** What is the difference between a quantitative and categorical variable?"
   ]
  },
  {
   "cell_type": "markdown",
   "metadata": {
    "hidden": true,
    "solution2": "hidden"
   },
   "source": [
    ">- **Quantitative:** variables whose values are whole numbers (ie. numbers, percents)\n",
    ">- **Categorical:** variables whose values are selected from a group (ie. dog breeds, male/female) "
   ]
  },
  {
   "cell_type": "markdown",
   "metadata": {
    "hidden": true
   },
   "source": [
    "Several of our variables are categorical variables but are mistakenly classified in Python as quantitative. This is due to their data label being numbers (ie. for `ASPRIN53` 1 = taking aspirin & 2 = not taking aspirin). The code below will convert these variable to be categorical variables. "
   ]
  },
  {
   "cell_type": "code",
   "execution_count": 4,
   "metadata": {
    "ExecuteTime": {
     "end_time": "2020-03-04T19:33:21.430717Z",
     "start_time": "2020-03-04T19:33:21.362468Z"
    },
    "hidden": true
   },
   "outputs": [],
   "source": [
    "# Converting variables to categorical variable type\n",
    "def change_category_type(features):\n",
    "    for feature in features:\n",
    "        aggregation[feature]=aggregation[feature].astype('category')\n",
    "\n",
    "change_category_type(['REGION09','SEX','RACETHNX','SPOUIN09','RTHLTH53','EMPHDX','CHBRON53','ASTHDX','ASACUT53','ASMRCN53','ASPREV53',\n",
    "                     'ASPKFL53','ASWNFL53','WLKLIM53','WLKDIF53','UNABLE53','BLIND42','PHYSCL42','EXRCIS53','ASPRIN53',\n",
    "                     'ADEGMC42','ADEXPL42','ADPRTM42','ADSMOK42','ADNSMK42','DSFL0953','DSFL0853','DSFLNV53','PMUNAB42'\n",
    "                     ,'PMUNRS42','PMUNPR42','PMDLAY42','OCCCAT53','UNINS09','INSCOV09','INS09X'])"
   ]
  },
  {
   "cell_type": "markdown",
   "metadata": {
    "hidden": true
   },
   "source": [
    "### Why Is Classifying Variables Correctly Important?"
   ]
  },
  {
   "cell_type": "markdown",
   "metadata": {
    "hidden": true
   },
   "source": [
    "Having a classifying variable as the correct data type is critical because certain statistical and analytical measurements can only be used for specific data types. For instance, we can graph quantitative data using a histogram but not categorical data. On the other hand, logistic regression can measure the outcome of a type of categorical variable known as a binary variable (ie. yes/no, high-risk/low-risk) but is unable to measure the outcome of quantitative variables. "
   ]
  },
  {
   "cell_type": "markdown",
   "metadata": {
    "heading_collapsed": true,
    "hidden": true
   },
   "source": [
    "## Defining High- and Low- Risk Patients"
   ]
  },
  {
   "cell_type": "markdown",
   "metadata": {
    "hidden": true
   },
   "source": [
    "Next, we need to define what a low-risk or high-risk patient is, so we can train our prediction model and evaluate its performance."
   ]
  },
  {
   "cell_type": "markdown",
   "metadata": {
    "hidden": true
   },
   "source": [
    "We will begin descriptively examining our data."
   ]
  },
  {
   "cell_type": "code",
   "execution_count": 5,
   "metadata": {
    "ExecuteTime": {
     "end_time": "2020-03-04T19:33:21.928517Z",
     "start_time": "2020-03-04T19:33:21.911666Z"
    },
    "hidden": true
   },
   "outputs": [
    {
     "data": {
      "text/plain": [
       "count      2375.000000\n",
       "mean       7317.943158\n",
       "std       16122.195303\n",
       "min           0.000000\n",
       "25%         601.000000\n",
       "50%        2122.000000\n",
       "75%        6825.000000\n",
       "max      290987.000000\n",
       "Name: TOTEXP09, dtype: float64"
      ]
     },
     "execution_count": 5,
     "metadata": {},
     "output_type": "execute_result"
    }
   ],
   "source": [
    "# Summary statistics for annual healthcare expenditure\n",
    "aggregation.TOTEXP09.describe()"
   ]
  },
  {
   "cell_type": "code",
   "execution_count": 6,
   "metadata": {
    "ExecuteTime": {
     "end_time": "2020-03-04T19:33:22.665302Z",
     "start_time": "2020-03-04T19:33:21.935887Z"
    },
    "hidden": true,
    "scrolled": false
   },
   "outputs": [
    {
     "data": {
      "text/plain": [
       "Text(0.5, 1.0, 'Histogram of Annual Medical Expenditure')"
      ]
     },
     "execution_count": 6,
     "metadata": {},
     "output_type": "execute_result"
    },
    {
     "data": {
      "image/png": "[encoded data removed]",
      "text/plain": [
       "<Figure size 1080x720 with 1 Axes>"
      ]
     },
     "metadata": {
      "needs_background": "light"
     },
     "output_type": "display_data"
    }
   ],
   "source": [
    "# Histogram of annual healthcare expenditure\n",
    "plt.figure(figsize=(15,10))\n",
    "plt.hist(aggregation.TOTEXP09,bins=30)\n",
    "plt.xlabel('Annual Medical Expenditure')\n",
    "plt.title('Histogram of Annual Medical Expenditure')"
   ]
  },
  {
   "cell_type": "markdown",
   "metadata": {
    "hidden": true,
    "solution2": "hidden",
    "solution2_first": true
   },
   "source": [
    "From our analysis, we can see that the distribution for annual medical expenditure is not a normal distribution. \n",
    "\n",
    "**Knowledge Check:** Based our distribution, should we use mean or median?"
   ]
  },
  {
   "cell_type": "markdown",
   "metadata": {
    "hidden": true,
    "solution2": "hidden"
   },
   "source": [
    "A non-normal distribution indicates that median would be a better measure of central tendency. \n",
    "\n",
    "The median provides us a useful measure for defining high- and low- risk. Since individuals above the median annual expenditure represent the larger 1/2 of expenditure values, we can classify these individuals as high-risk. Since individuals below the median annual expenditure represent the smaller 1/2 of expenditure values, we can classify these individuals as low-risk. In summary\n",
    "\n",
    "**High-risk** patients are defined as those with annual medical expenditures **>= 2122**\n",
    "<br>\n",
    "**Low-risk** patients are defined as those with annual medical expenditures **<= 2122**"
   ]
  },
  {
   "cell_type": "markdown",
   "metadata": {
    "hidden": true
   },
   "source": [
    "The below code will convert our expenditure into binary risk categories"
   ]
  },
  {
   "cell_type": "markdown",
   "metadata": {
    "hidden": true
   },
   "source": [
    "<img align=\"left\" width=\"100\" height=\"100\" src=\"https://cdn-01.media-brady.com/store/stus/media/catalog/product/cache/4/image/85e4522595efc69f496374d01ef2bf13/1544627174/r/e/reflective-warning-signs-caution-ac0563-lg.jpg\" style=\"padding-right: 10px\">If you run the below code more than once, please restart the exercise. Running it more than once will cause errors in our later prediction model. Do not run the code cell again after you see the 'Labeling complete' text!\n"
   ]
  },
  {
   "cell_type": "code",
   "execution_count": 7,
   "metadata": {
    "ExecuteTime": {
     "end_time": "2020-03-04T19:33:22.680948Z",
     "start_time": "2020-03-04T19:33:22.671532Z"
    },
    "hidden": true,
    "scrolled": false
   },
   "outputs": [
    {
     "name": "stdout",
     "output_type": "stream",
     "text": [
      "Labeling complete!\n"
     ]
    }
   ],
   "source": [
    "# Labeling indviduals as high or low risk\n",
    "aggregation.TOTEXP09=aggregation.TOTEXP09.apply(lambda x:'high_risk' if x >=2122 else 'low_risk')\n",
    "print('Labeling complete!')"
   ]
  },
  {
   "cell_type": "markdown",
   "metadata": {
    "heading_collapsed": true,
    "hidden": true
   },
   "source": [
    "## Analyzing Our Data: Logistic Regression "
   ]
  },
  {
   "cell_type": "markdown",
   "metadata": {
    "hidden": true
   },
   "source": [
    "Now that our variables have been successfully converted and our outcome has been defined, we can analyze our data. Logistic regression is a mathematical model that estimates the probability of a binary outcome (such as our risk label). It is named after the logistic curve which takes the S-shape depicted below.\n",
    "<img src=\"https://upload.wikimedia.org/wikipedia/commons/thumb/8/88/Logistic-curve.svg/640px-Logistic-curve.svg.png?1566122052688\" alt=\"Logistic Curve\" title=\"Logistic Curve\" />"
   ]
  },
  {
   "cell_type": "markdown",
   "metadata": {
    "hidden": true,
    "solution2": "hidden",
    "solution2_first": true
   },
   "source": [
    "**Pre-Check:** What is our primary outcome? What information will a logistic regression model tell use about our outcome?"
   ]
  },
  {
   "cell_type": "markdown",
   "metadata": {
    "hidden": true,
    "solution2": "hidden"
   },
   "source": [
    "Our primary income is whether an individual is a high or low risk asthmatic individual. It will allow us to analyze which variables have a statistically significant effect on whether an asthmatic individual is high- or low-risk while controlling for other variables. Logistic regression is a commonly used technique in health analytics because it is easy to interpret and is thought to model the multi-factorial causes of disease well. "
   ]
  },
  {
   "cell_type": "markdown",
   "metadata": {
    "hidden": true,
    "solution2": "hidden",
    "solution2_first": true
   },
   "source": [
    "**Follow-Up:** What is statistical significance? What is a generally accepted level of statistical significance in healthcare research?"
   ]
  },
  {
   "cell_type": "markdown",
   "metadata": {
    "hidden": true,
    "solution2": "hidden"
   },
   "source": [
    "Statistical Significance can be defined as the chance that the relationship you observed in your data occurred by chance. What does this mean? Let's say our logistic regression model finds that weight has a statistically significant effect on being high risk or low risk asthmatic patient. This means that it is more likely that there is indeed a relationship between weight and risk than chance would suggest. \n",
    "\n",
    "The conventional level of significance that is accepted is < 0.05 (this number is referred to as a p-value). This means that there is a less than 5% chance that the observed relationship in the data was due to chance alone."
   ]
  },
  {
   "cell_type": "markdown",
   "metadata": {
    "hidden": true
   },
   "source": [
    "By converting expenditure into 'high-risk' or 'low-risk', we've converted expenditure from a quantitative variable into a categorical variable. We now need to change the variable into 1 and 0 to represent a binary variable in Python."
   ]
  },
  {
   "cell_type": "code",
   "execution_count": 8,
   "metadata": {
    "ExecuteTime": {
     "end_time": "2020-03-04T19:33:23.197962Z",
     "start_time": "2020-03-04T19:33:23.190744Z"
    },
    "hidden": true
   },
   "outputs": [],
   "source": [
    "# Labeling high risk indviduals as 1 and low risk individuals as 0\n",
    "aggregation.TOTEXP09=aggregation.TOTEXP09.apply(lambda x:1 if x =='high_risk' else 0)"
   ]
  },
  {
   "cell_type": "markdown",
   "metadata": {
    "hidden": true
   },
   "source": [
    "We can now create our logistic model. "
   ]
  },
  {
   "cell_type": "code",
   "execution_count": 9,
   "metadata": {
    "ExecuteTime": {
     "end_time": "2020-03-04T19:33:23.418931Z",
     "start_time": "2020-03-04T19:33:23.276925Z"
    },
    "hidden": true
   },
   "outputs": [],
   "source": [
    "# Note: DUPERSID is a personal ID and CONDIDX is an independent variable. For these reasons, these variables were \n",
    "# not included in the model\n",
    "# Independent features do not include TOTEX09 which is the dependent variable\n",
    "aggregation_X=aggregation.drop(columns=['DUPERSID','TOTEXP09','CONDIDX'])\n",
    "aggregation_Y=aggregation.TOTEXP09\n",
    "aggregation_X=pd.get_dummies(aggregation_X)"
   ]
  },
  {
   "cell_type": "code",
   "execution_count": 10,
   "metadata": {
    "ExecuteTime": {
     "end_time": "2020-03-04T19:33:24.179609Z",
     "start_time": "2020-03-04T19:33:23.434667Z"
    },
    "hidden": true
   },
   "outputs": [],
   "source": [
    "# create a logistic model\n",
    "model=sm.GLM(aggregation_Y,aggregation_X)\n",
    "result=model.fit()"
   ]
  },
  {
   "cell_type": "code",
   "execution_count": 11,
   "metadata": {
    "ExecuteTime": {
     "end_time": "2020-03-04T19:33:24.375641Z",
     "start_time": "2020-03-04T19:33:24.186307Z"
    },
    "hidden": true
   },
   "outputs": [
    {
     "data": {
      "text/html": [
       "<table class=\"simpletable\">\n",
       "<caption>Generalized Linear Model Regression Results</caption>\n",
       "<tr>\n",
       "  <th>Dep. Variable:</th>       <td>TOTEXP09</td>     <th>  No. Observations:  </th>  <td>  2375</td> \n",
       "</tr>\n",
       "<tr>\n",
       "  <th>Model:</th>                  <td>GLM</td>       <th>  Df Residuals:      </th>  <td>  2245</td> \n",
       "</tr>\n",
       "<tr>\n",
       "  <th>Model Family:</th>        <td>Gaussian</td>     <th>  Df Model:          </th>  <td>   129</td> \n",
       "</tr>\n",
       "<tr>\n",
       "  <th>Link Function:</th>       <td>identity</td>     <th>  Scale:             </th> <td> 0.16086</td>\n",
       "</tr>\n",
       "<tr>\n",
       "  <th>Method:</th>                <td>IRLS</td>       <th>  Log-Likelihood:    </th> <td> -1133.3</td>\n",
       "</tr>\n",
       "<tr>\n",
       "  <th>Date:</th>            <td>Wed, 04 Mar 2020</td> <th>  Deviance:          </th> <td>  361.12</td>\n",
       "</tr>\n",
       "<tr>\n",
       "  <th>Time:</th>                <td>14:33:24</td>     <th>  Pearson chi2:      </th>  <td>  361.</td> \n",
       "</tr>\n",
       "<tr>\n",
       "  <th>No. Iterations:</th>          <td>3</td>        <th>                     </th>     <td> </td>   \n",
       "</tr>\n",
       "<tr>\n",
       "  <th>Covariance Type:</th>     <td>nonrobust</td>    <th>                     </th>     <td> </td>   \n",
       "</tr>\n",
       "</table>\n",
       "<table class=\"simpletable\">\n",
       "<tr>\n",
       "       <td></td>          <th>coef</th>     <th>std err</th>      <th>z</th>      <th>P>|z|</th>  <th>[0.025</th>    <th>0.975]</th>  \n",
       "</tr>\n",
       "<tr>\n",
       "  <th>AGE09X</th>      <td>    0.0043</td> <td>    0.001</td> <td>    4.911</td> <td> 0.000</td> <td>    0.003</td> <td>    0.006</td>\n",
       "</tr>\n",
       "<tr>\n",
       "  <th>EMPHAGED</th>    <td>   -0.0014</td> <td>    0.002</td> <td>   -0.848</td> <td> 0.396</td> <td>   -0.005</td> <td>    0.002</td>\n",
       "</tr>\n",
       "<tr>\n",
       "  <th>ASTHAGED</th>    <td>    0.0006</td> <td>    0.001</td> <td>    0.948</td> <td> 0.343</td> <td>   -0.001</td> <td>    0.002</td>\n",
       "</tr>\n",
       "<tr>\n",
       "  <th>ASTHEP53</th>    <td>   -0.0065</td> <td>    0.007</td> <td>   -0.984</td> <td> 0.325</td> <td>   -0.019</td> <td>    0.006</td>\n",
       "</tr>\n",
       "<tr>\n",
       "  <th>CHAPPT42</th>    <td>    0.0455</td> <td>    0.006</td> <td>    7.675</td> <td> 0.000</td> <td>    0.034</td> <td>    0.057</td>\n",
       "</tr>\n",
       "<tr>\n",
       "  <th>CHBMIX42</th>    <td>    0.0012</td> <td>    0.001</td> <td>    1.071</td> <td> 0.284</td> <td>   -0.001</td> <td>    0.003</td>\n",
       "</tr>\n",
       "<tr>\n",
       "  <th>CHECK53</th>     <td>   -0.0121</td> <td>    0.006</td> <td>   -1.919</td> <td> 0.055</td> <td>   -0.024</td> <td>    0.000</td>\n",
       "</tr>\n",
       "<tr>\n",
       "  <th>BMINDX53</th>    <td>   -0.0001</td> <td>    0.001</td> <td>   -0.101</td> <td> 0.919</td> <td>   -0.003</td> <td>    0.002</td>\n",
       "</tr>\n",
       "<tr>\n",
       "  <th>ADAPPT42</th>    <td>    0.0243</td> <td>    0.005</td> <td>    4.935</td> <td> 0.000</td> <td>    0.015</td> <td>    0.034</td>\n",
       "</tr>\n",
       "<tr>\n",
       "  <th>ADHECR42</th>    <td>   -0.0069</td> <td>    0.006</td> <td>   -1.100</td> <td> 0.271</td> <td>   -0.019</td> <td>    0.005</td>\n",
       "</tr>\n",
       "<tr>\n",
       "  <th>WKINBD53</th>    <td>    0.0031</td> <td>    0.002</td> <td>    1.994</td> <td> 0.046</td> <td> 5.28e-05</td> <td>    0.006</td>\n",
       "</tr>\n",
       "<tr>\n",
       "  <th>TTLP09X</th>     <td>-2.193e-07</td> <td> 6.27e-07</td> <td>   -0.350</td> <td> 0.726</td> <td>-1.45e-06</td> <td> 1.01e-06</td>\n",
       "</tr>\n",
       "<tr>\n",
       "  <th>FAMINC09</th>    <td>-5.508e-07</td> <td> 5.21e-07</td> <td>   -1.057</td> <td> 0.291</td> <td>-1.57e-06</td> <td> 4.71e-07</td>\n",
       "</tr>\n",
       "<tr>\n",
       "  <th>POVLEV09</th>    <td>    0.0002</td> <td>    0.000</td> <td>    2.024</td> <td> 0.043</td> <td>    7e-06</td> <td>    0.000</td>\n",
       "</tr>\n",
       "<tr>\n",
       "  <th>PERWT09F</th>    <td> 1.592e-06</td> <td> 1.66e-06</td> <td>    0.960</td> <td> 0.337</td> <td>-1.66e-06</td> <td> 4.84e-06</td>\n",
       "</tr>\n",
       "<tr>\n",
       "  <th>REGION09_-1</th> <td>    0.0811</td> <td>    0.106</td> <td>    0.768</td> <td> 0.442</td> <td>   -0.126</td> <td>    0.288</td>\n",
       "</tr>\n",
       "<tr>\n",
       "  <th>REGION09_1</th>  <td>    0.0322</td> <td>    0.030</td> <td>    1.069</td> <td> 0.285</td> <td>   -0.027</td> <td>    0.091</td>\n",
       "</tr>\n",
       "<tr>\n",
       "  <th>REGION09_2</th>  <td>    0.0370</td> <td>    0.029</td> <td>    1.270</td> <td> 0.204</td> <td>   -0.020</td> <td>    0.094</td>\n",
       "</tr>\n",
       "<tr>\n",
       "  <th>REGION09_3</th>  <td>   -0.0190</td> <td>    0.028</td> <td>   -0.672</td> <td> 0.501</td> <td>   -0.075</td> <td>    0.036</td>\n",
       "</tr>\n",
       "<tr>\n",
       "  <th>REGION09_4</th>  <td>   -0.0445</td> <td>    0.029</td> <td>   -1.538</td> <td> 0.124</td> <td>   -0.101</td> <td>    0.012</td>\n",
       "</tr>\n",
       "<tr>\n",
       "  <th>SEX_1</th>       <td>    0.0290</td> <td>    0.020</td> <td>    1.422</td> <td> 0.155</td> <td>   -0.011</td> <td>    0.069</td>\n",
       "</tr>\n",
       "<tr>\n",
       "  <th>SEX_2</th>       <td>    0.0579</td> <td>    0.020</td> <td>    2.899</td> <td> 0.004</td> <td>    0.019</td> <td>    0.097</td>\n",
       "</tr>\n",
       "<tr>\n",
       "  <th>RACETHNX_1</th>  <td>   -0.0025</td> <td>    0.021</td> <td>   -0.119</td> <td> 0.905</td> <td>   -0.043</td> <td>    0.038</td>\n",
       "</tr>\n",
       "<tr>\n",
       "  <th>RACETHNX_2</th>  <td>    0.0131</td> <td>    0.021</td> <td>    0.634</td> <td> 0.526</td> <td>   -0.027</td> <td>    0.054</td>\n",
       "</tr>\n",
       "<tr>\n",
       "  <th>RACETHNX_3</th>  <td>    0.0144</td> <td>    0.036</td> <td>    0.398</td> <td> 0.691</td> <td>   -0.056</td> <td>    0.085</td>\n",
       "</tr>\n",
       "<tr>\n",
       "  <th>RACETHNX_4</th>  <td>    0.0619</td> <td>    0.020</td> <td>    3.078</td> <td> 0.002</td> <td>    0.022</td> <td>    0.101</td>\n",
       "</tr>\n",
       "<tr>\n",
       "  <th>SPOUIN09_1</th>  <td>    0.0478</td> <td>    0.026</td> <td>    1.855</td> <td> 0.064</td> <td>   -0.003</td> <td>    0.098</td>\n",
       "</tr>\n",
       "<tr>\n",
       "  <th>SPOUIN09_2</th>  <td>   -0.0081</td> <td>    0.021</td> <td>   -0.385</td> <td> 0.701</td> <td>   -0.049</td> <td>    0.033</td>\n",
       "</tr>\n",
       "<tr>\n",
       "  <th>SPOUIN09_3</th>  <td>    0.0471</td> <td>    0.037</td> <td>    1.266</td> <td> 0.206</td> <td>   -0.026</td> <td>    0.120</td>\n",
       "</tr>\n",
       "<tr>\n",
       "  <th>RTHLTH53_-8</th> <td>    0.0087</td> <td>    0.350</td> <td>    0.025</td> <td> 0.980</td> <td>   -0.678</td> <td>    0.696</td>\n",
       "</tr>\n",
       "<tr>\n",
       "  <th>RTHLTH53_-1</th> <td>   -0.0181</td> <td>    0.230</td> <td>   -0.078</td> <td> 0.937</td> <td>   -0.469</td> <td>    0.433</td>\n",
       "</tr>\n",
       "<tr>\n",
       "  <th>RTHLTH53_1</th>  <td>   -0.0730</td> <td>    0.078</td> <td>   -0.939</td> <td> 0.348</td> <td>   -0.225</td> <td>    0.079</td>\n",
       "</tr>\n",
       "<tr>\n",
       "  <th>RTHLTH53_2</th>  <td>    0.0029</td> <td>    0.077</td> <td>    0.038</td> <td> 0.970</td> <td>   -0.148</td> <td>    0.153</td>\n",
       "</tr>\n",
       "<tr>\n",
       "  <th>RTHLTH53_3</th>  <td>    0.0152</td> <td>    0.076</td> <td>    0.199</td> <td> 0.842</td> <td>   -0.134</td> <td>    0.165</td>\n",
       "</tr>\n",
       "<tr>\n",
       "  <th>RTHLTH53_4</th>  <td>    0.0787</td> <td>    0.077</td> <td>    1.025</td> <td> 0.305</td> <td>   -0.072</td> <td>    0.229</td>\n",
       "</tr>\n",
       "<tr>\n",
       "  <th>RTHLTH53_5</th>  <td>    0.0725</td> <td>    0.079</td> <td>    0.912</td> <td> 0.362</td> <td>   -0.083</td> <td>    0.228</td>\n",
       "</tr>\n",
       "<tr>\n",
       "  <th>EMPHDX_-9</th>   <td>    0.2332</td> <td>    0.182</td> <td>    1.278</td> <td> 0.201</td> <td>   -0.124</td> <td>    0.591</td>\n",
       "</tr>\n",
       "<tr>\n",
       "  <th>EMPHDX_-7</th>   <td>    0.0419</td> <td>    0.232</td> <td>    0.181</td> <td> 0.856</td> <td>   -0.412</td> <td>    0.496</td>\n",
       "</tr>\n",
       "<tr>\n",
       "  <th>EMPHDX_-1</th>   <td>   -0.4643</td> <td>    0.338</td> <td>   -1.374</td> <td> 0.170</td> <td>   -1.127</td> <td>    0.198</td>\n",
       "</tr>\n",
       "<tr>\n",
       "  <th>EMPHDX_1</th>    <td>    0.1747</td> <td>    0.163</td> <td>    1.074</td> <td> 0.283</td> <td>   -0.144</td> <td>    0.494</td>\n",
       "</tr>\n",
       "<tr>\n",
       "  <th>EMPHDX_2</th>    <td>    0.1013</td> <td>    0.152</td> <td>    0.665</td> <td> 0.506</td> <td>   -0.197</td> <td>    0.400</td>\n",
       "</tr>\n",
       "<tr>\n",
       "  <th>CHBRON53_-9</th> <td>    0.2332</td> <td>    0.182</td> <td>    1.278</td> <td> 0.201</td> <td>   -0.124</td> <td>    0.591</td>\n",
       "</tr>\n",
       "<tr>\n",
       "  <th>CHBRON53_-8</th> <td>   -0.2034</td> <td>    0.183</td> <td>   -1.112</td> <td> 0.266</td> <td>   -0.562</td> <td>    0.155</td>\n",
       "</tr>\n",
       "<tr>\n",
       "  <th>CHBRON53_-7</th> <td>    0.0419</td> <td>    0.232</td> <td>    0.181</td> <td> 0.856</td> <td>   -0.412</td> <td>    0.496</td>\n",
       "</tr>\n",
       "<tr>\n",
       "  <th>CHBRON53_-1</th> <td>    0.1134</td> <td>    0.119</td> <td>    0.954</td> <td> 0.340</td> <td>   -0.120</td> <td>    0.346</td>\n",
       "</tr>\n",
       "<tr>\n",
       "  <th>CHBRON53_1</th>  <td>   -0.0457</td> <td>    0.110</td> <td>   -0.414</td> <td> 0.679</td> <td>   -0.262</td> <td>    0.171</td>\n",
       "</tr>\n",
       "<tr>\n",
       "  <th>CHBRON53_2</th>  <td>   -0.0525</td> <td>    0.108</td> <td>   -0.486</td> <td> 0.627</td> <td>   -0.264</td> <td>    0.159</td>\n",
       "</tr>\n",
       "<tr>\n",
       "  <th>ASTHDX_-1</th>   <td>    0.6799</td> <td>    0.425</td> <td>    1.598</td> <td> 0.110</td> <td>   -0.154</td> <td>    1.514</td>\n",
       "</tr>\n",
       "<tr>\n",
       "  <th>ASTHDX_1</th>    <td>   -0.2300</td> <td>    0.225</td> <td>   -1.022</td> <td> 0.307</td> <td>   -0.671</td> <td>    0.211</td>\n",
       "</tr>\n",
       "<tr>\n",
       "  <th>ASTHDX_2</th>    <td>   -0.3631</td> <td>    0.302</td> <td>   -1.202</td> <td> 0.229</td> <td>   -0.955</td> <td>    0.229</td>\n",
       "</tr>\n",
       "<tr>\n",
       "  <th>ASACUT53_-9</th> <td>    0.0464</td> <td>    0.044</td> <td>    1.065</td> <td> 0.287</td> <td>   -0.039</td> <td>    0.132</td>\n",
       "</tr>\n",
       "<tr>\n",
       "  <th>ASACUT53_-8</th> <td>    0.2596</td> <td>    0.197</td> <td>    1.320</td> <td> 0.187</td> <td>   -0.126</td> <td>    0.645</td>\n",
       "</tr>\n",
       "<tr>\n",
       "  <th>ASACUT53_-7</th> <td>   -0.7287</td> <td>    0.387</td> <td>   -1.885</td> <td> 0.059</td> <td>   -1.487</td> <td>    0.029</td>\n",
       "</tr>\n",
       "<tr>\n",
       "  <th>ASACUT53_-1</th> <td>    0.0841</td> <td>    0.094</td> <td>    0.893</td> <td> 0.372</td> <td>   -0.101</td> <td>    0.269</td>\n",
       "</tr>\n",
       "<tr>\n",
       "  <th>ASACUT53_1</th>  <td>    0.1670</td> <td>    0.073</td> <td>    2.289</td> <td> 0.022</td> <td>    0.024</td> <td>    0.310</td>\n",
       "</tr>\n",
       "<tr>\n",
       "  <th>ASACUT53_2</th>  <td>    0.2583</td> <td>    0.159</td> <td>    1.624</td> <td> 0.104</td> <td>   -0.053</td> <td>    0.570</td>\n",
       "</tr>\n",
       "<tr>\n",
       "  <th>ASMRCN53_-8</th> <td>    0.0434</td> <td>    0.087</td> <td>    0.497</td> <td> 0.619</td> <td>   -0.128</td> <td>    0.214</td>\n",
       "</tr>\n",
       "<tr>\n",
       "  <th>ASMRCN53_-1</th> <td>   -0.0802</td> <td>    0.069</td> <td>   -1.155</td> <td> 0.248</td> <td>   -0.216</td> <td>    0.056</td>\n",
       "</tr>\n",
       "<tr>\n",
       "  <th>ASMRCN53_1</th>  <td>    0.0770</td> <td>    0.047</td> <td>    1.655</td> <td> 0.098</td> <td>   -0.014</td> <td>    0.168</td>\n",
       "</tr>\n",
       "<tr>\n",
       "  <th>ASMRCN53_2</th>  <td>    0.0466</td> <td>    0.045</td> <td>    1.046</td> <td> 0.296</td> <td>   -0.041</td> <td>    0.134</td>\n",
       "</tr>\n",
       "<tr>\n",
       "  <th>ASPREV53_-9</th> <td>    0.0464</td> <td>    0.044</td> <td>    1.065</td> <td> 0.287</td> <td>   -0.039</td> <td>    0.132</td>\n",
       "</tr>\n",
       "<tr>\n",
       "  <th>ASPREV53_-8</th> <td>   -0.0775</td> <td>    0.095</td> <td>   -0.816</td> <td> 0.415</td> <td>   -0.264</td> <td>    0.109</td>\n",
       "</tr>\n",
       "<tr>\n",
       "  <th>ASPREV53_-7</th> <td>    0.2047</td> <td>    0.202</td> <td>    1.013</td> <td> 0.311</td> <td>   -0.192</td> <td>    0.601</td>\n",
       "</tr>\n",
       "<tr>\n",
       "  <th>ASPREV53_-1</th> <td>    0.0841</td> <td>    0.094</td> <td>    0.893</td> <td> 0.372</td> <td>   -0.101</td> <td>    0.269</td>\n",
       "</tr>\n",
       "<tr>\n",
       "  <th>ASPREV53_1</th>  <td>   -0.0447</td> <td>    0.076</td> <td>   -0.585</td> <td> 0.559</td> <td>   -0.194</td> <td>    0.105</td>\n",
       "</tr>\n",
       "<tr>\n",
       "  <th>ASPREV53_2</th>  <td>   -0.1262</td> <td>    0.076</td> <td>   -1.654</td> <td> 0.098</td> <td>   -0.276</td> <td>    0.023</td>\n",
       "</tr>\n",
       "<tr>\n",
       "  <th>ASPKFL53_-9</th> <td>    0.0464</td> <td>    0.044</td> <td>    1.065</td> <td> 0.287</td> <td>   -0.039</td> <td>    0.132</td>\n",
       "</tr>\n",
       "<tr>\n",
       "  <th>ASPKFL53_-8</th> <td>   -0.1723</td> <td>    0.120</td> <td>   -1.433</td> <td> 0.152</td> <td>   -0.408</td> <td>    0.063</td>\n",
       "</tr>\n",
       "<tr>\n",
       "  <th>ASPKFL53_-7</th> <td>    0.2047</td> <td>    0.202</td> <td>    1.013</td> <td> 0.311</td> <td>   -0.192</td> <td>    0.601</td>\n",
       "</tr>\n",
       "<tr>\n",
       "  <th>ASPKFL53_-1</th> <td>    0.0841</td> <td>    0.094</td> <td>    0.893</td> <td> 0.372</td> <td>   -0.101</td> <td>    0.269</td>\n",
       "</tr>\n",
       "<tr>\n",
       "  <th>ASPKFL53_1</th>  <td>   -0.0415</td> <td>    0.085</td> <td>   -0.489</td> <td> 0.625</td> <td>   -0.208</td> <td>    0.125</td>\n",
       "</tr>\n",
       "<tr>\n",
       "  <th>ASPKFL53_2</th>  <td>   -0.0347</td> <td>    0.081</td> <td>   -0.427</td> <td> 0.669</td> <td>   -0.194</td> <td>    0.124</td>\n",
       "</tr>\n",
       "<tr>\n",
       "  <th>ASWNFL53_-8</th> <td>    0.0117</td> <td>    0.172</td> <td>    0.068</td> <td> 0.946</td> <td>   -0.326</td> <td>    0.349</td>\n",
       "</tr>\n",
       "<tr>\n",
       "  <th>ASWNFL53_-1</th> <td>    0.0220</td> <td>    0.053</td> <td>    0.411</td> <td> 0.681</td> <td>   -0.083</td> <td>    0.127</td>\n",
       "</tr>\n",
       "<tr>\n",
       "  <th>ASWNFL53_1</th>  <td>   -0.0563</td> <td>    0.060</td> <td>   -0.932</td> <td> 0.351</td> <td>   -0.175</td> <td>    0.062</td>\n",
       "</tr>\n",
       "<tr>\n",
       "  <th>ASWNFL53_2</th>  <td>    0.0565</td> <td>    0.062</td> <td>    0.906</td> <td> 0.365</td> <td>   -0.066</td> <td>    0.179</td>\n",
       "</tr>\n",
       "<tr>\n",
       "  <th>ASWNFL53_3</th>  <td>    0.0530</td> <td>    0.052</td> <td>    1.028</td> <td> 0.304</td> <td>   -0.048</td> <td>    0.154</td>\n",
       "</tr>\n",
       "<tr>\n",
       "  <th>WLKLIM53_-8</th> <td>    0.2248</td> <td>    0.175</td> <td>    1.287</td> <td> 0.198</td> <td>   -0.118</td> <td>    0.567</td>\n",
       "</tr>\n",
       "<tr>\n",
       "  <th>WLKLIM53_-7</th> <td>   -0.4251</td> <td>    0.316</td> <td>   -1.347</td> <td> 0.178</td> <td>   -1.044</td> <td>    0.193</td>\n",
       "</tr>\n",
       "<tr>\n",
       "  <th>WLKLIM53_-1</th> <td>   -0.0181</td> <td>    0.230</td> <td>   -0.078</td> <td> 0.937</td> <td>   -0.469</td> <td>    0.433</td>\n",
       "</tr>\n",
       "<tr>\n",
       "  <th>WLKLIM53_1</th>  <td>    0.1428</td> <td>    0.071</td> <td>    2.014</td> <td> 0.044</td> <td>    0.004</td> <td>    0.282</td>\n",
       "</tr>\n",
       "<tr>\n",
       "  <th>WLKLIM53_2</th>  <td>    0.1625</td> <td>    0.131</td> <td>    1.240</td> <td> 0.215</td> <td>   -0.094</td> <td>    0.419</td>\n",
       "</tr>\n",
       "<tr>\n",
       "  <th>WLKDIF53_-8</th> <td>    0.1383</td> <td>    0.333</td> <td>    0.415</td> <td> 0.678</td> <td>   -0.515</td> <td>    0.792</td>\n",
       "</tr>\n",
       "<tr>\n",
       "  <th>WLKDIF53_-1</th> <td>   -0.0559</td> <td>    0.071</td> <td>   -0.787</td> <td> 0.431</td> <td>   -0.195</td> <td>    0.083</td>\n",
       "</tr>\n",
       "<tr>\n",
       "  <th>WLKDIF53_1</th>  <td>    0.0701</td> <td>    0.092</td> <td>    0.764</td> <td> 0.445</td> <td>   -0.110</td> <td>    0.250</td>\n",
       "</tr>\n",
       "<tr>\n",
       "  <th>WLKDIF53_2</th>  <td>    0.0029</td> <td>    0.085</td> <td>    0.034</td> <td> 0.973</td> <td>   -0.163</td> <td>    0.169</td>\n",
       "</tr>\n",
       "<tr>\n",
       "  <th>WLKDIF53_3</th>  <td>   -0.0211</td> <td>    0.085</td> <td>   -0.248</td> <td> 0.804</td> <td>   -0.187</td> <td>    0.145</td>\n",
       "</tr>\n",
       "<tr>\n",
       "  <th>WLKDIF53_4</th>  <td>   -0.0474</td> <td>    0.084</td> <td>   -0.566</td> <td> 0.571</td> <td>   -0.212</td> <td>    0.117</td>\n",
       "</tr>\n",
       "<tr>\n",
       "  <th>UNABLE53_-8</th> <td>    0.1327</td> <td>    0.225</td> <td>    0.589</td> <td> 0.556</td> <td>   -0.309</td> <td>    0.574</td>\n",
       "</tr>\n",
       "<tr>\n",
       "  <th>UNABLE53_-1</th> <td>   -0.1040</td> <td>    0.077</td> <td>   -1.344</td> <td> 0.179</td> <td>   -0.256</td> <td>    0.048</td>\n",
       "</tr>\n",
       "<tr>\n",
       "  <th>UNABLE53_1</th>  <td>    0.0586</td> <td>    0.077</td> <td>    0.763</td> <td> 0.445</td> <td>   -0.092</td> <td>    0.209</td>\n",
       "</tr>\n",
       "<tr>\n",
       "  <th>UNABLE53_2</th>  <td>   -0.0005</td> <td>    0.079</td> <td>   -0.006</td> <td> 0.995</td> <td>   -0.155</td> <td>    0.154</td>\n",
       "</tr>\n",
       "<tr>\n",
       "  <th>BLIND42_-1</th>  <td>   -0.0653</td> <td>    0.057</td> <td>   -1.148</td> <td> 0.251</td> <td>   -0.177</td> <td>    0.046</td>\n",
       "</tr>\n",
       "<tr>\n",
       "  <th>BLIND42_1</th>   <td>    0.1546</td> <td>    0.116</td> <td>    1.332</td> <td> 0.183</td> <td>   -0.073</td> <td>    0.382</td>\n",
       "</tr>\n",
       "<tr>\n",
       "  <th>BLIND42_2</th>   <td>   -0.0024</td> <td>    0.059</td> <td>   -0.041</td> <td> 0.967</td> <td>   -0.119</td> <td>    0.114</td>\n",
       "</tr>\n",
       "<tr>\n",
       "  <th>PHYSCL42_-8</th> <td>   -0.0737</td> <td>    0.076</td> <td>   -0.969</td> <td> 0.332</td> <td>   -0.223</td> <td>    0.075</td>\n",
       "</tr>\n",
       "<tr>\n",
       "  <th>PHYSCL42_-1</th> <td>    0.0589</td> <td>    0.043</td> <td>    1.359</td> <td> 0.174</td> <td>   -0.026</td> <td>    0.144</td>\n",
       "</tr>\n",
       "<tr>\n",
       "  <th>PHYSCL42_1</th>  <td>    0.0994</td> <td>    0.034</td> <td>    2.952</td> <td> 0.003</td> <td>    0.033</td> <td>    0.165</td>\n",
       "</tr>\n",
       "<tr>\n",
       "  <th>PHYSCL42_2</th>  <td>    0.0022</td> <td>    0.033</td> <td>    0.067</td> <td> 0.946</td> <td>   -0.062</td> <td>    0.066</td>\n",
       "</tr>\n",
       "<tr>\n",
       "  <th>EXRCIS53_-8</th> <td>   -0.1629</td> <td>    0.071</td> <td>   -2.290</td> <td> 0.022</td> <td>   -0.302</td> <td>   -0.023</td>\n",
       "</tr>\n",
       "<tr>\n",
       "  <th>EXRCIS53_-1</th> <td>    0.1134</td> <td>    0.119</td> <td>    0.954</td> <td> 0.340</td> <td>   -0.120</td> <td>    0.346</td>\n",
       "</tr>\n",
       "<tr>\n",
       "  <th>EXRCIS53_1</th>  <td>    0.0869</td> <td>    0.050</td> <td>    1.736</td> <td> 0.083</td> <td>   -0.011</td> <td>    0.185</td>\n",
       "</tr>\n",
       "<tr>\n",
       "  <th>EXRCIS53_2</th>  <td>    0.0495</td> <td>    0.050</td> <td>    1.000</td> <td> 0.317</td> <td>   -0.048</td> <td>    0.147</td>\n",
       "</tr>\n",
       "<tr>\n",
       "  <th>ASPRIN53_-8</th> <td>    0.1940</td> <td>    0.154</td> <td>    1.256</td> <td> 0.209</td> <td>   -0.109</td> <td>    0.497</td>\n",
       "</tr>\n",
       "<tr>\n",
       "  <th>ASPRIN53_-7</th> <td>   -0.1598</td> <td>    0.262</td> <td>   -0.609</td> <td> 0.542</td> <td>   -0.674</td> <td>    0.354</td>\n",
       "</tr>\n",
       "<tr>\n",
       "  <th>ASPRIN53_-1</th> <td>    0.1134</td> <td>    0.119</td> <td>    0.954</td> <td> 0.340</td> <td>   -0.120</td> <td>    0.346</td>\n",
       "</tr>\n",
       "<tr>\n",
       "  <th>ASPRIN53_1</th>  <td>   -0.0183</td> <td>    0.095</td> <td>   -0.194</td> <td> 0.846</td> <td>   -0.204</td> <td>    0.167</td>\n",
       "</tr>\n",
       "<tr>\n",
       "  <th>ASPRIN53_2</th>  <td>   -0.0424</td> <td>    0.093</td> <td>   -0.456</td> <td> 0.648</td> <td>   -0.225</td> <td>    0.140</td>\n",
       "</tr>\n",
       "<tr>\n",
       "  <th>ADEGMC42_-9</th> <td>   -0.0074</td> <td>    0.081</td> <td>   -0.092</td> <td> 0.927</td> <td>   -0.166</td> <td>    0.151</td>\n",
       "</tr>\n",
       "<tr>\n",
       "  <th>ADEGMC42_-1</th> <td>   -0.0716</td> <td>    0.035</td> <td>   -2.026</td> <td> 0.043</td> <td>   -0.141</td> <td>   -0.002</td>\n",
       "</tr>\n",
       "<tr>\n",
       "  <th>ADEGMC42_1</th>  <td>    0.0755</td> <td>    0.078</td> <td>    0.970</td> <td> 0.332</td> <td>   -0.077</td> <td>    0.228</td>\n",
       "</tr>\n",
       "<tr>\n",
       "  <th>ADEGMC42_2</th>  <td>    0.0142</td> <td>    0.043</td> <td>    0.328</td> <td> 0.743</td> <td>   -0.070</td> <td>    0.099</td>\n",
       "</tr>\n",
       "<tr>\n",
       "  <th>ADEGMC42_3</th>  <td>    0.0420</td> <td>    0.033</td> <td>    1.272</td> <td> 0.203</td> <td>   -0.023</td> <td>    0.107</td>\n",
       "</tr>\n",
       "<tr>\n",
       "  <th>ADEGMC42_4</th>  <td>    0.0342</td> <td>    0.031</td> <td>    1.110</td> <td> 0.267</td> <td>   -0.026</td> <td>    0.095</td>\n",
       "</tr>\n",
       "<tr>\n",
       "  <th>ADEXPL42_-9</th> <td>    0.2589</td> <td>    0.116</td> <td>    2.236</td> <td> 0.025</td> <td>    0.032</td> <td>    0.486</td>\n",
       "</tr>\n",
       "<tr>\n",
       "  <th>ADEXPL42_-1</th> <td>    0.0146</td> <td>    0.026</td> <td>    0.567</td> <td> 0.571</td> <td>   -0.036</td> <td>    0.065</td>\n",
       "</tr>\n",
       "<tr>\n",
       "  <th>ADEXPL42_1</th>  <td>   -0.1023</td> <td>    0.090</td> <td>   -1.134</td> <td> 0.257</td> <td>   -0.279</td> <td>    0.074</td>\n",
       "</tr>\n",
       "<tr>\n",
       "  <th>ADEXPL42_2</th>  <td>   -0.0946</td> <td>    0.051</td> <td>   -1.858</td> <td> 0.063</td> <td>   -0.194</td> <td>    0.005</td>\n",
       "</tr>\n",
       "<tr>\n",
       "  <th>ADEXPL42_3</th>  <td>    0.0067</td> <td>    0.042</td> <td>    0.157</td> <td> 0.875</td> <td>   -0.076</td> <td>    0.090</td>\n",
       "</tr>\n",
       "<tr>\n",
       "  <th>ADEXPL42_4</th>  <td>    0.0036</td> <td>    0.042</td> <td>    0.087</td> <td> 0.931</td> <td>   -0.078</td> <td>    0.085</td>\n",
       "</tr>\n",
       "<tr>\n",
       "  <th>ADPRTM42_-9</th> <td>   -0.2948</td> <td>    0.134</td> <td>   -2.202</td> <td> 0.028</td> <td>   -0.557</td> <td>   -0.032</td>\n",
       "</tr>\n",
       "<tr>\n",
       "  <th>ADPRTM42_-1</th> <td>    0.0146</td> <td>    0.026</td> <td>    0.567</td> <td> 0.571</td> <td>   -0.036</td> <td>    0.065</td>\n",
       "</tr>\n",
       "<tr>\n",
       "  <th>ADPRTM42_1</th>  <td>    0.0933</td> <td>    0.069</td> <td>    1.355</td> <td> 0.175</td> <td>   -0.042</td> <td>    0.228</td>\n",
       "</tr>\n",
       "<tr>\n",
       "  <th>ADPRTM42_2</th>  <td>    0.0614</td> <td>    0.048</td> <td>    1.292</td> <td> 0.196</td> <td>   -0.032</td> <td>    0.155</td>\n",
       "</tr>\n",
       "<tr>\n",
       "  <th>ADPRTM42_3</th>  <td>    0.1034</td> <td>    0.045</td> <td>    2.286</td> <td> 0.022</td> <td>    0.015</td> <td>    0.192</td>\n",
       "</tr>\n",
       "<tr>\n",
       "  <th>ADPRTM42_4</th>  <td>    0.1089</td> <td>    0.049</td> <td>    2.202</td> <td> 0.028</td> <td>    0.012</td> <td>    0.206</td>\n",
       "</tr>\n",
       "<tr>\n",
       "  <th>ADSMOK42_-9</th> <td>    0.0892</td> <td>    0.074</td> <td>    1.206</td> <td> 0.228</td> <td>   -0.056</td> <td>    0.234</td>\n",
       "</tr>\n",
       "<tr>\n",
       "  <th>ADSMOK42_-1</th> <td>    0.0610</td> <td>    0.033</td> <td>    1.852</td> <td> 0.064</td> <td>   -0.004</td> <td>    0.126</td>\n",
       "</tr>\n",
       "<tr>\n",
       "  <th>ADSMOK42_1</th>  <td>   -0.0394</td> <td>    0.056</td> <td>   -0.699</td> <td> 0.485</td> <td>   -0.150</td> <td>    0.071</td>\n",
       "</tr>\n",
       "<tr>\n",
       "  <th>ADSMOK42_2</th>  <td>   -0.0240</td> <td>    0.026</td> <td>   -0.922</td> <td> 0.357</td> <td>   -0.075</td> <td>    0.027</td>\n",
       "</tr>\n",
       "<tr>\n",
       "  <th>ADNSMK42_-9</th> <td>   -0.0258</td> <td>    0.092</td> <td>   -0.280</td> <td> 0.779</td> <td>   -0.206</td> <td>    0.154</td>\n",
       "</tr>\n",
       "<tr>\n",
       "  <th>ADNSMK42_-1</th> <td>    0.0371</td> <td>    0.027</td> <td>    1.373</td> <td> 0.170</td> <td>   -0.016</td> <td>    0.090</td>\n",
       "</tr>\n",
       "<tr>\n",
       "  <th>ADNSMK42_1</th>  <td>    0.1081</td> <td>    0.048</td> <td>    2.246</td> <td> 0.025</td> <td>    0.014</td> <td>    0.202</td>\n",
       "</tr>\n",
       "<tr>\n",
       "  <th>ADNSMK42_2</th>  <td>    0.0341</td> <td>    0.057</td> <td>    0.600</td> <td> 0.549</td> <td>   -0.077</td> <td>    0.145</td>\n",
       "</tr>\n",
       "<tr>\n",
       "  <th>ADNSMK42_3</th>  <td>   -0.0666</td> <td>    0.078</td> <td>   -0.855</td> <td> 0.392</td> <td>   -0.219</td> <td>    0.086</td>\n",
       "</tr>\n",
       "<tr>\n",
       "  <th>DSFL0953_-9</th> <td>    0.0279</td> <td>    0.049</td> <td>    0.568</td> <td> 0.570</td> <td>   -0.068</td> <td>    0.124</td>\n",
       "</tr>\n",
       "<tr>\n",
       "  <th>DSFL0953_-1</th> <td>-3.419e-05</td> <td>    0.018</td> <td>   -0.002</td> <td> 0.999</td> <td>   -0.036</td> <td>    0.036</td>\n",
       "</tr>\n",
       "<tr>\n",
       "  <th>DSFL0953_1</th>  <td>   -0.0428</td> <td>    0.043</td> <td>   -0.992</td> <td> 0.321</td> <td>   -0.127</td> <td>    0.042</td>\n",
       "</tr>\n",
       "<tr>\n",
       "  <th>DSFL0953_2</th>  <td>    0.1018</td> <td>    0.042</td> <td>    2.439</td> <td> 0.015</td> <td>    0.020</td> <td>    0.184</td>\n",
       "</tr>\n",
       "<tr>\n",
       "  <th>DSFL0853_-9</th> <td>    0.0279</td> <td>    0.049</td> <td>    0.568</td> <td> 0.570</td> <td>   -0.068</td> <td>    0.124</td>\n",
       "</tr>\n",
       "<tr>\n",
       "  <th>DSFL0853_-1</th> <td>-3.419e-05</td> <td>    0.018</td> <td>   -0.002</td> <td> 0.999</td> <td>   -0.036</td> <td>    0.036</td>\n",
       "</tr>\n",
       "<tr>\n",
       "  <th>DSFL0853_1</th>  <td>    0.0769</td> <td>    0.039</td> <td>    1.980</td> <td> 0.048</td> <td>    0.001</td> <td>    0.153</td>\n",
       "</tr>\n",
       "<tr>\n",
       "  <th>DSFL0853_2</th>  <td>   -0.0179</td> <td>    0.035</td> <td>   -0.510</td> <td> 0.610</td> <td>   -0.087</td> <td>    0.051</td>\n",
       "</tr>\n",
       "<tr>\n",
       "  <th>DSFLNV53_-9</th> <td>    0.0279</td> <td>    0.049</td> <td>    0.568</td> <td> 0.570</td> <td>   -0.068</td> <td>    0.124</td>\n",
       "</tr>\n",
       "<tr>\n",
       "  <th>DSFLNV53_-1</th> <td>-3.419e-05</td> <td>    0.018</td> <td>   -0.002</td> <td> 0.999</td> <td>   -0.036</td> <td>    0.036</td>\n",
       "</tr>\n",
       "<tr>\n",
       "  <th>DSFLNV53_1</th>  <td>    0.0230</td> <td>    0.056</td> <td>    0.410</td> <td> 0.682</td> <td>   -0.087</td> <td>    0.133</td>\n",
       "</tr>\n",
       "<tr>\n",
       "  <th>DSFLNV53_2</th>  <td>    0.0359</td> <td>    0.046</td> <td>    0.777</td> <td> 0.437</td> <td>   -0.055</td> <td>    0.127</td>\n",
       "</tr>\n",
       "<tr>\n",
       "  <th>PMUNAB42_-8</th> <td>   -0.3024</td> <td>    0.360</td> <td>   -0.839</td> <td> 0.401</td> <td>   -1.008</td> <td>    0.404</td>\n",
       "</tr>\n",
       "<tr>\n",
       "  <th>PMUNAB42_-1</th> <td>    0.0402</td> <td>    0.099</td> <td>    0.405</td> <td> 0.685</td> <td>   -0.154</td> <td>    0.235</td>\n",
       "</tr>\n",
       "<tr>\n",
       "  <th>PMUNAB42_1</th>  <td>    0.1375</td> <td>    0.090</td> <td>    1.527</td> <td> 0.127</td> <td>   -0.039</td> <td>    0.314</td>\n",
       "</tr>\n",
       "<tr>\n",
       "  <th>PMUNAB42_2</th>  <td>    0.2115</td> <td>    0.238</td> <td>    0.888</td> <td> 0.374</td> <td>   -0.255</td> <td>    0.678</td>\n",
       "</tr>\n",
       "<tr>\n",
       "  <th>PMUNRS42_-9</th> <td>   -0.4057</td> <td>    0.500</td> <td>   -0.812</td> <td> 0.417</td> <td>   -1.385</td> <td>    0.574</td>\n",
       "</tr>\n",
       "<tr>\n",
       "  <th>PMUNRS42_-1</th> <td>   -0.0507</td> <td>    0.079</td> <td>   -0.641</td> <td> 0.522</td> <td>   -0.206</td> <td>    0.104</td>\n",
       "</tr>\n",
       "<tr>\n",
       "  <th>PMUNRS42_1</th>  <td>   -0.0439</td> <td>    0.143</td> <td>   -0.306</td> <td> 0.760</td> <td>   -0.325</td> <td>    0.237</td>\n",
       "</tr>\n",
       "<tr>\n",
       "  <th>PMUNRS42_2</th>  <td>    0.1319</td> <td>    0.161</td> <td>    0.818</td> <td> 0.414</td> <td>   -0.184</td> <td>    0.448</td>\n",
       "</tr>\n",
       "<tr>\n",
       "  <th>PMUNRS42_4</th>  <td>    0.1942</td> <td>    0.367</td> <td>    0.529</td> <td> 0.597</td> <td>   -0.525</td> <td>    0.913</td>\n",
       "</tr>\n",
       "<tr>\n",
       "  <th>PMUNRS42_8</th>  <td>    0.1082</td> <td>    0.381</td> <td>    0.284</td> <td> 0.777</td> <td>   -0.639</td> <td>    0.855</td>\n",
       "</tr>\n",
       "<tr>\n",
       "  <th>PMUNRS42_91</th> <td>    0.1528</td> <td>    0.226</td> <td>    0.675</td> <td> 0.500</td> <td>   -0.291</td> <td>    0.597</td>\n",
       "</tr>\n",
       "<tr>\n",
       "  <th>PMUNPR42_-9</th> <td>    0.6134</td> <td>    0.350</td> <td>    1.754</td> <td> 0.079</td> <td>   -0.072</td> <td>    1.299</td>\n",
       "</tr>\n",
       "<tr>\n",
       "  <th>PMUNPR42_-8</th> <td>   -0.1570</td> <td>    0.362</td> <td>   -0.433</td> <td> 0.665</td> <td>   -0.867</td> <td>    0.553</td>\n",
       "</tr>\n",
       "<tr>\n",
       "  <th>PMUNPR42_-1</th> <td>   -0.0507</td> <td>    0.079</td> <td>   -0.641</td> <td> 0.522</td> <td>   -0.206</td> <td>    0.104</td>\n",
       "</tr>\n",
       "<tr>\n",
       "  <th>PMUNPR42_1</th>  <td>   -0.0786</td> <td>    0.139</td> <td>   -0.566</td> <td> 0.571</td> <td>   -0.351</td> <td>    0.193</td>\n",
       "</tr>\n",
       "<tr>\n",
       "  <th>PMUNPR42_2</th>  <td>   -0.1528</td> <td>    0.167</td> <td>   -0.916</td> <td> 0.360</td> <td>   -0.480</td> <td>    0.174</td>\n",
       "</tr>\n",
       "<tr>\n",
       "  <th>PMUNPR42_3</th>  <td>   -0.0875</td> <td>    0.269</td> <td>   -0.325</td> <td> 0.745</td> <td>   -0.615</td> <td>    0.440</td>\n",
       "</tr>\n",
       "<tr>\n",
       "  <th>PMDLAY42_-8</th> <td>    0.3215</td> <td>    0.286</td> <td>    1.126</td> <td> 0.260</td> <td>   -0.238</td> <td>    0.881</td>\n",
       "</tr>\n",
       "<tr>\n",
       "  <th>PMDLAY42_-1</th> <td>    0.0402</td> <td>    0.099</td> <td>    0.405</td> <td> 0.685</td> <td>   -0.154</td> <td>    0.235</td>\n",
       "</tr>\n",
       "<tr>\n",
       "  <th>PMDLAY42_1</th>  <td>   -0.1252</td> <td>    0.152</td> <td>   -0.823</td> <td> 0.411</td> <td>   -0.423</td> <td>    0.173</td>\n",
       "</tr>\n",
       "<tr>\n",
       "  <th>PMDLAY42_2</th>  <td>   -0.1497</td> <td>    0.153</td> <td>   -0.977</td> <td> 0.329</td> <td>   -0.450</td> <td>    0.151</td>\n",
       "</tr>\n",
       "<tr>\n",
       "  <th>OCCCAT53_-9</th> <td>    0.2272</td> <td>    0.383</td> <td>    0.593</td> <td> 0.553</td> <td>   -0.523</td> <td>    0.977</td>\n",
       "</tr>\n",
       "<tr>\n",
       "  <th>OCCCAT53_-2</th> <td>    0.0294</td> <td>    0.077</td> <td>    0.381</td> <td> 0.703</td> <td>   -0.122</td> <td>    0.181</td>\n",
       "</tr>\n",
       "<tr>\n",
       "  <th>OCCCAT53_-1</th> <td>    0.0887</td> <td>    0.076</td> <td>    1.167</td> <td> 0.243</td> <td>   -0.060</td> <td>    0.238</td>\n",
       "</tr>\n",
       "<tr>\n",
       "  <th>OCCCAT53_1</th>  <td>   -0.0273</td> <td>    0.187</td> <td>   -0.146</td> <td> 0.884</td> <td>   -0.393</td> <td>    0.339</td>\n",
       "</tr>\n",
       "<tr>\n",
       "  <th>OCCCAT53_2</th>  <td>    0.0177</td> <td>    0.117</td> <td>    0.151</td> <td> 0.880</td> <td>   -0.212</td> <td>    0.248</td>\n",
       "</tr>\n",
       "<tr>\n",
       "  <th>OCCCAT53_3</th>  <td>    0.1935</td> <td>    0.099</td> <td>    1.945</td> <td> 0.052</td> <td>   -0.001</td> <td>    0.389</td>\n",
       "</tr>\n",
       "<tr>\n",
       "  <th>OCCCAT53_4</th>  <td>    0.0611</td> <td>    0.123</td> <td>    0.497</td> <td> 0.619</td> <td>   -0.180</td> <td>    0.302</td>\n",
       "</tr>\n",
       "<tr>\n",
       "  <th>OCCCAT53_5</th>  <td>   -0.0410</td> <td>    0.135</td> <td>   -0.305</td> <td> 0.761</td> <td>   -0.305</td> <td>    0.223</td>\n",
       "</tr>\n",
       "<tr>\n",
       "  <th>OCCCAT53_6</th>  <td>   -0.2286</td> <td>    0.380</td> <td>   -0.602</td> <td> 0.547</td> <td>   -0.973</td> <td>    0.516</td>\n",
       "</tr>\n",
       "<tr>\n",
       "  <th>OCCCAT53_7</th>  <td>   -0.1680</td> <td>    0.378</td> <td>   -0.444</td> <td> 0.657</td> <td>   -0.909</td> <td>    0.573</td>\n",
       "</tr>\n",
       "<tr>\n",
       "  <th>OCCCAT53_8</th>  <td>   -0.0031</td> <td>    0.152</td> <td>   -0.021</td> <td> 0.984</td> <td>   -0.301</td> <td>    0.295</td>\n",
       "</tr>\n",
       "<tr>\n",
       "  <th>OCCCAT53_11</th> <td>   -0.0627</td> <td>    0.434</td> <td>   -0.144</td> <td> 0.885</td> <td>   -0.914</td> <td>    0.789</td>\n",
       "</tr>\n",
       "<tr>\n",
       "  <th>UNINS09_1</th>   <td>   -0.0030</td> <td>    0.021</td> <td>   -0.141</td> <td> 0.888</td> <td>   -0.044</td> <td>    0.038</td>\n",
       "</tr>\n",
       "<tr>\n",
       "  <th>UNINS09_2</th>   <td>    0.0898</td> <td>    0.024</td> <td>    3.681</td> <td> 0.000</td> <td>    0.042</td> <td>    0.138</td>\n",
       "</tr>\n",
       "<tr>\n",
       "  <th>INSCOV09_1</th>  <td>    0.0534</td> <td>    0.017</td> <td>    3.191</td> <td> 0.001</td> <td>    0.021</td> <td>    0.086</td>\n",
       "</tr>\n",
       "<tr>\n",
       "  <th>INSCOV09_2</th>  <td>    0.0364</td> <td>    0.017</td> <td>    2.194</td> <td> 0.028</td> <td>    0.004</td> <td>    0.069</td>\n",
       "</tr>\n",
       "<tr>\n",
       "  <th>INSCOV09_3</th>  <td>   -0.0030</td> <td>    0.021</td> <td>   -0.141</td> <td> 0.888</td> <td>   -0.044</td> <td>    0.038</td>\n",
       "</tr>\n",
       "<tr>\n",
       "  <th>INS09X_-1</th>   <td>    0.0811</td> <td>    0.106</td> <td>    0.768</td> <td> 0.442</td> <td>   -0.126</td> <td>    0.288</td>\n",
       "</tr>\n",
       "<tr>\n",
       "  <th>INS09X_1</th>    <td>    0.0370</td> <td>    0.053</td> <td>    0.700</td> <td> 0.484</td> <td>   -0.067</td> <td>    0.141</td>\n",
       "</tr>\n",
       "<tr>\n",
       "  <th>INS09X_2</th>    <td>   -0.0313</td> <td>    0.053</td> <td>   -0.586</td> <td> 0.558</td> <td>   -0.136</td> <td>    0.073</td>\n",
       "</tr>\n",
       "</table>"
      ],
      "text/plain": [
       "<class 'statsmodels.iolib.summary.Summary'>\n",
       "\"\"\"\n",
       "                 Generalized Linear Model Regression Results                  \n",
       "==============================================================================\n",
       "Dep. Variable:               TOTEXP09   No. Observations:                 2375\n",
       "Model:                            GLM   Df Residuals:                     2245\n",
       "Model Family:                Gaussian   Df Model:                          129\n",
       "Link Function:               identity   Scale:                         0.16086\n",
       "Method:                          IRLS   Log-Likelihood:                -1133.3\n",
       "Date:                Wed, 04 Mar 2020   Deviance:                       361.12\n",
       "Time:                        14:33:24   Pearson chi2:                     361.\n",
       "No. Iterations:                     3                                         \n",
       "Covariance Type:            nonrobust                                         \n",
       "===============================================================================\n",
       "                  coef    std err          z      P>|z|      [0.025      0.975]\n",
       "-------------------------------------------------------------------------------\n",
       "AGE09X          0.0043      0.001      4.911      0.000       0.003       0.006\n",
       "EMPHAGED       -0.0014      0.002     -0.848      0.396      -0.005       0.002\n",
       "ASTHAGED        0.0006      0.001      0.948      0.343      -0.001       0.002\n",
       "ASTHEP53       -0.0065      0.007     -0.984      0.325      -0.019       0.006\n",
       "CHAPPT42        0.0455      0.006      7.675      0.000       0.034       0.057\n",
       "CHBMIX42        0.0012      0.001      1.071      0.284      -0.001       0.003\n",
       "CHECK53        -0.0121      0.006     -1.919      0.055      -0.024       0.000\n",
       "BMINDX53       -0.0001      0.001     -0.101      0.919      -0.003       0.002\n",
       "ADAPPT42        0.0243      0.005      4.935      0.000       0.015       0.034\n",
       "ADHECR42       -0.0069      0.006     -1.100      0.271      -0.019       0.005\n",
       "WKINBD53        0.0031      0.002      1.994      0.046    5.28e-05       0.006\n",
       "TTLP09X     -2.193e-07   6.27e-07     -0.350      0.726   -1.45e-06    1.01e-06\n",
       "FAMINC09    -5.508e-07   5.21e-07     -1.057      0.291   -1.57e-06    4.71e-07\n",
       "POVLEV09        0.0002      0.000      2.024      0.043       7e-06       0.000\n",
       "PERWT09F     1.592e-06   1.66e-06      0.960      0.337   -1.66e-06    4.84e-06\n",
       "REGION09_-1     0.0811      0.106      0.768      0.442      -0.126       0.288\n",
       "REGION09_1      0.0322      0.030      1.069      0.285      -0.027       0.091\n",
       "REGION09_2      0.0370      0.029      1.270      0.204      -0.020       0.094\n",
       "REGION09_3     -0.0190      0.028     -0.672      0.501      -0.075       0.036\n",
       "REGION09_4     -0.0445      0.029     -1.538      0.124      -0.101       0.012\n",
       "SEX_1           0.0290      0.020      1.422      0.155      -0.011       0.069\n",
       "SEX_2           0.0579      0.020      2.899      0.004       0.019       0.097\n",
       "RACETHNX_1     -0.0025      0.021     -0.119      0.905      -0.043       0.038\n",
       "RACETHNX_2      0.0131      0.021      0.634      0.526      -0.027       0.054\n",
       "RACETHNX_3      0.0144      0.036      0.398      0.691      -0.056       0.085\n",
       "RACETHNX_4      0.0619      0.020      3.078      0.002       0.022       0.101\n",
       "SPOUIN09_1      0.0478      0.026      1.855      0.064      -0.003       0.098\n",
       "SPOUIN09_2     -0.0081      0.021     -0.385      0.701      -0.049       0.033\n",
       "SPOUIN09_3      0.0471      0.037      1.266      0.206      -0.026       0.120\n",
       "RTHLTH53_-8     0.0087      0.350      0.025      0.980      -0.678       0.696\n",
       "RTHLTH53_-1    -0.0181      0.230     -0.078      0.937      -0.469       0.433\n",
       "RTHLTH53_1     -0.0730      0.078     -0.939      0.348      -0.225       0.079\n",
       "RTHLTH53_2      0.0029      0.077      0.038      0.970      -0.148       0.153\n",
       "RTHLTH53_3      0.0152      0.076      0.199      0.842      -0.134       0.165\n",
       "RTHLTH53_4      0.0787      0.077      1.025      0.305      -0.072       0.229\n",
       "RTHLTH53_5      0.0725      0.079      0.912      0.362      -0.083       0.228\n",
       "EMPHDX_-9       0.2332      0.182      1.278      0.201      -0.124       0.591\n",
       "EMPHDX_-7       0.0419      0.232      0.181      0.856      -0.412       0.496\n",
       "EMPHDX_-1      -0.4643      0.338     -1.374      0.170      -1.127       0.198\n",
       "EMPHDX_1        0.1747      0.163      1.074      0.283      -0.144       0.494\n",
       "EMPHDX_2        0.1013      0.152      0.665      0.506      -0.197       0.400\n",
       "CHBRON53_-9     0.2332      0.182      1.278      0.201      -0.124       0.591\n",
       "CHBRON53_-8    -0.2034      0.183     -1.112      0.266      -0.562       0.155\n",
       "CHBRON53_-7     0.0419      0.232      0.181      0.856      -0.412       0.496\n",
       "CHBRON53_-1     0.1134      0.119      0.954      0.340      -0.120       0.346\n",
       "CHBRON53_1     -0.0457      0.110     -0.414      0.679      -0.262       0.171\n",
       "CHBRON53_2     -0.0525      0.108     -0.486      0.627      -0.264       0.159\n",
       "ASTHDX_-1       0.6799      0.425      1.598      0.110      -0.154       1.514\n",
       "ASTHDX_1       -0.2300      0.225     -1.022      0.307      -0.671       0.211\n",
       "ASTHDX_2       -0.3631      0.302     -1.202      0.229      -0.955       0.229\n",
       "ASACUT53_-9     0.0464      0.044      1.065      0.287      -0.039       0.132\n",
       "ASACUT53_-8     0.2596      0.197      1.320      0.187      -0.126       0.645\n",
       "ASACUT53_-7    -0.7287      0.387     -1.885      0.059      -1.487       0.029\n",
       "ASACUT53_-1     0.0841      0.094      0.893      0.372      -0.101       0.269\n",
       "ASACUT53_1      0.1670      0.073      2.289      0.022       0.024       0.310\n",
       "ASACUT53_2      0.2583      0.159      1.624      0.104      -0.053       0.570\n",
       "ASMRCN53_-8     0.0434      0.087      0.497      0.619      -0.128       0.214\n",
       "ASMRCN53_-1    -0.0802      0.069     -1.155      0.248      -0.216       0.056\n",
       "ASMRCN53_1      0.0770      0.047      1.655      0.098      -0.014       0.168\n",
       "ASMRCN53_2      0.0466      0.045      1.046      0.296      -0.041       0.134\n",
       "ASPREV53_-9     0.0464      0.044      1.065      0.287      -0.039       0.132\n",
       "ASPREV53_-8    -0.0775      0.095     -0.816      0.415      -0.264       0.109\n",
       "ASPREV53_-7     0.2047      0.202      1.013      0.311      -0.192       0.601\n",
       "ASPREV53_-1     0.0841      0.094      0.893      0.372      -0.101       0.269\n",
       "ASPREV53_1     -0.0447      0.076     -0.585      0.559      -0.194       0.105\n",
       "ASPREV53_2     -0.1262      0.076     -1.654      0.098      -0.276       0.023\n",
       "ASPKFL53_-9     0.0464      0.044      1.065      0.287      -0.039       0.132\n",
       "ASPKFL53_-8    -0.1723      0.120     -1.433      0.152      -0.408       0.063\n",
       "ASPKFL53_-7     0.2047      0.202      1.013      0.311      -0.192       0.601\n",
       "ASPKFL53_-1     0.0841      0.094      0.893      0.372      -0.101       0.269\n",
       "ASPKFL53_1     -0.0415      0.085     -0.489      0.625      -0.208       0.125\n",
       "ASPKFL53_2     -0.0347      0.081     -0.427      0.669      -0.194       0.124\n",
       "ASWNFL53_-8     0.0117      0.172      0.068      0.946      -0.326       0.349\n",
       "ASWNFL53_-1     0.0220      0.053      0.411      0.681      -0.083       0.127\n",
       "ASWNFL53_1     -0.0563      0.060     -0.932      0.351      -0.175       0.062\n",
       "ASWNFL53_2      0.0565      0.062      0.906      0.365      -0.066       0.179\n",
       "ASWNFL53_3      0.0530      0.052      1.028      0.304      -0.048       0.154\n",
       "WLKLIM53_-8     0.2248      0.175      1.287      0.198      -0.118       0.567\n",
       "WLKLIM53_-7    -0.4251      0.316     -1.347      0.178      -1.044       0.193\n",
       "WLKLIM53_-1    -0.0181      0.230     -0.078      0.937      -0.469       0.433\n",
       "WLKLIM53_1      0.1428      0.071      2.014      0.044       0.004       0.282\n",
       "WLKLIM53_2      0.1625      0.131      1.240      0.215      -0.094       0.419\n",
       "WLKDIF53_-8     0.1383      0.333      0.415      0.678      -0.515       0.792\n",
       "WLKDIF53_-1    -0.0559      0.071     -0.787      0.431      -0.195       0.083\n",
       "WLKDIF53_1      0.0701      0.092      0.764      0.445      -0.110       0.250\n",
       "WLKDIF53_2      0.0029      0.085      0.034      0.973      -0.163       0.169\n",
       "WLKDIF53_3     -0.0211      0.085     -0.248      0.804      -0.187       0.145\n",
       "WLKDIF53_4     -0.0474      0.084     -0.566      0.571      -0.212       0.117\n",
       "UNABLE53_-8     0.1327      0.225      0.589      0.556      -0.309       0.574\n",
       "UNABLE53_-1    -0.1040      0.077     -1.344      0.179      -0.256       0.048\n",
       "UNABLE53_1      0.0586      0.077      0.763      0.445      -0.092       0.209\n",
       "UNABLE53_2     -0.0005      0.079     -0.006      0.995      -0.155       0.154\n",
       "BLIND42_-1     -0.0653      0.057     -1.148      0.251      -0.177       0.046\n",
       "BLIND42_1       0.1546      0.116      1.332      0.183      -0.073       0.382\n",
       "BLIND42_2      -0.0024      0.059     -0.041      0.967      -0.119       0.114\n",
       "PHYSCL42_-8    -0.0737      0.076     -0.969      0.332      -0.223       0.075\n",
       "PHYSCL42_-1     0.0589      0.043      1.359      0.174      -0.026       0.144\n",
       "PHYSCL42_1      0.0994      0.034      2.952      0.003       0.033       0.165\n",
       "PHYSCL42_2      0.0022      0.033      0.067      0.946      -0.062       0.066\n",
       "EXRCIS53_-8    -0.1629      0.071     -2.290      0.022      -0.302      -0.023\n",
       "EXRCIS53_-1     0.1134      0.119      0.954      0.340      -0.120       0.346\n",
       "EXRCIS53_1      0.0869      0.050      1.736      0.083      -0.011       0.185\n",
       "EXRCIS53_2      0.0495      0.050      1.000      0.317      -0.048       0.147\n",
       "ASPRIN53_-8     0.1940      0.154      1.256      0.209      -0.109       0.497\n",
       "ASPRIN53_-7    -0.1598      0.262     -0.609      0.542      -0.674       0.354\n",
       "ASPRIN53_-1     0.1134      0.119      0.954      0.340      -0.120       0.346\n",
       "ASPRIN53_1     -0.0183      0.095     -0.194      0.846      -0.204       0.167\n",
       "ASPRIN53_2     -0.0424      0.093     -0.456      0.648      -0.225       0.140\n",
       "ADEGMC42_-9    -0.0074      0.081     -0.092      0.927      -0.166       0.151\n",
       "ADEGMC42_-1    -0.0716      0.035     -2.026      0.043      -0.141      -0.002\n",
       "ADEGMC42_1      0.0755      0.078      0.970      0.332      -0.077       0.228\n",
       "ADEGMC42_2      0.0142      0.043      0.328      0.743      -0.070       0.099\n",
       "ADEGMC42_3      0.0420      0.033      1.272      0.203      -0.023       0.107\n",
       "ADEGMC42_4      0.0342      0.031      1.110      0.267      -0.026       0.095\n",
       "ADEXPL42_-9     0.2589      0.116      2.236      0.025       0.032       0.486\n",
       "ADEXPL42_-1     0.0146      0.026      0.567      0.571      -0.036       0.065\n",
       "ADEXPL42_1     -0.1023      0.090     -1.134      0.257      -0.279       0.074\n",
       "ADEXPL42_2     -0.0946      0.051     -1.858      0.063      -0.194       0.005\n",
       "ADEXPL42_3      0.0067      0.042      0.157      0.875      -0.076       0.090\n",
       "ADEXPL42_4      0.0036      0.042      0.087      0.931      -0.078       0.085\n",
       "ADPRTM42_-9    -0.2948      0.134     -2.202      0.028      -0.557      -0.032\n",
       "ADPRTM42_-1     0.0146      0.026      0.567      0.571      -0.036       0.065\n",
       "ADPRTM42_1      0.0933      0.069      1.355      0.175      -0.042       0.228\n",
       "ADPRTM42_2      0.0614      0.048      1.292      0.196      -0.032       0.155\n",
       "ADPRTM42_3      0.1034      0.045      2.286      0.022       0.015       0.192\n",
       "ADPRTM42_4      0.1089      0.049      2.202      0.028       0.012       0.206\n",
       "ADSMOK42_-9     0.0892      0.074      1.206      0.228      -0.056       0.234\n",
       "ADSMOK42_-1     0.0610      0.033      1.852      0.064      -0.004       0.126\n",
       "ADSMOK42_1     -0.0394      0.056     -0.699      0.485      -0.150       0.071\n",
       "ADSMOK42_2     -0.0240      0.026     -0.922      0.357      -0.075       0.027\n",
       "ADNSMK42_-9    -0.0258      0.092     -0.280      0.779      -0.206       0.154\n",
       "ADNSMK42_-1     0.0371      0.027      1.373      0.170      -0.016       0.090\n",
       "ADNSMK42_1      0.1081      0.048      2.246      0.025       0.014       0.202\n",
       "ADNSMK42_2      0.0341      0.057      0.600      0.549      -0.077       0.145\n",
       "ADNSMK42_3     -0.0666      0.078     -0.855      0.392      -0.219       0.086\n",
       "DSFL0953_-9     0.0279      0.049      0.568      0.570      -0.068       0.124\n",
       "DSFL0953_-1 -3.419e-05      0.018     -0.002      0.999      -0.036       0.036\n",
       "DSFL0953_1     -0.0428      0.043     -0.992      0.321      -0.127       0.042\n",
       "DSFL0953_2      0.1018      0.042      2.439      0.015       0.020       0.184\n",
       "DSFL0853_-9     0.0279      0.049      0.568      0.570      -0.068       0.124\n",
       "DSFL0853_-1 -3.419e-05      0.018     -0.002      0.999      -0.036       0.036\n",
       "DSFL0853_1      0.0769      0.039      1.980      0.048       0.001       0.153\n",
       "DSFL0853_2     -0.0179      0.035     -0.510      0.610      -0.087       0.051\n",
       "DSFLNV53_-9     0.0279      0.049      0.568      0.570      -0.068       0.124\n",
       "DSFLNV53_-1 -3.419e-05      0.018     -0.002      0.999      -0.036       0.036\n",
       "DSFLNV53_1      0.0230      0.056      0.410      0.682      -0.087       0.133\n",
       "DSFLNV53_2      0.0359      0.046      0.777      0.437      -0.055       0.127\n",
       "PMUNAB42_-8    -0.3024      0.360     -0.839      0.401      -1.008       0.404\n",
       "PMUNAB42_-1     0.0402      0.099      0.405      0.685      -0.154       0.235\n",
       "PMUNAB42_1      0.1375      0.090      1.527      0.127      -0.039       0.314\n",
       "PMUNAB42_2      0.2115      0.238      0.888      0.374      -0.255       0.678\n",
       "PMUNRS42_-9    -0.4057      0.500     -0.812      0.417      -1.385       0.574\n",
       "PMUNRS42_-1    -0.0507      0.079     -0.641      0.522      -0.206       0.104\n",
       "PMUNRS42_1     -0.0439      0.143     -0.306      0.760      -0.325       0.237\n",
       "PMUNRS42_2      0.1319      0.161      0.818      0.414      -0.184       0.448\n",
       "PMUNRS42_4      0.1942      0.367      0.529      0.597      -0.525       0.913\n",
       "PMUNRS42_8      0.1082      0.381      0.284      0.777      -0.639       0.855\n",
       "PMUNRS42_91     0.1528      0.226      0.675      0.500      -0.291       0.597\n",
       "PMUNPR42_-9     0.6134      0.350      1.754      0.079      -0.072       1.299\n",
       "PMUNPR42_-8    -0.1570      0.362     -0.433      0.665      -0.867       0.553\n",
       "PMUNPR42_-1    -0.0507      0.079     -0.641      0.522      -0.206       0.104\n",
       "PMUNPR42_1     -0.0786      0.139     -0.566      0.571      -0.351       0.193\n",
       "PMUNPR42_2     -0.1528      0.167     -0.916      0.360      -0.480       0.174\n",
       "PMUNPR42_3     -0.0875      0.269     -0.325      0.745      -0.615       0.440\n",
       "PMDLAY42_-8     0.3215      0.286      1.126      0.260      -0.238       0.881\n",
       "PMDLAY42_-1     0.0402      0.099      0.405      0.685      -0.154       0.235\n",
       "PMDLAY42_1     -0.1252      0.152     -0.823      0.411      -0.423       0.173\n",
       "PMDLAY42_2     -0.1497      0.153     -0.977      0.329      -0.450       0.151\n",
       "OCCCAT53_-9     0.2272      0.383      0.593      0.553      -0.523       0.977\n",
       "OCCCAT53_-2     0.0294      0.077      0.381      0.703      -0.122       0.181\n",
       "OCCCAT53_-1     0.0887      0.076      1.167      0.243      -0.060       0.238\n",
       "OCCCAT53_1     -0.0273      0.187     -0.146      0.884      -0.393       0.339\n",
       "OCCCAT53_2      0.0177      0.117      0.151      0.880      -0.212       0.248\n",
       "OCCCAT53_3      0.1935      0.099      1.945      0.052      -0.001       0.389\n",
       "OCCCAT53_4      0.0611      0.123      0.497      0.619      -0.180       0.302\n",
       "OCCCAT53_5     -0.0410      0.135     -0.305      0.761      -0.305       0.223\n",
       "OCCCAT53_6     -0.2286      0.380     -0.602      0.547      -0.973       0.516\n",
       "OCCCAT53_7     -0.1680      0.378     -0.444      0.657      -0.909       0.573\n",
       "OCCCAT53_8     -0.0031      0.152     -0.021      0.984      -0.301       0.295\n",
       "OCCCAT53_11    -0.0627      0.434     -0.144      0.885      -0.914       0.789\n",
       "UNINS09_1      -0.0030      0.021     -0.141      0.888      -0.044       0.038\n",
       "UNINS09_2       0.0898      0.024      3.681      0.000       0.042       0.138\n",
       "INSCOV09_1      0.0534      0.017      3.191      0.001       0.021       0.086\n",
       "INSCOV09_2      0.0364      0.017      2.194      0.028       0.004       0.069\n",
       "INSCOV09_3     -0.0030      0.021     -0.141      0.888      -0.044       0.038\n",
       "INS09X_-1       0.0811      0.106      0.768      0.442      -0.126       0.288\n",
       "INS09X_1        0.0370      0.053      0.700      0.484      -0.067       0.141\n",
       "INS09X_2       -0.0313      0.053     -0.586      0.558      -0.136       0.073\n",
       "===============================================================================\n",
       "\"\"\""
      ]
     },
     "execution_count": 11,
     "metadata": {},
     "output_type": "execute_result"
    }
   ],
   "source": [
    "result.summary()"
   ]
  },
  {
   "cell_type": "markdown",
   "metadata": {
    "hidden": true
   },
   "source": [
    "The above model allows us to see what variables are considred to have a statically significant effect on risk for high healthcare expenditure. For instance, `AGE09X`(age) has a statistically significant effect with a p-value extremely close to 0. Interestingly, `ASPRIN53`(aspirin) was not considered a statistically significant variable (p-value is greater than 0.05)."
   ]
  },
  {
   "cell_type": "markdown",
   "metadata": {
    "heading_collapsed": true,
    "hidden": true
   },
   "source": [
    "## Building a Prediction Model"
   ]
  },
  {
   "cell_type": "markdown",
   "metadata": {
    "hidden": true,
    "solution2": "hidden",
    "solution2_first": true
   },
   "source": [
    "**Pre-Check:** So far we haven't done any machine learning yet. What we've done can be considered traditional statistical analysis. What is Machine Learning?"
   ]
  },
  {
   "cell_type": "markdown",
   "metadata": {
    "hidden": true,
    "solution2": "hidden"
   },
   "source": [
    "In machine learning, data is split into a training set and a test set. A machine learning model is then trainined on the training set to predict whatever outcome of interest it was designed to predict (in our case we're predicting whether the asthmatic patient is high- or low- risk). The model's predictive performance is then evaluated using the test set. \n",
    "\n",
    "<img src=\"https://www.sqlservercentral.com/wp-content/uploads/2019/05/Image-2.jpg\" align=\"center\" style=\"margin-bottom: 0.5em; margin-top: 0.5em;\">"
   ]
  },
  {
   "cell_type": "markdown",
   "metadata": {
    "hidden": true
   },
   "source": [
    "We now need to split our data into training and test data. We will be splitting our data into 80% training data and 20% test data. "
   ]
  },
  {
   "cell_type": "code",
   "execution_count": 12,
   "metadata": {
    "ExecuteTime": {
     "end_time": "2020-03-04T19:33:24.402521Z",
     "start_time": "2020-03-04T19:33:24.387114Z"
    },
    "hidden": true
   },
   "outputs": [
    {
     "name": "stdout",
     "output_type": "stream",
     "text": [
      "The number of traning data observations: 1900\n",
      "The number of test data observations: 475\n"
     ]
    }
   ],
   "source": [
    "# Split the training data and testing data\n",
    "X_train, X_test, y_train, y_test = train_test_split(aggregation_X, aggregation_Y, test_size=0.2, random_state=123)\n",
    "print('The number of traning data observations:',X_train.shape[0])\n",
    "print('The number of test data observations:',X_test.shape[0])"
   ]
  },
  {
   "cell_type": "markdown",
   "metadata": {
    "hidden": true
   },
   "source": [
    "Now that we've created our training and test data, we need to build our machine learning model. "
   ]
  },
  {
   "cell_type": "code",
   "execution_count": 13,
   "metadata": {
    "ExecuteTime": {
     "end_time": "2020-03-04T19:33:24.993014Z",
     "start_time": "2020-03-04T19:33:24.406387Z"
    },
    "hidden": true,
    "scrolled": false
   },
   "outputs": [
    {
     "name": "stdout",
     "output_type": "stream",
     "text": [
      "Training model, please be patient...\n"
     ]
    },
    {
     "name": "stderr",
     "output_type": "stream",
     "text": [
      "/Users/IssacQI/anaconda3/lib/python3.7/site-packages/sklearn/linear_model/logistic.py:432: FutureWarning: Default solver will be changed to 'lbfgs' in 0.22. Specify a solver to silence this warning.\n",
      "  FutureWarning)\n"
     ]
    },
    {
     "name": "stdout",
     "output_type": "stream",
     "text": [
      "Model trained!\n"
     ]
    }
   ],
   "source": [
    "# Build the model on training data\n",
    "print('Training model, please be patient...')\n",
    "lg=LogisticRegression()\n",
    "lg.fit(X_train,y_train)\n",
    "print('Model trained!')"
   ]
  },
  {
   "cell_type": "markdown",
   "metadata": {
    "hidden": true
   },
   "source": [
    "Now our model is trained and we need to apply it to the test data"
   ]
  },
  {
   "cell_type": "code",
   "execution_count": 14,
   "metadata": {
    "ExecuteTime": {
     "end_time": "2020-03-04T19:33:25.009443Z",
     "start_time": "2020-03-04T19:33:24.999958Z"
    },
    "hidden": true,
    "scrolled": false
   },
   "outputs": [
    {
     "name": "stdout",
     "output_type": "stream",
     "text": [
      "Model successfully applied to test data!\n"
     ]
    }
   ],
   "source": [
    "# Apply the model to test data\n",
    "y_pred=lg.predict(X_test)\n",
    "print('Model successfully applied to test data!')"
   ]
  },
  {
   "cell_type": "markdown",
   "metadata": {
    "hidden": true
   },
   "source": [
    "Finally we will generate what's called a confusion matrix. "
   ]
  },
  {
   "cell_type": "code",
   "execution_count": 15,
   "metadata": {
    "ExecuteTime": {
     "end_time": "2020-03-04T19:33:25.025045Z",
     "start_time": "2020-03-04T19:33:25.013864Z"
    },
    "hidden": true
   },
   "outputs": [
    {
     "data": {
      "text/plain": [
       "array([[199,  36],\n",
       "       [ 69, 171]])"
      ]
     },
     "execution_count": 15,
     "metadata": {},
     "output_type": "execute_result"
    }
   ],
   "source": [
    "# Create Confusion matrix\n",
    "confusion_matrix(y_test,y_pred)"
   ]
  },
  {
   "cell_type": "code",
   "execution_count": 16,
   "metadata": {
    "ExecuteTime": {
     "end_time": "2020-03-04T19:33:25.046856Z",
     "start_time": "2020-03-04T19:33:25.034437Z"
    },
    "hidden": true,
    "scrolled": false
   },
   "outputs": [
    {
     "name": "stdout",
     "output_type": "stream",
     "text": [
      "              precision    recall  f1-score   support\n",
      "\n",
      "           0       0.74      0.85      0.79       235\n",
      "           1       0.83      0.71      0.77       240\n",
      "\n",
      "    accuracy                           0.78       475\n",
      "   macro avg       0.78      0.78      0.78       475\n",
      "weighted avg       0.78      0.78      0.78       475\n",
      "\n"
     ]
    }
   ],
   "source": [
    "# Create Report\n",
    "print(classification_report(y_test,y_pred))"
   ]
  },
  {
   "cell_type": "markdown",
   "metadata": {
    "hidden": true
   },
   "source": [
    "Our model was able to correctly predict 77% of the time with a precision of 78% and a recall of 78%. \n",
    "\n",
    "One question you may be wondering is does our model perform well enough? That depends. That depends on the type of conditions or predictions we're making. That depends on whether alternative predictive models or tools exist and how our new model compares. Additional research or consideration should always be done consider whether a model's result is not only statistically significant, but **clinically significant**. "
   ]
  },
  {
   "cell_type": "markdown",
   "metadata": {
    "hidden": true
   },
   "source": [
    "### What Is A Confusion Matrix"
   ]
  },
  {
   "cell_type": "markdown",
   "metadata": {
    "hidden": true
   },
   "source": [
    "A confusion matrix is a 2x2 table which computes 4 different combinations of predicted vs. actual values. The combinations are True Positive (TP), True Negative (TN), False Positive (FP), and False Negative (FN)\n",
    "\n",
    "<img src=\"https://miro.medium.com/max/320/1*Z54JgbS4DUwWSknhDCvNTQ.png\" align=\"center\" style=\"margin-bottom: 0.5em; margin-top: 0.5em;\">\n",
    "\n",
    "These 4 interpretations can be combined to generate many useful metrics. For our purpose there are three we will focus on. The first is accuracy:\n",
    "\n",
    "\\[\\large (TP + TN)/Total\\]\n",
    "\n",
    "Accuracy allows us to measure how often our model predicted correctly. The second metric is recall:\n",
    "\n",
    "\\[\\large TP / (TP + FN)\\]\n",
    "\n",
    "Recall asks the question, that when our outcome is actually positive (ie. in our case when our patient is actually at high risk) how often will the model predict positively (ie. how often will the model then predict the patient to be at high risk). The final metric is precision:\n",
    "\n",
    "\\[\\large TP / (TP + FP)\\]\n",
    "\n",
    "Precision asks the question, that when the model predicts positively (ie. in our case when the model predicts the patient to be at high risk) how often will the outcome be actually positive (ie. how often will our patient is actually at high risk). "
   ]
  },
  {
   "cell_type": "markdown",
   "metadata": {
    "heading_collapsed": true,
    "hidden": true
   },
   "source": [
    "## Evaluating our Model"
   ]
  },
  {
   "cell_type": "markdown",
   "metadata": {
    "hidden": true
   },
   "source": [
    "We will be evaluating our model using a receiver operating curve (ROC) and the area under the curve (AUC) value. \n",
    "\n",
    "> If you're unsure what a ROC or AUC value is, please consult section 5.1.1 ('Understanding ROC Curves and AUC Values')"
   ]
  },
  {
   "cell_type": "code",
   "execution_count": 17,
   "metadata": {
    "ExecuteTime": {
     "end_time": "2020-03-04T19:33:25.465691Z",
     "start_time": "2020-03-04T19:33:25.128948Z"
    },
    "hidden": true
   },
   "outputs": [
    {
     "data": {
      "text/plain": [
       "<matplotlib.legend.Legend at 0x11c21ed68>"
      ]
     },
     "execution_count": 17,
     "metadata": {},
     "output_type": "execute_result"
    },
    {
     "data": {
      "image/png": "[encoded data removed]",
      "text/plain": [
       "<Figure size 432x288 with 1 Axes>"
      ]
     },
     "metadata": {
      "needs_background": "light"
     },
     "output_type": "display_data"
    }
   ],
   "source": [
    "# Compute fpr, tpr, thresholds and roc auc\n",
    "roc_curve(y_test, y_pred)\n",
    "fpr, tpr, thresholds = roc_curve(y_test, y_pred)\n",
    "roc_auc = auc(fpr, tpr)\n",
    "\n",
    "# Plot ROC curve\n",
    "plt.plot(fpr, tpr, label='ROC curve (area = %0.3f)' % roc_auc)\n",
    "plt.plot([0, 1], [0, 1], 'k--')  # random predictions curve\n",
    "plt.xlim([0.0, 1.0])\n",
    "plt.ylim([0.0, 1.0])\n",
    "plt.xlabel('False Positive Rate or (1 - Specifity)')\n",
    "plt.ylabel('True Positive Rate or (Sensitivity)')\n",
    "plt.title('Receiver Operating Characteristic')\n",
    "plt.legend(loc=\"lower right\")"
   ]
  },
  {
   "cell_type": "code",
   "execution_count": 18,
   "metadata": {
    "ExecuteTime": {
     "end_time": "2020-03-04T19:33:25.486287Z",
     "start_time": "2020-03-04T19:33:25.479617Z"
    },
    "hidden": true
   },
   "outputs": [
    {
     "name": "stdout",
     "output_type": "stream",
     "text": [
      "AUC: 0.78\n"
     ]
    }
   ],
   "source": [
    "# Calculate the area under the curve (AUC)\n",
    "print('AUC:', roc_auc.round(2))"
   ]
  },
  {
   "cell_type": "markdown",
   "metadata": {
    "hidden": true
   },
   "source": [
    "The closer to the top left corner our ROC curve, the better. The higher our AUC value, the better. These metrics provide useful measures when tuning our model. They are also better overall measures than accuracy alone. We can compare different models using these two metrics. "
   ]
  },
  {
   "cell_type": "markdown",
   "metadata": {
    "heading_collapsed": true,
    "hidden": true
   },
   "source": [
    "### Understanding ROC Curves and AUC Values"
   ]
  },
  {
   "cell_type": "markdown",
   "metadata": {
    "hidden": true
   },
   "source": [
    "A ROC plots sensitivity (probability of predicting a real positive will be positive) against 1-specificity (the probability of predicting a real negative will be positive). A model with a 50-50 chance of making a correct decision will have a ROC curve which is just a diagonal line. A model with a curve that hugs the top left corner is a perfect model. The area under a curve is a measure of the magnitude of the ROC curve. The closer the ROC curve is to the top left corner, the higher the AUC value. The higher the AUC value, the better. \n",
    "\n",
    "<img src=\"https://miro.medium.com/max/406/1*pk05QGzoWhCgRiiFbz-oKQ.png\" style=\"float: center; width: 34%; margin-bottom: 0.5em;\">"
   ]
  },
  {
   "cell_type": "markdown",
   "metadata": {
    "heading_collapsed": true,
    "hidden": true
   },
   "source": [
    "## Explaining the Model"
   ]
  },
  {
   "cell_type": "markdown",
   "metadata": {
    "hidden": true
   },
   "source": [
    "An important part of any model is to explain it. We will be measuring the variable importance for our model. The higher the variable importance, the more important that variable for our model for predicting no shows."
   ]
  },
  {
   "cell_type": "code",
   "execution_count": 19,
   "metadata": {
    "ExecuteTime": {
     "end_time": "2020-03-04T19:33:26.709671Z",
     "start_time": "2020-03-04T19:33:25.762303Z"
    },
    "hidden": true
   },
   "outputs": [
    {
     "data": {
      "image/png": "[encoded data removed]",
      "text/plain": [
       "<Figure size 1440x1440 with 1 Axes>"
      ]
     },
     "metadata": {
      "needs_background": "light"
     },
     "output_type": "display_data"
    }
   ],
   "source": [
    "# top 20 features\n",
    "feature_importance = abs(lg.coef_[0])\n",
    "feature_importance = feature_importance / feature_importance.sum()\n",
    "sorted_idx = np.argsort(feature_importance)\n",
    "sorted_idx=sorted_idx[-20:]\n",
    "\n",
    "\n",
    "pos = np.arange(sorted_idx.shape[0]) + .5\n",
    "\n",
    "featfig = plt.figure(figsize=(20,20))\n",
    "featax = featfig.add_subplot(1, 1, 1)\n",
    "featax.barh(pos, feature_importance[sorted_idx], align='center')\n",
    "featax.set_yticks(pos)\n",
    "featax.set_yticklabels(np.array(X_train.columns)[sorted_idx], fontsize=8)\n",
    "featax.set_xlabel('Relative Feature Importance')\n",
    "\n",
    "plt.tight_layout()   \n",
    "plt.show()"
   ]
  },
  {
   "cell_type": "markdown",
   "metadata": {
    "hidden": true
   },
   "source": [
    "Congratulations! You've reached the end of the case! This case provided just one example of how analytics and healthcare can be combined to solve clinical problems. I hope your curiosity has been piqued. There will be much more to learn and much more you can explore in this field!"
   ]
  },
  {
   "cell_type": "markdown",
   "metadata": {
    "heading_collapsed": true
   },
   "source": [
    "# Function"
   ]
  },
  {
   "cell_type": "code",
   "execution_count": 20,
   "metadata": {
    "ExecuteTime": {
     "end_time": "2020-03-04T19:33:26.746963Z",
     "start_time": "2020-03-04T19:33:26.723690Z"
    },
    "hidden": true
   },
   "outputs": [
    {
     "data": {
      "text/plain": [
       "['DUPERSID',\n",
       " 'REGION09',\n",
       " 'AGE09X',\n",
       " 'SEX',\n",
       " 'RACETHNX',\n",
       " 'SPOUIN09',\n",
       " 'RTHLTH53',\n",
       " 'EMPHDX',\n",
       " 'EMPHAGED',\n",
       " 'CHBRON53',\n",
       " 'ASTHDX',\n",
       " 'ASTHAGED',\n",
       " 'ASTHEP53',\n",
       " 'ASACUT53',\n",
       " 'ASMRCN53',\n",
       " 'ASPREV53',\n",
       " 'ASPKFL53',\n",
       " 'ASWNFL53',\n",
       " 'WLKLIM53',\n",
       " 'WLKDIF53',\n",
       " 'UNABLE53',\n",
       " 'BLIND42',\n",
       " 'CHAPPT42',\n",
       " 'CHBMIX42',\n",
       " 'PHYSCL42',\n",
       " 'CHECK53',\n",
       " 'EXRCIS53',\n",
       " 'ASPRIN53',\n",
       " 'BMINDX53',\n",
       " 'ADAPPT42',\n",
       " 'ADEGMC42',\n",
       " 'ADEXPL42',\n",
       " 'ADPRTM42',\n",
       " 'ADHECR42',\n",
       " 'ADSMOK42',\n",
       " 'ADNSMK42',\n",
       " 'DSFL0953',\n",
       " 'DSFL0853',\n",
       " 'DSFLNV53',\n",
       " 'WKINBD53',\n",
       " 'PMUNAB42',\n",
       " 'PMUNRS42',\n",
       " 'PMUNPR42',\n",
       " 'PMDLAY42',\n",
       " 'OCCCAT53',\n",
       " 'TTLP09X',\n",
       " 'FAMINC09',\n",
       " 'POVLEV09',\n",
       " 'UNINS09',\n",
       " 'INSCOV09',\n",
       " 'INS09X',\n",
       " 'TOTEXP09',\n",
       " 'PERWT09F',\n",
       " 'CONDIDX']"
      ]
     },
     "execution_count": 20,
     "metadata": {},
     "output_type": "execute_result"
    }
   ],
   "source": [
    "list(aggregation.columns)"
   ]
  },
  {
   "cell_type": "code",
   "execution_count": 23,
   "metadata": {
    "ExecuteTime": {
     "end_time": "2020-03-04T19:34:02.573930Z",
     "start_time": "2020-03-04T19:34:02.542749Z"
    },
    "hidden": true
   },
   "outputs": [],
   "source": [
    "def play(features):\n",
    "    total_variables=features+['TOTEXP09']\n",
    "    aggregation_copy=aggregation[total_variables].copy().dropna()\n",
    "    X=aggregation_copy[features]\n",
    "    X=pd.get_dummies(X)\n",
    "    Y=aggregation_copy.TOTEXP09\n",
    "    X_train, X_test, y_train, y_test = train_test_split(X, Y, test_size=0.2, random_state=123)\n",
    "    # Build the model on training data\n",
    "    print('Training model, please be patient...')\n",
    "    lg=LogisticRegression()\n",
    "    lg.fit(X_train,y_train)\n",
    "    print('Model trained!')\n",
    "    # Apply the model to test data\n",
    "    y_pred=lg.predict(X_test)\n",
    "    print('Model successfully applied to test data!')\n",
    "    # Create Confusion matrix\n",
    "    confusion_matrix(y_test,y_pred)\n",
    "    # Create Report\n",
    "    print(classification_report(y_test,y_pred))\n",
    "    # Compute fpr, tpr, thresholds and roc auc\n",
    "    roc_curve(y_test, y_pred)\n",
    "    fpr, tpr, thresholds = roc_curve(y_test, y_pred)\n",
    "    roc_auc = auc(fpr, tpr)\n",
    "\n",
    "    # Plot ROC curve\n",
    "    plt.plot(fpr, tpr, label='ROC curve (area = %0.3f)' % roc_auc)\n",
    "    plt.plot([0, 1], [0, 1], 'k--')  # random predictions curve\n",
    "    plt.xlim([0.0, 1.0])\n",
    "    plt.ylim([0.0, 1.0])\n",
    "    plt.xlabel('False Positive Rate or (1 - Specifity)')\n",
    "    plt.ylabel('True Positive Rate or (Sensitivity)')\n",
    "    plt.title('Receiver Operating Characteristic')\n",
    "    plt.legend(loc=\"lower right\")\n",
    "    # Calculate the area under the curve (AUC)\n",
    "    print('AUC:', roc_auc.round(2))\n",
    "    # top 20 features\n",
    "    feature_importance = abs(lg.coef_[0])\n",
    "    feature_importance = feature_importance / feature_importance.sum()\n",
    "    sorted_idx = np.argsort(feature_importance)\n",
    "    sorted_idx=sorted_idx[-20:]\n",
    "\n",
    "\n",
    "    pos = np.arange(sorted_idx.shape[0]) + .5\n",
    "\n",
    "    featfig = plt.figure(figsize=(20,20))\n",
    "    featax = featfig.add_subplot(1, 1, 1)\n",
    "    featax.barh(pos, feature_importance[sorted_idx], align='center')\n",
    "    featax.set_yticks(pos)\n",
    "    featax.set_yticklabels(np.array(X_train.columns)[sorted_idx], fontsize=8)\n",
    "    featax.set_xlabel('Relative Feature Importance')\n",
    "\n",
    "    plt.tight_layout()   \n",
    "    plt.show()"
   ]
  },
  {
   "cell_type": "code",
   "execution_count": 24,
   "metadata": {
    "ExecuteTime": {
     "end_time": "2020-03-04T19:34:04.671495Z",
     "start_time": "2020-03-04T19:34:03.427674Z"
    },
    "hidden": true
   },
   "outputs": [
    {
     "name": "stdout",
     "output_type": "stream",
     "text": [
      "Training model, please be patient...\n",
      "Model trained!\n",
      "Model successfully applied to test data!\n",
      "              precision    recall  f1-score   support\n",
      "\n",
      "           0       0.68      0.54      0.60       235\n",
      "           1       0.63      0.75      0.68       240\n",
      "\n",
      "    accuracy                           0.65       475\n",
      "   macro avg       0.65      0.65      0.64       475\n",
      "weighted avg       0.65      0.65      0.64       475\n",
      "\n",
      "AUC: 0.65\n"
     ]
    },
    {
     "name": "stderr",
     "output_type": "stream",
     "text": [
      "/Users/IssacQI/anaconda3/lib/python3.7/site-packages/sklearn/linear_model/logistic.py:432: FutureWarning: Default solver will be changed to 'lbfgs' in 0.22. Specify a solver to silence this warning.\n",
      "  FutureWarning)\n"
     ]
    },
    {
     "data": {
      "image/png": "[encoded data removed]",
      "text/plain": [
       "<Figure size 432x288 with 1 Axes>"
      ]
     },
     "metadata": {
      "needs_background": "light"
     },
     "output_type": "display_data"
    },
    {
     "data": {
      "image/png": "[encoded data removed]",
      "text/plain": [
       "<Figure size 1440x1440 with 1 Axes>"
      ]
     },
     "metadata": {
      "needs_background": "light"
     },
     "output_type": "display_data"
    }
   ],
   "source": [
    "features=['CHBRON53']\n",
    "play(features)"
   ]
  },
  {
   "cell_type": "code",
   "execution_count": null,
   "metadata": {
    "hidden": true
   },
   "outputs": [],
   "source": []
  }
 ],
 "metadata": {
  "kernelspec": {
   "display_name": "Python 3",
   "language": "python",
   "name": "python3"
  },
  "language_info": {
   "codemirror_mode": {
    "name": "ipython",
    "version": 3
   },
   "file_extension": ".py",
   "mimetype": "text/x-python",
   "name": "python",
   "nbconvert_exporter": "python",
   "pygments_lexer": "ipython3",
   "version": "3.7.3"
  },
  "latex_envs": {
   "LaTeX_envs_menu_present": true,
   "autoclose": false,
   "autocomplete": true,
   "bibliofile": "biblio.bib",
   "cite_by": "apalike",
   "current_citInitial": 1,
   "eqLabelWithNumbers": true,
   "eqNumInitial": 1,
   "hotkeys": {
    "equation": "Ctrl-E",
    "itemize": "Ctrl-I"
   },
   "labels_anchors": false,
   "latex_user_defs": false,
   "report_style_numbering": false,
   "user_envs_cfg": false
  },
  "toc": {
   "base_numbering": 1,
   "nav_menu": {},
   "number_sections": true,
   "sideBar": true,
   "skip_h1_title": false,
   "title_cell": "Table of Contents",
   "title_sidebar": "Contents",
   "toc_cell": false,
   "toc_position": {
    "height": "414px",
    "left": "54px",
    "top": "110.8px",
    "width": "276px"
   },
   "toc_section_display": true,
   "toc_window_display": false
  },
  "varInspector": {
   "cols": {
    "lenName": 16,
    "lenType": 16,
    "lenVar": 40
   },
   "kernels_config": {
    "python": {
     "delete_cmd_postfix": "",
     "delete_cmd_prefix": "del ",
     "library": "var_list.py",
     "varRefreshCmd": "print(var_dic_list())"
    },
    "r": {
     "delete_cmd_postfix": ") ",
     "delete_cmd_prefix": "rm(",
     "library": "var_list.r",
     "varRefreshCmd": "cat(var_dic_list()) "
    }
   },
   "position": {
    "height": "190.391px",
    "left": "482px",
    "right": "20px",
    "top": "153px",
    "width": "446.391px"
   },
   "types_to_exclude": [
    "module",
    "function",
    "builtin_function_or_method",
    "instance",
    "_Feature"
   ],
   "window_display": true
  }
 },
 "nbformat": 4,
 "nbformat_minor": 2
}
