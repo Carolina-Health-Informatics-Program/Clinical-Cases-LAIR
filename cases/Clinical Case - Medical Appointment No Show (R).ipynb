{
 "cells": [
  {
   "cell_type": "markdown",
   "metadata": {
    "heading_collapsed": true
   },
   "source": [
    "# Introduction"
   ]
  },
  {
   "cell_type": "markdown",
   "metadata": {
    "cell_style": "center",
    "hidden": true
   },
   "source": [
    "<p align=\"justify\">Welcome! In this case we'll be exploring how to use advanced analytic and machine learning techniques to predict medical appointment no-shows. \n",
    "<br>\n",
    "<br>\n",
    "<details>\n",
    "<summary>Some of the skills you'll explore are (Click to Expand):</summary>\n",
    "<ul>\n",
    "    <li>R Programming</li>\n",
    "    <li>Data Cleaning</li>\n",
    "    <li>Descriptive Analysis</li>\n",
    "    <li>Data Visualization</li>\n",
    "    <li>Leveraging Domain Knowledge</li>\n",
    "    <li>Machine Learning</li>\n",
    "    <li>Decision Trees</li>\n",
    "</details><br>\n",
    "Don't worry if you're unsure what some of these terms are. They'll be explained throughout the case. Let's begin! \n",
    "<img src=\"https://i.stack.imgur.com/zlAi2.png\" style=\"float: left; width: 32%; margin-right: 1%; margin-bottom: 0.5em;\">\n",
    "<img src=\"http://cran.uvigo.es/Rlogo.svg\" style=\"float: left; width: 25%; margin-bottom: 0.5em;\">\n",
    "<img src=\"https://www.displayr.com/wp-content/uploads/2018/09/Untitled-design-10.png\" style=\"float: left; width: 31%; margin-left: 5%; margin-bottom: 0.5em;\">"
   ]
  },
  {
   "cell_type": "markdown",
   "metadata": {
    "heading_collapsed": true,
    "hidden": true
   },
   "source": [
    "## Case Scenario"
   ]
  },
  {
   "cell_type": "markdown",
   "metadata": {
    "hidden": true
   },
   "source": [
    "Imagine you work on the administrative staff for a small, family medicine clinic. Recently, business has been tough. The clinic is struggling to remain financially viable. The providers are already working at capacity and are unable to see any more patients. \n",
    "\n",
    "<img width=\"500\" height=325 src=\"https://lh3.googleusercontent.com/proxy/VRp3A74rUWpvQIvZNrxXkui4w_WKh67HuhOrvIwcIj6DNzPkXN8R3oZ2V5wPsIAfgvE66uUDz0AV-konKzNWaEanbBVFd48TjADnm9fPMcxdlOnYKIi3lwRN_6UvSZyQ6LWu4dMc3todz-KYN7-3ykm2eFJVvTChiQ\">\n",
    "\n",
    "While the clinic staff is small, they're a dedicated group. If they can predict which patients will likely be no-shows, they can target these patients with interventions such as reminders or phone calls prior to their appointments. This can increase revenue without increasing each provider's census. Will analytics and machine learning be able to predict no-shows and keep this clinic open?\n",
    "\n",
    "Continue through the case to find out. "
   ]
  },
  {
   "cell_type": "markdown",
   "metadata": {
    "hidden": true
   },
   "source": [
    "### Extra: Why do we care about no-shows?"
   ]
  },
  {
   "cell_type": "markdown",
   "metadata": {
    "hidden": true
   },
   "source": [
    "A patient no-show is defined as a missed patient appointmen where the patient was scheduled, but did not appear for their medical appointment, and made no prior contact with the clinical staff. \n",
    "Medical appointment no shows are a serious issue across all type of medical practices, specialties, locations, and medical practice models. This is an endemic issue that is estimated to cost the healthcare industry $150 billion annually. \n",
    "\n",
    "<p align=\"center\">\n",
    "  <img width=\"400\" height=\"200\" src=\"https://www.carecloud.com/continuum/wp-content/uploads/2011/05/patient-no-show-cost-400x201.jpg\">\n",
    "</p>\n",
    "\n",
    "It's estimated that for every appointment no show: \n",
    "- Primary care physcians lose close to 150 - 200 USD in revenue\n",
    "- Surgeons lose close to 500 USD in revenue\n",
    "- Patient who no-show are more likely to require expensive emergency care down the road. This increases healthcare cost for everyone. \n",
    "\n",
    "Already the healthcare industry is attempting to decrease no-shows through leveraging technology and innovative practice methods. However, this is still an endemic problem. Any algorithm which could reliably predict no-shows could improves costs and outcomes."
   ]
  },
  {
   "cell_type": "markdown",
   "metadata": {
    "heading_collapsed": true,
    "hidden": true
   },
   "source": [
    "## How To Run The Case (Do Not Skip)"
   ]
  },
  {
   "cell_type": "markdown",
   "metadata": {
    "hidden": true
   },
   "source": [
    "Before we begin the case, we need to know how to use Jupyter Notebook and run the case. First, look for the the `Run` button. The location of the `Run` button is shown below and can be found in the tool bar above. "
   ]
  },
  {
   "cell_type": "markdown",
   "metadata": {
    "cell_style": "center",
    "hidden": true
   },
   "source": [
    "\n",
    "<img src=\"https://i.imgur.com/jr4dpLW.png\">"
   ]
  },
  {
   "cell_type": "markdown",
   "metadata": {
    "hidden": true
   },
   "source": [
    "The cell below is a code cell. You will be running numerous code cells like the one below throughout the case. Select the cell and select the run button above. "
   ]
  },
  {
   "cell_type": "code",
   "execution_count": null,
   "metadata": {
    "ExecuteTime": {
     "end_time": "2020-03-17T01:58:03.921092Z",
     "start_time": "2020-03-17T01:58:03.872Z"
    },
    "cell_style": "center",
    "hidden": true
   },
   "outputs": [],
   "source": [
    "# This is an example of a code cell\n",
    "cat('Congratulations! \\n')\n",
    "cat('You\\'ve run your first code cell.\\n')\n"
   ]
  },
  {
   "cell_type": "markdown",
   "metadata": {
    "hidden": true
   },
   "source": [
    "<img width = 50 height = 50 style=\"float: left; margin-right: 10px;\" src=\"https://upload.wikimedia.org/wikipedia/commons/b/b9/Stop_sign_dark_red.svg\">Stop! If you have not learned to run a code cell, restart this section. You will not be able to go through the case at all if you are unable to run code cells. Otherwise, it's time to meet our data!"
   ]
  },
  {
   "cell_type": "markdown",
   "metadata": {
    "hidden": true
   },
   "source": [
    "## Meeting Our Data"
   ]
  },
  {
   "cell_type": "markdown",
   "metadata": {
    "hidden": true
   },
   "source": [
    "\n",
    "\n",
    "We'll be using a deidentified set of patient data made available on [kaggle](https://www.kaggle.com/joniarroba/noshowappointment). Kaggle is an online data science and machine learning community. \n",
    "\n",
    "<img src=\"https://miro.medium.com/max/1200/0*ftOal7fKVCNtJr4N.png\" style=\"float: center; width: 65%\">\n",
    "\n",
    "Through our case we will be evaluating a dataset of patients who either showed or no showed to their medical appointment. It also includes several characteristics of each patients such as age, gender, and several comorbidities. "
   ]
  },
  {
   "cell_type": "markdown",
   "metadata": {
    "hidden": true
   },
   "source": [
    "### Data First Look"
   ]
  },
  {
   "cell_type": "markdown",
   "metadata": {
    "hidden": true
   },
   "source": [
    "Lets get a first glimpse of our data."
   ]
  },
  {
   "cell_type": "code",
   "execution_count": null,
   "metadata": {
    "ExecuteTime": {
     "end_time": "2020-03-17T01:58:05.775260Z",
     "start_time": "2020-03-17T01:58:04.163Z"
    },
    "hidden": true
   },
   "outputs": [],
   "source": [
    "no_show_data <- read.csv(file=\"data/med_no_show.csv\",  encoding=\"UTF-8\", header=TRUE, sep=\",\")\n",
    "head(no_show_data)"
   ]
  },
  {
   "cell_type": "markdown",
   "metadata": {
    "hidden": true
   },
   "source": [
    "What do you notice? Do you notice anything unusual about the data? Don't worry if you don't notice anything. We will be getting to know our data better as we go through the case. "
   ]
  },
  {
   "cell_type": "markdown",
   "metadata": {
    "hidden": true
   },
   "source": [
    "### Data Variable Information (Consulting the Data Dictionary)"
   ]
  },
  {
   "cell_type": "markdown",
   "metadata": {
    "hidden": true
   },
   "source": [
    "There are several variables or labels which you might not understand. The way to combat this is by consulting the data dictionary. \n",
    "\n",
    "> A data dictionary describes a dataset and provides information on the meaning of each variable. Always look for documentation or a data dictionary before starting an analysis."
   ]
  },
  {
   "cell_type": "markdown",
   "metadata": {
    "hidden": true
   },
   "source": [
    "A data dictionary is provided on the [kaggle page](https://www.kaggle.com/joniarroba/noshowappointments) where the data is hosted. The data dictionary has also been reproduced below for your convenience. However, you may notice some of the data dictionary labels are not in Portuguese instead of English. Below is an English recreation of the data dictionary with edited grammar and context for ease of reading in English."
   ]
  },
  {
   "cell_type": "markdown",
   "metadata": {
    "hidden": true
   },
   "source": [
    "<center>\n",
    "\n",
    "| *Variable*        | *Definition*                                                            |\n",
    "| ----------------- | ----------------------------------------------------------------------- |\n",
    "| PatientId         | Identification of a patient                                             |\n",
    "| AppointmentID     | Identification of each appointment                                      |\n",
    "| Gender            | Male or Female                                                          | \n",
    "| ScheduledDay      | The day of the actual appointment, when they have to visit the doctor   |\n",
    "| AppointmentDay    | The day someone called or registered the appointment                    |\n",
    "| Age               | How old is the patient                                                  |\n",
    "| Neighbourhood     | Where the appointment takes place                                       |\n",
    "| Scholarship       | True or False, are they enrolled in Bolsa Familia low-income subsidy program [More Info](https://en.wikipedia.org/wiki/Bolsa_Fam%C3%ADlia)                                 |\n",
    "| Hypertension      | True or False, if patient has hypertension                              |\n",
    "| Diabetes          | True or False, if the patient has diabetes                              |\n",
    "| Alcoholism        | True or False, if the patient has alcoholism                            |\n",
    "| Handicap          | # of handicaps a person has                                             |\n",
    "| SMS-received      | True or False, one or more SMS message sent to the patient              |      \n",
    "| No.show           | True or False, patient did not show to their medical appointment        |\n",
    "\n",
    "</center>"
   ]
  },
  {
   "cell_type": "markdown",
   "metadata": {
    "heading_collapsed": true
   },
   "source": [
    "# Setup (Do Not Skip)"
   ]
  },
  {
   "cell_type": "markdown",
   "metadata": {
    "hidden": true
   },
   "source": [
    "Run the code below to set up specific settings for our case. Do not skip this step!"
   ]
  },
  {
   "cell_type": "code",
   "execution_count": null,
   "metadata": {
    "ExecuteTime": {
     "end_time": "2020-03-17T01:58:08.729210Z",
     "start_time": "2020-03-17T01:58:04.504Z"
    },
    "hidden": true
   },
   "outputs": [],
   "source": [
    "# Increase max number of columns displayed in output tables\n",
    "options(repr.matrix.max.cols = 2000)\n",
    "cat('Setup complete!')\n",
    "\n",
    "# Calling external libraries for additional functionality\n",
    "suppressMessages(library(tidyverse))\n",
    "suppressMessages(library(randomForest))\n",
    "suppressMessages(library(forcats))\n",
    "suppressMessages(library(cowplot))\n",
    "suppressMessages(library(lubridate))\n",
    "suppressMessages(library(caret))\n",
    "suppressMessages(library(e1071))\n",
    "suppressMessages(library(pROC))\n",
    "suppressMessages(library(rpart))\n",
    "suppressMessages(library(rpart.plot))\n",
    "\n",
    "# Create function to test model\n",
    "test_model <- function(features){\n",
    "    # setup model\n",
    "    total_variables <- append(features,\"no_show\")\n",
    "    play_trainingData <- subset(training_data,select = total_variables)\n",
    "    play_testData <- subset(test_data,select = total_variables)\n",
    "    \n",
    "    # Train Decision Tree\n",
    "    caseweights <- ifelse(training_data$no_show == 'Yes', 4, 1)\n",
    "    train_decision_tree <- rpart(no_show~., data=play_trainingData, method = 'class',\n",
    "                                 control = rpart.control(minsplit=20, minbucket=1, cp = 0.005), \n",
    "                                 weights = caseweights)\n",
    "\n",
    "    # Plot Decision Tree\n",
    "    rpart.plot(train_decision_tree)\n",
    "    # Make prediction\n",
    "    test_decision_tree <- predict(train_decision_tree, play_testData, type = 'class')\n",
    "    # Display Confusion Matrix\n",
    "    cm <- confusionMatrix(test_decision_tree, play_testData$no_show, positive = 'Yes')\n",
    "    print(cm)\n",
    "    ROC <- roc(response = play_testData$no_show, predictor = factor(test_decision_tree, \n",
    "                                                           ordered = TRUE, \n",
    "                                                           levels = c('No', 'Yes')))\n",
    "\n",
    "    # Plot ROC with ggplot2\n",
    "    plot_ROC <- ggroc(ROC)\n",
    "    print(plot_ROC)\n",
    "    # Calculate the area under the curve (AUC)\n",
    "    cat('AUC:', round(auc(ROC), 2))\n",
    "    \n",
    "    df <- data.frame(train_decision_tree$variable.importance)\n",
    "    df2 <- df %>% \n",
    "        tibble::rownames_to_column() %>% \n",
    "        dplyr::rename(\"variable\" = rowname) %>% \n",
    "        dplyr::arrange(train_decision_tree$variable.importance) %>%\n",
    "        dplyr::mutate(variable = forcats::fct_inorder(variable))\n",
    "    ggplot2::ggplot(df2) +\n",
    "        geom_col(aes(x = reorder(variable, train_decision_tree$variable.importance), y = train_decision_tree$variable.importance),\n",
    "               col = \"black\", show.legend = F) +\n",
    "        coord_flip() +\n",
    "        scale_fill_grey() +\n",
    "        theme_bw()\n",
    "}\n",
    "\n",
    "set.seed(10) # Seeding so we obtain the same outcome when we randomly sample"
   ]
  },
  {
   "cell_type": "markdown",
   "metadata": {
    "heading_collapsed": true
   },
   "source": [
    "# Cleaning Our Data"
   ]
  },
  {
   "cell_type": "markdown",
   "metadata": {
    "hidden": true
   },
   "source": [
    "The first step in any analytic project is to clean our data. This is a critical step that is commonly overlooked within data science projects. This is critical for making our data convenient to interpret and manipulate. In addition, many analytic techniques require properly formatted data. Finally, healthcare datasets may have have data that isn't clinically relevant (ie. raw lab values). Processing can convert these variables into clinically meaningful information. It won't matter how sophisticated our analysis is if we don't properly process our data. A common saying in data science is \"Junk in, Junk out\". "
   ]
  },
  {
   "cell_type": "markdown",
   "metadata": {
    "heading_collapsed": true,
    "hidden": true
   },
   "source": [
    "## Reading Our data"
   ]
  },
  {
   "cell_type": "markdown",
   "metadata": {
    "hidden": true
   },
   "source": [
    "We'll being by reading in our data so we can clean and use it. "
   ]
  },
  {
   "cell_type": "code",
   "execution_count": null,
   "metadata": {
    "ExecuteTime": {
     "end_time": "2020-03-17T01:58:11.385336Z",
     "start_time": "2020-03-17T01:58:04.756Z"
    },
    "cell_style": "center",
    "hidden": true
   },
   "outputs": [],
   "source": [
    "# Note: Unicode Transformation Format – 8 (UTF-8) is a standard to encode characters in different languages\n",
    "cat('Data loading, please wait\\n')\n",
    "no_show_data <- read.csv(file=\"data/med_no_show.csv\",  encoding=\"UTF-8\", header=TRUE, sep=\",\")\n",
    "cat('Data loaded!')"
   ]
  },
  {
   "cell_type": "markdown",
   "metadata": {
    "heading_collapsed": true,
    "hidden": true
   },
   "source": [
    "## Inspecting our Data"
   ]
  },
  {
   "cell_type": "markdown",
   "metadata": {
    "hidden": true
   },
   "source": [
    "Now lets get an overview of our data"
   ]
  },
  {
   "cell_type": "code",
   "execution_count": null,
   "metadata": {
    "ExecuteTime": {
     "end_time": "2020-03-17T01:58:11.387333Z",
     "start_time": "2020-03-17T01:58:04.844Z"
    },
    "hidden": true
   },
   "outputs": [],
   "source": [
    "head(no_show_data)\n",
    "str(no_show_data)"
   ]
  },
  {
   "cell_type": "markdown",
   "metadata": {
    "hidden": true
   },
   "source": [
    "You'll immediately notice some of the results are in a foreign language or in an unfriendly format. This data is derived from deidentified Brazilian patients. We'll need to make this data formatted correctly, easily interpretable, and easily understood by an English audience. We have our work cut out for us but it will be worth it when we analyze the data!"
   ]
  },
  {
   "cell_type": "markdown",
   "metadata": {
    "heading_collapsed": true,
    "hidden": true
   },
   "source": [
    "## Recoding Variables"
   ]
  },
  {
   "cell_type": "markdown",
   "metadata": {
    "hidden": true
   },
   "source": [
    "We now need to recode our variables into meaningful outputs. Lets give our variable names easily understood labels. "
   ]
  },
  {
   "cell_type": "code",
   "execution_count": null,
   "metadata": {
    "ExecuteTime": {
     "end_time": "2020-03-17T01:58:11.422151Z",
     "start_time": "2020-03-17T01:58:04.968Z"
    },
    "code_folding": [],
    "hidden": true
   },
   "outputs": [],
   "source": [
    "# Renaming Variables\n",
    "names(no_show_data)[names(no_show_data) == 'PatientId'] <- 'patient_id'\n",
    "names(no_show_data)[names(no_show_data) == 'AppointmentID'] <- 'appointment_id'\n",
    "names(no_show_data)[names(no_show_data) ==  'Gender'] <- 'gender'\n",
    "names(no_show_data)[names(no_show_data) == 'ScheduledDay'] <- 'scheduled_day'\n",
    "names(no_show_data)[names(no_show_data) == 'AppointmentDay'] <- 'appointment_day'\n",
    "names(no_show_data)[names(no_show_data) == 'Age'] <- 'age'\n",
    "names(no_show_data)[names(no_show_data) == 'Neighbourhood'] <- 'neighborhood'\n",
    "names(no_show_data)[names(no_show_data) == 'Scholarship'] <- 'enroll_subsidy'\n",
    "names(no_show_data)[names(no_show_data) == 'Hipertension'] <- 'hypertension'\n",
    "names(no_show_data)[names(no_show_data) == 'Diabetes'] <- 'diabetes'\n",
    "names(no_show_data)[names(no_show_data) == 'Alcoholism'] <- 'alcoholism'\n",
    "names(no_show_data)[names(no_show_data) == 'Handcap'] <- 'handicap'\n",
    "names(no_show_data)[names(no_show_data) == 'SMS_received'] <- 'sms_received'\n",
    "names(no_show_data)[names(no_show_data) == 'No.show'] <- 'no_show'\n",
    "\n",
    "cat('Variables renamed.')"
   ]
  },
  {
   "cell_type": "markdown",
   "metadata": {
    "hidden": true
   },
   "source": [
    "We now need to recode many of our variables into meaningful outputs. For instance, we will code the variable `hypertension`. If `hypertension` has a value of `1` then we code the variable as `Has hypertension`. If `hypertension` has a value of `0` then we code the variable as `No hypertension`. "
   ]
  },
  {
   "cell_type": "code",
   "execution_count": null,
   "metadata": {
    "ExecuteTime": {
     "end_time": "2020-03-17T01:58:11.609935Z",
     "start_time": "2020-03-17T01:58:05.016Z"
    },
    "hidden": true
   },
   "outputs": [],
   "source": [
    "# Recoding Variables\n",
    "# Convert to character so can be recoded\n",
    "no_show_data$enroll_subsidy <- as.character(no_show_data$enroll_subsidy)\n",
    "no_show_data$enroll_subsidy[no_show_data$enroll_subsidy == '1'] <- 'Enrolled'\n",
    "no_show_data$enroll_subsidy[no_show_data$enroll_subsidy == '0'] <- 'Not enrolled'\n",
    "no_show_data$enroll_subsidy <- as.factor(no_show_data$enroll_subsidy)\n",
    "\n",
    "no_show_data$hypertension <- as.character(no_show_data$hypertension)\n",
    "no_show_data$hypertension[no_show_data$hypertension == '1'] <- 'Has hypertension'\n",
    "no_show_data$hypertension[no_show_data$hypertension == '0'] <- 'No hypertension'\n",
    "no_show_data$hypertension <- as.factor(no_show_data$hypertension)\n",
    "\n",
    "no_show_data$diabetes <- as.character(no_show_data$diabetes)\n",
    "no_show_data$diabetes[no_show_data$diabetes == '1'] <- 'Has diabetes'\n",
    "no_show_data$diabetes[no_show_data$diabetes == '0'] <- 'No diabetes'\n",
    "no_show_data$diabetes <- as.factor(no_show_data$diabetes)\n",
    "\n",
    "no_show_data$sms_received <- as.character(no_show_data$sms_received)\n",
    "no_show_data$sms_received[no_show_data$sms_received == '1'] <- 'Yes'\n",
    "no_show_data$sms_received[no_show_data$sms_received == '0'] <- 'No'\n",
    "no_show_data$sms_received <- as.factor(no_show_data$sms_received)\n",
    "\n",
    "cat('Variables recoded')"
   ]
  },
  {
   "cell_type": "markdown",
   "metadata": {
    "hidden": true
   },
   "source": [
    "Let confirm our changes"
   ]
  },
  {
   "cell_type": "code",
   "execution_count": null,
   "metadata": {
    "ExecuteTime": {
     "end_time": "2020-03-17T01:58:11.674549Z",
     "start_time": "2020-03-17T01:58:05.060Z"
    },
    "hidden": true
   },
   "outputs": [],
   "source": [
    "head(no_show_data[c('enroll_subsidy', 'hypertension', 'diabetes', 'sms_received')])\n",
    "str(no_show_data[c('enroll_subsidy', 'hypertension', 'diabetes', 'sms_received')])"
   ]
  },
  {
   "cell_type": "markdown",
   "metadata": {
    "hidden": true
   },
   "source": [
    "It look like our changes were successful. We now need to correctly categorize our data as either numeric or categorical. "
   ]
  },
  {
   "cell_type": "markdown",
   "metadata": {
    "hidden": true,
    "solution2": "hidden",
    "solution2_first": true
   },
   "source": [
    "**Pre-Check:** What is the difference between a numeric and categorical variable?"
   ]
  },
  {
   "cell_type": "markdown",
   "metadata": {
    "hidden": true,
    "solution2": "hidden"
   },
   "source": [
    "- **Numeric:** variables whose values are whole numbers (ie. numbers, percents)\n",
    "- **Categorical:** variables whose values are selected from a group (ie. dog breeds, male/female) \n",
    "\n",
    "> Note R calls categorical variables **Factors**"
   ]
  },
  {
   "cell_type": "code",
   "execution_count": null,
   "metadata": {
    "ExecuteTime": {
     "end_time": "2020-03-17T01:58:11.729597Z",
     "start_time": "2020-03-17T01:58:05.205Z"
    },
    "hidden": true
   },
   "outputs": [],
   "source": [
    "no_show_data$enroll_subsidy <- as.factor(no_show_data$enroll_subsidy)\n",
    "no_show_data$hypertension <- as.factor(no_show_data$hypertension)\n",
    "no_show_data$diabetes <- as.factor(no_show_data$diabetes)\n",
    "no_show_data$alcoholism <- as.factor(no_show_data$alcoholism)\n",
    "no_show_data$handicap <- as.factor(no_show_data$handicap)\n",
    "no_show_data$sms_received <- as.factor(no_show_data$sms_received)\n",
    "\n",
    "cat('Conversion complete!')"
   ]
  },
  {
   "cell_type": "markdown",
   "metadata": {
    "heading_collapsed": true,
    "hidden": true
   },
   "source": [
    "### Dealing with Date and Time Data"
   ]
  },
  {
   "cell_type": "code",
   "execution_count": null,
   "metadata": {
    "ExecuteTime": {
     "end_time": "2020-03-17T01:58:11.780714Z",
     "start_time": "2020-03-17T01:58:05.245Z"
    },
    "hidden": true
   },
   "outputs": [],
   "source": [
    "head(no_show_data[c('scheduled_day', 'appointment_day')])"
   ]
  },
  {
   "cell_type": "markdown",
   "metadata": {
    "hidden": true
   },
   "source": [
    "We also need to make sure the dates are converted into the correct variable type. They have `T` and `Z` characters spread out throughout the entry. Lets get rid of these."
   ]
  },
  {
   "cell_type": "code",
   "execution_count": null,
   "metadata": {
    "ExecuteTime": {
     "end_time": "2020-03-17T01:58:12.370698Z",
     "start_time": "2020-03-17T01:58:05.285Z"
    },
    "hidden": true
   },
   "outputs": [],
   "source": [
    "no_show_data$scheduled_day <- str_replace(no_show_data$scheduled_day,\"T\",\" \")\n",
    "no_show_data$scheduled_day <- str_replace(no_show_data$scheduled_day,\"Z\",\"\")\n",
    "no_show_data$appointment_day <- str_replace(no_show_data$appointment_day,\"T\",\" \")\n",
    "no_show_data$appointment_day <- str_replace(no_show_data$appointment_day,\"Z\",\"\")\n",
    "\n",
    "cat('Character removed')"
   ]
  },
  {
   "cell_type": "code",
   "execution_count": null,
   "metadata": {
    "ExecuteTime": {
     "end_time": "2020-03-17T01:58:12.408349Z",
     "start_time": "2020-03-17T01:58:05.288Z"
    },
    "hidden": true
   },
   "outputs": [],
   "source": [
    "head(no_show_data[c('scheduled_day', 'appointment_day')])"
   ]
  },
  {
   "cell_type": "markdown",
   "metadata": {
    "hidden": true
   },
   "source": [
    "Now lets convert these variables into the correct format. We will be converting these variables into a variable type called date time variables. "
   ]
  },
  {
   "cell_type": "code",
   "execution_count": null,
   "metadata": {
    "ExecuteTime": {
     "end_time": "2020-03-17T01:58:13.158314Z",
     "start_time": "2020-03-17T01:58:05.335Z"
    },
    "hidden": true
   },
   "outputs": [],
   "source": [
    "# Coversion to datetime, note tz specifies time zone\n",
    "no_show_data$scheduled_day <- as.POSIXct(no_show_data$scheduled_day, tz = 'UTC')\n",
    "no_show_data$appointment_day <- as.POSIXct(no_show_data$appointment_day, tz = 'UTC')\n",
    "\n",
    "cat('Conversion completed')"
   ]
  },
  {
   "cell_type": "code",
   "execution_count": null,
   "metadata": {
    "ExecuteTime": {
     "end_time": "2020-03-17T01:58:13.196313Z",
     "start_time": "2020-03-17T01:58:05.339Z"
    },
    "hidden": true
   },
   "outputs": [],
   "source": [
    "head(no_show_data[c('scheduled_day', 'appointment_day')])"
   ]
  },
  {
   "cell_type": "code",
   "execution_count": null,
   "metadata": {
    "ExecuteTime": {
     "end_time": "2020-03-17T01:58:13.228912Z",
     "start_time": "2020-03-17T01:58:05.342Z"
    },
    "hidden": true
   },
   "outputs": [],
   "source": [
    "no_show_data$appointment_day = no_show_data$appointment_day+ddays(1)-dseconds(1)"
   ]
  },
  {
   "cell_type": "code",
   "execution_count": null,
   "metadata": {
    "ExecuteTime": {
     "end_time": "2020-03-17T01:58:13.271995Z",
     "start_time": "2020-03-17T01:58:05.345Z"
    },
    "hidden": true
   },
   "outputs": [],
   "source": [
    "head(no_show_data[c('scheduled_day', 'appointment_day')])"
   ]
  },
  {
   "cell_type": "code",
   "execution_count": null,
   "metadata": {
    "ExecuteTime": {
     "end_time": "2020-03-17T01:58:13.317012Z",
     "start_time": "2020-03-17T01:58:05.347Z"
    },
    "hidden": true
   },
   "outputs": [],
   "source": [
    "sum(no_show_data$appointment_day<no_show_data$scheduled_day)"
   ]
  },
  {
   "cell_type": "code",
   "execution_count": null,
   "metadata": {
    "ExecuteTime": {
     "end_time": "2020-03-17T01:58:13.383831Z",
     "start_time": "2020-03-17T01:58:05.350Z"
    },
    "hidden": true
   },
   "outputs": [],
   "source": [
    "no_show_data <- subset(no_show_data,no_show_data$appointment_day>no_show_data$scheduled_day)"
   ]
  },
  {
   "cell_type": "code",
   "execution_count": null,
   "metadata": {
    "ExecuteTime": {
     "end_time": "2020-03-17T01:58:13.608535Z",
     "start_time": "2020-03-17T01:58:05.353Z"
    },
    "hidden": true
   },
   "outputs": [],
   "source": [
    "sum(no_show_data$appointment_day<no_show_data$scheduled_day)"
   ]
  },
  {
   "cell_type": "code",
   "execution_count": null,
   "metadata": {
    "ExecuteTime": {
     "end_time": "2020-03-17T01:58:14.278344Z",
     "start_time": "2020-03-17T01:58:05.357Z"
    },
    "hidden": true
   },
   "outputs": [],
   "source": [
    "no_show_data$delta_days=(no_show_data$scheduled_day %--% no_show_data$appointment_day)%/% seconds(1)/(60*60*24)"
   ]
  },
  {
   "cell_type": "markdown",
   "metadata": {
    "heading_collapsed": true,
    "hidden": true
   },
   "source": [
    "## Checking for Missing Values"
   ]
  },
  {
   "cell_type": "markdown",
   "metadata": {
    "hidden": true
   },
   "source": [
    "Let's determine the number of missing for each variable"
   ]
  },
  {
   "cell_type": "code",
   "execution_count": null,
   "metadata": {
    "ExecuteTime": {
     "end_time": "2020-03-17T01:58:14.341539Z",
     "start_time": "2020-03-17T01:58:05.450Z"
    },
    "hidden": true
   },
   "outputs": [],
   "source": [
    "# Determine number of missing for each variable\n",
    "cat('Number of Missing Data for Each Variable:')\n",
    "sapply(no_show_data, function(x) sum(is.na(x)))"
   ]
  },
  {
   "cell_type": "markdown",
   "metadata": {
    "hidden": true
   },
   "source": [
    "No missing data! This will rarely happen. It's more likely there are erroneous values that our program is not picking up as errors. "
   ]
  },
  {
   "cell_type": "code",
   "execution_count": null,
   "metadata": {
    "ExecuteTime": {
     "end_time": "2020-03-17T01:58:14.702084Z",
     "start_time": "2020-03-17T01:58:05.496Z"
    },
    "hidden": true
   },
   "outputs": [],
   "source": [
    "summary(no_show_data[,-c(1,2)])"
   ]
  },
  {
   "cell_type": "markdown",
   "metadata": {
    "hidden": true
   },
   "source": [
    "For instance, in `age` we can see someone that is -1 years old and 115 years old. These are highly unlikely values. Lets remove implausible values. We will then classify these implausible values in a format our program can recognize. Based on observation, we can make these initial judgements:\n",
    "\n",
    "**Age:**\n",
    "- It's physiologically implausible for an individual to be -1 years old and highly unlikely for an individuals to be 115 years old. This is likely an input error. \n",
    "\n",
    "Lets examine `age` more closely"
   ]
  },
  {
   "cell_type": "code",
   "execution_count": null,
   "metadata": {
    "ExecuteTime": {
     "end_time": "2020-03-17T01:58:14.773893Z",
     "start_time": "2020-03-17T01:58:05.547Z"
    },
    "hidden": true
   },
   "outputs": [],
   "source": [
    "cat('Age:')\n",
    "quantile(no_show_data$age, c(0, .01, .05, .10, .25, .50, .75, .90, .95, .99, 1), \n",
    "         na.rm = TRUE)"
   ]
  },
  {
   "cell_type": "markdown",
   "metadata": {
    "hidden": true
   },
   "source": [
    "Once again, ages below 0 are impossible and ages above 100 are unlikely given the trends in our data. Lets remove these values. "
   ]
  },
  {
   "cell_type": "code",
   "execution_count": null,
   "metadata": {
    "ExecuteTime": {
     "end_time": "2020-03-17T01:58:14.821147Z",
     "start_time": "2020-03-17T01:58:05.591Z"
    },
    "hidden": true
   },
   "outputs": [],
   "source": [
    "no_show_data$age[no_show_data$age < 0 | no_show_data$age > 100] <- NA\n",
    "\n",
    "cat('Data edited')"
   ]
  },
  {
   "cell_type": "markdown",
   "metadata": {
    "hidden": true
   },
   "source": [
    "Lets confirm"
   ]
  },
  {
   "cell_type": "code",
   "execution_count": null,
   "metadata": {
    "ExecuteTime": {
     "end_time": "2020-03-17T01:58:14.873167Z",
     "start_time": "2020-03-17T01:58:05.636Z"
    },
    "hidden": true
   },
   "outputs": [],
   "source": [
    "cat('Number of Missing Data for Each Variable:')\n",
    "sapply(no_show_data, function(x) sum(is.na(x)))"
   ]
  },
  {
   "cell_type": "markdown",
   "metadata": {
    "hidden": true
   },
   "source": [
    "Better although it looks like we still have unusually clean data. Not a bad problem to have!"
   ]
  },
  {
   "cell_type": "markdown",
   "metadata": {
    "heading_collapsed": true,
    "hidden": true
   },
   "source": [
    "## Creating Day of Week"
   ]
  },
  {
   "cell_type": "markdown",
   "metadata": {
    "hidden": true
   },
   "source": [
    "Thanks to our time data, we can extract some useful information. We have both the scheduled time and the appointment time. The appointment time would be more useful since we are looking for appointment day no-shows. We can use our time variable to determine the day of the week the appointment occurred. "
   ]
  },
  {
   "cell_type": "code",
   "execution_count": null,
   "metadata": {
    "ExecuteTime": {
     "end_time": "2020-03-17T01:58:15.358187Z",
     "start_time": "2020-03-17T01:58:05.789Z"
    },
    "hidden": true
   },
   "outputs": [],
   "source": [
    "no_show_data$appt_day_of_week <- weekdays(no_show_data$appointment_day)\n",
    "no_show_data$appt_day_of_week <- as.factor(no_show_data$appt_day_of_week)\n",
    "\n",
    "cat('Variable appt_day_of_week created')"
   ]
  },
  {
   "cell_type": "markdown",
   "metadata": {
    "ExecuteTime": {
     "end_time": "2019-10-24T18:20:03.591316Z",
     "start_time": "2019-10-24T18:19:58.299Z"
    },
    "hidden": true
   },
   "source": [
    "Many times you can use your given data to extract even more useful data. Be on the lookout for these opportunities. The more **relevant** data you can extract, the better. "
   ]
  },
  {
   "cell_type": "markdown",
   "metadata": {
    "heading_collapsed": true
   },
   "source": [
    "# Exploratory Analysis"
   ]
  },
  {
   "cell_type": "markdown",
   "metadata": {
    "hidden": true
   },
   "source": [
    "Now that we've cleaned our data we can begin exploring our data. Using this, we can see which features are good candidates for building our prediction model. Feature selection  will determine how good or how bad your model is. Bad feature selection can have a hugely negative impact on your model even if you used the most advanced techniques. Understanding the clinical nuances of your data can inform better feature selection"
   ]
  },
  {
   "cell_type": "markdown",
   "metadata": {
    "heading_collapsed": true,
    "hidden": true
   },
   "source": [
    "### Why Can't We Just Use More Variables?"
   ]
  },
  {
   "cell_type": "markdown",
   "metadata": {
    "hidden": true
   },
   "source": [
    "One issue you might be wondering about is why do we even need to select variables. Why not just use all of the variables? After all, more data lead to better models right? This is a common misconception that even experience analysts need to watch out for. Including too many features in your prediction model can lead to what is known as 'overfitting'. Overfitting is essentially where you build a model that adheres too closely to your current data set and is unable to predict observations that are not from your current data set. In other words, its where you develop a model that tuned too closely to your current data, and is not generalizable to outside data sources. \n",
    "\n",
    "<img src=\"https://3gp10c1vpy442j63me73gy3s-wpengine.netdna-ssl.com/wp-content/uploads/2018/03/Screen-Shot-2018-03-22-at-11.22.15-AM-e1527613915658.png\" align=\"center\" style=\"width: 50%; margin-bottom: 0.5em; margin-top: 0.5em;\">"
   ]
  },
  {
   "cell_type": "markdown",
   "metadata": {
    "hidden": true
   },
   "source": [
    "The boxplot divides data into division known as quartiles. The first quartile (Q1) corresponds to the 25th percentile of the data. The second quartile (Q2) corresponds to the 50th percentile of the data. This is also the median. The third quartile (Q3) corresponds to the 75 percentile of the data. The lines on the box represent Q1, the median, and Q3. The tails or 'whiskers' of the plots represent 1.5 * IQR above and below the Q1 and Q3. \n",
    "\n",
    "<img src=\"https://miro.medium.com/max/1200/1*2c21SkzJMf3frPXPAR_gZA.png\" align=\"center\" style=\"width: 70%; margin-bottom: 0.5em; margin-top: 0.5em;\">"
   ]
  },
  {
   "cell_type": "markdown",
   "metadata": {
    "heading_collapsed": true,
    "hidden": true
   },
   "source": [
    "## Getting a Closer Look at our Data"
   ]
  },
  {
   "cell_type": "markdown",
   "metadata": {
    "hidden": true
   },
   "source": [
    "Lets take a closer look as we begin our exploratory data analysis. "
   ]
  },
  {
   "cell_type": "code",
   "execution_count": null,
   "metadata": {
    "ExecuteTime": {
     "end_time": "2020-03-17T01:58:15.431355Z",
     "start_time": "2020-03-17T01:58:06.239Z"
    },
    "hidden": true
   },
   "outputs": [],
   "source": [
    "str(no_show_data)"
   ]
  },
  {
   "cell_type": "code",
   "execution_count": null,
   "metadata": {
    "ExecuteTime": {
     "end_time": "2020-03-17T01:58:15.553303Z",
     "start_time": "2020-03-17T01:58:06.243Z"
    },
    "hidden": true
   },
   "outputs": [],
   "source": [
    "summary(no_show_data[,-2])"
   ]
  },
  {
   "cell_type": "markdown",
   "metadata": {
    "hidden": true
   },
   "source": [
    "This summary page presents us with quite a bit of data. The first thing to realize is that the output will differ based on whether the variable is numeric or categorical. Numeric outputs will include summary statistics while categorical variables will include frequency counts of each category. \n",
    "\n",
    "These summaries will provide a useful reference throughout our exploratory data analysis. "
   ]
  },
  {
   "cell_type": "markdown",
   "metadata": {
    "heading_collapsed": true,
    "hidden": true
   },
   "source": [
    "## Assessing Numeric Variables"
   ]
  },
  {
   "cell_type": "markdown",
   "metadata": {
    "hidden": true
   },
   "source": [
    "We can see that our only numeric variable is `age`. Lets examine its distribution.  "
   ]
  },
  {
   "cell_type": "code",
   "execution_count": null,
   "metadata": {
    "ExecuteTime": {
     "end_time": "2020-03-17T01:58:17.710011Z",
     "start_time": "2020-03-17T01:58:06.427Z"
    },
    "hidden": true
   },
   "outputs": [],
   "source": [
    "### Age ###\n",
    "# Create Plot\n",
    "age_plot <- ggplot(no_show_data, aes(x=age)) +\n",
    "geom_histogram(alpha = 0.5, position = 'identity', bins=15, color ='black ', fill='light blue') +\n",
    "labs(x='Age (years)', y='Frequency Count', caption = 'Dashed Line Represents Median Age')\n",
    "\n",
    "# Display + Median Line\n",
    "age_plot + geom_vline(aes(xintercept=median(age, na.rm=TRUE)),\n",
    "            color=\"blue\", linetype=\"dashed\", size=1)"
   ]
  },
  {
   "cell_type": "markdown",
   "metadata": {
    "hidden": true
   },
   "source": [
    "Now lets see if theres a relationship between `age` and `no_show`"
   ]
  },
  {
   "cell_type": "code",
   "execution_count": null,
   "metadata": {
    "ExecuteTime": {
     "end_time": "2020-03-17T01:58:20.057372Z",
     "start_time": "2020-03-17T01:58:06.483Z"
    },
    "hidden": true
   },
   "outputs": [],
   "source": [
    "ggplot(no_show_data, aes(x=no_show, y=age, color = no_show, fill = no_show)) + \n",
    "geom_violin(alpha = 0.3, trim = FALSE) + # By default tails are trimmed\n",
    "stat_summary(fun.y=median, geom=\"point\", shape = 23, size = 2) +\n",
    "theme(legend.position='none') +\n",
    "labs(y='Age', x='No Show') +\n",
    "coord_flip()"
   ]
  },
  {
   "cell_type": "markdown",
   "metadata": {
    "hidden": true
   },
   "source": [
    "This is difficult. The distribution shape and median seems similar, but there appear to be nuanced differences. It's difficult to tell whether there is a significant difference in showing up to appointments by age group. We can gain further clarity by performing a t-test"
   ]
  },
  {
   "cell_type": "code",
   "execution_count": null,
   "metadata": {
    "ExecuteTime": {
     "end_time": "2020-03-17T01:58:20.130481Z",
     "start_time": "2020-03-17T01:58:06.545Z"
    },
    "hidden": true
   },
   "outputs": [],
   "source": [
    "no_show_new <- subset(no_show_data, no_show == 'No')\n",
    "show_new <- subset(no_show_data, no_show == 'Yes')\n",
    "\n",
    "t.test(no_show_new$age, show_new$age, var.equal = FALSE)"
   ]
  },
  {
   "cell_type": "markdown",
   "metadata": {
    "hidden": true
   },
   "source": [
    "Based on our t.test results we can see that is looks like age between whether an individual showed to their appointments are not the same (p < 0.05). For this reason we will be keeping this as a variable for building our prediction model. "
   ]
  },
  {
   "cell_type": "markdown",
   "metadata": {
    "heading_collapsed": true,
    "hidden": true
   },
   "source": [
    "### What is a t-test"
   ]
  },
  {
   "cell_type": "markdown",
   "metadata": {
    "hidden": true
   },
   "source": [
    "A t-test is a type of test to assess if there is a statistically significant difference between the means of two groups. It requires that both variables being test are numeric variables. In our case, we were examining the mean age of the group that showed up to their appointments against the group that did not show up. The test worked because age is a numeric variable. "
   ]
  },
  {
   "cell_type": "markdown",
   "metadata": {
    "heading_collapsed": true,
    "hidden": true
   },
   "source": [
    "## Assessing Categorical Variables"
   ]
  },
  {
   "cell_type": "markdown",
   "metadata": {
    "hidden": true
   },
   "source": [
    "Finally lets look at our remaining variables. The rest of the variable of interest are categorical. We should be able to observe their effect on stroke well and quickly using stacked bar plots. "
   ]
  },
  {
   "cell_type": "code",
   "execution_count": null,
   "metadata": {
    "ExecuteTime": {
     "end_time": "2020-03-17T01:58:20.183518Z",
     "start_time": "2020-03-17T01:58:06.813Z"
    },
    "hidden": true
   },
   "outputs": [],
   "source": [
    "str(no_show_data)"
   ]
  },
  {
   "cell_type": "code",
   "execution_count": null,
   "metadata": {
    "ExecuteTime": {
     "end_time": "2020-03-17T01:58:24.264194Z",
     "start_time": "2020-03-17T01:58:06.817Z"
    },
    "hidden": true
   },
   "outputs": [],
   "source": [
    "p1 <- ggplot(no_show_data, aes(x=gender, fill = no_show)) + \n",
    "geom_bar(position='fill') +\n",
    "labs(y='Proportion', x='Gender', fill = \"No Show Status\") +\n",
    "theme(legend.position = 'none') + theme(axis.title.y=element_blank())\n",
    "\n",
    "p2 <- ggplot(no_show_data, aes(x=enroll_subsidy, fill = no_show)) + \n",
    "geom_bar(position='fill') +\n",
    "labs(y='Proportion', x='Subsidy Status', fill = \"No Show Status\") +\n",
    "theme(legend.position = 'none') + theme(axis.title.y=element_blank())\n",
    "\n",
    "p3 <- ggplot(no_show_data, aes(x=hypertension, fill = no_show)) + \n",
    "geom_bar(position='fill') +\n",
    "labs(y='Proportion', x='Hypertension', fill = \"No Show Status\") +\n",
    "theme(legend.position = 'none') + theme(axis.title.y=element_blank())\n",
    "\n",
    "p4 <- ggplot(no_show_data, aes(x=diabetes, fill = no_show)) + \n",
    "geom_bar(position='fill') +\n",
    "labs(y='Proportion', x='Diabetes Status', fill = \"No Show Status\") +\n",
    "theme(legend.position = 'none') + theme(axis.title.y=element_blank())\n",
    "\n",
    "p5 <- ggplot(no_show_data, aes(x=alcoholism, fill = no_show)) + \n",
    "geom_bar(position='fill') +\n",
    "labs(y='Proportion', x='Alcoholism', fill = \"No Show Status\") +\n",
    "theme(legend.position = 'none') + theme(axis.title.y=element_blank())\n",
    "\n",
    "p6 <- ggplot(no_show_data, aes(x=handicap, fill = no_show)) + \n",
    "geom_bar(position='fill') +\n",
    "labs(y='Proportion', x='Handicap', fill = \"No Show Status\") +\n",
    "theme(legend.position = 'none') + theme(axis.title.y=element_blank())\n",
    "\n",
    "p7 <- ggplot(no_show_data, aes(x=sms_received, fill = no_show)) + \n",
    "geom_bar(position='fill') +\n",
    "labs(y='Proportion', x='SMS Received', fill = \"No Show Status\") +\n",
    "theme(legend.position = 'none') + theme(axis.title.y=element_blank())\n",
    "\n",
    "p8 <- ggplot(no_show_data, aes(x=appt_day_of_week, fill = no_show)) + \n",
    "geom_bar(position='fill') +\n",
    "labs(y='Proportion', x='Appt Day of Week', fill = \"No Show Status\") +\n",
    "theme(legend.position = 'none') + theme(axis.title.y=element_blank())\n",
    "\n",
    "# Arrange plots into grid\n",
    "plot_grid(p1, p2, p3, p4, p5, p6, p7, p8, ncol = 2)\n"
   ]
  },
  {
   "cell_type": "code",
   "execution_count": null,
   "metadata": {
    "ExecuteTime": {
     "end_time": "2020-03-17T01:58:24.344235Z",
     "start_time": "2020-03-17T01:58:06.821Z"
    },
    "hidden": true
   },
   "outputs": [],
   "source": [
    "str(no_show_data)"
   ]
  },
  {
   "cell_type": "markdown",
   "metadata": {
    "hidden": true
   },
   "source": [
    "We can see based on our visualizations that the variables `age`, `neighborhood`, `enroll_subsidy`, `handicap`, `sms_received`, and `appt_day_of_week` have an effect on no show status. This is indicates they would be good variables to include in our prediction model. "
   ]
  },
  {
   "cell_type": "markdown",
   "metadata": {
    "hidden": true
   },
   "source": [
    "One variable we have not look at yet is the `neighborhood` variable. Since there are 81 different neighborhoods included in our data, it would not be practical to visualize this variable using a stacked bar plot similar to how we did for our other variables. However, we can use an chi-squared test to see whether this variable has an effect on no show status. "
   ]
  },
  {
   "cell_type": "code",
   "execution_count": null,
   "metadata": {
    "ExecuteTime": {
     "end_time": "2020-03-17T01:58:24.398665Z",
     "start_time": "2020-03-17T01:58:06.959Z"
    },
    "hidden": true
   },
   "outputs": [],
   "source": [
    "chisq.test(no_show_data$no_show, no_show_data$neighborhood)"
   ]
  },
  {
   "cell_type": "markdown",
   "metadata": {
    "hidden": true
   },
   "source": [
    "Based on our results we can see that the number of no shows differs significantly based upon neighborhood. "
   ]
  },
  {
   "cell_type": "markdown",
   "metadata": {
    "heading_collapsed": true,
    "hidden": true
   },
   "source": [
    "### What is a Chi-squared Test"
   ]
  },
  {
   "cell_type": "markdown",
   "metadata": {
    "hidden": true
   },
   "source": [
    "A chi-square test is a statistical test that tells you whether groups of observations are different. For instance, say you're researching two companies and you divide them either as male or female. The number of males compared to females in the two companies differ but how can you tell that this is not random chance? A chi-squared test can be used to differentiate whether the **observed** number of males and females in your study differs from the **expected** number of males and females. \n",
    "\n",
    "> Note: Chi-square tests can only be used for categorical variables. There are separate tests to determine whether numerical numbers differ form one another. These additional tests are beyond the scope of the case. "
   ]
  },
  {
   "cell_type": "markdown",
   "metadata": {
    "heading_collapsed": true,
    "hidden": true
   },
   "source": [
    "## Analyzing Our Data: Logistic Regression "
   ]
  },
  {
   "cell_type": "markdown",
   "metadata": {
    "hidden": true
   },
   "source": [
    "Now that our variables have been successfully converted and our outcome has been defined, we can analyze our data. Logistic regression is a mathematical model that estimates the probability of a binary outcomes (such as our risk label). It is named after the logistic curve which takes the S-shape depicted below.\n",
    "<img src=\"https://upload.wikimedia.org/wikipedia/commons/thumb/8/88/Logistic-curve.svg/640px-Logistic-curve.svg.png?1566122052688\" alt=\"Logistic Curve\" title=\"Logistic Curve\" />"
   ]
  },
  {
   "cell_type": "markdown",
   "metadata": {
    "hidden": true,
    "solution2": "hidden",
    "solution2_first": true
   },
   "source": [
    "**Pre-Check:** What is our primary outcome? What information will a logistic regression model tell use about our outcome?"
   ]
  },
  {
   "cell_type": "markdown",
   "metadata": {
    "hidden": true,
    "solution2": "hidden"
   },
   "source": [
    "Our primary outcome is whether a individual did or did not show to their appointment. The logistic regression model will allow us to see how individuals variables affect whether an individual has a has a no show **while controlling for other variables in the model**. For instance, we can see whether being older affects having a no show while controlling for handicaps, neighborhood, etc...\n",
    "\n",
    "Very useful indeed!"
   ]
  },
  {
   "cell_type": "markdown",
   "metadata": {
    "hidden": true,
    "solution2": "hidden",
    "solution2_first": true
   },
   "source": [
    "**Follow-Up:** What is statistical significance? What is a generally accepted level of statistical significance in healthcare research?"
   ]
  },
  {
   "cell_type": "markdown",
   "metadata": {
    "hidden": true,
    "solution2": "hidden"
   },
   "source": [
    "Statistical Significance can be defined as the chance that the relationship you observed in your data occurred by chance. What does this mean? Lets say our logistic regression model finds that weight has a statistically significant effect on being high risk or low risk asthmatic patient. This means that it more likely that there is indeed a relationship between weight and risk than chance would suggest. \n",
    "\n",
    "The conventional level of significance that is accepted is < 0.05 (this number is referred to as a p-value). This means that there is less than 5% chance that the observed relationship in the data was due to chance alone. The image below display a sample R output.\n",
    "\n",
    "<img src=\"https://drchrispook.files.wordpress.com/2017/02/anova-output-from-r1.jpg\" align=\"center\" style=\"margin-bottom: 0.5em; margin-top: 0.5em;\">"
   ]
  },
  {
   "cell_type": "markdown",
   "metadata": {
    "hidden": true
   },
   "source": [
    "We can now create our logistic model. "
   ]
  },
  {
   "cell_type": "code",
   "execution_count": null,
   "metadata": {
    "ExecuteTime": {
     "end_time": "2020-03-17T01:58:25.798257Z",
     "start_time": "2020-03-17T01:58:07.567Z"
    },
    "hidden": true
   },
   "outputs": [],
   "source": [
    "# Creating a logistic regression model\n",
    "mylogit <- glm(no_show ~ delta_days+ age + enroll_subsidy + handicap + sms_received + appt_day_of_week, \n",
    "               data = no_show_data, family = \"binomial\")\n",
    "mylogit.sum <- summary(mylogit)\n",
    "mylogit.sum"
   ]
  },
  {
   "cell_type": "markdown",
   "metadata": {
    "hidden": true
   },
   "source": [
    "We can see that several of our variables do not have a statistically significant effect. Several of these variables are clinically relevant. However, many of these variables had an observable effect on no show status. In addition, some of the variable that are not statistically significant such as `neighborhood` and `handicap` are variables which can have large effect on health access. For these reasons, we will be keeping these variables in our model. \n",
    "\n",
    "While statistical significance is important, it is always more important to consider whether our predictor are clinically relevant for the outcome we will be predicting. Remember to alway consider the clinical significance of a variable and not just the statistical significance!"
   ]
  },
  {
   "cell_type": "markdown",
   "metadata": {
    "heading_collapsed": true
   },
   "source": [
    "# Building A Predictive Model"
   ]
  },
  {
   "cell_type": "markdown",
   "metadata": {
    "heading_collapsed": true,
    "hidden": true
   },
   "source": [
    "## Building a Prediction Model"
   ]
  },
  {
   "cell_type": "markdown",
   "metadata": {
    "hidden": true,
    "solution2": "hidden",
    "solution2_first": true
   },
   "source": [
    "**Pre-Check:** So far we haven't done any machine learning yet. What we've done can be considered traditional statistical analyses. What is Machine Learning?"
   ]
  },
  {
   "cell_type": "markdown",
   "metadata": {
    "hidden": true,
    "solution2": "hidden"
   },
   "source": [
    "In machine learning, data is split into a training and test set. A machine learning model is then trainined on the training set to predict whatever outcome of interest it was designed to predict (in our case we're predicting whether the asthmatic patient is high- or low- risk). The models predictive performance is then evaluated using the test set. \n",
    "\n",
    "<img src=\"https://www.sqlservercentral.com/wp-content/uploads/2019/05/Image-2.jpg\" align=\"center\" style=\"margin-bottom: 0.5em; margin-top: 0.5em;\">"
   ]
  },
  {
   "cell_type": "markdown",
   "metadata": {
    "hidden": true
   },
   "source": [
    "For our case we will be using a model called a decision tree. Decision trees are charts which help make a decision or prediction. Each branch represents a possible outcome. The end of branches represent an end result or decision. Decision trees are common in medical settings. For instance, below is an algorithm for evaluating febrile seizures. This is an example of a decision tree. \n",
    "\n",
    "<img src=\"https://img.grepmed.com/uploads/1105/febrileseizure-management-algorithm-diagnosis-complex-original.png\" align=\"center\" style=\"margin-bottom: 0.5em; margin-top: 0.5em;\">"
   ]
  },
  {
   "cell_type": "markdown",
   "metadata": {
    "hidden": true
   },
   "source": [
    "We now need to split our data into training and test data. We will be splitting our data into 80% training data and 20% test data. "
   ]
  },
  {
   "cell_type": "code",
   "execution_count": null,
   "metadata": {
    "ExecuteTime": {
     "end_time": "2020-03-17T01:58:25.887621Z",
     "start_time": "2020-03-17T01:58:08.007Z"
    },
    "hidden": true
   },
   "outputs": [],
   "source": [
    "# Splitting the data into training and test set data\n",
    "# Setting the seed value so we get the same result when we repreat\n",
    "set.seed(123)\n",
    "\n",
    "# Determining which rows willbe in the traiing data\n",
    "training_index <- sample(nrow(no_show_data), 0.8*nrow(no_show_data), replace = FALSE)  \n",
    "\n",
    "# Create Training Set\n",
    "training_data <- no_show_data[training_index,]\n",
    "\n",
    "# Create Test Set\n",
    "test_data <- no_show_data[-training_index,]"
   ]
  },
  {
   "cell_type": "markdown",
   "metadata": {
    "hidden": true
   },
   "source": [
    "Now that we've created our training and test data, we need to build our machine learning model. "
   ]
  },
  {
   "cell_type": "code",
   "execution_count": null,
   "metadata": {
    "ExecuteTime": {
     "end_time": "2020-03-17T01:58:28.501538Z",
     "start_time": "2020-03-17T01:58:08.062Z"
    },
    "hidden": true
   },
   "outputs": [],
   "source": [
    "model <- (no_show ~ delta_days + age + enroll_subsidy  + handicap + sms_received + appt_day_of_week)\n",
    "\n",
    "# Train Decision Tree\n",
    "caseweights <- ifelse(training_data$no_show == 'Yes', 4, 1)\n",
    "train_decision_tree <- rpart(model, data=training_data, method = 'class',\n",
    "                             control = rpart.control(minsplit=20, minbucket=1, cp = 0.005), \n",
    "                             weights = caseweights)\n",
    "\n",
    "# Plot Decision Tree\n",
    "rpart.plot(train_decision_tree)"
   ]
  },
  {
   "cell_type": "markdown",
   "metadata": {
    "ExecuteTime": {
     "end_time": "2019-10-24T18:20:29.588519Z",
     "start_time": "2019-10-24T18:20:00.025Z"
    },
    "hidden": true
   },
   "source": [
    "Now lets see how our model performed. "
   ]
  },
  {
   "cell_type": "code",
   "execution_count": null,
   "metadata": {
    "ExecuteTime": {
     "end_time": "2020-03-17T01:58:28.579764Z",
     "start_time": "2020-03-17T01:58:08.122Z"
    },
    "hidden": true
   },
   "outputs": [],
   "source": [
    "# Make prediction\n",
    "test_decision_tree <- predict(train_decision_tree, test_data, type = 'class')\n",
    "# Display Confusion Matrix\n",
    "confusionMatrix(test_decision_tree, test_data$no_show, positive = 'Yes')"
   ]
  },
  {
   "cell_type": "markdown",
   "metadata": {
    "hidden": true
   },
   "source": [
    "Our model was able to correctly predict 61% of the time with a sensitivity of 52% and a specificity of 64%. \n",
    "\n",
    "One question you may be wondering is does our model perform well enough? That depends. That depends on the type of condition or prediction we're making. That depends on whether alternative predictive models or tools exist and how our new model compares. Additional research or consideration should always be done consider whether a model's result is not only statistically significant, but **clinically significant**. "
   ]
  },
  {
   "cell_type": "markdown",
   "metadata": {
    "heading_collapsed": true,
    "hidden": true
   },
   "source": [
    "### What Is A Confusion Matrix"
   ]
  },
  {
   "cell_type": "markdown",
   "metadata": {
    "hidden": true
   },
   "source": [
    "A confusion matrix is a 2x2 table which computes 4 different combinations of predicted vs. actual values. The combinations are True Positive (TP), True Negative (TN), False Positive (FP), and False Negative (FN)\n",
    "\n",
    "<img src=\"https://miro.medium.com/max/320/1*Z54JgbS4DUwWSknhDCvNTQ.png\" align=\"center\" style=\"margin-bottom: 0.5em; margin-top: 0.5em;\">\n",
    "\n",
    "These 4 interpretations can be combined to generate many useful metrics. For our purpose there are three we will focus on. The first is accuracy: <a href=\"https://www.codecogs.com/eqnedit.php?latex=\\large&space;(TP&space;&plus;&space;TN)/Total\" target=\"_blank\"><img src=\"https://latex.codecogs.com/gif.latex?\\large&space;(TP&space;&plus;&space;TN)/Total\" title=\"\\large (TP + TN)/Total\" style=\"margin-bottom: 0.5em; margin-top: 0.5em;\"/></a>\n",
    "Accuracy allows us to measure how often our model predicted correctly. The second metric is sensitivity:<a href=\"https://www.codecogs.com/eqnedit.php?latex=\\large&space;TP&space;/&space;(TP&space;&plus;&space;FN)\" target=\"_blank\"><img src=\"https://latex.codecogs.com/gif.latex?\\large&space;TP&space;/&space;(TP&space;&plus;&space;FN)\" title=\"\\large TP / (TP + FN)\" style=\"margin-bottom: 0.5em; margin-top: 0.5em;\"/></a>\n",
    "Sensitivity asks the question, that when our outcome is actually positive (ie. in our case when our patient is actually high-risk) how often will the model predict positively (ie. how often will the model then predict the patient to be high-risk). The final metric is specificity:<a href=\"https://www.codecogs.com/eqnedit.php?latex=\\large&space;FP&space;/&space;(FP&space;&plus;&space;TN)\" target=\"_blank\"><img src=\"https://latex.codecogs.com/gif.latex?\\large&space;FP&space;/&space;(FP&space;&plus;&space;TN)\" title=\"\\large FP / (FP + TN)\" style=\"margin-bottom: 0.5em; margin-top: 0.5em;\"/></a>\n",
    "Specificity asks the question, that when the outcome is actually negative (ie. in our case when our patient is actually low-risk) how often will the model predict negatively (ie. how often will the model then predict the patient to be low-risk). \n",
    "\n",
    "\n"
   ]
  },
  {
   "cell_type": "markdown",
   "metadata": {
    "heading_collapsed": true,
    "hidden": true
   },
   "source": [
    "## Evaluating our Model"
   ]
  },
  {
   "cell_type": "markdown",
   "metadata": {
    "hidden": true
   },
   "source": [
    "We will be evaluating our model using a receiver operating curve (ROC) and the area under the curve (AUC) value. \n",
    "\n",
    "> If you're unsure what a ROC or AUC value is, please consult section 5.1.1 ('Understanding ROC Curves and AUC Values')"
   ]
  },
  {
   "cell_type": "code",
   "execution_count": null,
   "metadata": {
    "ExecuteTime": {
     "end_time": "2020-03-17T01:58:28.882949Z",
     "start_time": "2020-03-17T01:58:08.413Z"
    },
    "hidden": true,
    "scrolled": false
   },
   "outputs": [],
   "source": [
    "ROC <- roc(response = test_data$no_show, predictor = factor(test_decision_tree, \n",
    "                                                           ordered = TRUE, \n",
    "                                                           levels = c('No', 'Yes')))\n",
    "\n",
    "# Plot ROC with ggplot2\n",
    "plot_ROC <- ggroc(ROC)\n",
    "plot_ROC"
   ]
  },
  {
   "cell_type": "code",
   "execution_count": null,
   "metadata": {
    "ExecuteTime": {
     "end_time": "2020-03-17T01:58:28.938273Z",
     "start_time": "2020-03-17T01:58:08.417Z"
    },
    "hidden": true
   },
   "outputs": [],
   "source": [
    "# Calculate the area under the curve (AUC)\n",
    "cat('AUC:', round(auc(ROC), 2))"
   ]
  },
  {
   "cell_type": "markdown",
   "metadata": {
    "hidden": true
   },
   "source": [
    "The closer to the top left corner our ROC curve is the better. The higher our AUC value is the better. These metrics provide useful measures when tuning our model. They are also better overall measures than accuracy alone. We can compare different models using these two metrics. "
   ]
  },
  {
   "cell_type": "markdown",
   "metadata": {
    "heading_collapsed": true,
    "hidden": true
   },
   "source": [
    "### Understanding ROC Curves and AUC Values"
   ]
  },
  {
   "cell_type": "markdown",
   "metadata": {
    "hidden": true
   },
   "source": [
    "An ROC plots sensitivity (probability of predicting a real psoitive will be positive) against 1-specificity (the probability of predicting a real negative will be a positive). A model with a 50-50 change of making a correct decision will have a ROC curve which is just a diagonal line. A model with a curve that hugs the top left corner is a perfect model. The area under a curve is a measure of magnitude of the ROC curve. The closer the ROC curve is to the top left corner, the higher the AUC value is. The higher the AUC value is, the better. \n",
    "\n",
    "<img src=\"https://miro.medium.com/max/406/1*pk05QGzoWhCgRiiFbz-oKQ.png\" style=\"float: center; width: 34%; margin-bottom: 0.5em;\">"
   ]
  },
  {
   "cell_type": "markdown",
   "metadata": {
    "heading_collapsed": true,
    "hidden": true
   },
   "source": [
    "## Machine Learning Explainability"
   ]
  },
  {
   "cell_type": "markdown",
   "metadata": {
    "hidden": true
   },
   "source": [
    "An important part of any model is being able to explain it. We will be measuring the variable importance for our model. The higher the variable importance, the more important that variable is for our model for predicting no shows."
   ]
  },
  {
   "cell_type": "code",
   "execution_count": null,
   "metadata": {
    "ExecuteTime": {
     "end_time": "2020-03-17T01:58:29.181604Z",
     "start_time": "2020-03-17T01:58:08.837Z"
    },
    "hidden": true
   },
   "outputs": [],
   "source": [
    "df <- data.frame(train_decision_tree$variable.importance)\n",
    "df2 <- df %>% \n",
    "  tibble::rownames_to_column() %>% \n",
    "  dplyr::rename(\"variable\" = rowname) %>% \n",
    "  dplyr::arrange(train_decision_tree$variable.importance) %>%\n",
    "  dplyr::mutate(variable = forcats::fct_inorder(variable))\n",
    "ggplot2::ggplot(df2) +\n",
    "  geom_col(aes(x = reorder(variable, train_decision_tree$variable.importance), y = train_decision_tree$variable.importance),\n",
    "           col = \"black\", show.legend = F) +\n",
    "  coord_flip() +\n",
    "  scale_fill_grey() +\n",
    "  theme_bw()"
   ]
  },
  {
   "cell_type": "markdown",
   "metadata": {
    "hidden": true
   },
   "source": [
    "From our results above, we can see that handicap is by far the most important variable. This indicates that further research among this population could yield interesting insights. In addition, this could indicate that this would be a good group to target to reduce no shows. Finally, we can see that the next most important variable was the appointment day of the week. This also indicates that the day of the week has an impact and any future work to reduce no show appointment could take into account the day of the week. "
   ]
  },
  {
   "cell_type": "markdown",
   "metadata": {
    "heading_collapsed": true
   },
   "source": [
    "# Comparing Predictive Models"
   ]
  },
  {
   "cell_type": "markdown",
   "metadata": {
    "hidden": true
   },
   "source": [
    "You've now learned everything you need to begin testing your own models! Analytics is an iterative process and requires constantly tuning and testing different models against one another. One of the most important ways to tune your models is to decide what features/variables to include on your model. This will have a huge impact on your models performance. Run the code below to see all the features in our data. "
   ]
  },
  {
   "cell_type": "code",
   "execution_count": null,
   "metadata": {
    "ExecuteTime": {
     "end_time": "2020-03-17T01:58:29.215994Z",
     "start_time": "2020-03-17T01:58:09.077Z"
    },
    "hidden": true
   },
   "outputs": [],
   "source": [
    "colnames(training_data)"
   ]
  },
  {
   "cell_type": "markdown",
   "metadata": {
    "hidden": true
   },
   "source": [
    "From the list of features above, pick the features you believe are the most predictive for predicting a no show. You can type in your features in between the brackets below. Please follow the format shown in the example below.\n",
    "\n",
    "<code>features=c('delta_days','handicap','sms_received')</code>\n",
    "\n",
    " Be careful! If there are any typo, this will not work and you will need to run the code below again with the typo corrected. "
   ]
  },
  {
   "cell_type": "code",
   "execution_count": null,
   "metadata": {
    "ExecuteTime": {
     "end_time": "2020-03-17T01:58:29.245287Z",
     "start_time": "2020-03-17T01:58:09.160Z"
    },
    "hidden": true
   },
   "outputs": [],
   "source": [
    "features=c(\"delta_days\", \"age\" ,\"enroll_subsidy\", \"handicap\" , \"sms_received\", \"appt_day_of_week\")"
   ]
  },
  {
   "cell_type": "markdown",
   "metadata": {
    "hidden": true
   },
   "source": [
    "Now we will see how our model performs using the features you selected. The below code will output evaluation metrics. "
   ]
  },
  {
   "cell_type": "code",
   "execution_count": null,
   "metadata": {
    "ExecuteTime": {
     "end_time": "2020-03-17T01:58:32.059129Z",
     "start_time": "2020-03-17T01:58:09.239Z"
    },
    "hidden": true,
    "scrolled": false
   },
   "outputs": [],
   "source": [
    "test_model(features)"
   ]
  },
  {
   "cell_type": "markdown",
   "metadata": {
    "hidden": true
   },
   "source": [
    "Congratulations! You've reached the end of the case! This case provided just one example of how analytics and healthcare can be combined to solve clinical problems. I hope your curiosity has been piqued. There much more to learn and much more you can explore in this field!"
   ]
  }
 ],
 "metadata": {
  "kernelspec": {
   "display_name": "R",
   "language": "R",
   "name": "ir"
  },
  "language_info": {
   "codemirror_mode": "r",
   "file_extension": ".r",
   "mimetype": "text/x-r-source",
   "name": "R",
   "pygments_lexer": "r",
   "version": "3.6.1"
  },
  "latex_envs": {
   "LaTeX_envs_menu_present": true,
   "autoclose": false,
   "autocomplete": true,
   "bibliofile": "biblio.bib",
   "cite_by": "apalike",
   "current_citInitial": 1,
   "eqLabelWithNumbers": false,
   "eqNumInitial": 1,
   "hotkeys": {
    "equation": "Ctrl-E",
    "itemize": "Ctrl-I"
   },
   "labels_anchors": false,
   "latex_user_defs": false,
   "report_style_numbering": false,
   "user_envs_cfg": false
  },
  "toc": {
   "base_numbering": 1,
   "nav_menu": {},
   "number_sections": true,
   "sideBar": true,
   "skip_h1_title": false,
   "title_cell": "Table of Contents",
   "title_sidebar": "Contents",
   "toc_cell": false,
   "toc_position": {
    "height": "414px",
    "left": "54px",
    "top": "110.8px",
    "width": "276px"
   },
   "toc_section_display": true,
   "toc_window_display": false
  },
  "varInspector": {
   "cols": {
    "lenName": 16,
    "lenType": 16,
    "lenVar": 40
   },
   "kernels_config": {
    "python": {
     "delete_cmd_postfix": "",
     "delete_cmd_prefix": "del ",
     "library": "var_list.py",
     "varRefreshCmd": "print(var_dic_list())"
    },
    "r": {
     "delete_cmd_postfix": ") ",
     "delete_cmd_prefix": "rm(",
     "library": "var_list.r",
     "varRefreshCmd": "cat(var_dic_list()) "
    }
   },
   "types_to_exclude": [
    "module",
    "function",
    "builtin_function_or_method",
    "instance",
    "_Feature"
   ],
   "window_display": true
  }
 },
 "nbformat": 4,
 "nbformat_minor": 4
}
