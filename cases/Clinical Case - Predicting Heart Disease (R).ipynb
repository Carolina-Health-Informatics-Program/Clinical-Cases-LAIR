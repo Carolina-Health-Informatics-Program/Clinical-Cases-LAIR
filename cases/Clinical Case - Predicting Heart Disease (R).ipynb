{
 "cells": [
  {
   "cell_type": "markdown",
   "metadata": {
    "heading_collapsed": true
   },
   "source": [
    "# Introduction"
   ]
  },
  {
   "cell_type": "markdown",
   "metadata": {
    "cell_style": "center",
    "hidden": true
   },
   "source": [
    "<p align=\"justify\">Welcome! In this case we'll be exploring how to use advanced analytic and machine learning techniques to predict heart disease. \n",
    "<br>\n",
    "<br>\n",
    "<details>\n",
    "<summary>Some of the skills you'll explore are (Click to Expand):</summary>\n",
    "<ul>\n",
    "    <li>R Programming</li>\n",
    "    <li>Data Cleaning</li>\n",
    "    <li>Exploratory Data Analysis</li>\n",
    "    <li>Data Visualization</li>\n",
    "    <li>Leveraging Domain Knowledge</li>\n",
    "    <li>Machine Learning</li>\n",
    "    <li>Naive Bayes Classification</li>\n",
    "</details><br>\n",
    "Don't worry if you're unsure what some of these terms are. They'll be explained throughout the case. Let's begin! \n",
    "\n",
    "<img src=\"https://i.stack.imgur.com/zlAi2.png\" style=\"float: left; width: 33%; margin-bottom: 0.5em;\">\n",
    "<img src=\"https://www.bioanalysis-zone.com/wp-content/uploads/2014/01/Heart-graphic.jpg\" style=\"float: left; width: 32%; margin-left: 1%; margin-bottom: 0.5em;\">\n",
    "<img src=\"https://jakevdp.github.io/PythonDataScienceHandbook/figures/05.05-gaussian-NB.png\" style=\"float: left; width: 31%; margin-left: 1%; margin-bottom: 0.5em;\">"
   ]
  },
  {
   "cell_type": "markdown",
   "metadata": {
    "heading_collapsed": true,
    "hidden": true
   },
   "source": [
    "## Case Scenario"
   ]
  },
  {
   "cell_type": "markdown",
   "metadata": {
    "hidden": true
   },
   "source": [
    "Imagine you're an analyst for a large academic medical center. Recently, the internal Division of Cardiology has become interested in exploring how machine learning and predictive analytics can augement cardiology. You have been tasked with developing a prototype model to predict heart disease using historical research data. \n",
    "\n",
    "Can you develop a machine learning model to predict heart disease using patient data from 3 different countries? Lets find out!"
   ]
  },
  {
   "cell_type": "markdown",
   "metadata": {
    "heading_collapsed": true,
    "hidden": true
   },
   "source": [
    "### Clinical Background: Heart Disease"
   ]
  },
  {
   "cell_type": "markdown",
   "metadata": {
    "hidden": true
   },
   "source": [
    "Heart disease or cardiovascular disease refers to a condition where blood vessels become narrow occluded. This can lead to numerous life threatening conditions such as heart attack or stroke. Heart disease can be caused by numerous lifestyle factors such as high blood pressure, high cholesterol, smoking, sedentary lifestyle, and stress. \n",
    "\n",
    "<center>\n",
    "  <img width=\"400\" height=\"200\" src=\"https://www.health.harvard.edu/media/content/images/p6_PlaqueArtery_HL1902_gi958536398.jpg\">\n",
    "</center>\n",
    "\n",
    "What makes heart disease so dangerous is that it is a gradual process that does not become symptomatic until you're middle aged or older. At this point, much of the damage has already been done. While heart disease mortality has improved in recent years, it is still one of the most dangerous conditions in the US. Over 600,000 people die of heart disease in the US every year (1 of every 4 deaths). Heart disease is still the leading cause of death among both men and women. Any predictive algorithm that could identify heart disease early could potentially save countless lives. "
   ]
  },
  {
   "cell_type": "markdown",
   "metadata": {
    "heading_collapsed": true,
    "hidden": true
   },
   "source": [
    "## Using Jupyter Notebook "
   ]
  },
  {
   "cell_type": "markdown",
   "metadata": {
    "hidden": true
   },
   "source": [
    "To run any of the code, select the code cell on the **bottom right (1.2)**, and click the `Run` button on the toolbar above. Try it out on the example code cell below on the **bottom right (1.2)**."
   ]
  },
  {
   "cell_type": "markdown",
   "metadata": {
    "cell_style": "split",
    "hidden": true
   },
   "source": [
    "**The** `Run` **Button**\n",
    "<img src=\"https://i.imgur.com/jr4dpLW.png\" style=\"width:300px;height:150px;\">"
   ]
  },
  {
   "cell_type": "code",
   "execution_count": 110,
   "metadata": {
    "ExecuteTime": {
     "end_time": "2019-11-03T19:42:20.338819Z",
     "start_time": "2019-11-03T19:42:20.312Z"
    },
    "cell_style": "split",
    "hidden": true
   },
   "outputs": [
    {
     "name": "stdout",
     "output_type": "stream",
     "text": [
      "Congratulations! \n",
      "You've run your first code cell.\n"
     ]
    }
   ],
   "source": [
    "# This is an example of a code cell\n",
    "cat('Congratulations! \\n')\n",
    "cat('You\\'ve run your first code cell.\\n')\n"
   ]
  },
  {
   "cell_type": "markdown",
   "metadata": {
    "heading_collapsed": true,
    "hidden": true
   },
   "source": [
    "### Jupyter Notebook Background"
   ]
  },
  {
   "cell_type": "markdown",
   "metadata": {
    "hidden": true
   },
   "source": [
    "What is a Jupyter Notebook? Why is it so special? Below is a definition of Jupyter Notebook from the creators. \n",
    "\n",
    "> \"The Jupyter Notebook is an open-source web application that allows you to create and share documents that contain live code, equations, visualizations and narrative text. Uses include: data cleaning and transformation, numerical simulation, statistical modeling, data visualization, machine learning, and much more.\" - [jupyter.org](https://www.jupyter.org)\n",
    "\n",
    "Through integrating code, text, and multimedia, jupyter notebooks allow us to create a digital notebook that is both **interactive** and **informative**. Don't just take my word for it though, personally explore how Jupyter Notebook can augment your learning through the case!\n",
    "\n",
    "<img src=\"https://www.dataquest.io/wp-content/uploads/2019/01/1-LPnY8nOLg4S6_TG0DEXwsg-1.png\" style=\"width:600px;height:300px;\">\n"
   ]
  },
  {
   "cell_type": "markdown",
   "metadata": {
    "heading_collapsed": true,
    "hidden": true
   },
   "source": [
    "### Case Code Tips"
   ]
  },
  {
   "cell_type": "markdown",
   "metadata": {
    "hidden": true
   },
   "source": [
    "Within code cells you will see green text preceded by a `#` symbol. These are comments and will help explain what portions of the code are doing. All code should be ready to run as shown. \n",
    "\n",
    "Some code may require more time to run. On the left hand side you will notice the label: `In [ ]:`. If there is an `*` in between the `[]`'s after you select `Run`, that indicates that your code is in the process of running. Like so: `In [*]:`"
   ]
  },
  {
   "cell_type": "markdown",
   "metadata": {
    "heading_collapsed": true,
    "hidden": true
   },
   "source": [
    "## Meeting Our Data"
   ]
  },
  {
   "cell_type": "markdown",
   "metadata": {
    "hidden": true
   },
   "source": [
    "We'll be using a deidentified set of patient data made available on the [University of California Irvine Machine Learning Repository](https://archive.ics.uci.edu/ml/datasets/heart+Disease). This data has been sourced from the Hungarian Institute of Cardiology (Budapest, Hungary), University Hospital (Zurich, Switzerland), University Hospital (Basel, Switzerland), the V.A Medical Center (Long Beach, California), and the Cleveland Clinic (Cleveland, Ohio). \n",
    "\n",
    "**Acknowledgements**<br>\n",
    "Detrano, R., Janosi, A., Steinbrunn, W., Pfisterer, M., Schmid, J., Sandhu, S., Guppy, K., Lee, S., & Froelicher, V. (1989). International application of a new probability algorithm for the diagnosis of coronary artery disease. American Journal of Cardiology, 64,304--310."
   ]
  },
  {
   "cell_type": "markdown",
   "metadata": {
    "heading_collapsed": true,
    "hidden": true
   },
   "source": [
    "### Data File(s)"
   ]
  },
  {
   "cell_type": "markdown",
   "metadata": {
    "cell_style": "split",
    "hidden": true
   },
   "source": [
    "<p style=\"text-align: center;\">cleveland.csv</p>\n",
    "\n",
    "***\n",
    "This file contains our dataset sourced from the Cleveland Clinc. There are a 303 patients with 14 attributes. "
   ]
  },
  {
   "cell_type": "markdown",
   "metadata": {
    "cell_style": "split",
    "hidden": true
   },
   "source": [
    "<p style=\"text-align: center;\">hungary.csv</p>\n",
    "\n",
    "***\n",
    "This file contains our dataset sourced from the Hungarian Institute of Cardiology. There are a 294 patients with 14 attributes. "
   ]
  },
  {
   "cell_type": "markdown",
   "metadata": {
    "cell_style": "split",
    "hidden": true
   },
   "source": [
    "<p style=\"text-align: center;\">switzerland.csv</p>\n",
    "\n",
    "***\n",
    "This file contains our dataset sourced from University Hospital (Zurich and Basel, Switzerland). There are a 294 patients with 14 attributes. "
   ]
  },
  {
   "cell_type": "markdown",
   "metadata": {
    "cell_style": "split",
    "hidden": true
   },
   "source": [
    "<p style=\"text-align: center;\">long-beach-va.csv</p>\n",
    "\n",
    "***\n",
    "This file contains our dataset sourced from the V.A Medical Center (Long Beach, California). There are a 200 patients with 14 attributes. "
   ]
  },
  {
   "cell_type": "markdown",
   "metadata": {
    "hidden": true
   },
   "source": [
    "The dataset will already be downloaded for the case. The original data can be accessed [here](https://archive.ics.uci.edu/ml/datasets/Heart+Disease). "
   ]
  },
  {
   "cell_type": "markdown",
   "metadata": {
    "heading_collapsed": true,
    "hidden": true
   },
   "source": [
    "### Consulting the Data Dictionary"
   ]
  },
  {
   "cell_type": "markdown",
   "metadata": {
    "hidden": true
   },
   "source": [
    "There are several variables or labels which you might not understand. There are many reasons for this. You might lack domain experience for the data you're analyzing. The data creators might also have used arbitrary labels only they understood (this is considered a bad practice).\n",
    "\n",
    "The way to combat this is consulting the data dictionary or documentation. These are table or documents which describe the data in detail. Have a variable you don't understand? Check the documentation! Don't understand what an output for a variable means? Check the documentation!\n"
   ]
  },
  {
   "cell_type": "markdown",
   "metadata": {
    "hidden": true
   },
   "source": [
    "A data dictionary is provided on the [UCI repository](https://archive.ics.uci.edu/ml/datasets/Heart+Disease) where the data is hosted. The data dictionary has also been reproduced below for your convenience.  "
   ]
  },
  {
   "cell_type": "markdown",
   "metadata": {
    "hidden": true
   },
   "source": [
    "<center>\n",
    "\n",
    "| *Column #*| *Definition*                                                                        |\n",
    "| --------- | ----------------------------------------------------------------------------------- |\n",
    "| 1         | age in years                                                                        |\n",
    "| 2         | sex (1 = male; 0 = female)                                                          |\n",
    "| 3         | chest pain (1:typical angina; 2:atypical angina; 3:non-anginal pain; 4:asymptomatic)| \n",
    "| 4         | resting blood pressure on hospital admission (mmHg)                                 |\n",
    "| 5         | serum cholesterol in mg/dl                                                          |\n",
    "| 6         | fasting blood sugar > 120 mg/dl (1=true; 0 = false)                                 |\n",
    "| 7         | resting electrocariographic results (0: normal; 1: ST-T wave abnormality (T wave inversions and/or ST elevation or depression of 0.05 mV); 2: showing probably or definite left ventricular hypertrophy by Estes' criteria                                                                    |\n",
    "| 8         | maximum heart rate acheived                                                         |\n",
    "| 9         | exercise induced angina (1=yes; 0=no)                                               |\n",
    "| 10        | ST depression induced by exercise relative to rest                                  |\n",
    "| 11        | Slope of the peak exercise ST segment (1: upsloping; 2: flat; 3: downsloping)          |\n",
    "| 12        | Number of major vessels (0-3) colored by fluoroscopy                                |\n",
    "| 13        | Exercise thallium scintigraphic defects (fixed, reversible, or none)                |\n",
    "| 14        | Diagnosis of heart disease (angiographic disease status) (0: <50% diameter narrowing, 1: >50% diameter narrowing)                                                                        |\n",
    "\n",
    "</center>"
   ]
  },
  {
   "cell_type": "markdown",
   "metadata": {
    "heading_collapsed": true
   },
   "source": [
    "# Setup (Do Not Skip)"
   ]
  },
  {
   "cell_type": "markdown",
   "metadata": {
    "hidden": true
   },
   "source": [
    "Run the code below to set up specific settings for our case. Do not skip this step!"
   ]
  },
  {
   "cell_type": "code",
   "execution_count": 111,
   "metadata": {
    "ExecuteTime": {
     "end_time": "2019-11-03T19:42:21.408722Z",
     "start_time": "2019-11-03T19:42:21.374Z"
    },
    "hidden": true
   },
   "outputs": [
    {
     "name": "stdout",
     "output_type": "stream",
     "text": [
      "Setup complete!"
     ]
    }
   ],
   "source": [
    "# Increase max number of columns displayed in output tables\n",
    "options(repr.matrix.max.cols = 2000)\n",
    "set.seed(10) # Make sure your ML results are the same\n",
    "# Calling external libraries for additional functionality\n",
    "suppressMessages(library(tidyverse))\n",
    "suppressMessages(library(randomForest))\n",
    "suppressMessages(library(forcats))\n",
    "suppressMessages(library(cowplot))\n",
    "suppressMessages(library(caret))\n",
    "suppressMessages(library(e1071))\n",
    "suppressMessages(library(pROC))\n",
    "\n",
    "cat('Setup complete!')"
   ]
  },
  {
   "cell_type": "markdown",
   "metadata": {
    "heading_collapsed": true
   },
   "source": [
    "# Cleaning our Data"
   ]
  },
  {
   "cell_type": "markdown",
   "metadata": {
    "hidden": true
   },
   "source": [
    "The first step in any analytic project is to clean our data. This is a critical step that is commonly overlooked within data science projects. This is critical for making our data convenient to interpret and manipulate. In addition, many analytic techniques require properly formatted data. Finally, healthcare datasets may have have data that isn't clinically relevant (ie. raw lab values). Processing can convert these variables into clinically meaningful information. It won't matter how sophisticated our analysis is if we don't properly process our data. A common saying in data science is \"Junk in, Junk out\". "
   ]
  },
  {
   "cell_type": "markdown",
   "metadata": {
    "heading_collapsed": true,
    "hidden": true
   },
   "source": [
    "## Reading our data"
   ]
  },
  {
   "cell_type": "markdown",
   "metadata": {
    "hidden": true
   },
   "source": [
    "We'll being by reading in our data so we can clean and use it. "
   ]
  },
  {
   "cell_type": "code",
   "execution_count": 112,
   "metadata": {
    "ExecuteTime": {
     "end_time": "2019-11-03T19:42:21.609545Z",
     "start_time": "2019-11-03T19:42:21.572Z"
    },
    "cell_style": "center",
    "hidden": true
   },
   "outputs": [
    {
     "name": "stdout",
     "output_type": "stream",
     "text": [
      "Data loading, please wait\n",
      "Data loaded!"
     ]
    }
   ],
   "source": [
    "# Note: Unicode Transformation Format – 8 (UTF-8) is a standard to encode characters in different languages\n",
    "cat('Data loading, please wait\\n')\n",
    "cleveland <- read.csv(file=\"data/cleveland.csv\",  encoding=\"UTF-8\", header=FALSE, sep=\",\")\n",
    "hungary <- read.csv(file=\"data/hungary.csv\",  encoding=\"UTF-8\", header=FALSE, sep=\",\")\n",
    "switzerland <- read.csv(file=\"data/switzerland.csv\",  encoding=\"UTF-8\", header=FALSE, sep=\",\")\n",
    "long_beach<- read.csv(file=\"data/long-beach-va.csv\",  encoding=\"UTF-8\", header=FALSE, sep=\",\")\n",
    "cat('Data loaded!')"
   ]
  },
  {
   "cell_type": "markdown",
   "metadata": {
    "hidden": true
   },
   "source": [
    "Now let's get an overview of our data"
   ]
  },
  {
   "cell_type": "code",
   "execution_count": 113,
   "metadata": {
    "ExecuteTime": {
     "end_time": "2019-11-03T19:42:21.739955Z",
     "start_time": "2019-11-03T19:42:21.631Z"
    },
    "hidden": true
   },
   "outputs": [
    {
     "data": {
      "text/html": [
       "<table>\n",
       "<thead><tr><th scope=col>V1</th><th scope=col>V2</th><th scope=col>V3</th><th scope=col>V4</th><th scope=col>V5</th><th scope=col>V6</th><th scope=col>V7</th><th scope=col>V8</th><th scope=col>V9</th><th scope=col>V10</th><th scope=col>V11</th><th scope=col>V12</th><th scope=col>V13</th><th scope=col>V14</th></tr></thead>\n",
       "<tbody>\n",
       "\t<tr><td>63 </td><td>1  </td><td>1  </td><td>145</td><td>233</td><td>1  </td><td>2  </td><td>150</td><td>0  </td><td>2.3</td><td>3  </td><td>0.0</td><td>6.0</td><td>0  </td></tr>\n",
       "\t<tr><td>67 </td><td>1  </td><td>4  </td><td>160</td><td>286</td><td>0  </td><td>2  </td><td>108</td><td>1  </td><td>1.5</td><td>2  </td><td>3.0</td><td>3.0</td><td>2  </td></tr>\n",
       "\t<tr><td>67 </td><td>1  </td><td>4  </td><td>120</td><td>229</td><td>0  </td><td>2  </td><td>129</td><td>1  </td><td>2.6</td><td>2  </td><td>2.0</td><td>7.0</td><td>1  </td></tr>\n",
       "\t<tr><td>37 </td><td>1  </td><td>3  </td><td>130</td><td>250</td><td>0  </td><td>0  </td><td>187</td><td>0  </td><td>3.5</td><td>3  </td><td>0.0</td><td>3.0</td><td>0  </td></tr>\n",
       "\t<tr><td>41 </td><td>0  </td><td>2  </td><td>130</td><td>204</td><td>0  </td><td>2  </td><td>172</td><td>0  </td><td>1.4</td><td>1  </td><td>0.0</td><td>3.0</td><td>0  </td></tr>\n",
       "\t<tr><td>56 </td><td>1  </td><td>2  </td><td>120</td><td>236</td><td>0  </td><td>0  </td><td>178</td><td>0  </td><td>0.8</td><td>1  </td><td>0.0</td><td>3.0</td><td>0  </td></tr>\n",
       "</tbody>\n",
       "</table>\n"
      ],
      "text/latex": [
       "\\begin{tabular}{r|llllllllllllll}\n",
       " V1 & V2 & V3 & V4 & V5 & V6 & V7 & V8 & V9 & V10 & V11 & V12 & V13 & V14\\\\\n",
       "\\hline\n",
       "\t 63  & 1   & 1   & 145 & 233 & 1   & 2   & 150 & 0   & 2.3 & 3   & 0.0 & 6.0 & 0  \\\\\n",
       "\t 67  & 1   & 4   & 160 & 286 & 0   & 2   & 108 & 1   & 1.5 & 2   & 3.0 & 3.0 & 2  \\\\\n",
       "\t 67  & 1   & 4   & 120 & 229 & 0   & 2   & 129 & 1   & 2.6 & 2   & 2.0 & 7.0 & 1  \\\\\n",
       "\t 37  & 1   & 3   & 130 & 250 & 0   & 0   & 187 & 0   & 3.5 & 3   & 0.0 & 3.0 & 0  \\\\\n",
       "\t 41  & 0   & 2   & 130 & 204 & 0   & 2   & 172 & 0   & 1.4 & 1   & 0.0 & 3.0 & 0  \\\\\n",
       "\t 56  & 1   & 2   & 120 & 236 & 0   & 0   & 178 & 0   & 0.8 & 1   & 0.0 & 3.0 & 0  \\\\\n",
       "\\end{tabular}\n"
      ],
      "text/markdown": [
       "\n",
       "| V1 | V2 | V3 | V4 | V5 | V6 | V7 | V8 | V9 | V10 | V11 | V12 | V13 | V14 |\n",
       "|---|---|---|---|---|---|---|---|---|---|---|---|---|---|\n",
       "| 63  | 1   | 1   | 145 | 233 | 1   | 2   | 150 | 0   | 2.3 | 3   | 0.0 | 6.0 | 0   |\n",
       "| 67  | 1   | 4   | 160 | 286 | 0   | 2   | 108 | 1   | 1.5 | 2   | 3.0 | 3.0 | 2   |\n",
       "| 67  | 1   | 4   | 120 | 229 | 0   | 2   | 129 | 1   | 2.6 | 2   | 2.0 | 7.0 | 1   |\n",
       "| 37  | 1   | 3   | 130 | 250 | 0   | 0   | 187 | 0   | 3.5 | 3   | 0.0 | 3.0 | 0   |\n",
       "| 41  | 0   | 2   | 130 | 204 | 0   | 2   | 172 | 0   | 1.4 | 1   | 0.0 | 3.0 | 0   |\n",
       "| 56  | 1   | 2   | 120 | 236 | 0   | 0   | 178 | 0   | 0.8 | 1   | 0.0 | 3.0 | 0   |\n",
       "\n"
      ],
      "text/plain": [
       "  V1 V2 V3 V4  V5  V6 V7 V8  V9 V10 V11 V12 V13 V14\n",
       "1 63 1  1  145 233 1  2  150 0  2.3 3   0.0 6.0 0  \n",
       "2 67 1  4  160 286 0  2  108 1  1.5 2   3.0 3.0 2  \n",
       "3 67 1  4  120 229 0  2  129 1  2.6 2   2.0 7.0 1  \n",
       "4 37 1  3  130 250 0  0  187 0  3.5 3   0.0 3.0 0  \n",
       "5 41 0  2  130 204 0  2  172 0  1.4 1   0.0 3.0 0  \n",
       "6 56 1  2  120 236 0  0  178 0  0.8 1   0.0 3.0 0  "
      ]
     },
     "metadata": {},
     "output_type": "display_data"
    },
    {
     "name": "stdout",
     "output_type": "stream",
     "text": [
      "'data.frame':\t303 obs. of  14 variables:\n",
      " $ V1 : num  63 67 67 37 41 56 62 57 63 53 ...\n",
      " $ V2 : num  1 1 1 1 0 1 0 0 1 1 ...\n",
      " $ V3 : num  1 4 4 3 2 2 4 4 4 4 ...\n",
      " $ V4 : num  145 160 120 130 130 120 140 120 130 140 ...\n",
      " $ V5 : num  233 286 229 250 204 236 268 354 254 203 ...\n",
      " $ V6 : num  1 0 0 0 0 0 0 0 0 1 ...\n",
      " $ V7 : num  2 2 2 0 2 0 2 0 2 2 ...\n",
      " $ V8 : num  150 108 129 187 172 178 160 163 147 155 ...\n",
      " $ V9 : num  0 1 1 0 0 0 0 1 0 1 ...\n",
      " $ V10: num  2.3 1.5 2.6 3.5 1.4 0.8 3.6 0.6 1.4 3.1 ...\n",
      " $ V11: num  3 2 2 3 1 1 3 1 2 3 ...\n",
      " $ V12: Factor w/ 5 levels \"?\",\"0.0\",\"1.0\",..: 2 5 4 2 2 2 4 2 3 2 ...\n",
      " $ V13: Factor w/ 4 levels \"?\",\"3.0\",\"6.0\",..: 3 2 4 2 2 2 2 2 4 4 ...\n",
      " $ V14: int  0 2 1 0 0 0 3 0 2 1 ...\n"
     ]
    },
    {
     "data": {
      "text/html": [
       "<table>\n",
       "<thead><tr><th scope=col>V1</th><th scope=col>V2</th><th scope=col>V3</th><th scope=col>V4</th><th scope=col>V5</th><th scope=col>V6</th><th scope=col>V7</th><th scope=col>V8</th><th scope=col>V9</th><th scope=col>V10</th><th scope=col>V11</th><th scope=col>V12</th><th scope=col>V13</th><th scope=col>V14</th></tr></thead>\n",
       "<tbody>\n",
       "\t<tr><td>28 </td><td>1  </td><td>2  </td><td>130</td><td>132</td><td>0  </td><td>2  </td><td>185</td><td>0  </td><td>0  </td><td>?  </td><td>?  </td><td>?  </td><td>0  </td></tr>\n",
       "\t<tr><td>29 </td><td>1  </td><td>2  </td><td>120</td><td>243</td><td>0  </td><td>0  </td><td>160</td><td>0  </td><td>0  </td><td>?  </td><td>?  </td><td>?  </td><td>0  </td></tr>\n",
       "\t<tr><td>29 </td><td>1  </td><td>2  </td><td>140</td><td>?  </td><td>0  </td><td>0  </td><td>170</td><td>0  </td><td>0  </td><td>?  </td><td>?  </td><td>?  </td><td>0  </td></tr>\n",
       "\t<tr><td>30 </td><td>0  </td><td>1  </td><td>170</td><td>237</td><td>0  </td><td>1  </td><td>170</td><td>0  </td><td>0  </td><td>?  </td><td>?  </td><td>6  </td><td>0  </td></tr>\n",
       "\t<tr><td>31 </td><td>0  </td><td>2  </td><td>100</td><td>219</td><td>0  </td><td>1  </td><td>150</td><td>0  </td><td>0  </td><td>?  </td><td>?  </td><td>?  </td><td>0  </td></tr>\n",
       "\t<tr><td>32 </td><td>0  </td><td>2  </td><td>105</td><td>198</td><td>0  </td><td>0  </td><td>165</td><td>0  </td><td>0  </td><td>?  </td><td>?  </td><td>?  </td><td>0  </td></tr>\n",
       "</tbody>\n",
       "</table>\n"
      ],
      "text/latex": [
       "\\begin{tabular}{r|llllllllllllll}\n",
       " V1 & V2 & V3 & V4 & V5 & V6 & V7 & V8 & V9 & V10 & V11 & V12 & V13 & V14\\\\\n",
       "\\hline\n",
       "\t 28  & 1   & 2   & 130 & 132 & 0   & 2   & 185 & 0   & 0   & ?   & ?   & ?   & 0  \\\\\n",
       "\t 29  & 1   & 2   & 120 & 243 & 0   & 0   & 160 & 0   & 0   & ?   & ?   & ?   & 0  \\\\\n",
       "\t 29  & 1   & 2   & 140 & ?   & 0   & 0   & 170 & 0   & 0   & ?   & ?   & ?   & 0  \\\\\n",
       "\t 30  & 0   & 1   & 170 & 237 & 0   & 1   & 170 & 0   & 0   & ?   & ?   & 6   & 0  \\\\\n",
       "\t 31  & 0   & 2   & 100 & 219 & 0   & 1   & 150 & 0   & 0   & ?   & ?   & ?   & 0  \\\\\n",
       "\t 32  & 0   & 2   & 105 & 198 & 0   & 0   & 165 & 0   & 0   & ?   & ?   & ?   & 0  \\\\\n",
       "\\end{tabular}\n"
      ],
      "text/markdown": [
       "\n",
       "| V1 | V2 | V3 | V4 | V5 | V6 | V7 | V8 | V9 | V10 | V11 | V12 | V13 | V14 |\n",
       "|---|---|---|---|---|---|---|---|---|---|---|---|---|---|\n",
       "| 28  | 1   | 2   | 130 | 132 | 0   | 2   | 185 | 0   | 0   | ?   | ?   | ?   | 0   |\n",
       "| 29  | 1   | 2   | 120 | 243 | 0   | 0   | 160 | 0   | 0   | ?   | ?   | ?   | 0   |\n",
       "| 29  | 1   | 2   | 140 | ?   | 0   | 0   | 170 | 0   | 0   | ?   | ?   | ?   | 0   |\n",
       "| 30  | 0   | 1   | 170 | 237 | 0   | 1   | 170 | 0   | 0   | ?   | ?   | 6   | 0   |\n",
       "| 31  | 0   | 2   | 100 | 219 | 0   | 1   | 150 | 0   | 0   | ?   | ?   | ?   | 0   |\n",
       "| 32  | 0   | 2   | 105 | 198 | 0   | 0   | 165 | 0   | 0   | ?   | ?   | ?   | 0   |\n",
       "\n"
      ],
      "text/plain": [
       "  V1 V2 V3 V4  V5  V6 V7 V8  V9 V10 V11 V12 V13 V14\n",
       "1 28 1  2  130 132 0  2  185 0  0   ?   ?   ?   0  \n",
       "2 29 1  2  120 243 0  0  160 0  0   ?   ?   ?   0  \n",
       "3 29 1  2  140 ?   0  0  170 0  0   ?   ?   ?   0  \n",
       "4 30 0  1  170 237 0  1  170 0  0   ?   ?   6   0  \n",
       "5 31 0  2  100 219 0  1  150 0  0   ?   ?   ?   0  \n",
       "6 32 0  2  105 198 0  0  165 0  0   ?   ?   ?   0  "
      ]
     },
     "metadata": {},
     "output_type": "display_data"
    },
    {
     "name": "stdout",
     "output_type": "stream",
     "text": [
      "'data.frame':\t294 obs. of  14 variables:\n",
      " $ V1 : int  28 29 29 30 31 32 32 32 33 34 ...\n",
      " $ V2 : int  1 1 1 0 0 0 1 1 1 0 ...\n",
      " $ V3 : int  2 2 2 1 2 2 2 2 3 2 ...\n",
      " $ V4 : Factor w/ 32 levels \"?\",\"100\",\"105\",..: 16 11 21 27 2 3 6 14 11 16 ...\n",
      " $ V5 : Factor w/ 154 levels \"?\",\"100\",\"117\",..: 5 70 1 65 50 31 56 79 116 9 ...\n",
      " $ V6 : Factor w/ 3 levels \"?\",\"0\",\"1\": 2 2 2 2 2 2 2 2 2 2 ...\n",
      " $ V7 : Factor w/ 4 levels \"?\",\"0\",\"1\",\"2\": 4 2 2 3 3 2 2 2 2 2 ...\n",
      " $ V8 : Factor w/ 72 levels \"?\",\"100\",\"102\",..: 61 46 53 53 39 49 60 43 61 63 ...\n",
      " $ V9 : Factor w/ 3 levels \"?\",\"0\",\"1\": 2 2 2 2 2 2 2 2 2 2 ...\n",
      " $ V10: num  0 0 0 0 0 0 0 0 0 0 ...\n",
      " $ V11: Factor w/ 4 levels \"?\",\"1\",\"2\",\"3\": 1 1 1 1 1 1 1 1 1 1 ...\n",
      " $ V12: Factor w/ 2 levels \"?\",\"0\": 1 1 1 1 1 1 1 1 1 1 ...\n",
      " $ V13: Factor w/ 4 levels \"?\",\"3\",\"6\",\"7\": 1 1 1 3 1 1 1 1 1 1 ...\n",
      " $ V14: int  0 0 0 0 0 0 0 0 0 0 ...\n"
     ]
    },
    {
     "data": {
      "text/html": [
       "<table>\n",
       "<thead><tr><th scope=col>V1</th><th scope=col>V2</th><th scope=col>V3</th><th scope=col>V4</th><th scope=col>V5</th><th scope=col>V6</th><th scope=col>V7</th><th scope=col>V8</th><th scope=col>V9</th><th scope=col>V10</th><th scope=col>V11</th><th scope=col>V12</th><th scope=col>V13</th><th scope=col>V14</th></tr></thead>\n",
       "<tbody>\n",
       "\t<tr><td>32 </td><td>1  </td><td>1  </td><td>95 </td><td>0  </td><td>?  </td><td>0  </td><td>127</td><td>0  </td><td>.7 </td><td>1  </td><td>?  </td><td>?  </td><td>1  </td></tr>\n",
       "\t<tr><td>34 </td><td>1  </td><td>4  </td><td>115</td><td>0  </td><td>?  </td><td>?  </td><td>154</td><td>0  </td><td>.2 </td><td>1  </td><td>?  </td><td>?  </td><td>1  </td></tr>\n",
       "\t<tr><td>35 </td><td>1  </td><td>4  </td><td>?  </td><td>0  </td><td>?  </td><td>0  </td><td>130</td><td>1  </td><td>?  </td><td>?  </td><td>?  </td><td>7  </td><td>3  </td></tr>\n",
       "\t<tr><td>36 </td><td>1  </td><td>4  </td><td>110</td><td>0  </td><td>?  </td><td>0  </td><td>125</td><td>1  </td><td>1  </td><td>2  </td><td>?  </td><td>6  </td><td>1  </td></tr>\n",
       "\t<tr><td>38 </td><td>0  </td><td>4  </td><td>105</td><td>0  </td><td>?  </td><td>0  </td><td>166</td><td>0  </td><td>2.8</td><td>1  </td><td>?  </td><td>?  </td><td>2  </td></tr>\n",
       "\t<tr><td>38 </td><td>0  </td><td>4  </td><td>110</td><td>0  </td><td>0  </td><td>0  </td><td>156</td><td>0  </td><td>0  </td><td>2  </td><td>?  </td><td>3  </td><td>1  </td></tr>\n",
       "</tbody>\n",
       "</table>\n"
      ],
      "text/latex": [
       "\\begin{tabular}{r|llllllllllllll}\n",
       " V1 & V2 & V3 & V4 & V5 & V6 & V7 & V8 & V9 & V10 & V11 & V12 & V13 & V14\\\\\n",
       "\\hline\n",
       "\t 32  & 1   & 1   & 95  & 0   & ?   & 0   & 127 & 0   & .7  & 1   & ?   & ?   & 1  \\\\\n",
       "\t 34  & 1   & 4   & 115 & 0   & ?   & ?   & 154 & 0   & .2  & 1   & ?   & ?   & 1  \\\\\n",
       "\t 35  & 1   & 4   & ?   & 0   & ?   & 0   & 130 & 1   & ?   & ?   & ?   & 7   & 3  \\\\\n",
       "\t 36  & 1   & 4   & 110 & 0   & ?   & 0   & 125 & 1   & 1   & 2   & ?   & 6   & 1  \\\\\n",
       "\t 38  & 0   & 4   & 105 & 0   & ?   & 0   & 166 & 0   & 2.8 & 1   & ?   & ?   & 2  \\\\\n",
       "\t 38  & 0   & 4   & 110 & 0   & 0   & 0   & 156 & 0   & 0   & 2   & ?   & 3   & 1  \\\\\n",
       "\\end{tabular}\n"
      ],
      "text/markdown": [
       "\n",
       "| V1 | V2 | V3 | V4 | V5 | V6 | V7 | V8 | V9 | V10 | V11 | V12 | V13 | V14 |\n",
       "|---|---|---|---|---|---|---|---|---|---|---|---|---|---|\n",
       "| 32  | 1   | 1   | 95  | 0   | ?   | 0   | 127 | 0   | .7  | 1   | ?   | ?   | 1   |\n",
       "| 34  | 1   | 4   | 115 | 0   | ?   | ?   | 154 | 0   | .2  | 1   | ?   | ?   | 1   |\n",
       "| 35  | 1   | 4   | ?   | 0   | ?   | 0   | 130 | 1   | ?   | ?   | ?   | 7   | 3   |\n",
       "| 36  | 1   | 4   | 110 | 0   | ?   | 0   | 125 | 1   | 1   | 2   | ?   | 6   | 1   |\n",
       "| 38  | 0   | 4   | 105 | 0   | ?   | 0   | 166 | 0   | 2.8 | 1   | ?   | ?   | 2   |\n",
       "| 38  | 0   | 4   | 110 | 0   | 0   | 0   | 156 | 0   | 0   | 2   | ?   | 3   | 1   |\n",
       "\n"
      ],
      "text/plain": [
       "  V1 V2 V3 V4  V5 V6 V7 V8  V9 V10 V11 V12 V13 V14\n",
       "1 32 1  1  95  0  ?  0  127 0  .7  1   ?   ?   1  \n",
       "2 34 1  4  115 0  ?  ?  154 0  .2  1   ?   ?   1  \n",
       "3 35 1  4  ?   0  ?  0  130 1  ?   ?   ?   7   3  \n",
       "4 36 1  4  110 0  ?  0  125 1  1   2   ?   6   1  \n",
       "5 38 0  4  105 0  ?  0  166 0  2.8 1   ?   ?   2  \n",
       "6 38 0  4  110 0  0  0  156 0  0   2   ?   3   1  "
      ]
     },
     "metadata": {},
     "output_type": "display_data"
    },
    {
     "name": "stdout",
     "output_type": "stream",
     "text": [
      "'data.frame':\t123 obs. of  14 variables:\n",
      " $ V1 : int  32 34 35 36 38 38 38 38 38 38 ...\n",
      " $ V2 : int  1 1 1 1 0 0 1 1 1 1 ...\n",
      " $ V3 : int  1 4 4 4 4 4 3 3 4 4 ...\n",
      " $ V4 : Factor w/ 21 levels \"?\",\"100\",\"105\",..: 21 5 1 4 3 4 2 5 9 12 ...\n",
      " $ V5 : int  0 0 0 0 0 0 0 0 0 0 ...\n",
      " $ V6 : Factor w/ 3 levels \"?\",\"0\",\"1\": 1 1 1 1 1 2 1 2 1 1 ...\n",
      " $ V7 : Factor w/ 4 levels \"?\",\"0\",\"1\",\"2\": 2 1 2 2 2 2 2 2 2 2 ...\n",
      " $ V8 : Factor w/ 68 levels \"?\",\"100\",\"103\",..: 22 40 24 20 45 42 49 23 39 15 ...\n",
      " $ V9 : Factor w/ 3 levels \"?\",\"0\",\"1\": 2 2 3 3 2 2 2 3 2 3 ...\n",
      " $ V10: Factor w/ 36 levels \"-.1\",\"-.5\",\"-.7\",..: 16 12 18 20 34 19 7 19 19 18 ...\n",
      " $ V11: Factor w/ 4 levels \"?\",\"1\",\"2\",\"3\": 2 2 1 3 2 3 2 3 1 1 ...\n",
      " $ V12: Factor w/ 3 levels \"?\",\"1\",\"2\": 1 1 1 1 1 1 1 1 1 1 ...\n",
      " $ V13: Factor w/ 4 levels \"?\",\"3\",\"6\",\"7\": 1 1 4 3 1 2 1 4 2 2 ...\n",
      " $ V14: int  1 1 3 1 2 1 0 1 2 1 ...\n"
     ]
    },
    {
     "data": {
      "text/html": [
       "<table>\n",
       "<thead><tr><th scope=col>V1</th><th scope=col>V2</th><th scope=col>V3</th><th scope=col>V4</th><th scope=col>V5</th><th scope=col>V6</th><th scope=col>V7</th><th scope=col>V8</th><th scope=col>V9</th><th scope=col>V10</th><th scope=col>V11</th><th scope=col>V12</th><th scope=col>V13</th><th scope=col>V14</th></tr></thead>\n",
       "<tbody>\n",
       "\t<tr><td>63  </td><td>1   </td><td>4   </td><td>140 </td><td>260 </td><td>0   </td><td>1   </td><td>112 </td><td>1   </td><td>3   </td><td>2   </td><td>?   </td><td>?   </td><td>2   </td></tr>\n",
       "\t<tr><td>44  </td><td>1   </td><td>4   </td><td>130 </td><td>209 </td><td>0   </td><td>1   </td><td>127 </td><td>0   </td><td>0   </td><td>?   </td><td>?   </td><td>?   </td><td>0   </td></tr>\n",
       "\t<tr><td>60  </td><td>1   </td><td>4   </td><td>132 </td><td>218 </td><td>0   </td><td>1   </td><td>140 </td><td>1   </td><td>1.5 </td><td>3   </td><td>?   </td><td>?   </td><td>2   </td></tr>\n",
       "\t<tr><td>55  </td><td>1   </td><td>4   </td><td>142 </td><td>228 </td><td>0   </td><td>1   </td><td>149 </td><td>1   </td><td>2.5 </td><td>1   </td><td>?   </td><td>?   </td><td>1   </td></tr>\n",
       "\t<tr><td>66  </td><td>1   </td><td>3   </td><td>110 </td><td>213 </td><td>1   </td><td>2   </td><td>99  </td><td>1   </td><td>1.3 </td><td>2   </td><td>?   </td><td>?   </td><td>0   </td></tr>\n",
       "\t<tr><td>66  </td><td>1   </td><td>3   </td><td>120 </td><td>0   </td><td>0   </td><td>1   </td><td>120 </td><td>0   </td><td>-0.5</td><td>1   </td><td>?   </td><td>?   </td><td>0   </td></tr>\n",
       "</tbody>\n",
       "</table>\n"
      ],
      "text/latex": [
       "\\begin{tabular}{r|llllllllllllll}\n",
       " V1 & V2 & V3 & V4 & V5 & V6 & V7 & V8 & V9 & V10 & V11 & V12 & V13 & V14\\\\\n",
       "\\hline\n",
       "\t 63   & 1    & 4    & 140  & 260  & 0    & 1    & 112  & 1    & 3    & 2    & ?    & ?    & 2   \\\\\n",
       "\t 44   & 1    & 4    & 130  & 209  & 0    & 1    & 127  & 0    & 0    & ?    & ?    & ?    & 0   \\\\\n",
       "\t 60   & 1    & 4    & 132  & 218  & 0    & 1    & 140  & 1    & 1.5  & 3    & ?    & ?    & 2   \\\\\n",
       "\t 55   & 1    & 4    & 142  & 228  & 0    & 1    & 149  & 1    & 2.5  & 1    & ?    & ?    & 1   \\\\\n",
       "\t 66   & 1    & 3    & 110  & 213  & 1    & 2    & 99   & 1    & 1.3  & 2    & ?    & ?    & 0   \\\\\n",
       "\t 66   & 1    & 3    & 120  & 0    & 0    & 1    & 120  & 0    & -0.5 & 1    & ?    & ?    & 0   \\\\\n",
       "\\end{tabular}\n"
      ],
      "text/markdown": [
       "\n",
       "| V1 | V2 | V3 | V4 | V5 | V6 | V7 | V8 | V9 | V10 | V11 | V12 | V13 | V14 |\n",
       "|---|---|---|---|---|---|---|---|---|---|---|---|---|---|\n",
       "| 63   | 1    | 4    | 140  | 260  | 0    | 1    | 112  | 1    | 3    | 2    | ?    | ?    | 2    |\n",
       "| 44   | 1    | 4    | 130  | 209  | 0    | 1    | 127  | 0    | 0    | ?    | ?    | ?    | 0    |\n",
       "| 60   | 1    | 4    | 132  | 218  | 0    | 1    | 140  | 1    | 1.5  | 3    | ?    | ?    | 2    |\n",
       "| 55   | 1    | 4    | 142  | 228  | 0    | 1    | 149  | 1    | 2.5  | 1    | ?    | ?    | 1    |\n",
       "| 66   | 1    | 3    | 110  | 213  | 1    | 2    | 99   | 1    | 1.3  | 2    | ?    | ?    | 0    |\n",
       "| 66   | 1    | 3    | 120  | 0    | 0    | 1    | 120  | 0    | -0.5 | 1    | ?    | ?    | 0    |\n",
       "\n"
      ],
      "text/plain": [
       "  V1 V2 V3 V4  V5  V6 V7 V8  V9 V10  V11 V12 V13 V14\n",
       "1 63 1  4  140 260 0  1  112 1  3    2   ?   ?   2  \n",
       "2 44 1  4  130 209 0  1  127 0  0    ?   ?   ?   0  \n",
       "3 60 1  4  132 218 0  1  140 1  1.5  3   ?   ?   2  \n",
       "4 55 1  4  142 228 0  1  149 1  2.5  1   ?   ?   1  \n",
       "5 66 1  3  110 213 1  2  99  1  1.3  2   ?   ?   0  \n",
       "6 66 1  3  120 0   0  1  120 0  -0.5 1   ?   ?   0  "
      ]
     },
     "metadata": {},
     "output_type": "display_data"
    },
    {
     "name": "stdout",
     "output_type": "stream",
     "text": [
      "'data.frame':\t200 obs. of  14 variables:\n",
      " $ V1 : int  63 44 60 55 66 66 65 60 60 60 ...\n",
      " $ V2 : int  1 1 1 1 1 1 1 1 1 1 ...\n",
      " $ V3 : int  4 4 4 4 3 3 4 3 3 2 ...\n",
      " $ V4 : Factor w/ 41 levels \"?\",\"0\",\"100\",..: 25 19 20 26 7 12 29 39 12 35 ...\n",
      " $ V5 : Factor w/ 100 levels \"?\",\"0\",\"100\",..: 64 30 37 47 33 2 52 2 2 67 ...\n",
      " $ V6 : Factor w/ 3 levels \"?\",\"0\",\"1\": 2 2 2 2 3 2 3 2 1 3 ...\n",
      " $ V7 : int  1 1 1 1 2 1 1 1 0 1 ...\n",
      " $ V8 : Factor w/ 60 levels \"?\",\"100\",\"102\",..: 10 23 32 37 60 16 4 32 33 42 ...\n",
      " $ V9 : Factor w/ 3 levels \"?\",\"0\",\"1\": 3 2 3 3 3 2 3 3 3 2 ...\n",
      " $ V10: Factor w/ 15 levels \"-0.5\",\"?\",\"0\",..: 13 3 8 12 7 1 3 8 11 4 ...\n",
      " $ V11: Factor w/ 4 levels \"?\",\"1\",\"2\",\"3\": 3 1 4 2 3 2 1 3 2 3 ...\n",
      " $ V12: Factor w/ 2 levels \"?\",\"0\": 1 1 1 1 1 1 1 1 1 1 ...\n",
      " $ V13: Factor w/ 4 levels \"?\",\"3\",\"6\",\"7\": 1 1 1 1 1 1 1 1 1 1 ...\n",
      " $ V14: int  2 0 2 1 0 0 3 0 3 1 ...\n"
     ]
    }
   ],
   "source": [
    "head(cleveland)\n",
    "str(cleveland)\n",
    "head(hungary)\n",
    "str(hungary)\n",
    "head(switzerland)\n",
    "str(switzerland)\n",
    "head(long_beach)\n",
    "str(long_beach)"
   ]
  },
  {
   "cell_type": "markdown",
   "metadata": {
    "hidden": true
   },
   "source": [
    "Before we begin we can see our data does not have any variable names. However, we can see that the data has the same number of columns with the same variables. This indicates we can join the data through a process called concatenation.\n",
    "\n",
    "> If you're unsure what concatenation is, pleasure consult section 3.1.1 'What is Concatenation?'"
   ]
  },
  {
   "cell_type": "markdown",
   "metadata": {
    "hidden": true
   },
   "source": [
    "Before we concatenate though, it would be useful to make sure we can keep a record of which data came from which location. This may be a useful variable to analyze and use for our prediction model. "
   ]
  },
  {
   "cell_type": "code",
   "execution_count": 114,
   "metadata": {
    "ExecuteTime": {
     "end_time": "2019-11-03T19:42:21.787874Z",
     "start_time": "2019-11-03T19:42:21.754Z"
    },
    "hidden": true
   },
   "outputs": [
    {
     "name": "stdout",
     "output_type": "stream",
     "text": [
      "Location Added to Dataset"
     ]
    }
   ],
   "source": [
    "location <- replicate('cleveland', n = 303)\n",
    "cleveland <- cbind(cleveland, location)\n",
    "location <- replicate('hungary', n = 294)\n",
    "hungary <- cbind(hungary, location)\n",
    "location <- replicate('switzerland', n = 123)\n",
    "switzerland <- cbind(switzerland, location)\n",
    "location <- replicate('long beach VA', n = 200)\n",
    "long_beach <- cbind(long_beach, location)\n",
    "\n",
    "cat('Location Added to Dataset')"
   ]
  },
  {
   "cell_type": "markdown",
   "metadata": {
    "hidden": true
   },
   "source": [
    "Now lets concatenate our variables"
   ]
  },
  {
   "cell_type": "code",
   "execution_count": 115,
   "metadata": {
    "ExecuteTime": {
     "end_time": "2019-11-03T19:42:21.851246Z",
     "start_time": "2019-11-03T19:42:21.819Z"
    },
    "hidden": true
   },
   "outputs": [
    {
     "name": "stdout",
     "output_type": "stream",
     "text": [
      "Data Concatenated"
     ]
    }
   ],
   "source": [
    "heart_disease_data <- rbind(cleveland, hungary, switzerland, long_beach)\n",
    "cat('Data Concatenated')"
   ]
  },
  {
   "cell_type": "markdown",
   "metadata": {
    "hidden": true
   },
   "source": [
    "Now lets give our columns names based off their description in the data dictionary. The data dictionary has been reproduced below for your convenience."
   ]
  },
  {
   "cell_type": "markdown",
   "metadata": {
    "hidden": true
   },
   "source": [
    "| *Column #*| *Definition*                                                                        |\n",
    "| --------- | ----------------------------------------------------------------------------------- |\n",
    "| 1         | age in years                                                                        |\n",
    "| 2         | sex (1 = male; 0 = female)                                                          |\n",
    "| 3         | chest pain (1:typical angina; 2:atypical angina; 3:non-anginal pain; 4:asymptomatic)| \n",
    "| 4         | resting blood pressure on hospital admission (mmHg)                                 |\n",
    "| 5         | serum cholesterol in mg/dl                                                          |\n",
    "| 6         | fasting blood sugar > 120 mg/dl (1=true; 0 = false)                                 |\n",
    "| 7         | resting electrocariographic results (0: normal; 1: ST-T wave abnormality (T wave inversions and/or ST elevation or depression of 0.05 mV); 2: showing probably or definite left ventricular hypertrophy by Estes' criteria                                                                    |\n",
    "| 8         | maximum heart rate acheived                                                         |\n",
    "| 9         | exercise induced angina (1=yes; 0=no)                                               |\n",
    "| 10        | ST depression induced by exercise relative to rest                                  |\n",
    "| 11        | Slope of the peak exercise ST segment (1: upsloping; 2: flat; 3: downsloping)          |\n",
    "| 12        | Number of major vessels (0-3) colored by fluoroscopy                                |\n",
    "| 13        | Exercise thallium scintigraphic defects (fixed, reversible, or none)                |\n",
    "| 14        | Diagnosis of heart disease (angiographic disease status) (0: <50% diameter narrowing, 1: >50% diameter narrowing)                                                                        |"
   ]
  },
  {
   "cell_type": "code",
   "execution_count": 116,
   "metadata": {
    "ExecuteTime": {
     "end_time": "2019-11-03T19:42:21.945563Z",
     "start_time": "2019-11-03T19:42:21.922Z"
    },
    "hidden": true
   },
   "outputs": [
    {
     "name": "stdout",
     "output_type": "stream",
     "text": [
      "Columns renamed"
     ]
    }
   ],
   "source": [
    "colnames(heart_disease_data) <- c('age', 'sex', 'chest_pain', 'blood_pressure', 'cholesterol', \n",
    "                                  'blood_sugar', 'ecg', 'max_heart_rate', 'exercise_angina',\n",
    "                                 'exercise_ST_depress', 'slope_peak_ST', 'number_vessel_fluoroscopy',\n",
    "                                 'thal_defects', 'heart_disease_diagnosis', 'location')\n",
    "\n",
    "cat('Columns renamed')"
   ]
  },
  {
   "cell_type": "markdown",
   "metadata": {
    "heading_collapsed": true,
    "hidden": true
   },
   "source": [
    "### What is Concatenation?"
   ]
  },
  {
   "cell_type": "markdown",
   "metadata": {
    "hidden": true
   },
   "source": [
    "Concatenation simply means taking our data set and pasting it together. Since our data has the same variables and format, we can think of concatenating them as stacking them on top of one another. The picture below offers a helpful illustration of this process. \n",
    "\n",
    "<img src=\"http://www.datasciencemadesimple.com/wp-content/uploads/2017/11/rowbind-in-python-pandas-0.png\" style=\"float: center; width: 80%;\">"
   ]
  },
  {
   "cell_type": "markdown",
   "metadata": {
    "heading_collapsed": true,
    "hidden": true
   },
   "source": [
    "## Inspecting our Data"
   ]
  },
  {
   "cell_type": "markdown",
   "metadata": {
    "hidden": true
   },
   "source": [
    "Now that our data is prepped, we can inspect it."
   ]
  },
  {
   "cell_type": "code",
   "execution_count": 117,
   "metadata": {
    "ExecuteTime": {
     "end_time": "2019-11-03T19:42:22.190766Z",
     "start_time": "2019-11-03T19:42:22.125Z"
    },
    "hidden": true
   },
   "outputs": [
    {
     "data": {
      "text/html": [
       "<table>\n",
       "<thead><tr><th scope=col>age</th><th scope=col>sex</th><th scope=col>chest_pain</th><th scope=col>blood_pressure</th><th scope=col>cholesterol</th><th scope=col>blood_sugar</th><th scope=col>ecg</th><th scope=col>max_heart_rate</th><th scope=col>exercise_angina</th><th scope=col>exercise_ST_depress</th><th scope=col>slope_peak_ST</th><th scope=col>number_vessel_fluoroscopy</th><th scope=col>thal_defects</th><th scope=col>heart_disease_diagnosis</th><th scope=col>location</th></tr></thead>\n",
       "<tbody>\n",
       "\t<tr><td>63       </td><td>1        </td><td>1        </td><td>145      </td><td>233      </td><td>1        </td><td>2        </td><td>150      </td><td>0        </td><td>2.3      </td><td>3        </td><td>0.0      </td><td>6.0      </td><td>0        </td><td>cleveland</td></tr>\n",
       "\t<tr><td>67       </td><td>1        </td><td>4        </td><td>160      </td><td>286      </td><td>0        </td><td>2        </td><td>108      </td><td>1        </td><td>1.5      </td><td>2        </td><td>3.0      </td><td>3.0      </td><td>2        </td><td>cleveland</td></tr>\n",
       "\t<tr><td>67       </td><td>1        </td><td>4        </td><td>120      </td><td>229      </td><td>0        </td><td>2        </td><td>129      </td><td>1        </td><td>2.6      </td><td>2        </td><td>2.0      </td><td>7.0      </td><td>1        </td><td>cleveland</td></tr>\n",
       "\t<tr><td>37       </td><td>1        </td><td>3        </td><td>130      </td><td>250      </td><td>0        </td><td>0        </td><td>187      </td><td>0        </td><td>3.5      </td><td>3        </td><td>0.0      </td><td>3.0      </td><td>0        </td><td>cleveland</td></tr>\n",
       "\t<tr><td>41       </td><td>0        </td><td>2        </td><td>130      </td><td>204      </td><td>0        </td><td>2        </td><td>172      </td><td>0        </td><td>1.4      </td><td>1        </td><td>0.0      </td><td>3.0      </td><td>0        </td><td>cleveland</td></tr>\n",
       "\t<tr><td>56       </td><td>1        </td><td>2        </td><td>120      </td><td>236      </td><td>0        </td><td>0        </td><td>178      </td><td>0        </td><td>0.8      </td><td>1        </td><td>0.0      </td><td>3.0      </td><td>0        </td><td>cleveland</td></tr>\n",
       "</tbody>\n",
       "</table>\n"
      ],
      "text/latex": [
       "\\begin{tabular}{r|lllllllllllllll}\n",
       " age & sex & chest\\_pain & blood\\_pressure & cholesterol & blood\\_sugar & ecg & max\\_heart\\_rate & exercise\\_angina & exercise\\_ST\\_depress & slope\\_peak\\_ST & number\\_vessel\\_fluoroscopy & thal\\_defects & heart\\_disease\\_diagnosis & location\\\\\n",
       "\\hline\n",
       "\t 63        & 1         & 1         & 145       & 233       & 1         & 2         & 150       & 0         & 2.3       & 3         & 0.0       & 6.0       & 0         & cleveland\\\\\n",
       "\t 67        & 1         & 4         & 160       & 286       & 0         & 2         & 108       & 1         & 1.5       & 2         & 3.0       & 3.0       & 2         & cleveland\\\\\n",
       "\t 67        & 1         & 4         & 120       & 229       & 0         & 2         & 129       & 1         & 2.6       & 2         & 2.0       & 7.0       & 1         & cleveland\\\\\n",
       "\t 37        & 1         & 3         & 130       & 250       & 0         & 0         & 187       & 0         & 3.5       & 3         & 0.0       & 3.0       & 0         & cleveland\\\\\n",
       "\t 41        & 0         & 2         & 130       & 204       & 0         & 2         & 172       & 0         & 1.4       & 1         & 0.0       & 3.0       & 0         & cleveland\\\\\n",
       "\t 56        & 1         & 2         & 120       & 236       & 0         & 0         & 178       & 0         & 0.8       & 1         & 0.0       & 3.0       & 0         & cleveland\\\\\n",
       "\\end{tabular}\n"
      ],
      "text/markdown": [
       "\n",
       "| age | sex | chest_pain | blood_pressure | cholesterol | blood_sugar | ecg | max_heart_rate | exercise_angina | exercise_ST_depress | slope_peak_ST | number_vessel_fluoroscopy | thal_defects | heart_disease_diagnosis | location |\n",
       "|---|---|---|---|---|---|---|---|---|---|---|---|---|---|---|\n",
       "| 63        | 1         | 1         | 145       | 233       | 1         | 2         | 150       | 0         | 2.3       | 3         | 0.0       | 6.0       | 0         | cleveland |\n",
       "| 67        | 1         | 4         | 160       | 286       | 0         | 2         | 108       | 1         | 1.5       | 2         | 3.0       | 3.0       | 2         | cleveland |\n",
       "| 67        | 1         | 4         | 120       | 229       | 0         | 2         | 129       | 1         | 2.6       | 2         | 2.0       | 7.0       | 1         | cleveland |\n",
       "| 37        | 1         | 3         | 130       | 250       | 0         | 0         | 187       | 0         | 3.5       | 3         | 0.0       | 3.0       | 0         | cleveland |\n",
       "| 41        | 0         | 2         | 130       | 204       | 0         | 2         | 172       | 0         | 1.4       | 1         | 0.0       | 3.0       | 0         | cleveland |\n",
       "| 56        | 1         | 2         | 120       | 236       | 0         | 0         | 178       | 0         | 0.8       | 1         | 0.0       | 3.0       | 0         | cleveland |\n",
       "\n"
      ],
      "text/plain": [
       "  age sex chest_pain blood_pressure cholesterol blood_sugar ecg max_heart_rate\n",
       "1 63  1   1          145            233         1           2   150           \n",
       "2 67  1   4          160            286         0           2   108           \n",
       "3 67  1   4          120            229         0           2   129           \n",
       "4 37  1   3          130            250         0           0   187           \n",
       "5 41  0   2          130            204         0           2   172           \n",
       "6 56  1   2          120            236         0           0   178           \n",
       "  exercise_angina exercise_ST_depress slope_peak_ST number_vessel_fluoroscopy\n",
       "1 0               2.3                 3             0.0                      \n",
       "2 1               1.5                 2             3.0                      \n",
       "3 1               2.6                 2             2.0                      \n",
       "4 0               3.5                 3             0.0                      \n",
       "5 0               1.4                 1             0.0                      \n",
       "6 0               0.8                 1             0.0                      \n",
       "  thal_defects heart_disease_diagnosis location \n",
       "1 6.0          0                       cleveland\n",
       "2 3.0          2                       cleveland\n",
       "3 7.0          1                       cleveland\n",
       "4 3.0          0                       cleveland\n",
       "5 3.0          0                       cleveland\n",
       "6 3.0          0                       cleveland"
      ]
     },
     "metadata": {},
     "output_type": "display_data"
    },
    {
     "name": "stdout",
     "output_type": "stream",
     "text": [
      "'data.frame':\t920 obs. of  15 variables:\n",
      " $ age                      : num  63 67 67 37 41 56 62 57 63 53 ...\n",
      " $ sex                      : num  1 1 1 1 0 1 0 0 1 1 ...\n",
      " $ chest_pain               : num  1 4 4 3 2 2 4 4 4 4 ...\n",
      " $ blood_pressure           : chr  \"145\" \"160\" \"120\" \"130\" ...\n",
      " $ cholesterol              : chr  \"233\" \"286\" \"229\" \"250\" ...\n",
      " $ blood_sugar              : chr  \"1\" \"0\" \"0\" \"0\" ...\n",
      " $ ecg                      : chr  \"2\" \"2\" \"2\" \"0\" ...\n",
      " $ max_heart_rate           : chr  \"150\" \"108\" \"129\" \"187\" ...\n",
      " $ exercise_angina          : chr  \"0\" \"1\" \"1\" \"0\" ...\n",
      " $ exercise_ST_depress      : chr  \"2.3\" \"1.5\" \"2.6\" \"3.5\" ...\n",
      " $ slope_peak_ST            : chr  \"3\" \"2\" \"2\" \"3\" ...\n",
      " $ number_vessel_fluoroscopy: Factor w/ 8 levels \"?\",\"0.0\",\"1.0\",..: 2 5 4 2 2 2 4 2 3 2 ...\n",
      " $ thal_defects             : Factor w/ 7 levels \"?\",\"3.0\",\"6.0\",..: 3 2 4 2 2 2 2 2 4 4 ...\n",
      " $ heart_disease_diagnosis  : int  0 2 1 0 0 0 3 0 2 1 ...\n",
      " $ location                 : Factor w/ 4 levels \"cleveland\",\"hungary\",..: 1 1 1 1 1 1 1 1 1 1 ...\n"
     ]
    },
    {
     "data": {
      "text/plain": [
       "$age\n",
       "\n",
       "28 29 30 31 32 33 34 35 36 37 38 39 40 41 42 43 44 45 46 47 48 49 50 51 52 53 \n",
       " 1  3  1  2  5  2  7 11  6 11 16 15 13 24 18 24 19 18 24 19 31 22 25 35 36 33 \n",
       "54 55 56 57 58 59 60 61 62 63 64 65 66 67 68 69 70 71 72 73 74 75 76 77 \n",
       "51 41 38 38 43 35 32 31 35 30 22 21 13 15 10 13  7  5  4  1  7  3  2  2 \n",
       "\n",
       "$sex\n",
       "\n",
       "  0   1 \n",
       "194 726 \n",
       "\n",
       "$chest_pain\n",
       "\n",
       "  1   2   3   4 \n",
       " 46 174 204 496 \n",
       "\n",
       "$blood_pressure\n",
       "\n",
       "  ?   0 100 101 102 104 105 106 108 110 112 113 114 115 116 117 118 120 122 123 \n",
       " 59   1  15   1   3   3   9   3   7  59  14   1   2  19   2   1  10 131  12   1 \n",
       "124 125 126 127 128 129 130 132 134 135 136 138 140 142 144 145 146 148 150 152 \n",
       " 12  29   7   1  17   1 115  12   9  18   8  15 102   9   6  16   3   2  56   7 \n",
       "154 155 156 158 160 164 165 170 172 174 178 180 185 190 192 200  80  92  94  95 \n",
       "  3   8   2   4  50   1   2  14   2   1   3  12   1   2   1   4   1   1   2   6 \n",
       " 96  98 \n",
       "  1   1 \n",
       "\n",
       "$cholesterol\n",
       "\n",
       "  ?   0 100 117 126 129 131 132 139 141 142 147 149 153 156 157 160 161 163 164 \n",
       " 30 172   2   1   1   1   1   1   1   1   1   2   2   1   1   1   5   2   2   2 \n",
       "165 166 167 168 169 170 171 172 173 174 175 176 177 178 179 180 181 182 183 184 \n",
       "  1   3   2   2   1   2   3   2   2   1   4   1   5   1   2   3   1   5   1   4 \n",
       "185 186 187 188 190 192 193 194 195 196 197 198 199 200 201 202 203 204 205 206 \n",
       "  1   6   2   4   1   3   6   2   6   6   7   6   3   4   6   3   7   9   3   3 \n",
       "207 208 209 210 211 212 213 214 215 216 217 218 219 220 221 222 223 224 225 226 \n",
       "  6   5   5   4   9   6   7   7   5   9   4   6   9  10   5   6   9   6   6   6 \n",
       "227 228 229 230 231 232 233 234 235 236 237 238 239 240 241 242 243 244 245 246 \n",
       "  4   5   4   9   5   3   6   7   3   6   6   4   4   8   3   2   7   4   6   8 \n",
       "247 248 249 250 251 252 253 254 255 256 257 258 259 260 261 262 263 264 265 266 \n",
       "  3   6   5   5   1   3   4  10   3   5   3   7   2   8   3   1   7   6   4   4 \n",
       "267 268 269 270 271 272 273 274 275 276 277 278 279 280 281 282 283 284 285 286 \n",
       "  5   5   6   6   4   3   5   6   7   4   5   1   1   2   3   7   5   4   2   2 \n",
       "287 288 289 290 291 292 293 294 295 297 298 299 300 302 303 304 305 306 307 308 \n",
       "  2   6   6   2   3   4   1   4   4   4   5   2   2   2   4   2   4   3   2   6 \n",
       "309 310 311 312 313 315 316 318 319 320 321 322 325 326 327 328 329 330 331 333 \n",
       "  4   3   2   2   1   3   1   3   1   2   1   1   2   2   1   1   1   2   1   1 \n",
       "335 336 337 338 339 340 341 342 344 347 349 353 354 355 358 360 365 369 384 385 \n",
       "  2   1   1   1   2   2   3   3   1   1   1   1   1   1   1   1   1   1   1   1 \n",
       "388 392 393 394 404 407 409 412 417 458 466 468 491 518 529 564 603  85 \n",
       "  1   1   1   2   1   1   1   1   1   1   1   1   1   1   1   1   1   1 \n",
       "\n",
       "$blood_sugar\n",
       "\n",
       "  ?   0   1 \n",
       " 90 692 138 \n",
       "\n",
       "$ecg\n",
       "\n",
       "  ?   0   1   2 \n",
       "  2 551 179 188 \n",
       "\n",
       "$max_heart_rate\n",
       "\n",
       "  ? 100 102 103 104 105 106 107 108 109 110 111 112 113 114 115 116 117 118 119 \n",
       " 55  14   4   4   1  11   5   1   7   3  21   5  11   4   6  14   6   5  11   4 \n",
       "120 121 122 123 124 125 126 127 128 129 130 131 132 133 134 135 136 137 138 139 \n",
       " 35   5  16   5   7  20   8   6  12   4  30   6  11   4   6  11   5   5  13   4 \n",
       "140 141 142 143 144 145 146 147 148 149 150 151 152 153 154 155 156 157 158 159 \n",
       " 41   5  14  10  12  14   6   5  11   6  43   5  11   4  12  14   9   7   8   5 \n",
       "160 161 162 163 164 165 166 167 168 169 170 171 172 173 174 175 176 177 178 179 \n",
       " 26   7  13  10   4  11   5   2   8   6  20   4  10   7   7  10   2   1   6   6 \n",
       "180 181 182 184 185 186 187 188 190 192 194 195 202  60  63  67  69  70  71  72 \n",
       " 10   2   6   4   4   2   1   2   2   1   1   1   1   1   1   1   1   1   1   2 \n",
       " 73  77  78  80  82  83  84  86  87  88  90  91  92  93  94  95  96  97  98  99 \n",
       "  1   1   1   2   3   1   3   4   1   2   3   1   6   2   4   2   7   3   9   7 \n",
       "\n",
       "$exercise_angina\n",
       "\n",
       "  ?   0   1 \n",
       " 55 528 337 \n",
       "\n",
       "$exercise_ST_depress\n",
       "\n",
       " -.1  -.5  -.7  -.8  -.9 -0.5   -1 -1.1 -1.5   -2 -2.6   .1   .2   .3   .4   .5 \n",
       "   1    1    1    1    1    1    2    1    1    1    1    2    2    2    1    5 \n",
       "  .7   .9    ?    0  0.1  0.2  0.3  0.4  0.5  0.6  0.7  0.8  0.9    1  1.1  1.2 \n",
       "   4    1   62  370    7   12    3    9   14   14    1   15    3   83    4   17 \n",
       " 1.3  1.4  1.5  1.6  1.7  1.8  1.9    2  2.1  2.2  2.3  2.4  2.5  2.6  2.8  2.9 \n",
       "   5   15   48   14    2   12    5   76    2    5    2    4   16    7    7    1 \n",
       "   3  3.1  3.2  3.4  3.5  3.6  3.7  3.8    4  4.2  4.4    5  5.6  6.2 \n",
       "  28    1    2    3    2    4    1    1    8    2    1    1    1    1 \n",
       "\n",
       "$slope_peak_ST\n",
       "\n",
       "  ?   1   2   3 \n",
       "309 203 345  63 \n",
       "\n",
       "$number_vessel_fluoroscopy\n",
       "\n",
       "  ? 0.0 1.0 2.0 3.0   0   1   2 \n",
       "611 176  65  38  20   5   2   3 \n",
       "\n",
       "$thal_defects\n",
       "\n",
       "  ? 3.0 6.0 7.0   3   6   7 \n",
       "486 166  18 117  30  28  75 \n",
       "\n",
       "$heart_disease_diagnosis\n",
       "\n",
       "  0   1   2   3   4 \n",
       "411 265 109 107  28 \n",
       "\n",
       "$location\n",
       "\n",
       "    cleveland       hungary   switzerland long beach VA \n",
       "          303           294           123           200 \n"
      ]
     },
     "metadata": {},
     "output_type": "display_data"
    }
   ],
   "source": [
    "head(heart_disease_data)\n",
    "str(heart_disease_data)\n",
    "lapply(heart_disease_data, table)"
   ]
  },
  {
   "cell_type": "markdown",
   "metadata": {
    "ExecuteTime": {
     "end_time": "2019-10-08T17:00:13.510443Z",
     "start_time": "2019-10-08T17:00:13.471Z"
    },
    "hidden": true,
    "solution2": "hidden",
    "solution2_first": true
   },
   "source": [
    "What do you see about the data? Theres no incorrect answer. Click the button below to reveal some observations that will be important for us when we clean the data. "
   ]
  },
  {
   "cell_type": "markdown",
   "metadata": {
    "hidden": true,
    "solution2": "hidden"
   },
   "source": [
    "The first is that many of our variables not in easily human readable format. For instance, `chest_pain` is categorized as a number from 1-4. This does not give us any immediately meaningful information. We will need to recode our variables into something meaningful. \n",
    "\n",
    "Second many of the variables are incorrectly classified as wrong kind of variables. The second output window tells you what kind of variables each variable in our dataset is (the 3-letter phrase after the colon). Don't worry if you don't know what many of the variable types are. That will be explained further on in the case. "
   ]
  },
  {
   "cell_type": "markdown",
   "metadata": {
    "heading_collapsed": true,
    "hidden": true
   },
   "source": [
    "## Recoding Variables"
   ]
  },
  {
   "cell_type": "markdown",
   "metadata": {
    "hidden": true
   },
   "source": [
    "We now need to recode our variables into meaningful outputs. For instance, in the data dictionary for `sex` we can see that `1` = `male` and `0` = `female`. We will now recode our variables, where possible, into more human-readable outputs based upon the data dictionary. "
   ]
  },
  {
   "cell_type": "code",
   "execution_count": 118,
   "metadata": {
    "ExecuteTime": {
     "end_time": "2019-11-03T19:42:22.372810Z",
     "start_time": "2019-11-03T19:42:22.331Z"
    },
    "code_folding": [],
    "hidden": true
   },
   "outputs": [
    {
     "name": "stdout",
     "output_type": "stream",
     "text": [
      "Data Recoded"
     ]
    }
   ],
   "source": [
    "# Recoding\n",
    "heart_disease_data$sex <- ifelse(heart_disease_data$sex == 1, 'Male', \n",
    "                                 ifelse(heart_disease_data$sex == 0, 'Female', NA))\n",
    "heart_disease_data$chest_pain <- ifelse(heart_disease_data$chest_pain == 1, 'typical angina', \n",
    "                                        ifelse(heart_disease_data$chest_pain == 2, 'atypical angina',\n",
    "                                               ifelse(heart_disease_data$chest_pain == 3, 'non-anginal pain',\n",
    "                                                       ifelse(heart_disease_data$chest_pain == 4, 'asymptomatic',\n",
    "                                                              NA))))\n",
    "heart_disease_data$blood_sugar <- ifelse(heart_disease_data$blood_sugar == 1, 'Fasting Blood Sugar > 120', \n",
    "                                         ifelse(heart_disease_data$blood_sugar == 0, 'Fasting Blood Sugar < 120', \n",
    "                                                NA))\n",
    "heart_disease_data$ecg <- ifelse(heart_disease_data$ecg == 0, 'normal', \n",
    "                                         ifelse(heart_disease_data$ecg == 1, 'ST-T wave abnormality',\n",
    "                                                ifelse(heart_disease_data$ecg == 2, 'Probable or definite LVH',\n",
    "                                                    NA)))\n",
    "heart_disease_data$exercise_angina <- ifelse(heart_disease_data$exercise_angina == 1, 'Positive', \n",
    "                                             ifelse(heart_disease_data$exercise_angina == 0, 'Negative', \n",
    "                                                    NA))\n",
    "heart_disease_data$slope_peak_ST <- ifelse(heart_disease_data$slope_peak_ST == 1, 'Upsloping', \n",
    "                                             ifelse(heart_disease_data$slope_peak_ST == 2, 'Flat', \n",
    "                                                    ifelse(heart_disease_data$slope_peak_ST == 3, 'Downsloping',\n",
    "                                                        NA)))\n",
    "heart_disease_data$thal_defects <- ifelse(heart_disease_data$thal_defects == '3', 'Normal', \n",
    "                                        ifelse(heart_disease_data$thal_defects == '3.0', 'Normal',\n",
    "                                               ifelse(heart_disease_data$thal_defects == '6', 'Fixed defect',\n",
    "                                                       ifelse(heart_disease_data$thal_defects == '6.0', 'Fixed defect',\n",
    "                                                              ifelse(heart_disease_data$thal_defects == '7', 'Reversible defect',\n",
    "                                                                     ifelse(heart_disease_data$thal_defects == '7.0', 'Reversible defect',\n",
    "                                                                            NA))))))\n",
    "heart_disease_data$heart_disease_diagnosis <- ifelse(heart_disease_data$heart_disease_diagnosis == 0, 'No heart disease', \n",
    "                                                     ifelse(heart_disease_data$heart_disease_diagnosis == 1, 'Disease',\n",
    "                                                            ifelse(heart_disease_data$heart_disease_diagnosis == 2, 'Disease',\n",
    "                                                                    ifelse(heart_disease_data$heart_disease_diagnosis == 3, 'Disease',\n",
    "                                                                           ifelse(heart_disease_data$heart_disease_diagnosis == 4, 'Disease',\n",
    "                                                                                  NA)))))\n",
    "heart_disease_data$number_vessel_fluoroscopy <- ifelse(heart_disease_data$number_vessel_fluoroscopy == '1.0', '1.0',\n",
    "                                                       ifelse(heart_disease_data$number_vessel_fluoroscopy == '2.0', '2.0',\n",
    "                                                              ifelse(heart_disease_data$number_vessel_fluoroscopy == '3.0', '3.0',\n",
    "                                                                     ifelse(heart_disease_data$number_vessel_fluoroscopy == '0.0', '0.0',\n",
    "                                                                            ifelse(heart_disease_data$number_vessel_fluoroscopy == '0', '0.0', \n",
    "                                                                                   ifelse(heart_disease_data$number_vessel_fluoroscopy == '1', '1.0',\n",
    "                                                                                          ifelse(heart_disease_data$number_vessel_fluoroscopy == '2', '2.0',\n",
    "                                                                                                 NA)))))))\n",
    "\n",
    "cat('Data Recoded')"
   ]
  },
  {
   "cell_type": "markdown",
   "metadata": {
    "hidden": true
   },
   "source": [
    "Lets confirm our changes"
   ]
  },
  {
   "cell_type": "code",
   "execution_count": 119,
   "metadata": {
    "ExecuteTime": {
     "end_time": "2019-11-03T19:42:22.437267Z",
     "start_time": "2019-11-03T19:42:22.389Z"
    },
    "hidden": true
   },
   "outputs": [
    {
     "data": {
      "text/html": [
       "<table>\n",
       "<thead><tr><th scope=col>sex</th><th scope=col>chest_pain</th><th scope=col>blood_sugar</th><th scope=col>ecg</th><th scope=col>exercise_angina</th><th scope=col>slope_peak_ST</th><th scope=col>thal_defects</th><th scope=col>heart_disease_diagnosis</th></tr></thead>\n",
       "<tbody>\n",
       "\t<tr><td><span style=white-space:pre-wrap>Male  </span>           </td><td><span style=white-space:pre-wrap>typical angina  </span> </td><td>Fasting Blood Sugar &gt; 120                             </td><td>Probable or definite LVH                                 </td><td>Negative                                                 </td><td>Downsloping                                              </td><td><span style=white-space:pre-wrap>Fixed defect     </span></td><td>No heart disease                                         </td></tr>\n",
       "\t<tr><td><span style=white-space:pre-wrap>Male  </span>           </td><td><span style=white-space:pre-wrap>asymptomatic    </span> </td><td>Fasting Blood Sugar &lt; 120                             </td><td>Probable or definite LVH                                 </td><td>Positive                                                 </td><td><span style=white-space:pre-wrap>Flat       </span>      </td><td><span style=white-space:pre-wrap>Normal           </span></td><td><span style=white-space:pre-wrap>Disease         </span> </td></tr>\n",
       "\t<tr><td><span style=white-space:pre-wrap>Male  </span>          </td><td><span style=white-space:pre-wrap>asymptomatic    </span></td><td>Fasting Blood Sugar &lt; 120                            </td><td>Probable or definite LVH                                </td><td>Positive                                                </td><td><span style=white-space:pre-wrap>Flat       </span>     </td><td>Reversible defect                                       </td><td><span style=white-space:pre-wrap>Disease         </span></td></tr>\n",
       "\t<tr><td><span style=white-space:pre-wrap>Male  </span>                  </td><td>non-anginal pain                                                </td><td>Fasting Blood Sugar &lt; 120                                    </td><td><span style=white-space:pre-wrap>normal                  </span></td><td>Negative                                                        </td><td>Downsloping                                                     </td><td><span style=white-space:pre-wrap>Normal           </span>       </td><td>No heart disease                                                </td></tr>\n",
       "\t<tr><td>Female                                                   </td><td>atypical angina                                          </td><td>Fasting Blood Sugar &lt; 120                             </td><td>Probable or definite LVH                                 </td><td>Negative                                                 </td><td><span style=white-space:pre-wrap>Upsloping  </span>      </td><td><span style=white-space:pre-wrap>Normal           </span></td><td>No heart disease                                         </td></tr>\n",
       "\t<tr><td><span style=white-space:pre-wrap>Male  </span>                  </td><td>atypical angina                                                 </td><td>Fasting Blood Sugar &lt; 120                                    </td><td><span style=white-space:pre-wrap>normal                  </span></td><td>Negative                                                        </td><td><span style=white-space:pre-wrap>Upsloping  </span>             </td><td><span style=white-space:pre-wrap>Normal           </span>       </td><td>No heart disease                                                </td></tr>\n",
       "</tbody>\n",
       "</table>\n"
      ],
      "text/latex": [
       "\\begin{tabular}{r|llllllll}\n",
       " sex & chest\\_pain & blood\\_sugar & ecg & exercise\\_angina & slope\\_peak\\_ST & thal\\_defects & heart\\_disease\\_diagnosis\\\\\n",
       "\\hline\n",
       "\t Male                      & typical angina            & Fasting Blood Sugar > 120 & Probable or definite LVH  & Negative                  & Downsloping               & Fixed defect              & No heart disease         \\\\\n",
       "\t Male                      & asymptomatic              & Fasting Blood Sugar < 120 & Probable or definite LVH  & Positive                  & Flat                      & Normal                    & Disease                  \\\\\n",
       "\t Male                      & asymptomatic              & Fasting Blood Sugar < 120 & Probable or definite LVH  & Positive                  & Flat                      & Reversible defect         & Disease                  \\\\\n",
       "\t Male                      & non-anginal pain          & Fasting Blood Sugar < 120 & normal                    & Negative                  & Downsloping               & Normal                    & No heart disease         \\\\\n",
       "\t Female                    & atypical angina           & Fasting Blood Sugar < 120 & Probable or definite LVH  & Negative                  & Upsloping                 & Normal                    & No heart disease         \\\\\n",
       "\t Male                      & atypical angina           & Fasting Blood Sugar < 120 & normal                    & Negative                  & Upsloping                 & Normal                    & No heart disease         \\\\\n",
       "\\end{tabular}\n"
      ],
      "text/markdown": [
       "\n",
       "| sex | chest_pain | blood_sugar | ecg | exercise_angina | slope_peak_ST | thal_defects | heart_disease_diagnosis |\n",
       "|---|---|---|---|---|---|---|---|\n",
       "| Male                      | typical angina            | Fasting Blood Sugar > 120 | Probable or definite LVH  | Negative                  | Downsloping               | Fixed defect              | No heart disease          |\n",
       "| Male                      | asymptomatic              | Fasting Blood Sugar < 120 | Probable or definite LVH  | Positive                  | Flat                      | Normal                    | Disease                   |\n",
       "| Male                      | asymptomatic              | Fasting Blood Sugar < 120 | Probable or definite LVH  | Positive                  | Flat                      | Reversible defect         | Disease                   |\n",
       "| Male                      | non-anginal pain          | Fasting Blood Sugar < 120 | normal                    | Negative                  | Downsloping               | Normal                    | No heart disease          |\n",
       "| Female                    | atypical angina           | Fasting Blood Sugar < 120 | Probable or definite LVH  | Negative                  | Upsloping                 | Normal                    | No heart disease          |\n",
       "| Male                      | atypical angina           | Fasting Blood Sugar < 120 | normal                    | Negative                  | Upsloping                 | Normal                    | No heart disease          |\n",
       "\n"
      ],
      "text/plain": [
       "  sex    chest_pain       blood_sugar               ecg                     \n",
       "1 Male   typical angina   Fasting Blood Sugar > 120 Probable or definite LVH\n",
       "2 Male   asymptomatic     Fasting Blood Sugar < 120 Probable or definite LVH\n",
       "3 Male   asymptomatic     Fasting Blood Sugar < 120 Probable or definite LVH\n",
       "4 Male   non-anginal pain Fasting Blood Sugar < 120 normal                  \n",
       "5 Female atypical angina  Fasting Blood Sugar < 120 Probable or definite LVH\n",
       "6 Male   atypical angina  Fasting Blood Sugar < 120 normal                  \n",
       "  exercise_angina slope_peak_ST thal_defects      heart_disease_diagnosis\n",
       "1 Negative        Downsloping   Fixed defect      No heart disease       \n",
       "2 Positive        Flat          Normal            Disease                \n",
       "3 Positive        Flat          Reversible defect Disease                \n",
       "4 Negative        Downsloping   Normal            No heart disease       \n",
       "5 Negative        Upsloping     Normal            No heart disease       \n",
       "6 Negative        Upsloping     Normal            No heart disease       "
      ]
     },
     "metadata": {},
     "output_type": "display_data"
    },
    {
     "name": "stdout",
     "output_type": "stream",
     "text": [
      "'data.frame':\t920 obs. of  8 variables:\n",
      " $ sex                    : chr  \"Male\" \"Male\" \"Male\" \"Male\" ...\n",
      " $ chest_pain             : chr  \"typical angina\" \"asymptomatic\" \"asymptomatic\" \"non-anginal pain\" ...\n",
      " $ blood_sugar            : chr  \"Fasting Blood Sugar > 120\" \"Fasting Blood Sugar < 120\" \"Fasting Blood Sugar < 120\" \"Fasting Blood Sugar < 120\" ...\n",
      " $ ecg                    : chr  \"Probable or definite LVH\" \"Probable or definite LVH\" \"Probable or definite LVH\" \"normal\" ...\n",
      " $ exercise_angina        : chr  \"Negative\" \"Positive\" \"Positive\" \"Negative\" ...\n",
      " $ slope_peak_ST          : chr  \"Downsloping\" \"Flat\" \"Flat\" \"Downsloping\" ...\n",
      " $ thal_defects           : chr  \"Fixed defect\" \"Normal\" \"Reversible defect\" \"Normal\" ...\n",
      " $ heart_disease_diagnosis: chr  \"No heart disease\" \"Disease\" \"Disease\" \"No heart disease\" ...\n"
     ]
    }
   ],
   "source": [
    "head(heart_disease_data[c('sex', 'chest_pain', 'blood_sugar', 'ecg', 'exercise_angina', 'slope_peak_ST',\n",
    "                         'thal_defects', 'heart_disease_diagnosis')])\n",
    "str(heart_disease_data[c('sex', 'chest_pain', 'blood_sugar', 'ecg', 'exercise_angina', 'slope_peak_ST',\n",
    "                         'thal_defects', 'heart_disease_diagnosis')])"
   ]
  },
  {
   "cell_type": "markdown",
   "metadata": {
    "hidden": true
   },
   "source": [
    "First we'll need to correctly classify each variable. There are many types of variables. For instance, the variables we just recoded are now considered character variables. The two most important classes of variable to consider for now are categorical and numeric data. "
   ]
  },
  {
   "cell_type": "markdown",
   "metadata": {
    "hidden": true,
    "solution2": "hidden",
    "solution2_first": true
   },
   "source": [
    "**Pre-Check:** What is the difference between a numeric and categorical variable?"
   ]
  },
  {
   "cell_type": "markdown",
   "metadata": {
    "hidden": true,
    "solution2": "hidden"
   },
   "source": [
    "- **Numeric:** variables whose values are whole numbers (ie. numbers, percents)\n",
    "- **Categorical:** variables whose values are selected from a group (ie. dog breeds, male/female) \n",
    "\n",
    "> Note R calls categorical variables **Factors**"
   ]
  },
  {
   "cell_type": "markdown",
   "metadata": {
    "hidden": true,
    "solution2": "hidden",
    "solution2_first": true
   },
   "source": [
    "**Application Check:** Take a look at all variables we just recoded above. Are these variable numeric or categorical?"
   ]
  },
  {
   "cell_type": "markdown",
   "metadata": {
    "hidden": true,
    "solution2": "hidden"
   },
   "source": [
    "All these variable are categorical since they all only have a limited number of values or categories. "
   ]
  },
  {
   "cell_type": "markdown",
   "metadata": {
    "hidden": true
   },
   "source": [
    "Lets turn our variables into the correct variable type now. "
   ]
  },
  {
   "cell_type": "code",
   "execution_count": 120,
   "metadata": {
    "ExecuteTime": {
     "end_time": "2019-11-03T19:42:22.753150Z",
     "start_time": "2019-11-03T19:42:22.712Z"
    },
    "hidden": true
   },
   "outputs": [
    {
     "name": "stdout",
     "output_type": "stream",
     "text": [
      "Variables converted"
     ]
    }
   ],
   "source": [
    "suppressWarnings(heart_disease_data$sex <- as.factor(heart_disease_data$sex))\n",
    "suppressWarnings(heart_disease_data$chest_pain <- as.factor(heart_disease_data$chest_pain))\n",
    "suppressWarnings(heart_disease_data$blood_pressure <- as.numeric(heart_disease_data$blood_pressure))\n",
    "suppressWarnings(heart_disease_data$cholesterol <- as.numeric(heart_disease_data$cholesterol))\n",
    "suppressWarnings(heart_disease_data$blood_sugar <- as.factor(heart_disease_data$blood_sugar))            \n",
    "suppressWarnings(heart_disease_data$ecg <- as.factor(heart_disease_data$ecg))\n",
    "suppressWarnings(heart_disease_data$max_heart_rate <- as.numeric(heart_disease_data$max_heart_rate))\n",
    "suppressWarnings(heart_disease_data$exercise_angina <- as.factor(heart_disease_data$exercise_angina))\n",
    "suppressWarnings(heart_disease_data$exercise_ST_depress <- as.numeric(heart_disease_data$exercise_ST_depress))\n",
    "suppressWarnings(heart_disease_data$slope_peak_ST <- as.factor(heart_disease_data$slope_peak_ST))\n",
    "suppressWarnings(heart_disease_data$exercise_angina <- as.factor(heart_disease_data$exercise_angina))\n",
    "suppressWarnings(heart_disease_data$heart_disease_diagnosis <- as.factor(heart_disease_data$heart_disease_diagnosis))\n",
    "suppressWarnings(heart_disease_data$thal_defects <- as.factor(heart_disease_data$thal_defects))\n",
    "suppressWarnings(heart_disease_data$number_vessel_fluoroscopy <- as.factor(heart_disease_data$number_vessel_fluoroscopy))\n",
    "\n",
    "cat('Variables converted')"
   ]
  },
  {
   "cell_type": "markdown",
   "metadata": {
    "ExecuteTime": {
     "end_time": "2019-10-08T20:17:50.372922Z",
     "start_time": "2019-10-08T20:17:50.318Z"
    },
    "hidden": true
   },
   "source": [
    "Lets confirm"
   ]
  },
  {
   "cell_type": "code",
   "execution_count": 121,
   "metadata": {
    "ExecuteTime": {
     "end_time": "2019-11-03T19:42:22.801529Z",
     "start_time": "2019-11-03T19:42:22.774Z"
    },
    "hidden": true
   },
   "outputs": [
    {
     "name": "stdout",
     "output_type": "stream",
     "text": [
      "'data.frame':\t920 obs. of  15 variables:\n",
      " $ age                      : num  63 67 67 37 41 56 62 57 63 53 ...\n",
      " $ sex                      : Factor w/ 2 levels \"Female\",\"Male\": 2 2 2 2 1 2 1 1 2 2 ...\n",
      " $ chest_pain               : Factor w/ 4 levels \"asymptomatic\",..: 4 1 1 3 2 2 1 1 1 1 ...\n",
      " $ blood_pressure           : num  145 160 120 130 130 120 140 120 130 140 ...\n",
      " $ cholesterol              : num  233 286 229 250 204 236 268 354 254 203 ...\n",
      " $ blood_sugar              : Factor w/ 2 levels \"Fasting Blood Sugar < 120\",..: 2 1 1 1 1 1 1 1 1 2 ...\n",
      " $ ecg                      : Factor w/ 3 levels \"normal\",\"Probable or definite LVH\",..: 2 2 2 1 2 1 2 1 2 2 ...\n",
      " $ max_heart_rate           : num  150 108 129 187 172 178 160 163 147 155 ...\n",
      " $ exercise_angina          : Factor w/ 2 levels \"Negative\",\"Positive\": 1 2 2 1 1 1 1 2 1 2 ...\n",
      " $ exercise_ST_depress      : num  2.3 1.5 2.6 3.5 1.4 0.8 3.6 0.6 1.4 3.1 ...\n",
      " $ slope_peak_ST            : Factor w/ 3 levels \"Downsloping\",..: 1 2 2 1 3 3 1 3 2 1 ...\n",
      " $ number_vessel_fluoroscopy: Factor w/ 4 levels \"0.0\",\"1.0\",\"2.0\",..: 1 4 3 1 1 1 3 1 2 1 ...\n",
      " $ thal_defects             : Factor w/ 3 levels \"Fixed defect\",..: 1 2 3 2 2 2 2 2 3 3 ...\n",
      " $ heart_disease_diagnosis  : Factor w/ 2 levels \"Disease\",\"No heart disease\": 2 1 1 2 2 2 1 2 1 1 ...\n",
      " $ location                 : Factor w/ 4 levels \"cleveland\",\"hungary\",..: 1 1 1 1 1 1 1 1 1 1 ...\n"
     ]
    }
   ],
   "source": [
    "str(heart_disease_data)"
   ]
  },
  {
   "cell_type": "markdown",
   "metadata": {
    "hidden": true
   },
   "source": [
    "Much better! "
   ]
  },
  {
   "cell_type": "markdown",
   "metadata": {
    "heading_collapsed": true,
    "hidden": true
   },
   "source": [
    "## Checking for Missing Values"
   ]
  },
  {
   "cell_type": "markdown",
   "metadata": {
    "hidden": true
   },
   "source": [
    "Lets examine the data for missing values now."
   ]
  },
  {
   "cell_type": "code",
   "execution_count": 122,
   "metadata": {
    "ExecuteTime": {
     "end_time": "2019-11-03T19:42:22.959539Z",
     "start_time": "2019-11-03T19:42:22.931Z"
    },
    "hidden": true
   },
   "outputs": [
    {
     "name": "stdout",
     "output_type": "stream",
     "text": [
      "Number of Missing Data for Each Variable:"
     ]
    },
    {
     "data": {
      "text/html": [
       "<dl class=dl-horizontal>\n",
       "\t<dt>age</dt>\n",
       "\t\t<dd>0</dd>\n",
       "\t<dt>sex</dt>\n",
       "\t\t<dd>0</dd>\n",
       "\t<dt>chest_pain</dt>\n",
       "\t\t<dd>0</dd>\n",
       "\t<dt>blood_pressure</dt>\n",
       "\t\t<dd>59</dd>\n",
       "\t<dt>cholesterol</dt>\n",
       "\t\t<dd>30</dd>\n",
       "\t<dt>blood_sugar</dt>\n",
       "\t\t<dd>90</dd>\n",
       "\t<dt>ecg</dt>\n",
       "\t\t<dd>2</dd>\n",
       "\t<dt>max_heart_rate</dt>\n",
       "\t\t<dd>55</dd>\n",
       "\t<dt>exercise_angina</dt>\n",
       "\t\t<dd>55</dd>\n",
       "\t<dt>exercise_ST_depress</dt>\n",
       "\t\t<dd>62</dd>\n",
       "\t<dt>slope_peak_ST</dt>\n",
       "\t\t<dd>309</dd>\n",
       "\t<dt>number_vessel_fluoroscopy</dt>\n",
       "\t\t<dd>611</dd>\n",
       "\t<dt>thal_defects</dt>\n",
       "\t\t<dd>486</dd>\n",
       "\t<dt>heart_disease_diagnosis</dt>\n",
       "\t\t<dd>0</dd>\n",
       "\t<dt>location</dt>\n",
       "\t\t<dd>0</dd>\n",
       "</dl>\n"
      ],
      "text/latex": [
       "\\begin{description*}\n",
       "\\item[age] 0\n",
       "\\item[sex] 0\n",
       "\\item[chest\\textbackslash{}\\_pain] 0\n",
       "\\item[blood\\textbackslash{}\\_pressure] 59\n",
       "\\item[cholesterol] 30\n",
       "\\item[blood\\textbackslash{}\\_sugar] 90\n",
       "\\item[ecg] 2\n",
       "\\item[max\\textbackslash{}\\_heart\\textbackslash{}\\_rate] 55\n",
       "\\item[exercise\\textbackslash{}\\_angina] 55\n",
       "\\item[exercise\\textbackslash{}\\_ST\\textbackslash{}\\_depress] 62\n",
       "\\item[slope\\textbackslash{}\\_peak\\textbackslash{}\\_ST] 309\n",
       "\\item[number\\textbackslash{}\\_vessel\\textbackslash{}\\_fluoroscopy] 611\n",
       "\\item[thal\\textbackslash{}\\_defects] 486\n",
       "\\item[heart\\textbackslash{}\\_disease\\textbackslash{}\\_diagnosis] 0\n",
       "\\item[location] 0\n",
       "\\end{description*}\n"
      ],
      "text/markdown": [
       "age\n",
       ":   0sex\n",
       ":   0chest_pain\n",
       ":   0blood_pressure\n",
       ":   59cholesterol\n",
       ":   30blood_sugar\n",
       ":   90ecg\n",
       ":   2max_heart_rate\n",
       ":   55exercise_angina\n",
       ":   55exercise_ST_depress\n",
       ":   62slope_peak_ST\n",
       ":   309number_vessel_fluoroscopy\n",
       ":   611thal_defects\n",
       ":   486heart_disease_diagnosis\n",
       ":   0location\n",
       ":   0\n",
       "\n"
      ],
      "text/plain": [
       "                      age                       sex                chest_pain \n",
       "                        0                         0                         0 \n",
       "           blood_pressure               cholesterol               blood_sugar \n",
       "                       59                        30                        90 \n",
       "                      ecg            max_heart_rate           exercise_angina \n",
       "                        2                        55                        55 \n",
       "      exercise_ST_depress             slope_peak_ST number_vessel_fluoroscopy \n",
       "                       62                       309                       611 \n",
       "             thal_defects   heart_disease_diagnosis                  location \n",
       "                      486                         0                         0 "
      ]
     },
     "metadata": {},
     "output_type": "display_data"
    }
   ],
   "source": [
    "cat('Number of Missing Data for Each Variable:')\n",
    "sapply(heart_disease_data, function(x) sum(is.na(x)))"
   ]
  },
  {
   "cell_type": "markdown",
   "metadata": {
    "hidden": true
   },
   "source": [
    "Overall there does not seem to be anything suspicious about the number of missing values. However, there is one important pitfall to be careful of. "
   ]
  },
  {
   "cell_type": "markdown",
   "metadata": {
    "hidden": true
   },
   "source": [
    "Take a look for variable `number_vessel_fluoroscopy`"
   ]
  },
  {
   "cell_type": "code",
   "execution_count": 123,
   "metadata": {
    "ExecuteTime": {
     "end_time": "2019-11-03T19:42:23.070152Z",
     "start_time": "2019-11-03T19:42:23.048Z"
    },
    "hidden": true
   },
   "outputs": [
    {
     "data": {
      "text/plain": [
       "\n",
       "0.0 1.0 2.0 3.0 \n",
       "181  67  41  20 "
      ]
     },
     "metadata": {},
     "output_type": "display_data"
    }
   ],
   "source": [
    "table(heart_disease_data$number_vessel_fluoroscopy)"
   ]
  },
  {
   "cell_type": "markdown",
   "metadata": {
    "hidden": true
   },
   "source": [
    "We can see there are a significant number of `?'s`. However R does not recognize these as missing. Lets fix this. "
   ]
  },
  {
   "cell_type": "code",
   "execution_count": 124,
   "metadata": {
    "ExecuteTime": {
     "end_time": "2019-11-03T19:42:23.129455Z",
     "start_time": "2019-11-03T19:42:23.100Z"
    },
    "hidden": true
   },
   "outputs": [
    {
     "data": {
      "text/plain": [
       "\n",
       " 0.0  1.0  2.0  3.0 <NA> \n",
       " 181   67   41   20  611 "
      ]
     },
     "metadata": {},
     "output_type": "display_data"
    }
   ],
   "source": [
    "heart_disease_data[heart_disease_data == '?'] <- NA\n",
    "table(heart_disease_data$number_vessel_fluoroscopy, exclude = NULL)"
   ]
  },
  {
   "cell_type": "markdown",
   "metadata": {
    "hidden": true
   },
   "source": [
    "Much better! Always be mindful that different dataset will code missing data differently. It isn't always a given that whatever statistical software you are using will recognize the data as missing. It's always important to inspect your data closely. "
   ]
  },
  {
   "cell_type": "markdown",
   "metadata": {
    "heading_collapsed": true,
    "hidden": true
   },
   "source": [
    "## Checking for Implausible Values"
   ]
  },
  {
   "cell_type": "markdown",
   "metadata": {
    "hidden": true
   },
   "source": [
    "Lets check our data for implausible values. Focus on the minimum and maximum values for the numeric output below. "
   ]
  },
  {
   "cell_type": "code",
   "execution_count": 125,
   "metadata": {
    "ExecuteTime": {
     "end_time": "2019-11-03T19:42:23.289663Z",
     "start_time": "2019-11-03T19:42:23.265Z"
    },
    "hidden": true
   },
   "outputs": [
    {
     "data": {
      "text/plain": [
       "      age            sex                 chest_pain  blood_pressure \n",
       " Min.   :28.00   Female:194   asymptomatic    :496   Min.   :  0.0  \n",
       " 1st Qu.:47.00   Male  :726   atypical angina :174   1st Qu.:120.0  \n",
       " Median :54.00                non-anginal pain:204   Median :130.0  \n",
       " Mean   :53.51                typical angina  : 46   Mean   :132.1  \n",
       " 3rd Qu.:60.00                                       3rd Qu.:140.0  \n",
       " Max.   :77.00                                       Max.   :200.0  \n",
       "                                                     NA's   :59     \n",
       "  cholesterol                       blood_sugar                        ecg     \n",
       " Min.   :  0.0   Fasting Blood Sugar < 120:692   normal                  :551  \n",
       " 1st Qu.:175.0   Fasting Blood Sugar > 120:138   Probable or definite LVH:188  \n",
       " Median :223.0   NA's                     : 90   ST-T wave abnormality   :179  \n",
       " Mean   :199.1                                   NA's                    :  2  \n",
       " 3rd Qu.:268.0                                                                 \n",
       " Max.   :603.0                                                                 \n",
       " NA's   :30                                                                    \n",
       " max_heart_rate  exercise_angina exercise_ST_depress     slope_peak_ST\n",
       " Min.   : 60.0   Negative:528    Min.   :-2.6000     Downsloping: 63  \n",
       " 1st Qu.:120.0   Positive:337    1st Qu.: 0.0000     Flat       :345  \n",
       " Median :140.0   NA's    : 55    Median : 0.5000     Upsloping  :203  \n",
       " Mean   :137.5                   Mean   : 0.8788     NA's       :309  \n",
       " 3rd Qu.:157.0                   3rd Qu.: 1.5000                      \n",
       " Max.   :202.0                   Max.   : 6.2000                      \n",
       " NA's   :55                      NA's   :62                           \n",
       " number_vessel_fluoroscopy            thal_defects     heart_disease_diagnosis\n",
       " 0.0 :181                  Fixed defect     : 46   Disease         :509       \n",
       " 1.0 : 67                  Normal           :196   No heart disease:411       \n",
       " 2.0 : 41                  Reversible defect:192                              \n",
       " 3.0 : 20                  NA's             :486                              \n",
       " NA's:611                                                                     \n",
       "                                                                              \n",
       "                                                                              \n",
       "          location  \n",
       " cleveland    :303  \n",
       " hungary      :294  \n",
       " switzerland  :123  \n",
       " long beach VA:200  \n",
       "                    \n",
       "                    \n",
       "                    "
      ]
     },
     "metadata": {},
     "output_type": "display_data"
    }
   ],
   "source": [
    "summary(heart_disease_data)"
   ]
  },
  {
   "cell_type": "markdown",
   "metadata": {
    "hidden": true
   },
   "source": [
    "Based on observation, we can make these initial judgements:\n",
    "\n",
    "`Blood Pressure:`\n",
    "- It's physiologically implausible for an individual to have a blood pressure of 0. This is likely an input error. \n",
    "\n",
    "`Cholesterol:`\n",
    "- It's physiologically implausible for an individual to have a cholesterol of 0. These are likely input errors.\n",
    "\n",
    "Lets examine these variables more closely"
   ]
  },
  {
   "cell_type": "code",
   "execution_count": 126,
   "metadata": {
    "ExecuteTime": {
     "end_time": "2019-11-03T19:42:23.355685Z",
     "start_time": "2019-11-03T19:42:23.324Z"
    },
    "hidden": true
   },
   "outputs": [
    {
     "name": "stdout",
     "output_type": "stream",
     "text": [
      "Blood Pressure:"
     ]
    },
    {
     "data": {
      "text/html": [
       "<dl class=dl-horizontal>\n",
       "\t<dt>0%</dt>\n",
       "\t\t<dd>0</dd>\n",
       "\t<dt>1%</dt>\n",
       "\t\t<dd>95</dd>\n",
       "\t<dt>5%</dt>\n",
       "\t\t<dd>105</dd>\n",
       "\t<dt>10%</dt>\n",
       "\t\t<dd>110</dd>\n",
       "\t<dt>25%</dt>\n",
       "\t\t<dd>120</dd>\n",
       "\t<dt>50%</dt>\n",
       "\t\t<dd>130</dd>\n",
       "\t<dt>75%</dt>\n",
       "\t\t<dd>140</dd>\n",
       "\t<dt>90%</dt>\n",
       "\t\t<dd>160</dd>\n",
       "\t<dt>95%</dt>\n",
       "\t\t<dd>160</dd>\n",
       "\t<dt>99%</dt>\n",
       "\t\t<dd>180</dd>\n",
       "\t<dt>100%</dt>\n",
       "\t\t<dd>200</dd>\n",
       "</dl>\n"
      ],
      "text/latex": [
       "\\begin{description*}\n",
       "\\item[0\\textbackslash{}\\%] 0\n",
       "\\item[1\\textbackslash{}\\%] 95\n",
       "\\item[5\\textbackslash{}\\%] 105\n",
       "\\item[10\\textbackslash{}\\%] 110\n",
       "\\item[25\\textbackslash{}\\%] 120\n",
       "\\item[50\\textbackslash{}\\%] 130\n",
       "\\item[75\\textbackslash{}\\%] 140\n",
       "\\item[90\\textbackslash{}\\%] 160\n",
       "\\item[95\\textbackslash{}\\%] 160\n",
       "\\item[99\\textbackslash{}\\%] 180\n",
       "\\item[100\\textbackslash{}\\%] 200\n",
       "\\end{description*}\n"
      ],
      "text/markdown": [
       "0%\n",
       ":   01%\n",
       ":   955%\n",
       ":   10510%\n",
       ":   11025%\n",
       ":   12050%\n",
       ":   13075%\n",
       ":   14090%\n",
       ":   16095%\n",
       ":   16099%\n",
       ":   180100%\n",
       ":   200\n",
       "\n"
      ],
      "text/plain": [
       "  0%   1%   5%  10%  25%  50%  75%  90%  95%  99% 100% \n",
       "   0   95  105  110  120  130  140  160  160  180  200 "
      ]
     },
     "metadata": {},
     "output_type": "display_data"
    },
    {
     "name": "stdout",
     "output_type": "stream",
     "text": [
      "Cholesterol:"
     ]
    },
    {
     "data": {
      "text/html": [
       "<dl class=dl-horizontal>\n",
       "\t<dt>0%</dt>\n",
       "\t\t<dd>0</dd>\n",
       "\t<dt>1%</dt>\n",
       "\t\t<dd>0</dd>\n",
       "\t<dt>5%</dt>\n",
       "\t\t<dd>0</dd>\n",
       "\t<dt>10%</dt>\n",
       "\t\t<dd>0</dd>\n",
       "\t<dt>25%</dt>\n",
       "\t\t<dd>175</dd>\n",
       "\t<dt>50%</dt>\n",
       "\t\t<dd>223</dd>\n",
       "\t<dt>75%</dt>\n",
       "\t\t<dd>268</dd>\n",
       "\t<dt>90%</dt>\n",
       "\t\t<dd>306</dd>\n",
       "\t<dt>95%</dt>\n",
       "\t\t<dd>334.1</dd>\n",
       "\t<dt>99%</dt>\n",
       "\t\t<dd>412.55</dd>\n",
       "\t<dt>100%</dt>\n",
       "\t\t<dd>603</dd>\n",
       "</dl>\n"
      ],
      "text/latex": [
       "\\begin{description*}\n",
       "\\item[0\\textbackslash{}\\%] 0\n",
       "\\item[1\\textbackslash{}\\%] 0\n",
       "\\item[5\\textbackslash{}\\%] 0\n",
       "\\item[10\\textbackslash{}\\%] 0\n",
       "\\item[25\\textbackslash{}\\%] 175\n",
       "\\item[50\\textbackslash{}\\%] 223\n",
       "\\item[75\\textbackslash{}\\%] 268\n",
       "\\item[90\\textbackslash{}\\%] 306\n",
       "\\item[95\\textbackslash{}\\%] 334.1\n",
       "\\item[99\\textbackslash{}\\%] 412.55\n",
       "\\item[100\\textbackslash{}\\%] 603\n",
       "\\end{description*}\n"
      ],
      "text/markdown": [
       "0%\n",
       ":   01%\n",
       ":   05%\n",
       ":   010%\n",
       ":   025%\n",
       ":   17550%\n",
       ":   22375%\n",
       ":   26890%\n",
       ":   30695%\n",
       ":   334.199%\n",
       ":   412.55100%\n",
       ":   603\n",
       "\n"
      ],
      "text/plain": [
       "    0%     1%     5%    10%    25%    50%    75%    90%    95%    99%   100% \n",
       "  0.00   0.00   0.00   0.00 175.00 223.00 268.00 306.00 334.10 412.55 603.00 "
      ]
     },
     "metadata": {},
     "output_type": "display_data"
    }
   ],
   "source": [
    "cat('Blood Pressure:')\n",
    "quantile(heart_disease_data$blood_pressure, c(0, .01, .05, .10, .25, .50, .75, .90, .95, .99, 1), \n",
    "         na.rm = TRUE)\n",
    "cat('Cholesterol:')\n",
    "quantile(heart_disease_data$cholesterol, c(0, .01, .05, .10, .25, .50, .75, .90, .95, .99, 1), \n",
    "         na.rm = TRUE)"
   ]
  },
  {
   "cell_type": "markdown",
   "metadata": {
    "hidden": true
   },
   "source": [
    "Based no this we can see that values of 0 are not even close to being in line with other values. Lets remove implausible values now."
   ]
  },
  {
   "cell_type": "code",
   "execution_count": 127,
   "metadata": {
    "ExecuteTime": {
     "end_time": "2019-11-03T19:42:23.403152Z",
     "start_time": "2019-11-03T19:42:23.379Z"
    },
    "hidden": true
   },
   "outputs": [
    {
     "name": "stdout",
     "output_type": "stream",
     "text": [
      "Values removed"
     ]
    }
   ],
   "source": [
    "heart_disease_data$blood_pressure[heart_disease_data$blood_pressure < 20] <- NA\n",
    "heart_disease_data$cholesterol[heart_disease_data$cholesterol < 20] <- NA\n",
    "\n",
    "cat('Values removed')"
   ]
  },
  {
   "cell_type": "markdown",
   "metadata": {
    "heading_collapsed": true,
    "hidden": true
   },
   "source": [
    "## Creating Clinically Relevant Variables"
   ]
  },
  {
   "cell_type": "markdown",
   "metadata": {
    "hidden": true
   },
   "source": [
    "Our data already includes several useful clinical measures/categories. However, cholesterol has been left as a raw lab value. Lets convert this into a more clinically useful. "
   ]
  },
  {
   "cell_type": "markdown",
   "metadata": {
    "heading_collapsed": true,
    "hidden": true
   },
   "source": [
    "### Cholesterol"
   ]
  },
  {
   "cell_type": "markdown",
   "metadata": {
    "hidden": true
   },
   "source": [
    "A person's total body cholesterol reveals the total amount of cholesterol and triglycerides in the blood. The high cholesterol can cause plaques to build up within blood vessels. This leads to arterial narrowing and eventually heart disease. For this reason, it's important for individuals to maintain healthy cholesterol levels to prevent heart disease. \n",
    "\n",
    "<img src=\"https://www.health.harvard.edu/media/content/images/cholesterol-blood-test-needle-dina2001iStock_79633563_MEDIUM.jpg\" style=\"width:450px;height:300px;\">"
   ]
  },
  {
   "cell_type": "markdown",
   "metadata": {
    "hidden": true,
    "solution2": "hidden",
    "solution2_first": true
   },
   "source": [
    "**Knowledge Check:** What are the clinical cut-offs for hypercholesterolnemia?"
   ]
  },
  {
   "cell_type": "markdown",
   "metadata": {
    "hidden": true,
    "solution2": "hidden"
   },
   "source": [
    "<center>\n",
    "\n",
    "| *Category*                      | *BMI Range (mg/dL)*     |\n",
    "| ------------------------------- | ----------------------- |\n",
    "| Normal                          | cholesterol < 200       |\n",
    "| Borderline Hypercholestrolnemia | 200 ≤ cholesterol < 240 |\n",
    "| Hypercholesterolnemia           | 240 ≤ cholesterol       |\n",
    "\n",
    "</center>"
   ]
  },
  {
   "cell_type": "markdown",
   "metadata": {
    "hidden": true
   },
   "source": [
    "Let create the new variable `cholesterol_status` based off these clinical cut-offs "
   ]
  },
  {
   "cell_type": "code",
   "execution_count": 128,
   "metadata": {
    "ExecuteTime": {
     "end_time": "2019-11-03T19:42:23.816353Z",
     "start_time": "2019-11-03T19:42:23.785Z"
    },
    "hidden": true
   },
   "outputs": [
    {
     "name": "stdout",
     "output_type": "stream",
     "text": [
      "'cholesterol_status' variable created!"
     ]
    }
   ],
   "source": [
    "# Create 'cholesterol_status'\n",
    "heart_disease_data <- mutate(heart_disease_data, cholesterol_status = ifelse(cholesterol < 200, 'Normal', \n",
    "                                        ifelse(cholesterol >= 200 & cholesterol < 240, 'Borderline Hypercholestrolnemia',\n",
    "                                              ifelse(cholesterol >= 240, 'Hypercholesterolnemia',\n",
    "                                                     NA))))\n",
    "\n",
    "# Convert from character to categorical\n",
    "heart_disease_data$cholesterol_status <- as.factor(heart_disease_data$cholesterol_status)\n",
    "\n",
    "cat('\\'cholesterol_status\\' variable created!')"
   ]
  },
  {
   "cell_type": "markdown",
   "metadata": {
    "hidden": true
   },
   "source": [
    "Let's confirm our results"
   ]
  },
  {
   "cell_type": "code",
   "execution_count": 129,
   "metadata": {
    "ExecuteTime": {
     "end_time": "2019-11-03T19:42:23.876186Z",
     "start_time": "2019-11-03T19:42:23.851Z"
    },
    "hidden": true
   },
   "outputs": [
    {
     "data": {
      "text/html": [
       "<table>\n",
       "<thead><tr><th scope=col>cholesterol</th><th scope=col>cholesterol_status</th></tr></thead>\n",
       "<tbody>\n",
       "\t<tr><td>233                            </td><td>Borderline Hypercholestrolnemia</td></tr>\n",
       "\t<tr><td>286                            </td><td>Hypercholesterolnemia          </td></tr>\n",
       "\t<tr><td>229                            </td><td>Borderline Hypercholestrolnemia</td></tr>\n",
       "\t<tr><td>250                            </td><td>Hypercholesterolnemia          </td></tr>\n",
       "\t<tr><td>204                            </td><td>Borderline Hypercholestrolnemia</td></tr>\n",
       "\t<tr><td>236                            </td><td>Borderline Hypercholestrolnemia</td></tr>\n",
       "</tbody>\n",
       "</table>\n"
      ],
      "text/latex": [
       "\\begin{tabular}{r|ll}\n",
       " cholesterol & cholesterol\\_status\\\\\n",
       "\\hline\n",
       "\t 233                             & Borderline Hypercholestrolnemia\\\\\n",
       "\t 286                             & Hypercholesterolnemia          \\\\\n",
       "\t 229                             & Borderline Hypercholestrolnemia\\\\\n",
       "\t 250                             & Hypercholesterolnemia          \\\\\n",
       "\t 204                             & Borderline Hypercholestrolnemia\\\\\n",
       "\t 236                             & Borderline Hypercholestrolnemia\\\\\n",
       "\\end{tabular}\n"
      ],
      "text/markdown": [
       "\n",
       "| cholesterol | cholesterol_status |\n",
       "|---|---|\n",
       "| 233                             | Borderline Hypercholestrolnemia |\n",
       "| 286                             | Hypercholesterolnemia           |\n",
       "| 229                             | Borderline Hypercholestrolnemia |\n",
       "| 250                             | Hypercholesterolnemia           |\n",
       "| 204                             | Borderline Hypercholestrolnemia |\n",
       "| 236                             | Borderline Hypercholestrolnemia |\n",
       "\n"
      ],
      "text/plain": [
       "  cholesterol cholesterol_status             \n",
       "1 233         Borderline Hypercholestrolnemia\n",
       "2 286         Hypercholesterolnemia          \n",
       "3 229         Borderline Hypercholestrolnemia\n",
       "4 250         Hypercholesterolnemia          \n",
       "5 204         Borderline Hypercholestrolnemia\n",
       "6 236         Borderline Hypercholestrolnemia"
      ]
     },
     "metadata": {},
     "output_type": "display_data"
    }
   ],
   "source": [
    "head(heart_disease_data[c('cholesterol', 'cholesterol_status')])"
   ]
  },
  {
   "cell_type": "markdown",
   "metadata": {
    "heading_collapsed": true,
    "hidden": true
   },
   "source": [
    "#### Limitations and Considerations when using Cholesterol"
   ]
  },
  {
   "cell_type": "markdown",
   "metadata": {
    "hidden": true
   },
   "source": [
    "It's important to note that total cholesterol does not tell the whole story. A person can have differnt types of cholesterol. There are primarily two important categories. Low-density lipoprotein (LDL) and high-density lipoprotein (HDL). LDL is referred to as 'bad cholesterol' because this is the cholesterol that can build up in arteries leading to plaques. HDL is referred to as 'good cholesterol' because this is the cholesterol that actually helps the body clear LDL cholesterol. Unfortunately, our data does not provide us the information to differentiate between the two. \n",
    "\n",
    "<img src=\"https://avitahealth.org/wp-content/uploads/2019/01/Cholesterol.jpg\" style=\"width:400px;height:267px;\">"
   ]
  },
  {
   "cell_type": "markdown",
   "metadata": {
    "heading_collapsed": true
   },
   "source": [
    "# Exploratory Data Analysis "
   ]
  },
  {
   "cell_type": "markdown",
   "metadata": {
    "hidden": true
   },
   "source": [
    "Now that we've cleaned our data we can begin exploring our data. Using this, we can see which features are good candidates for building our prediction model. Feature selection  will determine how good or how bad your model is. Bad feature selection can have a hugely negative impact on your model even if you used the most advanced techniques. Understanding the clinical nuances of your data can inform better feature selection"
   ]
  },
  {
   "cell_type": "markdown",
   "metadata": {
    "heading_collapsed": true,
    "hidden": true
   },
   "source": [
    "### Why Can't We Just Use All or Most Variables?"
   ]
  },
  {
   "cell_type": "markdown",
   "metadata": {
    "hidden": true
   },
   "source": [
    "One issue you might be wondering about is why do we even need to select variables. Why not just use all of the variables? After all, more data lead to better models right? This is a common misconception that even experienced analysts need to watch out for. Including too many features in your prediction model can lead to what is known as 'overfitting'. Overfitting is essentially where you build a model that adheres too closely to your current data set and is unable to predict observations that are not from your current data set. In other words, its where you develop a model that tuned too closely to your current data, and is not generalizable to outside data sources. \n",
    "\n",
    "<img src=\"https://3gp10c1vpy442j63me73gy3s-wpengine.netdna-ssl.com/wp-content/uploads/2018/03/Screen-Shot-2018-03-22-at-11.22.15-AM-e1527613915658.png\" align=\"center\" style=\"width: 50%; margin-bottom: 0.5em; margin-top: 0.5em;\">"
   ]
  },
  {
   "cell_type": "markdown",
   "metadata": {
    "heading_collapsed": true,
    "hidden": true
   },
   "source": [
    "### Getting A Closer Look At Our Data"
   ]
  },
  {
   "cell_type": "code",
   "execution_count": 130,
   "metadata": {
    "ExecuteTime": {
     "end_time": "2019-11-03T19:42:24.287327Z",
     "start_time": "2019-11-03T19:42:24.259Z"
    },
    "hidden": true
   },
   "outputs": [
    {
     "name": "stdout",
     "output_type": "stream",
     "text": [
      "'data.frame':\t920 obs. of  16 variables:\n",
      " $ age                      : num  63 67 67 37 41 56 62 57 63 53 ...\n",
      " $ sex                      : Factor w/ 2 levels \"Female\",\"Male\": 2 2 2 2 1 2 1 1 2 2 ...\n",
      " $ chest_pain               : Factor w/ 4 levels \"asymptomatic\",..: 4 1 1 3 2 2 1 1 1 1 ...\n",
      " $ blood_pressure           : num  145 160 120 130 130 120 140 120 130 140 ...\n",
      " $ cholesterol              : num  233 286 229 250 204 236 268 354 254 203 ...\n",
      " $ blood_sugar              : Factor w/ 2 levels \"Fasting Blood Sugar < 120\",..: 2 1 1 1 1 1 1 1 1 2 ...\n",
      " $ ecg                      : Factor w/ 3 levels \"normal\",\"Probable or definite LVH\",..: 2 2 2 1 2 1 2 1 2 2 ...\n",
      " $ max_heart_rate           : num  150 108 129 187 172 178 160 163 147 155 ...\n",
      " $ exercise_angina          : Factor w/ 2 levels \"Negative\",\"Positive\": 1 2 2 1 1 1 1 2 1 2 ...\n",
      " $ exercise_ST_depress      : num  2.3 1.5 2.6 3.5 1.4 0.8 3.6 0.6 1.4 3.1 ...\n",
      " $ slope_peak_ST            : Factor w/ 3 levels \"Downsloping\",..: 1 2 2 1 3 3 1 3 2 1 ...\n",
      " $ number_vessel_fluoroscopy: Factor w/ 4 levels \"0.0\",\"1.0\",\"2.0\",..: 1 4 3 1 1 1 3 1 2 1 ...\n",
      " $ thal_defects             : Factor w/ 3 levels \"Fixed defect\",..: 1 2 3 2 2 2 2 2 3 3 ...\n",
      " $ heart_disease_diagnosis  : Factor w/ 2 levels \"Disease\",\"No heart disease\": 2 1 1 2 2 2 1 2 1 1 ...\n",
      " $ location                 : Factor w/ 4 levels \"cleveland\",\"hungary\",..: 1 1 1 1 1 1 1 1 1 1 ...\n",
      " $ cholesterol_status       : Factor w/ 3 levels \"Borderline Hypercholestrolnemia\",..: 1 2 1 2 1 1 2 2 2 1 ...\n"
     ]
    }
   ],
   "source": [
    "str(heart_disease_data)"
   ]
  },
  {
   "cell_type": "code",
   "execution_count": 131,
   "metadata": {
    "ExecuteTime": {
     "end_time": "2019-11-03T19:42:24.314440Z",
     "start_time": "2019-11-03T19:42:24.262Z"
    },
    "hidden": true
   },
   "outputs": [
    {
     "data": {
      "text/plain": [
       "      age            sex                 chest_pain  blood_pressure \n",
       " Min.   :28.00   Female:194   asymptomatic    :496   Min.   : 80.0  \n",
       " 1st Qu.:47.00   Male  :726   atypical angina :174   1st Qu.:120.0  \n",
       " Median :54.00                non-anginal pain:204   Median :130.0  \n",
       " Mean   :53.51                typical angina  : 46   Mean   :132.3  \n",
       " 3rd Qu.:60.00                                       3rd Qu.:140.0  \n",
       " Max.   :77.00                                       Max.   :200.0  \n",
       "                                                     NA's   :60     \n",
       "  cholesterol                       blood_sugar                        ecg     \n",
       " Min.   : 85.0   Fasting Blood Sugar < 120:692   normal                  :551  \n",
       " 1st Qu.:210.0   Fasting Blood Sugar > 120:138   Probable or definite LVH:188  \n",
       " Median :239.5   NA's                     : 90   ST-T wave abnormality   :179  \n",
       " Mean   :246.8                                   NA's                    :  2  \n",
       " 3rd Qu.:276.8                                                                 \n",
       " Max.   :603.0                                                                 \n",
       " NA's   :202                                                                   \n",
       " max_heart_rate  exercise_angina exercise_ST_depress     slope_peak_ST\n",
       " Min.   : 60.0   Negative:528    Min.   :-2.6000     Downsloping: 63  \n",
       " 1st Qu.:120.0   Positive:337    1st Qu.: 0.0000     Flat       :345  \n",
       " Median :140.0   NA's    : 55    Median : 0.5000     Upsloping  :203  \n",
       " Mean   :137.5                   Mean   : 0.8788     NA's       :309  \n",
       " 3rd Qu.:157.0                   3rd Qu.: 1.5000                      \n",
       " Max.   :202.0                   Max.   : 6.2000                      \n",
       " NA's   :55                      NA's   :62                           \n",
       " number_vessel_fluoroscopy            thal_defects     heart_disease_diagnosis\n",
       " 0.0 :181                  Fixed defect     : 46   Disease         :509       \n",
       " 1.0 : 67                  Normal           :196   No heart disease:411       \n",
       " 2.0 : 41                  Reversible defect:192                              \n",
       " 3.0 : 20                  NA's             :486                              \n",
       " NA's:611                                                                     \n",
       "                                                                              \n",
       "                                                                              \n",
       "          location                         cholesterol_status\n",
       " cleveland    :303   Borderline Hypercholestrolnemia:231     \n",
       " hungary      :294   Hypercholesterolnemia          :359     \n",
       " switzerland  :123   Normal                         :128     \n",
       " long beach VA:200   NA's                           :202     \n",
       "                                                             \n",
       "                                                             \n",
       "                                                             "
      ]
     },
     "metadata": {},
     "output_type": "display_data"
    }
   ],
   "source": [
    "summary(heart_disease_data)"
   ]
  },
  {
   "cell_type": "markdown",
   "metadata": {
    "hidden": true
   },
   "source": [
    "This hand summary page presents us with quite a bit of data. The first thing to realize is that the output will differ based on whether the variable is numeric or categorical. Numeric outputs will include summary statistics while categorical variables will include frequency counts of each category. \n",
    "\n",
    "These summaries will be a useful reference throughout our exploratory data analysis. "
   ]
  },
  {
   "cell_type": "markdown",
   "metadata": {
    "heading_collapsed": true,
    "hidden": true
   },
   "source": [
    "## Assessing Missing Values"
   ]
  },
  {
   "cell_type": "code",
   "execution_count": 132,
   "metadata": {
    "ExecuteTime": {
     "end_time": "2019-11-03T19:42:24.407559Z",
     "start_time": "2019-11-03T19:42:24.380Z"
    },
    "hidden": true
   },
   "outputs": [
    {
     "name": "stdout",
     "output_type": "stream",
     "text": [
      "Number of Missing Data for Each Variable:"
     ]
    },
    {
     "data": {
      "text/html": [
       "<dl class=dl-horizontal>\n",
       "\t<dt>age</dt>\n",
       "\t\t<dd>0</dd>\n",
       "\t<dt>sex</dt>\n",
       "\t\t<dd>0</dd>\n",
       "\t<dt>chest_pain</dt>\n",
       "\t\t<dd>0</dd>\n",
       "\t<dt>blood_pressure</dt>\n",
       "\t\t<dd>60</dd>\n",
       "\t<dt>cholesterol</dt>\n",
       "\t\t<dd>202</dd>\n",
       "\t<dt>blood_sugar</dt>\n",
       "\t\t<dd>90</dd>\n",
       "\t<dt>ecg</dt>\n",
       "\t\t<dd>2</dd>\n",
       "\t<dt>max_heart_rate</dt>\n",
       "\t\t<dd>55</dd>\n",
       "\t<dt>exercise_angina</dt>\n",
       "\t\t<dd>55</dd>\n",
       "\t<dt>exercise_ST_depress</dt>\n",
       "\t\t<dd>62</dd>\n",
       "\t<dt>slope_peak_ST</dt>\n",
       "\t\t<dd>309</dd>\n",
       "\t<dt>number_vessel_fluoroscopy</dt>\n",
       "\t\t<dd>611</dd>\n",
       "\t<dt>thal_defects</dt>\n",
       "\t\t<dd>486</dd>\n",
       "\t<dt>heart_disease_diagnosis</dt>\n",
       "\t\t<dd>0</dd>\n",
       "\t<dt>location</dt>\n",
       "\t\t<dd>0</dd>\n",
       "\t<dt>cholesterol_status</dt>\n",
       "\t\t<dd>202</dd>\n",
       "</dl>\n"
      ],
      "text/latex": [
       "\\begin{description*}\n",
       "\\item[age] 0\n",
       "\\item[sex] 0\n",
       "\\item[chest\\textbackslash{}\\_pain] 0\n",
       "\\item[blood\\textbackslash{}\\_pressure] 60\n",
       "\\item[cholesterol] 202\n",
       "\\item[blood\\textbackslash{}\\_sugar] 90\n",
       "\\item[ecg] 2\n",
       "\\item[max\\textbackslash{}\\_heart\\textbackslash{}\\_rate] 55\n",
       "\\item[exercise\\textbackslash{}\\_angina] 55\n",
       "\\item[exercise\\textbackslash{}\\_ST\\textbackslash{}\\_depress] 62\n",
       "\\item[slope\\textbackslash{}\\_peak\\textbackslash{}\\_ST] 309\n",
       "\\item[number\\textbackslash{}\\_vessel\\textbackslash{}\\_fluoroscopy] 611\n",
       "\\item[thal\\textbackslash{}\\_defects] 486\n",
       "\\item[heart\\textbackslash{}\\_disease\\textbackslash{}\\_diagnosis] 0\n",
       "\\item[location] 0\n",
       "\\item[cholesterol\\textbackslash{}\\_status] 202\n",
       "\\end{description*}\n"
      ],
      "text/markdown": [
       "age\n",
       ":   0sex\n",
       ":   0chest_pain\n",
       ":   0blood_pressure\n",
       ":   60cholesterol\n",
       ":   202blood_sugar\n",
       ":   90ecg\n",
       ":   2max_heart_rate\n",
       ":   55exercise_angina\n",
       ":   55exercise_ST_depress\n",
       ":   62slope_peak_ST\n",
       ":   309number_vessel_fluoroscopy\n",
       ":   611thal_defects\n",
       ":   486heart_disease_diagnosis\n",
       ":   0location\n",
       ":   0cholesterol_status\n",
       ":   202\n",
       "\n"
      ],
      "text/plain": [
       "                      age                       sex                chest_pain \n",
       "                        0                         0                         0 \n",
       "           blood_pressure               cholesterol               blood_sugar \n",
       "                       60                       202                        90 \n",
       "                      ecg            max_heart_rate           exercise_angina \n",
       "                        2                        55                        55 \n",
       "      exercise_ST_depress             slope_peak_ST number_vessel_fluoroscopy \n",
       "                       62                       309                       611 \n",
       "             thal_defects   heart_disease_diagnosis                  location \n",
       "                      486                         0                         0 \n",
       "       cholesterol_status \n",
       "                      202 "
      ]
     },
     "metadata": {},
     "output_type": "display_data"
    }
   ],
   "source": [
    "# Determine number of missing for each variable\n",
    "cat('Number of Missing Data for Each Variable:')\n",
    "sapply(heart_disease_data, function(x) sum(is.na(x)))"
   ]
  },
  {
   "cell_type": "markdown",
   "metadata": {
    "hidden": true
   },
   "source": [
    "The first indicator of whether a variable would be a good candidate for being a building block of our prediction model is the number of missing values. We can see numerous variables with missing values. `thal_defect` and `num_vessel_fluoroscopy` have too many missing value to be considered for our data set. (They have more than 50% missing values)\n",
    "\n",
    "There are varying interpretations of what constitutes a significant amount of missing data. For our purpose we will consider any variable with >10% of it's values missing as having a significant number of missing observations. "
   ]
  },
  {
   "cell_type": "markdown",
   "metadata": {
    "hidden": true,
    "solution2": "hidden",
    "solution2_first": true
   },
   "source": [
    "Why is using variables with significant amounts of missing data problematic for making predictions?"
   ]
  },
  {
   "cell_type": "markdown",
   "metadata": {
    "hidden": true,
    "solution2": "hidden"
   },
   "source": [
    "Missing data can bias the results of our analysis. For instance, say that the individuals that did not respond about smoking status refused to respond because they were embarrassed of their smoking habit. This might make smoking individuals more likely to be smokers compared to individuals that responded to the survey. \n",
    "\n",
    "In summary, missing data can be problematic, especially if the missing group is somehow different from the non-missing group. "
   ]
  },
  {
   "cell_type": "markdown",
   "metadata": {
    "hidden": true
   },
   "source": [
    "The next step will then be to determine whether the data missing is simply the result of random chance or not. If the result is simply due to random chance, this is problematic since it will be less likely to bias our results. However, if there missing values don't appear be due to random chance, this is more problematic. \n",
    "\n",
    "If there something different about the missing group (ie. there is a hidden reason the data is missing), this may bias your outcome. This would lead to incorrect predictions!"
   ]
  },
  {
   "cell_type": "markdown",
   "metadata": {
    "hidden": true
   },
   "source": [
    "Lets split `cholesterol_status` and `slope_peak_ST` into missing and not missing"
   ]
  },
  {
   "cell_type": "code",
   "execution_count": 133,
   "metadata": {
    "ExecuteTime": {
     "end_time": "2019-11-03T19:42:24.715439Z",
     "start_time": "2019-11-03T19:42:24.664Z"
    },
    "hidden": true
   },
   "outputs": [
    {
     "name": "stdout",
     "output_type": "stream",
     "text": [
      "Cholesterol:"
     ]
    },
    {
     "data": {
      "text/plain": [
       "\n",
       "Not Missing     Missing \n",
       "        718         202 "
      ]
     },
     "metadata": {},
     "output_type": "display_data"
    },
    {
     "name": "stdout",
     "output_type": "stream",
     "text": [
      "ST segment slope:"
     ]
    },
    {
     "data": {
      "text/plain": [
       "\n",
       "Not Missing     Missing \n",
       "        611         309 "
      ]
     },
     "metadata": {},
     "output_type": "display_data"
    }
   ],
   "source": [
    "# Split cholesterol_status Into Null or Not\n",
    "heart_disease_data <- mutate(heart_disease_data, cholesterol_miss = ifelse(cholesterol_status == 'NA', 'Missing', 'Not Missing'))\n",
    "heart_disease_data$cholesterol_miss <- invisible(fct_explicit_na(heart_disease_data$cholesterol_miss, na_level = 'Missing'))\n",
    "heart_disease_data$ST_miss <- as.factor(heart_disease_data$cholesterol_miss)\n",
    "\n",
    "# Split slope_peak_st Into Null or Not\n",
    "heart_disease_data <- mutate(heart_disease_data, ST_miss = ifelse(slope_peak_ST == 'NA', 'Missing', 'Not Missing'))\n",
    "heart_disease_data$ST_miss <- invisible(fct_explicit_na(heart_disease_data$ST_miss, na_level = 'Missing'))\n",
    "heart_disease_data$ST_miss <- as.factor(heart_disease_data$ST_miss)\n",
    "\n",
    "# Confirm results\n",
    "cat('Cholesterol:')\n",
    "table(heart_disease_data$cholesterol_miss)\n",
    "cat('ST segment slope:')\n",
    "table(heart_disease_data$ST_miss)"
   ]
  },
  {
   "cell_type": "markdown",
   "metadata": {
    "hidden": true
   },
   "source": [
    "Now we can test whether the incidence of heart disease differs significantly between individuals who have cholesterol test results and those who don't."
   ]
  },
  {
   "cell_type": "code",
   "execution_count": 134,
   "metadata": {
    "ExecuteTime": {
     "end_time": "2019-11-03T19:42:24.772242Z",
     "start_time": "2019-11-03T19:42:24.735Z"
    },
    "hidden": true
   },
   "outputs": [
    {
     "data": {
      "text/plain": [
       "             \n",
       "              Disease No heart disease\n",
       "  Not Missing     346              372\n",
       "  Missing         163               39"
      ]
     },
     "metadata": {},
     "output_type": "display_data"
    },
    {
     "data": {
      "text/plain": [
       "\n",
       "\tPearson's Chi-squared test with Yates' continuity correction\n",
       "\n",
       "data:  heart_disease_data$heart_disease_diagnosis and heart_disease_data$cholesterol_miss\n",
       "X-squared = 66.077, df = 1, p-value = 4.336e-16\n"
      ]
     },
     "metadata": {},
     "output_type": "display_data"
    }
   ],
   "source": [
    "table(heart_disease_data$cholesterol_miss, heart_disease_data$heart_disease_diagnosis)\n",
    "chisq.test(heart_disease_data$heart_disease_diagnosis, heart_disease_data$cholesterol_miss)"
   ]
  },
  {
   "cell_type": "markdown",
   "metadata": {
    "hidden": true
   },
   "source": [
    "We can see that the missing whether or not data is available about cholesterol significantly affects the results. This is unfortunate. Clinically, it has been well-documented that cholesterol status has a large effect on heart disease incidence. However, our analysis indicates that including this data, which has so many missing data, would bias our model. Despite our clinical intuition suggesting cholesterol status would be a good candidate, the data is not robust enough to support a prediction model. "
   ]
  },
  {
   "cell_type": "code",
   "execution_count": 135,
   "metadata": {
    "ExecuteTime": {
     "end_time": "2019-11-03T19:42:24.843288Z",
     "start_time": "2019-11-03T19:42:24.811Z"
    },
    "hidden": true
   },
   "outputs": [
    {
     "data": {
      "text/plain": [
       "             \n",
       "              Disease No heart disease\n",
       "  Not Missing     393              218\n",
       "  Missing         116              193"
      ]
     },
     "metadata": {},
     "output_type": "display_data"
    },
    {
     "data": {
      "text/plain": [
       "\n",
       "\tPearson's Chi-squared test with Yates' continuity correction\n",
       "\n",
       "data:  heart_disease_data$heart_disease_diagnosis and heart_disease_data$ST_miss\n",
       "X-squared = 58.468, df = 1, p-value = 2.066e-14\n"
      ]
     },
     "metadata": {},
     "output_type": "display_data"
    }
   ],
   "source": [
    "table(heart_disease_data$ST_miss, heart_disease_data$heart_disease_diagnosis)\n",
    "chisq.test(heart_disease_data$heart_disease_diagnosis, heart_disease_data$ST_miss)"
   ]
  },
  {
   "cell_type": "markdown",
   "metadata": {
    "hidden": true
   },
   "source": [
    "We can see that the missing whether or not data is available about ST elevation status significantly affects the results. For the same reason we cannot include this variable in our model. "
   ]
  },
  {
   "cell_type": "markdown",
   "metadata": {
    "hidden": true,
    "solution2": "hidden",
    "solution2_first": true
   },
   "source": [
    "**Knowledge Check:** To check whether the missing or non-misisng group differed we used a chi-squared test. What is a chi-squared test? Is a chi-squared test used for numeric or categorical variables?"
   ]
  },
  {
   "cell_type": "markdown",
   "metadata": {
    "heading_collapsed": true,
    "hidden": true
   },
   "source": [
    "## Assess Numeric Variables"
   ]
  },
  {
   "cell_type": "markdown",
   "metadata": {
    "hidden": true,
    "solution2": "hidden"
   },
   "source": [
    "A chi-square test is a statistical test that tells you whether groups of observations are different. For instance, say you're researching two companies and you divide them either as male or female. The number of males compared to females in the two companies differ but how can you tell that this is not random chance? A chi-squared test can be used to differentiate whether the **observed** number of males and females in your study differs from the **expected** number of males and females. \n",
    "\n",
    "> Note: Chi-square tests can only be used for categorical variables. There are seperate tests to determine whether numerical numbers differ form one another. These additional tests are beyond the scope of the case. "
   ]
  },
  {
   "cell_type": "markdown",
   "metadata": {
    "hidden": true
   },
   "source": [
    "Lets take a look at our other variables"
   ]
  },
  {
   "cell_type": "code",
   "execution_count": 136,
   "metadata": {
    "ExecuteTime": {
     "end_time": "2019-11-03T19:42:25.149812Z",
     "start_time": "2019-11-03T19:42:25.117Z"
    },
    "hidden": true
   },
   "outputs": [
    {
     "name": "stdout",
     "output_type": "stream",
     "text": [
      "'data.frame':\t920 obs. of  18 variables:\n",
      " $ age                      : num  63 67 67 37 41 56 62 57 63 53 ...\n",
      " $ sex                      : Factor w/ 2 levels \"Female\",\"Male\": 2 2 2 2 1 2 1 1 2 2 ...\n",
      " $ chest_pain               : Factor w/ 4 levels \"asymptomatic\",..: 4 1 1 3 2 2 1 1 1 1 ...\n",
      " $ blood_pressure           : num  145 160 120 130 130 120 140 120 130 140 ...\n",
      " $ cholesterol              : num  233 286 229 250 204 236 268 354 254 203 ...\n",
      " $ blood_sugar              : Factor w/ 2 levels \"Fasting Blood Sugar < 120\",..: 2 1 1 1 1 1 1 1 1 2 ...\n",
      " $ ecg                      : Factor w/ 3 levels \"normal\",\"Probable or definite LVH\",..: 2 2 2 1 2 1 2 1 2 2 ...\n",
      " $ max_heart_rate           : num  150 108 129 187 172 178 160 163 147 155 ...\n",
      " $ exercise_angina          : Factor w/ 2 levels \"Negative\",\"Positive\": 1 2 2 1 1 1 1 2 1 2 ...\n",
      " $ exercise_ST_depress      : num  2.3 1.5 2.6 3.5 1.4 0.8 3.6 0.6 1.4 3.1 ...\n",
      " $ slope_peak_ST            : Factor w/ 3 levels \"Downsloping\",..: 1 2 2 1 3 3 1 3 2 1 ...\n",
      " $ number_vessel_fluoroscopy: Factor w/ 4 levels \"0.0\",\"1.0\",\"2.0\",..: 1 4 3 1 1 1 3 1 2 1 ...\n",
      " $ thal_defects             : Factor w/ 3 levels \"Fixed defect\",..: 1 2 3 2 2 2 2 2 3 3 ...\n",
      " $ heart_disease_diagnosis  : Factor w/ 2 levels \"Disease\",\"No heart disease\": 2 1 1 2 2 2 1 2 1 1 ...\n",
      " $ location                 : Factor w/ 4 levels \"cleveland\",\"hungary\",..: 1 1 1 1 1 1 1 1 1 1 ...\n",
      " $ cholesterol_status       : Factor w/ 3 levels \"Borderline Hypercholestrolnemia\",..: 1 2 1 2 1 1 2 2 2 1 ...\n",
      " $ cholesterol_miss         : Factor w/ 2 levels \"Not Missing\",..: 1 1 1 1 1 1 1 1 1 1 ...\n",
      " $ ST_miss                  : Factor w/ 2 levels \"Not Missing\",..: 1 1 1 1 1 1 1 1 1 1 ...\n"
     ]
    }
   ],
   "source": [
    "str(heart_disease_data)"
   ]
  },
  {
   "cell_type": "markdown",
   "metadata": {
    "hidden": true
   },
   "source": [
    "We can see that there are a couple numeric variables. However, the only ones we would consider are `blood_pressure`, `max_heart_rate`, and `exercise_ST_depress` measurements since the `cholesterol` has a newer and more clinically relevant variable available. \n",
    "\n",
    "Lets take a look at the distributions of these variables. "
   ]
  },
  {
   "cell_type": "code",
   "execution_count": 148,
   "metadata": {
    "ExecuteTime": {
     "end_time": "2019-11-03T19:49:14.616575Z",
     "start_time": "2019-11-03T19:49:13.746Z"
    },
    "hidden": true
   },
   "outputs": [
    {
     "name": "stderr",
     "output_type": "stream",
     "text": [
      "Warning message:\n",
      "\"Removed 60 rows containing non-finite values (stat_bin).\"Warning message:\n",
      "\"Removed 55 rows containing non-finite values (stat_bin).\"Warning message:\n",
      "\"Removed 62 rows containing non-finite values (stat_bin).\""
     ]
    },
    {
     "data": {
      "image/png": "[encoded data removed]",
      "text/plain": [
       "plot without title"
      ]
     },
     "metadata": {},
     "output_type": "display_data"
    }
   ],
   "source": [
    "# Create Plot\n",
    "age_plot <- ggplot(heart_disease_data, aes(x=age)) +\n",
    "geom_histogram(alpha = 0.5, position = 'identity', bins=30, color ='black ', fill='light blue') +\n",
    "labs(x='Age (years)', y='Frequency Count', caption = 'Dashed Line Represents Median Age')\n",
    "\n",
    "# Display + Median Line\n",
    " age_plot <- age_plot + geom_vline(aes(xintercept=median(age, na.rm = TRUE)),\n",
    "            color=\"blue\", linetype=\"dashed\", size=1)\n",
    "\n",
    "# Create Plot\n",
    "bp_plot <- ggplot(heart_disease_data, aes(x=blood_pressure)) +\n",
    "geom_histogram(alpha = 0.5, position = 'identity', bins=30, color ='black ', fill='light blue') +\n",
    "labs(x='Blood Pressure (mmHg)', y='Frequency Count', caption = 'Dashed Line Represents Median Blood Pressure')\n",
    "\n",
    "# Display + Median Line\n",
    " bp_plot <- bp_plot + geom_vline(aes(xintercept=median(blood_pressure, na.rm = TRUE)),\n",
    "            color=\"blue\", linetype=\"dashed\", size=1)\n",
    "\n",
    "# Create Plot\n",
    "hr_plot <- ggplot(heart_disease_data, aes(x=max_heart_rate)) +\n",
    "geom_histogram(alpha = 0.5, position = 'identity', bins=30, color ='black ', fill='light blue') +\n",
    "labs(x='Max Heart Rate (bpm)', y='Frequency Count', caption = 'Dashed Line Represents Median Max Heart Rate')\n",
    "\n",
    "# Display + Median Line\n",
    "hr_plot <- hr_plot + geom_vline(aes(xintercept=median(max_heart_rate, na.rm = TRUE)),\n",
    "            color=\"blue\", linetype=\"dashed\", size=1)\n",
    "\n",
    "# Create Plot\n",
    "ST_plot <- ggplot(heart_disease_data, aes(x=exercise_ST_depress)) +\n",
    "geom_histogram(alpha = 0.5, position = 'identity', bins=30, color ='black ', fill='light blue') +\n",
    "labs(x='ST Depression (mm)', y='Frequency Count', caption = 'Dashed Line Represents Median ST Depression')\n",
    "\n",
    "# Display + Median Line\n",
    "ST_plot <- ST_plot + geom_vline(aes(xintercept=median(exercise_ST_depress, na.rm = TRUE)),\n",
    "            color=\"blue\", linetype=\"dashed\", size=1)\n",
    "\n",
    "plot_grid(age_plot, bp_plot, hr_plot, ST_plot)"
   ]
  },
  {
   "cell_type": "markdown",
   "metadata": {
    "hidden": true
   },
   "source": [
    "There does not appear to be any extreme values or prominent clusters. Now lets see if theres a relationship between these variables and heart disease diagnosis. "
   ]
  },
  {
   "cell_type": "code",
   "execution_count": 149,
   "metadata": {
    "ExecuteTime": {
     "end_time": "2019-11-03T19:49:56.564359Z",
     "start_time": "2019-11-03T19:49:55.424Z"
    },
    "hidden": true
   },
   "outputs": [
    {
     "name": "stderr",
     "output_type": "stream",
     "text": [
      "Warning message:\n",
      "\"Removed 60 rows containing non-finite values (stat_ydensity).\"Warning message:\n",
      "\"Removed 60 rows containing non-finite values (stat_summary).\"Warning message:\n",
      "\"Removed 55 rows containing non-finite values (stat_ydensity).\"Warning message:\n",
      "\"Removed 55 rows containing non-finite values (stat_summary).\"Warning message:\n",
      "\"Removed 62 rows containing non-finite values (stat_ydensity).\"Warning message:\n",
      "\"Removed 62 rows containing non-finite values (stat_summary).\""
     ]
    },
    {
     "data": {
      "image/png": "[encoded data removed]",
      "text/plain": [
       "plot without title"
      ]
     },
     "metadata": {},
     "output_type": "display_data"
    }
   ],
   "source": [
    "# Create Plot\n",
    "violin_plot_age <- ggplot(heart_disease_data, aes(x=heart_disease_diagnosis, y=age, \n",
    "                                                 color = heart_disease_diagnosis, fill = heart_disease_diagnosis)) + \n",
    "geom_violin(alpha = 0.3, trim = FALSE) + # By default tails are trimmed\n",
    "stat_summary(fun.y=median, geom=\"point\", shape = 23, size = 2) +\n",
    "theme(legend.position='none') +\n",
    "labs(y='Age (years)', x='Heart Diseas Diagnosis', \n",
    "     caption = 'The dots in the center of each violin plot represent median age of each group') +\n",
    "coord_flip()\n",
    "\n",
    "# Create Plot\n",
    "violin_plot_bp <- ggplot(heart_disease_data, aes(x=heart_disease_diagnosis, y=blood_pressure, \n",
    "                                                 color = heart_disease_diagnosis, fill = heart_disease_diagnosis)) + \n",
    "geom_violin(alpha = 0.3, trim = FALSE) + # By default tails are trimmed\n",
    "stat_summary(fun.y=median, geom=\"point\", shape = 23, size = 2) +\n",
    "theme(legend.position='none') +\n",
    "labs(y='Blood Pressure', x='Heart Disease Diagnosis', \n",
    "     caption = 'The dots in the center of each violin plot represent median blood pressure of each group') +\n",
    "coord_flip()\n",
    "\n",
    "# Create Plot\n",
    "violin_plot_hr <- ggplot(heart_disease_data, aes(x=heart_disease_diagnosis, y=max_heart_rate, \n",
    "                                                 color = heart_disease_diagnosis, fill = heart_disease_diagnosis)) + \n",
    "geom_violin(alpha = 0.3, trim = FALSE) + # By default tails are trimmed\n",
    "stat_summary(fun.y=median, geom=\"point\", shape = 23, size = 2) +\n",
    "theme(legend.position='none') +\n",
    "labs(y='Max Heart Rate', x='Heart Disease Diagnosis', \n",
    "     caption = 'The dots in the center of each violin plot represent median max heart rate of each group') +\n",
    "coord_flip()\n",
    "\n",
    "# Create Plot\n",
    "violin_plot_ST <- ggplot(heart_disease_data, aes(x=heart_disease_diagnosis, y=exercise_ST_depress, \n",
    "                                                 color = heart_disease_diagnosis, fill = heart_disease_diagnosis)) + \n",
    "geom_violin(alpha = 0.3, trim = FALSE) + # By default tails are trimmed\n",
    "stat_summary(fun.y=median, geom=\"point\", shape = 23, size = 2) +\n",
    "theme(legend.position='none') +\n",
    "labs(y='ST Depression', x='Heart Disead Diagnosis', \n",
    "     caption = 'The dots in the center of each violin plot represent median ST segment depression of each group') +\n",
    "coord_flip()\n",
    "\n",
    "plot_grid(violin_plot_age, violin_plot_bp, violin_plot_hr, violin_plot_ST, ncol = 1)"
   ]
  },
  {
   "cell_type": "markdown",
   "metadata": {
    "hidden": true
   },
   "source": [
    "The results indicate all three variables have different distribution (to varying degrees) depending on whether the patient has a heart disease diagnosis or not. This indicates that these variables have an effect on whether a patient has heart disease and are good candidate features (variables) for our model. "
   ]
  },
  {
   "cell_type": "markdown",
   "metadata": {
    "heading_collapsed": true,
    "hidden": true
   },
   "source": [
    "## Assessing Categorical Variables "
   ]
  },
  {
   "cell_type": "markdown",
   "metadata": {
    "hidden": true
   },
   "source": [
    "Finally lets look at our remaining variables. "
   ]
  },
  {
   "cell_type": "code",
   "execution_count": 139,
   "metadata": {
    "ExecuteTime": {
     "end_time": "2019-11-03T19:42:27.271599Z",
     "start_time": "2019-11-03T19:42:25.463Z"
    },
    "hidden": true
   },
   "outputs": [
    {
     "name": "stdout",
     "output_type": "stream",
     "text": [
      "'data.frame':\t920 obs. of  18 variables:\n",
      " $ age                      : num  63 67 67 37 41 56 62 57 63 53 ...\n",
      " $ sex                      : Factor w/ 2 levels \"Female\",\"Male\": 2 2 2 2 1 2 1 1 2 2 ...\n",
      " $ chest_pain               : Factor w/ 4 levels \"asymptomatic\",..: 4 1 1 3 2 2 1 1 1 1 ...\n",
      " $ blood_pressure           : num  145 160 120 130 130 120 140 120 130 140 ...\n",
      " $ cholesterol              : num  233 286 229 250 204 236 268 354 254 203 ...\n",
      " $ blood_sugar              : Factor w/ 2 levels \"Fasting Blood Sugar < 120\",..: 2 1 1 1 1 1 1 1 1 2 ...\n",
      " $ ecg                      : Factor w/ 3 levels \"normal\",\"Probable or definite LVH\",..: 2 2 2 1 2 1 2 1 2 2 ...\n",
      " $ max_heart_rate           : num  150 108 129 187 172 178 160 163 147 155 ...\n",
      " $ exercise_angina          : Factor w/ 2 levels \"Negative\",\"Positive\": 1 2 2 1 1 1 1 2 1 2 ...\n",
      " $ exercise_ST_depress      : num  2.3 1.5 2.6 3.5 1.4 0.8 3.6 0.6 1.4 3.1 ...\n",
      " $ slope_peak_ST            : Factor w/ 3 levels \"Downsloping\",..: 1 2 2 1 3 3 1 3 2 1 ...\n",
      " $ number_vessel_fluoroscopy: Factor w/ 4 levels \"0.0\",\"1.0\",\"2.0\",..: 1 4 3 1 1 1 3 1 2 1 ...\n",
      " $ thal_defects             : Factor w/ 3 levels \"Fixed defect\",..: 1 2 3 2 2 2 2 2 3 3 ...\n",
      " $ heart_disease_diagnosis  : Factor w/ 2 levels \"Disease\",\"No heart disease\": 2 1 1 2 2 2 1 2 1 1 ...\n",
      " $ location                 : Factor w/ 4 levels \"cleveland\",\"hungary\",..: 1 1 1 1 1 1 1 1 1 1 ...\n",
      " $ cholesterol_status       : Factor w/ 3 levels \"Borderline Hypercholestrolnemia\",..: 1 2 1 2 1 1 2 2 2 1 ...\n",
      " $ cholesterol_miss         : Factor w/ 2 levels \"Not Missing\",..: 1 1 1 1 1 1 1 1 1 1 ...\n",
      " $ ST_miss                  : Factor w/ 2 levels \"Not Missing\",..: 1 1 1 1 1 1 1 1 1 1 ...\n"
     ]
    }
   ],
   "source": [
    "str(heart_disease_data)"
   ]
  },
  {
   "cell_type": "markdown",
   "metadata": {
    "hidden": true
   },
   "source": [
    "We're interest in categorical variables now. We should be able to observe their effect on heart disease using stacked bar plots. "
   ]
  },
  {
   "cell_type": "code",
   "execution_count": 140,
   "metadata": {
    "ExecuteTime": {
     "end_time": "2019-11-03T19:42:28.389693Z",
     "start_time": "2019-11-03T19:42:25.535Z"
    },
    "hidden": true
   },
   "outputs": [
    {
     "data": {
      "image/png": "[encoded data removed]",
      "text/plain": [
       "plot without title"
      ]
     },
     "metadata": {},
     "output_type": "display_data"
    },
    {
     "data": {
      "image/png": "[encoded data removed]",
      "text/plain": [
       "plot without title"
      ]
     },
     "metadata": {},
     "output_type": "display_data"
    }
   ],
   "source": [
    "p1 <- ggplot(heart_disease_data, aes(x=sex, fill = heart_disease_diagnosis)) + \n",
    "geom_bar(position='fill') +\n",
    "labs(y='Heart Disease Diagnosis', x='Sex', fill = \"Heart Disease Diagnosis\") +\n",
    "theme(legend.position = 'none') + theme(axis.title.y=element_blank())\n",
    "\n",
    "p2 <- ggplot(heart_disease_data, aes(x=chest_pain, fill = heart_disease_diagnosis)) + \n",
    "geom_bar(position='fill') +\n",
    "labs(y='Heart Disease Diagnosis', x='Chest Pain', fill = \"Heart Disease Diagnosis\") +\n",
    "theme(legend.position = 'none') + theme(axis.title.y=element_blank())\n",
    "\n",
    "p3 <- ggplot(heart_disease_data, aes(x=blood_sugar, fill = heart_disease_diagnosis)) + \n",
    "geom_bar(position='fill') +\n",
    "labs(y='Heart Disease Diagnosis', x='Blood Sugar', fill = \"Heart Disease Diagnosis\") +\n",
    "theme(legend.position = 'none') + theme(axis.title.y=element_blank())\n",
    "\n",
    "p4 <- ggplot(heart_disease_data, aes(x=ecg, fill = heart_disease_diagnosis)) + \n",
    "geom_bar(position='fill') +\n",
    "labs(y='Heart Disease Diagnosis', x='ECG', fill = \"Heart Disease Diagnosis\") +\n",
    "theme(legend.position = 'none') + theme(axis.title.y=element_blank())\n",
    "\n",
    "p5 <- ggplot(heart_disease_data, aes(x=exercise_angina, fill = heart_disease_diagnosis)) + \n",
    "geom_bar(position='fill') +\n",
    "labs(y='Heart Disease Diagnosis', x='Exercise Angina', fill = \"Heart Disease Diagnosis\") +\n",
    "theme(legend.position = 'none') + theme(axis.title.y=element_blank())\n",
    "\n",
    "p6 <- ggplot(heart_disease_data, aes(x=location, fill = heart_disease_diagnosis)) + \n",
    "geom_bar(position='fill') +\n",
    "labs(y='Heart Disease Diagnosis', x='Location', fill = \"Heart Disease Diagnosis\") +\n",
    "theme(legend.position = 'none') + theme(axis.title.y=element_blank())\n",
    "\n",
    "\n",
    "# Arrange plots into grid\n",
    "plot_grid(p1, p2, p3, ncol = 1)\n",
    "plot_grid(p4, p5, p6, ncol = 1)"
   ]
  },
  {
   "cell_type": "code",
   "execution_count": 141,
   "metadata": {
    "ExecuteTime": {
     "end_time": "2019-11-03T19:42:28.429685Z",
     "start_time": "2019-11-03T19:42:25.538Z"
    },
    "hidden": true
   },
   "outputs": [
    {
     "name": "stdout",
     "output_type": "stream",
     "text": [
      "'data.frame':\t920 obs. of  18 variables:\n",
      " $ age                      : num  63 67 67 37 41 56 62 57 63 53 ...\n",
      " $ sex                      : Factor w/ 2 levels \"Female\",\"Male\": 2 2 2 2 1 2 1 1 2 2 ...\n",
      " $ chest_pain               : Factor w/ 4 levels \"asymptomatic\",..: 4 1 1 3 2 2 1 1 1 1 ...\n",
      " $ blood_pressure           : num  145 160 120 130 130 120 140 120 130 140 ...\n",
      " $ cholesterol              : num  233 286 229 250 204 236 268 354 254 203 ...\n",
      " $ blood_sugar              : Factor w/ 2 levels \"Fasting Blood Sugar < 120\",..: 2 1 1 1 1 1 1 1 1 2 ...\n",
      " $ ecg                      : Factor w/ 3 levels \"normal\",\"Probable or definite LVH\",..: 2 2 2 1 2 1 2 1 2 2 ...\n",
      " $ max_heart_rate           : num  150 108 129 187 172 178 160 163 147 155 ...\n",
      " $ exercise_angina          : Factor w/ 2 levels \"Negative\",\"Positive\": 1 2 2 1 1 1 1 2 1 2 ...\n",
      " $ exercise_ST_depress      : num  2.3 1.5 2.6 3.5 1.4 0.8 3.6 0.6 1.4 3.1 ...\n",
      " $ slope_peak_ST            : Factor w/ 3 levels \"Downsloping\",..: 1 2 2 1 3 3 1 3 2 1 ...\n",
      " $ number_vessel_fluoroscopy: Factor w/ 4 levels \"0.0\",\"1.0\",\"2.0\",..: 1 4 3 1 1 1 3 1 2 1 ...\n",
      " $ thal_defects             : Factor w/ 3 levels \"Fixed defect\",..: 1 2 3 2 2 2 2 2 3 3 ...\n",
      " $ heart_disease_diagnosis  : Factor w/ 2 levels \"Disease\",\"No heart disease\": 2 1 1 2 2 2 1 2 1 1 ...\n",
      " $ location                 : Factor w/ 4 levels \"cleveland\",\"hungary\",..: 1 1 1 1 1 1 1 1 1 1 ...\n",
      " $ cholesterol_status       : Factor w/ 3 levels \"Borderline Hypercholestrolnemia\",..: 1 2 1 2 1 1 2 2 2 1 ...\n",
      " $ cholesterol_miss         : Factor w/ 2 levels \"Not Missing\",..: 1 1 1 1 1 1 1 1 1 1 ...\n",
      " $ ST_miss                  : Factor w/ 2 levels \"Not Missing\",..: 1 1 1 1 1 1 1 1 1 1 ...\n"
     ]
    }
   ],
   "source": [
    "str(heart_disease_data)"
   ]
  },
  {
   "cell_type": "markdown",
   "metadata": {
    "hidden": true
   },
   "source": [
    "This plot grid allows us to quickly see how stroke rates differ depending on variable. Based on observation it appears `sex`, `chest_pain`, `blood_sugar`, `ecg`, `exercise_angina`, and `location` all seem to have an effect on heart disease diagnosis and seem to be promising candidate variables. "
   ]
  },
  {
   "cell_type": "markdown",
   "metadata": {
    "heading_collapsed": true,
    "hidden": true
   },
   "source": [
    "## Logistic Regression"
   ]
  },
  {
   "cell_type": "markdown",
   "metadata": {
    "hidden": true
   },
   "source": [
    "Now that our variables have been successfully converted and our outcome has been defined, we can analyze our data. Logistic regression is a mathematical model that estimates the probability of a binary outcomes (such as our risk label). It is named after the logistic curve which takes the S-shape depicted below.\n",
    "<img src=\"https://upload.wikimedia.org/wikipedia/commons/thumb/8/88/Logistic-curve.svg/640px-Logistic-curve.svg.png?1566122052688\" alt=\"Logistic Curve\" title=\"Logistic Curve\" />"
   ]
  },
  {
   "cell_type": "markdown",
   "metadata": {
    "hidden": true,
    "solution2": "hidden",
    "solution2_first": true
   },
   "source": [
    "**Pre-Check:** What is our primary outcome? What information will a logistic regression model tell use about our outcome?"
   ]
  },
  {
   "cell_type": "markdown",
   "metadata": {
    "hidden": true,
    "solution2": "hidden"
   },
   "source": [
    "Our primary outcome is whether the individual has heart disease. The logistic regression model will allow us to see how individuals variables affect whether an individual has heart disease **while controlling for other variables in the model**. For instance, we can see whether being older affects having heart disease while controlling for abnormal ecg, blood sugar, etc...\n",
    "\n",
    "Very useful indeed!"
   ]
  },
  {
   "cell_type": "markdown",
   "metadata": {
    "hidden": true,
    "solution2": "hidden",
    "solution2_first": true
   },
   "source": [
    "**Follow-Up:** What is statistical significance? What is a generally accepted level of statistical significance in healthcare research?"
   ]
  },
  {
   "cell_type": "markdown",
   "metadata": {
    "hidden": true,
    "solution2": "hidden"
   },
   "source": [
    "Statistical Significance can be defined as the chance that the relationship you observed in your data occurred by chance. What does this mean? Lets say our logistic regression model finds that gender has a statistically significant effect on having a stroke. This means that it is more likely that there is indeed a relationship between gender and stroke than chance would suggest. \n",
    "\n",
    "The conventional level of significance that is accepted is < 0.05 (this number is referred to as a p-value). This means that there is less than 5% chance that the observed relationship in the data was due to chance alone. The image below display a sample R output.\n",
    "\n",
    "<img src=\"https://drchrispook.files.wordpress.com/2017/02/anova-output-from-r1.jpg\" align=\"center\" style=\"margin-bottom: 0.5em; margin-top: 0.5em;\">"
   ]
  },
  {
   "cell_type": "markdown",
   "metadata": {
    "hidden": true
   },
   "source": [
    "Lets create out logistic model"
   ]
  },
  {
   "cell_type": "code",
   "execution_count": 142,
   "metadata": {
    "ExecuteTime": {
     "end_time": "2019-11-03T19:42:28.475057Z",
     "start_time": "2019-11-03T19:42:26.159Z"
    },
    "hidden": true
   },
   "outputs": [
    {
     "data": {
      "text/plain": [
       "\n",
       "Call:\n",
       "glm(formula = heart_disease_diagnosis ~ age + sex + chest_pain + \n",
       "    blood_pressure + blood_sugar + ecg + max_heart_rate + exercise_angina + \n",
       "    exercise_ST_depress + location, family = \"binomial\", data = heart_disease_data)\n",
       "\n",
       "Deviance Residuals: \n",
       "     Min        1Q    Median        3Q       Max  \n",
       "-2.57465  -0.51301  -0.07176   0.54229   2.88269  \n",
       "\n",
       "Coefficients:\n",
       "                                      Estimate Std. Error z value Pr(>|z|)    \n",
       "(Intercept)                           2.329662   1.420554   1.640 0.101012    \n",
       "age                                  -0.018962   0.013927  -1.362 0.173342    \n",
       "sexMale                              -1.318319   0.265084  -4.973 6.59e-07 ***\n",
       "chest_painatypical angina             1.841266   0.306154   6.014 1.81e-09 ***\n",
       "chest_painnon-anginal pain            1.559297   0.259992   5.997 2.00e-09 ***\n",
       "chest_paintypical angina              1.508502   0.457215   3.299 0.000969 ***\n",
       "blood_pressure                       -0.008588   0.006306  -1.362 0.173280    \n",
       "blood_sugarFasting Blood Sugar > 120 -0.600390   0.304935  -1.969 0.048963 *  \n",
       "ecgProbable or definite LVH          -0.328062   0.279779  -1.173 0.240967    \n",
       "ecgST-T wave abnormality              0.200740   0.336226   0.597 0.550482    \n",
       "max_heart_rate                        0.009378   0.005204   1.802 0.071529 .  \n",
       "exercise_anginaPositive              -1.063449   0.235508  -4.516 6.32e-06 ***\n",
       "exercise_ST_depress                  -0.716679   0.118154  -6.066 1.31e-09 ***\n",
       "locationhungary                      -0.004426   0.303326  -0.015 0.988359    \n",
       "locationswitzerland                  -4.000402   1.087240  -3.679 0.000234 ***\n",
       "locationlong beach VA                -0.307413   0.376008  -0.818 0.413603    \n",
       "---\n",
       "Signif. codes:  0 '***' 0.001 '**' 0.01 '*' 0.05 '.' 0.1 ' ' 1\n",
       "\n",
       "(Dispersion parameter for binomial family taken to be 1)\n",
       "\n",
       "    Null deviance: 1061.6  on 765  degrees of freedom\n",
       "Residual deviance:  597.3  on 750  degrees of freedom\n",
       "  (154 observations deleted due to missingness)\n",
       "AIC: 629.3\n",
       "\n",
       "Number of Fisher Scoring iterations: 6\n"
      ]
     },
     "metadata": {},
     "output_type": "display_data"
    }
   ],
   "source": [
    "# Creating a logistic regression model\n",
    "mylogit <- glm(heart_disease_diagnosis ~ age + sex + chest_pain + blood_pressure + \n",
    "               blood_sugar + ecg + max_heart_rate + exercise_angina + exercise_ST_depress + location,\n",
    "               data = heart_disease_data, family = \"binomial\")\n",
    "mylogit.sum <- summary(mylogit)\n",
    "mylogit.sum"
   ]
  },
  {
   "cell_type": "markdown",
   "metadata": {
    "hidden": true
   },
   "source": [
    "We can see that several of our variables do not have a statistically significant effect. Several of these variables are clinically relevant. This includes while age and blood pressure. For instance, we know that older individuals are at higher risk of develop heart disease simply because they have had more time for plaques to accumulate in their blood vessels. For this reason we will be keeping these variables in our model. \n",
    "\n",
    "While statistical significance is important, it is always more important to consider whether our predictor are clinically relevant for the outcome we will be predicting. Remember to alway consider the clinical significance of a variable and not just the statistical significance!"
   ]
  },
  {
   "cell_type": "markdown",
   "metadata": {
    "heading_collapsed": true
   },
   "source": [
    "# Building A Predictive Model"
   ]
  },
  {
   "cell_type": "markdown",
   "metadata": {
    "hidden": true,
    "solution2": "hidden"
   },
   "source": [
    "Statistical Significance can be defined as the chance that the relationship you observed in your data occurred by chance. What does this mean? Lets say our logistic regression model finds that weight has a statistically significant effect on being high risk or low risk asthmatic patient. This means that it more likely that there is indeed a relationship between weight and risk than chance would suggest. \n",
    "\n",
    "The conventional level of significance that is accepted is < 0.05 (this number is referred to as a p-value). This means that there is less than 5% chance that the observed relationship in the data was due to chance alone. The image below display a sample R output.\n",
    "\n",
    "<img src=\"https://drchrispook.files.wordpress.com/2017/02/anova-output-from-r1.jpg\" align=\"center\" style=\"margin-bottom: 0.5em; margin-top: 0.5em;\">"
   ]
  },
  {
   "cell_type": "markdown",
   "metadata": {
    "hidden": true,
    "solution2": "hidden",
    "solution2_first": true
   },
   "source": [
    "**Pre-Check:** So far we haven't done any machine learning yet. What we've done can be considered traditional statistical analyses. What differentiate machine learning for statistical analysis?"
   ]
  },
  {
   "cell_type": "markdown",
   "metadata": {
    "hidden": true,
    "solution2": "hidden"
   },
   "source": [
    "In machine learning, data is split into a training and test set. A machine learning model is then trainined on the training set to predict whatever outcome of interest it was designed to predict (in our case we're predicting whether the asthmatic patient is high- or low- risk). The models predictive performance is then evaluated using the test set. \n",
    "\n",
    "<img src=\"https://www.sqlservercentral.com/wp-content/uploads/2019/05/Image-2.jpg\" align=\"center\" style=\"margin-bottom: 0.5em; margin-top: 0.5em;\">"
   ]
  },
  {
   "cell_type": "markdown",
   "metadata": {
    "hidden": true
   },
   "source": [
    "For our case we'll be using a model called a naive bayes classifier. This algorithm is an algorithm that can be used for classification purpose and is based on **Bayes Theorem**. It is called naive because it assumes that all the features that go into the model are independent from one another.\n",
    "\n",
    "> As you can likely guess, this is rarely true in the real world. This especially the case for clinical data. \n",
    "\n",
    "So now you're wondering, just what the heck is Bayes Theorem?"
   ]
  },
  {
   "cell_type": "markdown",
   "metadata": {
    "heading_collapsed": true,
    "hidden": true
   },
   "source": [
    "### Bayes Theorem"
   ]
  },
  {
   "cell_type": "markdown",
   "metadata": {
    "hidden": true
   },
   "source": [
    "Bayes theorem is a theory that allows us to find the probability of an event or prediction given prior knowledge/data. Below is a graphic representation of the equation for bayes theorem. \n",
    "\n",
    "<img src=\"https://miro.medium.com/max/806/1*l0MccMHzSjtpJ_mGaItVfA.jpeg\" align=\"center\" style=\"margin-bottom: 0.5em; margin-top: 0.5em;\">\n",
    "\n",
    "This is a mathematical representation of our definition for bayes theorem. In the equation, we are predicting the value of A given prior knowledge of value B. Now how does this fit into machine learning?\n",
    "\n",
    "In a naive bayes classifier, the algorithm is trained to recognize the probability for different classes based on all the features. In our case, this would mean our algorithm would be trained to find the probability of whether a person has heart disease based on every variable include in our model (ie. age, blood glucose, etc...). It would then classify a person as having heart disease or not based on probabilities it derives from looking at all the variables from that particular patient. Where does it learn these probabilities from? By learning from our training data. "
   ]
  },
  {
   "cell_type": "markdown",
   "metadata": {
    "heading_collapsed": true,
    "hidden": true
   },
   "source": [
    "## Building our Model"
   ]
  },
  {
   "cell_type": "markdown",
   "metadata": {
    "hidden": true
   },
   "source": [
    "Lets split our data into a training and test set now."
   ]
  },
  {
   "cell_type": "code",
   "execution_count": 143,
   "metadata": {
    "ExecuteTime": {
     "end_time": "2019-11-03T19:42:28.511958Z",
     "start_time": "2019-11-03T19:42:27.089Z"
    },
    "hidden": true
   },
   "outputs": [],
   "source": [
    "# Splitting the data into training and test set data\n",
    "# Setting the seed value so we get the same result when we repreat\n",
    "set.seed(123)\n",
    "\n",
    "# Determining which rows willbe in the traiing data\n",
    "training_index <- sample(nrow(heart_disease_data), 0.8*nrow(heart_disease_data), replace = FALSE)  \n",
    "\n",
    "# Create Training Set\n",
    "training_data <- heart_disease_data[training_index,]\n",
    "\n",
    "# Create Test Set\n",
    "# Don't include stroke column in test set. Prediction will create this column. If you\n",
    "# include stroke variable, confusion matrix will throw an unequal lengths error\n",
    "test_data <- heart_disease_data[-training_index,]"
   ]
  },
  {
   "cell_type": "markdown",
   "metadata": {
    "hidden": true
   },
   "source": [
    "Now lets fit our model to the training and test data. We will then take a look at our models performance using a confusion matrix.\n",
    "\n",
    "> If you're unsure what a confusion matrix is, please consult section 5.1.1 ('What is a Confusion Matrix')"
   ]
  },
  {
   "cell_type": "code",
   "execution_count": 144,
   "metadata": {
    "ExecuteTime": {
     "end_time": "2019-11-03T19:42:28.595734Z",
     "start_time": "2019-11-03T19:42:27.162Z"
    },
    "hidden": true,
    "scrolled": true
   },
   "outputs": [
    {
     "data": {
      "text/plain": [
       "Confusion Matrix and Statistics\n",
       "\n",
       "                  Reference\n",
       "Prediction         Disease No heart disease\n",
       "  Disease               92               19\n",
       "  No heart disease      19               54\n",
       "                                          \n",
       "               Accuracy : 0.7935          \n",
       "                 95% CI : (0.7277, 0.8495)\n",
       "    No Information Rate : 0.6033          \n",
       "    P-Value [Acc > NIR] : 2.936e-08       \n",
       "                                          \n",
       "                  Kappa : 0.5686          \n",
       "                                          \n",
       " Mcnemar's Test P-Value : 1               \n",
       "                                          \n",
       "            Sensitivity : 0.8288          \n",
       "            Specificity : 0.7397          \n",
       "         Pos Pred Value : 0.8288          \n",
       "         Neg Pred Value : 0.7397          \n",
       "             Prevalence : 0.6033          \n",
       "         Detection Rate : 0.5000          \n",
       "   Detection Prevalence : 0.6033          \n",
       "      Balanced Accuracy : 0.7843          \n",
       "                                          \n",
       "       'Positive' Class : Disease         \n",
       "                                          "
      ]
     },
     "metadata": {},
     "output_type": "display_data"
    }
   ],
   "source": [
    "# Set up the model\n",
    "model <- (heart_disease_diagnosis ~ age + sex + chest_pain + blood_pressure + \n",
    "          blood_sugar + ecg + max_heart_rate + exercise_angina + exercise_ST_depress)\n",
    "\n",
    "# Add in NA action to exclude missing \n",
    "train_nb = naiveBayes(model, training_data, importance = TRUE)\n",
    "\n",
    "# Predict\n",
    "prediction_nb <- predict(object = train_nb,\n",
    "                         test_data[,-14],\n",
    "                         type = \"class\")\n",
    "\n",
    "# Output results\n",
    "confusionMatrix(data = prediction_nb, reference = test_data$heart_disease_diagnosis)"
   ]
  },
  {
   "cell_type": "markdown",
   "metadata": {
    "hidden": true
   },
   "source": [
    "How did it do? We can see our model had an accuracy of 0.79, a sensitivity of 0.83, and a specificity of 0.74. What we determine to be acceptable cut-off will depend on the context this model is being used for. Lets evaluate our model further. "
   ]
  },
  {
   "cell_type": "markdown",
   "metadata": {
    "heading_collapsed": true,
    "hidden": true
   },
   "source": [
    "### What Is A Confusion Matrix"
   ]
  },
  {
   "cell_type": "markdown",
   "metadata": {
    "hidden": true
   },
   "source": [
    "A confusion matrix is a 2x2 table which computes 4 different combinations of predicted vs. actual values. The combinations are True Positive (TP), True Negative (TN), False Positive (FP), and False Negative (FN)\n",
    "\n",
    "<img src=\"https://miro.medium.com/max/320/1*Z54JgbS4DUwWSknhDCvNTQ.png\" align=\"center\" style=\"margin-bottom: 0.5em; margin-top: 0.5em;\">\n",
    "\n",
    "These 4 interpretations can be combined to generate many useful metrics. For our purpose there are three we will focus on. The first is accuracy: \n",
    "\n",
    "\\[\\large (TP + TN)/Total\\]\n",
    "\n",
    "Accuracy allows us to measure how often our model predicted correctly. The second metric is sensitivity:\n",
    "\n",
    "\\[\\large TP / (TP + FN)\\]\n",
    "\n",
    "Sensitivity asks the question, that when our outcome is actually positive (ie. in our case when our patient is actually high-risk) how often will the model predict positively (ie. how often will the model then predict the patient to be high-risk). The final metric is specificity:\n",
    "\n",
    "\\[\\large FP / (FP + TN)\\]\n",
    "\n",
    "Specificity asks the question, that when the outcome is actually negative (ie. in our case when our patient is actually low-risk) how often will the model predict negatively (ie. how often will the model then predict the patient to be low-risk). \n",
    "\n",
    "\n"
   ]
  },
  {
   "cell_type": "markdown",
   "metadata": {
    "heading_collapsed": true,
    "hidden": true
   },
   "source": [
    "## Evaluating our Model"
   ]
  },
  {
   "cell_type": "markdown",
   "metadata": {
    "hidden": true
   },
   "source": [
    "We will be evaluating our model using a receiver operating curve (ROC) and the area under the curve (AUC) value. \n",
    "\n",
    "> If you're unsure what a ROC or AUC value is, please consult section 5.2.1 ('Understanding ROC Curves and AUC Values')"
   ]
  },
  {
   "cell_type": "code",
   "execution_count": 145,
   "metadata": {
    "ExecuteTime": {
     "end_time": "2019-11-03T19:42:28.877491Z",
     "start_time": "2019-11-03T19:42:27.500Z"
    },
    "hidden": true
   },
   "outputs": [
    {
     "name": "stderr",
     "output_type": "stream",
     "text": [
      "Setting levels: control = Disease, case = No heart disease\n",
      "Setting direction: controls < cases\n"
     ]
    },
    {
     "data": {
      "image/png": "[encoded data removed]",
      "text/plain": [
       "plot without title"
      ]
     },
     "metadata": {},
     "output_type": "display_data"
    }
   ],
   "source": [
    "# Create a ROC curve\n",
    "ROC <- roc(response = test_data$heart_disease_diagnosis, predictor = factor(prediction_nb, \n",
    "                                                           ordered = TRUE, \n",
    "                                                           levels = c('Disease', 'No heart disease')))\n",
    "\n",
    "# Plot ROC with ggplot2\n",
    "plot_ROC <- ggroc(ROC)\n",
    "plot_ROC"
   ]
  },
  {
   "cell_type": "code",
   "execution_count": 146,
   "metadata": {
    "ExecuteTime": {
     "end_time": "2019-11-03T19:42:28.906416Z",
     "start_time": "2019-11-03T19:42:27.503Z"
    },
    "hidden": true
   },
   "outputs": [
    {
     "name": "stdout",
     "output_type": "stream",
     "text": [
      "AUC: 0.78"
     ]
    }
   ],
   "source": [
    "# Calculate the area under the curve (AUC)\n",
    "cat('AUC:', round(auc(ROC), 2))"
   ]
  },
  {
   "cell_type": "markdown",
   "metadata": {
    "hidden": true
   },
   "source": [
    "The closer to the top left corner our ROC curve is the better. The higher our AUC value is the better. These metrics provide useful measure when tuning our model. They are also better overall measures than accuracy alone. We can compare different models using these two metrics. "
   ]
  },
  {
   "cell_type": "markdown",
   "metadata": {
    "heading_collapsed": true,
    "hidden": true
   },
   "source": [
    "### Understanding ROC Curves and AUC Values"
   ]
  },
  {
   "cell_type": "markdown",
   "metadata": {
    "hidden": true
   },
   "source": [
    "An ROC plots sensitivity (probability of predicting a real psoitive will be positive) against 1-specificity (the probability of predicting a real negative will be a positive). A model with a 50-50 change of making a correct decision will have a ROC curve which is just a diagonal line. A model with a curve that hugs the top left corner is a perfect model. The area under a curve is a measure of magnitude of the ROC curve. The closer the ROC curve is to the top left corner, the higher the AUC value is. The higher the AUC value is, the better. \n",
    "\n",
    "<img src=\"https://miro.medium.com/max/406/1*pk05QGzoWhCgRiiFbz-oKQ.png\" style=\"float: center; width: 34%; margin-bottom: 0.5em;\">"
   ]
  },
  {
   "cell_type": "markdown",
   "metadata": {
    "heading_collapsed": true,
    "hidden": true
   },
   "source": [
    "## Explaining the Model"
   ]
  },
  {
   "cell_type": "markdown",
   "metadata": {
    "hidden": true
   },
   "source": [
    "An important part of any model is being able to explain it. We can look at the effect each variable had on predicting heart disease through looking at the conditional probabilities of different variables. "
   ]
  },
  {
   "cell_type": "code",
   "execution_count": 147,
   "metadata": {
    "ExecuteTime": {
     "end_time": "2019-11-03T19:42:28.941323Z",
     "start_time": "2019-11-03T19:42:27.848Z"
    },
    "hidden": true
   },
   "outputs": [
    {
     "data": {
      "text/plain": [
       "\n",
       "Naive Bayes Classifier for Discrete Predictors\n",
       "\n",
       "Call:\n",
       "naiveBayes.default(x = X, y = Y, laplace = laplace, importance = TRUE)\n",
       "\n",
       "A-priori probabilities:\n",
       "Y\n",
       "         Disease No heart disease \n",
       "       0.5407609        0.4592391 \n",
       "\n",
       "Conditional probabilities:\n",
       "                  age\n",
       "Y                      [,1]     [,2]\n",
       "  Disease          55.80905 8.644022\n",
       "  No heart disease 50.52071 9.301791\n",
       "\n",
       "                  sex\n",
       "Y                     Female      Male\n",
       "  Disease          0.1005025 0.8994975\n",
       "  No heart disease 0.3491124 0.6508876\n",
       "\n",
       "                  chest_pain\n",
       "Y                  asymptomatic atypical angina non-anginal pain typical angina\n",
       "  Disease            0.74120603      0.05527638       0.16080402     0.04271357\n",
       "  No heart disease   0.26331361      0.36982249       0.31065089     0.05621302\n",
       "\n",
       "                  blood_pressure\n",
       "Y                      [,1]     [,2]\n",
       "  Disease          134.0385 19.50612\n",
       "  No heart disease 129.6844 17.13995\n",
       "\n",
       "                  blood_sugar\n",
       "Y                  Fasting Blood Sugar < 120 Fasting Blood Sugar > 120\n",
       "  Disease                          0.7994100                 0.2005900\n",
       "  No heart disease                 0.8878788                 0.1121212\n",
       "\n",
       "                  ecg\n",
       "Y                     normal Probable or definite LVH ST-T wave abnormality\n",
       "  Disease          0.5452261                0.2261307             0.2286432\n",
       "  No heart disease 0.6686391                0.1804734             0.1508876\n",
       "\n",
       "                  max_heart_rate\n",
       "Y                      [,1]     [,2]\n",
       "  Disease          128.2398 24.07575\n",
       "  No heart disease 149.2531 23.27581\n",
       "\n",
       "                  exercise_angina\n",
       "Y                   Negative  Positive\n",
       "  Disease          0.4032698 0.5967302\n",
       "  No heart disease 0.8687500 0.1312500\n",
       "\n",
       "                  exercise_ST_depress\n",
       "Y                       [,1]      [,2]\n",
       "  Disease          1.3107735 1.2127759\n",
       "  No heart disease 0.4222571 0.7187777\n"
      ]
     },
     "metadata": {},
     "output_type": "display_data"
    }
   ],
   "source": [
    "# Naive Bayes Output\n",
    "train_nb"
   ]
  },
  {
   "cell_type": "markdown",
   "metadata": {
    "hidden": true
   },
   "source": [
    "So our model gave us quite a bit of output. First the output will differ depending on whether a variable is categorical or numeric. For numeric variables you should see a `[,1]` and `[,2]` output. The `[,1]` indicates the mean value based on disease status. For instance we can see that the mean age for the heart disease group was 55.8 while the mean age for the no heart disease group was 50.5. The `[,2]` is the standard deviation for that mean. "
   ]
  },
  {
   "cell_type": "markdown",
   "metadata": {
    "hidden": true
   },
   "source": [
    "For categorical variables we get probabilities. Under A-priori probabilities we can see the original distribution of heart disease and non heart disease patients. The ratio is approximately 1:1. We can then see the probabilities of heart disease to no heart disease based on variables. Anything surprising?\n",
    "\n",
    "One surprising variable is `sex`. In female the ratio of heart disease to no heart disease is 1:3. However, among males it's nearly 1.4:1. Sex seems to be a big driver for whether we can predict heart disease or not! See if you can spot anymore surprising findings. "
   ]
  },
  {
   "cell_type": "markdown",
   "metadata": {
    "hidden": true
   },
   "source": [
    "Congratulations! You've reached the end of the case! This case provided just one example of how analytics and healthcare can be combined to solve clinical problems. I hope your curiosity has been piqued. There much more to learn and much more you can explore in this field!"
   ]
  }
 ],
 "metadata": {
  "kernelspec": {
   "display_name": "R",
   "language": "R",
   "name": "ir"
  },
  "language_info": {
   "codemirror_mode": "r",
   "file_extension": ".r",
   "mimetype": "text/x-r-source",
   "name": "R",
   "pygments_lexer": "r",
   "version": "3.6.1"
  },
  "latex_envs": {
   "LaTeX_envs_menu_present": true,
   "autoclose": false,
   "autocomplete": true,
   "bibliofile": "biblio.bib",
   "cite_by": "apalike",
   "current_citInitial": 1,
   "eqLabelWithNumbers": false,
   "eqNumInitial": 1,
   "hotkeys": {
    "equation": "Ctrl-E",
    "itemize": "Ctrl-I"
   },
   "labels_anchors": false,
   "latex_user_defs": false,
   "report_style_numbering": false,
   "user_envs_cfg": false
  },
  "toc": {
   "base_numbering": 1,
   "nav_menu": {},
   "number_sections": true,
   "sideBar": true,
   "skip_h1_title": false,
   "title_cell": "Table of Contents",
   "title_sidebar": "Contents",
   "toc_cell": false,
   "toc_position": {
    "height": "414px",
    "left": "54px",
    "top": "110.8px",
    "width": "276px"
   },
   "toc_section_display": true,
   "toc_window_display": false
  },
  "varInspector": {
   "cols": {
    "lenName": 16,
    "lenType": 16,
    "lenVar": 40
   },
   "kernels_config": {
    "python": {
     "delete_cmd_postfix": "",
     "delete_cmd_prefix": "del ",
     "library": "var_list.py",
     "varRefreshCmd": "print(var_dic_list())"
    },
    "r": {
     "delete_cmd_postfix": ") ",
     "delete_cmd_prefix": "rm(",
     "library": "var_list.r",
     "varRefreshCmd": "cat(var_dic_list()) "
    }
   },
   "types_to_exclude": [
    "module",
    "function",
    "builtin_function_or_method",
    "instance",
    "_Feature"
   ],
   "window_display": true
  }
 },
 "nbformat": 4,
 "nbformat_minor": 4
}
