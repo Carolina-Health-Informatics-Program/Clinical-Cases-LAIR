{
 "cells": [
  {
   "cell_type": "markdown",
   "metadata": {
    "heading_collapsed": true
   },
   "source": [
    "# Introduction"
   ]
  },
  {
   "cell_type": "markdown",
   "metadata": {
    "cell_style": "center",
    "hidden": true
   },
   "source": [
    "<p align=\"justify\">Welcome! In this case we'll be exploring how to use advanced analytic and machine learning techniques to predict heart disease. \n",
    "<br>\n",
    "<br>\n",
    "<details>\n",
    "<summary>Some of the skills you'll explore are (Click to Expand):</summary>\n",
    "<ul>\n",
    "    <li>Python Programming</li>\n",
    "    <li>Data Cleaning</li>\n",
    "    <li>Exploratory Data Analysis</li>\n",
    "    <li>Data Visualization</li>\n",
    "    <li>Leveraging Domain Knowledge</li>\n",
    "    <li>Machine Learning</li>\n",
    "    <li>Naive Bayes Classification</li>\n",
    "</details><br>\n",
    "Don't worry if you're unsure what some of these terms are. They'll be explained throughout the case. Let's begin! \n",
    "\n",
    "<img src=\"https://i.stack.imgur.com/zlAi2.png\" style=\"float: left; width: 33%; margin-bottom: 0.5em;\">\n",
    "<img src=\"https://www.bioanalysis-zone.com/wp-content/uploads/2014/01/Heart-graphic.jpg\" style=\"float: left; width: 32%; margin-left: 1%; margin-bottom: 0.5em;\">\n",
    "<img src=\"https://jakevdp.github.io/PythonDataScienceHandbook/figures/05.05-gaussian-NB.png\" style=\"float: left; width: 31%; margin-left: 1%; margin-bottom: 0.5em;\">"
   ]
  },
  {
   "cell_type": "markdown",
   "metadata": {
    "heading_collapsed": true,
    "hidden": true
   },
   "source": [
    "## Case Scenario"
   ]
  },
  {
   "cell_type": "markdown",
   "metadata": {
    "hidden": true
   },
   "source": [
    "Imagine you're an analyst for a large academic medical center. Recently, the internal Division of Cardiology has become interested in exploring how machine learning and predictive analytics can augement cardiology. You have been tasked with developing a prototype model to predict heart disease using historical research data. \n",
    "\n",
    "Can you develop a machine learning model to predict heart disease using patient data from 3 different countries? Lets find out!"
   ]
  },
  {
   "cell_type": "markdown",
   "metadata": {
    "heading_collapsed": true,
    "hidden": true
   },
   "source": [
    "### Extra: What is Heart Disease?"
   ]
  },
  {
   "cell_type": "markdown",
   "metadata": {
    "hidden": true
   },
   "source": [
    "Heart disease or cardiovascular disease refers to a condition where blood vessels become narrower or occluded. This can lead to numerous life threatening conditions such as heart attack or stroke. Heart disease can be caused by numerous lifestyle factors such as high blood pressure, high cholesterol, smoking, sedentary lifestyle, and stress. \n",
    "\n",
    "<center>\n",
    "  <img width=\"400\" height=\"200\" src=\"https://www.health.harvard.edu/media/content/images/p6_PlaqueArtery_HL1902_gi958536398.jpg\">\n",
    "</center>\n",
    "\n",
    "What makes heart disease so dangerous is that it is a gradual process that does not become symptomatic until you're middle aged or older. At this point, much of the damage has already been done. While heart disease mortality has improved in recent years, it is still one of the most dangerous conditions in the US. Over 600,000 people die of heart disease in the US every year (1 of every 4 deaths). Heart disease is still the leading cause of death among both men and women. Any predictive algorithm that could identify heart disease early could potentially save countless lives. "
   ]
  },
  {
   "cell_type": "markdown",
   "metadata": {
    "heading_collapsed": true,
    "hidden": true
   },
   "source": [
    "## How To Run The Case (Do Not Skip)"
   ]
  },
  {
   "cell_type": "markdown",
   "metadata": {
    "hidden": true
   },
   "source": [
    "Before we begin the case, we need to know how to use Jupyter Notebook and run the case. First, look for the the `Run` button. The location of the `Run` button is shown below and can be found in the tool bar above. "
   ]
  },
  {
   "cell_type": "markdown",
   "metadata": {
    "cell_style": "center",
    "hidden": true
   },
   "source": [
    "<img src=\"https://i.imgur.com/jr4dpLW.png\">"
   ]
  },
  {
   "cell_type": "markdown",
   "metadata": {
    "hidden": true
   },
   "source": [
    "The cell below is a code cell. You will be running numerous code cells like the one below throughout the case. Select the cell and select the run button above. "
   ]
  },
  {
   "cell_type": "code",
   "execution_count": null,
   "metadata": {
    "ExecuteTime": {
     "end_time": "2020-03-23T11:30:53.144565Z",
     "start_time": "2020-03-23T11:30:53.107194Z"
    },
    "cell_style": "center",
    "hidden": true
   },
   "outputs": [],
   "source": [
    "# This is an example of a code cell\n",
    "print('Congratulations!')\n",
    "print('You\\'ve run your first code cell.')\n"
   ]
  },
  {
   "cell_type": "markdown",
   "metadata": {
    "hidden": true
   },
   "source": [
    "<img width = 50 height = 50 style=\"float: left; margin-right: 10px;\" src=\"https://upload.wikimedia.org/wikipedia/commons/b/b9/Stop_sign_dark_red.svg\">Stop! If you have not learned to run a code cell, restart this section. You will not be able to go through the case at all if you are unable to run code cells. Otherwise, it's time to meet our data!"
   ]
  },
  {
   "cell_type": "markdown",
   "metadata": {
    "heading_collapsed": true,
    "hidden": true
   },
   "source": [
    "## Meeting Our Data"
   ]
  },
  {
   "cell_type": "markdown",
   "metadata": {
    "hidden": true
   },
   "source": [
    "We'll be using a deidentified set of patient data made available on the [University of California Irvine Machine Learning Repository](https://archive.ics.uci.edu/ml/datasets/heart+Disease). This data has been sourced from the Hungarian Institute of Cardiology (Budapest, Hungary), University Hospital (Zurich, Switzerland), University Hospital (Basel, Switzerland), the V.A Medical Center (Long Beach, California), and the Cleveland Clinic (Cleveland, Ohio). \n",
    "\n",
    "**Acknowledgements**<br>\n",
    "Detrano, R., Janosi, A., Steinbrunn, W., Pfisterer, M., Schmid, J., Sandhu, S., Guppy, K., Lee, S., & Froelicher, V. (1989). International application of a new probability algorithm for the diagnosis of coronary artery disease. American Journal of Cardiology, 64,304--310."
   ]
  },
  {
   "cell_type": "markdown",
   "metadata": {
    "heading_collapsed": true,
    "hidden": true
   },
   "source": [
    "### Data File(s)"
   ]
  },
  {
   "cell_type": "markdown",
   "metadata": {
    "cell_style": "split",
    "hidden": true
   },
   "source": [
    "<p style=\"text-align: center;\">cleveland.csv</p>\n",
    "\n",
    "***\n",
    "This file contains our dataset sourced from the Cleveland Clinc. There are a 303 patients with 14 attributes. "
   ]
  },
  {
   "cell_type": "markdown",
   "metadata": {
    "cell_style": "split",
    "hidden": true
   },
   "source": [
    "<p style=\"text-align: center;\">hungary.csv</p>\n",
    "\n",
    "***\n",
    "This file contains our dataset sourced from the Hungarian Institute of Cardiology. There are a 294 patients with 14 attributes. "
   ]
  },
  {
   "cell_type": "markdown",
   "metadata": {
    "cell_style": "split",
    "hidden": true
   },
   "source": [
    "<p style=\"text-align: center;\">switzerland.csv</p>\n",
    "\n",
    "***\n",
    "This file contains our dataset sourced from University Hospital (Zurich and Basel, Switzerland). There are a 294 patients with 14 attributes. "
   ]
  },
  {
   "cell_type": "markdown",
   "metadata": {
    "cell_style": "split",
    "hidden": true
   },
   "source": [
    "<p style=\"text-align: center;\">long-beach-va.csv</p>\n",
    "\n",
    "***\n",
    "This file contains our dataset sourced from the V.A Medical Center (Long Beach, California). There are a 200 patients with 14 attributes. "
   ]
  },
  {
   "cell_type": "markdown",
   "metadata": {
    "hidden": true
   },
   "source": [
    "The dataset will already be downloaded for the case. The original data can be accessed [here](https://archive.ics.uci.edu/ml/datasets/Heart+Disease). "
   ]
  },
  {
   "cell_type": "markdown",
   "metadata": {
    "heading_collapsed": true,
    "hidden": true
   },
   "source": [
    "### Consulting the Data Dictionary"
   ]
  },
  {
   "cell_type": "markdown",
   "metadata": {
    "hidden": true
   },
   "source": [
    "There are several variables or labels which you might not understand. The way to combat this is by consulting the data dictionary. \n",
    "\n",
    "> A data dictionary describes a dataset and provides information on the meaning of each variable. Always look for documentation or a data dictionary before starting an analysis."
   ]
  },
  {
   "cell_type": "markdown",
   "metadata": {
    "hidden": true
   },
   "source": [
    "A data dictionary is provided on the [UCI repository](https://archive.ics.uci.edu/ml/datasets/Heart+Disease) where the data is hosted. The data dictionary has also been reproduced below for your convenience.  "
   ]
  },
  {
   "cell_type": "markdown",
   "metadata": {
    "hidden": true
   },
   "source": [
    "<center>\n",
    "\n",
    "| *Column #*| *Definition*                                                                        |\n",
    "| --------- | ----------------------------------------------------------------------------------- |\n",
    "| 1         | age in years                                                                        |\n",
    "| 2         | sex (1 = male; 0 = female)                                                          |\n",
    "| 3         | chest pain (1:typical angina; 2:atypical angina; 3:non-anginal pain; 4:asymptomatic)| \n",
    "| 4         | resting blood pressure on hospital admission (mmHg)                                 |\n",
    "| 5         | serum cholesterol in mg/dl                                                          |\n",
    "| 6         | fasting blood sugar > 120 mg/dl (1=true; 0 = false)                                 |\n",
    "| 7         | resting electrocariographic results (0: normal; 1: ST-T wave abnormality (T wave inversions and/or ST elevation or depression of 0.05 mV); 2: showing probably or definite left ventricular hypertrophy by Estes' criteria                                                                    |\n",
    "| 8         | maximum heart rate acheived                                                         |\n",
    "| 9         | exercise induced angina (1=yes; 0=no)                                               |\n",
    "| 10        | ST depression induced by exercise relative to rest                                  |\n",
    "| 11        | Slope of the peak exercise ST segment (1: upsloping; 2: flat; 3: downsloping)          |\n",
    "| 12        | Number of major vessels (0-3) colored by fluoroscopy                                |\n",
    "| 13        | Exercise thallium scintigraphic defects (fixed, reversible, or none)                |\n",
    "| 14        | Diagnosis of heart disease (angiographic disease status) (0: <50% diameter narrowing, 1: >50% diameter narrowing)                                                                        |\n",
    "\n",
    "</center>"
   ]
  },
  {
   "cell_type": "markdown",
   "metadata": {
    "heading_collapsed": true
   },
   "source": [
    "# Setup (Do Not Skip)"
   ]
  },
  {
   "cell_type": "markdown",
   "metadata": {
    "hidden": true
   },
   "source": [
    "The code below will set up specific settings for the case to run properly. Do not worry if you do not understand what the code is doing, this will not impact your understanding of the case. Run the code below to complete the setup for the case. Do not skip this step!"
   ]
  },
  {
   "cell_type": "code",
   "execution_count": null,
   "metadata": {
    "ExecuteTime": {
     "end_time": "2020-03-23T11:31:00.711060Z",
     "start_time": "2020-03-23T11:30:53.145528Z"
    },
    "hidden": true
   },
   "outputs": [],
   "source": [
    "# Calling external libraries for additional functionality\n",
    "import pandas as pd\n",
    "import numpy as np\n",
    "import matplotlib.pyplot as plt\n",
    "import seaborn as sns\n",
    "import random\n",
    "import scipy\n",
    "\n",
    "from sklearn.model_selection import train_test_split\n",
    "from sklearn.metrics import confusion_matrix\n",
    "from sklearn.metrics import classification_report\n",
    "from pandas.api.types import CategoricalDtype \n",
    "plt.style.use('fivethirtyeight')\n",
    "# Increase max number of columns displayed in output tables\n",
    "pd.set_option(\"display.max_columns\",2000)\n",
    "\n",
    "# Make sure your ML results are the same\n",
    "random.seed(10)\n",
    "\n",
    "# Create function to test model\n",
    "def test_model(features):\n",
    "    total_variables=features+['heart_disease_diagnosis']\n",
    "    heart_disease_data_copy=heart_disease_data[total_variables].copy().dropna()\n",
    "    X=heart_disease_data_copy[features]\n",
    "    X=pd.get_dummies(X)\n",
    "    Y=heart_disease_data_copy.heart_disease_diagnosis\n",
    "    X_train, X_test, y_train, y_test = train_test_split(X, Y, test_size=0.2, random_state=40)\n",
    "    from sklearn.naive_bayes import BernoulliNB\n",
    "    nb = BernoulliNB()\n",
    "    nb.fit(X_train,y_train)\n",
    "    y_pred=nb.predict(X_test)\n",
    "\n",
    "    # Output results\n",
    "    print('Outputing results...')\n",
    "    conf_mat = confusion_matrix(y_test, y_pred)\n",
    "    print('confusion matrix')\n",
    "    print(conf_mat)\n",
    "    print(classification_report(y_test,y_pred))\n",
    "    # Compute fpr, tpr, thresholds and roc auc\n",
    "    roc_curve(y_test, y_pred)\n",
    "    fpr, tpr, thresholds = roc_curve(y_test, y_pred)\n",
    "    roc_auc = auc(fpr, tpr)\n",
    "\n",
    "    # Plot ROC curve\n",
    "    plt.plot(fpr, tpr, label='ROC curve (area = %0.3f)' % roc_auc)\n",
    "    plt.plot([0, 1], [0, 1], 'k--')  # random predictions curve\n",
    "    plt.xlim([0.0, 1.0])\n",
    "    plt.ylim([0.0, 1.0])\n",
    "    plt.xlabel('False Positive Rate or (1 - Specifity)')\n",
    "    plt.ylabel('True Positive Rate or (Sensitivity)')\n",
    "    plt.title('Receiver Operating Characteristic')\n",
    "    plt.legend(loc=\"lower right\")\n",
    "    # Calculate the area under the curve (AUC)\n",
    "    print('AUC:', roc_auc.round(2))\n",
    "    # Naive Bayes Output\n",
    "    class_probs=np.exp(nb.class_log_prior_)\n",
    "    print('the probability that the person doesn\\'t have heart disease: ', class_probs[0])\n",
    "    print('the probability that the person has heart disease', class_probs[1])\n",
    "    features_0=np.exp(nb.feature_log_prob_[0])\n",
    "    features_1=np.exp(nb.feature_log_prob_[1])\n",
    "    print('Condition probabilities given that the person doesn\\'t have heart disease')\n",
    "    for i in range(len(X_train.columns)):\n",
    "        print(X_train.columns[i],': ',features_0[i])\n",
    "\n",
    "    print('\\nCondition probabilities given that the person has heart disease')\n",
    "    for i in range(len(X_train.columns)):\n",
    "        print(X_train.columns[i],': ',features_1[i])\n",
    "\n",
    "print('Setup complete!')"
   ]
  },
  {
   "cell_type": "markdown",
   "metadata": {
    "hidden": true
   },
   "source": [
    "><img width = 50 height = 50 style=\"float: left; margin-right: 10px;\" src=\"https://upload.wikimedia.org/wikipedia/commons/b/b9/Stop_sign_dark_red.svg\">Stop! If you have not run the code cell above, please do so. The case will not work properly if you do not complete the setup. Otherwise, lets begin!"
   ]
  },
  {
   "cell_type": "markdown",
   "metadata": {
    "heading_collapsed": true
   },
   "source": [
    "# Cleaning our Data"
   ]
  },
  {
   "cell_type": "markdown",
   "metadata": {
    "hidden": true
   },
   "source": [
    "The first step in any analytic project is to clean our data. This is a critical step which will ensure our data is correct, consistent, and ready for analysis. If we do not properly process our data, we will not able to analyze it effectively regardless of how advanced our analytic technique is. A common saying in data analysis is \"Junk in, Junk out\". "
   ]
  },
  {
   "cell_type": "markdown",
   "metadata": {
    "heading_collapsed": true,
    "hidden": true
   },
   "source": [
    "## Reading our data"
   ]
  },
  {
   "cell_type": "markdown",
   "metadata": {
    "hidden": true
   },
   "source": [
    "We'll read in our data so we can clean and use it. "
   ]
  },
  {
   "cell_type": "code",
   "execution_count": null,
   "metadata": {
    "ExecuteTime": {
     "end_time": "2020-03-23T11:31:00.743708Z",
     "start_time": "2020-03-23T11:31:00.713056Z"
    },
    "cell_style": "center",
    "hidden": true
   },
   "outputs": [],
   "source": [
    "# Note: Unicode Transformation Format – 8 (UTF-8) is a standard to encode characters in different languages\n",
    "print('Data loading, please wait')\n",
    "cleveland = pd.read_csv(\"data/cleveland.csv\",  encoding=\"UTF-8\",header=None, sep=\",\")\n",
    "hungary =pd.read_csv(\"data/hungary.csv\",  encoding=\"UTF-8\",header=None, sep=\",\")\n",
    "switzerland = pd.read_csv(\"data/switzerland.csv\",  encoding=\"UTF-8\",header=None,sep=\",\")\n",
    "long_beach = pd.read_csv(\"data/long-beach-va.csv\",  encoding=\"UTF-8\", header=None,sep=\",\")\n",
    "print('Data loaded!')"
   ]
  },
  {
   "cell_type": "markdown",
   "metadata": {
    "hidden": true
   },
   "source": [
    "Now let's get an overview of our data"
   ]
  },
  {
   "cell_type": "code",
   "execution_count": null,
   "metadata": {
    "ExecuteTime": {
     "end_time": "2020-03-23T13:31:35.125038Z",
     "start_time": "2020-03-23T13:31:35.029286Z"
    },
    "hidden": true
   },
   "outputs": [],
   "source": [
    "print('Cleveland Patient Data:')\n",
    "cleveland.head()\n",
    "cleveland.info()\n",
    "print('\\nHungary Patient Data:')\n",
    "hungary.head()\n",
    "hungary.info()\n",
    "print('\\nSwitzerland Patient Data:')\n",
    "switzerland.head()\n",
    "switzerland.info()\n",
    "print('\\nLong Beach Patient Data:')\n",
    "long_beach.head()\n",
    "long_beach.info()"
   ]
  },
  {
   "cell_type": "markdown",
   "metadata": {
    "ExecuteTime": {
     "end_time": "2020-01-29T21:37:42.201901Z",
     "start_time": "2020-01-29T21:37:42.194834Z"
    },
    "hidden": true
   },
   "source": [
    "Take a minute and review the outputs. The first tables represent the first few observations for each dataset. The second, text output gives the structure of our data which includes variable name and the type of variable it is. "
   ]
  },
  {
   "cell_type": "markdown",
   "metadata": {
    "hidden": true
   },
   "source": [
    "Before we begin we can see our data does not have any variable names. However, we can see that the data has the same number of columns with the same variables. This indicates we can join the data through a process called concatenation.\n",
    "\n",
    "> If you're unsure what concatenation is, pleasure consult section 3.1.1 'What is Concatenation?'"
   ]
  },
  {
   "cell_type": "markdown",
   "metadata": {
    "hidden": true
   },
   "source": [
    "Before we concatenate though, it would be useful to make sure we can keep a record of which data came from which location. This may be a useful variable to analyze and use for our prediction model. "
   ]
  },
  {
   "cell_type": "code",
   "execution_count": null,
   "metadata": {
    "ExecuteTime": {
     "end_time": "2020-03-23T11:31:00.777347Z",
     "start_time": "2020-03-23T11:31:00.765378Z"
    },
    "hidden": true
   },
   "outputs": [],
   "source": [
    "cleveland['location']='cleveland'\n",
    "hungary['location']='hungary'\n",
    "switzerland['location']='switzerland'\n",
    "long_beach['location']='long_beach'\n",
    "\n",
    "print('Location Added to Datasets')"
   ]
  },
  {
   "cell_type": "markdown",
   "metadata": {
    "hidden": true
   },
   "source": [
    "Now let's concatenate our variables"
   ]
  },
  {
   "cell_type": "code",
   "execution_count": null,
   "metadata": {
    "ExecuteTime": {
     "end_time": "2020-03-23T11:31:00.796296Z",
     "start_time": "2020-03-23T11:31:00.778343Z"
    },
    "hidden": true
   },
   "outputs": [],
   "source": [
    "heart_disease_data =pd.concat([cleveland, hungary, switzerland, long_beach],axis=0)\n",
    "print('Data Concatenated')"
   ]
  },
  {
   "cell_type": "markdown",
   "metadata": {
    "hidden": true
   },
   "source": [
    "Now let's give our columns names based off their descriptions in the data dictionary. The data dictionary has been reproduced below for your convenience."
   ]
  },
  {
   "cell_type": "markdown",
   "metadata": {
    "hidden": true
   },
   "source": [
    "| *Column #*| *Definition*                                                                        |\n",
    "| --------- | ----------------------------------------------------------------------------------- |\n",
    "| 1         | age in years                                                                        |\n",
    "| 2         | sex (1 = male; 0 = female)                                                          |\n",
    "| 3         | chest pain (1:typical angina; 2:atypical angina; 3:non-anginal pain; 4:asymptomatic)| \n",
    "| 4         | resting blood pressure on hospital admission (mmHg)                                 |\n",
    "| 5         | serum cholesterol in mg/dl                                                          |\n",
    "| 6         | fasting blood sugar > 120 mg/dl (1=true; 0 = false)                                 |\n",
    "| 7         | resting electrocariographic results (0: normal; 1: ST-T wave abnormality (T wave inversions and/or ST elevation or depression of 0.05 mV); 2: showing probably or definite left ventricular hypertrophy by Estes' criteria                                                                    |\n",
    "| 8         | maximum heart rate acheived                                                         |\n",
    "| 9         | exercise induced angina (1=yes; 0=no)                                               |\n",
    "| 10        | ST depression induced by exercise relative to rest                                  |\n",
    "| 11        | Slope of the peak exercise ST segment (1: upsloping; 2: flat; 3: downsloping)          |\n",
    "| 12        | Number of major vessels (0-3) colored by fluoroscopy                                |\n",
    "| 13        | Exercise thallium scintigraphic defects (fixed, reversible, or none)                |\n",
    "| 14        | Diagnosis of heart disease (angiographic disease status) (0: <50% diameter narrowing, 1: >50% diameter narrowing)                                                                        |"
   ]
  },
  {
   "cell_type": "code",
   "execution_count": null,
   "metadata": {
    "ExecuteTime": {
     "end_time": "2020-03-23T11:31:00.820174Z",
     "start_time": "2020-03-23T11:31:00.797293Z"
    },
    "hidden": true
   },
   "outputs": [],
   "source": [
    "heart_disease_data.columns=['age', 'sex', 'chest_pain', 'blood_pressure', 'cholesterol', 'blood_sugar', 'ecg', \n",
    "                                   'max_heart_rate', 'exercise_angina','exercise_ST_depress', 'slope_peak_ST', \n",
    "                                   'number_vessel_fluoroscopy','thal_defects', 'heart_disease_diagnosis', 'location']\n",
    "\n",
    "print('Columns renamed')\n",
    "heart_disease_data=heart_disease_data[heart_disease_data.blood_pressure!='?']\n",
    "heart_disease_data=heart_disease_data[heart_disease_data.cholesterol!='?']\n",
    "heart_disease_data=heart_disease_data[heart_disease_data.blood_sugar!='?']\n",
    "heart_disease_data=heart_disease_data[heart_disease_data.ecg!='?']\n",
    "heart_disease_data=heart_disease_data[heart_disease_data.max_heart_rate!='?']\n",
    "heart_disease_data=heart_disease_data[heart_disease_data.exercise_angina!='?']\n",
    "heart_disease_data=heart_disease_data[heart_disease_data.exercise_ST_depress!='?']\n",
    "heart_disease_data=heart_disease_data[heart_disease_data.slope_peak_ST!='?']\n",
    "heart_disease_data=heart_disease_data[heart_disease_data.number_vessel_fluoroscopy!='?']\n",
    "heart_disease_data=heart_disease_data[heart_disease_data.thal_defects!='?']\n",
    "heart_disease_data=heart_disease_data[heart_disease_data.heart_disease_diagnosis!='?']\n"
   ]
  },
  {
   "cell_type": "markdown",
   "metadata": {
    "heading_collapsed": true,
    "hidden": true
   },
   "source": [
    "### What is Concatenation?"
   ]
  },
  {
   "cell_type": "markdown",
   "metadata": {
    "hidden": true
   },
   "source": [
    "Concatenation simply means taking our data set and pasting it together. Since our data has the same variables and format, we can think of concatenating them as stacking them on top of one another. The picture below offers a helpful illustration of this process. \n",
    "\n",
    "<img src=\"http://www.datasciencemadesimple.com/wp-content/uploads/2017/11/rowbind-in-python-pandas-0.png\" style=\"float: center; width: 80%;\">"
   ]
  },
  {
   "cell_type": "markdown",
   "metadata": {
    "heading_collapsed": true,
    "hidden": true
   },
   "source": [
    "## Inspecting our Data"
   ]
  },
  {
   "cell_type": "markdown",
   "metadata": {
    "hidden": true
   },
   "source": [
    "Now that our data is prepped, we can inspect it."
   ]
  },
  {
   "cell_type": "code",
   "execution_count": null,
   "metadata": {
    "ExecuteTime": {
     "end_time": "2020-03-23T11:31:00.832141Z",
     "start_time": "2020-03-23T11:31:00.823166Z"
    },
    "hidden": true
   },
   "outputs": [],
   "source": [
    "heart_disease_data.head()\n",
    "heart_disease_data.info()"
   ]
  },
  {
   "cell_type": "markdown",
   "metadata": {
    "ExecuteTime": {
     "end_time": "2019-10-08T17:00:13.510443Z",
     "start_time": "2019-10-08T17:00:13.471Z"
    },
    "hidden": true,
    "solution2": "hidden",
    "solution2_first": true
   },
   "source": [
    "What do you see about the data? There's no incorrect answer. Click the button below to reveal some observations that will be important for us when we clean the data. "
   ]
  },
  {
   "cell_type": "markdown",
   "metadata": {
    "hidden": true,
    "solution2": "hidden"
   },
   "source": [
    "The first is that many of our variables are not in easily human readable format. For instance, `chest_pain` is categorized as a number from 1-4. This does not give us any immediately meaningful information. We will need to recode our variables into something meaningful. \n",
    "\n",
    "Second many of the variables are incorrectly classified as wrong kind of variables. The second output window tells you what kind of variables each variable in our dataset is. Don't worry if you don't know what many of the variable types are. That will be explained further on in the case. "
   ]
  },
  {
   "cell_type": "markdown",
   "metadata": {
    "heading_collapsed": true,
    "hidden": true
   },
   "source": [
    "## Recoding Variables"
   ]
  },
  {
   "cell_type": "markdown",
   "metadata": {
    "hidden": true
   },
   "source": [
    "Sometime, the data you receive may be coded in such a way that is not easily understandable. Recoding the data (turning the data into a more easily human readable format) can help make your analysis quicker and smoother. \n",
    "\n",
    "We now need to recode our variables into meaningful outputs. For instance, in the data dictionary for `sex` we can see that `1` = `male` and `0` = `female`. We will now recode our variables, where possible, into more human-readable outputs based upon the data dictionary. \n",
    "\n",
    "The variables that we need to recode to a more readable format are `sex`, `chest pain`, `blood_sugar`, `ecg`, `exercise_angina`, `slope_peak_ST`, `thal_defects`, and `heart_disease_diagnosis`. "
   ]
  },
  {
   "cell_type": "code",
   "execution_count": null,
   "metadata": {
    "ExecuteTime": {
     "end_time": "2020-03-23T02:25:27.594630Z",
     "start_time": "2020-03-23T02:25:27.574785Z"
    },
    "hidden": true
   },
   "outputs": [],
   "source": [
    "# Recoding\n",
    "# heart_disease_data.sex = heart_disease_data.sex.apply(lambda x: 'Male' if x == 1 else 'Female')\n",
    "\n",
    "heart_disease_data.chest_pain = heart_disease_data.chest_pain.apply(lambda x: 'typical angina' if x == 1\n",
    "                                                  else ('atypical angina' if x == 2 \n",
    "                                                        else ('non-anginal pain' if x == 3\n",
    "                                                              else 'asymptomatic' )))\n",
    "\n",
    "# heart_disease_data.blood_sugar=heart_disease_data.blood_sugar.apply(lambda x: 'Fasting Blood Sugar > 120' if x == 1 \n",
    "#                                                                     else 'Fasting Blood Sugar < 120')\n",
    "heart_disease_data.blood_sugar=heart_disease_data.blood_sugar.apply(lambda x: 1 if x == 1 \n",
    "                                                                     else 0)\n",
    "\n",
    "heart_disease_data.ecg = heart_disease_data.ecg.apply(lambda x: 'normal' if x == 0\n",
    "                                                  else ('ST-T wave abnormality' if x == 1 \n",
    "                                                        else 'Probable or definite LVH'))\n",
    "\n",
    "# heart_disease_data.exercise_angina=heart_disease_data.exercise_angina.apply(lambda x:'Positive' if x == 1\n",
    "#                                                                            else 'Negative')\n",
    "heart_disease_data.exercise_angina=heart_disease_data.exercise_angina.apply(lambda x:1 if x == 1\n",
    "                                                                            else 0)\n",
    "heart_disease_data.slope_peak_ST=heart_disease_data.slope_peak_ST.apply(lambda x:'Upsloping' if x ==1\n",
    "                                                                       else('Flat' if x==2 else 'Downsloping'))\n",
    "\n",
    "heart_disease_data.thal_defects=heart_disease_data.thal_defects.apply(lambda x: 'Normal' if x == '3.0'\n",
    "                                                  else ('Fixed defect' if x == '6.0'\n",
    "                                                        else ('Reversible defect' if x == '7'\n",
    "                                                              else 'Reversible defect' )))\n",
    "\n",
    "heart_disease_data.heart_disease_diagnosis=heart_disease_data.heart_disease_diagnosis.apply(lambda x: 'No heart disease' if x == 0 else 'Disease')\n",
    "\n",
    "# Removin redundancies in number_vessel_fluoroscopy\n",
    "heart_disease_data.number_vessel_fluoroscopy=heart_disease_data.number_vessel_fluoroscopy.astype(float)\n",
    "heart_disease_data.loc[heart_disease_data.number_vessel_fluoroscopy==0,'number_vessel_fluoroscopy']=0.0\n",
    "\n",
    "\n",
    "print('Data Recoded')"
   ]
  },
  {
   "cell_type": "markdown",
   "metadata": {
    "hidden": true
   },
   "source": [
    "Let's confirm our changes"
   ]
  },
  {
   "cell_type": "code",
   "execution_count": null,
   "metadata": {
    "ExecuteTime": {
     "end_time": "2020-03-23T02:25:27.618549Z",
     "start_time": "2020-03-23T02:25:27.596626Z"
    },
    "hidden": true
   },
   "outputs": [],
   "source": [
    "heart_disease_data[['sex', 'chest_pain', 'blood_sugar', 'ecg', 'exercise_angina', 'slope_peak_ST',\n",
    "                         'thal_defects', 'heart_disease_diagnosis']].head()"
   ]
  },
  {
   "cell_type": "code",
   "execution_count": null,
   "metadata": {
    "ExecuteTime": {
     "end_time": "2020-03-23T02:25:27.628917Z",
     "start_time": "2020-03-23T02:25:27.619509Z"
    },
    "hidden": true
   },
   "outputs": [],
   "source": [
    "heart_disease_data[['sex', 'chest_pain', 'blood_sugar', 'ecg', 'exercise_angina', 'slope_peak_ST',\n",
    "                         'thal_defects', 'heart_disease_diagnosis']].info()"
   ]
  },
  {
   "cell_type": "markdown",
   "metadata": {
    "hidden": true
   },
   "source": [
    "First we'll need to correctly classify each variable. There are many types of variables. For instance, the variables we just recoded are now considered character variables. The two most important classes of variable to consider for now are categorical and numeric data. "
   ]
  },
  {
   "cell_type": "markdown",
   "metadata": {
    "hidden": true,
    "solution2": "hidden",
    "solution2_first": true
   },
   "source": [
    "**Pre-Check:** What is the difference between a numeric and categorical variable?"
   ]
  },
  {
   "cell_type": "markdown",
   "metadata": {
    "hidden": true,
    "solution2": "hidden"
   },
   "source": [
    "- **Numeric:** variables whose values are whole numbers (ie. numbers, percents)\n",
    "- **Categorical:** variables whose values are selected from a group (ie. dog breeds, male/female) \n",
    "\n",
    "> Note R calls categorical variables **Factors**"
   ]
  },
  {
   "cell_type": "markdown",
   "metadata": {
    "hidden": true,
    "solution2": "hidden",
    "solution2_first": true
   },
   "source": [
    "**Application Check:** Take a look at all variables we just recoded above. Are these variable numeric or categorical?"
   ]
  },
  {
   "cell_type": "markdown",
   "metadata": {
    "hidden": true,
    "solution2": "hidden"
   },
   "source": [
    "All these variable are categorical since they all only have a limited number of values or categories. "
   ]
  },
  {
   "cell_type": "markdown",
   "metadata": {
    "hidden": true
   },
   "source": [
    "Lets turn our variables into the correct variable type now. "
   ]
  },
  {
   "cell_type": "code",
   "execution_count": null,
   "metadata": {
    "ExecuteTime": {
     "end_time": "2020-03-23T02:25:27.645530Z",
     "start_time": "2020-03-23T02:25:27.630942Z"
    },
    "hidden": true
   },
   "outputs": [],
   "source": [
    "heart_disease_data.blood_pressure=heart_disease_data.blood_pressure.astype(float)\n",
    "heart_disease_data.cholesterol=heart_disease_data.cholesterol.astype(float)\n",
    "heart_disease_data.max_heart_rate=heart_disease_data.max_heart_rate.astype(float)\n",
    "heart_disease_data.exercise_ST_depress=heart_disease_data.exercise_ST_depress.astype(float)\n",
    "print('Variables converted')"
   ]
  },
  {
   "cell_type": "markdown",
   "metadata": {
    "hidden": true
   },
   "source": [
    "It important to make sure your variables are encoded correctly in an analysis. Incorrectly encoded variables can ultimately affect the results of any predictive models or analysis you produce leading to faulty conclusions. "
   ]
  },
  {
   "cell_type": "markdown",
   "metadata": {
    "heading_collapsed": true,
    "hidden": true
   },
   "source": [
    "## Checking for Missing Values"
   ]
  },
  {
   "cell_type": "markdown",
   "metadata": {
    "hidden": true,
    "solution2": "hidden",
    "solution2_first": true
   },
   "source": [
    "Why is checking for missing data important?"
   ]
  },
  {
   "cell_type": "markdown",
   "metadata": {
    "hidden": true,
    "solution2": "hidden"
   },
   "source": [
    "Missing data can produce biased results or lead to lead to reduced statistical power of our analysis (by reducing our sample size)\n",
    "\n",
    "Missing data are a common feature of messy, real-world data. How you choose to deal with missing data will have a big impact on your analysis and any predictive model you build. There are several ways to deal with missing data such as removing or imputing missing data. More details on handling missing data in R can be found [here](https://www.r-bloggers.com/missing-value-treatment/)"
   ]
  },
  {
   "cell_type": "markdown",
   "metadata": {
    "hidden": true
   },
   "source": [
    "Lets examine the data for missing values now."
   ]
  },
  {
   "cell_type": "code",
   "execution_count": null,
   "metadata": {
    "ExecuteTime": {
     "end_time": "2020-03-23T11:32:58.684077Z",
     "start_time": "2020-03-23T11:32:58.677096Z"
    },
    "hidden": true
   },
   "outputs": [],
   "source": [
    "print('Number of Missing Data for Each Variable:')\n",
    "heart_disease_data.isna().sum()"
   ]
  },
  {
   "cell_type": "markdown",
   "metadata": {
    "hidden": true
   },
   "source": [
    "Overall there does not seem to be anything suspicious about the number of missing values. However, we can see that the variables `slope_peak_ST`, `number_vessel_fluoroscopy`, and `thal_defects` have a significant amount of missing. This might be problematic when using these variables in a predictive model. "
   ]
  },
  {
   "cell_type": "markdown",
   "metadata": {
    "heading_collapsed": true,
    "hidden": true
   },
   "source": [
    "## Checking for Implausible Values"
   ]
  },
  {
   "cell_type": "markdown",
   "metadata": {
    "hidden": true
   },
   "source": [
    "Lets check our data for implausible values. Focus on the minimum and maximum values for the numeric output below. "
   ]
  },
  {
   "cell_type": "code",
   "execution_count": null,
   "metadata": {
    "ExecuteTime": {
     "end_time": "2020-03-17T02:01:23.717161Z",
     "start_time": "2020-03-17T02:01:23.684232Z"
    },
    "hidden": true
   },
   "outputs": [],
   "source": [
    "heart_disease_data.describe()"
   ]
  },
  {
   "cell_type": "markdown",
   "metadata": {
    "heading_collapsed": true,
    "hidden": true
   },
   "source": [
    "## Creating Clinically Relevant Variables"
   ]
  },
  {
   "cell_type": "markdown",
   "metadata": {
    "hidden": true
   },
   "source": [
    "Our data already includes several useful clinical measures/categories. However, cholesterol has been left as a raw lab value. Lets convert this into a more clinically useful variable. "
   ]
  },
  {
   "cell_type": "markdown",
   "metadata": {
    "heading_collapsed": true,
    "hidden": true
   },
   "source": [
    "### Cholesterol"
   ]
  },
  {
   "cell_type": "markdown",
   "metadata": {
    "hidden": true
   },
   "source": [
    "A person's total body cholesterol reveals the total amount of cholesterol and triglycerides in the blood. The high cholesterol can cause plaques to build up within blood vessels. This leads to arterial narrowing and eventually heart disease. For this reason, it's important for individuals to maintain healthy cholesterol levels to prevent heart disease. \n",
    "\n",
    "<img src=\"https://www.health.harvard.edu/media/content/images/cholesterol-blood-test-needle-dina2001iStock_79633563_MEDIUM.jpg\" style=\"width:450px;height:300px;\">"
   ]
  },
  {
   "cell_type": "markdown",
   "metadata": {
    "hidden": true,
    "solution2": "hidden",
    "solution2_first": true
   },
   "source": [
    "**Knowledge Check:** What are the clinical cut-offs for hypercholesterolnemia?"
   ]
  },
  {
   "cell_type": "markdown",
   "metadata": {
    "hidden": true,
    "solution2": "hidden"
   },
   "source": [
    "<center>\n",
    "\n",
    "| *Category*                      | *BMI Range (mg/dL)*     |\n",
    "| ------------------------------- | ----------------------- |\n",
    "| Normal                          | cholesterol < 200       |\n",
    "| Borderline Hypercholestrolnemia | 200 ≤ cholesterol < 240 |\n",
    "| Hypercholesterolnemia           | 240 ≤ cholesterol       |\n",
    "\n",
    "</center>"
   ]
  },
  {
   "cell_type": "markdown",
   "metadata": {
    "hidden": true
   },
   "source": [
    "Let create the new variable `cholesterol_status` based off these clinical cut-offs "
   ]
  },
  {
   "cell_type": "code",
   "execution_count": null,
   "metadata": {
    "ExecuteTime": {
     "end_time": "2020-03-17T02:01:24.218294Z",
     "start_time": "2020-03-17T02:01:24.211638Z"
    },
    "hidden": true
   },
   "outputs": [],
   "source": [
    "# Create 'cholesterol_status'\n",
    "heart_disease_data['cholesterol_status'] = heart_disease_data.cholesterol.apply(lambda x: 'Normal' if x <200\n",
    "                                                  else ('Borderline Hypercholestrolnemia' if x >=200 and x < 240\n",
    "                                                        else 'Hypercholesterolnemia'))\n",
    "print('\\'cholesterol_status\\' variable created!')"
   ]
  },
  {
   "cell_type": "markdown",
   "metadata": {
    "hidden": true
   },
   "source": [
    "Let's confirm our results"
   ]
  },
  {
   "cell_type": "code",
   "execution_count": null,
   "metadata": {
    "ExecuteTime": {
     "end_time": "2020-03-17T02:01:24.308349Z",
     "start_time": "2020-03-17T02:01:24.295837Z"
    },
    "hidden": true
   },
   "outputs": [],
   "source": [
    "heart_disease_data[['cholesterol', 'cholesterol_status']].head()"
   ]
  },
  {
   "cell_type": "markdown",
   "metadata": {
    "heading_collapsed": true,
    "hidden": true
   },
   "source": [
    "#### Limitations and Considerations when using Cholesterol"
   ]
  },
  {
   "cell_type": "markdown",
   "metadata": {
    "hidden": true
   },
   "source": [
    "It's important to note that total cholesterol does not tell the whole story. A person can have differnt types of cholesterol. There are primarily two important categories. Low-density lipoprotein (LDL) and high-density lipoprotein (HDL). LDL is referred to as 'bad cholesterol' because this is the cholesterol that can build up in arteries leading to plaques. HDL is referred to as 'good cholesterol' because this is the cholesterol that actually helps the body clear LDL cholesterol. Unfortunately, our data does not provide us the information to differentiate between the two. \n",
    "\n",
    "<img src=\"https://avitahealth.org/wp-content/uploads/2019/01/Cholesterol.jpg\" style=\"width:400px;height:267px;\">"
   ]
  },
  {
   "cell_type": "markdown",
   "metadata": {
    "heading_collapsed": true
   },
   "source": [
    "# Exploratory Data Analysis "
   ]
  },
  {
   "cell_type": "markdown",
   "metadata": {
    "hidden": true
   },
   "source": [
    "Now that we've cleaned our data we can begin exploring our data. Using this, we can see which features are good candidates for building our prediction model. Feature selection  will determine how good or how bad your model is. Bad feature selection can have a hugely negative impact on your model even if you used the most advanced techniques. Understanding the clinical nuances of your data can inform better feature selection"
   ]
  },
  {
   "cell_type": "markdown",
   "metadata": {
    "heading_collapsed": true,
    "hidden": true
   },
   "source": [
    "### Why Can't We Just Use All or Most Variables?"
   ]
  },
  {
   "cell_type": "markdown",
   "metadata": {
    "hidden": true
   },
   "source": [
    "One issue you might be wondering about is why do we even need to select variables. Why not just use all of the variables? After all, more data lead to better models right? This is a common misconception that even experienced analysts need to watch out for. Including too many features in your prediction model can lead to what is known as 'overfitting'. Overfitting is essentially where you build a model that adheres too closely to your current data set and is unable to predict observations that are not from your current data set. In other words, its where you develop a model that tuned too closely to your current data, and is not generalizable to outside data sources. \n",
    "\n",
    "<img src=\"https://3gp10c1vpy442j63me73gy3s-wpengine.netdna-ssl.com/wp-content/uploads/2018/03/Screen-Shot-2018-03-22-at-11.22.15-AM-e1527613915658.png\" align=\"center\" style=\"width: 50%; margin-bottom: 0.5em; margin-top: 0.5em;\">"
   ]
  },
  {
   "cell_type": "markdown",
   "metadata": {
    "heading_collapsed": true,
    "hidden": true
   },
   "source": [
    "### Getting A Closer Look At Our Data"
   ]
  },
  {
   "cell_type": "code",
   "execution_count": null,
   "metadata": {
    "ExecuteTime": {
     "end_time": "2020-03-17T02:01:24.779187Z",
     "start_time": "2020-03-17T02:01:24.764189Z"
    },
    "hidden": true
   },
   "outputs": [],
   "source": [
    "heart_disease_data.head()"
   ]
  },
  {
   "cell_type": "code",
   "execution_count": null,
   "metadata": {
    "ExecuteTime": {
     "end_time": "2020-03-17T02:01:24.840529Z",
     "start_time": "2020-03-17T02:01:24.780184Z"
    },
    "hidden": true
   },
   "outputs": [],
   "source": [
    "heart_disease_data.describe()"
   ]
  },
  {
   "cell_type": "code",
   "execution_count": null,
   "metadata": {
    "ExecuteTime": {
     "end_time": "2020-03-17T02:01:24.853495Z",
     "start_time": "2020-03-17T02:01:24.842525Z"
    },
    "hidden": true
   },
   "outputs": [],
   "source": [
    "heart_disease_data.info()"
   ]
  },
  {
   "cell_type": "markdown",
   "metadata": {
    "hidden": true
   },
   "source": [
    "This hand summary page presents us with quite a bit of data. The first thing to realize is that the output will differ based on whether the variable is numeric or categorical. Numeric outputs will include summary statistics while categorical variables will include frequency counts of each category. \n",
    "\n",
    "These summaries will be a useful reference throughout our exploratory data analysis. "
   ]
  },
  {
   "cell_type": "markdown",
   "metadata": {
    "heading_collapsed": true,
    "hidden": true
   },
   "source": [
    "## Assess Numeric Variables"
   ]
  },
  {
   "cell_type": "markdown",
   "metadata": {
    "hidden": true,
    "solution2": "hidden"
   },
   "source": [
    "A chi-square test is a statistical test that tells you whether groups of observations are different. For instance, say you're researching two companies and you divide them either as male or female. The number of males compared to females in the two companies differ but how can you tell that this is not random chance? A chi-squared test can be used to differentiate whether the **observed** number of males and females in your study differs from the **expected** number of males and females. \n",
    "\n",
    "> Note: Chi-square tests can only be used for categorical variables. There are seperate tests to determine whether numerical numbers differ form one another. These additional tests are beyond the scope of the case. "
   ]
  },
  {
   "cell_type": "markdown",
   "metadata": {
    "hidden": true
   },
   "source": [
    "Lets take a look at our other variables"
   ]
  },
  {
   "cell_type": "code",
   "execution_count": null,
   "metadata": {
    "ExecuteTime": {
     "end_time": "2020-03-17T02:01:25.145599Z",
     "start_time": "2020-03-17T02:01:25.128394Z"
    },
    "hidden": true
   },
   "outputs": [],
   "source": [
    "heart_disease_data.head()"
   ]
  },
  {
   "cell_type": "markdown",
   "metadata": {
    "hidden": true
   },
   "source": [
    "We can see that there are a couple numeric variables. However, the only ones we would consider are `blood_pressure`, `max_heart_rate`, and `exercise_ST_depress` measurements since the `cholesterol` has a newer and more clinically relevant variable available. \n",
    "\n",
    "Lets take a look at the distributions of these variables. "
   ]
  },
  {
   "cell_type": "code",
   "execution_count": null,
   "metadata": {
    "ExecuteTime": {
     "end_time": "2020-03-17T02:01:26.076473Z",
     "start_time": "2020-03-17T02:01:25.208873Z"
    },
    "hidden": true
   },
   "outputs": [],
   "source": [
    "# Create Plot\n",
    "plt.figure(figsize=(20,18))\n",
    "\n",
    "plt.subplot(2,2,1)\n",
    "n, bins, patches=plt.hist(heart_disease_data.age,bins='auto', alpha=0.7, rwidth=0.85)\n",
    "xlabel=plt.xlabel('Age (years)')\n",
    "ylabel=plt.ylabel('Frequency Count')\n",
    "plt.axvline(heart_disease_data.age.median(), color='r',linestyle='dashed')\n",
    "plt.text(60,50,'Dashed Line Represents Median Age')\n",
    "\n",
    "plt.subplot(2,2,2)\n",
    "n, bins, patches=plt.hist(heart_disease_data.blood_pressure,bins='auto', alpha=0.7, rwidth=0.85)\n",
    "xlabel=plt.xlabel('Blood Pressure (mmHg)')\n",
    "ylabel=plt.ylabel('Frequency Count')\n",
    "plt.axvline(heart_disease_data.blood_pressure.median(), color='r',linestyle='dashed')\n",
    "plt.text(135,50,'Dashed Line Represents Median Blood Pressure')\n",
    "\n",
    "plt.subplot(2,2,3)\n",
    "n, bins, patches=plt.hist(heart_disease_data.max_heart_rate,bins='auto', alpha=0.7, rwidth=0.85)\n",
    "xlabel=plt.xlabel('Max Heart Rate (bpm)')\n",
    "ylabel=plt.ylabel('Frequency Count')\n",
    "plt.axvline(heart_disease_data.max_heart_rate.median(), color='r',linestyle='dashed')\n",
    "plt.text(65,50,'Dashed Line Represents Median Max Heart Rate')\n",
    "\n",
    "plt.subplot(2,2,4)\n",
    "n, bins, patches=plt.hist(heart_disease_data.exercise_ST_depress,bins='auto', alpha=0.7, rwidth=0.85)\n",
    "xlabel=plt.xlabel('ST Depression (mm)')\n",
    "ylabel=plt.ylabel('Frequency Count')\n",
    "plt.axvline(heart_disease_data.exercise_ST_depress.median(), color='r',linestyle='dashed')\n",
    "plt.text(1,50,'Dashed Line Represents Median ST Depression')\n",
    "plt.show()"
   ]
  },
  {
   "cell_type": "markdown",
   "metadata": {
    "hidden": true
   },
   "source": [
    "There does not appear to be any extreme values or prominent clusters. Now lets see if theres a relationship between these variables and heart disease diagnosis. "
   ]
  },
  {
   "cell_type": "code",
   "execution_count": null,
   "metadata": {
    "ExecuteTime": {
     "end_time": "2020-03-17T02:01:26.992281Z",
     "start_time": "2020-03-17T02:01:26.078472Z"
    },
    "hidden": true,
    "scrolled": true
   },
   "outputs": [],
   "source": [
    "plt.figure(figsize=(25,18))\n",
    "plt.subplot(2,2,1)\n",
    "sns.violinplot(y=heart_disease_data.heart_disease_diagnosis,x=heart_disease_data.age)\n",
    "plt.title('The dots in the center of each violin plot \\n represent median age of each group')\n",
    "plt.xlabel('Age (years)')\n",
    "plt.ylabel('Heart Diseas Diagnosis')\n",
    "\n",
    "plt.subplot(2,2,2)\n",
    "sns.violinplot(y=heart_disease_data.heart_disease_diagnosis,x=heart_disease_data.blood_pressure)\n",
    "plt.title('The dots in the center of each violin plot \\n represent median blood pressure of each group')\n",
    "plt.xlabel('Blood Pressure (mmHg)')\n",
    "plt.ylabel('Heart Diseas Diagnosis')\n",
    "\n",
    "plt.subplot(2,2,3)\n",
    "sns.violinplot(y=heart_disease_data.heart_disease_diagnosis,x=heart_disease_data.max_heart_rate)\n",
    "plt.title('The dots in the center of each violin plot \\n represent median max heart rate of each group')\n",
    "plt.xlabel('Max Heart Rate (bpm)')\n",
    "plt.ylabel('Heart Diseas Diagnosis')\n",
    "\n",
    "plt.subplot(2,2,4)\n",
    "sns.violinplot(y=heart_disease_data.heart_disease_diagnosis,x=heart_disease_data.exercise_ST_depress)\n",
    "plt.title('The dots in the center of each violin plot \\n represent median ST Depression of each group')\n",
    "plt.xlabel('ST Depression (mm)')\n",
    "plt.ylabel('Heart Diseas Diagnosis')\n",
    "plt.show()\n"
   ]
  },
  {
   "cell_type": "markdown",
   "metadata": {
    "hidden": true
   },
   "source": [
    "The results indicate all three variables have different distribution (to varying degrees) depending on whether the patient has a heart disease diagnosis or not. This indicates that these variables have an effect on whether a patient has heart disease and are good candidate features (variables) for our model. "
   ]
  },
  {
   "cell_type": "markdown",
   "metadata": {
    "hidden": true
   },
   "source": [
    "### Assessing Categorical Variables "
   ]
  },
  {
   "cell_type": "markdown",
   "metadata": {
    "hidden": true
   },
   "source": [
    "Finally lets look at our remaining variables. "
   ]
  },
  {
   "cell_type": "code",
   "execution_count": null,
   "metadata": {
    "ExecuteTime": {
     "end_time": "2020-03-17T02:01:27.016397Z",
     "start_time": "2020-03-17T02:01:26.994272Z"
    },
    "hidden": true
   },
   "outputs": [],
   "source": [
    "heart_disease_data.head()"
   ]
  },
  {
   "cell_type": "markdown",
   "metadata": {
    "hidden": true
   },
   "source": [
    "We're interest in categorical variables now. We should be able to observe their effect on heart disease using stacked bar plots. "
   ]
  },
  {
   "cell_type": "code",
   "execution_count": null,
   "metadata": {
    "ExecuteTime": {
     "end_time": "2020-03-17T02:01:27.031753Z",
     "start_time": "2020-03-17T02:01:27.019390Z"
    },
    "hidden": true
   },
   "outputs": [],
   "source": [
    "def stacked_plot(feature):\n",
    "    binary=heart_disease_data.groupby('heart_disease_diagnosis')\n",
    "    length=len(heart_disease_data[feature].unique())\n",
    "    layers=[]\n",
    "    for symbol, group in binary:\n",
    "        sequence=group[feature].value_counts().index\n",
    "        temp=[]\n",
    "        try:\n",
    "            for i in range(length):\n",
    "                number=group[feature].value_counts()[i]\n",
    "                temp.append(number)\n",
    "        except:\n",
    "            print('there\\'s no case for at least one category ')\n",
    "        temp=dict(zip(sequence,temp))\n",
    "        layers.append(temp)\n",
    "    names=heart_disease_data[feature].unique()\n",
    "    no_disease_layer=[0]*len(names)\n",
    "    disease_layer=[0]*len(names)\n",
    "    position=np.arange(len(names))+1\n",
    "    for i in range(len(names)):\n",
    "        try:\n",
    "            no_disease_layer[i]=layers[0][names[i]]\n",
    "        except:\n",
    "            no_disease_layer[i]=0\n",
    "        try:\n",
    "            disease_layer[i]=layers[1][names[i]]\n",
    "        except:\n",
    "            disease_layer[i]=0\n",
    "        total=no_disease_layer[i]+disease_layer[i]\n",
    "        no_disease_layer[i]=no_disease_layer[i]/total\n",
    "        disease_layer[i]=disease_layer[i]/total\n",
    "    plt.bar(position,no_disease_layer, color='blue', edgecolor='white')\n",
    "    plt.bar(position, disease_layer, bottom=no_disease_layer, color='red', edgecolor='white')\n",
    "    plt.title(feature)\n",
    "    plt.xticks(position, names, fontweight='bold')"
   ]
  },
  {
   "cell_type": "code",
   "execution_count": null,
   "metadata": {
    "ExecuteTime": {
     "end_time": "2020-03-17T02:01:28.059270Z",
     "start_time": "2020-03-17T02:01:27.033748Z"
    },
    "hidden": true
   },
   "outputs": [],
   "source": [
    "plt.figure(figsize=(20,20))\n",
    "plt.subplot(3,2,1)\n",
    "stacked_plot('sex')\n",
    "plt.subplot(3,2,2)\n",
    "stacked_plot('chest_pain')\n",
    "plt.subplot(3,2,3)\n",
    "stacked_plot('blood_sugar')\n",
    "plt.subplot(3,2,4)\n",
    "stacked_plot('ecg')\n",
    "plt.subplot(3,2,5)\n",
    "stacked_plot('exercise_angina')\n",
    "plt.subplot(3,2,6)\n",
    "stacked_plot('location')\n",
    "plt.show()"
   ]
  },
  {
   "cell_type": "markdown",
   "metadata": {
    "hidden": true
   },
   "source": [
    "This plot grid allows us to quickly see how stroke rates differ depending on variable. Based on observation it appears `sex`, `chest_pain`, `blood_sugar`, `ecg`, `exercise_angina`, and `location` all seem to have an effect on heart disease diagnosis and seem to be promising candidate variables. "
   ]
  },
  {
   "cell_type": "markdown",
   "metadata": {
    "heading_collapsed": true,
    "hidden": true
   },
   "source": [
    "## Logistic Regression"
   ]
  },
  {
   "cell_type": "markdown",
   "metadata": {
    "hidden": true
   },
   "source": [
    "Now that our variables have been successfully converted and our outcome has been defined, we can analyze our data. Logistic regression is a mathematical model that estimates the probability of a binary outcomes (such as our risk label). It is named after the logistic curve which takes the S-shape depicted below.\n",
    "<img src=\"https://upload.wikimedia.org/wikipedia/commons/thumb/8/88/Logistic-curve.svg/640px-Logistic-curve.svg.png?1566122052688\" alt=\"Logistic Curve\" title=\"Logistic Curve\" />"
   ]
  },
  {
   "cell_type": "markdown",
   "metadata": {
    "hidden": true,
    "solution2": "hidden",
    "solution2_first": true
   },
   "source": [
    "**Pre-Check:** What is our primary outcome? What information will a logistic regression model tell use about our outcome?"
   ]
  },
  {
   "cell_type": "markdown",
   "metadata": {
    "hidden": true,
    "solution2": "hidden"
   },
   "source": [
    "Our primary outcome is whether the individual has heart disease. The logistic regression model will allow us to see how individuals variables affect whether an individual has heart disease **while controlling for other variables in the model**. For instance, we can see whether being older affects having heart disease while controlling for abnormal ecg, blood sugar, etc...\n",
    "\n",
    "Very useful indeed!"
   ]
  },
  {
   "cell_type": "markdown",
   "metadata": {
    "hidden": true,
    "solution2": "hidden",
    "solution2_first": true
   },
   "source": [
    "**Follow-Up:** What is statistical significance? What is a generally accepted level of statistical significance in healthcare research?"
   ]
  },
  {
   "cell_type": "markdown",
   "metadata": {
    "hidden": true,
    "solution2": "hidden"
   },
   "source": [
    "Statistical Significance can be defined as the chance that the relationship you observed in your data occurred by chance. What does this mean? Lets say our logistic regression model finds that gender has a statistically significant effect on having a stroke. This means that it is more likely that there is indeed a relationship between gender and stroke than chance would suggest. \n",
    "\n",
    "The conventional level of significance that is accepted is < 0.05 (this number is referred to as a p-value). This means that there is less than 5% chance that the observed relationship in the data was due to chance alone. The image below display a sample R output.\n",
    "\n",
    "<img src=\"https://drchrispook.files.wordpress.com/2017/02/anova-output-from-r1.jpg\" align=\"center\" style=\"margin-bottom: 0.5em; margin-top: 0.5em;\">"
   ]
  },
  {
   "cell_type": "markdown",
   "metadata": {
    "hidden": true,
    "solution2": "hidden"
   },
   "source": [
    "Statistical Significance can be defined as the chance that the relationship you observed in your data occurred by chance. What does this mean? Let's say our logistic regression model finds that weight has a statistically significant effect on being high risk or low risk asthmatic patient. This means that it is more likely that there is indeed a relationship between weight and risk than chance would suggest. \n",
    "\n",
    "The conventional level of significance that is accepted is < 0.05 (this number is referred to as a p-value). This means that there is less than 5% chance that the observed relationship in the data was due to chance alone. The image below display a sample R output.\n",
    "\n",
    "<img src=\"https://drchrispook.files.wordpress.com/2017/02/anova-output-from-r1.jpg\" align=\"center\" style=\"margin-bottom: 0.5em; margin-top: 0.5em;\">"
   ]
  },
  {
   "cell_type": "markdown",
   "metadata": {
    "hidden": true
   },
   "source": [
    "Lets create out logistic model"
   ]
  },
  {
   "cell_type": "code",
   "execution_count": null,
   "metadata": {
    "ExecuteTime": {
     "end_time": "2020-03-17T02:01:28.090999Z",
     "start_time": "2020-03-17T02:01:28.062261Z"
    },
    "hidden": true
   },
   "outputs": [],
   "source": [
    "heart_disease_data.head()"
   ]
  },
  {
   "cell_type": "code",
   "execution_count": null,
   "metadata": {
    "ExecuteTime": {
     "end_time": "2020-03-17T02:01:28.110948Z",
     "start_time": "2020-03-17T02:01:28.092993Z"
    },
    "hidden": true
   },
   "outputs": [],
   "source": [
    "heart_disease_data.loc[heart_disease_data.heart_disease_diagnosis=='No heart disease','heart_disease_diagnosis']=0\n",
    "heart_disease_data.loc[heart_disease_data.heart_disease_diagnosis=='Disease','heart_disease_diagnosis']=1"
   ]
  },
  {
   "cell_type": "code",
   "execution_count": null,
   "metadata": {
    "ExecuteTime": {
     "end_time": "2020-03-17T02:01:28.125811Z",
     "start_time": "2020-03-17T02:01:28.113941Z"
    },
    "hidden": true
   },
   "outputs": [],
   "source": [
    "X=heart_disease_data[['age','sex','chest_pain','blood_sugar','ecg','max_heart_rate','exercise_angina','exercise_ST_depress','location']]\n",
    "Y=heart_disease_data.heart_disease_diagnosis"
   ]
  },
  {
   "cell_type": "code",
   "execution_count": null,
   "metadata": {
    "ExecuteTime": {
     "end_time": "2020-03-17T02:01:28.150811Z",
     "start_time": "2020-03-17T02:01:28.127806Z"
    },
    "hidden": true
   },
   "outputs": [],
   "source": [
    "X=pd.get_dummies(X)"
   ]
  },
  {
   "cell_type": "code",
   "execution_count": null,
   "metadata": {
    "ExecuteTime": {
     "end_time": "2020-03-17T02:01:28.171764Z",
     "start_time": "2020-03-17T02:01:28.152804Z"
    },
    "hidden": true
   },
   "outputs": [],
   "source": [
    "X.head()"
   ]
  },
  {
   "cell_type": "code",
   "execution_count": null,
   "metadata": {
    "ExecuteTime": {
     "end_time": "2020-03-17T02:01:28.525686Z",
     "start_time": "2020-03-17T02:01:28.173757Z"
    },
    "hidden": true
   },
   "outputs": [],
   "source": [
    "import statsmodels.api as sm\n",
    "model=sm.GLM(Y,X)\n",
    "result=model.fit()"
   ]
  },
  {
   "cell_type": "code",
   "execution_count": null,
   "metadata": {
    "ExecuteTime": {
     "end_time": "2020-03-17T02:01:28.556630Z",
     "start_time": "2020-03-17T02:01:28.527668Z"
    },
    "hidden": true
   },
   "outputs": [],
   "source": [
    "result.summary()"
   ]
  },
  {
   "cell_type": "markdown",
   "metadata": {
    "hidden": true
   },
   "source": [
    "We can see that several of our variables do not have a statistically significant effect. Several of these variables are clinically relevant. This includes while age and blood pressure. For instance, we know that older individuals are at higher risk of develop heart disease simply because they have had more time for plaques to accumulate in their blood vessels. For this reason we will be keeping these variables in our model. \n",
    "\n",
    "While statistical significance is important, it is always more important to consider whether our predictor are clinically relevant for the outcome we will be predicting. Remember to alway consider the clinical significance of a variable and not just the statistical significance!"
   ]
  },
  {
   "cell_type": "markdown",
   "metadata": {
    "heading_collapsed": true
   },
   "source": [
    "# Building A Predictive Model"
   ]
  },
  {
   "cell_type": "markdown",
   "metadata": {
    "hidden": true,
    "solution2": "hidden",
    "solution2_first": true
   },
   "source": [
    "**Pre-Check:** So far we haven't done any machine learning yet. What we've done can be considered traditional statistical analyses. What differentiate machine learning for statistical analysis?"
   ]
  },
  {
   "cell_type": "markdown",
   "metadata": {
    "hidden": true,
    "solution2": "hidden"
   },
   "source": [
    "In machine learning, data is split into a training and test set. A machine learning model is then trainined on the training set to predict whatever outcome of interest it was designed to predict (in our case we're predicting whether the asthmatic patient is high- or low- risk). The models predictive performance is then evaluated using the test set. \n",
    "\n",
    "<img src=\"https://www.sqlservercentral.com/wp-content/uploads/2019/05/Image-2.jpg\" align=\"center\" style=\"margin-bottom: 0.5em; margin-top: 0.5em;\">"
   ]
  },
  {
   "cell_type": "markdown",
   "metadata": {
    "hidden": true
   },
   "source": [
    "For our case we'll be using a model called a naive bayes classifier. This algorithm is an algorithm that can be used for classification purpose and is based on **Bayes Theorem**. It is called naive because it assumes that all the features that go into the model are independent from one another.\n",
    "\n",
    "> As you can likely guess, this is rarely true in the real world. This especially the case for clinical data. \n",
    "\n",
    "So now you're wondering, just what the heck is Bayes Theorem?"
   ]
  },
  {
   "cell_type": "markdown",
   "metadata": {
    "heading_collapsed": true,
    "hidden": true
   },
   "source": [
    "### Bayes Theorem"
   ]
  },
  {
   "cell_type": "markdown",
   "metadata": {
    "hidden": true
   },
   "source": [
    "Bayes theorem is a theory that allows us to find the probability of an event or prediction given prior knowledge/data. Below is a graphic representation of the equation for bayes theorem. \n",
    "\n",
    "<img src=\"https://miro.medium.com/max/806/1*l0MccMHzSjtpJ_mGaItVfA.jpeg\" align=\"center\" style=\"margin-bottom: 0.5em; margin-top: 0.5em;\">\n",
    "\n",
    "This is a mathematical representation of our definition for bayes theorem. In the equation, we are predicting the value of A given prior knowledge of value B. Now how does this fit into machine learning?\n",
    "\n",
    "In a naive bayes classifier, the algorithm is trained to recognize the probability for different classes based on all the features. In our case, this would mean our algorithm would be trained to find the probability of whether a person has heart disease based on every variable include in our model (ie. age, blood glucose, etc...). It would then classify a person as having heart disease or not based on probabilities it derives from looking at all the variables from that particular patient. Where does it learn these probabilities from? By learning from our training data. "
   ]
  },
  {
   "cell_type": "markdown",
   "metadata": {
    "heading_collapsed": true,
    "hidden": true
   },
   "source": [
    "## Building our Model"
   ]
  },
  {
   "cell_type": "markdown",
   "metadata": {
    "hidden": true
   },
   "source": [
    "We now need to split our data into training and test data. We will be splitting our data into 80% training data and 20% test data."
   ]
  },
  {
   "cell_type": "code",
   "execution_count": null,
   "metadata": {
    "ExecuteTime": {
     "end_time": "2020-03-17T02:01:28.567569Z",
     "start_time": "2020-03-17T02:01:28.558591Z"
    },
    "hidden": true
   },
   "outputs": [],
   "source": [
    "# Split the training data and testing data\n",
    "X_train, X_test, y_train, y_test = train_test_split(X, Y, test_size=0.2, random_state=40)"
   ]
  },
  {
   "cell_type": "markdown",
   "metadata": {
    "hidden": true
   },
   "source": [
    "Now lets fit our model to the training and test data. We will then take a look at our models performance using a confusion matrix.\n",
    "\n",
    "> If you're unsure what a confusion matrix is, please consult section 5.1.1 ('What is a Confusion Matrix')"
   ]
  },
  {
   "cell_type": "code",
   "execution_count": null,
   "metadata": {
    "ExecuteTime": {
     "end_time": "2020-03-17T02:01:28.607643Z",
     "start_time": "2020-03-17T02:01:28.569564Z"
    },
    "hidden": true
   },
   "outputs": [],
   "source": [
    "from sklearn.naive_bayes import BernoulliNB\n",
    "nb = BernoulliNB()\n",
    "nb.fit(X_train,y_train)"
   ]
  },
  {
   "cell_type": "code",
   "execution_count": null,
   "metadata": {
    "ExecuteTime": {
     "end_time": "2020-03-17T02:01:28.617191Z",
     "start_time": "2020-03-17T02:01:28.609638Z"
    },
    "hidden": true
   },
   "outputs": [],
   "source": [
    "y_pred=nb.predict(X_test)"
   ]
  },
  {
   "cell_type": "code",
   "execution_count": null,
   "metadata": {
    "ExecuteTime": {
     "end_time": "2020-03-17T02:01:28.638900Z",
     "start_time": "2020-03-17T02:01:28.619185Z"
    },
    "hidden": true
   },
   "outputs": [],
   "source": [
    "# Output results\n",
    "print('Outputing results...')\n",
    "conf_mat = confusion_matrix(y_test, y_pred)\n",
    "print('confusion matrix')\n",
    "print(conf_mat)\n",
    "print(classification_report(y_test,y_pred))"
   ]
  },
  {
   "cell_type": "markdown",
   "metadata": {
    "hidden": true
   },
   "source": [
    "Here we can see several useful metrics for our model. For instance, we have an `Accuracy` of 0.78, a `Precision` of 0.78 anda `Recall` of 0.79. The necessary metrics will depend on the task a model is designed for. "
   ]
  },
  {
   "cell_type": "markdown",
   "metadata": {
    "heading_collapsed": true,
    "hidden": true
   },
   "source": [
    "### What Is A Confusion Matrix"
   ]
  },
  {
   "cell_type": "markdown",
   "metadata": {
    "hidden": true
   },
   "source": [
    "A confusion matrix is a 2x2 table which computes 4 different combinations of predicted vs. actual values. The combinations are True Positive (TP), True Negative (TN), False Positive (FP), and False Negative (FN)\n",
    "\n",
    "<img src=\"https://miro.medium.com/max/320/1*Z54JgbS4DUwWSknhDCvNTQ.png\" align=\"center\" style=\"margin-bottom: 0.5em; margin-top: 0.5em;\">\n",
    "\n",
    "These 4 interpretations can be combined to generate many useful metrics. For our purpose there are three we will focus on. The first is accuracy:\n",
    "\n",
    "\\[\\large (TP + TN)/Total\\]\n",
    "\n",
    "Accuracy allows us to measure how often our model predicted correctly. The second metric is recall:\n",
    "\n",
    "\\[\\large TP / (TP + FN)\\]\n",
    "\n",
    "Recall asks the question, that when our outcome is actually positive (ie. in our case when our patient actually has diabetes) how often will the model predict positively (ie. how often will the model then predict the patient to have diabetes). The final metric is precision:\n",
    "\n",
    "\\[\\large TP / (TP + FP)\\]\n",
    "\n",
    "Precision asks the question, that when the model predicts positively (ie. in our case when the model predicts the patient to have diabetes) how often will the outcome be actually positive (ie. how often will our patient actually has diabetes.)"
   ]
  },
  {
   "cell_type": "markdown",
   "metadata": {
    "heading_collapsed": true,
    "hidden": true
   },
   "source": [
    "## Evaluating our Model"
   ]
  },
  {
   "cell_type": "markdown",
   "metadata": {
    "hidden": true
   },
   "source": [
    "We will be evaluating our model using a receiver operating curve (ROC) and the area under the curve (AUC) value. \n",
    "\n",
    "> If you're unsure what a ROC or AUC value is, please consult section 5.2.1 ('Understanding ROC Curves and AUC Values')"
   ]
  },
  {
   "cell_type": "code",
   "execution_count": null,
   "metadata": {
    "ExecuteTime": {
     "end_time": "2020-03-17T02:01:28.981505Z",
     "start_time": "2020-03-17T02:01:28.641892Z"
    },
    "hidden": true
   },
   "outputs": [],
   "source": [
    "# plot a ROC curve\n",
    "from sklearn.metrics import roc_curve\n",
    "from sklearn.metrics import auc\n",
    "\n",
    "# Compute fpr, tpr, thresholds and roc auc\n",
    "roc_curve(y_test, y_pred)\n",
    "fpr, tpr, thresholds = roc_curve(y_test, y_pred)\n",
    "roc_auc = auc(fpr, tpr)\n",
    "\n",
    "# Plot ROC curve\n",
    "plt.plot(fpr, tpr, label='ROC curve (area = %0.3f)' % roc_auc)\n",
    "plt.plot([0, 1], [0, 1], 'k--')  # random predictions curve\n",
    "plt.xlim([0.0, 1.0])\n",
    "plt.ylim([0.0, 1.0])\n",
    "plt.xlabel('False Positive Rate or (1 - Specifity)')\n",
    "plt.ylabel('True Positive Rate or (Sensitivity)')\n",
    "plt.title('Receiver Operating Characteristic')\n",
    "plt.legend(loc=\"lower right\")"
   ]
  },
  {
   "cell_type": "code",
   "execution_count": null,
   "metadata": {
    "ExecuteTime": {
     "end_time": "2020-03-17T02:01:28.992027Z",
     "start_time": "2020-03-17T02:01:28.986046Z"
    },
    "hidden": true
   },
   "outputs": [],
   "source": [
    "# Calculate the area under the curve (AUC)\n",
    "print('AUC:', roc_auc.round(2))"
   ]
  },
  {
   "cell_type": "markdown",
   "metadata": {
    "hidden": true
   },
   "source": [
    "The closer to the top left corner our ROC curve is the better. The higher our AUC value is the better. These metrics provide useful measure when tuning our model. They are also better overall measures than accuracy alone. We can compare different models using these two metrics. "
   ]
  },
  {
   "cell_type": "markdown",
   "metadata": {
    "heading_collapsed": true,
    "hidden": true
   },
   "source": [
    "### Understanding ROC Curves and AUC Values"
   ]
  },
  {
   "cell_type": "markdown",
   "metadata": {
    "hidden": true
   },
   "source": [
    "An ROC plots sensitivity (probability of predicting a real psoitive will be positive) against 1-specificity (the probability of predicting a real negative will be a positive). A model with a 50-50 change of making a correct decision will have a ROC curve which is just a diagonal line. A model with a curve that hugs the top left corner is a perfect model. The area under a curve is a measure of magnitude of the ROC curve. The closer the ROC curve is to the top left corner, the higher the AUC value is. The higher the AUC value is, the better. \n",
    "\n",
    "<img src=\"https://miro.medium.com/max/406/1*pk05QGzoWhCgRiiFbz-oKQ.png\" style=\"float: center; width: 34%; margin-bottom: 0.5em;\">"
   ]
  },
  {
   "cell_type": "markdown",
   "metadata": {
    "heading_collapsed": true,
    "hidden": true
   },
   "source": [
    "## Explaining the Model"
   ]
  },
  {
   "cell_type": "markdown",
   "metadata": {
    "hidden": true
   },
   "source": [
    "An important part of any model is being able to explain it. We can look at the effect each variable had on predicting heart disease through looking at the conditional probabilities of different variables. "
   ]
  },
  {
   "cell_type": "code",
   "execution_count": null,
   "metadata": {
    "ExecuteTime": {
     "end_time": "2020-03-17T02:01:29.279806Z",
     "start_time": "2020-03-17T02:01:29.273973Z"
    },
    "hidden": true
   },
   "outputs": [],
   "source": [
    "# Naive Bayes Output\n",
    "class_probs=np.exp(nb.class_log_prior_)\n",
    "print('the probability that the person doesn\\'t have heart disease: ', class_probs[0])\n",
    "print('the probability that the person has heart disease', class_probs[1])"
   ]
  },
  {
   "cell_type": "code",
   "execution_count": null,
   "metadata": {
    "ExecuteTime": {
     "end_time": "2020-03-17T02:01:29.306562Z",
     "start_time": "2020-03-17T02:01:29.281798Z"
    },
    "hidden": true
   },
   "outputs": [],
   "source": [
    "features_0=np.exp(nb.feature_log_prob_[0])\n",
    "features_1=np.exp(nb.feature_log_prob_[1])\n",
    "print('Condition probabilities given that the person doesn\\'t have heart disease')\n",
    "for i in range(len(X_train.columns)):\n",
    "    print(X_train.columns[i],': ',features_0[i])\n",
    "\n",
    "print('\\nCondition probabilities given that the person has heart disease')\n",
    "for i in range(len(X_train.columns)):\n",
    "    print(X_train.columns[i],': ',features_1[i])"
   ]
  },
  {
   "cell_type": "markdown",
   "metadata": {
    "heading_collapsed": true
   },
   "source": [
    "# Comparing Predictive Models"
   ]
  },
  {
   "cell_type": "markdown",
   "metadata": {
    "hidden": true
   },
   "source": [
    "You've now learned everything you need to begin testing your own models! Analytics is an iterative process and requires constantly tuning and testing different models against one another. One of the most important ways to tune your models is to decide what features/variables to include on your model. This will have a huge impact on your models performance. Run the code below to see all the features in our data. "
   ]
  },
  {
   "cell_type": "code",
   "execution_count": null,
   "metadata": {
    "ExecuteTime": {
     "end_time": "2020-03-17T02:01:29.544955Z",
     "start_time": "2020-03-17T02:01:29.540001Z"
    },
    "hidden": true
   },
   "outputs": [],
   "source": [
    "list(heart_disease_data.columns)"
   ]
  },
  {
   "cell_type": "markdown",
   "metadata": {
    "hidden": true
   },
   "source": [
    "From the list of features above, pick the features you believe are the most predictive for predicting heart disease. You can type in your features in between the brackets below. Please follow the format shown in the example below.\n",
    "\n",
    "<code>features=['sex','max_heart_rate','blood_sugar']</code>\n",
    "\n",
    " Be careful! If there are any typo, this will not work and you will need to run the code below again with the typo corrected. "
   ]
  },
  {
   "cell_type": "code",
   "execution_count": null,
   "metadata": {
    "ExecuteTime": {
     "end_time": "2020-03-17T02:01:29.651916Z",
     "start_time": "2020-03-17T02:01:29.647926Z"
    },
    "hidden": true
   },
   "outputs": [],
   "source": [
    "features=['age','sex','chest_pain','blood_sugar','ecg','max_heart_rate','exercise_angina','exercise_ST_depress','location']"
   ]
  },
  {
   "cell_type": "markdown",
   "metadata": {
    "hidden": true
   },
   "source": [
    "Now we will see how our model performs using the features you selected. The below code will output evaluation metrics. "
   ]
  },
  {
   "cell_type": "code",
   "execution_count": null,
   "metadata": {
    "ExecuteTime": {
     "end_time": "2020-03-17T02:01:29.993278Z",
     "start_time": "2020-03-17T02:01:29.744023Z"
    },
    "hidden": true
   },
   "outputs": [],
   "source": [
    "test_model(features)"
   ]
  },
  {
   "cell_type": "markdown",
   "metadata": {
    "hidden": true
   },
   "source": [
    "Experiment with different features. As mentioned earlier, feature selection makes a huge difference in model performance. Determine which features work best and see if you can beat the model we built earlier in the case! You can rerun the <code>test_model()</code> function with new features as many times as you like. Please refer to the instructions after our variable list to see how to select new features. "
   ]
  },
  {
   "cell_type": "markdown",
   "metadata": {
    "hidden": true
   },
   "source": [
    "Congratulations! You've reached the end of the case! This case provided just one example of how analytics and healthcare can be combined to solve clinical problems. I hope your curiosity has been piqued. There will be much more to learn and much more you can explore in this field!"
   ]
  }
 ],
 "metadata": {
  "kernelspec": {
   "display_name": "Python 3",
   "language": "python",
   "name": "python3"
  },
  "language_info": {
   "codemirror_mode": {
    "name": "ipython",
    "version": 3
   },
   "file_extension": ".py",
   "mimetype": "text/x-python",
   "name": "python",
   "nbconvert_exporter": "python",
   "pygments_lexer": "ipython3",
   "version": "3.7.4"
  },
  "latex_envs": {
   "LaTeX_envs_menu_present": true,
   "autoclose": false,
   "autocomplete": true,
   "bibliofile": "biblio.bib",
   "cite_by": "apalike",
   "current_citInitial": 1,
   "eqLabelWithNumbers": false,
   "eqNumInitial": 1,
   "hotkeys": {
    "equation": "Ctrl-E",
    "itemize": "Ctrl-I"
   },
   "labels_anchors": false,
   "latex_user_defs": false,
   "report_style_numbering": false,
   "user_envs_cfg": false
  },
  "toc": {
   "base_numbering": 1,
   "nav_menu": {},
   "number_sections": true,
   "sideBar": true,
   "skip_h1_title": false,
   "title_cell": "Table of Contents",
   "title_sidebar": "Contents",
   "toc_cell": false,
   "toc_position": {
    "height": "414px",
    "left": "54px",
    "top": "110.8px",
    "width": "276px"
   },
   "toc_section_display": true,
   "toc_window_display": false
  },
  "varInspector": {
   "cols": {
    "lenName": 16,
    "lenType": 16,
    "lenVar": 40
   },
   "kernels_config": {
    "python": {
     "delete_cmd_postfix": "",
     "delete_cmd_prefix": "del ",
     "library": "var_list.py",
     "varRefreshCmd": "print(var_dic_list())"
    },
    "r": {
     "delete_cmd_postfix": ") ",
     "delete_cmd_prefix": "rm(",
     "library": "var_list.r",
     "varRefreshCmd": "cat(var_dic_list()) "
    }
   },
   "types_to_exclude": [
    "module",
    "function",
    "builtin_function_or_method",
    "instance",
    "_Feature"
   ],
   "window_display": true
  }
 },
 "nbformat": 4,
 "nbformat_minor": 4
}
