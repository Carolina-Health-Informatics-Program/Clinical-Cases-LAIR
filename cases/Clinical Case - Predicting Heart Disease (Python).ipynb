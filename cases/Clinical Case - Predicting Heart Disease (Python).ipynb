{
 "cells": [
  {
   "cell_type": "markdown",
   "metadata": {
    "heading_collapsed": true
   },
   "source": [
    "# Introduction"
   ]
  },
  {
   "cell_type": "markdown",
   "metadata": {
    "cell_style": "center",
    "hidden": true
   },
   "source": [
    "<p align=\"justify\">Welcome! In this case we'll be exploring how to use advanced analytic and machine learning techniques to predict heart disease. \n",
    "<br>\n",
    "<br>\n",
    "<details>\n",
    "<summary>Some of the skills you'll explore are (Click to Expand):</summary>\n",
    "<ul>\n",
    "    <li>R Programming</li>\n",
    "    <li>Data Cleaning</li>\n",
    "    <li>Exploratory Data Analysis</li>\n",
    "    <li>Data Visualization</li>\n",
    "    <li>Leveraging Domain Knowledge</li>\n",
    "    <li>Machine Learning</li>\n",
    "    <li>Naive Bayes Classification</li>\n",
    "</details><br>\n",
    "Don't worry if you're unsure what some of these terms are. They'll be explained throughout the case. Let's begin! \n",
    "\n",
    "<img src=\"https://i.stack.imgur.com/zlAi2.png\" style=\"float: left; width: 33%; margin-bottom: 0.5em;\">\n",
    "<img src=\"https://www.bioanalysis-zone.com/wp-content/uploads/2014/01/Heart-graphic.jpg\" style=\"float: left; width: 32%; margin-left: 1%; margin-bottom: 0.5em;\">\n",
    "<img src=\"https://jakevdp.github.io/PythonDataScienceHandbook/figures/05.05-gaussian-NB.png\" style=\"float: left; width: 31%; margin-left: 1%; margin-bottom: 0.5em;\">"
   ]
  },
  {
   "cell_type": "markdown",
   "metadata": {
    "heading_collapsed": true,
    "hidden": true
   },
   "source": [
    "## Case Scenario"
   ]
  },
  {
   "cell_type": "markdown",
   "metadata": {
    "hidden": true
   },
   "source": [
    "Imagine you're an analyst for a large academic medical center. Recently, the internal Division of Cardiology has become interested in exploring how machine learning and predictive analytics can augement cardiology. You have been tasked with developing a prototype model to predict heart disease using historical research data. \n",
    "\n",
    "Can you develop a machine learning model to predict heart disease using patient data from 3 different countries? Lets find out!"
   ]
  },
  {
   "cell_type": "markdown",
   "metadata": {
    "heading_collapsed": true,
    "hidden": true
   },
   "source": [
    "### Clinical Background: Heart Disease"
   ]
  },
  {
   "cell_type": "markdown",
   "metadata": {
    "hidden": true
   },
   "source": [
    "Heart disease or cardiovascular disease refers to a condition where blood vessels become narrow occluded. This can lead to numerous life threatening conditions such as heart attack or stroke. Heart disease can be caused by numerous lifestyle factors such as high blood pressure, high cholesterol, smoking, sedentary lifestyle, and stress. \n",
    "\n",
    "<center>\n",
    "  <img width=\"400\" height=\"200\" src=\"https://www.health.harvard.edu/media/content/images/p6_PlaqueArtery_HL1902_gi958536398.jpg\">\n",
    "</center>\n",
    "\n",
    "What makes heart disease so dangerous is that it is a gradual process that does not become symptomatic until you're middle aged or older. At this point, much of the damage has already been done. While heart disease mortality has improved in recent years, it is still one of the most dangerous conditions in the US. Over 600,000 people die of heart disease in the US every year (1 of every 4 deaths). Heart disease is still the leading cause of death among both men and women. Any predictive algorithm that could identify heart disease early could potentially save countless lives. "
   ]
  },
  {
   "cell_type": "markdown",
   "metadata": {
    "heading_collapsed": true,
    "hidden": true
   },
   "source": [
    "## Using Jupyter Notebook "
   ]
  },
  {
   "cell_type": "markdown",
   "metadata": {
    "hidden": true
   },
   "source": [
    "To run any of the code, select the code cell on the **bottom right (1.2)**, and click the `Run` button on the toolbar above. Try it out on the example code cell below on the **bottom right (1.2)**."
   ]
  },
  {
   "cell_type": "markdown",
   "metadata": {
    "cell_style": "split",
    "hidden": true
   },
   "source": [
    "**The** `Run` **Button**\n",
    "<img src=\"https://i.imgur.com/jr4dpLW.png\" style=\"width:300px;height:150px;\">"
   ]
  },
  {
   "cell_type": "code",
   "execution_count": 1,
   "metadata": {
    "ExecuteTime": {
     "end_time": "2019-11-08T05:15:00.226905Z",
     "start_time": "2019-11-08T05:15:00.220317Z"
    },
    "cell_style": "split",
    "collapsed": true,
    "hidden": true
   },
   "outputs": [
    {
     "name": "stdout",
     "output_type": "stream",
     "text": [
      "Congratulations!\n",
      "You've run your first code cell.\n"
     ]
    }
   ],
   "source": [
    "# This is an example of a code cell\n",
    "print('Congratulations!')\n",
    "print('You\\'ve run your first code cell.')\n"
   ]
  },
  {
   "cell_type": "markdown",
   "metadata": {
    "heading_collapsed": true,
    "hidden": true
   },
   "source": [
    "### Jupyter Notebook Background"
   ]
  },
  {
   "cell_type": "markdown",
   "metadata": {
    "hidden": true
   },
   "source": [
    "What is a Jupyter Notebook? Why is it so special? Below is a definition of Jupyter Notebook from the creators. \n",
    "\n",
    "> \"The Jupyter Notebook is an open-source web application that allows you to create and share documents that contain live code, equations, visualizations and narrative text. Uses include: data cleaning and transformation, numerical simulation, statistical modeling, data visualization, machine learning, and much more.\" - [jupyter.org](https://www.jupyter.org)\n",
    "\n",
    "Through integrating code, text, and multimedia, jupyter notebooks allow us to create a digital notebook that is both **interactive** and **informative**. Don't just take my word for it though, personally explore how Jupyter Notebook can augment your learning through the case!\n",
    "\n",
    "<img src=\"https://www.dataquest.io/wp-content/uploads/2019/01/1-LPnY8nOLg4S6_TG0DEXwsg-1.png\" style=\"width:600px;height:300px;\">\n"
   ]
  },
  {
   "cell_type": "markdown",
   "metadata": {
    "heading_collapsed": true,
    "hidden": true
   },
   "source": [
    "### Case Code Tips"
   ]
  },
  {
   "cell_type": "markdown",
   "metadata": {
    "hidden": true
   },
   "source": [
    "Within code cells you will see green text preceded by a `#` symbol. These are comments and will help explain what portions of the code are doing. All code should be ready to run as shown. \n",
    "\n",
    "Some code may require more time to run. On the left hand side you will notice the label: `In [ ]:`. If there is an `*` in between the `[]`'s after you select `Run`, that indicates that your code is in the process of running. Like so: `In [*]:`"
   ]
  },
  {
   "cell_type": "markdown",
   "metadata": {
    "heading_collapsed": true,
    "hidden": true
   },
   "source": [
    "## Meeting Our Data"
   ]
  },
  {
   "cell_type": "markdown",
   "metadata": {
    "hidden": true
   },
   "source": [
    "We'll be using a deidentified set of patient data made available on the [University of California Irvine Machine Learning Repository](https://archive.ics.uci.edu/ml/datasets/heart+Disease). This data has been sourced from the Hungarian Institute of Cardiology (Budapest, Hungary), University Hospital (Zurich, Switzerland), University Hospital (Basel, Switzerland), the V.A Medical Center (Long Beach, California), and the Cleveland Clinic (Cleveland, Ohio). \n",
    "\n",
    "**Acknowledgements**<br>\n",
    "Detrano, R., Janosi, A., Steinbrunn, W., Pfisterer, M., Schmid, J., Sandhu, S., Guppy, K., Lee, S., & Froelicher, V. (1989). International application of a new probability algorithm for the diagnosis of coronary artery disease. American Journal of Cardiology, 64,304--310."
   ]
  },
  {
   "cell_type": "markdown",
   "metadata": {
    "heading_collapsed": true,
    "hidden": true
   },
   "source": [
    "### Data File(s)"
   ]
  },
  {
   "cell_type": "markdown",
   "metadata": {
    "cell_style": "split",
    "hidden": true
   },
   "source": [
    "<p style=\"text-align: center;\">cleveland.csv</p>\n",
    "\n",
    "***\n",
    "This file contains our dataset sourced from the Cleveland Clinc. There are a 303 patients with 14 attributes. "
   ]
  },
  {
   "cell_type": "markdown",
   "metadata": {
    "cell_style": "split",
    "hidden": true
   },
   "source": [
    "<p style=\"text-align: center;\">hungary.csv</p>\n",
    "\n",
    "***\n",
    "This file contains our dataset sourced from the Hungarian Institute of Cardiology. There are a 294 patients with 14 attributes. "
   ]
  },
  {
   "cell_type": "markdown",
   "metadata": {
    "cell_style": "split",
    "hidden": true
   },
   "source": [
    "<p style=\"text-align: center;\">switzerland.csv</p>\n",
    "\n",
    "***\n",
    "This file contains our dataset sourced from University Hospital (Zurich and Basel, Switzerland). There are a 294 patients with 14 attributes. "
   ]
  },
  {
   "cell_type": "markdown",
   "metadata": {
    "cell_style": "split",
    "hidden": true
   },
   "source": [
    "<p style=\"text-align: center;\">long-beach-va.csv</p>\n",
    "\n",
    "***\n",
    "This file contains our dataset sourced from the V.A Medical Center (Long Beach, California). There are a 200 patients with 14 attributes. "
   ]
  },
  {
   "cell_type": "markdown",
   "metadata": {
    "hidden": true
   },
   "source": [
    "The dataset will already be downloaded for the case. The original data can be accessed [here](https://archive.ics.uci.edu/ml/datasets/Heart+Disease). "
   ]
  },
  {
   "cell_type": "markdown",
   "metadata": {
    "heading_collapsed": true,
    "hidden": true
   },
   "source": [
    "### Consulting the Data Dictionary"
   ]
  },
  {
   "cell_type": "markdown",
   "metadata": {
    "hidden": true
   },
   "source": [
    "There are several variables or labels which you might not understand. There are many reasons for this. You might lack domain experience for the data you're analyzing. The data creators might also have used arbitrary labels only they understood (this is considered a bad practice).\n",
    "\n",
    "The way to combat this is consulting the data dictionary or documentation. These are table or documents which describe the data in detail. Have a variable you don't understand? Check the documentation! Don't understand what an output for a variable means? Check the documentation!\n"
   ]
  },
  {
   "cell_type": "markdown",
   "metadata": {
    "hidden": true
   },
   "source": [
    "A data dictionary is provided on the [UCI repository](https://archive.ics.uci.edu/ml/datasets/Heart+Disease) where the data is hosted. The data dictionary has also been reproduced below for your convenience.  "
   ]
  },
  {
   "cell_type": "markdown",
   "metadata": {
    "hidden": true
   },
   "source": [
    "<center>\n",
    "\n",
    "| *Column #*| *Definition*                                                                        |\n",
    "| --------- | ----------------------------------------------------------------------------------- |\n",
    "| 1         | age in years                                                                        |\n",
    "| 2         | sex (1 = male; 0 = female)                                                          |\n",
    "| 3         | chest pain (1:typical angina; 2:atypical angina; 3:non-anginal pain; 4:asymptomatic)| \n",
    "| 4         | resting blood pressure on hospital admission (mmHg)                                 |\n",
    "| 5         | serum cholesterol in mg/dl                                                          |\n",
    "| 6         | fasting blood sugar > 120 mg/dl (1=true; 0 = false)                                 |\n",
    "| 7         | resting electrocariographic results (0: normal; 1: ST-T wave abnormality (T wave inversions and/or ST elevation or depression of 0.05 mV); 2: showing probably or definite left ventricular hypertrophy by Estes' criteria                                                                    |\n",
    "| 8         | maximum heart rate acheived                                                         |\n",
    "| 9         | exercise induced angina (1=yes; 0=no)                                               |\n",
    "| 10        | ST depression induced by exercise relative to rest                                  |\n",
    "| 11        | Slope of the peak exercise ST segment (1: upsloping; 2: flat; 3: downsloping)          |\n",
    "| 12        | Number of major vessels (0-3) colored by fluoroscopy                                |\n",
    "| 13        | Exercise thallium scintigraphic defects (fixed, reversible, or none)                |\n",
    "| 14        | Diagnosis of heart disease (angiographic disease status) (0: <50% diameter narrowing, 1: >50% diameter narrowing)                                                                        |\n",
    "\n",
    "</center>"
   ]
  },
  {
   "cell_type": "markdown",
   "metadata": {
    "heading_collapsed": true
   },
   "source": [
    "# Setup (Do Not Skip)"
   ]
  },
  {
   "cell_type": "markdown",
   "metadata": {
    "hidden": true
   },
   "source": [
    "Run the code below to set up specific settings for our case. Do not skip this step!"
   ]
  },
  {
   "cell_type": "code",
   "execution_count": 2,
   "metadata": {
    "ExecuteTime": {
     "end_time": "2019-11-08T05:15:03.752911Z",
     "start_time": "2019-11-08T05:15:01.291970Z"
    },
    "collapsed": true,
    "hidden": true
   },
   "outputs": [
    {
     "name": "stdout",
     "output_type": "stream",
     "text": [
      "Setup complete!\n"
     ]
    }
   ],
   "source": [
    "# Calling external libraries for additional functionality\n",
    "import pandas as pd\n",
    "import numpy as np\n",
    "import matplotlib.pyplot as plt\n",
    "import seaborn as sns\n",
    "import random\n",
    "import scipy\n",
    "from sklearn.linear_model import LogisticRegression\n",
    "from sklearn.model_selection import train_test_split\n",
    "from sklearn.ensemble import RandomForestClassifier\n",
    "from sklearn.metrics import confusion_matrix\n",
    "from sklearn.metrics import classification_report\n",
    "from IPython.core.interactiveshell import InteractiveShell\n",
    "InteractiveShell.ast_node_interactivity = \"last\"\n",
    "from pandas.api.types import CategoricalDtype \n",
    "plt.style.use('fivethirtyeight')\n",
    "# Increase max number of columns displayed in output tables\n",
    "pd.set_option(\"display.max_columns\",2000)\n",
    "\n",
    "# Make sure your ML results are the same\n",
    "random.seed(10)\n",
    "\n",
    "print('Setup complete!')"
   ]
  },
  {
   "cell_type": "markdown",
   "metadata": {
    "heading_collapsed": true
   },
   "source": [
    "# Cleaning our Data"
   ]
  },
  {
   "cell_type": "markdown",
   "metadata": {
    "hidden": true
   },
   "source": [
    "The first step in any analytic project is to clean our data. This is a critical step that is commonly overlooked within data science projects. This is critical for making our data convenient to interpret and manipulate. In addition, many analytic techniques require properly formatted data. Finally, healthcare datasets may have have data that isn't clinically relevant (ie. raw lab values). Processing can convert these variables into clinically meaningful information. It won't matter how sophisticated our analysis is if we don't properly process our data. A common saying in data science is \"Junk in, Junk out\". "
   ]
  },
  {
   "cell_type": "markdown",
   "metadata": {
    "heading_collapsed": true,
    "hidden": true
   },
   "source": [
    "## Reading our data"
   ]
  },
  {
   "cell_type": "markdown",
   "metadata": {
    "hidden": true
   },
   "source": [
    "We'll being by reading in our data so we can clean and use it. "
   ]
  },
  {
   "cell_type": "code",
   "execution_count": 3,
   "metadata": {
    "ExecuteTime": {
     "end_time": "2019-11-08T05:15:03.778277Z",
     "start_time": "2019-11-08T05:15:03.754894Z"
    },
    "cell_style": "center",
    "collapsed": true,
    "hidden": true
   },
   "outputs": [
    {
     "name": "stdout",
     "output_type": "stream",
     "text": [
      "Data loading, please wait\n",
      "Data loaded!\n"
     ]
    }
   ],
   "source": [
    "# Note: Unicode Transformation Format – 8 (UTF-8) is a standard to encode characters in different languages\n",
    "print('Data loading, please wait')\n",
    "cleveland = pd.read_csv(\"data/cleveland.csv\",  encoding=\"UTF-8\",header=None, sep=\",\")\n",
    "hungary =pd.read_csv(\"data/hungary.csv\",  encoding=\"UTF-8\",header=None, sep=\",\")\n",
    "switzerland = pd.read_csv(\"data/switzerland.csv\",  encoding=\"UTF-8\",header=None,sep=\",\")\n",
    "long_beach = pd.read_csv(\"data/long-beach-va.csv\",  encoding=\"UTF-8\", header=None,sep=\",\")\n",
    "print('Data loaded!')"
   ]
  },
  {
   "cell_type": "markdown",
   "metadata": {
    "hidden": true
   },
   "source": [
    "Now let's get an overview of our data"
   ]
  },
  {
   "cell_type": "code",
   "execution_count": 4,
   "metadata": {
    "ExecuteTime": {
     "end_time": "2019-11-08T05:15:03.802228Z",
     "start_time": "2019-11-08T05:15:03.779271Z"
    },
    "collapsed": true,
    "hidden": true
   },
   "outputs": [
    {
     "data": {
      "text/html": [
       "<div>\n",
       "<style scoped>\n",
       "    .dataframe tbody tr th:only-of-type {\n",
       "        vertical-align: middle;\n",
       "    }\n",
       "\n",
       "    .dataframe tbody tr th {\n",
       "        vertical-align: top;\n",
       "    }\n",
       "\n",
       "    .dataframe thead th {\n",
       "        text-align: right;\n",
       "    }\n",
       "</style>\n",
       "<table border=\"1\" class=\"dataframe\">\n",
       "  <thead>\n",
       "    <tr style=\"text-align: right;\">\n",
       "      <th></th>\n",
       "      <th>0</th>\n",
       "      <th>1</th>\n",
       "      <th>2</th>\n",
       "      <th>3</th>\n",
       "      <th>4</th>\n",
       "      <th>5</th>\n",
       "      <th>6</th>\n",
       "      <th>7</th>\n",
       "      <th>8</th>\n",
       "      <th>9</th>\n",
       "      <th>10</th>\n",
       "      <th>11</th>\n",
       "      <th>12</th>\n",
       "      <th>13</th>\n",
       "    </tr>\n",
       "  </thead>\n",
       "  <tbody>\n",
       "    <tr>\n",
       "      <th>0</th>\n",
       "      <td>63.0</td>\n",
       "      <td>1.0</td>\n",
       "      <td>1.0</td>\n",
       "      <td>145.0</td>\n",
       "      <td>233.0</td>\n",
       "      <td>1.0</td>\n",
       "      <td>2.0</td>\n",
       "      <td>150.0</td>\n",
       "      <td>0.0</td>\n",
       "      <td>2.3</td>\n",
       "      <td>3.0</td>\n",
       "      <td>0.0</td>\n",
       "      <td>6.0</td>\n",
       "      <td>0</td>\n",
       "    </tr>\n",
       "    <tr>\n",
       "      <th>1</th>\n",
       "      <td>67.0</td>\n",
       "      <td>1.0</td>\n",
       "      <td>4.0</td>\n",
       "      <td>160.0</td>\n",
       "      <td>286.0</td>\n",
       "      <td>0.0</td>\n",
       "      <td>2.0</td>\n",
       "      <td>108.0</td>\n",
       "      <td>1.0</td>\n",
       "      <td>1.5</td>\n",
       "      <td>2.0</td>\n",
       "      <td>3.0</td>\n",
       "      <td>3.0</td>\n",
       "      <td>2</td>\n",
       "    </tr>\n",
       "    <tr>\n",
       "      <th>2</th>\n",
       "      <td>67.0</td>\n",
       "      <td>1.0</td>\n",
       "      <td>4.0</td>\n",
       "      <td>120.0</td>\n",
       "      <td>229.0</td>\n",
       "      <td>0.0</td>\n",
       "      <td>2.0</td>\n",
       "      <td>129.0</td>\n",
       "      <td>1.0</td>\n",
       "      <td>2.6</td>\n",
       "      <td>2.0</td>\n",
       "      <td>2.0</td>\n",
       "      <td>7.0</td>\n",
       "      <td>1</td>\n",
       "    </tr>\n",
       "    <tr>\n",
       "      <th>3</th>\n",
       "      <td>37.0</td>\n",
       "      <td>1.0</td>\n",
       "      <td>3.0</td>\n",
       "      <td>130.0</td>\n",
       "      <td>250.0</td>\n",
       "      <td>0.0</td>\n",
       "      <td>0.0</td>\n",
       "      <td>187.0</td>\n",
       "      <td>0.0</td>\n",
       "      <td>3.5</td>\n",
       "      <td>3.0</td>\n",
       "      <td>0.0</td>\n",
       "      <td>3.0</td>\n",
       "      <td>0</td>\n",
       "    </tr>\n",
       "    <tr>\n",
       "      <th>4</th>\n",
       "      <td>41.0</td>\n",
       "      <td>0.0</td>\n",
       "      <td>2.0</td>\n",
       "      <td>130.0</td>\n",
       "      <td>204.0</td>\n",
       "      <td>0.0</td>\n",
       "      <td>2.0</td>\n",
       "      <td>172.0</td>\n",
       "      <td>0.0</td>\n",
       "      <td>1.4</td>\n",
       "      <td>1.0</td>\n",
       "      <td>0.0</td>\n",
       "      <td>3.0</td>\n",
       "      <td>0</td>\n",
       "    </tr>\n",
       "  </tbody>\n",
       "</table>\n",
       "</div>"
      ],
      "text/plain": [
       "     0    1    2      3      4    5    6      7    8    9    10   11   12  13\n",
       "0  63.0  1.0  1.0  145.0  233.0  1.0  2.0  150.0  0.0  2.3  3.0  0.0  6.0   0\n",
       "1  67.0  1.0  4.0  160.0  286.0  0.0  2.0  108.0  1.0  1.5  2.0  3.0  3.0   2\n",
       "2  67.0  1.0  4.0  120.0  229.0  0.0  2.0  129.0  1.0  2.6  2.0  2.0  7.0   1\n",
       "3  37.0  1.0  3.0  130.0  250.0  0.0  0.0  187.0  0.0  3.5  3.0  0.0  3.0   0\n",
       "4  41.0  0.0  2.0  130.0  204.0  0.0  2.0  172.0  0.0  1.4  1.0  0.0  3.0   0"
      ]
     },
     "execution_count": 4,
     "metadata": {},
     "output_type": "execute_result"
    }
   ],
   "source": [
    "cleveland.head()"
   ]
  },
  {
   "cell_type": "code",
   "execution_count": 5,
   "metadata": {
    "ExecuteTime": {
     "end_time": "2019-11-08T05:15:03.818326Z",
     "start_time": "2019-11-08T05:15:03.804520Z"
    },
    "collapsed": true,
    "hidden": true
   },
   "outputs": [
    {
     "data": {
      "text/html": [
       "<div>\n",
       "<style scoped>\n",
       "    .dataframe tbody tr th:only-of-type {\n",
       "        vertical-align: middle;\n",
       "    }\n",
       "\n",
       "    .dataframe tbody tr th {\n",
       "        vertical-align: top;\n",
       "    }\n",
       "\n",
       "    .dataframe thead th {\n",
       "        text-align: right;\n",
       "    }\n",
       "</style>\n",
       "<table border=\"1\" class=\"dataframe\">\n",
       "  <thead>\n",
       "    <tr style=\"text-align: right;\">\n",
       "      <th></th>\n",
       "      <th>0</th>\n",
       "      <th>1</th>\n",
       "      <th>2</th>\n",
       "      <th>3</th>\n",
       "      <th>4</th>\n",
       "      <th>5</th>\n",
       "      <th>6</th>\n",
       "      <th>7</th>\n",
       "      <th>8</th>\n",
       "      <th>9</th>\n",
       "      <th>10</th>\n",
       "      <th>11</th>\n",
       "      <th>12</th>\n",
       "      <th>13</th>\n",
       "    </tr>\n",
       "  </thead>\n",
       "  <tbody>\n",
       "    <tr>\n",
       "      <th>0</th>\n",
       "      <td>28</td>\n",
       "      <td>1</td>\n",
       "      <td>2</td>\n",
       "      <td>130</td>\n",
       "      <td>132</td>\n",
       "      <td>0</td>\n",
       "      <td>2</td>\n",
       "      <td>185</td>\n",
       "      <td>0</td>\n",
       "      <td>0.0</td>\n",
       "      <td>?</td>\n",
       "      <td>?</td>\n",
       "      <td>?</td>\n",
       "      <td>0</td>\n",
       "    </tr>\n",
       "    <tr>\n",
       "      <th>1</th>\n",
       "      <td>29</td>\n",
       "      <td>1</td>\n",
       "      <td>2</td>\n",
       "      <td>120</td>\n",
       "      <td>243</td>\n",
       "      <td>0</td>\n",
       "      <td>0</td>\n",
       "      <td>160</td>\n",
       "      <td>0</td>\n",
       "      <td>0.0</td>\n",
       "      <td>?</td>\n",
       "      <td>?</td>\n",
       "      <td>?</td>\n",
       "      <td>0</td>\n",
       "    </tr>\n",
       "    <tr>\n",
       "      <th>2</th>\n",
       "      <td>29</td>\n",
       "      <td>1</td>\n",
       "      <td>2</td>\n",
       "      <td>140</td>\n",
       "      <td>?</td>\n",
       "      <td>0</td>\n",
       "      <td>0</td>\n",
       "      <td>170</td>\n",
       "      <td>0</td>\n",
       "      <td>0.0</td>\n",
       "      <td>?</td>\n",
       "      <td>?</td>\n",
       "      <td>?</td>\n",
       "      <td>0</td>\n",
       "    </tr>\n",
       "    <tr>\n",
       "      <th>3</th>\n",
       "      <td>30</td>\n",
       "      <td>0</td>\n",
       "      <td>1</td>\n",
       "      <td>170</td>\n",
       "      <td>237</td>\n",
       "      <td>0</td>\n",
       "      <td>1</td>\n",
       "      <td>170</td>\n",
       "      <td>0</td>\n",
       "      <td>0.0</td>\n",
       "      <td>?</td>\n",
       "      <td>?</td>\n",
       "      <td>6</td>\n",
       "      <td>0</td>\n",
       "    </tr>\n",
       "    <tr>\n",
       "      <th>4</th>\n",
       "      <td>31</td>\n",
       "      <td>0</td>\n",
       "      <td>2</td>\n",
       "      <td>100</td>\n",
       "      <td>219</td>\n",
       "      <td>0</td>\n",
       "      <td>1</td>\n",
       "      <td>150</td>\n",
       "      <td>0</td>\n",
       "      <td>0.0</td>\n",
       "      <td>?</td>\n",
       "      <td>?</td>\n",
       "      <td>?</td>\n",
       "      <td>0</td>\n",
       "    </tr>\n",
       "  </tbody>\n",
       "</table>\n",
       "</div>"
      ],
      "text/plain": [
       "   0   1   2    3    4  5  6    7  8    9  10 11 12  13\n",
       "0  28   1   2  130  132  0  2  185  0  0.0  ?  ?  ?   0\n",
       "1  29   1   2  120  243  0  0  160  0  0.0  ?  ?  ?   0\n",
       "2  29   1   2  140    ?  0  0  170  0  0.0  ?  ?  ?   0\n",
       "3  30   0   1  170  237  0  1  170  0  0.0  ?  ?  6   0\n",
       "4  31   0   2  100  219  0  1  150  0  0.0  ?  ?  ?   0"
      ]
     },
     "execution_count": 5,
     "metadata": {},
     "output_type": "execute_result"
    }
   ],
   "source": [
    "hungary.head()"
   ]
  },
  {
   "cell_type": "code",
   "execution_count": 6,
   "metadata": {
    "ExecuteTime": {
     "end_time": "2019-11-08T05:15:03.830983Z",
     "start_time": "2019-11-08T05:15:03.819317Z"
    },
    "collapsed": true,
    "hidden": true
   },
   "outputs": [
    {
     "data": {
      "text/plain": [
       "(123, 14)"
      ]
     },
     "execution_count": 6,
     "metadata": {},
     "output_type": "execute_result"
    }
   ],
   "source": [
    "switzerland.head()\n",
    "switzerland.shape"
   ]
  },
  {
   "cell_type": "code",
   "execution_count": 7,
   "metadata": {
    "ExecuteTime": {
     "end_time": "2019-11-08T05:15:03.852923Z",
     "start_time": "2019-11-08T05:15:03.832980Z"
    },
    "collapsed": true,
    "hidden": true
   },
   "outputs": [
    {
     "data": {
      "text/html": [
       "<div>\n",
       "<style scoped>\n",
       "    .dataframe tbody tr th:only-of-type {\n",
       "        vertical-align: middle;\n",
       "    }\n",
       "\n",
       "    .dataframe tbody tr th {\n",
       "        vertical-align: top;\n",
       "    }\n",
       "\n",
       "    .dataframe thead th {\n",
       "        text-align: right;\n",
       "    }\n",
       "</style>\n",
       "<table border=\"1\" class=\"dataframe\">\n",
       "  <thead>\n",
       "    <tr style=\"text-align: right;\">\n",
       "      <th></th>\n",
       "      <th>0</th>\n",
       "      <th>1</th>\n",
       "      <th>2</th>\n",
       "      <th>3</th>\n",
       "      <th>4</th>\n",
       "      <th>5</th>\n",
       "      <th>6</th>\n",
       "      <th>7</th>\n",
       "      <th>8</th>\n",
       "      <th>9</th>\n",
       "      <th>10</th>\n",
       "      <th>11</th>\n",
       "      <th>12</th>\n",
       "      <th>13</th>\n",
       "    </tr>\n",
       "  </thead>\n",
       "  <tbody>\n",
       "    <tr>\n",
       "      <th>0</th>\n",
       "      <td>63</td>\n",
       "      <td>1</td>\n",
       "      <td>4</td>\n",
       "      <td>140</td>\n",
       "      <td>260</td>\n",
       "      <td>0</td>\n",
       "      <td>1</td>\n",
       "      <td>112</td>\n",
       "      <td>1</td>\n",
       "      <td>3</td>\n",
       "      <td>2</td>\n",
       "      <td>?</td>\n",
       "      <td>?</td>\n",
       "      <td>2</td>\n",
       "    </tr>\n",
       "    <tr>\n",
       "      <th>1</th>\n",
       "      <td>44</td>\n",
       "      <td>1</td>\n",
       "      <td>4</td>\n",
       "      <td>130</td>\n",
       "      <td>209</td>\n",
       "      <td>0</td>\n",
       "      <td>1</td>\n",
       "      <td>127</td>\n",
       "      <td>0</td>\n",
       "      <td>0</td>\n",
       "      <td>?</td>\n",
       "      <td>?</td>\n",
       "      <td>?</td>\n",
       "      <td>0</td>\n",
       "    </tr>\n",
       "    <tr>\n",
       "      <th>2</th>\n",
       "      <td>60</td>\n",
       "      <td>1</td>\n",
       "      <td>4</td>\n",
       "      <td>132</td>\n",
       "      <td>218</td>\n",
       "      <td>0</td>\n",
       "      <td>1</td>\n",
       "      <td>140</td>\n",
       "      <td>1</td>\n",
       "      <td>1.5</td>\n",
       "      <td>3</td>\n",
       "      <td>?</td>\n",
       "      <td>?</td>\n",
       "      <td>2</td>\n",
       "    </tr>\n",
       "    <tr>\n",
       "      <th>3</th>\n",
       "      <td>55</td>\n",
       "      <td>1</td>\n",
       "      <td>4</td>\n",
       "      <td>142</td>\n",
       "      <td>228</td>\n",
       "      <td>0</td>\n",
       "      <td>1</td>\n",
       "      <td>149</td>\n",
       "      <td>1</td>\n",
       "      <td>2.5</td>\n",
       "      <td>1</td>\n",
       "      <td>?</td>\n",
       "      <td>?</td>\n",
       "      <td>1</td>\n",
       "    </tr>\n",
       "    <tr>\n",
       "      <th>4</th>\n",
       "      <td>66</td>\n",
       "      <td>1</td>\n",
       "      <td>3</td>\n",
       "      <td>110</td>\n",
       "      <td>213</td>\n",
       "      <td>1</td>\n",
       "      <td>2</td>\n",
       "      <td>99</td>\n",
       "      <td>1</td>\n",
       "      <td>1.3</td>\n",
       "      <td>2</td>\n",
       "      <td>?</td>\n",
       "      <td>?</td>\n",
       "      <td>0</td>\n",
       "    </tr>\n",
       "  </tbody>\n",
       "</table>\n",
       "</div>"
      ],
      "text/plain": [
       "   0   1   2    3    4  5   6    7  8    9  10 11 12  13\n",
       "0  63   1   4  140  260  0   1  112  1    3  2  ?  ?   2\n",
       "1  44   1   4  130  209  0   1  127  0    0  ?  ?  ?   0\n",
       "2  60   1   4  132  218  0   1  140  1  1.5  3  ?  ?   2\n",
       "3  55   1   4  142  228  0   1  149  1  2.5  1  ?  ?   1\n",
       "4  66   1   3  110  213  1   2   99  1  1.3  2  ?  ?   0"
      ]
     },
     "execution_count": 7,
     "metadata": {},
     "output_type": "execute_result"
    }
   ],
   "source": [
    "long_beach.head()"
   ]
  },
  {
   "cell_type": "markdown",
   "metadata": {
    "hidden": true
   },
   "source": [
    "Before we begin we can see our data does not have any variable names. However, we can see that the data has the same number of columns with the same variables. This indicates we can join the data through a process called concatenation.\n",
    "\n",
    "> If you're unsure what concatenation is, pleasure consult section 3.1.1 'What is Concatenation?'"
   ]
  },
  {
   "cell_type": "markdown",
   "metadata": {
    "hidden": true
   },
   "source": [
    "Before we concatenate though, it would be useful to make sure we can keep a record of which data came from which location. This may be a useful variable to analyze and use for our prediction model. "
   ]
  },
  {
   "cell_type": "code",
   "execution_count": 8,
   "metadata": {
    "ExecuteTime": {
     "end_time": "2019-11-08T05:15:03.869878Z",
     "start_time": "2019-11-08T05:15:03.853921Z"
    },
    "collapsed": true,
    "hidden": true
   },
   "outputs": [
    {
     "name": "stdout",
     "output_type": "stream",
     "text": [
      "Location Added to Dataset\n"
     ]
    }
   ],
   "source": [
    "cleveland['location']='cleveland'\n",
    "hungary['location']='hungary'\n",
    "switzerland['location']='switzerland'\n",
    "long_beach['location']='long_beach'\n",
    "\n",
    "print('Location Added to Dataset')"
   ]
  },
  {
   "cell_type": "markdown",
   "metadata": {
    "hidden": true
   },
   "source": [
    "Now lets concatenate our variables"
   ]
  },
  {
   "cell_type": "code",
   "execution_count": 9,
   "metadata": {
    "ExecuteTime": {
     "end_time": "2019-11-08T05:15:03.890825Z",
     "start_time": "2019-11-08T05:15:03.871873Z"
    },
    "collapsed": true,
    "hidden": true
   },
   "outputs": [
    {
     "name": "stdout",
     "output_type": "stream",
     "text": [
      "Data Concatenated\n"
     ]
    }
   ],
   "source": [
    "heart_disease_data =pd.concat([cleveland, hungary, switzerland, long_beach],axis=0)\n",
    "print('Data Concatenated')"
   ]
  },
  {
   "cell_type": "markdown",
   "metadata": {
    "hidden": true
   },
   "source": [
    "Now lets give our columns names based off their description in the data dictionary. The data dictionary has been reproduced below for your convenience."
   ]
  },
  {
   "cell_type": "markdown",
   "metadata": {
    "hidden": true
   },
   "source": [
    "| *Column #*| *Definition*                                                                        |\n",
    "| --------- | ----------------------------------------------------------------------------------- |\n",
    "| 1         | age in years                                                                        |\n",
    "| 2         | sex (1 = male; 0 = female)                                                          |\n",
    "| 3         | chest pain (1:typical angina; 2:atypical angina; 3:non-anginal pain; 4:asymptomatic)| \n",
    "| 4         | resting blood pressure on hospital admission (mmHg)                                 |\n",
    "| 5         | serum cholesterol in mg/dl                                                          |\n",
    "| 6         | fasting blood sugar > 120 mg/dl (1=true; 0 = false)                                 |\n",
    "| 7         | resting electrocariographic results (0: normal; 1: ST-T wave abnormality (T wave inversions and/or ST elevation or depression of 0.05 mV); 2: showing probably or definite left ventricular hypertrophy by Estes' criteria                                                                    |\n",
    "| 8         | maximum heart rate acheived                                                         |\n",
    "| 9         | exercise induced angina (1=yes; 0=no)                                               |\n",
    "| 10        | ST depression induced by exercise relative to rest                                  |\n",
    "| 11        | Slope of the peak exercise ST segment (1: upsloping; 2: flat; 3: downsloping)          |\n",
    "| 12        | Number of major vessels (0-3) colored by fluoroscopy                                |\n",
    "| 13        | Exercise thallium scintigraphic defects (fixed, reversible, or none)                |\n",
    "| 14        | Diagnosis of heart disease (angiographic disease status) (0: <50% diameter narrowing, 1: >50% diameter narrowing)                                                                        |"
   ]
  },
  {
   "cell_type": "code",
   "execution_count": 10,
   "metadata": {
    "ExecuteTime": {
     "end_time": "2019-11-08T05:15:03.925867Z",
     "start_time": "2019-11-08T05:15:03.892820Z"
    },
    "collapsed": true,
    "hidden": true
   },
   "outputs": [
    {
     "name": "stdout",
     "output_type": "stream",
     "text": [
      "Columns renamed\n"
     ]
    },
    {
     "name": "stderr",
     "output_type": "stream",
     "text": [
      "C:\\Users\\ericr\\Anaconda3\\lib\\site-packages\\pandas\\core\\ops\\__init__.py:1115: FutureWarning: elementwise comparison failed; returning scalar instead, but in the future will perform elementwise comparison\n",
      "  result = method(y)\n"
     ]
    },
    {
     "data": {
      "text/plain": [
       "(299, 15)"
      ]
     },
     "execution_count": 10,
     "metadata": {},
     "output_type": "execute_result"
    }
   ],
   "source": [
    "heart_disease_data.columns=['age', 'sex', 'chest_pain', 'blood_pressure', 'cholesterol', 'blood_sugar', 'ecg', \n",
    "                                   'max_heart_rate', 'exercise_angina','exercise_ST_depress', 'slope_peak_ST', \n",
    "                                   'number_vessel_fluoroscopy','thal_defects', 'heart_disease_diagnosis', 'location']\n",
    "\n",
    "print('Columns renamed')\n",
    "heart_disease_data=heart_disease_data[heart_disease_data.blood_pressure!='?']\n",
    "heart_disease_data=heart_disease_data[heart_disease_data.cholesterol!='?']\n",
    "heart_disease_data=heart_disease_data[heart_disease_data.blood_sugar!='?']\n",
    "heart_disease_data=heart_disease_data[heart_disease_data.ecg!='?']\n",
    "heart_disease_data=heart_disease_data[heart_disease_data.max_heart_rate!='?']\n",
    "heart_disease_data=heart_disease_data[heart_disease_data.exercise_angina!='?']\n",
    "heart_disease_data=heart_disease_data[heart_disease_data.exercise_ST_depress!='?']\n",
    "heart_disease_data=heart_disease_data[heart_disease_data.slope_peak_ST!='?']\n",
    "heart_disease_data=heart_disease_data[heart_disease_data.number_vessel_fluoroscopy!='?']\n",
    "heart_disease_data=heart_disease_data[heart_disease_data.thal_defects!='?']\n",
    "heart_disease_data=heart_disease_data[heart_disease_data.heart_disease_diagnosis!='?']\n",
    "heart_disease_data.shape"
   ]
  },
  {
   "cell_type": "markdown",
   "metadata": {
    "heading_collapsed": true,
    "hidden": true
   },
   "source": [
    "### What is Concatenation?"
   ]
  },
  {
   "cell_type": "markdown",
   "metadata": {
    "hidden": true
   },
   "source": [
    "Concatenation simply means taking our data set and pasting it together. Since our data has the same variables and format, we can think of concatenating them as stacking them on top of one another. The picture below offers a helpful illustration of this process. \n",
    "\n",
    "<img src=\"http://www.datasciencemadesimple.com/wp-content/uploads/2017/11/rowbind-in-python-pandas-0.png\" style=\"float: center; width: 80%;\">"
   ]
  },
  {
   "cell_type": "markdown",
   "metadata": {
    "heading_collapsed": true,
    "hidden": true
   },
   "source": [
    "## Inspecting our Data"
   ]
  },
  {
   "cell_type": "markdown",
   "metadata": {
    "hidden": true
   },
   "source": [
    "Now that our data is prepped, we can inspect it."
   ]
  },
  {
   "cell_type": "code",
   "execution_count": 11,
   "metadata": {
    "ExecuteTime": {
     "end_time": "2019-11-08T05:15:03.949577Z",
     "start_time": "2019-11-08T05:15:03.928862Z"
    },
    "collapsed": true,
    "hidden": true
   },
   "outputs": [
    {
     "data": {
      "text/html": [
       "<div>\n",
       "<style scoped>\n",
       "    .dataframe tbody tr th:only-of-type {\n",
       "        vertical-align: middle;\n",
       "    }\n",
       "\n",
       "    .dataframe tbody tr th {\n",
       "        vertical-align: top;\n",
       "    }\n",
       "\n",
       "    .dataframe thead th {\n",
       "        text-align: right;\n",
       "    }\n",
       "</style>\n",
       "<table border=\"1\" class=\"dataframe\">\n",
       "  <thead>\n",
       "    <tr style=\"text-align: right;\">\n",
       "      <th></th>\n",
       "      <th>age</th>\n",
       "      <th>sex</th>\n",
       "      <th>chest_pain</th>\n",
       "      <th>blood_pressure</th>\n",
       "      <th>cholesterol</th>\n",
       "      <th>blood_sugar</th>\n",
       "      <th>ecg</th>\n",
       "      <th>max_heart_rate</th>\n",
       "      <th>exercise_angina</th>\n",
       "      <th>exercise_ST_depress</th>\n",
       "      <th>slope_peak_ST</th>\n",
       "      <th>number_vessel_fluoroscopy</th>\n",
       "      <th>thal_defects</th>\n",
       "      <th>heart_disease_diagnosis</th>\n",
       "      <th>location</th>\n",
       "    </tr>\n",
       "  </thead>\n",
       "  <tbody>\n",
       "    <tr>\n",
       "      <th>0</th>\n",
       "      <td>63.0</td>\n",
       "      <td>1.0</td>\n",
       "      <td>1.0</td>\n",
       "      <td>145</td>\n",
       "      <td>233</td>\n",
       "      <td>1</td>\n",
       "      <td>2</td>\n",
       "      <td>150</td>\n",
       "      <td>0</td>\n",
       "      <td>2.3</td>\n",
       "      <td>3</td>\n",
       "      <td>0.0</td>\n",
       "      <td>6.0</td>\n",
       "      <td>0</td>\n",
       "      <td>cleveland</td>\n",
       "    </tr>\n",
       "    <tr>\n",
       "      <th>1</th>\n",
       "      <td>67.0</td>\n",
       "      <td>1.0</td>\n",
       "      <td>4.0</td>\n",
       "      <td>160</td>\n",
       "      <td>286</td>\n",
       "      <td>0</td>\n",
       "      <td>2</td>\n",
       "      <td>108</td>\n",
       "      <td>1</td>\n",
       "      <td>1.5</td>\n",
       "      <td>2</td>\n",
       "      <td>3.0</td>\n",
       "      <td>3.0</td>\n",
       "      <td>2</td>\n",
       "      <td>cleveland</td>\n",
       "    </tr>\n",
       "    <tr>\n",
       "      <th>2</th>\n",
       "      <td>67.0</td>\n",
       "      <td>1.0</td>\n",
       "      <td>4.0</td>\n",
       "      <td>120</td>\n",
       "      <td>229</td>\n",
       "      <td>0</td>\n",
       "      <td>2</td>\n",
       "      <td>129</td>\n",
       "      <td>1</td>\n",
       "      <td>2.6</td>\n",
       "      <td>2</td>\n",
       "      <td>2.0</td>\n",
       "      <td>7.0</td>\n",
       "      <td>1</td>\n",
       "      <td>cleveland</td>\n",
       "    </tr>\n",
       "    <tr>\n",
       "      <th>3</th>\n",
       "      <td>37.0</td>\n",
       "      <td>1.0</td>\n",
       "      <td>3.0</td>\n",
       "      <td>130</td>\n",
       "      <td>250</td>\n",
       "      <td>0</td>\n",
       "      <td>0</td>\n",
       "      <td>187</td>\n",
       "      <td>0</td>\n",
       "      <td>3.5</td>\n",
       "      <td>3</td>\n",
       "      <td>0.0</td>\n",
       "      <td>3.0</td>\n",
       "      <td>0</td>\n",
       "      <td>cleveland</td>\n",
       "    </tr>\n",
       "    <tr>\n",
       "      <th>4</th>\n",
       "      <td>41.0</td>\n",
       "      <td>0.0</td>\n",
       "      <td>2.0</td>\n",
       "      <td>130</td>\n",
       "      <td>204</td>\n",
       "      <td>0</td>\n",
       "      <td>2</td>\n",
       "      <td>172</td>\n",
       "      <td>0</td>\n",
       "      <td>1.4</td>\n",
       "      <td>1</td>\n",
       "      <td>0.0</td>\n",
       "      <td>3.0</td>\n",
       "      <td>0</td>\n",
       "      <td>cleveland</td>\n",
       "    </tr>\n",
       "  </tbody>\n",
       "</table>\n",
       "</div>"
      ],
      "text/plain": [
       "    age  sex  chest_pain blood_pressure cholesterol blood_sugar ecg  \\\n",
       "0  63.0  1.0         1.0            145         233           1   2   \n",
       "1  67.0  1.0         4.0            160         286           0   2   \n",
       "2  67.0  1.0         4.0            120         229           0   2   \n",
       "3  37.0  1.0         3.0            130         250           0   0   \n",
       "4  41.0  0.0         2.0            130         204           0   2   \n",
       "\n",
       "  max_heart_rate exercise_angina exercise_ST_depress slope_peak_ST  \\\n",
       "0            150               0                 2.3             3   \n",
       "1            108               1                 1.5             2   \n",
       "2            129               1                 2.6             2   \n",
       "3            187               0                 3.5             3   \n",
       "4            172               0                 1.4             1   \n",
       "\n",
       "  number_vessel_fluoroscopy thal_defects  heart_disease_diagnosis   location  \n",
       "0                       0.0          6.0                        0  cleveland  \n",
       "1                       3.0          3.0                        2  cleveland  \n",
       "2                       2.0          7.0                        1  cleveland  \n",
       "3                       0.0          3.0                        0  cleveland  \n",
       "4                       0.0          3.0                        0  cleveland  "
      ]
     },
     "execution_count": 11,
     "metadata": {},
     "output_type": "execute_result"
    }
   ],
   "source": [
    "heart_disease_data.head()"
   ]
  },
  {
   "cell_type": "code",
   "execution_count": 12,
   "metadata": {
    "ExecuteTime": {
     "end_time": "2019-11-08T05:15:03.967054Z",
     "start_time": "2019-11-08T05:15:03.951572Z"
    },
    "collapsed": true,
    "hidden": true
   },
   "outputs": [
    {
     "name": "stdout",
     "output_type": "stream",
     "text": [
      "<class 'pandas.core.frame.DataFrame'>\n",
      "Int64Index: 299 entries, 0 to 28\n",
      "Data columns (total 15 columns):\n",
      "age                          299 non-null float64\n",
      "sex                          299 non-null float64\n",
      "chest_pain                   299 non-null float64\n",
      "blood_pressure               299 non-null object\n",
      "cholesterol                  299 non-null object\n",
      "blood_sugar                  299 non-null object\n",
      "ecg                          299 non-null object\n",
      "max_heart_rate               299 non-null object\n",
      "exercise_angina              299 non-null object\n",
      "exercise_ST_depress          299 non-null object\n",
      "slope_peak_ST                299 non-null object\n",
      "number_vessel_fluoroscopy    299 non-null object\n",
      "thal_defects                 299 non-null object\n",
      "heart_disease_diagnosis      299 non-null int64\n",
      "location                     299 non-null object\n",
      "dtypes: float64(3), int64(1), object(11)\n",
      "memory usage: 37.4+ KB\n"
     ]
    }
   ],
   "source": [
    "heart_disease_data.info()"
   ]
  },
  {
   "cell_type": "code",
   "execution_count": 13,
   "metadata": {
    "ExecuteTime": {
     "end_time": "2019-11-08T05:15:04.013082Z",
     "start_time": "2019-11-08T05:15:03.969053Z"
    },
    "collapsed": true,
    "hidden": true
   },
   "outputs": [
    {
     "data": {
      "text/html": [
       "<div>\n",
       "<style scoped>\n",
       "    .dataframe tbody tr th:only-of-type {\n",
       "        vertical-align: middle;\n",
       "    }\n",
       "\n",
       "    .dataframe tbody tr th {\n",
       "        vertical-align: top;\n",
       "    }\n",
       "\n",
       "    .dataframe thead th {\n",
       "        text-align: right;\n",
       "    }\n",
       "</style>\n",
       "<table border=\"1\" class=\"dataframe\">\n",
       "  <thead>\n",
       "    <tr style=\"text-align: right;\">\n",
       "      <th></th>\n",
       "      <th>age</th>\n",
       "      <th>sex</th>\n",
       "      <th>chest_pain</th>\n",
       "      <th>heart_disease_diagnosis</th>\n",
       "    </tr>\n",
       "  </thead>\n",
       "  <tbody>\n",
       "    <tr>\n",
       "      <th>count</th>\n",
       "      <td>299.000000</td>\n",
       "      <td>299.00000</td>\n",
       "      <td>299.000000</td>\n",
       "      <td>299.000000</td>\n",
       "    </tr>\n",
       "    <tr>\n",
       "      <th>mean</th>\n",
       "      <td>54.521739</td>\n",
       "      <td>0.67893</td>\n",
       "      <td>3.163880</td>\n",
       "      <td>0.946488</td>\n",
       "    </tr>\n",
       "    <tr>\n",
       "      <th>std</th>\n",
       "      <td>9.030264</td>\n",
       "      <td>0.46767</td>\n",
       "      <td>0.964069</td>\n",
       "      <td>1.230409</td>\n",
       "    </tr>\n",
       "    <tr>\n",
       "      <th>min</th>\n",
       "      <td>29.000000</td>\n",
       "      <td>0.00000</td>\n",
       "      <td>1.000000</td>\n",
       "      <td>0.000000</td>\n",
       "    </tr>\n",
       "    <tr>\n",
       "      <th>25%</th>\n",
       "      <td>48.000000</td>\n",
       "      <td>0.00000</td>\n",
       "      <td>3.000000</td>\n",
       "      <td>0.000000</td>\n",
       "    </tr>\n",
       "    <tr>\n",
       "      <th>50%</th>\n",
       "      <td>56.000000</td>\n",
       "      <td>1.00000</td>\n",
       "      <td>3.000000</td>\n",
       "      <td>0.000000</td>\n",
       "    </tr>\n",
       "    <tr>\n",
       "      <th>75%</th>\n",
       "      <td>61.000000</td>\n",
       "      <td>1.00000</td>\n",
       "      <td>4.000000</td>\n",
       "      <td>2.000000</td>\n",
       "    </tr>\n",
       "    <tr>\n",
       "      <th>max</th>\n",
       "      <td>77.000000</td>\n",
       "      <td>1.00000</td>\n",
       "      <td>4.000000</td>\n",
       "      <td>4.000000</td>\n",
       "    </tr>\n",
       "  </tbody>\n",
       "</table>\n",
       "</div>"
      ],
      "text/plain": [
       "              age        sex  chest_pain  heart_disease_diagnosis\n",
       "count  299.000000  299.00000  299.000000               299.000000\n",
       "mean    54.521739    0.67893    3.163880                 0.946488\n",
       "std      9.030264    0.46767    0.964069                 1.230409\n",
       "min     29.000000    0.00000    1.000000                 0.000000\n",
       "25%     48.000000    0.00000    3.000000                 0.000000\n",
       "50%     56.000000    1.00000    3.000000                 0.000000\n",
       "75%     61.000000    1.00000    4.000000                 2.000000\n",
       "max     77.000000    1.00000    4.000000                 4.000000"
      ]
     },
     "execution_count": 13,
     "metadata": {},
     "output_type": "execute_result"
    }
   ],
   "source": [
    "heart_disease_data.describe()"
   ]
  },
  {
   "cell_type": "markdown",
   "metadata": {
    "ExecuteTime": {
     "end_time": "2019-10-08T17:00:13.510443Z",
     "start_time": "2019-10-08T17:00:13.471Z"
    },
    "hidden": true,
    "solution2": "hidden",
    "solution2_first": true
   },
   "source": [
    "What do you see about the data? Theres no incorrect answer. Click the button below to reveal some observations that will be important for us when we clean the data. "
   ]
  },
  {
   "cell_type": "markdown",
   "metadata": {
    "hidden": true,
    "solution2": "hidden"
   },
   "source": [
    "The first is that many of our variables not in easily human readable format. For instance, `chest_pain` is categorized as a number from 1-4. This does not give us any immediately meaningful information. We will need to recode our variables into something meaningful. \n",
    "\n",
    "Second many of the variables are incorrectly classified as wrong kind of variables. The second output window tells you what kind of variables each variable in our dataset is (the 3-letter phrase after the colon). Don't worry if you don't know what many of the variable types are. That will be explained further on in the case. "
   ]
  },
  {
   "cell_type": "markdown",
   "metadata": {
    "heading_collapsed": true,
    "hidden": true
   },
   "source": [
    "## Recoding Variables"
   ]
  },
  {
   "cell_type": "markdown",
   "metadata": {
    "hidden": true
   },
   "source": [
    "We now need to recode our variables into meaningful outputs. For instance, in the data dictionary for `sex` we can see that `1` = `male` and `0` = `female`. We will now recode our variables, where possible, into more human-readable outputs based upon the data dictionary. "
   ]
  },
  {
   "cell_type": "code",
   "execution_count": 14,
   "metadata": {
    "ExecuteTime": {
     "end_time": "2019-11-08T05:15:04.028043Z",
     "start_time": "2019-11-08T05:15:04.017072Z"
    },
    "collapsed": true,
    "hidden": true
   },
   "outputs": [
    {
     "data": {
      "text/plain": [
       "0    False\n",
       "1    False\n",
       "2     True\n",
       "3    False\n",
       "4    False\n",
       "Name: heart_disease_diagnosis, dtype: bool"
      ]
     },
     "execution_count": 14,
     "metadata": {},
     "output_type": "execute_result"
    }
   ],
   "source": [
    "heart_disease_data.heart_disease_diagnosis.value_counts()\n",
    "(heart_disease_data.heart_disease_diagnosis==1).head()"
   ]
  },
  {
   "cell_type": "code",
   "execution_count": 15,
   "metadata": {
    "ExecuteTime": {
     "end_time": "2019-11-08T05:15:04.065526Z",
     "start_time": "2019-11-08T05:15:04.032030Z"
    },
    "collapsed": true,
    "hidden": true
   },
   "outputs": [
    {
     "name": "stdout",
     "output_type": "stream",
     "text": [
      "Data Recoded\n"
     ]
    }
   ],
   "source": [
    "# Recoding\n",
    "heart_disease_data.sex = heart_disease_data.sex.apply(lambda x: 'Male' if x == 1 else 'Female')\n",
    "\n",
    "heart_disease_data.chest_pain = heart_disease_data.chest_pain.apply(lambda x: 'typical angina' if x == 1\n",
    "                                                  else ('atypical angina' if x == 2 \n",
    "                                                        else ('non-anginal pain' if x == 3\n",
    "                                                              else 'asymptomatic' )))\n",
    "\n",
    "heart_disease_data.blood_sugar=heart_disease_data.blood_sugar.apply(lambda x: 'Fasting Blood Sugar > 120' if x == 1 \n",
    "                                                                    else 'Fasting Blood Sugar < 120')\n",
    "\n",
    "heart_disease_data.ecg = heart_disease_data.ecg.apply(lambda x: 'normal' if x == 0\n",
    "                                                  else ('ST-T wave abnormality' if x == 1 \n",
    "                                                        else 'Probable or definite LVH'))\n",
    "\n",
    "heart_disease_data.exercise_angina=heart_disease_data.exercise_angina.apply(lambda x:'Positive' if x == 1\n",
    "                                                                           else 'Negative')\n",
    "\n",
    "heart_disease_data.slope_peak_ST=heart_disease_data.slope_peak_ST.apply(lambda x:'Upsloping' if x ==1\n",
    "                                                                       else('Flat' if x==2 else 'Downsloping'))\n",
    "\n",
    "heart_disease_data.thal_defects=heart_disease_data.thal_defects.apply(lambda x: 'Normal' if x == '3.0'\n",
    "                                                  else ('Fixed defect' if x == '6.0'\n",
    "                                                        else ('Reversible defect' if x == '7'\n",
    "                                                              else 'Reversible defect' )))\n",
    "\n",
    "heart_disease_data.heart_disease_diagnosis=heart_disease_data.heart_disease_diagnosis.apply(lambda x: 'No heart disease' if x == 0 else 'Disease')\n",
    "\n",
    "# Removin redundancies in number_vessel_fluoroscopy\n",
    "heart_disease_data.number_vessel_fluoroscopy=heart_disease_data.number_vessel_fluoroscopy.astype(float)\n",
    "heart_disease_data.loc[heart_disease_data.number_vessel_fluoroscopy==0,'number_vessel_fluoroscopy']=0.0\n",
    "\n",
    "\n",
    "print('Data Recoded')"
   ]
  },
  {
   "cell_type": "markdown",
   "metadata": {
    "hidden": true
   },
   "source": [
    "Lets confirm our changes"
   ]
  },
  {
   "cell_type": "code",
   "execution_count": 16,
   "metadata": {
    "ExecuteTime": {
     "end_time": "2019-11-08T05:15:04.085405Z",
     "start_time": "2019-11-08T05:15:04.067520Z"
    },
    "collapsed": true,
    "hidden": true
   },
   "outputs": [
    {
     "data": {
      "text/html": [
       "<div>\n",
       "<style scoped>\n",
       "    .dataframe tbody tr th:only-of-type {\n",
       "        vertical-align: middle;\n",
       "    }\n",
       "\n",
       "    .dataframe tbody tr th {\n",
       "        vertical-align: top;\n",
       "    }\n",
       "\n",
       "    .dataframe thead th {\n",
       "        text-align: right;\n",
       "    }\n",
       "</style>\n",
       "<table border=\"1\" class=\"dataframe\">\n",
       "  <thead>\n",
       "    <tr style=\"text-align: right;\">\n",
       "      <th></th>\n",
       "      <th>sex</th>\n",
       "      <th>chest_pain</th>\n",
       "      <th>blood_sugar</th>\n",
       "      <th>ecg</th>\n",
       "      <th>exercise_angina</th>\n",
       "      <th>slope_peak_ST</th>\n",
       "      <th>thal_defects</th>\n",
       "      <th>heart_disease_diagnosis</th>\n",
       "    </tr>\n",
       "  </thead>\n",
       "  <tbody>\n",
       "    <tr>\n",
       "      <th>0</th>\n",
       "      <td>Male</td>\n",
       "      <td>typical angina</td>\n",
       "      <td>Fasting Blood Sugar &gt; 120</td>\n",
       "      <td>Probable or definite LVH</td>\n",
       "      <td>Negative</td>\n",
       "      <td>Downsloping</td>\n",
       "      <td>Fixed defect</td>\n",
       "      <td>No heart disease</td>\n",
       "    </tr>\n",
       "    <tr>\n",
       "      <th>1</th>\n",
       "      <td>Male</td>\n",
       "      <td>asymptomatic</td>\n",
       "      <td>Fasting Blood Sugar &lt; 120</td>\n",
       "      <td>Probable or definite LVH</td>\n",
       "      <td>Positive</td>\n",
       "      <td>Flat</td>\n",
       "      <td>Normal</td>\n",
       "      <td>Disease</td>\n",
       "    </tr>\n",
       "    <tr>\n",
       "      <th>2</th>\n",
       "      <td>Male</td>\n",
       "      <td>asymptomatic</td>\n",
       "      <td>Fasting Blood Sugar &lt; 120</td>\n",
       "      <td>Probable or definite LVH</td>\n",
       "      <td>Positive</td>\n",
       "      <td>Flat</td>\n",
       "      <td>Reversible defect</td>\n",
       "      <td>Disease</td>\n",
       "    </tr>\n",
       "    <tr>\n",
       "      <th>3</th>\n",
       "      <td>Male</td>\n",
       "      <td>non-anginal pain</td>\n",
       "      <td>Fasting Blood Sugar &lt; 120</td>\n",
       "      <td>normal</td>\n",
       "      <td>Negative</td>\n",
       "      <td>Downsloping</td>\n",
       "      <td>Normal</td>\n",
       "      <td>No heart disease</td>\n",
       "    </tr>\n",
       "    <tr>\n",
       "      <th>4</th>\n",
       "      <td>Female</td>\n",
       "      <td>atypical angina</td>\n",
       "      <td>Fasting Blood Sugar &lt; 120</td>\n",
       "      <td>Probable or definite LVH</td>\n",
       "      <td>Negative</td>\n",
       "      <td>Upsloping</td>\n",
       "      <td>Normal</td>\n",
       "      <td>No heart disease</td>\n",
       "    </tr>\n",
       "  </tbody>\n",
       "</table>\n",
       "</div>"
      ],
      "text/plain": [
       "      sex        chest_pain                blood_sugar  \\\n",
       "0    Male    typical angina  Fasting Blood Sugar > 120   \n",
       "1    Male      asymptomatic  Fasting Blood Sugar < 120   \n",
       "2    Male      asymptomatic  Fasting Blood Sugar < 120   \n",
       "3    Male  non-anginal pain  Fasting Blood Sugar < 120   \n",
       "4  Female   atypical angina  Fasting Blood Sugar < 120   \n",
       "\n",
       "                        ecg exercise_angina slope_peak_ST       thal_defects  \\\n",
       "0  Probable or definite LVH        Negative   Downsloping       Fixed defect   \n",
       "1  Probable or definite LVH        Positive          Flat             Normal   \n",
       "2  Probable or definite LVH        Positive          Flat  Reversible defect   \n",
       "3                    normal        Negative   Downsloping             Normal   \n",
       "4  Probable or definite LVH        Negative     Upsloping             Normal   \n",
       "\n",
       "  heart_disease_diagnosis  \n",
       "0        No heart disease  \n",
       "1                 Disease  \n",
       "2                 Disease  \n",
       "3        No heart disease  \n",
       "4        No heart disease  "
      ]
     },
     "execution_count": 16,
     "metadata": {},
     "output_type": "execute_result"
    }
   ],
   "source": [
    "heart_disease_data[['sex', 'chest_pain', 'blood_sugar', 'ecg', 'exercise_angina', 'slope_peak_ST',\n",
    "                         'thal_defects', 'heart_disease_diagnosis']].head()"
   ]
  },
  {
   "cell_type": "code",
   "execution_count": 17,
   "metadata": {
    "ExecuteTime": {
     "end_time": "2019-11-08T05:15:04.101373Z",
     "start_time": "2019-11-08T05:15:04.088400Z"
    },
    "collapsed": true,
    "hidden": true
   },
   "outputs": [
    {
     "data": {
      "text/plain": [
       "(299, 15)"
      ]
     },
     "execution_count": 17,
     "metadata": {},
     "output_type": "execute_result"
    }
   ],
   "source": [
    "heart_disease_data.shape"
   ]
  },
  {
   "cell_type": "markdown",
   "metadata": {
    "hidden": true
   },
   "source": [
    "First we'll need to correctly classify each variable. There are many types of variables. For instance, the variables we just recoded are now considered character variables. The two most important classes of variable to consider for now are categorical and numeric data. "
   ]
  },
  {
   "cell_type": "markdown",
   "metadata": {
    "hidden": true,
    "solution2": "hidden",
    "solution2_first": true
   },
   "source": [
    "**Pre-Check:** What is the difference between a numeric and categorical variable?"
   ]
  },
  {
   "cell_type": "markdown",
   "metadata": {
    "hidden": true,
    "solution2": "hidden"
   },
   "source": [
    "- **Numeric:** variables whose values are whole numbers (ie. numbers, percents)\n",
    "- **Categorical:** variables whose values are selected from a group (ie. dog breeds, male/female) \n",
    "\n",
    "> Note R calls categorical variables **Factors**"
   ]
  },
  {
   "cell_type": "markdown",
   "metadata": {
    "hidden": true,
    "solution2": "hidden",
    "solution2_first": true
   },
   "source": [
    "**Application Check:** Take a look at all variables we just recoded above. Are these variable numeric or categorical?"
   ]
  },
  {
   "cell_type": "markdown",
   "metadata": {
    "hidden": true,
    "solution2": "hidden"
   },
   "source": [
    "All these variable are categorical since they all only have a limited number of values or categories. "
   ]
  },
  {
   "cell_type": "markdown",
   "metadata": {
    "hidden": true
   },
   "source": [
    "Lets turn our variables into the correct variable type now. "
   ]
  },
  {
   "cell_type": "code",
   "execution_count": 18,
   "metadata": {
    "ExecuteTime": {
     "end_time": "2019-11-08T05:15:04.134518Z",
     "start_time": "2019-11-08T05:15:04.104509Z"
    },
    "collapsed": true,
    "hidden": true
   },
   "outputs": [
    {
     "data": {
      "text/html": [
       "<div>\n",
       "<style scoped>\n",
       "    .dataframe tbody tr th:only-of-type {\n",
       "        vertical-align: middle;\n",
       "    }\n",
       "\n",
       "    .dataframe tbody tr th {\n",
       "        vertical-align: top;\n",
       "    }\n",
       "\n",
       "    .dataframe thead th {\n",
       "        text-align: right;\n",
       "    }\n",
       "</style>\n",
       "<table border=\"1\" class=\"dataframe\">\n",
       "  <thead>\n",
       "    <tr style=\"text-align: right;\">\n",
       "      <th></th>\n",
       "      <th>age</th>\n",
       "      <th>sex</th>\n",
       "      <th>chest_pain</th>\n",
       "      <th>blood_pressure</th>\n",
       "      <th>cholesterol</th>\n",
       "      <th>blood_sugar</th>\n",
       "      <th>ecg</th>\n",
       "      <th>max_heart_rate</th>\n",
       "      <th>exercise_angina</th>\n",
       "      <th>exercise_ST_depress</th>\n",
       "      <th>slope_peak_ST</th>\n",
       "      <th>number_vessel_fluoroscopy</th>\n",
       "      <th>thal_defects</th>\n",
       "      <th>heart_disease_diagnosis</th>\n",
       "      <th>location</th>\n",
       "    </tr>\n",
       "  </thead>\n",
       "  <tbody>\n",
       "    <tr>\n",
       "      <th>0</th>\n",
       "      <td>63.0</td>\n",
       "      <td>Male</td>\n",
       "      <td>typical angina</td>\n",
       "      <td>145</td>\n",
       "      <td>233</td>\n",
       "      <td>Fasting Blood Sugar &gt; 120</td>\n",
       "      <td>Probable or definite LVH</td>\n",
       "      <td>150</td>\n",
       "      <td>Negative</td>\n",
       "      <td>2.3</td>\n",
       "      <td>Downsloping</td>\n",
       "      <td>0.0</td>\n",
       "      <td>Fixed defect</td>\n",
       "      <td>No heart disease</td>\n",
       "      <td>cleveland</td>\n",
       "    </tr>\n",
       "    <tr>\n",
       "      <th>1</th>\n",
       "      <td>67.0</td>\n",
       "      <td>Male</td>\n",
       "      <td>asymptomatic</td>\n",
       "      <td>160</td>\n",
       "      <td>286</td>\n",
       "      <td>Fasting Blood Sugar &lt; 120</td>\n",
       "      <td>Probable or definite LVH</td>\n",
       "      <td>108</td>\n",
       "      <td>Positive</td>\n",
       "      <td>1.5</td>\n",
       "      <td>Flat</td>\n",
       "      <td>3.0</td>\n",
       "      <td>Normal</td>\n",
       "      <td>Disease</td>\n",
       "      <td>cleveland</td>\n",
       "    </tr>\n",
       "    <tr>\n",
       "      <th>2</th>\n",
       "      <td>67.0</td>\n",
       "      <td>Male</td>\n",
       "      <td>asymptomatic</td>\n",
       "      <td>120</td>\n",
       "      <td>229</td>\n",
       "      <td>Fasting Blood Sugar &lt; 120</td>\n",
       "      <td>Probable or definite LVH</td>\n",
       "      <td>129</td>\n",
       "      <td>Positive</td>\n",
       "      <td>2.6</td>\n",
       "      <td>Flat</td>\n",
       "      <td>2.0</td>\n",
       "      <td>Reversible defect</td>\n",
       "      <td>Disease</td>\n",
       "      <td>cleveland</td>\n",
       "    </tr>\n",
       "    <tr>\n",
       "      <th>3</th>\n",
       "      <td>37.0</td>\n",
       "      <td>Male</td>\n",
       "      <td>non-anginal pain</td>\n",
       "      <td>130</td>\n",
       "      <td>250</td>\n",
       "      <td>Fasting Blood Sugar &lt; 120</td>\n",
       "      <td>normal</td>\n",
       "      <td>187</td>\n",
       "      <td>Negative</td>\n",
       "      <td>3.5</td>\n",
       "      <td>Downsloping</td>\n",
       "      <td>0.0</td>\n",
       "      <td>Normal</td>\n",
       "      <td>No heart disease</td>\n",
       "      <td>cleveland</td>\n",
       "    </tr>\n",
       "    <tr>\n",
       "      <th>4</th>\n",
       "      <td>41.0</td>\n",
       "      <td>Female</td>\n",
       "      <td>atypical angina</td>\n",
       "      <td>130</td>\n",
       "      <td>204</td>\n",
       "      <td>Fasting Blood Sugar &lt; 120</td>\n",
       "      <td>Probable or definite LVH</td>\n",
       "      <td>172</td>\n",
       "      <td>Negative</td>\n",
       "      <td>1.4</td>\n",
       "      <td>Upsloping</td>\n",
       "      <td>0.0</td>\n",
       "      <td>Normal</td>\n",
       "      <td>No heart disease</td>\n",
       "      <td>cleveland</td>\n",
       "    </tr>\n",
       "  </tbody>\n",
       "</table>\n",
       "</div>"
      ],
      "text/plain": [
       "    age     sex        chest_pain blood_pressure cholesterol  \\\n",
       "0  63.0    Male    typical angina            145         233   \n",
       "1  67.0    Male      asymptomatic            160         286   \n",
       "2  67.0    Male      asymptomatic            120         229   \n",
       "3  37.0    Male  non-anginal pain            130         250   \n",
       "4  41.0  Female   atypical angina            130         204   \n",
       "\n",
       "                 blood_sugar                       ecg max_heart_rate  \\\n",
       "0  Fasting Blood Sugar > 120  Probable or definite LVH            150   \n",
       "1  Fasting Blood Sugar < 120  Probable or definite LVH            108   \n",
       "2  Fasting Blood Sugar < 120  Probable or definite LVH            129   \n",
       "3  Fasting Blood Sugar < 120                    normal            187   \n",
       "4  Fasting Blood Sugar < 120  Probable or definite LVH            172   \n",
       "\n",
       "  exercise_angina exercise_ST_depress slope_peak_ST  \\\n",
       "0        Negative                 2.3   Downsloping   \n",
       "1        Positive                 1.5          Flat   \n",
       "2        Positive                 2.6          Flat   \n",
       "3        Negative                 3.5   Downsloping   \n",
       "4        Negative                 1.4     Upsloping   \n",
       "\n",
       "   number_vessel_fluoroscopy       thal_defects heart_disease_diagnosis  \\\n",
       "0                        0.0       Fixed defect        No heart disease   \n",
       "1                        3.0             Normal                 Disease   \n",
       "2                        2.0  Reversible defect                 Disease   \n",
       "3                        0.0             Normal        No heart disease   \n",
       "4                        0.0             Normal        No heart disease   \n",
       "\n",
       "    location  \n",
       "0  cleveland  \n",
       "1  cleveland  \n",
       "2  cleveland  \n",
       "3  cleveland  \n",
       "4  cleveland  "
      ]
     },
     "execution_count": 18,
     "metadata": {},
     "output_type": "execute_result"
    }
   ],
   "source": [
    "heart_disease_data.head()"
   ]
  },
  {
   "cell_type": "code",
   "execution_count": 19,
   "metadata": {
    "ExecuteTime": {
     "end_time": "2019-11-08T05:15:04.170423Z",
     "start_time": "2019-11-08T05:15:04.137511Z"
    },
    "collapsed": true,
    "hidden": true
   },
   "outputs": [
    {
     "data": {
      "text/html": [
       "<div>\n",
       "<style scoped>\n",
       "    .dataframe tbody tr th:only-of-type {\n",
       "        vertical-align: middle;\n",
       "    }\n",
       "\n",
       "    .dataframe tbody tr th {\n",
       "        vertical-align: top;\n",
       "    }\n",
       "\n",
       "    .dataframe thead th {\n",
       "        text-align: right;\n",
       "    }\n",
       "</style>\n",
       "<table border=\"1\" class=\"dataframe\">\n",
       "  <thead>\n",
       "    <tr style=\"text-align: right;\">\n",
       "      <th></th>\n",
       "      <th>age</th>\n",
       "      <th>number_vessel_fluoroscopy</th>\n",
       "    </tr>\n",
       "  </thead>\n",
       "  <tbody>\n",
       "    <tr>\n",
       "      <th>count</th>\n",
       "      <td>299.000000</td>\n",
       "      <td>299.000000</td>\n",
       "    </tr>\n",
       "    <tr>\n",
       "      <th>mean</th>\n",
       "      <td>54.521739</td>\n",
       "      <td>0.672241</td>\n",
       "    </tr>\n",
       "    <tr>\n",
       "      <th>std</th>\n",
       "      <td>9.030264</td>\n",
       "      <td>0.937438</td>\n",
       "    </tr>\n",
       "    <tr>\n",
       "      <th>min</th>\n",
       "      <td>29.000000</td>\n",
       "      <td>0.000000</td>\n",
       "    </tr>\n",
       "    <tr>\n",
       "      <th>25%</th>\n",
       "      <td>48.000000</td>\n",
       "      <td>0.000000</td>\n",
       "    </tr>\n",
       "    <tr>\n",
       "      <th>50%</th>\n",
       "      <td>56.000000</td>\n",
       "      <td>0.000000</td>\n",
       "    </tr>\n",
       "    <tr>\n",
       "      <th>75%</th>\n",
       "      <td>61.000000</td>\n",
       "      <td>1.000000</td>\n",
       "    </tr>\n",
       "    <tr>\n",
       "      <th>max</th>\n",
       "      <td>77.000000</td>\n",
       "      <td>3.000000</td>\n",
       "    </tr>\n",
       "  </tbody>\n",
       "</table>\n",
       "</div>"
      ],
      "text/plain": [
       "              age  number_vessel_fluoroscopy\n",
       "count  299.000000                 299.000000\n",
       "mean    54.521739                   0.672241\n",
       "std      9.030264                   0.937438\n",
       "min     29.000000                   0.000000\n",
       "25%     48.000000                   0.000000\n",
       "50%     56.000000                   0.000000\n",
       "75%     61.000000                   1.000000\n",
       "max     77.000000                   3.000000"
      ]
     },
     "execution_count": 19,
     "metadata": {},
     "output_type": "execute_result"
    }
   ],
   "source": [
    "heart_disease_data.describe()"
   ]
  },
  {
   "cell_type": "code",
   "execution_count": 20,
   "metadata": {
    "ExecuteTime": {
     "end_time": "2019-11-08T05:15:04.190138Z",
     "start_time": "2019-11-08T05:15:04.172124Z"
    },
    "collapsed": true,
    "hidden": true
   },
   "outputs": [
    {
     "name": "stdout",
     "output_type": "stream",
     "text": [
      "Variables converted\n"
     ]
    }
   ],
   "source": [
    "heart_disease_data.blood_pressure=heart_disease_data.blood_pressure.astype(float)\n",
    "heart_disease_data.cholesterol=heart_disease_data.cholesterol.astype(float)\n",
    "heart_disease_data.max_heart_rate=heart_disease_data.max_heart_rate.astype(float)\n",
    "heart_disease_data.exercise_ST_depress=heart_disease_data.exercise_ST_depress.astype(float)\n",
    "print('Variables converted')"
   ]
  },
  {
   "cell_type": "markdown",
   "metadata": {
    "ExecuteTime": {
     "end_time": "2019-10-08T20:17:50.372922Z",
     "start_time": "2019-10-08T20:17:50.318Z"
    },
    "hidden": true
   },
   "source": [
    "Lets confirm"
   ]
  },
  {
   "cell_type": "code",
   "execution_count": 21,
   "metadata": {
    "ExecuteTime": {
     "end_time": "2019-11-08T05:15:04.231817Z",
     "start_time": "2019-11-08T05:15:04.192685Z"
    },
    "collapsed": true,
    "hidden": true
   },
   "outputs": [
    {
     "data": {
      "text/html": [
       "<div>\n",
       "<style scoped>\n",
       "    .dataframe tbody tr th:only-of-type {\n",
       "        vertical-align: middle;\n",
       "    }\n",
       "\n",
       "    .dataframe tbody tr th {\n",
       "        vertical-align: top;\n",
       "    }\n",
       "\n",
       "    .dataframe thead th {\n",
       "        text-align: right;\n",
       "    }\n",
       "</style>\n",
       "<table border=\"1\" class=\"dataframe\">\n",
       "  <thead>\n",
       "    <tr style=\"text-align: right;\">\n",
       "      <th></th>\n",
       "      <th>age</th>\n",
       "      <th>blood_pressure</th>\n",
       "      <th>cholesterol</th>\n",
       "      <th>max_heart_rate</th>\n",
       "      <th>exercise_ST_depress</th>\n",
       "      <th>number_vessel_fluoroscopy</th>\n",
       "    </tr>\n",
       "  </thead>\n",
       "  <tbody>\n",
       "    <tr>\n",
       "      <th>count</th>\n",
       "      <td>299.000000</td>\n",
       "      <td>299.000000</td>\n",
       "      <td>299.000000</td>\n",
       "      <td>299.000000</td>\n",
       "      <td>299.000000</td>\n",
       "      <td>299.000000</td>\n",
       "    </tr>\n",
       "    <tr>\n",
       "      <th>mean</th>\n",
       "      <td>54.521739</td>\n",
       "      <td>131.715719</td>\n",
       "      <td>246.785953</td>\n",
       "      <td>149.327759</td>\n",
       "      <td>1.058528</td>\n",
       "      <td>0.672241</td>\n",
       "    </tr>\n",
       "    <tr>\n",
       "      <th>std</th>\n",
       "      <td>9.030264</td>\n",
       "      <td>17.747751</td>\n",
       "      <td>52.532582</td>\n",
       "      <td>23.121062</td>\n",
       "      <td>1.162769</td>\n",
       "      <td>0.937438</td>\n",
       "    </tr>\n",
       "    <tr>\n",
       "      <th>min</th>\n",
       "      <td>29.000000</td>\n",
       "      <td>94.000000</td>\n",
       "      <td>100.000000</td>\n",
       "      <td>71.000000</td>\n",
       "      <td>0.000000</td>\n",
       "      <td>0.000000</td>\n",
       "    </tr>\n",
       "    <tr>\n",
       "      <th>25%</th>\n",
       "      <td>48.000000</td>\n",
       "      <td>120.000000</td>\n",
       "      <td>211.000000</td>\n",
       "      <td>132.500000</td>\n",
       "      <td>0.000000</td>\n",
       "      <td>0.000000</td>\n",
       "    </tr>\n",
       "    <tr>\n",
       "      <th>50%</th>\n",
       "      <td>56.000000</td>\n",
       "      <td>130.000000</td>\n",
       "      <td>242.000000</td>\n",
       "      <td>152.000000</td>\n",
       "      <td>0.800000</td>\n",
       "      <td>0.000000</td>\n",
       "    </tr>\n",
       "    <tr>\n",
       "      <th>75%</th>\n",
       "      <td>61.000000</td>\n",
       "      <td>140.000000</td>\n",
       "      <td>275.500000</td>\n",
       "      <td>165.500000</td>\n",
       "      <td>1.600000</td>\n",
       "      <td>1.000000</td>\n",
       "    </tr>\n",
       "    <tr>\n",
       "      <th>max</th>\n",
       "      <td>77.000000</td>\n",
       "      <td>200.000000</td>\n",
       "      <td>564.000000</td>\n",
       "      <td>202.000000</td>\n",
       "      <td>6.200000</td>\n",
       "      <td>3.000000</td>\n",
       "    </tr>\n",
       "  </tbody>\n",
       "</table>\n",
       "</div>"
      ],
      "text/plain": [
       "              age  blood_pressure  cholesterol  max_heart_rate  \\\n",
       "count  299.000000      299.000000   299.000000      299.000000   \n",
       "mean    54.521739      131.715719   246.785953      149.327759   \n",
       "std      9.030264       17.747751    52.532582       23.121062   \n",
       "min     29.000000       94.000000   100.000000       71.000000   \n",
       "25%     48.000000      120.000000   211.000000      132.500000   \n",
       "50%     56.000000      130.000000   242.000000      152.000000   \n",
       "75%     61.000000      140.000000   275.500000      165.500000   \n",
       "max     77.000000      200.000000   564.000000      202.000000   \n",
       "\n",
       "       exercise_ST_depress  number_vessel_fluoroscopy  \n",
       "count           299.000000                 299.000000  \n",
       "mean              1.058528                   0.672241  \n",
       "std               1.162769                   0.937438  \n",
       "min               0.000000                   0.000000  \n",
       "25%               0.000000                   0.000000  \n",
       "50%               0.800000                   0.000000  \n",
       "75%               1.600000                   1.000000  \n",
       "max               6.200000                   3.000000  "
      ]
     },
     "execution_count": 21,
     "metadata": {},
     "output_type": "execute_result"
    }
   ],
   "source": [
    "heart_disease_data.describe()"
   ]
  },
  {
   "cell_type": "markdown",
   "metadata": {
    "hidden": true
   },
   "source": [
    "Much better! "
   ]
  },
  {
   "cell_type": "markdown",
   "metadata": {
    "heading_collapsed": true,
    "hidden": true
   },
   "source": [
    "## Checking for Missing Values"
   ]
  },
  {
   "cell_type": "markdown",
   "metadata": {
    "hidden": true
   },
   "source": [
    "Lets examine the data for missing values now."
   ]
  },
  {
   "cell_type": "code",
   "execution_count": 22,
   "metadata": {
    "ExecuteTime": {
     "end_time": "2019-11-08T05:15:04.242693Z",
     "start_time": "2019-11-08T05:15:04.233818Z"
    },
    "collapsed": true,
    "hidden": true
   },
   "outputs": [
    {
     "name": "stdout",
     "output_type": "stream",
     "text": [
      "Number of Missing Data for Each Variable:\n"
     ]
    },
    {
     "data": {
      "text/plain": [
       "age                          0\n",
       "sex                          0\n",
       "chest_pain                   0\n",
       "blood_pressure               0\n",
       "cholesterol                  0\n",
       "blood_sugar                  0\n",
       "ecg                          0\n",
       "max_heart_rate               0\n",
       "exercise_angina              0\n",
       "exercise_ST_depress          0\n",
       "slope_peak_ST                0\n",
       "number_vessel_fluoroscopy    0\n",
       "thal_defects                 0\n",
       "heart_disease_diagnosis      0\n",
       "location                     0\n",
       "dtype: int64"
      ]
     },
     "execution_count": 22,
     "metadata": {},
     "output_type": "execute_result"
    }
   ],
   "source": [
    "print('Number of Missing Data for Each Variable:')\n",
    "heart_disease_data.isna().sum()"
   ]
  },
  {
   "cell_type": "markdown",
   "metadata": {
    "heading_collapsed": true,
    "hidden": true
   },
   "source": [
    "## Checking for Implausible Values"
   ]
  },
  {
   "cell_type": "markdown",
   "metadata": {
    "hidden": true
   },
   "source": [
    "Lets check our data for implausible values. Focus on the minimum and maximum values for the numeric output below. "
   ]
  },
  {
   "cell_type": "code",
   "execution_count": 23,
   "metadata": {
    "ExecuteTime": {
     "end_time": "2019-11-08T05:15:04.282443Z",
     "start_time": "2019-11-08T05:15:04.244684Z"
    },
    "collapsed": true,
    "hidden": true
   },
   "outputs": [
    {
     "data": {
      "text/html": [
       "<div>\n",
       "<style scoped>\n",
       "    .dataframe tbody tr th:only-of-type {\n",
       "        vertical-align: middle;\n",
       "    }\n",
       "\n",
       "    .dataframe tbody tr th {\n",
       "        vertical-align: top;\n",
       "    }\n",
       "\n",
       "    .dataframe thead th {\n",
       "        text-align: right;\n",
       "    }\n",
       "</style>\n",
       "<table border=\"1\" class=\"dataframe\">\n",
       "  <thead>\n",
       "    <tr style=\"text-align: right;\">\n",
       "      <th></th>\n",
       "      <th>age</th>\n",
       "      <th>blood_pressure</th>\n",
       "      <th>cholesterol</th>\n",
       "      <th>max_heart_rate</th>\n",
       "      <th>exercise_ST_depress</th>\n",
       "      <th>number_vessel_fluoroscopy</th>\n",
       "    </tr>\n",
       "  </thead>\n",
       "  <tbody>\n",
       "    <tr>\n",
       "      <th>count</th>\n",
       "      <td>299.000000</td>\n",
       "      <td>299.000000</td>\n",
       "      <td>299.000000</td>\n",
       "      <td>299.000000</td>\n",
       "      <td>299.000000</td>\n",
       "      <td>299.000000</td>\n",
       "    </tr>\n",
       "    <tr>\n",
       "      <th>mean</th>\n",
       "      <td>54.521739</td>\n",
       "      <td>131.715719</td>\n",
       "      <td>246.785953</td>\n",
       "      <td>149.327759</td>\n",
       "      <td>1.058528</td>\n",
       "      <td>0.672241</td>\n",
       "    </tr>\n",
       "    <tr>\n",
       "      <th>std</th>\n",
       "      <td>9.030264</td>\n",
       "      <td>17.747751</td>\n",
       "      <td>52.532582</td>\n",
       "      <td>23.121062</td>\n",
       "      <td>1.162769</td>\n",
       "      <td>0.937438</td>\n",
       "    </tr>\n",
       "    <tr>\n",
       "      <th>min</th>\n",
       "      <td>29.000000</td>\n",
       "      <td>94.000000</td>\n",
       "      <td>100.000000</td>\n",
       "      <td>71.000000</td>\n",
       "      <td>0.000000</td>\n",
       "      <td>0.000000</td>\n",
       "    </tr>\n",
       "    <tr>\n",
       "      <th>25%</th>\n",
       "      <td>48.000000</td>\n",
       "      <td>120.000000</td>\n",
       "      <td>211.000000</td>\n",
       "      <td>132.500000</td>\n",
       "      <td>0.000000</td>\n",
       "      <td>0.000000</td>\n",
       "    </tr>\n",
       "    <tr>\n",
       "      <th>50%</th>\n",
       "      <td>56.000000</td>\n",
       "      <td>130.000000</td>\n",
       "      <td>242.000000</td>\n",
       "      <td>152.000000</td>\n",
       "      <td>0.800000</td>\n",
       "      <td>0.000000</td>\n",
       "    </tr>\n",
       "    <tr>\n",
       "      <th>75%</th>\n",
       "      <td>61.000000</td>\n",
       "      <td>140.000000</td>\n",
       "      <td>275.500000</td>\n",
       "      <td>165.500000</td>\n",
       "      <td>1.600000</td>\n",
       "      <td>1.000000</td>\n",
       "    </tr>\n",
       "    <tr>\n",
       "      <th>max</th>\n",
       "      <td>77.000000</td>\n",
       "      <td>200.000000</td>\n",
       "      <td>564.000000</td>\n",
       "      <td>202.000000</td>\n",
       "      <td>6.200000</td>\n",
       "      <td>3.000000</td>\n",
       "    </tr>\n",
       "  </tbody>\n",
       "</table>\n",
       "</div>"
      ],
      "text/plain": [
       "              age  blood_pressure  cholesterol  max_heart_rate  \\\n",
       "count  299.000000      299.000000   299.000000      299.000000   \n",
       "mean    54.521739      131.715719   246.785953      149.327759   \n",
       "std      9.030264       17.747751    52.532582       23.121062   \n",
       "min     29.000000       94.000000   100.000000       71.000000   \n",
       "25%     48.000000      120.000000   211.000000      132.500000   \n",
       "50%     56.000000      130.000000   242.000000      152.000000   \n",
       "75%     61.000000      140.000000   275.500000      165.500000   \n",
       "max     77.000000      200.000000   564.000000      202.000000   \n",
       "\n",
       "       exercise_ST_depress  number_vessel_fluoroscopy  \n",
       "count           299.000000                 299.000000  \n",
       "mean              1.058528                   0.672241  \n",
       "std               1.162769                   0.937438  \n",
       "min               0.000000                   0.000000  \n",
       "25%               0.000000                   0.000000  \n",
       "50%               0.800000                   0.000000  \n",
       "75%               1.600000                   1.000000  \n",
       "max               6.200000                   3.000000  "
      ]
     },
     "execution_count": 23,
     "metadata": {},
     "output_type": "execute_result"
    }
   ],
   "source": [
    "heart_disease_data.describe()"
   ]
  },
  {
   "cell_type": "markdown",
   "metadata": {
    "heading_collapsed": true,
    "hidden": true
   },
   "source": [
    "## Creating Clinically Relevant Variables"
   ]
  },
  {
   "cell_type": "markdown",
   "metadata": {
    "hidden": true
   },
   "source": [
    "Our data already includes several useful clinical measures/categories. However, cholesterol has been left as a raw lab value. Lets convert this into a more clinically useful. "
   ]
  },
  {
   "cell_type": "markdown",
   "metadata": {
    "heading_collapsed": true,
    "hidden": true
   },
   "source": [
    "### Cholesterol"
   ]
  },
  {
   "cell_type": "markdown",
   "metadata": {
    "hidden": true
   },
   "source": [
    "A person's total body cholesterol reveals the total amount of cholesterol and triglycerides in the blood. The high cholesterol can cause plaques to build up within blood vessels. This leads to arterial narrowing and eventually heart disease. For this reason, it's important for individuals to maintain healthy cholesterol levels to prevent heart disease. \n",
    "\n",
    "<img src=\"https://www.health.harvard.edu/media/content/images/cholesterol-blood-test-needle-dina2001iStock_79633563_MEDIUM.jpg\" style=\"width:450px;height:300px;\">"
   ]
  },
  {
   "cell_type": "markdown",
   "metadata": {
    "hidden": true,
    "solution2": "hidden",
    "solution2_first": true
   },
   "source": [
    "**Knowledge Check:** What are the clinical cut-offs for hypercholesterolnemia?"
   ]
  },
  {
   "cell_type": "markdown",
   "metadata": {
    "hidden": true,
    "solution2": "hidden"
   },
   "source": [
    "<center>\n",
    "\n",
    "| *Category*                      | *BMI Range (mg/dL)*     |\n",
    "| ------------------------------- | ----------------------- |\n",
    "| Normal                          | cholesterol < 200       |\n",
    "| Borderline Hypercholestrolnemia | 200 ≤ cholesterol < 240 |\n",
    "| Hypercholesterolnemia           | 240 ≤ cholesterol       |\n",
    "\n",
    "</center>"
   ]
  },
  {
   "cell_type": "markdown",
   "metadata": {
    "hidden": true
   },
   "source": [
    "Let create the new variable `cholesterol_status` based off these clinical cut-offs "
   ]
  },
  {
   "cell_type": "code",
   "execution_count": 24,
   "metadata": {
    "ExecuteTime": {
     "end_time": "2019-11-08T05:15:04.291934Z",
     "start_time": "2019-11-08T05:15:04.285924Z"
    },
    "collapsed": true,
    "hidden": true
   },
   "outputs": [
    {
     "name": "stdout",
     "output_type": "stream",
     "text": [
      "'cholesterol_status' variable created!\n"
     ]
    }
   ],
   "source": [
    "# Create 'cholesterol_status'\n",
    "heart_disease_data['cholesterol_status'] = heart_disease_data.cholesterol.apply(lambda x: 'Normal' if x <200\n",
    "                                                  else ('Borderline Hypercholestrolnemia' if x >=200 and x < 240\n",
    "                                                        else 'Hypercholesterolnemia'))\n",
    "print('\\'cholesterol_status\\' variable created!')"
   ]
  },
  {
   "cell_type": "markdown",
   "metadata": {
    "hidden": true
   },
   "source": [
    "Let's confirm our results"
   ]
  },
  {
   "cell_type": "code",
   "execution_count": 25,
   "metadata": {
    "ExecuteTime": {
     "end_time": "2019-11-08T05:15:04.319836Z",
     "start_time": "2019-11-08T05:15:04.298891Z"
    },
    "collapsed": true,
    "hidden": true
   },
   "outputs": [
    {
     "data": {
      "text/html": [
       "<div>\n",
       "<style scoped>\n",
       "    .dataframe tbody tr th:only-of-type {\n",
       "        vertical-align: middle;\n",
       "    }\n",
       "\n",
       "    .dataframe tbody tr th {\n",
       "        vertical-align: top;\n",
       "    }\n",
       "\n",
       "    .dataframe thead th {\n",
       "        text-align: right;\n",
       "    }\n",
       "</style>\n",
       "<table border=\"1\" class=\"dataframe\">\n",
       "  <thead>\n",
       "    <tr style=\"text-align: right;\">\n",
       "      <th></th>\n",
       "      <th>cholesterol</th>\n",
       "      <th>cholesterol_status</th>\n",
       "    </tr>\n",
       "  </thead>\n",
       "  <tbody>\n",
       "    <tr>\n",
       "      <th>0</th>\n",
       "      <td>233.0</td>\n",
       "      <td>Borderline Hypercholestrolnemia</td>\n",
       "    </tr>\n",
       "    <tr>\n",
       "      <th>1</th>\n",
       "      <td>286.0</td>\n",
       "      <td>Hypercholesterolnemia</td>\n",
       "    </tr>\n",
       "    <tr>\n",
       "      <th>2</th>\n",
       "      <td>229.0</td>\n",
       "      <td>Borderline Hypercholestrolnemia</td>\n",
       "    </tr>\n",
       "    <tr>\n",
       "      <th>3</th>\n",
       "      <td>250.0</td>\n",
       "      <td>Hypercholesterolnemia</td>\n",
       "    </tr>\n",
       "    <tr>\n",
       "      <th>4</th>\n",
       "      <td>204.0</td>\n",
       "      <td>Borderline Hypercholestrolnemia</td>\n",
       "    </tr>\n",
       "  </tbody>\n",
       "</table>\n",
       "</div>"
      ],
      "text/plain": [
       "   cholesterol               cholesterol_status\n",
       "0        233.0  Borderline Hypercholestrolnemia\n",
       "1        286.0            Hypercholesterolnemia\n",
       "2        229.0  Borderline Hypercholestrolnemia\n",
       "3        250.0            Hypercholesterolnemia\n",
       "4        204.0  Borderline Hypercholestrolnemia"
      ]
     },
     "execution_count": 25,
     "metadata": {},
     "output_type": "execute_result"
    }
   ],
   "source": [
    "heart_disease_data[['cholesterol', 'cholesterol_status']].head()"
   ]
  },
  {
   "cell_type": "markdown",
   "metadata": {
    "heading_collapsed": true,
    "hidden": true
   },
   "source": [
    "#### Limitations and Considerations when using Cholesterol"
   ]
  },
  {
   "cell_type": "markdown",
   "metadata": {
    "hidden": true
   },
   "source": [
    "It's important to note that total cholesterol does not tell the whole story. A person can have differnt types of cholesterol. There are primarily two important categories. Low-density lipoprotein (LDL) and high-density lipoprotein (HDL). LDL is referred to as 'bad cholesterol' because this is the cholesterol that can build up in arteries leading to plaques. HDL is referred to as 'good cholesterol' because this is the cholesterol that actually helps the body clear LDL cholesterol. Unfortunately, our data does not provide us the information to differentiate between the two. \n",
    "\n",
    "<img src=\"https://avitahealth.org/wp-content/uploads/2019/01/Cholesterol.jpg\" style=\"width:400px;height:267px;\">"
   ]
  },
  {
   "cell_type": "markdown",
   "metadata": {
    "heading_collapsed": true
   },
   "source": [
    "# Exploratory Data Analysis "
   ]
  },
  {
   "cell_type": "markdown",
   "metadata": {
    "hidden": true
   },
   "source": [
    "Now that we've cleaned our data we can begin exploring our data. Using this, we can see which features are good candidates for building our prediction model. Feature selection  will determine how good or how bad your model is. Bad feature selection can have a hugely negative impact on your model even if you used the most advanced techniques. Understanding the clinical nuances of your data can inform better feature selection"
   ]
  },
  {
   "cell_type": "markdown",
   "metadata": {
    "heading_collapsed": true,
    "hidden": true
   },
   "source": [
    "### Why Can't We Just Use All or Most Variables?"
   ]
  },
  {
   "cell_type": "markdown",
   "metadata": {
    "hidden": true
   },
   "source": [
    "One issue you might be wondering about is why do we even need to select variables. Why not just use all of the variables? After all, more data lead to better models right? This is a common misconception that even experienced analysts need to watch out for. Including too many features in your prediction model can lead to what is known as 'overfitting'. Overfitting is essentially where you build a model that adheres too closely to your current data set and is unable to predict observations that are not from your current data set. In other words, its where you develop a model that tuned too closely to your current data, and is not generalizable to outside data sources. \n",
    "\n",
    "<img src=\"https://3gp10c1vpy442j63me73gy3s-wpengine.netdna-ssl.com/wp-content/uploads/2018/03/Screen-Shot-2018-03-22-at-11.22.15-AM-e1527613915658.png\" align=\"center\" style=\"width: 50%; margin-bottom: 0.5em; margin-top: 0.5em;\">"
   ]
  },
  {
   "cell_type": "markdown",
   "metadata": {
    "heading_collapsed": true,
    "hidden": true
   },
   "source": [
    "### Getting A Closer Look At Our Data"
   ]
  },
  {
   "cell_type": "code",
   "execution_count": 26,
   "metadata": {
    "ExecuteTime": {
     "end_time": "2019-11-08T05:15:04.871733Z",
     "start_time": "2019-11-08T05:15:04.853754Z"
    },
    "collapsed": true,
    "hidden": true
   },
   "outputs": [
    {
     "data": {
      "text/html": [
       "<div>\n",
       "<style scoped>\n",
       "    .dataframe tbody tr th:only-of-type {\n",
       "        vertical-align: middle;\n",
       "    }\n",
       "\n",
       "    .dataframe tbody tr th {\n",
       "        vertical-align: top;\n",
       "    }\n",
       "\n",
       "    .dataframe thead th {\n",
       "        text-align: right;\n",
       "    }\n",
       "</style>\n",
       "<table border=\"1\" class=\"dataframe\">\n",
       "  <thead>\n",
       "    <tr style=\"text-align: right;\">\n",
       "      <th></th>\n",
       "      <th>age</th>\n",
       "      <th>sex</th>\n",
       "      <th>chest_pain</th>\n",
       "      <th>blood_pressure</th>\n",
       "      <th>cholesterol</th>\n",
       "      <th>blood_sugar</th>\n",
       "      <th>ecg</th>\n",
       "      <th>max_heart_rate</th>\n",
       "      <th>exercise_angina</th>\n",
       "      <th>exercise_ST_depress</th>\n",
       "      <th>slope_peak_ST</th>\n",
       "      <th>number_vessel_fluoroscopy</th>\n",
       "      <th>thal_defects</th>\n",
       "      <th>heart_disease_diagnosis</th>\n",
       "      <th>location</th>\n",
       "      <th>cholesterol_status</th>\n",
       "    </tr>\n",
       "  </thead>\n",
       "  <tbody>\n",
       "    <tr>\n",
       "      <th>0</th>\n",
       "      <td>63.0</td>\n",
       "      <td>Male</td>\n",
       "      <td>typical angina</td>\n",
       "      <td>145.0</td>\n",
       "      <td>233.0</td>\n",
       "      <td>Fasting Blood Sugar &gt; 120</td>\n",
       "      <td>Probable or definite LVH</td>\n",
       "      <td>150.0</td>\n",
       "      <td>Negative</td>\n",
       "      <td>2.3</td>\n",
       "      <td>Downsloping</td>\n",
       "      <td>0.0</td>\n",
       "      <td>Fixed defect</td>\n",
       "      <td>No heart disease</td>\n",
       "      <td>cleveland</td>\n",
       "      <td>Borderline Hypercholestrolnemia</td>\n",
       "    </tr>\n",
       "    <tr>\n",
       "      <th>1</th>\n",
       "      <td>67.0</td>\n",
       "      <td>Male</td>\n",
       "      <td>asymptomatic</td>\n",
       "      <td>160.0</td>\n",
       "      <td>286.0</td>\n",
       "      <td>Fasting Blood Sugar &lt; 120</td>\n",
       "      <td>Probable or definite LVH</td>\n",
       "      <td>108.0</td>\n",
       "      <td>Positive</td>\n",
       "      <td>1.5</td>\n",
       "      <td>Flat</td>\n",
       "      <td>3.0</td>\n",
       "      <td>Normal</td>\n",
       "      <td>Disease</td>\n",
       "      <td>cleveland</td>\n",
       "      <td>Hypercholesterolnemia</td>\n",
       "    </tr>\n",
       "    <tr>\n",
       "      <th>2</th>\n",
       "      <td>67.0</td>\n",
       "      <td>Male</td>\n",
       "      <td>asymptomatic</td>\n",
       "      <td>120.0</td>\n",
       "      <td>229.0</td>\n",
       "      <td>Fasting Blood Sugar &lt; 120</td>\n",
       "      <td>Probable or definite LVH</td>\n",
       "      <td>129.0</td>\n",
       "      <td>Positive</td>\n",
       "      <td>2.6</td>\n",
       "      <td>Flat</td>\n",
       "      <td>2.0</td>\n",
       "      <td>Reversible defect</td>\n",
       "      <td>Disease</td>\n",
       "      <td>cleveland</td>\n",
       "      <td>Borderline Hypercholestrolnemia</td>\n",
       "    </tr>\n",
       "    <tr>\n",
       "      <th>3</th>\n",
       "      <td>37.0</td>\n",
       "      <td>Male</td>\n",
       "      <td>non-anginal pain</td>\n",
       "      <td>130.0</td>\n",
       "      <td>250.0</td>\n",
       "      <td>Fasting Blood Sugar &lt; 120</td>\n",
       "      <td>normal</td>\n",
       "      <td>187.0</td>\n",
       "      <td>Negative</td>\n",
       "      <td>3.5</td>\n",
       "      <td>Downsloping</td>\n",
       "      <td>0.0</td>\n",
       "      <td>Normal</td>\n",
       "      <td>No heart disease</td>\n",
       "      <td>cleveland</td>\n",
       "      <td>Hypercholesterolnemia</td>\n",
       "    </tr>\n",
       "    <tr>\n",
       "      <th>4</th>\n",
       "      <td>41.0</td>\n",
       "      <td>Female</td>\n",
       "      <td>atypical angina</td>\n",
       "      <td>130.0</td>\n",
       "      <td>204.0</td>\n",
       "      <td>Fasting Blood Sugar &lt; 120</td>\n",
       "      <td>Probable or definite LVH</td>\n",
       "      <td>172.0</td>\n",
       "      <td>Negative</td>\n",
       "      <td>1.4</td>\n",
       "      <td>Upsloping</td>\n",
       "      <td>0.0</td>\n",
       "      <td>Normal</td>\n",
       "      <td>No heart disease</td>\n",
       "      <td>cleveland</td>\n",
       "      <td>Borderline Hypercholestrolnemia</td>\n",
       "    </tr>\n",
       "  </tbody>\n",
       "</table>\n",
       "</div>"
      ],
      "text/plain": [
       "    age     sex        chest_pain  blood_pressure  cholesterol  \\\n",
       "0  63.0    Male    typical angina           145.0        233.0   \n",
       "1  67.0    Male      asymptomatic           160.0        286.0   \n",
       "2  67.0    Male      asymptomatic           120.0        229.0   \n",
       "3  37.0    Male  non-anginal pain           130.0        250.0   \n",
       "4  41.0  Female   atypical angina           130.0        204.0   \n",
       "\n",
       "                 blood_sugar                       ecg  max_heart_rate  \\\n",
       "0  Fasting Blood Sugar > 120  Probable or definite LVH           150.0   \n",
       "1  Fasting Blood Sugar < 120  Probable or definite LVH           108.0   \n",
       "2  Fasting Blood Sugar < 120  Probable or definite LVH           129.0   \n",
       "3  Fasting Blood Sugar < 120                    normal           187.0   \n",
       "4  Fasting Blood Sugar < 120  Probable or definite LVH           172.0   \n",
       "\n",
       "  exercise_angina  exercise_ST_depress slope_peak_ST  \\\n",
       "0        Negative                  2.3   Downsloping   \n",
       "1        Positive                  1.5          Flat   \n",
       "2        Positive                  2.6          Flat   \n",
       "3        Negative                  3.5   Downsloping   \n",
       "4        Negative                  1.4     Upsloping   \n",
       "\n",
       "   number_vessel_fluoroscopy       thal_defects heart_disease_diagnosis  \\\n",
       "0                        0.0       Fixed defect        No heart disease   \n",
       "1                        3.0             Normal                 Disease   \n",
       "2                        2.0  Reversible defect                 Disease   \n",
       "3                        0.0             Normal        No heart disease   \n",
       "4                        0.0             Normal        No heart disease   \n",
       "\n",
       "    location               cholesterol_status  \n",
       "0  cleveland  Borderline Hypercholestrolnemia  \n",
       "1  cleveland            Hypercholesterolnemia  \n",
       "2  cleveland  Borderline Hypercholestrolnemia  \n",
       "3  cleveland            Hypercholesterolnemia  \n",
       "4  cleveland  Borderline Hypercholestrolnemia  "
      ]
     },
     "execution_count": 26,
     "metadata": {},
     "output_type": "execute_result"
    }
   ],
   "source": [
    "heart_disease_data.head()"
   ]
  },
  {
   "cell_type": "code",
   "execution_count": 27,
   "metadata": {
    "ExecuteTime": {
     "end_time": "2019-11-08T05:15:04.912648Z",
     "start_time": "2019-11-08T05:15:04.873161Z"
    },
    "collapsed": true,
    "hidden": true
   },
   "outputs": [
    {
     "data": {
      "text/html": [
       "<div>\n",
       "<style scoped>\n",
       "    .dataframe tbody tr th:only-of-type {\n",
       "        vertical-align: middle;\n",
       "    }\n",
       "\n",
       "    .dataframe tbody tr th {\n",
       "        vertical-align: top;\n",
       "    }\n",
       "\n",
       "    .dataframe thead th {\n",
       "        text-align: right;\n",
       "    }\n",
       "</style>\n",
       "<table border=\"1\" class=\"dataframe\">\n",
       "  <thead>\n",
       "    <tr style=\"text-align: right;\">\n",
       "      <th></th>\n",
       "      <th>age</th>\n",
       "      <th>blood_pressure</th>\n",
       "      <th>cholesterol</th>\n",
       "      <th>max_heart_rate</th>\n",
       "      <th>exercise_ST_depress</th>\n",
       "      <th>number_vessel_fluoroscopy</th>\n",
       "    </tr>\n",
       "  </thead>\n",
       "  <tbody>\n",
       "    <tr>\n",
       "      <th>count</th>\n",
       "      <td>299.000000</td>\n",
       "      <td>299.000000</td>\n",
       "      <td>299.000000</td>\n",
       "      <td>299.000000</td>\n",
       "      <td>299.000000</td>\n",
       "      <td>299.000000</td>\n",
       "    </tr>\n",
       "    <tr>\n",
       "      <th>mean</th>\n",
       "      <td>54.521739</td>\n",
       "      <td>131.715719</td>\n",
       "      <td>246.785953</td>\n",
       "      <td>149.327759</td>\n",
       "      <td>1.058528</td>\n",
       "      <td>0.672241</td>\n",
       "    </tr>\n",
       "    <tr>\n",
       "      <th>std</th>\n",
       "      <td>9.030264</td>\n",
       "      <td>17.747751</td>\n",
       "      <td>52.532582</td>\n",
       "      <td>23.121062</td>\n",
       "      <td>1.162769</td>\n",
       "      <td>0.937438</td>\n",
       "    </tr>\n",
       "    <tr>\n",
       "      <th>min</th>\n",
       "      <td>29.000000</td>\n",
       "      <td>94.000000</td>\n",
       "      <td>100.000000</td>\n",
       "      <td>71.000000</td>\n",
       "      <td>0.000000</td>\n",
       "      <td>0.000000</td>\n",
       "    </tr>\n",
       "    <tr>\n",
       "      <th>25%</th>\n",
       "      <td>48.000000</td>\n",
       "      <td>120.000000</td>\n",
       "      <td>211.000000</td>\n",
       "      <td>132.500000</td>\n",
       "      <td>0.000000</td>\n",
       "      <td>0.000000</td>\n",
       "    </tr>\n",
       "    <tr>\n",
       "      <th>50%</th>\n",
       "      <td>56.000000</td>\n",
       "      <td>130.000000</td>\n",
       "      <td>242.000000</td>\n",
       "      <td>152.000000</td>\n",
       "      <td>0.800000</td>\n",
       "      <td>0.000000</td>\n",
       "    </tr>\n",
       "    <tr>\n",
       "      <th>75%</th>\n",
       "      <td>61.000000</td>\n",
       "      <td>140.000000</td>\n",
       "      <td>275.500000</td>\n",
       "      <td>165.500000</td>\n",
       "      <td>1.600000</td>\n",
       "      <td>1.000000</td>\n",
       "    </tr>\n",
       "    <tr>\n",
       "      <th>max</th>\n",
       "      <td>77.000000</td>\n",
       "      <td>200.000000</td>\n",
       "      <td>564.000000</td>\n",
       "      <td>202.000000</td>\n",
       "      <td>6.200000</td>\n",
       "      <td>3.000000</td>\n",
       "    </tr>\n",
       "  </tbody>\n",
       "</table>\n",
       "</div>"
      ],
      "text/plain": [
       "              age  blood_pressure  cholesterol  max_heart_rate  \\\n",
       "count  299.000000      299.000000   299.000000      299.000000   \n",
       "mean    54.521739      131.715719   246.785953      149.327759   \n",
       "std      9.030264       17.747751    52.532582       23.121062   \n",
       "min     29.000000       94.000000   100.000000       71.000000   \n",
       "25%     48.000000      120.000000   211.000000      132.500000   \n",
       "50%     56.000000      130.000000   242.000000      152.000000   \n",
       "75%     61.000000      140.000000   275.500000      165.500000   \n",
       "max     77.000000      200.000000   564.000000      202.000000   \n",
       "\n",
       "       exercise_ST_depress  number_vessel_fluoroscopy  \n",
       "count           299.000000                 299.000000  \n",
       "mean              1.058528                   0.672241  \n",
       "std               1.162769                   0.937438  \n",
       "min               0.000000                   0.000000  \n",
       "25%               0.000000                   0.000000  \n",
       "50%               0.800000                   0.000000  \n",
       "75%               1.600000                   1.000000  \n",
       "max               6.200000                   3.000000  "
      ]
     },
     "execution_count": 27,
     "metadata": {},
     "output_type": "execute_result"
    }
   ],
   "source": [
    "heart_disease_data.describe()"
   ]
  },
  {
   "cell_type": "code",
   "execution_count": 28,
   "metadata": {
    "ExecuteTime": {
     "end_time": "2019-11-08T05:15:04.922619Z",
     "start_time": "2019-11-08T05:15:04.913640Z"
    },
    "collapsed": true,
    "hidden": true
   },
   "outputs": [
    {
     "name": "stdout",
     "output_type": "stream",
     "text": [
      "<class 'pandas.core.frame.DataFrame'>\n",
      "Int64Index: 299 entries, 0 to 28\n",
      "Data columns (total 16 columns):\n",
      "age                          299 non-null float64\n",
      "sex                          299 non-null object\n",
      "chest_pain                   299 non-null object\n",
      "blood_pressure               299 non-null float64\n",
      "cholesterol                  299 non-null float64\n",
      "blood_sugar                  299 non-null object\n",
      "ecg                          299 non-null object\n",
      "max_heart_rate               299 non-null float64\n",
      "exercise_angina              299 non-null object\n",
      "exercise_ST_depress          299 non-null float64\n",
      "slope_peak_ST                299 non-null object\n",
      "number_vessel_fluoroscopy    299 non-null float64\n",
      "thal_defects                 299 non-null object\n",
      "heart_disease_diagnosis      299 non-null object\n",
      "location                     299 non-null object\n",
      "cholesterol_status           299 non-null object\n",
      "dtypes: float64(6), object(10)\n",
      "memory usage: 39.7+ KB\n"
     ]
    }
   ],
   "source": [
    "heart_disease_data.info()"
   ]
  },
  {
   "cell_type": "markdown",
   "metadata": {
    "hidden": true
   },
   "source": [
    "This hand summary page presents us with quite a bit of data. The first thing to realize is that the output will differ based on whether the variable is numeric or categorical. Numeric outputs will include summary statistics while categorical variables will include frequency counts of each category. \n",
    "\n",
    "These summaries will be a useful reference throughout our exploratory data analysis. "
   ]
  },
  {
   "cell_type": "markdown",
   "metadata": {
    "heading_collapsed": true,
    "hidden": true
   },
   "source": [
    "## Assess Numeric Variables"
   ]
  },
  {
   "cell_type": "markdown",
   "metadata": {
    "hidden": true,
    "solution2": "hidden"
   },
   "source": [
    "A chi-square test is a statistical test that tells you whether groups of observations are different. For instance, say you're researching two companies and you divide them either as male or female. The number of males compared to females in the two companies differ but how can you tell that this is not random chance? A chi-squared test can be used to differentiate whether the **observed** number of males and females in your study differs from the **expected** number of males and females. \n",
    "\n",
    "> Note: Chi-square tests can only be used for categorical variables. There are seperate tests to determine whether numerical numbers differ form one another. These additional tests are beyond the scope of the case. "
   ]
  },
  {
   "cell_type": "markdown",
   "metadata": {
    "hidden": true
   },
   "source": [
    "Lets take a look at our other variables"
   ]
  },
  {
   "cell_type": "code",
   "execution_count": 29,
   "metadata": {
    "ExecuteTime": {
     "end_time": "2019-11-08T05:15:05.269548Z",
     "start_time": "2019-11-08T05:15:05.251709Z"
    },
    "collapsed": true,
    "hidden": true
   },
   "outputs": [
    {
     "data": {
      "text/html": [
       "<div>\n",
       "<style scoped>\n",
       "    .dataframe tbody tr th:only-of-type {\n",
       "        vertical-align: middle;\n",
       "    }\n",
       "\n",
       "    .dataframe tbody tr th {\n",
       "        vertical-align: top;\n",
       "    }\n",
       "\n",
       "    .dataframe thead th {\n",
       "        text-align: right;\n",
       "    }\n",
       "</style>\n",
       "<table border=\"1\" class=\"dataframe\">\n",
       "  <thead>\n",
       "    <tr style=\"text-align: right;\">\n",
       "      <th></th>\n",
       "      <th>age</th>\n",
       "      <th>sex</th>\n",
       "      <th>chest_pain</th>\n",
       "      <th>blood_pressure</th>\n",
       "      <th>cholesterol</th>\n",
       "      <th>blood_sugar</th>\n",
       "      <th>ecg</th>\n",
       "      <th>max_heart_rate</th>\n",
       "      <th>exercise_angina</th>\n",
       "      <th>exercise_ST_depress</th>\n",
       "      <th>slope_peak_ST</th>\n",
       "      <th>number_vessel_fluoroscopy</th>\n",
       "      <th>thal_defects</th>\n",
       "      <th>heart_disease_diagnosis</th>\n",
       "      <th>location</th>\n",
       "      <th>cholesterol_status</th>\n",
       "    </tr>\n",
       "  </thead>\n",
       "  <tbody>\n",
       "    <tr>\n",
       "      <th>0</th>\n",
       "      <td>63.0</td>\n",
       "      <td>Male</td>\n",
       "      <td>typical angina</td>\n",
       "      <td>145.0</td>\n",
       "      <td>233.0</td>\n",
       "      <td>Fasting Blood Sugar &gt; 120</td>\n",
       "      <td>Probable or definite LVH</td>\n",
       "      <td>150.0</td>\n",
       "      <td>Negative</td>\n",
       "      <td>2.3</td>\n",
       "      <td>Downsloping</td>\n",
       "      <td>0.0</td>\n",
       "      <td>Fixed defect</td>\n",
       "      <td>No heart disease</td>\n",
       "      <td>cleveland</td>\n",
       "      <td>Borderline Hypercholestrolnemia</td>\n",
       "    </tr>\n",
       "    <tr>\n",
       "      <th>1</th>\n",
       "      <td>67.0</td>\n",
       "      <td>Male</td>\n",
       "      <td>asymptomatic</td>\n",
       "      <td>160.0</td>\n",
       "      <td>286.0</td>\n",
       "      <td>Fasting Blood Sugar &lt; 120</td>\n",
       "      <td>Probable or definite LVH</td>\n",
       "      <td>108.0</td>\n",
       "      <td>Positive</td>\n",
       "      <td>1.5</td>\n",
       "      <td>Flat</td>\n",
       "      <td>3.0</td>\n",
       "      <td>Normal</td>\n",
       "      <td>Disease</td>\n",
       "      <td>cleveland</td>\n",
       "      <td>Hypercholesterolnemia</td>\n",
       "    </tr>\n",
       "    <tr>\n",
       "      <th>2</th>\n",
       "      <td>67.0</td>\n",
       "      <td>Male</td>\n",
       "      <td>asymptomatic</td>\n",
       "      <td>120.0</td>\n",
       "      <td>229.0</td>\n",
       "      <td>Fasting Blood Sugar &lt; 120</td>\n",
       "      <td>Probable or definite LVH</td>\n",
       "      <td>129.0</td>\n",
       "      <td>Positive</td>\n",
       "      <td>2.6</td>\n",
       "      <td>Flat</td>\n",
       "      <td>2.0</td>\n",
       "      <td>Reversible defect</td>\n",
       "      <td>Disease</td>\n",
       "      <td>cleveland</td>\n",
       "      <td>Borderline Hypercholestrolnemia</td>\n",
       "    </tr>\n",
       "    <tr>\n",
       "      <th>3</th>\n",
       "      <td>37.0</td>\n",
       "      <td>Male</td>\n",
       "      <td>non-anginal pain</td>\n",
       "      <td>130.0</td>\n",
       "      <td>250.0</td>\n",
       "      <td>Fasting Blood Sugar &lt; 120</td>\n",
       "      <td>normal</td>\n",
       "      <td>187.0</td>\n",
       "      <td>Negative</td>\n",
       "      <td>3.5</td>\n",
       "      <td>Downsloping</td>\n",
       "      <td>0.0</td>\n",
       "      <td>Normal</td>\n",
       "      <td>No heart disease</td>\n",
       "      <td>cleveland</td>\n",
       "      <td>Hypercholesterolnemia</td>\n",
       "    </tr>\n",
       "    <tr>\n",
       "      <th>4</th>\n",
       "      <td>41.0</td>\n",
       "      <td>Female</td>\n",
       "      <td>atypical angina</td>\n",
       "      <td>130.0</td>\n",
       "      <td>204.0</td>\n",
       "      <td>Fasting Blood Sugar &lt; 120</td>\n",
       "      <td>Probable or definite LVH</td>\n",
       "      <td>172.0</td>\n",
       "      <td>Negative</td>\n",
       "      <td>1.4</td>\n",
       "      <td>Upsloping</td>\n",
       "      <td>0.0</td>\n",
       "      <td>Normal</td>\n",
       "      <td>No heart disease</td>\n",
       "      <td>cleveland</td>\n",
       "      <td>Borderline Hypercholestrolnemia</td>\n",
       "    </tr>\n",
       "  </tbody>\n",
       "</table>\n",
       "</div>"
      ],
      "text/plain": [
       "    age     sex        chest_pain  blood_pressure  cholesterol  \\\n",
       "0  63.0    Male    typical angina           145.0        233.0   \n",
       "1  67.0    Male      asymptomatic           160.0        286.0   \n",
       "2  67.0    Male      asymptomatic           120.0        229.0   \n",
       "3  37.0    Male  non-anginal pain           130.0        250.0   \n",
       "4  41.0  Female   atypical angina           130.0        204.0   \n",
       "\n",
       "                 blood_sugar                       ecg  max_heart_rate  \\\n",
       "0  Fasting Blood Sugar > 120  Probable or definite LVH           150.0   \n",
       "1  Fasting Blood Sugar < 120  Probable or definite LVH           108.0   \n",
       "2  Fasting Blood Sugar < 120  Probable or definite LVH           129.0   \n",
       "3  Fasting Blood Sugar < 120                    normal           187.0   \n",
       "4  Fasting Blood Sugar < 120  Probable or definite LVH           172.0   \n",
       "\n",
       "  exercise_angina  exercise_ST_depress slope_peak_ST  \\\n",
       "0        Negative                  2.3   Downsloping   \n",
       "1        Positive                  1.5          Flat   \n",
       "2        Positive                  2.6          Flat   \n",
       "3        Negative                  3.5   Downsloping   \n",
       "4        Negative                  1.4     Upsloping   \n",
       "\n",
       "   number_vessel_fluoroscopy       thal_defects heart_disease_diagnosis  \\\n",
       "0                        0.0       Fixed defect        No heart disease   \n",
       "1                        3.0             Normal                 Disease   \n",
       "2                        2.0  Reversible defect                 Disease   \n",
       "3                        0.0             Normal        No heart disease   \n",
       "4                        0.0             Normal        No heart disease   \n",
       "\n",
       "    location               cholesterol_status  \n",
       "0  cleveland  Borderline Hypercholestrolnemia  \n",
       "1  cleveland            Hypercholesterolnemia  \n",
       "2  cleveland  Borderline Hypercholestrolnemia  \n",
       "3  cleveland            Hypercholesterolnemia  \n",
       "4  cleveland  Borderline Hypercholestrolnemia  "
      ]
     },
     "execution_count": 29,
     "metadata": {},
     "output_type": "execute_result"
    }
   ],
   "source": [
    "heart_disease_data.head()"
   ]
  },
  {
   "cell_type": "markdown",
   "metadata": {
    "hidden": true
   },
   "source": [
    "We can see that there are a couple numeric variables. However, the only ones we would consider are `blood_pressure`, `max_heart_rate`, and `exercise_ST_depress` measurements since the `cholesterol` has a newer and more clinically relevant variable available. \n",
    "\n",
    "Lets take a look at the distributions of these variables. "
   ]
  },
  {
   "cell_type": "code",
   "execution_count": 30,
   "metadata": {
    "ExecuteTime": {
     "end_time": "2019-11-08T05:15:06.259049Z",
     "start_time": "2019-11-08T05:15:05.339224Z"
    },
    "collapsed": true,
    "hidden": true
   },
   "outputs": [
    {
     "data": {
      "image/png": "[encoded data removed]",
      "text/plain": [
       "<Figure size 1440x1296 with 4 Axes>"
      ]
     },
     "metadata": {
      "needs_background": "light"
     },
     "output_type": "display_data"
    }
   ],
   "source": [
    "# Create Plot\n",
    "plt.figure(figsize=(20,18))\n",
    "\n",
    "plt.subplot(2,2,1)\n",
    "n, bins, patches=plt.hist(heart_disease_data.age,bins='auto', alpha=0.7, rwidth=0.85)\n",
    "xlabel=plt.xlabel('Age (years)')\n",
    "ylabel=plt.ylabel('Frequency Count')\n",
    "plt.axvline(heart_disease_data.age.median(), color='r',linestyle='dashed')\n",
    "plt.text(60,50,'Dashed Line Represents Median Age')\n",
    "\n",
    "plt.subplot(2,2,2)\n",
    "n, bins, patches=plt.hist(heart_disease_data.blood_pressure,bins='auto', alpha=0.7, rwidth=0.85)\n",
    "xlabel=plt.xlabel('Blood Pressure (mmHg)')\n",
    "ylabel=plt.ylabel('Frequency Count')\n",
    "plt.axvline(heart_disease_data.blood_pressure.median(), color='r',linestyle='dashed')\n",
    "plt.text(135,50,'Dashed Line Represents Median Blood Pressure')\n",
    "\n",
    "plt.subplot(2,2,3)\n",
    "n, bins, patches=plt.hist(heart_disease_data.max_heart_rate,bins='auto', alpha=0.7, rwidth=0.85)\n",
    "xlabel=plt.xlabel('Max Heart Rate (bpm)')\n",
    "ylabel=plt.ylabel('Frequency Count')\n",
    "plt.axvline(heart_disease_data.max_heart_rate.median(), color='r',linestyle='dashed')\n",
    "plt.text(65,50,'Dashed Line Represents Median Max Heart Rate')\n",
    "\n",
    "plt.subplot(2,2,4)\n",
    "n, bins, patches=plt.hist(heart_disease_data.exercise_ST_depress,bins='auto', alpha=0.7, rwidth=0.85)\n",
    "xlabel=plt.xlabel('ST Depression (mm)')\n",
    "ylabel=plt.ylabel('Frequency Count')\n",
    "plt.axvline(heart_disease_data.exercise_ST_depress.median(), color='r',linestyle='dashed')\n",
    "plt.text(1,50,'Dashed Line Represents Median ST Depression')\n",
    "plt.show()"
   ]
  },
  {
   "cell_type": "markdown",
   "metadata": {
    "hidden": true
   },
   "source": [
    "There does not appear to be any extreme values or prominent clusters. Now lets see if theres a relationship between these variables and heart disease diagnosis. "
   ]
  },
  {
   "cell_type": "code",
   "execution_count": 31,
   "metadata": {
    "ExecuteTime": {
     "end_time": "2019-11-08T05:15:07.239255Z",
     "start_time": "2019-11-08T05:15:06.262041Z"
    },
    "collapsed": true,
    "hidden": true
   },
   "outputs": [
    {
     "data": {
      "image/png": "[encoded data removed]",
      "text/plain": [
       "<Figure size 1800x1296 with 4 Axes>"
      ]
     },
     "metadata": {
      "needs_background": "light"
     },
     "output_type": "display_data"
    }
   ],
   "source": [
    "plt.figure(figsize=(25,18))\n",
    "plt.subplot(2,2,1)\n",
    "sns.violinplot(y=heart_disease_data.heart_disease_diagnosis,x=heart_disease_data.age)\n",
    "plt.title('The dots in the center of each violin plot \\n represent median age of each group')\n",
    "plt.xlabel('Age (years)')\n",
    "plt.ylabel('Heart Diseas Diagnosis')\n",
    "\n",
    "plt.subplot(2,2,2)\n",
    "sns.violinplot(y=heart_disease_data.heart_disease_diagnosis,x=heart_disease_data.blood_pressure)\n",
    "plt.title('The dots in the center of each violin plot \\n represent median blood pressure of each group')\n",
    "plt.xlabel('Blood Pressure (mmHg)')\n",
    "plt.ylabel('Heart Diseas Diagnosis')\n",
    "\n",
    "plt.subplot(2,2,3)\n",
    "sns.violinplot(y=heart_disease_data.heart_disease_diagnosis,x=heart_disease_data.max_heart_rate)\n",
    "plt.title('The dots in the center of each violin plot \\n represent median max heart rate of each group')\n",
    "plt.xlabel('Max Heart Rate (bpm)')\n",
    "plt.ylabel('Heart Diseas Diagnosis')\n",
    "\n",
    "plt.subplot(2,2,4)\n",
    "sns.violinplot(y=heart_disease_data.heart_disease_diagnosis,x=heart_disease_data.exercise_ST_depress)\n",
    "plt.title('The dots in the center of each violin plot \\n represent median ST Depression of each group')\n",
    "plt.xlabel('ST Depression (mm)')\n",
    "plt.ylabel('Heart Diseas Diagnosis')\n",
    "plt.show()\n"
   ]
  },
  {
   "cell_type": "markdown",
   "metadata": {
    "hidden": true
   },
   "source": [
    "The results indicate all three variables have different distribution (to varying degrees) depending on whether the patient has a heart disease diagnosis or not. This indicates that these variables have an effect on whether a patient has heart disease and are good candidate features (variables) for our model. "
   ]
  },
  {
   "cell_type": "markdown",
   "metadata": {
    "heading_collapsed": true,
    "hidden": true
   },
   "source": [
    "### Assessing Categorical Variables "
   ]
  },
  {
   "cell_type": "markdown",
   "metadata": {
    "hidden": true
   },
   "source": [
    "Finally lets look at our remaining variables. "
   ]
  },
  {
   "cell_type": "code",
   "execution_count": 32,
   "metadata": {
    "ExecuteTime": {
     "end_time": "2019-11-08T05:15:07.261149Z",
     "start_time": "2019-11-08T05:15:07.241249Z"
    },
    "collapsed": true,
    "hidden": true
   },
   "outputs": [
    {
     "data": {
      "text/html": [
       "<div>\n",
       "<style scoped>\n",
       "    .dataframe tbody tr th:only-of-type {\n",
       "        vertical-align: middle;\n",
       "    }\n",
       "\n",
       "    .dataframe tbody tr th {\n",
       "        vertical-align: top;\n",
       "    }\n",
       "\n",
       "    .dataframe thead th {\n",
       "        text-align: right;\n",
       "    }\n",
       "</style>\n",
       "<table border=\"1\" class=\"dataframe\">\n",
       "  <thead>\n",
       "    <tr style=\"text-align: right;\">\n",
       "      <th></th>\n",
       "      <th>age</th>\n",
       "      <th>sex</th>\n",
       "      <th>chest_pain</th>\n",
       "      <th>blood_pressure</th>\n",
       "      <th>cholesterol</th>\n",
       "      <th>blood_sugar</th>\n",
       "      <th>ecg</th>\n",
       "      <th>max_heart_rate</th>\n",
       "      <th>exercise_angina</th>\n",
       "      <th>exercise_ST_depress</th>\n",
       "      <th>slope_peak_ST</th>\n",
       "      <th>number_vessel_fluoroscopy</th>\n",
       "      <th>thal_defects</th>\n",
       "      <th>heart_disease_diagnosis</th>\n",
       "      <th>location</th>\n",
       "      <th>cholesterol_status</th>\n",
       "    </tr>\n",
       "  </thead>\n",
       "  <tbody>\n",
       "    <tr>\n",
       "      <th>0</th>\n",
       "      <td>63.0</td>\n",
       "      <td>Male</td>\n",
       "      <td>typical angina</td>\n",
       "      <td>145.0</td>\n",
       "      <td>233.0</td>\n",
       "      <td>Fasting Blood Sugar &gt; 120</td>\n",
       "      <td>Probable or definite LVH</td>\n",
       "      <td>150.0</td>\n",
       "      <td>Negative</td>\n",
       "      <td>2.3</td>\n",
       "      <td>Downsloping</td>\n",
       "      <td>0.0</td>\n",
       "      <td>Fixed defect</td>\n",
       "      <td>No heart disease</td>\n",
       "      <td>cleveland</td>\n",
       "      <td>Borderline Hypercholestrolnemia</td>\n",
       "    </tr>\n",
       "    <tr>\n",
       "      <th>1</th>\n",
       "      <td>67.0</td>\n",
       "      <td>Male</td>\n",
       "      <td>asymptomatic</td>\n",
       "      <td>160.0</td>\n",
       "      <td>286.0</td>\n",
       "      <td>Fasting Blood Sugar &lt; 120</td>\n",
       "      <td>Probable or definite LVH</td>\n",
       "      <td>108.0</td>\n",
       "      <td>Positive</td>\n",
       "      <td>1.5</td>\n",
       "      <td>Flat</td>\n",
       "      <td>3.0</td>\n",
       "      <td>Normal</td>\n",
       "      <td>Disease</td>\n",
       "      <td>cleveland</td>\n",
       "      <td>Hypercholesterolnemia</td>\n",
       "    </tr>\n",
       "    <tr>\n",
       "      <th>2</th>\n",
       "      <td>67.0</td>\n",
       "      <td>Male</td>\n",
       "      <td>asymptomatic</td>\n",
       "      <td>120.0</td>\n",
       "      <td>229.0</td>\n",
       "      <td>Fasting Blood Sugar &lt; 120</td>\n",
       "      <td>Probable or definite LVH</td>\n",
       "      <td>129.0</td>\n",
       "      <td>Positive</td>\n",
       "      <td>2.6</td>\n",
       "      <td>Flat</td>\n",
       "      <td>2.0</td>\n",
       "      <td>Reversible defect</td>\n",
       "      <td>Disease</td>\n",
       "      <td>cleveland</td>\n",
       "      <td>Borderline Hypercholestrolnemia</td>\n",
       "    </tr>\n",
       "    <tr>\n",
       "      <th>3</th>\n",
       "      <td>37.0</td>\n",
       "      <td>Male</td>\n",
       "      <td>non-anginal pain</td>\n",
       "      <td>130.0</td>\n",
       "      <td>250.0</td>\n",
       "      <td>Fasting Blood Sugar &lt; 120</td>\n",
       "      <td>normal</td>\n",
       "      <td>187.0</td>\n",
       "      <td>Negative</td>\n",
       "      <td>3.5</td>\n",
       "      <td>Downsloping</td>\n",
       "      <td>0.0</td>\n",
       "      <td>Normal</td>\n",
       "      <td>No heart disease</td>\n",
       "      <td>cleveland</td>\n",
       "      <td>Hypercholesterolnemia</td>\n",
       "    </tr>\n",
       "    <tr>\n",
       "      <th>4</th>\n",
       "      <td>41.0</td>\n",
       "      <td>Female</td>\n",
       "      <td>atypical angina</td>\n",
       "      <td>130.0</td>\n",
       "      <td>204.0</td>\n",
       "      <td>Fasting Blood Sugar &lt; 120</td>\n",
       "      <td>Probable or definite LVH</td>\n",
       "      <td>172.0</td>\n",
       "      <td>Negative</td>\n",
       "      <td>1.4</td>\n",
       "      <td>Upsloping</td>\n",
       "      <td>0.0</td>\n",
       "      <td>Normal</td>\n",
       "      <td>No heart disease</td>\n",
       "      <td>cleveland</td>\n",
       "      <td>Borderline Hypercholestrolnemia</td>\n",
       "    </tr>\n",
       "  </tbody>\n",
       "</table>\n",
       "</div>"
      ],
      "text/plain": [
       "    age     sex        chest_pain  blood_pressure  cholesterol  \\\n",
       "0  63.0    Male    typical angina           145.0        233.0   \n",
       "1  67.0    Male      asymptomatic           160.0        286.0   \n",
       "2  67.0    Male      asymptomatic           120.0        229.0   \n",
       "3  37.0    Male  non-anginal pain           130.0        250.0   \n",
       "4  41.0  Female   atypical angina           130.0        204.0   \n",
       "\n",
       "                 blood_sugar                       ecg  max_heart_rate  \\\n",
       "0  Fasting Blood Sugar > 120  Probable or definite LVH           150.0   \n",
       "1  Fasting Blood Sugar < 120  Probable or definite LVH           108.0   \n",
       "2  Fasting Blood Sugar < 120  Probable or definite LVH           129.0   \n",
       "3  Fasting Blood Sugar < 120                    normal           187.0   \n",
       "4  Fasting Blood Sugar < 120  Probable or definite LVH           172.0   \n",
       "\n",
       "  exercise_angina  exercise_ST_depress slope_peak_ST  \\\n",
       "0        Negative                  2.3   Downsloping   \n",
       "1        Positive                  1.5          Flat   \n",
       "2        Positive                  2.6          Flat   \n",
       "3        Negative                  3.5   Downsloping   \n",
       "4        Negative                  1.4     Upsloping   \n",
       "\n",
       "   number_vessel_fluoroscopy       thal_defects heart_disease_diagnosis  \\\n",
       "0                        0.0       Fixed defect        No heart disease   \n",
       "1                        3.0             Normal                 Disease   \n",
       "2                        2.0  Reversible defect                 Disease   \n",
       "3                        0.0             Normal        No heart disease   \n",
       "4                        0.0             Normal        No heart disease   \n",
       "\n",
       "    location               cholesterol_status  \n",
       "0  cleveland  Borderline Hypercholestrolnemia  \n",
       "1  cleveland            Hypercholesterolnemia  \n",
       "2  cleveland  Borderline Hypercholestrolnemia  \n",
       "3  cleveland            Hypercholesterolnemia  \n",
       "4  cleveland  Borderline Hypercholestrolnemia  "
      ]
     },
     "execution_count": 32,
     "metadata": {},
     "output_type": "execute_result"
    }
   ],
   "source": [
    "heart_disease_data.head()"
   ]
  },
  {
   "cell_type": "markdown",
   "metadata": {
    "hidden": true
   },
   "source": [
    "We're interest in categorical variables now. We should be able to observe their effect on heart disease using stacked bar plots. "
   ]
  },
  {
   "cell_type": "code",
   "execution_count": 33,
   "metadata": {
    "ExecuteTime": {
     "end_time": "2019-11-08T05:15:07.279509Z",
     "start_time": "2019-11-08T05:15:07.263652Z"
    },
    "collapsed": true,
    "hidden": true
   },
   "outputs": [],
   "source": [
    "def stacked_plot(feature):\n",
    "    binary=heart_disease_data.groupby('heart_disease_diagnosis')\n",
    "    length=len(heart_disease_data[feature].unique())\n",
    "    layers=[]\n",
    "    for symbol, group in binary:\n",
    "        sequence=group[feature].value_counts().index\n",
    "        temp=[]\n",
    "        try:\n",
    "            for i in range(length):\n",
    "                number=group[feature].value_counts()[i]\n",
    "                temp.append(number)\n",
    "        except:\n",
    "            print('there\\'s no case for at least one category ')\n",
    "        temp=dict(zip(sequence,temp))\n",
    "        layers.append(temp)\n",
    "    names=heart_disease_data[feature].unique()\n",
    "    no_disease_layer=[0]*len(names)\n",
    "    disease_layer=[0]*len(names)\n",
    "    position=np.arange(len(names))+1\n",
    "    for i in range(len(names)):\n",
    "        try:\n",
    "            no_disease_layer[i]=layers[0][names[i]]\n",
    "        except:\n",
    "            no_disease_layer[i]=0\n",
    "        try:\n",
    "            disease_layer[i]=layers[1][names[i]]\n",
    "        except:\n",
    "            disease_layer[i]=0\n",
    "        total=no_disease_layer[i]+disease_layer[i]\n",
    "        no_disease_layer[i]=no_disease_layer[i]/total\n",
    "        disease_layer[i]=disease_layer[i]/total\n",
    "    plt.bar(position,no_disease_layer, color='blue', edgecolor='white')\n",
    "    plt.bar(position, disease_layer, bottom=no_disease_layer, color='red', edgecolor='white')\n",
    "    plt.title(feature)\n",
    "    plt.xticks(position, names, fontweight='bold')"
   ]
  },
  {
   "cell_type": "code",
   "execution_count": 34,
   "metadata": {
    "ExecuteTime": {
     "end_time": "2019-11-08T05:15:08.320299Z",
     "start_time": "2019-11-08T05:15:07.281468Z"
    },
    "collapsed": true,
    "hidden": true
   },
   "outputs": [
    {
     "name": "stdout",
     "output_type": "stream",
     "text": [
      "there's no case for at least one category \n"
     ]
    },
    {
     "data": {
      "image/png": "[encoded data removed]",
      "text/plain": [
       "<Figure size 1440x1440 with 6 Axes>"
      ]
     },
     "metadata": {
      "needs_background": "light"
     },
     "output_type": "display_data"
    }
   ],
   "source": [
    "plt.figure(figsize=(20,20))\n",
    "plt.subplot(3,2,1)\n",
    "stacked_plot('sex')\n",
    "plt.subplot(3,2,2)\n",
    "stacked_plot('chest_pain')\n",
    "plt.subplot(3,2,3)\n",
    "stacked_plot('blood_sugar')\n",
    "plt.subplot(3,2,4)\n",
    "stacked_plot('ecg')\n",
    "plt.subplot(3,2,5)\n",
    "stacked_plot('exercise_angina')\n",
    "plt.subplot(3,2,6)\n",
    "stacked_plot('location')\n",
    "plt.show()"
   ]
  },
  {
   "cell_type": "markdown",
   "metadata": {
    "hidden": true
   },
   "source": [
    "This plot grid allows us to quickly see how stroke rates differ depending on variable. Based on observation it appears `sex`, `chest_pain`, `blood_sugar`, `ecg`, `exercise_angina`, and `location` all seem to have an effect on heart disease diagnosis and seem to be promising candidate variables. "
   ]
  },
  {
   "cell_type": "markdown",
   "metadata": {
    "heading_collapsed": true,
    "hidden": true
   },
   "source": [
    "## Logistic Regression"
   ]
  },
  {
   "cell_type": "markdown",
   "metadata": {
    "hidden": true
   },
   "source": [
    "Now that our variables have been successfully converted and our outcome has been defined, we can analyze our data. Logistic regression is a mathematical model that estimates the probability of a binary outcomes (such as our risk label). It is named after the logistic curve which takes the S-shape depicted below.\n",
    "<img src=\"https://upload.wikimedia.org/wikipedia/commons/thumb/8/88/Logistic-curve.svg/640px-Logistic-curve.svg.png?1566122052688\" alt=\"Logistic Curve\" title=\"Logistic Curve\" />"
   ]
  },
  {
   "cell_type": "markdown",
   "metadata": {
    "hidden": true,
    "solution2": "hidden",
    "solution2_first": true
   },
   "source": [
    "**Pre-Check:** What is our primary outcome? What information will a logistic regression model tell use about our outcome?"
   ]
  },
  {
   "cell_type": "markdown",
   "metadata": {
    "hidden": true,
    "solution2": "hidden"
   },
   "source": [
    "Our primary outcome is whether the individual has heart disease. The logistic regression model will allow us to see how individuals variables affect whether an individual has heart disease **while controlling for other variables in the model**. For instance, we can see whether being older affects having heart disease while controlling for abnormal ecg, blood sugar, etc...\n",
    "\n",
    "Very useful indeed!"
   ]
  },
  {
   "cell_type": "markdown",
   "metadata": {
    "hidden": true,
    "solution2": "hidden",
    "solution2_first": true
   },
   "source": [
    "**Follow-Up:** What is statistical significance? What is a generally accepted level of statistical significance in healthcare research?"
   ]
  },
  {
   "cell_type": "markdown",
   "metadata": {
    "hidden": true,
    "solution2": "hidden"
   },
   "source": [
    "Statistical Significance can be defined as the chance that the relationship you observed in your data occurred by chance. What does this mean? Lets say our logistic regression model finds that gender has a statistically significant effect on having a stroke. This means that it is more likely that there is indeed a relationship between gender and stroke than chance would suggest. \n",
    "\n",
    "The conventional level of significance that is accepted is < 0.05 (this number is referred to as a p-value). This means that there is less than 5% chance that the observed relationship in the data was due to chance alone. The image below display a sample R output.\n",
    "\n",
    "<img src=\"https://drchrispook.files.wordpress.com/2017/02/anova-output-from-r1.jpg\" align=\"center\" style=\"margin-bottom: 0.5em; margin-top: 0.5em;\">"
   ]
  },
  {
   "cell_type": "markdown",
   "metadata": {
    "hidden": true
   },
   "source": [
    "Lets create out logistic model"
   ]
  },
  {
   "cell_type": "code",
   "execution_count": 35,
   "metadata": {
    "ExecuteTime": {
     "end_time": "2019-11-08T05:15:08.340612Z",
     "start_time": "2019-11-08T05:15:08.322033Z"
    },
    "collapsed": true,
    "hidden": true
   },
   "outputs": [
    {
     "data": {
      "text/html": [
       "<div>\n",
       "<style scoped>\n",
       "    .dataframe tbody tr th:only-of-type {\n",
       "        vertical-align: middle;\n",
       "    }\n",
       "\n",
       "    .dataframe tbody tr th {\n",
       "        vertical-align: top;\n",
       "    }\n",
       "\n",
       "    .dataframe thead th {\n",
       "        text-align: right;\n",
       "    }\n",
       "</style>\n",
       "<table border=\"1\" class=\"dataframe\">\n",
       "  <thead>\n",
       "    <tr style=\"text-align: right;\">\n",
       "      <th></th>\n",
       "      <th>age</th>\n",
       "      <th>sex</th>\n",
       "      <th>chest_pain</th>\n",
       "      <th>blood_pressure</th>\n",
       "      <th>cholesterol</th>\n",
       "      <th>blood_sugar</th>\n",
       "      <th>ecg</th>\n",
       "      <th>max_heart_rate</th>\n",
       "      <th>exercise_angina</th>\n",
       "      <th>exercise_ST_depress</th>\n",
       "      <th>slope_peak_ST</th>\n",
       "      <th>number_vessel_fluoroscopy</th>\n",
       "      <th>thal_defects</th>\n",
       "      <th>heart_disease_diagnosis</th>\n",
       "      <th>location</th>\n",
       "      <th>cholesterol_status</th>\n",
       "    </tr>\n",
       "  </thead>\n",
       "  <tbody>\n",
       "    <tr>\n",
       "      <th>0</th>\n",
       "      <td>63.0</td>\n",
       "      <td>Male</td>\n",
       "      <td>typical angina</td>\n",
       "      <td>145.0</td>\n",
       "      <td>233.0</td>\n",
       "      <td>Fasting Blood Sugar &gt; 120</td>\n",
       "      <td>Probable or definite LVH</td>\n",
       "      <td>150.0</td>\n",
       "      <td>Negative</td>\n",
       "      <td>2.3</td>\n",
       "      <td>Downsloping</td>\n",
       "      <td>0.0</td>\n",
       "      <td>Fixed defect</td>\n",
       "      <td>No heart disease</td>\n",
       "      <td>cleveland</td>\n",
       "      <td>Borderline Hypercholestrolnemia</td>\n",
       "    </tr>\n",
       "    <tr>\n",
       "      <th>1</th>\n",
       "      <td>67.0</td>\n",
       "      <td>Male</td>\n",
       "      <td>asymptomatic</td>\n",
       "      <td>160.0</td>\n",
       "      <td>286.0</td>\n",
       "      <td>Fasting Blood Sugar &lt; 120</td>\n",
       "      <td>Probable or definite LVH</td>\n",
       "      <td>108.0</td>\n",
       "      <td>Positive</td>\n",
       "      <td>1.5</td>\n",
       "      <td>Flat</td>\n",
       "      <td>3.0</td>\n",
       "      <td>Normal</td>\n",
       "      <td>Disease</td>\n",
       "      <td>cleveland</td>\n",
       "      <td>Hypercholesterolnemia</td>\n",
       "    </tr>\n",
       "    <tr>\n",
       "      <th>2</th>\n",
       "      <td>67.0</td>\n",
       "      <td>Male</td>\n",
       "      <td>asymptomatic</td>\n",
       "      <td>120.0</td>\n",
       "      <td>229.0</td>\n",
       "      <td>Fasting Blood Sugar &lt; 120</td>\n",
       "      <td>Probable or definite LVH</td>\n",
       "      <td>129.0</td>\n",
       "      <td>Positive</td>\n",
       "      <td>2.6</td>\n",
       "      <td>Flat</td>\n",
       "      <td>2.0</td>\n",
       "      <td>Reversible defect</td>\n",
       "      <td>Disease</td>\n",
       "      <td>cleveland</td>\n",
       "      <td>Borderline Hypercholestrolnemia</td>\n",
       "    </tr>\n",
       "    <tr>\n",
       "      <th>3</th>\n",
       "      <td>37.0</td>\n",
       "      <td>Male</td>\n",
       "      <td>non-anginal pain</td>\n",
       "      <td>130.0</td>\n",
       "      <td>250.0</td>\n",
       "      <td>Fasting Blood Sugar &lt; 120</td>\n",
       "      <td>normal</td>\n",
       "      <td>187.0</td>\n",
       "      <td>Negative</td>\n",
       "      <td>3.5</td>\n",
       "      <td>Downsloping</td>\n",
       "      <td>0.0</td>\n",
       "      <td>Normal</td>\n",
       "      <td>No heart disease</td>\n",
       "      <td>cleveland</td>\n",
       "      <td>Hypercholesterolnemia</td>\n",
       "    </tr>\n",
       "    <tr>\n",
       "      <th>4</th>\n",
       "      <td>41.0</td>\n",
       "      <td>Female</td>\n",
       "      <td>atypical angina</td>\n",
       "      <td>130.0</td>\n",
       "      <td>204.0</td>\n",
       "      <td>Fasting Blood Sugar &lt; 120</td>\n",
       "      <td>Probable or definite LVH</td>\n",
       "      <td>172.0</td>\n",
       "      <td>Negative</td>\n",
       "      <td>1.4</td>\n",
       "      <td>Upsloping</td>\n",
       "      <td>0.0</td>\n",
       "      <td>Normal</td>\n",
       "      <td>No heart disease</td>\n",
       "      <td>cleveland</td>\n",
       "      <td>Borderline Hypercholestrolnemia</td>\n",
       "    </tr>\n",
       "  </tbody>\n",
       "</table>\n",
       "</div>"
      ],
      "text/plain": [
       "    age     sex        chest_pain  blood_pressure  cholesterol  \\\n",
       "0  63.0    Male    typical angina           145.0        233.0   \n",
       "1  67.0    Male      asymptomatic           160.0        286.0   \n",
       "2  67.0    Male      asymptomatic           120.0        229.0   \n",
       "3  37.0    Male  non-anginal pain           130.0        250.0   \n",
       "4  41.0  Female   atypical angina           130.0        204.0   \n",
       "\n",
       "                 blood_sugar                       ecg  max_heart_rate  \\\n",
       "0  Fasting Blood Sugar > 120  Probable or definite LVH           150.0   \n",
       "1  Fasting Blood Sugar < 120  Probable or definite LVH           108.0   \n",
       "2  Fasting Blood Sugar < 120  Probable or definite LVH           129.0   \n",
       "3  Fasting Blood Sugar < 120                    normal           187.0   \n",
       "4  Fasting Blood Sugar < 120  Probable or definite LVH           172.0   \n",
       "\n",
       "  exercise_angina  exercise_ST_depress slope_peak_ST  \\\n",
       "0        Negative                  2.3   Downsloping   \n",
       "1        Positive                  1.5          Flat   \n",
       "2        Positive                  2.6          Flat   \n",
       "3        Negative                  3.5   Downsloping   \n",
       "4        Negative                  1.4     Upsloping   \n",
       "\n",
       "   number_vessel_fluoroscopy       thal_defects heart_disease_diagnosis  \\\n",
       "0                        0.0       Fixed defect        No heart disease   \n",
       "1                        3.0             Normal                 Disease   \n",
       "2                        2.0  Reversible defect                 Disease   \n",
       "3                        0.0             Normal        No heart disease   \n",
       "4                        0.0             Normal        No heart disease   \n",
       "\n",
       "    location               cholesterol_status  \n",
       "0  cleveland  Borderline Hypercholestrolnemia  \n",
       "1  cleveland            Hypercholesterolnemia  \n",
       "2  cleveland  Borderline Hypercholestrolnemia  \n",
       "3  cleveland            Hypercholesterolnemia  \n",
       "4  cleveland  Borderline Hypercholestrolnemia  "
      ]
     },
     "execution_count": 35,
     "metadata": {},
     "output_type": "execute_result"
    }
   ],
   "source": [
    "heart_disease_data.head()"
   ]
  },
  {
   "cell_type": "code",
   "execution_count": 36,
   "metadata": {
    "ExecuteTime": {
     "end_time": "2019-11-08T05:15:08.359298Z",
     "start_time": "2019-11-08T05:15:08.342507Z"
    },
    "collapsed": true,
    "hidden": true
   },
   "outputs": [],
   "source": [
    "heart_disease_data.loc[heart_disease_data.heart_disease_diagnosis=='No heart disease','heart_disease_diagnosis']=0\n",
    "heart_disease_data.loc[heart_disease_data.heart_disease_diagnosis=='Disease','heart_disease_diagnosis']=1"
   ]
  },
  {
   "cell_type": "code",
   "execution_count": 37,
   "metadata": {
    "ExecuteTime": {
     "end_time": "2019-11-08T05:15:08.374152Z",
     "start_time": "2019-11-08T05:15:08.361293Z"
    },
    "collapsed": true,
    "hidden": true
   },
   "outputs": [],
   "source": [
    "X=heart_disease_data[['age','sex','chest_pain','blood_pressure','blood_sugar','ecg','max_heart_rate','exercise_angina','exercise_ST_depress','location']]\n",
    "Y=heart_disease_data.heart_disease_diagnosis"
   ]
  },
  {
   "cell_type": "code",
   "execution_count": 38,
   "metadata": {
    "ExecuteTime": {
     "end_time": "2019-11-08T05:15:08.402044Z",
     "start_time": "2019-11-08T05:15:08.377153Z"
    },
    "collapsed": true,
    "hidden": true
   },
   "outputs": [],
   "source": [
    "X=pd.get_dummies(X)"
   ]
  },
  {
   "cell_type": "code",
   "execution_count": 39,
   "metadata": {
    "ExecuteTime": {
     "end_time": "2019-11-08T05:15:08.427975Z",
     "start_time": "2019-11-08T05:15:08.404039Z"
    },
    "collapsed": true,
    "hidden": true
   },
   "outputs": [
    {
     "data": {
      "text/html": [
       "<div>\n",
       "<style scoped>\n",
       "    .dataframe tbody tr th:only-of-type {\n",
       "        vertical-align: middle;\n",
       "    }\n",
       "\n",
       "    .dataframe tbody tr th {\n",
       "        vertical-align: top;\n",
       "    }\n",
       "\n",
       "    .dataframe thead th {\n",
       "        text-align: right;\n",
       "    }\n",
       "</style>\n",
       "<table border=\"1\" class=\"dataframe\">\n",
       "  <thead>\n",
       "    <tr style=\"text-align: right;\">\n",
       "      <th></th>\n",
       "      <th>age</th>\n",
       "      <th>blood_pressure</th>\n",
       "      <th>max_heart_rate</th>\n",
       "      <th>exercise_ST_depress</th>\n",
       "      <th>sex_Female</th>\n",
       "      <th>sex_Male</th>\n",
       "      <th>chest_pain_asymptomatic</th>\n",
       "      <th>chest_pain_atypical angina</th>\n",
       "      <th>chest_pain_non-anginal pain</th>\n",
       "      <th>chest_pain_typical angina</th>\n",
       "      <th>blood_sugar_Fasting Blood Sugar &lt; 120</th>\n",
       "      <th>blood_sugar_Fasting Blood Sugar &gt; 120</th>\n",
       "      <th>ecg_Probable or definite LVH</th>\n",
       "      <th>ecg_ST-T wave abnormality</th>\n",
       "      <th>ecg_normal</th>\n",
       "      <th>exercise_angina_Negative</th>\n",
       "      <th>exercise_angina_Positive</th>\n",
       "      <th>location_cleveland</th>\n",
       "      <th>location_hungary</th>\n",
       "      <th>location_long_beach</th>\n",
       "    </tr>\n",
       "  </thead>\n",
       "  <tbody>\n",
       "    <tr>\n",
       "      <th>0</th>\n",
       "      <td>63.0</td>\n",
       "      <td>145.0</td>\n",
       "      <td>150.0</td>\n",
       "      <td>2.3</td>\n",
       "      <td>0</td>\n",
       "      <td>1</td>\n",
       "      <td>0</td>\n",
       "      <td>0</td>\n",
       "      <td>0</td>\n",
       "      <td>1</td>\n",
       "      <td>0</td>\n",
       "      <td>1</td>\n",
       "      <td>1</td>\n",
       "      <td>0</td>\n",
       "      <td>0</td>\n",
       "      <td>1</td>\n",
       "      <td>0</td>\n",
       "      <td>1</td>\n",
       "      <td>0</td>\n",
       "      <td>0</td>\n",
       "    </tr>\n",
       "    <tr>\n",
       "      <th>1</th>\n",
       "      <td>67.0</td>\n",
       "      <td>160.0</td>\n",
       "      <td>108.0</td>\n",
       "      <td>1.5</td>\n",
       "      <td>0</td>\n",
       "      <td>1</td>\n",
       "      <td>1</td>\n",
       "      <td>0</td>\n",
       "      <td>0</td>\n",
       "      <td>0</td>\n",
       "      <td>1</td>\n",
       "      <td>0</td>\n",
       "      <td>1</td>\n",
       "      <td>0</td>\n",
       "      <td>0</td>\n",
       "      <td>0</td>\n",
       "      <td>1</td>\n",
       "      <td>1</td>\n",
       "      <td>0</td>\n",
       "      <td>0</td>\n",
       "    </tr>\n",
       "    <tr>\n",
       "      <th>2</th>\n",
       "      <td>67.0</td>\n",
       "      <td>120.0</td>\n",
       "      <td>129.0</td>\n",
       "      <td>2.6</td>\n",
       "      <td>0</td>\n",
       "      <td>1</td>\n",
       "      <td>1</td>\n",
       "      <td>0</td>\n",
       "      <td>0</td>\n",
       "      <td>0</td>\n",
       "      <td>1</td>\n",
       "      <td>0</td>\n",
       "      <td>1</td>\n",
       "      <td>0</td>\n",
       "      <td>0</td>\n",
       "      <td>0</td>\n",
       "      <td>1</td>\n",
       "      <td>1</td>\n",
       "      <td>0</td>\n",
       "      <td>0</td>\n",
       "    </tr>\n",
       "    <tr>\n",
       "      <th>3</th>\n",
       "      <td>37.0</td>\n",
       "      <td>130.0</td>\n",
       "      <td>187.0</td>\n",
       "      <td>3.5</td>\n",
       "      <td>0</td>\n",
       "      <td>1</td>\n",
       "      <td>0</td>\n",
       "      <td>0</td>\n",
       "      <td>1</td>\n",
       "      <td>0</td>\n",
       "      <td>1</td>\n",
       "      <td>0</td>\n",
       "      <td>0</td>\n",
       "      <td>0</td>\n",
       "      <td>1</td>\n",
       "      <td>1</td>\n",
       "      <td>0</td>\n",
       "      <td>1</td>\n",
       "      <td>0</td>\n",
       "      <td>0</td>\n",
       "    </tr>\n",
       "    <tr>\n",
       "      <th>4</th>\n",
       "      <td>41.0</td>\n",
       "      <td>130.0</td>\n",
       "      <td>172.0</td>\n",
       "      <td>1.4</td>\n",
       "      <td>1</td>\n",
       "      <td>0</td>\n",
       "      <td>0</td>\n",
       "      <td>1</td>\n",
       "      <td>0</td>\n",
       "      <td>0</td>\n",
       "      <td>1</td>\n",
       "      <td>0</td>\n",
       "      <td>1</td>\n",
       "      <td>0</td>\n",
       "      <td>0</td>\n",
       "      <td>1</td>\n",
       "      <td>0</td>\n",
       "      <td>1</td>\n",
       "      <td>0</td>\n",
       "      <td>0</td>\n",
       "    </tr>\n",
       "  </tbody>\n",
       "</table>\n",
       "</div>"
      ],
      "text/plain": [
       "    age  blood_pressure  max_heart_rate  exercise_ST_depress  sex_Female  \\\n",
       "0  63.0           145.0           150.0                  2.3           0   \n",
       "1  67.0           160.0           108.0                  1.5           0   \n",
       "2  67.0           120.0           129.0                  2.6           0   \n",
       "3  37.0           130.0           187.0                  3.5           0   \n",
       "4  41.0           130.0           172.0                  1.4           1   \n",
       "\n",
       "   sex_Male  chest_pain_asymptomatic  chest_pain_atypical angina  \\\n",
       "0         1                        0                           0   \n",
       "1         1                        1                           0   \n",
       "2         1                        1                           0   \n",
       "3         1                        0                           0   \n",
       "4         0                        0                           1   \n",
       "\n",
       "   chest_pain_non-anginal pain  chest_pain_typical angina  \\\n",
       "0                            0                          1   \n",
       "1                            0                          0   \n",
       "2                            0                          0   \n",
       "3                            1                          0   \n",
       "4                            0                          0   \n",
       "\n",
       "   blood_sugar_Fasting Blood Sugar < 120  \\\n",
       "0                                      0   \n",
       "1                                      1   \n",
       "2                                      1   \n",
       "3                                      1   \n",
       "4                                      1   \n",
       "\n",
       "   blood_sugar_Fasting Blood Sugar > 120  ecg_Probable or definite LVH  \\\n",
       "0                                      1                             1   \n",
       "1                                      0                             1   \n",
       "2                                      0                             1   \n",
       "3                                      0                             0   \n",
       "4                                      0                             1   \n",
       "\n",
       "   ecg_ST-T wave abnormality  ecg_normal  exercise_angina_Negative  \\\n",
       "0                          0           0                         1   \n",
       "1                          0           0                         0   \n",
       "2                          0           0                         0   \n",
       "3                          0           1                         1   \n",
       "4                          0           0                         1   \n",
       "\n",
       "   exercise_angina_Positive  location_cleveland  location_hungary  \\\n",
       "0                         0                   1                 0   \n",
       "1                         1                   1                 0   \n",
       "2                         1                   1                 0   \n",
       "3                         0                   1                 0   \n",
       "4                         0                   1                 0   \n",
       "\n",
       "   location_long_beach  \n",
       "0                    0  \n",
       "1                    0  \n",
       "2                    0  \n",
       "3                    0  \n",
       "4                    0  "
      ]
     },
     "execution_count": 39,
     "metadata": {},
     "output_type": "execute_result"
    }
   ],
   "source": [
    "X.head()"
   ]
  },
  {
   "cell_type": "code",
   "execution_count": 40,
   "metadata": {
    "ExecuteTime": {
     "end_time": "2019-11-08T05:15:09.111163Z",
     "start_time": "2019-11-08T05:15:08.428974Z"
    },
    "collapsed": true,
    "hidden": true
   },
   "outputs": [],
   "source": [
    "import statsmodels.api as sm\n",
    "model=sm.GLM(Y,X)\n",
    "result=model.fit()"
   ]
  },
  {
   "cell_type": "code",
   "execution_count": 41,
   "metadata": {
    "ExecuteTime": {
     "end_time": "2019-11-08T05:15:09.152055Z",
     "start_time": "2019-11-08T05:15:09.115156Z"
    },
    "collapsed": true,
    "hidden": true
   },
   "outputs": [
    {
     "data": {
      "text/html": [
       "<table class=\"simpletable\">\n",
       "<caption>Generalized Linear Model Regression Results</caption>\n",
       "<tr>\n",
       "  <th>Dep. Variable:</th>   <td>heart_disease_diagnosis</td> <th>  No. Observations:  </th>  <td>   299</td> \n",
       "</tr>\n",
       "<tr>\n",
       "  <th>Model:</th>                     <td>GLM</td>           <th>  Df Residuals:      </th>  <td>   284</td> \n",
       "</tr>\n",
       "<tr>\n",
       "  <th>Model Family:</th>           <td>Gaussian</td>         <th>  Df Model:          </th>  <td>    14</td> \n",
       "</tr>\n",
       "<tr>\n",
       "  <th>Link Function:</th>          <td>identity</td>         <th>  Scale:             </th> <td> 0.14261</td>\n",
       "</tr>\n",
       "<tr>\n",
       "  <th>Method:</th>                   <td>IRLS</td>           <th>  Log-Likelihood:    </th> <td> -125.40</td>\n",
       "</tr>\n",
       "<tr>\n",
       "  <th>Date:</th>               <td>Fri, 08 Nov 2019</td>     <th>  Deviance:          </th> <td>  40.502</td>\n",
       "</tr>\n",
       "<tr>\n",
       "  <th>Time:</th>                   <td>00:15:09</td>         <th>  Pearson chi2:      </th>  <td>  40.5</td> \n",
       "</tr>\n",
       "<tr>\n",
       "  <th>No. Iterations:</th>             <td>3</td>            <th>                     </th>     <td> </td>   \n",
       "</tr>\n",
       "<tr>\n",
       "  <th>Covariance Type:</th>        <td>nonrobust</td>        <th>                     </th>     <td> </td>   \n",
       "</tr>\n",
       "</table>\n",
       "<table class=\"simpletable\">\n",
       "<tr>\n",
       "                    <td></td>                       <th>coef</th>     <th>std err</th>      <th>z</th>      <th>P>|z|</th>  <th>[0.025</th>    <th>0.975]</th>  \n",
       "</tr>\n",
       "<tr>\n",
       "  <th>age</th>                                   <td>    0.0038</td> <td>    0.003</td> <td>    1.355</td> <td> 0.176</td> <td>   -0.002</td> <td>    0.009</td>\n",
       "</tr>\n",
       "<tr>\n",
       "  <th>blood_pressure</th>                        <td>    0.0024</td> <td>    0.001</td> <td>    1.742</td> <td> 0.082</td> <td>   -0.000</td> <td>    0.005</td>\n",
       "</tr>\n",
       "<tr>\n",
       "  <th>max_heart_rate</th>                        <td>   -0.0032</td> <td>    0.001</td> <td>   -2.662</td> <td> 0.008</td> <td>   -0.006</td> <td>   -0.001</td>\n",
       "</tr>\n",
       "<tr>\n",
       "  <th>exercise_ST_depress</th>                   <td>    0.0888</td> <td>    0.022</td> <td>    4.122</td> <td> 0.000</td> <td>    0.047</td> <td>    0.131</td>\n",
       "</tr>\n",
       "<tr>\n",
       "  <th>sex_Female</th>                            <td>   -0.0440</td> <td>    0.078</td> <td>   -0.562</td> <td> 0.574</td> <td>   -0.198</td> <td>    0.110</td>\n",
       "</tr>\n",
       "<tr>\n",
       "  <th>sex_Male</th>                              <td>    0.1895</td> <td>    0.072</td> <td>    2.647</td> <td> 0.008</td> <td>    0.049</td> <td>    0.330</td>\n",
       "</tr>\n",
       "<tr>\n",
       "  <th>chest_pain_asymptomatic</th>               <td>    0.2706</td> <td>    0.048</td> <td>    5.655</td> <td> 0.000</td> <td>    0.177</td> <td>    0.364</td>\n",
       "</tr>\n",
       "<tr>\n",
       "  <th>chest_pain_atypical angina</th>            <td>    0.0124</td> <td>    0.061</td> <td>    0.204</td> <td> 0.838</td> <td>   -0.107</td> <td>    0.132</td>\n",
       "</tr>\n",
       "<tr>\n",
       "  <th>chest_pain_non-anginal pain</th>           <td>   -0.0365</td> <td>    0.053</td> <td>   -0.696</td> <td> 0.487</td> <td>   -0.140</td> <td>    0.066</td>\n",
       "</tr>\n",
       "<tr>\n",
       "  <th>chest_pain_typical angina</th>             <td>   -0.1011</td> <td>    0.079</td> <td>   -1.285</td> <td> 0.199</td> <td>   -0.255</td> <td>    0.053</td>\n",
       "</tr>\n",
       "<tr>\n",
       "  <th>blood_sugar_Fasting Blood Sugar < 120</th> <td>    0.0766</td> <td>    0.072</td> <td>    1.070</td> <td> 0.284</td> <td>   -0.064</td> <td>    0.217</td>\n",
       "</tr>\n",
       "<tr>\n",
       "  <th>blood_sugar_Fasting Blood Sugar > 120</th> <td>    0.0688</td> <td>    0.084</td> <td>    0.820</td> <td> 0.412</td> <td>   -0.096</td> <td>    0.233</td>\n",
       "</tr>\n",
       "<tr>\n",
       "  <th>ecg_Probable or definite LVH</th>          <td>    0.0744</td> <td>    0.077</td> <td>    0.963</td> <td> 0.336</td> <td>   -0.077</td> <td>    0.226</td>\n",
       "</tr>\n",
       "<tr>\n",
       "  <th>ecg_ST-T wave abnormality</th>             <td>    0.0586</td> <td>    0.147</td> <td>    0.399</td> <td> 0.690</td> <td>   -0.230</td> <td>    0.347</td>\n",
       "</tr>\n",
       "<tr>\n",
       "  <th>ecg_normal</th>                            <td>    0.0125</td> <td>    0.075</td> <td>    0.166</td> <td> 0.868</td> <td>   -0.134</td> <td>    0.159</td>\n",
       "</tr>\n",
       "<tr>\n",
       "  <th>exercise_angina_Negative</th>              <td>    0.0080</td> <td>    0.076</td> <td>    0.105</td> <td> 0.916</td> <td>   -0.141</td> <td>    0.157</td>\n",
       "</tr>\n",
       "<tr>\n",
       "  <th>exercise_angina_Positive</th>              <td>    0.1374</td> <td>    0.076</td> <td>    1.801</td> <td> 0.072</td> <td>   -0.012</td> <td>    0.287</td>\n",
       "</tr>\n",
       "<tr>\n",
       "  <th>location_cleveland</th>                    <td>   -0.0735</td> <td>    0.169</td> <td>   -0.436</td> <td> 0.663</td> <td>   -0.404</td> <td>    0.257</td>\n",
       "</tr>\n",
       "<tr>\n",
       "  <th>location_hungary</th>                      <td>    0.0255</td> <td>    0.296</td> <td>    0.086</td> <td> 0.931</td> <td>   -0.554</td> <td>    0.605</td>\n",
       "</tr>\n",
       "<tr>\n",
       "  <th>location_long_beach</th>                   <td>    0.1934</td> <td>    0.295</td> <td>    0.655</td> <td> 0.513</td> <td>   -0.385</td> <td>    0.772</td>\n",
       "</tr>\n",
       "</table>"
      ],
      "text/plain": [
       "<class 'statsmodels.iolib.summary.Summary'>\n",
       "\"\"\"\n",
       "                    Generalized Linear Model Regression Results                    \n",
       "===================================================================================\n",
       "Dep. Variable:     heart_disease_diagnosis   No. Observations:                  299\n",
       "Model:                                 GLM   Df Residuals:                      284\n",
       "Model Family:                     Gaussian   Df Model:                           14\n",
       "Link Function:                    identity   Scale:                         0.14261\n",
       "Method:                               IRLS   Log-Likelihood:                -125.40\n",
       "Date:                     Fri, 08 Nov 2019   Deviance:                       40.502\n",
       "Time:                             00:15:09   Pearson chi2:                     40.5\n",
       "No. Iterations:                          3                                         \n",
       "Covariance Type:                 nonrobust                                         \n",
       "=========================================================================================================\n",
       "                                            coef    std err          z      P>|z|      [0.025      0.975]\n",
       "---------------------------------------------------------------------------------------------------------\n",
       "age                                       0.0038      0.003      1.355      0.176      -0.002       0.009\n",
       "blood_pressure                            0.0024      0.001      1.742      0.082      -0.000       0.005\n",
       "max_heart_rate                           -0.0032      0.001     -2.662      0.008      -0.006      -0.001\n",
       "exercise_ST_depress                       0.0888      0.022      4.122      0.000       0.047       0.131\n",
       "sex_Female                               -0.0440      0.078     -0.562      0.574      -0.198       0.110\n",
       "sex_Male                                  0.1895      0.072      2.647      0.008       0.049       0.330\n",
       "chest_pain_asymptomatic                   0.2706      0.048      5.655      0.000       0.177       0.364\n",
       "chest_pain_atypical angina                0.0124      0.061      0.204      0.838      -0.107       0.132\n",
       "chest_pain_non-anginal pain              -0.0365      0.053     -0.696      0.487      -0.140       0.066\n",
       "chest_pain_typical angina                -0.1011      0.079     -1.285      0.199      -0.255       0.053\n",
       "blood_sugar_Fasting Blood Sugar < 120     0.0766      0.072      1.070      0.284      -0.064       0.217\n",
       "blood_sugar_Fasting Blood Sugar > 120     0.0688      0.084      0.820      0.412      -0.096       0.233\n",
       "ecg_Probable or definite LVH              0.0744      0.077      0.963      0.336      -0.077       0.226\n",
       "ecg_ST-T wave abnormality                 0.0586      0.147      0.399      0.690      -0.230       0.347\n",
       "ecg_normal                                0.0125      0.075      0.166      0.868      -0.134       0.159\n",
       "exercise_angina_Negative                  0.0080      0.076      0.105      0.916      -0.141       0.157\n",
       "exercise_angina_Positive                  0.1374      0.076      1.801      0.072      -0.012       0.287\n",
       "location_cleveland                       -0.0735      0.169     -0.436      0.663      -0.404       0.257\n",
       "location_hungary                          0.0255      0.296      0.086      0.931      -0.554       0.605\n",
       "location_long_beach                       0.1934      0.295      0.655      0.513      -0.385       0.772\n",
       "=========================================================================================================\n",
       "\"\"\""
      ]
     },
     "execution_count": 41,
     "metadata": {},
     "output_type": "execute_result"
    }
   ],
   "source": [
    "result.summary()"
   ]
  },
  {
   "cell_type": "markdown",
   "metadata": {
    "hidden": true
   },
   "source": [
    "We can see that several of our variables do not have a statistically significant effect. Several of these variables are clinically relevant. This includes while age and blood pressure. For instance, we know that older individuals are at higher risk of develop heart disease simply because they have had more time for plaques to accumulate in their blood vessels. For this reason we will be keeping these variables in our model. \n",
    "\n",
    "While statistical significance is important, it is always more important to consider whether our predictor are clinically relevant for the outcome we will be predicting. Remember to alway consider the clinical significance of a variable and not just the statistical significance!"
   ]
  },
  {
   "cell_type": "markdown",
   "metadata": {
    "heading_collapsed": true
   },
   "source": [
    "# Building A Predictive Model"
   ]
  },
  {
   "cell_type": "markdown",
   "metadata": {
    "hidden": true,
    "solution2": "hidden"
   },
   "source": [
    "Statistical Significance can be defined as the chance that the relationship you observed in your data occurred by chance. What does this mean? Lets say our logistic regression model finds that weight has a statistically significant effect on being high risk or low risk asthmatic patient. This means that it more likely that there is indeed a relationship between weight and risk than chance would suggest. \n",
    "\n",
    "The conventional level of significance that is accepted is < 0.05 (this number is referred to as a p-value). This means that there is less than 5% chance that the observed relationship in the data was due to chance alone. The image below display a sample R output.\n",
    "\n",
    "<img src=\"https://drchrispook.files.wordpress.com/2017/02/anova-output-from-r1.jpg\" align=\"center\" style=\"margin-bottom: 0.5em; margin-top: 0.5em;\">"
   ]
  },
  {
   "cell_type": "markdown",
   "metadata": {
    "hidden": true,
    "solution2": "hidden",
    "solution2_first": true
   },
   "source": [
    "**Pre-Check:** So far we haven't done any machine learning yet. What we've done can be considered traditional statistical analyses. What differentiate machine learning for statistical analysis?"
   ]
  },
  {
   "cell_type": "markdown",
   "metadata": {
    "hidden": true,
    "solution2": "hidden"
   },
   "source": [
    "In machine learning, data is split into a training and test set. A machine learning model is then trainined on the training set to predict whatever outcome of interest it was designed to predict (in our case we're predicting whether the asthmatic patient is high- or low- risk). The models predictive performance is then evaluated using the test set. \n",
    "\n",
    "<img src=\"https://www.sqlservercentral.com/wp-content/uploads/2019/05/Image-2.jpg\" align=\"center\" style=\"margin-bottom: 0.5em; margin-top: 0.5em;\">"
   ]
  },
  {
   "cell_type": "markdown",
   "metadata": {
    "hidden": true
   },
   "source": [
    "For our case we'll be using a model called a naive bayes classifier. This algorithm is an algorithm that can be used for classification purpose and is based on **Bayes Theorem**. It is called naive because it assumes that all the features that go into the model are independent from one another.\n",
    "\n",
    "> As you can likely guess, this is rarely true in the real world. This especially the case for clinical data. \n",
    "\n",
    "So now you're wondering, just what the heck is Bayes Theorem?"
   ]
  },
  {
   "cell_type": "markdown",
   "metadata": {
    "heading_collapsed": true,
    "hidden": true
   },
   "source": [
    "### Bayes Theorem"
   ]
  },
  {
   "cell_type": "markdown",
   "metadata": {
    "hidden": true
   },
   "source": [
    "Bayes theorem is a theory that allows us to find the probability of an event or prediction given prior knowledge/data. Below is a graphic representation of the equation for bayes theorem. \n",
    "\n",
    "<img src=\"https://miro.medium.com/max/806/1*l0MccMHzSjtpJ_mGaItVfA.jpeg\" align=\"center\" style=\"margin-bottom: 0.5em; margin-top: 0.5em;\">\n",
    "\n",
    "This is a mathematical representation of our definition for bayes theorem. In the equation, we are predicting the value of A given prior knowledge of value B. Now how does this fit into machine learning?\n",
    "\n",
    "In a naive bayes classifier, the algorithm is trained to recognize the probability for different classes based on all the features. In our case, this would mean our algorithm would be trained to find the probability of whether a person has heart disease based on every variable include in our model (ie. age, blood glucose, etc...). It would then classify a person as having heart disease or not based on probabilities it derives from looking at all the variables from that particular patient. Where does it learn these probabilities from? By learning from our training data. "
   ]
  },
  {
   "cell_type": "markdown",
   "metadata": {
    "heading_collapsed": true,
    "hidden": true
   },
   "source": [
    "## Building our Model"
   ]
  },
  {
   "cell_type": "markdown",
   "metadata": {
    "hidden": true
   },
   "source": [
    "We now need to split our data into training and test data. We will be splitting our data into 80% training data and 20% test data."
   ]
  },
  {
   "cell_type": "code",
   "execution_count": 42,
   "metadata": {
    "ExecuteTime": {
     "end_time": "2019-11-08T05:15:09.172000Z",
     "start_time": "2019-11-08T05:15:09.155063Z"
    },
    "collapsed": true,
    "hidden": true
   },
   "outputs": [],
   "source": [
    "# Split the training data and testing data\n",
    "X_train, X_test, y_train, y_test = train_test_split(X, Y, test_size=0.2, random_state=100)"
   ]
  },
  {
   "cell_type": "markdown",
   "metadata": {
    "hidden": true
   },
   "source": [
    "Now lets fit our model to the training and test data. We will then take a look at our models performance using a confusion matrix.\n",
    "\n",
    "> If you're unsure what a confusion matrix is, please consult section 5.1.1 ('What is a Confusion Matrix')"
   ]
  },
  {
   "cell_type": "code",
   "execution_count": 43,
   "metadata": {
    "ExecuteTime": {
     "end_time": "2019-11-08T05:15:09.212891Z",
     "start_time": "2019-11-08T05:15:09.174993Z"
    },
    "collapsed": true,
    "hidden": true
   },
   "outputs": [
    {
     "data": {
      "text/plain": [
       "BernoulliNB(alpha=1.0, binarize=0.0, class_prior=None, fit_prior=True)"
      ]
     },
     "execution_count": 43,
     "metadata": {},
     "output_type": "execute_result"
    }
   ],
   "source": [
    "from sklearn.naive_bayes import BernoulliNB\n",
    "nb = BernoulliNB()\n",
    "nb.fit(X_train,y_train)"
   ]
  },
  {
   "cell_type": "code",
   "execution_count": 44,
   "metadata": {
    "ExecuteTime": {
     "end_time": "2019-11-08T05:15:09.222809Z",
     "start_time": "2019-11-08T05:15:09.214887Z"
    },
    "collapsed": true,
    "hidden": true
   },
   "outputs": [],
   "source": [
    "y_pred=nb.predict(X_test)"
   ]
  },
  {
   "cell_type": "code",
   "execution_count": 45,
   "metadata": {
    "ExecuteTime": {
     "end_time": "2019-11-08T05:15:09.242658Z",
     "start_time": "2019-11-08T05:15:09.225792Z"
    },
    "collapsed": true,
    "hidden": true
   },
   "outputs": [
    {
     "name": "stdout",
     "output_type": "stream",
     "text": [
      "Outputing results...\n",
      "confusion matrix\n",
      "[[28  8]\n",
      " [ 8 16]]\n",
      "              precision    recall  f1-score   support\n",
      "\n",
      "           0       0.78      0.78      0.78        36\n",
      "           1       0.67      0.67      0.67        24\n",
      "\n",
      "    accuracy                           0.73        60\n",
      "   macro avg       0.72      0.72      0.72        60\n",
      "weighted avg       0.73      0.73      0.73        60\n",
      "\n"
     ]
    }
   ],
   "source": [
    "# Output results\n",
    "print('Outputing results...')\n",
    "conf_mat = confusion_matrix(y_test, y_pred)\n",
    "print('confusion matrix')\n",
    "print(conf_mat)\n",
    "print(classification_report(y_test,y_pred))"
   ]
  },
  {
   "cell_type": "markdown",
   "metadata": {
    "hidden": true
   },
   "source": [
    "How did it do? We can see our model had an accuracy of 0.79, a sensitivity of 0.83, and a specificity of 0.74. What we determine to be acceptable cut-off will depend on the context this model is being used for. Lets evaluate our model further. "
   ]
  },
  {
   "cell_type": "markdown",
   "metadata": {
    "heading_collapsed": true,
    "hidden": true
   },
   "source": [
    "### What Is A Confusion Matrix"
   ]
  },
  {
   "cell_type": "markdown",
   "metadata": {
    "hidden": true
   },
   "source": [
    "A confusion matrix is a 2x2 table which computes 4 different combinations of predicted vs. actual values. The combinations are True Positive (TP), True Negative (TN), False Positive (FP), and False Negative (FN)\n",
    "\n",
    "<img src=\"https://miro.medium.com/max/320/1*Z54JgbS4DUwWSknhDCvNTQ.png\" align=\"center\" style=\"margin-bottom: 0.5em; margin-top: 0.5em;\">\n",
    "\n",
    "These 4 interpretations can be combined to generate many useful metrics. For our purpose there are three we will focus on. The first is accuracy: \n",
    "\n",
    "\\[\\large (TP + TN)/Total\\]\n",
    "\n",
    "Accuracy allows us to measure how often our model predicted correctly. The second metric is sensitivity:\n",
    "\n",
    "\\[\\large TP / (TP + FN)\\]\n",
    "\n",
    "Sensitivity asks the question, that when our outcome is actually positive (ie. in our case when our patient is actually high-risk) how often will the model predict positively (ie. how often will the model then predict the patient to be high-risk). The final metric is specificity:\n",
    "\n",
    "\\[\\large FP / (FP + TN)\\]\n",
    "\n",
    "Specificity asks the question, that when the outcome is actually negative (ie. in our case when our patient is actually low-risk) how often will the model predict negatively (ie. how often will the model then predict the patient to be low-risk). \n",
    "\n",
    "\n"
   ]
  },
  {
   "cell_type": "markdown",
   "metadata": {
    "heading_collapsed": true,
    "hidden": true
   },
   "source": [
    "## Evaluating our Model"
   ]
  },
  {
   "cell_type": "markdown",
   "metadata": {
    "hidden": true
   },
   "source": [
    "We will be evaluating our model using a receiver operating curve (ROC) and the area under the curve (AUC) value. \n",
    "\n",
    "> If you're unsure what a ROC or AUC value is, please consult section 5.2.1 ('Understanding ROC Curves and AUC Values')"
   ]
  },
  {
   "cell_type": "code",
   "execution_count": 46,
   "metadata": {
    "ExecuteTime": {
     "end_time": "2019-11-08T05:15:09.257578Z",
     "start_time": "2019-11-08T05:15:09.247604Z"
    },
    "collapsed": true,
    "hidden": true
   },
   "outputs": [
    {
     "data": {
      "text/plain": [
       "0    36\n",
       "1    24\n",
       "Name: heart_disease_diagnosis, dtype: int64"
      ]
     },
     "execution_count": 46,
     "metadata": {},
     "output_type": "execute_result"
    }
   ],
   "source": [
    "y_test.value_counts()"
   ]
  },
  {
   "cell_type": "code",
   "execution_count": 47,
   "metadata": {
    "ExecuteTime": {
     "end_time": "2019-11-08T05:15:09.510950Z",
     "start_time": "2019-11-08T05:15:09.260570Z"
    },
    "collapsed": true,
    "hidden": true
   },
   "outputs": [
    {
     "data": {
      "text/plain": [
       "<matplotlib.legend.Legend at 0x202c275f808>"
      ]
     },
     "execution_count": 47,
     "metadata": {},
     "output_type": "execute_result"
    },
    {
     "data": {
      "image/png": "[encoded data removed]",
      "text/plain": [
       "<Figure size 432x288 with 1 Axes>"
      ]
     },
     "metadata": {
      "needs_background": "light"
     },
     "output_type": "display_data"
    }
   ],
   "source": [
    "# plot a ROC curve\n",
    "from sklearn.metrics import roc_curve\n",
    "from sklearn.metrics import auc\n",
    "\n",
    "# Compute fpr, tpr, thresholds and roc auc\n",
    "roc_curve(y_test, y_pred)\n",
    "fpr, tpr, thresholds = roc_curve(y_test, y_pred)\n",
    "roc_auc = auc(fpr, tpr)\n",
    "\n",
    "# Plot ROC curve\n",
    "plt.plot(fpr, tpr, label='ROC curve (area = %0.3f)' % roc_auc)\n",
    "plt.plot([0, 1], [0, 1], 'k--')  # random predictions curve\n",
    "plt.xlim([0.0, 1.0])\n",
    "plt.ylim([0.0, 1.0])\n",
    "plt.xlabel('False Positive Rate or (1 - Specifity)')\n",
    "plt.ylabel('True Positive Rate or (Sensitivity)')\n",
    "plt.title('Receiver Operating Characteristic')\n",
    "plt.legend(loc=\"lower right\")"
   ]
  },
  {
   "cell_type": "code",
   "execution_count": 48,
   "metadata": {
    "ExecuteTime": {
     "end_time": "2019-11-08T05:15:09.517880Z",
     "start_time": "2019-11-08T05:15:09.512864Z"
    },
    "collapsed": true,
    "hidden": true
   },
   "outputs": [
    {
     "name": "stdout",
     "output_type": "stream",
     "text": [
      "AUC: 0.72\n"
     ]
    }
   ],
   "source": [
    "# Calculate the area under the curve (AUC)\n",
    "print('AUC:', roc_auc.round(2))"
   ]
  },
  {
   "cell_type": "markdown",
   "metadata": {
    "hidden": true
   },
   "source": [
    "The closer to the top left corner our ROC curve is the better. The higher our AUC value is the better. These metrics provide useful measure when tuning our model. They are also better overall measures than accuracy alone. We can compare different models using these two metrics. "
   ]
  },
  {
   "cell_type": "markdown",
   "metadata": {
    "heading_collapsed": true,
    "hidden": true
   },
   "source": [
    "### Understanding ROC Curves and AUC Values"
   ]
  },
  {
   "cell_type": "markdown",
   "metadata": {
    "hidden": true
   },
   "source": [
    "An ROC plots sensitivity (probability of predicting a real psoitive will be positive) against 1-specificity (the probability of predicting a real negative will be a positive). A model with a 50-50 change of making a correct decision will have a ROC curve which is just a diagonal line. A model with a curve that hugs the top left corner is a perfect model. The area under a curve is a measure of magnitude of the ROC curve. The closer the ROC curve is to the top left corner, the higher the AUC value is. The higher the AUC value is, the better. \n",
    "\n",
    "<img src=\"https://miro.medium.com/max/406/1*pk05QGzoWhCgRiiFbz-oKQ.png\" style=\"float: center; width: 34%; margin-bottom: 0.5em;\">"
   ]
  },
  {
   "cell_type": "markdown",
   "metadata": {
    "heading_collapsed": true,
    "hidden": true
   },
   "source": [
    "## Explaining the Model"
   ]
  },
  {
   "cell_type": "markdown",
   "metadata": {
    "hidden": true
   },
   "source": [
    "An important part of any model is being able to explain it. We can look at the effect each variable had on predicting heart disease through looking at the conditional probabilities of different variables. "
   ]
  },
  {
   "cell_type": "code",
   "execution_count": 49,
   "metadata": {
    "ExecuteTime": {
     "end_time": "2019-11-08T05:15:09.533802Z",
     "start_time": "2019-11-08T05:15:09.519840Z"
    },
    "collapsed": true,
    "hidden": true
   },
   "outputs": [
    {
     "name": "stdout",
     "output_type": "stream",
     "text": [
      "the probability that the person doesn't have heart disease:  0.5188284518828451\n",
      "the probability that the person has heart disease 0.4811715481171547\n"
     ]
    }
   ],
   "source": [
    "# Naive Bayes Output\n",
    "class_probs=np.exp(nb.class_log_prior_)\n",
    "print('the probability that the person doesn\\'t have heart disease: ', class_probs[0])\n",
    "print('the probability that the person has heart disease', class_probs[1])"
   ]
  },
  {
   "cell_type": "code",
   "execution_count": 50,
   "metadata": {
    "ExecuteTime": {
     "end_time": "2019-11-08T05:15:09.560671Z",
     "start_time": "2019-11-08T05:15:09.535798Z"
    },
    "collapsed": true,
    "hidden": true
   },
   "outputs": [
    {
     "name": "stdout",
     "output_type": "stream",
     "text": [
      "Condition probabilities given that the person doesn't have heart disease\n",
      "age :  0.9920634920634924\n",
      "blood_pressure :  0.9920634920634924\n",
      "max_heart_rate :  0.9920634920634924\n",
      "exercise_ST_depress :  0.5317460317460316\n",
      "sex_Female :  0.4126984126984128\n",
      "sex_Male :  0.5873015873015875\n",
      "chest_pain_asymptomatic :  0.2619047619047619\n",
      "chest_pain_atypical angina :  0.25396825396825395\n",
      "chest_pain_non-anginal pain :  0.3968253968253968\n",
      "chest_pain_typical angina :  0.10317460317460318\n",
      "blood_sugar_Fasting Blood Sugar < 120 :  0.8333333333333331\n",
      "blood_sugar_Fasting Blood Sugar > 120 :  0.16666666666666669\n",
      "ecg_Probable or definite LVH :  0.45238095238095244\n",
      "ecg_ST-T wave abnormality :  0.015873015873015876\n",
      "ecg_normal :  0.5396825396825399\n",
      "exercise_angina_Negative :  0.8730158730158734\n",
      "exercise_angina_Positive :  0.12698412698412698\n",
      "location_cleveland :  0.9920634920634924\n",
      "location_hungary :  0.007936507936507936\n",
      "location_long_beach :  0.007936507936507936\n",
      "\n",
      "Condition probabilities given that the person has heart disease\n",
      "age :  0.9914529914529912\n",
      "blood_pressure :  0.9914529914529912\n",
      "max_heart_rate :  0.9914529914529912\n",
      "exercise_ST_depress :  0.7863247863247863\n",
      "sex_Female :  0.16239316239316234\n",
      "sex_Male :  0.8376068376068377\n",
      "chest_pain_asymptomatic :  0.7777777777777775\n",
      "chest_pain_atypical angina :  0.07692307692307693\n",
      "chest_pain_non-anginal pain :  0.09401709401709402\n",
      "chest_pain_typical angina :  0.06837606837606836\n",
      "blood_sugar_Fasting Blood Sugar < 120 :  0.8632478632478633\n",
      "blood_sugar_Fasting Blood Sugar > 120 :  0.1367521367521367\n",
      "ecg_Probable or definite LVH :  0.6068376068376068\n",
      "ecg_ST-T wave abnormality :  0.025641025641025644\n",
      "ecg_normal :  0.37606837606837595\n",
      "exercise_angina_Negative :  0.4615384615384615\n",
      "exercise_angina_Positive :  0.5384615384615383\n",
      "location_cleveland :  0.9743589743589743\n",
      "location_hungary :  0.017094017094017092\n",
      "location_long_beach :  0.017094017094017092\n"
     ]
    }
   ],
   "source": [
    "features_0=np.exp(nb.feature_log_prob_[0])\n",
    "features_1=np.exp(nb.feature_log_prob_[1])\n",
    "print('Condition probabilities given that the person doesn\\'t have heart disease')\n",
    "for i in range(len(X_train.columns)):\n",
    "    print(X_train.columns[i],': ',features_0[i])\n",
    "\n",
    "print('\\nCondition probabilities given that the person has heart disease')\n",
    "for i in range(len(X_train.columns)):\n",
    "    print(X_train.columns[i],': ',features_1[i])"
   ]
  },
  {
   "cell_type": "markdown",
   "metadata": {
    "hidden": true
   },
   "source": [
    "So our model gave us quite a bit of output. First the output will differ depending on whether a variable is categorical or numeric. For numeric variables you should see a `[,1]` and `[,2]` output. The `[,1]` indicates the mean value based on disease status. For instance we can see that the mean age for the heart disease group was 55.8 while the mean age for the no heart disease group was 50.5. The `[,2]` is the standard deviation for that mean. "
   ]
  },
  {
   "cell_type": "markdown",
   "metadata": {
    "hidden": true
   },
   "source": [
    "For categorical variables we get probabilities. Under A-priori probabilities we can see the original distribution of heart disease and non heart disease patients. The ratio is approximately 1:1. We can then see the probabilities of heart disease to no heart disease based on variables. Anything surprising?\n",
    "\n",
    "One surprising variable is `sex`. In female the ratio of heart disease to no heart disease is 1:3. However, among males it's nearly 1.4:1. Sex seems to be a big driver for whether we can predict heart disease or not! See if you can spot anymore surprising findings. "
   ]
  },
  {
   "cell_type": "markdown",
   "metadata": {
    "hidden": true
   },
   "source": [
    "Congratulations! You've reached the end of the case! This case provided just one example of how analytics and healthcare can be combined to solve clinical problems. I hope your curiosity has been piqued. There much more to learn and much more you can explore in this field!"
   ]
  }
 ],
 "metadata": {
  "kernelspec": {
   "display_name": "Python 3",
   "language": "python",
   "name": "python3"
  },
  "language_info": {
   "codemirror_mode": {
    "name": "ipython",
    "version": 3
   },
   "file_extension": ".py",
   "mimetype": "text/x-python",
   "name": "python",
   "nbconvert_exporter": "python",
   "pygments_lexer": "ipython3",
   "version": "3.7.4"
  },
  "latex_envs": {
   "LaTeX_envs_menu_present": true,
   "autoclose": false,
   "autocomplete": true,
   "bibliofile": "biblio.bib",
   "cite_by": "apalike",
   "current_citInitial": 1,
   "eqLabelWithNumbers": false,
   "eqNumInitial": 1,
   "hotkeys": {
    "equation": "Ctrl-E",
    "itemize": "Ctrl-I"
   },
   "labels_anchors": false,
   "latex_user_defs": false,
   "report_style_numbering": false,
   "user_envs_cfg": false
  },
  "toc": {
   "base_numbering": 1,
   "nav_menu": {},
   "number_sections": true,
   "sideBar": true,
   "skip_h1_title": false,
   "title_cell": "Table of Contents",
   "title_sidebar": "Contents",
   "toc_cell": false,
   "toc_position": {
    "height": "414px",
    "left": "54px",
    "top": "110.8px",
    "width": "276px"
   },
   "toc_section_display": true,
   "toc_window_display": false
  },
  "varInspector": {
   "cols": {
    "lenName": 16,
    "lenType": 16,
    "lenVar": 40
   },
   "kernels_config": {
    "python": {
     "delete_cmd_postfix": "",
     "delete_cmd_prefix": "del ",
     "library": "var_list.py",
     "varRefreshCmd": "print(var_dic_list())"
    },
    "r": {
     "delete_cmd_postfix": ") ",
     "delete_cmd_prefix": "rm(",
     "library": "var_list.r",
     "varRefreshCmd": "cat(var_dic_list()) "
    }
   },
   "types_to_exclude": [
    "module",
    "function",
    "builtin_function_or_method",
    "instance",
    "_Feature"
   ],
   "window_display": true
  }
 },
 "nbformat": 4,
 "nbformat_minor": 4
}
