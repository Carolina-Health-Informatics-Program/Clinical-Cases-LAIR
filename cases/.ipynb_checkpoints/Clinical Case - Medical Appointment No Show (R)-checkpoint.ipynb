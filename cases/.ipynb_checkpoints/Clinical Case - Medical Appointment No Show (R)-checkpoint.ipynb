{
 "cells": [
  {
   "cell_type": "markdown",
   "metadata": {
    "heading_collapsed": true
   },
   "source": [
    "# Introduction"
   ]
  },
  {
   "cell_type": "markdown",
   "metadata": {
    "cell_style": "center",
    "hidden": true
   },
   "source": [
    "<p align=\"justify\">Welcome! In this case we'll be exploring how to use advanced analytic and machine learning techniques to predict medical appointment no-shows. \n",
    "<br>\n",
    "<br>\n",
    "<details>\n",
    "<summary>Some of the skills you'll explore are (Click to Expand):</summary>\n",
    "<ul>\n",
    "    <li>R Programming</li>\n",
    "    <li>Data Cleaning</li>\n",
    "    <li>Descriptive Analysis</li>\n",
    "    <li>Data Visualization</li>\n",
    "    <li>Leveraging Domain Knowledge</li>\n",
    "    <li>Machine Learning</li>\n",
    "    <li>Decision Trees</li>\n",
    "</details><br>\n",
    "Don't worry if you're unsure what some of these terms are. They'll be explained throughout the case. Let's begin! \n",
    "<img src=\"https://i.stack.imgur.com/zlAi2.png\" style=\"float: left; width: 32%; margin-right: 1%; margin-bottom: 0.5em;\">\n",
    "<img src=\"http://cran.uvigo.es/Rlogo.svg\" style=\"float: left; width: 25%; margin-bottom: 0.5em;\">\n",
    "<img src=\"https://www.displayr.com/wp-content/uploads/2018/09/Untitled-design-10.png\" style=\"float: left; width: 31%; margin-left: 5%; margin-bottom: 0.5em;\">"
   ]
  },
  {
   "cell_type": "markdown",
   "metadata": {
    "heading_collapsed": true,
    "hidden": true
   },
   "source": [
    "## Case Scenario"
   ]
  },
  {
   "cell_type": "markdown",
   "metadata": {
    "hidden": true
   },
   "source": [
    "Imagine you work on the administrative staff for a small, family medicine clinic. Recently, business has been tough. The clinic is struggling to remain financially viable. The providers are already working at capacity and are unable to see any more patients. \n",
    "\n",
    "<img width=\"400\" height=325 src=\"https://www.usnews.com/dims4/USNEWS/e55fe58/2147483647/crop/825x541%2B0%2B0/resize/640x420/quality/85/?url=https%3A%2F%2Fmedia.beam.usnews.com%2F1a%2F57%2Fd6439f0248f3825a6f3176017230%2F140326-hospitalreceptiondesk-stock.jpg\">\n",
    "\n",
    "While the clinic staff is small, they're a dedicated group. If they can predict which patients will likely be no-shows, they can target these patients with interventions such as reminders or phone calls prior to their appointments. This can increase revenue without increasing each provider's census. Will analytics and machine learning be able to predict no-shows and keep this clinic open?\n",
    "\n",
    "Continue through the case to find out. "
   ]
  },
  {
   "cell_type": "markdown",
   "metadata": {
    "heading_collapsed": true,
    "hidden": true
   },
   "source": [
    "### Extra: Why do we care about no-shows?"
   ]
  },
  {
   "cell_type": "markdown",
   "metadata": {
    "hidden": true
   },
   "source": [
    "A patient no-show is defined as a missed patient appointment where the patient was scheduled, but did not appear for their medical appointment, and made no prior contact with the clinical staff. \n",
    "Medical appointment no shows are a serious issue across all type of medical practices, specialties, locations, and medical practice models. This is an endemic issue that is estimated to cost the healthcare industry $150 billion annually. \n",
    "\n",
    "<p align=\"center\">\n",
    "  <img width=\"400\" height=\"200\" src=\"https://www.carecloud.com/continuum/wp-content/uploads/2011/05/patient-no-show-cost-400x201.jpg\">\n",
    "</p>\n",
    "\n",
    "It's estimated that for every appointment no show: \n",
    "- Primary care physcians lose close to 150 - 200 USD in revenue\n",
    "- Surgeons lose close to 500 USD in revenue\n",
    "- Patient who no-show are more likely to require expensive emergency care down the road. This increases healthcare cost for everyone. \n",
    "\n",
    "Already the healthcare industry is attempting to decrease no-shows through leveraging technology and innovative practice methods. However, this is still an endemic problem. Any algorithm which could reliably predict no-shows could improves costs and outcomes."
   ]
  },
  {
   "cell_type": "markdown",
   "metadata": {
    "heading_collapsed": true,
    "hidden": true
   },
   "source": [
    "## How To Run The Case (Do Not Skip)"
   ]
  },
  {
   "cell_type": "markdown",
   "metadata": {
    "hidden": true
   },
   "source": [
    "Before we begin the case, we need to know how to use Jupyter Notebook and run the case. First, look for the the `Run` button. The location of the `Run` button is shown below and can be found in the tool bar above. "
   ]
  },
  {
   "cell_type": "markdown",
   "metadata": {
    "cell_style": "center",
    "hidden": true
   },
   "source": [
    "\n",
    "<img src=\"https://i.imgur.com/jr4dpLW.png\">"
   ]
  },
  {
   "cell_type": "markdown",
   "metadata": {
    "hidden": true
   },
   "source": [
    "The cell below is a code cell. You will be running numerous code cells like the one below throughout the case. Select the cell and select the run button above. "
   ]
  },
  {
   "cell_type": "code",
   "execution_count": null,
   "metadata": {
    "ExecuteTime": {
     "end_time": "2020-03-19T17:11:26.939381Z",
     "start_time": "2020-03-19T17:11:26.864Z"
    },
    "cell_style": "center",
    "hidden": true
   },
   "outputs": [],
   "source": [
    "# This is an example of a code cell\n",
    "cat('Congratulations! \\n')\n",
    "cat('You\\'ve run your first code cell.\\n')\n"
   ]
  },
  {
   "cell_type": "markdown",
   "metadata": {
    "hidden": true
   },
   "source": [
    "<img width = 50 height = 50 style=\"float: left; margin-right: 10px;\" src=\"https://upload.wikimedia.org/wikipedia/commons/b/b9/Stop_sign_dark_red.svg\">Stop! If you have not learned to run a code cell, restart this section. You will not be able to go through the case at all if you are unable to run code cells. Otherwise, it's time to meet our data!"
   ]
  },
  {
   "cell_type": "markdown",
   "metadata": {
    "heading_collapsed": true,
    "hidden": true
   },
   "source": [
    "## Meeting Our Data"
   ]
  },
  {
   "cell_type": "markdown",
   "metadata": {
    "hidden": true
   },
   "source": [
    "We'll be using a deidentified set of Brazilian patient data made available on [kaggle](https://www.kaggle.com/joniarroba/noshowappointments). The data include basic demographic, geographic, and clinical information. Most importantly, it also includes data pertaining to clinic visits. Kaggle is an online data science and machine learning community. \n",
    "\n",
    "<img src=\"https://miro.medium.com/max/1200/0*ftOal7fKVCNtJr4N.png\" style=\"float: center; width: 65%\">\n",
    "\n",
    "Through our case we will be evaluating whether patients showed or no showed to their medical appointment. It also includes several characteristics of each patients such as age, gender, and several comorbidities. "
   ]
  },
  {
   "cell_type": "markdown",
   "metadata": {
    "heading_collapsed": true,
    "hidden": true
   },
   "source": [
    "### Data First Look"
   ]
  },
  {
   "cell_type": "markdown",
   "metadata": {
    "hidden": true
   },
   "source": [
    "Lets get a first glimpse of our data."
   ]
  },
  {
   "cell_type": "code",
   "execution_count": null,
   "metadata": {
    "ExecuteTime": {
     "end_time": "2020-03-19T17:11:28.429262Z",
     "start_time": "2020-03-19T17:11:26.872Z"
    },
    "hidden": true
   },
   "outputs": [],
   "source": [
    "no_show_data <- read.csv(file=\"data/med_no_show.csv\",  encoding=\"UTF-8\", header=TRUE, sep=\",\")\n",
    "head(no_show_data)"
   ]
  },
  {
   "cell_type": "markdown",
   "metadata": {
    "hidden": true
   },
   "source": [
    "What do you notice? Do you notice anything unusual about the data? Don't worry if you don't notice anything. We will be getting to know our data better as we go through the case. "
   ]
  },
  {
   "cell_type": "markdown",
   "metadata": {
    "heading_collapsed": true,
    "hidden": true
   },
   "source": [
    "### Data Variable Information (Consulting the Data Dictionary)"
   ]
  },
  {
   "cell_type": "markdown",
   "metadata": {
    "hidden": true
   },
   "source": [
    "There are several variables or labels which you might not understand. The way to combat this is by consulting the data dictionary. \n",
    "\n",
    "> A data dictionary describes a dataset and provides information on the meaning of each variable. Always look for documentation or a data dictionary before starting an analysis."
   ]
  },
  {
   "cell_type": "markdown",
   "metadata": {
    "hidden": true
   },
   "source": [
    "A data dictionary is provided on the [kaggle page](https://www.kaggle.com/joniarroba/noshowappointments) where the data is hosted. The data dictionary has also been reproduced below for your convenience. However, you may notice some of the data dictionary labels are not in Portuguese instead of English. Below is an English recreation of the data dictionary with edited grammar and context for ease of reading in English."
   ]
  },
  {
   "cell_type": "markdown",
   "metadata": {
    "hidden": true
   },
   "source": [
    "<center>\n",
    "\n",
    "| *Variable*        | *Definition*                                                            |\n",
    "| ----------------- | ----------------------------------------------------------------------- |\n",
    "| PatientId         | Identification of a patient                                             |\n",
    "| AppointmentID     | Identification of each appointment                                      |\n",
    "| Gender            | Male or Female                                                          | \n",
    "| ScheduledDay      | The day of the actual appointment, when they have to visit the doctor   |\n",
    "| AppointmentDay    | The day someone called or registered the appointment                    |\n",
    "| Age               | How old is the patient                                                  |\n",
    "| Neighbourhood     | Where the appointment takes place                                       |\n",
    "| Scholarship       | True or False, are they enrolled in Bolsa Familia low-income subsidy program [More Info](https://en.wikipedia.org/wiki/Bolsa_Fam%C3%ADlia)                                 |\n",
    "| Hypertension      | True or False, if patient has hypertension                              |\n",
    "| Diabetes          | True or False, if the patient has diabetes                              |\n",
    "| Alcoholism        | True or False, if the patient has alcoholism                            |\n",
    "| Handicap          | # of handicaps a person has                                             |\n",
    "| SMS-received      | True or False, one or more SMS message sent to the patient              |      \n",
    "| No.show           | True or False, patient did not show to their medical appointment        |\n",
    "\n",
    "</center>"
   ]
  },
  {
   "cell_type": "markdown",
   "metadata": {
    "heading_collapsed": true
   },
   "source": [
    "# Setup (Do Not Skip)"
   ]
  },
  {
   "cell_type": "markdown",
   "metadata": {
    "hidden": true
   },
   "source": [
    "The code below will set up specific settings for the case to run properly. Do not worry if you do not understand what the code is doing, this will not impact your understanding of the case. Run the code below to complete the setup for the case. Do not skip this step!"
   ]
  },
  {
   "cell_type": "code",
   "execution_count": null,
   "metadata": {
    "ExecuteTime": {
     "end_time": "2020-03-19T17:11:32.425462Z",
     "start_time": "2020-03-19T17:11:26.879Z"
    },
    "hidden": true
   },
   "outputs": [],
   "source": [
    "# Increase max number of columns displayed in output tables\n",
    "options(repr.matrix.max.cols = 2000)\n",
    "cat('Setup complete!')\n",
    "\n",
    "# Calling external libraries for additional functionality\n",
    "suppressMessages(library(tidyverse))\n",
    "suppressMessages(library(randomForest))\n",
    "suppressMessages(library(forcats))\n",
    "suppressMessages(library(cowplot))\n",
    "suppressMessages(library(lubridate))\n",
    "suppressMessages(library(caret))\n",
    "suppressMessages(library(e1071))\n",
    "suppressMessages(library(pROC))\n",
    "suppressMessages(library(rpart))\n",
    "suppressMessages(library(rpart.plot))\n",
    "\n",
    "# Create function to test model\n",
    "test_model <- function(features){\n",
    "    # setup model\n",
    "    total_variables <- append(features,\"no_show\")\n",
    "    play_trainingData <- subset(training_data,select = total_variables)\n",
    "    play_testData <- subset(test_data,select = total_variables)\n",
    "    \n",
    "    # Train Decision Tree\n",
    "    caseweights <- ifelse(training_data$no_show == 'Yes', 4, 1)\n",
    "    train_decision_tree <- rpart(no_show~., data=play_trainingData, method = 'class',\n",
    "                                 control = rpart.control(minsplit=20, minbucket=1, cp = 0.005), \n",
    "                                 weights = caseweights)\n",
    "\n",
    "    # Plot Decision Tree\n",
    "    rpart.plot(train_decision_tree)\n",
    "    # Make prediction\n",
    "    test_decision_tree <- predict(train_decision_tree, play_testData, type = 'class')\n",
    "    # Display Confusion Matrix\n",
    "    cm <- confusionMatrix(test_decision_tree, play_testData$no_show, positive = 'Yes')\n",
    "    print(cm)\n",
    "    ROC <- roc(response = play_testData$no_show, predictor = factor(test_decision_tree, \n",
    "                                                           ordered = TRUE, \n",
    "                                                           levels = c('No', 'Yes')))\n",
    "\n",
    "    # Plot ROC with ggplot2\n",
    "    plot_ROC <- ggroc(ROC)\n",
    "    print(plot_ROC)\n",
    "    # Calculate the area under the curve (AUC)\n",
    "    cat('AUC:', round(auc(ROC), 2))\n",
    "    \n",
    "    df <- data.frame(train_decision_tree$variable.importance)\n",
    "    df2 <- df %>% \n",
    "        tibble::rownames_to_column() %>% \n",
    "        dplyr::rename(\"variable\" = rowname) %>% \n",
    "        dplyr::arrange(train_decision_tree$variable.importance) %>%\n",
    "        dplyr::mutate(variable = forcats::fct_inorder(variable))\n",
    "    ggplot2::ggplot(df2) +\n",
    "        geom_col(aes(x = reorder(variable, train_decision_tree$variable.importance), y = train_decision_tree$variable.importance),\n",
    "               col = \"black\", show.legend = F) +\n",
    "        coord_flip() +\n",
    "        scale_fill_grey() +\n",
    "        theme_bw()\n",
    "}\n",
    "\n",
    "set.seed(10) # Seeding so we obtain the same outcome when we randomly sample"
   ]
  },
  {
   "cell_type": "markdown",
   "metadata": {
    "hidden": true
   },
   "source": [
    "><img width = 50 height = 50 style=\"float: left; margin-right: 10px;\" src=\"https://upload.wikimedia.org/wikipedia/commons/b/b9/Stop_sign_dark_red.svg\">Stop! If you have not run the code cell above, please do so. The case will not work properly if you do not complete the setup. Otherwise, lets begin!"
   ]
  },
  {
   "cell_type": "markdown",
   "metadata": {
    "heading_collapsed": true
   },
   "source": [
    "# Cleaning our Data"
   ]
  },
  {
   "cell_type": "markdown",
   "metadata": {
    "hidden": true
   },
   "source": [
    "The first step in any analytic project is to clean our data. This is a critical step which will ensure our data is correct, consistent, and ready for analysis. If we do not properly process our data, we will not able to analyze it effectively regardless of how advanced our analytic technique is. A common saying in data analysis is \"Junk in, Junk out\". "
   ]
  },
  {
   "cell_type": "markdown",
   "metadata": {
    "heading_collapsed": true,
    "hidden": true
   },
   "source": [
    "## Reading our data"
   ]
  },
  {
   "cell_type": "markdown",
   "metadata": {
    "hidden": true
   },
   "source": [
    "We'll begin by reading in our data. This means we will be loading the data onto the system so R can understand the data. "
   ]
  },
  {
   "cell_type": "code",
   "execution_count": null,
   "metadata": {
    "ExecuteTime": {
     "end_time": "2020-03-19T17:11:34.008046Z",
     "start_time": "2020-03-19T17:11:26.884Z"
    },
    "cell_style": "center",
    "hidden": true
   },
   "outputs": [],
   "source": [
    "# Note: Unicode Transformation Format – 8 (UTF-8) is a standard to encode characters in different languages\n",
    "cat('Data loading, please wait\\n')\n",
    "no_show_data <- read.csv(file=\"data/med_no_show.csv\",  encoding=\"UTF-8\", header=TRUE, sep=\",\")\n",
    "cat('Data loaded!')"
   ]
  },
  {
   "cell_type": "markdown",
   "metadata": {
    "heading_collapsed": true,
    "hidden": true
   },
   "source": [
    "## Inspecting our Data"
   ]
  },
  {
   "cell_type": "markdown",
   "metadata": {
    "hidden": true
   },
   "source": [
    "Now lets get an overview of our data"
   ]
  },
  {
   "cell_type": "code",
   "execution_count": null,
   "metadata": {
    "ExecuteTime": {
     "end_time": "2020-03-19T17:11:34.038344Z",
     "start_time": "2020-03-19T17:11:26.889Z"
    },
    "hidden": true
   },
   "outputs": [],
   "source": [
    "head(no_show_data)"
   ]
  },
  {
   "cell_type": "markdown",
   "metadata": {
    "hidden": true
   },
   "source": [
    "You'll immediately notice some of the results are in a foreign language or in an unfriendly format. This data is derived from deidentified Brazilian patients. We'll need to make this data formatted correctly, easily interpretable, and easily understood by an English audience. We have our work cut out for us but it will be worth it when we analyze the data!"
   ]
  },
  {
   "cell_type": "markdown",
   "metadata": {
    "heading_collapsed": true,
    "hidden": true
   },
   "source": [
    "## Recoding Variables"
   ]
  },
  {
   "cell_type": "markdown",
   "metadata": {
    "hidden": true
   },
   "source": [
    "Sometimes the data you receive may be coded in such a way that is not easily understandable. Recoding the data (turning the data into a more easily human readable format) can help make your analysis quicker and smoother. Lets give our variable names easily understood labels. "
   ]
  },
  {
   "cell_type": "code",
   "execution_count": null,
   "metadata": {
    "ExecuteTime": {
     "end_time": "2020-03-19T17:11:34.078369Z",
     "start_time": "2020-03-19T17:11:26.894Z"
    },
    "code_folding": [],
    "hidden": true
   },
   "outputs": [],
   "source": [
    "# Renaming Variables\n",
    "names(no_show_data)[names(no_show_data) == 'PatientId'] <- 'patient_id'\n",
    "names(no_show_data)[names(no_show_data) == 'AppointmentID'] <- 'appointment_id'\n",
    "names(no_show_data)[names(no_show_data) ==  'Gender'] <- 'gender'\n",
    "names(no_show_data)[names(no_show_data) == 'ScheduledDay'] <- 'scheduled_day'\n",
    "names(no_show_data)[names(no_show_data) == 'AppointmentDay'] <- 'appointment_day'\n",
    "names(no_show_data)[names(no_show_data) == 'Age'] <- 'age'\n",
    "names(no_show_data)[names(no_show_data) == 'Neighbourhood'] <- 'neighborhood'\n",
    "names(no_show_data)[names(no_show_data) == 'Scholarship'] <- 'enroll_subsidy'\n",
    "names(no_show_data)[names(no_show_data) == 'Hipertension'] <- 'hypertension'\n",
    "names(no_show_data)[names(no_show_data) == 'Diabetes'] <- 'diabetes'\n",
    "names(no_show_data)[names(no_show_data) == 'Alcoholism'] <- 'alcoholism'\n",
    "names(no_show_data)[names(no_show_data) == 'Handcap'] <- 'handicap'\n",
    "names(no_show_data)[names(no_show_data) == 'SMS_received'] <- 'sms_received'\n",
    "names(no_show_data)[names(no_show_data) == 'No.show'] <- 'no_show'\n",
    "\n",
    "cat('Variables renamed.')"
   ]
  },
  {
   "cell_type": "markdown",
   "metadata": {
    "hidden": true
   },
   "source": [
    "We now need to recode many of our variables into meaningful outputs. For instance, we will code the variable `hypertension`. If `hypertension` has a value of `1` then we code the variable as `Has hypertension`. If `hypertension` has a value of `0` then we code the variable as `No hypertension`. "
   ]
  },
  {
   "cell_type": "code",
   "execution_count": null,
   "metadata": {
    "ExecuteTime": {
     "end_time": "2020-03-19T17:11:34.441058Z",
     "start_time": "2020-03-19T17:11:26.899Z"
    },
    "hidden": true
   },
   "outputs": [],
   "source": [
    "# Recoding Variables\n",
    "# Convert to character so can be recoded\n",
    "no_show_data$enroll_subsidy <- as.character(no_show_data$enroll_subsidy)\n",
    "no_show_data$enroll_subsidy[no_show_data$enroll_subsidy == '1'] <- 'Enrolled'\n",
    "no_show_data$enroll_subsidy[no_show_data$enroll_subsidy == '0'] <- 'Not enrolled'\n",
    "no_show_data$enroll_subsidy <- as.factor(no_show_data$enroll_subsidy)\n",
    "\n",
    "no_show_data$hypertension <- as.character(no_show_data$hypertension)\n",
    "no_show_data$hypertension[no_show_data$hypertension == '1'] <- 'Has hypertension'\n",
    "no_show_data$hypertension[no_show_data$hypertension == '0'] <- 'No hypertension'\n",
    "no_show_data$hypertension <- as.factor(no_show_data$hypertension)\n",
    "\n",
    "no_show_data$diabetes <- as.character(no_show_data$diabetes)\n",
    "no_show_data$diabetes[no_show_data$diabetes == '1'] <- 'Has diabetes'\n",
    "no_show_data$diabetes[no_show_data$diabetes == '0'] <- 'No diabetes'\n",
    "no_show_data$diabetes <- as.factor(no_show_data$diabetes)\n",
    "\n",
    "no_show_data$sms_received <- as.character(no_show_data$sms_received)\n",
    "no_show_data$sms_received[no_show_data$sms_received == '1'] <- 'Yes'\n",
    "no_show_data$sms_received[no_show_data$sms_received == '0'] <- 'No'\n",
    "no_show_data$sms_received <- as.factor(no_show_data$sms_received)\n",
    "\n",
    "cat('Variables recoded')"
   ]
  },
  {
   "cell_type": "markdown",
   "metadata": {
    "hidden": true
   },
   "source": [
    "Let confirm our changes"
   ]
  },
  {
   "cell_type": "code",
   "execution_count": null,
   "metadata": {
    "ExecuteTime": {
     "end_time": "2020-03-19T17:11:34.477715Z",
     "start_time": "2020-03-19T17:11:26.903Z"
    },
    "hidden": true
   },
   "outputs": [],
   "source": [
    "head(no_show_data[c('enroll_subsidy', 'hypertension', 'diabetes', 'sms_received')])"
   ]
  },
  {
   "cell_type": "markdown",
   "metadata": {
    "hidden": true
   },
   "source": [
    "It look like our changes were successful. We now need to correctly categorize our data as either numeric or categorical. "
   ]
  },
  {
   "cell_type": "markdown",
   "metadata": {
    "hidden": true,
    "solution2": "hidden",
    "solution2_first": true
   },
   "source": [
    "**Pre-Check:** What is the difference between a numeric and categorical variable?"
   ]
  },
  {
   "cell_type": "markdown",
   "metadata": {
    "hidden": true,
    "solution2": "hidden"
   },
   "source": [
    "- **Numeric:** variables whose values are whole numbers (ie. numbers, percents)\n",
    "- **Categorical:** variables whose values are selected from a group (ie. dog breeds, male/female) \n",
    "\n",
    "> Note R calls categorical variables **Factors**"
   ]
  },
  {
   "cell_type": "code",
   "execution_count": null,
   "metadata": {
    "ExecuteTime": {
     "end_time": "2020-03-19T17:11:34.528504Z",
     "start_time": "2020-03-19T17:11:26.910Z"
    },
    "hidden": true
   },
   "outputs": [],
   "source": [
    "no_show_data$enroll_subsidy <- as.factor(no_show_data$enroll_subsidy)\n",
    "no_show_data$hypertension <- as.factor(no_show_data$hypertension)\n",
    "no_show_data$diabetes <- as.factor(no_show_data$diabetes)\n",
    "no_show_data$alcoholism <- as.factor(no_show_data$alcoholism)\n",
    "no_show_data$handicap <- as.factor(no_show_data$handicap)\n",
    "no_show_data$sms_received <- as.factor(no_show_data$sms_received)\n",
    "\n",
    "cat('Conversion complete!')"
   ]
  },
  {
   "cell_type": "markdown",
   "metadata": {
    "heading_collapsed": true,
    "hidden": true
   },
   "source": [
    "## Dealing with Date and Time Data"
   ]
  },
  {
   "cell_type": "markdown",
   "metadata": {
    "hidden": true
   },
   "source": [
    "Our data also contains time and date data. Temporal data is particularly tricky to deal with. Lets get an overview of our data again."
   ]
  },
  {
   "cell_type": "code",
   "execution_count": null,
   "metadata": {
    "ExecuteTime": {
     "end_time": "2020-03-19T17:11:34.555464Z",
     "start_time": "2020-03-19T17:11:26.915Z"
    },
    "hidden": true
   },
   "outputs": [],
   "source": [
    "head(no_show_data[c('scheduled_day', 'appointment_day')])"
   ]
  },
  {
   "cell_type": "markdown",
   "metadata": {
    "hidden": true
   },
   "source": [
    "Notice that the time and dates have `T` and `Z` characters spread out throughout their entries. Lets get rid of these characters."
   ]
  },
  {
   "cell_type": "code",
   "execution_count": null,
   "metadata": {
    "ExecuteTime": {
     "end_time": "2020-03-19T17:11:34.923580Z",
     "start_time": "2020-03-19T17:11:26.919Z"
    },
    "hidden": true
   },
   "outputs": [],
   "source": [
    "no_show_data$scheduled_day <- str_replace(no_show_data$scheduled_day,\"T\",\" \")\n",
    "no_show_data$scheduled_day <- str_replace(no_show_data$scheduled_day,\"Z\",\"\")\n",
    "no_show_data$appointment_day <- str_replace(no_show_data$appointment_day,\"T\",\" \")\n",
    "no_show_data$appointment_day <- str_replace(no_show_data$appointment_day,\"Z\",\"\")\n",
    "\n",
    "cat('Character removed')"
   ]
  },
  {
   "cell_type": "markdown",
   "metadata": {
    "hidden": true
   },
   "source": [
    "Now lets convert these variables into the correct format. We will be converting these variables into a variable type called datetime variables. These are simply variables that include both time and date in a single variable.  "
   ]
  },
  {
   "cell_type": "code",
   "execution_count": null,
   "metadata": {
    "ExecuteTime": {
     "end_time": "2020-03-19T17:11:35.298506Z",
     "start_time": "2020-03-19T17:11:26.922Z"
    },
    "hidden": true
   },
   "outputs": [],
   "source": [
    "# Coversion to datetime, note tz specifies time zone\n",
    "no_show_data$scheduled_day <- as.POSIXct(no_show_data$scheduled_day, tz = 'UTC')\n",
    "no_show_data$appointment_day <- as.POSIXct(no_show_data$appointment_day, tz = 'UTC')\n",
    "\n",
    "cat('Conversion completed')"
   ]
  },
  {
   "cell_type": "markdown",
   "metadata": {
    "hidden": true
   },
   "source": [
    "We now have cleaned data for both the appointment and scheduled days. Knowing the time difference between the scheduled day and appointment day would also be useful information. We would suspect that a longer lag between scheduled days and appointment days would be more likely to no show. Lets create the time difference variable now. We will name this variable `delta_days`."
   ]
  },
  {
   "cell_type": "code",
   "execution_count": null,
   "metadata": {
    "ExecuteTime": {
     "end_time": "2020-03-19T17:11:36.121893Z",
     "start_time": "2020-03-19T17:11:26.926Z"
    },
    "hidden": true
   },
   "outputs": [],
   "source": [
    "# Add 23:59:59 to the appointment days\n",
    "no_show_data$appointment_day = no_show_data$appointment_day+ddays(1)-dseconds(1)\n",
    "\n",
    "# Create delta_days variable (difference between appointment days and scheduled days)\n",
    "no_show_data <- subset(no_show_data,no_show_data$appointment_day>no_show_data$scheduled_day)\n",
    "no_show_data$delta_days=(no_show_data$scheduled_day %--% no_show_data$appointment_day)%/% seconds(1)/(60*60*24)"
   ]
  },
  {
   "cell_type": "markdown",
   "metadata": {
    "hidden": true
   },
   "source": [
    "We have no successfully created the `delta_days` variable. This variable is what is known as a derived variable. This means that this variable was created by us rather than being part of the original dataset. A critical part of data analytics is determining whether there are any useful derived variables that can be created from the original data.  "
   ]
  },
  {
   "cell_type": "markdown",
   "metadata": {
    "heading_collapsed": true,
    "hidden": true
   },
   "source": [
    "## Checking for Missing Values"
   ]
  },
  {
   "cell_type": "markdown",
   "metadata": {
    "hidden": true
   },
   "source": [
    "Next, we will check for missing values. Missing values may unknowingly influence our results. For instance, if the missing data differs from the non-missing data in a significant way, this could lead you to draw erroneous conclusions from incomplete data. \n",
    "\n",
    "Let's determine the number of missing for each variable"
   ]
  },
  {
   "cell_type": "code",
   "execution_count": null,
   "metadata": {
    "ExecuteTime": {
     "end_time": "2020-03-19T17:11:36.160600Z",
     "start_time": "2020-03-19T17:11:26.931Z"
    },
    "hidden": true
   },
   "outputs": [],
   "source": [
    "# Determine number of missing for each variable\n",
    "cat('Number of Missing Data for Each Variable:')\n",
    "sapply(no_show_data, function(x) sum(is.na(x)))"
   ]
  },
  {
   "cell_type": "markdown",
   "metadata": {
    "hidden": true
   },
   "source": [
    "No missing data! This will rarely happen. It's more likely there are erroneous values that our program is not picking up as errors. "
   ]
  },
  {
   "cell_type": "code",
   "execution_count": null,
   "metadata": {
    "ExecuteTime": {
     "end_time": "2020-03-19T17:11:36.249108Z",
     "start_time": "2020-03-19T17:11:26.935Z"
    },
    "hidden": true
   },
   "outputs": [],
   "source": [
    "summary(no_show_data[,-c(1,2)])"
   ]
  },
  {
   "cell_type": "markdown",
   "metadata": {
    "hidden": true
   },
   "source": [
    "For instance, in `age` we can see someone that is -1 years old and 115 years old. These are highly unlikely values. Lets remove implausible values. We will then classify these implausible values in a format our program can recognize. Based on observation, we can make these initial judgements:\n",
    "\n",
    "**Age:**\n",
    "- It's physiologically implausible for an individual to be -1 years old and highly unlikely for an individuals to be 115 years old. This is likely an input error. \n",
    "\n",
    "Lets examine `age` more closely"
   ]
  },
  {
   "cell_type": "code",
   "execution_count": null,
   "metadata": {
    "ExecuteTime": {
     "end_time": "2020-03-19T17:11:36.298798Z",
     "start_time": "2020-03-19T17:11:26.939Z"
    },
    "hidden": true
   },
   "outputs": [],
   "source": [
    "cat('Age:')\n",
    "quantile(no_show_data$age, c(0, .01, .05, .10, .25, .50, .75, .90, .95, .99, 1), \n",
    "         na.rm = TRUE)"
   ]
  },
  {
   "cell_type": "markdown",
   "metadata": {
    "hidden": true
   },
   "source": [
    "Once again, ages below 0 are impossible and ages above 100 are unlikely given the trends in our data. Lets remove these values. "
   ]
  },
  {
   "cell_type": "code",
   "execution_count": null,
   "metadata": {
    "ExecuteTime": {
     "end_time": "2020-03-19T17:11:36.327713Z",
     "start_time": "2020-03-19T17:11:26.943Z"
    },
    "hidden": true
   },
   "outputs": [],
   "source": [
    "no_show_data$age[no_show_data$age < 0 | no_show_data$age > 100] <- NA\n",
    "\n",
    "cat('Data edited')"
   ]
  },
  {
   "cell_type": "markdown",
   "metadata": {
    "hidden": true
   },
   "source": [
    "Lets confirm"
   ]
  },
  {
   "cell_type": "code",
   "execution_count": null,
   "metadata": {
    "ExecuteTime": {
     "end_time": "2020-03-19T17:11:36.366668Z",
     "start_time": "2020-03-19T17:11:26.947Z"
    },
    "hidden": true
   },
   "outputs": [],
   "source": [
    "cat('Number of Missing Data for Each Variable:')\n",
    "sapply(no_show_data, function(x) sum(is.na(x)))"
   ]
  },
  {
   "cell_type": "markdown",
   "metadata": {
    "hidden": true
   },
   "source": [
    "Better although it looks like we still have unusually clean data. Not a bad problem to have!"
   ]
  },
  {
   "cell_type": "markdown",
   "metadata": {
    "heading_collapsed": true,
    "hidden": true
   },
   "source": [
    "## Creating Day of Week"
   ]
  },
  {
   "cell_type": "markdown",
   "metadata": {
    "hidden": true
   },
   "source": [
    "Thanks to our time data, we can extract some more useful information. We can use our date data to determine the day of the week the appointment occurred. Lets create a variable with data called `appt_day_of_week`. "
   ]
  },
  {
   "cell_type": "code",
   "execution_count": null,
   "metadata": {
    "ExecuteTime": {
     "end_time": "2020-03-19T17:11:36.662586Z",
     "start_time": "2020-03-19T17:11:26.951Z"
    },
    "hidden": true
   },
   "outputs": [],
   "source": [
    "no_show_data$appt_day_of_week <- weekdays(no_show_data$appointment_day)\n",
    "no_show_data$appt_day_of_week <- as.factor(no_show_data$appt_day_of_week)\n",
    "\n",
    "cat('Variable appt_day_of_week created')"
   ]
  },
  {
   "cell_type": "markdown",
   "metadata": {
    "ExecuteTime": {
     "end_time": "2019-10-24T18:20:03.591316Z",
     "start_time": "2019-10-24T18:19:58.299Z"
    },
    "hidden": true
   },
   "source": [
    "Many times you can use your given data to extract even more useful data. Be on the lookout for these opportunities. The more **relevant** data you can extract, the better. "
   ]
  },
  {
   "cell_type": "markdown",
   "metadata": {
    "heading_collapsed": true
   },
   "source": [
    "# Exploratory Analysis"
   ]
  },
  {
   "cell_type": "markdown",
   "metadata": {
    "hidden": true
   },
   "source": [
    "Now that we've cleaned our data we can begin exploring our data and selecting variables (also known as features) which we predict will be good candidates for our predictive model. How will we know which features are good candidates? One way we can quantitatively assess our variables is through descriptive analysis and data visualization. We will explore our data based on their data type (quantitative or categorical). "
   ]
  },
  {
   "cell_type": "markdown",
   "metadata": {
    "heading_collapsed": true,
    "hidden": true
   },
   "source": [
    "### Why Can't We Just Use More Variables?"
   ]
  },
  {
   "cell_type": "markdown",
   "metadata": {
    "hidden": true
   },
   "source": [
    "One issue you might be wondering about is why do we even need to select variables. Why not just use all of the variables? After all, more data lead to better models right? This is a common misconception that even experience analysts need to watch out for. Including too many features in your prediction model can lead to what is known as 'overfitting'. Overfitting is essentially where you build a model that adheres too closely to your current data set and is unable to predict observations that are not from your current data set. In other words, its where you develop a model that tuned too closely to your current data, and is not generalizable to outside data sources. \n",
    "\n",
    "<img src=\"https://3gp10c1vpy442j63me73gy3s-wpengine.netdna-ssl.com/wp-content/uploads/2018/03/Screen-Shot-2018-03-22-at-11.22.15-AM-e1527613915658.png\" align=\"center\" style=\"width: 50%; margin-bottom: 0.5em; margin-top: 0.5em;\">"
   ]
  },
  {
   "cell_type": "markdown",
   "metadata": {
    "hidden": true
   },
   "source": [
    "The boxplot divides data into division known as quartiles. The first quartile (Q1) corresponds to the 25th percentile of the data. The second quartile (Q2) corresponds to the 50th percentile of the data. This is also the median. The third quartile (Q3) corresponds to the 75 percentile of the data. The lines on the box represent Q1, the median, and Q3. The tails or 'whiskers' of the plots represent 1.5 * IQR above and below the Q1 and Q3. \n",
    "\n",
    "<img src=\"https://miro.medium.com/max/1200/1*2c21SkzJMf3frPXPAR_gZA.png\" align=\"center\" style=\"width: 70%; margin-bottom: 0.5em; margin-top: 0.5em;\">"
   ]
  },
  {
   "cell_type": "markdown",
   "metadata": {
    "heading_collapsed": true,
    "hidden": true
   },
   "source": [
    "## Assessing Numeric Variables"
   ]
  },
  {
   "cell_type": "markdown",
   "metadata": {
    "hidden": true
   },
   "source": [
    "First we will examine the quantitative or numeric variables. The code below will give us an overview of the structure of our data. Look for variables with the label `int` or `num`. These are two kinds of quantitative variables in R. "
   ]
  },
  {
   "cell_type": "code",
   "execution_count": null,
   "metadata": {
    "ExecuteTime": {
     "end_time": "2020-03-19T17:11:36.712766Z",
     "start_time": "2020-03-19T17:11:26.959Z"
    },
    "hidden": true
   },
   "outputs": [],
   "source": [
    "str(no_show_data)"
   ]
  },
  {
   "cell_type": "markdown",
   "metadata": {
    "hidden": true
   },
   "source": [
    "We can see that our only numeric variable are `age` and `delta_days`. Lets examine their distribution.  "
   ]
  },
  {
   "cell_type": "code",
   "execution_count": null,
   "metadata": {
    "ExecuteTime": {
     "end_time": "2020-03-19T17:11:40.238323Z",
     "start_time": "2020-03-19T17:11:26.963Z"
    },
    "hidden": true
   },
   "outputs": [],
   "source": [
    "### Age ###\n",
    "# Create Plot\n",
    "age_plot <- ggplot(no_show_data, aes(x=age)) +\n",
    "geom_histogram(alpha = 0.5, position = 'identity', bins=15, color ='black ', fill='light blue') +\n",
    "labs(x='Age (years)', y='Frequency Count', caption = 'Dashed Line Represents Median Age')\n",
    "\n",
    "# Display + Median Line\n",
    "age_plot + geom_vline(aes(xintercept=median(age, na.rm=TRUE)),\n",
    "            color=\"blue\", linetype=\"dashed\", size=1)\n",
    "\n",
    "### Delta Days ###\n",
    "# Create Plot\n",
    "delta_days_plot <- ggplot(no_show_data, aes(x=delta_days)) +\n",
    "geom_histogram(alpha = 0.5, position = 'identity', bins=15, color ='black ', fill='light blue') +\n",
    "labs(x='Time Difference (days)', y='Frequency Count', caption = 'Dashed Line Represents Median Time Difference')\n",
    "\n",
    "# Display + Median Line\n",
    "delta_days_plot + geom_vline(aes(xintercept=median(delta_days, na.rm=TRUE)),\n",
    "            color=\"blue\", linetype=\"dashed\", size=1)"
   ]
  },
  {
   "cell_type": "markdown",
   "metadata": {
    "hidden": true
   },
   "source": [
    "Now lets see if theres a relationship between `age`, `delta_days`, and `no_show`"
   ]
  },
  {
   "cell_type": "code",
   "execution_count": null,
   "metadata": {
    "ExecuteTime": {
     "end_time": "2020-03-19T17:11:42.978025Z",
     "start_time": "2020-03-19T17:11:26.966Z"
    },
    "hidden": true
   },
   "outputs": [],
   "source": [
    "# Age\n",
    "ggplot(no_show_data, aes(x=no_show, y=age, color = no_show, fill = no_show)) + \n",
    "geom_violin(alpha = 0.3, trim = FALSE) + # By default tails are trimmed\n",
    "stat_summary(fun.y=median, geom=\"point\", shape = 23, size = 2) +\n",
    "theme(legend.position='none') +\n",
    "labs(y='Age', x='No Show') +\n",
    "coord_flip()\n",
    "\n",
    "# Delta_days\n",
    "ggplot(no_show_data, aes(x=no_show, y=delta_days, color = no_show, fill = no_show)) + \n",
    "geom_violin(alpha = 0.3, trim = FALSE) + # By default tails are trimmed\n",
    "stat_summary(fun.y=median, geom=\"point\", shape = 23, size = 2) +\n",
    "theme(legend.position='none') +\n",
    "labs(y='Time Difference', x='No Show') +\n",
    "\n",
    "coord_flip()"
   ]
  },
  {
   "cell_type": "markdown",
   "metadata": {
    "hidden": true
   },
   "source": [
    "There appear to be significant difference for no shows based upon the time difference between scheduling and appointment and the actual appointment day. Assessing for `age` if there is a difference is more difficult. The distribution shape and median seems similar, but there appear to be nuanced differences. It's difficult to tell whether there is a significant difference in showing up to appointments by age group. We can gain further clarity by performing a t-test"
   ]
  },
  {
   "cell_type": "code",
   "execution_count": null,
   "metadata": {
    "ExecuteTime": {
     "end_time": "2020-03-19T17:11:43.057132Z",
     "start_time": "2020-03-19T17:11:26.970Z"
    },
    "hidden": true
   },
   "outputs": [],
   "source": [
    "no_show_new <- subset(no_show_data, no_show == 'No')\n",
    "show_new <- subset(no_show_data, no_show == 'Yes')\n",
    "\n",
    "t.test(no_show_new$age, show_new$age, var.equal = FALSE)"
   ]
  },
  {
   "cell_type": "markdown",
   "metadata": {
    "hidden": true
   },
   "source": [
    "Based on our t.test results we can see that is looks like age between whether an individual showed to their appointments are not the same (p < 0.05). For this reason we will be keeping this as a candidate predictor for building our prediction model. "
   ]
  },
  {
   "cell_type": "markdown",
   "metadata": {
    "heading_collapsed": true,
    "hidden": true
   },
   "source": [
    "### What is a t-test"
   ]
  },
  {
   "cell_type": "markdown",
   "metadata": {
    "hidden": true
   },
   "source": [
    "A t-test is a type of test to assess if there is a statistically significant difference between the means of two groups. It requires that both variables being test are numeric variables. In our case, we were examining the mean age of the group that showed up to their appointments against the group that did not show up. The test worked because age is a numeric variable. "
   ]
  },
  {
   "cell_type": "markdown",
   "metadata": {
    "heading_collapsed": true,
    "hidden": true
   },
   "source": [
    "## Assessing Categorical Variables"
   ]
  },
  {
   "cell_type": "markdown",
   "metadata": {
    "hidden": true
   },
   "source": [
    "Next we will examine the categorical variables. The code below will give us an overview of the structure of our data. Look for variables with the label `Factor`. These are a kind of categorical variable in R. "
   ]
  },
  {
   "cell_type": "code",
   "execution_count": null,
   "metadata": {
    "ExecuteTime": {
     "end_time": "2020-03-19T17:11:43.114780Z",
     "start_time": "2020-03-19T17:11:26.976Z"
    },
    "hidden": true
   },
   "outputs": [],
   "source": [
    "str(no_show_data)"
   ]
  },
  {
   "cell_type": "markdown",
   "metadata": {
    "hidden": true
   },
   "source": [
    "We should be able to observe the effect of these variables on no shows well and quickly using stacked bar plots. "
   ]
  },
  {
   "cell_type": "code",
   "execution_count": null,
   "metadata": {
    "ExecuteTime": {
     "end_time": "2020-03-19T17:11:46.763677Z",
     "start_time": "2020-03-19T17:11:26.981Z"
    },
    "hidden": true,
    "scrolled": true
   },
   "outputs": [],
   "source": [
    "p1 <- ggplot(no_show_data, aes(x=gender, fill = no_show)) + \n",
    "geom_bar(position='fill') +\n",
    "labs(y='Proportion', x='Gender', fill = \"No Show Status\") +\n",
    "theme(legend.position = 'none') + theme(axis.title.y=element_blank())\n",
    "\n",
    "p2 <- ggplot(no_show_data, aes(x=enroll_subsidy, fill = no_show)) + \n",
    "geom_bar(position='fill') +\n",
    "labs(y='Proportion', x='Subsidy Status', fill = \"No Show Status\") +\n",
    "theme(legend.position = 'none') + theme(axis.title.y=element_blank())\n",
    "\n",
    "p3 <- ggplot(no_show_data, aes(x=hypertension, fill = no_show)) + \n",
    "geom_bar(position='fill') +\n",
    "labs(y='Proportion', x='Hypertension', fill = \"No Show Status\") +\n",
    "theme(legend.position = 'none') + theme(axis.title.y=element_blank())\n",
    "\n",
    "p4 <- ggplot(no_show_data, aes(x=diabetes, fill = no_show)) + \n",
    "geom_bar(position='fill') +\n",
    "labs(y='Proportion', x='Diabetes Status', fill = \"No Show Status\") +\n",
    "theme(legend.position = 'none') + theme(axis.title.y=element_blank())\n",
    "\n",
    "p5 <- ggplot(no_show_data, aes(x=alcoholism, fill = no_show)) + \n",
    "geom_bar(position='fill') +\n",
    "labs(y='Proportion', x='Alcoholism', fill = \"No Show Status\") +\n",
    "theme(legend.position = 'none') + theme(axis.title.y=element_blank())\n",
    "\n",
    "p6 <- ggplot(no_show_data, aes(x=handicap, fill = no_show)) + \n",
    "geom_bar(position='fill') +\n",
    "labs(y='Proportion', x='Handicap', fill = \"No Show Status\") +\n",
    "theme(legend.position = 'none') + theme(axis.title.y=element_blank())\n",
    "\n",
    "p7 <- ggplot(no_show_data, aes(x=sms_received, fill = no_show)) + \n",
    "geom_bar(position='fill') +\n",
    "labs(y='Proportion', x='SMS Received', fill = \"No Show Status\") +\n",
    "theme(legend.position = 'none') + theme(axis.title.y=element_blank())\n",
    "\n",
    "p8 <- ggplot(no_show_data, aes(x=appt_day_of_week, fill = no_show)) + \n",
    "geom_bar(position='fill') +\n",
    "labs(y='Proportion', x='Appt Day of Week', fill = \"No Show Status\") +\n",
    "theme(legend.position = 'none') + theme(axis.title.y=element_blank())\n",
    "\n",
    "# Arrange plots into grid\n",
    "plot_grid(p1, p2, p3, p4, p5, p6, p7, p8, ncol = 2)\n"
   ]
  },
  {
   "cell_type": "markdown",
   "metadata": {
    "hidden": true
   },
   "source": [
    "We can see based on our visualizations that the variables `age`, `neighborhood`, `enroll_subsidy`, `handicap`, `sms_received`, and `appt_day_of_week` have an effect on no show status. This is indicates they would be good variables to include in our prediction model. "
   ]
  },
  {
   "cell_type": "markdown",
   "metadata": {
    "hidden": true
   },
   "source": [
    "One variable we have not looked at yet is the `neighborhood` variable. Since there are 81 different neighborhoods included in our data, it would not be practical to visualize this variable using a stacked bar plot similar to how we did for our other variables. However, we can use an chi-squared test to see whether this variable has an effect on no show status. "
   ]
  },
  {
   "cell_type": "code",
   "execution_count": null,
   "metadata": {
    "ExecuteTime": {
     "end_time": "2020-03-19T17:11:46.813377Z",
     "start_time": "2020-03-19T17:11:26.985Z"
    },
    "hidden": true
   },
   "outputs": [],
   "source": [
    "chisq.test(no_show_data$no_show, no_show_data$neighborhood)"
   ]
  },
  {
   "cell_type": "markdown",
   "metadata": {
    "hidden": true
   },
   "source": [
    "Based on our results we can see that the number of no shows differs significantly based upon neighborhood. "
   ]
  },
  {
   "cell_type": "markdown",
   "metadata": {
    "heading_collapsed": true,
    "hidden": true
   },
   "source": [
    "### What is a Chi-squared Test"
   ]
  },
  {
   "cell_type": "markdown",
   "metadata": {
    "hidden": true
   },
   "source": [
    "A chi-square test is a statistical test that tells you whether groups of observations are different. For instance, say you're researching two companies and you divide them either as male or female. The number of males compared to females in the two companies differ but how can you tell that this is not random chance? A chi-squared test can be used to differentiate whether the **observed** number of males and females in your study differs from the **expected** number of males and females. \n",
    "\n",
    "> Note: Chi-square tests can only be used for categorical variables. There are separate tests to determine whether numerical numbers differ form one another. These additional tests are beyond the scope of the case. "
   ]
  },
  {
   "cell_type": "markdown",
   "metadata": {
    "heading_collapsed": true,
    "hidden": true
   },
   "source": [
    "## Analyzing Our Data: Logistic Regression "
   ]
  },
  {
   "cell_type": "markdown",
   "metadata": {
    "hidden": true
   },
   "source": [
    "Now that our variables have been successfully converted and our outcome has been defined, we can analyze our data. Logistic regression is a mathematical model that estimates the probability of a binary outcomes (such as whether or not a patient is a no show). It is named after the logistic curve which takes the S-shape depicted below.\n",
    "<img src=\"https://upload.wikimedia.org/wikipedia/commons/thumb/8/88/Logistic-curve.svg/640px-Logistic-curve.svg.png?1566122052688\" alt=\"Logistic Curve\" title=\"Logistic Curve\" />"
   ]
  },
  {
   "cell_type": "markdown",
   "metadata": {
    "hidden": true,
    "solution2": "hidden",
    "solution2_first": true
   },
   "source": [
    "**Pre-Check:** What is our primary outcome? What information will a logistic regression model tell use about our outcome?"
   ]
  },
  {
   "cell_type": "markdown",
   "metadata": {
    "hidden": true,
    "solution2": "hidden"
   },
   "source": [
    "Our primary outcome is whether a individual did or did not show to their appointment. The logistic regression model will allow us to see how individuals variables affect whether an individual has a has a no show **while controlling for other variables in the model**. For instance, we can see whether being older affects having a no show while controlling for handicaps, neighborhood, etc...\n",
    "\n",
    "Very useful indeed!"
   ]
  },
  {
   "cell_type": "markdown",
   "metadata": {
    "hidden": true,
    "solution2": "hidden",
    "solution2_first": true
   },
   "source": [
    "**Follow-Up:** What is statistical significance? What is a generally accepted level of statistical significance in healthcare research?"
   ]
  },
  {
   "cell_type": "markdown",
   "metadata": {
    "hidden": true,
    "solution2": "hidden"
   },
   "source": [
    "Statistical Significance can be defined as the chance that the relationship you observed in your data occurred by chance. What does this mean? Lets say our logistic regression model finds that weight has a statistically significant effect on being high risk or low risk asthmatic patient. This means that it more likely that there is indeed a relationship between weight and risk than chance would suggest. \n",
    "\n",
    "The conventional level of significance that is accepted is < 0.05 (this number is referred to as a p-value). This means that there is less than 5% chance that the observed relationship in the data was due to chance alone. The image below display a sample R output.\n",
    "\n",
    "<img src=\"https://drchrispook.files.wordpress.com/2017/02/anova-output-from-r1.jpg\" align=\"center\" style=\"margin-bottom: 0.5em; margin-top: 0.5em;\">"
   ]
  },
  {
   "cell_type": "markdown",
   "metadata": {
    "hidden": true
   },
   "source": [
    "We can now create our logistic model. "
   ]
  },
  {
   "cell_type": "code",
   "execution_count": null,
   "metadata": {
    "ExecuteTime": {
     "end_time": "2020-03-19T17:11:47.827606Z",
     "start_time": "2020-03-19T17:11:26.993Z"
    },
    "hidden": true
   },
   "outputs": [],
   "source": [
    "# Creating a logistic regression model\n",
    "mylogit <- glm(no_show ~ delta_days+ age + enroll_subsidy + handicap + sms_received + appt_day_of_week, \n",
    "               data = no_show_data, family = \"binomial\")\n",
    "mylogit.sum <- summary(mylogit)\n",
    "mylogit.sum"
   ]
  },
  {
   "cell_type": "markdown",
   "metadata": {
    "hidden": true
   },
   "source": [
    "The above model allows us to see what variables are considered to have a statically significant effect on risk for diabetes. For instance, `age` has a statistically significant effect with a p-value of < 2e-16. \n",
    "\n",
    "Keep in mind that even if a variable is not statistically significant does not mean it is a poor feature. If you have domain knowledge which indicate a feature is particularly important for your outcome, you should still consider including that feature in your model. Clinical significance is more important than statistical significance!"
   ]
  },
  {
   "cell_type": "markdown",
   "metadata": {
    "heading_collapsed": true
   },
   "source": [
    "# Building A Predictive Model"
   ]
  },
  {
   "cell_type": "markdown",
   "metadata": {
    "hidden": true
   },
   "source": [
    "We are now ready to build a predictive model. If all goes well, we will have a tool that will accurately predict no show appointments."
   ]
  },
  {
   "cell_type": "markdown",
   "metadata": {
    "hidden": true,
    "solution2": "hidden",
    "solution2_first": true
   },
   "source": [
    "**Pre-Check:** So far we haven't done any machine learning yet. What we've done can be considered traditional statistical analyses. What is machine learning?"
   ]
  },
  {
   "cell_type": "markdown",
   "metadata": {
    "hidden": true,
    "solution2": "hidden"
   },
   "source": [
    "In machine learning, data is split into a training and test set. A machine learning model is then trainined on the training set to predict whatever outcome of interest it was designed to predict (in our case we're predicting whether the asthmatic patient is high- or low- risk). The models predictive performance is then evaluated using the test set. \n",
    "\n",
    "<img src=\"https://www.sqlservercentral.com/wp-content/uploads/2019/05/Image-2.jpg\" align=\"center\" style=\"margin-bottom: 0.5em; margin-top: 0.5em;\">"
   ]
  },
  {
   "cell_type": "markdown",
   "metadata": {
    "hidden": true
   },
   "source": [
    "An important decision you have to make when building your model is to decide what kind of predictive technique you will use. For our case we will be using a model called a decision tree. Decision trees are charts which help make a decision or prediction. Each branch represents a possible outcome. The end of branches represent an end result or decision. Decision trees are common in medical settings. For instance, below is an algorithm for evaluating febrile seizures. This is an example of a decision tree. \n",
    "\n",
    "<img src=\"https://img.grepmed.com/uploads/1105/febrileseizure-management-algorithm-diagnosis-complex-original.png\" align=\"center\" style=\"margin-bottom: 0.5em; margin-top: 0.5em;\">"
   ]
  },
  {
   "cell_type": "markdown",
   "metadata": {
    "hidden": true
   },
   "source": [
    "We now need to split our data into training and test data. We will be splitting our data into 80% training data and 20% test data. "
   ]
  },
  {
   "cell_type": "code",
   "execution_count": null,
   "metadata": {
    "ExecuteTime": {
     "end_time": "2020-03-19T17:11:47.895355Z",
     "start_time": "2020-03-19T17:11:27.001Z"
    },
    "hidden": true
   },
   "outputs": [],
   "source": [
    "# Splitting the data into training and test set data\n",
    "# Setting the seed value so we get the same result when we repreat\n",
    "set.seed(123)\n",
    "\n",
    "# Determining which rows willbe in the traiing data\n",
    "training_index <- sample(nrow(no_show_data), 0.8*nrow(no_show_data), replace = FALSE)  \n",
    "\n",
    "# Create Training Set\n",
    "training_data <- no_show_data[training_index,]\n",
    "\n",
    "# Create Test Set\n",
    "test_data <- no_show_data[-training_index,]"
   ]
  },
  {
   "cell_type": "markdown",
   "metadata": {
    "hidden": true
   },
   "source": [
    "Now that we've created our training and test data, we need to build our machine learning model. "
   ]
  },
  {
   "cell_type": "code",
   "execution_count": null,
   "metadata": {
    "ExecuteTime": {
     "end_time": "2020-03-19T17:11:50.031403Z",
     "start_time": "2020-03-19T17:11:27.004Z"
    },
    "hidden": true
   },
   "outputs": [],
   "source": [
    "model <- (no_show ~ delta_days + age + enroll_subsidy  + handicap + sms_received + appt_day_of_week)\n",
    "\n",
    "# Train Decision Tree\n",
    "caseweights <- ifelse(training_data$no_show == 'Yes', 4, 1)\n",
    "train_decision_tree <- rpart(model, data=training_data, method = 'class',\n",
    "                             control = rpart.control(minsplit=20, minbucket=1, cp = 0.005), \n",
    "                             weights = caseweights)\n",
    "\n",
    "# Plot Decision Tree\n",
    "rpart.plot(train_decision_tree)"
   ]
  },
  {
   "cell_type": "markdown",
   "metadata": {
    "ExecuteTime": {
     "end_time": "2019-10-24T18:20:29.588519Z",
     "start_time": "2019-10-24T18:20:00.025Z"
    },
    "hidden": true
   },
   "source": [
    "Now lets see how our model performed. "
   ]
  },
  {
   "cell_type": "code",
   "execution_count": null,
   "metadata": {
    "ExecuteTime": {
     "end_time": "2020-03-19T17:11:50.098087Z",
     "start_time": "2020-03-19T17:11:27.007Z"
    },
    "hidden": true
   },
   "outputs": [],
   "source": [
    "# Make prediction\n",
    "test_decision_tree <- predict(train_decision_tree, test_data, type = 'class')\n",
    "# Display Confusion Matrix\n",
    "confusionMatrix(test_decision_tree, test_data$no_show, positive = 'Yes')"
   ]
  },
  {
   "cell_type": "markdown",
   "metadata": {
    "hidden": true
   },
   "source": [
    "Here we can see several useful metric for our model. For instance, we have an `Accuracy` of 0.52, a `Sensitivity` of 0.92, and a `Specificity` of 0.42. \n",
    "\n",
    "One question you may be wondering is does our model perform well enough? That depends. That depends on the type of condition or prediction we're making. That depends on whether alternative predictive models or tools exist and how our new model compares. Additional research or consideration should always be done consider whether a model's result is not only statistically significant, but **clinically significant**. "
   ]
  },
  {
   "cell_type": "markdown",
   "metadata": {
    "heading_collapsed": true,
    "hidden": true
   },
   "source": [
    "### What Is A Confusion Matrix"
   ]
  },
  {
   "cell_type": "markdown",
   "metadata": {
    "hidden": true
   },
   "source": [
    "A confusion matrix is a 2x2 table which computes 4 different combinations of predicted vs. actual values. The combinations are True Positive (TP), True Negative (TN), False Positive (FP), and False Negative (FN)\n",
    "\n",
    "<img src=\"https://miro.medium.com/max/320/1*Z54JgbS4DUwWSknhDCvNTQ.png\" align=\"center\" style=\"margin-bottom: 0.5em; margin-top: 0.5em;\">\n",
    "\n",
    "These 4 interpretations can be combined to generate many useful metrics. For our purpose there are three we will focus on. The first is accuracy:\n",
    "\n",
    "\\begin{equation*}\n",
    "\\large \\text{Accuracy} = \\frac{\\large TP + TN}{\\large TP + TN + FP + FN}\n",
    "\\end{equation*}\n",
    "\n",
    "Accuracy allows us to measure how often our model predicted correctly. The second metric is sensitivity:\n",
    "\n",
    "\\begin{equation*}\n",
    "\\large \\text{Sensitivity} = \\frac{\\large TP}{\\large TP + FN}\n",
    "\\end{equation*}\n",
    "\n",
    "Sensitivity asks the question, that when our prediction is positive (ie. in our case when a patient is predicted to be high risk) how often will the model correctly predict positively (ie. how often will the model then predict the patient to be at high risk). The final metric is specificity:\n",
    "\n",
    "\\begin{equation*}\n",
    "\\large \\text{Specificity} = \\frac{\\large TN}{\\large FP + TN}\n",
    "\\end{equation*}\n",
    "\n",
    "Specificity asks the question, that when our prediction is negative (ie. in our case when a patient is predicted to be high risk) how often will the model correctly predict negatively (ie. how often will the model then predict the patient to be at high risk). \n",
    "\n",
    "> Note: Sometime you  may see precision and recall used instead of sensitivity and specificity. While recall is equivalent to sensitivity, precision is equivalent to something known as positive predictive value. Going into the differences is beyond this single case. Just know that these measures provide more information than accuracy alone. Precision and recall are commonly used in computer science while sensitivity and specificity are more commonly used in medicine. "
   ]
  },
  {
   "cell_type": "markdown",
   "metadata": {
    "heading_collapsed": true,
    "hidden": true
   },
   "source": [
    "## Evaluating our Model"
   ]
  },
  {
   "cell_type": "markdown",
   "metadata": {
    "hidden": true
   },
   "source": [
    "We will be evaluating our model using a receiver operating curve (ROC) and the area under the curve (AUC) value. \n",
    "\n",
    "> If you're unsure what a ROC or AUC value is, please consult section 5.1.1 ('Understanding ROC Curves and AUC Values')"
   ]
  },
  {
   "cell_type": "code",
   "execution_count": null,
   "metadata": {
    "ExecuteTime": {
     "end_time": "2020-03-17T01:58:28.882949Z",
     "start_time": "2020-03-17T01:58:08.413Z"
    },
    "hidden": true,
    "scrolled": false
   },
   "outputs": [],
   "source": [
    "ROC <- roc(response = test_data$no_show, predictor = factor(test_decision_tree, \n",
    "                                                           ordered = TRUE, \n",
    "                                                           levels = c('No', 'Yes')))\n",
    "\n",
    "# Plot ROC with ggplot2\n",
    "plot_ROC <- ggroc(ROC)\n",
    "plot_ROC"
   ]
  },
  {
   "cell_type": "code",
   "execution_count": null,
   "metadata": {
    "ExecuteTime": {
     "end_time": "2020-03-17T01:58:28.938273Z",
     "start_time": "2020-03-17T01:58:08.417Z"
    },
    "hidden": true
   },
   "outputs": [],
   "source": [
    "# Calculate the area under the curve (AUC)\n",
    "cat('AUC:', round(auc(ROC), 2))"
   ]
  },
  {
   "cell_type": "markdown",
   "metadata": {
    "hidden": true
   },
   "source": [
    "The closer to the top left corner our ROC curve is the better. The higher our AUC value is the better. These metrics provide useful measures when tuning our model. They are also better overall measures than accuracy alone. We can compare different models using these two metrics. "
   ]
  },
  {
   "cell_type": "markdown",
   "metadata": {
    "heading_collapsed": true,
    "hidden": true
   },
   "source": [
    "### Understanding ROC Curves and AUC Values"
   ]
  },
  {
   "cell_type": "markdown",
   "metadata": {
    "hidden": true
   },
   "source": [
    "A ROC plots sensitivity (also known as the true positive rate) against 1-specificity (also known as the false positive rate). A model with a 50-50 chance of making a correct decision will have a ROC curve which is just a diagonal line. A model with a curve that hugs the top left corner is a perfect model. The area under a curve is a measure of the magnitude of the ROC curve. The closer the ROC curve is to the top left corner, the higher the AUC value. The higher the AUC value, the better. AUC value range from 0 -1. \n",
    "\n",
    "<img src=\"https://miro.medium.com/max/406/1*pk05QGzoWhCgRiiFbz-oKQ.png\" style=\"float: center; width: 34%; margin-bottom: 0.5em;\">"
   ]
  },
  {
   "cell_type": "markdown",
   "metadata": {
    "heading_collapsed": true,
    "hidden": true
   },
   "source": [
    "## Machine Learning Explainability"
   ]
  },
  {
   "cell_type": "markdown",
   "metadata": {
    "hidden": true
   },
   "source": [
    "An important part of any model is to explain it. We will be measuring the variable importance for our model. The higher the variable importance, the more important that variable is for predicting no show patients. This allows us to quantitatively compare which variables are more important and how much more important they are. "
   ]
  },
  {
   "cell_type": "code",
   "execution_count": null,
   "metadata": {
    "ExecuteTime": {
     "end_time": "2020-03-19T17:22:29.989742Z",
     "start_time": "2020-03-19T17:22:29.764Z"
    },
    "hidden": true
   },
   "outputs": [],
   "source": [
    "df <- data.frame(train_decision_tree$variable.importance)\n",
    "df2 <- df %>% \n",
    "  tibble::rownames_to_column() %>% \n",
    "  dplyr::rename(\"variable\" = rowname) %>% \n",
    "  dplyr::arrange(train_decision_tree$variable.importance) %>%\n",
    "  dplyr::mutate(variable = forcats::fct_inorder(variable))\n",
    "ggplot2::ggplot(df2) +\n",
    "  geom_col(aes(x = reorder(variable, train_decision_tree$variable.importance), y = train_decision_tree$variable.importance),\n",
    "           col = \"black\", show.legend = F) +\n",
    "  coord_flip() +\n",
    "  scale_fill_grey() +\n",
    "  theme_bw()"
   ]
  },
  {
   "cell_type": "markdown",
   "metadata": {
    "hidden": true
   },
   "source": [
    "From our results above, we can see that time difference between scheduled and actual appointment day is by far the most important variable. This indicates that decreasing this time could yield beneficial results. Variable importance can be a good way to look for surprising results. Any surprising variables can be the subject of further investigation!"
   ]
  },
  {
   "cell_type": "markdown",
   "metadata": {
    "heading_collapsed": true
   },
   "source": [
    "# Comparing Predictive Models"
   ]
  },
  {
   "cell_type": "markdown",
   "metadata": {
    "hidden": true
   },
   "source": [
    "You've now learned everything you need to begin testing your own models! Analytics is an iterative process and requires constantly tuning and testing different models against one another. You will now build your own model and see how it performs.\n",
    "\n",
    "One of the most decisions in model building is to decide what features/variables to include on your model. This will have a huge impact on your models performance. Run the code below to see all the features in our data. "
   ]
  },
  {
   "cell_type": "code",
   "execution_count": null,
   "metadata": {
    "ExecuteTime": {
     "end_time": "2020-03-17T01:58:29.215994Z",
     "start_time": "2020-03-17T01:58:09.077Z"
    },
    "hidden": true
   },
   "outputs": [],
   "source": [
    "colnames(training_data)"
   ]
  },
  {
   "cell_type": "markdown",
   "metadata": {
    "hidden": true
   },
   "source": [
    "From the list of features above, pick the features you believe are the most predictive for predicting a no show. You can type in your features in between the brackets below. Please follow the format shown in the example below.\n",
    "\n",
    "<code>features=c('delta_days','handicap','sms_received')</code>\n",
    "\n",
    " Be careful! If there are any typo, this will not work and you will need to run the code below again with the typo corrected. "
   ]
  },
  {
   "cell_type": "code",
   "execution_count": null,
   "metadata": {
    "ExecuteTime": {
     "end_time": "2020-03-17T01:58:29.245287Z",
     "start_time": "2020-03-17T01:58:09.160Z"
    },
    "hidden": true
   },
   "outputs": [],
   "source": [
    "features=c(\"delta_days\", \"age\" ,\"enroll_subsidy\", \"handicap\" , \"sms_received\", \"appt_day_of_week\")"
   ]
  },
  {
   "cell_type": "markdown",
   "metadata": {
    "hidden": true
   },
   "source": [
    "Now we will see how our model performs using the features you selected. The below code will output evaluation metrics. "
   ]
  },
  {
   "cell_type": "code",
   "execution_count": null,
   "metadata": {
    "ExecuteTime": {
     "end_time": "2020-03-17T01:58:32.059129Z",
     "start_time": "2020-03-17T01:58:09.239Z"
    },
    "hidden": true,
    "scrolled": false
   },
   "outputs": [],
   "source": [
    "test_model(features)"
   ]
  },
  {
   "cell_type": "markdown",
   "metadata": {
    "hidden": true
   },
   "source": [
    "Experiment with different features. As mentioned earlier, feature selection makes a huge difference in model performance. Determine which features work best and see if you can beat the model we built earlier in the case! You can rerun the <code>test_model()</code> function with new features as many times as you like. Please refer to the instructions after our variable list to see how to select new features. "
   ]
  },
  {
   "cell_type": "markdown",
   "metadata": {
    "hidden": true
   },
   "source": [
    "Congratulations! You've reached the end of the case! This case provided just one example of how analytics and healthcare can be combined to solve clinical problems. I hope your curiosity has been piqued. There much more to learn and much more you can explore in this field!"
   ]
  }
 ],
 "metadata": {
  "kernelspec": {
   "display_name": "R",
   "language": "R",
   "name": "ir"
  },
  "language_info": {
   "codemirror_mode": "r",
   "file_extension": ".r",
   "mimetype": "text/x-r-source",
   "name": "R",
   "pygments_lexer": "r",
   "version": "3.6.1"
  },
  "latex_envs": {
   "LaTeX_envs_menu_present": true,
   "autoclose": false,
   "autocomplete": true,
   "bibliofile": "biblio.bib",
   "cite_by": "apalike",
   "current_citInitial": 1,
   "eqLabelWithNumbers": false,
   "eqNumInitial": 1,
   "hotkeys": {
    "equation": "Ctrl-E",
    "itemize": "Ctrl-I"
   },
   "labels_anchors": false,
   "latex_user_defs": false,
   "report_style_numbering": false,
   "user_envs_cfg": false
  },
  "toc": {
   "base_numbering": 1,
   "nav_menu": {},
   "number_sections": true,
   "sideBar": true,
   "skip_h1_title": false,
   "title_cell": "Table of Contents",
   "title_sidebar": "Contents",
   "toc_cell": false,
   "toc_position": {
    "height": "414px",
    "left": "54px",
    "top": "110.8px",
    "width": "276px"
   },
   "toc_section_display": true,
   "toc_window_display": false
  },
  "varInspector": {
   "cols": {
    "lenName": 16,
    "lenType": 16,
    "lenVar": 40
   },
   "kernels_config": {
    "python": {
     "delete_cmd_postfix": "",
     "delete_cmd_prefix": "del ",
     "library": "var_list.py",
     "varRefreshCmd": "print(var_dic_list())"
    },
    "r": {
     "delete_cmd_postfix": ") ",
     "delete_cmd_prefix": "rm(",
     "library": "var_list.r",
     "varRefreshCmd": "cat(var_dic_list()) "
    }
   },
   "types_to_exclude": [
    "module",
    "function",
    "builtin_function_or_method",
    "instance",
    "_Feature"
   ],
   "window_display": true
  }
 },
 "nbformat": 4,
 "nbformat_minor": 4
}
