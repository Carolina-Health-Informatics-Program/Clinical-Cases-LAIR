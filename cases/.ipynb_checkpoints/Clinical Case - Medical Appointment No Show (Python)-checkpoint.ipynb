{
 "cells": [
  {
   "cell_type": "markdown",
   "metadata": {
    "heading_collapsed": true
   },
   "source": [
    "# Introduction"
   ]
  },
  {
   "cell_type": "markdown",
   "metadata": {
    "cell_style": "center",
    "hidden": true
   },
   "source": [
    "<p align=\"justify\">Welcome! In this case we'll be exploring how to use advanced analytic and machine learning techniques to predict medical appointment no-shows. \n",
    "<br>\n",
    "<br>\n",
    "<details>\n",
    "<summary>Some of the skills you'll explore are (Click to Expand):</summary>\n",
    "<ul>\n",
    "    <li>R Programming</li>\n",
    "    <li>Data Cleaning</li>\n",
    "    <li>Descriptive Analysis</li>\n",
    "    <li>Data Visualization</li>\n",
    "    <li>Leveraging Domain Knowledge</li>\n",
    "    <li>Machine Learning</li>\n",
    "    <li>Decision Trees</li>\n",
    "</details><br>\n",
    "Don't worry if you're unsure what some of these terms are. They'll be explained throughout the case. Let's begin! \n",
    "<img src=\"https://i.stack.imgur.com/zlAi2.png\" style=\"float: left; width: 32%; margin-right: 1%; margin-bottom: 0.5em;\">\n",
    "<img src=\"https://upload.wikimedia.org/wikipedia/commons/thumb/c/c3/Python-logo-notext.svg/1024px-Python-logo-notext.svg.png\" style=\"float: left; width: 25%; margin-bottom: 0.5em;\">\n",
    "<img src=\"https://www.displayr.com/wp-content/uploads/2018/09/Untitled-design-10.png\" style=\"float: left; width: 31%; margin-left: 5%; margin-bottom: 0.5em;\">"
   ]
  },
  {
   "cell_type": "markdown",
   "metadata": {
    "heading_collapsed": true,
    "hidden": true
   },
   "source": [
    "## Case Scenario"
   ]
  },
  {
   "cell_type": "markdown",
   "metadata": {
    "hidden": true
   },
   "source": [
    "Imagine you work on the administrative staff for a small, family medicine clinic. Recently, business has been tough. The clinic is struggling to remain financially viable. The providers are already working at capacity and are unable to see any more patients. \n",
    "\n",
    "<img width=\"500\" height=325 src=\"https://lh3.googleusercontent.com/proxy/VRp3A74rUWpvQIvZNrxXkui4w_WKh67HuhOrvIwcIj6DNzPkXN8R3oZ2V5wPsIAfgvE66uUDz0AV-konKzNWaEanbBVFd48TjADnm9fPMcxdlOnYKIi3lwRN_6UvSZyQ6LWu4dMc3todz-KYN7-3ykm2eFJVvTChiQ\">\n",
    "\n",
    "While the clinic staff is small, they're a dedicated group. If they can predict which patients will likely be no-shows, they can target these patients with interventions such as reminders or phone calls prior to their appointments. This can increase revenue without increasing each provider's census. Will analytics and machine learning be able to predict no-shows and keep this clinic open?\n",
    "\n",
    "Continue through the case to find out. "
   ]
  },
  {
   "cell_type": "markdown",
   "metadata": {
    "heading_collapsed": true,
    "hidden": true
   },
   "source": [
    "### Extra: Why do we care about no-shows?"
   ]
  },
  {
   "cell_type": "markdown",
   "metadata": {
    "hidden": true
   },
   "source": [
    "A patient no-show is defined as a missed patient appointmen where the patient was scheduled, but did not appear for their medical appointment, and made no prior contact with the clinical staff. \n",
    "Medical appointment no shows are a serious issue across all type of medical practices, specialties, locations, and medical practice models. This is an endemic issue that is estimated to cost the healthcare industry $150 billion annually. \n",
    "\n",
    "<p align=\"center\">\n",
    "  <img width=\"400\" height=\"200\" src=\"https://www.carecloud.com/continuum/wp-content/uploads/2011/05/patient-no-show-cost-400x201.jpg\">\n",
    "</p>\n",
    "\n",
    "It's estimated that for every appointment no show: \n",
    "- Primary care physcians lose close to 150 - 200 USD in revenue\n",
    "- Surgeons lose close to 500 USD in revenue\n",
    "- Patient who no-show are more likely to require expensive emergency care down the road. This increases healthcare cost for everyone. \n",
    "\n",
    "Already the healthcare industry is attempting to decrease no-shows through leveraging technology and innovative practice methods. However, this is still an endemic problem. Any algorithm which could reliably predict no-shows could improves costs and outcomes."
   ]
  },
  {
   "cell_type": "markdown",
   "metadata": {
    "heading_collapsed": true,
    "hidden": true
   },
   "source": [
    "## How To Run The Case (Do Not Skip)"
   ]
  },
  {
   "cell_type": "markdown",
   "metadata": {
    "hidden": true
   },
   "source": [
    "Before we begin the case, we need to know how to use Jupyter Notebook and run the case. First, look for the the `Run` button. The location of the `Run` button is shown below and can be found in the tool bar above. "
   ]
  },
  {
   "cell_type": "markdown",
   "metadata": {
    "cell_style": "center",
    "hidden": true
   },
   "source": [
    "<img src=\"https://i.imgur.com/jr4dpLW.png\">"
   ]
  },
  {
   "cell_type": "markdown",
   "metadata": {
    "hidden": true
   },
   "source": [
    "The cell below is a code cell. You will be running numerous code cells like the one below throughout the case. Select the cell and select the run button above. "
   ]
  },
  {
   "cell_type": "code",
   "execution_count": null,
   "metadata": {
    "ExecuteTime": {
     "end_time": "2020-01-28T20:55:48.014660Z",
     "start_time": "2020-01-28T20:55:48.006682Z"
    },
    "cell_style": "center",
    "hidden": true
   },
   "outputs": [],
   "source": [
    "# This is an example of a code cell\n",
    "print('Congratulations!')\n",
    "print('You\\'ve run your first code cell.')\n"
   ]
  },
  {
   "cell_type": "markdown",
   "metadata": {
    "hidden": true
   },
   "source": [
    "<img width = 50 height = 50 style=\"float: left; margin-right: 10px;\" src=\"https://upload.wikimedia.org/wikipedia/commons/b/b9/Stop_sign_dark_red.svg\">Stop! If you have not learned to run a code cell, restart this section. You will not be able to go through the case at all if you are unable to run code cells. Otherwise, it's time to meet our data!"
   ]
  },
  {
   "cell_type": "markdown",
   "metadata": {
    "heading_collapsed": true,
    "hidden": true
   },
   "source": [
    "## Meeting Our Data"
   ]
  },
  {
   "cell_type": "markdown",
   "metadata": {
    "hidden": true
   },
   "source": [
    "\n",
    "\n",
    "We'll be using a deidentified set of patient data made available on [kaggle](https://www.kaggle.com/joniarroba/noshowappointment). Kaggle is an online data science and machine learning community. \n",
    "\n",
    "<img src=\"https://miro.medium.com/max/1200/0*ftOal7fKVCNtJr4N.png\" style=\"float: center; width: 65%\">\n",
    "\n",
    "Through our case we will be evaluating a dataset of patients who either showed or no showed to their medical appointment. It also includes several characteristics of each patients such as age, gender, and several comorbidities. "
   ]
  },
  {
   "cell_type": "markdown",
   "metadata": {
    "heading_collapsed": true,
    "hidden": true
   },
   "source": [
    "### Data First Look"
   ]
  },
  {
   "cell_type": "markdown",
   "metadata": {
    "hidden": true
   },
   "source": [
    "Lets get a first glimpse of our data."
   ]
  },
  {
   "cell_type": "code",
   "execution_count": null,
   "metadata": {
    "hidden": true
   },
   "outputs": [],
   "source": [
    "no_show_data <- read.csv(file=\"data/med_no_show.csv\",  encoding=\"UTF-8\", header=TRUE, sep=\",\")\n",
    "head(no_show_data)"
   ]
  },
  {
   "cell_type": "markdown",
   "metadata": {
    "hidden": true
   },
   "source": [
    "What do you notice? Do you notice anything unusual about the data? Don't worry if you don't notice anything. We will be getting to know our data better as we go through the case. "
   ]
  },
  {
   "cell_type": "markdown",
   "metadata": {
    "heading_collapsed": true,
    "hidden": true
   },
   "source": [
    "### Data Variable Information (Consulting the Data Dictionary)"
   ]
  },
  {
   "cell_type": "markdown",
   "metadata": {
    "hidden": true
   },
   "source": [
    "There are several variables or labels which you might not understand. The way to combat this is by consulting the data dictionary. \n",
    "\n",
    "> A data dictionary describes a dataset and provides information on the meaning of each variable. Always look for documentation or a data dictionary before starting an analysis."
   ]
  },
  {
   "cell_type": "markdown",
   "metadata": {
    "hidden": true
   },
   "source": [
    "A data dictionary is provided on the [kaggle page](https://www.kaggle.com/joniarroba/noshowappointments) where the data is hosted. The data dictionary has also been reproduced below for your convenience. However, you may notice some of the data dictionary labels are not in Portuguese instead of English. Below is an English recreation of the data dictionary with edited grammar and context for ease of reading in English."
   ]
  },
  {
   "cell_type": "markdown",
   "metadata": {
    "hidden": true
   },
   "source": [
    "<center>\n",
    "\n",
    "| *Variable*        | *Definition*                                                            |\n",
    "| ----------------- | ----------------------------------------------------------------------- |\n",
    "| PatientId         | Identification of a patient                                             |\n",
    "| AppointmentID     | Identification of each appointment                                      |\n",
    "| Gender            | Male or Female                                                          | \n",
    "| ScheduledDay      | The day of the actual appointment, when they have to visit the doctor   |\n",
    "| AppointmentDay    | The day someone called or registered the appointment                    |\n",
    "| Age               | How old is the patient                                                  |\n",
    "| Neighbourhood     | Where the appointment takes place                                       |\n",
    "| Scholarship       | True or False, are they enrolled in Bolsa Familia low-income subsidy program [More Info](https://en.wikipedia.org/wiki/Bolsa_Fam%C3%ADlia)                                 |\n",
    "| Hypertension      | True or False, if patient has hypertension                              |\n",
    "| Diabetes          | True or False, if the patient has diabetes                              |\n",
    "| Alcoholism        | True or False, if the patient has alcoholism                            |\n",
    "| Handicap          | # of handicaps a person has                                             |\n",
    "| SMS-received      | True or False, one or more SMS message sent to the patient              |      \n",
    "| No.show           | True or False, patient did not show to their medical appointment        |\n",
    "\n",
    "</center>"
   ]
  },
  {
   "cell_type": "markdown",
   "metadata": {
    "heading_collapsed": true
   },
   "source": [
    "# Setup (Do Not Skip)"
   ]
  },
  {
   "cell_type": "markdown",
   "metadata": {
    "hidden": true
   },
   "source": [
    "We need to load some necessary code libraries and tweak some system setting for our case to run and display properly. Run the code below to set up specific settings for our case. Do not skip this step!"
   ]
  },
  {
   "cell_type": "code",
   "execution_count": null,
   "metadata": {
    "ExecuteTime": {
     "end_time": "2020-01-28T20:55:59.094085Z",
     "start_time": "2020-01-28T20:55:48.912261Z"
    },
    "hidden": true
   },
   "outputs": [],
   "source": [
    "# Calling external libraries for additional functionality\n",
    "import pandas as pd\n",
    "import numpy as np\n",
    "import matplotlib.pyplot as plt\n",
    "import seaborn as sns\n",
    "import random\n",
    "import pydotplus\n",
    "from IPython.display import Image\n",
    "\n",
    "from scipy import stats\n",
    "from sklearn.tree import export_graphviz\n",
    "from sklearn.linear_model import LogisticRegression\n",
    "from sklearn.model_selection import train_test_split\n",
    "from sklearn.ensemble import RandomForestClassifier\n",
    "from sklearn.metrics import confusion_matrix\n",
    "from sklearn.metrics import classification_report\n",
    "from IPython.core.interactiveshell import InteractiveShell\n",
    "InteractiveShell.ast_node_interactivity = \"last\"\n",
    "from pandas.api.types import CategoricalDtype \n",
    "import datetime\n",
    "plt.style.use('fivethirtyeight')\n",
    "# Increase max number of columns displayed in output tables\n",
    "pd.set_option(\"display.max_columns\",2000)\n",
    "\n",
    "# Make sure your ML results are the same\n",
    "random.seed(10)\n",
    "\n",
    "print('Setup complete!')"
   ]
  },
  {
   "cell_type": "markdown",
   "metadata": {
    "hidden": true
   },
   "source": [
    "<img width = 50 height = 50 style=\"float: left; margin-right: 10px;\" src=\"https://upload.wikimedia.org/wikipedia/commons/b/b9/Stop_sign_dark_red.svg\">Stop! If you have not run the code cell above, go back and rerun it. The case will not work if you do not run the setup code. "
   ]
  },
  {
   "cell_type": "markdown",
   "metadata": {
    "ExecuteTime": {
     "end_time": "2019-11-08T21:30:08.454527Z",
     "start_time": "2019-11-08T21:30:08.446403Z"
    },
    "heading_collapsed": true
   },
   "source": [
    "# Cleaning Our Data"
   ]
  },
  {
   "cell_type": "markdown",
   "metadata": {
    "hidden": true
   },
   "source": [
    "The first step in any analytic project is to clean our data. This is a critical step that is commonly overlooked within data science projects. This is critical for making our data convenient to interpret and manipulate. In addition, many analytic techniques require properly formatted data. Finally, healthcare datasets may have have data that isn't clinically relevant (ie. raw lab values). Processing can convert these variables into clinically meaningful information. It won't matter how sophisticated our analysis is if we don't properly process our data. A common saying in data science is \"Junk in, Junk out\". "
   ]
  },
  {
   "cell_type": "markdown",
   "metadata": {
    "heading_collapsed": true,
    "hidden": true
   },
   "source": [
    "## Reading Our data"
   ]
  },
  {
   "cell_type": "markdown",
   "metadata": {
    "hidden": true
   },
   "source": [
    "We'll being by reading in our data so we can clean and use it. "
   ]
  },
  {
   "cell_type": "code",
   "execution_count": null,
   "metadata": {
    "ExecuteTime": {
     "end_time": "2020-01-28T20:55:59.455120Z",
     "start_time": "2020-01-28T20:55:59.098077Z"
    },
    "cell_style": "center",
    "hidden": true
   },
   "outputs": [],
   "source": [
    "# Note: Unicode Transformation Format – 8 (UTF-8) is a standard to encode characters in different languages\n",
    "print('Data loading, please wait')\n",
    "no_show_data = pd.read_csv(\"data/med_no_show.csv\",  encoding=\"UTF-8\", sep=\",\")\n",
    "print('Data loaded!')"
   ]
  },
  {
   "cell_type": "markdown",
   "metadata": {
    "heading_collapsed": true,
    "hidden": true
   },
   "source": [
    "## Cleaning Step 1: Inspecting our Data"
   ]
  },
  {
   "cell_type": "markdown",
   "metadata": {
    "hidden": true
   },
   "source": [
    "Now lets get an overview of our data"
   ]
  },
  {
   "cell_type": "code",
   "execution_count": null,
   "metadata": {
    "ExecuteTime": {
     "end_time": "2020-01-28T20:55:59.486039Z",
     "start_time": "2020-01-28T20:55:59.458112Z"
    },
    "hidden": true
   },
   "outputs": [],
   "source": [
    "no_show_data.head()"
   ]
  },
  {
   "cell_type": "code",
   "execution_count": null,
   "metadata": {
    "ExecuteTime": {
     "end_time": "2020-01-28T20:55:59.532912Z",
     "start_time": "2020-01-28T20:55:59.489029Z"
    },
    "hidden": true
   },
   "outputs": [],
   "source": [
    "no_show_data.info()"
   ]
  },
  {
   "cell_type": "code",
   "execution_count": null,
   "metadata": {
    "ExecuteTime": {
     "end_time": "2020-01-28T20:55:59.650598Z",
     "start_time": "2020-01-28T20:55:59.534908Z"
    },
    "hidden": true
   },
   "outputs": [],
   "source": [
    "no_show_data.describe()"
   ]
  },
  {
   "cell_type": "markdown",
   "metadata": {
    "hidden": true
   },
   "source": [
    "You'll immediately notice some of the results are in a foreign language or in an unfriendly format. This data is derived from deidentified Brazilian patients. We'll need to make this data formatted correctly, easily interpretable, and easily understood by an English audience. We have our work cut out for us but it will be worth it when we analyze the data!"
   ]
  },
  {
   "cell_type": "markdown",
   "metadata": {
    "heading_collapsed": true,
    "hidden": true
   },
   "source": [
    "## Cleaning Step 2: Recoding Variables"
   ]
  },
  {
   "cell_type": "markdown",
   "metadata": {
    "hidden": true
   },
   "source": [
    "We now need to recode our variables into meaningful outputs. Lets give our variable names easily understood labels. "
   ]
  },
  {
   "cell_type": "code",
   "execution_count": null,
   "metadata": {
    "ExecuteTime": {
     "end_time": "2020-01-28T20:55:59.659579Z",
     "start_time": "2020-01-28T20:55:59.653594Z"
    },
    "code_folding": [],
    "hidden": true
   },
   "outputs": [],
   "source": [
    "# Renaming Variables\n",
    "no_show_data.columns=['patient_id','appointment_id','gender','scheduled_day','appointment_day','age',\n",
    "                     'neighborhood','enroll_subsidy','hypertension','diabetes','alcoholism','handicap',\n",
    "                     'sms_received','no_show']\n",
    "\n",
    "print('Variables renamed.')"
   ]
  },
  {
   "cell_type": "markdown",
   "metadata": {
    "hidden": true
   },
   "source": [
    "We now need to recode many of our variables into meaningful outputs. For instance, we will code the variable `hypertension`. If `hypertension` has a value of `1` then we code the variable as `Has hypertension`. If `hypertension` has a value of `0` then we code the variable as `No hypertension`. "
   ]
  },
  {
   "cell_type": "code",
   "execution_count": null,
   "metadata": {
    "ExecuteTime": {
     "end_time": "2020-01-28T20:55:59.862034Z",
     "start_time": "2020-01-28T20:55:59.663563Z"
    },
    "hidden": true
   },
   "outputs": [],
   "source": [
    "# Recoding Variables\n",
    "# Convert to character so can be recoded\n",
    "\n",
    "\n",
    "no_show_data.loc[no_show_data['enroll_subsidy']==1,'enroll_subsidy']='Enrolled'\n",
    "no_show_data.loc[no_show_data['enroll_subsidy']==0,'enroll_subsidy']='Not enrolled'\n",
    "\n",
    "\n",
    "\n",
    "no_show_data.loc[no_show_data.hypertension==1,'hypertension']='Has hypertension'\n",
    "no_show_data.loc[no_show_data.hypertension==0,'hypertension']='No hypertension'\n",
    "\n",
    "no_show_data.loc[no_show_data.diabetes==1,'diabetes']='Has diabetes'\n",
    "no_show_data.loc[no_show_data.diabetes==0,'diabetes']='No diabetes'\n",
    "\n",
    "no_show_data.loc[no_show_data.sms_received==1,'sms_received']='Yes'\n",
    "no_show_data.loc[no_show_data.sms_received==0,'sms_received']='No'\n",
    "\n",
    "print('Variables recoded')"
   ]
  },
  {
   "cell_type": "markdown",
   "metadata": {
    "hidden": true
   },
   "source": [
    "Let confirm our changes"
   ]
  },
  {
   "cell_type": "code",
   "execution_count": null,
   "metadata": {
    "ExecuteTime": {
     "end_time": "2020-01-28T20:55:59.885968Z",
     "start_time": "2020-01-28T20:55:59.867019Z"
    },
    "hidden": true
   },
   "outputs": [],
   "source": [
    "no_show_data[['enroll_subsidy', 'hypertension', 'diabetes', 'sms_received']].head()"
   ]
  },
  {
   "cell_type": "markdown",
   "metadata": {
    "heading_collapsed": true,
    "hidden": true
   },
   "source": [
    "### Dealing with Date and Time Data"
   ]
  },
  {
   "cell_type": "code",
   "execution_count": null,
   "metadata": {
    "ExecuteTime": {
     "end_time": "2020-01-28T20:55:59.907909Z",
     "start_time": "2020-01-28T20:55:59.888999Z"
    },
    "hidden": true
   },
   "outputs": [],
   "source": [
    "no_show_data[['scheduled_day', 'appointment_day']].head()"
   ]
  },
  {
   "cell_type": "markdown",
   "metadata": {
    "hidden": true
   },
   "source": [
    "We also need to make sure the dates are converted into the correct variable type. They have `T` and `Z` characters spread out throughout the entry. Lets get rid of these."
   ]
  },
  {
   "cell_type": "code",
   "execution_count": null,
   "metadata": {
    "ExecuteTime": {
     "end_time": "2020-01-28T20:56:00.257973Z",
     "start_time": "2020-01-28T20:55:59.909904Z"
    },
    "hidden": true
   },
   "outputs": [],
   "source": [
    "no_show_data.scheduled_day=no_show_data.scheduled_day.str.replace('T',' ')\n",
    "no_show_data.scheduled_day=no_show_data.scheduled_day.str.replace('Z','')\n",
    "no_show_data.appointment_day=no_show_data.appointment_day.str.replace('T',' ')\n",
    "no_show_data.appointment_day=no_show_data.appointment_day.str.replace('Z','')\n",
    "\n",
    "print('Character removed')"
   ]
  },
  {
   "cell_type": "code",
   "execution_count": null,
   "metadata": {
    "ExecuteTime": {
     "end_time": "2020-01-28T20:56:00.273933Z",
     "start_time": "2020-01-28T20:56:00.259968Z"
    },
    "hidden": true
   },
   "outputs": [],
   "source": [
    "no_show_data[['scheduled_day', 'appointment_day']].head()"
   ]
  },
  {
   "cell_type": "markdown",
   "metadata": {
    "heading_collapsed": true,
    "hidden": true
   },
   "source": [
    "## Cleaning Step 3: Checking for Missing Values"
   ]
  },
  {
   "cell_type": "markdown",
   "metadata": {
    "hidden": true
   },
   "source": [
    "Let's determine the number of missing for each variable"
   ]
  },
  {
   "cell_type": "code",
   "execution_count": null,
   "metadata": {
    "ExecuteTime": {
     "end_time": "2020-01-28T20:56:00.350725Z",
     "start_time": "2020-01-28T20:56:00.275926Z"
    },
    "hidden": true
   },
   "outputs": [],
   "source": [
    "# Determine number of missing for each variable\n",
    "print('Number of Missing Data for Each Variable:')\n",
    "no_show_data.isna().sum()"
   ]
  },
  {
   "cell_type": "markdown",
   "metadata": {
    "hidden": true
   },
   "source": [
    "No missing data! This will rarely happen. It's more likely there are erroneous values that our program is not picking up as errors. "
   ]
  },
  {
   "cell_type": "code",
   "execution_count": null,
   "metadata": {
    "ExecuteTime": {
     "end_time": "2020-01-28T20:56:00.371671Z",
     "start_time": "2020-01-28T20:56:00.352720Z"
    },
    "hidden": true
   },
   "outputs": [],
   "source": [
    "no_show_data.age.describe()"
   ]
  },
  {
   "cell_type": "markdown",
   "metadata": {
    "hidden": true
   },
   "source": [
    "For instance, in `age` we can see someone that is -1 years old and 115 years old. These are highly unlikely values. Lets remove implausible values. We will then classify these implausible values in a format our program can recognize. Based on observation, we can make these initial judgements:\n",
    "\n",
    "**Age:**\n",
    "- It's physiologically implausible for an individual to be -1 years old and highly unlikely for an individuals to be 115 years old. This is likely an input error. \n",
    "\n",
    "Lets examine `age` more closely"
   ]
  },
  {
   "cell_type": "code",
   "execution_count": null,
   "metadata": {
    "ExecuteTime": {
     "end_time": "2020-01-28T20:56:00.388624Z",
     "start_time": "2020-01-28T20:56:00.373663Z"
    },
    "hidden": true
   },
   "outputs": [],
   "source": [
    "print('Age:')\n",
    "no_show_data.age.quantile((0, .01, .05, .10, .25, .50, .75, .90, .95, .99, 1))"
   ]
  },
  {
   "cell_type": "markdown",
   "metadata": {
    "hidden": true
   },
   "source": [
    "Once again, ages below 0 are impossible and ages above 100 are unlikely given the trends in our data. Lets remove these values. "
   ]
  },
  {
   "cell_type": "code",
   "execution_count": null,
   "metadata": {
    "ExecuteTime": {
     "end_time": "2020-01-28T20:56:00.450462Z",
     "start_time": "2020-01-28T20:56:00.391617Z"
    },
    "hidden": true
   },
   "outputs": [],
   "source": [
    "no_show_data=no_show_data[no_show_data.age >= 0]\n",
    "no_show_data=no_show_data[no_show_data.age<=100]\n",
    "\n",
    "print('Data edited')"
   ]
  },
  {
   "cell_type": "markdown",
   "metadata": {
    "hidden": true
   },
   "source": [
    "Lets confirm"
   ]
  },
  {
   "cell_type": "code",
   "execution_count": null,
   "metadata": {
    "ExecuteTime": {
     "end_time": "2020-01-28T20:56:00.470439Z",
     "start_time": "2020-01-28T20:56:00.453454Z"
    },
    "hidden": true
   },
   "outputs": [],
   "source": [
    "print('Number of Missing Data for Each Variable:')\n",
    "no_show_data.age.describe()"
   ]
  },
  {
   "cell_type": "markdown",
   "metadata": {
    "hidden": true
   },
   "source": [
    "Better although it looks like we still have unusually clean data. Not a bad problem to have!"
   ]
  },
  {
   "cell_type": "markdown",
   "metadata": {
    "heading_collapsed": true,
    "hidden": true
   },
   "source": [
    "## Cleaning Step 4: Creating Day of Week"
   ]
  },
  {
   "cell_type": "markdown",
   "metadata": {
    "hidden": true
   },
   "source": [
    "Thanks to our time data, we can extract some useful information. We have both the scheduled time and the appointment time. The appointment time would be more useful since we are looking for appointment day no-shows. We can use our time variable to determine the day of the week the appointment occurred. "
   ]
  },
  {
   "cell_type": "code",
   "execution_count": null,
   "metadata": {
    "ExecuteTime": {
     "end_time": "2020-01-28T20:56:00.550197Z",
     "start_time": "2020-01-28T20:56:00.472436Z"
    },
    "hidden": true
   },
   "outputs": [],
   "source": [
    "# no_show_data$appt_day_of_week <- weekdays(no_show_data$appointment_day)\n",
    "no_show_data['appt_day_of_week']=pd.to_datetime(no_show_data.appointment_day).dt.weekday\n",
    "\n",
    "no_show_data['appt_day_of_week'] = no_show_data.appt_day_of_week.apply(lambda x: 'Monday' if x == 0 \n",
    "                                                  else ('Tuesday' if x == 1\n",
    "                                                        else ('Wednesday' if x == 2\n",
    "                                                              else ('Thursday' if x == 3 \n",
    "                                                                    else ('Friday' if x == 4 \n",
    "                                                                          else ('Saturday' if x == 5 \n",
    "                                                                                else 'Sunday'))))))\n",
    "                                                            \n",
    "print('Variable appt_day_of_week created')"
   ]
  },
  {
   "cell_type": "markdown",
   "metadata": {
    "ExecuteTime": {
     "end_time": "2019-10-24T18:20:03.591316Z",
     "start_time": "2019-10-24T18:19:58.299Z"
    },
    "hidden": true
   },
   "source": [
    "Many times you can use your given data to extract even more useful data. Be on the lookout for these opportunities. The more **relevant** data you can extract, the better. "
   ]
  },
  {
   "cell_type": "markdown",
   "metadata": {
    "heading_collapsed": true
   },
   "source": [
    "# Exploratory Data Analysis (EDA)"
   ]
  },
  {
   "cell_type": "markdown",
   "metadata": {
    "hidden": true
   },
   "source": [
    "Now that we've cleaned our data we can begin exploring our data. Using this, we can see which features are good candidates for building our prediction model. Feature selection  will determine how good or how bad your model is. Bad feature selection can have a hugely negative impact on your model even if you used the most advanced techniques. Understanding the clinical nuances of your data can inform better feature selection"
   ]
  },
  {
   "cell_type": "markdown",
   "metadata": {
    "heading_collapsed": true,
    "hidden": true
   },
   "source": [
    "### Why Can't We Just Use More Variables?"
   ]
  },
  {
   "cell_type": "markdown",
   "metadata": {
    "hidden": true
   },
   "source": [
    "One issue you might be wondering about is why do we even need to select variables. Why not just use all of the variables? After all, more data lead to better models right? This is a common misconception that even experience analysts need to watch out for. Including too many features in your prediction model can lead to what is known as 'overfitting'. Overfitting is essentially where you build a model that adheres too closely to your current data set and is unable to predict observations that are not from your current data set. In other words, its where you develop a model that tuned too closely to your current data, and is not generalizable to outside data sources. \n",
    "\n",
    "<img src=\"https://3gp10c1vpy442j63me73gy3s-wpengine.netdna-ssl.com/wp-content/uploads/2018/03/Screen-Shot-2018-03-22-at-11.22.15-AM-e1527613915658.png\" align=\"center\" style=\"width: 50%; margin-bottom: 0.5em; margin-top: 0.5em;\">"
   ]
  },
  {
   "cell_type": "markdown",
   "metadata": {
    "hidden": true
   },
   "source": [
    "The boxplot divides data into division known as quartiles. The first quartile (Q1) corresponds to the 25th percentile of the data. The second quartile (Q2) corresponds to the 50th percentile of the data. This is also the median. The third quartile (Q3) corresponds to the 75 percentile of the data. The lines on the box represent Q1, the median, and Q3. The tails or 'whiskers' of the plots represent 1.5 * IQR above and below the Q1 and Q3. \n",
    "\n",
    "<img src=\"https://miro.medium.com/max/1200/1*2c21SkzJMf3frPXPAR_gZA.png\" align=\"center\" style=\"width: 70%; margin-bottom: 0.5em; margin-top: 0.5em;\">"
   ]
  },
  {
   "cell_type": "markdown",
   "metadata": {
    "heading_collapsed": true,
    "hidden": true
   },
   "source": [
    "## Getting a Closer Look at our Data"
   ]
  },
  {
   "cell_type": "markdown",
   "metadata": {
    "hidden": true
   },
   "source": [
    "Lets take a closer look as we begin our exploratory data analysis. "
   ]
  },
  {
   "cell_type": "code",
   "execution_count": null,
   "metadata": {
    "ExecuteTime": {
     "end_time": "2020-01-28T20:56:00.652920Z",
     "start_time": "2020-01-28T20:56:00.551192Z"
    },
    "hidden": true
   },
   "outputs": [],
   "source": [
    "no_show_data.describe()"
   ]
  },
  {
   "cell_type": "code",
   "execution_count": null,
   "metadata": {
    "ExecuteTime": {
     "end_time": "2020-01-28T20:56:00.738690Z",
     "start_time": "2020-01-28T20:56:00.654915Z"
    },
    "hidden": true
   },
   "outputs": [],
   "source": [
    "no_show_data.info()"
   ]
  },
  {
   "cell_type": "markdown",
   "metadata": {
    "hidden": true
   },
   "source": [
    "This summary page presents us with quite a bit of data. The first thing to realize is that the output will differ based on whether the variable is numeric or categorical. Numeric outputs will include summary statistics while categorical variables will include frequency counts of each category. \n",
    "\n",
    "These summaries will provide a useful reference throughout our exploratory data analysis. "
   ]
  },
  {
   "cell_type": "markdown",
   "metadata": {
    "heading_collapsed": true,
    "hidden": true
   },
   "source": [
    "## EDA Step 1: Assessing Numeric Variables"
   ]
  },
  {
   "cell_type": "markdown",
   "metadata": {
    "hidden": true
   },
   "source": [
    "We can see that our only numeric variable is `age`. Lets examine its distribution.  "
   ]
  },
  {
   "cell_type": "code",
   "execution_count": null,
   "metadata": {
    "ExecuteTime": {
     "end_time": "2020-01-28T20:56:01.136625Z",
     "start_time": "2020-01-28T20:56:00.739687Z"
    },
    "hidden": true
   },
   "outputs": [],
   "source": [
    "### Age ###\n",
    "# Create Plot\n",
    "plt.figure(figsize=(15,15))\n",
    "n, bins, patches=plt.hist(no_show_data.age,bins=15, alpha=0.7, rwidth=0.85)\n",
    "xlabel=plt.xlabel('Age (years)')\n",
    "ylabel=plt.ylabel('Frequency Count')\n",
    "plt.axvline(no_show_data.age.median(), color='r',linestyle='dashed')\n",
    "plt.text(45,12000,'Dashed Line Represents Median Age')\n",
    "plt.show()"
   ]
  },
  {
   "cell_type": "markdown",
   "metadata": {
    "hidden": true
   },
   "source": [
    "Now lets see if theres a relationship between `age` and `no_show`"
   ]
  },
  {
   "cell_type": "code",
   "execution_count": null,
   "metadata": {
    "ExecuteTime": {
     "end_time": "2020-01-28T20:56:01.838767Z",
     "start_time": "2020-01-28T20:56:01.138621Z"
    },
    "hidden": true
   },
   "outputs": [],
   "source": [
    "plt.figure(figsize=(15,15))\n",
    "sns.violinplot(y=no_show_data.no_show,x=no_show_data.age)\n",
    "plt.xlabel('Age')\n",
    "plt.ylabel('No Show')\n",
    "print('The dots in the center of each violin plot represent median age of each group')"
   ]
  },
  {
   "cell_type": "markdown",
   "metadata": {
    "hidden": true
   },
   "source": [
    "This is difficult. The distribution shape and median seems similar, but there appear to be nuanced differences. It's difficult to tell whether there is a significant difference in showing up to appointments by age group. We can gain further clarity by performing a t-test"
   ]
  },
  {
   "cell_type": "code",
   "execution_count": null,
   "metadata": {
    "ExecuteTime": {
     "end_time": "2020-01-28T20:56:01.899585Z",
     "start_time": "2020-01-28T20:56:01.840744Z"
    },
    "hidden": true
   },
   "outputs": [],
   "source": [
    "stats.ttest_ind(no_show_data[no_show_data.no_show=='No'].age, no_show_data[no_show_data.no_show=='Yes'].age,equal_var= False)"
   ]
  },
  {
   "cell_type": "markdown",
   "metadata": {
    "hidden": true
   },
   "source": [
    "Based on our t.test results we can see that is looks like age between whether an individual showed to their appointments are not the same (p < 0.05). For this reason we will be keeping this as a variable for building our prediction model. "
   ]
  },
  {
   "cell_type": "markdown",
   "metadata": {
    "heading_collapsed": true,
    "hidden": true
   },
   "source": [
    "### What is a t-test"
   ]
  },
  {
   "cell_type": "markdown",
   "metadata": {
    "hidden": true
   },
   "source": [
    "A t-test is a type of test to assess if there is a statistically significant difference between the means of two groups. It requires that both variables being test are numeric variables. In our case, we were examining the mean age of the group that showed up to their appointments against the group that did not show up. The test worked because age is a numeric variable. "
   ]
  },
  {
   "cell_type": "markdown",
   "metadata": {
    "heading_collapsed": true,
    "hidden": true
   },
   "source": [
    "## EDA Step 2: Assessing Categorical Variables"
   ]
  },
  {
   "cell_type": "markdown",
   "metadata": {
    "hidden": true
   },
   "source": [
    "Finally lets look at our remaining variables. The rest of the variable of interest are categorical. We should be able to observe their effect on stroke well and quickly using stacked bar plots. "
   ]
  },
  {
   "cell_type": "code",
   "execution_count": null,
   "metadata": {
    "ExecuteTime": {
     "end_time": "2020-01-28T20:56:01.915541Z",
     "start_time": "2020-01-28T20:56:01.902575Z"
    },
    "hidden": true
   },
   "outputs": [],
   "source": [
    "def stacked_plot(feature):\n",
    "    binary=no_show_data.groupby('no_show')\n",
    "    length=len(no_show_data[feature].unique())\n",
    "    layers=[]\n",
    "    for symbol, group in binary:\n",
    "        sequence=group[feature].value_counts().index\n",
    "        temp=[]\n",
    "        try:\n",
    "            for i in range(length):\n",
    "                number=group[feature].value_counts()[i]\n",
    "                temp.append(number)\n",
    "        except:\n",
    "            print('there\\'s no case for at least one category ')\n",
    "        temp=dict(zip(sequence,temp))\n",
    "        layers.append(temp)\n",
    "    names=no_show_data[feature].unique()\n",
    "    no_show_layer=[0]*len(names)\n",
    "    show_layer=[0]*len(names)\n",
    "    position=np.arange(len(names))+1\n",
    "    for i in range(len(names)):\n",
    "        try:\n",
    "            no_show_layer[i]=layers[0][names[i]]\n",
    "        except:\n",
    "            no_show_layer[i]=0\n",
    "        try:\n",
    "            show_layer[i]=layers[1][names[i]]\n",
    "        except:\n",
    "            show_layer[i]=0\n",
    "        total=no_show_layer[i]+show_layer[i]\n",
    "        no_show_layer[i]=no_show_layer[i]/total\n",
    "        show_layer[i]=show_layer[i]/total\n",
    "    plt.bar(position,no_show_layer, color='blue', edgecolor='white')\n",
    "    plt.bar(position, show_layer, bottom=no_show_layer, color='red', edgecolor='white')\n",
    "    plt.title(feature)\n",
    "    plt.xticks(position, names, fontweight='bold')"
   ]
  },
  {
   "cell_type": "code",
   "execution_count": null,
   "metadata": {
    "ExecuteTime": {
     "end_time": "2020-01-28T20:56:03.823951Z",
     "start_time": "2020-01-28T20:56:01.917536Z"
    },
    "hidden": true
   },
   "outputs": [],
   "source": [
    "plt.figure(figsize=(20,20))\n",
    "plt.subplot(4,2,1)\n",
    "stacked_plot('gender')\n",
    "\n",
    "plt.subplot(4,2,2)\n",
    "stacked_plot('enroll_subsidy')\n",
    "\n",
    "plt.subplot(4,2,3)\n",
    "stacked_plot('hypertension')\n",
    "\n",
    "plt.subplot(4,2,4)\n",
    "stacked_plot('diabetes')\n",
    "\n",
    "plt.subplot(4,2,5)\n",
    "stacked_plot('alcoholism')\n",
    "\n",
    "plt.subplot(4,2,6)\n",
    "stacked_plot('handicap')\n",
    "\n",
    "plt.subplot(4,2,7)\n",
    "stacked_plot('sms_received')\n",
    "\n",
    "plt.subplot(4,2,8)\n",
    "stacked_plot('appt_day_of_week')\n",
    "\n",
    "plt.show()"
   ]
  },
  {
   "cell_type": "code",
   "execution_count": null,
   "metadata": {
    "ExecuteTime": {
     "end_time": "2020-01-28T20:56:03.924682Z",
     "start_time": "2020-01-28T20:56:03.826944Z"
    },
    "hidden": true
   },
   "outputs": [],
   "source": [
    "no_show_data.info()"
   ]
  },
  {
   "cell_type": "code",
   "execution_count": null,
   "metadata": {
    "ExecuteTime": {
     "end_time": "2020-01-28T20:56:04.027412Z",
     "start_time": "2020-01-28T20:56:03.927675Z"
    },
    "hidden": true
   },
   "outputs": [],
   "source": [
    "no_show_data.describe()"
   ]
  },
  {
   "cell_type": "markdown",
   "metadata": {
    "hidden": true
   },
   "source": [
    "We can see based on our visualizations that the variables `age`, `neighborhood`, `enroll_subsidy`, `handicap`, `sms_received`, and `appt_day_of_week` have an effect on no show status. This is indicates they would be good variables to include in our prediction model. "
   ]
  },
  {
   "cell_type": "markdown",
   "metadata": {
    "hidden": true
   },
   "source": [
    "One variable we have not look at yet is the `neighborhood` variable. Since there are 81 different neighborhoods included in our data, it would not be practical to visualize this variable using a stacked bar plot similar to how we did for our other variables. However, we can use an chi-squared test to see whether this variable has an effect on no show status. "
   ]
  },
  {
   "cell_type": "code",
   "execution_count": null,
   "metadata": {
    "ExecuteTime": {
     "end_time": "2020-01-28T20:56:04.147087Z",
     "start_time": "2020-01-28T20:56:04.030400Z"
    },
    "hidden": true
   },
   "outputs": [],
   "source": [
    "contingency_table = pd.crosstab(no_show_data.no_show,no_show_data.neighborhood)\n",
    "\n",
    "f_obs=np.array([contingency_table.iloc[0][:],\n",
    "              contingency_table.iloc[1][:]])\n",
    "f_obs\n",
    "\n",
    "stats.chi2_contingency(f_obs)[0:3]"
   ]
  },
  {
   "cell_type": "markdown",
   "metadata": {
    "hidden": true
   },
   "source": [
    "Based on our results we can see that the number of no shows differs significantly based upon neighborhood. "
   ]
  },
  {
   "cell_type": "markdown",
   "metadata": {
    "heading_collapsed": true,
    "hidden": true
   },
   "source": [
    "### What is a Chi-squared Test"
   ]
  },
  {
   "cell_type": "markdown",
   "metadata": {
    "hidden": true
   },
   "source": [
    "A chi-square test is a statistical test that tells you whether groups of observations are different. For instance, say you're researching two companies and you divide them either as male or female. The number of males compared to females in the two companies differ but how can you tell that this is not random chance? A chi-squared test can be used to differentiate whether the **observed** number of males and females in your study differs from the **expected** number of males and females. \n",
    "\n",
    "> Note: Chi-square tests can only be used for categorical variables. There are separate tests to determine whether numerical numbers differ form one another. These additional tests are beyond the scope of the case. "
   ]
  },
  {
   "cell_type": "markdown",
   "metadata": {
    "heading_collapsed": true,
    "hidden": true
   },
   "source": [
    "## EDA Step 3: Logistic Regression "
   ]
  },
  {
   "cell_type": "markdown",
   "metadata": {
    "hidden": true
   },
   "source": [
    "Now that our variables have been successfully converted and our outcome has been defined, we can analyze our data. Logistic regression is a mathematical model that estimates the probability of a binary outcomes (such as our risk label). It is named after the logistic curve which takes the S-shape depicted below.\n",
    "<img src=\"https://upload.wikimedia.org/wikipedia/commons/thumb/8/88/Logistic-curve.svg/640px-Logistic-curve.svg.png?1566122052688\" alt=\"Logistic Curve\" title=\"Logistic Curve\" />"
   ]
  },
  {
   "cell_type": "markdown",
   "metadata": {
    "hidden": true,
    "solution2": "hidden",
    "solution2_first": true
   },
   "source": [
    "**Pre-Check:** What is our primary outcome? What information will a logistic regression model tell use about our outcome?"
   ]
  },
  {
   "cell_type": "markdown",
   "metadata": {
    "hidden": true,
    "solution2": "hidden"
   },
   "source": [
    "Our primary outcome is whether a individual did or did not show to their appointment. The logistic regression model will allow us to see how individuals variables affect whether an individual has a has a no show **while controlling for other variables in the model**. For instance, we can see whether being older affects having a no show while controlling for handicaps, neighborhood, etc...\n",
    "\n",
    "Very useful indeed!"
   ]
  },
  {
   "cell_type": "markdown",
   "metadata": {
    "hidden": true,
    "solution2": "hidden",
    "solution2_first": true
   },
   "source": [
    "**Follow-Up:** What is statistical significance? What is a generally accepted level of statistical significance in healthcare research?"
   ]
  },
  {
   "cell_type": "markdown",
   "metadata": {
    "hidden": true,
    "solution2": "hidden"
   },
   "source": [
    "Statistical Significance can be defined as the chance that the relationship you observed in your data occurred by chance. What does this mean? Lets say our logistic regression model finds that weight has a statistically significant effect on being high risk or low risk asthmatic patient. This means that it more likely that there is indeed a relationship between weight and risk than chance would suggest. \n",
    "\n",
    "The conventional level of significance that is accepted is < 0.05 (this number is referred to as a p-value). This means that there is less than 5% chance that the observed relationship in the data was due to chance alone. The image below display a sample R output.\n",
    "\n",
    "<img src=\"https://drchrispook.files.wordpress.com/2017/02/anova-output-from-r1.jpg\" align=\"center\" style=\"margin-bottom: 0.5em; margin-top: 0.5em;\">"
   ]
  },
  {
   "cell_type": "markdown",
   "metadata": {
    "hidden": true
   },
   "source": [
    "We can now create our logistic model. "
   ]
  },
  {
   "cell_type": "code",
   "execution_count": null,
   "metadata": {
    "ExecuteTime": {
     "end_time": "2020-01-28T20:56:04.181994Z",
     "start_time": "2020-01-28T20:56:04.150079Z"
    },
    "hidden": true
   },
   "outputs": [],
   "source": [
    "no_show_data.head()"
   ]
  },
  {
   "cell_type": "code",
   "execution_count": null,
   "metadata": {
    "ExecuteTime": {
     "end_time": "2020-01-28T20:56:04.281727Z",
     "start_time": "2020-01-28T20:56:04.185983Z"
    },
    "hidden": true
   },
   "outputs": [],
   "source": [
    "no_show_data.loc[no_show_data.no_show=='No','no_show']=0\n",
    "no_show_data.loc[no_show_data.no_show=='Yes','no_show']=1"
   ]
  },
  {
   "cell_type": "code",
   "execution_count": null,
   "metadata": {
    "ExecuteTime": {
     "end_time": "2020-01-28T20:56:04.453299Z",
     "start_time": "2020-01-28T20:56:04.284719Z"
    },
    "hidden": true
   },
   "outputs": [],
   "source": [
    "no_show_data.handicap=no_show_data.handicap.astype('category')\n",
    "X=no_show_data[['age','neighborhood','enroll_subsidy','handicap','sms_received','appt_day_of_week']]\n",
    "Y=no_show_data.no_show\n",
    "X=pd.get_dummies(X)"
   ]
  },
  {
   "cell_type": "code",
   "execution_count": null,
   "metadata": {
    "ExecuteTime": {
     "end_time": "2020-01-28T20:56:11.099388Z",
     "start_time": "2020-01-28T20:56:04.455263Z"
    },
    "hidden": true
   },
   "outputs": [],
   "source": [
    "import statsmodels.api as sm\n",
    "model=sm.GLM(Y,X)\n",
    "result=model.fit()"
   ]
  },
  {
   "cell_type": "code",
   "execution_count": null,
   "metadata": {
    "ExecuteTime": {
     "end_time": "2020-01-28T20:56:11.401582Z",
     "start_time": "2020-01-28T20:56:11.101384Z"
    },
    "hidden": true
   },
   "outputs": [],
   "source": [
    "result.summary()"
   ]
  },
  {
   "cell_type": "markdown",
   "metadata": {
    "hidden": true
   },
   "source": [
    "We can see that several of our variables do not have a statistically significant effect. Several of these variables are clinically relevant. However, many of these variables had an observable effect on no show status. In addition, some of the variable that are not statistically significant such as `neighborhood` and `handicap` are variables which can have large effect on health access. For these reasons, we will be keeping these variables in our model. \n",
    "\n",
    "While statistical significance is important, it is always more important to consider whether our predictor are clinically relevant for the outcome we will be predicting. Remember to alway consider the clinical significance of a variable and not just the statistical significance!"
   ]
  },
  {
   "cell_type": "markdown",
   "metadata": {
    "heading_collapsed": true
   },
   "source": [
    "# Building A Predictive Model"
   ]
  },
  {
   "cell_type": "markdown",
   "metadata": {
    "hidden": true,
    "solution2": "hidden",
    "solution2_first": true
   },
   "source": [
    "**Pre-Check:** So far we haven't done any machine learning yet. What we've done can be considered traditional statistical analyses. What is Machine Learning?"
   ]
  },
  {
   "cell_type": "markdown",
   "metadata": {
    "hidden": true,
    "solution2": "hidden"
   },
   "source": [
    "In machine learning, data is split into a training and test set. A machine learning model is then trainined on the training set to predict whatever outcome of interest it was designed to predict (in our case we're predicting whether the asthmatic patient is high- or low- risk). The models predictive performance is then evaluated using the test set. \n",
    "\n",
    "<img src=\"https://www.sqlservercentral.com/wp-content/uploads/2019/05/Image-2.jpg\" align=\"center\" style=\"margin-bottom: 0.5em; margin-top: 0.5em;\">"
   ]
  },
  {
   "cell_type": "markdown",
   "metadata": {
    "hidden": true
   },
   "source": [
    "For our case we will be using a model called a decision tree. Decision trees are charts which help make a decision or prediction. Each branch represents a possible outcome. The end of branches represent an end result or decision. Decision trees are common in medical settings. For instance, below is an algorithm for evaluating febrile seizures. This is an example of a decision tree. \n",
    "\n",
    "<img src=\"https://img.grepmed.com/uploads/1105/febrileseizure-management-algorithm-diagnosis-complex-original.png\" align=\"center\" style=\"margin-bottom: 0.5em; margin-top: 0.5em;\">"
   ]
  },
  {
   "cell_type": "markdown",
   "metadata": {
    "heading_collapsed": true,
    "hidden": true
   },
   "source": [
    "## Predictive Model Step 1: Training and Testing Our Data"
   ]
  },
  {
   "cell_type": "markdown",
   "metadata": {
    "hidden": true
   },
   "source": [
    "We now need to split our data into training and test data. We will be splitting our data into 80% training data and 20% test data. "
   ]
  },
  {
   "cell_type": "code",
   "execution_count": null,
   "metadata": {
    "ExecuteTime": {
     "end_time": "2020-01-28T20:56:11.468402Z",
     "start_time": "2020-01-28T20:56:11.403582Z"
    },
    "hidden": true
   },
   "outputs": [],
   "source": [
    "# Split the training data and testing data\n",
    "X_train, X_test, y_train, y_test = train_test_split(X, Y, test_size=0.2, random_state=100)"
   ]
  },
  {
   "cell_type": "markdown",
   "metadata": {
    "hidden": true
   },
   "source": [
    "Now let's fit our model to the training data. We will then take a look at our model's performance using the test data and a confusion matrix.\n",
    "\n",
    "> If you're unsure what a confusion matrix is, please consult section 5.1.1 ('What is a Confusion Matrix')"
   ]
  },
  {
   "cell_type": "code",
   "execution_count": null,
   "metadata": {
    "ExecuteTime": {
     "end_time": "2020-01-28T20:56:11.476381Z",
     "start_time": "2020-01-28T20:56:11.470399Z"
    },
    "hidden": true
   },
   "outputs": [],
   "source": [
    "from sklearn.tree import DecisionTreeClassifier\n",
    "dtc=DecisionTreeClassifier(random_state=100,class_weight={0:1,1:4})"
   ]
  },
  {
   "cell_type": "code",
   "execution_count": null,
   "metadata": {
    "ExecuteTime": {
     "end_time": "2020-01-28T20:56:14.383726Z",
     "start_time": "2020-01-28T20:56:11.479374Z"
    },
    "hidden": true
   },
   "outputs": [],
   "source": [
    "dtc.fit(X_train,y_train)"
   ]
  },
  {
   "cell_type": "markdown",
   "metadata": {
    "ExecuteTime": {
     "end_time": "2019-10-24T18:20:29.588519Z",
     "start_time": "2019-10-24T18:20:00.025Z"
    },
    "hidden": true
   },
   "source": [
    "Now lets see how our model performed. "
   ]
  },
  {
   "cell_type": "code",
   "execution_count": null,
   "metadata": {
    "ExecuteTime": {
     "end_time": "2020-01-28T20:56:14.497408Z",
     "start_time": "2020-01-28T20:56:14.390667Z"
    },
    "hidden": true
   },
   "outputs": [],
   "source": [
    "# Make prediction\n",
    "y_pred=dtc.predict(X_test)\n",
    "# Display Confusion Matrix\n",
    "print(confusion_matrix(y_test,y_pred))\n",
    "print(classification_report(y_test,y_pred))"
   ]
  },
  {
   "cell_type": "markdown",
   "metadata": {
    "hidden": true
   },
   "source": [
    "Our model was able to correctly predict 61% of the time with a sensitivity of 52% and a specificity of 64%. \n",
    "\n",
    "One question you may be wondering is does our model perform well enough? That depends. That depends on the type of condition or prediction we're making. That depends on whether alternative predictive models or tools exist and how our new model compares. Additional research or consideration should always be done consider whether a model's result is not only statistically significant, but **clinically significant**. "
   ]
  },
  {
   "cell_type": "markdown",
   "metadata": {
    "heading_collapsed": true,
    "hidden": true
   },
   "source": [
    "### What Is A Confusion Matrix"
   ]
  },
  {
   "cell_type": "markdown",
   "metadata": {
    "hidden": true
   },
   "source": [
    "A confusion matrix is a 2x2 table which computes 4 different combinations of predicted vs. actual values. The combinations are True Positive (TP), True Negative (TN), False Positive (FP), and False Negative (FN)\n",
    "\n",
    "<img src=\"https://miro.medium.com/max/320/1*Z54JgbS4DUwWSknhDCvNTQ.png\" align=\"center\" style=\"margin-bottom: 0.5em; margin-top: 0.5em;\">\n",
    "\n",
    "These 4 interpretations can be combined to generate many useful metrics. For our purpose there are three we will focus on. The first is accuracy: <a href=\"https://www.codecogs.com/eqnedit.php?latex=\\large&space;(TP&space;&plus;&space;TN)/Total\" target=\"_blank\"><img src=\"https://latex.codecogs.com/gif.latex?\\large&space;(TP&space;&plus;&space;TN)/Total\" title=\"\\large (TP + TN)/Total\" style=\"margin-bottom: 0.5em; margin-top: 0.5em;\"/></a>\n",
    "Accuracy allows us to measure how often our model predicted correctly. The second metric is sensitivity:<a href=\"https://www.codecogs.com/eqnedit.php?latex=\\large&space;TP&space;/&space;(TP&space;&plus;&space;FN)\" target=\"_blank\"><img src=\"https://latex.codecogs.com/gif.latex?\\large&space;TP&space;/&space;(TP&space;&plus;&space;FN)\" title=\"\\large TP / (TP + FN)\" style=\"margin-bottom: 0.5em; margin-top: 0.5em;\"/></a>\n",
    "Sensitivity asks the question, that when our outcome is actually positive (ie. in our case when our patient is actually high-risk) how often will the model predict positively (ie. how often will the model then predict the patient to be high-risk). The final metric is specificity:<a href=\"https://www.codecogs.com/eqnedit.php?latex=\\large&space;FP&space;/&space;(FP&space;&plus;&space;TN)\" target=\"_blank\"><img src=\"https://latex.codecogs.com/gif.latex?\\large&space;FP&space;/&space;(FP&space;&plus;&space;TN)\" title=\"\\large FP / (FP + TN)\" style=\"margin-bottom: 0.5em; margin-top: 0.5em;\"/></a>\n",
    "Specificity asks the question, that when the outcome is actually negative (ie. in our case when our patient is actually low-risk) how often will the model predict negatively (ie. how often will the model then predict the patient to be low-risk). \n",
    "\n",
    "\n"
   ]
  },
  {
   "cell_type": "markdown",
   "metadata": {
    "heading_collapsed": true,
    "hidden": true
   },
   "source": [
    "## Predictive Model Step 2: Evaluating our Model"
   ]
  },
  {
   "cell_type": "markdown",
   "metadata": {
    "hidden": true
   },
   "source": [
    "We will be evaluating our model using a receiver operating curve (ROC) and the area under the curve (AUC) value. \n",
    "\n",
    "> If you're unsure what a ROC or AUC value is, please consult section 5.2.1 ('Understanding ROC Curves and AUC Values')"
   ]
  },
  {
   "cell_type": "code",
   "execution_count": null,
   "metadata": {
    "ExecuteTime": {
     "end_time": "2020-01-28T20:56:14.744720Z",
     "start_time": "2020-01-28T20:56:14.498381Z"
    },
    "hidden": true,
    "scrolled": false
   },
   "outputs": [],
   "source": [
    "# plot a ROC curve\n",
    "from sklearn.metrics import roc_curve\n",
    "from sklearn.metrics import auc\n",
    "\n",
    "# Compute fpr, tpr, thresholds and roc auc\n",
    "roc_curve(y_test, y_pred)\n",
    "fpr, tpr, thresholds = roc_curve(y_test, y_pred)\n",
    "roc_auc = auc(fpr, tpr)\n",
    "\n",
    "# Plot ROC curve\n",
    "plt.plot(fpr, tpr, label='ROC curve (area = %0.3f)' % roc_auc)\n",
    "plt.plot([0, 1], [0, 1], 'k--')  # random predictions curve\n",
    "plt.xlim([0.0, 1.0])\n",
    "plt.ylim([0.0, 1.0])\n",
    "plt.xlabel('False Positive Rate or (1 - Specifity)')\n",
    "plt.ylabel('True Positive Rate or (Sensitivity)')\n",
    "plt.title('Receiver Operating Characteristic')\n",
    "plt.legend(loc=\"lower right\")"
   ]
  },
  {
   "cell_type": "code",
   "execution_count": null,
   "metadata": {
    "ExecuteTime": {
     "end_time": "2020-01-28T20:56:14.753696Z",
     "start_time": "2020-01-28T20:56:14.746715Z"
    },
    "hidden": true
   },
   "outputs": [],
   "source": [
    "# Calculate the area under the curve (AUC)\n",
    "print('AUC:', roc_auc.round(2))"
   ]
  },
  {
   "cell_type": "markdown",
   "metadata": {
    "hidden": true
   },
   "source": [
    "The closer to the top left corner our ROC curve is the better. The higher our AUC value is the better. These metrics provide useful measures when tuning our model. They are also better overall measures than accuracy alone. We can compare different models using these two metrics. "
   ]
  },
  {
   "cell_type": "markdown",
   "metadata": {
    "heading_collapsed": true,
    "hidden": true
   },
   "source": [
    "### Understanding ROC Curves and AUC Values"
   ]
  },
  {
   "cell_type": "markdown",
   "metadata": {
    "hidden": true
   },
   "source": [
    "An ROC plots sensitivity (probability of predicting a real psoitive will be positive) against 1-specificity (the probability of predicting a real negative will be a positive). A model with a 50-50 change of making a correct decision will have a ROC curve which is just a diagonal line. A model with a curve that hugs the top left corner is a perfect model. The area under a curve is a measure of magnitude of the ROC curve. The closer the ROC curve is to the top left corner, the higher the AUC value is. The higher the AUC value is, the better. \n",
    "\n",
    "<img src=\"https://miro.medium.com/max/406/1*pk05QGzoWhCgRiiFbz-oKQ.png\" style=\"float: center; width: 34%; margin-bottom: 0.5em;\">"
   ]
  },
  {
   "cell_type": "markdown",
   "metadata": {
    "heading_collapsed": true,
    "hidden": true
   },
   "source": [
    "## Machine Learning Explainability"
   ]
  },
  {
   "cell_type": "markdown",
   "metadata": {
    "hidden": true
   },
   "source": [
    "An important part of any model is being able to explain it. We will be measuring the variable importance for our model. The higher the variable importance, the more important that variable is for our model for predicting no shows."
   ]
  },
  {
   "cell_type": "code",
   "execution_count": null,
   "metadata": {
    "ExecuteTime": {
     "end_time": "2020-01-28T20:56:15.331180Z",
     "start_time": "2020-01-28T20:56:14.756690Z"
    },
    "hidden": true
   },
   "outputs": [],
   "source": [
    "# top 20 features\n",
    "features=X_train.columns\n",
    "importances = dtc.feature_importances_\n",
    "indices = np.argsort(importances)[-20:]\n",
    "plt.figure(figsize=(20,20))\n",
    "plt.title('Feature Importances')\n",
    "plt.barh(range(len(indices)), importances[indices], color='b', align='center')\n",
    "plt.yticks(range(len(indices)), features[indices])\n",
    "plt.xlabel('Relative Importance')\n",
    "plt.show()"
   ]
  },
  {
   "cell_type": "markdown",
   "metadata": {
    "hidden": true
   },
   "source": [
    "From our results above, we can see that handicap is by far the most important variable. This indicates that further research among this population could yield interesting insights. In addition, this could indicate that this would be a good group to target to reduce no shows. Finally, we can see that the next most important variable was the appointment day of the week. This also indicates that the day of the week has an impact and any future work to reduce no show appointment could take into account the day of the week. "
   ]
  },
  {
   "cell_type": "markdown",
   "metadata": {
    "hidden": true
   },
   "source": [
    "Congratulations! You've reached the end of the case! This case provided just one example of how analytics and healthcare can be combined to solve clinical problems. I hope your curiosity has been piqued. There much more to learn and much more you can explore in this field!"
   ]
  }
 ],
 "metadata": {
  "kernelspec": {
   "display_name": "Python 3",
   "language": "python",
   "name": "python3"
  },
  "language_info": {
   "codemirror_mode": {
    "name": "ipython",
    "version": 3
   },
   "file_extension": ".py",
   "mimetype": "text/x-python",
   "name": "python",
   "nbconvert_exporter": "python",
   "pygments_lexer": "ipython3",
   "version": "3.7.4"
  },
  "latex_envs": {
   "LaTeX_envs_menu_present": true,
   "autoclose": false,
   "autocomplete": true,
   "bibliofile": "biblio.bib",
   "cite_by": "apalike",
   "current_citInitial": 1,
   "eqLabelWithNumbers": false,
   "eqNumInitial": 1,
   "hotkeys": {
    "equation": "Ctrl-E",
    "itemize": "Ctrl-I"
   },
   "labels_anchors": false,
   "latex_user_defs": false,
   "report_style_numbering": false,
   "user_envs_cfg": false
  },
  "toc": {
   "base_numbering": 1,
   "nav_menu": {},
   "number_sections": true,
   "sideBar": true,
   "skip_h1_title": false,
   "title_cell": "Table of Contents",
   "title_sidebar": "Contents",
   "toc_cell": false,
   "toc_position": {
    "height": "414px",
    "left": "54px",
    "top": "110.8px",
    "width": "276px"
   },
   "toc_section_display": true,
   "toc_window_display": false
  },
  "varInspector": {
   "cols": {
    "lenName": 16,
    "lenType": 16,
    "lenVar": 40
   },
   "kernels_config": {
    "python": {
     "delete_cmd_postfix": "",
     "delete_cmd_prefix": "del ",
     "library": "var_list.py",
     "varRefreshCmd": "print(var_dic_list())"
    },
    "r": {
     "delete_cmd_postfix": ") ",
     "delete_cmd_prefix": "rm(",
     "library": "var_list.r",
     "varRefreshCmd": "cat(var_dic_list()) "
    }
   },
   "types_to_exclude": [
    "module",
    "function",
    "builtin_function_or_method",
    "instance",
    "_Feature"
   ],
   "window_display": true
  }
 },
 "nbformat": 4,
 "nbformat_minor": 4
}
