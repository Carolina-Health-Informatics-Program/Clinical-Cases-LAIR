{
 "cells": [
  {
   "cell_type": "markdown",
   "metadata": {
    "heading_collapsed": true
   },
   "source": [
    "# Introduction"
   ]
  },
  {
   "cell_type": "markdown",
   "metadata": {
    "cell_style": "center",
    "hidden": true
   },
   "source": [
    "<p align=\"justify\">Welcome! In this case we'll be exploring how to use advanced analytic and machine learning techniques to predict heart disease. \n",
    "<br>\n",
    "<br>\n",
    "<details>\n",
    "<summary>Some of the skills you'll explore are (Click to Expand):</summary>\n",
    "<ul>\n",
    "    <li>R Programming</li>\n",
    "    <li>Data Cleaning</li>\n",
    "    <li>Exploratory Data Analysis</li>\n",
    "    <li>Data Visualization</li>\n",
    "    <li>Leveraging Domain Knowledge</li>\n",
    "    <li>Machine Learning</li>\n",
    "    <li>Naive Bayes Classification</li>\n",
    "</details><br>\n",
    "Don't worry if you're unsure what some of these terms are. They'll be explained throughout the case. Let's begin! \n",
    "\n",
    "<img src=\"https://i.stack.imgur.com/zlAi2.png\" style=\"float: left; width: 33%; margin-bottom: 0.5em;\">\n",
    "<img src=\"https://www.bioanalysis-zone.com/wp-content/uploads/2014/01/Heart-graphic.jpg\" style=\"float: left; width: 32%; margin-left: 1%; margin-bottom: 0.5em;\">\n",
    "<img src=\"https://jakevdp.github.io/PythonDataScienceHandbook/figures/05.05-gaussian-NB.png\" style=\"float: left; width: 31%; margin-left: 1%; margin-bottom: 0.5em;\">"
   ]
  },
  {
   "cell_type": "markdown",
   "metadata": {
    "heading_collapsed": true,
    "hidden": true
   },
   "source": [
    "## Case Scenario"
   ]
  },
  {
   "cell_type": "markdown",
   "metadata": {
    "hidden": true
   },
   "source": [
    "Imagine you're an analyst for a large academic medical center. Recently, the Division of Cardiology has become interested in exploring how machine learning and predictive analytics can augment cardiology. You have been tasked with developing a prototype model to predict heart disease using historical research data. \n",
    "\n",
    "Can you develop a machine learning model to predict heart disease using patient data from 3 different countries? Lets find out!"
   ]
  },
  {
   "cell_type": "markdown",
   "metadata": {
    "heading_collapsed": true,
    "hidden": true
   },
   "source": [
    "### Extra: What is Heart Disease?"
   ]
  },
  {
   "cell_type": "markdown",
   "metadata": {
    "hidden": true
   },
   "source": [
    "Heart disease or cardiovascular disease refers to a condition where blood vessels become narrow occluded. This can lead to numerous life threatening conditions such as heart attack or stroke. Heart disease can be caused by numerous lifestyle factors such as high blood pressure, high cholesterol, smoking, sedentary lifestyle, and stress. \n",
    "\n",
    "<center>\n",
    "  <img width=\"400\" height=\"200\" src=\"https://www.health.harvard.edu/media/content/images/p6_PlaqueArtery_HL1902_gi958536398.jpg\">\n",
    "</center>\n",
    "\n",
    "What makes heart disease so dangerous is that it is a gradual process that does not become symptomatic until you're middle aged or older. At this point, much of the damage has already been done. While heart disease mortality has improved in recent years, it is still one of the most dangerous conditions in the US. Over 600,000 people die of heart disease in the US every year (1 of every 4 deaths). Heart disease is still the leading cause of death among both men and women. Any predictive algorithm that could identify heart disease early could potentially save countless lives. "
   ]
  },
  {
   "cell_type": "markdown",
   "metadata": {
    "heading_collapsed": true,
    "hidden": true
   },
   "source": [
    "## How To Run The Case (Do Not Skip)"
   ]
  },
  {
   "cell_type": "markdown",
   "metadata": {
    "hidden": true
   },
   "source": [
    "Before we begin the case, we need to know how to use Jupyter Notebook and run the case. First, look for the the `Run` button. The location of the `Run` button is shown below and can be found in the tool bar above. "
   ]
  },
  {
   "cell_type": "markdown",
   "metadata": {
    "cell_style": "center",
    "hidden": true
   },
   "source": [
    "<img src=\"https://i.imgur.com/jr4dpLW.png\">"
   ]
  },
  {
   "cell_type": "markdown",
   "metadata": {
    "hidden": true
   },
   "source": [
    "The cell below is a code cell. You will be running numerous code cells like the one below throughout the case. Select the cell and select the run button above. "
   ]
  },
  {
   "cell_type": "code",
   "execution_count": null,
   "metadata": {
    "ExecuteTime": {
     "end_time": "2019-11-07T05:18:16.345127Z",
     "start_time": "2019-11-07T05:18:16.250Z"
    },
    "cell_style": "center",
    "hidden": true
   },
   "outputs": [],
   "source": [
    "# This is an example of a code cell\n",
    "cat('Congratulations! \\n')\n",
    "cat('You\\'ve run your first code cell.\\n')\n"
   ]
  },
  {
   "cell_type": "markdown",
   "metadata": {
    "hidden": true
   },
   "source": [
    "<img width = 50 height = 50 style=\"float: left; margin-right: 10px;\" src=\"https://upload.wikimedia.org/wikipedia/commons/b/b9/Stop_sign_dark_red.svg\">Stop! If you have not learned to run a code cell, restart this section. You will not be able to go through the case at all if you are unable to run code cells. Otherwise, it's time to meet our data!"
   ]
  },
  {
   "cell_type": "markdown",
   "metadata": {
    "heading_collapsed": true,
    "hidden": true
   },
   "source": [
    "## Meeting Our Data"
   ]
  },
  {
   "cell_type": "markdown",
   "metadata": {
    "hidden": true
   },
   "source": [
    "We'll be using a deidentified set of patient data made available on the [University of California Irvine Machine Learning Repository](https://archive.ics.uci.edu/ml/datasets/heart+Disease). This data has been sourced from the Hungarian Institute of Cardiology (Budapest, Hungary), University Hospital (Zurich, Switzerland), University Hospital (Basel, Switzerland), the V.A Medical Center (Long Beach, California), and the Cleveland Clinic (Cleveland, Ohio). \n",
    "\n",
    "**Acknowledgements**<br>\n",
    "Detrano, R., Janosi, A., Steinbrunn, W., Pfisterer, M., Schmid, J., Sandhu, S., Guppy, K., Lee, S., & Froelicher, V. (1989). International application of a new probability algorithm for the diagnosis of coronary artery disease. American Journal of Cardiology, 64,304--310."
   ]
  },
  {
   "cell_type": "markdown",
   "metadata": {
    "heading_collapsed": true,
    "hidden": true
   },
   "source": [
    "### Data File(s)"
   ]
  },
  {
   "cell_type": "markdown",
   "metadata": {
    "cell_style": "split",
    "hidden": true
   },
   "source": [
    "<p style=\"text-align: center;\">cleveland.csv</p>\n",
    "\n",
    "***\n",
    "This file contains our dataset sourced from the Cleveland Clinc. There are a 303 patients with 14 attributes. "
   ]
  },
  {
   "cell_type": "markdown",
   "metadata": {
    "cell_style": "split",
    "hidden": true
   },
   "source": [
    "<p style=\"text-align: center;\">hungary.csv</p>\n",
    "\n",
    "***\n",
    "This file contains our dataset sourced from the Hungarian Institute of Cardiology. There are a 294 patients with 14 attributes. "
   ]
  },
  {
   "cell_type": "markdown",
   "metadata": {
    "cell_style": "split",
    "hidden": true
   },
   "source": [
    "<p style=\"text-align: center;\">switzerland.csv</p>\n",
    "\n",
    "***\n",
    "This file contains our dataset sourced from University Hospital (Zurich and Basel, Switzerland). There are a 294 patients with 14 attributes. "
   ]
  },
  {
   "cell_type": "markdown",
   "metadata": {
    "cell_style": "split",
    "hidden": true
   },
   "source": [
    "<p style=\"text-align: center;\">long-beach-va.csv</p>\n",
    "\n",
    "***\n",
    "This file contains our dataset sourced from the V.A Medical Center (Long Beach, California). There are a 200 patients with 14 attributes. "
   ]
  },
  {
   "cell_type": "markdown",
   "metadata": {
    "hidden": true
   },
   "source": [
    "The dataset will already be downloaded for the case. The original data can be accessed [here](https://archive.ics.uci.edu/ml/datasets/Heart+Disease). "
   ]
  },
  {
   "cell_type": "markdown",
   "metadata": {
    "heading_collapsed": true,
    "hidden": true
   },
   "source": [
    "### Data Variable Information (Consulting the Data Dictionary)"
   ]
  },
  {
   "cell_type": "markdown",
   "metadata": {
    "hidden": true
   },
   "source": [
    "There are several variables or labels which you might not understand. The way to combat this is by consulting the data dictionary. \n",
    "\n",
    "> A data dictionary describes a dataset and provides information on the meaning of each variable. Always look for documentation or a data dictionary before starting an analysis."
   ]
  },
  {
   "cell_type": "markdown",
   "metadata": {
    "hidden": true
   },
   "source": [
    "A data dictionary is provided on the [UCI repository](https://archive.ics.uci.edu/ml/datasets/Heart+Disease) where the data is hosted. The data dictionary has also been reproduced below for your convenience.  "
   ]
  },
  {
   "cell_type": "markdown",
   "metadata": {
    "hidden": true
   },
   "source": [
    "<center>\n",
    "\n",
    "| *Column #*| *Definition*                                                                        |\n",
    "| --------- | ----------------------------------------------------------------------------------- |\n",
    "| 1         | age in years                                                                        |\n",
    "| 2         | sex (1 = male; 0 = female)                                                          |\n",
    "| 3         | chest pain (1:typical angina; 2:atypical angina; 3:non-anginal pain; 4:asymptomatic)| \n",
    "| 4         | resting blood pressure on hospital admission (mmHg)                                 |\n",
    "| 5         | serum cholesterol in mg/dl                                                          |\n",
    "| 6         | fasting blood sugar > 120 mg/dl (1=true; 0 = false)                                 |\n",
    "| 7         | resting electrocariographic results (0: normal; 1: ST-T wave abnormality (T wave inversions and/or ST elevation or depression of 0.05 mV); 2: showing probably or definite left ventricular hypertrophy by Estes' criteria                                                                    |\n",
    "| 8         | maximum heart rate acheived                                                         |\n",
    "| 9         | exercise induced angina (1=yes; 0=no)                                               |\n",
    "| 10        | ST depression induced by exercise relative to rest                                  |\n",
    "| 11        | Slope of the peak exercise ST segment (1: upsloping; 2: flat; 3: downsloping)          |\n",
    "| 12        | Number of major vessels (0-3) colored by fluoroscopy                                |\n",
    "| 13        | Exercise thallium scintigraphic defects (fixed, reversible, or none)                |\n",
    "| 14        | Diagnosis of heart disease (angiographic disease status) (0: <50% diameter narrowing, 1: >50% diameter narrowing)                                                                        |\n",
    "\n",
    "</center>"
   ]
  },
  {
   "cell_type": "markdown",
   "metadata": {
    "heading_collapsed": true
   },
   "source": [
    "# Setup (Do Not Skip)"
   ]
  },
  {
   "cell_type": "markdown",
   "metadata": {
    "hidden": true
   },
   "source": [
    "We need to load some necessary code libraries and tweak some system setting for our case to run and display properly. Run the code below to set up specific settings for our case. Do not skip this step!"
   ]
  },
  {
   "cell_type": "code",
   "execution_count": null,
   "metadata": {
    "ExecuteTime": {
     "end_time": "2019-11-07T05:18:17.460494Z",
     "start_time": "2019-11-07T05:18:17.424Z"
    },
    "hidden": true
   },
   "outputs": [],
   "source": [
    "# Increase max number of columns displayed in output tables\n",
    "options(repr.matrix.max.cols = 2000)\n",
    "set.seed(10) # Make sure your ML results are the same\n",
    "# Calling external libraries for additional functionality\n",
    "suppressMessages(library(tidyverse))\n",
    "suppressMessages(library(randomForest))\n",
    "suppressMessages(library(forcats))\n",
    "suppressMessages(library(cowplot))\n",
    "suppressMessages(library(caret))\n",
    "suppressMessages(library(e1071))\n",
    "suppressMessages(library(pROC))\n",
    "\n",
    "cat('Setup complete!')"
   ]
  },
  {
   "cell_type": "markdown",
   "metadata": {
    "hidden": true
   },
   "source": [
    "<img width = 50 height = 50 style=\"float: left; margin-right: 10px;\" src=\"https://upload.wikimedia.org/wikipedia/commons/b/b9/Stop_sign_dark_red.svg\">Stop! If you have not run the code cell above, go back and rerun it. The case will not work if you do not run the setup code. "
   ]
  },
  {
   "cell_type": "markdown",
   "metadata": {
    "heading_collapsed": true
   },
   "source": [
    "# Cleaning our Data"
   ]
  },
  {
   "cell_type": "markdown",
   "metadata": {
    "hidden": true
   },
   "source": [
    "The first step in any analytic project is to clean our data. This is a critical step that is commonly overlooked within data science projects. This is critical for making our data convenient to interpret and manipulate. In addition, many analytic techniques require properly formatted data. Finally, healthcare datasets may have have data that isn't clinically relevant (ie. raw lab values). Processing can convert these variables into clinically meaningful information. It won't matter how sophisticated our analysis is if we don't properly process our data. A common saying in data science is \"Junk in, Junk out\". "
   ]
  },
  {
   "cell_type": "markdown",
   "metadata": {
    "heading_collapsed": true,
    "hidden": true
   },
   "source": [
    "## Reading our data"
   ]
  },
  {
   "cell_type": "markdown",
   "metadata": {
    "hidden": true
   },
   "source": [
    "We'll being by reading in our data so we can clean and use it. "
   ]
  },
  {
   "cell_type": "code",
   "execution_count": null,
   "metadata": {
    "ExecuteTime": {
     "end_time": "2019-11-07T05:18:17.702722Z",
     "start_time": "2019-11-07T05:18:17.665Z"
    },
    "cell_style": "center",
    "hidden": true
   },
   "outputs": [],
   "source": [
    "# Note: Unicode Transformation Format – 8 (UTF-8) is a standard to encode characters in different languages\n",
    "cat('Data loading, please wait\\n')\n",
    "cleveland <- read.csv(file=\"data/cleveland.csv\",  encoding=\"UTF-8\", header=FALSE, sep=\",\")\n",
    "hungary <- read.csv(file=\"data/hungary.csv\",  encoding=\"UTF-8\", header=FALSE, sep=\",\")\n",
    "switzerland <- read.csv(file=\"data/switzerland.csv\",  encoding=\"UTF-8\", header=FALSE, sep=\",\")\n",
    "long_beach<- read.csv(file=\"data/long-beach-va.csv\",  encoding=\"UTF-8\", header=FALSE, sep=\",\")\n",
    "cat('Data loaded!')"
   ]
  },
  {
   "cell_type": "markdown",
   "metadata": {
    "hidden": true
   },
   "source": [
    "Now let's get an overview of our data"
   ]
  },
  {
   "cell_type": "code",
   "execution_count": null,
   "metadata": {
    "ExecuteTime": {
     "end_time": "2019-11-07T05:18:17.884420Z",
     "start_time": "2019-11-07T05:18:17.730Z"
    },
    "hidden": true
   },
   "outputs": [],
   "source": [
    "head(cleveland)\n",
    "str(cleveland)\n",
    "head(hungary)\n",
    "str(hungary)\n",
    "head(switzerland)\n",
    "str(switzerland)\n",
    "head(long_beach)\n",
    "str(long_beach)"
   ]
  },
  {
   "cell_type": "markdown",
   "metadata": {
    "hidden": true
   },
   "source": [
    "Take a minute and review the outputs. The first tables represent the first few observations for each dataset. The second, text output gives the structure of our data which includes variable name and the type of variable it is. "
   ]
  },
  {
   "cell_type": "markdown",
   "metadata": {
    "hidden": true
   },
   "source": [
    "We can see our data does not have any variable names. However, we can see that the data has the same number of columns (14) with each column representing the first variable. This indicates we can join the data through a process called concatenation.\n",
    "\n",
    "> If you're unsure what concatenation is, pleasure consult section 3.1.1 'What is Concatenation?'"
   ]
  },
  {
   "cell_type": "markdown",
   "metadata": {
    "hidden": true
   },
   "source": [
    "Before we concatenate though, it would be useful to make sure we can keep a record of which data came from which location. This may be a useful variable to analyze and use for our prediction model. "
   ]
  },
  {
   "cell_type": "code",
   "execution_count": null,
   "metadata": {
    "ExecuteTime": {
     "end_time": "2019-11-07T05:18:18.034016Z",
     "start_time": "2019-11-07T05:18:17.982Z"
    },
    "hidden": true
   },
   "outputs": [],
   "source": [
    "location <- replicate('cleveland', n = 303)\n",
    "cleveland <- cbind(cleveland, location)\n",
    "location <- replicate('hungary', n = 294)\n",
    "hungary <- cbind(hungary, location)\n",
    "location <- replicate('switzerland', n = 123)\n",
    "switzerland <- cbind(switzerland, location)\n",
    "location <- replicate('long beach VA', n = 200)\n",
    "long_beach <- cbind(long_beach, location)\n",
    "\n",
    "cat('Location Added to Dataset')"
   ]
  },
  {
   "cell_type": "markdown",
   "metadata": {
    "hidden": true
   },
   "source": [
    "Now lets concatenate our variables"
   ]
  },
  {
   "cell_type": "code",
   "execution_count": null,
   "metadata": {
    "ExecuteTime": {
     "end_time": "2019-11-07T05:18:18.116074Z",
     "start_time": "2019-11-07T05:18:18.078Z"
    },
    "hidden": true
   },
   "outputs": [],
   "source": [
    "heart_disease_data <- rbind(cleveland, hungary, switzerland, long_beach)\n",
    "cat('Data Concatenated')"
   ]
  },
  {
   "cell_type": "markdown",
   "metadata": {
    "hidden": true
   },
   "source": [
    "Now lets give our columns names based off their description in the data dictionary. The data dictionary has been reproduced below for your convenience."
   ]
  },
  {
   "cell_type": "markdown",
   "metadata": {
    "hidden": true
   },
   "source": [
    "| *Column #*| *Definition*                                                                        |\n",
    "| --------- | ----------------------------------------------------------------------------------- |\n",
    "| 1         | age in years                                                                        |\n",
    "| 2         | sex (1 = male; 0 = female)                                                          |\n",
    "| 3         | chest pain (1:typical angina; 2:atypical angina; 3:non-anginal pain; 4:asymptomatic)| \n",
    "| 4         | resting blood pressure on hospital admission (mmHg)                                 |\n",
    "| 5         | serum cholesterol in mg/dl                                                          |\n",
    "| 6         | fasting blood sugar > 120 mg/dl (1=true; 0 = false)                                 |\n",
    "| 7         | resting electrocariographic results (0: normal; 1: ST-T wave abnormality (T wave inversions and/or ST elevation or depression of 0.05 mV); 2: showing probably or definite left ventricular hypertrophy by Estes' criteria                                                                    |\n",
    "| 8         | maximum heart rate acheived                                                         |\n",
    "| 9         | exercise induced angina (1=yes; 0=no)                                               |\n",
    "| 10        | ST depression induced by exercise relative to rest                                  |\n",
    "| 11        | Slope of the peak exercise ST segment (1: upsloping; 2: flat; 3: downsloping)          |\n",
    "| 12        | Number of major vessels (0-3) colored by fluoroscopy                                |\n",
    "| 13        | Exercise thallium scintigraphic defects (fixed, reversible, or none)                |\n",
    "| 14        | Diagnosis of heart disease (angiographic disease status) (0: <50% diameter narrowing, 1: >50% diameter narrowing)                                                                        |"
   ]
  },
  {
   "cell_type": "code",
   "execution_count": null,
   "metadata": {
    "ExecuteTime": {
     "end_time": "2019-11-07T05:18:18.244080Z",
     "start_time": "2019-11-07T05:18:18.220Z"
    },
    "hidden": true
   },
   "outputs": [],
   "source": [
    "colnames(heart_disease_data) <- c('age', 'sex', 'chest_pain', 'blood_pressure', 'cholesterol', \n",
    "                                  'blood_sugar', 'ecg', 'max_heart_rate', 'exercise_angina',\n",
    "                                 'exercise_ST_depress', 'slope_peak_ST', 'number_vessel_fluoroscopy',\n",
    "                                 'thal_defects', 'heart_disease_diagnosis', 'location')\n",
    "\n",
    "cat('Columns renamed')"
   ]
  },
  {
   "cell_type": "markdown",
   "metadata": {
    "heading_collapsed": true,
    "hidden": true
   },
   "source": [
    "### What is Concatenation?"
   ]
  },
  {
   "cell_type": "markdown",
   "metadata": {
    "hidden": true
   },
   "source": [
    "Concatenation simply means taking our data set and pasting it together. Since our data has the same variables and format, we can think of concatenating them as stacking them on top of one another. The picture below offers a helpful illustration of this process. \n",
    "\n",
    "<img src=\"http://www.datasciencemadesimple.com/wp-content/uploads/2017/11/rowbind-in-python-pandas-0.png\" style=\"float: center; width: 80%;\">"
   ]
  },
  {
   "cell_type": "markdown",
   "metadata": {
    "heading_collapsed": true,
    "hidden": true
   },
   "source": [
    "## Inspecting our Data"
   ]
  },
  {
   "cell_type": "markdown",
   "metadata": {
    "hidden": true
   },
   "source": [
    "Now that our data is prepped, we can inspect it."
   ]
  },
  {
   "cell_type": "code",
   "execution_count": null,
   "metadata": {
    "ExecuteTime": {
     "end_time": "2019-11-07T05:18:18.504733Z",
     "start_time": "2019-11-07T05:18:18.436Z"
    },
    "hidden": true
   },
   "outputs": [],
   "source": [
    "head(heart_disease_data)\n",
    "str(heart_disease_data)"
   ]
  },
  {
   "cell_type": "markdown",
   "metadata": {
    "ExecuteTime": {
     "end_time": "2019-10-08T17:00:13.510443Z",
     "start_time": "2019-10-08T17:00:13.471Z"
    },
    "hidden": true,
    "solution2": "hidden",
    "solution2_first": true
   },
   "source": [
    "What do you see about the data? Theres no incorrect answer. Click the button below to reveal some observations that will be important for us when we clean the data. "
   ]
  },
  {
   "cell_type": "markdown",
   "metadata": {
    "hidden": true,
    "solution2": "hidden"
   },
   "source": [
    "The first is that many of our variables not in easily human readable format. For instance, `chest_pain` is categorized as a number from 1-4. This does not give us any immediately meaningful information. We will need to recode our variables into something meaningful. \n",
    "\n",
    "Second many of the variables are incorrectly classified as wrong kind of variables. The second output window tells you what kind of variables each variable in our dataset is (the 3-letter phrase after the colon). Don't worry if you don't know what many of the variable types are. That will be explained further on in the case. "
   ]
  },
  {
   "cell_type": "markdown",
   "metadata": {
    "heading_collapsed": true,
    "hidden": true
   },
   "source": [
    "## Cleaning Step 1: Recoding Variables"
   ]
  },
  {
   "cell_type": "markdown",
   "metadata": {
    "hidden": true
   },
   "source": [
    "We now need to recode our variables into meaningful outputs. For instance, in the data dictionary for `sex` we can see that `1` = `male` and `0` = `female`. We will now recode our variables, where possible, into more human-readable outputs based upon the data dictionary. \n",
    "\n",
    "The variables that we need to recode to a more readable format are `sex`, `chest pain`, `blood_sugar`, `ecg`, `exercise_angina`, `slope_peak_ST`, `thal_defects`, and `heart_disease_diagnosis`. "
   ]
  },
  {
   "cell_type": "code",
   "execution_count": null,
   "metadata": {
    "ExecuteTime": {
     "end_time": "2019-11-07T05:18:18.806651Z",
     "start_time": "2019-11-07T05:18:18.740Z"
    },
    "code_folding": [],
    "hidden": true
   },
   "outputs": [],
   "source": [
    "# Recoding\n",
    "heart_disease_data$sex <- ifelse(heart_disease_data$sex == 1, 'Male', \n",
    "                                 ifelse(heart_disease_data$sex == 0, 'Female', NA))\n",
    "heart_disease_data$chest_pain <- ifelse(heart_disease_data$chest_pain == 1, 'typical angina', \n",
    "                                        ifelse(heart_disease_data$chest_pain == 2, 'atypical angina',\n",
    "                                               ifelse(heart_disease_data$chest_pain == 3, 'non-anginal pain',\n",
    "                                                       ifelse(heart_disease_data$chest_pain == 4, 'asymptomatic',\n",
    "                                                              NA))))\n",
    "heart_disease_data$blood_sugar <- ifelse(heart_disease_data$blood_sugar == 1, 'Fasting Blood Sugar > 120', \n",
    "                                         ifelse(heart_disease_data$blood_sugar == 0, 'Fasting Blood Sugar < 120', \n",
    "                                                NA))\n",
    "heart_disease_data$ecg <- ifelse(heart_disease_data$ecg == 0, 'normal', \n",
    "                                         ifelse(heart_disease_data$ecg == 1, 'ST-T wave abnormality',\n",
    "                                                ifelse(heart_disease_data$ecg == 2, 'Probable or definite LVH',\n",
    "                                                    NA)))\n",
    "heart_disease_data$exercise_angina <- ifelse(heart_disease_data$exercise_angina == 1, 'Positive', \n",
    "                                             ifelse(heart_disease_data$exercise_angina == 0, 'Negative', \n",
    "                                                    NA))\n",
    "heart_disease_data$slope_peak_ST <- ifelse(heart_disease_data$slope_peak_ST == 1, 'Upsloping', \n",
    "                                             ifelse(heart_disease_data$slope_peak_ST == 2, 'Flat', \n",
    "                                                    ifelse(heart_disease_data$slope_peak_ST == 3, 'Downsloping',\n",
    "                                                        NA)))\n",
    "heart_disease_data$thal_defects <- ifelse(heart_disease_data$thal_defects == '3', 'Normal', \n",
    "                                        ifelse(heart_disease_data$thal_defects == '3.0', 'Normal',\n",
    "                                               ifelse(heart_disease_data$thal_defects == '6', 'Fixed defect',\n",
    "                                                       ifelse(heart_disease_data$thal_defects == '6.0', 'Fixed defect',\n",
    "                                                              ifelse(heart_disease_data$thal_defects == '7', 'Reversible defect',\n",
    "                                                                     ifelse(heart_disease_data$thal_defects == '7.0', 'Reversible defect',\n",
    "                                                                            NA))))))\n",
    "heart_disease_data$heart_disease_diagnosis <- ifelse(heart_disease_data$heart_disease_diagnosis == 0, 'No heart disease', \n",
    "                                                     ifelse(heart_disease_data$heart_disease_diagnosis == 1, 'Disease',\n",
    "                                                            ifelse(heart_disease_data$heart_disease_diagnosis == 2, 'Disease',\n",
    "                                                                    ifelse(heart_disease_data$heart_disease_diagnosis == 3, 'Disease',\n",
    "                                                                           ifelse(heart_disease_data$heart_disease_diagnosis == 4, 'Disease',\n",
    "                                                                                  NA)))))\n",
    "heart_disease_data$number_vessel_fluoroscopy <- ifelse(heart_disease_data$number_vessel_fluoroscopy == '1.0', '1.0',\n",
    "                                                       ifelse(heart_disease_data$number_vessel_fluoroscopy == '2.0', '2.0',\n",
    "                                                              ifelse(heart_disease_data$number_vessel_fluoroscopy == '3.0', '3.0',\n",
    "                                                                     ifelse(heart_disease_data$number_vessel_fluoroscopy == '0.0', '0.0',\n",
    "                                                                            ifelse(heart_disease_data$number_vessel_fluoroscopy == '0', '0.0', \n",
    "                                                                                   ifelse(heart_disease_data$number_vessel_fluoroscopy == '1', '1.0',\n",
    "                                                                                          ifelse(heart_disease_data$number_vessel_fluoroscopy == '2', '2.0',\n",
    "                                                                                                 NA)))))))\n",
    "\n",
    "cat('Data Recoded')"
   ]
  },
  {
   "cell_type": "markdown",
   "metadata": {
    "hidden": true
   },
   "source": [
    "Lets confirm our changes"
   ]
  },
  {
   "cell_type": "code",
   "execution_count": null,
   "metadata": {
    "ExecuteTime": {
     "end_time": "2019-11-07T05:18:18.904786Z",
     "start_time": "2019-11-07T05:18:18.831Z"
    },
    "hidden": true
   },
   "outputs": [],
   "source": [
    "head(heart_disease_data[c('sex', 'chest_pain', 'blood_sugar', 'ecg', 'exercise_angina', 'slope_peak_ST',\n",
    "                         'thal_defects', 'heart_disease_diagnosis')])\n",
    "str(heart_disease_data[c('sex', 'chest_pain', 'blood_sugar', 'ecg', 'exercise_angina', 'slope_peak_ST',\n",
    "                         'thal_defects', 'heart_disease_diagnosis')])"
   ]
  },
  {
   "cell_type": "markdown",
   "metadata": {
    "hidden": true
   },
   "source": [
    "Looks like our changes were successful. In the output, notice the `chr`. This is R's way to tell us that R considers these as character variables. This just means R considers this a text or 'string' variable. The majority of variable you encounter in a an analysis will likely be numeric or categorical variables.  "
   ]
  },
  {
   "cell_type": "markdown",
   "metadata": {
    "hidden": true,
    "solution2": "hidden",
    "solution2_first": true
   },
   "source": [
    "**Pre-Check:** What is the difference between a numeric and categorical variable?"
   ]
  },
  {
   "cell_type": "markdown",
   "metadata": {
    "hidden": true,
    "solution2": "hidden"
   },
   "source": [
    "- **Numeric:** variables whose values are whole numbers (ie. numbers, percents)\n",
    "- **Categorical:** variables whose values are selected from a group (ie. dog breeds, male/female) \n",
    "\n",
    "> Note R calls categorical variables **Factors**"
   ]
  },
  {
   "cell_type": "markdown",
   "metadata": {
    "hidden": true,
    "solution2": "hidden",
    "solution2_first": true
   },
   "source": [
    "**Application Check:** Take a look at all variables we just recoded above. Are these variable numeric or categorical?"
   ]
  },
  {
   "cell_type": "markdown",
   "metadata": {
    "hidden": true,
    "solution2": "hidden"
   },
   "source": [
    "All these variable are categorical since they all only have a limited number of values or categories. For instance, `blood_sugar` can only be either `Fasting Blood Sugar < 120` and `Fasting Blood Sugar > 120`."
   ]
  },
  {
   "cell_type": "markdown",
   "metadata": {
    "hidden": true
   },
   "source": [
    "Lets turn our variables into the correct variable type now. "
   ]
  },
  {
   "cell_type": "code",
   "execution_count": null,
   "metadata": {
    "ExecuteTime": {
     "end_time": "2019-11-07T05:18:19.258644Z",
     "start_time": "2019-11-07T05:18:19.213Z"
    },
    "hidden": true
   },
   "outputs": [],
   "source": [
    "suppressWarnings(heart_disease_data$sex <- as.factor(heart_disease_data$sex))\n",
    "suppressWarnings(heart_disease_data$chest_pain <- as.factor(heart_disease_data$chest_pain))\n",
    "suppressWarnings(heart_disease_data$blood_pressure <- as.numeric(heart_disease_data$blood_pressure))\n",
    "suppressWarnings(heart_disease_data$cholesterol <- as.numeric(heart_disease_data$cholesterol))\n",
    "suppressWarnings(heart_disease_data$blood_sugar <- as.factor(heart_disease_data$blood_sugar))            \n",
    "suppressWarnings(heart_disease_data$ecg <- as.factor(heart_disease_data$ecg))\n",
    "suppressWarnings(heart_disease_data$max_heart_rate <- as.numeric(heart_disease_data$max_heart_rate))\n",
    "suppressWarnings(heart_disease_data$exercise_angina <- as.factor(heart_disease_data$exercise_angina))\n",
    "suppressWarnings(heart_disease_data$exercise_ST_depress <- as.numeric(heart_disease_data$exercise_ST_depress))\n",
    "suppressWarnings(heart_disease_data$slope_peak_ST <- as.factor(heart_disease_data$slope_peak_ST))\n",
    "suppressWarnings(heart_disease_data$exercise_angina <- as.factor(heart_disease_data$exercise_angina))\n",
    "suppressWarnings(heart_disease_data$heart_disease_diagnosis <- as.factor(heart_disease_data$heart_disease_diagnosis))\n",
    "suppressWarnings(heart_disease_data$thal_defects <- as.factor(heart_disease_data$thal_defects))\n",
    "suppressWarnings(heart_disease_data$number_vessel_fluoroscopy <- as.factor(heart_disease_data$number_vessel_fluoroscopy))\n",
    "\n",
    "cat('Variables converted')"
   ]
  },
  {
   "cell_type": "markdown",
   "metadata": {
    "hidden": true
   },
   "source": [
    "It important to make sure your variables are encoded correctly in an analysis. Incorrectly encoded variables can ultimately affect the results of any predictive models or analysis you produce leading to faulty conclusions. "
   ]
  },
  {
   "cell_type": "markdown",
   "metadata": {
    "heading_collapsed": true,
    "hidden": true
   },
   "source": [
    "## Cleaning Step 2: Checking for Missing Values"
   ]
  },
  {
   "cell_type": "markdown",
   "metadata": {
    "hidden": true,
    "solution2": "hidden",
    "solution2_first": true
   },
   "source": [
    "Why is checking for missing data important?"
   ]
  },
  {
   "cell_type": "markdown",
   "metadata": {
    "hidden": true,
    "solution2": "hidden"
   },
   "source": [
    "Missing data can produce biased results or lead to lead to reduced statistical power of our analysis (by reducing our sample size)\n",
    "\n",
    "Missing data are a common feature of messy, real-world data. How you choose to deal with missing data will have a big impact on your analysis and any predictive model you build. There are several ways to deal with missing data such as removing or imputing missing data. More details on handling missing data in R can be found [here](https://www.r-bloggers.com/missing-value-treatment/)"
   ]
  },
  {
   "cell_type": "markdown",
   "metadata": {
    "hidden": true
   },
   "source": [
    "Lets examine the data for missing values now."
   ]
  },
  {
   "cell_type": "code",
   "execution_count": null,
   "metadata": {
    "ExecuteTime": {
     "end_time": "2019-11-07T05:18:19.578304Z",
     "start_time": "2019-11-07T05:18:19.536Z"
    },
    "hidden": true
   },
   "outputs": [],
   "source": [
    "cat('Number of Missing Data for Each Variable:')\n",
    "sapply(heart_disease_data, function(x) sum(is.na(x)))"
   ]
  },
  {
   "cell_type": "markdown",
   "metadata": {
    "hidden": true
   },
   "source": [
    "Overall there does not seem to be anything suspicious about the number of missing values. However, there is one important pitfall to be careful of. "
   ]
  },
  {
   "cell_type": "markdown",
   "metadata": {
    "hidden": true
   },
   "source": [
    "Take a look at the variable `number_vessel_fluoroscopy`"
   ]
  },
  {
   "cell_type": "code",
   "execution_count": null,
   "metadata": {
    "ExecuteTime": {
     "end_time": "2019-11-07T05:18:19.731891Z",
     "start_time": "2019-11-07T05:18:19.688Z"
    },
    "hidden": true
   },
   "outputs": [],
   "source": [
    "table(heart_disease_data$number_vessel_fluoroscopy)"
   ]
  },
  {
   "cell_type": "markdown",
   "metadata": {
    "hidden": true
   },
   "source": [
    "We can see there are a significant number of `?'s`. However R does not recognize these as missing. Lets fix this. "
   ]
  },
  {
   "cell_type": "code",
   "execution_count": null,
   "metadata": {
    "ExecuteTime": {
     "end_time": "2019-11-07T05:18:19.845641Z",
     "start_time": "2019-11-07T05:18:19.797Z"
    },
    "hidden": true
   },
   "outputs": [],
   "source": [
    "heart_disease_data[heart_disease_data == '?'] <- NA\n",
    "table(heart_disease_data$number_vessel_fluoroscopy, exclude = NULL)"
   ]
  },
  {
   "cell_type": "markdown",
   "metadata": {
    "hidden": true
   },
   "source": [
    "Much better! Always be mindful that different dataset will code missing data differently. It isn't always a given that whatever statistical software you are using will recognize the data as missing. It's always important to inspect your data closely. "
   ]
  },
  {
   "cell_type": "markdown",
   "metadata": {
    "heading_collapsed": true,
    "hidden": true
   },
   "source": [
    "## Cleaning Step 3: Checking for Implausible Values"
   ]
  },
  {
   "cell_type": "markdown",
   "metadata": {
    "hidden": true
   },
   "source": [
    "Lets check our data for implausible values. Focus on the minimum and maximum values for the numeric output below. "
   ]
  },
  {
   "cell_type": "code",
   "execution_count": null,
   "metadata": {
    "ExecuteTime": {
     "end_time": "2019-11-07T05:18:20.017303Z",
     "start_time": "2019-11-07T05:18:19.986Z"
    },
    "hidden": true
   },
   "outputs": [],
   "source": [
    "summary(heart_disease_data)"
   ]
  },
  {
   "cell_type": "markdown",
   "metadata": {
    "hidden": true
   },
   "source": [
    "Based on observation, we can make these initial judgements:\n",
    "\n",
    "`Blood Pressure:`\n",
    "- It's physiologically implausible for an individual to have a blood pressure of 0. This is likely an input error. \n",
    "\n",
    "`Cholesterol:`\n",
    "- It's physiologically implausible for an individual to have a cholesterol of 0. These are likely input errors.\n",
    "\n",
    "Lets examine these variables more closely"
   ]
  },
  {
   "cell_type": "code",
   "execution_count": null,
   "metadata": {
    "ExecuteTime": {
     "end_time": "2019-11-07T05:18:20.114637Z",
     "start_time": "2019-11-07T05:18:20.077Z"
    },
    "hidden": true
   },
   "outputs": [],
   "source": [
    "cat('Blood Pressure:')\n",
    "quantile(heart_disease_data$blood_pressure, c(0, .01, .05, .10, .25, .50, .75, .90, .95, .99, 1), \n",
    "         na.rm = TRUE)\n",
    "cat('Cholesterol:')\n",
    "quantile(heart_disease_data$cholesterol, c(0, .01, .05, .10, .25, .50, .75, .90, .95, .99, 1), \n",
    "         na.rm = TRUE)"
   ]
  },
  {
   "cell_type": "markdown",
   "metadata": {
    "hidden": true
   },
   "source": [
    "Based no this we can see that values of 0 are not even close to being in line with other values. Lets remove implausible values now."
   ]
  },
  {
   "cell_type": "code",
   "execution_count": null,
   "metadata": {
    "ExecuteTime": {
     "end_time": "2019-11-07T05:18:20.176534Z",
     "start_time": "2019-11-07T05:18:20.139Z"
    },
    "hidden": true
   },
   "outputs": [],
   "source": [
    "heart_disease_data$blood_pressure[heart_disease_data$blood_pressure < 20] <- NA\n",
    "heart_disease_data$cholesterol[heart_disease_data$cholesterol < 20] <- NA\n",
    "\n",
    "cat('Values removed')"
   ]
  },
  {
   "cell_type": "markdown",
   "metadata": {
    "heading_collapsed": true,
    "hidden": true
   },
   "source": [
    "## Cleaning Step 4: Creating Clinically Relevant Variables"
   ]
  },
  {
   "cell_type": "markdown",
   "metadata": {
    "hidden": true
   },
   "source": [
    "Our data already includes several useful clinical measures/categories. However, cholesterol has been left as a raw lab value. Lets convert this into a more clinically useful. "
   ]
  },
  {
   "cell_type": "markdown",
   "metadata": {
    "heading_collapsed": true,
    "hidden": true
   },
   "source": [
    "### Cholesterol"
   ]
  },
  {
   "cell_type": "markdown",
   "metadata": {
    "hidden": true
   },
   "source": [
    "A person's total body cholesterol reveals the total amount of cholesterol and triglycerides in the blood. The high cholesterol can cause plaques to build up within blood vessels. This leads to arterial narrowing and eventually heart disease. For this reason, it's important for individuals to maintain healthy cholesterol levels to prevent heart disease. \n",
    "\n",
    "<img src=\"https://www.health.harvard.edu/media/content/images/cholesterol-blood-test-needle-dina2001iStock_79633563_MEDIUM.jpg\" style=\"width:450px;height:300px;\">"
   ]
  },
  {
   "cell_type": "markdown",
   "metadata": {
    "hidden": true,
    "solution2": "hidden",
    "solution2_first": true
   },
   "source": [
    "**Knowledge Check:** What are the clinical cut-offs for hypercholesterolnemia?"
   ]
  },
  {
   "cell_type": "markdown",
   "metadata": {
    "hidden": true,
    "solution2": "hidden"
   },
   "source": [
    "<center>\n",
    "\n",
    "| *Category*                      | *BMI Range (mg/dL)*     |\n",
    "| ------------------------------- | ----------------------- |\n",
    "| Normal                          | cholesterol < 200       |\n",
    "| Borderline Hypercholestrolnemia | 200 ≤ cholesterol < 240 |\n",
    "| Hypercholesterolnemia           | 240 ≤ cholesterol       |\n",
    "\n",
    "</center>"
   ]
  },
  {
   "cell_type": "markdown",
   "metadata": {
    "hidden": true
   },
   "source": [
    "Let create the new variable `cholesterol_status` based off these clinical cut-offs "
   ]
  },
  {
   "cell_type": "code",
   "execution_count": null,
   "metadata": {
    "ExecuteTime": {
     "end_time": "2019-11-07T05:18:20.743668Z",
     "start_time": "2019-11-07T05:18:20.707Z"
    },
    "hidden": true
   },
   "outputs": [],
   "source": [
    "# Create 'cholesterol_status'\n",
    "heart_disease_data <- mutate(heart_disease_data, cholesterol_status = ifelse(cholesterol < 200, 'Normal', \n",
    "                                        ifelse(cholesterol >= 200 & cholesterol < 240, 'Borderline Hypercholestrolnemia',\n",
    "                                              ifelse(cholesterol >= 240, 'Hypercholesterolnemia',\n",
    "                                                     NA))))\n",
    "\n",
    "# Convert from character to categorical\n",
    "heart_disease_data$cholesterol_status <- as.factor(heart_disease_data$cholesterol_status)\n",
    "\n",
    "cat('\\'cholesterol_status\\' variable created!')"
   ]
  },
  {
   "cell_type": "markdown",
   "metadata": {
    "hidden": true
   },
   "source": [
    "Let's confirm our results"
   ]
  },
  {
   "cell_type": "code",
   "execution_count": null,
   "metadata": {
    "ExecuteTime": {
     "end_time": "2019-11-07T05:18:20.855274Z",
     "start_time": "2019-11-07T05:18:20.803Z"
    },
    "hidden": true
   },
   "outputs": [],
   "source": [
    "head(heart_disease_data[c('cholesterol', 'cholesterol_status')])"
   ]
  },
  {
   "cell_type": "markdown",
   "metadata": {
    "heading_collapsed": true,
    "hidden": true
   },
   "source": [
    "#### Limitations and Considerations when using Cholesterol"
   ]
  },
  {
   "cell_type": "markdown",
   "metadata": {
    "hidden": true
   },
   "source": [
    "It's important to note that total cholesterol does not tell the whole story. A person can have differnt types of cholesterol. There are primarily two important categories. Low-density lipoprotein (LDL) and high-density lipoprotein (HDL). LDL is referred to as 'bad cholesterol' because this is the cholesterol that can build up in arteries leading to plaques. HDL is referred to as 'good cholesterol' because this is the cholesterol that actually helps the body clear LDL cholesterol. Unfortunately, our data does not provide us the information to differentiate between the two. \n",
    "\n",
    "<img src=\"https://avitahealth.org/wp-content/uploads/2019/01/Cholesterol.jpg\" style=\"width:400px;height:267px;\">"
   ]
  },
  {
   "cell_type": "markdown",
   "metadata": {
    "heading_collapsed": true
   },
   "source": [
    "# Exploratory Data Analysis  (EDA)"
   ]
  },
  {
   "cell_type": "markdown",
   "metadata": {
    "hidden": true
   },
   "source": [
    "Now that we've cleaned our data we can begin exploring our data. Using this, we can see which features are good candidates for building our prediction model. Feature selection  will determine how good or how bad your model is. Bad feature selection can have a hugely negative impact on your model even if you used the most advanced techniques. Understanding the clinical nuances of your data can inform better feature selection"
   ]
  },
  {
   "cell_type": "markdown",
   "metadata": {
    "heading_collapsed": true,
    "hidden": true
   },
   "source": [
    "### Why Can't We Just Use All or Most Variables?"
   ]
  },
  {
   "cell_type": "markdown",
   "metadata": {
    "hidden": true
   },
   "source": [
    "One issue you might be wondering about is why do we even need to select variables. Why not just use all of the variables? After all, more data lead to better models right? This is a common misconception that even experienced analysts need to watch out for. Including too many features in your prediction model can lead to what is known as 'overfitting'. Overfitting is essentially where you build a model that adheres too closely to your current data set and is unable to predict observations that are not from your current data set. In other words, its where you develop a model that tuned too closely to your current data, and is not generalizable to outside data sources. \n",
    "\n",
    "<img src=\"https://3gp10c1vpy442j63me73gy3s-wpengine.netdna-ssl.com/wp-content/uploads/2018/03/Screen-Shot-2018-03-22-at-11.22.15-AM-e1527613915658.png\" align=\"center\" style=\"width: 50%; margin-bottom: 0.5em; margin-top: 0.5em;\">"
   ]
  },
  {
   "cell_type": "markdown",
   "metadata": {
    "heading_collapsed": true,
    "hidden": true
   },
   "source": [
    "## Getting A Closer Look At Our Data"
   ]
  },
  {
   "cell_type": "code",
   "execution_count": null,
   "metadata": {
    "ExecuteTime": {
     "end_time": "2019-11-07T05:18:21.373029Z",
     "start_time": "2019-11-07T05:18:21.345Z"
    },
    "hidden": true
   },
   "outputs": [],
   "source": [
    "str(heart_disease_data)"
   ]
  },
  {
   "cell_type": "code",
   "execution_count": null,
   "metadata": {
    "ExecuteTime": {
     "end_time": "2019-11-07T05:18:21.403948Z",
     "start_time": "2019-11-07T05:18:21.348Z"
    },
    "hidden": true
   },
   "outputs": [],
   "source": [
    "summary(heart_disease_data)"
   ]
  },
  {
   "cell_type": "markdown",
   "metadata": {
    "hidden": true
   },
   "source": [
    "The second output presents us with quite a bit of data. The first thing to realize is that the output will differ based on whether the variable is numeric or categorical. Numeric outputs will include summary statistics while categorical variables will include frequency counts of each category. \n",
    "\n",
    "These summaries will be a useful reference throughout our exploratory data analysis. "
   ]
  },
  {
   "cell_type": "markdown",
   "metadata": {
    "heading_collapsed": true,
    "hidden": true
   },
   "source": [
    "## EDA Step 1: Assessing Missing Values"
   ]
  },
  {
   "cell_type": "markdown",
   "metadata": {
    "hidden": true
   },
   "source": [
    "The first indicator of whether a variable would be a good candidate for being a building block of our prediction model is the number of missing values. Lets remind ourselves of the number of missing values."
   ]
  },
  {
   "cell_type": "code",
   "execution_count": null,
   "metadata": {
    "ExecuteTime": {
     "end_time": "2019-11-07T05:18:21.590565Z",
     "start_time": "2019-11-07T05:18:21.562Z"
    },
    "hidden": true
   },
   "outputs": [],
   "source": [
    "# Determine number of missing for each variable\n",
    "cat('Number of Missing Data for Each Variable:')\n",
    "sapply(heart_disease_data, function(x) sum(is.na(x)))"
   ]
  },
  {
   "cell_type": "markdown",
   "metadata": {
    "hidden": true
   },
   "source": [
    " We can see numerous variables with missing values. `thal_defect` and `num_vessel_fluoroscopy` have too many missing value to be considered for our data set. (They have more than 50% missing values)\n",
    "\n",
    "There are varying interpretations of what constitutes a significant amount of missing data. For our purpose we will consider any variable with >10% of it's values missing as having a significant number of missing observations. That means we can consider `cholesterol_status` and `slope_peak_ST` as having a significant number of missing. "
   ]
  },
  {
   "cell_type": "markdown",
   "metadata": {
    "hidden": true,
    "solution2": "hidden",
    "solution2_first": true
   },
   "source": [
    "Why is using variables with significant amounts of missing data problematic for making predictions?"
   ]
  },
  {
   "cell_type": "markdown",
   "metadata": {
    "hidden": true,
    "solution2": "hidden"
   },
   "source": [
    "Missing data can bias the results of our analysis. For instance, say that the individuals that did not respond about smoking status refused to respond because they were embarrassed of their smoking habit. This might make smoking individuals more likely to be smokers compared to individuals that responded to the survey. \n",
    "\n",
    "In summary, missing data can be problematic, especially if the missing group is somehow different from the non-missing group. "
   ]
  },
  {
   "cell_type": "markdown",
   "metadata": {
    "hidden": true
   },
   "source": [
    "The next step will then be to determine whether the data missing is simply the result of random chance or not. If the result is simply due to random chance, this is problematic since it will be less likely to bias our results. However, if there missing values don't appear be due to random chance, this is more problematic. \n",
    "\n",
    "If there something different about the missing group (ie. there is a hidden reason the data is missing), this may bias your outcome. This would lead to incorrect predictions!"
   ]
  },
  {
   "cell_type": "markdown",
   "metadata": {
    "hidden": true
   },
   "source": [
    "Lets split `cholesterol_status` and `slope_peak_ST` into missing and not missing"
   ]
  },
  {
   "cell_type": "code",
   "execution_count": null,
   "metadata": {
    "ExecuteTime": {
     "end_time": "2019-11-07T05:18:21.934560Z",
     "start_time": "2019-11-07T05:18:21.883Z"
    },
    "hidden": true
   },
   "outputs": [],
   "source": [
    "# Split cholesterol_status Into Null or Not\n",
    "heart_disease_data <- mutate(heart_disease_data, cholesterol_miss = ifelse(cholesterol_status == 'NA', 'Missing', 'Not Missing'))\n",
    "heart_disease_data$cholesterol_miss <- invisible(fct_explicit_na(heart_disease_data$cholesterol_miss, na_level = 'Missing'))\n",
    "heart_disease_data$ST_miss <- as.factor(heart_disease_data$cholesterol_miss)\n",
    "\n",
    "# Split slope_peak_st Into Null or Not\n",
    "heart_disease_data <- mutate(heart_disease_data, ST_miss = ifelse(slope_peak_ST == 'NA', 'Missing', 'Not Missing'))\n",
    "heart_disease_data$ST_miss <- invisible(fct_explicit_na(heart_disease_data$ST_miss, na_level = 'Missing'))\n",
    "heart_disease_data$ST_miss <- as.factor(heart_disease_data$ST_miss)\n",
    "\n",
    "# Confirm results\n",
    "cat('Cholesterol:')\n",
    "table(heart_disease_data$cholesterol_miss)\n",
    "cat('ST segment slope:')\n",
    "table(heart_disease_data$ST_miss)"
   ]
  },
  {
   "cell_type": "markdown",
   "metadata": {
    "hidden": true
   },
   "source": [
    "Now we can test whether the incidence of heart disease differs significantly between individuals who have cholesterol test results and those who don't."
   ]
  },
  {
   "cell_type": "code",
   "execution_count": null,
   "metadata": {
    "ExecuteTime": {
     "end_time": "2019-11-07T05:18:22.009471Z",
     "start_time": "2019-11-07T05:18:21.971Z"
    },
    "hidden": true
   },
   "outputs": [],
   "source": [
    "table(heart_disease_data$cholesterol_miss, heart_disease_data$heart_disease_diagnosis)\n",
    "chisq.test(heart_disease_data$heart_disease_diagnosis, heart_disease_data$cholesterol_miss)"
   ]
  },
  {
   "cell_type": "markdown",
   "metadata": {
    "hidden": true
   },
   "source": [
    "From our test results we can see the p-value is < 0.05. This indicates that there is a statistially significant difference between the missing and non-missing group according to `cholesterol_status`. \n",
    "\n",
    "This is unfortunate. Clinically, it has been well-documented that smoking can lead to increased incidence of cardiovascular disease and can increase the likelihood of stroke. However, our analysis indicates that including this data, which has so many missing data, would bias our model. Despite our clinical intuition suggesting smoking status would be a good candidate, the data is not robust enough to support a prediction model. \n",
    "\n",
    "Now lets examine `slope_peak_ST`"
   ]
  },
  {
   "cell_type": "code",
   "execution_count": null,
   "metadata": {
    "ExecuteTime": {
     "end_time": "2019-11-07T05:18:22.103666Z",
     "start_time": "2019-11-07T05:18:22.075Z"
    },
    "hidden": true
   },
   "outputs": [],
   "source": [
    "table(heart_disease_data$ST_miss, heart_disease_data$heart_disease_diagnosis)\n",
    "chisq.test(heart_disease_data$heart_disease_diagnosis, heart_disease_data$ST_miss)"
   ]
  },
  {
   "cell_type": "markdown",
   "metadata": {
    "hidden": true
   },
   "source": [
    "We can see that the missing whether or not data is available about ST elevation status significantly affects the results. For the same reason we cannot include this variable in our model. "
   ]
  },
  {
   "cell_type": "markdown",
   "metadata": {
    "hidden": true,
    "solution2": "hidden",
    "solution2_first": true
   },
   "source": [
    "**Knowledge Check:** To check whether the missing or non-misisng group differed we used a chi-squared test. What is a chi-squared test? Is a chi-squared test used for numeric or categorical variables?"
   ]
  },
  {
   "cell_type": "markdown",
   "metadata": {
    "hidden": true,
    "solution2": "hidden"
   },
   "source": [
    "A chi-square test is a statistical test that tells you whether groups of observations are different. For instance, say you're researching two companies and you divide them either as male or female. The number of males compared to females in the two companies differ but how can you tell that this is not random chance? A chi-squared test can be used to differentiate whether the **observed** number of males and females in your study differs from the **expected** number of males and females. \n",
    "\n",
    "> Note: Chi-square tests can only be used for categorical variables. There are seperate tests to determine whether numerical numbers differ form one another. These additional tests are beyond the scope of the case. "
   ]
  },
  {
   "cell_type": "markdown",
   "metadata": {
    "heading_collapsed": true,
    "hidden": true
   },
   "source": [
    "## EDA Step 2: Assess Numeric Variables"
   ]
  },
  {
   "cell_type": "markdown",
   "metadata": {
    "hidden": true
   },
   "source": [
    "Lets take a look at our other variables"
   ]
  },
  {
   "cell_type": "code",
   "execution_count": null,
   "metadata": {
    "ExecuteTime": {
     "end_time": "2019-11-07T05:18:22.435428Z",
     "start_time": "2019-11-07T05:18:22.400Z"
    },
    "hidden": true
   },
   "outputs": [],
   "source": [
    "str(heart_disease_data)"
   ]
  },
  {
   "cell_type": "markdown",
   "metadata": {
    "hidden": true,
    "solution2": "hidden",
    "solution2_first": true
   },
   "source": [
    "Based on our output above what are the numeric feature(s) we would consider for our model?"
   ]
  },
  {
   "cell_type": "markdown",
   "metadata": {
    "hidden": true
   },
   "source": [
    "Lets examine the distribution of our numeric variables."
   ]
  },
  {
   "cell_type": "markdown",
   "metadata": {
    "hidden": true,
    "solution2": "hidden"
   },
   "source": [
    "We can see that there are a couple numeric variables. However, the only ones we would consider are `age`, `blood_pressure`, `max_heart_rate`, and `exercise_ST_depress`. We would not consider `cholesterol` since it has a newer and more clinically relevant variable in the form of `cholesterol_status`\n",
    "\n",
    "Lets take a look at the distributions of these variables. "
   ]
  },
  {
   "cell_type": "code",
   "execution_count": null,
   "metadata": {
    "ExecuteTime": {
     "end_time": "2019-11-07T05:18:23.677170Z",
     "start_time": "2019-11-07T05:18:22.630Z"
    },
    "hidden": true
   },
   "outputs": [],
   "source": [
    "# Create Plot\n",
    "age_plot <- ggplot(heart_disease_data, aes(x=age)) +\n",
    "geom_histogram(alpha = 0.5, position = 'identity', bins=30, color ='black ', fill='light blue') +\n",
    "labs(x='Age (years)', y='Frequency Count', caption = 'Dashed Line Represents Median Age')\n",
    "\n",
    "# Display + Median Line\n",
    " age_plot <- age_plot + geom_vline(aes(xintercept=median(age, na.rm = TRUE)),\n",
    "            color=\"blue\", linetype=\"dashed\", size=1)\n",
    "\n",
    "# Create Plot\n",
    "bp_plot <- ggplot(heart_disease_data, aes(x=blood_pressure)) +\n",
    "geom_histogram(alpha = 0.5, position = 'identity', bins=30, color ='black ', fill='light blue') +\n",
    "labs(x='Blood Pressure (mmHg)', y='Frequency Count', caption = 'Dashed Line Represents Median Blood Pressure')\n",
    "\n",
    "# Display + Median Line\n",
    " bp_plot <- bp_plot + geom_vline(aes(xintercept=median(blood_pressure, na.rm = TRUE)),\n",
    "            color=\"blue\", linetype=\"dashed\", size=1)\n",
    "\n",
    "# Create Plot\n",
    "hr_plot <- ggplot(heart_disease_data, aes(x=max_heart_rate)) +\n",
    "geom_histogram(alpha = 0.5, position = 'identity', bins=30, color ='black ', fill='light blue') +\n",
    "labs(x='Max Heart Rate (bpm)', y='Frequency Count', caption = 'Dashed Line Represents Median Max Heart Rate')\n",
    "\n",
    "# Display + Median Line\n",
    "hr_plot <- hr_plot + geom_vline(aes(xintercept=median(max_heart_rate, na.rm = TRUE)),\n",
    "            color=\"blue\", linetype=\"dashed\", size=1)\n",
    "\n",
    "# Create Plot\n",
    "ST_plot <- ggplot(heart_disease_data, aes(x=exercise_ST_depress)) +\n",
    "geom_histogram(alpha = 0.5, position = 'identity', bins=30, color ='black ', fill='light blue') +\n",
    "labs(x='ST Depression (mm)', y='Frequency Count', caption = 'Dashed Line Represents Median ST Depression')\n",
    "\n",
    "# Display + Median Line\n",
    "ST_plot <- ST_plot + geom_vline(aes(xintercept=median(exercise_ST_depress, na.rm = TRUE)),\n",
    "            color=\"blue\", linetype=\"dashed\", size=1)\n",
    "\n",
    "plot_grid(age_plot, bp_plot, hr_plot, ST_plot)"
   ]
  },
  {
   "cell_type": "markdown",
   "metadata": {
    "hidden": true
   },
   "source": [
    "There does not appear to be any extreme values or prominent clusters. Now lets see if theres a relationship between these variables and heart disease diagnosis. "
   ]
  },
  {
   "cell_type": "markdown",
   "metadata": {
    "hidden": true
   },
   "source": [
    "Do you expect there to be a relationship between our numeric variables and heart disease? Why? Keep in mind your answer before seeing the output below. "
   ]
  },
  {
   "cell_type": "code",
   "execution_count": null,
   "metadata": {
    "ExecuteTime": {
     "end_time": "2019-11-07T05:18:25.000648Z",
     "start_time": "2019-11-07T05:18:22.785Z"
    },
    "hidden": true
   },
   "outputs": [],
   "source": [
    "# Create Plot\n",
    "violin_plot_age <- ggplot(heart_disease_data, aes(x=heart_disease_diagnosis, y=age, \n",
    "                                                 color = heart_disease_diagnosis, fill = heart_disease_diagnosis)) + \n",
    "geom_violin(alpha = 0.3, trim = FALSE) + # By default tails are trimmed\n",
    "stat_summary(fun.y=median, geom=\"point\", shape = 23, size = 2) +\n",
    "theme(legend.position='none') +\n",
    "labs(y='Age (years)', x='Heart Diseas Diagnosis', \n",
    "     caption = 'The dots in the center of each violin plot represent median age of each group') +\n",
    "coord_flip()\n",
    "\n",
    "# Create Plot\n",
    "violin_plot_bp <- ggplot(heart_disease_data, aes(x=heart_disease_diagnosis, y=blood_pressure, \n",
    "                                                 color = heart_disease_diagnosis, fill = heart_disease_diagnosis)) + \n",
    "geom_violin(alpha = 0.3, trim = FALSE) + # By default tails are trimmed\n",
    "stat_summary(fun.y=median, geom=\"point\", shape = 23, size = 2) +\n",
    "theme(legend.position='none') +\n",
    "labs(y='Blood Pressure', x='Heart Disease Diagnosis', \n",
    "     caption = 'The dots in the center of each violin plot represent median blood pressure of each group') +\n",
    "coord_flip()\n",
    "\n",
    "# Create Plot\n",
    "violin_plot_hr <- ggplot(heart_disease_data, aes(x=heart_disease_diagnosis, y=max_heart_rate, \n",
    "                                                 color = heart_disease_diagnosis, fill = heart_disease_diagnosis)) + \n",
    "geom_violin(alpha = 0.3, trim = FALSE) + # By default tails are trimmed\n",
    "stat_summary(fun.y=median, geom=\"point\", shape = 23, size = 2) +\n",
    "theme(legend.position='none') +\n",
    "labs(y='Max Heart Rate', x='Heart Disease Diagnosis', \n",
    "     caption = 'The dots in the center of each violin plot represent median max heart rate of each group') +\n",
    "coord_flip()\n",
    "\n",
    "# Create Plot\n",
    "violin_plot_ST <- ggplot(heart_disease_data, aes(x=heart_disease_diagnosis, y=exercise_ST_depress, \n",
    "                                                 color = heart_disease_diagnosis, fill = heart_disease_diagnosis)) + \n",
    "geom_violin(alpha = 0.3, trim = FALSE) + # By default tails are trimmed\n",
    "stat_summary(fun.y=median, geom=\"point\", shape = 23, size = 2) +\n",
    "theme(legend.position='none') +\n",
    "labs(y='ST Depression', x='Heart Disead Diagnosis', \n",
    "     caption = 'The dots in the center of each violin plot represent median ST segment depression of each group') +\n",
    "coord_flip()\n",
    "\n",
    "plot_grid(violin_plot_age, violin_plot_bp, violin_plot_hr, violin_plot_ST, ncol = 1)"
   ]
  },
  {
   "cell_type": "markdown",
   "metadata": {
    "hidden": true,
    "solution2": "hidden",
    "solution2_first": true
   },
   "source": [
    "Based on our results, which variable(s) have an effect on heart disease? Which variable(s) did not?"
   ]
  },
  {
   "cell_type": "markdown",
   "metadata": {
    "hidden": true,
    "solution2": "hidden"
   },
   "source": [
    "Our results indicate that age, max heart rate, and ST depression have an effect on heart disease. This is indicated by the different medians and distributions of the two groups. This indicates that these three variables are good candidates for our prediction model. \n",
    "\n",
    "It appears that blood pressure did not have as much of an effect with similar medians and distributions. This indicates that it will not be a good predictor variable for our model. "
   ]
  },
  {
   "cell_type": "markdown",
   "metadata": {
    "heading_collapsed": true,
    "hidden": true
   },
   "source": [
    "## EDA Step 3: Assessing Categorical Variables "
   ]
  },
  {
   "cell_type": "markdown",
   "metadata": {
    "hidden": true
   },
   "source": [
    "Finally lets look at our remaining variables. "
   ]
  },
  {
   "cell_type": "code",
   "execution_count": null,
   "metadata": {
    "ExecuteTime": {
     "end_time": "2019-11-07T05:18:25.042164Z",
     "start_time": "2019-11-07T05:18:23.209Z"
    },
    "hidden": true
   },
   "outputs": [],
   "source": [
    "str(heart_disease_data)"
   ]
  },
  {
   "cell_type": "markdown",
   "metadata": {
    "hidden": true,
    "solution2": "hidden",
    "solution2_first": true
   },
   "source": [
    "Based on our output, which variables are categorical and would we be exploring?"
   ]
  },
  {
   "cell_type": "markdown",
   "metadata": {
    "hidden": true,
    "solution2": "hidden"
   },
   "source": [
    "Our variables of interest will be `sex`, `chest_pain`, `blood_sugar`, `ecg`, `work_type`, `exercise_angina`, and `location`.\n",
    "\n",
    "Remember R considers categorical variables as `Factor` variables. "
   ]
  },
  {
   "cell_type": "markdown",
   "metadata": {
    "hidden": true
   },
   "source": [
    "Let examine the effect our categorical variables have on stroke through using a stacked bar plot. Before continuing consider which variables you believe will have the largest effect and which will not. For instance, do you expect `cholesterol_status` to have an effect. Do you expect it to have more of an effect than whether the individual had heart disease?"
   ]
  },
  {
   "cell_type": "code",
   "execution_count": null,
   "metadata": {
    "ExecuteTime": {
     "end_time": "2019-11-07T05:18:26.485470Z",
     "start_time": "2019-11-07T05:18:23.440Z"
    },
    "hidden": true
   },
   "outputs": [],
   "source": [
    "p1 <- ggplot(heart_disease_data, aes(x=sex, fill = heart_disease_diagnosis)) + \n",
    "geom_bar(position='fill') +\n",
    "labs(y='Heart Disease Diagnosis', x='Sex', fill = \"Heart Disease Diagnosis\") +\n",
    "theme(legend.position = 'none') + theme(axis.title.y=element_blank())\n",
    "\n",
    "p2 <- ggplot(heart_disease_data, aes(x=chest_pain, fill = heart_disease_diagnosis)) + \n",
    "geom_bar(position='fill') +\n",
    "labs(y='Heart Disease Diagnosis', x='Chest Pain', fill = \"Heart Disease Diagnosis\") +\n",
    "theme(legend.position = 'none') + theme(axis.title.y=element_blank())\n",
    "\n",
    "p3 <- ggplot(heart_disease_data, aes(x=blood_sugar, fill = heart_disease_diagnosis)) + \n",
    "geom_bar(position='fill') +\n",
    "labs(y='Heart Disease Diagnosis', x='Blood Sugar', fill = \"Heart Disease Diagnosis\") +\n",
    "theme(legend.position = 'none') + theme(axis.title.y=element_blank())\n",
    "\n",
    "p4 <- ggplot(heart_disease_data, aes(x=ecg, fill = heart_disease_diagnosis)) + \n",
    "geom_bar(position='fill') +\n",
    "labs(y='Heart Disease Diagnosis', x='ECG', fill = \"Heart Disease Diagnosis\") +\n",
    "theme(legend.position = 'none') + theme(axis.title.y=element_blank())\n",
    "\n",
    "p5 <- ggplot(heart_disease_data, aes(x=exercise_angina, fill = heart_disease_diagnosis)) + \n",
    "geom_bar(position='fill') +\n",
    "labs(y='Heart Disease Diagnosis', x='Exercise Angina', fill = \"Heart Disease Diagnosis\") +\n",
    "theme(legend.position = 'none') + theme(axis.title.y=element_blank())\n",
    "\n",
    "p6 <- ggplot(heart_disease_data, aes(x=location, fill = heart_disease_diagnosis)) + \n",
    "geom_bar(position='fill') +\n",
    "labs(y='Heart Disease Diagnosis', x='Location', fill = \"Heart Disease Diagnosis\") +\n",
    "theme(legend.position = 'none') + theme(axis.title.y=element_blank())\n",
    "\n",
    "\n",
    "# Arrange plots into grid\n",
    "plot_grid(p1, p2, p3, ncol = 1)\n",
    "plot_grid(p4, p5, p6, ncol = 1)"
   ]
  },
  {
   "cell_type": "markdown",
   "metadata": {
    "hidden": true,
    "solution2": "hidden",
    "solution2_first": true
   },
   "source": [
    "Based on our results, what variables seem to have an effect on heart disease diagnosis? Does this make them good candidate variables for our prediction model?"
   ]
  },
  {
   "cell_type": "markdown",
   "metadata": {
    "hidden": true,
    "solution2": "hidden"
   },
   "source": [
    "This plot grid allows us to quickly see how stroke rates differ depending on heart disease. Based on observation it appears `sex`, `chest_pain`, `blood_sugar`, `ecg`, `exercise_angina`, and `location` all seem to have an effect on heart disease diagnosis. This indicates that these are good candidate variables for our prediction model. "
   ]
  },
  {
   "cell_type": "markdown",
   "metadata": {
    "heading_collapsed": true,
    "hidden": true
   },
   "source": [
    "## EDA Step 4: Logistic Regression"
   ]
  },
  {
   "cell_type": "markdown",
   "metadata": {
    "hidden": true
   },
   "source": [
    "Now that our variables have been successfully converted and our outcome has been defined, we can analyze our data. Logistic regression is a mathematical model that estimates the probability of a binary outcomes (such as our risk label). It is named after the logistic curve which takes the S-shape depicted below.\n",
    "<img src=\"https://upload.wikimedia.org/wikipedia/commons/thumb/8/88/Logistic-curve.svg/640px-Logistic-curve.svg.png?1566122052688\" alt=\"Logistic Curve\" title=\"Logistic Curve\" />"
   ]
  },
  {
   "cell_type": "markdown",
   "metadata": {
    "hidden": true,
    "solution2": "hidden",
    "solution2_first": true
   },
   "source": [
    "**Pre-Check:** What is our outcome?"
   ]
  },
  {
   "cell_type": "markdown",
   "metadata": {
    "hidden": true,
    "solution2": "hidden"
   },
   "source": [
    "Our primary outcome is whether the individual has heart disease. \n",
    "\n",
    "The logistic regression model will allow us to see how individuals variables affect whether an individual has heart disease **while controlling for other variables in the model**. For instance, we can see whether being older affects having heart disease while controlling for abnormal ecg, blood sugar, etc...\n",
    "\n",
    "Very useful indeed!"
   ]
  },
  {
   "cell_type": "markdown",
   "metadata": {
    "hidden": true
   },
   "source": [
    "We will be using logistic regression to assess whether our variables have a statistically significant effect on whether a person has a stroke. \n",
    "\n",
    "Statistical significance is how likely a relationship between variables in our data did not occur by chance. For example, if we find that age has a statistically significant effect on having a stroke, this means that this effect is more likely than chance alone would suggest. \n",
    "\n",
    "The conventional level of significance that is accepted is < 0.05 (this number is referred to as a p-value). This means that there is less than 5% chance that the observed relationship was due to chance alone. The image below display a sample R output with the p-value highlighted.\n",
    "\n",
    "<img src=\"https://drchrispook.files.wordpress.com/2017/02/anova-output-from-r1.jpg\" align=\"center\" style=\"margin-bottom: 0.5em; margin-top: 0.5em; width: 75%;\">"
   ]
  },
  {
   "cell_type": "markdown",
   "metadata": {
    "hidden": true
   },
   "source": [
    "Lets create our logistic model"
   ]
  },
  {
   "cell_type": "code",
   "execution_count": null,
   "metadata": {
    "ExecuteTime": {
     "end_time": "2019-11-07T05:18:26.538922Z",
     "start_time": "2019-11-07T05:18:24.389Z"
    },
    "hidden": true
   },
   "outputs": [],
   "source": [
    "# Creating a logistic regression model\n",
    "mylogit <- glm(heart_disease_diagnosis ~ age + sex + chest_pain + \n",
    "               blood_sugar + ecg + max_heart_rate + exercise_angina + exercise_ST_depress + location,\n",
    "               data = heart_disease_data, family = \"binomial\")\n",
    "mylogit.sum <- summary(mylogit)\n",
    "mylogit.sum"
   ]
  },
  {
   "cell_type": "markdown",
   "metadata": {
    "hidden": true
   },
   "source": [
    "We can see that several of our variables do not have a statistically significant effect (`age`, `ecg`, and `max_heart_rate`. However, all three of these variables are clinically relevant. For instance, we know that older individuals are at higher risk of develop heart disease simply because they have had more time for plaques to accumulate in their blood vessels. In addition, their blood vessels narrow as they age. For this reason we will be keeping these variables in our model. \n",
    "\n",
    "While statistical significance is important, it is always more important to consider whether our predictor are clinically relevant for the outcome we will be predicting. Remember to alway consider the clinical significance of a variable and not just the statistical significance!"
   ]
  },
  {
   "cell_type": "markdown",
   "metadata": {
    "heading_collapsed": true
   },
   "source": [
    "# Building A Predictive Model"
   ]
  },
  {
   "cell_type": "markdown",
   "metadata": {
    "hidden": true,
    "solution2": "hidden",
    "solution2_first": true
   },
   "source": [
    "**Pre-Check:** So far we haven't done any machine learning yet. What we've done can be considered traditional statistical analyses. What differentiate machine learning for statistical analysis?"
   ]
  },
  {
   "cell_type": "markdown",
   "metadata": {
    "hidden": true,
    "solution2": "hidden"
   },
   "source": [
    "In machine learning, data is split into a training and test set. A machine learning model is then trainined on the training set to predict whatever outcome of interest it was designed to predict (in our case we're predicting whether the asthmatic patient is high- or low- risk). The models predictive performance is then evaluated using the test set. \n",
    "\n",
    "<img src=\"https://www.sqlservercentral.com/wp-content/uploads/2019/05/Image-2.jpg\" align=\"center\" style=\"margin-bottom: 0.5em; margin-top: 0.5em;\">"
   ]
  },
  {
   "cell_type": "markdown",
   "metadata": {
    "hidden": true
   },
   "source": [
    "For our case we'll be using a model called a naive bayes classifier. This algorithm is an algorithm that can be used for classification purpose and is based on **Bayes Theorem**. It is called naive because it assumes that all the features that go into the model are independent from one another.\n",
    "\n",
    "> As you can likely guess, this is rarely true in the real world. This especially the case for clinical data. \n",
    "\n",
    "So now you're wondering, just what the heck is Bayes Theorem?"
   ]
  },
  {
   "cell_type": "markdown",
   "metadata": {
    "heading_collapsed": true,
    "hidden": true
   },
   "source": [
    "### Bayes Theorem"
   ]
  },
  {
   "cell_type": "markdown",
   "metadata": {
    "hidden": true
   },
   "source": [
    "Bayes theorem is a theory that allows us to find the probability of an event or prediction given prior knowledge/data. Below is a graphic representation of the equation for bayes theorem. \n",
    "\n",
    "<img src=\"https://miro.medium.com/max/806/1*l0MccMHzSjtpJ_mGaItVfA.jpeg\" align=\"center\" style=\"margin-bottom: 0.5em; margin-top: 0.5em;\">\n",
    "\n",
    "This is a mathematical representation of our definition for bayes theorem. In the equation, we are predicting the value of A given prior knowledge of value B. Now how does this fit into machine learning?\n",
    "\n",
    "In a naive bayes classifier, the algorithm is trained to recognize the probability for different classes based on all the features. In our case, this would mean our algorithm would be trained to find the probability of whether a person has heart disease based on every variable include in our model (ie. age, blood glucose, etc...). It would then classify a person as having heart disease or not based on probabilities it derives from looking at all the variables from that particular patient. Where does it learn these probabilities from? By learning from our training data. "
   ]
  },
  {
   "cell_type": "markdown",
   "metadata": {
    "heading_collapsed": true,
    "hidden": true
   },
   "source": [
    "## Predictive Model Step 1: Training and Testing Our Data"
   ]
  },
  {
   "cell_type": "markdown",
   "metadata": {
    "hidden": true
   },
   "source": [
    "Lets split our data into a training and test set now."
   ]
  },
  {
   "cell_type": "code",
   "execution_count": null,
   "metadata": {
    "ExecuteTime": {
     "end_time": "2019-11-07T05:18:26.597771Z",
     "start_time": "2019-11-07T05:18:25.245Z"
    },
    "hidden": true
   },
   "outputs": [],
   "source": [
    "# Splitting the data into training and test set data\n",
    "# Setting the seed value so we get the same result when we repreat\n",
    "set.seed(123)\n",
    "\n",
    "# Determining which rows willbe in the traiing data\n",
    "training_index <- sample(nrow(heart_disease_data), 0.8*nrow(heart_disease_data), replace = FALSE)  \n",
    "\n",
    "# Create Training Set\n",
    "training_data <- heart_disease_data[training_index,]\n",
    "\n",
    "# Create Test Set\n",
    "# Don't include stroke column in test set. Prediction will create this column. If you\n",
    "# include stroke variable, confusion matrix will throw an unequal lengths error\n",
    "test_data <- heart_disease_data[-training_index,]\n",
    "\n",
    "cat('Training and Test Data Created')"
   ]
  },
  {
   "cell_type": "markdown",
   "metadata": {
    "hidden": true
   },
   "source": [
    "Now lets fit our model to the training and test data. We will then take a look at our models performance using a confusion matrix.\n",
    "\n",
    "> If you're unsure what a confusion matrix is, please consult section 5.1.1 ('What is a Confusion Matrix')"
   ]
  },
  {
   "cell_type": "code",
   "execution_count": null,
   "metadata": {
    "ExecuteTime": {
     "end_time": "2019-11-07T05:19:33.422160Z",
     "start_time": "2019-11-07T05:19:33.352Z"
    },
    "hidden": true,
    "scrolled": true
   },
   "outputs": [],
   "source": [
    "# Set up the model\n",
    "model <- (heart_disease_diagnosis ~ age + sex + chest_pain + \n",
    "          blood_sugar + ecg + max_heart_rate + exercise_angina + exercise_ST_depress)\n",
    "\n",
    "# Add in NA action to exclude missing \n",
    "train_nb = naiveBayes(model, training_data, importance = TRUE)\n",
    "\n",
    "# Predict\n",
    "prediction_nb <- predict(object = train_nb,\n",
    "                         test_data[,-14],\n",
    "                         type = \"class\")\n",
    "\n",
    "# Output results\n",
    "confusionMatrix(data = prediction_nb, reference = test_data$heart_disease_diagnosis)"
   ]
  },
  {
   "cell_type": "markdown",
   "metadata": {
    "hidden": true
   },
   "source": [
    "How did it do? We can see our model had an accuracy of 0.80, a sensitivity of 0.82, and a specificity of 0.77. What we determine to be acceptable cut-off will depend on the context this model is being used for. Lets evaluate our model further. "
   ]
  },
  {
   "cell_type": "markdown",
   "metadata": {
    "heading_collapsed": true,
    "hidden": true
   },
   "source": [
    "### What Is A Confusion Matrix"
   ]
  },
  {
   "cell_type": "markdown",
   "metadata": {
    "hidden": true
   },
   "source": [
    "A confusion matrix is a 2x2 table which computes 4 different combinations of predicted vs. actual values. The combinations are True Positive (TP), True Negative (TN), False Positive (FP), and False Negative (FN)\n",
    "\n",
    "<img src=\"https://miro.medium.com/max/320/1*Z54JgbS4DUwWSknhDCvNTQ.png\" align=\"center\" style=\"margin-bottom: 0.5em; margin-top: 0.5em;\">\n",
    "\n",
    "These 4 interpretations can be combined to generate many useful metrics. For our purpose there are three we will focus on. The first is accuracy: \n",
    "\n",
    "\\[\\large (TP + TN)/Total\\]\n",
    "\n",
    "Accuracy allows us to measure how often our model predicted correctly. The second metric is sensitivity:\n",
    "\n",
    "\\[\\large TP / (TP + FN)\\]\n",
    "\n",
    "Sensitivity asks the question, that when our outcome is actually positive (ie. in our case when our patient is actually high-risk) how often will the model predict positively (ie. how often will the model then predict the patient to be high-risk). The final metric is specificity:\n",
    "\n",
    "\\[\\large FP / (FP + TN)\\]\n",
    "\n",
    "Specificity asks the question, that when the outcome is actually negative (ie. in our case when our patient is actually low-risk) how often will the model predict negatively (ie. how often will the model then predict the patient to be low-risk). \n",
    "\n",
    "\n"
   ]
  },
  {
   "cell_type": "markdown",
   "metadata": {
    "heading_collapsed": true,
    "hidden": true
   },
   "source": [
    "## Predictive Model Step 2: Evaluating our Model"
   ]
  },
  {
   "cell_type": "markdown",
   "metadata": {
    "hidden": true
   },
   "source": [
    "We will be evaluating our model using a receiver operating curve (ROC) and the area under the curve (AUC) value. \n",
    "\n",
    "> If you're unsure what a ROC or AUC value is, please consult section 5.2.1 ('Understanding ROC Curves and AUC Values')"
   ]
  },
  {
   "cell_type": "code",
   "execution_count": null,
   "metadata": {
    "ExecuteTime": {
     "end_time": "2019-11-07T05:19:43.575145Z",
     "start_time": "2019-11-07T05:19:43.127Z"
    },
    "hidden": true
   },
   "outputs": [],
   "source": [
    "# Create a ROC curve\n",
    "ROC <- roc(response = test_data$heart_disease_diagnosis, predictor = factor(prediction_nb, \n",
    "                                                           ordered = TRUE, \n",
    "                                                           levels = c('Disease', 'No heart disease')))\n",
    "\n",
    "# Plot ROC with ggplot2\n",
    "plot_ROC <- ggroc(ROC)\n",
    "plot_ROC"
   ]
  },
  {
   "cell_type": "code",
   "execution_count": null,
   "metadata": {
    "ExecuteTime": {
     "end_time": "2019-11-07T05:19:46.862720Z",
     "start_time": "2019-11-07T05:19:46.841Z"
    },
    "hidden": true
   },
   "outputs": [],
   "source": [
    "# Calculate the area under the curve (AUC)\n",
    "cat('AUC:', round(auc(ROC), 2))"
   ]
  },
  {
   "cell_type": "markdown",
   "metadata": {
    "hidden": true
   },
   "source": [
    "The closer to the top left corner our ROC curve is the better. The higher our AUC value is the better. These metrics provide useful measure when tuning our model. They are also better overall measures than accuracy alone. We can compare different models using these two metrics. "
   ]
  },
  {
   "cell_type": "markdown",
   "metadata": {
    "heading_collapsed": true,
    "hidden": true
   },
   "source": [
    "### Understanding ROC Curves and AUC Values"
   ]
  },
  {
   "cell_type": "markdown",
   "metadata": {
    "hidden": true
   },
   "source": [
    "An ROC plots sensitivity (probability of predicting a real psoitive will be positive) against 1-specificity (the probability of predicting a real negative will be a positive). A model with a 50-50 change of making a correct decision will have a ROC curve which is just a diagonal line. A model with a curve that hugs the top left corner is a perfect model. The area under a curve is a measure of magnitude of the ROC curve. The closer the ROC curve is to the top left corner, the higher the AUC value is. The higher the AUC value is, the better. \n",
    "\n",
    "<img src=\"https://miro.medium.com/max/406/1*pk05QGzoWhCgRiiFbz-oKQ.png\" style=\"float: center; width: 34%; margin-bottom: 0.5em;\">"
   ]
  },
  {
   "cell_type": "markdown",
   "metadata": {
    "heading_collapsed": true,
    "hidden": true
   },
   "source": [
    "## Explaining the Model"
   ]
  },
  {
   "cell_type": "markdown",
   "metadata": {
    "hidden": true
   },
   "source": [
    "An important part of any model is being able to explain it. We can look at the effect each variable had on predicting heart disease through looking at the conditional probabilities of different variables. "
   ]
  },
  {
   "cell_type": "code",
   "execution_count": null,
   "metadata": {
    "ExecuteTime": {
     "end_time": "2019-11-07T05:18:27.019422Z",
     "start_time": "2019-11-07T05:18:26.343Z"
    },
    "hidden": true
   },
   "outputs": [],
   "source": [
    "# Naive Bayes Output\n",
    "train_nb"
   ]
  },
  {
   "cell_type": "markdown",
   "metadata": {
    "hidden": true
   },
   "source": [
    "So our model gave us quite a bit of output. First the output will differ depending on whether a variable is categorical or numeric. For numeric variables you should see a `[,1]` and `[,2]`. The `[,1]` indicates the mean value based on disease status. For instance we can see that the mean age for the heart disease group was 55.8 while the mean age for the no heart disease group was 50.5. The `[,2]` is the standard deviation for that mean. "
   ]
  },
  {
   "cell_type": "markdown",
   "metadata": {
    "hidden": true
   },
   "source": [
    "For categorical variables we get probabilities. Under A-priori probabilities we can see the original distribution of heart disease and non heart disease patients. The ratio is approximately 1:1. We can then see the probabilities of heart disease to no heart disease based on variables. Anything surprising?\n",
    "\n",
    "One surprising variable is `sex`. In female the ratio of heart disease to no heart disease is 1:3. However, among males it's nearly 1.4:1. Sex seems to be a big driver for whether we can predict heart disease or not! See if you can spot anymore surprising findings. "
   ]
  },
  {
   "cell_type": "markdown",
   "metadata": {
    "hidden": true
   },
   "source": [
    "Congratulations! You've reached the end of the case! This case provided just one example of how analytics and healthcare can be combined to solve clinical problems. I hope your curiosity has been piqued. There much more to learn and much more you can explore in this field!"
   ]
  }
 ],
 "metadata": {
  "kernelspec": {
   "display_name": "R",
   "language": "R",
   "name": "ir"
  },
  "language_info": {
   "codemirror_mode": "r",
   "file_extension": ".r",
   "mimetype": "text/x-r-source",
   "name": "R",
   "pygments_lexer": "r",
   "version": "3.6.1"
  },
  "latex_envs": {
   "LaTeX_envs_menu_present": true,
   "autoclose": false,
   "autocomplete": true,
   "bibliofile": "biblio.bib",
   "cite_by": "apalike",
   "current_citInitial": 1,
   "eqLabelWithNumbers": false,
   "eqNumInitial": 1,
   "hotkeys": {
    "equation": "Ctrl-E",
    "itemize": "Ctrl-I"
   },
   "labels_anchors": false,
   "latex_user_defs": false,
   "report_style_numbering": false,
   "user_envs_cfg": false
  },
  "toc": {
   "base_numbering": 1,
   "nav_menu": {},
   "number_sections": true,
   "sideBar": true,
   "skip_h1_title": false,
   "title_cell": "Table of Contents",
   "title_sidebar": "Contents",
   "toc_cell": false,
   "toc_position": {
    "height": "414px",
    "left": "54px",
    "top": "110.8px",
    "width": "276px"
   },
   "toc_section_display": true,
   "toc_window_display": false
  },
  "varInspector": {
   "cols": {
    "lenName": 16,
    "lenType": 16,
    "lenVar": 40
   },
   "kernels_config": {
    "python": {
     "delete_cmd_postfix": "",
     "delete_cmd_prefix": "del ",
     "library": "var_list.py",
     "varRefreshCmd": "print(var_dic_list())"
    },
    "r": {
     "delete_cmd_postfix": ") ",
     "delete_cmd_prefix": "rm(",
     "library": "var_list.r",
     "varRefreshCmd": "cat(var_dic_list()) "
    }
   },
   "types_to_exclude": [
    "module",
    "function",
    "builtin_function_or_method",
    "instance",
    "_Feature"
   ],
   "window_display": true
  }
 },
 "nbformat": 4,
 "nbformat_minor": 4
}
