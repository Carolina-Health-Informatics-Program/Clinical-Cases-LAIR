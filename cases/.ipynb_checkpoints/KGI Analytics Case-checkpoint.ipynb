{
 "cells": [
  {
   "cell_type": "markdown",
   "metadata": {},
   "source": [
    "# Introduction"
   ]
  },
  {
   "cell_type": "markdown",
   "metadata": {
    "cell_style": "center"
   },
   "source": [
    "<p align=\"justify\">Welcome! In this case we'll be exploring how to use advanced analytic and machine learning techniques to predict high risk asthmatic patients. \n",
    "\n",
    "<br>\n",
    "<br>\n",
    "<details>\n",
    "<summary>Some of the skills you'll explore are (Click to Expand):</summary>\n",
    "<ul>\n",
    "    <li>R Programming</li>\n",
    "    <li>Data Cleaning</li>\n",
    "    <li>Descriptive Analysis</li>\n",
    "    <li>Data Visualization</li>\n",
    "    <li>Leveraging Domain Knowledge</li>\n",
    "    <li>Logistic Regression</li>\n",
    "    <li>Machine Learning</li>\n",
    "</details><br>\n",
    "\n",
    "Don't worry if you're unsure what some of these terms are. They'll be explained throughout the case. Let's begin! \n",
    "\n",
    "<img src=\"https://i.stack.imgur.com/zlAi2.png\" style=\"float: left; width: 35%; margin-right: 1%; margin-bottom: 0.5em;\">\n",
    "<img src=\"http://cran.uvigo.es/Rlogo.svg\" style=\"float: left; width: 25%; margin-left: 2%; margin-bottom: 0.5em;\">\n",
    "<img src=\"https://www.edvancer.in/wp-content/uploads/2015/10/f5bd5f87059fce20564f6e5eb562022e.png\" style=\"float: left; width: 27%; margin-left: 5%; margin-bottom: 0.5em;\">"
   ]
  },
  {
   "cell_type": "markdown",
   "metadata": {
    "heading_collapsed": true
   },
   "source": [
    "## Case Scenario"
   ]
  },
  {
   "cell_type": "markdown",
   "metadata": {
    "hidden": true
   },
   "source": [
    "You are a pharmacy informatics specialist working at a large health management \n",
    "organization. Recently there has been an increase in emergency room visits due \n",
    "to asthma exacerbations driving up costs. Your organization has asked that you look into the \n",
    "situation more closely in order to determine which patients should be inducted \n",
    "into an outpatient asthma monitoring service. Your goal is to \n",
    "predict which patients will be at high risk for high health care expenditure. Using this information you can then efficiently target the asthma monitoring service toward these patients. \n",
    "\n",
    "Continue through the case to find out how you can accomplish this with analytics. "
   ]
  },
  {
   "cell_type": "markdown",
   "metadata": {
    "heading_collapsed": true,
    "hidden": true
   },
   "source": [
    "### Extra: What is Asthma?"
   ]
  },
  {
   "cell_type": "markdown",
   "metadata": {
    "hidden": true
   },
   "source": [
    "Asthma is a respiratory disease which causes constriction and inflammation of the airways in the lungs. The disease can often cause acute airway constrictions sometimes known as “asthma attacks.” Clinicians refer to this airway restriction as “bronchospasm” and it results in cough, wheezing, shortness of breath, and extreme situations such as death from respiratory arrest. Currently, approximately 10 people die from asthma attacks per day in the US.\n",
    "\n",
    "<p align=\"center\">\n",
    "  <img width=\"400\" height=\"200\" src=\"https://asthma.net/wp-content/uploads/2015/04/ASTHMATIC-AIRWAYS.jpg\">\n",
    "</p>\n",
    "\n",
    "\n",
    "Asthma requires a test of lung function known as spirometry to make a definitive diagnosis. Treatment often consists of inhaled medications that helps combat airway constriction and inflammation. Patients that do not get timely and appropriate treatment can need avoidable emergency care and hospitalizations. These visits can add thousands of dollars per year in avoidable medical expenses to the US healthcare system. The medical costs among patients with uncontrolled asthma are 3-times higher than controlled patients."
   ]
  },
  {
   "cell_type": "markdown",
   "metadata": {
    "heading_collapsed": true
   },
   "source": [
    "## How To Navigate The Case"
   ]
  },
  {
   "cell_type": "markdown",
   "metadata": {
    "hidden": true
   },
   "source": [
    "You'll navigate the case through by activating specific codes cells (AKA running code cells). \n",
    "\n",
    "Below is a picture of the run button on the notebook menu. You will use this button run all code cells in the case. Take a look."
   ]
  },
  {
   "cell_type": "markdown",
   "metadata": {
    "cell_style": "center",
    "hidden": true
   },
   "source": [
    "**The** `Run` **Button**\n",
    "![title](images/jupyter_toolbar.png)"
   ]
  },
  {
   "cell_type": "markdown",
   "metadata": {
    "hidden": true
   },
   "source": [
    "The cell below is an example of the code cell. Select this cell, find the `Run` button, and run the code cell."
   ]
  },
  {
   "cell_type": "code",
   "execution_count": 1,
   "metadata": {
    "ExecuteTime": {
     "end_time": "2019-12-08T20:18:51.420996Z",
     "start_time": "2019-12-08T20:18:51.202Z"
    },
    "cell_style": "center",
    "hidden": true,
    "scrolled": false
   },
   "outputs": [
    {
     "name": "stdout",
     "output_type": "stream",
     "text": [
      "Congratulations! \n",
      "You've run your first code cell.\n"
     ]
    }
   ],
   "source": [
    "# This is an example of a code cell\n",
    "cat('Congratulations! \\n')\n",
    "cat('You\\'ve run your first code cell.\\n')"
   ]
  },
  {
   "cell_type": "markdown",
   "metadata": {
    "heading_collapsed": true,
    "hidden": true
   },
   "source": [
    "### Case Code Tips"
   ]
  },
  {
   "cell_type": "markdown",
   "metadata": {
    "hidden": true
   },
   "source": [
    "Within code cells you will see green text preceded by a `#` symbol. These are comments and will help explain what portions of the code are doing. All code should be ready to run as shown. \n",
    "\n",
    "Some code may require more time to run. On the left hand side you will notice the label: `In [ ]:`. If there is an `*` in between the `[]`'s after you select `Run`, that indicates that your code is in the process of running. Like so: `In [*]:`"
   ]
  },
  {
   "cell_type": "markdown",
   "metadata": {},
   "source": [
    "## Meeting Our Data"
   ]
  },
  {
   "cell_type": "markdown",
   "metadata": {},
   "source": [
    "We'll be using the Medical Expenditure Panel Survey (MEPS) to predict Asthma Expenditure. Identifying an appropriate data source is critical in Analytics. Without the right dataset, your analysis is doomed from the start. \n",
    "\n",
    "![image](images/MEPS.png)"
   ]
  },
  {
   "cell_type": "markdown",
   "metadata": {},
   "source": [
    "### What is MEPS?"
   ]
  },
  {
   "cell_type": "markdown",
   "metadata": {},
   "source": [
    "MEPS is a national survey that seeks to capture as much data as possible about healthcare costs and use within the United States. Below is a detailed definition. \n",
    "\n",
    "> The Medical Expenditure Panel Survey (MEPS) is a set of large-scale surveys of families and individuals, their medical providers, and employers across the United States. MEPS is the most complete source of data on the cost and use of health care and health insurance coverage. - [meps.ahrq.gov](https://meps.ahrq.gov/mepsweb/)\n",
    "\n",
    "MEPS contains over 2000 variables, detailed expenditure data, and comprehensive  medical information. In other words, it has all the ingredient to build our prediction model!\n"
   ]
  },
  {
   "cell_type": "markdown",
   "metadata": {
    "heading_collapsed": true
   },
   "source": [
    "### Necessary Data Files"
   ]
  },
  {
   "cell_type": "markdown",
   "metadata": {
    "cell_style": "split",
    "hidden": true
   },
   "source": [
    "<p style=\"text-align: center;\">h128.csv</p>\n",
    "\n",
    "***\n",
    "Contains data on medical conditions for 2009 MEPS sample"
   ]
  },
  {
   "cell_type": "markdown",
   "metadata": {
    "cell_style": "split",
    "hidden": true
   },
   "source": [
    "<p style=\"text-align: center;\">h129.csv</p>\n",
    "\n",
    "***\n",
    "Contains main information for 2009 MEPS sample, information includes survey data, demographics, and expenditure data"
   ]
  },
  {
   "cell_type": "markdown",
   "metadata": {
    "hidden": true
   },
   "source": [
    "Both data files will already be downloaded as part of our case. They can also be accessed directly from the MEPS website. 'h128' can be accessed [here](https://meps.ahrq.gov/mepsweb/data_stats/download_data_files_detail.jsp?cboPufNumber=HC-128). 'h129' can be accessed [here](https://meps.ahrq.gov/mepsweb/data_stats/download_data_files_detail.jsp?cboPufNumber=HC-129)"
   ]
  },
  {
   "cell_type": "markdown",
   "metadata": {
    "heading_collapsed": true
   },
   "source": [
    "# Setup (Do Not Skip)"
   ]
  },
  {
   "cell_type": "markdown",
   "metadata": {
    "hidden": true
   },
   "source": [
    "Run the code below to set up specific settings for our case. This will allow us to utilize outside resources called libraries to expand R's capabilities allowing us to manipulate data in new ways and implement machine learning. \n",
    "\n",
    "Do not skip this step!"
   ]
  },
  {
   "cell_type": "code",
   "execution_count": null,
   "metadata": {
    "ExecuteTime": {
     "end_time": "2019-12-08T20:18:52.136680Z",
     "start_time": "2019-12-08T20:18:52.049Z"
    },
    "code_folding": [
     10
    ],
    "hidden": true,
    "scrolled": false
   },
   "outputs": [],
   "source": [
    "# Increase max number of columns displayed in output tables\n",
    "options(repr.matrix.max.cols = 2000)\n",
    "# Calling external libraries for additional functionality\n",
    "suppressMessages(library(tidyverse))\n",
    "suppressMessages(library(plyr))\n",
    "suppressMessages(library(caret))\n",
    "suppressMessages(library(e1071))\n",
    "suppressMessages(library(pROC))\n",
    "\n",
    "# Create function to test models\n",
    "test_model <- function(features){\n",
    "    # Build the model on training data\n",
    "    cat('Training model, please be patient...\\n')\n",
    "    total_variables <- append(features, 'TOTEXP09')\n",
    "    play_trainingData <- subset(trainingData,select = total_variables)\n",
    "    play_testData <- subset(testData,select = total_variables)\n",
    "    suppressMessages(attach(trainingData))\n",
    "    mylogit <- suppressWarnings(train(TOTEXP09~., data = play_trainingData, method = 'glm', family = 'binomial',na.action=na.omit))\n",
    "    detach(trainingData)\n",
    "\n",
    "    cat('Model trained!\\n')\n",
    "    # Apply the model to test data\n",
    "    modelPred.na <- predict(mylogit, newdata = play_testData, method = \"glm\", na.action = na.pass)\n",
    "\n",
    "    cat('Model successfully applied to test data!\\n')\n",
    "\n",
    "    # Create Confusion matrix\n",
    "    cm <- confusionMatrix(modelPred.na, play_testData$TOTEXP09)\n",
    "    ## Show confusion matrix\n",
    "    print(cm)\n",
    "\n",
    "    # Create a ROC curve\n",
    "    ROC <- roc(response =play_testData$TOTEXP09, predictor = factor(modelPred.na, \n",
    "                                                               ordered = TRUE, \n",
    "                                                               levels = c('low_risk', 'high_risk')))\n",
    "    # Plot ROC with ggplot2\n",
    "    plot_ROC <- ggroc(ROC)\n",
    "    print(plot_ROC)\n",
    "    \n",
    "    # Calculate the area under the curve (AUC)\n",
    "    cat('AUC:', round(auc(ROC), 2),'\\n')\n",
    "    test <- varImp(mylogit)\n",
    "    ggplot(test)\n",
    "}\n",
    "\n",
    "cat('Setup complete!')"
   ]
  },
  {
   "cell_type": "markdown",
   "metadata": {
    "heading_collapsed": true
   },
   "source": [
    "# Cleaning Our Data"
   ]
  },
  {
   "cell_type": "markdown",
   "metadata": {
    "hidden": true
   },
   "source": [
    "The first step in any analytic project is to clean our data. This is a critical step that commonly overlooked within data science projects. However, without properly processed data, it won't matter how sophisticated our analysis is. A common saying in data science is \"Junk in, Junk out\". "
   ]
  },
  {
   "cell_type": "markdown",
   "metadata": {
    "heading_collapsed": true,
    "hidden": true
   },
   "source": [
    "## Loading Our data"
   ]
  },
  {
   "cell_type": "markdown",
   "metadata": {
    "hidden": true
   },
   "source": [
    "We'll begin by loading in our data into R. This will allow us to use our data and manipulate it. "
   ]
  },
  {
   "cell_type": "code",
   "execution_count": null,
   "metadata": {
    "ExecuteTime": {
     "end_time": "2019-12-08T20:19:22.732437Z",
     "start_time": "2019-12-08T20:18:52.289Z"
    },
    "cell_style": "center",
    "hidden": true,
    "scrolled": false
   },
   "outputs": [],
   "source": [
    "# Note: Unicode Transformation Format – 8 (UTF-8) is a standard to encode characters in different languages\n",
    "cat('Data loading, please wait\\n')\n",
    "condition <- read.csv(file=\"data/h128.csv\",  encoding=\"UTF-8\", header=TRUE, sep=\",\")\n",
    "consolidation <- read.csv(file=\"data/h129.csv\",  encoding=\"UTF-8\", header=TRUE, sep=\",\")\n",
    "cat('Data loaded!')"
   ]
  },
  {
   "cell_type": "markdown",
   "metadata": {
    "heading_collapsed": true,
    "hidden": true
   },
   "source": [
    "## Selecting Asthmatic Patients"
   ]
  },
  {
   "cell_type": "markdown",
   "metadata": {
    "hidden": true
   },
   "source": [
    "The MEPS data contains individuals with numerous conditions. We need to select only those individuals with asthma. We will identify these patients based on their International Classification of Disease, Ninth Revision (ICD-9) code. A ICD-9 code is simply a code that represents a diagnoses."
   ]
  },
  {
   "cell_type": "markdown",
   "metadata": {
    "hidden": true
   },
   "source": [
    "First, lets see how many total observations there are to establish a baseline. Each observation represent a single data point. Each data point corresponds to a single individual/aptients. "
   ]
  },
  {
   "cell_type": "code",
   "execution_count": null,
   "metadata": {
    "ExecuteTime": {
     "end_time": "2019-12-08T20:19:22.767365Z",
     "start_time": "2019-12-08T20:18:52.470Z"
    },
    "code_folding": [],
    "hidden": true,
    "scrolled": false
   },
   "outputs": [],
   "source": [
    "# Display the total number of data instances\n",
    "cat(\"The are\", length(condition$DUID), \"observations.\", \"\\n\")"
   ]
  },
  {
   "cell_type": "markdown",
   "metadata": {
    "hidden": true
   },
   "source": [
    "It looks like there are 117342 total observations. Now lets select only asthmatic patients from those observations. We will identify these patients based on their international Classification of Disease, Ninth Revision (ICD-9) code. A ICD-9 code is simply a code that represents a diagnoses."
   ]
  },
  {
   "cell_type": "code",
   "execution_count": null,
   "metadata": {
    "ExecuteTime": {
     "end_time": "2019-12-08T20:19:22.848020Z",
     "start_time": "2019-12-08T20:18:52.554Z"
    },
    "hidden": true,
    "scrolled": false
   },
   "outputs": [],
   "source": [
    "# Astham ICD code is 493\n",
    "# Select only observations with an ICD code = 493\n",
    "condition <- subset(condition, ICD9CODX == 493)\n",
    "cat('Data selected')"
   ]
  },
  {
   "cell_type": "markdown",
   "metadata": {
    "hidden": true
   },
   "source": [
    "Now let's remove duplicate observations and check how many observations are now in the dataset"
   ]
  },
  {
   "cell_type": "code",
   "execution_count": null,
   "metadata": {
    "ExecuteTime": {
     "end_time": "2019-12-08T20:19:22.890841Z",
     "start_time": "2019-12-08T20:18:52.624Z"
    },
    "hidden": true,
    "scrolled": false
   },
   "outputs": [],
   "source": [
    "# Removing duplicates\n",
    "condition = condition[order(condition[,'DUPERSID'],-condition[,'CONDIDX']),]\n",
    "condition = condition[!duplicated(condition$DUPERSID),]\n",
    "\n",
    "# Show the number of selected data instances\n",
    "cat(\"There are\", length(condition$DUID),\"observations.\", \"\\n\")"
   ]
  },
  {
   "cell_type": "markdown",
   "metadata": {
    "hidden": true
   },
   "source": [
    "We've gone from 117342 to 2375 observations! This is a more manageable number of observation. By selecting for only asthmatic patients, we will be able to manipulate our data and analyze how certain variable specifically impact asthmatic individuals. "
   ]
  },
  {
   "cell_type": "markdown",
   "metadata": {
    "heading_collapsed": true,
    "hidden": true
   },
   "source": [
    "### Extra: More About ICD Codes"
   ]
  },
  {
   "cell_type": "markdown",
   "metadata": {
    "hidden": true
   },
   "source": [
    "ICD was created promote international comparability in the collection, processing, classification, and presentation of mortality statistics. Each code is suppose to uniquely describe a particular diagnosis in detail. For instance, asthma has an ICD-9 code of 493.The latest iteration of ICD is actually ICD-11. ICD codes are used for a wide variety of task including processing health insurance claims, tracking disease epidemics, and compiling worldwide mortality statistics. ICD codes are used everywhere within the United States ranging from the smallest clinics to large government health agencies. They are essential to healthcare in the United States and many places worldwide. Below are some example ICD codes. \n",
    "\n",
    "<img src=\"https://www.miramedgs.com/images/TheCodeMay2015Chart3.2.png\">"
   ]
  },
  {
   "cell_type": "markdown",
   "metadata": {
    "heading_collapsed": true,
    "hidden": true
   },
   "source": [
    "## Merging the Data"
   ]
  },
  {
   "cell_type": "markdown",
   "metadata": {
    "hidden": true
   },
   "source": [
    "Next, we need to combine our data. Remember, our data was originally two files (`h128.csv` and `h129.csv`). `h128.csv` contains medical information about each patient. It's the data we used to select for asthmatic patients. `h129.csv` contains the main information we are interested in including survey data, demographics, and expenditure. We will combine both our data tables into one single table. This will make is much simpler to analyze the data.  "
   ]
  },
  {
   "cell_type": "code",
   "execution_count": null,
   "metadata": {
    "ExecuteTime": {
     "end_time": "2019-12-08T20:19:23.163707Z",
     "start_time": "2019-12-08T20:18:52.972Z"
    },
    "hidden": true,
    "scrolled": false
   },
   "outputs": [],
   "source": [
    "# Merging the data\n",
    "aggregation <- merge(x = consolidation, y = condition[, c(\"DUPERSID\", setdiff(colnames(condition),colnames(consolidation)))], \n",
    "                     by.x = \"DUPERSID\", by.y = \"DUPERSID\" )\n",
    "cat('Data merged!')"
   ]
  },
  {
   "cell_type": "markdown",
   "metadata": {
    "hidden": true
   },
   "source": [
    "Lets confirm our data was successfully merged"
   ]
  },
  {
   "cell_type": "code",
   "execution_count": null,
   "metadata": {
    "ExecuteTime": {
     "end_time": "2019-12-08T20:19:23.839082Z",
     "start_time": "2019-12-08T20:18:53.042Z"
    },
    "hidden": true,
    "scrolled": false
   },
   "outputs": [],
   "source": [
    "# Display the first few rows of the data\n",
    "cat('Displaying first few rows of merged data:\\n')\n",
    "head(aggregation)"
   ]
  },
  {
   "cell_type": "markdown",
   "metadata": {
    "heading_collapsed": true,
    "hidden": true
   },
   "source": [
    "### What Just Happened?"
   ]
  },
  {
   "cell_type": "markdown",
   "metadata": {
    "hidden": true
   },
   "source": [
    "We just combined our two data tables in a process known as a merge. In a merge, the datasets you seek to merge should have one or more common variables between them. The data is then joined by this variable. The accompanying information for the joined variable from both tables are now combined into a single unified table. The diagram below illustrates this process.\n",
    "<img src=\"http://www.datasciencemadesimple.com/wp-content/uploads/2017/04/column-binding.png\" align=\"center\" style=\"width: 50%; margin-bottom: 0.5em; margin-top: 0.5em;\">\n",
    "The data was joined based on a field named `DUPERSID`. This variable is simply an ID for each of the observations."
   ]
  },
  {
   "cell_type": "markdown",
   "metadata": {
    "heading_collapsed": true,
    "hidden": true
   },
   "source": [
    "## Removing Extraneous Variables"
   ]
  },
  {
   "cell_type": "markdown",
   "metadata": {
    "hidden": true
   },
   "source": [
    "Now we will drop the variables that are not relevant to our analysis. Normally, variable selection is a careful process informed by clinical/domain knowledge and exploratory data analysis. For the purpose of this case, variable selection has been done for you. We will explore variable selection in more detail in Section 4: Identifying Relevant Variables. "
   ]
  },
  {
   "cell_type": "markdown",
   "metadata": {
    "hidden": true
   },
   "source": [
    "Lets examine the number of variables before variable selection. "
   ]
  },
  {
   "cell_type": "code",
   "execution_count": null,
   "metadata": {
    "ExecuteTime": {
     "end_time": "2019-12-08T20:19:24.417530Z",
     "start_time": "2019-12-08T20:18:53.458Z"
    },
    "hidden": true,
    "scrolled": false
   },
   "outputs": [],
   "source": [
    "# Drop variables that are not important for our analysis.\n",
    "cat(\"The number of variables before selecting are:\", length(aggregation),\"\\n\")\n",
    "cat(\"Displaying the the first few rows of the data:\\n\")\n",
    "head(aggregation)"
   ]
  },
  {
   "cell_type": "markdown",
   "metadata": {
    "hidden": true
   },
   "source": [
    "Our data contains 1937 variables! Lets see how many remain after variable selection. "
   ]
  },
  {
   "cell_type": "code",
   "execution_count": null,
   "metadata": {
    "ExecuteTime": {
     "end_time": "2019-12-08T20:19:24.467403Z",
     "start_time": "2019-12-08T20:18:53.523Z"
    },
    "hidden": true,
    "scrolled": false
   },
   "outputs": [],
   "source": [
    "# The following variables are the names of variables that are relevant.\n",
    "asthma_variables <- c(\"ASACUT53\", \"ASMRCN53\", \"ASPKFL53\", \"ASPREV53\", \"ASTHAGED\", \"ASTHDX\", \"ASTHEP53\",\n",
    "                      \"ASWNFL53\", \"ADSMOK42\", \"ASPRIN53\", \"CHBRON53\", \"EMPHAGED\", \"EMPHDX\" )\n",
    "\n",
    "general_variables <- c(\"ADAPPT42\", \"ADEGMC42\", \"ADEXPL42\", \"ADHECR42\", \"ADNSMK42\", \"ADPRTM42\", \"AGE09X\", \"BLIND42\",\n",
    "                       \"BMINDX53\", \"CHAPPT42\", \"CHBMIX42\",  \"CHECK53\", \"DSFL0853\", \"DSFL0953\", \"DSFLNV53\", \"EXRCIS53\", \n",
    "                       \"PHYSCL42\", \"FAMINC09\", \"INS09X\", \"INSCOV09\", \"UNINS09\", \"OCCCAT53\", \"PERWT09F\", \"PMDLAY42\", \n",
    "                       \"PMUNAB42\", \"PMUNPR42\",\"PMUNRS42\", \"POVLEV09\", \"RACETHNX\", \"REGION09\", \"RTHLTH53\", \"SEX\", \n",
    "                       \"SPOUIN09\", \"TOTEXP09\", \"TTLP09X\", \"UNABLE53\", \"WKINBD53\", \"WLKDIF53\", \"WLKLIM53\" )\n",
    "\n",
    "essential_variables <- c(\"DUPERSID\",\"CONDIDX\")\n",
    "\n",
    "all_variables <-c(asthma_variables, general_variables, essential_variables)\n",
    "\n",
    "## Select variables\n",
    "aggregation <- aggregation[, c(which(names(aggregation) %in% all_variables))]\n",
    "\n",
    "cat(\"The number of selected variables are:\", length(aggregation))\n",
    "\n",
    "# Display first few rows\n",
    "cat(\"\\nDisplaying the the first few rows of the data:\\n\")\n",
    "head(aggregation)\n"
   ]
  },
  {
   "cell_type": "markdown",
   "metadata": {
    "hidden": true
   },
   "source": [
    "We now have only 54 variables! This is a much more manageable amount. "
   ]
  },
  {
   "cell_type": "markdown",
   "metadata": {
    "heading_collapsed": true,
    "hidden": true
   },
   "source": [
    "## Creating Our New Dataset"
   ]
  },
  {
   "cell_type": "markdown",
   "metadata": {
    "hidden": true
   },
   "source": [
    "Finally, we need to create a file of newly cleaned data. This has already been done for you to save time. The new file is titled `aggregation.csv`. "
   ]
  },
  {
   "cell_type": "markdown",
   "metadata": {
    "ExecuteTime": {
     "end_time": "2019-12-08T20:19:24.758820Z",
     "start_time": "2019-12-08T20:18:53.716Z"
    },
    "hidden": true,
    "scrolled": false
   },
   "source": [
    "For those interested, the code to create this new file is below\n",
    "\n",
    "```R\n",
    "# Create a new file with the cleaned data\n",
    "write.csv(aggregation, file = \"data/aggregation.csv\",row.names=FALSE)\n",
    "cat('File Created!')\n",
    "```"
   ]
  },
  {
   "cell_type": "markdown",
   "metadata": {
    "hidden": true
   },
   "source": [
    "With our cleaned dataset, we can now explore our data more deeply. In the next section, we will be investigating how we can identify clinically relevant variables for building our prediction model using exploratory data analysis. "
   ]
  },
  {
   "cell_type": "markdown",
   "metadata": {
    "heading_collapsed": true
   },
   "source": [
    "# Exploratory Data Analysis"
   ]
  },
  {
   "cell_type": "markdown",
   "metadata": {
    "hidden": true
   },
   "source": [
    "To build a robust prediction model, we need to identify clinically relevant variables (also known as 'features'). In this section, we'll be identifying important features through a combination of clinical knowledge, descriptive analysis, and data visualization. We'll be demonstrating these concepts through exploring how aspirin usage impacts health expenditure among asthma patients. "
   ]
  },
  {
   "cell_type": "markdown",
   "metadata": {
    "heading_collapsed": true,
    "hidden": true
   },
   "source": [
    "### Why Can't We Just Use More Variables?"
   ]
  },
  {
   "cell_type": "markdown",
   "metadata": {
    "hidden": true
   },
   "source": [
    "One issue you might be wondering about is why do we even need to select variables. Why not just use all of the variables? After all, more data lead to better models right? This is a common misconception that even experienced analysts need to watch out for. Including too many features in your prediction model can lead to what is known as 'overfitting'. Overfitting is essentially where you build a model that adheres too closely to your current data set and is unable to predict observations that are not from your current data set. In other words, its where you develop a model that tuned too closely to your current data, and is not generalizable to outside data sources. \n",
    "\n",
    "<img src=\"https://3gp10c1vpy442j63me73gy3s-wpengine.netdna-ssl.com/wp-content/uploads/2018/03/Screen-Shot-2018-03-22-at-11.22.15-AM-e1527613915658.png\" align=\"center\" style=\"width: 50%; margin-bottom: 0.5em; margin-top: 0.5em;\">"
   ]
  },
  {
   "cell_type": "markdown",
   "metadata": {
    "heading_collapsed": true,
    "hidden": true
   },
   "source": [
    "## Loading Our New Data"
   ]
  },
  {
   "cell_type": "markdown",
   "metadata": {
    "hidden": true
   },
   "source": [
    "To begin, we'll need to load our new data file created during the data cleaning process titled 'aggregation.csv' into R. This is so we can use our new data. "
   ]
  },
  {
   "cell_type": "code",
   "execution_count": null,
   "metadata": {
    "ExecuteTime": {
     "end_time": "2019-12-08T20:19:24.861180Z",
     "start_time": "2019-12-08T20:18:54.223Z"
    },
    "hidden": true,
    "scrolled": false
   },
   "outputs": [],
   "source": [
    "# Reading our data file\n",
    "cat('Data loading, please wait\\n')\n",
    "aggregation <- read.csv(file=\"data/aggregation.csv\",  encoding=\"UTF-8\", header=TRUE, sep=\",\")\n",
    "cat('Data loaded!')"
   ]
  },
  {
   "cell_type": "markdown",
   "metadata": {
    "hidden": true
   },
   "source": [
    "With our new data, we will no examine the effect that aspirin usage has on annual medical expenditure. "
   ]
  },
  {
   "cell_type": "markdown",
   "metadata": {
    "heading_collapsed": true,
    "hidden": true
   },
   "source": [
    "## Why Aspirin?"
   ]
  },
  {
   "cell_type": "markdown",
   "metadata": {
    "hidden": true
   },
   "source": [
    "Why are we even looking at aspirin in the first place? This is because of Aspirin Exacerbated Respiratory Disease (AERD), which is a disease associated with asthma patients who take aspirin. Since this condition is more common among aspirin-taking asthma patients compared to non-aspirin-taking asthma patients, we expect costs to be higher among patients who take aspirin. The variable which details aspirin usage is `ASPRIN53`.\n",
    "\n",
    "> Note: This is an example of why clinical or domain knowledge is so important. Having this information about aspirin allowed us to hone in on this variable from nearly 2000 total. Can you imagine how inefficient it would be if you had to search through every variable individually?"
   ]
  },
  {
   "cell_type": "markdown",
   "metadata": {
    "hidden": true
   },
   "source": [
    "Lets begin by examining the distribution for the aspirin variable. "
   ]
  },
  {
   "cell_type": "code",
   "execution_count": null,
   "metadata": {
    "ExecuteTime": {
     "end_time": "2019-12-08T20:19:24.893095Z",
     "start_time": "2019-12-08T20:18:54.470Z"
    },
    "hidden": true,
    "scrolled": false
   },
   "outputs": [],
   "source": [
    "# See the distribution of aspirin usage\n",
    "table(aggregation$ASPRIN53)"
   ]
  },
  {
   "cell_type": "markdown",
   "metadata": {
    "hidden": true
   },
   "source": [
    "We can see the current data labels are not very informative. Figuring out how variables are specified or 'coded' is commonly solved through consulting documentation and accompanies datasets. "
   ]
  },
  {
   "cell_type": "markdown",
   "metadata": {
    "hidden": true
   },
   "source": [
    " From the [MEPS website](https://meps.ahrq.gov/mepsweb/data_stats/download_data_files_codebook.jsp?PUFId=H129&varName=ASPRIN53) we can see what each of the labels represent. Most useful for our purpose are the labels listed below:\n",
    "- 1 = Yes (to taking aspirin every other day)\n",
    "- 2 = No (to taking aspirin every other day)"
   ]
  },
  {
   "cell_type": "markdown",
   "metadata": {
    "hidden": true
   },
   "source": [
    "Lets take this information and code the data in a more meaningful way. "
   ]
  },
  {
   "cell_type": "code",
   "execution_count": null,
   "metadata": {
    "ExecuteTime": {
     "end_time": "2019-12-08T20:19:24.961844Z",
     "start_time": "2019-12-08T20:18:54.679Z"
    },
    "hidden": true,
    "scrolled": false
   },
   "outputs": [],
   "source": [
    "# Recode Data\n",
    "aggregation$aspirin_use[aggregation$ASPRIN53 == 1] <- 'Use Aspirin'\n",
    "aggregation$aspirin_use[aggregation$ASPRIN53 == 2] <- 'No Aspirin'\n",
    "cat('Data recoded successfully')"
   ]
  },
  {
   "cell_type": "markdown",
   "metadata": {
    "hidden": true
   },
   "source": [
    "We will now randomly sample 250 individuals who are taking aspirin and 250 individuals who are not taking aspirin. This will allow us to make equitable comparisons between the two groups. "
   ]
  },
  {
   "cell_type": "code",
   "execution_count": null,
   "metadata": {
    "ExecuteTime": {
     "end_time": "2019-12-08T20:19:25.024113Z",
     "start_time": "2019-12-08T20:18:54.746Z"
    },
    "hidden": true,
    "scrolled": false
   },
   "outputs": [],
   "source": [
    "# Subset Aspirin Usage\n",
    "aspirin_sample <- subset(aggregation, ASPRIN53 == 1 | ASPRIN53 == 2)\n",
    "\n",
    "# Sample 100 for each group\n",
    "set.seed(10) # Seeding so we obtain the same outcome when we randomly sample\n",
    "aspirin_sample <- aspirin_sample %>% group_by(aspirin_use) %>% sample_n(250)\n",
    "table(aspirin_sample$aspirin_use)\n",
    "cat('\\nData Sampled Succesfully')\n"
   ]
  },
  {
   "cell_type": "markdown",
   "metadata": {
    "hidden": true
   },
   "source": [
    "The two cells below will return the annual healthcare expenditure for each randomly sampled individual for both of our subsets. "
   ]
  },
  {
   "cell_type": "code",
   "execution_count": null,
   "metadata": {
    "ExecuteTime": {
     "end_time": "2019-12-08T20:19:25.083391Z",
     "start_time": "2019-12-08T20:18:54.814Z"
    },
    "hidden": true,
    "scrolled": false
   },
   "outputs": [],
   "source": [
    "aspirin_sample$TOTEXP09[aspirin_sample$aspirin_use == 'Use Aspirin']\n",
    "\n",
    "aspirin_sample$TOTEXP09[aspirin_sample$aspirin_use == 'No Aspirin']\n"
   ]
  },
  {
   "cell_type": "markdown",
   "metadata": {
    "hidden": true
   },
   "source": [
    "Not very easy to compare or see patterns is it? This is where we will employ descriptive analysis and data visualization to make make sense of this information. "
   ]
  },
  {
   "cell_type": "markdown",
   "metadata": {
    "heading_collapsed": true,
    "hidden": true
   },
   "source": [
    "### Additional Information About AERD"
   ]
  },
  {
   "cell_type": "markdown",
   "metadata": {
    "hidden": true
   },
   "source": [
    "Aspirin Exacerbated Respiratory Disease (AERD) is a medical condition consisting of three\n",
    "key features: asthma, chronic/recurrent rhinosinusitis (inflammations of sinuses and nasal cavity), and\n",
    "nasal polyps. The symptoms are a result of an abnormal reaction from the bodies immune system,\n",
    "known as a hypersensitivity reaction, to aspirin. The disorder is thought to be caused by an anomaly in the metabolism of a substance known as arachidonic acid. Medications, such as aspirin, block the COX-1 enzyme, a critical enzyme involved in arachidonic acid metabolism. This leads to increased production of proinflammatory cysteinyl leukotrienes, a series\n",
    "of chemicals involved in the body's inflammatory response. This resulting overproduction cause severe\n",
    "exacerbations of asthma and allergy-like symptoms.\n",
    "\n",
    "<img src=\"https://naveenbhandarkarmd.com/wp-content/uploads/2018/08/Aspirin-Exacerbated-Respiratory-Disease-Dr.-Naveen-Bhandarkar-1.jpg\" align=\"center\" style=\"width: 30%; margin-bottom: 0.5em; margin-top: 0.5em;\">"
   ]
  },
  {
   "cell_type": "markdown",
   "metadata": {
    "heading_collapsed": true,
    "hidden": true
   },
   "source": [
    "## Aspirin Expenditure Summary Statistics"
   ]
  },
  {
   "cell_type": "markdown",
   "metadata": {
    "hidden": true
   },
   "source": [
    "Lets take a look at some summary statistics of the aspirin-taking group. \n",
    "\n",
    "> Note: the below figures express annual expenditure in dollars per person"
   ]
  },
  {
   "cell_type": "code",
   "execution_count": null,
   "metadata": {
    "ExecuteTime": {
     "end_time": "2019-12-08T20:19:25.133728Z",
     "start_time": "2019-12-08T20:18:55.318Z"
    },
    "hidden": true,
    "scrolled": true
   },
   "outputs": [],
   "source": [
    "cat(\"Mean:\", mean(aspirin_sample$TOTEXP09[aspirin_sample$aspirin_use == 'Use Aspirin']))\n",
    "cat(\" SD\", sd(aspirin_sample$TOTEXP09[aspirin_sample$aspirin_use == 'Use Aspirin']), \"\\n\") \n",
    "cat(\"Median\", median(aspirin_sample$TOTEXP09[aspirin_sample$aspirin_use == 'Use Aspirin']))\n",
    "cat(\" IQR:\", IQR(aspirin_sample$TOTEXP09[aspirin_sample$aspirin_use == 'Use Aspirin']), \"\\n\")"
   ]
  },
  {
   "cell_type": "markdown",
   "metadata": {
    "hidden": true
   },
   "source": [
    "Lets take a look at some summary statistics of the non-aspirin-taking group. "
   ]
  },
  {
   "cell_type": "code",
   "execution_count": null,
   "metadata": {
    "ExecuteTime": {
     "end_time": "2019-12-08T20:19:25.178622Z",
     "start_time": "2019-12-08T20:18:55.385Z"
    },
    "hidden": true,
    "scrolled": false
   },
   "outputs": [],
   "source": [
    "cat(\"Mean:\", mean(aspirin_sample$TOTEXP09[aspirin_sample$aspirin_use == 'No Aspirin']))\n",
    "cat(\" SD\", sd(aspirin_sample$TOTEXP09[aspirin_sample$aspirin_use == 'No Aspirin']), \"\\n\") \n",
    "cat(\"Median\", median(aspirin_sample$TOTEXP09[aspirin_sample$aspirin_use == 'No Aspirin']))\n",
    "cat(\" IQR:\", IQR(aspirin_sample$TOTEXP09[aspirin_sample$aspirin_use == 'No Aspirin']), \"\\n\")"
   ]
  },
  {
   "cell_type": "markdown",
   "metadata": {
    "hidden": true
   },
   "source": [
    "Already, we can see that the mean and median annual expenditure is higher in the aspirin-taking group. We can also visually capture the difference using data visualization. "
   ]
  },
  {
   "cell_type": "markdown",
   "metadata": {
    "hidden": true,
    "solution2": "hidden",
    "solution2_first": true
   },
   "source": [
    "**Food For Thought:** When should you use median compared to mean?"
   ]
  },
  {
   "cell_type": "markdown",
   "metadata": {
    "hidden": true,
    "solution2": "hidden"
   },
   "source": [
    "When your data falls in a normal distribution, it is better to use the mean. However, if your data includes extreme values or is skewed, it is better to use the median. \n",
    "\n",
    "<img src=\"https://keydifferences.com/wp-content/uploads/2016/04/mean-vs-median.jpg\" align=\"center\" style=\"margin-bottom: 0.5em; margin-top: 0.5em;\">"
   ]
  },
  {
   "cell_type": "markdown",
   "metadata": {
    "heading_collapsed": true,
    "hidden": true
   },
   "source": [
    "## Visualizing Aspirin Costs With A Histogram"
   ]
  },
  {
   "cell_type": "markdown",
   "metadata": {
    "hidden": true
   },
   "source": [
    "We can compare the shapes of the distributions for each group using a histogram. Below is the histogram for the aspirin-taking sample. "
   ]
  },
  {
   "cell_type": "code",
   "execution_count": null,
   "metadata": {
    "ExecuteTime": {
     "end_time": "2019-12-08T20:19:25.556888Z",
     "start_time": "2019-12-08T20:18:55.734Z"
    },
    "hidden": true,
    "scrolled": false
   },
   "outputs": [],
   "source": [
    "# Create Histogram of Annual Expenditure Among Aspirin Group\n",
    "aspirin_plot <- ggplot(aspirin_sample, aes(x=TOTEXP09, fill=factor(aspirin_use))) + \n",
    "geom_histogram(alpha = 0.4, position='identity', bins = 30) +\n",
    "theme(legend.background = element_rect(fill='gray90'),legend.position='bottom') +\n",
    "labs(fill='Aspirin Usage', x='Annual Healthcare Expenditure', y='Frequency Count') +\n",
    "scale_x_continuous(labels = scales::comma)\n",
    "\n",
    "# Display Histogram\n",
    "aspirin_plot"
   ]
  },
  {
   "cell_type": "markdown",
   "metadata": {
    "hidden": true
   },
   "source": [
    "We can see a difference between the groups. However, it's hard to tell the differences between the two groups due to the x-axis scale. Lets zoom into the first portion of the chart (0 - 50,000) and add references line (representing mean or median). "
   ]
  },
  {
   "cell_type": "markdown",
   "metadata": {
    "hidden": true,
    "solution2": "hidden",
    "solution2_first": true
   },
   "source": [
    "Is the plot for the two histograms normal or skewed? Should we use median or mean then?"
   ]
  },
  {
   "cell_type": "markdown",
   "metadata": {
    "hidden": true,
    "solution2": "hidden"
   },
   "source": [
    "The two plots are positively skewed. This indicates that using median would be better compared to mean. If you're unsure why, please review section 4.3"
   ]
  },
  {
   "cell_type": "code",
   "execution_count": null,
   "metadata": {
    "ExecuteTime": {
     "end_time": "2019-12-08T20:19:26.039960Z",
     "start_time": "2019-12-08T20:18:55.920Z"
    },
    "hidden": true,
    "scrolled": false
   },
   "outputs": [],
   "source": [
    "# Create Median Line\n",
    "median_aspirin <- ddply(aspirin_sample, 'aspirin_use', summarize, grp.median=median(TOTEXP09))\n",
    "median_use <- median(aspirin_sample$TOTEXP09[aspirin_sample$aspirin_use == 'Use Aspirin'])\n",
    "median_no_use <- median(aspirin_sample$TOTEXP09[aspirin_sample$aspirin_use == 'No Aspirin'])\n",
    "\n",
    "# Add Median Line to Histogram\n",
    "suppressMessages(suppressWarnings(print(aspirin_plot + geom_vline(data=median_aspirin, aes(xintercept=grp.median, color=aspirin_use),\n",
    "                          linetype='dashed', show.legend = FALSE) + xlim(0, 40000) + \n",
    "geom_text(aes(x=median_use, label=\"Median: Use Aspirin\", y=40), \n",
    "          colour=\"#00BFC4\", angle=90, vjust = -0.5, check_overlap = TRUE) +\n",
    "geom_text(aes(x=median_no_use, label=\"Median: No Aspirin\", y=40), \n",
    "          colour=\"#F8766D\", angle=90, vjust = -0.5, check_overlap = TRUE))))\n"
   ]
  },
  {
   "cell_type": "markdown",
   "metadata": {
    "hidden": true
   },
   "source": [
    "Much better! Our histogram now shows a clear difference in distribution between the two samples. We can see that the distribution of the group that takes aspirin skews right towards higher annual expenditures."
   ]
  },
  {
   "cell_type": "markdown",
   "metadata": {
    "heading_collapsed": true,
    "hidden": true
   },
   "source": [
    "### Extra: Why are the frequency counts lower in the second histogram?"
   ]
  },
  {
   "cell_type": "markdown",
   "metadata": {
    "hidden": true
   },
   "source": [
    "You may have noticed the frequency counts are lower in the 2nd histogram compared to the first. This is due to the fact that histogram are heavily influenced by the number of bins (bars) displayed. Did our data change? It actually did not. This surprisingly large effect was only from focusing on a smaller range of health care expenditures. Keep this in mind when interpreting and using histograms!\n",
    "\n",
    "<img src=\"https://statistics.laerd.com/statistical-guides/img/histogram-4.png\" style=\"width: 80%; margin-bottom: 0.5em;\">\n"
   ]
  },
  {
   "cell_type": "markdown",
   "metadata": {
    "heading_collapsed": true,
    "hidden": true
   },
   "source": [
    "## Visualizing Aspirin Costs With A Boxplot"
   ]
  },
  {
   "cell_type": "markdown",
   "metadata": {
    "hidden": true
   },
   "source": [
    "We can also visually compare the difference in the shapes of the distribution using a box plot. Additional information about interpreting a boxplot can be found in section 4.5.1."
   ]
  },
  {
   "cell_type": "code",
   "execution_count": null,
   "metadata": {
    "ExecuteTime": {
     "end_time": "2019-12-08T20:19:26.453498Z",
     "start_time": "2019-12-08T20:18:56.275Z"
    },
    "hidden": true,
    "scrolled": false
   },
   "outputs": [],
   "source": [
    "# Setting up the plot\n",
    "aspirin_boxplot <- ggplot(aspirin_sample, aes(x=aspirin_use, y=TOTEXP09, fill=factor(aspirin_use))) + \n",
    "stat_boxplot(geom = \"errorbar\", width = 0.4) + geom_boxplot() +\n",
    "theme(legend.background = element_rect(fill='gray90'),legend.position='bottom') +\n",
    "labs(fill='Aspirin Usage', x='Aspirin Usage', y='Annual Healthcare Expenditure') \n",
    "\n",
    "# Display boxplot \n",
    "aspirin_boxplot"
   ]
  },
  {
   "cell_type": "markdown",
   "metadata": {
    "hidden": true
   },
   "source": [
    "The main box is very difficult to see due to the large number of points along the tail of each plot. Lets visualize the graph without some of these tail points to better compare the two boxes. "
   ]
  },
  {
   "cell_type": "code",
   "execution_count": null,
   "metadata": {
    "ExecuteTime": {
     "end_time": "2019-12-08T20:19:26.919197Z",
     "start_time": "2019-12-08T20:18:56.357Z"
    },
    "hidden": true,
    "scrolled": false
   },
   "outputs": [],
   "source": [
    "# New boxplot variable\n",
    "aspirin_boxplot2 <- aspirin_boxplot + geom_boxplot(outlier.color = 'transparent') +\n",
    "coord_cartesian(ylim = c(0, 40000))\n",
    "\n",
    "# Display plot outliers\n",
    "aspirin_boxplot2"
   ]
  },
  {
   "cell_type": "markdown",
   "metadata": {
    "hidden": true
   },
   "source": [
    "There seems to be a clear difference in cost between the two group. This confirms our clinical suspicion that AERD would increased costs. \n",
    "\n",
    "Both the histogram and boxplot revealed difference in annual expenditures between the aspirin and non-aspirin taking group. This indicates that this variable would be good for a prediction model. That's because this large difference indicates this variable could be used to separate high-cost patients form low-cost patients well. When building prediction models, you want to identify features which will separate well by your outcome of interest. "
   ]
  },
  {
   "cell_type": "markdown",
   "metadata": {
    "heading_collapsed": true,
    "hidden": true
   },
   "source": [
    "### How To Interpret A Boxplot"
   ]
  },
  {
   "cell_type": "markdown",
   "metadata": {
    "hidden": true
   },
   "source": [
    "The boxplot divides data into division known as quartiles. The first quartile (Q1) corresponds to the 25th percentile of the data. The second quartile (Q2) corresponds to the 50th percentile of the data. This is also the median. The third quartile (Q3) corresponds to the 75 percentile of the data. The lines on the box represent Q1, the median, and Q3. The tails or 'whiskers' of the plots represent 1.5 * IQR above and below the Q1 and Q3. Points that fall outside of the tails are considered outliers. \n",
    "\n",
    "<img src=\"https://miro.medium.com/max/1200/1*2c21SkzJMf3frPXPAR_gZA.png\" align=\"center\" style=\"width: 70%; margin-bottom: 0.5em; margin-top: 0.5em;\">"
   ]
  },
  {
   "cell_type": "markdown",
   "metadata": {
    "heading_collapsed": true,
    "hidden": true
   },
   "source": [
    "## Exploratory Analysis and Feature Selection"
   ]
  },
  {
   "cell_type": "markdown",
   "metadata": {
    "hidden": true
   },
   "source": [
    "In this exercise, we've seen how exploratory data analysis can aid us in identifying useful variables for building a prediction model. We've seen the process of how features are selected. \n",
    "\n",
    "- First, variables are selected based on intuition or clinical knowledge\n",
    "- These variable are then assessed based on their clinical relevance to the outcome and exploratory data analysis\n",
    "- A final set of features are decided upon and used in a prediction model. \n",
    "\n",
    "An important takeaway from this exercise is seeing how clinical knowledge can inform our data analysis. In our case, having an understanding of the pathophysiology of aspirin and asthma allowed us to identify a variable that can lead to higher expenditure from among more than 2000 variables. We were able to confirm our results using descriptive analysis and data visualization.  "
   ]
  },
  {
   "cell_type": "markdown",
   "metadata": {
    "heading_collapsed": true
   },
   "source": [
    "# Building A Predictive Model"
   ]
  },
  {
   "cell_type": "markdown",
   "metadata": {
    "hidden": true
   },
   "source": [
    "We now arrive at building our prediction model. We will be employing logistic regression to conduct a statistical analysis followed by employing machine learning to construct a prediction model. At the end, our goal is to have a product that can identify high-risk/high-cost asthma patients!"
   ]
  },
  {
   "cell_type": "markdown",
   "metadata": {
    "heading_collapsed": true,
    "hidden": true
   },
   "source": [
    "## Loading In Our Data"
   ]
  },
  {
   "cell_type": "markdown",
   "metadata": {
    "hidden": true
   },
   "source": [
    "Once again, we'll load our data into R to begin our analysis. This will allow us to perform analysis on the data. We will be using our created file from Section 3: 'Cleaning our Data'"
   ]
  },
  {
   "cell_type": "code",
   "execution_count": null,
   "metadata": {
    "ExecuteTime": {
     "end_time": "2019-12-08T20:19:26.988953Z",
     "start_time": "2019-12-08T20:18:57.149Z"
    },
    "hidden": true,
    "scrolled": false
   },
   "outputs": [],
   "source": [
    "# Reading our data\n",
    "cat('Data loading, please wait\\n')\n",
    "aggregation <- read.csv(file=\"data/aggregation.csv\",  encoding=\"UTF-8\", header=TRUE, sep=\",\")\n",
    "cat('Data loaded!')"
   ]
  },
  {
   "cell_type": "markdown",
   "metadata": {
    "heading_collapsed": true,
    "hidden": true
   },
   "source": [
    "## Converting Variables Into Categorical Variables"
   ]
  },
  {
   "cell_type": "markdown",
   "metadata": {
    "hidden": true,
    "solution2": "hidden",
    "solution2_first": true
   },
   "source": [
    "**Pre-Check:** What is the difference between a quantitative and categorical variable?"
   ]
  },
  {
   "cell_type": "markdown",
   "metadata": {
    "hidden": true,
    "solution2": "hidden"
   },
   "source": [
    ">- **Quantitative:** variables whose values are numeric (i.e. integers or decimals)\n",
    ">- **Categorical:** variables whose values are selected from a group (i.e. dog breeds, male/female) "
   ]
  },
  {
   "cell_type": "markdown",
   "metadata": {
    "hidden": true
   },
   "source": [
    "Several of our variables are categorical variables but are mistakenly classified in R as quantitative. This is due their data label being numbers (ie. for `ASPRIN53` 1 = taking aspirin & 2 = not taking aspirin). We need to convert our variables into the correct type of variable for our prediction model to work correctly. \n",
    "\n",
    "The code below will convert our selected variables to into categorical variables. "
   ]
  },
  {
   "cell_type": "code",
   "execution_count": null,
   "metadata": {
    "ExecuteTime": {
     "end_time": "2019-12-08T20:19:27.153785Z",
     "start_time": "2019-12-08T20:18:57.507Z"
    },
    "hidden": true,
    "scrolled": false
   },
   "outputs": [],
   "source": [
    "# Converting variables to categorical variable type\n",
    "aggregation$REGION09 <- as.factor(aggregation$REGION09)\n",
    "aggregation$SEX <- as.factor(aggregation$SEX)\n",
    "aggregation$RACETHNX <- as.factor(aggregation$RACETHNX)\n",
    "aggregation$SPOUIN09 <- as.factor(aggregation$SPOUIN09)\n",
    "aggregation$RTHLTH53 <- as.factor(aggregation$RTHLTH53)\n",
    "aggregation$EMPHDX <- as.factor(aggregation$EMPHDX)\n",
    "aggregation$CHBRON53 <- as.factor(aggregation$CHBRON53)\n",
    "aggregation$ASTHDX <- as.factor(aggregation$ASTHDX)\n",
    "aggregation$ASACUT53 <- as.factor(aggregation$ASACUT53)\n",
    "aggregation$ASMRCN53 <- as.factor(aggregation$ASMRCN53)\n",
    "aggregation$ASPREV53 <- as.factor(aggregation$ASPREV53)\n",
    "aggregation$ASPKFL53 <- as.factor(aggregation$ASPKFL53)\n",
    "aggregation$ASWNFL53 <- as.factor(aggregation$ASWNFL53)\n",
    "aggregation$WLKLIM53 <- as.factor(aggregation$WLKLIM53)\n",
    "aggregation$WLKDIF53 <- as.factor(aggregation$WLKDIF53)\n",
    "aggregation$UNABLE53 <- as.factor(aggregation$UNABLE53)\n",
    "aggregation$BLIND42 <- as.factor(aggregation$BLIND42)\n",
    "aggregation$PHYSCL42 <- as.factor(aggregation$PHYSCL42)\n",
    "aggregation$EXRCIS53 <- as.factor(aggregation$EXRCIS53)\n",
    "aggregation$ASPRIN53 <- as.factor(aggregation$ASPRIN53)\n",
    "aggregation$ADEGMC42 <- as.factor(aggregation$ADEGMC42)\n",
    "aggregation$ADEXPL42 <- as.factor(aggregation$ADEXPL42)\n",
    "aggregation$ADPRTM42 <- as.factor(aggregation$ADPRTM42)\n",
    "aggregation$ADSMOK42 <- as.factor(aggregation$ADSMOK42)\n",
    "aggregation$ADNSMK42 <- as.factor(aggregation$ADNSMK42)\n",
    "aggregation$DSFL0953 <- as.factor(aggregation$DSFL0953)\n",
    "aggregation$DSFL0853 <- as.factor(aggregation$DSFL0853)\n",
    "aggregation$DSFLNV53 <- as.factor(aggregation$DSFLNV53)\n",
    "aggregation$PMUNAB42 <- as.factor(aggregation$PMUNAB42)\n",
    "aggregation$PMUNRS42 <- as.factor(aggregation$PMUNRS42)\n",
    "aggregation$PMUNPR42 <- as.factor(aggregation$PMUNPR42)\n",
    "aggregation$PMDLAY42 <- as.factor(aggregation$PMDLAY42)\n",
    "aggregation$OCCCAT53 <- as.factor(aggregation$OCCCAT53)\n",
    "aggregation$UNINS09 <- as.factor(aggregation$UNINS09)\n",
    "aggregation$INSCOV09 <- as.factor(aggregation$INSCOV09)\n",
    "aggregation$INS09X <- as.factor(aggregation$INS09X)\n",
    "\n",
    "cat('Data converted successfully')"
   ]
  },
  {
   "cell_type": "markdown",
   "metadata": {
    "heading_collapsed": true,
    "hidden": true
   },
   "source": [
    "### Why Is Classifying Variables Correctly Important?"
   ]
  },
  {
   "cell_type": "markdown",
   "metadata": {
    "hidden": true
   },
   "source": [
    "Having a classifying variables as the correct data type is critical because certain statistical and analytical measurements can only be used for specific data types. For instance, we can graph quantitative data using a histogram but not categorical data. On the other hand, logistic regression can measure the outcome of a type of categorical variable known as a binary variable (ie. yes/no, high-risk/low-risk) but is unable to measure the outcome of quantitative variables. "
   ]
  },
  {
   "cell_type": "markdown",
   "metadata": {
    "heading_collapsed": true,
    "hidden": true
   },
   "source": [
    "## Defining High- and Low- Risk Patients"
   ]
  },
  {
   "cell_type": "markdown",
   "metadata": {
    "hidden": true
   },
   "source": [
    "Next, we need to define what a low-risk or high-risk patient. Defining our primary outcome as a binary outcome is critical for ensuring our prediction model can work properly. "
   ]
  },
  {
   "cell_type": "markdown",
   "metadata": {
    "hidden": true
   },
   "source": [
    "We will begin descriptively examining our data"
   ]
  },
  {
   "cell_type": "code",
   "execution_count": null,
   "metadata": {
    "ExecuteTime": {
     "end_time": "2019-12-08T20:42:44.812858Z",
     "start_time": "2019-12-08T20:42:44.531Z"
    },
    "hidden": true,
    "scrolled": false
   },
   "outputs": [],
   "source": [
    "# Create Histogram of Annual Expenditure\n",
    "aspirin_plot <- ggplot(aggregation, aes(x=TOTEXP09)) + \n",
    "geom_histogram(alpha = 0.4, position='identity', bins = 30) +\n",
    "labs(x='Annual Healthcare Expenditure', y='Frequency Count') +\n",
    "scale_x_continuous(labels = scales::comma, limits = c(0, 150000)) +\n",
    "ggtitle('Histogram of Annual Healthcare Expenditure') +\n",
    "theme(plot.title = element_text(hjust = 0.5))\n",
    "\n",
    "# Display Histogram\n",
    "suppressWarnings(print(aspirin_plot))\n",
    "\n",
    "# Summary statistics for annual healthcare expenditure\n",
    "summary(aggregation$TOTEXP09)"
   ]
  },
  {
   "cell_type": "markdown",
   "metadata": {
    "hidden": true,
    "solution2": "hidden",
    "solution2_first": true
   },
   "source": [
    "From our analysis, we can see the that the distribution for annual medical expenditure is not a normal distribution. \n",
    "\n",
    "**Knowledge Check:** Based our distribution, should we use mean or median?"
   ]
  },
  {
   "cell_type": "markdown",
   "metadata": {
    "hidden": true,
    "solution2": "hidden"
   },
   "source": [
    "A non-normal distribution indicates that median would be a better measure of central tendency. \n",
    "\n",
    "The median provides us a useful measure for defining high- and low- risk. Since individuals above the median annual expenditure represent the largest 1/2 of expenditure values, we can classify these individuals as high-risk. Since individuals below the median annual expenditure represent the smalled 1/2 of expenditure values, we can classify these individuals as low-risk.\n",
    "\n",
    "> - **High-risk** patients are defined as those with annual medical expenditures **>= 2122** dollars.\n",
    "> - **Low-risk** patients are defined as those with annual medical expenditures **<= 2122** dollars."
   ]
  },
  {
   "cell_type": "markdown",
   "metadata": {
    "hidden": true
   },
   "source": [
    "The below code will convert our expenditure into binary risk categories"
   ]
  },
  {
   "cell_type": "markdown",
   "metadata": {
    "hidden": true
   },
   "source": [
    "<img align=\"left\" width=\"100\" height=\"100\" src=\"https://cdn-01.media-brady.com/store/stus/media/catalog/product/cache/4/image/85e4522595efc69f496374d01ef2bf13/1544627174/r/e/reflective-warning-signs-caution-ac0563-lg.jpg\" style=\"padding-right: 10px\">If you run the below code more than once, please restart the exercise. Running it more than once will cause errors in our later prediction model. Do not run the code cell again after you see the 'Labeling complete' text!\n"
   ]
  },
  {
   "cell_type": "code",
   "execution_count": null,
   "metadata": {
    "ExecuteTime": {
     "end_time": "2019-12-08T19:47:20.487405Z",
     "start_time": "2019-12-08T19:46:55.525Z"
    },
    "hidden": true,
    "scrolled": false
   },
   "outputs": [],
   "source": [
    "# Labeling indviduals as high or low risk\n",
    "aggregation$TOTEXP09 <- ifelse(aggregation$TOTEXP09 >= 2122, \"high_risk\", \"low_risk\")\n",
    "cat('Labeling complete!')"
   ]
  },
  {
   "cell_type": "markdown",
   "metadata": {
    "hidden": true
   },
   "source": [
    "In machine learning, defining our outcome is called 'labeling'. This is because we are labeling the answer that the computer will try to predict. It is similar to labeling which answers are correct or incorrect. "
   ]
  },
  {
   "cell_type": "markdown",
   "metadata": {
    "heading_collapsed": true,
    "hidden": true
   },
   "source": [
    "## Analyzing Our Data: Logistic Regression "
   ]
  },
  {
   "cell_type": "markdown",
   "metadata": {
    "hidden": true
   },
   "source": [
    "Now that our variables have been successfully converted and our outcome has been defined, we can analyze our data. Logistic regression is a mathematical model that estimates the probability of a binary outcomes (such as our risk label). It is named after the logistic curve which takes the S-shape depicted below.\n",
    "<img src=\"https://upload.wikimedia.org/wikipedia/commons/thumb/8/88/Logistic-curve.svg/640px-Logistic-curve.svg.png?1566122052688\" alt=\"Logistic Curve\" title=\"Logistic Curve\" />"
   ]
  },
  {
   "cell_type": "markdown",
   "metadata": {
    "hidden": true,
    "solution2": "hidden",
    "solution2_first": true
   },
   "source": [
    "**Pre-Check:** What is our primary outcome? What information will a logistic regression model tell use about our outcome?"
   ]
  },
  {
   "cell_type": "markdown",
   "metadata": {
    "hidden": true,
    "solution2": "hidden"
   },
   "source": [
    "Our primary outcome is whether an individual is a high or low risk asthmatic individual. It will allow us to analyze which variables have a statistically significant effect on whether an asthmatic individual is high- or low-risk while controlling for other variables. Logistic regression is a commonly used technique in health analytics because it is easy to interpret and is thought to model the multi-factorial causes of disease well. "
   ]
  },
  {
   "cell_type": "markdown",
   "metadata": {
    "hidden": true,
    "solution2": "hidden",
    "solution2_first": true
   },
   "source": [
    "**Follow-Up:** What is statistical significance? What is a generally accepted level of statistical significance in healthcare research?"
   ]
  },
  {
   "cell_type": "markdown",
   "metadata": {
    "hidden": true,
    "solution2": "hidden"
   },
   "source": [
    "Statistical Significance can be defined as the chance that the relationship you observed in your data occurred by chance. What does this mean? Lets say our logistic regression model finds that weight has a statistically significant effect on being high risk or low risk asthmatic patient. This means that it more likely that there is indeed a relationship between weight and risk than chance would suggest. \n",
    "\n",
    "The conventional level of significance that is accepted is < 0.05 (this number is referred to as a p-value). This means that there is less than 5% chance that the observed relationship in the data was due to chance alone. The image below display a sample R output.\n",
    "\n",
    "<img src=\"https://drchrispook.files.wordpress.com/2017/02/anova-output-from-r1.jpg\" align=\"center\" style=\"margin-bottom: 0.5em; margin-top: 0.5em;\">"
   ]
  },
  {
   "cell_type": "markdown",
   "metadata": {
    "hidden": true,
    "solution2": "hidden"
   },
   "source": [
    "By converting expenditure into 'high-risk' or 'low-risk', we've converted expenditure from a quantitative variable into a categorical variable. We now need to change the data type in R to reflect this. "
   ]
  },
  {
   "cell_type": "code",
   "execution_count": null,
   "metadata": {
    "ExecuteTime": {
     "end_time": "2019-12-08T19:47:20.519144Z",
     "start_time": "2019-12-08T19:46:56.441Z"
    },
    "hidden": true,
    "scrolled": false,
    "solution2": "hidden"
   },
   "outputs": [],
   "source": [
    "# Expenditure is now a categorical variable. Below code is converting it to a categorical variable. \n",
    "aggregation$TOTEXP09 <- as.factor(aggregation$TOTEXP09)\n",
    "\n",
    "cat('Outcome created')"
   ]
  },
  {
   "cell_type": "markdown",
   "metadata": {
    "hidden": true,
    "solution2": "hidden"
   },
   "source": [
    "We can now create our logistic model. The output below may be overwhelming. Simply look for the lines with `*`'s. These indicate variable that have a statistically significant effect on asthma expenditure. "
   ]
  },
  {
   "cell_type": "code",
   "execution_count": null,
   "metadata": {
    "ExecuteTime": {
     "end_time": "2019-12-08T19:47:21.150832Z",
     "start_time": "2019-12-08T19:46:56.554Z"
    },
    "hidden": true,
    "scrolled": false,
    "solution2": "hidden"
   },
   "outputs": [],
   "source": [
    "# Creating a logistic regression model\n",
    "# Note: DUPERSID is a personal ID and CONDIDX is an independent variable. For these reasons, these variables were not\n",
    "# included in the model\n",
    "mylogit <- suppressWarnings(glm(TOTEXP09 ~ ., data = aggregation[,c(2:39,41:53)], family = \"binomial\"))\n",
    "mylogit.sum <- summary(mylogit)\n",
    "mylogit.sum"
   ]
  },
  {
   "cell_type": "markdown",
   "metadata": {
    "hidden": true,
    "solution2": "hidden"
   },
   "source": [
    "The above model allows us to see what variables are considred to have a statically significant effect on risk for high healthcare expenditure. For instance, `AGE09X`(age) has a statistically significant effect with a p-value of 0.0000332. Interestingly, `ASPRIN53`(aspirin) was not considered a statistically significant variable (although the p-value is close to 0.05). This could be due to a variety of factor such as a confounding variable present in our model. "
   ]
  },
  {
   "cell_type": "markdown",
   "metadata": {
    "heading_collapsed": true,
    "hidden": true
   },
   "source": [
    "## Building a Prediction Model"
   ]
  },
  {
   "cell_type": "markdown",
   "metadata": {
    "hidden": true,
    "solution2": "hidden",
    "solution2_first": true
   },
   "source": [
    "**Pre-Check:** So far we haven't done any machine learning yet. What we've done can be considered traditional statistical analyses. What is Machine Learning?"
   ]
  },
  {
   "cell_type": "markdown",
   "metadata": {
    "hidden": true,
    "solution2": "hidden"
   },
   "source": [
    "In machine learning, data is split into a training and test set. \n",
    "\n",
    "The training set is used by a computer or algorithm to learn how to predict a pre-specified outcome or label. For our case, this is whether a patient is high or low risk based on healthcare expenditures. \n",
    "\n",
    "The machine learning model is then evaluated based on how well it can predict the labels for our test set of data. Data is usually split as a majority training data with the remaining minority being test data. This is to maximize the amount of data the model can learn from. The more data you can feed a machine learning algorithm, the better it will perform. \n",
    "\n",
    "<img src=\"https://www.sqlservercentral.com/wp-content/uploads/2019/05/Image-2.jpg\" align=\"center\" style=\"margin-bottom: 0.5em; margin-top: 0.5em;\">"
   ]
  },
  {
   "cell_type": "markdown",
   "metadata": {
    "hidden": true
   },
   "source": [
    "We now need to split our data into training and test data. We will be splitting our data into 80% training data and 20% test data. "
   ]
  },
  {
   "cell_type": "code",
   "execution_count": null,
   "metadata": {
    "ExecuteTime": {
     "end_time": "2019-12-08T19:47:21.225639Z",
     "start_time": "2019-12-08T19:46:57.174Z"
    },
    "hidden": true,
    "scrolled": false
   },
   "outputs": [],
   "source": [
    "## In the test set, there were attribute values that were not seen in the training set.\n",
    "## So, we have to remove those instances.\n",
    "adjusted <- subset(aggregation, PMUNAB42 != -8 )\n",
    "adjusted <- subset(adjusted, WLKLIM53 != -7 )\n",
    "adjusted <- subset(adjusted, PMUNPR42 != -8 & PMUNRS42 != 4 & PMUNRS42 != 8  )\n",
    "adjusted <- subset(adjusted, OCCCAT53 != 6  )\n",
    "\n",
    "# Setting seed value to reproduce results of random sampling\n",
    "set.seed(129)\n",
    "\n",
    "# row positions for training data\n",
    "trainingRowIndex <- sample(1:nrow(adjusted), 0.8*nrow(adjusted))  \n",
    "\n",
    "# Creating training data\n",
    "trainingData <- adjusted[trainingRowIndex, ]  \n",
    "cat('The number of traning data observations:', length(trainingData$TOTEXP09), '\\n') # Checking the amount of training data\n",
    "\n",
    "# Creating test data\n",
    "testData  <- adjusted[-trainingRowIndex, ]  \n",
    "cat('The number of test data observations:', length(testData$TOTEXP09)) # Checking the amount of test data"
   ]
  },
  {
   "cell_type": "markdown",
   "metadata": {
    "hidden": true
   },
   "source": [
    "Now that we've created our training and test data, we need to build our machine learning model. "
   ]
  },
  {
   "cell_type": "code",
   "execution_count": null,
   "metadata": {
    "ExecuteTime": {
     "end_time": "2019-12-08T19:47:38.109962Z",
     "start_time": "2019-12-08T19:46:57.312Z"
    },
    "hidden": true,
    "scrolled": false
   },
   "outputs": [],
   "source": [
    "# Build the model on training data -\n",
    "cat('Training model, please be patient...\\n')\n",
    "suppressMessages(attach(trainingData))\n",
    "mylogit <- suppressWarnings(train(TOTEXP09 ~ ., data = trainingData[,c(2:39,41:53)], method = 'glm', family = 'binomial'))\n",
    "detach(trainingData)\n",
    "\n",
    "cat('Model trained!')"
   ]
  },
  {
   "cell_type": "markdown",
   "metadata": {
    "hidden": true
   },
   "source": [
    "Now that our model is trained we need to apply it to our test data and see how well it can predict high and low risk asthma patients. "
   ]
  },
  {
   "cell_type": "code",
   "execution_count": null,
   "metadata": {
    "ExecuteTime": {
     "end_time": "2019-12-08T19:49:29.777012Z",
     "start_time": "2019-12-08T19:49:29.713Z"
    },
    "hidden": true,
    "scrolled": false
   },
   "outputs": [],
   "source": [
    "# Apply the model to test data\n",
    "modelPred.na <- suppressWarnings(predict(mylogit, newdata = testData[,c(2:39,41:53)], method = \"glm\", na.action = na.pass))\n",
    "\n",
    "cat('Model successfully applied to test data!')"
   ]
  },
  {
   "cell_type": "markdown",
   "metadata": {
    "hidden": true
   },
   "source": [
    "Finally we will generate what's called a confusion matrix. Focus on the accuracy, sensitivity, and specificity scores. Additional details about interpreting a confusion matrix are available in section 5.5.1 ('What is a confusion matrix')"
   ]
  },
  {
   "cell_type": "code",
   "execution_count": null,
   "metadata": {
    "ExecuteTime": {
     "end_time": "2019-12-08T19:49:36.738971Z",
     "start_time": "2019-12-08T19:49:36.707Z"
    },
    "hidden": true,
    "scrolled": false
   },
   "outputs": [],
   "source": [
    "# Create Confusion matrix\n",
    "cm <- confusionMatrix(modelPred.na, testData$TOTEXP09)\n",
    "## Show confusion matrix\n",
    "cm"
   ]
  },
  {
   "cell_type": "markdown",
   "metadata": {
    "hidden": true
   },
   "source": [
    "Our model was able to correctly predict 73% of the time with a sensitivity of 76% and a specificity of 78%. The similar sensitivity and specificity indicate this model approximately equal in ruling out and ruling in whether a patient is high risk. \n",
    "\n",
    "One question you may be wondering is does our model perform well enough? That depends. That depends on the type of condition or prediction we're making. That depends on whether alternative predictive models or tools exist and how our new model compares. Additional research or consideration should always be done consider whether a model's result is not only statistically significant, but **clinically significant**. "
   ]
  },
  {
   "cell_type": "markdown",
   "metadata": {
    "heading_collapsed": true,
    "hidden": true
   },
   "source": [
    "### What Is A Confusion Matrix"
   ]
  },
  {
   "cell_type": "markdown",
   "metadata": {
    "hidden": true
   },
   "source": [
    "A confusion matrix is a 2x2 table which displays the number of predicted observation for each outcome against the actual number of observations for each outcome in the original data. The confusion matrix will directly compute four combination of observations. The combinations are True Positive (TP), True Negative (TN), False Positive (FP), and False Negative (FN)\n",
    "\n",
    "<img src=\"https://miro.medium.com/max/320/1*Z54JgbS4DUwWSknhDCvNTQ.png\" align=\"center\" style=\"margin-bottom: 0.5em; margin-top: 0.5em;\">\n",
    "\n",
    "These 4 interpretations can be combined to generate many useful metrics. For our purpose there are three we will focus on. The first is accuracy:\n",
    "\n",
    "\\[\\large (TP + TN)/Total\\]\n",
    "\n",
    "Accuracy allows us to measure how often our model predicted correctly. The second metric is sensitivity:\n",
    "\n",
    "\\[\\large TP / (TP + FN)\\]\n",
    "\n",
    "Sensitivity asks the question, that when our outcome is actually positive (ie. in our case when our patient is actually high-risk) how often will the model predict positively (ie. how often will the model then predict the patient to be high-risk). The final metric is specificity:\n",
    "\n",
    "\\[\\large FP / (FP + TN)\\]\n",
    "\n",
    "Specificity asks the question, that when the outcome is actually negative (ie. in our case when our patient is actually low-risk) how often will the model predict negatively (ie. how often will the model then predict the patient to be low-risk). \n",
    "\n",
    "The goal is maximize all three scores (accuracy, sensitivity, and specificity) as much as possible). "
   ]
  },
  {
   "cell_type": "markdown",
   "metadata": {
    "heading_collapsed": true,
    "hidden": true
   },
   "source": [
    "## Evaluating our Model"
   ]
  },
  {
   "cell_type": "markdown",
   "metadata": {
    "hidden": true
   },
   "source": [
    "We will be evaluating our model using a receiver operating curve (ROC) and the area under the curve (AUC) value. \n",
    "\n",
    "> If you're unsure what a ROC or AUC value is, please consult section 5.1.1 ('Understanding ROC Curves and AUC Values')"
   ]
  },
  {
   "cell_type": "code",
   "execution_count": null,
   "metadata": {
    "ExecuteTime": {
     "end_time": "2019-12-08T19:50:09.922128Z",
     "start_time": "2019-12-08T19:50:09.731Z"
    },
    "hidden": true
   },
   "outputs": [],
   "source": [
    "# Create a ROC curve\n",
    "ROC <- suppressMessages(roc(response = testData$TOTEXP09, predictor = factor(modelPred.na, \n",
    "                                                           ordered = TRUE, \n",
    "                                                           levels = c('low_risk', 'high_risk'))))\n",
    "\n",
    "# Plot ROC with ggplot2\n",
    "plot_ROC <- ggroc(ROC)\n",
    "plot_ROC"
   ]
  },
  {
   "cell_type": "code",
   "execution_count": null,
   "metadata": {
    "ExecuteTime": {
     "end_time": "2019-12-08T16:16:12.868568Z",
     "start_time": "2019-12-08T16:16:12.839Z"
    },
    "hidden": true
   },
   "outputs": [],
   "source": [
    "# Calculate the area under the curve (AUC)\n",
    "cat('AUC:', round(auc(ROC), 2))"
   ]
  },
  {
   "cell_type": "markdown",
   "metadata": {
    "hidden": true
   },
   "source": [
    "The closer to the top left corner our ROC curve is the better. The higher our AUC value is the better. These metrics provide useful measures when tuning our model. They are also better overall measures than accuracy alone. We can compare different models using these two metrics. "
   ]
  },
  {
   "cell_type": "markdown",
   "metadata": {
    "heading_collapsed": true,
    "hidden": true
   },
   "source": [
    "### Understanding ROC Curves and AUC Values"
   ]
  },
  {
   "cell_type": "markdown",
   "metadata": {
    "hidden": true
   },
   "source": [
    "An ROC plots sensitivity (probability of predicting a real psoitive will be positive) against 1-specificity (the probability of predicting a real negative will be a positive). A model with a 50-50 change of making a correct decision will have a ROC curve which is just a diagonal line. A model with a curve that hugs the top left corner is a perfect model. The area under a curve is a measure of magnitude of the ROC curve. The closer the ROC curve is to the top left corner, the higher the AUC value is. The higher the AUC value is, the better. \n",
    "\n",
    "<img src=\"https://miro.medium.com/max/406/1*pk05QGzoWhCgRiiFbz-oKQ.png\" style=\"float: center; width: 34%; margin-bottom: 0.5em;\">"
   ]
  },
  {
   "cell_type": "markdown",
   "metadata": {
    "heading_collapsed": true,
    "hidden": true
   },
   "source": [
    "## Explaining the Model"
   ]
  },
  {
   "cell_type": "markdown",
   "metadata": {
    "hidden": true
   },
   "source": [
    "An important part of any model is being able to explain it. We will be measuring the variable importance for our model. The higher the variable importance, the more important that variable is for our model for predicting no shows."
   ]
  },
  {
   "cell_type": "code",
   "execution_count": null,
   "metadata": {
    "ExecuteTime": {
     "end_time": "2019-12-08T19:50:41.230443Z",
     "start_time": "2019-12-08T19:50:41.183Z"
    },
    "hidden": true
   },
   "outputs": [],
   "source": [
    "test <- varImp(mylogit)\n",
    "cat('20 Most Important Variables for Predicting Risk:')\n",
    "test"
   ]
  },
  {
   "cell_type": "markdown",
   "metadata": {
    "hidden": true
   },
   "source": [
    "Based on our results we can see that the level of healthcare utilzation (`CHAPPT42` and `ADAPPT42`) had the largest effect on expenditure. This is not surprising. However, we can see that whether or not an individual had previously been treated for asthma (`ASPREV531`), age (`AGE09X`), and insurance status (`UNINS092`) had large effects on whether an individual was classified as high risk. Not only will this information help us predict high-risk patients, but these measures suggest how future interventions could be tailored to most effectively address high healthcare expenditures. "
   ]
  },
  {
   "cell_type": "markdown",
   "metadata": {},
   "source": [
    "# Comparing Predictive Models"
   ]
  },
  {
   "cell_type": "markdown",
   "metadata": {},
   "source": [
    "You've now learned everything you need to begin testing your own models! Analytics is an iterative process and requires constantly tuning and testing different models against one another. You will now build your own model and see how it performs.\n",
    "\n",
    "One of the most decisions in model building is to decide what features/variables to include on your model. This will have a huge impact on your models performance. Run the code below to see all the features in our data. "
   ]
  },
  {
   "cell_type": "code",
   "execution_count": null,
   "metadata": {},
   "outputs": [],
   "source": [
    "colnames(trainingData)"
   ]
  },
  {
   "cell_type": "markdown",
   "metadata": {},
   "source": [
    "From the list of features above, pick the features you believe are the most predictive for determining high risk asthmatic patients. Feel free to use our earlier analysis to inform which features you pick (this will help you make a more informed choice). You can type in your features in between the brackets below. Please follow the format shown in the example below.\n",
    "\n",
    "<code>features = c('REGION09','SEX','RACETHNX')</code>\n",
    "\n",
    "Be careful! If there are any typo, this will not work and you will need to run the code below again with the typo corrected. "
   ]
  },
  {
   "cell_type": "markdown",
   "metadata": {},
   "source": [
    "Now we will see how our model performs using the features you selected. The below code will output evaluation metrics. "
   ]
  },
  {
   "cell_type": "code",
   "execution_count": null,
   "metadata": {},
   "outputs": [],
   "source": [
    "test_model(features)"
   ]
  },
  {
   "cell_type": "markdown",
   "metadata": {},
   "source": [
    "Experiment with different features. As mentioned earlier, feature selection makes a huge difference in model performance. Determine which features work best and see if you can beat the model we built earlier in the case! You can rerun the <code>test_model()</code> function with new features as many times as you like. Please refer to the instructions after our variable list to see how to select new features. "
   ]
  },
  {
   "cell_type": "markdown",
   "metadata": {
    "heading_collapsed": true
   },
   "source": [
    "## Case Conclusion and Survey"
   ]
  },
  {
   "cell_type": "markdown",
   "metadata": {
    "hidden": true
   },
   "source": [
    "Congratulations! You've reached the end of the case! This case provided just one example of how analytics and health care can be combined to solve clinical problems. I hope your curiosity has been piqued. There much more to learn and much more you can explore in this field! Please take the time to fill out our post case survey below. This will help us improve this case and develop better resources for teaching analytics to students such as yourself. \n",
    "<br>\n",
    "<br>\n",
    "<form action=\"https://docs.google.com/forms/d/e/1FAIpQLSdteSc1Tp3pYKX3Y-bgMvS4qW5Hg1XJL6w9jfXzAOVKtuG8iQ/viewform?usp=sf_link\">\n",
    " <button type=\"submit\">Fill Out Survey</button>\n",
    "</form>"
   ]
  },
  {
   "attachments": {},
   "cell_type": "markdown",
   "metadata": {},
   "source": [
    "## Additional Resources "
   ]
  },
  {
   "attachments": {
    "image.png": {
     "image/png": "[encoded data removed]"
    }
   },
   "cell_type": "markdown",
   "metadata": {},
   "source": [
    "![https://datamine.unc.edu/wp-content/uploads/2020/05/Yellow-and-Green-Gadget-Business-Facebook-Cover.png](attachment:image.png)\n",
    "\n",
    "The Carolina Health Informatics Program (CHIP) has developed a few online training modules called An Introduction to Data Science through a health care lens to expose learners to the field of data science.These online modules are accessible to anyone who is interested, and require no prior training or knowledge in data science. The modules include video lectures jupyter notebooks \n",
    "https://datamine.unc.edu/onlinetraining/"
   ]
  },
  {
   "cell_type": "code",
   "execution_count": null,
   "metadata": {},
   "outputs": [],
   "source": []
  }
 ],
 "metadata": {
  "kernelspec": {
   "display_name": "R",
   "language": "R",
   "name": "ir"
  },
  "language_info": {
   "codemirror_mode": "r",
   "file_extension": ".r",
   "mimetype": "text/x-r-source",
   "name": "R",
   "pygments_lexer": "r",
   "version": "3.6.1"
  },
  "latex_envs": {
   "LaTeX_envs_menu_present": true,
   "autoclose": false,
   "autocomplete": true,
   "bibliofile": "biblio.bib",
   "cite_by": "apalike",
   "current_citInitial": 1,
   "eqLabelWithNumbers": true,
   "eqNumInitial": 1,
   "hotkeys": {
    "equation": "Ctrl-E",
    "itemize": "Ctrl-I"
   },
   "labels_anchors": false,
   "latex_user_defs": false,
   "report_style_numbering": false,
   "user_envs_cfg": false
  },
  "toc": {
   "base_numbering": 1,
   "nav_menu": {},
   "number_sections": true,
   "sideBar": true,
   "skip_h1_title": false,
   "title_cell": "Table of Contents",
   "title_sidebar": "Contents",
   "toc_cell": false,
   "toc_position": {
    "height": "414px",
    "left": "54px",
    "top": "110.8px",
    "width": "276px"
   },
   "toc_section_display": true,
   "toc_window_display": false
  },
  "varInspector": {
   "cols": {
    "lenName": 16,
    "lenType": 16,
    "lenVar": 40
   },
   "kernels_config": {
    "python": {
     "delete_cmd_postfix": "",
     "delete_cmd_prefix": "del ",
     "library": "var_list.py",
     "varRefreshCmd": "print(var_dic_list())"
    },
    "r": {
     "delete_cmd_postfix": ") ",
     "delete_cmd_prefix": "rm(",
     "library": "var_list.r",
     "varRefreshCmd": "cat(var_dic_list()) "
    }
   },
   "position": {
    "height": "190.391px",
    "left": "482px",
    "right": "20px",
    "top": "153px",
    "width": "446.391px"
   },
   "types_to_exclude": [
    "module",
    "function",
    "builtin_function_or_method",
    "instance",
    "_Feature"
   ],
   "window_display": true
  }
 },
 "nbformat": 4,
 "nbformat_minor": 2
}
