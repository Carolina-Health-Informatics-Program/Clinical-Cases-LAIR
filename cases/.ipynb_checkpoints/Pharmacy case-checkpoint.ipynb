{
 "cells": [
  {
   "cell_type": "code",
   "execution_count": 41,
   "metadata": {
    "ExecuteTime": {
     "end_time": "2019-11-22T18:22:39.230442Z",
     "start_time": "2019-11-22T18:22:39.188Z"
    }
   },
   "outputs": [
    {
     "name": "stdout",
     "output_type": "stream",
     "text": [
      "Setup complete!"
     ]
    }
   ],
   "source": [
    "# Increase max number of columns displayed in output tables\n",
    "options(repr.matrix.max.cols = 2000)\n",
    "set.seed(10) # Make sure your ML results are the same\n",
    "# Calling external libraries for additional functionality\n",
    "suppressMessages(library(tidyverse))\n",
    "suppressMessages(library(randomForest))\n",
    "suppressMessages(library(forcats))\n",
    "suppressMessages(library(cowplot))\n",
    "suppressMessages(library(caret))\n",
    "suppressMessages(library(e1071))\n",
    "suppressMessages(library(pROC))\n",
    "\n",
    "cat('Setup complete!')"
   ]
  },
  {
   "cell_type": "code",
   "execution_count": 42,
   "metadata": {
    "ExecuteTime": {
     "end_time": "2019-11-22T18:22:41.090702Z",
     "start_time": "2019-11-22T18:22:39.191Z"
    }
   },
   "outputs": [
    {
     "name": "stdout",
     "output_type": "stream",
     "text": [
      "Data loading, please wait\n",
      "Data loaded!"
     ]
    }
   ],
   "source": [
    "# Note: Unicode Transformation Format – 8 (UTF-8) is a standard to encode characters in different languages\n",
    "cat('Data loading, please wait\\n')\n",
    "diabete_data <- read.csv(file=\"data/dataset_diabetes/diabetic_data.csv\",  encoding=\"UTF-8\", header=TRUE, sep=\",\")\n",
    "cat('Data loaded!')"
   ]
  },
  {
   "cell_type": "code",
   "execution_count": 43,
   "metadata": {
    "ExecuteTime": {
     "end_time": "2019-11-22T18:22:41.189931Z",
     "start_time": "2019-11-22T18:22:39.199Z"
    }
   },
   "outputs": [
    {
     "data": {
      "text/html": [
       "<table>\n",
       "<caption>A data.frame: 6 × 50</caption>\n",
       "<thead>\n",
       "\t<tr><th scope=col>encounter_id</th><th scope=col>patient_nbr</th><th scope=col>race</th><th scope=col>gender</th><th scope=col>age</th><th scope=col>weight</th><th scope=col>admission_type_id</th><th scope=col>discharge_disposition_id</th><th scope=col>admission_source_id</th><th scope=col>time_in_hospital</th><th scope=col>payer_code</th><th scope=col>medical_specialty</th><th scope=col>num_lab_procedures</th><th scope=col>num_procedures</th><th scope=col>num_medications</th><th scope=col>number_outpatient</th><th scope=col>number_emergency</th><th scope=col>number_inpatient</th><th scope=col>diag_1</th><th scope=col>diag_2</th><th scope=col>diag_3</th><th scope=col>number_diagnoses</th><th scope=col>max_glu_serum</th><th scope=col>A1Cresult</th><th scope=col>metformin</th><th scope=col>repaglinide</th><th scope=col>nateglinide</th><th scope=col>chlorpropamide</th><th scope=col>glimepiride</th><th scope=col>acetohexamide</th><th scope=col>glipizide</th><th scope=col>glyburide</th><th scope=col>tolbutamide</th><th scope=col>pioglitazone</th><th scope=col>rosiglitazone</th><th scope=col>acarbose</th><th scope=col>miglitol</th><th scope=col>troglitazone</th><th scope=col>tolazamide</th><th scope=col>examide</th><th scope=col>citoglipton</th><th scope=col>insulin</th><th scope=col>glyburide.metformin</th><th scope=col>glipizide.metformin</th><th scope=col>glimepiride.pioglitazone</th><th scope=col>metformin.rosiglitazone</th><th scope=col>metformin.pioglitazone</th><th scope=col>change</th><th scope=col>diabetesMed</th><th scope=col>readmitted</th></tr>\n",
       "\t<tr><th scope=col>&lt;int&gt;</th><th scope=col>&lt;int&gt;</th><th scope=col>&lt;fct&gt;</th><th scope=col>&lt;fct&gt;</th><th scope=col>&lt;fct&gt;</th><th scope=col>&lt;fct&gt;</th><th scope=col>&lt;int&gt;</th><th scope=col>&lt;int&gt;</th><th scope=col>&lt;int&gt;</th><th scope=col>&lt;int&gt;</th><th scope=col>&lt;fct&gt;</th><th scope=col>&lt;fct&gt;</th><th scope=col>&lt;int&gt;</th><th scope=col>&lt;int&gt;</th><th scope=col>&lt;int&gt;</th><th scope=col>&lt;int&gt;</th><th scope=col>&lt;int&gt;</th><th scope=col>&lt;int&gt;</th><th scope=col>&lt;fct&gt;</th><th scope=col>&lt;fct&gt;</th><th scope=col>&lt;fct&gt;</th><th scope=col>&lt;int&gt;</th><th scope=col>&lt;fct&gt;</th><th scope=col>&lt;fct&gt;</th><th scope=col>&lt;fct&gt;</th><th scope=col>&lt;fct&gt;</th><th scope=col>&lt;fct&gt;</th><th scope=col>&lt;fct&gt;</th><th scope=col>&lt;fct&gt;</th><th scope=col>&lt;fct&gt;</th><th scope=col>&lt;fct&gt;</th><th scope=col>&lt;fct&gt;</th><th scope=col>&lt;fct&gt;</th><th scope=col>&lt;fct&gt;</th><th scope=col>&lt;fct&gt;</th><th scope=col>&lt;fct&gt;</th><th scope=col>&lt;fct&gt;</th><th scope=col>&lt;fct&gt;</th><th scope=col>&lt;fct&gt;</th><th scope=col>&lt;fct&gt;</th><th scope=col>&lt;fct&gt;</th><th scope=col>&lt;fct&gt;</th><th scope=col>&lt;fct&gt;</th><th scope=col>&lt;fct&gt;</th><th scope=col>&lt;fct&gt;</th><th scope=col>&lt;fct&gt;</th><th scope=col>&lt;fct&gt;</th><th scope=col>&lt;fct&gt;</th><th scope=col>&lt;fct&gt;</th><th scope=col>&lt;fct&gt;</th></tr>\n",
       "</thead>\n",
       "<tbody>\n",
       "\t<tr><td>2278392</td><td> 8222157</td><td>Caucasian      </td><td>Female</td><td>[0-10) </td><td>?</td><td>6</td><td>25</td><td>1</td><td>1</td><td>?</td><td>Pediatrics-Endocrinology</td><td>41</td><td>0</td><td> 1</td><td>0</td><td>0</td><td>0</td><td>250.83</td><td>?     </td><td>?  </td><td>1</td><td>None</td><td>None</td><td>No</td><td>No</td><td>No</td><td>No</td><td>No</td><td>No</td><td>No    </td><td>No</td><td>No</td><td>No</td><td>No</td><td>No</td><td>No</td><td>No</td><td>No</td><td>No</td><td>No</td><td>No    </td><td>No</td><td>No</td><td>No</td><td>No</td><td>No</td><td>No</td><td>No </td><td>NO </td></tr>\n",
       "\t<tr><td> 149190</td><td>55629189</td><td><span style=white-space:pre-wrap>Caucasian      </span></td><td>Female</td><td>[10-20)</td><td>?</td><td>1</td><td> 1</td><td>7</td><td>3</td><td>?</td><td><span style=white-space:pre-wrap>?                       </span></td><td>59</td><td>0</td><td>18</td><td>0</td><td>0</td><td>0</td><td><span style=white-space:pre-wrap>276   </span></td><td>250.01</td><td>255</td><td>9</td><td>None</td><td>None</td><td>No</td><td>No</td><td>No</td><td>No</td><td>No</td><td>No</td><td><span style=white-space:pre-wrap>No    </span></td><td>No</td><td>No</td><td>No</td><td>No</td><td>No</td><td>No</td><td>No</td><td>No</td><td>No</td><td>No</td><td><span style=white-space:pre-wrap>Up    </span></td><td>No</td><td>No</td><td>No</td><td>No</td><td>No</td><td>Ch</td><td>Yes</td><td>&gt;30</td></tr>\n",
       "\t<tr><td>  64410</td><td>86047875</td><td>AfricanAmerican</td><td>Female</td><td>[20-30)</td><td>?</td><td>1</td><td> 1</td><td>7</td><td>2</td><td>?</td><td>?                       </td><td>11</td><td>5</td><td>13</td><td>2</td><td>0</td><td>1</td><td>648   </td><td>250   </td><td>V27</td><td>6</td><td>None</td><td>None</td><td>No</td><td>No</td><td>No</td><td>No</td><td>No</td><td>No</td><td>Steady</td><td>No</td><td>No</td><td>No</td><td>No</td><td>No</td><td>No</td><td>No</td><td>No</td><td>No</td><td>No</td><td>No    </td><td>No</td><td>No</td><td>No</td><td>No</td><td>No</td><td>No</td><td>Yes</td><td>NO </td></tr>\n",
       "\t<tr><td> 500364</td><td>82442376</td><td>Caucasian      </td><td>Male  </td><td>[30-40)</td><td>?</td><td>1</td><td> 1</td><td>7</td><td>2</td><td>?</td><td>?                       </td><td>44</td><td>1</td><td>16</td><td>0</td><td>0</td><td>0</td><td>8     </td><td>250.43</td><td>403</td><td>7</td><td>None</td><td>None</td><td>No</td><td>No</td><td>No</td><td>No</td><td>No</td><td>No</td><td>No    </td><td>No</td><td>No</td><td>No</td><td>No</td><td>No</td><td>No</td><td>No</td><td>No</td><td>No</td><td>No</td><td>Up    </td><td>No</td><td>No</td><td>No</td><td>No</td><td>No</td><td>Ch</td><td>Yes</td><td>NO </td></tr>\n",
       "\t<tr><td>  16680</td><td>42519267</td><td>Caucasian      </td><td>Male  </td><td>[40-50)</td><td>?</td><td>1</td><td> 1</td><td>7</td><td>1</td><td>?</td><td>?                       </td><td>51</td><td>0</td><td> 8</td><td>0</td><td>0</td><td>0</td><td>197   </td><td>157   </td><td>250</td><td>5</td><td>None</td><td>None</td><td>No</td><td>No</td><td>No</td><td>No</td><td>No</td><td>No</td><td>Steady</td><td>No</td><td>No</td><td>No</td><td>No</td><td>No</td><td>No</td><td>No</td><td>No</td><td>No</td><td>No</td><td>Steady</td><td>No</td><td>No</td><td>No</td><td>No</td><td>No</td><td>Ch</td><td>Yes</td><td>NO </td></tr>\n",
       "\t<tr><td><span style=white-space:pre-wrap>  35754</span></td><td>82637451</td><td><span style=white-space:pre-wrap>Caucasian      </span></td><td><span style=white-space:pre-wrap>Male  </span></td><td>[50-60)</td><td>?</td><td>2</td><td> 1</td><td>2</td><td>3</td><td>?</td><td><span style=white-space:pre-wrap>?                       </span></td><td>31</td><td>6</td><td>16</td><td>0</td><td>0</td><td>0</td><td><span style=white-space:pre-wrap>414   </span></td><td><span style=white-space:pre-wrap>411   </span></td><td>250</td><td>9</td><td>None</td><td>None</td><td>No</td><td>No</td><td>No</td><td>No</td><td>No</td><td>No</td><td><span style=white-space:pre-wrap>No    </span></td><td>No</td><td>No</td><td>No</td><td>No</td><td>No</td><td>No</td><td>No</td><td>No</td><td>No</td><td>No</td><td>Steady</td><td>No</td><td>No</td><td>No</td><td>No</td><td>No</td><td>No</td><td>Yes</td><td>&gt;30</td></tr>\n",
       "</tbody>\n",
       "</table>\n"
      ],
      "text/latex": [
       "A data.frame: 6 × 50\n",
       "\\begin{tabular}{r|llllllllllllllllllllllllllllllllllllllllllllllllll}\n",
       " encounter\\_id & patient\\_nbr & race & gender & age & weight & admission\\_type\\_id & discharge\\_disposition\\_id & admission\\_source\\_id & time\\_in\\_hospital & payer\\_code & medical\\_specialty & num\\_lab\\_procedures & num\\_procedures & num\\_medications & number\\_outpatient & number\\_emergency & number\\_inpatient & diag\\_1 & diag\\_2 & diag\\_3 & number\\_diagnoses & max\\_glu\\_serum & A1Cresult & metformin & repaglinide & nateglinide & chlorpropamide & glimepiride & acetohexamide & glipizide & glyburide & tolbutamide & pioglitazone & rosiglitazone & acarbose & miglitol & troglitazone & tolazamide & examide & citoglipton & insulin & glyburide.metformin & glipizide.metformin & glimepiride.pioglitazone & metformin.rosiglitazone & metformin.pioglitazone & change & diabetesMed & readmitted\\\\\n",
       " <int> & <int> & <fct> & <fct> & <fct> & <fct> & <int> & <int> & <int> & <int> & <fct> & <fct> & <int> & <int> & <int> & <int> & <int> & <int> & <fct> & <fct> & <fct> & <int> & <fct> & <fct> & <fct> & <fct> & <fct> & <fct> & <fct> & <fct> & <fct> & <fct> & <fct> & <fct> & <fct> & <fct> & <fct> & <fct> & <fct> & <fct> & <fct> & <fct> & <fct> & <fct> & <fct> & <fct> & <fct> & <fct> & <fct> & <fct>\\\\\n",
       "\\hline\n",
       "\t 2278392 &  8222157 & Caucasian       & Female & {[}0-10)  & ? & 6 & 25 & 1 & 1 & ? & Pediatrics-Endocrinology & 41 & 0 &  1 & 0 & 0 & 0 & 250.83 & ?      & ?   & 1 & None & None & No & No & No & No & No & No & No     & No & No & No & No & No & No & No & No & No & No & No     & No & No & No & No & No & No & No  & NO \\\\\n",
       "\t  149190 & 55629189 & Caucasian       & Female & {[}10-20) & ? & 1 &  1 & 7 & 3 & ? & ?                        & 59 & 0 & 18 & 0 & 0 & 0 & 276    & 250.01 & 255 & 9 & None & None & No & No & No & No & No & No & No     & No & No & No & No & No & No & No & No & No & No & Up     & No & No & No & No & No & Ch & Yes & >30\\\\\n",
       "\t   64410 & 86047875 & AfricanAmerican & Female & {[}20-30) & ? & 1 &  1 & 7 & 2 & ? & ?                        & 11 & 5 & 13 & 2 & 0 & 1 & 648    & 250    & V27 & 6 & None & None & No & No & No & No & No & No & Steady & No & No & No & No & No & No & No & No & No & No & No     & No & No & No & No & No & No & Yes & NO \\\\\n",
       "\t  500364 & 82442376 & Caucasian       & Male   & {[}30-40) & ? & 1 &  1 & 7 & 2 & ? & ?                        & 44 & 1 & 16 & 0 & 0 & 0 & 8      & 250.43 & 403 & 7 & None & None & No & No & No & No & No & No & No     & No & No & No & No & No & No & No & No & No & No & Up     & No & No & No & No & No & Ch & Yes & NO \\\\\n",
       "\t   16680 & 42519267 & Caucasian       & Male   & {[}40-50) & ? & 1 &  1 & 7 & 1 & ? & ?                        & 51 & 0 &  8 & 0 & 0 & 0 & 197    & 157    & 250 & 5 & None & None & No & No & No & No & No & No & Steady & No & No & No & No & No & No & No & No & No & No & Steady & No & No & No & No & No & Ch & Yes & NO \\\\\n",
       "\t   35754 & 82637451 & Caucasian       & Male   & {[}50-60) & ? & 2 &  1 & 2 & 3 & ? & ?                        & 31 & 6 & 16 & 0 & 0 & 0 & 414    & 411    & 250 & 9 & None & None & No & No & No & No & No & No & No     & No & No & No & No & No & No & No & No & No & No & Steady & No & No & No & No & No & No & Yes & >30\\\\\n",
       "\\end{tabular}\n"
      ],
      "text/markdown": [
       "\n",
       "A data.frame: 6 × 50\n",
       "\n",
       "| encounter_id &lt;int&gt; | patient_nbr &lt;int&gt; | race &lt;fct&gt; | gender &lt;fct&gt; | age &lt;fct&gt; | weight &lt;fct&gt; | admission_type_id &lt;int&gt; | discharge_disposition_id &lt;int&gt; | admission_source_id &lt;int&gt; | time_in_hospital &lt;int&gt; | payer_code &lt;fct&gt; | medical_specialty &lt;fct&gt; | num_lab_procedures &lt;int&gt; | num_procedures &lt;int&gt; | num_medications &lt;int&gt; | number_outpatient &lt;int&gt; | number_emergency &lt;int&gt; | number_inpatient &lt;int&gt; | diag_1 &lt;fct&gt; | diag_2 &lt;fct&gt; | diag_3 &lt;fct&gt; | number_diagnoses &lt;int&gt; | max_glu_serum &lt;fct&gt; | A1Cresult &lt;fct&gt; | metformin &lt;fct&gt; | repaglinide &lt;fct&gt; | nateglinide &lt;fct&gt; | chlorpropamide &lt;fct&gt; | glimepiride &lt;fct&gt; | acetohexamide &lt;fct&gt; | glipizide &lt;fct&gt; | glyburide &lt;fct&gt; | tolbutamide &lt;fct&gt; | pioglitazone &lt;fct&gt; | rosiglitazone &lt;fct&gt; | acarbose &lt;fct&gt; | miglitol &lt;fct&gt; | troglitazone &lt;fct&gt; | tolazamide &lt;fct&gt; | examide &lt;fct&gt; | citoglipton &lt;fct&gt; | insulin &lt;fct&gt; | glyburide.metformin &lt;fct&gt; | glipizide.metformin &lt;fct&gt; | glimepiride.pioglitazone &lt;fct&gt; | metformin.rosiglitazone &lt;fct&gt; | metformin.pioglitazone &lt;fct&gt; | change &lt;fct&gt; | diabetesMed &lt;fct&gt; | readmitted &lt;fct&gt; |\n",
       "|---|---|---|---|---|---|---|---|---|---|---|---|---|---|---|---|---|---|---|---|---|---|---|---|---|---|---|---|---|---|---|---|---|---|---|---|---|---|---|---|---|---|---|---|---|---|---|---|---|---|\n",
       "| 2278392 |  8222157 | Caucasian       | Female | [0-10)  | ? | 6 | 25 | 1 | 1 | ? | Pediatrics-Endocrinology | 41 | 0 |  1 | 0 | 0 | 0 | 250.83 | ?      | ?   | 1 | None | None | No | No | No | No | No | No | No     | No | No | No | No | No | No | No | No | No | No | No     | No | No | No | No | No | No | No  | NO  |\n",
       "|  149190 | 55629189 | Caucasian       | Female | [10-20) | ? | 1 |  1 | 7 | 3 | ? | ?                        | 59 | 0 | 18 | 0 | 0 | 0 | 276    | 250.01 | 255 | 9 | None | None | No | No | No | No | No | No | No     | No | No | No | No | No | No | No | No | No | No | Up     | No | No | No | No | No | Ch | Yes | &gt;30 |\n",
       "|   64410 | 86047875 | AfricanAmerican | Female | [20-30) | ? | 1 |  1 | 7 | 2 | ? | ?                        | 11 | 5 | 13 | 2 | 0 | 1 | 648    | 250    | V27 | 6 | None | None | No | No | No | No | No | No | Steady | No | No | No | No | No | No | No | No | No | No | No     | No | No | No | No | No | No | Yes | NO  |\n",
       "|  500364 | 82442376 | Caucasian       | Male   | [30-40) | ? | 1 |  1 | 7 | 2 | ? | ?                        | 44 | 1 | 16 | 0 | 0 | 0 | 8      | 250.43 | 403 | 7 | None | None | No | No | No | No | No | No | No     | No | No | No | No | No | No | No | No | No | No | Up     | No | No | No | No | No | Ch | Yes | NO  |\n",
       "|   16680 | 42519267 | Caucasian       | Male   | [40-50) | ? | 1 |  1 | 7 | 1 | ? | ?                        | 51 | 0 |  8 | 0 | 0 | 0 | 197    | 157    | 250 | 5 | None | None | No | No | No | No | No | No | Steady | No | No | No | No | No | No | No | No | No | No | Steady | No | No | No | No | No | Ch | Yes | NO  |\n",
       "|   35754 | 82637451 | Caucasian       | Male   | [50-60) | ? | 2 |  1 | 2 | 3 | ? | ?                        | 31 | 6 | 16 | 0 | 0 | 0 | 414    | 411    | 250 | 9 | None | None | No | No | No | No | No | No | No     | No | No | No | No | No | No | No | No | No | No | Steady | No | No | No | No | No | No | Yes | &gt;30 |\n",
       "\n"
      ],
      "text/plain": [
       "  encounter_id patient_nbr race            gender age     weight\n",
       "1 2278392       8222157    Caucasian       Female [0-10)  ?     \n",
       "2  149190      55629189    Caucasian       Female [10-20) ?     \n",
       "3   64410      86047875    AfricanAmerican Female [20-30) ?     \n",
       "4  500364      82442376    Caucasian       Male   [30-40) ?     \n",
       "5   16680      42519267    Caucasian       Male   [40-50) ?     \n",
       "6   35754      82637451    Caucasian       Male   [50-60) ?     \n",
       "  admission_type_id discharge_disposition_id admission_source_id\n",
       "1 6                 25                       1                  \n",
       "2 1                  1                       7                  \n",
       "3 1                  1                       7                  \n",
       "4 1                  1                       7                  \n",
       "5 1                  1                       7                  \n",
       "6 2                  1                       2                  \n",
       "  time_in_hospital payer_code medical_specialty        num_lab_procedures\n",
       "1 1                ?          Pediatrics-Endocrinology 41                \n",
       "2 3                ?          ?                        59                \n",
       "3 2                ?          ?                        11                \n",
       "4 2                ?          ?                        44                \n",
       "5 1                ?          ?                        51                \n",
       "6 3                ?          ?                        31                \n",
       "  num_procedures num_medications number_outpatient number_emergency\n",
       "1 0               1              0                 0               \n",
       "2 0              18              0                 0               \n",
       "3 5              13              2                 0               \n",
       "4 1              16              0                 0               \n",
       "5 0               8              0                 0               \n",
       "6 6              16              0                 0               \n",
       "  number_inpatient diag_1 diag_2 diag_3 number_diagnoses max_glu_serum\n",
       "1 0                250.83 ?      ?      1                None         \n",
       "2 0                276    250.01 255    9                None         \n",
       "3 1                648    250    V27    6                None         \n",
       "4 0                8      250.43 403    7                None         \n",
       "5 0                197    157    250    5                None         \n",
       "6 0                414    411    250    9                None         \n",
       "  A1Cresult metformin repaglinide nateglinide chlorpropamide glimepiride\n",
       "1 None      No        No          No          No             No         \n",
       "2 None      No        No          No          No             No         \n",
       "3 None      No        No          No          No             No         \n",
       "4 None      No        No          No          No             No         \n",
       "5 None      No        No          No          No             No         \n",
       "6 None      No        No          No          No             No         \n",
       "  acetohexamide glipizide glyburide tolbutamide pioglitazone rosiglitazone\n",
       "1 No            No        No        No          No           No           \n",
       "2 No            No        No        No          No           No           \n",
       "3 No            Steady    No        No          No           No           \n",
       "4 No            No        No        No          No           No           \n",
       "5 No            Steady    No        No          No           No           \n",
       "6 No            No        No        No          No           No           \n",
       "  acarbose miglitol troglitazone tolazamide examide citoglipton insulin\n",
       "1 No       No       No           No         No      No          No     \n",
       "2 No       No       No           No         No      No          Up     \n",
       "3 No       No       No           No         No      No          No     \n",
       "4 No       No       No           No         No      No          Up     \n",
       "5 No       No       No           No         No      No          Steady \n",
       "6 No       No       No           No         No      No          Steady \n",
       "  glyburide.metformin glipizide.metformin glimepiride.pioglitazone\n",
       "1 No                  No                  No                      \n",
       "2 No                  No                  No                      \n",
       "3 No                  No                  No                      \n",
       "4 No                  No                  No                      \n",
       "5 No                  No                  No                      \n",
       "6 No                  No                  No                      \n",
       "  metformin.rosiglitazone metformin.pioglitazone change diabetesMed readmitted\n",
       "1 No                      No                     No     No          NO        \n",
       "2 No                      No                     Ch     Yes         >30       \n",
       "3 No                      No                     No     Yes         NO        \n",
       "4 No                      No                     Ch     Yes         NO        \n",
       "5 No                      No                     Ch     Yes         NO        \n",
       "6 No                      No                     No     Yes         >30       "
      ]
     },
     "metadata": {},
     "output_type": "display_data"
    },
    {
     "name": "stdout",
     "output_type": "stream",
     "text": [
      "'data.frame':\t101766 obs. of  50 variables:\n",
      " $ encounter_id            : int  2278392 149190 64410 500364 16680 35754 55842 63768 12522 15738 ...\n",
      " $ patient_nbr             : int  8222157 55629189 86047875 82442376 42519267 82637451 84259809 114882984 48330783 63555939 ...\n",
      " $ race                    : Factor w/ 6 levels \"?\",\"AfricanAmerican\",..: 4 4 2 4 4 4 4 4 4 4 ...\n",
      " $ gender                  : Factor w/ 3 levels \"Female\",\"Male\",..: 1 1 1 2 2 2 2 2 1 1 ...\n",
      " $ age                     : Factor w/ 10 levels \"[0-10)\",\"[10-20)\",..: 1 2 3 4 5 6 7 8 9 10 ...\n",
      " $ weight                  : Factor w/ 10 levels \">200\",\"?\",\"[0-25)\",..: 2 2 2 2 2 2 2 2 2 2 ...\n",
      " $ admission_type_id       : int  6 1 1 1 1 2 3 1 2 3 ...\n",
      " $ discharge_disposition_id: int  25 1 1 1 1 1 1 1 1 3 ...\n",
      " $ admission_source_id     : int  1 7 7 7 7 2 2 7 4 4 ...\n",
      " $ time_in_hospital        : int  1 3 2 2 1 3 4 5 13 12 ...\n",
      " $ payer_code              : Factor w/ 18 levels \"?\",\"BC\",\"CH\",..: 1 1 1 1 1 1 1 1 1 1 ...\n",
      " $ medical_specialty       : Factor w/ 73 levels \"?\",\"AllergyandImmunology\",..: 39 1 1 1 1 1 1 1 1 20 ...\n",
      " $ num_lab_procedures      : int  41 59 11 44 51 31 70 73 68 33 ...\n",
      " $ num_procedures          : int  0 0 5 1 0 6 1 0 2 3 ...\n",
      " $ num_medications         : int  1 18 13 16 8 16 21 12 28 18 ...\n",
      " $ number_outpatient       : int  0 0 2 0 0 0 0 0 0 0 ...\n",
      " $ number_emergency        : int  0 0 0 0 0 0 0 0 0 0 ...\n",
      " $ number_inpatient        : int  0 0 1 0 0 0 0 0 0 0 ...\n",
      " $ diag_1                  : Factor w/ 717 levels \"10\",\"11\",\"110\",..: 125 144 455 555 55 264 264 277 253 283 ...\n",
      " $ diag_2                  : Factor w/ 749 levels \"11\",\"110\",\"111\",..: 651 80 79 98 25 247 247 315 261 47 ...\n",
      " $ diag_3                  : Factor w/ 790 levels \"11\",\"110\",\"111\",..: 671 122 768 249 87 87 772 87 230 318 ...\n",
      " $ number_diagnoses        : int  1 9 6 7 5 9 7 8 8 8 ...\n",
      " $ max_glu_serum           : Factor w/ 4 levels \">200\",\">300\",..: 3 3 3 3 3 3 3 3 3 3 ...\n",
      " $ A1Cresult               : Factor w/ 4 levels \">7\",\">8\",\"None\",..: 3 3 3 3 3 3 3 3 3 3 ...\n",
      " $ metformin               : Factor w/ 4 levels \"Down\",\"No\",\"Steady\",..: 2 2 2 2 2 2 3 2 2 2 ...\n",
      " $ repaglinide             : Factor w/ 4 levels \"Down\",\"No\",\"Steady\",..: 2 2 2 2 2 2 2 2 2 2 ...\n",
      " $ nateglinide             : Factor w/ 4 levels \"Down\",\"No\",\"Steady\",..: 2 2 2 2 2 2 2 2 2 2 ...\n",
      " $ chlorpropamide          : Factor w/ 4 levels \"Down\",\"No\",\"Steady\",..: 2 2 2 2 2 2 2 2 2 2 ...\n",
      " $ glimepiride             : Factor w/ 4 levels \"Down\",\"No\",\"Steady\",..: 2 2 2 2 2 2 3 2 2 2 ...\n",
      " $ acetohexamide           : Factor w/ 2 levels \"No\",\"Steady\": 1 1 1 1 1 1 1 1 1 1 ...\n",
      " $ glipizide               : Factor w/ 4 levels \"Down\",\"No\",\"Steady\",..: 2 2 3 2 3 2 2 2 3 2 ...\n",
      " $ glyburide               : Factor w/ 4 levels \"Down\",\"No\",\"Steady\",..: 2 2 2 2 2 2 2 3 2 2 ...\n",
      " $ tolbutamide             : Factor w/ 2 levels \"No\",\"Steady\": 1 1 1 1 1 1 1 1 1 1 ...\n",
      " $ pioglitazone            : Factor w/ 4 levels \"Down\",\"No\",\"Steady\",..: 2 2 2 2 2 2 2 2 2 2 ...\n",
      " $ rosiglitazone           : Factor w/ 4 levels \"Down\",\"No\",\"Steady\",..: 2 2 2 2 2 2 2 2 2 3 ...\n",
      " $ acarbose                : Factor w/ 4 levels \"Down\",\"No\",\"Steady\",..: 2 2 2 2 2 2 2 2 2 2 ...\n",
      " $ miglitol                : Factor w/ 4 levels \"Down\",\"No\",\"Steady\",..: 2 2 2 2 2 2 2 2 2 2 ...\n",
      " $ troglitazone            : Factor w/ 2 levels \"No\",\"Steady\": 1 1 1 1 1 1 1 1 1 1 ...\n",
      " $ tolazamide              : Factor w/ 3 levels \"No\",\"Steady\",..: 1 1 1 1 1 1 1 1 1 1 ...\n",
      " $ examide                 : Factor w/ 1 level \"No\": 1 1 1 1 1 1 1 1 1 1 ...\n",
      " $ citoglipton             : Factor w/ 1 level \"No\": 1 1 1 1 1 1 1 1 1 1 ...\n",
      " $ insulin                 : Factor w/ 4 levels \"Down\",\"No\",\"Steady\",..: 2 4 2 4 3 3 3 2 3 3 ...\n",
      " $ glyburide.metformin     : Factor w/ 4 levels \"Down\",\"No\",\"Steady\",..: 2 2 2 2 2 2 2 2 2 2 ...\n",
      " $ glipizide.metformin     : Factor w/ 2 levels \"No\",\"Steady\": 1 1 1 1 1 1 1 1 1 1 ...\n",
      " $ glimepiride.pioglitazone: Factor w/ 2 levels \"No\",\"Steady\": 1 1 1 1 1 1 1 1 1 1 ...\n",
      " $ metformin.rosiglitazone : Factor w/ 2 levels \"No\",\"Steady\": 1 1 1 1 1 1 1 1 1 1 ...\n",
      " $ metformin.pioglitazone  : Factor w/ 2 levels \"No\",\"Steady\": 1 1 1 1 1 1 1 1 1 1 ...\n",
      " $ change                  : Factor w/ 2 levels \"Ch\",\"No\": 2 1 2 1 1 2 1 2 1 1 ...\n",
      " $ diabetesMed             : Factor w/ 2 levels \"No\",\"Yes\": 1 2 2 2 2 2 2 2 2 2 ...\n",
      " $ readmitted              : Factor w/ 3 levels \"<30\",\">30\",\"NO\": 3 2 3 3 3 2 3 2 3 3 ...\n"
     ]
    }
   ],
   "source": [
    "head(diabete_data)\n",
    "str(diabete_data)"
   ]
  },
  {
   "cell_type": "code",
   "execution_count": 44,
   "metadata": {
    "ExecuteTime": {
     "end_time": "2019-11-22T18:22:41.964238Z",
     "start_time": "2019-11-22T18:22:39.201Z"
    }
   },
   "outputs": [],
   "source": [
    "diabete_data[diabete_data == '?'] <- NA\n",
    "diabete_data[diabete_data == 'None'] <- NA"
   ]
  },
  {
   "cell_type": "code",
   "execution_count": 45,
   "metadata": {
    "ExecuteTime": {
     "end_time": "2019-11-22T18:22:42.042449Z",
     "start_time": "2019-11-22T18:22:39.206Z"
    }
   },
   "outputs": [
    {
     "name": "stdout",
     "output_type": "stream",
     "text": [
      "Number of Missing Data for Each Variable:"
     ]
    },
    {
     "data": {
      "text/html": [
       "<dl class=dl-horizontal>\n",
       "\t<dt>encounter_id</dt>\n",
       "\t\t<dd>0</dd>\n",
       "\t<dt>patient_nbr</dt>\n",
       "\t\t<dd>0</dd>\n",
       "\t<dt>race</dt>\n",
       "\t\t<dd>2273</dd>\n",
       "\t<dt>gender</dt>\n",
       "\t\t<dd>0</dd>\n",
       "\t<dt>age</dt>\n",
       "\t\t<dd>0</dd>\n",
       "\t<dt>weight</dt>\n",
       "\t\t<dd>98569</dd>\n",
       "\t<dt>admission_type_id</dt>\n",
       "\t\t<dd>0</dd>\n",
       "\t<dt>discharge_disposition_id</dt>\n",
       "\t\t<dd>0</dd>\n",
       "\t<dt>admission_source_id</dt>\n",
       "\t\t<dd>0</dd>\n",
       "\t<dt>time_in_hospital</dt>\n",
       "\t\t<dd>0</dd>\n",
       "\t<dt>payer_code</dt>\n",
       "\t\t<dd>40256</dd>\n",
       "\t<dt>medical_specialty</dt>\n",
       "\t\t<dd>49949</dd>\n",
       "\t<dt>num_lab_procedures</dt>\n",
       "\t\t<dd>0</dd>\n",
       "\t<dt>num_procedures</dt>\n",
       "\t\t<dd>0</dd>\n",
       "\t<dt>num_medications</dt>\n",
       "\t\t<dd>0</dd>\n",
       "\t<dt>number_outpatient</dt>\n",
       "\t\t<dd>0</dd>\n",
       "\t<dt>number_emergency</dt>\n",
       "\t\t<dd>0</dd>\n",
       "\t<dt>number_inpatient</dt>\n",
       "\t\t<dd>0</dd>\n",
       "\t<dt>diag_1</dt>\n",
       "\t\t<dd>21</dd>\n",
       "\t<dt>diag_2</dt>\n",
       "\t\t<dd>358</dd>\n",
       "\t<dt>diag_3</dt>\n",
       "\t\t<dd>1423</dd>\n",
       "\t<dt>number_diagnoses</dt>\n",
       "\t\t<dd>0</dd>\n",
       "\t<dt>max_glu_serum</dt>\n",
       "\t\t<dd>96420</dd>\n",
       "\t<dt>A1Cresult</dt>\n",
       "\t\t<dd>84748</dd>\n",
       "\t<dt>metformin</dt>\n",
       "\t\t<dd>0</dd>\n",
       "\t<dt>repaglinide</dt>\n",
       "\t\t<dd>0</dd>\n",
       "\t<dt>nateglinide</dt>\n",
       "\t\t<dd>0</dd>\n",
       "\t<dt>chlorpropamide</dt>\n",
       "\t\t<dd>0</dd>\n",
       "\t<dt>glimepiride</dt>\n",
       "\t\t<dd>0</dd>\n",
       "\t<dt>acetohexamide</dt>\n",
       "\t\t<dd>0</dd>\n",
       "\t<dt>glipizide</dt>\n",
       "\t\t<dd>0</dd>\n",
       "\t<dt>glyburide</dt>\n",
       "\t\t<dd>0</dd>\n",
       "\t<dt>tolbutamide</dt>\n",
       "\t\t<dd>0</dd>\n",
       "\t<dt>pioglitazone</dt>\n",
       "\t\t<dd>0</dd>\n",
       "\t<dt>rosiglitazone</dt>\n",
       "\t\t<dd>0</dd>\n",
       "\t<dt>acarbose</dt>\n",
       "\t\t<dd>0</dd>\n",
       "\t<dt>miglitol</dt>\n",
       "\t\t<dd>0</dd>\n",
       "\t<dt>troglitazone</dt>\n",
       "\t\t<dd>0</dd>\n",
       "\t<dt>tolazamide</dt>\n",
       "\t\t<dd>0</dd>\n",
       "\t<dt>examide</dt>\n",
       "\t\t<dd>0</dd>\n",
       "\t<dt>citoglipton</dt>\n",
       "\t\t<dd>0</dd>\n",
       "\t<dt>insulin</dt>\n",
       "\t\t<dd>0</dd>\n",
       "\t<dt>glyburide.metformin</dt>\n",
       "\t\t<dd>0</dd>\n",
       "\t<dt>glipizide.metformin</dt>\n",
       "\t\t<dd>0</dd>\n",
       "\t<dt>glimepiride.pioglitazone</dt>\n",
       "\t\t<dd>0</dd>\n",
       "\t<dt>metformin.rosiglitazone</dt>\n",
       "\t\t<dd>0</dd>\n",
       "\t<dt>metformin.pioglitazone</dt>\n",
       "\t\t<dd>0</dd>\n",
       "\t<dt>change</dt>\n",
       "\t\t<dd>0</dd>\n",
       "\t<dt>diabetesMed</dt>\n",
       "\t\t<dd>0</dd>\n",
       "\t<dt>readmitted</dt>\n",
       "\t\t<dd>0</dd>\n",
       "</dl>\n"
      ],
      "text/latex": [
       "\\begin{description*}\n",
       "\\item[encounter\\textbackslash{}\\_id] 0\n",
       "\\item[patient\\textbackslash{}\\_nbr] 0\n",
       "\\item[race] 2273\n",
       "\\item[gender] 0\n",
       "\\item[age] 0\n",
       "\\item[weight] 98569\n",
       "\\item[admission\\textbackslash{}\\_type\\textbackslash{}\\_id] 0\n",
       "\\item[discharge\\textbackslash{}\\_disposition\\textbackslash{}\\_id] 0\n",
       "\\item[admission\\textbackslash{}\\_source\\textbackslash{}\\_id] 0\n",
       "\\item[time\\textbackslash{}\\_in\\textbackslash{}\\_hospital] 0\n",
       "\\item[payer\\textbackslash{}\\_code] 40256\n",
       "\\item[medical\\textbackslash{}\\_specialty] 49949\n",
       "\\item[num\\textbackslash{}\\_lab\\textbackslash{}\\_procedures] 0\n",
       "\\item[num\\textbackslash{}\\_procedures] 0\n",
       "\\item[num\\textbackslash{}\\_medications] 0\n",
       "\\item[number\\textbackslash{}\\_outpatient] 0\n",
       "\\item[number\\textbackslash{}\\_emergency] 0\n",
       "\\item[number\\textbackslash{}\\_inpatient] 0\n",
       "\\item[diag\\textbackslash{}\\_1] 21\n",
       "\\item[diag\\textbackslash{}\\_2] 358\n",
       "\\item[diag\\textbackslash{}\\_3] 1423\n",
       "\\item[number\\textbackslash{}\\_diagnoses] 0\n",
       "\\item[max\\textbackslash{}\\_glu\\textbackslash{}\\_serum] 96420\n",
       "\\item[A1Cresult] 84748\n",
       "\\item[metformin] 0\n",
       "\\item[repaglinide] 0\n",
       "\\item[nateglinide] 0\n",
       "\\item[chlorpropamide] 0\n",
       "\\item[glimepiride] 0\n",
       "\\item[acetohexamide] 0\n",
       "\\item[glipizide] 0\n",
       "\\item[glyburide] 0\n",
       "\\item[tolbutamide] 0\n",
       "\\item[pioglitazone] 0\n",
       "\\item[rosiglitazone] 0\n",
       "\\item[acarbose] 0\n",
       "\\item[miglitol] 0\n",
       "\\item[troglitazone] 0\n",
       "\\item[tolazamide] 0\n",
       "\\item[examide] 0\n",
       "\\item[citoglipton] 0\n",
       "\\item[insulin] 0\n",
       "\\item[glyburide.metformin] 0\n",
       "\\item[glipizide.metformin] 0\n",
       "\\item[glimepiride.pioglitazone] 0\n",
       "\\item[metformin.rosiglitazone] 0\n",
       "\\item[metformin.pioglitazone] 0\n",
       "\\item[change] 0\n",
       "\\item[diabetesMed] 0\n",
       "\\item[readmitted] 0\n",
       "\\end{description*}\n"
      ],
      "text/markdown": [
       "encounter_id\n",
       ":   0patient_nbr\n",
       ":   0race\n",
       ":   2273gender\n",
       ":   0age\n",
       ":   0weight\n",
       ":   98569admission_type_id\n",
       ":   0discharge_disposition_id\n",
       ":   0admission_source_id\n",
       ":   0time_in_hospital\n",
       ":   0payer_code\n",
       ":   40256medical_specialty\n",
       ":   49949num_lab_procedures\n",
       ":   0num_procedures\n",
       ":   0num_medications\n",
       ":   0number_outpatient\n",
       ":   0number_emergency\n",
       ":   0number_inpatient\n",
       ":   0diag_1\n",
       ":   21diag_2\n",
       ":   358diag_3\n",
       ":   1423number_diagnoses\n",
       ":   0max_glu_serum\n",
       ":   96420A1Cresult\n",
       ":   84748metformin\n",
       ":   0repaglinide\n",
       ":   0nateglinide\n",
       ":   0chlorpropamide\n",
       ":   0glimepiride\n",
       ":   0acetohexamide\n",
       ":   0glipizide\n",
       ":   0glyburide\n",
       ":   0tolbutamide\n",
       ":   0pioglitazone\n",
       ":   0rosiglitazone\n",
       ":   0acarbose\n",
       ":   0miglitol\n",
       ":   0troglitazone\n",
       ":   0tolazamide\n",
       ":   0examide\n",
       ":   0citoglipton\n",
       ":   0insulin\n",
       ":   0glyburide.metformin\n",
       ":   0glipizide.metformin\n",
       ":   0glimepiride.pioglitazone\n",
       ":   0metformin.rosiglitazone\n",
       ":   0metformin.pioglitazone\n",
       ":   0change\n",
       ":   0diabetesMed\n",
       ":   0readmitted\n",
       ":   0\n",
       "\n"
      ],
      "text/plain": [
       "            encounter_id              patient_nbr                     race \n",
       "                       0                        0                     2273 \n",
       "                  gender                      age                   weight \n",
       "                       0                        0                    98569 \n",
       "       admission_type_id discharge_disposition_id      admission_source_id \n",
       "                       0                        0                        0 \n",
       "        time_in_hospital               payer_code        medical_specialty \n",
       "                       0                    40256                    49949 \n",
       "      num_lab_procedures           num_procedures          num_medications \n",
       "                       0                        0                        0 \n",
       "       number_outpatient         number_emergency         number_inpatient \n",
       "                       0                        0                        0 \n",
       "                  diag_1                   diag_2                   diag_3 \n",
       "                      21                      358                     1423 \n",
       "        number_diagnoses            max_glu_serum                A1Cresult \n",
       "                       0                    96420                    84748 \n",
       "               metformin              repaglinide              nateglinide \n",
       "                       0                        0                        0 \n",
       "          chlorpropamide              glimepiride            acetohexamide \n",
       "                       0                        0                        0 \n",
       "               glipizide                glyburide              tolbutamide \n",
       "                       0                        0                        0 \n",
       "            pioglitazone            rosiglitazone                 acarbose \n",
       "                       0                        0                        0 \n",
       "                miglitol             troglitazone               tolazamide \n",
       "                       0                        0                        0 \n",
       "                 examide              citoglipton                  insulin \n",
       "                       0                        0                        0 \n",
       "     glyburide.metformin      glipizide.metformin glimepiride.pioglitazone \n",
       "                       0                        0                        0 \n",
       " metformin.rosiglitazone   metformin.pioglitazone                   change \n",
       "                       0                        0                        0 \n",
       "             diabetesMed               readmitted \n",
       "                       0                        0 "
      ]
     },
     "metadata": {},
     "output_type": "display_data"
    }
   ],
   "source": [
    "cat('Number of Missing Data for Each Variable:')\n",
    "sapply(diabete_data, function(x) sum(is.na(x)))"
   ]
  },
  {
   "cell_type": "code",
   "execution_count": 46,
   "metadata": {
    "ExecuteTime": {
     "end_time": "2019-11-22T18:22:42.079202Z",
     "start_time": "2019-11-22T18:22:39.209Z"
    }
   },
   "outputs": [
    {
     "data": {
      "text/plain": [
       "\n",
       "    1     2     3     4     5     6     7     8     9    10    11    13    14 \n",
       "29565  1104   187  3187   855  2264 57494    16   125     8     2     1     2 \n",
       "   17    20    22    25 \n",
       " 6781   161    12     2 "
      ]
     },
     "metadata": {},
     "output_type": "display_data"
    }
   ],
   "source": [
    "table(diabete_data$admission_source_id, exclude = NULL)"
   ]
  },
  {
   "cell_type": "code",
   "execution_count": 47,
   "metadata": {
    "ExecuteTime": {
     "end_time": "2019-11-22T18:22:42.108066Z",
     "start_time": "2019-11-22T18:22:39.212Z"
    }
   },
   "outputs": [],
   "source": [
    "# Missing values\n",
    "diabete_data$admission_source_id[diabete_data$admission_source_id == 9] <- NA\n",
    "diabete_data$admission_source_id[diabete_data$admission_source_id == 15] <- NA\n",
    "diabete_data$admission_source_id[diabete_data$admission_source_id == 17] <- NA\n",
    "diabete_data$admission_source_id[diabete_data$admission_source_id == 20] <- NA\n",
    "diabete_data$admission_source_id[diabete_data$admission_source_id == 21] <- NA"
   ]
  },
  {
   "cell_type": "code",
   "execution_count": 48,
   "metadata": {
    "ExecuteTime": {
     "end_time": "2019-11-22T18:22:42.140725Z",
     "start_time": "2019-11-22T18:22:39.215Z"
    }
   },
   "outputs": [],
   "source": [
    "# convert less common values to 'Other'\n",
    "diabete_data$admission_source_id[diabete_data$admission_source_id==8 \n",
    "                                | diabete_data$admission_source_id==10\n",
    "                                | diabete_data$admission_source_id==11\n",
    "                                | diabete_data$admission_source_id==13\n",
    "                                | diabete_data$admission_source_id==14\n",
    "                                | diabete_data$admission_source_id==22\n",
    "                                | diabete_data$admission_source_id==25] <- 0"
   ]
  },
  {
   "cell_type": "code",
   "execution_count": 49,
   "metadata": {
    "ExecuteTime": {
     "end_time": "2019-11-22T18:22:42.224203Z",
     "start_time": "2019-11-22T18:22:39.217Z"
    }
   },
   "outputs": [
    {
     "data": {
      "text/plain": [
       "\n",
       "    0     1     2     3     4     5     6     7  <NA> \n",
       "   43 29565  1104   187  3187   855  2264 57494  7067 "
      ]
     },
     "metadata": {},
     "output_type": "display_data"
    }
   ],
   "source": [
    "table(diabete_data$admission_source_id, exclude = NULL)"
   ]
  },
  {
   "cell_type": "code",
   "execution_count": 50,
   "metadata": {
    "ExecuteTime": {
     "end_time": "2019-11-22T18:22:42.413332Z",
     "start_time": "2019-11-22T18:22:39.220Z"
    }
   },
   "outputs": [],
   "source": [
    "# Create 'admission_source'\n",
    "diabete_data <- mutate(diabete_data, admission_source = ifelse(admission_source_id == 0, 'Other', \n",
    "                                            ifelse(admission_source_id == 1, 'Physician_Referral',\n",
    "                                            ifelse(admission_source_id == 2, 'Clinic_Referral',\n",
    "                                            ifelse(admission_source_id == 3, 'HMO_Referral',\n",
    "                                            ifelse(admission_source_id == 4, 'Transfer_from_Hospital',\n",
    "                                            ifelse(admission_source_id == 5, 'Transfer_from_SNF',\n",
    "                                            ifelse(admission_source_id == 6, 'Transfer_from_Healthcare_Facility',\n",
    "                                            ifelse(admission_source_id == 7, 'Emergency_Room', NA)))))))))"
   ]
  },
  {
   "cell_type": "code",
   "execution_count": 51,
   "metadata": {
    "ExecuteTime": {
     "end_time": "2019-11-22T18:22:42.438900Z",
     "start_time": "2019-11-22T18:22:39.223Z"
    }
   },
   "outputs": [
    {
     "data": {
      "text/html": [
       "<table>\n",
       "<caption>A data.frame: 6 × 2</caption>\n",
       "<thead>\n",
       "\t<tr><th scope=col>admission_source_id</th><th scope=col>admission_source</th></tr>\n",
       "\t<tr><th scope=col>&lt;dbl&gt;</th><th scope=col>&lt;chr&gt;</th></tr>\n",
       "</thead>\n",
       "<tbody>\n",
       "\t<tr><td>1</td><td>Physician_Referral</td></tr>\n",
       "\t<tr><td>7</td><td>Emergency_Room    </td></tr>\n",
       "\t<tr><td>7</td><td>Emergency_Room    </td></tr>\n",
       "\t<tr><td>7</td><td>Emergency_Room    </td></tr>\n",
       "\t<tr><td>7</td><td>Emergency_Room    </td></tr>\n",
       "\t<tr><td>2</td><td>Clinic_Referral   </td></tr>\n",
       "</tbody>\n",
       "</table>\n"
      ],
      "text/latex": [
       "A data.frame: 6 × 2\n",
       "\\begin{tabular}{r|ll}\n",
       " admission\\_source\\_id & admission\\_source\\\\\n",
       " <dbl> & <chr>\\\\\n",
       "\\hline\n",
       "\t 1 & Physician\\_Referral\\\\\n",
       "\t 7 & Emergency\\_Room    \\\\\n",
       "\t 7 & Emergency\\_Room    \\\\\n",
       "\t 7 & Emergency\\_Room    \\\\\n",
       "\t 7 & Emergency\\_Room    \\\\\n",
       "\t 2 & Clinic\\_Referral   \\\\\n",
       "\\end{tabular}\n"
      ],
      "text/markdown": [
       "\n",
       "A data.frame: 6 × 2\n",
       "\n",
       "| admission_source_id &lt;dbl&gt; | admission_source &lt;chr&gt; |\n",
       "|---|---|\n",
       "| 1 | Physician_Referral |\n",
       "| 7 | Emergency_Room     |\n",
       "| 7 | Emergency_Room     |\n",
       "| 7 | Emergency_Room     |\n",
       "| 7 | Emergency_Room     |\n",
       "| 2 | Clinic_Referral    |\n",
       "\n"
      ],
      "text/plain": [
       "  admission_source_id admission_source  \n",
       "1 1                   Physician_Referral\n",
       "2 7                   Emergency_Room    \n",
       "3 7                   Emergency_Room    \n",
       "4 7                   Emergency_Room    \n",
       "5 7                   Emergency_Room    \n",
       "6 2                   Clinic_Referral   "
      ]
     },
     "metadata": {},
     "output_type": "display_data"
    }
   ],
   "source": [
    "head(diabete_data[c('admission_source_id', 'admission_source')])"
   ]
  },
  {
   "cell_type": "code",
   "execution_count": 52,
   "metadata": {
    "ExecuteTime": {
     "end_time": "2019-11-22T18:22:42.471027Z",
     "start_time": "2019-11-22T18:22:39.225Z"
    }
   },
   "outputs": [
    {
     "data": {
      "text/plain": [
       "\n",
       "    1     2     3     4     5     6     7     8 \n",
       "53990 18480 18869    10  4785  5291    21   320 "
      ]
     },
     "metadata": {},
     "output_type": "display_data"
    }
   ],
   "source": [
    "table(diabete_data$admission_type_id, exclude = NULL)"
   ]
  },
  {
   "cell_type": "code",
   "execution_count": 53,
   "metadata": {
    "ExecuteTime": {
     "end_time": "2019-11-22T18:22:42.507289Z",
     "start_time": "2019-11-22T18:22:39.228Z"
    }
   },
   "outputs": [],
   "source": [
    "# Missing values\n",
    "diabete_data$admission_type_id[diabete_data$admission_type_id == 5] <- NA # Not Available\n",
    "diabete_data$admission_type_id[diabete_data$admission_type_id == 6] <- NA # NULL\n",
    "diabete_data$admission_type_id[diabete_data$admission_type_id == 8] <- NA # Not Mapped"
   ]
  },
  {
   "cell_type": "code",
   "execution_count": 54,
   "metadata": {
    "ExecuteTime": {
     "end_time": "2019-11-22T18:22:42.540347Z",
     "start_time": "2019-11-22T18:22:39.230Z"
    }
   },
   "outputs": [],
   "source": [
    "# convert less common values to 'Other'\n",
    "diabete_data$admission_type_id[diabete_data$admission_type_id==4 \n",
    "                                | diabete_data$admission_type_id==7] <- 0"
   ]
  },
  {
   "cell_type": "code",
   "execution_count": 55,
   "metadata": {
    "ExecuteTime": {
     "end_time": "2019-11-22T18:22:42.639066Z",
     "start_time": "2019-11-22T18:22:39.233Z"
    }
   },
   "outputs": [
    {
     "data": {
      "text/plain": [
       "\n",
       "    0     1     2     3  <NA> \n",
       "   31 53990 18480 18869 10396 "
      ]
     },
     "metadata": {},
     "output_type": "display_data"
    }
   ],
   "source": [
    "table(diabete_data$admission_type_id, exclude = NULL)"
   ]
  },
  {
   "cell_type": "code",
   "execution_count": 56,
   "metadata": {
    "ExecuteTime": {
     "end_time": "2019-11-22T18:22:45.801159Z",
     "start_time": "2019-11-22T18:22:45.684Z"
    }
   },
   "outputs": [],
   "source": [
    "# Create 'admission_type'\n",
    "diabete_data <- mutate(diabete_data, admission_type = ifelse(admission_type_id == 0, 'Other', \n",
    "                                            ifelse(admission_type_id == 1, 'Emergency',\n",
    "                                            ifelse(admission_type_id == 2, 'Urgent',\n",
    "                                            ifelse(admission_type_id == 3, 'Elective', NA)))))"
   ]
  },
  {
   "cell_type": "code",
   "execution_count": 58,
   "metadata": {
    "ExecuteTime": {
     "end_time": "2019-11-22T18:23:02.235218Z",
     "start_time": "2019-11-22T18:23:02.205Z"
    }
   },
   "outputs": [
    {
     "data": {
      "text/html": [
       "<table>\n",
       "<caption>A data.frame: 6 × 2</caption>\n",
       "<thead>\n",
       "\t<tr><th scope=col>admission_type_id</th><th scope=col>admission_type</th></tr>\n",
       "\t<tr><th scope=col>&lt;dbl&gt;</th><th scope=col>&lt;chr&gt;</th></tr>\n",
       "</thead>\n",
       "<tbody>\n",
       "\t<tr><td>NA</td><td>NA       </td></tr>\n",
       "\t<tr><td> 1</td><td>Emergency</td></tr>\n",
       "\t<tr><td> 1</td><td>Emergency</td></tr>\n",
       "\t<tr><td> 1</td><td>Emergency</td></tr>\n",
       "\t<tr><td> 1</td><td>Emergency</td></tr>\n",
       "\t<tr><td> 2</td><td>Urgent   </td></tr>\n",
       "</tbody>\n",
       "</table>\n"
      ],
      "text/latex": [
       "A data.frame: 6 × 2\n",
       "\\begin{tabular}{r|ll}\n",
       " admission\\_type\\_id & admission\\_type\\\\\n",
       " <dbl> & <chr>\\\\\n",
       "\\hline\n",
       "\t NA & NA       \\\\\n",
       "\t  1 & Emergency\\\\\n",
       "\t  1 & Emergency\\\\\n",
       "\t  1 & Emergency\\\\\n",
       "\t  1 & Emergency\\\\\n",
       "\t  2 & Urgent   \\\\\n",
       "\\end{tabular}\n"
      ],
      "text/markdown": [
       "\n",
       "A data.frame: 6 × 2\n",
       "\n",
       "| admission_type_id &lt;dbl&gt; | admission_type &lt;chr&gt; |\n",
       "|---|---|\n",
       "| NA | NA        |\n",
       "|  1 | Emergency |\n",
       "|  1 | Emergency |\n",
       "|  1 | Emergency |\n",
       "|  1 | Emergency |\n",
       "|  2 | Urgent    |\n",
       "\n"
      ],
      "text/plain": [
       "  admission_type_id admission_type\n",
       "1 NA                NA            \n",
       "2  1                Emergency     \n",
       "3  1                Emergency     \n",
       "4  1                Emergency     \n",
       "5  1                Emergency     \n",
       "6  2                Urgent        "
      ]
     },
     "metadata": {},
     "output_type": "display_data"
    }
   ],
   "source": [
    "head(diabete_data[c('admission_type_id', 'admission_type')])"
   ]
  },
  {
   "cell_type": "code",
   "execution_count": 59,
   "metadata": {
    "ExecuteTime": {
     "end_time": "2019-11-22T18:23:35.922714Z",
     "start_time": "2019-11-22T18:23:35.894Z"
    }
   },
   "outputs": [
    {
     "data": {
      "text/plain": [
       "\n",
       "    1     2     3     4     5     6     7     8     9    10    11    12    13 \n",
       "60234  2128 13954   815  1184 12902   623   108    21     6  1642     3   399 \n",
       "   14    15    16    17    18    19    20    22    23    24    25    27    28 \n",
       "  372    63    11    14  3691     8     2  1993   412    48   989     5   139 "
      ]
     },
     "metadata": {},
     "output_type": "display_data"
    }
   ],
   "source": [
    "table(diabete_data$discharge_disposition_id, exclude = NULL)"
   ]
  },
  {
   "cell_type": "code",
   "execution_count": 60,
   "metadata": {
    "ExecuteTime": {
     "end_time": "2019-11-22T18:25:30.508250Z",
     "start_time": "2019-11-22T18:25:30.482Z"
    }
   },
   "outputs": [],
   "source": [
    "# Missing values\n",
    "diabete_data$discharge_disposition_id[diabete_data$discharge_disposition_id == 18] <- NA # NULL\n",
    "diabete_data$discharge_disposition_id[diabete_data$discharge_disposition_id == 25] <- NA # Not Mapped\n",
    "diabete_data$discharge_disposition_id[diabete_data$discharge_disposition_id == 26] <- NA # Unknown/Invalid\n"
   ]
  },
  {
   "cell_type": "code",
   "execution_count": 62,
   "metadata": {
    "ExecuteTime": {
     "end_time": "2019-11-22T18:32:36.508672Z",
     "start_time": "2019-11-22T18:32:36.470Z"
    }
   },
   "outputs": [],
   "source": [
    "# convert less common values to 'Other'\n",
    "diabete_data$discharge_disposition_id[diabete_data$discharge_disposition_id==9 \n",
    "                                     | diabete_data$discharge_disposition_id==10\n",
    "                                     | diabete_data$discharge_disposition_id==12\n",
    "                                     | diabete_data$discharge_disposition_id==15\n",
    "                                     | diabete_data$discharge_disposition_id==16\n",
    "                                     | diabete_data$discharge_disposition_id==17\n",
    "                                     | diabete_data$discharge_disposition_id==19\n",
    "                                     | diabete_data$discharge_disposition_id==20\n",
    "                                     | diabete_data$discharge_disposition_id==24\n",
    "                                     | diabete_data$discharge_disposition_id==27] <- 0"
   ]
  },
  {
   "cell_type": "code",
   "execution_count": 63,
   "metadata": {
    "ExecuteTime": {
     "end_time": "2019-11-22T18:32:47.684777Z",
     "start_time": "2019-11-22T18:32:47.574Z"
    }
   },
   "outputs": [
    {
     "data": {
      "text/plain": [
       "\n",
       "    0     1     2     3     4     5     6     7     8    11    13    14    22 \n",
       "  181 60234  2128 13954   815  1184 12902   623   108  1642   399   372  1993 \n",
       "   23    28  <NA> \n",
       "  412   139  4680 "
      ]
     },
     "metadata": {},
     "output_type": "display_data"
    }
   ],
   "source": [
    "table(diabete_data$discharge_disposition_id, exclude = NULL)"
   ]
  },
  {
   "cell_type": "code",
   "execution_count": 65,
   "metadata": {
    "ExecuteTime": {
     "end_time": "2019-11-22T18:41:38.942992Z",
     "start_time": "2019-11-22T18:41:38.578Z"
    }
   },
   "outputs": [],
   "source": [
    "# Create 'discharge_disposition'\n",
    "diabete_data <- mutate(diabete_data, discharge_disposition = ifelse(discharge_disposition_id == 0, 'Other', \n",
    "                                            ifelse(discharge_disposition_id == 1, 'Home',\n",
    "                                            ifelse(discharge_disposition_id == 2, 'Short_term_hospital',\n",
    "                                            ifelse(discharge_disposition_id == 3, 'SNF',\n",
    "                                            ifelse(discharge_disposition_id == 4, 'ICF',\n",
    "                                            ifelse(discharge_disposition_id == 5, 'another_type_of_inpatient_care_institution',\n",
    "                                            ifelse(discharge_disposition_id == 6, 'Home_with_home_health_service',\n",
    "                                            ifelse(discharge_disposition_id == 7, 'Left_AMA',\n",
    "                                            ifelse(discharge_disposition_id == 8, 'home_under_care_of_home_IV_provider',\n",
    "                                            ifelse(discharge_disposition_id == 11, 'Expired',\n",
    "                                            ifelse(discharge_disposition_id == 13, 'Hospice/Home',\n",
    "                                            ifelse(discharge_disposition_id == 14, 'Hospice/Medical_facility',\n",
    "                                            ifelse(discharge_disposition_id == 22, 'Another_rehab_fac_including_rehab_units_of_a_hospital',\n",
    "                                            ifelse(discharge_disposition_id == 23, 'Long_term_care_hospital',\n",
    "                                            ifelse(discharge_disposition_id == 28, 'Psychiatric_hospital_of_psychiatric_distinct_part_unit_of_a_hospital',\n",
    "                                                   NA))))))))))))))))"
   ]
  },
  {
   "cell_type": "code",
   "execution_count": 66,
   "metadata": {
    "ExecuteTime": {
     "end_time": "2019-11-22T18:42:10.082934Z",
     "start_time": "2019-11-22T18:42:10.057Z"
    }
   },
   "outputs": [
    {
     "data": {
      "text/html": [
       "<table>\n",
       "<caption>A data.frame: 6 × 2</caption>\n",
       "<thead>\n",
       "\t<tr><th scope=col>discharge_disposition_id</th><th scope=col>discharge_disposition</th></tr>\n",
       "\t<tr><th scope=col>&lt;dbl&gt;</th><th scope=col>&lt;chr&gt;</th></tr>\n",
       "</thead>\n",
       "<tbody>\n",
       "\t<tr><td>NA</td><td>NA  </td></tr>\n",
       "\t<tr><td> 1</td><td>Home</td></tr>\n",
       "\t<tr><td> 1</td><td>Home</td></tr>\n",
       "\t<tr><td> 1</td><td>Home</td></tr>\n",
       "\t<tr><td> 1</td><td>Home</td></tr>\n",
       "\t<tr><td> 1</td><td>Home</td></tr>\n",
       "</tbody>\n",
       "</table>\n"
      ],
      "text/latex": [
       "A data.frame: 6 × 2\n",
       "\\begin{tabular}{r|ll}\n",
       " discharge\\_disposition\\_id & discharge\\_disposition\\\\\n",
       " <dbl> & <chr>\\\\\n",
       "\\hline\n",
       "\t NA & NA  \\\\\n",
       "\t  1 & Home\\\\\n",
       "\t  1 & Home\\\\\n",
       "\t  1 & Home\\\\\n",
       "\t  1 & Home\\\\\n",
       "\t  1 & Home\\\\\n",
       "\\end{tabular}\n"
      ],
      "text/markdown": [
       "\n",
       "A data.frame: 6 × 2\n",
       "\n",
       "| discharge_disposition_id &lt;dbl&gt; | discharge_disposition &lt;chr&gt; |\n",
       "|---|---|\n",
       "| NA | NA   |\n",
       "|  1 | Home |\n",
       "|  1 | Home |\n",
       "|  1 | Home |\n",
       "|  1 | Home |\n",
       "|  1 | Home |\n",
       "\n"
      ],
      "text/plain": [
       "  discharge_disposition_id discharge_disposition\n",
       "1 NA                       NA                   \n",
       "2  1                       Home                 \n",
       "3  1                       Home                 \n",
       "4  1                       Home                 \n",
       "5  1                       Home                 \n",
       "6  1                       Home                 "
      ]
     },
     "metadata": {},
     "output_type": "display_data"
    }
   ],
   "source": [
    "head(diabete_data[c('discharge_disposition_id', 'discharge_disposition')])"
   ]
  },
  {
   "cell_type": "code",
   "execution_count": 69,
   "metadata": {
    "ExecuteTime": {
     "end_time": "2019-11-22T18:44:40.954035Z",
     "start_time": "2019-11-22T18:44:40.886Z"
    }
   },
   "outputs": [
    {
     "name": "stdout",
     "output_type": "stream",
     "text": [
      "Conversion complete!"
     ]
    }
   ],
   "source": [
    "diabete_data$admission_source <- as.factor(diabete_data$admission_source)\n",
    "diabete_data$admission_type <- as.factor(diabete_data$admission_type)\n",
    "diabete_data$discharge_disposition <- as.factor(diabete_data$discharge_disposition)\n",
    "\n",
    "cat('Conversion complete!')"
   ]
  },
  {
   "cell_type": "code",
   "execution_count": 71,
   "metadata": {
    "ExecuteTime": {
     "end_time": "2019-11-22T18:47:33.158410Z",
     "start_time": "2019-11-22T18:47:32.826Z"
    }
   },
   "outputs": [
    {
     "data": {
      "text/plain": [
       "  patient_nbr                     race                   gender     \n",
       " Min.   :      135   ?              :    0   Female         :54708  \n",
       " 1st Qu.: 23413221   AfricanAmerican:19210   Male           :47055  \n",
       " Median : 45505143   Asian          :  641   Unknown/Invalid:    3  \n",
       " Mean   : 54330401   Caucasian      :76099                          \n",
       " 3rd Qu.: 87545950   Hispanic       : 2037                          \n",
       " Max.   :189502619   Other          : 1506                          \n",
       "                     NA's           : 2273                          \n",
       "      age              weight      admission_type_id discharge_disposition_id\n",
       " [70-80):26068   [75-100) : 1336   Min.   :0.000     Min.   : 0.000          \n",
       " [60-70):22483   [50-75)  :  897   1st Qu.:1.000     1st Qu.: 1.000          \n",
       " [50-60):17256   [100-125):  625   Median :1.000     Median : 1.000          \n",
       " [80-90):17197   [125-150):  145   Mean   :1.615     Mean   : 2.924          \n",
       " [40-50): 9685   [25-50)  :   97   3rd Qu.:2.000     3rd Qu.: 3.000          \n",
       " [30-40): 3775   (Other)  :   97   Max.   :3.000     Max.   :28.000          \n",
       " (Other): 5302   NA's     :98569   NA's   :10396     NA's   :4680            \n",
       " admission_source_id time_in_hospital   payer_code   \n",
       " Min.   :0.000       Min.   : 1.000   MC     :32439  \n",
       " 1st Qu.:1.000       1st Qu.: 2.000   HM     : 6274  \n",
       " Median :7.000       Median : 4.000   SP     : 5007  \n",
       " Mean   :4.915       Mean   : 4.396   BC     : 4655  \n",
       " 3rd Qu.:7.000       3rd Qu.: 6.000   MD     : 3532  \n",
       " Max.   :7.000       Max.   :14.000   (Other): 9603  \n",
       " NA's   :7067                         NA's   :40256  \n",
       "              medical_specialty num_lab_procedures num_procedures\n",
       " InternalMedicine      :14635   Min.   :  1.0      Min.   :0.00  \n",
       " Emergency/Trauma      : 7565   1st Qu.: 31.0      1st Qu.:0.00  \n",
       " Family/GeneralPractice: 7440   Median : 44.0      Median :1.00  \n",
       " Cardiology            : 5352   Mean   : 43.1      Mean   :1.34  \n",
       " Surgery-General       : 3099   3rd Qu.: 57.0      3rd Qu.:2.00  \n",
       " (Other)               :13726   Max.   :132.0      Max.   :6.00  \n",
       " NA's                  :49949                                    \n",
       " num_medications number_outpatient number_emergency  number_inpatient \n",
       " Min.   : 1.00   Min.   : 0.0000   Min.   : 0.0000   Min.   : 0.0000  \n",
       " 1st Qu.:10.00   1st Qu.: 0.0000   1st Qu.: 0.0000   1st Qu.: 0.0000  \n",
       " Median :15.00   Median : 0.0000   Median : 0.0000   Median : 0.0000  \n",
       " Mean   :16.02   Mean   : 0.3694   Mean   : 0.1978   Mean   : 0.6356  \n",
       " 3rd Qu.:20.00   3rd Qu.: 0.0000   3rd Qu.: 0.0000   3rd Qu.: 1.0000  \n",
       " Max.   :81.00   Max.   :42.0000   Max.   :76.0000   Max.   :21.0000  \n",
       "                                                                      \n",
       "     diag_1          diag_2          diag_3      number_diagnoses max_glu_serum\n",
       " 428    : 6862   276    : 6752   250    :11555   Min.   : 1.000   >200: 1485   \n",
       " 414    : 6581   428    : 6662   401    : 8289   1st Qu.: 6.000   >300: 1264   \n",
       " 786    : 4016   250    : 6071   276    : 5175   Median : 8.000   None:    0   \n",
       " 410    : 3614   427    : 5036   428    : 4577   Mean   : 7.423   Norm: 2597   \n",
       " 486    : 3508   401    : 3736   427    : 3955   3rd Qu.: 9.000   NA's:96420   \n",
       " (Other):77164   (Other):73151   (Other):66792   Max.   :16.000                \n",
       " NA's   :   21   NA's   :  358   NA's   : 1423                                 \n",
       " A1Cresult     metformin     repaglinide     nateglinide     chlorpropamide \n",
       " >7  : 3812   Down  :  575   Down  :    45   Down  :    11   Down  :     1  \n",
       " >8  : 8216   No    :81778   No    :100227   No    :101063   No    :101680  \n",
       " None:    0   Steady:18346   Steady:  1384   Steady:   668   Steady:    79  \n",
       " Norm: 4990   Up    : 1067   Up    :   110   Up    :    24   Up    :     6  \n",
       " NA's:84748                                                                 \n",
       "                                                                            \n",
       "                                                                            \n",
       " glimepiride    acetohexamide    glipizide      glyburide     tolbutamide    \n",
       " Down  :  194   No    :101765   Down  :  560   Down  :  564   No    :101743  \n",
       " No    :96575   Steady:     1   No    :89080   No    :91116   Steady:    23  \n",
       " Steady: 4670                   Steady:11356   Steady: 9274                  \n",
       " Up    :  327                   Up    :  770   Up    :  812                  \n",
       "                                                                             \n",
       "                                                                             \n",
       "                                                                             \n",
       " pioglitazone   rosiglitazone    acarbose        miglitol      troglitazone   \n",
       " Down  :  118   Down  :   87   Down  :     3   Down  :     5   No    :101763  \n",
       " No    :94438   No    :95401   No    :101458   No    :101728   Steady:     3  \n",
       " Steady: 6976   Steady: 6100   Steady:   295   Steady:    31                  \n",
       " Up    :  234   Up    :  178   Up    :    10   Up    :     2                  \n",
       "                                                                              \n",
       "                                                                              \n",
       "                                                                              \n",
       "  tolazamide     examide     citoglipton   insulin      glyburide.metformin\n",
       " No    :101727   No:101766   No:101766   Down  :12218   Down  :     6      \n",
       " Steady:    38                           No    :47383   No    :101060      \n",
       " Up    :     1                           Steady:30849   Steady:   692      \n",
       "                                         Up    :11316   Up    :     8      \n",
       "                                                                           \n",
       "                                                                           \n",
       "                                                                           \n",
       " glipizide.metformin glimepiride.pioglitazone metformin.rosiglitazone\n",
       " No    :101753       No    :101765            No    :101764          \n",
       " Steady:    13       Steady:     1            Steady:     2          \n",
       "                                                                     \n",
       "                                                                     \n",
       "                                                                     \n",
       "                                                                     \n",
       "                                                                     \n",
       " metformin.pioglitazone change     diabetesMed readmitted \n",
       " No    :101765          Ch:47011   No :23403   <30:11357  \n",
       " Steady:     1          No:54755   Yes:78363   >30:35545  \n",
       "                                               NO :54864  \n",
       "                                                          \n",
       "                                                          \n",
       "                                                          \n",
       "                                                          \n",
       "                          admission_source   admission_type \n",
       " Emergency_Room                   :57494   Elective :18869  \n",
       " Physician_Referral               :29565   Emergency:53990  \n",
       " Transfer_from_Hospital           : 3187   Other    :   31  \n",
       " Transfer_from_Healthcare_Facility: 2264   Urgent   :18480  \n",
       " Clinic_Referral                  : 1104   NA's     :10396  \n",
       " (Other)                          : 1085                    \n",
       " NA's                             : 7067                    \n",
       "                                           discharge_disposition\n",
       " Home                                                 :60234    \n",
       " SNF                                                  :13954    \n",
       " Home_with_home_health_service                        :12902    \n",
       " Short_term_hospital                                  : 2128    \n",
       " Another_rehab_fac_including_rehab_units_of_a_hospital: 1993    \n",
       " (Other)                                              : 5875    \n",
       " NA's                                                 : 4680    "
      ]
     },
     "metadata": {},
     "output_type": "display_data"
    }
   ],
   "source": [
    "summary(diabete_data[,-1])"
   ]
  },
  {
   "cell_type": "code",
   "execution_count": null,
   "metadata": {},
   "outputs": [],
   "source": []
  }
 ],
 "metadata": {
  "kernelspec": {
   "display_name": "R",
   "language": "R",
   "name": "ir"
  },
  "language_info": {
   "codemirror_mode": "r",
   "file_extension": ".r",
   "mimetype": "text/x-r-source",
   "name": "R",
   "pygments_lexer": "r",
   "version": "3.6.1"
  },
  "latex_envs": {
   "LaTeX_envs_menu_present": true,
   "autoclose": false,
   "autocomplete": true,
   "bibliofile": "biblio.bib",
   "cite_by": "apalike",
   "current_citInitial": 1,
   "eqLabelWithNumbers": true,
   "eqNumInitial": 1,
   "hotkeys": {
    "equation": "Ctrl-E",
    "itemize": "Ctrl-I"
   },
   "labels_anchors": false,
   "latex_user_defs": false,
   "report_style_numbering": false,
   "user_envs_cfg": false
  },
  "toc": {
   "base_numbering": 1,
   "nav_menu": {},
   "number_sections": true,
   "sideBar": true,
   "skip_h1_title": false,
   "title_cell": "Table of Contents",
   "title_sidebar": "Contents",
   "toc_cell": false,
   "toc_position": {},
   "toc_section_display": true,
   "toc_window_display": false
  }
 },
 "nbformat": 4,
 "nbformat_minor": 2
}
