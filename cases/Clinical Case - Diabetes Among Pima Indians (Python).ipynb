{
 "cells": [
  {
   "cell_type": "markdown",
   "metadata": {
    "heading_collapsed": true
   },
   "source": [
    "# Introduction"
   ]
  },
  {
   "cell_type": "markdown",
   "metadata": {
    "cell_style": "center",
    "hidden": true
   },
   "source": [
    "<p align=\"justify\">Welcome! In this case we'll be exploring how to use advanced analytic and machine learning techniques to predict diabetes among the Pima Indian population. \n",
    "<br>\n",
    "<br>\n",
    "<details>\n",
    "<summary>Some of the skills you'll explore are (Click to Expand):</summary>\n",
    "<ul>\n",
    "    <li>Python Programming</li>\n",
    "    <li>Data Cleaning</li>\n",
    "    <li>Exploratory Data Analysis</li>\n",
    "    <li>Data Visualization</li>\n",
    "    <li>Leveraging Domain Knowledge</li>\n",
    "    <li>Machine Learning</li>\n",
    "    <li>Gradient Boosting Machines</li>\n",
    "</details><br>\n",
    "Don't worry if you're unsure what some of these terms are. They'll be explained throughout the case. Let's begin! \n",
    "<img src=\"https://i.stack.imgur.com/zlAi2.png\" style=\"float: left; width: 33%; margin-right: 1%; margin-bottom: 0.5em;\">\n",
    "<img src=\"https://cdn.images.express.co.uk/img/dynamic/11/590x/Diabetes-symptoms-870995.jpg\" style=\"float: left; width: 35%; margin-bottom: 0.5em;\">\n",
    "<img src=\"https://46gyn61z4i0t1u1pnq2bbk2e-wpengine.netdna-ssl.com/wp-content/uploads/2018/11/sankey-diagram-1.png\" style=\"float: left; width: 28%; margin-left: 1%; margin-bottom: 0.5em;\">"
   ]
  },
  {
   "cell_type": "markdown",
   "metadata": {
    "heading_collapsed": true,
    "hidden": true,
    "toc-hr-collapsed": true
   },
   "source": [
    "## Case Scenario"
   ]
  },
  {
   "cell_type": "markdown",
   "metadata": {
    "hidden": true
   },
   "source": [
    "Imagine you're a program officer for the Indian Health Service (IHS). Your state has recently obtained a federal grant aimed at improving health equity. This includes improving care among traditionally disadvantaged groups. From working within the IHS for several years now, you know that American Indians are more likely to suffer from metabolic diseases, particularly diabetes. \n",
    "\n",
    "<img width=\"500\" height=325 src=\"https://upload.wikimedia.org/wikipedia/commons/thumb/7/73/Indian_Health_Service_Logo.svg/1200px-Indian_Health_Service_Logo.svg.png\">\n",
    "\n",
    "With this grant, you now have the chance to leverage new technologies in analytics and machine learning to improve care among this group. If you can predict diabetes in patients before it manifests symptomatically, you can target preventative services toward this population\n",
    "\n",
    "Continue the case to find out how"
   ]
  },
  {
   "cell_type": "markdown",
   "metadata": {
    "heading_collapsed": true,
    "hidden": true
   },
   "source": [
    "### Extra: What is Diabetes?"
   ]
  },
  {
   "cell_type": "markdown",
   "metadata": {
    "hidden": true
   },
   "source": [
    "Diabetes describes a group of metabolic disorders that is characterized by abnormally high blood glucose (blood sugar). Insulin is a critical hormone that allows the body to take up glucose and use it as energy. Diabetes occurs when your body does not produce enough insulin or cannot use insulin well. When this happens, glucose stays in your blood instead of being used as energy. Over time, this glucose in your blood can lead to various health problems. These can include serious complications such as blindness, limb amputation, and stroke. \n",
    "\n",
    "<img src=\"http://cdn.shopify.com/s/files/1/0582/0445/files/blood-sugar-levels-and-paleo_diagram_of_excessive_blood_glucose.jpg?14686865159083212781\" align=\"center\" style=\"margin-bottom: 0.5em; margin-top: 0.5em;\">\n",
    "\n",
    "Diabetes is common among individuals over 45 years old, have a family history of diabetes, and are overweight. Poor lifestyle choices such as not exercising or smoking can also increase the risk. Diabetes is one of the most common conditions in the United States with over 30 million people suffering from diabetes. The total estimated cost of diabetes to the health care system is estimated to be $327 Billion. Current treatment includes insulin and medication to control blood glucose levels. Lifestyle modifications before the onset of diabetes can make a huge difference in whether a person develops diabetes. Any algorithm which could reliably predict diabetes could give providers critical information to intervene before a patient has diabetes."
   ]
  },
  {
   "cell_type": "markdown",
   "metadata": {
    "heading_collapsed": true,
    "hidden": true
   },
   "source": [
    "## How To Run The Case (Do Not Skip)"
   ]
  },
  {
   "cell_type": "markdown",
   "metadata": {
    "hidden": true
   },
   "source": [
    "Before we begin the case, we need to know how to use Jupyter Notebook and run the case. First, look for the the `Run` button. The location of the `Run` button is shown below and can be found in the tool bar above. "
   ]
  },
  {
   "cell_type": "markdown",
   "metadata": {
    "cell_style": "center",
    "hidden": true
   },
   "source": [
    "<img src=\"https://i.imgur.com/jr4dpLW.png\">"
   ]
  },
  {
   "cell_type": "markdown",
   "metadata": {
    "hidden": true
   },
   "source": [
    "The cell below is a code cell. You will be running numerous code cells like the one below throughout the case. Select the cell and select the run button above. "
   ]
  },
  {
   "cell_type": "code",
   "execution_count": null,
   "metadata": {
    "ExecuteTime": {
     "end_time": "2020-03-04T19:32:34.429668Z",
     "start_time": "2020-03-04T19:32:34.422987Z"
    },
    "cell_style": "center",
    "hidden": true
   },
   "outputs": [],
   "source": [
    "# This is an example of a code cell\n",
    "print('Congratulations!')\n",
    "print('You\\'ve run your first code cell.')\n"
   ]
  },
  {
   "cell_type": "markdown",
   "metadata": {
    "hidden": true
   },
   "source": [
    "<img width = 50 height = 50 style=\"float: left; margin-right: 10px;\" src=\"https://upload.wikimedia.org/wikipedia/commons/b/b9/Stop_sign_dark_red.svg\">Stop! If you have not learned to run a code cell, restart this section. You will not be able to go through the case at all if you are unable to run code cells. Otherwise, it's time to meet our data!"
   ]
  },
  {
   "cell_type": "markdown",
   "metadata": {
    "heading_collapsed": true,
    "hidden": true
   },
   "source": [
    "## Meeting Our Data"
   ]
  },
  {
   "cell_type": "markdown",
   "metadata": {
    "hidden": true
   },
   "source": [
    "We'll be using a set of patient data made available by the National Institute of Diabetes and Digestive and Kidney Diseases. It's important to note that several constraints were made in order to acquire the dataset. All patients are female, at least 21 years old, and of Pima Indian heritage. The variables selected were chosen due to being significant risk factors for diabetes among Pimas or other population groups. The data is hosted on [kaggle](https://www.kaggle.com/uciml/pima-indians-diabetes-database), a data science community website. \n",
    "\n",
    "**Acknowledgements** <br>\n",
    "Smith, J.W., Everhart, J.E., Dickson, W.C., Knowler, W.C., & Johannes, R.S. (1988). Using the ADAP learning algorithm to forecast the onset of diabetes mellitus. In Proceedings of the Symposium on Computer Applications and Medical Care (pp. 261--265). IEEE Computer Society Press."
   ]
  },
  {
   "cell_type": "markdown",
   "metadata": {
    "heading_collapsed": true,
    "hidden": true
   },
   "source": [
    "### Data First Look"
   ]
  },
  {
   "cell_type": "markdown",
   "metadata": {
    "hidden": true
   },
   "source": [
    "Lets get a first glimpse of our data."
   ]
  },
  {
   "cell_type": "code",
   "execution_count": null,
   "metadata": {
    "hidden": true
   },
   "outputs": [],
   "source": [
    "import pandas as pd\n",
    "pima_diabetes = pd.read_csv(\"data/diabetes.csv\",  encoding=\"UTF-8\", sep=\",\")\n",
    "pima_diabetes.head()"
   ]
  },
  {
   "cell_type": "markdown",
   "metadata": {
    "hidden": true
   },
   "source": [
    "What do you notice? Do you notice anything unusual about the data? Don't worry if you don't notice anything. We will be getting to know our data better as we go through the case. "
   ]
  },
  {
   "cell_type": "markdown",
   "metadata": {
    "heading_collapsed": true,
    "hidden": true
   },
   "source": [
    "### Data Variable Information (Consulting the Data Dictionary)"
   ]
  },
  {
   "cell_type": "markdown",
   "metadata": {
    "hidden": true
   },
   "source": [
    "There are several variables or labels which you might not understand. The way to combat this is by consulting the data dictionary. \n",
    "\n",
    "> A data dictionary describes a dataset and provides information on the meaning of each variable. Always look for documentation or a data dictionary before starting an analysis."
   ]
  },
  {
   "cell_type": "markdown",
   "metadata": {
    "hidden": true
   },
   "source": [
    "Unfortunately, no documentation is provided on the original data page. However, the original study the data comes from is available [here](https://www.ncbi.nlm.nih.gov/pmc/articles/PMC2245318/pdf/procascamc00018-0276.pdf). The relevant information has been added below for your convenience. "
   ]
  },
  {
   "cell_type": "markdown",
   "metadata": {
    "hidden": true
   },
   "source": [
    "<center>\n",
    "\n",
    "| *Variable*               | *Definition*                                                         |\n",
    "| ------------------------ | -------------------------------------------------------------------- |\n",
    "| Pregnancies              | Number of times pregnant                                             |\n",
    "| Glucose                  | Plasma glucose concentration following a 2 hour oral glucose tolerance test                                             |\n",
    "| BloodPressure            | Diastolic Blood Pressure (mm Hg)                                     | \n",
    "| SkinThickness            | Triceps Skin Fold Thickness (mm)                                     |\n",
    "| Insulin                  | 2-Hour Serum Insulin Levels                                          |\n",
    "| BMI                      | Weight in kg / (Heigh in m)^2                                        |\n",
    "| DiabetesPedigreeFunction | Measure of expected genetic influence on the subject's diabetes risk |\n",
    "| Age                      | Age (Years)                                                          |\n",
    "| Outcome                  | Diabetes as defined as plasma glucose concentration > 200 mg/dl two hours after ingestion of 75 gram carbohydrate solution |\n",
    "\n",
    "\n",
    "</center>"
   ]
  },
  {
   "cell_type": "markdown",
   "metadata": {
    "heading_collapsed": true
   },
   "source": [
    "# Setup (Do Not Skip)"
   ]
  },
  {
   "cell_type": "markdown",
   "metadata": {
    "hidden": true
   },
   "source": [
    "Run the code below to set up specific settings for our case. Do not skip this step!"
   ]
  },
  {
   "cell_type": "code",
   "execution_count": null,
   "metadata": {
    "ExecuteTime": {
     "end_time": "2020-03-04T19:32:39.048097Z",
     "start_time": "2020-03-04T19:32:35.730557Z"
    },
    "hidden": true
   },
   "outputs": [],
   "source": [
    "# Calling external libraries for additional functionality\n",
    "import pandas as pd\n",
    "import numpy as np\n",
    "import matplotlib.pyplot as plt\n",
    "import seaborn as sns\n",
    "import random\n",
    "import scipy\n",
    "\n",
    "import statsmodels.api as sm\n",
    "from sklearn.ensemble import GradientBoostingClassifier\n",
    "from sklearn.model_selection import train_test_split\n",
    "from sklearn.metrics import roc_curve\n",
    "from sklearn.metrics import auc\n",
    "from sklearn.metrics import confusion_matrix\n",
    "from sklearn.metrics import classification_report\n",
    "from pandas.api.types import CategoricalDtype \n",
    "plt.style.use('fivethirtyeight')\n",
    "# Increase max number of columns displayed in output tables\n",
    "pd.set_option(\"display.max_columns\",50)\n",
    "\n",
    "# Make sure your ML results are the same\n",
    "random.seed(10)\n",
    "\n",
    "print('Setup complete!')"
   ]
  },
  {
   "cell_type": "markdown",
   "metadata": {
    "heading_collapsed": true
   },
   "source": [
    "# Cleaning Our Data"
   ]
  },
  {
   "cell_type": "markdown",
   "metadata": {
    "hidden": true
   },
   "source": [
    "The first step in any analytic project is to clean our data. This is a critical step that is commonly overlooked within data science projects. This is critical for making our data convenient to be interpreted and manipulated. In addition, many analytic techniques require properly formatted data. Finally, healthcare datasets may have data that isn't clinically relevant (ie. raw lab values). Processing can convert these variables into clinically meaningful information. It won't matter how sophisticated our analysis is if we don't properly process our data. A common saying in data science is \"Junk in, Junk out\". "
   ]
  },
  {
   "cell_type": "markdown",
   "metadata": {
    "hidden": true
   },
   "source": [
    "## Inspecting Our Data"
   ]
  },
  {
   "cell_type": "markdown",
   "metadata": {
    "hidden": true
   },
   "source": [
    "We'll read in our data so we can clean and use it. "
   ]
  },
  {
   "cell_type": "code",
   "execution_count": null,
   "metadata": {
    "ExecuteTime": {
     "end_time": "2020-03-04T19:32:39.079658Z",
     "start_time": "2020-03-04T19:32:39.059985Z"
    },
    "cell_style": "center",
    "hidden": true
   },
   "outputs": [],
   "source": [
    "# Note: Unicode Transformation Format – 8 (UTF-8) is a standard to encode characters in different languages\n",
    "print('Data loading, please wait')\n",
    "pima_diabetes = pd.read_csv(\"data/diabetes.csv\",  encoding=\"UTF-8\", sep=\",\")\n",
    "print('Data loaded!')"
   ]
  },
  {
   "cell_type": "markdown",
   "metadata": {
    "hidden": true
   },
   "source": [
    "Now let's get an overview of our data"
   ]
  },
  {
   "cell_type": "code",
   "execution_count": null,
   "metadata": {
    "ExecuteTime": {
     "end_time": "2020-03-04T19:32:39.124267Z",
     "start_time": "2020-03-04T19:32:39.087849Z"
    },
    "hidden": true
   },
   "outputs": [],
   "source": [
    "pima_diabetes.head()"
   ]
  },
  {
   "cell_type": "code",
   "execution_count": null,
   "metadata": {
    "ExecuteTime": {
     "end_time": "2020-03-04T19:32:39.147429Z",
     "start_time": "2020-03-04T19:32:39.134832Z"
    },
    "hidden": true
   },
   "outputs": [],
   "source": [
    "pima_diabetes.info()"
   ]
  },
  {
   "cell_type": "code",
   "execution_count": null,
   "metadata": {
    "ExecuteTime": {
     "end_time": "2020-03-04T19:32:39.226249Z",
     "start_time": "2020-03-04T19:32:39.155287Z"
    },
    "hidden": true
   },
   "outputs": [],
   "source": [
    "pima_diabetes.describe()"
   ]
  },
  {
   "cell_type": "markdown",
   "metadata": {
    "hidden": true
   },
   "source": [
    "For the most part all values are classified correctly as numeric or categorical besides the `Outcome` variable.  In addition there seems to be some odd values. There are individuals with a `BMI` of 0 or 67.1, likely implausible values. Other instances of implausible values include a `Glucose` of 0, 17 `Pregnancies`, and `SkinThickness` of 99 mm. We will consider all of these characteristics as we clean our data. "
   ]
  },
  {
   "cell_type": "markdown",
   "metadata": {
    "hidden": true
   },
   "source": [
    "## Recoding Variables"
   ]
  },
  {
   "cell_type": "markdown",
   "metadata": {
    "hidden": true
   },
   "source": [
    "First let's recode the variable `Outcome`into something meaningful. Based upon the data dictionary, we can see that `1` indicates the patient is classified as having Diabetes. `0` indicates they are not classified as having diabetes. "
   ]
  },
  {
   "cell_type": "code",
   "execution_count": null,
   "metadata": {
    "ExecuteTime": {
     "end_time": "2020-03-04T19:32:39.244896Z",
     "start_time": "2020-03-04T19:32:39.235578Z"
    },
    "hidden": true
   },
   "outputs": [],
   "source": [
    "# Recoding\n",
    "pima_diabetes.Outcome=pima_diabetes.Outcome.apply(lambda x:'Diabetes' if x == 1 else 'No diabetes')\n",
    "print('Data Recoded')"
   ]
  },
  {
   "cell_type": "markdown",
   "metadata": {
    "hidden": true
   },
   "source": [
    "Let's confirm our changes"
   ]
  },
  {
   "cell_type": "code",
   "execution_count": null,
   "metadata": {
    "ExecuteTime": {
     "end_time": "2020-03-04T19:32:39.262247Z",
     "start_time": "2020-03-04T19:32:39.251776Z"
    },
    "hidden": true,
    "scrolled": true
   },
   "outputs": [],
   "source": [
    "pima_diabetes.Outcome.head()"
   ]
  },
  {
   "cell_type": "markdown",
   "metadata": {
    "hidden": true
   },
   "source": [
    "## Checking for Missing Values"
   ]
  },
  {
   "cell_type": "markdown",
   "metadata": {
    "hidden": true
   },
   "source": [
    "Let's examine the number of missing values"
   ]
  },
  {
   "cell_type": "code",
   "execution_count": null,
   "metadata": {
    "ExecuteTime": {
     "end_time": "2020-03-04T19:32:39.286017Z",
     "start_time": "2020-03-04T19:32:39.274744Z"
    },
    "hidden": true
   },
   "outputs": [],
   "source": [
    "print('Number of Missing Data for Each Variable:')\n",
    "pima_diabetes.isna().sum()"
   ]
  },
  {
   "cell_type": "markdown",
   "metadata": {
    "hidden": true
   },
   "source": [
    "This is very interesting. There are no missing values. If this is true, then this is an incredibly clean dataset. However, this is rarely the case. It's more likely that Python cannot recognize missing or erroneous values as being missing. \n",
    "\n",
    "All of our variables are numeric so it is unlikely there will be categories of erroneously coded data. The more likely option is that there are implausible values. This will increase our number of missing values."
   ]
  },
  {
   "cell_type": "markdown",
   "metadata": {
    "heading_collapsed": true,
    "hidden": true
   },
   "source": [
    "### Removing Implausible Values"
   ]
  },
  {
   "cell_type": "markdown",
   "metadata": {
    "hidden": true
   },
   "source": [
    "Earlier we saw several implausible values. These include `Glucose`, `BloodPressure`, `SkinThickness`, `Pregnancies`, `Insulin`, and `BMI`. Lets take a closer look."
   ]
  },
  {
   "cell_type": "code",
   "execution_count": null,
   "metadata": {
    "ExecuteTime": {
     "end_time": "2020-03-04T19:32:39.311004Z",
     "start_time": "2020-03-04T19:32:39.295115Z"
    },
    "hidden": true
   },
   "outputs": [],
   "source": [
    "print('Glucose:')\n",
    "pima_diabetes.Glucose.quantile((0, .01, .05, .10, .25, .50, .75, .90, .95, .99, 1))"
   ]
  },
  {
   "cell_type": "code",
   "execution_count": null,
   "metadata": {
    "ExecuteTime": {
     "end_time": "2020-03-04T19:32:39.333455Z",
     "start_time": "2020-03-04T19:32:39.317352Z"
    },
    "hidden": true
   },
   "outputs": [],
   "source": [
    "print('Blood Pressure:')\n",
    "pima_diabetes.BloodPressure.quantile((0, .01, .05, .10, .25, .50, .75, .90, .95, .99, 1))"
   ]
  },
  {
   "cell_type": "code",
   "execution_count": null,
   "metadata": {
    "ExecuteTime": {
     "end_time": "2020-03-04T19:32:39.358078Z",
     "start_time": "2020-03-04T19:32:39.340130Z"
    },
    "hidden": true
   },
   "outputs": [],
   "source": [
    "print('Skin Thickness:')\n",
    "pima_diabetes.SkinThickness.quantile((0, .01, .05, .10, .25, .50, .75, .90, .95, .99, 1))"
   ]
  },
  {
   "cell_type": "code",
   "execution_count": null,
   "metadata": {
    "ExecuteTime": {
     "end_time": "2020-03-04T19:32:39.377357Z",
     "start_time": "2020-03-04T19:32:39.363930Z"
    },
    "hidden": true
   },
   "outputs": [],
   "source": [
    "print('Serum Insulin:')\n",
    "pima_diabetes.Insulin.quantile((0, .01, .05, .10, .25, .50, .75, .90, .95, .99, 1))"
   ]
  },
  {
   "cell_type": "code",
   "execution_count": null,
   "metadata": {
    "ExecuteTime": {
     "end_time": "2020-03-04T19:32:39.400645Z",
     "start_time": "2020-03-04T19:32:39.385262Z"
    },
    "hidden": true
   },
   "outputs": [],
   "source": [
    "print('BMI:')\n",
    "pima_diabetes.BMI.quantile((0, .01, .05, .10, .25, .50, .75, .90, .95, .99, 1))"
   ]
  },
  {
   "cell_type": "code",
   "execution_count": null,
   "metadata": {
    "ExecuteTime": {
     "end_time": "2020-03-04T19:32:39.423356Z",
     "start_time": "2020-03-04T19:32:39.406654Z"
    },
    "hidden": true
   },
   "outputs": [],
   "source": [
    "print('Pregnancies')\n",
    "pima_diabetes.Pregnancies.quantile((0, .01, .05, .10, .25, .50, .75, .90, .95, .99, 1))"
   ]
  },
  {
   "cell_type": "markdown",
   "metadata": {
    "hidden": true
   },
   "source": [
    "Based on the percentiles above, we can get a better sense of implausible and plausible values. Based on the results we can make the following judgements:\n",
    "\n",
    "**Glucose:**\n",
    "- Glucose is unlikely to go below 50 with the 1st percentile being 57. The 0 glucose measurement is physiologically impossible and likely to be an error or missing\n",
    "\n",
    "**Blood Pressure:**\n",
    "- Diastolic blood pressure is unlikely to go below 30 with the 5th percentile being 38.7. Patients at this level are likely to be considered hypotensive or in shock. 0 diastolic blood pressure is physiologically impossible and likely to be an error or missing.\n",
    "\n",
    "**Skin Thickness:**\n",
    "-  It is biologically unlikely that skin thickness would be above 80 mm or below 10 mm. This is confirmed by our percentile data with a huge jump between the 99th and 100th percentile. \n",
    "\n",
    "**Serum Insulin:**\n",
    "-  2 hour serum insulin levels are physiologically unlikely to fall below 10 or above 300. This is confirmed by our percentile results. The jump from 95th to 99th and 100th percentile is enormous. In addition the values 0 for serum insulin are physiologically impossible and likely errors. \n",
    "\n",
    "**BMI:**\n",
    "- BMI is unlikely to go above the 99th percentile of 50.759. The maximum of 67.1 seems biologically implausible. \n",
    "- BMI below the 5th percentile of 21.8 are possible. However, BMI values of 0 are likely mistakes. "
   ]
  },
  {
   "cell_type": "markdown",
   "metadata": {
    "hidden": true
   },
   "source": [
    "Based on these findings, let's reclassify implausible values as `Na`"
   ]
  },
  {
   "cell_type": "code",
   "execution_count": null,
   "metadata": {
    "ExecuteTime": {
     "end_time": "2020-03-04T19:32:39.468368Z",
     "start_time": "2020-03-04T19:32:39.430597Z"
    },
    "hidden": true
   },
   "outputs": [],
   "source": [
    "pima_diabetes=pima_diabetes[pima_diabetes.Glucose>=50]\n",
    "pima_diabetes=pima_diabetes[pima_diabetes.Pregnancies<=12]\n",
    "pima_diabetes=pima_diabetes[pima_diabetes.BloodPressure>=30]\n",
    "pima_diabetes=pima_diabetes[pima_diabetes.SkinThickness>=10]\n",
    "pima_diabetes=pima_diabetes[pima_diabetes.SkinThickness<=80]\n",
    "pima_diabetes=pima_diabetes[pima_diabetes.Insulin>=10]\n",
    "pima_diabetes=pima_diabetes[pima_diabetes.Insulin<=500]\n",
    "pima_diabetes=pima_diabetes[pima_diabetes.BMI>=10]\n",
    "pima_diabetes=pima_diabetes[pima_diabetes.BMI<=50]\n",
    "\n",
    "print('Data Recoded')"
   ]
  },
  {
   "cell_type": "markdown",
   "metadata": {
    "heading_collapsed": true,
    "hidden": true
   },
   "source": [
    "## Creating Clinically Relevant Variables"
   ]
  },
  {
   "cell_type": "markdown",
   "metadata": {
    "hidden": true
   },
   "source": [
    "Our data includes the raw lab values for BMI. This is not a very useful measure by itself. Let's convert it into something more clinically meaningful. "
   ]
  },
  {
   "cell_type": "markdown",
   "metadata": {
    "hidden": true
   },
   "source": [
    "- **Quantitative:** variables whose values are whole numbers (ie. numbers, percents)\n",
    "- **Categorical:** variables whose values are selected from a group (ie. dog breeds, male/female) "
   ]
  },
  {
   "cell_type": "markdown",
   "metadata": {
    "heading_collapsed": true,
    "hidden": true
   },
   "source": [
    "### BMI"
   ]
  },
  {
   "cell_type": "markdown",
   "metadata": {
    "hidden": true
   },
   "source": [
    "BMI stands for Body Mass Index. This is a measure of body weight based upon a person's weight and height. This measure is commonly used to classify individuals as being overweight or a healthy weight. Below is the BMI formula. \n",
    "\n",
    "\\[\\large \\frac{weight (kg)}{[height (m)]^{2}}\\]\n",
    "\n",
    "We will create a new variable which reflects the clinical cutoffs for bmi. "
   ]
  },
  {
   "cell_type": "markdown",
   "metadata": {
    "hidden": true,
    "solution2": "hidden",
    "solution2_first": true
   },
   "source": [
    "**Knowledge Check:** What are the clinical cut-offs for BMI?"
   ]
  },
  {
   "cell_type": "markdown",
   "metadata": {
    "hidden": true,
    "solution2": "hidden"
   },
   "source": [
    "<center>\n",
    "\n",
    "| *Category*     | *BMI Range*     |\n",
    "| -------------- | --------------- |\n",
    "| Underweight    | BMI < 18.5      |\n",
    "| Healthy Weight | 18.5 ≤ BMI < 25 |\n",
    "| Overweight     | 25 ≤ BMI < 30   |\n",
    "| Obese          | 30 ≥ BMI        |\n",
    "\n",
    "</center>"
   ]
  },
  {
   "cell_type": "markdown",
   "metadata": {
    "hidden": true
   },
   "source": [
    "Let create the new variable 'bmi_interp' based on these cut-offs "
   ]
  },
  {
   "cell_type": "code",
   "execution_count": null,
   "metadata": {
    "ExecuteTime": {
     "end_time": "2020-03-04T19:32:39.553976Z",
     "start_time": "2020-03-04T19:32:39.479666Z"
    },
    "hidden": true
   },
   "outputs": [],
   "source": [
    "# Create 'bmi_interp'\n",
    "pima_diabetes['bmi_interp']=pima_diabetes.BMI.apply(lambda x: 'Underweight' if x<18.5 \n",
    "                                                   else('Healthy Weight' if (x >=18.5 and x<25)\n",
    "                                                       else('Overweight' if (x>=25 and x<30) else 'Obese')))\n",
    "\n",
    "\n",
    "print('\\'bmi_interp\\' variable created!')"
   ]
  },
  {
   "cell_type": "markdown",
   "metadata": {
    "hidden": true
   },
   "source": [
    "Let's confirm our results"
   ]
  },
  {
   "cell_type": "code",
   "execution_count": null,
   "metadata": {
    "ExecuteTime": {
     "end_time": "2020-03-04T19:32:39.580783Z",
     "start_time": "2020-03-04T19:32:39.559778Z"
    },
    "hidden": true
   },
   "outputs": [],
   "source": [
    "pima_diabetes[['BMI','bmi_interp']].head()"
   ]
  },
  {
   "cell_type": "markdown",
   "metadata": {
    "heading_collapsed": true,
    "hidden": true
   },
   "source": [
    "#### Limitations and Considerations when using BMI"
   ]
  },
  {
   "cell_type": "markdown",
   "metadata": {
    "hidden": true
   },
   "source": [
    "BMI is a simple, inexpensive, and common measure for body fat. However, there are several clinical considerations to keep in mind when using this measure. It's critical to keep in mind BMI is only a surrogate measure since it uses weight instead of actual body fat content in its calculations. Below are three examples of factors that can influence BMI:\n",
    "\n",
    "- age: older adults usually have more body fat than younger adults for the same BMI\n",
    "- gender: women tend to have greater amounts of body fat compared to men for the same BMI\n",
    "- muscle mass: muscular individuals or athletes may have higher BMI due to increased muscle mass\n",
    "\n",
    "[Source](https://www.cdc.gov/obesity/downloads/bmiforpactitioners.pdf)"
   ]
  },
  {
   "cell_type": "markdown",
   "metadata": {
    "hidden": true
   },
   "source": [
    "<center>\n",
    "\n",
    "| *Category*     | *Blood Glucose (mg/dl)*   |\n",
    "| -------------- | ------------------------- |\n",
    "| Diabetic       | 200 ≤ Blood Glucose       |\n",
    "| Prediabetic    | 140 ≤ Blood Glucose < 200 |\n",
    "| Healthy        |  Blood Glucose < 140      |\n",
    "\n",
    "</center>"
   ]
  },
  {
   "cell_type": "markdown",
   "metadata": {
    "heading_collapsed": true
   },
   "source": [
    "# Exploratory Data Analysis "
   ]
  },
  {
   "cell_type": "markdown",
   "metadata": {
    "hidden": true
   },
   "source": [
    "Now that we've cleaned our data we can begin exploring our data. Using this, we can see which features are good candidates for building our prediction model. Feature selection  will determine how good or how bad your model is. Bad feature selection can have a hugely negative impact on your model even if you used the most advanced techniques. Understanding the clinical nuances of your data can inform better feature selection"
   ]
  },
  {
   "cell_type": "markdown",
   "metadata": {
    "heading_collapsed": true,
    "hidden": true
   },
   "source": [
    "### Why Can't We Just Use All or Most Variables?"
   ]
  },
  {
   "cell_type": "markdown",
   "metadata": {
    "hidden": true
   },
   "source": [
    "One issue you might be wondering about is why do we even need to select variables. Why not just use all of the variables? After all, more data lead to better models, right? This is a common misconception that even experienced analysts need to watch out for. Including too many features in your prediction model can lead to what is known as 'overfitting'. Overfitting is essentially where you build a model that adheres too closely to your current data set and is unable to predict observations that are not from your current data set. In other words, it is where you develop a model that tuned too closely to your current data, and is not generalizable to outside data sources. \n",
    "\n",
    "<img src=\"https://3gp10c1vpy442j63me73gy3s-wpengine.netdna-ssl.com/wp-content/uploads/2018/03/Screen-Shot-2018-03-22-at-11.22.15-AM-e1527613915658.png\" align=\"center\" style=\"width: 50%; margin-bottom: 0.5em; margin-top: 0.5em;\">"
   ]
  },
  {
   "cell_type": "markdown",
   "metadata": {
    "heading_collapsed": true,
    "hidden": true
   },
   "source": [
    "### Getting A Closer Look At Our Data"
   ]
  },
  {
   "cell_type": "markdown",
   "metadata": {
    "hidden": true
   },
   "source": [
    "Let's take a closer look as we begin our exploratory data analysis. "
   ]
  },
  {
   "cell_type": "code",
   "execution_count": null,
   "metadata": {
    "ExecuteTime": {
     "end_time": "2020-03-04T19:32:39.796872Z",
     "start_time": "2020-03-04T19:32:39.774538Z"
    },
    "hidden": true
   },
   "outputs": [],
   "source": [
    "pima_diabetes.head()"
   ]
  },
  {
   "cell_type": "code",
   "execution_count": null,
   "metadata": {
    "ExecuteTime": {
     "end_time": "2020-03-04T19:32:39.816493Z",
     "start_time": "2020-03-04T19:32:39.804094Z"
    },
    "hidden": true
   },
   "outputs": [],
   "source": [
    "pima_diabetes.info()"
   ]
  },
  {
   "cell_type": "code",
   "execution_count": null,
   "metadata": {
    "ExecuteTime": {
     "end_time": "2020-03-04T19:32:39.885413Z",
     "start_time": "2020-03-04T19:32:39.825470Z"
    },
    "hidden": true
   },
   "outputs": [],
   "source": [
    "pima_diabetes.describe()"
   ]
  },
  {
   "cell_type": "code",
   "execution_count": null,
   "metadata": {
    "ExecuteTime": {
     "end_time": "2020-03-04T19:32:39.907323Z",
     "start_time": "2020-03-04T19:32:39.896034Z"
    },
    "hidden": true
   },
   "outputs": [],
   "source": [
    "pima_diabetes.bmi_interp.value_counts()"
   ]
  },
  {
   "cell_type": "markdown",
   "metadata": {
    "hidden": true
   },
   "source": [
    "This summary page presents us with quite a bit of data. The first thing to realize is that the output will differ based on whether the variable is numeric or categorical. Numeric outputs will include summary statistics while categorical variables will include frequency counts of each category. \n",
    "\n",
    "These summaries will provide a useful reference throughout our exploratory data analysis. "
   ]
  },
  {
   "cell_type": "markdown",
   "metadata": {
    "heading_collapsed": true,
    "hidden": true
   },
   "source": [
    "## Assessing Numeric Variables"
   ]
  },
  {
   "cell_type": "markdown",
   "metadata": {
    "hidden": true
   },
   "source": [
    "Let's take a look at our other variables"
   ]
  },
  {
   "cell_type": "code",
   "execution_count": null,
   "metadata": {
    "ExecuteTime": {
     "end_time": "2020-03-04T19:32:40.158410Z",
     "start_time": "2020-03-04T19:32:40.090682Z"
    },
    "hidden": true
   },
   "outputs": [],
   "source": [
    "pima_diabetes.describe()"
   ]
  },
  {
   "cell_type": "markdown",
   "metadata": {
    "hidden": true
   },
   "source": [
    "We can see that the most of our predictor variables are numeric with the exception of `bmi_interp`. Let's examine the distribution of these variables. "
   ]
  },
  {
   "cell_type": "code",
   "execution_count": null,
   "metadata": {
    "ExecuteTime": {
     "end_time": "2020-03-04T19:32:42.775051Z",
     "start_time": "2020-03-04T19:32:40.210547Z"
    },
    "hidden": true
   },
   "outputs": [],
   "source": [
    "# Create Plot\n",
    "fig = plt.figure(figsize=(20,20))\n",
    "plt.subplot(3,2,1)\n",
    "n, bins, patches=plt.hist(pima_diabetes.Pregnancies,bins='auto', alpha=0.7, rwidth=0.85)\n",
    "xlabel=plt.xlabel('Number of Pregnancies')\n",
    "ylabel=plt.ylabel('Frequency Count')\n",
    "plt.axvline(pima_diabetes.Pregnancies.median(), color='r',linestyle='dashed')\n",
    "plt.text(3,110,'Dashed Line Represents Median Pregnancies (2)')\n",
    "\n",
    "plt.subplot(3,2,2)\n",
    "n, bins, patches=plt.hist(pima_diabetes.Glucose,bins='auto', alpha=0.7, rwidth=0.85)\n",
    "xlabel=plt.xlabel('Blood Glucose')\n",
    "ylabel=plt.ylabel('Frequency Count')\n",
    "plt.axvline(pima_diabetes.Glucose.median(), color='r',linestyle='dashed')\n",
    "plt.text(125,60,'Dashed Line Represents Median Blood Glucose (118.5)')\n",
    "\n",
    "plt.subplot(3,2,3)\n",
    "n, bins, patches=plt.hist(pima_diabetes.BloodPressure,bins='auto', alpha=0.7, rwidth=0.85)\n",
    "xlabel=plt.xlabel('Blood Pressure (mm Hg)')\n",
    "ylabel=plt.ylabel('Frequency Count')\n",
    "plt.axvline(pima_diabetes.BloodPressure.median(), color='r',linestyle='dashed')\n",
    "plt.text(73,70,'Dashed Line Represents Median Blood Pressure (70)')\n",
    "\n",
    "plt.subplot(3,2,4)\n",
    "n, bins, patches=plt.hist(pima_diabetes.SkinThickness,bins='auto', alpha=0.7, rwidth=0.85)\n",
    "xlabel=plt.xlabel('Skin Thickness (mm)')\n",
    "ylabel=plt.ylabel('Frequency Count')\n",
    "plt.axvline(pima_diabetes.SkinThickness.median(), color='r',linestyle='dashed')\n",
    "plt.text(32,55,'Dashed Line Represents Median Skin Thickness (29)')\n",
    "\n",
    "plt.subplot(3,2,5)\n",
    "n, bins, patches=plt.hist(pima_diabetes.DiabetesPedigreeFunction,bins='auto', alpha=0.7, rwidth=0.85)\n",
    "xlabel=plt.xlabel('Diabetes Pedigree Function')\n",
    "ylabel=plt.ylabel('Frequency Count')\n",
    "plt.axvline(pima_diabetes.DiabetesPedigreeFunction.median(), color='r',linestyle='dashed')\n",
    "plt.text(0.5,60,'Dashed Line Represents Median \\nDiabetes Pedigree Function (0.44)')\n",
    "\n",
    "plt.subplot(3,2,6)\n",
    "n, bins, patches=plt.hist(pima_diabetes.Age,bins='auto', alpha=0.7, rwidth=0.85)\n",
    "xlabel=plt.xlabel('Age (years)')\n",
    "ylabel=plt.ylabel('Frequency Count')\n",
    "plt.axvline(pima_diabetes.Age.median(), color='r',linestyle='dashed')\n",
    "plt.text(29,100,'Dashed Line Represents Median Age (27)')\n",
    "\n",
    "plt.show()"
   ]
  },
  {
   "cell_type": "markdown",
   "metadata": {
    "hidden": true
   },
   "source": [
    "There does not appear to be any extreme values or prominent clusters. Now let's see if there is a relationship between diabetes and our predictors."
   ]
  },
  {
   "cell_type": "code",
   "execution_count": null,
   "metadata": {
    "ExecuteTime": {
     "end_time": "2020-03-04T19:32:45.239966Z",
     "start_time": "2020-03-04T19:32:42.796398Z"
    },
    "hidden": true
   },
   "outputs": [],
   "source": [
    "# Create Plot\n",
    "fig = plt.figure(figsize=(20,20))\n",
    "plt.subplot(3,2,1)\n",
    "sns.violinplot(y=pima_diabetes.Outcome,x=pima_diabetes.Pregnancies,orient='h')\n",
    "xlabel=plt.xlabel('Number Pregnancies')\n",
    "ylabel=plt.ylabel('Diabetes Status')\n",
    "\n",
    "plt.subplot(3,2,2)\n",
    "sns.violinplot(y=pima_diabetes.Outcome,x=pima_diabetes.Glucose,orient='h')\n",
    "xlabel=plt.xlabel('Blood Glucose')\n",
    "ylabel=plt.ylabel('Diabetes Status')\n",
    "\n",
    "plt.subplot(3,2,3)\n",
    "sns.violinplot(y=pima_diabetes.Outcome,x=pima_diabetes.BloodPressure,orient='h')\n",
    "xlabel=plt.xlabel('Blood Pressure (mm Hg)')\n",
    "ylabel=plt.ylabel('Diabetes Status')\n",
    "\n",
    "plt.subplot(3,2,4)\n",
    "sns.violinplot(y=pima_diabetes.Outcome,x=pima_diabetes.SkinThickness,orient='h')\n",
    "xlabel=plt.xlabel('Skin Thickness (mm)')\n",
    "ylabel=plt.ylabel('Diabetes Status')\n",
    "\n",
    "plt.subplot(3,2,5)\n",
    "sns.violinplot(y=pima_diabetes.Outcome,x=pima_diabetes.DiabetesPedigreeFunction,orient='h')\n",
    "xlabel=plt.xlabel('Diabetes Pedigree Function')\n",
    "ylabel=plt.ylabel('Diabetes Status')\n",
    "\n",
    "plt.subplot(3,2,6)\n",
    "sns.violinplot(y=pima_diabetes.Outcome,x=pima_diabetes.Age,orient='h')\n",
    "xlabel=plt.xlabel('Age')\n",
    "ylabel=plt.ylabel('Diabetes Status')"
   ]
  },
  {
   "cell_type": "markdown",
   "metadata": {
    "hidden": true
   },
   "source": [
    "Overall, most variables have different distribution between 'No Diabetes' and 'Diabetes'. This indicates that these variables can discriminate between our two outcomes and are likely excellent candidate predictor variables"
   ]
  },
  {
   "cell_type": "markdown",
   "metadata": {
    "hidden": true
   },
   "source": [
    "The only exception is `Blood Pressure`. However, we cannot throw out `Blood Pressure`. [Relevant literature](https://www.ncbi.nlm.nih.gov/pmc/articles/PMC3314178/) has shown a link between hypertension (high blood pressure) and diabetes. For this reason, we will include `Blood Pressure` in our model. "
   ]
  },
  {
   "cell_type": "markdown",
   "metadata": {
    "heading_collapsed": true,
    "hidden": true
   },
   "source": [
    "### Balancing Feature Selection with Clinical Knowledge"
   ]
  },
  {
   "cell_type": "markdown",
   "metadata": {
    "hidden": true
   },
   "source": [
    "There may be a time where your analysis where your data may show a feature does not have an effect or be a statistically significant feature. These always need to be balanced with clinical knowledge. If you know that something is important clinically that should balance incidental statistical findings. Statistical effects and significance can change based on the characteristics of your data. Always use your clinical/domain knowledge to inform the analytic process when possible. "
   ]
  },
  {
   "cell_type": "markdown",
   "metadata": {
    "heading_collapsed": true,
    "hidden": true
   },
   "source": [
    "## Assessing Categorical Variables"
   ]
  },
  {
   "cell_type": "markdown",
   "metadata": {
    "hidden": true
   },
   "source": [
    "We can now examine our final candidate predictor variable `BMI Interpretaion`. "
   ]
  },
  {
   "cell_type": "code",
   "execution_count": null,
   "metadata": {
    "ExecuteTime": {
     "end_time": "2020-03-04T19:32:45.270296Z",
     "start_time": "2020-03-04T19:32:45.246325Z"
    },
    "hidden": true
   },
   "outputs": [],
   "source": [
    "def stacked_plot(feature,xlabel):\n",
    "    fig = plt.figure(figsize=(10,5))\n",
    "    binary=pima_diabetes.groupby('Outcome')\n",
    "    length=len(pima_diabetes[feature].unique())\n",
    "    layers=[]\n",
    "    for symbol, group in binary:\n",
    "        sequence=group[feature].value_counts().index\n",
    "        temp=[]\n",
    "        try:\n",
    "            for i in range(length):\n",
    "                number=group[feature].value_counts()[i]\n",
    "                temp.append(number)\n",
    "        except:\n",
    "            print('')\n",
    "        temp=dict(zip(sequence,temp))\n",
    "        layers.append(temp)\n",
    "    names=pima_diabetes[feature].unique()\n",
    "    no_outcome_layer=[0]*len(names)\n",
    "    outcome_layer=[0]*len(names)\n",
    "    position=np.arange(len(names))+1\n",
    "    for i in range(len(names)):\n",
    "        try:\n",
    "            no_outcome_layer[i]=layers[0][names[i]]\n",
    "        except:\n",
    "            no_outcome_layer[i]=0\n",
    "        try:\n",
    "            outcome_layer[i]=layers[1][names[i]]\n",
    "        except:\n",
    "            outcome_layer[i]=0\n",
    "        total=no_outcome_layer[i]+outcome_layer[i]\n",
    "        no_outcome_layer[i]=no_outcome_layer[i]/total\n",
    "        outcome_layer[i]=outcome_layer[i]/total\n",
    "    plt.bar(position,no_outcome_layer, color='blue', edgecolor='white')\n",
    "    plt.bar(position, outcome_layer, bottom=no_outcome_layer, color='red', edgecolor='white')\n",
    "    plt.title(xlabel)\n",
    "    plt.xticks(position, names, fontweight='bold')\n",
    "    plt.show()"
   ]
  },
  {
   "cell_type": "code",
   "execution_count": null,
   "metadata": {
    "ExecuteTime": {
     "end_time": "2020-03-04T19:32:45.585724Z",
     "start_time": "2020-03-04T19:32:45.280899Z"
    },
    "hidden": true
   },
   "outputs": [],
   "source": [
    "# Create Plot\n",
    "stacked_plot('bmi_interp','BMI Status')"
   ]
  },
  {
   "cell_type": "markdown",
   "metadata": {
    "hidden": true
   },
   "source": [
    "We can see that increasing BMI leads to increased proportion of diabetes. We also know this clinically since many of the metabolic risk factors behind obesity/overweight underpin diabetes. All in all this indicates that `BMI Status` is an excellent predictor variable from a data science and clinical perspective. "
   ]
  },
  {
   "cell_type": "markdown",
   "metadata": {
    "hidden": true
   },
   "source": [
    "## Logistic Regression"
   ]
  },
  {
   "cell_type": "markdown",
   "metadata": {
    "hidden": true
   },
   "source": [
    "Now that our variables have been successfully converted and our outcome has been defined, we can analyze our data. Logistic regression is a mathematical model that estimates the probability of a binary outcome (such as our risk label). It is named after the logistic curve which takes the S-shape depicted below.\n",
    "<img src=\"https://upload.wikimedia.org/wikipedia/commons/thumb/8/88/Logistic-curve.svg/640px-Logistic-curve.svg.png?1566122052688\" alt=\"Logistic Curve\" title=\"Logistic Curve\" />"
   ]
  },
  {
   "cell_type": "markdown",
   "metadata": {
    "hidden": true,
    "solution2": "hidden",
    "solution2_first": true
   },
   "source": [
    "**Pre-Check:** What is our primary outcome? What information will a logistic regression model tell you about our outcome?"
   ]
  },
  {
   "cell_type": "markdown",
   "metadata": {
    "hidden": true,
    "solution2": "hidden"
   },
   "source": [
    "Our primary outcome is whether the individual has diabetes. The logistic regression model will allow us to see how individuals variables affect whether an individual has a stroke **while controlling for other variables in the model**. For instance, we can see whether being older affects having diabetes while controlling for weight, genetics, etc...\n",
    "\n",
    "Very useful indeed!"
   ]
  },
  {
   "cell_type": "markdown",
   "metadata": {
    "hidden": true,
    "solution2": "hidden",
    "solution2_first": true
   },
   "source": [
    "**Follow-Up:** What is statistical significance? What is a generally accepted level of statistical significance in healthcare research?"
   ]
  },
  {
   "cell_type": "markdown",
   "metadata": {
    "hidden": true,
    "solution2": "hidden"
   },
   "source": [
    "It will allow us to analyze which variables have a statistically significant effect on whether an asthmatic individual is at high- or low-risk. Logistic regression is a commonly used technique in health analytics because it is easy to interpret and is thought to model the multi-factorial causes of disease well. "
   ]
  },
  {
   "cell_type": "markdown",
   "metadata": {
    "hidden": true,
    "solution2": "hidden"
   },
   "source": [
    "Statistical Significance can be defined as the chance that the relationship you observed in your data occurred by chance. What does this mean? Let's say our logistic regression model finds that weight has a statistically significant effect on being at high risk or low risk asthmatic patient. This means that it is more likely that there is indeed a relationship between weight and risk than chance would suggest. \n",
    "\n",
    "The conventional level of significance that is accepted is < 0.05 (this number is referred to as a p-value). This means that there is less than 5% chance that the observed relationship in the data was due to chance alone. "
   ]
  },
  {
   "cell_type": "markdown",
   "metadata": {
    "hidden": true
   },
   "source": [
    "Let's create out logistic model"
   ]
  },
  {
   "cell_type": "markdown",
   "metadata": {
    "hidden": true
   },
   "source": [
    "By converting Outcome (1 or 0) into 'Diabetes' or 'No diabetes', we've changed the variable values into something meaningful. We now need to change the variable into 1 and 0 to represent a binary variable in Python."
   ]
  },
  {
   "cell_type": "code",
   "execution_count": null,
   "metadata": {
    "ExecuteTime": {
     "end_time": "2020-03-04T19:32:45.609394Z",
     "start_time": "2020-03-04T19:32:45.591925Z"
    },
    "hidden": true
   },
   "outputs": [],
   "source": [
    "pima_diabetes.loc[pima_diabetes.Outcome=='No diabetes','Outcome']=0\n",
    "pima_diabetes.loc[pima_diabetes.Outcome=='Diabetes','Outcome']=1"
   ]
  },
  {
   "cell_type": "code",
   "execution_count": null,
   "metadata": {
    "ExecuteTime": {
     "end_time": "2020-03-04T19:32:45.650293Z",
     "start_time": "2020-03-04T19:32:45.619517Z"
    },
    "hidden": true
   },
   "outputs": [],
   "source": [
    "# Split the data into a dependent variable and independent variables\n",
    "X=pima_diabetes[['Pregnancies','Glucose','BloodPressure','SkinThickness','bmi_interp','Insulin','DiabetesPedigreeFunction','Age']]\n",
    "X=pd.get_dummies(X)\n",
    "Y=pima_diabetes.Outcome\n",
    "print('split completed')"
   ]
  },
  {
   "cell_type": "code",
   "execution_count": null,
   "metadata": {
    "ExecuteTime": {
     "end_time": "2020-03-04T19:32:45.676106Z",
     "start_time": "2020-03-04T19:32:45.657515Z"
    },
    "hidden": true
   },
   "outputs": [],
   "source": [
    "# Create a logistic regression model\n",
    "model=sm.GLM(Y,X)\n",
    "result=model.fit()\n",
    "print('model trained')"
   ]
  },
  {
   "cell_type": "code",
   "execution_count": null,
   "metadata": {
    "ExecuteTime": {
     "end_time": "2020-03-04T19:32:45.736434Z",
     "start_time": "2020-03-04T19:32:45.710461Z"
    },
    "hidden": true
   },
   "outputs": [],
   "source": [
    "result.summary()"
   ]
  },
  {
   "cell_type": "markdown",
   "metadata": {
    "hidden": true
   },
   "source": [
    "We can see that several of our variables do not have a statistically significant effect. Several of these variables are clinically relevant. For instance, we know that hypertensive and older individuals are at higher risk for diabetes. For this reason we will be keeping it in our model. \n",
    "\n",
    "While statistical significance is important, it is always more important to consider whether our predictors are clinically relevant for the outcome we will be predicting. Remember to alway consider the clinical significance of a variable and not just the statistical significance!"
   ]
  },
  {
   "cell_type": "markdown",
   "metadata": {
    "heading_collapsed": true
   },
   "source": [
    "# Building A Predictive Model"
   ]
  },
  {
   "cell_type": "markdown",
   "metadata": {
    "hidden": true,
    "solution2": "shown",
    "solution2_first": true
   },
   "source": [
    "**Pre-Check:** So far we haven't done any machine learning yet. What we've done can be considered traditional statistical analysis. What differentiate machine learning for statistical analysis?"
   ]
  },
  {
   "cell_type": "markdown",
   "metadata": {
    "hidden": true,
    "solution2": "shown"
   },
   "source": [
    "In machine learning, data is split into a training set and a test set. A machine learning model is then trained on the training set to predict whatever outcome of interest it was designed to predict (in our case we're predicting whether the patient has diabetes). The model's predictive performance is then evaluated using the test set. \n",
    "\n",
    "<img src=\"https://www.sqlservercentral.com/wp-content/uploads/2019/05/Image-2.jpg\" align=\"center\" style=\"margin-bottom: 0.5em; margin-top: 0.5em;\">"
   ]
  },
  {
   "cell_type": "markdown",
   "metadata": {
    "hidden": true
   },
   "source": [
    "For our case, we will be using a model called gradient boosting machines. To understand gradient boosting machines we first must understand what boosting and decision trees are. Boosting is the process of converting a weak learner into a strong learner. Decision trees are charts which help make a decision or prediction. Each branch represents a possible outcome. The end of branches represent an end result or decision.\n",
    "\n",
    "Decision trees are common in medical settings. For instance, below is an algorithm for evaluating febrile seizures. This is an example of a decision tree.\n",
    "\n",
    "<img src=\"https://img.grepmed.com/uploads/1105/febrileseizure-management-algorithm-diagnosis-complex-original.png\" align=\"center\" style=\"margin-bottom: 0.5em; margin-top: 0.5em;\">"
   ]
  },
  {
   "cell_type": "markdown",
   "metadata": {
    "hidden": true
   },
   "source": [
    "Gradient boosting machines train numerous decision trees. With each training iteration, the algorithm identifies weak decision trees, and subsequently improves on this tree. This process continues until we have our final model. This final model is a curated and weighted sum of the predictions made by previous decision trees run by the algorithm. "
   ]
  },
  {
   "cell_type": "markdown",
   "metadata": {
    "hidden": true
   },
   "source": [
    "We now need to split our data into training and test data. We will be splitting our data into 80% training data and 20% test data."
   ]
  },
  {
   "cell_type": "code",
   "execution_count": null,
   "metadata": {
    "ExecuteTime": {
     "end_time": "2020-03-04T19:32:45.770840Z",
     "start_time": "2020-03-04T19:32:45.760992Z"
    },
    "hidden": true
   },
   "outputs": [],
   "source": [
    "# Split the training data and testing data\n",
    "X_train, X_test, y_train, y_test = train_test_split(X, Y, test_size=0.2, random_state=40)"
   ]
  },
  {
   "cell_type": "markdown",
   "metadata": {
    "ExecuteTime": {
     "end_time": "2019-10-24T03:55:52.200081Z",
     "start_time": "2019-10-24T03:55:52.180Z"
    },
    "hidden": true
   },
   "source": [
    "Now let's fit our model to the training data. We will then take a look at our model's performance using the test data and a confusion matrix.\n",
    "\n",
    "> If you're unsure what a confusion matrix is, please consult section 5.0.1 ('What is a Confusion Matrix')"
   ]
  },
  {
   "cell_type": "code",
   "execution_count": null,
   "metadata": {
    "ExecuteTime": {
     "end_time": "2020-03-04T19:32:45.905562Z",
     "start_time": "2020-03-04T19:32:45.775731Z"
    },
    "hidden": true
   },
   "outputs": [],
   "source": [
    "# Create a gradient boosting classifier\n",
    "gbm=GradientBoostingClassifier()\n",
    "\n",
    "# Fit the model to the training data\n",
    "gbm.fit(X_train,y_train)\n",
    "print('model trained')"
   ]
  },
  {
   "cell_type": "code",
   "execution_count": null,
   "metadata": {
    "ExecuteTime": {
     "end_time": "2020-03-04T19:32:45.922389Z",
     "start_time": "2020-03-04T19:32:45.910972Z"
    },
    "hidden": true
   },
   "outputs": [],
   "source": [
    "# Use test data to evaluate the performance of the model\n",
    "y_pred=gbm.predict(X_test)\n",
    "print('prediction completed')"
   ]
  },
  {
   "cell_type": "code",
   "execution_count": null,
   "metadata": {
    "ExecuteTime": {
     "end_time": "2020-03-04T19:32:45.953388Z",
     "start_time": "2020-03-04T19:32:45.927516Z"
    },
    "hidden": true
   },
   "outputs": [],
   "source": [
    "# Output results\n",
    "print('Outputing results...')\n",
    "conf_mat = confusion_matrix(y_test, y_pred)\n",
    "print('confusion matrix')\n",
    "print(conf_mat)\n",
    "print(classification_report(y_test,y_pred))"
   ]
  },
  {
   "cell_type": "markdown",
   "metadata": {
    "hidden": true
   },
   "source": [
    "Here we can see several useful metrics for our model. For instance, we have an `Accuracy` of 0.78, a `Precision` of 0.73 anda `Recall` of 0.76. The necessary metrics will depend on the task a model is designed for. "
   ]
  },
  {
   "cell_type": "markdown",
   "metadata": {
    "heading_collapsed": true,
    "hidden": true
   },
   "source": [
    "### What Is A Confusion Matrix"
   ]
  },
  {
   "cell_type": "markdown",
   "metadata": {
    "hidden": true
   },
   "source": [
    "A confusion matrix is a 2x2 table which computes 4 different combinations of predicted vs. actual values. The combinations are True Positive (TP), True Negative (TN), False Positive (FP), and False Negative (FN)\n",
    "\n",
    "<img src=\"https://miro.medium.com/max/320/1*Z54JgbS4DUwWSknhDCvNTQ.png\" align=\"center\" style=\"margin-bottom: 0.5em; margin-top: 0.5em;\">\n",
    "\n",
    "These 4 interpretations can be combined to generate many useful metrics. For our purpose there are three we will focus on. The first is accuracy:\n",
    "\n",
    "\\[\\large (TP + TN)/Total\\]\n",
    "\n",
    "Accuracy allows us to measure how often our model predicted correctly. The second metric is recall:\n",
    "\n",
    "\\[\\large TP / (TP + FN)\\]\n",
    "\n",
    "Recall asks the question, that when our outcome is actually positive (ie. in our case when our patient actually has diabetes) how often will the model predict positively (ie. how often will the model then predict the patient to have diabetes). The final metric is precision:\n",
    "\n",
    "\\[\\large TP / (TP + FP)\\]\n",
    "\n",
    "Precision asks the question, that when the model predicts positively (ie. in our case when the model predicts the patient to have diabetes) how often will the outcome be actually positive (ie. how often will our patient actually has diabetes.)"
   ]
  },
  {
   "cell_type": "markdown",
   "metadata": {
    "heading_collapsed": true,
    "hidden": true
   },
   "source": [
    "## Evaluating our Model"
   ]
  },
  {
   "cell_type": "markdown",
   "metadata": {
    "hidden": true
   },
   "source": [
    "We will be evaluating our model using a receiver operating curve (ROC) and the area under the curve (AUC) value. \n",
    "\n",
    "> If you're unsure what a ROC or AUC value is, please consult section 5.1.1 ('Understanding ROC Curves and AUC Values')"
   ]
  },
  {
   "cell_type": "code",
   "execution_count": null,
   "metadata": {
    "ExecuteTime": {
     "end_time": "2020-03-04T19:32:46.474236Z",
     "start_time": "2020-03-04T19:32:45.958367Z"
    },
    "hidden": true
   },
   "outputs": [],
   "source": [
    "# Compute fpr, tpr, thresholds and roc auc\n",
    "roc_curve(y_test, y_pred)\n",
    "fpr, tpr, thresholds = roc_curve(y_test, y_pred)\n",
    "roc_auc = auc(fpr, tpr)\n",
    "\n",
    "# Plot ROC curve\n",
    "plt.plot(fpr, tpr, label='ROC curve (area = %0.3f)' % roc_auc)\n",
    "plt.plot([0, 1], [0, 1], 'k--')  # random predictions curve\n",
    "plt.xlim([0.0, 1.0])\n",
    "plt.ylim([0.0, 1.0])\n",
    "plt.xlabel('False Positive Rate or (1 - Specifity)')\n",
    "plt.ylabel('True Positive Rate or (Sensitivity)')\n",
    "plt.title('Receiver Operating Characteristic')\n",
    "plt.legend(loc=\"lower right\")"
   ]
  },
  {
   "cell_type": "code",
   "execution_count": null,
   "metadata": {
    "ExecuteTime": {
     "end_time": "2020-03-04T19:32:46.507975Z",
     "start_time": "2020-03-04T19:32:46.479077Z"
    },
    "hidden": true
   },
   "outputs": [],
   "source": [
    "# Calculate the area under the curve (AUC)\n",
    "print('AUC:', roc_auc.round(2))"
   ]
  },
  {
   "cell_type": "markdown",
   "metadata": {
    "hidden": true
   },
   "source": [
    "The closer to the top left corner our ROC curve, the better. The higher our AUC value, the better. These metrics provide useful measures when tuning our model. They are also better overall measures than accuracy alone. We can compare different models using these two metrics. "
   ]
  },
  {
   "cell_type": "markdown",
   "metadata": {
    "heading_collapsed": true,
    "hidden": true
   },
   "source": [
    "### Understanding ROC Curves and AUC Values"
   ]
  },
  {
   "cell_type": "markdown",
   "metadata": {
    "hidden": true
   },
   "source": [
    "A ROC plots sensitivity (probability of predicting a real positive will be positive) against 1-specificity (the probability of predicting a real negative will be positive). A model with a 50-50 chance of making a correct decision will have a ROC curve which is just a diagonal line. A model with a curve that hugs the top left corner is a perfect model. The area under a curve is a measure of the magnitude of the ROC curve. The closer the ROC curve is to the top left corner, the higher the AUC value. The higher the AUC value, the better. \n",
    "\n",
    "<img src=\"https://miro.medium.com/max/406/1*pk05QGzoWhCgRiiFbz-oKQ.png\" style=\"float: center; width: 34%; margin-bottom: 0.5em;\">"
   ]
  },
  {
   "cell_type": "markdown",
   "metadata": {
    "heading_collapsed": true,
    "hidden": true
   },
   "source": [
    "## Explaining our Model"
   ]
  },
  {
   "cell_type": "markdown",
   "metadata": {
    "hidden": true
   },
   "source": [
    "An important part of understanding and communicating the results of any model is explaining the model. We can dive further into our model by assessing which variables were most important for our model's performance. "
   ]
  },
  {
   "cell_type": "code",
   "execution_count": null,
   "metadata": {
    "ExecuteTime": {
     "end_time": "2020-03-04T19:32:46.921934Z",
     "start_time": "2020-03-04T19:32:46.515286Z"
    },
    "hidden": true
   },
   "outputs": [],
   "source": [
    "features=X_train.columns\n",
    "importances = gbm.feature_importances_\n",
    "indices = np.argsort(importances)\n",
    "plt.figure(figsize=(18,10))\n",
    "plt.title('Feature Importances')\n",
    "plt.barh(range(len(indices)), importances[indices], color='b', align='center')\n",
    "plt.yticks(range(len(indices)), features[indices])\n",
    "plt.xlabel('Relative Importance')\n",
    "plt.show()"
   ]
  },
  {
   "cell_type": "markdown",
   "metadata": {
    "hidden": true
   },
   "source": [
    "We can see that `Glucose` was by far the most important variable. This makes sense since diabetes is a reflection of abnormally high blood glucose levels. What's surprising is how much of an effect that `DiabetsPedigreeFunction` is. There are two variants of diabetes, Type 1 and Type 2. Type 2 diabetes has a strong genetic component. This indicates many in our data have type 2 diabetes. Variable importance can be a good way to look for surprising results. Any surprising variables can be the subject of further investigation!"
   ]
  },
  {
   "cell_type": "markdown",
   "metadata": {
    "hidden": true
   },
   "source": [
    "Congratulations! You've reached the end of the case! This case provided just one example of how analytics and healthcare can be combined to solve clinical problems. I hope your curiosity has been piqued. There will be much more to learn and much more you can explore in this field!"
   ]
  },
  {
   "cell_type": "markdown",
   "metadata": {
    "heading_collapsed": true
   },
   "source": [
    "# Function"
   ]
  },
  {
   "cell_type": "code",
   "execution_count": null,
   "metadata": {
    "ExecuteTime": {
     "end_time": "2020-03-04T19:32:46.936679Z",
     "start_time": "2020-03-04T19:32:46.926855Z"
    },
    "hidden": true
   },
   "outputs": [],
   "source": [
    "list(pima_diabetes.columns)"
   ]
  },
  {
   "cell_type": "code",
   "execution_count": null,
   "metadata": {
    "ExecuteTime": {
     "end_time": "2020-03-04T19:32:47.011606Z",
     "start_time": "2020-03-04T19:32:46.941119Z"
    },
    "hidden": true
   },
   "outputs": [],
   "source": [
    "def play(features):\n",
    "    total_variables=features+['Outcome']\n",
    "    play_pima_diabetes=pima_diabetes[total_variables].copy().dropna()\n",
    "    X=play_pima_diabetes[features]\n",
    "    X=pd.get_dummies(X)\n",
    "    Y=play_pima_diabetes.Outcome\n",
    "    X_train, X_test, y_train, y_test = train_test_split(X, Y, test_size=0.2, random_state=40)\n",
    "    # Create a gradient boosting classifier\n",
    "    gbm=GradientBoostingClassifier()\n",
    "\n",
    "    # Fit the model to the training data\n",
    "    gbm.fit(X_train,y_train)\n",
    "    y_pred=gbm.predict(X_test)\n",
    "    # Output results\n",
    "    print('Outputing results...')\n",
    "    conf_mat = confusion_matrix(y_test, y_pred)\n",
    "    print('confusion matrix')\n",
    "    print(conf_mat)\n",
    "    print(classification_report(y_test,y_pred))\n",
    "    # Compute fpr, tpr, thresholds and roc auc\n",
    "    roc_curve(y_test, y_pred)\n",
    "    fpr, tpr, thresholds = roc_curve(y_test, y_pred)\n",
    "    roc_auc = auc(fpr, tpr)\n",
    "\n",
    "    # Plot ROC curve\n",
    "    plt.plot(fpr, tpr, label='ROC curve (area = %0.3f)' % roc_auc)\n",
    "    plt.plot([0, 1], [0, 1], 'k--')  # random predictions curve\n",
    "    plt.xlim([0.0, 1.0])\n",
    "    plt.ylim([0.0, 1.0])\n",
    "    plt.xlabel('False Positive Rate or (1 - Specifity)')\n",
    "    plt.ylabel('True Positive Rate or (Sensitivity)')\n",
    "    plt.title('Receiver Operating Characteristic')\n",
    "    plt.legend(loc=\"lower right\")\n",
    "    # Calculate the area under the curve (AUC)\n",
    "    print('AUC:', roc_auc.round(2))\n",
    "    features=X_train.columns\n",
    "    importances = gbm.feature_importances_\n",
    "    indices = np.argsort(importances)\n",
    "    plt.figure(figsize=(18,10))\n",
    "    plt.title('Feature Importances')\n",
    "    plt.barh(range(len(indices)), importances[indices], color='b', align='center')\n",
    "    plt.yticks(range(len(indices)), features[indices])\n",
    "    plt.xlabel('Relative Importance')\n",
    "    plt.show()"
   ]
  },
  {
   "cell_type": "code",
   "execution_count": null,
   "metadata": {
    "ExecuteTime": {
     "end_time": "2020-03-04T19:32:47.510081Z",
     "start_time": "2020-03-04T19:32:47.015961Z"
    },
    "hidden": true
   },
   "outputs": [],
   "source": [
    "features=['DiabetesPedigreeFunction', 'Glucose']\n",
    "play(features)"
   ]
  },
  {
   "cell_type": "code",
   "execution_count": null,
   "metadata": {
    "hidden": true
   },
   "outputs": [],
   "source": []
  }
 ],
 "metadata": {
  "kernelspec": {
   "display_name": "Python 3",
   "language": "python",
   "name": "python3"
  },
  "language_info": {
   "codemirror_mode": {
    "name": "ipython",
    "version": 3
   },
   "file_extension": ".py",
   "mimetype": "text/x-python",
   "name": "python",
   "nbconvert_exporter": "python",
   "pygments_lexer": "ipython3",
   "version": "3.7.3"
  },
  "latex_envs": {
   "LaTeX_envs_menu_present": true,
   "autoclose": false,
   "autocomplete": true,
   "bibliofile": "biblio.bib",
   "cite_by": "apalike",
   "current_citInitial": 1,
   "eqLabelWithNumbers": false,
   "eqNumInitial": 1,
   "hotkeys": {
    "equation": "Ctrl-E",
    "itemize": "Ctrl-I"
   },
   "labels_anchors": false,
   "latex_user_defs": false,
   "report_style_numbering": false,
   "user_envs_cfg": false
  },
  "toc": {
   "base_numbering": 1,
   "nav_menu": {},
   "number_sections": true,
   "sideBar": true,
   "skip_h1_title": false,
   "title_cell": "Table of Contents",
   "title_sidebar": "Contents",
   "toc_cell": false,
   "toc_position": {
    "height": "414px",
    "left": "54px",
    "top": "110.8px",
    "width": "276px"
   },
   "toc_section_display": true,
   "toc_window_display": false
  },
  "varInspector": {
   "cols": {
    "lenName": 16,
    "lenType": 16,
    "lenVar": 40
   },
   "kernels_config": {
    "python": {
     "delete_cmd_postfix": "",
     "delete_cmd_prefix": "del ",
     "library": "var_list.py",
     "varRefreshCmd": "print(var_dic_list())"
    },
    "r": {
     "delete_cmd_postfix": ") ",
     "delete_cmd_prefix": "rm(",
     "library": "var_list.r",
     "varRefreshCmd": "cat(var_dic_list()) "
    }
   },
   "types_to_exclude": [
    "module",
    "function",
    "builtin_function_or_method",
    "instance",
    "_Feature"
   ],
   "window_display": true
  }
 },
 "nbformat": 4,
 "nbformat_minor": 4
}
