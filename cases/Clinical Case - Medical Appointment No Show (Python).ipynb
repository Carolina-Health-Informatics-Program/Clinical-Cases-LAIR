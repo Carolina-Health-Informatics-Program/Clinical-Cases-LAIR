{
 "cells": [
  {
   "cell_type": "markdown",
   "metadata": {
    "heading_collapsed": true
   },
   "source": [
    "# Introduction"
   ]
  },
  {
   "cell_type": "markdown",
   "metadata": {
    "cell_style": "center",
    "hidden": true
   },
   "source": [
    "<p align=\"justify\">Welcome! In this case we'll be exploring how to use advanced analytic and machine learning techniques to predict medical appointment no-shows. \n",
    "<br>\n",
    "<br>\n",
    "<details>\n",
    "<summary>Some of the skills you'll explore are (Click to Expand):</summary>\n",
    "<ul>\n",
    "    <li>Python Programming</li>\n",
    "    <li>Data Cleaning</li>\n",
    "    <li>Descriptive Analysis</li>\n",
    "    <li>Data Visualization</li>\n",
    "    <li>Leveraging Domain Knowledge</li>\n",
    "    <li>Machine Learning</li>\n",
    "    <li>Decision Trees</li>\n",
    "</details><br>\n",
    "Don't worry if you're unsure what some of these terms are. They'll be explained throughout the case. Let's begin! \n",
    "<img src=\"https://i.stack.imgur.com/zlAi2.png\" style=\"float: left; width: 32%; margin-right: 1%; margin-bottom: 0.5em;\">\n",
    "<img src=\"https://upload.wikimedia.org/wikipedia/commons/thumb/c/c3/Python-logo-notext.svg/1024px-Python-logo-notext.svg.png\" style=\"float: left; width: 25%; margin-bottom: 0.5em;\">\n",
    "<img src=\"https://www.displayr.com/wp-content/uploads/2018/09/Untitled-design-10.png\" style=\"float: left; width: 31%; margin-left: 5%; margin-bottom: 0.5em;\">"
   ]
  },
  {
   "cell_type": "markdown",
   "metadata": {
    "heading_collapsed": true,
    "hidden": true
   },
   "source": [
    "## Case Scenario"
   ]
  },
  {
   "cell_type": "markdown",
   "metadata": {
    "hidden": true
   },
   "source": [
    "Imagine you work on the administrative staff for a small, family medicine clinic. Recently, business has been tough. The clinic is struggling to remain financially viable. The providers are already working at capacity and are unable to see any more patients. \n",
    "\n",
    "<img width=\"400\" height=325 src=\"https://www.usnews.com/dims4/USNEWS/e55fe58/2147483647/crop/825x541%2B0%2B0/resize/640x420/quality/85/?url=https%3A%2F%2Fmedia.beam.usnews.com%2F1a%2F57%2Fd6439f0248f3825a6f3176017230%2F140326-hospitalreceptiondesk-stock.jpg\">\n",
    "\n",
    "While the clinic staff is small, they're a dedicated group. If they can predict which patients will likely be no-shows, they can target these patients with interventions such as reminders or phone calls prior to their appointments. This can increase revenue without increasing each provider's census. Will analytics and machine learning be able to predict no-shows and keep this clinic open?\n",
    "\n",
    "Continue through the case to find out. "
   ]
  },
  {
   "cell_type": "markdown",
   "metadata": {
    "heading_collapsed": true,
    "hidden": true
   },
   "source": [
    "### Extra: Why do we care about no-shows?"
   ]
  },
  {
   "cell_type": "markdown",
   "metadata": {
    "hidden": true
   },
   "source": [
    "A patient no-show is defined as a missed patient appointmen where the patient was scheduled, but did not appear for their medical appointment, and made no prior contact with the clinical staff. \n",
    "Medical appointment no shows are a serious issue across all type of medical practices, specialties, locations, and medical practice models. This is an endemic issue that is estimated to cost the healthcare industry $150 billion annually. \n",
    "\n",
    "<p align=\"center\">\n",
    "  <img width=\"400\" height=\"200\" src=\"https://www.carecloud.com/continuum/wp-content/uploads/2011/05/patient-no-show-cost-400x201.jpg\">\n",
    "</p>\n",
    "\n",
    "It's estimated that for every appointment no show: \n",
    "- Primary care physcians lose close to 150 - 200 USD in revenue\n",
    "- Surgeons lose close to 500 USD in revenue\n",
    "- Patient who no-show are more likely to require expensive emergency care down the road. This increases healthcare cost for everyone. \n",
    "\n",
    "Already the healthcare industry is attempting to decrease no-shows through leveraging technology and innovative practice methods. However, this is still an endemic problem. Any algorithm which could reliably predict no-shows could improves costs and outcomes."
   ]
  },
  {
   "cell_type": "markdown",
   "metadata": {
    "heading_collapsed": true,
    "hidden": true
   },
   "source": [
    "## How To Run The Case (Do Not Skip)"
   ]
  },
  {
   "cell_type": "markdown",
   "metadata": {
    "hidden": true
   },
   "source": [
    "Before we begin the case, we need to know how to use Jupyter Notebook and run the case. First, look for the the `Run` button. The location of the `Run` button is shown below and can be found in the tool bar above. "
   ]
  },
  {
   "cell_type": "markdown",
   "metadata": {
    "cell_style": "center",
    "hidden": true
   },
   "source": [
    "\n",
    "<img src=\"https://i.imgur.com/jr4dpLW.png\">"
   ]
  },
  {
   "cell_type": "markdown",
   "metadata": {
    "ExecuteTime": {
     "end_time": "2020-03-06T17:49:39.861805Z",
     "start_time": "2020-03-06T17:49:39.854392Z"
    },
    "hidden": true
   },
   "source": [
    "The cell below is a code cell. You will be running numerous code cells like the one below throughout the case. Select the cell and select the run button above. "
   ]
  },
  {
   "cell_type": "code",
   "execution_count": null,
   "metadata": {
    "ExecuteTime": {
     "end_time": "2020-03-19T17:32:57.114058Z",
     "start_time": "2020-03-19T17:32:57.110070Z"
    },
    "cell_style": "center",
    "hidden": true
   },
   "outputs": [],
   "source": [
    "# This is an example of a code cell\n",
    "print('Congratulations!')\n",
    "print('You\\'ve run your first code cell.')\n"
   ]
  },
  {
   "cell_type": "markdown",
   "metadata": {
    "hidden": true
   },
   "source": [
    "<img width = 50 height = 50 style=\"float: left; margin-right: 10px;\" src=\"https://upload.wikimedia.org/wikipedia/commons/b/b9/Stop_sign_dark_red.svg\">Stop! If you have not learned to run a code cell, restart this section. You will not be able to go through the case at all if you are unable to run code cells. Otherwise, it's time to meet our data!"
   ]
  },
  {
   "cell_type": "markdown",
   "metadata": {
    "heading_collapsed": true,
    "hidden": true
   },
   "source": [
    "## Meeting Our Data"
   ]
  },
  {
   "cell_type": "markdown",
   "metadata": {
    "hidden": true
   },
   "source": [
    "We'll be using a deidentified set of Brazilian patient data made available on [kaggle](https://www.kaggle.com/joniarroba/noshowappointments). The data include basic demographic, geographic, and clinical information. Most importantly, it also includes data pertaining to clinic visits. Kaggle is an online data science and machine learning community. \n",
    "\n",
    "<img src=\"https://miro.medium.com/max/1200/0*ftOal7fKVCNtJr4N.png\" style=\"float: center; width: 65%\">\n",
    "\n",
    "Through our case we will be evaluating whether patients showed or no showed to their medical appointment. It also includes several characteristics of each patients such as age, gender, and several comorbidities. "
   ]
  },
  {
   "cell_type": "markdown",
   "metadata": {
    "heading_collapsed": true,
    "hidden": true
   },
   "source": [
    "### Necessary Data Files"
   ]
  },
  {
   "cell_type": "markdown",
   "metadata": {
    "hidden": true
   },
   "source": [
    "Lets get a first glimpse of our data."
   ]
  },
  {
   "cell_type": "code",
   "execution_count": null,
   "metadata": {
    "ExecuteTime": {
     "end_time": "2020-03-19T17:33:01.145582Z",
     "start_time": "2020-03-19T17:32:57.117050Z"
    },
    "cell_style": "center",
    "hidden": true
   },
   "outputs": [],
   "source": [
    "import pandas as pd\n",
    "no_show_data = pd.read_csv(\"data/med_no_show.csv\",  encoding=\"UTF-8\", sep=\",\")\n",
    "no_show_data.head()"
   ]
  },
  {
   "cell_type": "markdown",
   "metadata": {
    "hidden": true
   },
   "source": [
    "What do you notice? Do you notice anything unusual about the data? Don't worry if you don't notice anything. We will be getting to know our data better as we go through the case. "
   ]
  },
  {
   "cell_type": "markdown",
   "metadata": {
    "heading_collapsed": true,
    "hidden": true
   },
   "source": [
    "### Data Variable Information (Consulting the Data Dictionary)"
   ]
  },
  {
   "cell_type": "markdown",
   "metadata": {
    "hidden": true
   },
   "source": [
    "There are several variables or labels which you might not understand. The way to combat this is by consulting the data dictionary. \n",
    "\n",
    "> A data dictionary describes a dataset and provides information on the meaning of each variable. Always look for documentation or a data dictionary before starting an analysis."
   ]
  },
  {
   "cell_type": "markdown",
   "metadata": {
    "hidden": true
   },
   "source": [
    "A data dictionary is provided on the [kaggle page](https://www.kaggle.com/joniarroba/noshowappointments) where the data is hosted. The data dictionary has also been reproduced below for your convenience. However, you may notice some of the data dictionary labels are not in Portuguese instead of English. Below is an English recreation of the data dictionary with edited grammar and context for ease of reading in English."
   ]
  },
  {
   "cell_type": "markdown",
   "metadata": {
    "hidden": true
   },
   "source": [
    "<center>\n",
    "\n",
    "| *Variable*        | *Definition*                                                            |\n",
    "| ----------------- | ----------------------------------------------------------------------- |\n",
    "| PatientId         | Identification of a patient                                             |\n",
    "| AppointmentID     | Identification of each appointment                                      |\n",
    "| Gender            | Male or Female                                                          | \n",
    "| ScheduledDay      | The day of the actual appointment, when they have to visit the doctor   |\n",
    "| AppointmentDay    | The day someone called or registered the appointment                    |\n",
    "| Age               | How old is the patient                                                  |\n",
    "| Neighbourhood     | Where the appointment takes place                                       |\n",
    "| Scholarship       | True or False, are they enrolled in Bolsa Familia low-income subsidy program [More Info](https://en.wikipedia.org/wiki/Bolsa_Fam%C3%ADlia)                                 |\n",
    "| Hypertension      | True or False, if patient has hypertension                              |\n",
    "| Diabetes          | True or False, if the patient has diabetes                              |\n",
    "| Alcoholism        | True or False, if the patient has alcoholism                            |\n",
    "| Handicap          | # of handicaps a person has                                             |\n",
    "| SMS-received      | True or False, one or more SMS message sent to the patient              |      \n",
    "| No.show           | True or False, patient did not show to their medical appointment        |\n",
    "\n",
    "</center>"
   ]
  },
  {
   "cell_type": "markdown",
   "metadata": {
    "heading_collapsed": true
   },
   "source": [
    "# Setup (Do Not Skip)"
   ]
  },
  {
   "cell_type": "markdown",
   "metadata": {
    "hidden": true
   },
   "source": [
    "The code below will set up specific settings for the case to run properly. Do not worry if you do not understand what the code is doing, this will not impact your understanding of the case. Run the code below to complete the setup for the case. Do not skip this step!"
   ]
  },
  {
   "cell_type": "code",
   "execution_count": null,
   "metadata": {
    "ExecuteTime": {
     "end_time": "2020-03-19T17:33:05.896303Z",
     "start_time": "2020-03-19T17:33:01.147575Z"
    },
    "hidden": true
   },
   "outputs": [],
   "source": [
    "# Calling external libraries for additional functionality\n",
    "import pandas as pd\n",
    "import numpy as np\n",
    "import matplotlib.pyplot as plt\n",
    "import seaborn as sns\n",
    "import random\n",
    "import pydotplus\n",
    "import statsmodels.api as sm\n",
    "from IPython.display import Image\n",
    "\n",
    "from scipy import stats\n",
    "from sklearn.tree import export_graphviz\n",
    "from sklearn.linear_model import LogisticRegression\n",
    "from sklearn.model_selection import train_test_split\n",
    "from sklearn.tree import DecisionTreeClassifier\n",
    "from sklearn.metrics import confusion_matrix\n",
    "from sklearn.metrics import classification_report\n",
    "from IPython.core.interactiveshell import InteractiveShell\n",
    "InteractiveShell.ast_node_interactivity = \"last\"\n",
    "from pandas.api.types import CategoricalDtype \n",
    "import datetime\n",
    "plt.style.use('fivethirtyeight')\n",
    "# Increase max number of columns displayed in output tables\n",
    "pd.set_option(\"display.max_columns\",2000)\n",
    "\n",
    "# Make sure your ML results are the same\n",
    "random.seed(10)\n",
    "\n",
    "# Create function to test models\n",
    "def test_model(features):\n",
    "    no_show_data_copy=no_show_data.copy().dropna()\n",
    "    X=no_show_data_copy[features]\n",
    "    X=pd.get_dummies(X)\n",
    "    Y=no_show_data.no_show\n",
    "    # Split the training data and testing data\n",
    "    X_train, X_test, y_train, y_test = train_test_split(X, Y, test_size=0.2, random_state=100)\n",
    "\n",
    " \n",
    "    dtc=DecisionTreeClassifier(class_weight='balanced',max_depth=3)\n",
    "    print('Training Decision Tree, please be patient...\\n')\n",
    "    dtc.fit(X_train,y_train)\n",
    "\n",
    "    # Predict\n",
    "    print('Testing Decision Tree, please be patient...\\n')\n",
    "    y_pred=dtc.predict(X_test)\n",
    "\n",
    "    # Output results\n",
    "    print('Outputing results...')\n",
    "    conf_mat = confusion_matrix(y_test, y_pred)\n",
    "    print('confusion matrix')\n",
    "    print(conf_mat)\n",
    "    print(classification_report(y_test,y_pred))\n",
    "    \n",
    "    # plot a ROC curve\n",
    "    from sklearn.metrics import roc_curve\n",
    "    from sklearn.metrics import auc\n",
    "\n",
    "    # Compute fpr, tpr, thresholds and roc auc\n",
    "    roc_curve(y_test, y_pred)\n",
    "    fpr, tpr, thresholds = roc_curve(y_test, y_pred)\n",
    "    roc_auc = auc(fpr, tpr)\n",
    "\n",
    "    # Plot ROC curve\n",
    "    plt.plot(fpr, tpr, label='ROC curve (area = %0.3f)' % roc_auc)\n",
    "    plt.plot([0, 1], [0, 1], 'k--')  # random predictions curve\n",
    "    plt.xlim([0.0, 1.0])\n",
    "    plt.ylim([0.0, 1.0])\n",
    "    plt.xlabel('False Positive Rate or (1 - Specifity)')\n",
    "    plt.ylabel('True Positive Rate or (Sensitivity)')\n",
    "    plt.title('Receiver Operating Characteristic')\n",
    "    plt.legend(loc=\"lower right\")\n",
    "    # Calculate the area under the curve (AUC)\n",
    "    print('AUC:', roc_auc.round(2))\n",
    "    # top 20 features\n",
    "    features=X_train.columns\n",
    "    importances = dtc.feature_importances_\n",
    "    indices = np.argsort(importances)[-20:]\n",
    "    plt.figure(figsize=(20,20))\n",
    "    plt.title('Feature Importances')\n",
    "    plt.barh(range(len(indices)), importances[indices], color='b', align='center')\n",
    "    plt.yticks(range(len(indices)), features[indices])\n",
    "    plt.xlabel('Relative Importance')\n",
    "    plt.show()\n",
    "\n",
    "print('Setup complete!')"
   ]
  },
  {
   "cell_type": "markdown",
   "metadata": {
    "hidden": true
   },
   "source": [
    "><img width = 50 height = 50 style=\"float: left; margin-right: 10px;\" src=\"https://upload.wikimedia.org/wikipedia/commons/b/b9/Stop_sign_dark_red.svg\">Stop! If you have not run the code cell above, please do so. The case will not work properly if you do not complete the setup. Otherwise, lets begin!"
   ]
  },
  {
   "cell_type": "markdown",
   "metadata": {
    "ExecuteTime": {
     "end_time": "2019-11-08T21:30:08.454527Z",
     "start_time": "2019-11-08T21:30:08.446403Z"
    },
    "heading_collapsed": true
   },
   "source": [
    "# Cleaning our Data"
   ]
  },
  {
   "cell_type": "markdown",
   "metadata": {
    "hidden": true
   },
   "source": [
    "The first step in any analytic project is to clean our data. This is a critical step which will ensure our data is correct, consistent, and ready for analysis. If we do not properly process our data, we will not able to analyze it effectively regardless of how advanced our analytic technique is. A common saying in data analysis is \"Junk in, Junk out\". "
   ]
  },
  {
   "cell_type": "markdown",
   "metadata": {
    "heading_collapsed": true,
    "hidden": true
   },
   "source": [
    "## Reading our data"
   ]
  },
  {
   "cell_type": "markdown",
   "metadata": {
    "hidden": true
   },
   "source": [
    "We'll begin by reading in our data. This means we will be loading the data onto the system so python can understand the data. "
   ]
  },
  {
   "cell_type": "code",
   "execution_count": null,
   "metadata": {
    "ExecuteTime": {
     "end_time": "2020-03-19T17:33:06.108660Z",
     "start_time": "2020-03-19T17:33:05.898264Z"
    },
    "cell_style": "center",
    "hidden": true
   },
   "outputs": [],
   "source": [
    "# Note: Unicode Transformation Format – 8 (UTF-8) is a standard to encode characters in different languages\n",
    "print('Data loading, please wait')\n",
    "no_show_data = pd.read_csv(\"data/med_no_show.csv\",  encoding=\"UTF-8\", sep=\",\")\n",
    "print('Data loaded!')"
   ]
  },
  {
   "cell_type": "markdown",
   "metadata": {
    "heading_collapsed": true,
    "hidden": true
   },
   "source": [
    "## Inspecting our Data"
   ]
  },
  {
   "cell_type": "markdown",
   "metadata": {
    "hidden": true
   },
   "source": [
    "Now lets get an overview of our data"
   ]
  },
  {
   "cell_type": "code",
   "execution_count": null,
   "metadata": {
    "ExecuteTime": {
     "end_time": "2020-03-19T17:33:06.123656Z",
     "start_time": "2020-03-19T17:33:06.110658Z"
    },
    "hidden": true
   },
   "outputs": [],
   "source": [
    "no_show_data.head()"
   ]
  },
  {
   "cell_type": "markdown",
   "metadata": {
    "hidden": true
   },
   "source": [
    "You'll immediately notice some of the results are in a foreign language or in an unfriendly format. This data is derived from deidentified Brazilian patients. We'll need to make this data formatted correctly, easily interpretable, and easily understood by an English audience. We have our work cut out for us but it will be worth it when we analyze the data!"
   ]
  },
  {
   "cell_type": "markdown",
   "metadata": {
    "heading_collapsed": true,
    "hidden": true
   },
   "source": [
    "## Recoding Variables"
   ]
  },
  {
   "cell_type": "markdown",
   "metadata": {
    "hidden": true
   },
   "source": [
    "Sometimes the data you receive may be coded in such a way that is not easily understandable. Recoding the data (turning the data into a more easily human readable format) can help make your analysis quicker and smoother. Lets give our variable names easily understood labels. "
   ]
  },
  {
   "cell_type": "code",
   "execution_count": null,
   "metadata": {
    "ExecuteTime": {
     "end_time": "2020-03-19T17:33:06.137094Z",
     "start_time": "2020-03-19T17:33:06.125644Z"
    },
    "code_folding": [],
    "hidden": true
   },
   "outputs": [],
   "source": [
    "# Renaming Variables\n",
    "no_show_data.columns=['patient_id','appointment_id','gender','scheduled_day','appointment_day','age',\n",
    "                     'neighborhood','enroll_subsidy','hypertension','diabetes','alcoholism','handicap',\n",
    "                     'sms_received','no_show']\n",
    "\n",
    "print('Variables renamed.')"
   ]
  },
  {
   "cell_type": "markdown",
   "metadata": {
    "hidden": true
   },
   "source": [
    "We now need to recode many of our variables into meaningful outputs. For instance, we will code the variable `hypertension`. If `hypertension` has a value of `1` then we code the variable as `Has hypertension`. If `hypertension` has a value of `0` then we code the variable as `No hypertension`. "
   ]
  },
  {
   "cell_type": "code",
   "execution_count": null,
   "metadata": {
    "ExecuteTime": {
     "end_time": "2020-03-19T17:33:06.287445Z",
     "start_time": "2020-03-19T17:33:06.138012Z"
    },
    "hidden": true
   },
   "outputs": [],
   "source": [
    "# Recoding Variables\n",
    "# Convert to character so can be recoded\n",
    "\n",
    "\n",
    "no_show_data.loc[no_show_data['enroll_subsidy']==1,'enroll_subsidy']='Enrolled'\n",
    "no_show_data.loc[no_show_data['enroll_subsidy']==0,'enroll_subsidy']='Not enrolled'\n",
    "\n",
    "\n",
    "\n",
    "no_show_data.loc[no_show_data.hypertension==1,'hypertension']='Has hypertension'\n",
    "no_show_data.loc[no_show_data.hypertension==0,'hypertension']='No hypertension'\n",
    "\n",
    "no_show_data.loc[no_show_data.diabetes==1,'diabetes']='Has diabetes'\n",
    "no_show_data.loc[no_show_data.diabetes==0,'diabetes']='No diabetes'\n",
    "\n",
    "no_show_data.loc[no_show_data.sms_received==1,'sms_received']='Yes'\n",
    "no_show_data.loc[no_show_data.sms_received==0,'sms_received']='No'\n",
    "\n",
    "print('Variables recoded')"
   ]
  },
  {
   "cell_type": "markdown",
   "metadata": {
    "hidden": true
   },
   "source": [
    "Let confirm our changes"
   ]
  },
  {
   "cell_type": "code",
   "execution_count": null,
   "metadata": {
    "ExecuteTime": {
     "end_time": "2020-03-19T17:33:06.302432Z",
     "start_time": "2020-03-19T17:33:06.289431Z"
    },
    "hidden": true
   },
   "outputs": [],
   "source": [
    "no_show_data[['enroll_subsidy', 'hypertension', 'diabetes', 'sms_received']].head()"
   ]
  },
  {
   "cell_type": "markdown",
   "metadata": {
    "heading_collapsed": true,
    "hidden": true
   },
   "source": [
    "## Dealing with Date and Time Data"
   ]
  },
  {
   "cell_type": "markdown",
   "metadata": {
    "hidden": true
   },
   "source": [
    "Our data also contains time and date data. Temporal data is particularly tricky to deal with. Lets get an overview of our data again."
   ]
  },
  {
   "cell_type": "code",
   "execution_count": null,
   "metadata": {
    "ExecuteTime": {
     "end_time": "2020-03-19T17:33:06.326592Z",
     "start_time": "2020-03-19T17:33:06.305388Z"
    },
    "hidden": true
   },
   "outputs": [],
   "source": [
    "no_show_data[['scheduled_day', 'appointment_day']].head()"
   ]
  },
  {
   "cell_type": "markdown",
   "metadata": {
    "hidden": true
   },
   "source": [
    "Notice that the time and dates have `T` and `Z` characters spread out throughout their entries. Lets get rid of these characters."
   ]
  },
  {
   "cell_type": "code",
   "execution_count": null,
   "metadata": {
    "ExecuteTime": {
     "end_time": "2020-03-19T17:33:06.720010Z",
     "start_time": "2020-03-19T17:33:06.329584Z"
    },
    "hidden": true
   },
   "outputs": [],
   "source": [
    "no_show_data['scheduled_day'] = pd.to_datetime(no_show_data['scheduled_day'], \n",
    " format = '%Y-%m-%dT%H:%M:%SZ', \n",
    " errors = 'coerce')\n",
    "no_show_data['appointment_day'] = pd.to_datetime(no_show_data['appointment_day'], \n",
    " format = '%Y-%m-%dT%H:%M:%SZ', \n",
    " errors = 'coerce')"
   ]
  },
  {
   "cell_type": "markdown",
   "metadata": {
    "hidden": true
   },
   "source": [
    "We now have cleaned data for both the appointment and scheduled days. Knowing the time difference between the scheduled day and appointment day would also be useful information. We would suspect that a longer lag between scheduled days and appointment days would be more likely to no show. Lets create the time difference variable now. We will name this variable `delta_days`."
   ]
  },
  {
   "cell_type": "code",
   "execution_count": null,
   "metadata": {
    "ExecuteTime": {
     "end_time": "2020-03-19T17:33:06.757465Z",
     "start_time": "2020-03-19T17:33:06.721662Z"
    },
    "hidden": true
   },
   "outputs": [],
   "source": [
    "# Add 23:59:59 to the appointment days\n",
    "no_show_data['appointment_day'] = no_show_data['appointment_day'] +pd.Timedelta('1d') - pd.Timedelta('1s')\n",
    "\n",
    "# Create delta_days variable (difference between appointment days and scheduled days)\n",
    "no_show_data=no_show_data.loc[(no_show_data['scheduled_day']<=no_show_data['appointment_day'])]\n",
    "no_show_data['delta_days'] = (no_show_data['appointment_day']-no_show_data['scheduled_day']).dt.total_seconds()/(60*60*24)"
   ]
  },
  {
   "cell_type": "markdown",
   "metadata": {
    "hidden": true
   },
   "source": [
    "We have no successfully created the `delta_days` variable. This variable is what is known as a derived variable. This means that this variable was created by us rather than being part of the original dataset. A critical part of data analytics is determining whether there are any useful derived variables that can be created from the original data.  "
   ]
  },
  {
   "cell_type": "markdown",
   "metadata": {
    "heading_collapsed": true,
    "hidden": true
   },
   "source": [
    "## Checking for Missing Values"
   ]
  },
  {
   "cell_type": "markdown",
   "metadata": {
    "hidden": true
   },
   "source": [
    "Next, we will check for missing values. Missing values may unknowingly influence our results. For instance, if the missing data differs from the non-missing data in a significant way, this could lead you to draw erroneous conclusions from incomplete data. \n",
    "\n",
    "Let's determine the number of missing for each variable"
   ]
  },
  {
   "cell_type": "code",
   "execution_count": null,
   "metadata": {
    "ExecuteTime": {
     "end_time": "2020-03-19T17:33:06.796328Z",
     "start_time": "2020-03-19T17:33:06.758429Z"
    },
    "hidden": true
   },
   "outputs": [],
   "source": [
    "# Determine number of missing for each variable\n",
    "print('Number of Missing Data for Each Variable:')\n",
    "no_show_data.isna().sum()"
   ]
  },
  {
   "cell_type": "markdown",
   "metadata": {
    "hidden": true
   },
   "source": [
    "No missing data! This will rarely happen. It's more likely there are erroneous values that our program is not picking up as errors. "
   ]
  },
  {
   "cell_type": "code",
   "execution_count": null,
   "metadata": {
    "ExecuteTime": {
     "end_time": "2020-03-19T17:33:06.812947Z",
     "start_time": "2020-03-19T17:33:06.798324Z"
    },
    "hidden": true
   },
   "outputs": [],
   "source": [
    "no_show_data.age.describe()"
   ]
  },
  {
   "cell_type": "markdown",
   "metadata": {
    "hidden": true
   },
   "source": [
    "For instance, in `age` we can see someone that is -1 years old and 115 years old. These are highly unlikely values. Lets remove implausible values. We will then classify these implausible values in a format our program can recognize. Based on observation, we can make these initial judgements:\n",
    "\n",
    "**Age:**\n",
    "- It's physiologically implausible for an individual to be -1 years old and highly unlikely for an individuals to be 115 years old. This is likely an input error. \n",
    "\n",
    "Lets examine `age` more closely"
   ]
  },
  {
   "cell_type": "code",
   "execution_count": null,
   "metadata": {
    "ExecuteTime": {
     "end_time": "2020-03-19T17:33:06.826451Z",
     "start_time": "2020-03-19T17:33:06.814942Z"
    },
    "hidden": true
   },
   "outputs": [],
   "source": [
    "print('Age:')\n",
    "no_show_data.age.quantile((0, .01, .05, .10, .25, .50, .75, .90, .95, .99, 1))"
   ]
  },
  {
   "cell_type": "markdown",
   "metadata": {
    "hidden": true
   },
   "source": [
    "Once again, ages below 0 are impossible and ages above 100 are unlikely given the trends in our data. Lets remove these values. "
   ]
  },
  {
   "cell_type": "code",
   "execution_count": null,
   "metadata": {
    "ExecuteTime": {
     "end_time": "2020-03-19T17:33:06.874605Z",
     "start_time": "2020-03-19T17:33:06.827441Z"
    },
    "hidden": true
   },
   "outputs": [],
   "source": [
    "no_show_data=no_show_data[no_show_data.age >= 0]\n",
    "no_show_data=no_show_data[no_show_data.age<=100]\n",
    "\n",
    "print('Data edited')"
   ]
  },
  {
   "cell_type": "markdown",
   "metadata": {
    "hidden": true
   },
   "source": [
    "Lets confirm"
   ]
  },
  {
   "cell_type": "code",
   "execution_count": null,
   "metadata": {
    "ExecuteTime": {
     "end_time": "2020-03-19T17:33:06.894593Z",
     "start_time": "2020-03-19T17:33:06.876600Z"
    },
    "hidden": true
   },
   "outputs": [],
   "source": [
    "print('Number of Missing Data for Each Variable:')\n",
    "no_show_data.age.describe()"
   ]
  },
  {
   "cell_type": "markdown",
   "metadata": {
    "hidden": true
   },
   "source": [
    "Better although it looks like we still have unusually clean data. Not a bad problem to have!"
   ]
  },
  {
   "cell_type": "markdown",
   "metadata": {
    "heading_collapsed": true,
    "hidden": true
   },
   "source": [
    "## Creating Day of Week"
   ]
  },
  {
   "cell_type": "markdown",
   "metadata": {
    "hidden": true
   },
   "source": [
    "Thanks to our time data, we can extract some more useful information. We can use our date data to determine the day of the week the appointment occurred. Lets create a variable with data called `appt_day_of_week`. "
   ]
  },
  {
   "cell_type": "code",
   "execution_count": null,
   "metadata": {
    "ExecuteTime": {
     "end_time": "2020-03-19T17:33:06.940552Z",
     "start_time": "2020-03-19T17:33:06.897622Z"
    },
    "hidden": true
   },
   "outputs": [],
   "source": [
    "# no_show_data$appt_day_of_week <- weekdays(no_show_data$appointment_day)\n",
    "no_show_data['appt_day_of_week']=pd.to_datetime(no_show_data.appointment_day).dt.weekday\n",
    "\n",
    "no_show_data['appt_day_of_week'] = no_show_data.appt_day_of_week.apply(lambda x: 'Monday' if x == 0 \n",
    "                                                  else ('Tuesday' if x == 1\n",
    "                                                        else ('Wednesday' if x == 2\n",
    "                                                              else ('Thursday' if x == 3 \n",
    "                                                                    else ('Friday' if x == 4 \n",
    "                                                                          else ('Saturday' if x == 5 \n",
    "                                                                                else 'Sunday'))))))\n",
    "                                                            \n",
    "print('Variable appt_day_of_week created')"
   ]
  },
  {
   "cell_type": "markdown",
   "metadata": {
    "ExecuteTime": {
     "end_time": "2019-10-24T18:20:03.591316Z",
     "start_time": "2019-10-24T18:19:58.299Z"
    },
    "hidden": true
   },
   "source": [
    "Many times you can use your given data to extract even more useful data. Be on the lookout for these opportunities. The more **relevant** data you can extract, the better. "
   ]
  },
  {
   "cell_type": "markdown",
   "metadata": {
    "heading_collapsed": true
   },
   "source": [
    "# Exploratory Analysis"
   ]
  },
  {
   "cell_type": "markdown",
   "metadata": {
    "hidden": true
   },
   "source": [
    "Now that we've cleaned our data we can begin exploring our data and selecting variables (also known as features) which we predict will be good candidates for our predictive model. How will we know which features are good candidates? One way we can quantitatively assess our variables is through descriptive analysis and data visualization. We will explore our data based on their data type (quantitative or categorical). "
   ]
  },
  {
   "cell_type": "markdown",
   "metadata": {
    "heading_collapsed": true,
    "hidden": true
   },
   "source": [
    "### Why Can't We Just Use More Variables?"
   ]
  },
  {
   "cell_type": "markdown",
   "metadata": {
    "hidden": true
   },
   "source": [
    "One issue you might be wondering about is why do we even need to select variables. Why not just use all of the variables? After all, more data lead to better models right? This is a common misconception that even experience analysts need to watch out for. Including too many features in your prediction model can lead to what is known as 'overfitting'. Overfitting is essentially where you build a model that adheres too closely to your current data set and is unable to predict observations that are not from your current data set. In other words, its where you develop a model that tuned too closely to your current data, and is not generalizable to outside data sources. \n",
    "\n",
    "<img src=\"https://3gp10c1vpy442j63me73gy3s-wpengine.netdna-ssl.com/wp-content/uploads/2018/03/Screen-Shot-2018-03-22-at-11.22.15-AM-e1527613915658.png\" align=\"center\" style=\"width: 50%; margin-bottom: 0.5em; margin-top: 0.5em;\">"
   ]
  },
  {
   "cell_type": "markdown",
   "metadata": {
    "heading_collapsed": true,
    "hidden": true
   },
   "source": [
    "## Assessing Numeric Variables"
   ]
  },
  {
   "cell_type": "markdown",
   "metadata": {
    "hidden": true
   },
   "source": [
    "First we will examine the quantitative or numeric variables. The code below will give us an overview of the structure of our data. Look for variables with the label `int64` or `float64`. These are two kinds of quantitative variables in python. "
   ]
  },
  {
   "cell_type": "code",
   "execution_count": null,
   "metadata": {
    "ExecuteTime": {
     "end_time": "2020-03-19T17:33:06.994409Z",
     "start_time": "2020-03-19T17:33:06.941552Z"
    },
    "hidden": true
   },
   "outputs": [],
   "source": [
    "no_show_data.info()"
   ]
  },
  {
   "cell_type": "markdown",
   "metadata": {
    "hidden": true
   },
   "source": [
    "We can see that our only numeric variable is `age` and `delta_days`. Lets examine its distribution.  "
   ]
  },
  {
   "cell_type": "code",
   "execution_count": null,
   "metadata": {
    "ExecuteTime": {
     "end_time": "2020-03-19T17:33:07.507215Z",
     "start_time": "2020-03-19T17:33:06.996405Z"
    },
    "hidden": true
   },
   "outputs": [],
   "source": [
    "### Age ###\n",
    "# Create Plot\n",
    "plt.figure(figsize=(15,15))\n",
    "n, bins, patches=plt.hist(no_show_data.age,bins=15, alpha=0.7, rwidth=0.85)\n",
    "xlabel=plt.xlabel('Age (years)')\n",
    "ylabel=plt.ylabel('Frequency Count')\n",
    "plt.axvline(no_show_data.age.median(), color='r',linestyle='dashed')\n",
    "plt.text(45,12000,'Dashed Line Represents Median Age')\n",
    "plt.show()\n",
    "\n",
    "### Delta_days ###\n",
    "# Create Plot\n",
    "plt.figure(figsize=(15,15))\n",
    "n, bins, patches=plt.hist(no_show_data.delta_days,bins=15, alpha=0.7, rwidth=0.85)\n",
    "xlabel=plt.xlabel('Time Difference (days)')\n",
    "ylabel=plt.ylabel('Frequency Count')\n",
    "plt.axvline(no_show_data.delta_days.median(), color='r',linestyle='dashed')\n",
    "plt.text(45,12000,'Dashed Line Represents Median Time DIfference')\n",
    "plt.show()"
   ]
  },
  {
   "cell_type": "markdown",
   "metadata": {
    "hidden": true
   },
   "source": [
    "Now lets see if theres a relationship between `age`, `delta_days`, and `no_show`"
   ]
  },
  {
   "cell_type": "code",
   "execution_count": null,
   "metadata": {
    "ExecuteTime": {
     "end_time": "2020-03-19T17:33:07.920347Z",
     "start_time": "2020-03-19T17:33:07.508239Z"
    },
    "hidden": true
   },
   "outputs": [],
   "source": [
    "plt.figure(figsize=(15,15))\n",
    "sns.violinplot(y=no_show_data.no_show,x=no_show_data.age)\n",
    "plt.xlabel('Age')\n",
    "plt.ylabel('No Show')\n",
    "print('The dots in the center of each violin plot represent median age of each group')"
   ]
  },
  {
   "cell_type": "markdown",
   "metadata": {
    "hidden": true
   },
   "source": [
    "There appear to be significant difference for no shows based upon the time difference between scheduling and appointment and the actual appointment day. Assessing for `age` if there is a difference is more difficult. The distribution shape and median seems similar, but there appear to be nuanced differences. It's difficult to tell whether there is a significant difference in showing up to appointments by age group. We can gain further clarity by performing a t-test"
   ]
  },
  {
   "cell_type": "code",
   "execution_count": null,
   "metadata": {
    "ExecuteTime": {
     "end_time": "2020-03-19T17:33:07.961905Z",
     "start_time": "2020-03-19T17:33:07.921341Z"
    },
    "hidden": true
   },
   "outputs": [],
   "source": [
    "stats.ttest_ind(no_show_data[no_show_data.no_show=='No'].age, no_show_data[no_show_data.no_show=='Yes'].age,equal_var= False)"
   ]
  },
  {
   "cell_type": "markdown",
   "metadata": {
    "hidden": true
   },
   "source": [
    "Based on our t.test results we can see that is looks like age between whether an individual showed to their appointments are not the same (p < 0.05). For this reason we will be keeping this as a variable for building our prediction model. "
   ]
  },
  {
   "cell_type": "markdown",
   "metadata": {
    "heading_collapsed": true,
    "hidden": true
   },
   "source": [
    "### What is a t-test"
   ]
  },
  {
   "cell_type": "markdown",
   "metadata": {
    "hidden": true
   },
   "source": [
    "A t-test is a type of test to assess if there is a statistically significant difference between the means of two groups. It requires that both variables being test are numeric variables. In our case, we were examining the mean age of the group that showed up to their appointments against the group that did not show up. The test worked because age is a numeric variable. "
   ]
  },
  {
   "cell_type": "markdown",
   "metadata": {
    "heading_collapsed": true,
    "hidden": true
   },
   "source": [
    "## Assessing Categorical Variables"
   ]
  },
  {
   "cell_type": "markdown",
   "metadata": {
    "hidden": true
   },
   "source": [
    "Next we will examine the categorical variables. The code below will give us an overview of the structure of our data. Look for variables with the label `Object`. These are a kind of categorical variable in python. "
   ]
  },
  {
   "cell_type": "code",
   "execution_count": null,
   "metadata": {
    "ExecuteTime": {
     "end_time": "2020-03-19T17:33:07.974870Z",
     "start_time": "2020-03-19T17:33:07.962902Z"
    },
    "hidden": true
   },
   "outputs": [],
   "source": [
    "def stacked_plot(feature):\n",
    "    binary=no_show_data.groupby('no_show')\n",
    "    length=len(no_show_data[feature].unique())\n",
    "    layers=[]\n",
    "    for symbol, group in binary:\n",
    "        sequence=group[feature].value_counts().index\n",
    "        temp=[]\n",
    "        try:\n",
    "            for i in range(length):\n",
    "                number=group[feature].value_counts()[i]\n",
    "                temp.append(number)\n",
    "        except:\n",
    "            print('there\\'s no case for at least one category ')\n",
    "        temp=dict(zip(sequence,temp))\n",
    "        layers.append(temp)\n",
    "    names=no_show_data[feature].unique()\n",
    "    no_show_layer=[0]*len(names)\n",
    "    show_layer=[0]*len(names)\n",
    "    position=np.arange(len(names))+1\n",
    "    for i in range(len(names)):\n",
    "        try:\n",
    "            no_show_layer[i]=layers[0][names[i]]\n",
    "        except:\n",
    "            no_show_layer[i]=0\n",
    "        try:\n",
    "            show_layer[i]=layers[1][names[i]]\n",
    "        except:\n",
    "            show_layer[i]=0\n",
    "        total=no_show_layer[i]+show_layer[i]\n",
    "        no_show_layer[i]=no_show_layer[i]/total\n",
    "        show_layer[i]=show_layer[i]/total\n",
    "    plt.bar(position,no_show_layer, color='blue', edgecolor='white')\n",
    "    plt.bar(position, show_layer, bottom=no_show_layer, color='red', edgecolor='white')\n",
    "    plt.title(feature)\n",
    "    plt.xticks(position, names, fontweight='bold')"
   ]
  },
  {
   "cell_type": "markdown",
   "metadata": {
    "hidden": true
   },
   "source": [
    "We should be able to observe the effect of these variables on no shows well and quickly using stacked bar plots. "
   ]
  },
  {
   "cell_type": "code",
   "execution_count": null,
   "metadata": {
    "ExecuteTime": {
     "end_time": "2020-03-19T17:33:09.071158Z",
     "start_time": "2020-03-19T17:33:07.976451Z"
    },
    "hidden": true
   },
   "outputs": [],
   "source": [
    "plt.figure(figsize=(20,20))\n",
    "plt.subplot(4,2,1)\n",
    "stacked_plot('gender')\n",
    "\n",
    "plt.subplot(4,2,2)\n",
    "stacked_plot('enroll_subsidy')\n",
    "\n",
    "plt.subplot(4,2,3)\n",
    "stacked_plot('hypertension')\n",
    "\n",
    "plt.subplot(4,2,4)\n",
    "stacked_plot('diabetes')\n",
    "\n",
    "plt.subplot(4,2,5)\n",
    "stacked_plot('alcoholism')\n",
    "\n",
    "plt.subplot(4,2,6)\n",
    "stacked_plot('handicap')\n",
    "\n",
    "plt.subplot(4,2,7)\n",
    "stacked_plot('sms_received')\n",
    "\n",
    "plt.subplot(4,2,8)\n",
    "stacked_plot('appt_day_of_week')\n",
    "\n",
    "plt.show()"
   ]
  },
  {
   "cell_type": "markdown",
   "metadata": {
    "hidden": true
   },
   "source": [
    "We can see based on our visualizations that the variables `age`, `neighborhood`, `enroll_subsidy`, `handicap`, `sms_received`, and `appt_day_of_week` have an effect on no show status. This is indicates they would be good variables to include in our prediction model. "
   ]
  },
  {
   "cell_type": "markdown",
   "metadata": {
    "hidden": true
   },
   "source": [
    "One variable we have not look at yet is the `neighborhood` variable. Since there are 81 different neighborhoods included in our data, it would not be practical to visualize this variable using a stacked bar plot similar to how we did for our other variables. However, we can use an chi-squared test to see whether this variable has an effect on no show status. "
   ]
  },
  {
   "cell_type": "code",
   "execution_count": null,
   "metadata": {
    "ExecuteTime": {
     "end_time": "2020-03-19T17:33:09.140708Z",
     "start_time": "2020-03-19T17:33:09.073153Z"
    },
    "hidden": true
   },
   "outputs": [],
   "source": [
    "contingency_table = pd.crosstab(no_show_data.no_show,no_show_data.neighborhood)\n",
    "\n",
    "f_obs=np.array([contingency_table.iloc[0][:],\n",
    "              contingency_table.iloc[1][:]])\n",
    "f_obs\n",
    "\n",
    "stats.chi2_contingency(f_obs)[0:3]"
   ]
  },
  {
   "cell_type": "code",
   "execution_count": null,
   "metadata": {
    "ExecuteTime": {
     "end_time": "2020-03-19T17:33:09.171030Z",
     "start_time": "2020-03-19T17:33:09.142703Z"
    },
    "hidden": true
   },
   "outputs": [],
   "source": [
    "no_show_data.neighborhood[no_show_data.neighborhood.isin(['PARQUE INDUSTRIAL','ILHAS OCEÂNICAS DE TRINDADE','AEROPORTO','ILHA DO FRADE','ILHA DO BOI','PONTAL DE CAMBURI','MORADA DE CAMBURI','NAZARETH','SEGURANÇA DO LAR','UNIVERSITÁRIO','HORTO','SANTA HELENA'])]='Other'"
   ]
  },
  {
   "cell_type": "markdown",
   "metadata": {
    "hidden": true
   },
   "source": [
    "Based on our results we can see that the number of no shows differs significantly based upon neighborhood. "
   ]
  },
  {
   "cell_type": "markdown",
   "metadata": {
    "heading_collapsed": true,
    "hidden": true
   },
   "source": [
    "### What is a Chi-squared Test"
   ]
  },
  {
   "cell_type": "markdown",
   "metadata": {
    "hidden": true
   },
   "source": [
    "A chi-square test is a statistical test that tells you whether groups of observations are different. For instance, say you're researching two companies and you divide them either as male or female. The number of males compared to females in the two companies differ but how can you tell that this is not random chance? A chi-squared test can be used to differentiate whether the **observed** number of males and females in your study differs from the **expected** number of males and females. \n",
    "\n",
    "> Note: Chi-square tests can only be used for categorical variables. There are separate tests to determine whether numerical numbers differ form one another. These additional tests are beyond the scope of the case. "
   ]
  },
  {
   "cell_type": "markdown",
   "metadata": {
    "heading_collapsed": true,
    "hidden": true
   },
   "source": [
    "## Analyzing Our Data: Logistic Regression "
   ]
  },
  {
   "cell_type": "markdown",
   "metadata": {
    "hidden": true
   },
   "source": [
    "Now that our variables have been successfully converted and our outcome has been defined, we can analyze our data. Logistic regression is a mathematical model that estimates the probability of a binary outcomes (such as whether or not a patient is a no show). It is named after the logistic curve which takes the S-shape depicted below.\n",
    "<img src=\"https://upload.wikimedia.org/wikipedia/commons/thumb/8/88/Logistic-curve.svg/640px-Logistic-curve.svg.png?1566122052688\" alt=\"Logistic Curve\" title=\"Logistic Curve\" />"
   ]
  },
  {
   "cell_type": "markdown",
   "metadata": {
    "hidden": true,
    "solution2": "hidden",
    "solution2_first": true
   },
   "source": [
    "**Pre-Check:** What is our primary outcome? What information will a logistic regression model tell use about our outcome?"
   ]
  },
  {
   "cell_type": "markdown",
   "metadata": {
    "hidden": true,
    "solution2": "hidden"
   },
   "source": [
    "Our primary outcome is whether a individual did or did not show to their appointment. The logistic regression model will allow us to see how individuals variables affect whether an individual has a has a no show **while controlling for other variables in the model**. For instance, we can see whether being older affects having a no show while controlling for handicaps, neighborhood, etc...\n",
    "\n",
    "Very useful indeed!"
   ]
  },
  {
   "cell_type": "markdown",
   "metadata": {
    "hidden": true,
    "solution2": "hidden",
    "solution2_first": true
   },
   "source": [
    "**Follow-Up:** What is statistical significance? What is a generally accepted level of statistical significance in healthcare research?"
   ]
  },
  {
   "cell_type": "markdown",
   "metadata": {
    "hidden": true,
    "solution2": "hidden"
   },
   "source": [
    "Statistical Significance can be defined as the chance that the relationship you observed in your data occurred by chance. What does this mean? Lets say our logistic regression model finds that weight has a statistically significant effect on being high risk or low risk asthmatic patient. This means that it more likely that there is indeed a relationship between weight and risk than chance would suggest. \n",
    "\n",
    "The conventional level of significance that is accepted is < 0.05 (this number is referred to as a p-value). This means that there is less than 5% chance that the observed relationship in the data was due to chance alone. The image below display a sample R output.\n",
    "\n",
    "<img src=\"https://drchrispook.files.wordpress.com/2017/02/anova-output-from-r1.jpg\" align=\"center\" style=\"margin-bottom: 0.5em; margin-top: 0.5em;\">"
   ]
  },
  {
   "cell_type": "markdown",
   "metadata": {
    "hidden": true
   },
   "source": [
    "We can now create our logistic model. "
   ]
  },
  {
   "cell_type": "code",
   "execution_count": null,
   "metadata": {
    "ExecuteTime": {
     "end_time": "2020-03-19T17:33:09.901955Z",
     "start_time": "2020-03-19T17:33:09.173025Z"
    },
    "hidden": true
   },
   "outputs": [],
   "source": [
    "# Prepare data\n",
    "no_show_data.loc[no_show_data.no_show=='No','no_show']=0\n",
    "no_show_data.loc[no_show_data.no_show=='Yes','no_show']=1\n",
    "\n",
    "# Prepare data continued\n",
    "no_show_data.handicap=no_show_data.handicap.astype('category')\n",
    "X=no_show_data[['delta_days','age', 'enroll_subsidy','hypertension','handicap', 'diabetes', 'sms_received']]\n",
    "Y=no_show_data.no_show\n",
    "X=pd.get_dummies(X)\n",
    "\n",
    "# Create Logistic Regression Model\n",
    "model=sm.GLM(Y,X)\n",
    "result=model.fit()\n",
    "result.summary()"
   ]
  },
  {
   "cell_type": "markdown",
   "metadata": {
    "hidden": true
   },
   "source": [
    "The above model allows us to see what variables are considered to have a statically significant effect on risk for diabetes. For instance, `age` has a statistically significant effect with a p-value of < 0.001 \n",
    "\n",
    "Keep in mind that even if a variable is not statistically significant does not mean it is a poor feature. If you have domain knowledge which indicate a feature is particularly important for your outcome, you should still consider including that feature in your model. Clinical significance is more important than statistical significance!"
   ]
  },
  {
   "cell_type": "markdown",
   "metadata": {
    "heading_collapsed": true
   },
   "source": [
    "# Building A Predictive Model"
   ]
  },
  {
   "cell_type": "markdown",
   "metadata": {
    "hidden": true
   },
   "source": [
    "We are now ready to build a predictive model. If all goes well, we will have a tool that will accurately predict no show appointments."
   ]
  },
  {
   "cell_type": "markdown",
   "metadata": {
    "hidden": true,
    "solution2": "hidden",
    "solution2_first": true
   },
   "source": [
    "**Pre-Check:** So far we haven't done any machine learning yet. What we've done can be considered traditional statistical analyses. What is Machine Learning?"
   ]
  },
  {
   "cell_type": "markdown",
   "metadata": {
    "hidden": true,
    "solution2": "hidden"
   },
   "source": [
    "In machine learning, data is split into a training and test set. A machine learning model is then trainined on the training set to predict whatever outcome of interest it was designed to predict (in our case we're predicting whether the asthmatic patient is high- or low- risk). The models predictive performance is then evaluated using the test set. \n",
    "\n",
    "<img src=\"https://www.sqlservercentral.com/wp-content/uploads/2019/05/Image-2.jpg\" align=\"center\" style=\"margin-bottom: 0.5em; margin-top: 0.5em;\">"
   ]
  },
  {
   "cell_type": "markdown",
   "metadata": {
    "hidden": true
   },
   "source": [
    "An important decision you have to make when building your model is to decide what kind of predictive technique you will use. For our case we will be using a model called a decision tree. Decision trees are charts which help make a decision or prediction. Each branch represents a possible outcome. The end of branches represent an end result or decision. Decision trees are common in medical settings. For instance, below is an algorithm for evaluating febrile seizures. This is an example of a decision tree. \n",
    "\n",
    "<img src=\"https://img.grepmed.com/uploads/1105/febrileseizure-management-algorithm-diagnosis-complex-original.png\" align=\"center\" style=\"margin-bottom: 0.5em; margin-top: 0.5em;\">"
   ]
  },
  {
   "cell_type": "markdown",
   "metadata": {
    "hidden": true
   },
   "source": [
    "We now need to split our data into training and test data. We will be splitting our data into 80% training data and 20% test data. "
   ]
  },
  {
   "cell_type": "code",
   "execution_count": null,
   "metadata": {
    "ExecuteTime": {
     "end_time": "2020-03-19T17:33:09.967913Z",
     "start_time": "2020-03-19T17:33:09.904946Z"
    },
    "hidden": true
   },
   "outputs": [],
   "source": [
    "# Split the training data and testing data\n",
    "X_train, X_test, y_train, y_test = train_test_split(X, Y, test_size=0.2, random_state=30)"
   ]
  },
  {
   "cell_type": "code",
   "execution_count": null,
   "metadata": {
    "ExecuteTime": {
     "end_time": "2020-03-19T17:33:09.990151Z",
     "start_time": "2020-03-19T17:33:09.969908Z"
    },
    "hidden": true
   },
   "outputs": [],
   "source": [
    "X_train.head()"
   ]
  },
  {
   "cell_type": "code",
   "execution_count": null,
   "metadata": {
    "ExecuteTime": {
     "end_time": "2020-03-19T17:33:10.005111Z",
     "start_time": "2020-03-19T17:33:09.992145Z"
    },
    "hidden": true
   },
   "outputs": [],
   "source": [
    "y_train.head()"
   ]
  },
  {
   "cell_type": "markdown",
   "metadata": {
    "hidden": true
   },
   "source": [
    "Now that we've created our training and test data, we need to build our machine learning model. "
   ]
  },
  {
   "cell_type": "code",
   "execution_count": null,
   "metadata": {
    "ExecuteTime": {
     "end_time": "2020-03-19T17:33:10.017612Z",
     "start_time": "2020-03-19T17:33:10.007105Z"
    },
    "hidden": true
   },
   "outputs": [],
   "source": [
    "from sklearn.tree import DecisionTreeClassifier\n",
    "dtc=DecisionTreeClassifier(class_weight='balanced',max_depth=3)"
   ]
  },
  {
   "cell_type": "markdown",
   "metadata": {
    "ExecuteTime": {
     "end_time": "2019-10-24T18:20:29.588519Z",
     "start_time": "2019-10-24T18:20:00.025Z"
    },
    "hidden": true
   },
   "source": [
    "Now lets see how our model performed. "
   ]
  },
  {
   "cell_type": "code",
   "execution_count": null,
   "metadata": {
    "ExecuteTime": {
     "end_time": "2020-03-19T17:33:10.281264Z",
     "start_time": "2020-03-19T17:33:10.020516Z"
    },
    "hidden": true
   },
   "outputs": [],
   "source": [
    "print('Training Decision Tree, please be patient...\\n')\n",
    "dtc.fit(X_train,y_train)\n",
    "\n",
    "# Predict\n",
    "print('Testing Decision Tree, please be patient...\\n')\n",
    "y_pred=dtc.predict(X_test)\n",
    "                      \n",
    "# Output results\n",
    "print('Outputing results...')\n",
    "conf_mat = confusion_matrix(y_test, y_pred)\n",
    "print('confusion matrix')\n",
    "print(conf_mat)\n",
    "print(classification_report(y_test,y_pred))"
   ]
  },
  {
   "cell_type": "markdown",
   "metadata": {
    "hidden": true
   },
   "source": [
    "Here we can see several useful metric for our model. Our model was able to correctly predict 59% of the time with a precision of 79% and a recall of 59%. \n",
    "\n",
    "One question you may be wondering is does our model perform well enough? That depends. That depends on the type of condition or prediction we're making. That depends on whether alternative predictive models or tools exist and how our new model compares. Additional research or consideration should always be done consider whether a model's result is not only statistically significant, but **clinically significant**. "
   ]
  },
  {
   "cell_type": "markdown",
   "metadata": {
    "heading_collapsed": true,
    "hidden": true
   },
   "source": [
    "### What Is A Confusion Matrix"
   ]
  },
  {
   "cell_type": "markdown",
   "metadata": {
    "hidden": true
   },
   "source": [
    "A confusion matrix is a 2x2 table which computes 4 different combinations of predicted vs. actual values. The combinations are True Positive (TP), True Negative (TN), False Positive (FP), and False Negative (FN)\n",
    "\n",
    "<img src=\"https://miro.medium.com/max/320/1*Z54JgbS4DUwWSknhDCvNTQ.png\" align=\"center\" style=\"margin-bottom: 0.5em; margin-top: 0.5em;\">\n",
    "\n",
    "These 4 interpretations can be combined to generate many useful metrics. For our purpose there are three we will focus on. The first is accuracy:\n",
    "\n",
    "\\begin{equation*}\n",
    "\\large \\text{Accuracy} = \\frac{\\large TP + TN}{\\large TP + TN + FP + FN}\n",
    "\\end{equation*}\n",
    "\n",
    "Accuracy allows us to measure how often our model predicted correctly. The second metric is recall:\n",
    "\n",
    "\\begin{equation*}\n",
    "\\large \\text{Recall} = \\frac{\\large TP}{\\large TP + FN}\n",
    "\\end{equation*}\n",
    "\n",
    "Recall measure the ability to find the data points we are interested in. In this case, that means out of all the patients that are actually high risk, how many high risk patients were we able to detect? The final metric is precision:\n",
    "\n",
    "\\begin{equation*}\n",
    "\\large \\text{Precision} = \\frac{\\large TP}{\\large TP + FP}\n",
    "\\end{equation*}\n",
    "\n",
    "Precision asks the question, that when our prediction is positive (ie. in our case when a patient is predicted to be high risk) how often will the model correctly predict positively (ie. how often will the model then predict the patient to be at high risk). \n",
    "\n",
    "> Note: Sometime you  may see sensitivity and specificity used instead of sensitivity and specificity. While recall is equivalent to sensitivity, precision is equivalent to something known as positive predictive value. Going into the differences is beyond this single case. Just know that these measures provide more information than accuracy alone. Precision and recall are commonly used in computer science while sensitivity and specificity are more commonly used in medicine. "
   ]
  },
  {
   "cell_type": "markdown",
   "metadata": {
    "heading_collapsed": true,
    "hidden": true
   },
   "source": [
    "## Evaluating our Model"
   ]
  },
  {
   "cell_type": "markdown",
   "metadata": {
    "hidden": true
   },
   "source": [
    "We will be evaluating our model using a receiver operating curve (ROC) and the area under the curve (AUC) value. \n",
    "\n",
    "> If you're unsure what a ROC or AUC value is, please consult section 5.1.1 ('Understanding ROC Curves and AUC Values')"
   ]
  },
  {
   "cell_type": "code",
   "execution_count": null,
   "metadata": {
    "ExecuteTime": {
     "end_time": "2020-03-19T17:34:44.827678Z",
     "start_time": "2020-03-19T17:34:44.669618Z"
    },
    "hidden": true,
    "scrolled": false
   },
   "outputs": [],
   "source": [
    "# plot a ROC curve\n",
    "from sklearn.metrics import roc_curve\n",
    "from sklearn.metrics import auc\n",
    "\n",
    "# Compute fpr, tpr, thresholds and roc auc\n",
    "roc_curve(y_test, y_pred)\n",
    "fpr, tpr, thresholds = roc_curve(y_test, y_pred)\n",
    "roc_auc = auc(fpr, tpr)\n",
    "\n",
    "# Plot ROC curve\n",
    "plt.plot(fpr, tpr, label='ROC curve (area = %0.3f)' % roc_auc)\n",
    "plt.plot([0, 1], [0, 1], 'k--')  # random predictions curve\n",
    "plt.xlim([0.0, 1.0])\n",
    "plt.ylim([0.0, 1.0])\n",
    "plt.xlabel('False Positive Rate or (1 - Specifity)')\n",
    "plt.ylabel('True Positive Rate or (Sensitivity)')\n",
    "plt.title('Receiver Operating Characteristic')\n",
    "plt.legend(loc=\"lower right\")"
   ]
  },
  {
   "cell_type": "code",
   "execution_count": null,
   "metadata": {
    "ExecuteTime": {
     "end_time": "2020-03-17T01:55:34.237406Z",
     "start_time": "2020-03-17T01:55:34.232421Z"
    },
    "hidden": true
   },
   "outputs": [],
   "source": [
    "# Calculate the area under the curve (AUC)\n",
    "print('AUC:', roc_auc.round(2))"
   ]
  },
  {
   "cell_type": "markdown",
   "metadata": {
    "hidden": true
   },
   "source": [
    "The closer to the top left corner our ROC curve is the better. The higher our AUC value is the better. These metrics provide useful measures when tuning our model. They are also better overall measures than accuracy alone. We can compare different models using these two metrics. "
   ]
  },
  {
   "cell_type": "markdown",
   "metadata": {
    "heading_collapsed": true,
    "hidden": true
   },
   "source": [
    "### Understanding ROC Curves and AUC Values"
   ]
  },
  {
   "cell_type": "markdown",
   "metadata": {
    "hidden": true
   },
   "source": [
    "A ROC plots sensitivity (also known as the true positive rate) against 1-specificity (also known as the false positive rate). A model with a 50-50 chance of making a correct decision will have a ROC curve which is just a diagonal line. A model with a curve that hugs the top left corner is a perfect model. The area under a curve is a measure of the magnitude of the ROC curve. The closer the ROC curve is to the top left corner, the higher the AUC value. The higher the AUC value, the better. AUC value range from 0 -1. \n",
    "\n",
    "<img src=\"https://miro.medium.com/max/406/1*pk05QGzoWhCgRiiFbz-oKQ.png\" style=\"float: center; width: 34%; margin-bottom: 0.5em;\">"
   ]
  },
  {
   "cell_type": "markdown",
   "metadata": {
    "heading_collapsed": true,
    "hidden": true
   },
   "source": [
    "## Machine Learning Explainability"
   ]
  },
  {
   "cell_type": "markdown",
   "metadata": {
    "hidden": true
   },
   "source": [
    "An important part of any model is to explain it. We will be measuring the variable importance for our model. The higher the variable importance, the more important that variable is for predicting no show patients. This allows us to quantitatively compare which variables are more important and how much more important they are. "
   ]
  },
  {
   "cell_type": "code",
   "execution_count": null,
   "metadata": {
    "ExecuteTime": {
     "end_time": "2020-03-19T17:37:09.544714Z",
     "start_time": "2020-03-19T17:37:09.198050Z"
    },
    "hidden": true
   },
   "outputs": [],
   "source": [
    "# top 20 features\n",
    "features=X_train.columns\n",
    "importances = dtc.feature_importances_\n",
    "indices = np.argsort(importances)[-20:]\n",
    "plt.figure(figsize=(20,20))\n",
    "plt.title('Feature Importances')\n",
    "plt.barh(range(len(indices)), importances[indices], color='b', align='center')\n",
    "plt.yticks(range(len(indices)), features[indices])\n",
    "plt.xlabel('Relative Importance')\n",
    "plt.show()"
   ]
  },
  {
   "cell_type": "markdown",
   "metadata": {
    "hidden": true
   },
   "source": [
    "From our results above, we can see that time difference between scheduled and actual appointment day is by far the most important variable. This indicates that decreasing this time could yield beneficial results. Variable importance can be a good way to look for surprising results. Any surprising variables can be the subject of further investigation!"
   ]
  },
  {
   "cell_type": "markdown",
   "metadata": {
    "heading_collapsed": true
   },
   "source": [
    "# Comparing Predictive Models"
   ]
  },
  {
   "cell_type": "markdown",
   "metadata": {
    "hidden": true
   },
   "source": [
    "You've now learned everything you need to begin testing your own models! Analytics is an iterative process and requires constantly tuning and testing different models against one another. You will now build your own model and see how it performs.\n",
    "\n",
    "One of the most decisions in model building is to decide what features/variables to include on your model. This will have a huge impact on your models performance. Run the code below to see all the features in our data. "
   ]
  },
  {
   "cell_type": "code",
   "execution_count": null,
   "metadata": {
    "ExecuteTime": {
     "end_time": "2020-03-17T01:55:34.677505Z",
     "start_time": "2020-03-17T01:55:34.672765Z"
    },
    "hidden": true
   },
   "outputs": [],
   "source": [
    "list(no_show_data.columns)"
   ]
  },
  {
   "cell_type": "markdown",
   "metadata": {
    "hidden": true
   },
   "source": [
    "From the list of features above, pick the features you believe are the most predictive for predicting a no show. You can type in your features in between the brackets below. Please follow the format shown in the example below.\n",
    "\n",
    "<code>features=['delta_days','enroll_subsidy','sms_received']</code>\n",
    "\n",
    " Be careful! If there are any typo, this will not work and you will need to run the code below again with the typo corrected. "
   ]
  },
  {
   "cell_type": "code",
   "execution_count": null,
   "metadata": {
    "ExecuteTime": {
     "end_time": "2020-03-17T01:55:34.690508Z",
     "start_time": "2020-03-17T01:55:34.678473Z"
    },
    "hidden": true
   },
   "outputs": [],
   "source": [
    "features=['delta_days','age', 'enroll_subsidy','hypertension','handicap', 'diabetes', 'sms_received']"
   ]
  },
  {
   "cell_type": "markdown",
   "metadata": {
    "hidden": true
   },
   "source": [
    "Now we will see how our model performs using the features you selected. The below code will output evaluation metrics. "
   ]
  },
  {
   "cell_type": "code",
   "execution_count": null,
   "metadata": {
    "ExecuteTime": {
     "end_time": "2020-03-17T01:55:35.670051Z",
     "start_time": "2020-03-17T01:55:34.692502Z"
    },
    "hidden": true
   },
   "outputs": [],
   "source": [
    "test_model(features)"
   ]
  },
  {
   "cell_type": "markdown",
   "metadata": {
    "hidden": true
   },
   "source": [
    "Experiment with different features. As mentioned earlier, feature selection makes a huge difference in model performance. Determine which features work best and see if you can beat the model we built earlier in the case! You can rerun the <code>test_model()</code> function with new features as many times as you like. Please refer to the instructions after our variable list to see how to select new features. "
   ]
  },
  {
   "cell_type": "markdown",
   "metadata": {
    "hidden": true
   },
   "source": [
    "Congratulations! You've reached the end of the case! This case provided just one example of how analytics and healthcare can be combined to solve clinical problems. I hope your curiosity has been piqued. There much more to learn and much more you can explore in this field!"
   ]
  },
  {
   "cell_type": "code",
   "execution_count": null,
   "metadata": {
    "hidden": true
   },
   "outputs": [],
   "source": []
  }
 ],
 "metadata": {
  "kernelspec": {
   "display_name": "Python 3",
   "language": "python",
   "name": "python3"
  },
  "language_info": {
   "codemirror_mode": {
    "name": "ipython",
    "version": 3
   },
   "file_extension": ".py",
   "mimetype": "text/x-python",
   "name": "python",
   "nbconvert_exporter": "python",
   "pygments_lexer": "ipython3",
   "version": "3.7.4"
  },
  "latex_envs": {
   "LaTeX_envs_menu_present": true,
   "autoclose": false,
   "autocomplete": true,
   "bibliofile": "biblio.bib",
   "cite_by": "apalike",
   "current_citInitial": 1,
   "eqLabelWithNumbers": false,
   "eqNumInitial": 1,
   "hotkeys": {
    "equation": "Ctrl-E",
    "itemize": "Ctrl-I"
   },
   "labels_anchors": false,
   "latex_user_defs": false,
   "report_style_numbering": false,
   "user_envs_cfg": false
  },
  "toc": {
   "base_numbering": 1,
   "nav_menu": {},
   "number_sections": true,
   "sideBar": true,
   "skip_h1_title": false,
   "title_cell": "Table of Contents",
   "title_sidebar": "Contents",
   "toc_cell": false,
   "toc_position": {
    "height": "414px",
    "left": "54px",
    "top": "110.8px",
    "width": "276px"
   },
   "toc_section_display": true,
   "toc_window_display": false
  },
  "varInspector": {
   "cols": {
    "lenName": 16,
    "lenType": 16,
    "lenVar": 40
   },
   "kernels_config": {
    "python": {
     "delete_cmd_postfix": "",
     "delete_cmd_prefix": "del ",
     "library": "var_list.py",
     "varRefreshCmd": "print(var_dic_list())"
    },
    "r": {
     "delete_cmd_postfix": ") ",
     "delete_cmd_prefix": "rm(",
     "library": "var_list.r",
     "varRefreshCmd": "cat(var_dic_list()) "
    }
   },
   "types_to_exclude": [
    "module",
    "function",
    "builtin_function_or_method",
    "instance",
    "_Feature"
   ],
   "window_display": true
  }
 },
 "nbformat": 4,
 "nbformat_minor": 4
}
